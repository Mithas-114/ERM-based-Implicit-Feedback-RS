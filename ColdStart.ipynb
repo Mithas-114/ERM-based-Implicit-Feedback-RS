{
 "cells": [
  {
   "cell_type": "code",
   "execution_count": 1,
   "id": "5d159c92-bbad-49b2-8c11-644bf7c6c55a",
   "metadata": {
    "tags": []
   },
   "outputs": [],
   "source": [
    "import torch\n",
    "import pandas as pd\n",
    "import numpy as np\n",
    "from models.model import BasicMF\n",
    "from train.TrainAndEvaluate import CrossValidation, Train, computing_r_hat_using_ERM, Test, ColdStartTest\n",
    "from utils.utils import seed_everything\n",
    "from utils.data import generate_click_data, get_train_data, get_data_for_cold_start_testing, get_cold_start_users\n",
    "from sklearn.model_selection import train_test_split"
   ]
  },
  {
   "cell_type": "code",
   "execution_count": 1,
   "id": "1855dd6e-b52f-435b-b326-4f76d352f177",
   "metadata": {
    "tags": []
   },
   "outputs": [],
   "source": [
    "import matplotlib.pyplot as plt"
   ]
  },
  {
   "cell_type": "code",
   "execution_count": 2,
   "id": "6a84fbab-a3d0-49db-bc5f-f3a537b819ab",
   "metadata": {
    "collapsed": true,
    "jupyter": {
     "outputs_hidden": true
    },
    "tags": []
   },
   "outputs": [
    {
     "ename": "TypeError",
     "evalue": "float() argument must be a string or a number, not 'dict'",
     "output_type": "error",
     "traceback": [
      "\u001b[0;31m---------------------------------------------------------------------------\u001b[0m",
      "\u001b[0;31mTypeError\u001b[0m                                 Traceback (most recent call last)",
      "Cell \u001b[0;32mIn[2], line 1\u001b[0m\n\u001b[0;32m----> 1\u001b[0m \u001b[43mplt\u001b[49m\u001b[38;5;241;43m.\u001b[39;49m\u001b[43mplot\u001b[49m\u001b[43m(\u001b[49m\u001b[43m{\u001b[49m\u001b[38;5;241;43m1\u001b[39;49m\u001b[43m:\u001b[49m\u001b[38;5;241;43m2\u001b[39;49m\u001b[43m}\u001b[49m\u001b[43m)\u001b[49m\n",
      "File \u001b[0;32m~/miniconda3/lib/python3.8/site-packages/matplotlib/pyplot.py:2812\u001b[0m, in \u001b[0;36mplot\u001b[0;34m(scalex, scaley, data, *args, **kwargs)\u001b[0m\n\u001b[1;32m   2810\u001b[0m \u001b[38;5;129m@_copy_docstring_and_deprecators\u001b[39m(Axes\u001b[38;5;241m.\u001b[39mplot)\n\u001b[1;32m   2811\u001b[0m \u001b[38;5;28;01mdef\u001b[39;00m \u001b[38;5;21mplot\u001b[39m(\u001b[38;5;241m*\u001b[39margs, scalex\u001b[38;5;241m=\u001b[39m\u001b[38;5;28;01mTrue\u001b[39;00m, scaley\u001b[38;5;241m=\u001b[39m\u001b[38;5;28;01mTrue\u001b[39;00m, data\u001b[38;5;241m=\u001b[39m\u001b[38;5;28;01mNone\u001b[39;00m, \u001b[38;5;241m*\u001b[39m\u001b[38;5;241m*\u001b[39mkwargs):\n\u001b[0;32m-> 2812\u001b[0m     \u001b[38;5;28;01mreturn\u001b[39;00m \u001b[43mgca\u001b[49m\u001b[43m(\u001b[49m\u001b[43m)\u001b[49m\u001b[38;5;241;43m.\u001b[39;49m\u001b[43mplot\u001b[49m\u001b[43m(\u001b[49m\n\u001b[1;32m   2813\u001b[0m \u001b[43m        \u001b[49m\u001b[38;5;241;43m*\u001b[39;49m\u001b[43margs\u001b[49m\u001b[43m,\u001b[49m\u001b[43m \u001b[49m\u001b[43mscalex\u001b[49m\u001b[38;5;241;43m=\u001b[39;49m\u001b[43mscalex\u001b[49m\u001b[43m,\u001b[49m\u001b[43m \u001b[49m\u001b[43mscaley\u001b[49m\u001b[38;5;241;43m=\u001b[39;49m\u001b[43mscaley\u001b[49m\u001b[43m,\u001b[49m\n\u001b[1;32m   2814\u001b[0m \u001b[43m        \u001b[49m\u001b[38;5;241;43m*\u001b[39;49m\u001b[38;5;241;43m*\u001b[39;49m\u001b[43m(\u001b[49m\u001b[43m{\u001b[49m\u001b[38;5;124;43m\"\u001b[39;49m\u001b[38;5;124;43mdata\u001b[39;49m\u001b[38;5;124;43m\"\u001b[39;49m\u001b[43m:\u001b[49m\u001b[43m \u001b[49m\u001b[43mdata\u001b[49m\u001b[43m}\u001b[49m\u001b[43m \u001b[49m\u001b[38;5;28;43;01mif\u001b[39;49;00m\u001b[43m \u001b[49m\u001b[43mdata\u001b[49m\u001b[43m \u001b[49m\u001b[38;5;129;43;01mis\u001b[39;49;00m\u001b[43m \u001b[49m\u001b[38;5;129;43;01mnot\u001b[39;49;00m\u001b[43m \u001b[49m\u001b[38;5;28;43;01mNone\u001b[39;49;00m\u001b[43m \u001b[49m\u001b[38;5;28;43;01melse\u001b[39;49;00m\u001b[43m \u001b[49m\u001b[43m{\u001b[49m\u001b[43m}\u001b[49m\u001b[43m)\u001b[49m\u001b[43m,\u001b[49m\u001b[43m \u001b[49m\u001b[38;5;241;43m*\u001b[39;49m\u001b[38;5;241;43m*\u001b[39;49m\u001b[43mkwargs\u001b[49m\u001b[43m)\u001b[49m\n",
      "File \u001b[0;32m~/miniconda3/lib/python3.8/site-packages/matplotlib/axes/_axes.py:1690\u001b[0m, in \u001b[0;36mAxes.plot\u001b[0;34m(self, scalex, scaley, data, *args, **kwargs)\u001b[0m\n\u001b[1;32m   1688\u001b[0m lines \u001b[38;5;241m=\u001b[39m [\u001b[38;5;241m*\u001b[39m\u001b[38;5;28mself\u001b[39m\u001b[38;5;241m.\u001b[39m_get_lines(\u001b[38;5;241m*\u001b[39margs, data\u001b[38;5;241m=\u001b[39mdata, \u001b[38;5;241m*\u001b[39m\u001b[38;5;241m*\u001b[39mkwargs)]\n\u001b[1;32m   1689\u001b[0m \u001b[38;5;28;01mfor\u001b[39;00m line \u001b[38;5;129;01min\u001b[39;00m lines:\n\u001b[0;32m-> 1690\u001b[0m     \u001b[38;5;28;43mself\u001b[39;49m\u001b[38;5;241;43m.\u001b[39;49m\u001b[43madd_line\u001b[49m\u001b[43m(\u001b[49m\u001b[43mline\u001b[49m\u001b[43m)\u001b[49m\n\u001b[1;32m   1691\u001b[0m \u001b[38;5;28;01mif\u001b[39;00m scalex:\n\u001b[1;32m   1692\u001b[0m     \u001b[38;5;28mself\u001b[39m\u001b[38;5;241m.\u001b[39m_request_autoscale_view(\u001b[38;5;124m\"\u001b[39m\u001b[38;5;124mx\u001b[39m\u001b[38;5;124m\"\u001b[39m)\n",
      "File \u001b[0;32m~/miniconda3/lib/python3.8/site-packages/matplotlib/axes/_base.py:2304\u001b[0m, in \u001b[0;36m_AxesBase.add_line\u001b[0;34m(self, line)\u001b[0m\n\u001b[1;32m   2301\u001b[0m \u001b[38;5;28;01mif\u001b[39;00m line\u001b[38;5;241m.\u001b[39mget_clip_path() \u001b[38;5;129;01mis\u001b[39;00m \u001b[38;5;28;01mNone\u001b[39;00m:\n\u001b[1;32m   2302\u001b[0m     line\u001b[38;5;241m.\u001b[39mset_clip_path(\u001b[38;5;28mself\u001b[39m\u001b[38;5;241m.\u001b[39mpatch)\n\u001b[0;32m-> 2304\u001b[0m \u001b[38;5;28;43mself\u001b[39;49m\u001b[38;5;241;43m.\u001b[39;49m\u001b[43m_update_line_limits\u001b[49m\u001b[43m(\u001b[49m\u001b[43mline\u001b[49m\u001b[43m)\u001b[49m\n\u001b[1;32m   2305\u001b[0m \u001b[38;5;28;01mif\u001b[39;00m \u001b[38;5;129;01mnot\u001b[39;00m line\u001b[38;5;241m.\u001b[39mget_label():\n\u001b[1;32m   2306\u001b[0m     line\u001b[38;5;241m.\u001b[39mset_label(\u001b[38;5;124mf\u001b[39m\u001b[38;5;124m'\u001b[39m\u001b[38;5;124m_child\u001b[39m\u001b[38;5;132;01m{\u001b[39;00m\u001b[38;5;28mlen\u001b[39m(\u001b[38;5;28mself\u001b[39m\u001b[38;5;241m.\u001b[39m_children)\u001b[38;5;132;01m}\u001b[39;00m\u001b[38;5;124m'\u001b[39m)\n",
      "File \u001b[0;32m~/miniconda3/lib/python3.8/site-packages/matplotlib/axes/_base.py:2327\u001b[0m, in \u001b[0;36m_AxesBase._update_line_limits\u001b[0;34m(self, line)\u001b[0m\n\u001b[1;32m   2323\u001b[0m \u001b[38;5;28;01mdef\u001b[39;00m \u001b[38;5;21m_update_line_limits\u001b[39m(\u001b[38;5;28mself\u001b[39m, line):\n\u001b[1;32m   2324\u001b[0m \u001b[38;5;250m    \u001b[39m\u001b[38;5;124;03m\"\"\"\u001b[39;00m\n\u001b[1;32m   2325\u001b[0m \u001b[38;5;124;03m    Figures out the data limit of the given line, updating self.dataLim.\u001b[39;00m\n\u001b[1;32m   2326\u001b[0m \u001b[38;5;124;03m    \"\"\"\u001b[39;00m\n\u001b[0;32m-> 2327\u001b[0m     path \u001b[38;5;241m=\u001b[39m \u001b[43mline\u001b[49m\u001b[38;5;241;43m.\u001b[39;49m\u001b[43mget_path\u001b[49m\u001b[43m(\u001b[49m\u001b[43m)\u001b[49m\n\u001b[1;32m   2328\u001b[0m     \u001b[38;5;28;01mif\u001b[39;00m path\u001b[38;5;241m.\u001b[39mvertices\u001b[38;5;241m.\u001b[39msize \u001b[38;5;241m==\u001b[39m \u001b[38;5;241m0\u001b[39m:\n\u001b[1;32m   2329\u001b[0m         \u001b[38;5;28;01mreturn\u001b[39;00m\n",
      "File \u001b[0;32m~/miniconda3/lib/python3.8/site-packages/matplotlib/lines.py:1029\u001b[0m, in \u001b[0;36mLine2D.get_path\u001b[0;34m(self)\u001b[0m\n\u001b[1;32m   1027\u001b[0m \u001b[38;5;250m\u001b[39m\u001b[38;5;124;03m\"\"\"Return the `~matplotlib.path.Path` associated with this line.\"\"\"\u001b[39;00m\n\u001b[1;32m   1028\u001b[0m \u001b[38;5;28;01mif\u001b[39;00m \u001b[38;5;28mself\u001b[39m\u001b[38;5;241m.\u001b[39m_invalidy \u001b[38;5;129;01mor\u001b[39;00m \u001b[38;5;28mself\u001b[39m\u001b[38;5;241m.\u001b[39m_invalidx:\n\u001b[0;32m-> 1029\u001b[0m     \u001b[38;5;28;43mself\u001b[39;49m\u001b[38;5;241;43m.\u001b[39;49m\u001b[43mrecache\u001b[49m\u001b[43m(\u001b[49m\u001b[43m)\u001b[49m\n\u001b[1;32m   1030\u001b[0m \u001b[38;5;28;01mreturn\u001b[39;00m \u001b[38;5;28mself\u001b[39m\u001b[38;5;241m.\u001b[39m_path\n",
      "File \u001b[0;32m~/miniconda3/lib/python3.8/site-packages/matplotlib/lines.py:662\u001b[0m, in \u001b[0;36mLine2D.recache\u001b[0;34m(self, always)\u001b[0m\n\u001b[1;32m    660\u001b[0m \u001b[38;5;28;01mif\u001b[39;00m always \u001b[38;5;129;01mor\u001b[39;00m \u001b[38;5;28mself\u001b[39m\u001b[38;5;241m.\u001b[39m_invalidy:\n\u001b[1;32m    661\u001b[0m     yconv \u001b[38;5;241m=\u001b[39m \u001b[38;5;28mself\u001b[39m\u001b[38;5;241m.\u001b[39mconvert_yunits(\u001b[38;5;28mself\u001b[39m\u001b[38;5;241m.\u001b[39m_yorig)\n\u001b[0;32m--> 662\u001b[0m     y \u001b[38;5;241m=\u001b[39m \u001b[43m_to_unmasked_float_array\u001b[49m\u001b[43m(\u001b[49m\u001b[43myconv\u001b[49m\u001b[43m)\u001b[49m\u001b[38;5;241m.\u001b[39mravel()\n\u001b[1;32m    663\u001b[0m \u001b[38;5;28;01melse\u001b[39;00m:\n\u001b[1;32m    664\u001b[0m     y \u001b[38;5;241m=\u001b[39m \u001b[38;5;28mself\u001b[39m\u001b[38;5;241m.\u001b[39m_y\n",
      "File \u001b[0;32m~/miniconda3/lib/python3.8/site-packages/matplotlib/cbook/__init__.py:1335\u001b[0m, in \u001b[0;36m_to_unmasked_float_array\u001b[0;34m(x)\u001b[0m\n\u001b[1;32m   1333\u001b[0m     \u001b[38;5;28;01mreturn\u001b[39;00m np\u001b[38;5;241m.\u001b[39mma\u001b[38;5;241m.\u001b[39masarray(x, \u001b[38;5;28mfloat\u001b[39m)\u001b[38;5;241m.\u001b[39mfilled(np\u001b[38;5;241m.\u001b[39mnan)\n\u001b[1;32m   1334\u001b[0m \u001b[38;5;28;01melse\u001b[39;00m:\n\u001b[0;32m-> 1335\u001b[0m     \u001b[38;5;28;01mreturn\u001b[39;00m \u001b[43mnp\u001b[49m\u001b[38;5;241;43m.\u001b[39;49m\u001b[43masarray\u001b[49m\u001b[43m(\u001b[49m\u001b[43mx\u001b[49m\u001b[43m,\u001b[49m\u001b[43m \u001b[49m\u001b[38;5;28;43mfloat\u001b[39;49m\u001b[43m)\u001b[49m\n",
      "\u001b[0;31mTypeError\u001b[0m: float() argument must be a string or a number, not 'dict'"
     ]
    },
    {
     "data": {
      "image/png": "[encoded data removed]",
      "text/plain": [
       "<Figure size 640x480 with 1 Axes>"
      ]
     },
     "metadata": {},
     "output_type": "display_data"
    }
   ],
   "source": [
    "plt.plot({1:2}.items)"
   ]
  },
  {
   "cell_type": "code",
   "execution_count": 2,
   "id": "43e9b1a2-06b5-46ce-9cac-5f292b9fde1d",
   "metadata": {
    "tags": []
   },
   "outputs": [
    {
     "data": {
      "text/plain": [
       "tensor([[0.0000e+00, 0.0000e+00, 7.5689e-01, 5.3379e-01],\n",
       "        [0.0000e+00, 1.0000e+00, 3.6157e-01, 5.6538e-01],\n",
       "        [0.0000e+00, 2.0000e+00, 7.5689e-01, 3.5982e-01],\n",
       "        ...,\n",
       "        [9.4200e+02, 1.6790e+03, 5.9671e-02, 1.2541e-02],\n",
       "        [9.4200e+02, 1.6800e+03, 1.1591e-01, 2.7859e-02],\n",
       "        [9.4200e+02, 1.6810e+03, 1.9183e-01, 1.9211e-02]], dtype=torch.float64)"
      ]
     },
     "execution_count": 2,
     "metadata": {},
     "output_type": "execute_result"
    }
   ],
   "source": [
    "seed_everything(42)\n",
    "num_users = 943\n",
    "num_items = 1682\n",
    "data = torch.tensor(pd.read_csv(\"data/semi-data\").iloc[:, 1:].values)\n",
    "data"
   ]
  },
  {
   "cell_type": "markdown",
   "id": "1831ff55-3b9e-4224-9723-725fd34cb291",
   "metadata": {},
   "source": [
    "## p = 0.5 "
   ]
  },
  {
   "cell_type": "code",
   "execution_count": 5,
   "id": "da6dd4ed-64bc-49ec-9273-2488644e7111",
   "metadata": {
    "tags": []
   },
   "outputs": [],
   "source": [
    "seed_everything(42)\n",
    "power = 0\n",
    "click_data, _, _ = generate_click_data(data, num_users, num_items, power=power)\n",
    "neg_data = click_data[click_data[:, 6]==0, :]\n",
    "pos_data = click_data[click_data[:, 6]==1, :]\n",
    "train, test = train_test_split(neg_data, test_size=0.1, random_state=0)\n",
    "train = torch.vstack([pos_data, train]) # 使用未被点击的一部分作为测试集"
   ]
  },
  {
   "cell_type": "markdown",
   "id": "7a54b18d-7994-47be-949f-70eb76eefc81",
   "metadata": {},
   "source": [
    "### 0"
   ]
  },
  {
   "cell_type": "code",
   "execution_count": 6,
   "id": "368dfd7e-3b69-4939-8a87-7ee010224d20",
   "metadata": {
    "tags": []
   },
   "outputs": [
    {
     "name": "stdout",
     "output_type": "stream",
     "text": [
      "------ repeat : 1 ------\n",
      "------ epoch:1 ------\n"
     ]
    },
    {
     "name": "stderr",
     "output_type": "stream",
     "text": [
      "100%|██████████| 280/280 [00:03<00:00, 74.14it/s]\n",
      "100%|██████████| 70/70 [00:00<00:00, 121.39it/s]\n",
      "100%|██████████| 943/943 [00:00<00:00, 2411.47it/s]\n"
     ]
    },
    {
     "name": "stdout",
     "output_type": "stream",
     "text": [
      "Epoch 1: train loss :   0.631420   val loss :   0.484171   val score :   0.306469\n",
      "------ epoch:2 ------\n"
     ]
    },
    {
     "name": "stderr",
     "output_type": "stream",
     "text": [
      "100%|██████████| 280/280 [00:03<00:00, 80.86it/s]\n",
      "100%|██████████| 70/70 [00:00<00:00, 125.78it/s]\n",
      "100%|██████████| 943/943 [00:00<00:00, 2390.67it/s]\n"
     ]
    },
    {
     "name": "stdout",
     "output_type": "stream",
     "text": [
      "Epoch 2: train loss :   0.505165   val loss :   0.480352   val score :   0.313892\n",
      "------ epoch:3 ------\n"
     ]
    },
    {
     "name": "stderr",
     "output_type": "stream",
     "text": [
      "100%|██████████| 280/280 [00:03<00:00, 84.16it/s]\n",
      "100%|██████████| 70/70 [00:00<00:00, 125.59it/s]\n",
      "100%|██████████| 943/943 [00:00<00:00, 2466.64it/s]\n"
     ]
    },
    {
     "name": "stdout",
     "output_type": "stream",
     "text": [
      "Epoch 3: train loss :   0.502012   val loss :   0.480149   val score :   0.317073\n",
      "------ epoch:4 ------\n"
     ]
    },
    {
     "name": "stderr",
     "output_type": "stream",
     "text": [
      "100%|██████████| 280/280 [00:03<00:00, 86.72it/s]\n",
      "100%|██████████| 70/70 [00:00<00:00, 135.40it/s]\n",
      "100%|██████████| 943/943 [00:00<00:00, 2383.72it/s]\n"
     ]
    },
    {
     "name": "stdout",
     "output_type": "stream",
     "text": [
      "Epoch 4: train loss :   0.499441   val loss :   0.479913   val score :   0.314952\n",
      "------ epoch:5 ------\n"
     ]
    },
    {
     "name": "stderr",
     "output_type": "stream",
     "text": [
      "100%|██████████| 280/280 [00:03<00:00, 87.76it/s] \n",
      "100%|██████████| 70/70 [00:00<00:00, 126.50it/s]\n",
      "100%|██████████| 943/943 [00:00<00:00, 2482.45it/s]\n"
     ]
    },
    {
     "name": "stdout",
     "output_type": "stream",
     "text": [
      "Epoch 5: train loss :   0.497655   val loss :   0.479612   val score :   0.313892\n",
      "------ epoch:6 ------\n"
     ]
    },
    {
     "name": "stderr",
     "output_type": "stream",
     "text": [
      "100%|██████████| 280/280 [00:03<00:00, 74.65it/s]\n",
      "100%|██████████| 70/70 [00:00<00:00, 160.00it/s]\n",
      "100%|██████████| 943/943 [00:00<00:00, 2394.49it/s]\n"
     ]
    },
    {
     "name": "stdout",
     "output_type": "stream",
     "text": [
      "Epoch 6: train loss :   0.495244   val loss :   0.479157   val score :   0.318134\n",
      "------ epoch:7 ------\n"
     ]
    },
    {
     "name": "stderr",
     "output_type": "stream",
     "text": [
      "100%|██████████| 280/280 [00:03<00:00, 82.53it/s]\n",
      "100%|██████████| 70/70 [00:00<00:00, 153.43it/s]\n",
      "100%|██████████| 943/943 [00:00<00:00, 2478.67it/s]\n"
     ]
    },
    {
     "name": "stdout",
     "output_type": "stream",
     "text": [
      "Epoch 7: train loss :   0.493987   val loss :   0.479060   val score :   0.314952\n",
      "------ epoch:8 ------\n"
     ]
    },
    {
     "name": "stderr",
     "output_type": "stream",
     "text": [
      "100%|██████████| 280/280 [00:03<00:00, 83.44it/s]\n",
      "100%|██████████| 70/70 [00:00<00:00, 131.40it/s]\n",
      "100%|██████████| 943/943 [00:00<00:00, 2457.30it/s]\n"
     ]
    },
    {
     "name": "stdout",
     "output_type": "stream",
     "text": [
      "Epoch 8: train loss :   0.492173   val loss :   0.478908   val score :   0.316013\n",
      "------ epoch:9 ------\n"
     ]
    },
    {
     "name": "stderr",
     "output_type": "stream",
     "text": [
      "100%|██████████| 280/280 [00:03<00:00, 76.95it/s]\n",
      "100%|██████████| 70/70 [00:00<00:00, 134.52it/s]\n",
      "100%|██████████| 943/943 [00:00<00:00, 2386.63it/s]\n"
     ]
    },
    {
     "name": "stdout",
     "output_type": "stream",
     "text": [
      "Epoch 9: train loss :   0.490614   val loss :   0.478731   val score :   0.319194\n",
      "------ epoch:10 ------\n"
     ]
    },
    {
     "name": "stderr",
     "output_type": "stream",
     "text": [
      "100%|██████████| 280/280 [00:03<00:00, 88.63it/s] \n",
      "100%|██████████| 70/70 [00:00<00:00, 133.59it/s]\n",
      "100%|██████████| 943/943 [00:00<00:00, 2525.23it/s]\n"
     ]
    },
    {
     "name": "stdout",
     "output_type": "stream",
     "text": [
      "Epoch 10: train loss :   0.489012   val loss :   0.478619   val score :   0.306469\n",
      "------ epoch:11 ------\n"
     ]
    },
    {
     "name": "stderr",
     "output_type": "stream",
     "text": [
      "100%|██████████| 280/280 [00:03<00:00, 77.78it/s]\n",
      "100%|██████████| 70/70 [00:00<00:00, 133.59it/s]\n",
      "100%|██████████| 943/943 [00:00<00:00, 2507.19it/s]\n"
     ]
    },
    {
     "name": "stdout",
     "output_type": "stream",
     "text": [
      "Epoch 11: train loss :   0.487708   val loss :   0.478613   val score :   0.306469\n",
      "------ epoch:12 ------\n"
     ]
    },
    {
     "name": "stderr",
     "output_type": "stream",
     "text": [
      "100%|██████████| 280/280 [00:03<00:00, 74.20it/s]\n",
      "100%|██████████| 70/70 [00:00<00:00, 122.94it/s]\n",
      "100%|██████████| 943/943 [00:00<00:00, 2524.14it/s]\n"
     ]
    },
    {
     "name": "stdout",
     "output_type": "stream",
     "text": [
      "Epoch 12: train loss :   0.487263   val loss :   0.478766   val score :   0.302227\n",
      "Epoch 00012: reducing learning rate of group 0 to 5.0000e-04.\n",
      "------ epoch:13 ------\n"
     ]
    },
    {
     "name": "stderr",
     "output_type": "stream",
     "text": [
      "100%|██████████| 280/280 [00:03<00:00, 88.02it/s] \n",
      "100%|██████████| 70/70 [00:00<00:00, 128.74it/s]\n",
      "100%|██████████| 943/943 [00:00<00:00, 2560.37it/s]\n"
     ]
    },
    {
     "name": "stdout",
     "output_type": "stream",
     "text": [
      "Epoch 13: train loss :   0.482805   val loss :   0.478633   val score :   0.303287\n"
     ]
    },
    {
     "name": "stderr",
     "output_type": "stream",
     "text": [
      "100%|██████████| 20/20 [00:00<00:00, 162.47it/s]\n",
      "  0%|          | 0/481 [00:00<?, ?it/s]\n"
     ]
    },
    {
     "ename": "TypeError",
     "evalue": "can't convert cuda:0 device type tensor to numpy. Use Tensor.cpu() to copy the tensor to host memory first.",
     "output_type": "error",
     "traceback": [
      "\u001b[0;31m---------------------------------------------------------------------------\u001b[0m",
      "\u001b[0;31mTypeError\u001b[0m                                 Traceback (most recent call last)",
      "Cell \u001b[0;32mIn[6], line 6\u001b[0m\n\u001b[1;32m      4\u001b[0m model_type \u001b[38;5;241m=\u001b[39m \u001b[38;5;241m0\u001b[39m\n\u001b[1;32m      5\u001b[0m seed_everything(\u001b[38;5;241m42\u001b[39m)\n\u001b[0;32m----> 6\u001b[0m \u001b[43mColdStartTest\u001b[49m\u001b[43m(\u001b[49m\u001b[43mtrain\u001b[49m\u001b[43m,\u001b[49m\u001b[43m \u001b[49m\u001b[43mtest\u001b[49m\u001b[43m,\u001b[49m\u001b[43m \u001b[49m\u001b[43mpower\u001b[49m\u001b[38;5;241;43m=\u001b[39;49m\u001b[43mpower\u001b[49m\u001b[43m,\u001b[49m\u001b[43m \u001b[49m\u001b[43mmodel_type\u001b[49m\u001b[38;5;241;43m=\u001b[39;49m\u001b[43mmodel_type\u001b[49m\u001b[43m,\u001b[49m\u001b[43m \u001b[49m\u001b[43mnum_users\u001b[49m\u001b[38;5;241;43m=\u001b[39;49m\u001b[43mnum_users\u001b[49m\u001b[43m,\u001b[49m\u001b[43m \u001b[49m\u001b[43mnum_items\u001b[49m\u001b[38;5;241;43m=\u001b[39;49m\u001b[43mnum_items\u001b[49m\u001b[43m,\u001b[49m\u001b[43m \u001b[49m\u001b[43mrepeats\u001b[49m\u001b[38;5;241;43m=\u001b[39;49m\u001b[38;5;241;43m5\u001b[39;49m\u001b[43m,\u001b[49m\u001b[43m \u001b[49m\n\u001b[1;32m      7\u001b[0m \u001b[43m     \u001b[49m\u001b[43membedding_dim\u001b[49m\u001b[38;5;241;43m=\u001b[39;49m\u001b[43membedding_dim\u001b[49m\u001b[43m,\u001b[49m\u001b[43m \u001b[49m\u001b[43mlr\u001b[49m\u001b[38;5;241;43m=\u001b[39;49m\u001b[43mlr\u001b[49m\u001b[43m,\u001b[49m\u001b[43m \u001b[49m\u001b[43malpha\u001b[49m\u001b[38;5;241;43m=\u001b[39;49m\u001b[43malpha\u001b[49m\u001b[43m,\u001b[49m\u001b[43m \u001b[49m\u001b[43mpatience\u001b[49m\u001b[38;5;241;43m=\u001b[39;49m\u001b[38;5;241;43m3\u001b[39;49m\u001b[43m,\u001b[49m\u001b[43m \u001b[49m\u001b[43mepochs\u001b[49m\u001b[38;5;241;43m=\u001b[39;49m\u001b[38;5;241;43m30\u001b[39;49m\u001b[43m,\u001b[49m\u001b[43m \u001b[49m\u001b[43mdevice\u001b[49m\u001b[38;5;241;43m=\u001b[39;49m\u001b[38;5;124;43m\"\u001b[39;49m\u001b[38;5;124;43mcuda:0\u001b[39;49m\u001b[38;5;124;43m\"\u001b[39;49m\u001b[43m,\u001b[49m\u001b[43m \u001b[49m\u001b[43mmodel_selection\u001b[49m\u001b[38;5;241;43m=\u001b[39;49m\u001b[38;5;28;43;01mFalse\u001b[39;49;00m\u001b[43m)\u001b[49m\n",
      "File \u001b[0;32m~/train/TrainAndEvaluate.py:459\u001b[0m, in \u001b[0;36mColdStartTest\u001b[0;34m(train, test, power, model_type, repeats, **kwargs)\u001b[0m\n\u001b[1;32m    455\u001b[0m model \u001b[38;5;241m=\u001b[39m BasicMF(num_users\u001b[38;5;241m=\u001b[39mkwargs[\u001b[38;5;124m\"\u001b[39m\u001b[38;5;124mnum_users\u001b[39m\u001b[38;5;124m\"\u001b[39m], \n\u001b[1;32m    456\u001b[0m                 num_items\u001b[38;5;241m=\u001b[39mkwargs[\u001b[38;5;124m\"\u001b[39m\u001b[38;5;124mnum_items\u001b[39m\u001b[38;5;124m\"\u001b[39m], \n\u001b[1;32m    457\u001b[0m                 embedding_dim\u001b[38;5;241m=\u001b[39mkwargs[\u001b[38;5;124m\"\u001b[39m\u001b[38;5;124membedding_dim\u001b[39m\u001b[38;5;124m\"\u001b[39m])\u001b[38;5;241m.\u001b[39mto(kwargs[\u001b[38;5;124m\"\u001b[39m\u001b[38;5;124mdevice\u001b[39m\u001b[38;5;124m\"\u001b[39m])\n\u001b[1;32m    458\u001b[0m test_log_loss_i \u001b[38;5;241m=\u001b[39m Train(train_i, val_i, test\u001b[38;5;241m=\u001b[39mtest, model\u001b[38;5;241m=\u001b[39mmodel, \u001b[38;5;241m*\u001b[39m\u001b[38;5;241m*\u001b[39mkwargs)\n\u001b[0;32m--> 459\u001b[0m test_score_i \u001b[38;5;241m=\u001b[39m \u001b[43mEvaluate\u001b[49m\u001b[43m(\u001b[49m\u001b[43mdata_for_scoring_i\u001b[49m\u001b[43m,\u001b[49m\u001b[43m \u001b[49m\u001b[43mmodel\u001b[49m\u001b[43m,\u001b[49m\u001b[43m \u001b[49m\u001b[43mmetrics\u001b[49m\u001b[38;5;241;43m=\u001b[39;49m\u001b[43m{\u001b[49m\u001b[38;5;124;43m\"\u001b[39;49m\u001b[38;5;124;43mNDCG\u001b[39;49m\u001b[38;5;124;43m\"\u001b[39;49m\u001b[43m:\u001b[49m\u001b[43mcal_NDCG\u001b[49m\u001b[43m,\u001b[49m\u001b[43m \u001b[49m\u001b[38;5;124;43m\"\u001b[39;49m\u001b[38;5;124;43mMAP\u001b[39;49m\u001b[38;5;124;43m\"\u001b[39;49m\u001b[43m:\u001b[49m\u001b[43mcal_AP\u001b[49m\u001b[43m,\u001b[49m\u001b[43m \u001b[49m\u001b[38;5;124;43m\"\u001b[39;49m\u001b[38;5;124;43mRECALL\u001b[39;49m\u001b[38;5;124;43m\"\u001b[39;49m\u001b[43m:\u001b[49m\u001b[43mcal_RECALL\u001b[49m\u001b[43m}\u001b[49m\u001b[43m,\u001b[49m\u001b[43m \u001b[49m\u001b[43mk_list\u001b[49m\u001b[38;5;241;43m=\u001b[39;49m\u001b[43m[\u001b[49m\u001b[38;5;241;43m1\u001b[39;49m\u001b[43m,\u001b[49m\u001b[43m \u001b[49m\u001b[38;5;241;43m3\u001b[39;49m\u001b[43m,\u001b[49m\u001b[43m \u001b[49m\u001b[38;5;241;43m5\u001b[39;49m\u001b[43m,\u001b[49m\u001b[43m \u001b[49m\u001b[38;5;241;43m8\u001b[39;49m\u001b[43m,\u001b[49m\u001b[43m \u001b[49m\u001b[38;5;241;43m10\u001b[39;49m\u001b[43m]\u001b[49m\u001b[43m,\u001b[49m\u001b[43m \u001b[49m\u001b[38;5;241;43m*\u001b[39;49m\u001b[38;5;241;43m*\u001b[39;49m\u001b[43mkwargs\u001b[49m\u001b[43m)\u001b[49m\u001b[38;5;241m.\u001b[39mvalues\n\u001b[1;32m    460\u001b[0m test_score\u001b[38;5;241m.\u001b[39mappend(test_score_i)\n\u001b[1;32m    461\u001b[0m test_log_loss\u001b[38;5;241m.\u001b[39mappend(test_log_loss_i)\n",
      "File \u001b[0;32m~/train/TrainAndEvaluate.py:120\u001b[0m, in \u001b[0;36mEvaluate\u001b[0;34m(test_data, model, k_list, metrics, **kwargs)\u001b[0m\n\u001b[1;32m    118\u001b[0m     \u001b[38;5;28;01mfor\u001b[39;00m k \u001b[38;5;129;01min\u001b[39;00m k_list :\n\u001b[1;32m    119\u001b[0m         \u001b[38;5;28;01mfor\u001b[39;00m metric, metric_func \u001b[38;5;129;01min\u001b[39;00m metrics\u001b[38;5;241m.\u001b[39mitems():\n\u001b[0;32m--> 120\u001b[0m             results[\u001b[38;5;124mf\u001b[39m\u001b[38;5;124m\"\u001b[39m\u001b[38;5;132;01m{\u001b[39;00mmetric\u001b[38;5;132;01m}\u001b[39;00m\u001b[38;5;124m@\u001b[39m\u001b[38;5;132;01m{\u001b[39;00mk\u001b[38;5;132;01m}\u001b[39;00m\u001b[38;5;124m\"\u001b[39m]\u001b[38;5;241m.\u001b[39mappend(\u001b[43mmetric_func\u001b[49m\u001b[43m(\u001b[49m\u001b[43mtrue_scores\u001b[49m\u001b[43m,\u001b[49m\u001b[43m \u001b[49m\u001b[43mscores\u001b[49m\u001b[43m,\u001b[49m\u001b[43m \u001b[49m\u001b[43mk\u001b[49m\u001b[43m)\u001b[49m\u001b[38;5;241m.\u001b[39mdetach()\u001b[38;5;241m.\u001b[39mcpu()\u001b[38;5;241m.\u001b[39mnumpy())\n\u001b[1;32m    122\u001b[0m results \u001b[38;5;241m=\u001b[39m {key:np\u001b[38;5;241m.\u001b[39mmean(np\u001b[38;5;241m.\u001b[39marray(value_list)) \u001b[38;5;28;01mfor\u001b[39;00m key, value_list \u001b[38;5;129;01min\u001b[39;00m results\u001b[38;5;241m.\u001b[39mitems()}\n\u001b[1;32m    123\u001b[0m results_df \u001b[38;5;241m=\u001b[39m pd\u001b[38;5;241m.\u001b[39mDataFrame(np\u001b[38;5;241m.\u001b[39mzeros([\u001b[38;5;28mlen\u001b[39m(metrics), \u001b[38;5;28mlen\u001b[39m(k_list)]))\u001b[38;5;241m.\u001b[39mrename(index\u001b[38;5;241m=\u001b[39m{i:\u001b[38;5;28mlist\u001b[39m(metrics\u001b[38;5;241m.\u001b[39mkeys())[i] \u001b[38;5;28;01mfor\u001b[39;00m i \u001b[38;5;129;01min\u001b[39;00m \u001b[38;5;28mrange\u001b[39m(\u001b[38;5;28mlen\u001b[39m(metrics))},\n\u001b[1;32m    124\u001b[0m                                                                        columns\u001b[38;5;241m=\u001b[39m{i:k_list[i] \u001b[38;5;28;01mfor\u001b[39;00m i \u001b[38;5;129;01min\u001b[39;00m \u001b[38;5;28mrange\u001b[39m(\u001b[38;5;28mlen\u001b[39m(k_list))})\n",
      "File \u001b[0;32m~/utils/metrics.py:45\u001b[0m, in \u001b[0;36mcal_NDCG\u001b[0;34m(true_score, pred_score, k, IPS)\u001b[0m\n\u001b[1;32m     43\u001b[0m ndcg_score \u001b[38;5;241m=\u001b[39m torch\u001b[38;5;241m.\u001b[39mtensor(\u001b[38;5;241m0\u001b[39m)\n\u001b[1;32m     44\u001b[0m \u001b[38;5;28;01mif\u001b[39;00m \u001b[38;5;129;01mnot\u001b[39;00m torch\u001b[38;5;241m.\u001b[39msum(rel) \u001b[38;5;241m==\u001b[39m \u001b[38;5;241m0\u001b[39m:\n\u001b[0;32m---> 45\u001b[0m     dcg_score \u001b[38;5;241m=\u001b[39m torch\u001b[38;5;241m.\u001b[39msum(\u001b[43mrel\u001b[49m\u001b[43m[\u001b[49m\u001b[43m:\u001b[49m\u001b[43mk\u001b[49m\u001b[43m]\u001b[49m\u001b[38;5;241;43m/\u001b[39;49m\u001b[43mnp\u001b[49m\u001b[38;5;241;43m.\u001b[39;49m\u001b[43mlog2\u001b[49m\u001b[43m(\u001b[49m\u001b[43mnp\u001b[49m\u001b[38;5;241;43m.\u001b[39;49m\u001b[43marange\u001b[49m\u001b[43m(\u001b[49m\u001b[38;5;241;43m1\u001b[39;49m\u001b[43m,\u001b[49m\u001b[43mk\u001b[49m\u001b[38;5;241;43m+\u001b[39;49m\u001b[38;5;241;43m1\u001b[39;49m\u001b[43m)\u001b[49m\u001b[38;5;241;43m+\u001b[39;49m\u001b[38;5;241;43m1\u001b[39;49m\u001b[43m)\u001b[49m)\n\u001b[1;32m     46\u001b[0m     idcg_score \u001b[38;5;241m=\u001b[39m torch\u001b[38;5;241m.\u001b[39msum(true_rel[:k]\u001b[38;5;241m/\u001b[39mnp\u001b[38;5;241m.\u001b[39mlog2(np\u001b[38;5;241m.\u001b[39marange(\u001b[38;5;241m1\u001b[39m,k\u001b[38;5;241m+\u001b[39m\u001b[38;5;241m1\u001b[39m)\u001b[38;5;241m+\u001b[39m\u001b[38;5;241m1\u001b[39m))\n\u001b[1;32m     47\u001b[0m     ndcg_score \u001b[38;5;241m=\u001b[39m dcg_score\u001b[38;5;241m/\u001b[39midcg_score\n",
      "File \u001b[0;32m~/miniconda3/lib/python3.8/site-packages/torch/_tensor.py:970\u001b[0m, in \u001b[0;36mTensor.__array__\u001b[0;34m(self, dtype)\u001b[0m\n\u001b[1;32m    968\u001b[0m     \u001b[38;5;28;01mreturn\u001b[39;00m handle_torch_function(Tensor\u001b[38;5;241m.\u001b[39m__array__, (\u001b[38;5;28mself\u001b[39m,), \u001b[38;5;28mself\u001b[39m, dtype\u001b[38;5;241m=\u001b[39mdtype)\n\u001b[1;32m    969\u001b[0m \u001b[38;5;28;01mif\u001b[39;00m dtype \u001b[38;5;129;01mis\u001b[39;00m \u001b[38;5;28;01mNone\u001b[39;00m:\n\u001b[0;32m--> 970\u001b[0m     \u001b[38;5;28;01mreturn\u001b[39;00m \u001b[38;5;28;43mself\u001b[39;49m\u001b[38;5;241;43m.\u001b[39;49m\u001b[43mnumpy\u001b[49m\u001b[43m(\u001b[49m\u001b[43m)\u001b[49m\n\u001b[1;32m    971\u001b[0m \u001b[38;5;28;01melse\u001b[39;00m:\n\u001b[1;32m    972\u001b[0m     \u001b[38;5;28;01mreturn\u001b[39;00m \u001b[38;5;28mself\u001b[39m\u001b[38;5;241m.\u001b[39mnumpy()\u001b[38;5;241m.\u001b[39mastype(dtype, copy\u001b[38;5;241m=\u001b[39m\u001b[38;5;28;01mFalse\u001b[39;00m)\n",
      "\u001b[0;31mTypeError\u001b[0m: can't convert cuda:0 device type tensor to numpy. Use Tensor.cpu() to copy the tensor to host memory first."
     ]
    }
   ],
   "source": [
    "embedding_dim = 10\n",
    "lr = 5e-3\n",
    "alpha = 5e-3\n",
    "model_type = 0\n",
    "seed_everything(42)\n",
    "ColdStartTest(train, test, power=power, model_type=model_type, num_users=num_users, num_items=num_items, repeats=5, \n",
    "     embedding_dim=embedding_dim, lr=lr, alpha=alpha, patience=3, epochs=30, device=\"cuda:0\", model_selection=False)"
   ]
  },
  {
   "cell_type": "markdown",
   "id": "c080e290-b336-4106-9241-74e134e06574",
   "metadata": {},
   "source": [
    "### 1"
   ]
  },
  {
   "cell_type": "code",
   "execution_count": 14,
   "id": "56a41c47-a251-4dbc-828c-53cdeaf8521d",
   "metadata": {
    "collapsed": true,
    "jupyter": {
     "outputs_hidden": true
    },
    "tags": []
   },
   "outputs": [
    {
     "name": "stdout",
     "output_type": "stream",
     "text": [
      "------ repeat : 1 ------\n",
      "------ epoch:1 ------\n"
     ]
    },
    {
     "name": "stderr",
     "output_type": "stream",
     "text": [
      "100%|██████████| 281/281 [00:04<00:00, 69.77it/s]\n",
      "100%|██████████| 71/71 [00:00<00:00, 102.65it/s]\n",
      "100%|██████████| 943/943 [00:00<00:00, 1107.83it/s]\n"
     ]
    },
    {
     "name": "stdout",
     "output_type": "stream",
     "text": [
      "Epoch 1: train loss :   0.208392   val loss :   0.169258   val score :   0.250265\n",
      "------ epoch:2 ------\n"
     ]
    },
    {
     "name": "stderr",
     "output_type": "stream",
     "text": [
      "100%|██████████| 281/281 [00:04<00:00, 67.53it/s]\n",
      "100%|██████████| 71/71 [00:00<00:00, 92.90it/s] \n",
      "100%|██████████| 943/943 [00:00<00:00, 2037.43it/s]\n"
     ]
    },
    {
     "name": "stdout",
     "output_type": "stream",
     "text": [
      "Epoch 2: train loss :   0.181390   val loss :   0.169129   val score :   0.238600\n",
      "------ epoch:3 ------\n"
     ]
    },
    {
     "name": "stderr",
     "output_type": "stream",
     "text": [
      "100%|██████████| 281/281 [00:04<00:00, 68.67it/s]\n",
      "100%|██████████| 71/71 [00:00<00:00, 92.33it/s] \n",
      "100%|██████████| 943/943 [00:00<00:00, 1979.76it/s]\n"
     ]
    },
    {
     "name": "stdout",
     "output_type": "stream",
     "text": [
      "Epoch 3: train loss :   0.181248   val loss :   0.169048   val score :   0.215270\n",
      "------ epoch:4 ------\n"
     ]
    },
    {
     "name": "stderr",
     "output_type": "stream",
     "text": [
      "100%|██████████| 281/281 [00:04<00:00, 65.36it/s]\n",
      "100%|██████████| 71/71 [00:00<00:00, 91.97it/s] \n",
      "100%|██████████| 943/943 [00:00<00:00, 1948.67it/s]\n"
     ]
    },
    {
     "name": "stdout",
     "output_type": "stream",
     "text": [
      "Epoch 4: train loss :   0.181171   val loss :   0.169096   val score :   0.211029\n",
      "Epoch 00004: reducing learning rate of group 0 to 1.0000e-02.\n",
      "------ epoch:5 ------\n"
     ]
    },
    {
     "name": "stderr",
     "output_type": "stream",
     "text": [
      "100%|██████████| 281/281 [00:04<00:00, 65.05it/s]\n",
      "100%|██████████| 71/71 [00:00<00:00, 126.29it/s]\n",
      "100%|██████████| 943/943 [00:00<00:00, 1790.52it/s]\n"
     ]
    },
    {
     "name": "stdout",
     "output_type": "stream",
     "text": [
      "Epoch 5: train loss :   0.176034   val loss :   0.168405   val score :   0.286320\n",
      "------ epoch:6 ------\n"
     ]
    },
    {
     "name": "stderr",
     "output_type": "stream",
     "text": [
      "100%|██████████| 281/281 [00:04<00:00, 69.09it/s]\n",
      "100%|██████████| 71/71 [00:00<00:00, 100.23it/s]\n",
      "100%|██████████| 943/943 [00:00<00:00, 1901.09it/s]\n"
     ]
    },
    {
     "name": "stdout",
     "output_type": "stream",
     "text": [
      "Epoch 6: train loss :   0.175363   val loss :   0.168358   val score :   0.281018\n",
      "------ epoch:7 ------\n"
     ]
    },
    {
     "name": "stderr",
     "output_type": "stream",
     "text": [
      "100%|██████████| 281/281 [00:03<00:00, 70.37it/s]\n",
      "100%|██████████| 71/71 [00:00<00:00, 96.92it/s] \n",
      "100%|██████████| 943/943 [00:00<00:00, 1977.82it/s]\n"
     ]
    },
    {
     "name": "stdout",
     "output_type": "stream",
     "text": [
      "Epoch 7: train loss :   0.175570   val loss :   0.168425   val score :   0.284199\n",
      "------ epoch:8 ------\n"
     ]
    },
    {
     "name": "stderr",
     "output_type": "stream",
     "text": [
      "100%|██████████| 281/281 [00:04<00:00, 67.35it/s]\n",
      "100%|██████████| 71/71 [00:00<00:00, 101.82it/s]\n",
      "100%|██████████| 943/943 [00:00<00:00, 2155.27it/s]\n"
     ]
    },
    {
     "name": "stdout",
     "output_type": "stream",
     "text": [
      "Epoch 8: train loss :   0.175463   val loss :   0.168392   val score :   0.276776\n",
      "Epoch 00008: reducing learning rate of group 0 to 1.0000e-03.\n",
      "------ epoch:9 ------\n"
     ]
    },
    {
     "name": "stderr",
     "output_type": "stream",
     "text": [
      "100%|██████████| 281/281 [00:04<00:00, 69.59it/s]\n",
      "100%|██████████| 71/71 [00:00<00:00, 98.86it/s] \n",
      "100%|██████████| 943/943 [00:00<00:00, 1993.99it/s]\n"
     ]
    },
    {
     "name": "stdout",
     "output_type": "stream",
     "text": [
      "Epoch 9: train loss :   0.175101   val loss :   0.168370   val score :   0.289502\n",
      "------ epoch:10 ------\n"
     ]
    },
    {
     "name": "stderr",
     "output_type": "stream",
     "text": [
      "100%|██████████| 281/281 [00:04<00:00, 66.25it/s]\n",
      "100%|██████████| 71/71 [00:00<00:00, 95.52it/s] \n",
      "100%|██████████| 943/943 [00:00<00:00, 1967.49it/s]\n"
     ]
    },
    {
     "name": "stdout",
     "output_type": "stream",
     "text": [
      "Epoch 10: train loss :   0.175312   val loss :   0.168360   val score :   0.287381\n",
      "------ epoch:11 ------\n"
     ]
    },
    {
     "name": "stderr",
     "output_type": "stream",
     "text": [
      "100%|██████████| 281/281 [00:04<00:00, 66.76it/s]\n",
      "100%|██████████| 71/71 [00:00<00:00, 95.48it/s] \n",
      "100%|██████████| 943/943 [00:00<00:00, 2086.40it/s]\n"
     ]
    },
    {
     "name": "stdout",
     "output_type": "stream",
     "text": [
      "Epoch 11: train loss :   0.175499   val loss :   0.168362   val score :   0.288441\n",
      "------ epoch:12 ------\n"
     ]
    },
    {
     "name": "stderr",
     "output_type": "stream",
     "text": [
      "100%|██████████| 281/281 [00:04<00:00, 67.53it/s]\n",
      "100%|██████████| 71/71 [00:00<00:00, 118.18it/s]\n",
      "100%|██████████| 943/943 [00:00<00:00, 1915.73it/s]\n"
     ]
    },
    {
     "name": "stdout",
     "output_type": "stream",
     "text": [
      "Epoch 12: train loss :   0.175139   val loss :   0.168351   val score :   0.289502\n",
      "Epoch 00012: reducing learning rate of group 0 to 1.0000e-04.\n",
      "------ epoch:13 ------\n"
     ]
    },
    {
     "name": "stderr",
     "output_type": "stream",
     "text": [
      "100%|██████████| 281/281 [00:04<00:00, 69.32it/s]\n",
      "100%|██████████| 71/71 [00:00<00:00, 93.43it/s] \n",
      "100%|██████████| 943/943 [00:00<00:00, 1114.84it/s]\n"
     ]
    },
    {
     "name": "stdout",
     "output_type": "stream",
     "text": [
      "Epoch 13: train loss :   0.174842   val loss :   0.168351   val score :   0.290562\n",
      "------ epoch:14 ------\n"
     ]
    },
    {
     "name": "stderr",
     "output_type": "stream",
     "text": [
      "100%|██████████| 281/281 [00:04<00:00, 56.23it/s]\n",
      "100%|██████████| 71/71 [00:00<00:00, 94.41it/s] \n",
      "100%|██████████| 943/943 [00:00<00:00, 1978.93it/s]\n"
     ]
    },
    {
     "name": "stdout",
     "output_type": "stream",
     "text": [
      "Epoch 14: train loss :   0.175075   val loss :   0.168351   val score :   0.290562\n",
      "------ epoch:15 ------\n"
     ]
    },
    {
     "name": "stderr",
     "output_type": "stream",
     "text": [
      "100%|██████████| 281/281 [00:04<00:00, 66.61it/s]\n",
      "100%|██████████| 71/71 [00:00<00:00, 93.95it/s] \n",
      "100%|██████████| 943/943 [00:00<00:00, 1946.27it/s]\n"
     ]
    },
    {
     "name": "stdout",
     "output_type": "stream",
     "text": [
      "Epoch 15: train loss :   0.174955   val loss :   0.168352   val score :   0.287381\n",
      "------ epoch:16 ------\n"
     ]
    },
    {
     "name": "stderr",
     "output_type": "stream",
     "text": [
      "100%|██████████| 281/281 [00:04<00:00, 61.67it/s]\n",
      "100%|██████████| 71/71 [00:00<00:00, 92.83it/s] \n",
      "100%|██████████| 943/943 [00:00<00:00, 1768.07it/s]\n"
     ]
    },
    {
     "name": "stdout",
     "output_type": "stream",
     "text": [
      "Epoch 16: train loss :   0.175342   val loss :   0.168352   val score :   0.288441\n",
      "Epoch 00016: reducing learning rate of group 0 to 1.0000e-05.\n",
      "------ epoch:17 ------\n"
     ]
    },
    {
     "name": "stderr",
     "output_type": "stream",
     "text": [
      "100%|██████████| 281/281 [00:04<00:00, 67.90it/s]\n",
      "100%|██████████| 71/71 [00:00<00:00, 92.91it/s] \n",
      "100%|██████████| 943/943 [00:00<00:00, 1138.41it/s]\n"
     ]
    },
    {
     "name": "stdout",
     "output_type": "stream",
     "text": [
      "Epoch 17: train loss :   0.175242   val loss :   0.168352   val score :   0.288441\n"
     ]
    },
    {
     "name": "stderr",
     "output_type": "stream",
     "text": [
      "100%|██████████| 1/1 [00:00<00:00, 326.43it/s]\n",
      "100%|██████████| 4/4 [00:00<00:00, 97.78it/s]\n"
     ]
    },
    {
     "name": "stdout",
     "output_type": "stream",
     "text": [
      "------ repeat : 2 ------\n",
      "------ epoch:1 ------\n"
     ]
    },
    {
     "name": "stderr",
     "output_type": "stream",
     "text": [
      "100%|██████████| 281/281 [00:04<00:00, 62.26it/s]\n",
      "100%|██████████| 71/71 [00:00<00:00, 92.52it/s] \n",
      "100%|██████████| 943/943 [00:00<00:00, 2001.15it/s]\n"
     ]
    },
    {
     "name": "stdout",
     "output_type": "stream",
     "text": [
      "Epoch 1: train loss :   0.207243   val loss :   0.169173   val score :   0.233298\n",
      "------ epoch:2 ------\n"
     ]
    },
    {
     "name": "stderr",
     "output_type": "stream",
     "text": [
      "100%|██████████| 281/281 [00:04<00:00, 62.46it/s]\n",
      "100%|██████████| 71/71 [00:00<00:00, 111.21it/s]\n",
      "100%|██████████| 943/943 [00:00<00:00, 2120.90it/s]\n"
     ]
    },
    {
     "name": "stdout",
     "output_type": "stream",
     "text": [
      "Epoch 2: train loss :   0.181318   val loss :   0.169269   val score :   0.232238\n",
      "------ epoch:3 ------\n"
     ]
    },
    {
     "name": "stderr",
     "output_type": "stream",
     "text": [
      "100%|██████████| 281/281 [00:04<00:00, 62.43it/s]\n",
      "100%|██████████| 71/71 [00:00<00:00, 91.06it/s] \n",
      "100%|██████████| 943/943 [00:00<00:00, 2222.73it/s]\n"
     ]
    },
    {
     "name": "stdout",
     "output_type": "stream",
     "text": [
      "Epoch 3: train loss :   0.181882   val loss :   0.169137   val score :   0.239661\n",
      "------ epoch:4 ------\n"
     ]
    },
    {
     "name": "stderr",
     "output_type": "stream",
     "text": [
      "100%|██████████| 281/281 [00:04<00:00, 61.39it/s]\n",
      "100%|██████████| 71/71 [00:00<00:00, 90.91it/s] \n",
      "100%|██████████| 943/943 [00:00<00:00, 2274.82it/s]\n"
     ]
    },
    {
     "name": "stdout",
     "output_type": "stream",
     "text": [
      "Epoch 4: train loss :   0.181774   val loss :   0.169018   val score :   0.254507\n",
      "------ epoch:5 ------\n"
     ]
    },
    {
     "name": "stderr",
     "output_type": "stream",
     "text": [
      "100%|██████████| 281/281 [00:04<00:00, 60.15it/s]\n",
      "100%|██████████| 71/71 [00:00<00:00, 90.21it/s] \n",
      "100%|██████████| 943/943 [00:00<00:00, 2018.84it/s]\n"
     ]
    },
    {
     "name": "stdout",
     "output_type": "stream",
     "text": [
      "Epoch 5: train loss :   0.182072   val loss :   0.169587   val score :   0.257688\n",
      "------ epoch:6 ------\n"
     ]
    },
    {
     "name": "stderr",
     "output_type": "stream",
     "text": [
      "100%|██████████| 281/281 [00:04<00:00, 58.45it/s]\n",
      "100%|██████████| 71/71 [00:00<00:00, 90.39it/s] \n",
      "100%|██████████| 943/943 [00:00<00:00, 1435.12it/s]\n"
     ]
    },
    {
     "name": "stdout",
     "output_type": "stream",
     "text": [
      "Epoch 6: train loss :   0.181731   val loss :   0.169449   val score :   0.204666\n",
      "------ epoch:7 ------\n"
     ]
    },
    {
     "name": "stderr",
     "output_type": "stream",
     "text": [
      "100%|██████████| 281/281 [00:04<00:00, 58.79it/s]\n",
      "100%|██████████| 71/71 [00:00<00:00, 91.34it/s] \n",
      "100%|██████████| 943/943 [00:00<00:00, 1132.52it/s]\n"
     ]
    },
    {
     "name": "stdout",
     "output_type": "stream",
     "text": [
      "Epoch 7: train loss :   0.182492   val loss :   0.169042   val score :   0.249205\n",
      "------ epoch:8 ------\n"
     ]
    },
    {
     "name": "stderr",
     "output_type": "stream",
     "text": [
      "100%|██████████| 281/281 [00:04<00:00, 61.67it/s]\n",
      "100%|██████████| 71/71 [00:00<00:00, 87.94it/s] \n",
      "100%|██████████| 943/943 [00:00<00:00, 2031.23it/s]\n"
     ]
    },
    {
     "name": "stdout",
     "output_type": "stream",
     "text": [
      "Epoch 8: train loss :   0.182801   val loss :   0.169355   val score :   0.220573\n",
      "Epoch 00008: reducing learning rate of group 0 to 1.0000e-02.\n",
      "------ epoch:9 ------\n"
     ]
    },
    {
     "name": "stderr",
     "output_type": "stream",
     "text": [
      "100%|██████████| 281/281 [00:04<00:00, 64.30it/s]\n",
      "100%|██████████| 71/71 [00:00<00:00, 106.49it/s]\n",
      "100%|██████████| 943/943 [00:00<00:00, 1554.88it/s]\n"
     ]
    },
    {
     "name": "stdout",
     "output_type": "stream",
     "text": [
      "Epoch 9: train loss :   0.176472   val loss :   0.168436   val score :   0.282078\n",
      "------ epoch:10 ------\n"
     ]
    },
    {
     "name": "stderr",
     "output_type": "stream",
     "text": [
      "100%|██████████| 281/281 [00:04<00:00, 62.94it/s]\n",
      "100%|██████████| 71/71 [00:00<00:00, 94.04it/s] \n",
      "100%|██████████| 943/943 [00:00<00:00, 1797.48it/s]\n"
     ]
    },
    {
     "name": "stdout",
     "output_type": "stream",
     "text": [
      "Epoch 10: train loss :   0.176255   val loss :   0.168389   val score :   0.291622\n",
      "------ epoch:11 ------\n"
     ]
    },
    {
     "name": "stderr",
     "output_type": "stream",
     "text": [
      "100%|██████████| 281/281 [00:04<00:00, 66.02it/s]\n",
      "100%|██████████| 71/71 [00:00<00:00, 98.03it/s] \n",
      "100%|██████████| 943/943 [00:00<00:00, 2110.46it/s]\n"
     ]
    },
    {
     "name": "stdout",
     "output_type": "stream",
     "text": [
      "Epoch 11: train loss :   0.175491   val loss :   0.168391   val score :   0.291622\n",
      "------ epoch:12 ------\n"
     ]
    },
    {
     "name": "stderr",
     "output_type": "stream",
     "text": [
      "100%|██████████| 281/281 [00:04<00:00, 66.33it/s]\n",
      "100%|██████████| 71/71 [00:00<00:00, 95.73it/s] \n",
      "100%|██████████| 943/943 [00:00<00:00, 2020.40it/s]\n"
     ]
    },
    {
     "name": "stdout",
     "output_type": "stream",
     "text": [
      "Epoch 12: train loss :   0.176029   val loss :   0.168336   val score :   0.292683\n",
      "------ epoch:13 ------\n"
     ]
    },
    {
     "name": "stderr",
     "output_type": "stream",
     "text": [
      "100%|██████████| 281/281 [00:04<00:00, 66.47it/s]\n",
      "100%|██████████| 71/71 [00:00<00:00, 92.87it/s] \n",
      "100%|██████████| 943/943 [00:00<00:00, 1813.08it/s]\n"
     ]
    },
    {
     "name": "stdout",
     "output_type": "stream",
     "text": [
      "Epoch 13: train loss :   0.176017   val loss :   0.168411   val score :   0.294804\n",
      "------ epoch:14 ------\n"
     ]
    },
    {
     "name": "stderr",
     "output_type": "stream",
     "text": [
      "100%|██████████| 281/281 [00:04<00:00, 65.69it/s]\n",
      "100%|██████████| 71/71 [00:00<00:00, 87.63it/s] \n",
      "100%|██████████| 943/943 [00:00<00:00, 1966.51it/s]\n"
     ]
    },
    {
     "name": "stdout",
     "output_type": "stream",
     "text": [
      "Epoch 14: train loss :   0.175826   val loss :   0.168363   val score :   0.286320\n",
      "------ epoch:15 ------\n"
     ]
    },
    {
     "name": "stderr",
     "output_type": "stream",
     "text": [
      "100%|██████████| 281/281 [00:04<00:00, 64.38it/s]\n",
      "100%|██████████| 71/71 [00:00<00:00, 90.16it/s] \n",
      "100%|██████████| 943/943 [00:00<00:00, 1954.26it/s]\n"
     ]
    },
    {
     "name": "stdout",
     "output_type": "stream",
     "text": [
      "Epoch 15: train loss :   0.175613   val loss :   0.168389   val score :   0.290562\n",
      "------ epoch:16 ------\n"
     ]
    },
    {
     "name": "stderr",
     "output_type": "stream",
     "text": [
      "100%|██████████| 281/281 [00:04<00:00, 62.30it/s]\n",
      "100%|██████████| 71/71 [00:00<00:00, 116.01it/s]\n",
      "100%|██████████| 943/943 [00:00<00:00, 1878.16it/s]\n"
     ]
    },
    {
     "name": "stdout",
     "output_type": "stream",
     "text": [
      "Epoch 16: train loss :   0.176180   val loss :   0.168353   val score :   0.289502\n",
      "Epoch 00016: reducing learning rate of group 0 to 1.0000e-03.\n",
      "------ epoch:17 ------\n"
     ]
    },
    {
     "name": "stderr",
     "output_type": "stream",
     "text": [
      "100%|██████████| 281/281 [00:04<00:00, 63.20it/s]\n",
      "100%|██████████| 71/71 [00:00<00:00, 75.02it/s]\n",
      "100%|██████████| 943/943 [00:00<00:00, 2227.91it/s]\n"
     ]
    },
    {
     "name": "stdout",
     "output_type": "stream",
     "text": [
      "Epoch 17: train loss :   0.175010   val loss :   0.168366   val score :   0.293743\n"
     ]
    },
    {
     "name": "stderr",
     "output_type": "stream",
     "text": [
      "100%|██████████| 1/1 [00:00<00:00, 318.18it/s]\n",
      "100%|██████████| 4/4 [00:00<00:00, 166.19it/s]\n"
     ]
    },
    {
     "name": "stdout",
     "output_type": "stream",
     "text": [
      "------ repeat : 3 ------\n",
      "------ epoch:1 ------\n"
     ]
    },
    {
     "name": "stderr",
     "output_type": "stream",
     "text": [
      "100%|██████████| 281/281 [00:04<00:00, 59.08it/s]\n",
      "100%|██████████| 71/71 [00:00<00:00, 92.78it/s] \n",
      "100%|██████████| 943/943 [00:00<00:00, 2143.51it/s]\n"
     ]
    },
    {
     "name": "stdout",
     "output_type": "stream",
     "text": [
      "Epoch 1: train loss :   0.207145   val loss :   0.169257   val score :   0.223754\n",
      "------ epoch:2 ------\n"
     ]
    },
    {
     "name": "stderr",
     "output_type": "stream",
     "text": [
      "100%|██████████| 281/281 [00:04<00:00, 65.08it/s]\n",
      "100%|██████████| 71/71 [00:00<00:00, 93.43it/s] \n",
      "100%|██████████| 943/943 [00:00<00:00, 2202.53it/s]\n"
     ]
    },
    {
     "name": "stdout",
     "output_type": "stream",
     "text": [
      "Epoch 2: train loss :   0.181506   val loss :   0.169181   val score :   0.240721\n",
      "------ epoch:3 ------\n"
     ]
    },
    {
     "name": "stderr",
     "output_type": "stream",
     "text": [
      "100%|██████████| 281/281 [00:04<00:00, 62.38it/s]\n",
      "100%|██████████| 71/71 [00:00<00:00, 92.25it/s] \n",
      "100%|██████████| 943/943 [00:00<00:00, 2145.77it/s]\n"
     ]
    },
    {
     "name": "stdout",
     "output_type": "stream",
     "text": [
      "Epoch 3: train loss :   0.181267   val loss :   0.169167   val score :   0.229056\n",
      "------ epoch:4 ------\n"
     ]
    },
    {
     "name": "stderr",
     "output_type": "stream",
     "text": [
      "100%|██████████| 281/281 [00:04<00:00, 64.24it/s]\n",
      "100%|██████████| 71/71 [00:00<00:00, 86.62it/s] \n",
      "100%|██████████| 943/943 [00:00<00:00, 1146.50it/s]\n"
     ]
    },
    {
     "name": "stdout",
     "output_type": "stream",
     "text": [
      "Epoch 4: train loss :   0.181739   val loss :   0.169203   val score :   0.230117\n",
      "------ epoch:5 ------\n"
     ]
    },
    {
     "name": "stderr",
     "output_type": "stream",
     "text": [
      "100%|██████████| 281/281 [00:04<00:00, 63.66it/s]\n",
      "100%|██████████| 71/71 [00:00<00:00, 92.08it/s] \n",
      "100%|██████████| 943/943 [00:00<00:00, 1261.11it/s]\n"
     ]
    },
    {
     "name": "stdout",
     "output_type": "stream",
     "text": [
      "Epoch 5: train loss :   0.182518   val loss :   0.169434   val score :   0.242842\n",
      "------ epoch:6 ------\n"
     ]
    },
    {
     "name": "stderr",
     "output_type": "stream",
     "text": [
      "100%|██████████| 281/281 [00:04<00:00, 65.10it/s]\n",
      "100%|██████████| 71/71 [00:00<00:00, 116.47it/s]\n",
      "100%|██████████| 943/943 [00:00<00:00, 2065.07it/s]\n"
     ]
    },
    {
     "name": "stdout",
     "output_type": "stream",
     "text": [
      "Epoch 6: train loss :   0.181869   val loss :   0.169122   val score :   0.204666\n",
      "------ epoch:7 ------\n"
     ]
    },
    {
     "name": "stderr",
     "output_type": "stream",
     "text": [
      "100%|██████████| 281/281 [00:04<00:00, 64.75it/s]\n",
      "100%|██████████| 71/71 [00:00<00:00, 86.71it/s] \n",
      "100%|██████████| 943/943 [00:00<00:00, 1869.64it/s]\n"
     ]
    },
    {
     "name": "stdout",
     "output_type": "stream",
     "text": [
      "Epoch 7: train loss :   0.181730   val loss :   0.169525   val score :   0.232238\n",
      "------ epoch:8 ------\n"
     ]
    },
    {
     "name": "stderr",
     "output_type": "stream",
     "text": [
      "100%|██████████| 281/281 [00:04<00:00, 66.31it/s]\n",
      "100%|██████████| 71/71 [00:00<00:00, 87.21it/s] \n",
      "100%|██████████| 943/943 [00:00<00:00, 2108.37it/s]\n"
     ]
    },
    {
     "name": "stdout",
     "output_type": "stream",
     "text": [
      "Epoch 8: train loss :   0.181881   val loss :   0.169285   val score :   0.219512\n",
      "Epoch 00008: reducing learning rate of group 0 to 1.0000e-02.\n",
      "------ epoch:9 ------\n"
     ]
    },
    {
     "name": "stderr",
     "output_type": "stream",
     "text": [
      "100%|██████████| 281/281 [00:04<00:00, 59.31it/s]\n",
      "100%|██████████| 71/71 [00:00<00:00, 93.18it/s] \n",
      "100%|██████████| 943/943 [00:00<00:00, 1256.11it/s]\n"
     ]
    },
    {
     "name": "stdout",
     "output_type": "stream",
     "text": [
      "Epoch 9: train loss :   0.176603   val loss :   0.168463   val score :   0.264051\n",
      "------ epoch:10 ------\n"
     ]
    },
    {
     "name": "stderr",
     "output_type": "stream",
     "text": [
      "100%|██████████| 281/281 [00:04<00:00, 62.15it/s]\n",
      "100%|██████████| 71/71 [00:00<00:00, 92.62it/s] \n",
      "100%|██████████| 943/943 [00:00<00:00, 1506.55it/s]\n"
     ]
    },
    {
     "name": "stdout",
     "output_type": "stream",
     "text": [
      "Epoch 10: train loss :   0.175940   val loss :   0.168393   val score :   0.282078\n",
      "------ epoch:11 ------\n"
     ]
    },
    {
     "name": "stderr",
     "output_type": "stream",
     "text": [
      "100%|██████████| 281/281 [00:04<00:00, 64.78it/s]\n",
      "100%|██████████| 71/71 [00:00<00:00, 89.76it/s] \n",
      "100%|██████████| 943/943 [00:01<00:00, 898.11it/s]\n"
     ]
    },
    {
     "name": "stdout",
     "output_type": "stream",
     "text": [
      "Epoch 11: train loss :   0.175591   val loss :   0.168413   val score :   0.260870\n",
      "------ epoch:12 ------\n"
     ]
    },
    {
     "name": "stderr",
     "output_type": "stream",
     "text": [
      "100%|██████████| 281/281 [00:05<00:00, 52.64it/s]\n",
      "100%|██████████| 71/71 [00:00<00:00, 121.52it/s]\n",
      "100%|██████████| 943/943 [00:00<00:00, 1073.02it/s]\n"
     ]
    },
    {
     "name": "stdout",
     "output_type": "stream",
     "text": [
      "Epoch 12: train loss :   0.175922   val loss :   0.168442   val score :   0.267232\n",
      "------ epoch:13 ------\n"
     ]
    },
    {
     "name": "stderr",
     "output_type": "stream",
     "text": [
      "100%|██████████| 281/281 [00:04<00:00, 65.57it/s]\n",
      "100%|██████████| 71/71 [00:00<00:00, 113.84it/s]\n",
      "100%|██████████| 943/943 [00:00<00:00, 1257.04it/s]\n"
     ]
    },
    {
     "name": "stdout",
     "output_type": "stream",
     "text": [
      "Epoch 13: train loss :   0.175706   val loss :   0.168355   val score :   0.260870\n",
      "Epoch 00013: reducing learning rate of group 0 to 1.0000e-03.\n",
      "------ epoch:14 ------\n"
     ]
    },
    {
     "name": "stderr",
     "output_type": "stream",
     "text": [
      "100%|██████████| 281/281 [00:04<00:00, 66.49it/s]\n",
      "100%|██████████| 71/71 [00:00<00:00, 94.29it/s] \n",
      "100%|██████████| 943/943 [00:00<00:00, 1494.68it/s]\n"
     ]
    },
    {
     "name": "stdout",
     "output_type": "stream",
     "text": [
      "Epoch 14: train loss :   0.175553   val loss :   0.168337   val score :   0.260870\n"
     ]
    },
    {
     "name": "stderr",
     "output_type": "stream",
     "text": [
      "100%|██████████| 1/1 [00:00<00:00, 334.07it/s]\n",
      "100%|██████████| 4/4 [00:00<00:00, 90.55it/s]\n"
     ]
    },
    {
     "name": "stdout",
     "output_type": "stream",
     "text": [
      "------ repeat : 4 ------\n",
      "------ epoch:1 ------\n"
     ]
    },
    {
     "name": "stderr",
     "output_type": "stream",
     "text": [
      "100%|██████████| 281/281 [00:04<00:00, 66.51it/s]\n",
      "100%|██████████| 71/71 [00:00<00:00, 94.62it/s] \n",
      "100%|██████████| 943/943 [00:00<00:00, 1030.67it/s]\n"
     ]
    },
    {
     "name": "stdout",
     "output_type": "stream",
     "text": [
      "Epoch 1: train loss :   0.208338   val loss :   0.168774   val score :   0.251326\n",
      "------ epoch:2 ------\n"
     ]
    },
    {
     "name": "stderr",
     "output_type": "stream",
     "text": [
      "100%|██████████| 281/281 [00:04<00:00, 64.27it/s]\n",
      "100%|██████████| 71/71 [00:00<00:00, 94.49it/s] \n",
      "100%|██████████| 943/943 [00:00<00:00, 2245.65it/s]\n"
     ]
    },
    {
     "name": "stdout",
     "output_type": "stream",
     "text": [
      "Epoch 2: train loss :   0.181288   val loss :   0.169537   val score :   0.234358\n",
      "------ epoch:3 ------\n"
     ]
    },
    {
     "name": "stderr",
     "output_type": "stream",
     "text": [
      "100%|██████████| 281/281 [00:04<00:00, 64.25it/s]\n",
      "100%|██████████| 71/71 [00:00<00:00, 92.56it/s] \n",
      "100%|██████████| 943/943 [00:00<00:00, 1983.08it/s]\n"
     ]
    },
    {
     "name": "stdout",
     "output_type": "stream",
     "text": [
      "Epoch 3: train loss :   0.181497   val loss :   0.168991   val score :   0.253446\n",
      "------ epoch:4 ------\n"
     ]
    },
    {
     "name": "stderr",
     "output_type": "stream",
     "text": [
      "100%|██████████| 281/281 [00:04<00:00, 64.64it/s]\n",
      "100%|██████████| 71/71 [00:00<00:00, 92.21it/s] \n",
      "100%|██████████| 943/943 [00:00<00:00, 1925.00it/s]\n"
     ]
    },
    {
     "name": "stdout",
     "output_type": "stream",
     "text": [
      "Epoch 4: train loss :   0.181748   val loss :   0.169441   val score :   0.240721\n",
      "------ epoch:5 ------\n"
     ]
    },
    {
     "name": "stderr",
     "output_type": "stream",
     "text": [
      "100%|██████████| 281/281 [00:04<00:00, 62.39it/s]\n",
      "100%|██████████| 71/71 [00:00<00:00, 91.19it/s] \n",
      "100%|██████████| 943/943 [00:00<00:00, 1946.66it/s]\n"
     ]
    },
    {
     "name": "stdout",
     "output_type": "stream",
     "text": [
      "Epoch 5: train loss :   0.182210   val loss :   0.169413   val score :   0.234358\n",
      "------ epoch:6 ------\n"
     ]
    },
    {
     "name": "stderr",
     "output_type": "stream",
     "text": [
      "100%|██████████| 281/281 [00:04<00:00, 67.41it/s]\n",
      "100%|██████████| 71/71 [00:00<00:00, 116.42it/s]\n",
      "100%|██████████| 943/943 [00:00<00:00, 1540.48it/s]\n"
     ]
    },
    {
     "name": "stdout",
     "output_type": "stream",
     "text": [
      "Epoch 6: train loss :   0.181583   val loss :   0.169247   val score :   0.233298\n",
      "Epoch 00006: reducing learning rate of group 0 to 1.0000e-02.\n",
      "------ epoch:7 ------\n"
     ]
    },
    {
     "name": "stderr",
     "output_type": "stream",
     "text": [
      "100%|██████████| 281/281 [00:04<00:00, 62.61it/s]\n",
      "100%|██████████| 71/71 [00:00<00:00, 90.38it/s] \n",
      "100%|██████████| 943/943 [00:00<00:00, 1082.91it/s]\n"
     ]
    },
    {
     "name": "stdout",
     "output_type": "stream",
     "text": [
      "Epoch 7: train loss :   0.176428   val loss :   0.168429   val score :   0.308590\n",
      "------ epoch:8 ------\n"
     ]
    },
    {
     "name": "stderr",
     "output_type": "stream",
     "text": [
      "100%|██████████| 281/281 [00:04<00:00, 62.42it/s]\n",
      "100%|██████████| 71/71 [00:00<00:00, 92.91it/s] \n",
      "100%|██████████| 943/943 [00:00<00:00, 2441.70it/s]\n"
     ]
    },
    {
     "name": "stdout",
     "output_type": "stream",
     "text": [
      "Epoch 8: train loss :   0.175892   val loss :   0.168363   val score :   0.302227\n",
      "------ epoch:9 ------\n"
     ]
    },
    {
     "name": "stderr",
     "output_type": "stream",
     "text": [
      "100%|██████████| 281/281 [00:04<00:00, 64.65it/s]\n",
      "100%|██████████| 71/71 [00:00<00:00, 90.73it/s] \n",
      "100%|██████████| 943/943 [00:00<00:00, 2197.21it/s]\n"
     ]
    },
    {
     "name": "stdout",
     "output_type": "stream",
     "text": [
      "Epoch 9: train loss :   0.175487   val loss :   0.168328   val score :   0.312831\n",
      "------ epoch:10 ------\n"
     ]
    },
    {
     "name": "stderr",
     "output_type": "stream",
     "text": [
      "100%|██████████| 281/281 [00:04<00:00, 65.48it/s]\n",
      "100%|██████████| 71/71 [00:00<00:00, 93.90it/s] \n",
      "100%|██████████| 943/943 [00:00<00:00, 2050.72it/s]\n"
     ]
    },
    {
     "name": "stdout",
     "output_type": "stream",
     "text": [
      "Epoch 10: train loss :   0.175919   val loss :   0.168447   val score :   0.305408\n",
      "------ epoch:11 ------\n"
     ]
    },
    {
     "name": "stderr",
     "output_type": "stream",
     "text": [
      "100%|██████████| 281/281 [00:04<00:00, 65.15it/s]\n",
      "100%|██████████| 71/71 [00:00<00:00, 93.30it/s] \n",
      "100%|██████████| 943/943 [00:00<00:00, 1814.65it/s]\n"
     ]
    },
    {
     "name": "stdout",
     "output_type": "stream",
     "text": [
      "Epoch 11: train loss :   0.175903   val loss :   0.168388   val score :   0.301166\n",
      "------ epoch:12 ------\n"
     ]
    },
    {
     "name": "stderr",
     "output_type": "stream",
     "text": [
      "100%|██████████| 281/281 [00:04<00:00, 64.02it/s]\n",
      "100%|██████████| 71/71 [00:00<00:00, 122.22it/s]\n",
      "100%|██████████| 943/943 [00:00<00:00, 1815.32it/s]\n"
     ]
    },
    {
     "name": "stdout",
     "output_type": "stream",
     "text": [
      "Epoch 12: train loss :   0.175735   val loss :   0.168415   val score :   0.304348\n",
      "Epoch 00012: reducing learning rate of group 0 to 1.0000e-03.\n",
      "------ epoch:13 ------\n"
     ]
    },
    {
     "name": "stderr",
     "output_type": "stream",
     "text": [
      "100%|██████████| 281/281 [00:04<00:00, 63.44it/s]\n",
      "100%|██████████| 71/71 [00:00<00:00, 112.56it/s]\n",
      "100%|██████████| 943/943 [00:00<00:00, 1604.78it/s]\n"
     ]
    },
    {
     "name": "stdout",
     "output_type": "stream",
     "text": [
      "Epoch 13: train loss :   0.175244   val loss :   0.168378   val score :   0.310710\n"
     ]
    },
    {
     "name": "stderr",
     "output_type": "stream",
     "text": [
      "100%|██████████| 1/1 [00:00<00:00, 335.14it/s]\n",
      "100%|██████████| 4/4 [00:00<00:00, 144.70it/s]\n"
     ]
    },
    {
     "name": "stdout",
     "output_type": "stream",
     "text": [
      "------ repeat : 5 ------\n",
      "------ epoch:1 ------\n"
     ]
    },
    {
     "name": "stderr",
     "output_type": "stream",
     "text": [
      "100%|██████████| 281/281 [00:03<00:00, 72.37it/s] \n",
      "100%|██████████| 71/71 [00:00<00:00, 139.31it/s]\n",
      "100%|██████████| 943/943 [00:00<00:00, 2199.29it/s]\n"
     ]
    },
    {
     "name": "stdout",
     "output_type": "stream",
     "text": [
      "Epoch 1: train loss :   0.207008   val loss :   0.169043   val score :   0.260870\n",
      "------ epoch:2 ------\n"
     ]
    },
    {
     "name": "stderr",
     "output_type": "stream",
     "text": [
      "100%|██████████| 281/281 [00:03<00:00, 77.96it/s]\n",
      "100%|██████████| 71/71 [00:00<00:00, 113.66it/s]\n",
      "100%|██████████| 943/943 [00:00<00:00, 1519.30it/s]\n"
     ]
    },
    {
     "name": "stdout",
     "output_type": "stream",
     "text": [
      "Epoch 2: train loss :   0.181313   val loss :   0.169488   val score :   0.243902\n",
      "------ epoch:3 ------\n"
     ]
    },
    {
     "name": "stderr",
     "output_type": "stream",
     "text": [
      "100%|██████████| 281/281 [00:03<00:00, 78.87it/s]\n",
      "100%|██████████| 71/71 [00:00<00:00, 110.80it/s]\n",
      "100%|██████████| 943/943 [00:00<00:00, 1253.35it/s]\n"
     ]
    },
    {
     "name": "stdout",
     "output_type": "stream",
     "text": [
      "Epoch 3: train loss :   0.181299   val loss :   0.168869   val score :   0.275716\n",
      "------ epoch:4 ------\n"
     ]
    },
    {
     "name": "stderr",
     "output_type": "stream",
     "text": [
      "100%|██████████| 281/281 [00:03<00:00, 77.03it/s]\n",
      "100%|██████████| 71/71 [00:00<00:00, 109.56it/s]\n",
      "100%|██████████| 943/943 [00:00<00:00, 1512.45it/s]\n"
     ]
    },
    {
     "name": "stdout",
     "output_type": "stream",
     "text": [
      "Epoch 4: train loss :   0.181788   val loss :   0.168857   val score :   0.253446\n",
      "------ epoch:5 ------\n"
     ]
    },
    {
     "name": "stderr",
     "output_type": "stream",
     "text": [
      "100%|██████████| 281/281 [00:03<00:00, 75.51it/s]\n",
      "100%|██████████| 71/71 [00:00<00:00, 111.83it/s]\n",
      "100%|██████████| 943/943 [00:00<00:00, 2348.76it/s]\n"
     ]
    },
    {
     "name": "stdout",
     "output_type": "stream",
     "text": [
      "Epoch 5: train loss :   0.181836   val loss :   0.169332   val score :   0.229056\n",
      "------ epoch:6 ------\n"
     ]
    },
    {
     "name": "stderr",
     "output_type": "stream",
     "text": [
      "100%|██████████| 281/281 [00:03<00:00, 76.38it/s]\n",
      "100%|██████████| 71/71 [00:00<00:00, 138.54it/s]\n",
      "100%|██████████| 943/943 [00:00<00:00, 1655.94it/s]\n"
     ]
    },
    {
     "name": "stdout",
     "output_type": "stream",
     "text": [
      "Epoch 6: train loss :   0.181941   val loss :   0.169179   val score :   0.238600\n",
      "Epoch 00006: reducing learning rate of group 0 to 1.0000e-02.\n",
      "------ epoch:7 ------\n"
     ]
    },
    {
     "name": "stderr",
     "output_type": "stream",
     "text": [
      "100%|██████████| 281/281 [00:03<00:00, 76.14it/s]\n",
      "100%|██████████| 71/71 [00:00<00:00, 134.61it/s]\n",
      "100%|██████████| 943/943 [00:00<00:00, 1102.93it/s]\n"
     ]
    },
    {
     "name": "stdout",
     "output_type": "stream",
     "text": [
      "Epoch 7: train loss :   0.175943   val loss :   0.168441   val score :   0.299046\n",
      "------ epoch:8 ------\n"
     ]
    },
    {
     "name": "stderr",
     "output_type": "stream",
     "text": [
      "100%|██████████| 281/281 [00:03<00:00, 72.49it/s]\n",
      "100%|██████████| 71/71 [00:00<00:00, 96.04it/s] \n",
      "100%|██████████| 943/943 [00:00<00:00, 1912.15it/s]\n"
     ]
    },
    {
     "name": "stdout",
     "output_type": "stream",
     "text": [
      "Epoch 8: train loss :   0.175469   val loss :   0.168419   val score :   0.303287\n",
      "------ epoch:9 ------\n"
     ]
    },
    {
     "name": "stderr",
     "output_type": "stream",
     "text": [
      "100%|██████████| 281/281 [00:03<00:00, 74.36it/s]\n",
      "100%|██████████| 71/71 [00:00<00:00, 106.87it/s]\n",
      "100%|██████████| 943/943 [00:00<00:00, 1496.15it/s]\n"
     ]
    },
    {
     "name": "stdout",
     "output_type": "stream",
     "text": [
      "Epoch 9: train loss :   0.175372   val loss :   0.168396   val score :   0.302227\n",
      "------ epoch:10 ------\n"
     ]
    },
    {
     "name": "stderr",
     "output_type": "stream",
     "text": [
      "100%|██████████| 281/281 [00:03<00:00, 75.20it/s]\n",
      "100%|██████████| 71/71 [00:00<00:00, 105.56it/s]\n",
      "100%|██████████| 943/943 [00:00<00:00, 2078.44it/s]\n"
     ]
    },
    {
     "name": "stdout",
     "output_type": "stream",
     "text": [
      "Epoch 10: train loss :   0.175478   val loss :   0.168466   val score :   0.310710\n",
      "------ epoch:11 ------\n"
     ]
    },
    {
     "name": "stderr",
     "output_type": "stream",
     "text": [
      "100%|██████████| 281/281 [00:03<00:00, 74.41it/s]\n",
      "100%|██████████| 71/71 [00:00<00:00, 107.38it/s]\n",
      "100%|██████████| 943/943 [00:00<00:00, 1437.12it/s]\n"
     ]
    },
    {
     "name": "stdout",
     "output_type": "stream",
     "text": [
      "Epoch 11: train loss :   0.175707   val loss :   0.168361   val score :   0.304348\n",
      "------ epoch:12 ------\n"
     ]
    },
    {
     "name": "stderr",
     "output_type": "stream",
     "text": [
      "100%|██████████| 281/281 [00:03<00:00, 76.63it/s]\n",
      "100%|██████████| 71/71 [00:00<00:00, 107.67it/s]\n",
      "100%|██████████| 943/943 [00:00<00:00, 1818.53it/s]\n"
     ]
    },
    {
     "name": "stdout",
     "output_type": "stream",
     "text": [
      "Epoch 12: train loss :   0.175492   val loss :   0.168395   val score :   0.299046\n",
      "------ epoch:13 ------\n"
     ]
    },
    {
     "name": "stderr",
     "output_type": "stream",
     "text": [
      "100%|██████████| 281/281 [00:03<00:00, 76.01it/s]\n",
      "100%|██████████| 71/71 [00:00<00:00, 137.51it/s]\n",
      "100%|██████████| 943/943 [00:00<00:00, 1193.58it/s]\n"
     ]
    },
    {
     "name": "stdout",
     "output_type": "stream",
     "text": [
      "Epoch 13: train loss :   0.175615   val loss :   0.168548   val score :   0.293743\n",
      "Epoch 00013: reducing learning rate of group 0 to 1.0000e-03.\n",
      "------ epoch:14 ------\n"
     ]
    },
    {
     "name": "stderr",
     "output_type": "stream",
     "text": [
      "100%|██████████| 281/281 [00:03<00:00, 73.20it/s]\n",
      "100%|██████████| 71/71 [00:00<00:00, 136.58it/s]\n",
      "100%|██████████| 943/943 [00:00<00:00, 2252.91it/s]\n"
     ]
    },
    {
     "name": "stdout",
     "output_type": "stream",
     "text": [
      "Epoch 14: train loss :   0.175425   val loss :   0.168448   val score :   0.296925\n"
     ]
    },
    {
     "name": "stderr",
     "output_type": "stream",
     "text": [
      "100%|██████████| 1/1 [00:00<00:00, 382.48it/s]\n",
      "100%|██████████| 4/4 [00:00<00:00, 176.60it/s]\n"
     ]
    }
   ],
   "source": [
    "embedding_dim = 10\n",
    "lr = 1e-1\n",
    "alpha = 1e-1\n",
    "model_type = 1\n",
    "seed_everything(42)\n",
    "ColdStartTest(train, test, power=power, model_type=model_type, num_users=num_users, num_items=num_items, repeats=5, \n",
    "     embedding_dim=embedding_dim, lr=lr, alpha=alpha, patience=3, epochs=30, device=\"cuda:0\", model_selection=False)"
   ]
  },
  {
   "cell_type": "markdown",
   "id": "0ff26d1b-d8fe-4af3-834e-16c31203297c",
   "metadata": {},
   "source": [
    "### 2"
   ]
  },
  {
   "cell_type": "code",
   "execution_count": 15,
   "id": "3d60704b-ae6c-4e59-ae05-be38c2280ccd",
   "metadata": {
    "collapsed": true,
    "jupyter": {
     "outputs_hidden": true
    },
    "tags": []
   },
   "outputs": [
    {
     "name": "stdout",
     "output_type": "stream",
     "text": [
      "------ repeat : 1 ------\n",
      "------ epoch:1 ------\n"
     ]
    },
    {
     "name": "stderr",
     "output_type": "stream",
     "text": [
      "100%|██████████| 281/281 [00:04<00:00, 68.73it/s]\n",
      "100%|██████████| 71/71 [00:00<00:00, 100.10it/s]\n",
      "100%|██████████| 943/943 [00:00<00:00, 1551.06it/s]\n"
     ]
    },
    {
     "name": "stdout",
     "output_type": "stream",
     "text": [
      "Epoch 1: train loss :   0.714220   val loss :   0.545118   val score :   0.261930\n",
      "------ epoch:2 ------\n"
     ]
    },
    {
     "name": "stderr",
     "output_type": "stream",
     "text": [
      "100%|██████████| 281/281 [00:04<00:00, 69.54it/s]\n",
      "100%|██████████| 71/71 [00:00<00:00, 98.94it/s] \n",
      "100%|██████████| 943/943 [00:00<00:00, 2063.05it/s]\n"
     ]
    },
    {
     "name": "stdout",
     "output_type": "stream",
     "text": [
      "Epoch 2: train loss :   0.684513   val loss :   0.544554   val score :   0.254507\n",
      "------ epoch:3 ------\n"
     ]
    },
    {
     "name": "stderr",
     "output_type": "stream",
     "text": [
      "100%|██████████| 281/281 [00:04<00:00, 67.55it/s]\n",
      "100%|██████████| 71/71 [00:01<00:00, 63.93it/s]\n",
      "100%|██████████| 943/943 [00:00<00:00, 1145.92it/s]\n"
     ]
    },
    {
     "name": "stdout",
     "output_type": "stream",
     "text": [
      "Epoch 3: train loss :   0.702578   val loss :   0.543955   val score :   0.235419\n",
      "------ epoch:4 ------\n"
     ]
    },
    {
     "name": "stderr",
     "output_type": "stream",
     "text": [
      "100%|██████████| 281/281 [00:04<00:00, 66.92it/s]\n",
      "100%|██████████| 71/71 [00:00<00:00, 101.10it/s]\n",
      "100%|██████████| 943/943 [00:00<00:00, 2026.54it/s]\n"
     ]
    },
    {
     "name": "stdout",
     "output_type": "stream",
     "text": [
      "Epoch 4: train loss :   0.689552   val loss :   0.543059   val score :   0.255567\n",
      "Epoch 00004: reducing learning rate of group 0 to 1.0000e-02.\n",
      "------ epoch:5 ------\n"
     ]
    },
    {
     "name": "stderr",
     "output_type": "stream",
     "text": [
      "100%|██████████| 281/281 [00:04<00:00, 65.46it/s]\n",
      "100%|██████████| 71/71 [00:00<00:00, 97.55it/s] \n",
      "100%|██████████| 943/943 [00:00<00:00, 1722.85it/s]\n"
     ]
    },
    {
     "name": "stdout",
     "output_type": "stream",
     "text": [
      "Epoch 5: train loss :   0.589908   val loss :   0.526220   val score :   0.300106\n",
      "------ epoch:6 ------\n"
     ]
    },
    {
     "name": "stderr",
     "output_type": "stream",
     "text": [
      "100%|██████████| 281/281 [00:04<00:00, 66.70it/s]\n",
      "100%|██████████| 71/71 [00:00<00:00, 125.59it/s]\n",
      "100%|██████████| 943/943 [00:00<00:00, 2087.23it/s]\n"
     ]
    },
    {
     "name": "stdout",
     "output_type": "stream",
     "text": [
      "Epoch 6: train loss :   0.558763   val loss :   0.525165   val score :   0.299046\n",
      "------ epoch:7 ------\n"
     ]
    },
    {
     "name": "stderr",
     "output_type": "stream",
     "text": [
      "100%|██████████| 281/281 [00:04<00:00, 64.67it/s]\n",
      "100%|██████████| 71/71 [00:00<00:00, 125.70it/s]\n",
      "100%|██████████| 943/943 [00:00<00:00, 2042.36it/s]\n"
     ]
    },
    {
     "name": "stdout",
     "output_type": "stream",
     "text": [
      "Epoch 7: train loss :   0.557003   val loss :   0.525060   val score :   0.295864\n",
      "------ epoch:8 ------\n"
     ]
    },
    {
     "name": "stderr",
     "output_type": "stream",
     "text": [
      "100%|██████████| 281/281 [00:04<00:00, 65.88it/s]\n",
      "100%|██████████| 71/71 [00:00<00:00, 95.04it/s] \n",
      "100%|██████████| 943/943 [00:00<00:00, 1739.92it/s]\n"
     ]
    },
    {
     "name": "stdout",
     "output_type": "stream",
     "text": [
      "Epoch 8: train loss :   0.556514   val loss :   0.524731   val score :   0.293743\n",
      "Epoch 00008: reducing learning rate of group 0 to 1.0000e-03.\n",
      "------ epoch:9 ------\n"
     ]
    },
    {
     "name": "stderr",
     "output_type": "stream",
     "text": [
      "100%|██████████| 281/281 [00:04<00:00, 68.79it/s]\n",
      "100%|██████████| 71/71 [00:00<00:00, 93.86it/s] \n",
      "100%|██████████| 943/943 [00:00<00:00, 1918.81it/s]\n"
     ]
    },
    {
     "name": "stdout",
     "output_type": "stream",
     "text": [
      "Epoch 9: train loss :   0.550789   val loss :   0.524881   val score :   0.295864\n"
     ]
    },
    {
     "name": "stderr",
     "output_type": "stream",
     "text": [
      "100%|██████████| 1/1 [00:00<00:00, 269.50it/s]\n",
      "100%|██████████| 4/4 [00:00<00:00, 171.35it/s]\n"
     ]
    },
    {
     "name": "stdout",
     "output_type": "stream",
     "text": [
      "------ repeat : 2 ------\n",
      "------ epoch:1 ------\n"
     ]
    },
    {
     "name": "stderr",
     "output_type": "stream",
     "text": [
      "100%|██████████| 281/281 [00:04<00:00, 65.81it/s]\n",
      "100%|██████████| 71/71 [00:00<00:00, 92.16it/s] \n",
      "100%|██████████| 943/943 [00:00<00:00, 1521.92it/s]\n"
     ]
    },
    {
     "name": "stdout",
     "output_type": "stream",
     "text": [
      "Epoch 1: train loss :   0.713084   val loss :   0.544182   val score :   0.246023\n",
      "------ epoch:2 ------\n"
     ]
    },
    {
     "name": "stderr",
     "output_type": "stream",
     "text": [
      "100%|██████████| 281/281 [00:04<00:00, 64.50it/s]\n",
      "100%|██████████| 71/71 [00:00<00:00, 93.55it/s] \n",
      "100%|██████████| 943/943 [00:00<00:00, 1152.42it/s]\n"
     ]
    },
    {
     "name": "stdout",
     "output_type": "stream",
     "text": [
      "Epoch 2: train loss :   0.693045   val loss :   0.547247   val score :   0.250265\n",
      "------ epoch:3 ------\n"
     ]
    },
    {
     "name": "stderr",
     "output_type": "stream",
     "text": [
      "100%|██████████| 281/281 [00:04<00:00, 64.80it/s]\n",
      "100%|██████████| 71/71 [00:00<00:00, 91.34it/s] \n",
      "100%|██████████| 943/943 [00:00<00:00, 1453.07it/s]\n"
     ]
    },
    {
     "name": "stdout",
     "output_type": "stream",
     "text": [
      "Epoch 3: train loss :   0.699139   val loss :   0.546228   val score :   0.236479\n",
      "------ epoch:4 ------\n"
     ]
    },
    {
     "name": "stderr",
     "output_type": "stream",
     "text": [
      "100%|██████████| 281/281 [00:04<00:00, 64.24it/s]\n",
      "100%|██████████| 71/71 [00:00<00:00, 119.97it/s]\n",
      "100%|██████████| 943/943 [00:00<00:00, 952.61it/s] \n"
     ]
    },
    {
     "name": "stdout",
     "output_type": "stream",
     "text": [
      "Epoch 4: train loss :   0.690605   val loss :   0.545727   val score :   0.253446\n",
      "------ epoch:5 ------\n"
     ]
    },
    {
     "name": "stderr",
     "output_type": "stream",
     "text": [
      "100%|██████████| 281/281 [00:05<00:00, 56.05it/s]\n",
      "100%|██████████| 71/71 [00:00<00:00, 108.37it/s]\n",
      "100%|██████████| 943/943 [00:00<00:00, 1779.20it/s]\n"
     ]
    },
    {
     "name": "stdout",
     "output_type": "stream",
     "text": [
      "Epoch 5: train loss :   0.695053   val loss :   0.544914   val score :   0.255567\n",
      "------ epoch:6 ------\n"
     ]
    },
    {
     "name": "stderr",
     "output_type": "stream",
     "text": [
      "100%|██████████| 281/281 [00:04<00:00, 62.43it/s]\n",
      "100%|██████████| 71/71 [00:00<00:00, 93.87it/s] \n",
      "100%|██████████| 943/943 [00:00<00:00, 2160.74it/s]\n"
     ]
    },
    {
     "name": "stdout",
     "output_type": "stream",
     "text": [
      "Epoch 6: train loss :   0.700448   val loss :   0.547010   val score :   0.253446\n",
      "------ epoch:7 ------\n"
     ]
    },
    {
     "name": "stderr",
     "output_type": "stream",
     "text": [
      "100%|██████████| 281/281 [00:04<00:00, 65.20it/s]\n",
      "100%|██████████| 71/71 [00:00<00:00, 91.84it/s] \n",
      "100%|██████████| 943/943 [00:00<00:00, 2144.88it/s]\n"
     ]
    },
    {
     "name": "stdout",
     "output_type": "stream",
     "text": [
      "Epoch 7: train loss :   0.696799   val loss :   0.543568   val score :   0.239661\n",
      "------ epoch:8 ------\n"
     ]
    },
    {
     "name": "stderr",
     "output_type": "stream",
     "text": [
      "100%|██████████| 281/281 [00:04<00:00, 63.33it/s]\n",
      "100%|██████████| 71/71 [00:00<00:00, 88.10it/s] \n",
      "100%|██████████| 943/943 [00:00<00:00, 2174.13it/s]\n"
     ]
    },
    {
     "name": "stdout",
     "output_type": "stream",
     "text": [
      "Epoch 8: train loss :   0.696495   val loss :   0.542823   val score :   0.222694\n",
      "Epoch 00008: reducing learning rate of group 0 to 1.0000e-02.\n",
      "------ epoch:9 ------\n"
     ]
    },
    {
     "name": "stderr",
     "output_type": "stream",
     "text": [
      "100%|██████████| 281/281 [00:04<00:00, 64.73it/s]\n",
      "100%|██████████| 71/71 [00:00<00:00, 93.89it/s] \n",
      "100%|██████████| 943/943 [00:00<00:00, 2342.67it/s]\n"
     ]
    },
    {
     "name": "stdout",
     "output_type": "stream",
     "text": [
      "Epoch 9: train loss :   0.588825   val loss :   0.526739   val score :   0.282078\n",
      "------ epoch:10 ------\n"
     ]
    },
    {
     "name": "stderr",
     "output_type": "stream",
     "text": [
      "100%|██████████| 281/281 [00:04<00:00, 65.56it/s]\n",
      "100%|██████████| 71/71 [00:00<00:00, 90.27it/s] \n",
      "100%|██████████| 943/943 [00:00<00:00, 1201.29it/s]\n"
     ]
    },
    {
     "name": "stdout",
     "output_type": "stream",
     "text": [
      "Epoch 10: train loss :   0.559027   val loss :   0.525285   val score :   0.302227\n",
      "------ epoch:11 ------\n"
     ]
    },
    {
     "name": "stderr",
     "output_type": "stream",
     "text": [
      "100%|██████████| 281/281 [00:04<00:00, 63.05it/s]\n",
      "100%|██████████| 71/71 [00:00<00:00, 115.42it/s]\n",
      "100%|██████████| 943/943 [00:00<00:00, 1872.60it/s]\n"
     ]
    },
    {
     "name": "stdout",
     "output_type": "stream",
     "text": [
      "Epoch 11: train loss :   0.558074   val loss :   0.524851   val score :   0.305408\n",
      "------ epoch:12 ------\n"
     ]
    },
    {
     "name": "stderr",
     "output_type": "stream",
     "text": [
      "100%|██████████| 281/281 [00:04<00:00, 61.95it/s]\n",
      "100%|██████████| 71/71 [00:00<00:00, 117.37it/s]\n",
      "100%|██████████| 943/943 [00:00<00:00, 1799.61it/s]\n"
     ]
    },
    {
     "name": "stdout",
     "output_type": "stream",
     "text": [
      "Epoch 12: train loss :   0.557007   val loss :   0.524340   val score :   0.300106\n",
      "------ epoch:13 ------\n"
     ]
    },
    {
     "name": "stderr",
     "output_type": "stream",
     "text": [
      "100%|██████████| 281/281 [00:04<00:00, 64.67it/s]\n",
      "100%|██████████| 71/71 [00:00<00:00, 94.67it/s] \n",
      "100%|██████████| 943/943 [00:00<00:00, 1712.06it/s]\n"
     ]
    },
    {
     "name": "stdout",
     "output_type": "stream",
     "text": [
      "Epoch 13: train loss :   0.557210   val loss :   0.524839   val score :   0.300106\n",
      "------ epoch:14 ------\n"
     ]
    },
    {
     "name": "stderr",
     "output_type": "stream",
     "text": [
      "100%|██████████| 281/281 [00:04<00:00, 64.09it/s]\n",
      "100%|██████████| 71/71 [00:00<00:00, 90.47it/s] \n",
      "100%|██████████| 943/943 [00:00<00:00, 1937.51it/s]\n"
     ]
    },
    {
     "name": "stdout",
     "output_type": "stream",
     "text": [
      "Epoch 14: train loss :   0.556453   val loss :   0.525001   val score :   0.297985\n",
      "Epoch 00014: reducing learning rate of group 0 to 1.0000e-03.\n",
      "------ epoch:15 ------\n"
     ]
    },
    {
     "name": "stderr",
     "output_type": "stream",
     "text": [
      "100%|██████████| 281/281 [00:04<00:00, 65.08it/s]\n",
      "100%|██████████| 71/71 [00:00<00:00, 93.69it/s] \n",
      "100%|██████████| 943/943 [00:00<00:00, 1914.66it/s]\n"
     ]
    },
    {
     "name": "stdout",
     "output_type": "stream",
     "text": [
      "Epoch 15: train loss :   0.552183   val loss :   0.525021   val score :   0.299046\n"
     ]
    },
    {
     "name": "stderr",
     "output_type": "stream",
     "text": [
      "100%|██████████| 1/1 [00:00<00:00, 290.73it/s]\n",
      "100%|██████████| 4/4 [00:00<00:00, 166.58it/s]\n"
     ]
    },
    {
     "name": "stdout",
     "output_type": "stream",
     "text": [
      "------ repeat : 3 ------\n",
      "------ epoch:1 ------\n"
     ]
    },
    {
     "name": "stderr",
     "output_type": "stream",
     "text": [
      "100%|██████████| 281/281 [00:04<00:00, 68.47it/s]\n",
      "100%|██████████| 71/71 [00:00<00:00, 95.80it/s] \n",
      "100%|██████████| 943/943 [00:00<00:00, 1883.95it/s]\n"
     ]
    },
    {
     "name": "stdout",
     "output_type": "stream",
     "text": [
      "Epoch 1: train loss :   0.714634   val loss :   0.543383   val score :   0.254507\n",
      "------ epoch:2 ------\n"
     ]
    },
    {
     "name": "stderr",
     "output_type": "stream",
     "text": [
      "100%|██████████| 281/281 [00:03<00:00, 70.81it/s]\n",
      "100%|██████████| 71/71 [00:00<00:00, 93.90it/s] \n",
      "100%|██████████| 943/943 [00:00<00:00, 1131.03it/s]\n"
     ]
    },
    {
     "name": "stdout",
     "output_type": "stream",
     "text": [
      "Epoch 2: train loss :   0.686188   val loss :   0.546977   val score :   0.287381\n",
      "------ epoch:3 ------\n"
     ]
    },
    {
     "name": "stderr",
     "output_type": "stream",
     "text": [
      "100%|██████████| 281/281 [00:04<00:00, 61.18it/s]\n",
      "100%|██████████| 71/71 [00:00<00:00, 112.39it/s]\n",
      "100%|██████████| 943/943 [00:00<00:00, 1140.58it/s]\n"
     ]
    },
    {
     "name": "stdout",
     "output_type": "stream",
     "text": [
      "Epoch 3: train loss :   0.698800   val loss :   0.547231   val score :   0.268293\n",
      "------ epoch:4 ------\n"
     ]
    },
    {
     "name": "stderr",
     "output_type": "stream",
     "text": [
      "100%|██████████| 281/281 [00:04<00:00, 59.86it/s]\n",
      "100%|██████████| 71/71 [00:00<00:00, 119.50it/s]\n",
      "100%|██████████| 943/943 [00:00<00:00, 1903.58it/s]\n"
     ]
    },
    {
     "name": "stdout",
     "output_type": "stream",
     "text": [
      "Epoch 4: train loss :   0.698394   val loss :   0.541794   val score :   0.276776\n",
      "------ epoch:5 ------\n"
     ]
    },
    {
     "name": "stderr",
     "output_type": "stream",
     "text": [
      "100%|██████████| 281/281 [00:04<00:00, 65.32it/s]\n",
      "100%|██████████| 71/71 [00:00<00:00, 90.66it/s] \n",
      "100%|██████████| 943/943 [00:00<00:00, 1922.00it/s]\n"
     ]
    },
    {
     "name": "stdout",
     "output_type": "stream",
     "text": [
      "Epoch 5: train loss :   0.696444   val loss :   0.545248   val score :   0.287381\n",
      "Epoch 00005: reducing learning rate of group 0 to 1.0000e-02.\n",
      "------ epoch:6 ------\n"
     ]
    },
    {
     "name": "stderr",
     "output_type": "stream",
     "text": [
      "100%|██████████| 281/281 [00:04<00:00, 65.78it/s]\n",
      "100%|██████████| 71/71 [00:00<00:00, 77.79it/s] \n",
      "100%|██████████| 943/943 [00:00<00:00, 2095.32it/s]\n"
     ]
    },
    {
     "name": "stdout",
     "output_type": "stream",
     "text": [
      "Epoch 6: train loss :   0.591086   val loss :   0.525965   val score :   0.338282\n",
      "------ epoch:7 ------\n"
     ]
    },
    {
     "name": "stderr",
     "output_type": "stream",
     "text": [
      "100%|██████████| 281/281 [00:04<00:00, 66.92it/s]\n",
      "100%|██████████| 71/71 [00:00<00:00, 81.00it/s] \n",
      "100%|██████████| 943/943 [00:00<00:00, 1972.23it/s]\n"
     ]
    },
    {
     "name": "stdout",
     "output_type": "stream",
     "text": [
      "Epoch 7: train loss :   0.558664   val loss :   0.525204   val score :   0.345705\n",
      "------ epoch:8 ------\n"
     ]
    },
    {
     "name": "stderr",
     "output_type": "stream",
     "text": [
      "100%|██████████| 281/281 [00:04<00:00, 64.26it/s]\n",
      "100%|██████████| 71/71 [00:00<00:00, 95.28it/s] \n",
      "100%|██████████| 943/943 [00:00<00:00, 2083.03it/s]\n"
     ]
    },
    {
     "name": "stdout",
     "output_type": "stream",
     "text": [
      "Epoch 8: train loss :   0.559547   val loss :   0.525311   val score :   0.343584\n",
      "------ epoch:9 ------\n"
     ]
    },
    {
     "name": "stderr",
     "output_type": "stream",
     "text": [
      "100%|██████████| 281/281 [00:04<00:00, 68.27it/s]\n",
      "100%|██████████| 71/71 [00:00<00:00, 91.21it/s] \n",
      "100%|██████████| 943/943 [00:00<00:00, 1438.14it/s]\n"
     ]
    },
    {
     "name": "stdout",
     "output_type": "stream",
     "text": [
      "Epoch 9: train loss :   0.557429   val loss :   0.525136   val score :   0.339343\n",
      "------ epoch:10 ------\n"
     ]
    },
    {
     "name": "stderr",
     "output_type": "stream",
     "text": [
      "100%|██████████| 281/281 [00:04<00:00, 64.88it/s]\n",
      "100%|██████████| 71/71 [00:00<00:00, 118.02it/s]\n",
      "100%|██████████| 943/943 [00:00<00:00, 1515.67it/s]\n"
     ]
    },
    {
     "name": "stdout",
     "output_type": "stream",
     "text": [
      "Epoch 10: train loss :   0.556995   val loss :   0.525365   val score :   0.346766\n",
      "------ epoch:11 ------\n"
     ]
    },
    {
     "name": "stderr",
     "output_type": "stream",
     "text": [
      "100%|██████████| 281/281 [00:04<00:00, 61.57it/s]\n",
      "100%|██████████| 71/71 [00:00<00:00, 115.68it/s]\n",
      "100%|██████████| 943/943 [00:00<00:00, 1517.85it/s]\n"
     ]
    },
    {
     "name": "stdout",
     "output_type": "stream",
     "text": [
      "Epoch 11: train loss :   0.556726   val loss :   0.525193   val score :   0.336161\n",
      "------ epoch:12 ------\n"
     ]
    },
    {
     "name": "stderr",
     "output_type": "stream",
     "text": [
      "100%|██████████| 281/281 [00:04<00:00, 64.92it/s]\n",
      "100%|██████████| 71/71 [00:00<00:00, 93.22it/s] \n",
      "100%|██████████| 943/943 [00:00<00:00, 1324.32it/s]\n"
     ]
    },
    {
     "name": "stdout",
     "output_type": "stream",
     "text": [
      "Epoch 12: train loss :   0.556948   val loss :   0.525178   val score :   0.338282\n",
      "------ epoch:13 ------\n"
     ]
    },
    {
     "name": "stderr",
     "output_type": "stream",
     "text": [
      "100%|██████████| 281/281 [00:04<00:00, 65.92it/s]\n",
      "100%|██████████| 71/71 [00:00<00:00, 94.61it/s] \n",
      "100%|██████████| 943/943 [00:00<00:00, 1376.78it/s]\n"
     ]
    },
    {
     "name": "stdout",
     "output_type": "stream",
     "text": [
      "Epoch 13: train loss :   0.556657   val loss :   0.524996   val score :   0.336161\n",
      "Epoch 00013: reducing learning rate of group 0 to 1.0000e-03.\n",
      "------ epoch:14 ------\n"
     ]
    },
    {
     "name": "stderr",
     "output_type": "stream",
     "text": [
      "100%|██████████| 281/281 [00:04<00:00, 66.14it/s]\n",
      "100%|██████████| 71/71 [00:00<00:00, 96.33it/s] \n",
      "100%|██████████| 943/943 [00:00<00:00, 1221.25it/s]\n"
     ]
    },
    {
     "name": "stdout",
     "output_type": "stream",
     "text": [
      "Epoch 14: train loss :   0.551353   val loss :   0.524986   val score :   0.332980\n"
     ]
    },
    {
     "name": "stderr",
     "output_type": "stream",
     "text": [
      "100%|██████████| 1/1 [00:00<00:00, 325.29it/s]\n",
      "100%|██████████| 4/4 [00:00<00:00, 220.49it/s]\n"
     ]
    },
    {
     "name": "stdout",
     "output_type": "stream",
     "text": [
      "------ repeat : 4 ------\n",
      "------ epoch:1 ------\n"
     ]
    },
    {
     "name": "stderr",
     "output_type": "stream",
     "text": [
      "100%|██████████| 281/281 [00:04<00:00, 64.79it/s]\n",
      "100%|██████████| 71/71 [00:00<00:00, 93.38it/s] \n",
      "100%|██████████| 943/943 [00:00<00:00, 1604.28it/s]\n"
     ]
    },
    {
     "name": "stdout",
     "output_type": "stream",
     "text": [
      "Epoch 1: train loss :   0.713301   val loss :   0.547524   val score :   0.247084\n",
      "------ epoch:2 ------\n"
     ]
    },
    {
     "name": "stderr",
     "output_type": "stream",
     "text": [
      "100%|██████████| 281/281 [00:04<00:00, 64.06it/s]\n",
      "100%|██████████| 71/71 [00:00<00:00, 82.06it/s] \n",
      "100%|██████████| 943/943 [00:00<00:00, 1817.69it/s]\n"
     ]
    },
    {
     "name": "stdout",
     "output_type": "stream",
     "text": [
      "Epoch 2: train loss :   0.690915   val loss :   0.542524   val score :   0.262990\n",
      "------ epoch:3 ------\n"
     ]
    },
    {
     "name": "stderr",
     "output_type": "stream",
     "text": [
      "100%|██████████| 281/281 [00:04<00:00, 66.58it/s]\n",
      "100%|██████████| 71/71 [00:00<00:00, 119.36it/s]\n",
      "100%|██████████| 943/943 [00:00<00:00, 1276.65it/s]\n"
     ]
    },
    {
     "name": "stdout",
     "output_type": "stream",
     "text": [
      "Epoch 3: train loss :   0.691656   val loss :   0.545271   val score :   0.254507\n",
      "------ epoch:4 ------\n"
     ]
    },
    {
     "name": "stderr",
     "output_type": "stream",
     "text": [
      "100%|██████████| 281/281 [00:04<00:00, 63.91it/s]\n",
      "100%|██████████| 71/71 [00:00<00:00, 119.90it/s]\n",
      "100%|██████████| 943/943 [00:00<00:00, 1435.21it/s]\n"
     ]
    },
    {
     "name": "stdout",
     "output_type": "stream",
     "text": [
      "Epoch 4: train loss :   0.697180   val loss :   0.545044   val score :   0.250265\n",
      "------ epoch:5 ------\n"
     ]
    },
    {
     "name": "stderr",
     "output_type": "stream",
     "text": [
      "100%|██████████| 281/281 [00:04<00:00, 64.50it/s]\n",
      "100%|██████████| 71/71 [00:00<00:00, 89.74it/s] \n",
      "100%|██████████| 943/943 [00:00<00:00, 1895.65it/s]\n"
     ]
    },
    {
     "name": "stdout",
     "output_type": "stream",
     "text": [
      "Epoch 5: train loss :   0.698782   val loss :   0.543392   val score :   0.270414\n",
      "------ epoch:6 ------\n"
     ]
    },
    {
     "name": "stderr",
     "output_type": "stream",
     "text": [
      "100%|██████████| 281/281 [00:04<00:00, 65.16it/s]\n",
      "100%|██████████| 71/71 [00:00<00:00, 86.93it/s] \n",
      "100%|██████████| 943/943 [00:00<00:00, 1789.48it/s]\n"
     ]
    },
    {
     "name": "stdout",
     "output_type": "stream",
     "text": [
      "Epoch 6: train loss :   0.687232   val loss :   0.545643   val score :   0.234358\n",
      "------ epoch:7 ------\n"
     ]
    },
    {
     "name": "stderr",
     "output_type": "stream",
     "text": [
      "100%|██████████| 281/281 [00:04<00:00, 56.32it/s]\n",
      "100%|██████████| 71/71 [00:00<00:00, 91.34it/s] \n",
      "100%|██████████| 943/943 [00:00<00:00, 2141.35it/s]\n"
     ]
    },
    {
     "name": "stdout",
     "output_type": "stream",
     "text": [
      "Epoch 7: train loss :   0.687024   val loss :   0.547414   val score :   0.232238\n",
      "------ epoch:8 ------\n"
     ]
    },
    {
     "name": "stderr",
     "output_type": "stream",
     "text": [
      "100%|██████████| 281/281 [00:04<00:00, 61.69it/s]\n",
      "100%|██████████| 71/71 [00:00<00:00, 83.51it/s] \n",
      "100%|██████████| 943/943 [00:00<00:00, 2029.03it/s]\n"
     ]
    },
    {
     "name": "stdout",
     "output_type": "stream",
     "text": [
      "Epoch 8: train loss :   0.720614   val loss :   0.545643   val score :   0.242842\n",
      "Epoch 00008: reducing learning rate of group 0 to 1.0000e-02.\n",
      "------ epoch:9 ------\n"
     ]
    },
    {
     "name": "stderr",
     "output_type": "stream",
     "text": [
      "100%|██████████| 281/281 [00:04<00:00, 63.97it/s]\n",
      "100%|██████████| 71/71 [00:00<00:00, 94.91it/s] \n",
      "100%|██████████| 943/943 [00:00<00:00, 2038.99it/s]\n"
     ]
    },
    {
     "name": "stdout",
     "output_type": "stream",
     "text": [
      "Epoch 9: train loss :   0.594872   val loss :   0.527315   val score :   0.288441\n",
      "------ epoch:10 ------\n"
     ]
    },
    {
     "name": "stderr",
     "output_type": "stream",
     "text": [
      "100%|██████████| 281/281 [00:04<00:00, 63.41it/s]\n",
      "100%|██████████| 71/71 [00:00<00:00, 119.67it/s]\n",
      "100%|██████████| 943/943 [00:00<00:00, 1668.25it/s]\n"
     ]
    },
    {
     "name": "stdout",
     "output_type": "stream",
     "text": [
      "Epoch 10: train loss :   0.559143   val loss :   0.525939   val score :   0.297985\n",
      "------ epoch:11 ------\n"
     ]
    },
    {
     "name": "stderr",
     "output_type": "stream",
     "text": [
      "100%|██████████| 281/281 [00:04<00:00, 59.69it/s]\n",
      "100%|██████████| 71/71 [00:00<00:00, 121.11it/s]\n",
      "100%|██████████| 943/943 [00:00<00:00, 1119.43it/s]\n"
     ]
    },
    {
     "name": "stdout",
     "output_type": "stream",
     "text": [
      "Epoch 11: train loss :   0.557973   val loss :   0.525170   val score :   0.305408\n",
      "------ epoch:12 ------\n"
     ]
    },
    {
     "name": "stderr",
     "output_type": "stream",
     "text": [
      "100%|██████████| 281/281 [00:04<00:00, 62.02it/s]\n",
      "100%|██████████| 71/71 [00:00<00:00, 93.80it/s] \n",
      "100%|██████████| 943/943 [00:00<00:00, 1143.46it/s]\n"
     ]
    },
    {
     "name": "stdout",
     "output_type": "stream",
     "text": [
      "Epoch 12: train loss :   0.556684   val loss :   0.525017   val score :   0.310710\n",
      "------ epoch:13 ------\n"
     ]
    },
    {
     "name": "stderr",
     "output_type": "stream",
     "text": [
      "100%|██████████| 281/281 [00:04<00:00, 64.34it/s]\n",
      "100%|██████████| 71/71 [00:00<00:00, 96.05it/s] \n",
      "100%|██████████| 943/943 [00:00<00:00, 1377.23it/s]\n"
     ]
    },
    {
     "name": "stdout",
     "output_type": "stream",
     "text": [
      "Epoch 13: train loss :   0.557051   val loss :   0.524967   val score :   0.305408\n",
      "------ epoch:14 ------\n"
     ]
    },
    {
     "name": "stderr",
     "output_type": "stream",
     "text": [
      "100%|██████████| 281/281 [00:04<00:00, 64.69it/s]\n",
      "100%|██████████| 71/71 [00:00<00:00, 90.44it/s] \n",
      "100%|██████████| 943/943 [00:00<00:00, 1413.36it/s]\n"
     ]
    },
    {
     "name": "stdout",
     "output_type": "stream",
     "text": [
      "Epoch 14: train loss :   0.556890   val loss :   0.525143   val score :   0.309650\n",
      "------ epoch:15 ------\n"
     ]
    },
    {
     "name": "stderr",
     "output_type": "stream",
     "text": [
      "100%|██████████| 281/281 [00:04<00:00, 64.74it/s]\n",
      "100%|██████████| 71/71 [00:00<00:00, 90.67it/s] \n",
      "100%|██████████| 943/943 [00:00<00:00, 1132.12it/s]\n"
     ]
    },
    {
     "name": "stdout",
     "output_type": "stream",
     "text": [
      "Epoch 15: train loss :   0.557034   val loss :   0.525149   val score :   0.304348\n",
      "Epoch 00015: reducing learning rate of group 0 to 1.0000e-03.\n",
      "------ epoch:16 ------\n"
     ]
    },
    {
     "name": "stderr",
     "output_type": "stream",
     "text": [
      "100%|██████████| 281/281 [00:04<00:00, 63.59it/s]\n",
      "100%|██████████| 71/71 [00:00<00:00, 92.55it/s] \n",
      "100%|██████████| 943/943 [00:01<00:00, 848.27it/s]\n"
     ]
    },
    {
     "name": "stdout",
     "output_type": "stream",
     "text": [
      "Epoch 16: train loss :   0.551255   val loss :   0.525044   val score :   0.304348\n"
     ]
    },
    {
     "name": "stderr",
     "output_type": "stream",
     "text": [
      "100%|██████████| 1/1 [00:00<00:00, 223.46it/s]\n",
      "100%|██████████| 4/4 [00:00<00:00, 77.80it/s]\n"
     ]
    },
    {
     "name": "stdout",
     "output_type": "stream",
     "text": [
      "------ repeat : 5 ------\n",
      "------ epoch:1 ------\n"
     ]
    },
    {
     "name": "stderr",
     "output_type": "stream",
     "text": [
      "100%|██████████| 281/281 [00:04<00:00, 62.61it/s]\n",
      "100%|██████████| 71/71 [00:00<00:00, 122.35it/s]\n",
      "100%|██████████| 943/943 [00:00<00:00, 1316.44it/s]\n"
     ]
    },
    {
     "name": "stdout",
     "output_type": "stream",
     "text": [
      "Epoch 1: train loss :   0.714279   val loss :   0.543331   val score :   0.258749\n",
      "------ epoch:2 ------\n"
     ]
    },
    {
     "name": "stderr",
     "output_type": "stream",
     "text": [
      "100%|██████████| 281/281 [00:04<00:00, 60.69it/s]\n",
      "100%|██████████| 71/71 [00:00<00:00, 110.44it/s]\n",
      "100%|██████████| 943/943 [00:00<00:00, 1972.28it/s]\n"
     ]
    },
    {
     "name": "stdout",
     "output_type": "stream",
     "text": [
      "Epoch 2: train loss :   0.690367   val loss :   0.544342   val score :   0.276776\n",
      "------ epoch:3 ------\n"
     ]
    },
    {
     "name": "stderr",
     "output_type": "stream",
     "text": [
      "100%|██████████| 281/281 [00:04<00:00, 67.50it/s]\n",
      "100%|██████████| 71/71 [00:00<00:00, 94.90it/s] \n",
      "100%|██████████| 943/943 [00:00<00:00, 1963.21it/s]\n"
     ]
    },
    {
     "name": "stdout",
     "output_type": "stream",
     "text": [
      "Epoch 3: train loss :   0.694622   val loss :   0.545465   val score :   0.271474\n",
      "------ epoch:4 ------\n"
     ]
    },
    {
     "name": "stderr",
     "output_type": "stream",
     "text": [
      "100%|██████████| 281/281 [00:04<00:00, 64.84it/s]\n",
      "100%|██████████| 71/71 [00:00<00:00, 91.86it/s] \n",
      "100%|██████████| 943/943 [00:00<00:00, 1973.78it/s]\n"
     ]
    },
    {
     "name": "stdout",
     "output_type": "stream",
     "text": [
      "Epoch 4: train loss :   0.690154   val loss :   0.545181   val score :   0.258749\n",
      "------ epoch:5 ------\n"
     ]
    },
    {
     "name": "stderr",
     "output_type": "stream",
     "text": [
      "100%|██████████| 281/281 [00:04<00:00, 66.08it/s]\n",
      "100%|██████████| 71/71 [00:00<00:00, 92.33it/s] \n",
      "100%|██████████| 943/943 [00:00<00:00, 1972.16it/s]\n"
     ]
    },
    {
     "name": "stdout",
     "output_type": "stream",
     "text": [
      "Epoch 5: train loss :   0.709707   val loss :   0.542809   val score :   0.264051\n",
      "Epoch 00005: reducing learning rate of group 0 to 1.0000e-02.\n",
      "------ epoch:6 ------\n"
     ]
    },
    {
     "name": "stderr",
     "output_type": "stream",
     "text": [
      "100%|██████████| 281/281 [00:04<00:00, 65.76it/s]\n",
      "100%|██████████| 71/71 [00:00<00:00, 95.39it/s] \n",
      "100%|██████████| 943/943 [00:00<00:00, 1935.10it/s]\n"
     ]
    },
    {
     "name": "stdout",
     "output_type": "stream",
     "text": [
      "Epoch 6: train loss :   0.588831   val loss :   0.527176   val score :   0.321315\n",
      "------ epoch:7 ------\n"
     ]
    },
    {
     "name": "stderr",
     "output_type": "stream",
     "text": [
      "100%|██████████| 281/281 [00:04<00:00, 67.70it/s]\n",
      "100%|██████████| 71/71 [00:00<00:00, 93.84it/s] \n",
      "100%|██████████| 943/943 [00:00<00:00, 1188.38it/s]\n"
     ]
    },
    {
     "name": "stdout",
     "output_type": "stream",
     "text": [
      "Epoch 7: train loss :   0.559399   val loss :   0.525837   val score :   0.339343\n",
      "------ epoch:8 ------\n"
     ]
    },
    {
     "name": "stderr",
     "output_type": "stream",
     "text": [
      "100%|██████████| 281/281 [00:04<00:00, 63.73it/s]\n",
      "100%|██████████| 71/71 [00:00<00:00, 125.78it/s]\n",
      "100%|██████████| 943/943 [00:00<00:00, 1856.66it/s]\n"
     ]
    },
    {
     "name": "stdout",
     "output_type": "stream",
     "text": [
      "Epoch 8: train loss :   0.557357   val loss :   0.525130   val score :   0.334040\n",
      "------ epoch:9 ------\n"
     ]
    },
    {
     "name": "stderr",
     "output_type": "stream",
     "text": [
      "100%|██████████| 281/281 [00:04<00:00, 63.83it/s]\n",
      "100%|██████████| 71/71 [00:00<00:00, 124.82it/s]\n",
      "100%|██████████| 943/943 [00:00<00:00, 1985.82it/s]\n"
     ]
    },
    {
     "name": "stdout",
     "output_type": "stream",
     "text": [
      "Epoch 9: train loss :   0.557045   val loss :   0.524914   val score :   0.337222\n",
      "------ epoch:10 ------\n"
     ]
    },
    {
     "name": "stderr",
     "output_type": "stream",
     "text": [
      "100%|██████████| 281/281 [00:04<00:00, 65.71it/s]\n",
      "100%|██████████| 71/71 [00:00<00:00, 95.80it/s] \n",
      "100%|██████████| 943/943 [00:00<00:00, 1972.53it/s]\n"
     ]
    },
    {
     "name": "stdout",
     "output_type": "stream",
     "text": [
      "Epoch 10: train loss :   0.556784   val loss :   0.525787   val score :   0.341463\n",
      "------ epoch:11 ------\n"
     ]
    },
    {
     "name": "stderr",
     "output_type": "stream",
     "text": [
      "100%|██████████| 281/281 [00:04<00:00, 64.58it/s]\n",
      "100%|██████████| 71/71 [00:00<00:00, 93.99it/s] \n",
      "100%|██████████| 943/943 [00:00<00:00, 1918.78it/s]\n"
     ]
    },
    {
     "name": "stdout",
     "output_type": "stream",
     "text": [
      "Epoch 11: train loss :   0.556978   val loss :   0.525670   val score :   0.342524\n",
      "------ epoch:12 ------\n"
     ]
    },
    {
     "name": "stderr",
     "output_type": "stream",
     "text": [
      "100%|██████████| 281/281 [00:04<00:00, 65.62it/s]\n",
      "100%|██████████| 71/71 [00:00<00:00, 95.16it/s] \n",
      "100%|██████████| 943/943 [00:00<00:00, 1956.57it/s]\n"
     ]
    },
    {
     "name": "stdout",
     "output_type": "stream",
     "text": [
      "Epoch 12: train loss :   0.556476   val loss :   0.525084   val score :   0.337222\n",
      "------ epoch:13 ------\n"
     ]
    },
    {
     "name": "stderr",
     "output_type": "stream",
     "text": [
      "100%|██████████| 281/281 [00:04<00:00, 67.19it/s]\n",
      "100%|██████████| 71/71 [00:00<00:00, 96.99it/s] \n",
      "100%|██████████| 943/943 [00:00<00:00, 1622.92it/s]\n"
     ]
    },
    {
     "name": "stdout",
     "output_type": "stream",
     "text": [
      "Epoch 13: train loss :   0.557367   val loss :   0.524500   val score :   0.338282\n",
      "------ epoch:14 ------\n"
     ]
    },
    {
     "name": "stderr",
     "output_type": "stream",
     "text": [
      "100%|██████████| 281/281 [00:04<00:00, 67.55it/s]\n",
      "100%|██████████| 71/71 [00:00<00:00, 93.55it/s] \n",
      "100%|██████████| 943/943 [00:00<00:00, 1304.29it/s]\n"
     ]
    },
    {
     "name": "stdout",
     "output_type": "stream",
     "text": [
      "Epoch 14: train loss :   0.556631   val loss :   0.525017   val score :   0.332980\n",
      "Epoch 00014: reducing learning rate of group 0 to 1.0000e-03.\n",
      "------ epoch:15 ------\n"
     ]
    },
    {
     "name": "stderr",
     "output_type": "stream",
     "text": [
      "100%|██████████| 281/281 [00:04<00:00, 65.69it/s]\n",
      "100%|██████████| 71/71 [00:00<00:00, 119.95it/s]\n",
      "100%|██████████| 943/943 [00:00<00:00, 1571.32it/s]\n"
     ]
    },
    {
     "name": "stdout",
     "output_type": "stream",
     "text": [
      "Epoch 15: train loss :   0.550845   val loss :   0.524954   val score :   0.332980\n"
     ]
    },
    {
     "name": "stderr",
     "output_type": "stream",
     "text": [
      "100%|██████████| 1/1 [00:00<00:00, 248.07it/s]\n",
      "100%|██████████| 4/4 [00:00<00:00, 98.84it/s]\n"
     ]
    }
   ],
   "source": [
    "embedding_dim = 10\n",
    "lr = 1e-1\n",
    "alpha = 1e-1\n",
    "model_type = 2\n",
    "seed_everything(42)\n",
    "ColdStartTest(train, test, power=power, model_type=model_type, num_users=num_users, num_items=num_items, repeats=5, \n",
    "     embedding_dim=embedding_dim, lr=lr, alpha=alpha, patience=3, epochs=30, device=\"cuda:0\", model_selection=False)"
   ]
  },
  {
   "cell_type": "markdown",
   "id": "220f16fb-3790-452f-9d52-19674e8f7126",
   "metadata": {},
   "source": [
    "### 3"
   ]
  },
  {
   "cell_type": "code",
   "execution_count": 16,
   "id": "6dff1fcb-d15e-4f28-827f-ff8db37464a1",
   "metadata": {
    "collapsed": true,
    "jupyter": {
     "outputs_hidden": true
    },
    "tags": []
   },
   "outputs": [
    {
     "name": "stdout",
     "output_type": "stream",
     "text": [
      "------ repeat : 1 ------\n",
      "------ epoch:1 ------\n"
     ]
    },
    {
     "name": "stderr",
     "output_type": "stream",
     "text": [
      "100%|██████████| 281/281 [00:05<00:00, 55.34it/s]\n",
      "100%|██████████| 71/71 [00:00<00:00, 105.93it/s]\n",
      "100%|██████████| 943/943 [00:00<00:00, 1976.33it/s]\n"
     ]
    },
    {
     "name": "stdout",
     "output_type": "stream",
     "text": [
      "Epoch 1: train loss :   0.714220   val loss :   0.545118   val score :   0.261930\n",
      "------ epoch:2 ------\n"
     ]
    },
    {
     "name": "stderr",
     "output_type": "stream",
     "text": [
      "100%|██████████| 281/281 [00:04<00:00, 63.57it/s]\n",
      "100%|██████████| 71/71 [00:00<00:00, 85.84it/s]\n",
      "100%|██████████| 943/943 [00:00<00:00, 1830.93it/s]\n"
     ]
    },
    {
     "name": "stdout",
     "output_type": "stream",
     "text": [
      "Epoch 2: train loss :   0.684513   val loss :   0.544554   val score :   0.254507\n",
      "------ epoch:3 ------\n"
     ]
    },
    {
     "name": "stderr",
     "output_type": "stream",
     "text": [
      "100%|██████████| 281/281 [00:04<00:00, 57.86it/s]\n",
      "100%|██████████| 71/71 [00:00<00:00, 89.00it/s] \n",
      "100%|██████████| 943/943 [00:00<00:00, 1121.92it/s]\n"
     ]
    },
    {
     "name": "stdout",
     "output_type": "stream",
     "text": [
      "Epoch 3: train loss :   0.702578   val loss :   0.543955   val score :   0.235419\n",
      "------ epoch:4 ------\n"
     ]
    },
    {
     "name": "stderr",
     "output_type": "stream",
     "text": [
      "100%|██████████| 281/281 [00:04<00:00, 57.23it/s]\n",
      "100%|██████████| 71/71 [00:00<00:00, 88.87it/s] \n",
      "100%|██████████| 943/943 [00:00<00:00, 1180.80it/s]\n"
     ]
    },
    {
     "name": "stdout",
     "output_type": "stream",
     "text": [
      "Epoch 4: train loss :   0.689552   val loss :   0.543059   val score :   0.255567\n",
      "Epoch 00004: reducing learning rate of group 0 to 1.0000e-02.\n",
      "------ epoch:5 ------\n"
     ]
    },
    {
     "name": "stderr",
     "output_type": "stream",
     "text": [
      "100%|██████████| 281/281 [00:04<00:00, 61.72it/s]\n",
      "100%|██████████| 71/71 [00:00<00:00, 94.22it/s] \n",
      "100%|██████████| 943/943 [00:00<00:00, 1509.71it/s]\n"
     ]
    },
    {
     "name": "stdout",
     "output_type": "stream",
     "text": [
      "Epoch 5: train loss :   0.589908   val loss :   0.526220   val score :   0.300106\n",
      "------ epoch:6 ------\n"
     ]
    },
    {
     "name": "stderr",
     "output_type": "stream",
     "text": [
      "100%|██████████| 281/281 [00:04<00:00, 65.10it/s]\n",
      "100%|██████████| 71/71 [00:00<00:00, 91.58it/s] \n",
      "100%|██████████| 943/943 [00:00<00:00, 1158.47it/s]\n"
     ]
    },
    {
     "name": "stdout",
     "output_type": "stream",
     "text": [
      "Epoch 6: train loss :   0.558763   val loss :   0.525165   val score :   0.299046\n",
      "------ epoch:7 ------\n"
     ]
    },
    {
     "name": "stderr",
     "output_type": "stream",
     "text": [
      "100%|██████████| 281/281 [00:05<00:00, 54.04it/s]\n",
      "100%|██████████| 71/71 [00:00<00:00, 113.18it/s]\n",
      "100%|██████████| 943/943 [00:00<00:00, 1670.33it/s]\n"
     ]
    },
    {
     "name": "stdout",
     "output_type": "stream",
     "text": [
      "Epoch 7: train loss :   0.557003   val loss :   0.525060   val score :   0.295864\n",
      "------ epoch:8 ------\n"
     ]
    },
    {
     "name": "stderr",
     "output_type": "stream",
     "text": [
      "100%|██████████| 281/281 [00:04<00:00, 62.56it/s]\n",
      "100%|██████████| 71/71 [00:00<00:00, 117.10it/s]\n",
      "100%|██████████| 943/943 [00:00<00:00, 1307.44it/s]\n"
     ]
    },
    {
     "name": "stdout",
     "output_type": "stream",
     "text": [
      "Epoch 8: train loss :   0.556514   val loss :   0.524731   val score :   0.293743\n",
      "Epoch 00008: reducing learning rate of group 0 to 1.0000e-03.\n",
      "------ epoch:9 ------\n"
     ]
    },
    {
     "name": "stderr",
     "output_type": "stream",
     "text": [
      "100%|██████████| 281/281 [00:04<00:00, 63.24it/s]\n",
      "100%|██████████| 71/71 [00:00<00:00, 86.05it/s]\n",
      "100%|██████████| 943/943 [00:00<00:00, 1419.98it/s]\n"
     ]
    },
    {
     "name": "stdout",
     "output_type": "stream",
     "text": [
      "Epoch 9: train loss :   0.550789   val loss :   0.524881   val score :   0.295864\n"
     ]
    },
    {
     "name": "stderr",
     "output_type": "stream",
     "text": [
      "100%|██████████| 1/1 [00:00<00:00, 286.16it/s]\n",
      "100%|██████████| 4/4 [00:00<00:00, 203.44it/s]\n"
     ]
    },
    {
     "name": "stdout",
     "output_type": "stream",
     "text": [
      "------ repeat : 2 ------\n",
      "------ epoch:1 ------\n"
     ]
    },
    {
     "name": "stderr",
     "output_type": "stream",
     "text": [
      "100%|██████████| 281/281 [00:04<00:00, 61.38it/s]\n",
      "100%|██████████| 71/71 [00:00<00:00, 88.91it/s] \n",
      "100%|██████████| 943/943 [00:00<00:00, 1413.41it/s]\n"
     ]
    },
    {
     "name": "stdout",
     "output_type": "stream",
     "text": [
      "Epoch 1: train loss :   0.713084   val loss :   0.544182   val score :   0.246023\n",
      "------ epoch:2 ------\n"
     ]
    },
    {
     "name": "stderr",
     "output_type": "stream",
     "text": [
      "100%|██████████| 281/281 [00:04<00:00, 65.23it/s]\n",
      "100%|██████████| 71/71 [00:00<00:00, 93.37it/s] \n",
      "100%|██████████| 943/943 [00:00<00:00, 1069.64it/s]\n"
     ]
    },
    {
     "name": "stdout",
     "output_type": "stream",
     "text": [
      "Epoch 2: train loss :   0.693045   val loss :   0.547247   val score :   0.250265\n",
      "------ epoch:3 ------\n"
     ]
    },
    {
     "name": "stderr",
     "output_type": "stream",
     "text": [
      "100%|██████████| 281/281 [00:04<00:00, 65.23it/s]\n",
      "100%|██████████| 71/71 [00:00<00:00, 84.57it/s]\n",
      "100%|██████████| 943/943 [00:00<00:00, 1929.17it/s]\n"
     ]
    },
    {
     "name": "stdout",
     "output_type": "stream",
     "text": [
      "Epoch 3: train loss :   0.699139   val loss :   0.546228   val score :   0.236479\n",
      "------ epoch:4 ------\n"
     ]
    },
    {
     "name": "stderr",
     "output_type": "stream",
     "text": [
      "100%|██████████| 281/281 [00:04<00:00, 62.99it/s]\n",
      "100%|██████████| 71/71 [00:00<00:00, 92.13it/s] \n",
      "100%|██████████| 943/943 [00:00<00:00, 1361.62it/s]\n"
     ]
    },
    {
     "name": "stdout",
     "output_type": "stream",
     "text": [
      "Epoch 4: train loss :   0.690605   val loss :   0.545727   val score :   0.253446\n",
      "------ epoch:5 ------\n"
     ]
    },
    {
     "name": "stderr",
     "output_type": "stream",
     "text": [
      "100%|██████████| 281/281 [00:04<00:00, 63.64it/s]\n",
      "100%|██████████| 71/71 [00:00<00:00, 119.65it/s]\n",
      "100%|██████████| 943/943 [00:01<00:00, 788.79it/s] \n"
     ]
    },
    {
     "name": "stdout",
     "output_type": "stream",
     "text": [
      "Epoch 5: train loss :   0.695053   val loss :   0.544914   val score :   0.255567\n",
      "------ epoch:6 ------\n"
     ]
    },
    {
     "name": "stderr",
     "output_type": "stream",
     "text": [
      "100%|██████████| 281/281 [00:04<00:00, 66.49it/s]\n",
      "100%|██████████| 71/71 [00:00<00:00, 123.20it/s]\n",
      "100%|██████████| 943/943 [00:00<00:00, 2054.09it/s]\n"
     ]
    },
    {
     "name": "stdout",
     "output_type": "stream",
     "text": [
      "Epoch 6: train loss :   0.700448   val loss :   0.547010   val score :   0.253446\n",
      "------ epoch:7 ------\n"
     ]
    },
    {
     "name": "stderr",
     "output_type": "stream",
     "text": [
      "100%|██████████| 281/281 [00:04<00:00, 60.17it/s]\n",
      "100%|██████████| 71/71 [00:00<00:00, 93.11it/s] \n",
      "100%|██████████| 943/943 [00:00<00:00, 1510.33it/s]\n"
     ]
    },
    {
     "name": "stdout",
     "output_type": "stream",
     "text": [
      "Epoch 7: train loss :   0.696799   val loss :   0.543568   val score :   0.239661\n",
      "------ epoch:8 ------\n"
     ]
    },
    {
     "name": "stderr",
     "output_type": "stream",
     "text": [
      "100%|██████████| 281/281 [00:04<00:00, 61.77it/s]\n",
      "100%|██████████| 71/71 [00:00<00:00, 89.03it/s] \n",
      "100%|██████████| 943/943 [00:00<00:00, 1619.49it/s]\n"
     ]
    },
    {
     "name": "stdout",
     "output_type": "stream",
     "text": [
      "Epoch 8: train loss :   0.696495   val loss :   0.542823   val score :   0.222694\n",
      "Epoch 00008: reducing learning rate of group 0 to 1.0000e-02.\n",
      "------ epoch:9 ------\n"
     ]
    },
    {
     "name": "stderr",
     "output_type": "stream",
     "text": [
      "100%|██████████| 281/281 [00:04<00:00, 65.51it/s]\n",
      "100%|██████████| 71/71 [00:00<00:00, 96.47it/s] \n",
      "100%|██████████| 943/943 [00:01<00:00, 919.25it/s] \n"
     ]
    },
    {
     "name": "stdout",
     "output_type": "stream",
     "text": [
      "Epoch 9: train loss :   0.588825   val loss :   0.526739   val score :   0.282078\n",
      "------ epoch:10 ------\n"
     ]
    },
    {
     "name": "stderr",
     "output_type": "stream",
     "text": [
      "100%|██████████| 281/281 [00:05<00:00, 52.13it/s]\n",
      "100%|██████████| 71/71 [00:00<00:00, 93.84it/s] \n",
      "100%|██████████| 943/943 [00:00<00:00, 1801.43it/s]\n"
     ]
    },
    {
     "name": "stdout",
     "output_type": "stream",
     "text": [
      "Epoch 10: train loss :   0.559027   val loss :   0.525285   val score :   0.302227\n",
      "------ epoch:11 ------\n"
     ]
    },
    {
     "name": "stderr",
     "output_type": "stream",
     "text": [
      "100%|██████████| 281/281 [00:04<00:00, 68.64it/s]\n",
      "100%|██████████| 71/71 [00:00<00:00, 96.10it/s] \n",
      "100%|██████████| 943/943 [00:00<00:00, 1972.80it/s]\n"
     ]
    },
    {
     "name": "stdout",
     "output_type": "stream",
     "text": [
      "Epoch 11: train loss :   0.558074   val loss :   0.524851   val score :   0.305408\n",
      "------ epoch:12 ------\n"
     ]
    },
    {
     "name": "stderr",
     "output_type": "stream",
     "text": [
      "100%|██████████| 281/281 [00:04<00:00, 65.26it/s]\n",
      "100%|██████████| 71/71 [00:00<00:00, 117.79it/s]\n",
      "100%|██████████| 943/943 [00:00<00:00, 2072.56it/s]\n"
     ]
    },
    {
     "name": "stdout",
     "output_type": "stream",
     "text": [
      "Epoch 12: train loss :   0.557007   val loss :   0.524340   val score :   0.300106\n",
      "------ epoch:13 ------\n"
     ]
    },
    {
     "name": "stderr",
     "output_type": "stream",
     "text": [
      "100%|██████████| 281/281 [00:04<00:00, 63.49it/s]\n",
      "100%|██████████| 71/71 [00:00<00:00, 122.11it/s]\n",
      "100%|██████████| 943/943 [00:00<00:00, 2004.46it/s]\n"
     ]
    },
    {
     "name": "stdout",
     "output_type": "stream",
     "text": [
      "Epoch 13: train loss :   0.557210   val loss :   0.524839   val score :   0.300106\n",
      "------ epoch:14 ------\n"
     ]
    },
    {
     "name": "stderr",
     "output_type": "stream",
     "text": [
      "100%|██████████| 281/281 [00:04<00:00, 66.24it/s]\n",
      "100%|██████████| 71/71 [00:00<00:00, 94.93it/s] \n",
      "100%|██████████| 943/943 [00:00<00:00, 1704.22it/s]\n"
     ]
    },
    {
     "name": "stdout",
     "output_type": "stream",
     "text": [
      "Epoch 14: train loss :   0.556453   val loss :   0.525001   val score :   0.297985\n",
      "Epoch 00014: reducing learning rate of group 0 to 1.0000e-03.\n",
      "------ epoch:15 ------\n"
     ]
    },
    {
     "name": "stderr",
     "output_type": "stream",
     "text": [
      "100%|██████████| 281/281 [00:04<00:00, 66.82it/s]\n",
      "100%|██████████| 71/71 [00:00<00:00, 92.28it/s] \n",
      "100%|██████████| 943/943 [00:00<00:00, 1181.35it/s]\n"
     ]
    },
    {
     "name": "stdout",
     "output_type": "stream",
     "text": [
      "Epoch 15: train loss :   0.552183   val loss :   0.525021   val score :   0.299046\n"
     ]
    },
    {
     "name": "stderr",
     "output_type": "stream",
     "text": [
      "100%|██████████| 1/1 [00:00<00:00, 283.96it/s]\n",
      "100%|██████████| 4/4 [00:00<00:00, 97.46it/s]\n"
     ]
    },
    {
     "name": "stdout",
     "output_type": "stream",
     "text": [
      "------ repeat : 3 ------\n",
      "------ epoch:1 ------\n"
     ]
    },
    {
     "name": "stderr",
     "output_type": "stream",
     "text": [
      "100%|██████████| 281/281 [00:04<00:00, 60.31it/s]\n",
      "100%|██████████| 71/71 [00:00<00:00, 95.48it/s] \n",
      "100%|██████████| 943/943 [00:00<00:00, 1647.52it/s]\n"
     ]
    },
    {
     "name": "stdout",
     "output_type": "stream",
     "text": [
      "Epoch 1: train loss :   0.714634   val loss :   0.543383   val score :   0.254507\n",
      "------ epoch:2 ------\n"
     ]
    },
    {
     "name": "stderr",
     "output_type": "stream",
     "text": [
      "100%|██████████| 281/281 [00:04<00:00, 64.91it/s]\n",
      "100%|██████████| 71/71 [00:00<00:00, 94.68it/s] \n",
      "100%|██████████| 943/943 [00:00<00:00, 1362.38it/s]\n"
     ]
    },
    {
     "name": "stdout",
     "output_type": "stream",
     "text": [
      "Epoch 2: train loss :   0.686188   val loss :   0.546977   val score :   0.287381\n",
      "------ epoch:3 ------\n"
     ]
    },
    {
     "name": "stderr",
     "output_type": "stream",
     "text": [
      "100%|██████████| 281/281 [00:04<00:00, 65.13it/s]\n",
      "100%|██████████| 71/71 [00:00<00:00, 93.50it/s] \n",
      "100%|██████████| 943/943 [00:00<00:00, 1276.70it/s]\n"
     ]
    },
    {
     "name": "stdout",
     "output_type": "stream",
     "text": [
      "Epoch 3: train loss :   0.698800   val loss :   0.547231   val score :   0.268293\n",
      "------ epoch:4 ------\n"
     ]
    },
    {
     "name": "stderr",
     "output_type": "stream",
     "text": [
      "100%|██████████| 281/281 [00:04<00:00, 62.41it/s]\n",
      "100%|██████████| 71/71 [00:00<00:00, 115.86it/s]\n",
      "100%|██████████| 943/943 [00:00<00:00, 1266.93it/s]\n"
     ]
    },
    {
     "name": "stdout",
     "output_type": "stream",
     "text": [
      "Epoch 4: train loss :   0.698394   val loss :   0.541794   val score :   0.276776\n",
      "------ epoch:5 ------\n"
     ]
    },
    {
     "name": "stderr",
     "output_type": "stream",
     "text": [
      "100%|██████████| 281/281 [00:04<00:00, 60.90it/s]\n",
      "100%|██████████| 71/71 [00:00<00:00, 117.16it/s]\n",
      "100%|██████████| 943/943 [00:00<00:00, 1158.86it/s]\n"
     ]
    },
    {
     "name": "stdout",
     "output_type": "stream",
     "text": [
      "Epoch 5: train loss :   0.696444   val loss :   0.545248   val score :   0.287381\n",
      "Epoch 00005: reducing learning rate of group 0 to 1.0000e-02.\n",
      "------ epoch:6 ------\n"
     ]
    },
    {
     "name": "stderr",
     "output_type": "stream",
     "text": [
      "100%|██████████| 281/281 [00:04<00:00, 63.32it/s]\n",
      "100%|██████████| 71/71 [00:00<00:00, 80.13it/s]\n",
      "100%|██████████| 943/943 [00:00<00:00, 1212.94it/s]\n"
     ]
    },
    {
     "name": "stdout",
     "output_type": "stream",
     "text": [
      "Epoch 6: train loss :   0.591086   val loss :   0.525965   val score :   0.338282\n",
      "------ epoch:7 ------\n"
     ]
    },
    {
     "name": "stderr",
     "output_type": "stream",
     "text": [
      "100%|██████████| 281/281 [00:04<00:00, 61.06it/s]\n",
      "100%|██████████| 71/71 [00:00<00:00, 81.75it/s]\n",
      "100%|██████████| 943/943 [00:00<00:00, 1932.54it/s]\n"
     ]
    },
    {
     "name": "stdout",
     "output_type": "stream",
     "text": [
      "Epoch 7: train loss :   0.558664   val loss :   0.525204   val score :   0.345705\n",
      "------ epoch:8 ------\n"
     ]
    },
    {
     "name": "stderr",
     "output_type": "stream",
     "text": [
      "100%|██████████| 281/281 [00:04<00:00, 65.89it/s]\n",
      "100%|██████████| 71/71 [00:00<00:00, 92.81it/s] \n",
      "100%|██████████| 943/943 [00:00<00:00, 1813.67it/s]\n"
     ]
    },
    {
     "name": "stdout",
     "output_type": "stream",
     "text": [
      "Epoch 8: train loss :   0.559547   val loss :   0.525311   val score :   0.343584\n",
      "------ epoch:9 ------\n"
     ]
    },
    {
     "name": "stderr",
     "output_type": "stream",
     "text": [
      "100%|██████████| 281/281 [00:04<00:00, 65.09it/s]\n",
      "100%|██████████| 71/71 [00:00<00:00, 92.65it/s] \n",
      "100%|██████████| 943/943 [00:00<00:00, 1721.33it/s]\n"
     ]
    },
    {
     "name": "stdout",
     "output_type": "stream",
     "text": [
      "Epoch 9: train loss :   0.557429   val loss :   0.525136   val score :   0.339343\n",
      "------ epoch:10 ------\n"
     ]
    },
    {
     "name": "stderr",
     "output_type": "stream",
     "text": [
      "100%|██████████| 281/281 [00:04<00:00, 62.98it/s]\n",
      "100%|██████████| 71/71 [00:00<00:00, 92.59it/s] \n",
      "100%|██████████| 943/943 [00:00<00:00, 1983.08it/s]\n"
     ]
    },
    {
     "name": "stdout",
     "output_type": "stream",
     "text": [
      "Epoch 10: train loss :   0.556995   val loss :   0.525365   val score :   0.346766\n",
      "------ epoch:11 ------\n"
     ]
    },
    {
     "name": "stderr",
     "output_type": "stream",
     "text": [
      "100%|██████████| 281/281 [00:04<00:00, 62.98it/s]\n",
      "100%|██████████| 71/71 [00:00<00:00, 111.63it/s]\n",
      "100%|██████████| 943/943 [00:00<00:00, 1468.86it/s]\n"
     ]
    },
    {
     "name": "stdout",
     "output_type": "stream",
     "text": [
      "Epoch 11: train loss :   0.556726   val loss :   0.525193   val score :   0.336161\n",
      "------ epoch:12 ------\n"
     ]
    },
    {
     "name": "stderr",
     "output_type": "stream",
     "text": [
      "100%|██████████| 281/281 [00:04<00:00, 58.40it/s]\n",
      "100%|██████████| 71/71 [00:00<00:00, 116.84it/s]\n",
      "100%|██████████| 943/943 [00:00<00:00, 2043.43it/s]\n"
     ]
    },
    {
     "name": "stdout",
     "output_type": "stream",
     "text": [
      "Epoch 12: train loss :   0.556948   val loss :   0.525178   val score :   0.338282\n",
      "------ epoch:13 ------\n"
     ]
    },
    {
     "name": "stderr",
     "output_type": "stream",
     "text": [
      "100%|██████████| 281/281 [00:04<00:00, 63.36it/s]\n",
      "100%|██████████| 71/71 [00:00<00:00, 86.92it/s]\n",
      "100%|██████████| 943/943 [00:00<00:00, 1017.01it/s]\n"
     ]
    },
    {
     "name": "stdout",
     "output_type": "stream",
     "text": [
      "Epoch 13: train loss :   0.556657   val loss :   0.524996   val score :   0.336161\n",
      "Epoch 00013: reducing learning rate of group 0 to 1.0000e-03.\n",
      "------ epoch:14 ------\n"
     ]
    },
    {
     "name": "stderr",
     "output_type": "stream",
     "text": [
      "100%|██████████| 281/281 [00:05<00:00, 55.64it/s]\n",
      "100%|██████████| 71/71 [00:01<00:00, 50.61it/s]\n",
      "100%|██████████| 943/943 [00:00<00:00, 1575.78it/s]\n"
     ]
    },
    {
     "name": "stdout",
     "output_type": "stream",
     "text": [
      "Epoch 14: train loss :   0.551353   val loss :   0.524986   val score :   0.332980\n"
     ]
    },
    {
     "name": "stderr",
     "output_type": "stream",
     "text": [
      "100%|██████████| 1/1 [00:00<00:00, 196.04it/s]\n",
      "100%|██████████| 4/4 [00:00<00:00, 111.37it/s]\n"
     ]
    },
    {
     "name": "stdout",
     "output_type": "stream",
     "text": [
      "------ repeat : 4 ------\n",
      "------ epoch:1 ------\n"
     ]
    },
    {
     "name": "stderr",
     "output_type": "stream",
     "text": [
      "100%|██████████| 281/281 [00:04<00:00, 63.21it/s]\n",
      "100%|██████████| 71/71 [00:00<00:00, 90.62it/s] \n",
      "100%|██████████| 943/943 [00:00<00:00, 2226.86it/s]\n"
     ]
    },
    {
     "name": "stdout",
     "output_type": "stream",
     "text": [
      "Epoch 1: train loss :   0.713301   val loss :   0.547524   val score :   0.247084\n",
      "------ epoch:2 ------\n"
     ]
    },
    {
     "name": "stderr",
     "output_type": "stream",
     "text": [
      "100%|██████████| 281/281 [00:04<00:00, 63.88it/s]\n",
      "100%|██████████| 71/71 [00:00<00:00, 93.83it/s] \n",
      "100%|██████████| 943/943 [00:00<00:00, 1136.44it/s]\n"
     ]
    },
    {
     "name": "stdout",
     "output_type": "stream",
     "text": [
      "Epoch 2: train loss :   0.690915   val loss :   0.542524   val score :   0.262990\n",
      "------ epoch:3 ------\n"
     ]
    },
    {
     "name": "stderr",
     "output_type": "stream",
     "text": [
      "100%|██████████| 281/281 [00:04<00:00, 66.54it/s]\n",
      "100%|██████████| 71/71 [00:00<00:00, 95.76it/s] \n",
      "100%|██████████| 943/943 [00:00<00:00, 2238.08it/s]\n"
     ]
    },
    {
     "name": "stdout",
     "output_type": "stream",
     "text": [
      "Epoch 3: train loss :   0.691656   val loss :   0.545271   val score :   0.254507\n",
      "------ epoch:4 ------\n"
     ]
    },
    {
     "name": "stderr",
     "output_type": "stream",
     "text": [
      "100%|██████████| 281/281 [00:04<00:00, 65.41it/s]\n",
      "100%|██████████| 71/71 [00:00<00:00, 118.61it/s]\n",
      "100%|██████████| 943/943 [00:00<00:00, 2060.14it/s]\n"
     ]
    },
    {
     "name": "stdout",
     "output_type": "stream",
     "text": [
      "Epoch 4: train loss :   0.697180   val loss :   0.545044   val score :   0.250265\n",
      "------ epoch:5 ------\n"
     ]
    },
    {
     "name": "stderr",
     "output_type": "stream",
     "text": [
      "100%|██████████| 281/281 [00:04<00:00, 61.74it/s]\n",
      "100%|██████████| 71/71 [00:00<00:00, 116.99it/s]\n",
      "100%|██████████| 943/943 [00:00<00:00, 2122.79it/s]\n"
     ]
    },
    {
     "name": "stdout",
     "output_type": "stream",
     "text": [
      "Epoch 5: train loss :   0.698782   val loss :   0.543392   val score :   0.270414\n",
      "------ epoch:6 ------\n"
     ]
    },
    {
     "name": "stderr",
     "output_type": "stream",
     "text": [
      "100%|██████████| 281/281 [00:04<00:00, 61.84it/s]\n",
      "100%|██████████| 71/71 [00:00<00:00, 99.70it/s] \n",
      "100%|██████████| 943/943 [00:00<00:00, 1965.59it/s]\n"
     ]
    },
    {
     "name": "stdout",
     "output_type": "stream",
     "text": [
      "Epoch 6: train loss :   0.687232   val loss :   0.545643   val score :   0.234358\n",
      "------ epoch:7 ------\n"
     ]
    },
    {
     "name": "stderr",
     "output_type": "stream",
     "text": [
      "100%|██████████| 281/281 [00:03<00:00, 84.85it/s]\n",
      "100%|██████████| 71/71 [00:00<00:00, 107.68it/s]\n",
      "100%|██████████| 943/943 [00:00<00:00, 2182.55it/s]\n"
     ]
    },
    {
     "name": "stdout",
     "output_type": "stream",
     "text": [
      "Epoch 7: train loss :   0.687024   val loss :   0.547414   val score :   0.232238\n",
      "------ epoch:8 ------\n"
     ]
    },
    {
     "name": "stderr",
     "output_type": "stream",
     "text": [
      "100%|██████████| 281/281 [00:03<00:00, 72.82it/s]\n",
      "100%|██████████| 71/71 [00:00<00:00, 103.15it/s]\n",
      "100%|██████████| 943/943 [00:00<00:00, 2271.74it/s]\n"
     ]
    },
    {
     "name": "stdout",
     "output_type": "stream",
     "text": [
      "Epoch 8: train loss :   0.720614   val loss :   0.545643   val score :   0.242842\n",
      "Epoch 00008: reducing learning rate of group 0 to 1.0000e-02.\n",
      "------ epoch:9 ------\n"
     ]
    },
    {
     "name": "stderr",
     "output_type": "stream",
     "text": [
      "100%|██████████| 281/281 [00:04<00:00, 69.76it/s]\n",
      "100%|██████████| 71/71 [00:00<00:00, 104.45it/s]\n",
      "100%|██████████| 943/943 [00:00<00:00, 2206.23it/s]\n"
     ]
    },
    {
     "name": "stdout",
     "output_type": "stream",
     "text": [
      "Epoch 9: train loss :   0.594872   val loss :   0.527315   val score :   0.288441\n",
      "------ epoch:10 ------\n"
     ]
    },
    {
     "name": "stderr",
     "output_type": "stream",
     "text": [
      "100%|██████████| 281/281 [00:03<00:00, 72.04it/s]\n",
      "100%|██████████| 71/71 [00:00<00:00, 104.23it/s]\n",
      "100%|██████████| 943/943 [00:00<00:00, 1492.54it/s]\n"
     ]
    },
    {
     "name": "stdout",
     "output_type": "stream",
     "text": [
      "Epoch 10: train loss :   0.559143   val loss :   0.525939   val score :   0.297985\n",
      "------ epoch:11 ------\n"
     ]
    },
    {
     "name": "stderr",
     "output_type": "stream",
     "text": [
      "100%|██████████| 281/281 [00:03<00:00, 73.26it/s]\n",
      "100%|██████████| 71/71 [00:00<00:00, 134.43it/s]\n",
      "100%|██████████| 943/943 [00:00<00:00, 1321.69it/s]\n"
     ]
    },
    {
     "name": "stdout",
     "output_type": "stream",
     "text": [
      "Epoch 11: train loss :   0.557973   val loss :   0.525170   val score :   0.305408\n",
      "------ epoch:12 ------\n"
     ]
    },
    {
     "name": "stderr",
     "output_type": "stream",
     "text": [
      "100%|██████████| 281/281 [00:03<00:00, 74.14it/s]\n",
      "100%|██████████| 71/71 [00:00<00:00, 132.40it/s]\n",
      "100%|██████████| 943/943 [00:00<00:00, 2356.89it/s]\n"
     ]
    },
    {
     "name": "stdout",
     "output_type": "stream",
     "text": [
      "Epoch 12: train loss :   0.556684   val loss :   0.525017   val score :   0.310710\n",
      "------ epoch:13 ------\n"
     ]
    },
    {
     "name": "stderr",
     "output_type": "stream",
     "text": [
      "100%|██████████| 281/281 [00:03<00:00, 77.07it/s]\n",
      "100%|██████████| 71/71 [00:00<00:00, 99.20it/s] \n",
      "100%|██████████| 943/943 [00:00<00:00, 1594.97it/s]\n"
     ]
    },
    {
     "name": "stdout",
     "output_type": "stream",
     "text": [
      "Epoch 13: train loss :   0.557051   val loss :   0.524967   val score :   0.305408\n",
      "------ epoch:14 ------\n"
     ]
    },
    {
     "name": "stderr",
     "output_type": "stream",
     "text": [
      "100%|██████████| 281/281 [00:04<00:00, 61.70it/s]\n",
      "100%|██████████| 71/71 [00:00<00:00, 96.12it/s] \n",
      "100%|██████████| 943/943 [00:00<00:00, 1732.95it/s]\n"
     ]
    },
    {
     "name": "stdout",
     "output_type": "stream",
     "text": [
      "Epoch 14: train loss :   0.556890   val loss :   0.525143   val score :   0.309650\n",
      "------ epoch:15 ------\n"
     ]
    },
    {
     "name": "stderr",
     "output_type": "stream",
     "text": [
      "100%|██████████| 281/281 [00:04<00:00, 66.53it/s]\n",
      "100%|██████████| 71/71 [00:00<00:00, 101.01it/s]\n",
      "100%|██████████| 943/943 [00:00<00:00, 1531.43it/s]\n"
     ]
    },
    {
     "name": "stdout",
     "output_type": "stream",
     "text": [
      "Epoch 15: train loss :   0.557034   val loss :   0.525149   val score :   0.304348\n",
      "Epoch 00015: reducing learning rate of group 0 to 1.0000e-03.\n",
      "------ epoch:16 ------\n"
     ]
    },
    {
     "name": "stderr",
     "output_type": "stream",
     "text": [
      "100%|██████████| 281/281 [00:03<00:00, 71.08it/s]\n",
      "100%|██████████| 71/71 [00:00<00:00, 100.52it/s]\n",
      "100%|██████████| 943/943 [00:00<00:00, 1581.73it/s]\n"
     ]
    },
    {
     "name": "stdout",
     "output_type": "stream",
     "text": [
      "Epoch 16: train loss :   0.551255   val loss :   0.525044   val score :   0.304348\n"
     ]
    },
    {
     "name": "stderr",
     "output_type": "stream",
     "text": [
      "100%|██████████| 1/1 [00:00<00:00, 303.94it/s]\n",
      "100%|██████████| 4/4 [00:00<00:00, 106.59it/s]\n"
     ]
    },
    {
     "name": "stdout",
     "output_type": "stream",
     "text": [
      "------ repeat : 5 ------\n",
      "------ epoch:1 ------\n"
     ]
    },
    {
     "name": "stderr",
     "output_type": "stream",
     "text": [
      "100%|██████████| 281/281 [00:04<00:00, 66.70it/s]\n",
      "100%|██████████| 71/71 [00:00<00:00, 95.92it/s] \n",
      "100%|██████████| 943/943 [00:00<00:00, 1231.39it/s]\n"
     ]
    },
    {
     "name": "stdout",
     "output_type": "stream",
     "text": [
      "Epoch 1: train loss :   0.714279   val loss :   0.543331   val score :   0.258749\n",
      "------ epoch:2 ------\n"
     ]
    },
    {
     "name": "stderr",
     "output_type": "stream",
     "text": [
      "100%|██████████| 281/281 [00:04<00:00, 67.87it/s]\n",
      "100%|██████████| 71/71 [00:00<00:00, 124.70it/s]\n",
      "100%|██████████| 943/943 [00:00<00:00, 2006.51it/s]\n"
     ]
    },
    {
     "name": "stdout",
     "output_type": "stream",
     "text": [
      "Epoch 2: train loss :   0.690367   val loss :   0.544342   val score :   0.276776\n",
      "------ epoch:3 ------\n"
     ]
    },
    {
     "name": "stderr",
     "output_type": "stream",
     "text": [
      "100%|██████████| 281/281 [00:04<00:00, 58.52it/s]\n",
      "100%|██████████| 71/71 [00:00<00:00, 122.31it/s]\n",
      "100%|██████████| 943/943 [00:00<00:00, 1199.83it/s]\n"
     ]
    },
    {
     "name": "stdout",
     "output_type": "stream",
     "text": [
      "Epoch 3: train loss :   0.694622   val loss :   0.545465   val score :   0.271474\n",
      "------ epoch:4 ------\n"
     ]
    },
    {
     "name": "stderr",
     "output_type": "stream",
     "text": [
      "100%|██████████| 281/281 [00:04<00:00, 63.84it/s]\n",
      "100%|██████████| 71/71 [00:00<00:00, 96.40it/s] \n",
      "100%|██████████| 943/943 [00:00<00:00, 1273.79it/s]\n"
     ]
    },
    {
     "name": "stdout",
     "output_type": "stream",
     "text": [
      "Epoch 4: train loss :   0.690154   val loss :   0.545181   val score :   0.258749\n",
      "------ epoch:5 ------\n"
     ]
    },
    {
     "name": "stderr",
     "output_type": "stream",
     "text": [
      "100%|██████████| 281/281 [00:04<00:00, 59.99it/s]\n",
      "100%|██████████| 71/71 [00:00<00:00, 96.24it/s] \n",
      "100%|██████████| 943/943 [00:00<00:00, 1821.08it/s]\n"
     ]
    },
    {
     "name": "stdout",
     "output_type": "stream",
     "text": [
      "Epoch 5: train loss :   0.709707   val loss :   0.542809   val score :   0.264051\n",
      "Epoch 00005: reducing learning rate of group 0 to 1.0000e-02.\n",
      "------ epoch:6 ------\n"
     ]
    },
    {
     "name": "stderr",
     "output_type": "stream",
     "text": [
      "100%|██████████| 281/281 [00:04<00:00, 64.56it/s]\n",
      "100%|██████████| 71/71 [00:00<00:00, 92.35it/s] \n",
      "100%|██████████| 943/943 [00:00<00:00, 1812.88it/s]\n"
     ]
    },
    {
     "name": "stdout",
     "output_type": "stream",
     "text": [
      "Epoch 6: train loss :   0.588831   val loss :   0.527176   val score :   0.321315\n",
      "------ epoch:7 ------\n"
     ]
    },
    {
     "name": "stderr",
     "output_type": "stream",
     "text": [
      "100%|██████████| 281/281 [00:04<00:00, 64.13it/s]\n",
      "100%|██████████| 71/71 [00:00<00:00, 84.52it/s] \n",
      "100%|██████████| 943/943 [00:00<00:00, 1592.18it/s]\n"
     ]
    },
    {
     "name": "stdout",
     "output_type": "stream",
     "text": [
      "Epoch 7: train loss :   0.559399   val loss :   0.525837   val score :   0.339343\n",
      "------ epoch:8 ------\n"
     ]
    },
    {
     "name": "stderr",
     "output_type": "stream",
     "text": [
      "100%|██████████| 281/281 [00:04<00:00, 61.54it/s]\n",
      "100%|██████████| 71/71 [00:00<00:00, 78.02it/s]\n",
      "100%|██████████| 943/943 [00:00<00:00, 1896.75it/s]\n"
     ]
    },
    {
     "name": "stdout",
     "output_type": "stream",
     "text": [
      "Epoch 8: train loss :   0.557357   val loss :   0.525130   val score :   0.334040\n",
      "------ epoch:9 ------\n"
     ]
    },
    {
     "name": "stderr",
     "output_type": "stream",
     "text": [
      "100%|██████████| 281/281 [00:04<00:00, 62.65it/s]\n",
      "100%|██████████| 71/71 [00:00<00:00, 114.92it/s]\n",
      "100%|██████████| 943/943 [00:00<00:00, 1889.49it/s]\n"
     ]
    },
    {
     "name": "stdout",
     "output_type": "stream",
     "text": [
      "Epoch 9: train loss :   0.557045   val loss :   0.524914   val score :   0.337222\n",
      "------ epoch:10 ------\n"
     ]
    },
    {
     "name": "stderr",
     "output_type": "stream",
     "text": [
      "100%|██████████| 281/281 [00:04<00:00, 59.80it/s]\n",
      "100%|██████████| 71/71 [00:00<00:00, 113.40it/s]\n",
      "100%|██████████| 943/943 [00:00<00:00, 1969.83it/s]\n"
     ]
    },
    {
     "name": "stdout",
     "output_type": "stream",
     "text": [
      "Epoch 10: train loss :   0.556784   val loss :   0.525787   val score :   0.341463\n",
      "------ epoch:11 ------\n"
     ]
    },
    {
     "name": "stderr",
     "output_type": "stream",
     "text": [
      "100%|██████████| 281/281 [00:04<00:00, 62.79it/s]\n",
      "100%|██████████| 71/71 [00:00<00:00, 88.49it/s]\n",
      "100%|██████████| 943/943 [00:00<00:00, 2070.50it/s]\n"
     ]
    },
    {
     "name": "stdout",
     "output_type": "stream",
     "text": [
      "Epoch 11: train loss :   0.556978   val loss :   0.525670   val score :   0.342524\n",
      "------ epoch:12 ------\n"
     ]
    },
    {
     "name": "stderr",
     "output_type": "stream",
     "text": [
      "100%|██████████| 281/281 [00:04<00:00, 61.32it/s]\n",
      "100%|██████████| 71/71 [00:00<00:00, 87.41it/s] \n",
      "100%|██████████| 943/943 [00:00<00:00, 2151.16it/s]\n"
     ]
    },
    {
     "name": "stdout",
     "output_type": "stream",
     "text": [
      "Epoch 12: train loss :   0.556476   val loss :   0.525084   val score :   0.337222\n",
      "------ epoch:13 ------\n"
     ]
    },
    {
     "name": "stderr",
     "output_type": "stream",
     "text": [
      "100%|██████████| 281/281 [00:04<00:00, 61.87it/s]\n",
      "100%|██████████| 71/71 [00:00<00:00, 88.45it/s] \n",
      "100%|██████████| 943/943 [00:00<00:00, 1118.58it/s]\n"
     ]
    },
    {
     "name": "stdout",
     "output_type": "stream",
     "text": [
      "Epoch 13: train loss :   0.557367   val loss :   0.524500   val score :   0.338282\n",
      "------ epoch:14 ------\n"
     ]
    },
    {
     "name": "stderr",
     "output_type": "stream",
     "text": [
      "100%|██████████| 281/281 [00:04<00:00, 60.90it/s]\n",
      "100%|██████████| 71/71 [00:00<00:00, 90.16it/s] \n",
      "100%|██████████| 943/943 [00:00<00:00, 1793.00it/s]\n"
     ]
    },
    {
     "name": "stdout",
     "output_type": "stream",
     "text": [
      "Epoch 14: train loss :   0.556631   val loss :   0.525017   val score :   0.332980\n",
      "Epoch 00014: reducing learning rate of group 0 to 1.0000e-03.\n",
      "------ epoch:15 ------\n"
     ]
    },
    {
     "name": "stderr",
     "output_type": "stream",
     "text": [
      "100%|██████████| 281/281 [00:04<00:00, 65.47it/s]\n",
      "100%|██████████| 71/71 [00:00<00:00, 90.76it/s] \n",
      "100%|██████████| 943/943 [00:00<00:00, 1894.02it/s]\n"
     ]
    },
    {
     "name": "stdout",
     "output_type": "stream",
     "text": [
      "Epoch 15: train loss :   0.550845   val loss :   0.524954   val score :   0.332980\n"
     ]
    },
    {
     "name": "stderr",
     "output_type": "stream",
     "text": [
      "100%|██████████| 1/1 [00:00<00:00, 314.75it/s]\n",
      "100%|██████████| 4/4 [00:00<00:00, 201.45it/s]\n"
     ]
    }
   ],
   "source": [
    "embedding_dim = 10\n",
    "lr = 1e-1\n",
    "alpha = 1e-1\n",
    "theta_clip = 0.05\n",
    "model_type = 3\n",
    "seed_everything(42)\n",
    "ColdStartTest(train, test, power=power, model_type=model_type, num_users=num_users, num_items=num_items, repeats=5, theta_clip=theta_clip, \n",
    "     embedding_dim=embedding_dim, lr=lr, alpha=alpha, patience=3, epochs=30, device=\"cuda:0\", model_selection=False)"
   ]
  },
  {
   "cell_type": "markdown",
   "id": "3a674dad-7907-4a23-a392-ae7eda3a6e62",
   "metadata": {},
   "source": [
    "### 4"
   ]
  },
  {
   "cell_type": "code",
   "execution_count": 17,
   "id": "cda4ae15-56d6-4115-acb2-00f62e69f16e",
   "metadata": {
    "collapsed": true,
    "jupyter": {
     "outputs_hidden": true
    },
    "tags": []
   },
   "outputs": [
    {
     "name": "stdout",
     "output_type": "stream",
     "text": [
      "------ repeat : 1 ------\n"
     ]
    },
    {
     "name": "stderr",
     "output_type": "stream",
     "text": [
      "100%|██████████| 943/943 [00:10<00:00, 89.93it/s]\n"
     ]
    },
    {
     "name": "stdout",
     "output_type": "stream",
     "text": [
      "------ epoch:1 ------\n"
     ]
    },
    {
     "name": "stderr",
     "output_type": "stream",
     "text": [
      "100%|██████████| 281/281 [00:04<00:00, 62.75it/s]\n",
      "100%|██████████| 71/71 [00:00<00:00, 93.50it/s] \n",
      "100%|██████████| 943/943 [00:00<00:00, 2054.75it/s]\n"
     ]
    },
    {
     "name": "stdout",
     "output_type": "stream",
     "text": [
      "Epoch 1: train loss :   1.028739   val loss :   0.801960   val score :   0.120891\n",
      "------ epoch:2 ------\n"
     ]
    },
    {
     "name": "stderr",
     "output_type": "stream",
     "text": [
      "100%|██████████| 281/281 [00:04<00:00, 65.70it/s]\n",
      "100%|██████████| 71/71 [00:00<00:00, 118.91it/s]\n",
      "100%|██████████| 943/943 [00:00<00:00, 2010.26it/s]\n"
     ]
    },
    {
     "name": "stdout",
     "output_type": "stream",
     "text": [
      "Epoch 2: train loss :   0.909835   val loss :   0.735789   val score :   0.127253\n",
      "------ epoch:3 ------\n"
     ]
    },
    {
     "name": "stderr",
     "output_type": "stream",
     "text": [
      "100%|██████████| 281/281 [00:04<00:00, 66.19it/s]\n",
      "100%|██████████| 71/71 [00:00<00:00, 91.56it/s] \n",
      "100%|██████████| 943/943 [00:00<00:00, 1602.19it/s]\n"
     ]
    },
    {
     "name": "stdout",
     "output_type": "stream",
     "text": [
      "Epoch 3: train loss :   0.828898   val loss :   0.694416   val score :   0.134677\n",
      "------ epoch:4 ------\n"
     ]
    },
    {
     "name": "stderr",
     "output_type": "stream",
     "text": [
      "100%|██████████| 281/281 [00:04<00:00, 66.46it/s]\n",
      "100%|██████████| 71/71 [00:00<00:00, 89.39it/s] \n",
      "100%|██████████| 943/943 [00:00<00:00, 1596.83it/s]\n"
     ]
    },
    {
     "name": "stdout",
     "output_type": "stream",
     "text": [
      "Epoch 4: train loss :   0.772626   val loss :   0.666869   val score :   0.139979\n",
      "------ epoch:5 ------\n"
     ]
    },
    {
     "name": "stderr",
     "output_type": "stream",
     "text": [
      "100%|██████████| 281/281 [00:04<00:00, 61.90it/s]\n",
      "100%|██████████| 71/71 [00:00<00:00, 92.38it/s] \n",
      "100%|██████████| 943/943 [00:00<00:00, 1364.82it/s]\n"
     ]
    },
    {
     "name": "stdout",
     "output_type": "stream",
     "text": [
      "Epoch 5: train loss :   0.729923   val loss :   0.646074   val score :   0.145281\n",
      "------ epoch:6 ------\n"
     ]
    },
    {
     "name": "stderr",
     "output_type": "stream",
     "text": [
      "100%|██████████| 281/281 [00:04<00:00, 65.93it/s]\n",
      "100%|██████████| 71/71 [00:00<00:00, 92.38it/s] \n",
      "100%|██████████| 943/943 [00:00<00:00, 1246.24it/s]\n"
     ]
    },
    {
     "name": "stdout",
     "output_type": "stream",
     "text": [
      "Epoch 6: train loss :   0.696751   val loss :   0.629587   val score :   0.155885\n",
      "------ epoch:7 ------\n"
     ]
    },
    {
     "name": "stderr",
     "output_type": "stream",
     "text": [
      "100%|██████████| 281/281 [00:04<00:00, 63.06it/s]\n",
      "100%|██████████| 71/71 [00:00<00:00, 78.44it/s] \n",
      "100%|██████████| 943/943 [00:01<00:00, 891.52it/s]\n"
     ]
    },
    {
     "name": "stdout",
     "output_type": "stream",
     "text": [
      "Epoch 7: train loss :   0.671207   val loss :   0.616456   val score :   0.182397\n",
      "------ epoch:8 ------\n"
     ]
    },
    {
     "name": "stderr",
     "output_type": "stream",
     "text": [
      "100%|██████████| 281/281 [00:04<00:00, 60.84it/s]\n",
      "100%|██████████| 71/71 [00:00<00:00, 119.10it/s]\n",
      "100%|██████████| 943/943 [00:00<00:00, 1197.72it/s]\n"
     ]
    },
    {
     "name": "stdout",
     "output_type": "stream",
     "text": [
      "Epoch 8: train loss :   0.651092   val loss :   0.605970   val score :   0.190880\n",
      "------ epoch:9 ------\n"
     ]
    },
    {
     "name": "stderr",
     "output_type": "stream",
     "text": [
      "100%|██████████| 281/281 [00:04<00:00, 60.88it/s]\n",
      "100%|██████████| 71/71 [00:00<00:00, 122.50it/s]\n",
      "100%|██████████| 943/943 [00:00<00:00, 1215.89it/s]\n"
     ]
    },
    {
     "name": "stdout",
     "output_type": "stream",
     "text": [
      "Epoch 9: train loss :   0.635398   val loss :   0.597721   val score :   0.218452\n",
      "------ epoch:10 ------\n"
     ]
    },
    {
     "name": "stderr",
     "output_type": "stream",
     "text": [
      "100%|██████████| 281/281 [00:04<00:00, 60.75it/s]\n",
      "100%|██████████| 71/71 [00:00<00:00, 91.33it/s] \n",
      "100%|██████████| 943/943 [00:00<00:00, 1355.23it/s]\n"
     ]
    },
    {
     "name": "stdout",
     "output_type": "stream",
     "text": [
      "Epoch 10: train loss :   0.623943   val loss :   0.591182   val score :   0.233298\n",
      "------ epoch:11 ------\n"
     ]
    },
    {
     "name": "stderr",
     "output_type": "stream",
     "text": [
      "100%|██████████| 281/281 [00:04<00:00, 61.67it/s]\n",
      "100%|██████████| 71/71 [00:00<00:00, 90.05it/s] \n",
      "100%|██████████| 943/943 [00:00<00:00, 1568.02it/s]\n"
     ]
    },
    {
     "name": "stdout",
     "output_type": "stream",
     "text": [
      "Epoch 11: train loss :   0.614820   val loss :   0.586109   val score :   0.240721\n",
      "------ epoch:12 ------\n"
     ]
    },
    {
     "name": "stderr",
     "output_type": "stream",
     "text": [
      "100%|██████████| 281/281 [00:05<00:00, 53.27it/s]\n",
      "100%|██████████| 71/71 [00:01<00:00, 65.42it/s] \n",
      "100%|██████████| 943/943 [00:00<00:00, 1022.05it/s]\n"
     ]
    },
    {
     "name": "stdout",
     "output_type": "stream",
     "text": [
      "Epoch 12: train loss :   0.607734   val loss :   0.582073   val score :   0.249205\n",
      "------ epoch:13 ------\n"
     ]
    },
    {
     "name": "stderr",
     "output_type": "stream",
     "text": [
      "100%|██████████| 281/281 [00:08<00:00, 33.60it/s]\n",
      "100%|██████████| 71/71 [00:01<00:00, 70.16it/s]\n",
      "100%|██████████| 943/943 [00:00<00:00, 1902.80it/s]\n"
     ]
    },
    {
     "name": "stdout",
     "output_type": "stream",
     "text": [
      "Epoch 13: train loss :   0.602488   val loss :   0.578923   val score :   0.262990\n",
      "------ epoch:14 ------\n"
     ]
    },
    {
     "name": "stderr",
     "output_type": "stream",
     "text": [
      "100%|██████████| 281/281 [00:04<00:00, 59.91it/s]\n",
      "100%|██████████| 71/71 [00:00<00:00, 94.66it/s] \n",
      "100%|██████████| 943/943 [00:00<00:00, 1470.66it/s]\n"
     ]
    },
    {
     "name": "stdout",
     "output_type": "stream",
     "text": [
      "Epoch 14: train loss :   0.598718   val loss :   0.576502   val score :   0.269353\n",
      "------ epoch:15 ------\n"
     ]
    },
    {
     "name": "stderr",
     "output_type": "stream",
     "text": [
      "100%|██████████| 281/281 [00:04<00:00, 65.25it/s]\n",
      "100%|██████████| 71/71 [00:00<00:00, 117.81it/s]\n",
      "100%|██████████| 943/943 [00:00<00:00, 1256.30it/s]\n"
     ]
    },
    {
     "name": "stdout",
     "output_type": "stream",
     "text": [
      "Epoch 15: train loss :   0.595464   val loss :   0.574647   val score :   0.278897\n",
      "------ epoch:16 ------\n"
     ]
    },
    {
     "name": "stderr",
     "output_type": "stream",
     "text": [
      "100%|██████████| 281/281 [00:04<00:00, 60.89it/s]\n",
      "100%|██████████| 71/71 [00:00<00:00, 99.96it/s] \n",
      "100%|██████████| 943/943 [00:00<00:00, 1846.10it/s]\n"
     ]
    },
    {
     "name": "stdout",
     "output_type": "stream",
     "text": [
      "Epoch 16: train loss :   0.593365   val loss :   0.573151   val score :   0.284199\n",
      "------ epoch:17 ------\n"
     ]
    },
    {
     "name": "stderr",
     "output_type": "stream",
     "text": [
      "100%|██████████| 281/281 [00:04<00:00, 62.09it/s]\n",
      "100%|██████████| 71/71 [00:00<00:00, 94.21it/s] \n",
      "100%|██████████| 943/943 [00:00<00:00, 2037.16it/s]\n"
     ]
    },
    {
     "name": "stdout",
     "output_type": "stream",
     "text": [
      "Epoch 17: train loss :   0.591947   val loss :   0.572083   val score :   0.292683\n",
      "------ epoch:18 ------\n"
     ]
    },
    {
     "name": "stderr",
     "output_type": "stream",
     "text": [
      "100%|██████████| 281/281 [00:04<00:00, 67.84it/s]\n",
      "100%|██████████| 71/71 [00:00<00:00, 96.68it/s] \n",
      "100%|██████████| 943/943 [00:00<00:00, 1134.19it/s]\n"
     ]
    },
    {
     "name": "stdout",
     "output_type": "stream",
     "text": [
      "Epoch 18: train loss :   0.590846   val loss :   0.571088   val score :   0.291622\n",
      "------ epoch:19 ------\n"
     ]
    },
    {
     "name": "stderr",
     "output_type": "stream",
     "text": [
      "100%|██████████| 281/281 [00:04<00:00, 66.90it/s]\n",
      "100%|██████████| 71/71 [00:00<00:00, 81.03it/s] \n",
      "100%|██████████| 943/943 [00:00<00:00, 1280.35it/s]\n"
     ]
    },
    {
     "name": "stdout",
     "output_type": "stream",
     "text": [
      "Epoch 19: train loss :   0.589706   val loss :   0.570354   val score :   0.297985\n",
      "------ epoch:20 ------\n"
     ]
    },
    {
     "name": "stderr",
     "output_type": "stream",
     "text": [
      "100%|██████████| 281/281 [00:05<00:00, 48.47it/s]\n",
      "100%|██████████| 71/71 [00:01<00:00, 52.68it/s]\n",
      "100%|██████████| 943/943 [00:00<00:00, 1893.93it/s]\n"
     ]
    },
    {
     "name": "stdout",
     "output_type": "stream",
     "text": [
      "Epoch 20: train loss :   0.588933   val loss :   0.569770   val score :   0.292683\n",
      "------ epoch:21 ------\n"
     ]
    },
    {
     "name": "stderr",
     "output_type": "stream",
     "text": [
      "100%|██████████| 281/281 [00:05<00:00, 53.39it/s]\n",
      "100%|██████████| 71/71 [00:00<00:00, 87.24it/s] \n",
      "100%|██████████| 943/943 [00:00<00:00, 1539.78it/s]\n"
     ]
    },
    {
     "name": "stdout",
     "output_type": "stream",
     "text": [
      "Epoch 21: train loss :   0.588514   val loss :   0.569376   val score :   0.297985\n",
      "------ epoch:22 ------\n"
     ]
    },
    {
     "name": "stderr",
     "output_type": "stream",
     "text": [
      "100%|██████████| 281/281 [00:06<00:00, 44.11it/s]\n",
      "100%|██████████| 71/71 [00:01<00:00, 61.75it/s]\n",
      "100%|██████████| 943/943 [00:00<00:00, 1099.58it/s]\n"
     ]
    },
    {
     "name": "stdout",
     "output_type": "stream",
     "text": [
      "Epoch 22: train loss :   0.587860   val loss :   0.569083   val score :   0.291622\n",
      "Epoch 00022: reducing learning rate of group 0 to 1.0000e-04.\n",
      "------ epoch:23 ------\n"
     ]
    },
    {
     "name": "stderr",
     "output_type": "stream",
     "text": [
      "100%|██████████| 281/281 [00:05<00:00, 49.19it/s]\n",
      "100%|██████████| 71/71 [00:00<00:00, 118.66it/s]\n",
      "100%|██████████| 943/943 [00:00<00:00, 1596.11it/s]\n"
     ]
    },
    {
     "name": "stdout",
     "output_type": "stream",
     "text": [
      "Epoch 23: train loss :   0.587293   val loss :   0.569028   val score :   0.292683\n"
     ]
    },
    {
     "name": "stderr",
     "output_type": "stream",
     "text": [
      "100%|██████████| 1/1 [00:00<00:00, 297.60it/s]\n",
      "100%|██████████| 4/4 [00:00<00:00, 193.81it/s]\n"
     ]
    },
    {
     "name": "stdout",
     "output_type": "stream",
     "text": [
      "------ repeat : 2 ------\n"
     ]
    },
    {
     "name": "stderr",
     "output_type": "stream",
     "text": [
      "100%|██████████| 943/943 [00:11<00:00, 81.92it/s]\n"
     ]
    },
    {
     "name": "stdout",
     "output_type": "stream",
     "text": [
      "------ epoch:1 ------\n"
     ]
    },
    {
     "name": "stderr",
     "output_type": "stream",
     "text": [
      "100%|██████████| 281/281 [00:04<00:00, 61.10it/s]\n",
      "100%|██████████| 71/71 [00:00<00:00, 91.61it/s] \n",
      "100%|██████████| 943/943 [00:00<00:00, 1932.24it/s]\n"
     ]
    },
    {
     "name": "stdout",
     "output_type": "stream",
     "text": [
      "Epoch 1: train loss :   1.028917   val loss :   0.798266   val score :   0.111347\n",
      "------ epoch:2 ------\n"
     ]
    },
    {
     "name": "stderr",
     "output_type": "stream",
     "text": [
      "100%|██████████| 281/281 [00:04<00:00, 61.82it/s]\n",
      "100%|██████████| 71/71 [00:00<00:00, 92.17it/s] \n",
      "100%|██████████| 943/943 [00:00<00:00, 2041.15it/s]\n"
     ]
    },
    {
     "name": "stdout",
     "output_type": "stream",
     "text": [
      "Epoch 2: train loss :   0.913414   val loss :   0.736542   val score :   0.116649\n",
      "------ epoch:3 ------\n"
     ]
    },
    {
     "name": "stderr",
     "output_type": "stream",
     "text": [
      "100%|██████████| 281/281 [00:04<00:00, 61.52it/s]\n",
      "100%|██████████| 71/71 [00:00<00:00, 91.06it/s] \n",
      "100%|██████████| 943/943 [00:00<00:00, 1970.49it/s]\n"
     ]
    },
    {
     "name": "stdout",
     "output_type": "stream",
     "text": [
      "Epoch 3: train loss :   0.834788   val loss :   0.697151   val score :   0.123012\n",
      "------ epoch:4 ------\n"
     ]
    },
    {
     "name": "stderr",
     "output_type": "stream",
     "text": [
      "100%|██████████| 281/281 [00:04<00:00, 58.25it/s]\n",
      "100%|██████████| 71/71 [00:00<00:00, 87.20it/s] \n",
      "100%|██████████| 943/943 [00:00<00:00, 1930.69it/s]\n"
     ]
    },
    {
     "name": "stdout",
     "output_type": "stream",
     "text": [
      "Epoch 4: train loss :   0.779090   val loss :   0.669954   val score :   0.132556\n",
      "------ epoch:5 ------\n"
     ]
    },
    {
     "name": "stderr",
     "output_type": "stream",
     "text": [
      "100%|██████████| 281/281 [00:04<00:00, 60.43it/s]\n",
      "100%|██████████| 71/71 [00:00<00:00, 88.43it/s] \n",
      "100%|██████████| 943/943 [00:00<00:00, 1910.04it/s]\n"
     ]
    },
    {
     "name": "stdout",
     "output_type": "stream",
     "text": [
      "Epoch 5: train loss :   0.735556   val loss :   0.649117   val score :   0.144221\n",
      "------ epoch:6 ------\n"
     ]
    },
    {
     "name": "stderr",
     "output_type": "stream",
     "text": [
      "100%|██████████| 281/281 [00:04<00:00, 61.75it/s]\n",
      "100%|██████████| 71/71 [00:00<00:00, 108.31it/s]\n",
      "100%|██████████| 943/943 [00:00<00:00, 1884.07it/s]\n"
     ]
    },
    {
     "name": "stdout",
     "output_type": "stream",
     "text": [
      "Epoch 6: train loss :   0.703028   val loss :   0.632435   val score :   0.159067\n",
      "------ epoch:7 ------\n"
     ]
    },
    {
     "name": "stderr",
     "output_type": "stream",
     "text": [
      "100%|██████████| 281/281 [00:04<00:00, 65.65it/s]\n",
      "100%|██████████| 71/71 [00:00<00:00, 90.55it/s] \n",
      "100%|██████████| 943/943 [00:00<00:00, 2199.74it/s]\n"
     ]
    },
    {
     "name": "stdout",
     "output_type": "stream",
     "text": [
      "Epoch 7: train loss :   0.675973   val loss :   0.619044   val score :   0.178155\n",
      "------ epoch:8 ------\n"
     ]
    },
    {
     "name": "stderr",
     "output_type": "stream",
     "text": [
      "100%|██████████| 281/281 [00:04<00:00, 63.95it/s]\n",
      "100%|██████████| 71/71 [00:00<00:00, 91.16it/s] \n",
      "100%|██████████| 943/943 [00:00<00:00, 1808.60it/s]\n"
     ]
    },
    {
     "name": "stdout",
     "output_type": "stream",
     "text": [
      "Epoch 8: train loss :   0.654570   val loss :   0.608343   val score :   0.193001\n",
      "------ epoch:9 ------\n"
     ]
    },
    {
     "name": "stderr",
     "output_type": "stream",
     "text": [
      "100%|██████████| 281/281 [00:04<00:00, 63.55it/s]\n",
      "100%|██████████| 71/71 [00:00<00:00, 89.13it/s] \n",
      "100%|██████████| 943/943 [00:00<00:00, 1128.68it/s]\n"
     ]
    },
    {
     "name": "stdout",
     "output_type": "stream",
     "text": [
      "Epoch 9: train loss :   0.638880   val loss :   0.599822   val score :   0.211029\n",
      "------ epoch:10 ------\n"
     ]
    },
    {
     "name": "stderr",
     "output_type": "stream",
     "text": [
      "100%|██████████| 281/281 [00:04<00:00, 65.47it/s]\n",
      "100%|██████████| 71/71 [00:00<00:00, 91.48it/s] \n",
      "100%|██████████| 943/943 [00:00<00:00, 1452.11it/s]\n"
     ]
    },
    {
     "name": "stdout",
     "output_type": "stream",
     "text": [
      "Epoch 10: train loss :   0.627174   val loss :   0.593038   val score :   0.219512\n",
      "------ epoch:11 ------\n"
     ]
    },
    {
     "name": "stderr",
     "output_type": "stream",
     "text": [
      "100%|██████████| 281/281 [00:04<00:00, 65.44it/s]\n",
      "100%|██████████| 71/71 [00:00<00:00, 91.99it/s] \n",
      "100%|██████████| 943/943 [00:00<00:00, 1566.29it/s]\n"
     ]
    },
    {
     "name": "stdout",
     "output_type": "stream",
     "text": [
      "Epoch 11: train loss :   0.616791   val loss :   0.587748   val score :   0.231177\n",
      "------ epoch:12 ------\n"
     ]
    },
    {
     "name": "stderr",
     "output_type": "stream",
     "text": [
      "100%|██████████| 281/281 [00:04<00:00, 61.43it/s]\n",
      "100%|██████████| 71/71 [00:00<00:00, 100.28it/s]\n",
      "100%|██████████| 943/943 [00:00<00:00, 1518.52it/s]\n"
     ]
    },
    {
     "name": "stdout",
     "output_type": "stream",
     "text": [
      "Epoch 12: train loss :   0.609901   val loss :   0.583551   val score :   0.250265\n",
      "------ epoch:13 ------\n"
     ]
    },
    {
     "name": "stderr",
     "output_type": "stream",
     "text": [
      "100%|██████████| 281/281 [00:04<00:00, 60.39it/s]\n",
      "100%|██████████| 71/71 [00:00<00:00, 112.30it/s]\n",
      "100%|██████████| 943/943 [00:00<00:00, 1874.98it/s]\n"
     ]
    },
    {
     "name": "stdout",
     "output_type": "stream",
     "text": [
      "Epoch 13: train loss :   0.603588   val loss :   0.580229   val score :   0.269353\n",
      "------ epoch:14 ------\n"
     ]
    },
    {
     "name": "stderr",
     "output_type": "stream",
     "text": [
      "100%|██████████| 281/281 [00:04<00:00, 61.78it/s]\n",
      "100%|██████████| 71/71 [00:00<00:00, 84.11it/s]\n",
      "100%|██████████| 943/943 [00:00<00:00, 1717.37it/s]\n"
     ]
    },
    {
     "name": "stdout",
     "output_type": "stream",
     "text": [
      "Epoch 14: train loss :   0.600039   val loss :   0.577650   val score :   0.282078\n",
      "------ epoch:15 ------\n"
     ]
    },
    {
     "name": "stderr",
     "output_type": "stream",
     "text": [
      "100%|██████████| 281/281 [00:11<00:00, 24.06it/s]\n",
      "100%|██████████| 71/71 [00:02<00:00, 24.48it/s]\n",
      "100%|██████████| 943/943 [00:01<00:00, 930.91it/s] \n"
     ]
    },
    {
     "name": "stdout",
     "output_type": "stream",
     "text": [
      "Epoch 15: train loss :   0.596820   val loss :   0.575628   val score :   0.288441\n",
      "------ epoch:16 ------\n"
     ]
    },
    {
     "name": "stderr",
     "output_type": "stream",
     "text": [
      "100%|██████████| 281/281 [00:09<00:00, 30.08it/s]\n",
      "100%|██████████| 71/71 [00:00<00:00, 92.36it/s] \n",
      "100%|██████████| 943/943 [00:00<00:00, 2009.96it/s]\n"
     ]
    },
    {
     "name": "stdout",
     "output_type": "stream",
     "text": [
      "Epoch 16: train loss :   0.593984   val loss :   0.574122   val score :   0.295864\n",
      "------ epoch:17 ------\n"
     ]
    },
    {
     "name": "stderr",
     "output_type": "stream",
     "text": [
      "100%|██████████| 281/281 [00:04<00:00, 62.30it/s]\n",
      "100%|██████████| 71/71 [00:00<00:00, 77.10it/s] \n",
      "100%|██████████| 943/943 [00:00<00:00, 1807.73it/s]\n"
     ]
    },
    {
     "name": "stdout",
     "output_type": "stream",
     "text": [
      "Epoch 17: train loss :   0.592212   val loss :   0.572726   val score :   0.301166\n",
      "------ epoch:18 ------\n"
     ]
    },
    {
     "name": "stderr",
     "output_type": "stream",
     "text": [
      "100%|██████████| 281/281 [00:06<00:00, 42.60it/s]\n",
      "100%|██████████| 71/71 [00:01<00:00, 62.44it/s]\n",
      "100%|██████████| 943/943 [00:00<00:00, 1704.80it/s]\n"
     ]
    },
    {
     "name": "stdout",
     "output_type": "stream",
     "text": [
      "Epoch 18: train loss :   0.591349   val loss :   0.571788   val score :   0.306469\n",
      "------ epoch:19 ------\n"
     ]
    },
    {
     "name": "stderr",
     "output_type": "stream",
     "text": [
      "100%|██████████| 281/281 [00:05<00:00, 53.42it/s]\n",
      "100%|██████████| 71/71 [00:00<00:00, 116.12it/s]\n",
      "100%|██████████| 943/943 [00:00<00:00, 1823.21it/s]\n"
     ]
    },
    {
     "name": "stdout",
     "output_type": "stream",
     "text": [
      "Epoch 19: train loss :   0.589933   val loss :   0.570936   val score :   0.309650\n",
      "------ epoch:20 ------\n"
     ]
    },
    {
     "name": "stderr",
     "output_type": "stream",
     "text": [
      "100%|██████████| 281/281 [00:04<00:00, 58.09it/s]\n",
      "100%|██████████| 71/71 [00:00<00:00, 114.38it/s]\n",
      "100%|██████████| 943/943 [00:00<00:00, 1883.59it/s]\n"
     ]
    },
    {
     "name": "stdout",
     "output_type": "stream",
     "text": [
      "Epoch 20: train loss :   0.589021   val loss :   0.570328   val score :   0.312831\n",
      "------ epoch:21 ------\n"
     ]
    },
    {
     "name": "stderr",
     "output_type": "stream",
     "text": [
      "100%|██████████| 281/281 [00:04<00:00, 65.22it/s]\n",
      "100%|██████████| 71/71 [00:00<00:00, 92.56it/s] \n",
      "100%|██████████| 943/943 [00:00<00:00, 2017.80it/s]\n"
     ]
    },
    {
     "name": "stdout",
     "output_type": "stream",
     "text": [
      "Epoch 21: train loss :   0.588499   val loss :   0.569824   val score :   0.320255\n",
      "------ epoch:22 ------\n"
     ]
    },
    {
     "name": "stderr",
     "output_type": "stream",
     "text": [
      "100%|██████████| 281/281 [00:04<00:00, 64.16it/s]\n",
      "100%|██████████| 71/71 [00:00<00:00, 90.32it/s] \n",
      "100%|██████████| 943/943 [00:00<00:00, 2056.95it/s]\n"
     ]
    },
    {
     "name": "stdout",
     "output_type": "stream",
     "text": [
      "Epoch 22: train loss :   0.588308   val loss :   0.569378   val score :   0.324496\n",
      "------ epoch:23 ------\n"
     ]
    },
    {
     "name": "stderr",
     "output_type": "stream",
     "text": [
      "100%|██████████| 281/281 [00:04<00:00, 61.11it/s]\n",
      "100%|██████████| 71/71 [00:00<00:00, 73.94it/s]\n",
      "100%|██████████| 943/943 [00:00<00:00, 2248.29it/s]\n"
     ]
    },
    {
     "name": "stdout",
     "output_type": "stream",
     "text": [
      "Epoch 23: train loss :   0.587552   val loss :   0.569051   val score :   0.325557\n",
      "------ epoch:24 ------\n"
     ]
    },
    {
     "name": "stderr",
     "output_type": "stream",
     "text": [
      "100%|██████████| 281/281 [00:04<00:00, 65.63it/s]\n",
      "100%|██████████| 71/71 [00:00<00:00, 83.21it/s] \n",
      "100%|██████████| 943/943 [00:00<00:00, 1546.26it/s]\n"
     ]
    },
    {
     "name": "stdout",
     "output_type": "stream",
     "text": [
      "Epoch 24: train loss :   0.587550   val loss :   0.568815   val score :   0.328738\n",
      "------ epoch:25 ------\n"
     ]
    },
    {
     "name": "stderr",
     "output_type": "stream",
     "text": [
      "100%|██████████| 281/281 [00:05<00:00, 54.93it/s]\n",
      "100%|██████████| 71/71 [00:00<00:00, 86.00it/s] \n",
      "100%|██████████| 943/943 [00:00<00:00, 1767.34it/s]\n"
     ]
    },
    {
     "name": "stdout",
     "output_type": "stream",
     "text": [
      "Epoch 25: train loss :   0.587493   val loss :   0.568592   val score :   0.329799\n",
      "------ epoch:26 ------\n"
     ]
    },
    {
     "name": "stderr",
     "output_type": "stream",
     "text": [
      "100%|██████████| 281/281 [00:04<00:00, 64.60it/s]\n",
      "100%|██████████| 71/71 [00:00<00:00, 115.54it/s]\n",
      "100%|██████████| 943/943 [00:00<00:00, 1710.82it/s]\n"
     ]
    },
    {
     "name": "stdout",
     "output_type": "stream",
     "text": [
      "Epoch 26: train loss :   0.587204   val loss :   0.568444   val score :   0.330859\n",
      "------ epoch:27 ------\n"
     ]
    },
    {
     "name": "stderr",
     "output_type": "stream",
     "text": [
      "100%|██████████| 281/281 [00:04<00:00, 56.64it/s]\n",
      "100%|██████████| 71/71 [00:00<00:00, 115.63it/s]\n",
      "100%|██████████| 943/943 [00:00<00:00, 1899.51it/s]\n"
     ]
    },
    {
     "name": "stdout",
     "output_type": "stream",
     "text": [
      "Epoch 27: train loss :   0.586822   val loss :   0.568249   val score :   0.332980\n",
      "------ epoch:28 ------\n"
     ]
    },
    {
     "name": "stderr",
     "output_type": "stream",
     "text": [
      "100%|██████████| 281/281 [00:05<00:00, 56.10it/s]\n",
      "100%|██████████| 71/71 [00:00<00:00, 89.73it/s]\n",
      "100%|██████████| 943/943 [00:00<00:00, 2204.22it/s]\n"
     ]
    },
    {
     "name": "stdout",
     "output_type": "stream",
     "text": [
      "Epoch 28: train loss :   0.586816   val loss :   0.568103   val score :   0.332980\n",
      "------ epoch:29 ------\n"
     ]
    },
    {
     "name": "stderr",
     "output_type": "stream",
     "text": [
      "100%|██████████| 281/281 [00:04<00:00, 62.02it/s]\n",
      "100%|██████████| 71/71 [00:00<00:00, 89.97it/s] \n",
      "100%|██████████| 943/943 [00:00<00:00, 2183.29it/s]\n"
     ]
    },
    {
     "name": "stdout",
     "output_type": "stream",
     "text": [
      "Epoch 29: train loss :   0.586762   val loss :   0.568015   val score :   0.329799\n",
      "------ epoch:30 ------\n"
     ]
    },
    {
     "name": "stderr",
     "output_type": "stream",
     "text": [
      "100%|██████████| 281/281 [00:04<00:00, 64.10it/s]\n",
      "100%|██████████| 71/71 [00:00<00:00, 89.95it/s] \n",
      "100%|██████████| 943/943 [00:00<00:00, 2129.57it/s]\n"
     ]
    },
    {
     "name": "stdout",
     "output_type": "stream",
     "text": [
      "Epoch 30: train loss :   0.587063   val loss :   0.567899   val score :   0.328738\n",
      "Epoch 00030: reducing learning rate of group 0 to 1.0000e-04.\n"
     ]
    },
    {
     "name": "stderr",
     "output_type": "stream",
     "text": [
      "100%|██████████| 1/1 [00:00<00:00, 313.26it/s]\n",
      "100%|██████████| 4/4 [00:00<00:00, 191.23it/s]\n"
     ]
    },
    {
     "name": "stdout",
     "output_type": "stream",
     "text": [
      "------ repeat : 3 ------\n"
     ]
    },
    {
     "name": "stderr",
     "output_type": "stream",
     "text": [
      "100%|██████████| 943/943 [00:10<00:00, 85.94it/s]\n"
     ]
    },
    {
     "name": "stdout",
     "output_type": "stream",
     "text": [
      "------ epoch:1 ------\n"
     ]
    },
    {
     "name": "stderr",
     "output_type": "stream",
     "text": [
      "100%|██████████| 281/281 [00:04<00:00, 64.69it/s]\n",
      "100%|██████████| 71/71 [00:00<00:00, 104.09it/s]\n",
      "100%|██████████| 943/943 [00:00<00:00, 1485.10it/s]\n"
     ]
    },
    {
     "name": "stdout",
     "output_type": "stream",
     "text": [
      "Epoch 1: train loss :   1.037110   val loss :   0.806978   val score :   0.102863\n",
      "------ epoch:2 ------\n"
     ]
    },
    {
     "name": "stderr",
     "output_type": "stream",
     "text": [
      "100%|██████████| 281/281 [00:03<00:00, 74.80it/s]\n",
      "100%|██████████| 71/71 [00:00<00:00, 95.71it/s] \n",
      "100%|██████████| 943/943 [00:00<00:00, 1767.23it/s]\n"
     ]
    },
    {
     "name": "stdout",
     "output_type": "stream",
     "text": [
      "Epoch 2: train loss :   0.922041   val loss :   0.744845   val score :   0.107105\n",
      "------ epoch:3 ------\n"
     ]
    },
    {
     "name": "stderr",
     "output_type": "stream",
     "text": [
      "100%|██████████| 281/281 [00:04<00:00, 67.31it/s]\n",
      "100%|██████████| 71/71 [00:00<00:00, 121.85it/s]\n",
      "100%|██████████| 943/943 [00:00<00:00, 1080.52it/s]\n"
     ]
    },
    {
     "name": "stdout",
     "output_type": "stream",
     "text": [
      "Epoch 3: train loss :   0.842401   val loss :   0.704885   val score :   0.116649\n",
      "------ epoch:4 ------\n"
     ]
    },
    {
     "name": "stderr",
     "output_type": "stream",
     "text": [
      "100%|██████████| 281/281 [00:04<00:00, 66.00it/s]\n",
      "100%|██████████| 71/71 [00:00<00:00, 123.88it/s]\n",
      "100%|██████████| 943/943 [00:00<00:00, 980.07it/s] \n"
     ]
    },
    {
     "name": "stdout",
     "output_type": "stream",
     "text": [
      "Epoch 4: train loss :   0.785399   val loss :   0.676885   val score :   0.129374\n",
      "------ epoch:5 ------\n"
     ]
    },
    {
     "name": "stderr",
     "output_type": "stream",
     "text": [
      "100%|██████████| 281/281 [00:04<00:00, 67.69it/s]\n",
      "100%|██████████| 71/71 [00:00<00:00, 98.53it/s] \n",
      "100%|██████████| 943/943 [00:00<00:00, 957.56it/s] \n"
     ]
    },
    {
     "name": "stdout",
     "output_type": "stream",
     "text": [
      "Epoch 5: train loss :   0.741652   val loss :   0.655107   val score :   0.143160\n",
      "------ epoch:6 ------\n"
     ]
    },
    {
     "name": "stderr",
     "output_type": "stream",
     "text": [
      "100%|██████████| 281/281 [00:04<00:00, 57.33it/s]\n",
      "100%|██████████| 71/71 [00:01<00:00, 52.34it/s]\n",
      "100%|██████████| 943/943 [00:00<00:00, 2078.17it/s]\n"
     ]
    },
    {
     "name": "stdout",
     "output_type": "stream",
     "text": [
      "Epoch 6: train loss :   0.707859   val loss :   0.637683   val score :   0.154825\n",
      "------ epoch:7 ------\n"
     ]
    },
    {
     "name": "stderr",
     "output_type": "stream",
     "text": [
      "100%|██████████| 281/281 [00:06<00:00, 45.56it/s]\n",
      "100%|██████████| 71/71 [00:01<00:00, 65.92it/s]\n",
      "100%|██████████| 943/943 [00:00<00:00, 1944.49it/s]\n"
     ]
    },
    {
     "name": "stdout",
     "output_type": "stream",
     "text": [
      "Epoch 7: train loss :   0.680566   val loss :   0.623558   val score :   0.169671\n",
      "------ epoch:8 ------\n"
     ]
    },
    {
     "name": "stderr",
     "output_type": "stream",
     "text": [
      "100%|██████████| 281/281 [00:04<00:00, 62.21it/s]\n",
      "100%|██████████| 71/71 [00:00<00:00, 96.04it/s] \n",
      "100%|██████████| 943/943 [00:00<00:00, 1090.64it/s]\n"
     ]
    },
    {
     "name": "stdout",
     "output_type": "stream",
     "text": [
      "Epoch 8: train loss :   0.658972   val loss :   0.612154   val score :   0.190880\n",
      "------ epoch:9 ------\n"
     ]
    },
    {
     "name": "stderr",
     "output_type": "stream",
     "text": [
      "100%|██████████| 281/281 [00:04<00:00, 62.35it/s]\n",
      "100%|██████████| 71/71 [00:00<00:00, 95.11it/s] \n",
      "100%|██████████| 943/943 [00:00<00:00, 1072.93it/s]\n"
     ]
    },
    {
     "name": "stdout",
     "output_type": "stream",
     "text": [
      "Epoch 9: train loss :   0.642422   val loss :   0.603034   val score :   0.202545\n",
      "------ epoch:10 ------\n"
     ]
    },
    {
     "name": "stderr",
     "output_type": "stream",
     "text": [
      "100%|██████████| 281/281 [00:05<00:00, 51.09it/s]\n",
      "100%|██████████| 71/71 [00:00<00:00, 93.42it/s]\n",
      "100%|██████████| 943/943 [00:00<00:00, 2061.84it/s]\n"
     ]
    },
    {
     "name": "stdout",
     "output_type": "stream",
     "text": [
      "Epoch 10: train loss :   0.629581   val loss :   0.595765   val score :   0.223754\n",
      "------ epoch:11 ------\n"
     ]
    },
    {
     "name": "stderr",
     "output_type": "stream",
     "text": [
      "100%|██████████| 281/281 [00:05<00:00, 48.06it/s]\n",
      "100%|██████████| 71/71 [00:00<00:00, 123.75it/s]\n",
      "100%|██████████| 943/943 [00:00<00:00, 2101.93it/s]\n"
     ]
    },
    {
     "name": "stdout",
     "output_type": "stream",
     "text": [
      "Epoch 11: train loss :   0.619041   val loss :   0.589972   val score :   0.235419\n",
      "------ epoch:12 ------\n"
     ]
    },
    {
     "name": "stderr",
     "output_type": "stream",
     "text": [
      "100%|██████████| 281/281 [00:04<00:00, 61.09it/s]\n",
      "100%|██████████| 71/71 [00:00<00:00, 92.45it/s] \n",
      "100%|██████████| 943/943 [00:00<00:00, 2143.30it/s]\n"
     ]
    },
    {
     "name": "stdout",
     "output_type": "stream",
     "text": [
      "Epoch 12: train loss :   0.611356   val loss :   0.585378   val score :   0.259809\n",
      "------ epoch:13 ------\n"
     ]
    },
    {
     "name": "stderr",
     "output_type": "stream",
     "text": [
      "100%|██████████| 281/281 [00:04<00:00, 63.83it/s]\n",
      "100%|██████████| 71/71 [00:00<00:00, 95.38it/s] \n",
      "100%|██████████| 943/943 [00:00<00:00, 2110.05it/s]\n"
     ]
    },
    {
     "name": "stdout",
     "output_type": "stream",
     "text": [
      "Epoch 13: train loss :   0.606039   val loss :   0.581747   val score :   0.276776\n",
      "------ epoch:14 ------\n"
     ]
    },
    {
     "name": "stderr",
     "output_type": "stream",
     "text": [
      "100%|██████████| 281/281 [00:04<00:00, 68.41it/s]\n",
      "100%|██████████| 71/71 [00:00<00:00, 93.59it/s] \n",
      "100%|██████████| 943/943 [00:00<00:00, 1868.51it/s]\n"
     ]
    },
    {
     "name": "stdout",
     "output_type": "stream",
     "text": [
      "Epoch 14: train loss :   0.601313   val loss :   0.578821   val score :   0.290562\n",
      "------ epoch:15 ------\n"
     ]
    },
    {
     "name": "stderr",
     "output_type": "stream",
     "text": [
      "100%|██████████| 281/281 [00:04<00:00, 66.48it/s]\n",
      "100%|██████████| 71/71 [00:00<00:00, 93.68it/s] \n",
      "100%|██████████| 943/943 [00:00<00:00, 1996.59it/s]\n"
     ]
    },
    {
     "name": "stdout",
     "output_type": "stream",
     "text": [
      "Epoch 15: train loss :   0.597514   val loss :   0.576568   val score :   0.294804\n",
      "------ epoch:16 ------\n"
     ]
    },
    {
     "name": "stderr",
     "output_type": "stream",
     "text": [
      "100%|██████████| 281/281 [00:04<00:00, 65.58it/s]\n",
      "100%|██████████| 71/71 [00:00<00:00, 91.48it/s] \n",
      "100%|██████████| 943/943 [00:00<00:00, 1462.62it/s]\n"
     ]
    },
    {
     "name": "stdout",
     "output_type": "stream",
     "text": [
      "Epoch 16: train loss :   0.594985   val loss :   0.574766   val score :   0.300106\n",
      "------ epoch:17 ------\n"
     ]
    },
    {
     "name": "stderr",
     "output_type": "stream",
     "text": [
      "100%|██████████| 281/281 [00:04<00:00, 65.63it/s]\n",
      "100%|██████████| 71/71 [00:00<00:00, 120.03it/s]\n",
      "100%|██████████| 943/943 [00:00<00:00, 1089.58it/s]\n"
     ]
    },
    {
     "name": "stdout",
     "output_type": "stream",
     "text": [
      "Epoch 17: train loss :   0.592979   val loss :   0.573357   val score :   0.312831\n",
      "------ epoch:18 ------\n"
     ]
    },
    {
     "name": "stderr",
     "output_type": "stream",
     "text": [
      "100%|██████████| 281/281 [00:04<00:00, 57.61it/s]\n",
      "100%|██████████| 71/71 [00:00<00:00, 71.54it/s]\n",
      "100%|██████████| 943/943 [00:00<00:00, 1478.62it/s]\n"
     ]
    },
    {
     "name": "stdout",
     "output_type": "stream",
     "text": [
      "Epoch 18: train loss :   0.591395   val loss :   0.572215   val score :   0.314952\n",
      "------ epoch:19 ------\n"
     ]
    },
    {
     "name": "stderr",
     "output_type": "stream",
     "text": [
      "100%|██████████| 281/281 [00:07<00:00, 37.90it/s]\n",
      "100%|██████████| 71/71 [00:01<00:00, 70.89it/s]\n",
      "100%|██████████| 943/943 [00:00<00:00, 1736.94it/s]\n"
     ]
    },
    {
     "name": "stdout",
     "output_type": "stream",
     "text": [
      "Epoch 19: train loss :   0.590117   val loss :   0.571333   val score :   0.316013\n",
      "------ epoch:20 ------\n"
     ]
    },
    {
     "name": "stderr",
     "output_type": "stream",
     "text": [
      "100%|██████████| 281/281 [00:04<00:00, 66.06it/s]\n",
      "100%|██████████| 71/71 [00:00<00:00, 90.78it/s] \n",
      "100%|██████████| 943/943 [00:00<00:00, 1351.15it/s]\n"
     ]
    },
    {
     "name": "stdout",
     "output_type": "stream",
     "text": [
      "Epoch 20: train loss :   0.589513   val loss :   0.570620   val score :   0.320255\n",
      "------ epoch:21 ------\n"
     ]
    },
    {
     "name": "stderr",
     "output_type": "stream",
     "text": [
      "100%|██████████| 281/281 [00:04<00:00, 63.90it/s]\n",
      "100%|██████████| 71/71 [00:00<00:00, 92.09it/s] \n",
      "100%|██████████| 943/943 [00:00<00:00, 1940.36it/s]\n"
     ]
    },
    {
     "name": "stdout",
     "output_type": "stream",
     "text": [
      "Epoch 21: train loss :   0.588896   val loss :   0.570013   val score :   0.321315\n",
      "------ epoch:22 ------\n"
     ]
    },
    {
     "name": "stderr",
     "output_type": "stream",
     "text": [
      "100%|██████████| 281/281 [00:04<00:00, 65.12it/s]\n",
      "100%|██████████| 71/71 [00:00<00:00, 90.30it/s] \n",
      "100%|██████████| 943/943 [00:00<00:00, 2138.92it/s]\n"
     ]
    },
    {
     "name": "stdout",
     "output_type": "stream",
     "text": [
      "Epoch 22: train loss :   0.588390   val loss :   0.569619   val score :   0.322375\n",
      "------ epoch:23 ------\n"
     ]
    },
    {
     "name": "stderr",
     "output_type": "stream",
     "text": [
      "100%|██████████| 281/281 [00:04<00:00, 64.45it/s]\n",
      "100%|██████████| 71/71 [00:00<00:00, 92.28it/s] \n",
      "100%|██████████| 943/943 [00:00<00:00, 2173.86it/s]\n"
     ]
    },
    {
     "name": "stdout",
     "output_type": "stream",
     "text": [
      "Epoch 23: train loss :   0.588331   val loss :   0.569237   val score :   0.323436\n",
      "------ epoch:24 ------\n"
     ]
    },
    {
     "name": "stderr",
     "output_type": "stream",
     "text": [
      "100%|██████████| 281/281 [00:04<00:00, 67.07it/s]\n",
      "100%|██████████| 71/71 [00:00<00:00, 116.70it/s]\n",
      "100%|██████████| 943/943 [00:00<00:00, 2027.03it/s]\n"
     ]
    },
    {
     "name": "stdout",
     "output_type": "stream",
     "text": [
      "Epoch 24: train loss :   0.587489   val loss :   0.568879   val score :   0.324496\n",
      "------ epoch:25 ------\n"
     ]
    },
    {
     "name": "stderr",
     "output_type": "stream",
     "text": [
      "100%|██████████| 281/281 [00:04<00:00, 61.90it/s]\n",
      "100%|██████████| 71/71 [00:00<00:00, 114.04it/s]\n",
      "100%|██████████| 943/943 [00:00<00:00, 2046.00it/s]\n"
     ]
    },
    {
     "name": "stdout",
     "output_type": "stream",
     "text": [
      "Epoch 25: train loss :   0.587491   val loss :   0.568653   val score :   0.321315\n",
      "------ epoch:26 ------\n"
     ]
    },
    {
     "name": "stderr",
     "output_type": "stream",
     "text": [
      "100%|██████████| 281/281 [00:04<00:00, 64.08it/s]\n",
      "100%|██████████| 71/71 [00:00<00:00, 83.41it/s]\n",
      "100%|██████████| 943/943 [00:00<00:00, 1120.19it/s]\n"
     ]
    },
    {
     "name": "stdout",
     "output_type": "stream",
     "text": [
      "Epoch 26: train loss :   0.587063   val loss :   0.568438   val score :   0.325557\n",
      "------ epoch:27 ------\n"
     ]
    },
    {
     "name": "stderr",
     "output_type": "stream",
     "text": [
      "100%|██████████| 281/281 [00:06<00:00, 41.94it/s]\n",
      "100%|██████████| 71/71 [00:01<00:00, 64.56it/s]\n",
      "100%|██████████| 943/943 [00:00<00:00, 1930.14it/s]\n"
     ]
    },
    {
     "name": "stdout",
     "output_type": "stream",
     "text": [
      "Epoch 27: train loss :   0.587211   val loss :   0.568253   val score :   0.322375\n",
      "------ epoch:28 ------\n"
     ]
    },
    {
     "name": "stderr",
     "output_type": "stream",
     "text": [
      "100%|██████████| 281/281 [00:06<00:00, 46.26it/s]\n",
      "100%|██████████| 71/71 [00:00<00:00, 95.30it/s] \n",
      "100%|██████████| 943/943 [00:00<00:00, 1871.42it/s]\n"
     ]
    },
    {
     "name": "stdout",
     "output_type": "stream",
     "text": [
      "Epoch 28: train loss :   0.587110   val loss :   0.568215   val score :   0.329799\n",
      "------ epoch:29 ------\n"
     ]
    },
    {
     "name": "stderr",
     "output_type": "stream",
     "text": [
      "100%|██████████| 281/281 [00:04<00:00, 64.94it/s]\n",
      "100%|██████████| 71/71 [00:00<00:00, 95.30it/s] \n",
      "100%|██████████| 943/943 [00:00<00:00, 1963.60it/s]\n"
     ]
    },
    {
     "name": "stdout",
     "output_type": "stream",
     "text": [
      "Epoch 29: train loss :   0.587005   val loss :   0.568036   val score :   0.328738\n",
      "------ epoch:30 ------\n"
     ]
    },
    {
     "name": "stderr",
     "output_type": "stream",
     "text": [
      "100%|██████████| 281/281 [00:04<00:00, 65.69it/s]\n",
      "100%|██████████| 71/71 [00:00<00:00, 93.94it/s] \n",
      "100%|██████████| 943/943 [00:00<00:00, 1809.36it/s]\n"
     ]
    },
    {
     "name": "stdout",
     "output_type": "stream",
     "text": [
      "Epoch 30: train loss :   0.586874   val loss :   0.567957   val score :   0.325557\n"
     ]
    },
    {
     "name": "stderr",
     "output_type": "stream",
     "text": [
      "100%|██████████| 1/1 [00:00<00:00, 315.10it/s]\n",
      "100%|██████████| 4/4 [00:00<00:00, 181.26it/s]\n"
     ]
    },
    {
     "name": "stdout",
     "output_type": "stream",
     "text": [
      "------ repeat : 4 ------\n"
     ]
    },
    {
     "name": "stderr",
     "output_type": "stream",
     "text": [
      "100%|██████████| 943/943 [00:11<00:00, 83.27it/s]\n"
     ]
    },
    {
     "name": "stdout",
     "output_type": "stream",
     "text": [
      "------ epoch:1 ------\n"
     ]
    },
    {
     "name": "stderr",
     "output_type": "stream",
     "text": [
      "100%|██████████| 281/281 [00:04<00:00, 62.80it/s]\n",
      "100%|██████████| 71/71 [00:00<00:00, 113.93it/s]\n",
      "100%|██████████| 943/943 [00:00<00:00, 1879.70it/s]\n"
     ]
    },
    {
     "name": "stdout",
     "output_type": "stream",
     "text": [
      "Epoch 1: train loss :   1.023581   val loss :   0.799266   val score :   0.098621\n",
      "------ epoch:2 ------\n"
     ]
    },
    {
     "name": "stderr",
     "output_type": "stream",
     "text": [
      "100%|██████████| 281/281 [00:04<00:00, 60.05it/s]\n",
      "100%|██████████| 71/71 [00:00<00:00, 115.91it/s]\n",
      "100%|██████████| 943/943 [00:00<00:00, 2114.54it/s]\n"
     ]
    },
    {
     "name": "stdout",
     "output_type": "stream",
     "text": [
      "Epoch 2: train loss :   0.909107   val loss :   0.736557   val score :   0.111347\n",
      "------ epoch:3 ------\n"
     ]
    },
    {
     "name": "stderr",
     "output_type": "stream",
     "text": [
      "100%|██████████| 281/281 [00:04<00:00, 62.82it/s]\n",
      "100%|██████████| 71/71 [00:00<00:00, 93.64it/s] \n",
      "100%|██████████| 943/943 [00:00<00:00, 2137.01it/s]\n"
     ]
    },
    {
     "name": "stdout",
     "output_type": "stream",
     "text": [
      "Epoch 3: train loss :   0.831810   val loss :   0.697346   val score :   0.125133\n",
      "------ epoch:4 ------\n"
     ]
    },
    {
     "name": "stderr",
     "output_type": "stream",
     "text": [
      "100%|██████████| 281/281 [00:04<00:00, 63.54it/s]\n",
      "100%|██████████| 71/71 [00:00<00:00, 93.00it/s] \n",
      "100%|██████████| 943/943 [00:00<00:00, 1961.25it/s]\n"
     ]
    },
    {
     "name": "stdout",
     "output_type": "stream",
     "text": [
      "Epoch 4: train loss :   0.777386   val loss :   0.670534   val score :   0.128314\n",
      "------ epoch:5 ------\n"
     ]
    },
    {
     "name": "stderr",
     "output_type": "stream",
     "text": [
      "100%|██████████| 281/281 [00:04<00:00, 65.77it/s]\n",
      "100%|██████████| 71/71 [00:00<00:00, 94.00it/s] \n",
      "100%|██████████| 943/943 [00:00<00:00, 1835.56it/s]\n"
     ]
    },
    {
     "name": "stdout",
     "output_type": "stream",
     "text": [
      "Epoch 5: train loss :   0.734928   val loss :   0.649670   val score :   0.143160\n",
      "------ epoch:6 ------\n"
     ]
    },
    {
     "name": "stderr",
     "output_type": "stream",
     "text": [
      "100%|██████████| 281/281 [00:04<00:00, 67.38it/s]\n",
      "100%|██████████| 71/71 [00:00<00:00, 99.10it/s] \n",
      "100%|██████████| 943/943 [00:00<00:00, 1903.75it/s]\n"
     ]
    },
    {
     "name": "stdout",
     "output_type": "stream",
     "text": [
      "Epoch 6: train loss :   0.701980   val loss :   0.632916   val score :   0.155885\n",
      "------ epoch:7 ------\n"
     ]
    },
    {
     "name": "stderr",
     "output_type": "stream",
     "text": [
      "100%|██████████| 281/281 [00:04<00:00, 66.76it/s]\n",
      "100%|██████████| 71/71 [00:00<00:00, 88.35it/s] \n",
      "100%|██████████| 943/943 [00:00<00:00, 1922.78it/s]\n"
     ]
    },
    {
     "name": "stdout",
     "output_type": "stream",
     "text": [
      "Epoch 7: train loss :   0.675461   val loss :   0.619394   val score :   0.171792\n",
      "------ epoch:8 ------\n"
     ]
    },
    {
     "name": "stderr",
     "output_type": "stream",
     "text": [
      "100%|██████████| 281/281 [00:04<00:00, 63.36it/s]\n",
      "100%|██████████| 71/71 [00:00<00:00, 116.14it/s]\n",
      "100%|██████████| 943/943 [00:00<00:00, 1107.63it/s]\n"
     ]
    },
    {
     "name": "stdout",
     "output_type": "stream",
     "text": [
      "Epoch 8: train loss :   0.655053   val loss :   0.608569   val score :   0.187699\n",
      "------ epoch:9 ------\n"
     ]
    },
    {
     "name": "stderr",
     "output_type": "stream",
     "text": [
      "100%|██████████| 281/281 [00:05<00:00, 51.24it/s]\n",
      "100%|██████████| 71/71 [00:00<00:00, 81.27it/s]\n",
      "100%|██████████| 943/943 [00:00<00:00, 2076.51it/s]\n"
     ]
    },
    {
     "name": "stdout",
     "output_type": "stream",
     "text": [
      "Epoch 9: train loss :   0.639709   val loss :   0.599857   val score :   0.198303\n",
      "------ epoch:10 ------\n"
     ]
    },
    {
     "name": "stderr",
     "output_type": "stream",
     "text": [
      "100%|██████████| 281/281 [00:06<00:00, 44.84it/s]\n",
      "100%|██████████| 71/71 [00:02<00:00, 32.58it/s]\n",
      "100%|██████████| 943/943 [00:00<00:00, 1786.96it/s]\n"
     ]
    },
    {
     "name": "stdout",
     "output_type": "stream",
     "text": [
      "Epoch 10: train loss :   0.626330   val loss :   0.592996   val score :   0.218452\n",
      "------ epoch:11 ------\n"
     ]
    },
    {
     "name": "stderr",
     "output_type": "stream",
     "text": [
      "100%|██████████| 281/281 [00:06<00:00, 42.82it/s]\n",
      "100%|██████████| 71/71 [00:01<00:00, 59.57it/s]\n",
      "100%|██████████| 943/943 [00:00<00:00, 1536.66it/s]\n"
     ]
    },
    {
     "name": "stdout",
     "output_type": "stream",
     "text": [
      "Epoch 11: train loss :   0.617018   val loss :   0.587528   val score :   0.237540\n",
      "------ epoch:12 ------\n"
     ]
    },
    {
     "name": "stderr",
     "output_type": "stream",
     "text": [
      "100%|██████████| 281/281 [00:05<00:00, 55.60it/s]\n",
      "100%|██████████| 71/71 [00:00<00:00, 88.37it/s] \n",
      "100%|██████████| 943/943 [00:00<00:00, 2000.43it/s]\n"
     ]
    },
    {
     "name": "stdout",
     "output_type": "stream",
     "text": [
      "Epoch 12: train loss :   0.609141   val loss :   0.583206   val score :   0.260870\n",
      "------ epoch:13 ------\n"
     ]
    },
    {
     "name": "stderr",
     "output_type": "stream",
     "text": [
      "100%|██████████| 281/281 [00:04<00:00, 65.78it/s]\n",
      "100%|██████████| 71/71 [00:00<00:00, 87.96it/s] \n",
      "100%|██████████| 943/943 [00:00<00:00, 1970.00it/s]\n"
     ]
    },
    {
     "name": "stdout",
     "output_type": "stream",
     "text": [
      "Epoch 13: train loss :   0.603606   val loss :   0.579887   val score :   0.273595\n",
      "------ epoch:14 ------\n"
     ]
    },
    {
     "name": "stderr",
     "output_type": "stream",
     "text": [
      "100%|██████████| 281/281 [00:04<00:00, 65.73it/s]\n",
      "100%|██████████| 71/71 [00:00<00:00, 90.50it/s] \n",
      "100%|██████████| 943/943 [00:00<00:00, 1965.29it/s]\n"
     ]
    },
    {
     "name": "stdout",
     "output_type": "stream",
     "text": [
      "Epoch 14: train loss :   0.599759   val loss :   0.577235   val score :   0.287381\n",
      "------ epoch:15 ------\n"
     ]
    },
    {
     "name": "stderr",
     "output_type": "stream",
     "text": [
      "100%|██████████| 281/281 [00:04<00:00, 69.05it/s]\n",
      "100%|██████████| 71/71 [00:00<00:00, 121.60it/s]\n",
      "100%|██████████| 943/943 [00:00<00:00, 1949.00it/s]\n"
     ]
    },
    {
     "name": "stdout",
     "output_type": "stream",
     "text": [
      "Epoch 15: train loss :   0.596704   val loss :   0.575171   val score :   0.293743\n",
      "------ epoch:16 ------\n"
     ]
    },
    {
     "name": "stderr",
     "output_type": "stream",
     "text": [
      "100%|██████████| 281/281 [00:04<00:00, 68.81it/s]\n",
      "100%|██████████| 71/71 [00:00<00:00, 95.88it/s] \n",
      "100%|██████████| 943/943 [00:00<00:00, 1916.42it/s]\n"
     ]
    },
    {
     "name": "stdout",
     "output_type": "stream",
     "text": [
      "Epoch 16: train loss :   0.593965   val loss :   0.573523   val score :   0.304348\n",
      "------ epoch:17 ------\n"
     ]
    },
    {
     "name": "stderr",
     "output_type": "stream",
     "text": [
      "100%|██████████| 281/281 [00:04<00:00, 69.28it/s]\n",
      "100%|██████████| 71/71 [00:00<00:00, 96.38it/s] \n",
      "100%|██████████| 943/943 [00:00<00:00, 1896.74it/s]\n"
     ]
    },
    {
     "name": "stdout",
     "output_type": "stream",
     "text": [
      "Epoch 17: train loss :   0.592283   val loss :   0.572248   val score :   0.308590\n",
      "------ epoch:18 ------\n"
     ]
    },
    {
     "name": "stderr",
     "output_type": "stream",
     "text": [
      "100%|██████████| 281/281 [00:04<00:00, 67.15it/s]\n",
      "100%|██████████| 71/71 [00:00<00:00, 94.90it/s] \n",
      "100%|██████████| 943/943 [00:00<00:00, 1830.55it/s]\n"
     ]
    },
    {
     "name": "stdout",
     "output_type": "stream",
     "text": [
      "Epoch 18: train loss :   0.590772   val loss :   0.571262   val score :   0.320255\n",
      "------ epoch:19 ------\n"
     ]
    },
    {
     "name": "stderr",
     "output_type": "stream",
     "text": [
      "100%|██████████| 281/281 [00:04<00:00, 66.20it/s]\n",
      "100%|██████████| 71/71 [00:00<00:00, 94.88it/s] \n",
      "100%|██████████| 943/943 [00:00<00:00, 1964.55it/s]\n"
     ]
    },
    {
     "name": "stdout",
     "output_type": "stream",
     "text": [
      "Epoch 19: train loss :   0.589450   val loss :   0.570451   val score :   0.322375\n",
      "------ epoch:20 ------\n"
     ]
    },
    {
     "name": "stderr",
     "output_type": "stream",
     "text": [
      "100%|██████████| 281/281 [00:04<00:00, 66.46it/s]\n",
      "100%|██████████| 71/71 [00:00<00:00, 95.97it/s] \n",
      "100%|██████████| 943/943 [00:00<00:00, 2025.38it/s]\n"
     ]
    },
    {
     "name": "stdout",
     "output_type": "stream",
     "text": [
      "Epoch 20: train loss :   0.589218   val loss :   0.569846   val score :   0.324496\n",
      "------ epoch:21 ------\n"
     ]
    },
    {
     "name": "stderr",
     "output_type": "stream",
     "text": [
      "100%|██████████| 281/281 [00:04<00:00, 64.28it/s]\n",
      "100%|██████████| 71/71 [00:00<00:00, 92.49it/s] \n",
      "100%|██████████| 943/943 [00:00<00:00, 1991.36it/s]\n"
     ]
    },
    {
     "name": "stdout",
     "output_type": "stream",
     "text": [
      "Epoch 21: train loss :   0.588136   val loss :   0.569420   val score :   0.326617\n",
      "------ epoch:22 ------\n"
     ]
    },
    {
     "name": "stderr",
     "output_type": "stream",
     "text": [
      "100%|██████████| 281/281 [00:04<00:00, 66.73it/s]\n",
      "100%|██████████| 71/71 [00:00<00:00, 120.44it/s]\n",
      "100%|██████████| 943/943 [00:00<00:00, 1953.54it/s]\n"
     ]
    },
    {
     "name": "stdout",
     "output_type": "stream",
     "text": [
      "Epoch 22: train loss :   0.587807   val loss :   0.569029   val score :   0.327678\n",
      "------ epoch:23 ------\n"
     ]
    },
    {
     "name": "stderr",
     "output_type": "stream",
     "text": [
      "100%|██████████| 281/281 [00:04<00:00, 66.25it/s]\n",
      "100%|██████████| 71/71 [00:00<00:00, 89.65it/s] \n",
      "100%|██████████| 943/943 [00:00<00:00, 2036.73it/s]\n"
     ]
    },
    {
     "name": "stdout",
     "output_type": "stream",
     "text": [
      "Epoch 23: train loss :   0.587567   val loss :   0.568686   val score :   0.332980\n",
      "------ epoch:24 ------\n"
     ]
    },
    {
     "name": "stderr",
     "output_type": "stream",
     "text": [
      "100%|██████████| 281/281 [00:04<00:00, 62.32it/s]\n",
      "100%|██████████| 71/71 [00:00<00:00, 90.60it/s] \n",
      "100%|██████████| 943/943 [00:00<00:00, 1271.89it/s]\n"
     ]
    },
    {
     "name": "stdout",
     "output_type": "stream",
     "text": [
      "Epoch 24: train loss :   0.587435   val loss :   0.568431   val score :   0.332980\n",
      "------ epoch:25 ------\n"
     ]
    },
    {
     "name": "stderr",
     "output_type": "stream",
     "text": [
      "100%|██████████| 281/281 [00:06<00:00, 45.02it/s]\n",
      "100%|██████████| 71/71 [00:01<00:00, 57.25it/s]\n",
      "100%|██████████| 943/943 [00:00<00:00, 1948.91it/s]\n"
     ]
    },
    {
     "name": "stdout",
     "output_type": "stream",
     "text": [
      "Epoch 25: train loss :   0.586902   val loss :   0.568231   val score :   0.332980\n",
      "------ epoch:26 ------\n"
     ]
    },
    {
     "name": "stderr",
     "output_type": "stream",
     "text": [
      "100%|██████████| 281/281 [00:05<00:00, 52.57it/s]\n",
      "100%|██████████| 71/71 [00:00<00:00, 96.07it/s] \n",
      "100%|██████████| 943/943 [00:00<00:00, 1904.55it/s]\n"
     ]
    },
    {
     "name": "stdout",
     "output_type": "stream",
     "text": [
      "Epoch 26: train loss :   0.587322   val loss :   0.568103   val score :   0.337222\n",
      "------ epoch:27 ------\n"
     ]
    },
    {
     "name": "stderr",
     "output_type": "stream",
     "text": [
      "100%|██████████| 281/281 [00:04<00:00, 67.64it/s]\n",
      "100%|██████████| 71/71 [00:00<00:00, 94.39it/s] \n",
      "100%|██████████| 943/943 [00:00<00:00, 1938.22it/s]\n"
     ]
    },
    {
     "name": "stdout",
     "output_type": "stream",
     "text": [
      "Epoch 27: train loss :   0.586832   val loss :   0.567956   val score :   0.335101\n",
      "------ epoch:28 ------\n"
     ]
    },
    {
     "name": "stderr",
     "output_type": "stream",
     "text": [
      "100%|██████████| 281/281 [00:04<00:00, 65.01it/s]\n",
      "100%|██████████| 71/71 [00:00<00:00, 93.78it/s] \n",
      "100%|██████████| 943/943 [00:00<00:00, 1796.89it/s]\n"
     ]
    },
    {
     "name": "stdout",
     "output_type": "stream",
     "text": [
      "Epoch 28: train loss :   0.587560   val loss :   0.567826   val score :   0.335101\n",
      "------ epoch:29 ------\n"
     ]
    },
    {
     "name": "stderr",
     "output_type": "stream",
     "text": [
      "100%|██████████| 281/281 [00:04<00:00, 65.44it/s]\n",
      "100%|██████████| 71/71 [00:00<00:00, 121.67it/s]\n",
      "100%|██████████| 943/943 [00:00<00:00, 1217.35it/s]\n"
     ]
    },
    {
     "name": "stdout",
     "output_type": "stream",
     "text": [
      "Epoch 29: train loss :   0.587314   val loss :   0.567763   val score :   0.335101\n",
      "Epoch 00029: reducing learning rate of group 0 to 1.0000e-04.\n",
      "------ epoch:30 ------\n"
     ]
    },
    {
     "name": "stderr",
     "output_type": "stream",
     "text": [
      "100%|██████████| 281/281 [00:04<00:00, 62.62it/s]\n",
      "100%|██████████| 71/71 [00:00<00:00, 89.85it/s] \n",
      "100%|██████████| 943/943 [00:00<00:00, 1257.77it/s]\n"
     ]
    },
    {
     "name": "stdout",
     "output_type": "stream",
     "text": [
      "Epoch 30: train loss :   0.586043   val loss :   0.567758   val score :   0.335101\n"
     ]
    },
    {
     "name": "stderr",
     "output_type": "stream",
     "text": [
      "100%|██████████| 1/1 [00:00<00:00, 283.88it/s]\n",
      "100%|██████████| 4/4 [00:00<00:00, 232.46it/s]\n"
     ]
    },
    {
     "name": "stdout",
     "output_type": "stream",
     "text": [
      "------ repeat : 5 ------\n"
     ]
    },
    {
     "name": "stderr",
     "output_type": "stream",
     "text": [
      "100%|██████████| 943/943 [00:11<00:00, 85.37it/s]\n"
     ]
    },
    {
     "name": "stdout",
     "output_type": "stream",
     "text": [
      "------ epoch:1 ------\n"
     ]
    },
    {
     "name": "stderr",
     "output_type": "stream",
     "text": [
      "100%|██████████| 281/281 [00:04<00:00, 61.37it/s]\n",
      "100%|██████████| 71/71 [00:00<00:00, 91.90it/s] \n",
      "100%|██████████| 943/943 [00:00<00:00, 1812.56it/s]\n"
     ]
    },
    {
     "name": "stdout",
     "output_type": "stream",
     "text": [
      "Epoch 1: train loss :   1.044350   val loss :   0.810891   val score :   0.096501\n",
      "------ epoch:2 ------\n"
     ]
    },
    {
     "name": "stderr",
     "output_type": "stream",
     "text": [
      "100%|██████████| 281/281 [00:04<00:00, 62.10it/s]\n",
      "100%|██████████| 71/71 [00:00<00:00, 98.77it/s] \n",
      "100%|██████████| 943/943 [00:00<00:00, 2369.59it/s]\n"
     ]
    },
    {
     "name": "stdout",
     "output_type": "stream",
     "text": [
      "Epoch 2: train loss :   0.924813   val loss :   0.744931   val score :   0.104984\n",
      "------ epoch:3 ------\n"
     ]
    },
    {
     "name": "stderr",
     "output_type": "stream",
     "text": [
      "100%|██████████| 281/281 [00:04<00:00, 66.33it/s]\n",
      "100%|██████████| 71/71 [00:00<00:00, 98.19it/s] \n",
      "100%|██████████| 943/943 [00:00<00:00, 1849.95it/s]\n"
     ]
    },
    {
     "name": "stdout",
     "output_type": "stream",
     "text": [
      "Epoch 3: train loss :   0.843908   val loss :   0.703275   val score :   0.107105\n",
      "------ epoch:4 ------\n"
     ]
    },
    {
     "name": "stderr",
     "output_type": "stream",
     "text": [
      "100%|██████████| 281/281 [00:04<00:00, 68.55it/s]\n",
      "100%|██████████| 71/71 [00:00<00:00, 96.69it/s] \n",
      "100%|██████████| 943/943 [00:00<00:00, 1207.69it/s]\n"
     ]
    },
    {
     "name": "stdout",
     "output_type": "stream",
     "text": [
      "Epoch 4: train loss :   0.786005   val loss :   0.675498   val score :   0.111347\n",
      "------ epoch:5 ------\n"
     ]
    },
    {
     "name": "stderr",
     "output_type": "stream",
     "text": [
      "100%|██████████| 281/281 [00:04<00:00, 63.74it/s]\n",
      "100%|██████████| 71/71 [00:00<00:00, 82.46it/s] \n",
      "100%|██████████| 943/943 [00:00<00:00, 1382.49it/s]\n"
     ]
    },
    {
     "name": "stdout",
     "output_type": "stream",
     "text": [
      "Epoch 5: train loss :   0.741937   val loss :   0.654065   val score :   0.130435\n",
      "------ epoch:6 ------\n"
     ]
    },
    {
     "name": "stderr",
     "output_type": "stream",
     "text": [
      "100%|██████████| 281/281 [00:04<00:00, 57.17it/s]\n",
      "100%|██████████| 71/71 [00:00<00:00, 108.00it/s]\n",
      "100%|██████████| 943/943 [00:00<00:00, 1946.45it/s]\n"
     ]
    },
    {
     "name": "stdout",
     "output_type": "stream",
     "text": [
      "Epoch 6: train loss :   0.707320   val loss :   0.636794   val score :   0.145281\n",
      "------ epoch:7 ------\n"
     ]
    },
    {
     "name": "stderr",
     "output_type": "stream",
     "text": [
      "100%|██████████| 281/281 [00:04<00:00, 62.00it/s]\n",
      "100%|██████████| 71/71 [00:00<00:00, 93.77it/s] \n",
      "100%|██████████| 943/943 [00:00<00:00, 1804.57it/s]\n"
     ]
    },
    {
     "name": "stdout",
     "output_type": "stream",
     "text": [
      "Epoch 7: train loss :   0.679931   val loss :   0.622784   val score :   0.155885\n",
      "------ epoch:8 ------\n"
     ]
    },
    {
     "name": "stderr",
     "output_type": "stream",
     "text": [
      "100%|██████████| 281/281 [00:04<00:00, 65.17it/s]\n",
      "100%|██████████| 71/71 [00:00<00:00, 71.37it/s]\n",
      "100%|██████████| 943/943 [00:00<00:00, 1398.86it/s]\n"
     ]
    },
    {
     "name": "stdout",
     "output_type": "stream",
     "text": [
      "Epoch 8: train loss :   0.658523   val loss :   0.611460   val score :   0.173913\n",
      "------ epoch:9 ------\n"
     ]
    },
    {
     "name": "stderr",
     "output_type": "stream",
     "text": [
      "100%|██████████| 281/281 [00:04<00:00, 58.77it/s]\n",
      "100%|██████████| 71/71 [00:00<00:00, 90.98it/s] \n",
      "100%|██████████| 943/943 [00:00<00:00, 1912.86it/s]\n"
     ]
    },
    {
     "name": "stdout",
     "output_type": "stream",
     "text": [
      "Epoch 9: train loss :   0.641858   val loss :   0.602387   val score :   0.186638\n",
      "------ epoch:10 ------\n"
     ]
    },
    {
     "name": "stderr",
     "output_type": "stream",
     "text": [
      "100%|██████████| 281/281 [00:04<00:00, 57.33it/s]\n",
      "100%|██████████| 71/71 [00:00<00:00, 90.49it/s] \n",
      "100%|██████████| 943/943 [00:00<00:00, 2011.13it/s]\n"
     ]
    },
    {
     "name": "stdout",
     "output_type": "stream",
     "text": [
      "Epoch 10: train loss :   0.629222   val loss :   0.595150   val score :   0.207847\n",
      "------ epoch:11 ------\n"
     ]
    },
    {
     "name": "stderr",
     "output_type": "stream",
     "text": [
      "100%|██████████| 281/281 [00:04<00:00, 58.93it/s]\n",
      "100%|██████████| 71/71 [00:01<00:00, 50.33it/s]\n",
      "100%|██████████| 943/943 [00:00<00:00, 1632.52it/s]\n"
     ]
    },
    {
     "name": "stdout",
     "output_type": "stream",
     "text": [
      "Epoch 11: train loss :   0.618628   val loss :   0.589397   val score :   0.218452\n",
      "------ epoch:12 ------\n"
     ]
    },
    {
     "name": "stderr",
     "output_type": "stream",
     "text": [
      "100%|██████████| 281/281 [00:12<00:00, 21.82it/s]\n",
      "100%|██████████| 71/71 [00:02<00:00, 28.19it/s]\n",
      "100%|██████████| 943/943 [00:01<00:00, 921.32it/s]\n"
     ]
    },
    {
     "name": "stdout",
     "output_type": "stream",
     "text": [
      "Epoch 12: train loss :   0.610613   val loss :   0.584892   val score :   0.235419\n",
      "------ epoch:13 ------\n"
     ]
    },
    {
     "name": "stderr",
     "output_type": "stream",
     "text": [
      "100%|██████████| 281/281 [00:07<00:00, 37.61it/s]\n",
      "100%|██████████| 71/71 [00:00<00:00, 119.33it/s]\n",
      "100%|██████████| 943/943 [00:00<00:00, 2222.69it/s]\n"
     ]
    },
    {
     "name": "stdout",
     "output_type": "stream",
     "text": [
      "Epoch 13: train loss :   0.605087   val loss :   0.581288   val score :   0.256628\n",
      "------ epoch:14 ------\n"
     ]
    },
    {
     "name": "stderr",
     "output_type": "stream",
     "text": [
      "100%|██████████| 281/281 [00:04<00:00, 66.53it/s]\n",
      "100%|██████████| 71/71 [00:00<00:00, 94.89it/s] \n",
      "100%|██████████| 943/943 [00:00<00:00, 2028.84it/s]\n"
     ]
    },
    {
     "name": "stdout",
     "output_type": "stream",
     "text": [
      "Epoch 14: train loss :   0.600834   val loss :   0.578481   val score :   0.260870\n",
      "------ epoch:15 ------\n"
     ]
    },
    {
     "name": "stderr",
     "output_type": "stream",
     "text": [
      "100%|██████████| 281/281 [00:04<00:00, 63.26it/s]\n",
      "100%|██████████| 71/71 [00:00<00:00, 83.77it/s]\n",
      "100%|██████████| 943/943 [00:00<00:00, 2197.14it/s]\n"
     ]
    },
    {
     "name": "stdout",
     "output_type": "stream",
     "text": [
      "Epoch 15: train loss :   0.596920   val loss :   0.576238   val score :   0.281018\n",
      "------ epoch:16 ------\n"
     ]
    },
    {
     "name": "stderr",
     "output_type": "stream",
     "text": [
      "100%|██████████| 281/281 [00:04<00:00, 64.50it/s]\n",
      "100%|██████████| 71/71 [00:00<00:00, 93.94it/s] \n",
      "100%|██████████| 943/943 [00:00<00:00, 2149.59it/s]\n"
     ]
    },
    {
     "name": "stdout",
     "output_type": "stream",
     "text": [
      "Epoch 16: train loss :   0.594299   val loss :   0.574476   val score :   0.282078\n",
      "------ epoch:17 ------\n"
     ]
    },
    {
     "name": "stderr",
     "output_type": "stream",
     "text": [
      "100%|██████████| 281/281 [00:04<00:00, 67.14it/s]\n",
      "100%|██████████| 71/71 [00:00<00:00, 94.21it/s] \n",
      "100%|██████████| 943/943 [00:00<00:00, 2239.27it/s]\n"
     ]
    },
    {
     "name": "stdout",
     "output_type": "stream",
     "text": [
      "Epoch 17: train loss :   0.592249   val loss :   0.573192   val score :   0.289502\n",
      "------ epoch:18 ------\n"
     ]
    },
    {
     "name": "stderr",
     "output_type": "stream",
     "text": [
      "100%|██████████| 281/281 [00:04<00:00, 66.16it/s]\n",
      "100%|██████████| 71/71 [00:00<00:00, 95.16it/s] \n",
      "100%|██████████| 943/943 [00:00<00:00, 2176.50it/s]\n"
     ]
    },
    {
     "name": "stdout",
     "output_type": "stream",
     "text": [
      "Epoch 18: train loss :   0.590796   val loss :   0.572062   val score :   0.291622\n",
      "------ epoch:19 ------\n"
     ]
    },
    {
     "name": "stderr",
     "output_type": "stream",
     "text": [
      "100%|██████████| 281/281 [00:04<00:00, 66.56it/s]\n",
      "100%|██████████| 71/71 [00:00<00:00, 118.35it/s]\n",
      "100%|██████████| 943/943 [00:00<00:00, 1972.29it/s]\n"
     ]
    },
    {
     "name": "stdout",
     "output_type": "stream",
     "text": [
      "Epoch 19: train loss :   0.589891   val loss :   0.571194   val score :   0.301166\n",
      "------ epoch:20 ------\n"
     ]
    },
    {
     "name": "stderr",
     "output_type": "stream",
     "text": [
      "100%|██████████| 281/281 [00:05<00:00, 53.33it/s]\n",
      "100%|██████████| 71/71 [00:00<00:00, 106.42it/s]\n",
      "100%|██████████| 943/943 [00:00<00:00, 1964.80it/s]\n"
     ]
    },
    {
     "name": "stdout",
     "output_type": "stream",
     "text": [
      "Epoch 20: train loss :   0.589558   val loss :   0.570533   val score :   0.304348\n",
      "------ epoch:21 ------\n"
     ]
    },
    {
     "name": "stderr",
     "output_type": "stream",
     "text": [
      "100%|██████████| 281/281 [00:04<00:00, 60.51it/s]\n",
      "100%|██████████| 71/71 [00:00<00:00, 90.89it/s] \n",
      "100%|██████████| 943/943 [00:00<00:00, 1384.47it/s]\n"
     ]
    },
    {
     "name": "stdout",
     "output_type": "stream",
     "text": [
      "Epoch 21: train loss :   0.588486   val loss :   0.570035   val score :   0.303287\n",
      "------ epoch:22 ------\n"
     ]
    },
    {
     "name": "stderr",
     "output_type": "stream",
     "text": [
      "100%|██████████| 281/281 [00:04<00:00, 62.32it/s]\n",
      "100%|██████████| 71/71 [00:00<00:00, 88.92it/s] \n",
      "100%|██████████| 943/943 [00:00<00:00, 2103.41it/s]\n"
     ]
    },
    {
     "name": "stdout",
     "output_type": "stream",
     "text": [
      "Epoch 22: train loss :   0.588141   val loss :   0.569566   val score :   0.305408\n",
      "------ epoch:23 ------\n"
     ]
    },
    {
     "name": "stderr",
     "output_type": "stream",
     "text": [
      "100%|██████████| 281/281 [00:04<00:00, 65.34it/s]\n",
      "100%|██████████| 71/71 [00:00<00:00, 90.63it/s] \n",
      "100%|██████████| 943/943 [00:00<00:00, 2015.86it/s]\n"
     ]
    },
    {
     "name": "stdout",
     "output_type": "stream",
     "text": [
      "Epoch 23: train loss :   0.587597   val loss :   0.569104   val score :   0.311771\n",
      "------ epoch:24 ------\n"
     ]
    },
    {
     "name": "stderr",
     "output_type": "stream",
     "text": [
      "100%|██████████| 281/281 [00:04<00:00, 66.27it/s]\n",
      "100%|██████████| 71/71 [00:00<00:00, 90.84it/s] \n",
      "100%|██████████| 943/943 [00:00<00:00, 2226.66it/s]\n"
     ]
    },
    {
     "name": "stdout",
     "output_type": "stream",
     "text": [
      "Epoch 24: train loss :   0.588003   val loss :   0.568866   val score :   0.317073\n",
      "------ epoch:25 ------\n"
     ]
    },
    {
     "name": "stderr",
     "output_type": "stream",
     "text": [
      "100%|██████████| 281/281 [00:04<00:00, 64.88it/s]\n",
      "100%|██████████| 71/71 [00:00<00:00, 93.86it/s] \n",
      "100%|██████████| 943/943 [00:00<00:00, 2093.06it/s]\n"
     ]
    },
    {
     "name": "stdout",
     "output_type": "stream",
     "text": [
      "Epoch 25: train loss :   0.587270   val loss :   0.568607   val score :   0.319194\n",
      "------ epoch:26 ------\n"
     ]
    },
    {
     "name": "stderr",
     "output_type": "stream",
     "text": [
      "100%|██████████| 281/281 [00:04<00:00, 63.44it/s]\n",
      "100%|██████████| 71/71 [00:00<00:00, 115.42it/s]\n",
      "100%|██████████| 943/943 [00:00<00:00, 2078.94it/s]\n"
     ]
    },
    {
     "name": "stdout",
     "output_type": "stream",
     "text": [
      "Epoch 26: train loss :   0.587454   val loss :   0.568429   val score :   0.320255\n",
      "------ epoch:27 ------\n"
     ]
    },
    {
     "name": "stderr",
     "output_type": "stream",
     "text": [
      "100%|██████████| 281/281 [00:04<00:00, 58.81it/s]\n",
      "100%|██████████| 71/71 [00:00<00:00, 89.51it/s]\n",
      "100%|██████████| 943/943 [00:00<00:00, 1853.61it/s]\n"
     ]
    },
    {
     "name": "stdout",
     "output_type": "stream",
     "text": [
      "Epoch 27: train loss :   0.586812   val loss :   0.568258   val score :   0.322375\n",
      "------ epoch:28 ------\n"
     ]
    },
    {
     "name": "stderr",
     "output_type": "stream",
     "text": [
      "100%|██████████| 281/281 [00:06<00:00, 41.49it/s]\n",
      "100%|██████████| 71/71 [00:01<00:00, 54.72it/s]\n",
      "100%|██████████| 943/943 [00:00<00:00, 1282.52it/s]\n"
     ]
    },
    {
     "name": "stdout",
     "output_type": "stream",
     "text": [
      "Epoch 28: train loss :   0.587596   val loss :   0.568172   val score :   0.324496\n",
      "------ epoch:29 ------\n"
     ]
    },
    {
     "name": "stderr",
     "output_type": "stream",
     "text": [
      "100%|██████████| 281/281 [00:05<00:00, 55.16it/s]\n",
      "100%|██████████| 71/71 [00:00<00:00, 84.55it/s] \n",
      "100%|██████████| 943/943 [00:00<00:00, 1335.71it/s]\n"
     ]
    },
    {
     "name": "stdout",
     "output_type": "stream",
     "text": [
      "Epoch 29: train loss :   0.587069   val loss :   0.568030   val score :   0.326617\n",
      "------ epoch:30 ------\n"
     ]
    },
    {
     "name": "stderr",
     "output_type": "stream",
     "text": [
      "100%|██████████| 281/281 [00:04<00:00, 60.55it/s]\n",
      "100%|██████████| 71/71 [00:00<00:00, 89.11it/s] \n",
      "100%|██████████| 943/943 [00:00<00:00, 1371.81it/s]\n"
     ]
    },
    {
     "name": "stdout",
     "output_type": "stream",
     "text": [
      "Epoch 30: train loss :   0.586666   val loss :   0.567936   val score :   0.330859\n"
     ]
    },
    {
     "name": "stderr",
     "output_type": "stream",
     "text": [
      "100%|██████████| 1/1 [00:00<00:00, 308.65it/s]\n",
      "100%|██████████| 4/4 [00:00<00:00, 97.27it/s]\n"
     ]
    }
   ],
   "source": [
    "embedding_dim = 10\n",
    "lr = 1e-3\n",
    "alpha = 1e-1\n",
    "phi = 1e-3\n",
    "lam = 1e-3\n",
    "sigma2 = None\n",
    "model_type = 4\n",
    "seed_everything(42)\n",
    "ColdStartTest(train, test, power=power, model_type=model_type, num_users=num_users, num_items=num_items, repeats=5, lam=lam, phi=phi, sigma2=sigma2,\n",
    "     embedding_dim=embedding_dim, lr=lr, alpha=alpha, patience=3, epochs=30, device=\"cuda:0\", model_selection=False)"
   ]
  },
  {
   "cell_type": "markdown",
   "id": "458dedee-f2fb-4678-b002-7bf97a096d33",
   "metadata": {},
   "source": [
    "### 5"
   ]
  },
  {
   "cell_type": "code",
   "execution_count": 18,
   "id": "f7135e46-8977-4787-a269-d7f83c5b1c0c",
   "metadata": {
    "collapsed": true,
    "jupyter": {
     "outputs_hidden": true
    },
    "tags": []
   },
   "outputs": [
    {
     "name": "stderr",
     "output_type": "stream",
     "text": [
      "100%|██████████| 943/943 [00:11<00:00, 84.70it/s] \n"
     ]
    },
    {
     "name": "stdout",
     "output_type": "stream",
     "text": [
      "------ epoch:1 ------\n"
     ]
    },
    {
     "name": "stderr",
     "output_type": "stream",
     "text": [
      "100%|██████████| 281/281 [00:03<00:00, 76.01it/s]\n",
      "100%|██████████| 71/71 [00:00<00:00, 106.20it/s]\n",
      "100%|██████████| 943/943 [00:00<00:00, 1480.73it/s]\n"
     ]
    },
    {
     "name": "stdout",
     "output_type": "stream",
     "text": [
      "Epoch 1: train loss :   1.048808   val loss :   0.815572   val score :   0.100742\n",
      "------ epoch:2 ------\n"
     ]
    },
    {
     "name": "stderr",
     "output_type": "stream",
     "text": [
      "100%|██████████| 281/281 [00:03<00:00, 71.55it/s]\n",
      "100%|██████████| 71/71 [00:00<00:00, 104.99it/s]\n",
      "100%|██████████| 943/943 [00:00<00:00, 1468.93it/s]\n"
     ]
    },
    {
     "name": "stdout",
     "output_type": "stream",
     "text": [
      "Epoch 2: train loss :   0.926600   val loss :   0.747636   val score :   0.104984\n",
      "------ epoch:3 ------\n"
     ]
    },
    {
     "name": "stderr",
     "output_type": "stream",
     "text": [
      "100%|██████████| 281/281 [00:03<00:00, 71.49it/s]\n",
      "100%|██████████| 71/71 [00:00<00:00, 102.00it/s]\n",
      "100%|██████████| 943/943 [00:00<00:00, 1455.00it/s]\n"
     ]
    },
    {
     "name": "stdout",
     "output_type": "stream",
     "text": [
      "Epoch 3: train loss :   0.843568   val loss :   0.704738   val score :   0.113468\n",
      "------ epoch:4 ------\n"
     ]
    },
    {
     "name": "stderr",
     "output_type": "stream",
     "text": [
      "100%|██████████| 281/281 [00:04<00:00, 59.68it/s]\n",
      "100%|██████████| 71/71 [00:00<00:00, 128.13it/s]\n",
      "100%|██████████| 943/943 [00:00<00:00, 1222.56it/s]\n"
     ]
    },
    {
     "name": "stdout",
     "output_type": "stream",
     "text": [
      "Epoch 4: train loss :   0.785448   val loss :   0.676472   val score :   0.126193\n",
      "------ epoch:5 ------\n"
     ]
    },
    {
     "name": "stderr",
     "output_type": "stream",
     "text": [
      "100%|██████████| 281/281 [00:04<00:00, 67.39it/s]\n",
      "100%|██████████| 71/71 [00:00<00:00, 94.02it/s] \n",
      "100%|██████████| 943/943 [00:00<00:00, 1990.67it/s]\n"
     ]
    },
    {
     "name": "stdout",
     "output_type": "stream",
     "text": [
      "Epoch 5: train loss :   0.740874   val loss :   0.654763   val score :   0.136797\n",
      "------ epoch:6 ------\n"
     ]
    },
    {
     "name": "stderr",
     "output_type": "stream",
     "text": [
      "100%|██████████| 281/281 [00:04<00:00, 68.35it/s]\n",
      "100%|██████████| 71/71 [00:00<00:00, 93.45it/s] \n",
      "100%|██████████| 943/943 [00:00<00:00, 2059.21it/s]\n"
     ]
    },
    {
     "name": "stdout",
     "output_type": "stream",
     "text": [
      "Epoch 6: train loss :   0.706016   val loss :   0.637294   val score :   0.145281\n",
      "------ epoch:7 ------\n"
     ]
    },
    {
     "name": "stderr",
     "output_type": "stream",
     "text": [
      "100%|██████████| 281/281 [00:04<00:00, 57.97it/s]\n",
      "100%|██████████| 71/71 [00:01<00:00, 64.31it/s]\n",
      "100%|██████████| 943/943 [00:00<00:00, 1663.62it/s]\n"
     ]
    },
    {
     "name": "stdout",
     "output_type": "stream",
     "text": [
      "Epoch 7: train loss :   0.678811   val loss :   0.623097   val score :   0.162248\n",
      "------ epoch:8 ------\n"
     ]
    },
    {
     "name": "stderr",
     "output_type": "stream",
     "text": [
      "100%|██████████| 281/281 [00:06<00:00, 44.35it/s]\n",
      "100%|██████████| 71/71 [00:00<00:00, 83.51it/s]\n",
      "100%|██████████| 943/943 [00:00<00:00, 1811.55it/s]\n"
     ]
    },
    {
     "name": "stdout",
     "output_type": "stream",
     "text": [
      "Epoch 8: train loss :   0.657608   val loss :   0.611725   val score :   0.184517\n",
      "------ epoch:9 ------\n"
     ]
    },
    {
     "name": "stderr",
     "output_type": "stream",
     "text": [
      "100%|██████████| 281/281 [00:04<00:00, 66.03it/s]\n",
      "100%|██████████| 71/71 [00:00<00:00, 94.07it/s] \n",
      "100%|██████████| 943/943 [00:00<00:00, 1644.00it/s]\n"
     ]
    },
    {
     "name": "stdout",
     "output_type": "stream",
     "text": [
      "Epoch 9: train loss :   0.640846   val loss :   0.602620   val score :   0.205726\n",
      "------ epoch:10 ------\n"
     ]
    },
    {
     "name": "stderr",
     "output_type": "stream",
     "text": [
      "100%|██████████| 281/281 [00:04<00:00, 66.74it/s]\n",
      "100%|██████████| 71/71 [00:00<00:00, 94.35it/s] \n",
      "100%|██████████| 943/943 [00:00<00:00, 1183.62it/s]\n"
     ]
    },
    {
     "name": "stdout",
     "output_type": "stream",
     "text": [
      "Epoch 10: train loss :   0.628284   val loss :   0.595358   val score :   0.225875\n",
      "------ epoch:11 ------\n"
     ]
    },
    {
     "name": "stderr",
     "output_type": "stream",
     "text": [
      "100%|██████████| 281/281 [00:04<00:00, 64.29it/s]\n",
      "100%|██████████| 71/71 [00:00<00:00, 117.30it/s]\n",
      "100%|██████████| 943/943 [00:00<00:00, 1498.28it/s]\n"
     ]
    },
    {
     "name": "stdout",
     "output_type": "stream",
     "text": [
      "Epoch 11: train loss :   0.618451   val loss :   0.589570   val score :   0.240721\n",
      "------ epoch:12 ------\n"
     ]
    },
    {
     "name": "stderr",
     "output_type": "stream",
     "text": [
      "100%|██████████| 281/281 [00:04<00:00, 62.75it/s]\n",
      "100%|██████████| 71/71 [00:00<00:00, 93.25it/s] \n",
      "100%|██████████| 943/943 [00:00<00:00, 1542.34it/s]\n"
     ]
    },
    {
     "name": "stdout",
     "output_type": "stream",
     "text": [
      "Epoch 12: train loss :   0.610048   val loss :   0.585042   val score :   0.261930\n",
      "------ epoch:13 ------\n"
     ]
    },
    {
     "name": "stderr",
     "output_type": "stream",
     "text": [
      "100%|██████████| 281/281 [00:04<00:00, 63.80it/s]\n",
      "100%|██████████| 71/71 [00:00<00:00, 91.56it/s] \n",
      "100%|██████████| 943/943 [00:00<00:00, 1653.87it/s]\n"
     ]
    },
    {
     "name": "stdout",
     "output_type": "stream",
     "text": [
      "Epoch 13: train loss :   0.604870   val loss :   0.581441   val score :   0.274655\n",
      "------ epoch:14 ------\n"
     ]
    },
    {
     "name": "stderr",
     "output_type": "stream",
     "text": [
      "100%|██████████| 281/281 [00:04<00:00, 66.40it/s]\n",
      "100%|██████████| 71/71 [00:00<00:00, 98.55it/s] \n",
      "100%|██████████| 943/943 [00:00<00:00, 2106.63it/s]\n"
     ]
    },
    {
     "name": "stdout",
     "output_type": "stream",
     "text": [
      "Epoch 14: train loss :   0.600058   val loss :   0.578674   val score :   0.277837\n",
      "------ epoch:15 ------\n"
     ]
    },
    {
     "name": "stderr",
     "output_type": "stream",
     "text": [
      "100%|██████████| 281/281 [00:04<00:00, 64.54it/s]\n",
      "100%|██████████| 71/71 [00:00<00:00, 96.92it/s] \n",
      "100%|██████████| 943/943 [00:00<00:00, 2414.37it/s]\n"
     ]
    },
    {
     "name": "stdout",
     "output_type": "stream",
     "text": [
      "Epoch 15: train loss :   0.596877   val loss :   0.576438   val score :   0.293743\n",
      "------ epoch:16 ------\n"
     ]
    },
    {
     "name": "stderr",
     "output_type": "stream",
     "text": [
      "100%|██████████| 281/281 [00:04<00:00, 63.12it/s]\n",
      "100%|██████████| 71/71 [00:00<00:00, 87.49it/s] \n",
      "100%|██████████| 943/943 [00:00<00:00, 2040.71it/s]\n"
     ]
    },
    {
     "name": "stdout",
     "output_type": "stream",
     "text": [
      "Epoch 16: train loss :   0.594406   val loss :   0.574756   val score :   0.297985\n",
      "------ epoch:17 ------\n"
     ]
    },
    {
     "name": "stderr",
     "output_type": "stream",
     "text": [
      "100%|██████████| 281/281 [00:04<00:00, 62.63it/s]\n",
      "100%|██████████| 71/71 [00:00<00:00, 119.69it/s]\n",
      "100%|██████████| 943/943 [00:00<00:00, 1989.03it/s]\n"
     ]
    },
    {
     "name": "stdout",
     "output_type": "stream",
     "text": [
      "Epoch 17: train loss :   0.592344   val loss :   0.573385   val score :   0.299046\n",
      "------ epoch:18 ------\n"
     ]
    },
    {
     "name": "stderr",
     "output_type": "stream",
     "text": [
      "100%|██████████| 281/281 [00:05<00:00, 50.95it/s]\n",
      "100%|██████████| 71/71 [00:00<00:00, 115.44it/s]\n",
      "100%|██████████| 943/943 [00:00<00:00, 1216.45it/s]\n"
     ]
    },
    {
     "name": "stdout",
     "output_type": "stream",
     "text": [
      "Epoch 18: train loss :   0.591015   val loss :   0.572245   val score :   0.304348\n",
      "------ epoch:19 ------\n"
     ]
    },
    {
     "name": "stderr",
     "output_type": "stream",
     "text": [
      "100%|██████████| 281/281 [00:04<00:00, 65.31it/s]\n",
      "100%|██████████| 71/71 [00:00<00:00, 87.54it/s] \n",
      "100%|██████████| 943/943 [00:00<00:00, 1321.83it/s]\n"
     ]
    },
    {
     "name": "stdout",
     "output_type": "stream",
     "text": [
      "Epoch 19: train loss :   0.590260   val loss :   0.571457   val score :   0.314952\n",
      "------ epoch:20 ------\n"
     ]
    },
    {
     "name": "stderr",
     "output_type": "stream",
     "text": [
      "100%|██████████| 281/281 [00:04<00:00, 63.98it/s]\n",
      "100%|██████████| 71/71 [00:00<00:00, 92.72it/s] \n",
      "100%|██████████| 943/943 [00:00<00:00, 1315.59it/s]\n"
     ]
    },
    {
     "name": "stdout",
     "output_type": "stream",
     "text": [
      "Epoch 20: train loss :   0.589324   val loss :   0.570690   val score :   0.314952\n",
      "------ epoch:21 ------\n"
     ]
    },
    {
     "name": "stderr",
     "output_type": "stream",
     "text": [
      "100%|██████████| 281/281 [00:04<00:00, 65.23it/s]\n",
      "100%|██████████| 71/71 [00:00<00:00, 93.09it/s] \n",
      "100%|██████████| 943/943 [00:00<00:00, 1220.14it/s]\n"
     ]
    },
    {
     "name": "stdout",
     "output_type": "stream",
     "text": [
      "Epoch 21: train loss :   0.589669   val loss :   0.570135   val score :   0.322375\n",
      "------ epoch:22 ------\n"
     ]
    },
    {
     "name": "stderr",
     "output_type": "stream",
     "text": [
      "100%|██████████| 281/281 [00:04<00:00, 65.75it/s]\n",
      "100%|██████████| 71/71 [00:00<00:00, 93.21it/s] \n",
      "100%|██████████| 943/943 [00:00<00:00, 1336.42it/s]\n"
     ]
    },
    {
     "name": "stdout",
     "output_type": "stream",
     "text": [
      "Epoch 22: train loss :   0.587954   val loss :   0.569637   val score :   0.326617\n",
      "------ epoch:23 ------\n"
     ]
    },
    {
     "name": "stderr",
     "output_type": "stream",
     "text": [
      "100%|██████████| 281/281 [00:04<00:00, 65.76it/s]\n",
      "100%|██████████| 71/71 [00:00<00:00, 94.60it/s] \n",
      "100%|██████████| 943/943 [00:00<00:00, 1254.12it/s]\n"
     ]
    },
    {
     "name": "stdout",
     "output_type": "stream",
     "text": [
      "Epoch 23: train loss :   0.587583   val loss :   0.569266   val score :   0.330859\n",
      "------ epoch:24 ------\n"
     ]
    },
    {
     "name": "stderr",
     "output_type": "stream",
     "text": [
      "100%|██████████| 281/281 [00:04<00:00, 63.61it/s]\n",
      "100%|██████████| 71/71 [00:00<00:00, 120.12it/s]\n",
      "100%|██████████| 943/943 [00:00<00:00, 1306.11it/s]\n"
     ]
    },
    {
     "name": "stdout",
     "output_type": "stream",
     "text": [
      "Epoch 24: train loss :   0.587120   val loss :   0.568886   val score :   0.326617\n",
      "------ epoch:25 ------\n"
     ]
    },
    {
     "name": "stderr",
     "output_type": "stream",
     "text": [
      "100%|██████████| 281/281 [00:04<00:00, 61.15it/s]\n",
      "100%|██████████| 71/71 [00:00<00:00, 121.55it/s]\n",
      "100%|██████████| 943/943 [00:00<00:00, 1235.08it/s]\n"
     ]
    },
    {
     "name": "stdout",
     "output_type": "stream",
     "text": [
      "Epoch 25: train loss :   0.587184   val loss :   0.568698   val score :   0.335101\n",
      "------ epoch:26 ------\n"
     ]
    },
    {
     "name": "stderr",
     "output_type": "stream",
     "text": [
      "100%|██████████| 281/281 [00:04<00:00, 65.04it/s]\n",
      "100%|██████████| 71/71 [00:00<00:00, 90.77it/s] \n",
      "100%|██████████| 943/943 [00:00<00:00, 1000.26it/s]\n"
     ]
    },
    {
     "name": "stdout",
     "output_type": "stream",
     "text": [
      "Epoch 26: train loss :   0.586961   val loss :   0.568492   val score :   0.335101\n",
      "------ epoch:27 ------\n"
     ]
    },
    {
     "name": "stderr",
     "output_type": "stream",
     "text": [
      "100%|██████████| 281/281 [00:04<00:00, 59.86it/s]\n",
      "100%|██████████| 71/71 [00:00<00:00, 89.92it/s] \n",
      "100%|██████████| 943/943 [00:00<00:00, 1666.91it/s]\n"
     ]
    },
    {
     "name": "stdout",
     "output_type": "stream",
     "text": [
      "Epoch 27: train loss :   0.586941   val loss :   0.568359   val score :   0.335101\n",
      "------ epoch:28 ------\n"
     ]
    },
    {
     "name": "stderr",
     "output_type": "stream",
     "text": [
      "100%|██████████| 281/281 [00:04<00:00, 59.80it/s]\n",
      "100%|██████████| 71/71 [00:00<00:00, 92.19it/s] \n",
      "100%|██████████| 943/943 [00:00<00:00, 975.71it/s] \n"
     ]
    },
    {
     "name": "stdout",
     "output_type": "stream",
     "text": [
      "Epoch 28: train loss :   0.587101   val loss :   0.568127   val score :   0.335101\n",
      "Epoch 00028: reducing learning rate of group 0 to 1.0000e-04.\n",
      "------ epoch:29 ------\n"
     ]
    },
    {
     "name": "stderr",
     "output_type": "stream",
     "text": [
      "100%|██████████| 281/281 [00:04<00:00, 60.39it/s]\n",
      "100%|██████████| 71/71 [00:00<00:00, 89.21it/s] \n",
      "100%|██████████| 943/943 [00:00<00:00, 1094.95it/s]\n"
     ]
    },
    {
     "name": "stdout",
     "output_type": "stream",
     "text": [
      "Epoch 29: train loss :   0.586689   val loss :   0.568121   val score :   0.335101\n",
      "------ epoch:30 ------\n"
     ]
    },
    {
     "name": "stderr",
     "output_type": "stream",
     "text": [
      "100%|██████████| 281/281 [00:04<00:00, 62.53it/s]\n",
      "100%|██████████| 71/71 [00:00<00:00, 90.72it/s] \n",
      "100%|██████████| 943/943 [00:00<00:00, 1457.45it/s]\n"
     ]
    },
    {
     "name": "stdout",
     "output_type": "stream",
     "text": [
      "Epoch 30: train loss :   0.586228   val loss :   0.568110   val score :   0.335101\n",
      "------ repeat : 1 ------\n",
      "------ epoch:1 ------\n"
     ]
    },
    {
     "name": "stderr",
     "output_type": "stream",
     "text": [
      "100%|██████████| 281/281 [00:04<00:00, 65.65it/s]\n",
      "100%|██████████| 71/71 [00:00<00:00, 116.08it/s]\n",
      "100%|██████████| 943/943 [00:00<00:00, 1893.84it/s]\n"
     ]
    },
    {
     "name": "stdout",
     "output_type": "stream",
     "text": [
      "Epoch 1: train loss :   0.676747   val loss :   0.599974   val score :   0.295864\n",
      "------ epoch:2 ------\n"
     ]
    },
    {
     "name": "stderr",
     "output_type": "stream",
     "text": [
      "100%|██████████| 281/281 [00:04<00:00, 64.61it/s]\n",
      "100%|██████████| 71/71 [00:00<00:00, 89.17it/s] \n",
      "100%|██████████| 943/943 [00:00<00:00, 2075.20it/s]\n"
     ]
    },
    {
     "name": "stdout",
     "output_type": "stream",
     "text": [
      "Epoch 2: train loss :   0.616215   val loss :   0.598495   val score :   0.306469\n",
      "------ epoch:3 ------\n"
     ]
    },
    {
     "name": "stderr",
     "output_type": "stream",
     "text": [
      "100%|██████████| 281/281 [00:04<00:00, 64.40it/s]\n",
      "100%|██████████| 71/71 [00:00<00:00, 90.94it/s] \n",
      "100%|██████████| 943/943 [00:00<00:00, 1392.64it/s]\n"
     ]
    },
    {
     "name": "stdout",
     "output_type": "stream",
     "text": [
      "Epoch 3: train loss :   0.607189   val loss :   0.597588   val score :   0.313892\n",
      "------ epoch:4 ------\n"
     ]
    },
    {
     "name": "stderr",
     "output_type": "stream",
     "text": [
      "100%|██████████| 281/281 [00:04<00:00, 59.98it/s]\n",
      "100%|██████████| 71/71 [00:00<00:00, 87.40it/s] \n",
      "100%|██████████| 943/943 [00:00<00:00, 2040.26it/s]\n"
     ]
    },
    {
     "name": "stdout",
     "output_type": "stream",
     "text": [
      "Epoch 4: train loss :   0.602593   val loss :   0.596710   val score :   0.312831\n",
      "------ epoch:5 ------\n"
     ]
    },
    {
     "name": "stderr",
     "output_type": "stream",
     "text": [
      "100%|██████████| 281/281 [00:04<00:00, 60.94it/s]\n",
      "100%|██████████| 71/71 [00:00<00:00, 84.53it/s] \n",
      "100%|██████████| 943/943 [00:00<00:00, 2198.11it/s]\n"
     ]
    },
    {
     "name": "stdout",
     "output_type": "stream",
     "text": [
      "Epoch 5: train loss :   0.600993   val loss :   0.596532   val score :   0.319194\n",
      "------ epoch:6 ------\n"
     ]
    },
    {
     "name": "stderr",
     "output_type": "stream",
     "text": [
      "100%|██████████| 281/281 [00:04<00:00, 62.54it/s]\n",
      "100%|██████████| 71/71 [00:00<00:00, 88.78it/s] \n",
      "100%|██████████| 943/943 [00:00<00:00, 1944.26it/s]\n"
     ]
    },
    {
     "name": "stdout",
     "output_type": "stream",
     "text": [
      "Epoch 6: train loss :   0.600336   val loss :   0.596318   val score :   0.308590\n",
      "------ epoch:7 ------\n"
     ]
    },
    {
     "name": "stderr",
     "output_type": "stream",
     "text": [
      "100%|██████████| 281/281 [00:04<00:00, 61.16it/s]\n",
      "100%|██████████| 71/71 [00:01<00:00, 63.87it/s]\n",
      "100%|██████████| 943/943 [00:00<00:00, 1850.31it/s]\n"
     ]
    },
    {
     "name": "stdout",
     "output_type": "stream",
     "text": [
      "Epoch 7: train loss :   0.600188   val loss :   0.596556   val score :   0.309650\n",
      "------ epoch:8 ------\n"
     ]
    },
    {
     "name": "stderr",
     "output_type": "stream",
     "text": [
      "100%|██████████| 281/281 [00:04<00:00, 59.93it/s]\n",
      "100%|██████████| 71/71 [00:00<00:00, 116.96it/s]\n",
      "100%|██████████| 943/943 [00:00<00:00, 2195.57it/s]\n"
     ]
    },
    {
     "name": "stdout",
     "output_type": "stream",
     "text": [
      "Epoch 8: train loss :   0.600405   val loss :   0.596615   val score :   0.313892\n",
      "Epoch 00008: reducing learning rate of group 0 to 1.0000e-03.\n",
      "------ epoch:9 ------\n"
     ]
    },
    {
     "name": "stderr",
     "output_type": "stream",
     "text": [
      "100%|██████████| 281/281 [00:04<00:00, 65.45it/s]\n",
      "100%|██████████| 71/71 [00:00<00:00, 93.74it/s] \n",
      "100%|██████████| 943/943 [00:00<00:00, 2191.19it/s]\n"
     ]
    },
    {
     "name": "stdout",
     "output_type": "stream",
     "text": [
      "Epoch 9: train loss :   0.597573   val loss :   0.596404   val score :   0.317073\n"
     ]
    },
    {
     "name": "stderr",
     "output_type": "stream",
     "text": [
      "100%|██████████| 1/1 [00:00<00:00, 199.03it/s]\n",
      "100%|██████████| 4/4 [00:00<00:00, 195.03it/s]\n"
     ]
    },
    {
     "name": "stdout",
     "output_type": "stream",
     "text": [
      "------ repeat : 2 ------\n",
      "------ epoch:1 ------\n"
     ]
    },
    {
     "name": "stderr",
     "output_type": "stream",
     "text": [
      "100%|██████████| 281/281 [00:04<00:00, 65.19it/s]\n",
      "100%|██████████| 71/71 [00:00<00:00, 86.92it/s] \n",
      "100%|██████████| 943/943 [00:01<00:00, 938.27it/s] \n"
     ]
    },
    {
     "name": "stdout",
     "output_type": "stream",
     "text": [
      "Epoch 1: train loss :   0.676161   val loss :   0.600577   val score :   0.324496\n",
      "------ epoch:2 ------\n"
     ]
    },
    {
     "name": "stderr",
     "output_type": "stream",
     "text": [
      "100%|██████████| 281/281 [00:04<00:00, 57.65it/s]\n",
      "100%|██████████| 71/71 [00:00<00:00, 92.06it/s] \n",
      "100%|██████████| 943/943 [00:00<00:00, 2162.27it/s]\n"
     ]
    },
    {
     "name": "stdout",
     "output_type": "stream",
     "text": [
      "Epoch 2: train loss :   0.616435   val loss :   0.598221   val score :   0.308590\n",
      "------ epoch:3 ------\n"
     ]
    },
    {
     "name": "stderr",
     "output_type": "stream",
     "text": [
      "100%|██████████| 281/281 [00:05<00:00, 49.69it/s]\n",
      "100%|██████████| 71/71 [00:00<00:00, 91.52it/s] \n",
      "100%|██████████| 943/943 [00:00<00:00, 2191.90it/s]\n"
     ]
    },
    {
     "name": "stdout",
     "output_type": "stream",
     "text": [
      "Epoch 3: train loss :   0.607032   val loss :   0.597309   val score :   0.324496\n",
      "------ epoch:4 ------\n"
     ]
    },
    {
     "name": "stderr",
     "output_type": "stream",
     "text": [
      "100%|██████████| 281/281 [00:04<00:00, 61.48it/s]\n",
      "100%|██████████| 71/71 [00:00<00:00, 97.24it/s] \n",
      "100%|██████████| 943/943 [00:00<00:00, 2048.02it/s]\n"
     ]
    },
    {
     "name": "stdout",
     "output_type": "stream",
     "text": [
      "Epoch 4: train loss :   0.602460   val loss :   0.596594   val score :   0.329799\n",
      "------ epoch:5 ------\n"
     ]
    },
    {
     "name": "stderr",
     "output_type": "stream",
     "text": [
      "100%|██████████| 281/281 [00:04<00:00, 67.55it/s]\n",
      "100%|██████████| 71/71 [00:00<00:00, 99.27it/s] \n",
      "100%|██████████| 943/943 [00:00<00:00, 2068.22it/s]\n"
     ]
    },
    {
     "name": "stdout",
     "output_type": "stream",
     "text": [
      "Epoch 5: train loss :   0.600586   val loss :   0.596218   val score :   0.330859\n",
      "------ epoch:6 ------\n"
     ]
    },
    {
     "name": "stderr",
     "output_type": "stream",
     "text": [
      "100%|██████████| 281/281 [00:04<00:00, 68.20it/s]\n",
      "100%|██████████| 71/71 [00:00<00:00, 129.74it/s]\n",
      "100%|██████████| 943/943 [00:00<00:00, 2055.72it/s]\n"
     ]
    },
    {
     "name": "stdout",
     "output_type": "stream",
     "text": [
      "Epoch 6: train loss :   0.600191   val loss :   0.596405   val score :   0.329799\n",
      "------ epoch:7 ------\n"
     ]
    },
    {
     "name": "stderr",
     "output_type": "stream",
     "text": [
      "100%|██████████| 281/281 [00:04<00:00, 68.31it/s]\n",
      "100%|██████████| 71/71 [00:00<00:00, 99.85it/s] \n",
      "100%|██████████| 943/943 [00:00<00:00, 1940.31it/s]\n"
     ]
    },
    {
     "name": "stdout",
     "output_type": "stream",
     "text": [
      "Epoch 7: train loss :   0.600198   val loss :   0.596289   val score :   0.338282\n",
      "------ epoch:8 ------\n"
     ]
    },
    {
     "name": "stderr",
     "output_type": "stream",
     "text": [
      "100%|██████████| 281/281 [00:03<00:00, 71.91it/s]\n",
      "100%|██████████| 71/71 [00:00<00:00, 90.28it/s] \n",
      "100%|██████████| 943/943 [00:00<00:00, 2032.73it/s]\n"
     ]
    },
    {
     "name": "stdout",
     "output_type": "stream",
     "text": [
      "Epoch 8: train loss :   0.600480   val loss :   0.596281   val score :   0.326617\n",
      "------ epoch:9 ------\n"
     ]
    },
    {
     "name": "stderr",
     "output_type": "stream",
     "text": [
      "100%|██████████| 281/281 [00:04<00:00, 65.98it/s]\n",
      "100%|██████████| 71/71 [00:00<00:00, 92.53it/s] \n",
      "100%|██████████| 943/943 [00:00<00:00, 1584.02it/s]\n"
     ]
    },
    {
     "name": "stdout",
     "output_type": "stream",
     "text": [
      "Epoch 9: train loss :   0.600617   val loss :   0.596453   val score :   0.336161\n",
      "------ epoch:10 ------\n"
     ]
    },
    {
     "name": "stderr",
     "output_type": "stream",
     "text": [
      "100%|██████████| 281/281 [00:04<00:00, 61.89it/s]\n",
      "100%|██████████| 71/71 [00:00<00:00, 96.56it/s] \n",
      "100%|██████████| 943/943 [00:00<00:00, 1169.33it/s]\n"
     ]
    },
    {
     "name": "stdout",
     "output_type": "stream",
     "text": [
      "Epoch 10: train loss :   0.600752   val loss :   0.596738   val score :   0.327678\n",
      "Epoch 00010: reducing learning rate of group 0 to 1.0000e-03.\n",
      "------ epoch:11 ------\n"
     ]
    },
    {
     "name": "stderr",
     "output_type": "stream",
     "text": [
      "100%|██████████| 281/281 [00:04<00:00, 66.52it/s]\n",
      "100%|██████████| 71/71 [00:00<00:00, 94.98it/s] \n",
      "100%|██████████| 943/943 [00:00<00:00, 1262.69it/s]\n"
     ]
    },
    {
     "name": "stdout",
     "output_type": "stream",
     "text": [
      "Epoch 11: train loss :   0.597359   val loss :   0.596576   val score :   0.326617\n"
     ]
    },
    {
     "name": "stderr",
     "output_type": "stream",
     "text": [
      "100%|██████████| 1/1 [00:00<00:00, 305.82it/s]\n",
      "100%|██████████| 4/4 [00:00<00:00, 205.77it/s]\n"
     ]
    },
    {
     "name": "stdout",
     "output_type": "stream",
     "text": [
      "------ repeat : 3 ------\n",
      "------ epoch:1 ------\n"
     ]
    },
    {
     "name": "stderr",
     "output_type": "stream",
     "text": [
      "100%|██████████| 281/281 [00:04<00:00, 66.38it/s]\n",
      "100%|██████████| 71/71 [00:00<00:00, 93.86it/s] \n",
      "100%|██████████| 943/943 [00:00<00:00, 1557.37it/s]\n"
     ]
    },
    {
     "name": "stdout",
     "output_type": "stream",
     "text": [
      "Epoch 1: train loss :   0.677429   val loss :   0.600437   val score :   0.293743\n",
      "------ epoch:2 ------\n"
     ]
    },
    {
     "name": "stderr",
     "output_type": "stream",
     "text": [
      "100%|██████████| 281/281 [00:04<00:00, 66.73it/s]\n",
      "100%|██████████| 71/71 [00:00<00:00, 118.12it/s]\n",
      "100%|██████████| 943/943 [00:00<00:00, 1276.67it/s]\n"
     ]
    },
    {
     "name": "stdout",
     "output_type": "stream",
     "text": [
      "Epoch 2: train loss :   0.616482   val loss :   0.598714   val score :   0.323436\n",
      "------ epoch:3 ------\n"
     ]
    },
    {
     "name": "stderr",
     "output_type": "stream",
     "text": [
      "100%|██████████| 281/281 [00:04<00:00, 62.33it/s]\n",
      "100%|██████████| 71/71 [00:00<00:00, 88.87it/s] \n",
      "100%|██████████| 943/943 [00:00<00:00, 1563.38it/s]\n"
     ]
    },
    {
     "name": "stdout",
     "output_type": "stream",
     "text": [
      "Epoch 3: train loss :   0.607392   val loss :   0.597596   val score :   0.307529\n",
      "------ epoch:4 ------\n"
     ]
    },
    {
     "name": "stderr",
     "output_type": "stream",
     "text": [
      "100%|██████████| 281/281 [00:04<00:00, 65.04it/s]\n",
      "100%|██████████| 71/71 [00:00<00:00, 90.83it/s] \n",
      "100%|██████████| 943/943 [00:00<00:00, 1884.25it/s]\n"
     ]
    },
    {
     "name": "stdout",
     "output_type": "stream",
     "text": [
      "Epoch 4: train loss :   0.602622   val loss :   0.596668   val score :   0.320255\n",
      "------ epoch:5 ------\n"
     ]
    },
    {
     "name": "stderr",
     "output_type": "stream",
     "text": [
      "100%|██████████| 281/281 [00:04<00:00, 65.56it/s]\n",
      "100%|██████████| 71/71 [00:00<00:00, 89.55it/s] \n",
      "100%|██████████| 943/943 [00:00<00:00, 1833.62it/s]\n"
     ]
    },
    {
     "name": "stdout",
     "output_type": "stream",
     "text": [
      "Epoch 5: train loss :   0.600948   val loss :   0.596487   val score :   0.313892\n",
      "Epoch 00005: reducing learning rate of group 0 to 1.0000e-03.\n",
      "------ epoch:6 ------\n"
     ]
    },
    {
     "name": "stderr",
     "output_type": "stream",
     "text": [
      "100%|██████████| 281/281 [00:04<00:00, 63.15it/s]\n",
      "100%|██████████| 71/71 [00:00<00:00, 90.17it/s] \n",
      "100%|██████████| 943/943 [00:00<00:00, 1198.66it/s]\n"
     ]
    },
    {
     "name": "stdout",
     "output_type": "stream",
     "text": [
      "Epoch 6: train loss :   0.598347   val loss :   0.596202   val score :   0.313892\n"
     ]
    },
    {
     "name": "stderr",
     "output_type": "stream",
     "text": [
      "100%|██████████| 1/1 [00:00<00:00, 257.00it/s]\n",
      "100%|██████████| 4/4 [00:00<00:00, 109.18it/s]\n"
     ]
    },
    {
     "name": "stdout",
     "output_type": "stream",
     "text": [
      "------ repeat : 4 ------\n",
      "------ epoch:1 ------\n"
     ]
    },
    {
     "name": "stderr",
     "output_type": "stream",
     "text": [
      "100%|██████████| 281/281 [00:05<00:00, 55.82it/s]\n",
      "100%|██████████| 71/71 [00:00<00:00, 85.06it/s] \n",
      "100%|██████████| 943/943 [00:00<00:00, 1095.28it/s]\n"
     ]
    },
    {
     "name": "stdout",
     "output_type": "stream",
     "text": [
      "Epoch 1: train loss :   0.681944   val loss :   0.600564   val score :   0.289502\n",
      "------ epoch:2 ------\n"
     ]
    },
    {
     "name": "stderr",
     "output_type": "stream",
     "text": [
      "100%|██████████| 281/281 [00:04<00:00, 61.70it/s]\n",
      "100%|██████████| 71/71 [00:00<00:00, 84.24it/s] \n",
      "100%|██████████| 943/943 [00:00<00:00, 2108.51it/s]\n"
     ]
    },
    {
     "name": "stdout",
     "output_type": "stream",
     "text": [
      "Epoch 2: train loss :   0.617180   val loss :   0.598692   val score :   0.287381\n",
      "------ epoch:3 ------\n"
     ]
    },
    {
     "name": "stderr",
     "output_type": "stream",
     "text": [
      "100%|██████████| 281/281 [00:04<00:00, 64.93it/s]\n",
      "100%|██████████| 71/71 [00:00<00:00, 110.17it/s]\n",
      "100%|██████████| 943/943 [00:00<00:00, 1118.23it/s]\n"
     ]
    },
    {
     "name": "stdout",
     "output_type": "stream",
     "text": [
      "Epoch 3: train loss :   0.607813   val loss :   0.597396   val score :   0.302227\n",
      "------ epoch:4 ------\n"
     ]
    },
    {
     "name": "stderr",
     "output_type": "stream",
     "text": [
      "100%|██████████| 281/281 [00:04<00:00, 64.17it/s]\n",
      "100%|██████████| 71/71 [00:00<00:00, 93.23it/s] \n",
      "100%|██████████| 943/943 [00:00<00:00, 2041.16it/s]\n"
     ]
    },
    {
     "name": "stdout",
     "output_type": "stream",
     "text": [
      "Epoch 4: train loss :   0.602934   val loss :   0.596794   val score :   0.297985\n",
      "------ epoch:5 ------\n"
     ]
    },
    {
     "name": "stderr",
     "output_type": "stream",
     "text": [
      "100%|██████████| 281/281 [00:04<00:00, 66.06it/s]\n",
      "100%|██████████| 71/71 [00:00<00:00, 94.14it/s] \n",
      "100%|██████████| 943/943 [00:00<00:00, 2033.75it/s]\n"
     ]
    },
    {
     "name": "stdout",
     "output_type": "stream",
     "text": [
      "Epoch 5: train loss :   0.601084   val loss :   0.596474   val score :   0.307529\n",
      "------ epoch:6 ------\n"
     ]
    },
    {
     "name": "stderr",
     "output_type": "stream",
     "text": [
      "100%|██████████| 281/281 [00:04<00:00, 64.63it/s]\n",
      "100%|██████████| 71/71 [00:00<00:00, 92.38it/s] \n",
      "100%|██████████| 943/943 [00:00<00:00, 1970.35it/s]\n"
     ]
    },
    {
     "name": "stdout",
     "output_type": "stream",
     "text": [
      "Epoch 6: train loss :   0.600361   val loss :   0.596436   val score :   0.311771\n",
      "------ epoch:7 ------\n"
     ]
    },
    {
     "name": "stderr",
     "output_type": "stream",
     "text": [
      "100%|██████████| 281/281 [00:04<00:00, 66.19it/s]\n",
      "100%|██████████| 71/71 [00:00<00:00, 96.33it/s] \n",
      "100%|██████████| 943/943 [00:00<00:00, 2076.61it/s]\n"
     ]
    },
    {
     "name": "stdout",
     "output_type": "stream",
     "text": [
      "Epoch 7: train loss :   0.600248   val loss :   0.596490   val score :   0.305408\n",
      "------ epoch:8 ------\n"
     ]
    },
    {
     "name": "stderr",
     "output_type": "stream",
     "text": [
      "100%|██████████| 281/281 [00:04<00:00, 65.55it/s]\n",
      "100%|██████████| 71/71 [00:00<00:00, 95.51it/s] \n",
      "100%|██████████| 943/943 [00:00<00:00, 2208.05it/s]\n"
     ]
    },
    {
     "name": "stdout",
     "output_type": "stream",
     "text": [
      "Epoch 8: train loss :   0.600320   val loss :   0.596602   val score :   0.296925\n",
      "------ epoch:9 ------\n"
     ]
    },
    {
     "name": "stderr",
     "output_type": "stream",
     "text": [
      "100%|██████████| 281/281 [00:04<00:00, 65.13it/s]\n",
      "100%|██████████| 71/71 [00:00<00:00, 91.48it/s] \n",
      "100%|██████████| 943/943 [00:00<00:00, 2017.33it/s]\n"
     ]
    },
    {
     "name": "stdout",
     "output_type": "stream",
     "text": [
      "Epoch 9: train loss :   0.600572   val loss :   0.596678   val score :   0.297985\n",
      "Epoch 00009: reducing learning rate of group 0 to 1.0000e-03.\n",
      "------ epoch:10 ------\n"
     ]
    },
    {
     "name": "stderr",
     "output_type": "stream",
     "text": [
      "100%|██████████| 281/281 [00:04<00:00, 64.56it/s]\n",
      "100%|██████████| 71/71 [00:00<00:00, 122.62it/s]\n",
      "100%|██████████| 943/943 [00:00<00:00, 2201.40it/s]\n"
     ]
    },
    {
     "name": "stdout",
     "output_type": "stream",
     "text": [
      "Epoch 10: train loss :   0.597373   val loss :   0.596532   val score :   0.296925\n"
     ]
    },
    {
     "name": "stderr",
     "output_type": "stream",
     "text": [
      "100%|██████████| 1/1 [00:00<00:00, 384.06it/s]\n",
      "100%|██████████| 4/4 [00:00<00:00, 164.30it/s]\n"
     ]
    },
    {
     "name": "stdout",
     "output_type": "stream",
     "text": [
      "------ repeat : 5 ------\n",
      "------ epoch:1 ------\n"
     ]
    },
    {
     "name": "stderr",
     "output_type": "stream",
     "text": [
      "100%|██████████| 281/281 [00:04<00:00, 60.44it/s]\n",
      "100%|██████████| 71/71 [00:00<00:00, 118.16it/s]\n",
      "100%|██████████| 943/943 [00:00<00:00, 1143.70it/s]\n"
     ]
    },
    {
     "name": "stdout",
     "output_type": "stream",
     "text": [
      "Epoch 1: train loss :   0.679033   val loss :   0.600692   val score :   0.309650\n",
      "------ epoch:2 ------\n"
     ]
    },
    {
     "name": "stderr",
     "output_type": "stream",
     "text": [
      "100%|██████████| 281/281 [00:04<00:00, 64.95it/s]\n",
      "100%|██████████| 71/71 [00:00<00:00, 90.51it/s] \n",
      "100%|██████████| 943/943 [00:00<00:00, 1231.56it/s]\n"
     ]
    },
    {
     "name": "stdout",
     "output_type": "stream",
     "text": [
      "Epoch 2: train loss :   0.616864   val loss :   0.598480   val score :   0.318134\n",
      "------ epoch:3 ------\n"
     ]
    },
    {
     "name": "stderr",
     "output_type": "stream",
     "text": [
      "100%|██████████| 281/281 [00:04<00:00, 64.13it/s]\n",
      "100%|██████████| 71/71 [00:00<00:00, 91.62it/s] \n",
      "100%|██████████| 943/943 [00:00<00:00, 1190.55it/s]\n"
     ]
    },
    {
     "name": "stdout",
     "output_type": "stream",
     "text": [
      "Epoch 3: train loss :   0.607392   val loss :   0.597121   val score :   0.321315\n",
      "------ epoch:4 ------\n"
     ]
    },
    {
     "name": "stderr",
     "output_type": "stream",
     "text": [
      "100%|██████████| 281/281 [00:04<00:00, 64.17it/s]\n",
      "100%|██████████| 71/71 [00:00<00:00, 89.45it/s] \n",
      "100%|██████████| 943/943 [00:00<00:00, 1307.81it/s]\n"
     ]
    },
    {
     "name": "stdout",
     "output_type": "stream",
     "text": [
      "Epoch 4: train loss :   0.602591   val loss :   0.596550   val score :   0.330859\n",
      "------ epoch:5 ------\n"
     ]
    },
    {
     "name": "stderr",
     "output_type": "stream",
     "text": [
      "100%|██████████| 281/281 [00:04<00:00, 60.38it/s]\n",
      "100%|██████████| 71/71 [00:00<00:00, 91.05it/s] \n",
      "100%|██████████| 943/943 [00:00<00:00, 2044.89it/s]\n"
     ]
    },
    {
     "name": "stdout",
     "output_type": "stream",
     "text": [
      "Epoch 5: train loss :   0.600706   val loss :   0.596312   val score :   0.339343\n",
      "------ epoch:6 ------\n"
     ]
    },
    {
     "name": "stderr",
     "output_type": "stream",
     "text": [
      "100%|██████████| 281/281 [00:04<00:00, 62.68it/s]\n",
      "100%|██████████| 71/71 [00:00<00:00, 89.04it/s] \n",
      "100%|██████████| 943/943 [00:00<00:00, 2431.25it/s]\n"
     ]
    },
    {
     "name": "stdout",
     "output_type": "stream",
     "text": [
      "Epoch 6: train loss :   0.600224   val loss :   0.596323   val score :   0.328738\n",
      "------ epoch:7 ------\n"
     ]
    },
    {
     "name": "stderr",
     "output_type": "stream",
     "text": [
      "100%|██████████| 281/281 [00:04<00:00, 61.21it/s]\n",
      "100%|██████████| 71/71 [00:00<00:00, 109.20it/s]\n",
      "100%|██████████| 943/943 [00:00<00:00, 2331.01it/s]\n"
     ]
    },
    {
     "name": "stdout",
     "output_type": "stream",
     "text": [
      "Epoch 7: train loss :   0.600165   val loss :   0.596379   val score :   0.334040\n",
      "------ epoch:8 ------\n"
     ]
    },
    {
     "name": "stderr",
     "output_type": "stream",
     "text": [
      "100%|██████████| 281/281 [00:04<00:00, 63.69it/s]\n",
      "100%|██████████| 71/71 [00:00<00:00, 88.20it/s] \n",
      "100%|██████████| 943/943 [00:00<00:00, 1208.41it/s]\n"
     ]
    },
    {
     "name": "stdout",
     "output_type": "stream",
     "text": [
      "Epoch 8: train loss :   0.600360   val loss :   0.596393   val score :   0.329799\n",
      "Epoch 00008: reducing learning rate of group 0 to 1.0000e-03.\n",
      "------ epoch:9 ------\n"
     ]
    },
    {
     "name": "stderr",
     "output_type": "stream",
     "text": [
      "100%|██████████| 281/281 [00:04<00:00, 62.19it/s]\n",
      "100%|██████████| 71/71 [00:00<00:00, 87.77it/s] \n",
      "100%|██████████| 943/943 [00:00<00:00, 2407.53it/s]\n"
     ]
    },
    {
     "name": "stdout",
     "output_type": "stream",
     "text": [
      "Epoch 9: train loss :   0.597583   val loss :   0.596252   val score :   0.328738\n"
     ]
    },
    {
     "name": "stderr",
     "output_type": "stream",
     "text": [
      "100%|██████████| 1/1 [00:00<00:00, 359.32it/s]\n",
      "100%|██████████| 4/4 [00:00<00:00, 242.02it/s]\n"
     ]
    }
   ],
   "source": [
    "## 消融\n",
    "kwargs_ = {\n",
    "\"num_users\" : 943,\n",
    "\"num_items\" : 1682,\n",
    "'embedding_dim':10,\n",
    "'lr' : 1e-3,\n",
    "'alpha' : 1e-1,\n",
    "'lam' : 1e-3,\n",
    "'phi' : 1e-3,\n",
    "'model_type' : 4,\n",
    "'sigma2' : None,\n",
    "}\n",
    "embedding_dim = 10\n",
    "lr = 1e-2\n",
    "alpha = 1e-2\n",
    "lam = 1e-2\n",
    "phi = 1e-2\n",
    "sigma2 = None\n",
    "model_type = 5\n",
    "seed_everything(42)\n",
    "ColdStartTest(train, test, power=power, model_type=model_type, num_users=num_users, num_items=num_items, repeats=5, lam=lam, phi=phi, sigma2=sigma2, \n",
    "     embedding_dim=embedding_dim, lr=lr, alpha=alpha, patience=3, epochs=30, device=\"cuda:0\", model_selection=False, kwargs_=kwargs_)"
   ]
  },
  {
   "cell_type": "code",
   "execution_count": null,
   "id": "0ffa820a-0111-429d-8764-1f062a38cb6d",
   "metadata": {},
   "outputs": [],
   "source": []
  }
 ],
 "metadata": {
  "kernelspec": {
   "display_name": "Python 3 (ipykernel)",
   "language": "python",
   "name": "python3"
  },
  "language_info": {
   "codemirror_mode": {
    "name": "ipython",
    "version": 3
   },
   "file_extension": ".py",
   "mimetype": "text/x-python",
   "name": "python",
   "nbconvert_exporter": "python",
   "pygments_lexer": "ipython3",
   "version": "3.8.10"
  }
 },
 "nbformat": 4,
 "nbformat_minor": 5
}
