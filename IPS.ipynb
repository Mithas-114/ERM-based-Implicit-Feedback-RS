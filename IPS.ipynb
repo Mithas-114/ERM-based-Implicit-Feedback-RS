{
 "cells": [
  {
   "cell_type": "markdown",
   "id": "674024bf-52bf-4d7d-976e-42c42e451171",
   "metadata": {},
   "source": [
    "# CrossValidate"
   ]
  },
  {
   "cell_type": "code",
   "execution_count": 6,
   "id": "5cc67a70-496f-4a6b-a2ba-fe8db2815f10",
   "metadata": {
    "tags": []
   },
   "outputs": [],
   "source": [
    "import torch\n",
    "import pandas as pd\n",
    "import numpy as np\n",
    "from models.model import BasicMF\n",
    "from train.TrainAndEvaluate import CrossValidation3, Train, computing_r_hat_using_ERM2, Test3\n",
    "from utils.utils import seed_everything\n",
    "from utils.data import generate_click_data, get_train_data2, get_theta_hat\n",
    "from sklearn.model_selection import train_test_split"
   ]
  },
  {
   "cell_type": "markdown",
   "id": "63f0568f-b2be-4703-95e7-3e2e45ab11f2",
   "metadata": {},
   "source": [
    "## 一. 读取数据"
   ]
  },
  {
   "cell_type": "code",
   "execution_count": 7,
   "id": "c4563bd6-644f-4824-976d-df90b958476b",
   "metadata": {
    "tags": []
   },
   "outputs": [
    {
     "data": {
      "text/plain": [
       "tensor([[0.0000e+00, 0.0000e+00, 7.5689e-01, 5.3379e-01],\n",
       "        [0.0000e+00, 1.0000e+00, 3.6157e-01, 5.6538e-01],\n",
       "        [0.0000e+00, 2.0000e+00, 7.5689e-01, 3.5982e-01],\n",
       "        ...,\n",
       "        [9.4200e+02, 1.6790e+03, 5.9671e-02, 1.2541e-02],\n",
       "        [9.4200e+02, 1.6800e+03, 1.1591e-01, 2.7859e-02],\n",
       "        [9.4200e+02, 1.6810e+03, 1.9183e-01, 1.9211e-02]], dtype=torch.float64)"
      ]
     },
     "execution_count": 7,
     "metadata": {},
     "output_type": "execute_result"
    }
   ],
   "source": [
    "seed_everything(42)\n",
    "num_users = 943\n",
    "num_items = 1682\n",
    "data = torch.tensor(pd.read_csv(\"data/semi-data\").iloc[:, 1:].values)\n",
    "data"
   ]
  },
  {
   "cell_type": "markdown",
   "id": "7af7987a-87d7-4ede-8180-3f70a0e1a398",
   "metadata": {},
   "source": [
    "## 二. 1"
   ]
  },
  {
   "cell_type": "code",
   "execution_count": 9,
   "id": "6c74782e-740a-4743-9752-feee5c65723f",
   "metadata": {
    "tags": []
   },
   "outputs": [],
   "source": [
    "seed_everything(42)\n",
    "power = 1\n",
    "click_data, _, _ = generate_click_data(data, num_users, num_items, power=power)\n",
    "neg_data = click_data[click_data[:, 6]==0, :]\n",
    "pos_data = click_data[click_data[:, 6]==1, :]\n",
    "train, test = train_test_split(neg_data, test_size=0.1, random_state=0)\n",
    "train = torch.vstack([pos_data, train]) # 使用未被点击的一部分作为测试集"
   ]
  },
  {
   "cell_type": "markdown",
   "id": "19f55e00-250b-4b8a-ac5d-553e338d8708",
   "metadata": {},
   "source": [
    "### 2"
   ]
  },
  {
   "cell_type": "code",
   "execution_count": 10,
   "id": "38ad822a-9f31-43f5-826c-d80dd1279c5a",
   "metadata": {
    "collapsed": true,
    "jupyter": {
     "outputs_hidden": true,
     "source_hidden": true
    },
    "tags": []
   },
   "outputs": [
    {
     "name": "stdout",
     "output_type": "stream",
     "text": [
      "------ 第1折 ------\n",
      "------ epoch:1 ------\n"
     ]
    },
    {
     "name": "stderr",
     "output_type": "stream",
     "text": [
      "100%|██████████| 252/252 [00:03<00:00, 67.47it/s]\n",
      "100%|██████████| 28/28 [00:00<00:00, 128.41it/s]\n",
      "100%|██████████| 943/943 [00:00<00:00, 3014.96it/s]\n"
     ]
    },
    {
     "name": "stdout",
     "output_type": "stream",
     "text": [
      "Epoch 1: train loss :   0.761533   val loss :   0.564198   val score :   0.089077\n",
      "------ epoch:2 ------\n"
     ]
    },
    {
     "name": "stderr",
     "output_type": "stream",
     "text": [
      "100%|██████████| 252/252 [00:03<00:00, 67.15it/s]\n",
      "100%|██████████| 28/28 [00:00<00:00, 127.16it/s]\n",
      "100%|██████████| 943/943 [00:00<00:00, 2983.19it/s]\n"
     ]
    },
    {
     "name": "stdout",
     "output_type": "stream",
     "text": [
      "Epoch 2: train loss :   0.357001   val loss :   0.218967   val score :   0.101803\n",
      "------ epoch:3 ------\n"
     ]
    },
    {
     "name": "stderr",
     "output_type": "stream",
     "text": [
      "100%|██████████| 252/252 [00:03<00:00, 67.43it/s]\n",
      "100%|██████████| 28/28 [00:00<00:00, 125.87it/s]\n",
      "100%|██████████| 943/943 [00:00<00:00, 2968.64it/s]\n"
     ]
    },
    {
     "name": "stdout",
     "output_type": "stream",
     "text": [
      "Epoch 3: train loss :   0.186823   val loss :   0.167473   val score :   0.161188\n",
      "------ epoch:4 ------\n"
     ]
    },
    {
     "name": "stderr",
     "output_type": "stream",
     "text": [
      "100%|██████████| 252/252 [00:03<00:00, 68.45it/s]\n",
      "100%|██████████| 28/28 [00:00<00:00, 74.52it/s] \n",
      "100%|██████████| 943/943 [00:00<00:00, 3001.46it/s]\n"
     ]
    },
    {
     "name": "stdout",
     "output_type": "stream",
     "text": [
      "Epoch 4: train loss :   0.162920   val loss :   0.158943   val score :   0.224814\n",
      "------ epoch:5 ------\n"
     ]
    },
    {
     "name": "stderr",
     "output_type": "stream",
     "text": [
      "100%|██████████| 252/252 [00:03<00:00, 75.10it/s]\n",
      "100%|██████████| 28/28 [00:00<00:00, 78.39it/s]\n",
      "100%|██████████| 943/943 [00:00<00:00, 2990.76it/s]\n"
     ]
    },
    {
     "name": "stdout",
     "output_type": "stream",
     "text": [
      "Epoch 5: train loss :   0.157503   val loss :   0.156413   val score :   0.253446\n",
      "------ epoch:6 ------\n"
     ]
    },
    {
     "name": "stderr",
     "output_type": "stream",
     "text": [
      "100%|██████████| 252/252 [00:03<00:00, 71.14it/s]\n",
      "100%|██████████| 28/28 [00:00<00:00, 134.06it/s]\n",
      "100%|██████████| 943/943 [00:00<00:00, 3013.21it/s]\n"
     ]
    },
    {
     "name": "stdout",
     "output_type": "stream",
     "text": [
      "Epoch 6: train loss :   0.155198   val loss :   0.155341   val score :   0.253446\n",
      "------ epoch:7 ------\n"
     ]
    },
    {
     "name": "stderr",
     "output_type": "stream",
     "text": [
      "100%|██████████| 252/252 [00:03<00:00, 71.02it/s]\n",
      "100%|██████████| 28/28 [00:00<00:00, 132.77it/s]\n",
      "100%|██████████| 943/943 [00:00<00:00, 2996.74it/s]\n"
     ]
    },
    {
     "name": "stdout",
     "output_type": "stream",
     "text": [
      "Epoch 7: train loss :   0.153841   val loss :   0.154856   val score :   0.260870\n",
      "------ epoch:8 ------\n"
     ]
    },
    {
     "name": "stderr",
     "output_type": "stream",
     "text": [
      "100%|██████████| 252/252 [00:03<00:00, 69.95it/s]\n",
      "100%|██████████| 28/28 [00:00<00:00, 130.75it/s]\n",
      "100%|██████████| 943/943 [00:00<00:00, 2941.78it/s]\n"
     ]
    },
    {
     "name": "stdout",
     "output_type": "stream",
     "text": [
      "Epoch 8: train loss :   0.152782   val loss :   0.154569   val score :   0.267232\n",
      "------ epoch:9 ------\n"
     ]
    },
    {
     "name": "stderr",
     "output_type": "stream",
     "text": [
      "100%|██████████| 252/252 [00:03<00:00, 70.11it/s]\n",
      "100%|██████████| 28/28 [00:00<00:00, 131.32it/s]\n",
      "100%|██████████| 943/943 [00:00<00:00, 2993.27it/s]\n"
     ]
    },
    {
     "name": "stdout",
     "output_type": "stream",
     "text": [
      "Epoch 9: train loss :   0.152132   val loss :   0.154401   val score :   0.274655\n",
      "------ epoch:10 ------\n"
     ]
    },
    {
     "name": "stderr",
     "output_type": "stream",
     "text": [
      "100%|██████████| 252/252 [00:03<00:00, 68.01it/s]\n",
      "100%|██████████| 28/28 [00:00<00:00, 76.06it/s] \n",
      "100%|██████████| 943/943 [00:00<00:00, 2996.63it/s]\n"
     ]
    },
    {
     "name": "stdout",
     "output_type": "stream",
     "text": [
      "Epoch 10: train loss :   0.151645   val loss :   0.154341   val score :   0.277837\n",
      "------ epoch:11 ------\n"
     ]
    },
    {
     "name": "stderr",
     "output_type": "stream",
     "text": [
      "100%|██████████| 252/252 [00:03<00:00, 71.62it/s]\n",
      "100%|██████████| 28/28 [00:00<00:00, 75.39it/s]\n",
      "100%|██████████| 943/943 [00:00<00:00, 2974.63it/s]\n"
     ]
    },
    {
     "name": "stdout",
     "output_type": "stream",
     "text": [
      "Epoch 11: train loss :   0.151174   val loss :   0.154308   val score :   0.283139\n",
      "------ epoch:12 ------\n"
     ]
    },
    {
     "name": "stderr",
     "output_type": "stream",
     "text": [
      "100%|██████████| 252/252 [00:03<00:00, 68.72it/s]\n",
      "100%|██████████| 28/28 [00:00<00:00, 131.41it/s]\n",
      "100%|██████████| 943/943 [00:00<00:00, 3028.09it/s]\n"
     ]
    },
    {
     "name": "stdout",
     "output_type": "stream",
     "text": [
      "Epoch 12: train loss :   0.151008   val loss :   0.154332   val score :   0.284199\n",
      "------ epoch:13 ------\n"
     ]
    },
    {
     "name": "stderr",
     "output_type": "stream",
     "text": [
      "100%|██████████| 252/252 [00:03<00:00, 68.59it/s]\n",
      "100%|██████████| 28/28 [00:00<00:00, 127.29it/s]\n",
      "100%|██████████| 943/943 [00:00<00:00, 2892.11it/s]\n"
     ]
    },
    {
     "name": "stdout",
     "output_type": "stream",
     "text": [
      "Epoch 13: train loss :   0.150692   val loss :   0.154303   val score :   0.282078\n",
      "------ epoch:14 ------\n"
     ]
    },
    {
     "name": "stderr",
     "output_type": "stream",
     "text": [
      "100%|██████████| 252/252 [00:03<00:00, 69.25it/s]\n",
      "100%|██████████| 28/28 [00:00<00:00, 133.00it/s]\n",
      "100%|██████████| 943/943 [00:00<00:00, 3007.51it/s]\n"
     ]
    },
    {
     "name": "stdout",
     "output_type": "stream",
     "text": [
      "Epoch 14: train loss :   0.150112   val loss :   0.154305   val score :   0.285260\n",
      "------ epoch:15 ------\n"
     ]
    },
    {
     "name": "stderr",
     "output_type": "stream",
     "text": [
      "100%|██████████| 252/252 [00:03<00:00, 69.88it/s]\n",
      "100%|██████████| 28/28 [00:00<00:00, 133.63it/s]\n",
      "100%|██████████| 943/943 [00:00<00:00, 2956.38it/s]\n"
     ]
    },
    {
     "name": "stdout",
     "output_type": "stream",
     "text": [
      "Epoch 15: train loss :   0.149827   val loss :   0.154365   val score :   0.288441\n",
      "------ epoch:16 ------\n"
     ]
    },
    {
     "name": "stderr",
     "output_type": "stream",
     "text": [
      "100%|██████████| 252/252 [00:03<00:00, 74.09it/s]\n",
      "100%|██████████| 28/28 [00:00<00:00, 75.72it/s] \n",
      "100%|██████████| 943/943 [00:00<00:00, 2965.69it/s]\n"
     ]
    },
    {
     "name": "stdout",
     "output_type": "stream",
     "text": [
      "Epoch 16: train loss :   0.149427   val loss :   0.154403   val score :   0.290562\n",
      "------ epoch:17 ------\n"
     ]
    },
    {
     "name": "stderr",
     "output_type": "stream",
     "text": [
      "100%|██████████| 252/252 [00:03<00:00, 72.91it/s]\n",
      "100%|██████████| 28/28 [00:00<00:00, 74.87it/s]\n",
      "100%|██████████| 943/943 [00:00<00:00, 3000.39it/s]\n"
     ]
    },
    {
     "name": "stdout",
     "output_type": "stream",
     "text": [
      "Epoch 17: train loss :   0.149321   val loss :   0.154411   val score :   0.285260\n",
      "------ epoch:18 ------\n"
     ]
    },
    {
     "name": "stderr",
     "output_type": "stream",
     "text": [
      "100%|██████████| 252/252 [00:03<00:00, 69.98it/s]\n",
      "100%|██████████| 28/28 [00:00<00:00, 129.19it/s]\n",
      "100%|██████████| 943/943 [00:00<00:00, 3005.80it/s]\n"
     ]
    },
    {
     "name": "stdout",
     "output_type": "stream",
     "text": [
      "Epoch 18: train loss :   0.148781   val loss :   0.154405   val score :   0.284199\n",
      "------ epoch:19 ------\n"
     ]
    },
    {
     "name": "stderr",
     "output_type": "stream",
     "text": [
      "100%|██████████| 252/252 [00:03<00:00, 70.16it/s]\n",
      "100%|██████████| 28/28 [00:00<00:00, 136.69it/s]\n",
      "100%|██████████| 943/943 [00:00<00:00, 3026.96it/s]\n"
     ]
    },
    {
     "name": "stdout",
     "output_type": "stream",
     "text": [
      "Epoch 19: train loss :   0.148610   val loss :   0.154368   val score :   0.284199\n",
      "Epoch 00019: reducing learning rate of group 0 to 1.0000e-04.\n",
      "------ epoch:20 ------\n"
     ]
    },
    {
     "name": "stderr",
     "output_type": "stream",
     "text": [
      "100%|██████████| 252/252 [00:03<00:00, 70.18it/s]\n",
      "100%|██████████| 28/28 [00:00<00:00, 132.82it/s]\n",
      "100%|██████████| 943/943 [00:00<00:00, 3024.05it/s]\n"
     ]
    },
    {
     "name": "stdout",
     "output_type": "stream",
     "text": [
      "Epoch 20: train loss :   0.147642   val loss :   0.154372   val score :   0.283139\n"
     ]
    },
    {
     "name": "stderr",
     "output_type": "stream",
     "text": [
      "100%|██████████| 70/70 [00:00<00:00, 103.45it/s]\n",
      "100%|██████████| 943/943 [00:00<00:00, 2977.40it/s]\n"
     ]
    },
    {
     "name": "stdout",
     "output_type": "stream",
     "text": [
      "------ log loss of 1 fold : 0.14773706570267678 ------\n",
      "------ score of 1 fold : 0.21951219512195122 ------\n",
      "------ 第2折 ------\n",
      "------ epoch:1 ------\n"
     ]
    },
    {
     "name": "stderr",
     "output_type": "stream",
     "text": [
      "100%|██████████| 252/252 [00:03<00:00, 69.14it/s]\n",
      "100%|██████████| 28/28 [00:00<00:00, 124.88it/s]\n",
      "100%|██████████| 943/943 [00:00<00:00, 3015.42it/s]\n"
     ]
    },
    {
     "name": "stdout",
     "output_type": "stream",
     "text": [
      "Epoch 1: train loss :   0.784081   val loss :   0.572183   val score :   0.117709\n",
      "------ epoch:2 ------\n"
     ]
    },
    {
     "name": "stderr",
     "output_type": "stream",
     "text": [
      "100%|██████████| 252/252 [00:03<00:00, 68.21it/s]\n",
      "100%|██████████| 28/28 [00:00<00:00, 128.45it/s]\n",
      "100%|██████████| 943/943 [00:00<00:00, 2973.20it/s]\n"
     ]
    },
    {
     "name": "stdout",
     "output_type": "stream",
     "text": [
      "Epoch 2: train loss :   0.354492   val loss :   0.220377   val score :   0.128314\n",
      "------ epoch:3 ------\n"
     ]
    },
    {
     "name": "stderr",
     "output_type": "stream",
     "text": [
      "100%|██████████| 252/252 [00:03<00:00, 68.85it/s]\n",
      "100%|██████████| 28/28 [00:00<00:00, 74.84it/s] \n",
      "100%|██████████| 943/943 [00:00<00:00, 2980.54it/s]\n"
     ]
    },
    {
     "name": "stdout",
     "output_type": "stream",
     "text": [
      "Epoch 3: train loss :   0.186139   val loss :   0.168922   val score :   0.179215\n",
      "------ epoch:4 ------\n"
     ]
    },
    {
     "name": "stderr",
     "output_type": "stream",
     "text": [
      "100%|██████████| 252/252 [00:03<00:00, 69.34it/s]\n",
      "100%|██████████| 28/28 [00:00<00:00, 129.98it/s]\n",
      "100%|██████████| 943/943 [00:00<00:00, 2967.57it/s]\n"
     ]
    },
    {
     "name": "stdout",
     "output_type": "stream",
     "text": [
      "Epoch 4: train loss :   0.162499   val loss :   0.159844   val score :   0.227996\n",
      "------ epoch:5 ------\n"
     ]
    },
    {
     "name": "stderr",
     "output_type": "stream",
     "text": [
      "100%|██████████| 252/252 [00:03<00:00, 68.41it/s]\n",
      "100%|██████████| 28/28 [00:00<00:00, 134.52it/s]\n",
      "100%|██████████| 943/943 [00:00<00:00, 3028.91it/s]\n"
     ]
    },
    {
     "name": "stdout",
     "output_type": "stream",
     "text": [
      "Epoch 5: train loss :   0.156900   val loss :   0.156896   val score :   0.243902\n",
      "------ epoch:6 ------\n"
     ]
    },
    {
     "name": "stderr",
     "output_type": "stream",
     "text": [
      "100%|██████████| 252/252 [00:03<00:00, 72.22it/s]\n",
      "100%|██████████| 28/28 [00:00<00:00, 138.17it/s]\n",
      "100%|██████████| 943/943 [00:00<00:00, 3005.95it/s]\n"
     ]
    },
    {
     "name": "stdout",
     "output_type": "stream",
     "text": [
      "Epoch 6: train loss :   0.154485   val loss :   0.155638   val score :   0.255567\n",
      "------ epoch:7 ------\n"
     ]
    },
    {
     "name": "stderr",
     "output_type": "stream",
     "text": [
      "100%|██████████| 252/252 [00:03<00:00, 71.47it/s]\n",
      "100%|██████████| 28/28 [00:00<00:00, 134.65it/s]\n",
      "100%|██████████| 943/943 [00:00<00:00, 2974.57it/s]\n"
     ]
    },
    {
     "name": "stdout",
     "output_type": "stream",
     "text": [
      "Epoch 7: train loss :   0.153120   val loss :   0.154911   val score :   0.247084\n",
      "------ epoch:8 ------\n"
     ]
    },
    {
     "name": "stderr",
     "output_type": "stream",
     "text": [
      "100%|██████████| 252/252 [00:03<00:00, 72.32it/s]\n",
      "100%|██████████| 28/28 [00:00<00:00, 77.45it/s] \n",
      "100%|██████████| 943/943 [00:00<00:00, 3013.35it/s]\n"
     ]
    },
    {
     "name": "stdout",
     "output_type": "stream",
     "text": [
      "Epoch 8: train loss :   0.152424   val loss :   0.154458   val score :   0.254507\n",
      "------ epoch:9 ------\n"
     ]
    },
    {
     "name": "stderr",
     "output_type": "stream",
     "text": [
      "100%|██████████| 252/252 [00:03<00:00, 72.25it/s]\n",
      "100%|██████████| 28/28 [00:00<00:00, 137.72it/s]\n",
      "100%|██████████| 943/943 [00:00<00:00, 3044.27it/s]\n"
     ]
    },
    {
     "name": "stdout",
     "output_type": "stream",
     "text": [
      "Epoch 9: train loss :   0.151881   val loss :   0.154171   val score :   0.256628\n",
      "------ epoch:10 ------\n"
     ]
    },
    {
     "name": "stderr",
     "output_type": "stream",
     "text": [
      "100%|██████████| 252/252 [00:03<00:00, 70.94it/s]\n",
      "100%|██████████| 28/28 [00:00<00:00, 134.18it/s]\n",
      "100%|██████████| 943/943 [00:00<00:00, 2999.34it/s]\n"
     ]
    },
    {
     "name": "stdout",
     "output_type": "stream",
     "text": [
      "Epoch 10: train loss :   0.151115   val loss :   0.153897   val score :   0.257688\n",
      "------ epoch:11 ------\n"
     ]
    },
    {
     "name": "stderr",
     "output_type": "stream",
     "text": [
      "100%|██████████| 252/252 [00:03<00:00, 71.11it/s]\n",
      "100%|██████████| 28/28 [00:00<00:00, 138.02it/s]\n",
      "100%|██████████| 943/943 [00:00<00:00, 2992.71it/s]\n"
     ]
    },
    {
     "name": "stdout",
     "output_type": "stream",
     "text": [
      "Epoch 11: train loss :   0.150747   val loss :   0.153756   val score :   0.253446\n",
      "------ epoch:12 ------\n"
     ]
    },
    {
     "name": "stderr",
     "output_type": "stream",
     "text": [
      "100%|██████████| 252/252 [00:03<00:00, 70.61it/s]\n",
      "100%|██████████| 28/28 [00:00<00:00, 136.80it/s]\n",
      "100%|██████████| 943/943 [00:00<00:00, 3028.21it/s]\n"
     ]
    },
    {
     "name": "stdout",
     "output_type": "stream",
     "text": [
      "Epoch 12: train loss :   0.150300   val loss :   0.153644   val score :   0.258749\n",
      "------ epoch:13 ------\n"
     ]
    },
    {
     "name": "stderr",
     "output_type": "stream",
     "text": [
      "100%|██████████| 252/252 [00:03<00:00, 67.72it/s]\n",
      "100%|██████████| 28/28 [00:00<00:00, 71.96it/s] \n",
      "100%|██████████| 943/943 [00:00<00:00, 2976.31it/s]\n"
     ]
    },
    {
     "name": "stdout",
     "output_type": "stream",
     "text": [
      "Epoch 13: train loss :   0.149984   val loss :   0.153527   val score :   0.257688\n",
      "------ epoch:14 ------\n"
     ]
    },
    {
     "name": "stderr",
     "output_type": "stream",
     "text": [
      "100%|██████████| 252/252 [00:03<00:00, 69.40it/s]\n",
      "100%|██████████| 28/28 [00:00<00:00, 71.86it/s]\n",
      "100%|██████████| 943/943 [00:00<00:00, 2942.99it/s]\n"
     ]
    },
    {
     "name": "stdout",
     "output_type": "stream",
     "text": [
      "Epoch 14: train loss :   0.149555   val loss :   0.153474   val score :   0.257688\n",
      "------ epoch:15 ------\n"
     ]
    },
    {
     "name": "stderr",
     "output_type": "stream",
     "text": [
      "100%|██████████| 252/252 [00:03<00:00, 68.59it/s]\n",
      "100%|██████████| 28/28 [00:00<00:00, 127.13it/s]\n",
      "100%|██████████| 943/943 [00:00<00:00, 2981.69it/s]\n"
     ]
    },
    {
     "name": "stdout",
     "output_type": "stream",
     "text": [
      "Epoch 15: train loss :   0.149374   val loss :   0.153341   val score :   0.256628\n",
      "Epoch 00015: reducing learning rate of group 0 to 1.0000e-04.\n",
      "------ epoch:16 ------\n"
     ]
    },
    {
     "name": "stderr",
     "output_type": "stream",
     "text": [
      "100%|██████████| 252/252 [00:03<00:00, 67.05it/s]\n",
      "100%|██████████| 28/28 [00:00<00:00, 127.24it/s]\n",
      "100%|██████████| 943/943 [00:00<00:00, 2966.12it/s]\n"
     ]
    },
    {
     "name": "stdout",
     "output_type": "stream",
     "text": [
      "Epoch 16: train loss :   0.148039   val loss :   0.153337   val score :   0.257688\n"
     ]
    },
    {
     "name": "stderr",
     "output_type": "stream",
     "text": [
      "100%|██████████| 70/70 [00:00<00:00, 98.21it/s] \n",
      "100%|██████████| 943/943 [00:00<00:00, 2942.69it/s]\n"
     ]
    },
    {
     "name": "stdout",
     "output_type": "stream",
     "text": [
      "------ log loss of 2 fold : 0.15288253181747027 ------\n",
      "------ score of 2 fold : 0.24072110286320256 ------\n",
      "------ 第3折 ------\n",
      "------ epoch:1 ------\n"
     ]
    },
    {
     "name": "stderr",
     "output_type": "stream",
     "text": [
      "100%|██████████| 252/252 [00:03<00:00, 66.96it/s]\n",
      "100%|██████████| 28/28 [00:00<00:00, 122.38it/s]\n",
      "100%|██████████| 943/943 [00:00<00:00, 2972.52it/s]\n"
     ]
    },
    {
     "name": "stdout",
     "output_type": "stream",
     "text": [
      "Epoch 1: train loss :   0.736637   val loss :   0.551401   val score :   0.108165\n",
      "------ epoch:2 ------\n"
     ]
    },
    {
     "name": "stderr",
     "output_type": "stream",
     "text": [
      "100%|██████████| 252/252 [00:03<00:00, 64.82it/s]\n",
      "100%|██████████| 28/28 [00:00<00:00, 124.87it/s]\n",
      "100%|██████████| 943/943 [00:00<00:00, 2964.27it/s]\n"
     ]
    },
    {
     "name": "stdout",
     "output_type": "stream",
     "text": [
      "Epoch 2: train loss :   0.343435   val loss :   0.216650   val score :   0.127253\n",
      "------ epoch:3 ------\n"
     ]
    },
    {
     "name": "stderr",
     "output_type": "stream",
     "text": [
      "100%|██████████| 252/252 [00:03<00:00, 66.18it/s]\n",
      "100%|██████████| 28/28 [00:00<00:00, 123.51it/s]\n",
      "100%|██████████| 943/943 [00:00<00:00, 2975.65it/s]\n"
     ]
    },
    {
     "name": "stdout",
     "output_type": "stream",
     "text": [
      "Epoch 3: train loss :   0.183075   val loss :   0.168325   val score :   0.187699\n",
      "------ epoch:4 ------\n"
     ]
    },
    {
     "name": "stderr",
     "output_type": "stream",
     "text": [
      "100%|██████████| 252/252 [00:03<00:00, 67.95it/s]\n",
      "100%|██████████| 28/28 [00:00<00:00, 70.76it/s] \n",
      "100%|██████████| 943/943 [00:00<00:00, 2908.14it/s]\n"
     ]
    },
    {
     "name": "stdout",
     "output_type": "stream",
     "text": [
      "Epoch 4: train loss :   0.160385   val loss :   0.160279   val score :   0.235419\n",
      "------ epoch:5 ------\n"
     ]
    },
    {
     "name": "stderr",
     "output_type": "stream",
     "text": [
      "100%|██████████| 252/252 [00:03<00:00, 71.93it/s]\n",
      "100%|██████████| 28/28 [00:00<00:00, 72.09it/s]\n",
      "100%|██████████| 943/943 [00:00<00:00, 2954.67it/s]\n"
     ]
    },
    {
     "name": "stdout",
     "output_type": "stream",
     "text": [
      "Epoch 5: train loss :   0.155212   val loss :   0.158094   val score :   0.247084\n",
      "------ epoch:6 ------\n"
     ]
    },
    {
     "name": "stderr",
     "output_type": "stream",
     "text": [
      "100%|██████████| 252/252 [00:03<00:00, 65.61it/s]\n",
      "100%|██████████| 28/28 [00:00<00:00, 125.46it/s]\n",
      "100%|██████████| 943/943 [00:00<00:00, 2952.65it/s]\n"
     ]
    },
    {
     "name": "stdout",
     "output_type": "stream",
     "text": [
      "Epoch 6: train loss :   0.152946   val loss :   0.157291   val score :   0.261930\n",
      "------ epoch:7 ------\n"
     ]
    },
    {
     "name": "stderr",
     "output_type": "stream",
     "text": [
      "100%|██████████| 252/252 [00:03<00:00, 65.33it/s]\n",
      "100%|██████████| 28/28 [00:00<00:00, 124.61it/s]\n",
      "100%|██████████| 943/943 [00:00<00:00, 2956.44it/s]\n"
     ]
    },
    {
     "name": "stdout",
     "output_type": "stream",
     "text": [
      "Epoch 7: train loss :   0.151932   val loss :   0.156996   val score :   0.272534\n",
      "------ epoch:8 ------\n"
     ]
    },
    {
     "name": "stderr",
     "output_type": "stream",
     "text": [
      "100%|██████████| 252/252 [00:03<00:00, 69.39it/s]\n",
      "100%|██████████| 28/28 [00:00<00:00, 124.30it/s]\n",
      "100%|██████████| 943/943 [00:00<00:00, 2914.33it/s]\n"
     ]
    },
    {
     "name": "stdout",
     "output_type": "stream",
     "text": [
      "Epoch 8: train loss :   0.150760   val loss :   0.156938   val score :   0.274655\n",
      "------ epoch:9 ------\n"
     ]
    },
    {
     "name": "stderr",
     "output_type": "stream",
     "text": [
      "100%|██████████| 252/252 [00:03<00:00, 67.07it/s]\n",
      "100%|██████████| 28/28 [00:00<00:00, 131.04it/s]\n",
      "100%|██████████| 943/943 [00:00<00:00, 2988.55it/s]\n"
     ]
    },
    {
     "name": "stdout",
     "output_type": "stream",
     "text": [
      "Epoch 9: train loss :   0.150205   val loss :   0.156931   val score :   0.276776\n",
      "------ epoch:10 ------\n"
     ]
    },
    {
     "name": "stderr",
     "output_type": "stream",
     "text": [
      "100%|██████████| 252/252 [00:03<00:00, 69.97it/s]\n",
      "100%|██████████| 28/28 [00:00<00:00, 73.77it/s] \n",
      "100%|██████████| 943/943 [00:00<00:00, 2982.84it/s]\n"
     ]
    },
    {
     "name": "stdout",
     "output_type": "stream",
     "text": [
      "Epoch 10: train loss :   0.149790   val loss :   0.156955   val score :   0.275716\n",
      "------ epoch:11 ------\n"
     ]
    },
    {
     "name": "stderr",
     "output_type": "stream",
     "text": [
      "100%|██████████| 252/252 [00:03<00:00, 70.23it/s]\n",
      "100%|██████████| 28/28 [00:00<00:00, 71.02it/s]\n",
      "100%|██████████| 943/943 [00:00<00:00, 2976.10it/s]\n"
     ]
    },
    {
     "name": "stdout",
     "output_type": "stream",
     "text": [
      "Epoch 11: train loss :   0.149173   val loss :   0.157014   val score :   0.277837\n",
      "------ epoch:12 ------\n"
     ]
    },
    {
     "name": "stderr",
     "output_type": "stream",
     "text": [
      "100%|██████████| 252/252 [00:03<00:00, 66.70it/s]\n",
      "100%|██████████| 28/28 [00:00<00:00, 125.73it/s]\n",
      "100%|██████████| 943/943 [00:00<00:00, 3024.06it/s]\n"
     ]
    },
    {
     "name": "stdout",
     "output_type": "stream",
     "text": [
      "Epoch 12: train loss :   0.148811   val loss :   0.157118   val score :   0.277837\n",
      "------ epoch:13 ------\n"
     ]
    },
    {
     "name": "stderr",
     "output_type": "stream",
     "text": [
      "100%|██████████| 252/252 [00:03<00:00, 67.62it/s]\n",
      "100%|██████████| 28/28 [00:00<00:00, 118.35it/s]\n",
      "100%|██████████| 943/943 [00:00<00:00, 2954.44it/s]\n"
     ]
    },
    {
     "name": "stdout",
     "output_type": "stream",
     "text": [
      "Epoch 13: train loss :   0.148469   val loss :   0.157177   val score :   0.275716\n",
      "------ epoch:14 ------\n"
     ]
    },
    {
     "name": "stderr",
     "output_type": "stream",
     "text": [
      "100%|██████████| 252/252 [00:03<00:00, 66.23it/s]\n",
      "100%|██████████| 28/28 [00:00<00:00, 122.79it/s]\n",
      "100%|██████████| 943/943 [00:00<00:00, 2955.90it/s]\n"
     ]
    },
    {
     "name": "stdout",
     "output_type": "stream",
     "text": [
      "Epoch 14: train loss :   0.148098   val loss :   0.157238   val score :   0.273595\n",
      "Epoch 00014: reducing learning rate of group 0 to 1.0000e-04.\n",
      "------ epoch:15 ------\n"
     ]
    },
    {
     "name": "stderr",
     "output_type": "stream",
     "text": [
      "100%|██████████| 252/252 [00:03<00:00, 67.57it/s]\n",
      "100%|██████████| 28/28 [00:00<00:00, 70.88it/s] \n",
      "100%|██████████| 943/943 [00:00<00:00, 2959.24it/s]\n"
     ]
    },
    {
     "name": "stdout",
     "output_type": "stream",
     "text": [
      "Epoch 15: train loss :   0.146915   val loss :   0.157238   val score :   0.272534\n"
     ]
    },
    {
     "name": "stderr",
     "output_type": "stream",
     "text": [
      "100%|██████████| 70/70 [00:00<00:00, 129.93it/s]\n",
      "100%|██████████| 943/943 [00:00<00:00, 3002.97it/s]\n"
     ]
    },
    {
     "name": "stdout",
     "output_type": "stream",
     "text": [
      "------ log loss of 3 fold : 0.15650242545775006 ------\n",
      "------ score of 3 fold : 0.22375397667020147 ------\n",
      "------ 第4折 ------\n",
      "------ epoch:1 ------\n"
     ]
    },
    {
     "name": "stderr",
     "output_type": "stream",
     "text": [
      "100%|██████████| 252/252 [00:03<00:00, 73.83it/s] \n",
      "100%|██████████| 28/28 [00:00<00:00, 182.95it/s]\n",
      "100%|██████████| 943/943 [00:00<00:00, 3927.53it/s]\n"
     ]
    },
    {
     "name": "stdout",
     "output_type": "stream",
     "text": [
      "Epoch 1: train loss :   0.765834   val loss :   0.583652   val score :   0.116649\n",
      "------ epoch:2 ------\n"
     ]
    },
    {
     "name": "stderr",
     "output_type": "stream",
     "text": [
      "100%|██████████| 252/252 [00:02<00:00, 84.46it/s]\n",
      "100%|██████████| 28/28 [00:00<00:00, 88.44it/s]\n",
      "100%|██████████| 943/943 [00:00<00:00, 3247.48it/s]\n"
     ]
    },
    {
     "name": "stdout",
     "output_type": "stream",
     "text": [
      "Epoch 2: train loss :   0.361442   val loss :   0.219356   val score :   0.120891\n",
      "------ epoch:3 ------\n"
     ]
    },
    {
     "name": "stderr",
     "output_type": "stream",
     "text": [
      "100%|██████████| 252/252 [00:03<00:00, 65.91it/s]\n",
      "100%|██████████| 28/28 [00:00<00:00, 130.31it/s]\n",
      "100%|██████████| 943/943 [00:00<00:00, 3049.65it/s]\n"
     ]
    },
    {
     "name": "stdout",
     "output_type": "stream",
     "text": [
      "Epoch 3: train loss :   0.184345   val loss :   0.167878   val score :   0.171792\n",
      "------ epoch:4 ------\n"
     ]
    },
    {
     "name": "stderr",
     "output_type": "stream",
     "text": [
      "100%|██████████| 252/252 [00:03<00:00, 71.92it/s]\n",
      "100%|██████████| 28/28 [00:00<00:00, 135.34it/s]\n",
      "100%|██████████| 943/943 [00:00<00:00, 3077.61it/s]\n"
     ]
    },
    {
     "name": "stdout",
     "output_type": "stream",
     "text": [
      "Epoch 4: train loss :   0.160793   val loss :   0.159802   val score :   0.232238\n",
      "------ epoch:5 ------\n"
     ]
    },
    {
     "name": "stderr",
     "output_type": "stream",
     "text": [
      "100%|██████████| 252/252 [00:03<00:00, 74.85it/s]\n",
      "100%|██████████| 28/28 [00:00<00:00, 131.62it/s]\n",
      "100%|██████████| 943/943 [00:00<00:00, 3085.96it/s]\n"
     ]
    },
    {
     "name": "stdout",
     "output_type": "stream",
     "text": [
      "Epoch 5: train loss :   0.155168   val loss :   0.157579   val score :   0.266172\n",
      "------ epoch:6 ------\n"
     ]
    },
    {
     "name": "stderr",
     "output_type": "stream",
     "text": [
      "100%|██████████| 252/252 [00:03<00:00, 70.48it/s]\n",
      "100%|██████████| 28/28 [00:00<00:00, 135.43it/s]\n",
      "100%|██████████| 943/943 [00:00<00:00, 3079.25it/s]\n"
     ]
    },
    {
     "name": "stdout",
     "output_type": "stream",
     "text": [
      "Epoch 6: train loss :   0.153100   val loss :   0.156750   val score :   0.283139\n",
      "------ epoch:7 ------\n"
     ]
    },
    {
     "name": "stderr",
     "output_type": "stream",
     "text": [
      "100%|██████████| 252/252 [00:03<00:00, 71.80it/s]\n",
      "100%|██████████| 28/28 [00:00<00:00, 77.00it/s] \n",
      "100%|██████████| 943/943 [00:00<00:00, 3008.02it/s]\n"
     ]
    },
    {
     "name": "stdout",
     "output_type": "stream",
     "text": [
      "Epoch 7: train loss :   0.151639   val loss :   0.156433   val score :   0.278897\n",
      "------ epoch:8 ------\n"
     ]
    },
    {
     "name": "stderr",
     "output_type": "stream",
     "text": [
      "100%|██████████| 252/252 [00:03<00:00, 75.79it/s]\n",
      "100%|██████████| 28/28 [00:00<00:00, 76.42it/s]\n",
      "100%|██████████| 943/943 [00:00<00:00, 3070.54it/s]\n"
     ]
    },
    {
     "name": "stdout",
     "output_type": "stream",
     "text": [
      "Epoch 8: train loss :   0.150757   val loss :   0.156322   val score :   0.292683\n",
      "------ epoch:9 ------\n"
     ]
    },
    {
     "name": "stderr",
     "output_type": "stream",
     "text": [
      "100%|██████████| 252/252 [00:03<00:00, 73.68it/s]\n",
      "100%|██████████| 28/28 [00:00<00:00, 130.23it/s]\n",
      "100%|██████████| 943/943 [00:00<00:00, 3076.56it/s]\n"
     ]
    },
    {
     "name": "stdout",
     "output_type": "stream",
     "text": [
      "Epoch 9: train loss :   0.150181   val loss :   0.156343   val score :   0.292683\n",
      "------ epoch:10 ------\n"
     ]
    },
    {
     "name": "stderr",
     "output_type": "stream",
     "text": [
      "100%|██████████| 252/252 [00:03<00:00, 70.33it/s]\n",
      "100%|██████████| 28/28 [00:00<00:00, 134.72it/s]\n",
      "100%|██████████| 943/943 [00:00<00:00, 3053.41it/s]\n"
     ]
    },
    {
     "name": "stdout",
     "output_type": "stream",
     "text": [
      "Epoch 10: train loss :   0.149770   val loss :   0.156383   val score :   0.294804\n",
      "------ epoch:11 ------\n"
     ]
    },
    {
     "name": "stderr",
     "output_type": "stream",
     "text": [
      "100%|██████████| 252/252 [00:03<00:00, 71.16it/s]\n",
      "100%|██████████| 28/28 [00:00<00:00, 132.71it/s]\n",
      "100%|██████████| 943/943 [00:00<00:00, 3054.59it/s]\n"
     ]
    },
    {
     "name": "stdout",
     "output_type": "stream",
     "text": [
      "Epoch 11: train loss :   0.149475   val loss :   0.156416   val score :   0.294804\n",
      "------ epoch:12 ------\n"
     ]
    },
    {
     "name": "stderr",
     "output_type": "stream",
     "text": [
      "100%|██████████| 252/252 [00:03<00:00, 67.38it/s]\n",
      "100%|██████████| 28/28 [00:00<00:00, 72.55it/s] \n",
      "100%|██████████| 943/943 [00:00<00:00, 3022.22it/s]\n"
     ]
    },
    {
     "name": "stdout",
     "output_type": "stream",
     "text": [
      "Epoch 12: train loss :   0.149133   val loss :   0.156484   val score :   0.296925\n",
      "------ epoch:13 ------\n"
     ]
    },
    {
     "name": "stderr",
     "output_type": "stream",
     "text": [
      "100%|██████████| 252/252 [00:03<00:00, 75.78it/s]\n",
      "100%|██████████| 28/28 [00:00<00:00, 73.42it/s]\n",
      "100%|██████████| 943/943 [00:00<00:00, 3040.76it/s]\n"
     ]
    },
    {
     "name": "stdout",
     "output_type": "stream",
     "text": [
      "Epoch 13: train loss :   0.148613   val loss :   0.156530   val score :   0.295864\n",
      "------ epoch:14 ------\n"
     ]
    },
    {
     "name": "stderr",
     "output_type": "stream",
     "text": [
      "100%|██████████| 252/252 [00:03<00:00, 73.38it/s]\n",
      "100%|██████████| 28/28 [00:00<00:00, 136.05it/s]\n",
      "100%|██████████| 943/943 [00:00<00:00, 3065.51it/s]\n"
     ]
    },
    {
     "name": "stdout",
     "output_type": "stream",
     "text": [
      "Epoch 14: train loss :   0.148549   val loss :   0.156629   val score :   0.302227\n",
      "------ epoch:15 ------\n"
     ]
    },
    {
     "name": "stderr",
     "output_type": "stream",
     "text": [
      "100%|██████████| 252/252 [00:03<00:00, 73.27it/s]\n",
      "100%|██████████| 28/28 [00:00<00:00, 126.12it/s]\n",
      "100%|██████████| 943/943 [00:00<00:00, 2831.00it/s]\n"
     ]
    },
    {
     "name": "stdout",
     "output_type": "stream",
     "text": [
      "Epoch 15: train loss :   0.148042   val loss :   0.156666   val score :   0.296925\n",
      "------ epoch:16 ------\n"
     ]
    },
    {
     "name": "stderr",
     "output_type": "stream",
     "text": [
      "100%|██████████| 252/252 [00:03<00:00, 68.33it/s]\n",
      "100%|██████████| 28/28 [00:00<00:00, 127.39it/s]\n",
      "100%|██████████| 943/943 [00:00<00:00, 2602.26it/s]\n"
     ]
    },
    {
     "name": "stdout",
     "output_type": "stream",
     "text": [
      "Epoch 16: train loss :   0.147743   val loss :   0.156732   val score :   0.297985\n",
      "------ epoch:17 ------\n"
     ]
    },
    {
     "name": "stderr",
     "output_type": "stream",
     "text": [
      "100%|██████████| 252/252 [00:03<00:00, 70.11it/s]\n",
      "100%|██████████| 28/28 [00:00<00:00, 124.92it/s]\n",
      "100%|██████████| 943/943 [00:00<00:00, 2511.86it/s]\n"
     ]
    },
    {
     "name": "stdout",
     "output_type": "stream",
     "text": [
      "Epoch 17: train loss :   0.147551   val loss :   0.156780   val score :   0.300106\n",
      "Epoch 00017: reducing learning rate of group 0 to 1.0000e-04.\n",
      "------ epoch:18 ------\n"
     ]
    },
    {
     "name": "stderr",
     "output_type": "stream",
     "text": [
      "100%|██████████| 252/252 [00:04<00:00, 58.15it/s]\n",
      "100%|██████████| 28/28 [00:00<00:00, 69.35it/s] \n",
      "100%|██████████| 943/943 [00:00<00:00, 1704.98it/s]\n"
     ]
    },
    {
     "name": "stdout",
     "output_type": "stream",
     "text": [
      "Epoch 18: train loss :   0.146390   val loss :   0.156785   val score :   0.300106\n"
     ]
    },
    {
     "name": "stderr",
     "output_type": "stream",
     "text": [
      "100%|██████████| 70/70 [00:00<00:00, 113.96it/s]\n",
      "100%|██████████| 943/943 [00:00<00:00, 2484.30it/s]\n"
     ]
    },
    {
     "name": "stdout",
     "output_type": "stream",
     "text": [
      "------ log loss of 4 fold : 0.15227191565292222 ------\n",
      "------ score of 4 fold : 0.25026511134676566 ------\n",
      "------ 第5折 ------\n",
      "------ epoch:1 ------\n"
     ]
    },
    {
     "name": "stderr",
     "output_type": "stream",
     "text": [
      "100%|██████████| 252/252 [00:03<00:00, 65.31it/s]\n",
      "100%|██████████| 28/28 [00:00<00:00, 68.95it/s] \n",
      "100%|██████████| 943/943 [00:00<00:00, 2368.55it/s]\n"
     ]
    },
    {
     "name": "stdout",
     "output_type": "stream",
     "text": [
      "Epoch 1: train loss :   0.770683   val loss :   0.572895   val score :   0.113468\n",
      "------ epoch:2 ------\n"
     ]
    },
    {
     "name": "stderr",
     "output_type": "stream",
     "text": [
      "100%|██████████| 252/252 [00:03<00:00, 69.73it/s]\n",
      "100%|██████████| 28/28 [00:00<00:00, 63.53it/s]\n",
      "100%|██████████| 943/943 [00:00<00:00, 2396.72it/s]\n"
     ]
    },
    {
     "name": "stdout",
     "output_type": "stream",
     "text": [
      "Epoch 2: train loss :   0.358460   val loss :   0.217631   val score :   0.123012\n",
      "------ epoch:3 ------\n"
     ]
    },
    {
     "name": "stderr",
     "output_type": "stream",
     "text": [
      "100%|██████████| 252/252 [00:03<00:00, 65.42it/s]\n",
      "100%|██████████| 28/28 [00:00<00:00, 112.29it/s]\n",
      "100%|██████████| 943/943 [00:00<00:00, 2694.06it/s]\n"
     ]
    },
    {
     "name": "stdout",
     "output_type": "stream",
     "text": [
      "Epoch 3: train loss :   0.185657   val loss :   0.166788   val score :   0.176034\n",
      "------ epoch:4 ------\n"
     ]
    },
    {
     "name": "stderr",
     "output_type": "stream",
     "text": [
      "100%|██████████| 252/252 [00:04<00:00, 62.93it/s]\n",
      "100%|██████████| 28/28 [00:00<00:00, 112.62it/s]\n",
      "100%|██████████| 943/943 [00:00<00:00, 2451.15it/s]\n"
     ]
    },
    {
     "name": "stdout",
     "output_type": "stream",
     "text": [
      "Epoch 4: train loss :   0.161894   val loss :   0.158777   val score :   0.211029\n",
      "------ epoch:5 ------\n"
     ]
    },
    {
     "name": "stderr",
     "output_type": "stream",
     "text": [
      "100%|██████████| 252/252 [00:04<00:00, 61.71it/s]\n",
      "100%|██████████| 28/28 [00:00<00:00, 121.09it/s]\n",
      "100%|██████████| 943/943 [00:00<00:00, 2447.02it/s]\n"
     ]
    },
    {
     "name": "stdout",
     "output_type": "stream",
     "text": [
      "Epoch 5: train loss :   0.156262   val loss :   0.156610   val score :   0.225875\n",
      "------ epoch:6 ------\n"
     ]
    },
    {
     "name": "stderr",
     "output_type": "stream",
     "text": [
      "100%|██████████| 252/252 [00:04<00:00, 61.13it/s]\n",
      "100%|██████████| 28/28 [00:00<00:00, 111.73it/s]\n",
      "100%|██████████| 943/943 [00:00<00:00, 2382.14it/s]\n"
     ]
    },
    {
     "name": "stdout",
     "output_type": "stream",
     "text": [
      "Epoch 6: train loss :   0.153875   val loss :   0.155968   val score :   0.233298\n",
      "------ epoch:7 ------\n"
     ]
    },
    {
     "name": "stderr",
     "output_type": "stream",
     "text": [
      "100%|██████████| 252/252 [00:03<00:00, 64.15it/s]\n",
      "100%|██████████| 28/28 [00:00<00:00, 68.92it/s] \n",
      "100%|██████████| 943/943 [00:00<00:00, 2443.36it/s]\n"
     ]
    },
    {
     "name": "stdout",
     "output_type": "stream",
     "text": [
      "Epoch 7: train loss :   0.152567   val loss :   0.155768   val score :   0.243902\n",
      "------ epoch:8 ------\n"
     ]
    },
    {
     "name": "stderr",
     "output_type": "stream",
     "text": [
      "100%|██████████| 252/252 [00:03<00:00, 65.03it/s]\n",
      "100%|██████████| 28/28 [00:00<00:00, 68.34it/s]\n",
      "100%|██████████| 943/943 [00:00<00:00, 2503.76it/s]\n"
     ]
    },
    {
     "name": "stdout",
     "output_type": "stream",
     "text": [
      "Epoch 8: train loss :   0.151638   val loss :   0.155833   val score :   0.251326\n",
      "------ epoch:9 ------\n"
     ]
    },
    {
     "name": "stderr",
     "output_type": "stream",
     "text": [
      "100%|██████████| 252/252 [00:03<00:00, 64.12it/s]\n",
      "100%|██████████| 28/28 [00:00<00:00, 119.93it/s]\n",
      "100%|██████████| 943/943 [00:00<00:00, 2438.44it/s]\n"
     ]
    },
    {
     "name": "stdout",
     "output_type": "stream",
     "text": [
      "Epoch 9: train loss :   0.151027   val loss :   0.155894   val score :   0.252386\n",
      "------ epoch:10 ------\n"
     ]
    },
    {
     "name": "stderr",
     "output_type": "stream",
     "text": [
      "100%|██████████| 252/252 [00:03<00:00, 64.08it/s]\n",
      "100%|██████████| 28/28 [00:00<00:00, 113.42it/s]\n",
      "100%|██████████| 943/943 [00:00<00:00, 2701.56it/s]\n"
     ]
    },
    {
     "name": "stdout",
     "output_type": "stream",
     "text": [
      "Epoch 10: train loss :   0.150477   val loss :   0.156002   val score :   0.254507\n",
      "------ epoch:11 ------\n"
     ]
    },
    {
     "name": "stderr",
     "output_type": "stream",
     "text": [
      "100%|██████████| 252/252 [00:03<00:00, 65.25it/s]\n",
      "100%|██████████| 28/28 [00:00<00:00, 115.75it/s]\n",
      "100%|██████████| 943/943 [00:00<00:00, 2769.64it/s]\n"
     ]
    },
    {
     "name": "stdout",
     "output_type": "stream",
     "text": [
      "Epoch 11: train loss :   0.150093   val loss :   0.156143   val score :   0.253446\n",
      "------ epoch:12 ------\n"
     ]
    },
    {
     "name": "stderr",
     "output_type": "stream",
     "text": [
      "100%|██████████| 252/252 [00:03<00:00, 65.12it/s]\n",
      "100%|██████████| 28/28 [00:00<00:00, 116.85it/s]\n",
      "100%|██████████| 943/943 [00:00<00:00, 2703.47it/s]\n"
     ]
    },
    {
     "name": "stdout",
     "output_type": "stream",
     "text": [
      "Epoch 12: train loss :   0.149664   val loss :   0.156259   val score :   0.254507\n",
      "------ epoch:13 ------\n"
     ]
    },
    {
     "name": "stderr",
     "output_type": "stream",
     "text": [
      "100%|██████████| 252/252 [00:03<00:00, 64.42it/s]\n",
      "100%|██████████| 28/28 [00:00<00:00, 68.41it/s] \n",
      "100%|██████████| 943/943 [00:00<00:00, 1395.72it/s]\n"
     ]
    },
    {
     "name": "stdout",
     "output_type": "stream",
     "text": [
      "Epoch 13: train loss :   0.149111   val loss :   0.156364   val score :   0.260870\n",
      "------ epoch:14 ------\n"
     ]
    },
    {
     "name": "stderr",
     "output_type": "stream",
     "text": [
      "100%|██████████| 252/252 [00:03<00:00, 63.23it/s]\n",
      "100%|██████████| 28/28 [00:00<00:00, 111.76it/s]\n",
      "100%|██████████| 943/943 [00:00<00:00, 1782.21it/s]\n"
     ]
    },
    {
     "name": "stdout",
     "output_type": "stream",
     "text": [
      "Epoch 14: train loss :   0.148891   val loss :   0.156422   val score :   0.258749\n",
      "------ epoch:15 ------\n"
     ]
    },
    {
     "name": "stderr",
     "output_type": "stream",
     "text": [
      "100%|██████████| 252/252 [00:03<00:00, 63.66it/s]\n",
      "100%|██████████| 28/28 [00:00<00:00, 112.50it/s]\n",
      "100%|██████████| 943/943 [00:00<00:00, 2469.99it/s]\n"
     ]
    },
    {
     "name": "stdout",
     "output_type": "stream",
     "text": [
      "Epoch 15: train loss :   0.148534   val loss :   0.156529   val score :   0.260870\n",
      "------ epoch:16 ------\n"
     ]
    },
    {
     "name": "stderr",
     "output_type": "stream",
     "text": [
      "100%|██████████| 252/252 [00:04<00:00, 61.32it/s]\n",
      "100%|██████████| 28/28 [00:00<00:00, 103.90it/s]\n",
      "100%|██████████| 943/943 [00:00<00:00, 1841.02it/s]\n"
     ]
    },
    {
     "name": "stdout",
     "output_type": "stream",
     "text": [
      "Epoch 16: train loss :   0.148062   val loss :   0.156590   val score :   0.262990\n",
      "------ epoch:17 ------\n"
     ]
    },
    {
     "name": "stderr",
     "output_type": "stream",
     "text": [
      "100%|██████████| 252/252 [00:04<00:00, 60.66it/s]\n",
      "100%|██████████| 28/28 [00:00<00:00, 100.02it/s]\n",
      "100%|██████████| 943/943 [00:00<00:00, 2154.39it/s]\n"
     ]
    },
    {
     "name": "stdout",
     "output_type": "stream",
     "text": [
      "Epoch 17: train loss :   0.147848   val loss :   0.156628   val score :   0.262990\n",
      "------ epoch:18 ------\n"
     ]
    },
    {
     "name": "stderr",
     "output_type": "stream",
     "text": [
      "100%|██████████| 252/252 [00:05<00:00, 42.51it/s]\n",
      "100%|██████████| 28/28 [00:00<00:00, 56.08it/s]\n",
      "100%|██████████| 943/943 [00:00<00:00, 2509.79it/s]\n"
     ]
    },
    {
     "name": "stdout",
     "output_type": "stream",
     "text": [
      "Epoch 18: train loss :   0.147635   val loss :   0.156625   val score :   0.262990\n",
      "------ epoch:19 ------\n"
     ]
    },
    {
     "name": "stderr",
     "output_type": "stream",
     "text": [
      "100%|██████████| 252/252 [00:04<00:00, 52.56it/s]\n",
      "100%|██████████| 28/28 [00:00<00:00, 114.56it/s]\n",
      "100%|██████████| 943/943 [00:00<00:00, 1680.20it/s]\n"
     ]
    },
    {
     "name": "stdout",
     "output_type": "stream",
     "text": [
      "Epoch 19: train loss :   0.147250   val loss :   0.156678   val score :   0.261930\n",
      "Epoch 00019: reducing learning rate of group 0 to 1.0000e-04.\n",
      "------ epoch:20 ------\n"
     ]
    },
    {
     "name": "stderr",
     "output_type": "stream",
     "text": [
      "100%|██████████| 252/252 [00:04<00:00, 58.95it/s]\n",
      "100%|██████████| 28/28 [00:00<00:00, 107.26it/s]\n",
      "100%|██████████| 943/943 [00:00<00:00, 1884.60it/s]\n"
     ]
    },
    {
     "name": "stdout",
     "output_type": "stream",
     "text": [
      "Epoch 20: train loss :   0.146083   val loss :   0.156677   val score :   0.261930\n"
     ]
    },
    {
     "name": "stderr",
     "output_type": "stream",
     "text": [
      "100%|██████████| 70/70 [00:00<00:00, 81.26it/s] \n",
      "100%|██████████| 943/943 [00:00<00:00, 1830.88it/s]\n"
     ]
    },
    {
     "name": "stdout",
     "output_type": "stream",
     "text": [
      "------ log loss of 5 fold : 0.15416479568396296 ------\n",
      "------ score of 5 fold : 0.2513255567338282 ------\n",
      "settings : power = 1, model type = 2\n",
      "parameters :  {'num_users': 943, 'num_items': 1682, 'embedding_dim': 10, 'lr': 0.001, 'alpha': 0.001, 'patience': 3, 'epochs': 30, 'device': 'cuda:0', 'model_selection': True}\n",
      "------ log loss of the model : 0.15271174686295647 ------\n",
      "------ score of the model : 0.23711558854718984 ------\n",
      "------ 第1折 ------\n",
      "------ epoch:1 ------\n"
     ]
    },
    {
     "name": "stderr",
     "output_type": "stream",
     "text": [
      "100%|██████████| 252/252 [00:04<00:00, 60.80it/s]\n",
      "100%|██████████| 28/28 [00:00<00:00, 110.58it/s]\n",
      "100%|██████████| 943/943 [00:00<00:00, 2194.85it/s]\n"
     ]
    },
    {
     "name": "stdout",
     "output_type": "stream",
     "text": [
      "Epoch 1: train loss :   0.313535   val loss :   0.158225   val score :   0.232238\n",
      "------ epoch:2 ------\n"
     ]
    },
    {
     "name": "stderr",
     "output_type": "stream",
     "text": [
      "100%|██████████| 252/252 [00:04<00:00, 61.49it/s]\n",
      "100%|██████████| 28/28 [00:00<00:00, 112.18it/s]\n",
      "100%|██████████| 943/943 [00:00<00:00, 2247.76it/s]\n"
     ]
    },
    {
     "name": "stdout",
     "output_type": "stream",
     "text": [
      "Epoch 2: train loss :   0.199791   val loss :   0.155354   val score :   0.257688\n",
      "------ epoch:3 ------\n"
     ]
    },
    {
     "name": "stderr",
     "output_type": "stream",
     "text": [
      "100%|██████████| 252/252 [00:03<00:00, 64.46it/s]\n",
      "100%|██████████| 28/28 [00:00<00:00, 117.37it/s]\n",
      "100%|██████████| 943/943 [00:00<00:00, 2096.02it/s]\n"
     ]
    },
    {
     "name": "stdout",
     "output_type": "stream",
     "text": [
      "Epoch 3: train loss :   0.186135   val loss :   0.153418   val score :   0.262990\n",
      "------ epoch:4 ------\n"
     ]
    },
    {
     "name": "stderr",
     "output_type": "stream",
     "text": [
      "100%|██████████| 252/252 [00:03<00:00, 63.07it/s]\n",
      "100%|██████████| 28/28 [00:00<00:00, 65.07it/s] \n",
      "100%|██████████| 943/943 [00:00<00:00, 2205.26it/s]\n"
     ]
    },
    {
     "name": "stdout",
     "output_type": "stream",
     "text": [
      "Epoch 4: train loss :   0.174300   val loss :   0.151847   val score :   0.266172\n",
      "------ epoch:5 ------\n"
     ]
    },
    {
     "name": "stderr",
     "output_type": "stream",
     "text": [
      "100%|██████████| 252/252 [00:03<00:00, 67.54it/s]\n",
      "100%|██████████| 28/28 [00:00<00:00, 70.51it/s]\n",
      "100%|██████████| 943/943 [00:00<00:00, 2282.52it/s]\n"
     ]
    },
    {
     "name": "stdout",
     "output_type": "stream",
     "text": [
      "Epoch 5: train loss :   0.164891   val loss :   0.150824   val score :   0.262990\n",
      "------ epoch:6 ------\n"
     ]
    },
    {
     "name": "stderr",
     "output_type": "stream",
     "text": [
      "100%|██████████| 252/252 [00:03<00:00, 66.61it/s]\n",
      "100%|██████████| 28/28 [00:00<00:00, 114.77it/s]\n",
      "100%|██████████| 943/943 [00:00<00:00, 2080.08it/s]\n"
     ]
    },
    {
     "name": "stdout",
     "output_type": "stream",
     "text": [
      "Epoch 6: train loss :   0.158392   val loss :   0.150271   val score :   0.274655\n",
      "------ epoch:7 ------\n"
     ]
    },
    {
     "name": "stderr",
     "output_type": "stream",
     "text": [
      "100%|██████████| 252/252 [00:03<00:00, 65.80it/s]\n",
      "100%|██████████| 28/28 [00:00<00:00, 122.33it/s]\n",
      "100%|██████████| 943/943 [00:00<00:00, 2382.45it/s]\n"
     ]
    },
    {
     "name": "stdout",
     "output_type": "stream",
     "text": [
      "Epoch 7: train loss :   0.154510   val loss :   0.149772   val score :   0.272534\n",
      "------ epoch:8 ------\n"
     ]
    },
    {
     "name": "stderr",
     "output_type": "stream",
     "text": [
      "100%|██████████| 252/252 [00:03<00:00, 65.37it/s]\n",
      "100%|██████████| 28/28 [00:00<00:00, 123.04it/s]\n",
      "100%|██████████| 943/943 [00:00<00:00, 2035.56it/s]\n"
     ]
    },
    {
     "name": "stdout",
     "output_type": "stream",
     "text": [
      "Epoch 8: train loss :   0.152199   val loss :   0.149352   val score :   0.281018\n",
      "------ epoch:9 ------\n"
     ]
    },
    {
     "name": "stderr",
     "output_type": "stream",
     "text": [
      "100%|██████████| 252/252 [00:04<00:00, 62.58it/s]\n",
      "100%|██████████| 28/28 [00:00<00:00, 72.89it/s] \n",
      "100%|██████████| 943/943 [00:00<00:00, 2219.79it/s]\n"
     ]
    },
    {
     "name": "stdout",
     "output_type": "stream",
     "text": [
      "Epoch 9: train loss :   0.150998   val loss :   0.148988   val score :   0.299046\n",
      "------ epoch:10 ------\n"
     ]
    },
    {
     "name": "stderr",
     "output_type": "stream",
     "text": [
      "100%|██████████| 252/252 [00:03<00:00, 68.46it/s]\n",
      "100%|██████████| 28/28 [00:00<00:00, 68.28it/s]\n",
      "100%|██████████| 943/943 [00:00<00:00, 2017.26it/s]\n"
     ]
    },
    {
     "name": "stdout",
     "output_type": "stream",
     "text": [
      "Epoch 10: train loss :   0.150174   val loss :   0.149004   val score :   0.300106\n",
      "------ epoch:11 ------\n"
     ]
    },
    {
     "name": "stderr",
     "output_type": "stream",
     "text": [
      "100%|██████████| 252/252 [00:04<00:00, 62.24it/s]\n",
      "100%|██████████| 28/28 [00:00<00:00, 119.29it/s]\n",
      "100%|██████████| 943/943 [00:00<00:00, 2091.85it/s]\n"
     ]
    },
    {
     "name": "stdout",
     "output_type": "stream",
     "text": [
      "Epoch 11: train loss :   0.149486   val loss :   0.149107   val score :   0.293743\n",
      "------ epoch:12 ------\n"
     ]
    },
    {
     "name": "stderr",
     "output_type": "stream",
     "text": [
      "100%|██████████| 252/252 [00:03<00:00, 66.19it/s]\n",
      "100%|██████████| 28/28 [00:00<00:00, 119.04it/s]\n",
      "100%|██████████| 943/943 [00:00<00:00, 2123.08it/s]\n"
     ]
    },
    {
     "name": "stdout",
     "output_type": "stream",
     "text": [
      "Epoch 12: train loss :   0.149154   val loss :   0.149024   val score :   0.301166\n",
      "------ epoch:13 ------\n"
     ]
    },
    {
     "name": "stderr",
     "output_type": "stream",
     "text": [
      "100%|██████████| 252/252 [00:03<00:00, 64.03it/s]\n",
      "100%|██████████| 28/28 [00:00<00:00, 114.86it/s]\n",
      "100%|██████████| 943/943 [00:00<00:00, 2345.79it/s]\n"
     ]
    },
    {
     "name": "stdout",
     "output_type": "stream",
     "text": [
      "Epoch 13: train loss :   0.148528   val loss :   0.149205   val score :   0.290562\n",
      "------ epoch:14 ------\n"
     ]
    },
    {
     "name": "stderr",
     "output_type": "stream",
     "text": [
      "100%|██████████| 252/252 [00:03<00:00, 67.73it/s]\n",
      "100%|██████████| 28/28 [00:00<00:00, 122.04it/s]\n",
      "100%|██████████| 943/943 [00:00<00:00, 2261.79it/s]\n"
     ]
    },
    {
     "name": "stdout",
     "output_type": "stream",
     "text": [
      "Epoch 14: train loss :   0.147692   val loss :   0.149499   val score :   0.288441\n",
      "------ epoch:15 ------\n"
     ]
    },
    {
     "name": "stderr",
     "output_type": "stream",
     "text": [
      "100%|██████████| 252/252 [00:03<00:00, 66.87it/s]\n",
      "100%|██████████| 28/28 [00:00<00:00, 71.64it/s] \n",
      "100%|██████████| 943/943 [00:00<00:00, 2151.90it/s]\n"
     ]
    },
    {
     "name": "stdout",
     "output_type": "stream",
     "text": [
      "Epoch 15: train loss :   0.144765   val loss :   0.150028   val score :   0.273595\n",
      "Epoch 00015: reducing learning rate of group 0 to 1.0000e-03.\n",
      "------ epoch:16 ------\n"
     ]
    },
    {
     "name": "stderr",
     "output_type": "stream",
     "text": [
      "100%|██████████| 252/252 [00:03<00:00, 69.54it/s]\n",
      "100%|██████████| 28/28 [00:00<00:00, 71.57it/s]\n",
      "100%|██████████| 943/943 [00:00<00:00, 2258.41it/s]\n"
     ]
    },
    {
     "name": "stdout",
     "output_type": "stream",
     "text": [
      "Epoch 16: train loss :   0.136027   val loss :   0.150034   val score :   0.276776\n"
     ]
    },
    {
     "name": "stderr",
     "output_type": "stream",
     "text": [
      "100%|██████████| 70/70 [00:00<00:00, 95.06it/s] \n",
      "100%|██████████| 943/943 [00:00<00:00, 2479.33it/s]\n"
     ]
    },
    {
     "name": "stdout",
     "output_type": "stream",
     "text": [
      "------ log loss of 1 fold : 0.1436686730810574 ------\n",
      "------ score of 1 fold : 0.2417815482502651 ------\n",
      "------ 第2折 ------\n",
      "------ epoch:1 ------\n"
     ]
    },
    {
     "name": "stderr",
     "output_type": "stream",
     "text": [
      "100%|██████████| 252/252 [00:03<00:00, 69.37it/s]\n",
      "100%|██████████| 28/28 [00:00<00:00, 70.82it/s]\n",
      "100%|██████████| 943/943 [00:00<00:00, 2416.35it/s]\n"
     ]
    },
    {
     "name": "stdout",
     "output_type": "stream",
     "text": [
      "Epoch 1: train loss :   0.312125   val loss :   0.158856   val score :   0.229056\n",
      "------ epoch:2 ------\n"
     ]
    },
    {
     "name": "stderr",
     "output_type": "stream",
     "text": [
      "100%|██████████| 252/252 [00:03<00:00, 65.18it/s]\n",
      "100%|██████████| 28/28 [00:00<00:00, 121.23it/s]\n",
      "100%|██████████| 943/943 [00:00<00:00, 2398.73it/s]\n"
     ]
    },
    {
     "name": "stdout",
     "output_type": "stream",
     "text": [
      "Epoch 2: train loss :   0.198920   val loss :   0.156011   val score :   0.236479\n",
      "------ epoch:3 ------\n"
     ]
    },
    {
     "name": "stderr",
     "output_type": "stream",
     "text": [
      "100%|██████████| 252/252 [00:03<00:00, 66.74it/s]\n",
      "100%|██████████| 28/28 [00:00<00:00, 121.22it/s]\n",
      "100%|██████████| 943/943 [00:00<00:00, 2458.28it/s]\n"
     ]
    },
    {
     "name": "stdout",
     "output_type": "stream",
     "text": [
      "Epoch 3: train loss :   0.184944   val loss :   0.154604   val score :   0.250265\n",
      "------ epoch:4 ------\n"
     ]
    },
    {
     "name": "stderr",
     "output_type": "stream",
     "text": [
      "100%|██████████| 252/252 [00:03<00:00, 68.33it/s]\n",
      "100%|██████████| 28/28 [00:00<00:00, 122.42it/s]\n",
      "100%|██████████| 943/943 [00:00<00:00, 2497.21it/s]\n"
     ]
    },
    {
     "name": "stdout",
     "output_type": "stream",
     "text": [
      "Epoch 4: train loss :   0.173242   val loss :   0.153109   val score :   0.261930\n",
      "------ epoch:5 ------\n"
     ]
    },
    {
     "name": "stderr",
     "output_type": "stream",
     "text": [
      "100%|██████████| 252/252 [00:05<00:00, 45.71it/s]\n",
      "100%|██████████| 28/28 [00:00<00:00, 68.61it/s]\n",
      "100%|██████████| 943/943 [00:00<00:00, 1979.77it/s]\n"
     ]
    },
    {
     "name": "stdout",
     "output_type": "stream",
     "text": [
      "Epoch 5: train loss :   0.163913   val loss :   0.151822   val score :   0.267232\n",
      "------ epoch:6 ------\n"
     ]
    },
    {
     "name": "stderr",
     "output_type": "stream",
     "text": [
      "100%|██████████| 252/252 [00:06<00:00, 38.50it/s]\n",
      "100%|██████████| 28/28 [00:00<00:00, 67.06it/s] \n",
      "100%|██████████| 943/943 [00:00<00:00, 1728.32it/s]\n"
     ]
    },
    {
     "name": "stdout",
     "output_type": "stream",
     "text": [
      "Epoch 6: train loss :   0.157551   val loss :   0.150661   val score :   0.271474\n",
      "------ epoch:7 ------\n"
     ]
    },
    {
     "name": "stderr",
     "output_type": "stream",
     "text": [
      "100%|██████████| 252/252 [00:04<00:00, 62.95it/s]\n",
      "100%|██████████| 28/28 [00:00<00:00, 70.18it/s]\n",
      "100%|██████████| 943/943 [00:00<00:00, 1421.99it/s]\n"
     ]
    },
    {
     "name": "stdout",
     "output_type": "stream",
     "text": [
      "Epoch 7: train loss :   0.153830   val loss :   0.149760   val score :   0.271474\n",
      "------ epoch:8 ------\n"
     ]
    },
    {
     "name": "stderr",
     "output_type": "stream",
     "text": [
      "100%|██████████| 252/252 [00:05<00:00, 47.77it/s]\n",
      "100%|██████████| 28/28 [00:00<00:00, 117.31it/s]\n",
      "100%|██████████| 943/943 [00:00<00:00, 1833.59it/s]\n"
     ]
    },
    {
     "name": "stdout",
     "output_type": "stream",
     "text": [
      "Epoch 8: train loss :   0.151636   val loss :   0.149008   val score :   0.265111\n",
      "------ epoch:9 ------\n"
     ]
    },
    {
     "name": "stderr",
     "output_type": "stream",
     "text": [
      "100%|██████████| 252/252 [00:04<00:00, 54.46it/s]\n",
      "100%|██████████| 28/28 [00:00<00:00, 94.73it/s]\n",
      "100%|██████████| 943/943 [00:00<00:00, 1886.89it/s]\n"
     ]
    },
    {
     "name": "stdout",
     "output_type": "stream",
     "text": [
      "Epoch 9: train loss :   0.150433   val loss :   0.148616   val score :   0.275716\n",
      "------ epoch:10 ------\n"
     ]
    },
    {
     "name": "stderr",
     "output_type": "stream",
     "text": [
      "100%|██████████| 252/252 [00:04<00:00, 53.34it/s]\n",
      "100%|██████████| 28/28 [00:00<00:00, 114.75it/s]\n",
      "100%|██████████| 943/943 [00:00<00:00, 1983.31it/s]\n"
     ]
    },
    {
     "name": "stdout",
     "output_type": "stream",
     "text": [
      "Epoch 10: train loss :   0.149444   val loss :   0.148336   val score :   0.264051\n",
      "------ epoch:11 ------\n"
     ]
    },
    {
     "name": "stderr",
     "output_type": "stream",
     "text": [
      "100%|██████████| 252/252 [00:03<00:00, 64.19it/s]\n",
      "100%|██████████| 28/28 [00:00<00:00, 115.63it/s]\n",
      "100%|██████████| 943/943 [00:00<00:00, 1939.37it/s]\n"
     ]
    },
    {
     "name": "stdout",
     "output_type": "stream",
     "text": [
      "Epoch 11: train loss :   0.148704   val loss :   0.148108   val score :   0.268293\n",
      "------ epoch:12 ------\n"
     ]
    },
    {
     "name": "stderr",
     "output_type": "stream",
     "text": [
      "100%|██████████| 252/252 [00:03<00:00, 65.84it/s]\n",
      "100%|██████████| 28/28 [00:00<00:00, 68.97it/s] \n",
      "100%|██████████| 943/943 [00:00<00:00, 1940.73it/s]\n"
     ]
    },
    {
     "name": "stdout",
     "output_type": "stream",
     "text": [
      "Epoch 12: train loss :   0.148327   val loss :   0.147874   val score :   0.261930\n",
      "Epoch 00012: reducing learning rate of group 0 to 1.0000e-03.\n",
      "------ epoch:13 ------\n"
     ]
    },
    {
     "name": "stderr",
     "output_type": "stream",
     "text": [
      "100%|██████████| 252/252 [00:03<00:00, 64.28it/s]\n",
      "100%|██████████| 28/28 [00:00<00:00, 119.62it/s]\n",
      "100%|██████████| 943/943 [00:00<00:00, 1857.35it/s]\n"
     ]
    },
    {
     "name": "stdout",
     "output_type": "stream",
     "text": [
      "Epoch 13: train loss :   0.142840   val loss :   0.147846   val score :   0.264051\n"
     ]
    },
    {
     "name": "stderr",
     "output_type": "stream",
     "text": [
      "100%|██████████| 70/70 [00:00<00:00, 93.39it/s] \n",
      "100%|██████████| 943/943 [00:00<00:00, 1964.71it/s]\n"
     ]
    },
    {
     "name": "stdout",
     "output_type": "stream",
     "text": [
      "------ log loss of 2 fold : 0.14712688475847244 ------\n",
      "------ score of 2 fold : 0.2735949098621421 ------\n",
      "------ 第3折 ------\n",
      "------ epoch:1 ------\n"
     ]
    },
    {
     "name": "stderr",
     "output_type": "stream",
     "text": [
      "100%|██████████| 252/252 [00:03<00:00, 65.26it/s]\n",
      "100%|██████████| 28/28 [00:00<00:00, 98.38it/s]\n",
      "100%|██████████| 943/943 [00:00<00:00, 2106.79it/s]\n"
     ]
    },
    {
     "name": "stdout",
     "output_type": "stream",
     "text": [
      "Epoch 1: train loss :   0.307911   val loss :   0.158371   val score :   0.233298\n",
      "------ epoch:2 ------\n"
     ]
    },
    {
     "name": "stderr",
     "output_type": "stream",
     "text": [
      "100%|██████████| 252/252 [00:03<00:00, 66.67it/s]\n",
      "100%|██████████| 28/28 [00:00<00:00, 126.89it/s]\n",
      "100%|██████████| 943/943 [00:00<00:00, 1171.35it/s]\n"
     ]
    },
    {
     "name": "stdout",
     "output_type": "stream",
     "text": [
      "Epoch 2: train loss :   0.198244   val loss :   0.156562   val score :   0.242842\n",
      "------ epoch:3 ------\n"
     ]
    },
    {
     "name": "stderr",
     "output_type": "stream",
     "text": [
      "100%|██████████| 252/252 [00:03<00:00, 65.30it/s]\n",
      "100%|██████████| 28/28 [00:00<00:00, 120.13it/s]\n",
      "100%|██████████| 943/943 [00:00<00:00, 2206.38it/s]\n"
     ]
    },
    {
     "name": "stdout",
     "output_type": "stream",
     "text": [
      "Epoch 3: train loss :   0.184103   val loss :   0.155382   val score :   0.273595\n",
      "------ epoch:4 ------\n"
     ]
    },
    {
     "name": "stderr",
     "output_type": "stream",
     "text": [
      "100%|██████████| 252/252 [00:03<00:00, 66.81it/s]\n",
      "100%|██████████| 28/28 [00:00<00:00, 121.41it/s]\n",
      "100%|██████████| 943/943 [00:00<00:00, 1822.87it/s]\n"
     ]
    },
    {
     "name": "stdout",
     "output_type": "stream",
     "text": [
      "Epoch 4: train loss :   0.172382   val loss :   0.154020   val score :   0.275716\n",
      "------ epoch:5 ------\n"
     ]
    },
    {
     "name": "stderr",
     "output_type": "stream",
     "text": [
      "100%|██████████| 252/252 [00:03<00:00, 66.00it/s]\n",
      "100%|██████████| 28/28 [00:00<00:00, 70.42it/s] \n",
      "100%|██████████| 943/943 [00:00<00:00, 1831.29it/s]\n"
     ]
    },
    {
     "name": "stdout",
     "output_type": "stream",
     "text": [
      "Epoch 5: train loss :   0.162806   val loss :   0.152854   val score :   0.299046\n",
      "------ epoch:6 ------\n"
     ]
    },
    {
     "name": "stderr",
     "output_type": "stream",
     "text": [
      "100%|██████████| 252/252 [00:04<00:00, 62.04it/s]\n",
      "100%|██████████| 28/28 [00:00<00:00, 61.49it/s]\n",
      "100%|██████████| 943/943 [00:00<00:00, 2110.88it/s]\n"
     ]
    },
    {
     "name": "stdout",
     "output_type": "stream",
     "text": [
      "Epoch 6: train loss :   0.156232   val loss :   0.151982   val score :   0.288441\n",
      "------ epoch:7 ------\n"
     ]
    },
    {
     "name": "stderr",
     "output_type": "stream",
     "text": [
      "100%|██████████| 252/252 [00:04<00:00, 60.54it/s]\n",
      "100%|██████████| 28/28 [00:00<00:00, 118.18it/s]\n",
      "100%|██████████| 943/943 [00:00<00:00, 1155.13it/s]\n"
     ]
    },
    {
     "name": "stdout",
     "output_type": "stream",
     "text": [
      "Epoch 7: train loss :   0.152840   val loss :   0.151241   val score :   0.287381\n",
      "------ epoch:8 ------\n"
     ]
    },
    {
     "name": "stderr",
     "output_type": "stream",
     "text": [
      "100%|██████████| 252/252 [00:03<00:00, 63.23it/s]\n",
      "100%|██████████| 28/28 [00:00<00:00, 114.54it/s]\n",
      "100%|██████████| 943/943 [00:00<00:00, 1649.52it/s]\n"
     ]
    },
    {
     "name": "stdout",
     "output_type": "stream",
     "text": [
      "Epoch 8: train loss :   0.150601   val loss :   0.150761   val score :   0.293743\n",
      "Epoch 00008: reducing learning rate of group 0 to 1.0000e-03.\n",
      "------ epoch:9 ------\n"
     ]
    },
    {
     "name": "stderr",
     "output_type": "stream",
     "text": [
      "100%|██████████| 252/252 [00:04<00:00, 62.51it/s]\n",
      "100%|██████████| 28/28 [00:00<00:00, 115.70it/s]\n",
      "100%|██████████| 943/943 [00:00<00:00, 2011.71it/s]\n"
     ]
    },
    {
     "name": "stdout",
     "output_type": "stream",
     "text": [
      "Epoch 9: train loss :   0.146912   val loss :   0.150669   val score :   0.291622\n"
     ]
    },
    {
     "name": "stderr",
     "output_type": "stream",
     "text": [
      "100%|██████████| 70/70 [00:00<00:00, 91.12it/s] \n",
      "100%|██████████| 943/943 [00:00<00:00, 1338.98it/s]\n"
     ]
    },
    {
     "name": "stdout",
     "output_type": "stream",
     "text": [
      "------ log loss of 3 fold : 0.15103322650705064 ------\n",
      "------ score of 3 fold : 0.24814422057264052 ------\n",
      "------ 第4折 ------\n",
      "------ epoch:1 ------\n"
     ]
    },
    {
     "name": "stderr",
     "output_type": "stream",
     "text": [
      "100%|██████████| 252/252 [00:04<00:00, 62.26it/s]\n",
      "100%|██████████| 28/28 [00:00<00:00, 111.97it/s]\n",
      "100%|██████████| 943/943 [00:00<00:00, 2005.79it/s]\n"
     ]
    },
    {
     "name": "stdout",
     "output_type": "stream",
     "text": [
      "Epoch 1: train loss :   0.308195   val loss :   0.159663   val score :   0.250265\n",
      "------ epoch:2 ------\n"
     ]
    },
    {
     "name": "stderr",
     "output_type": "stream",
     "text": [
      "100%|██████████| 252/252 [00:04<00:00, 58.90it/s]\n",
      "100%|██████████| 28/28 [00:00<00:00, 108.90it/s]\n",
      "100%|██████████| 943/943 [00:00<00:00, 1127.51it/s]\n"
     ]
    },
    {
     "name": "stdout",
     "output_type": "stream",
     "text": [
      "Epoch 2: train loss :   0.198704   val loss :   0.157304   val score :   0.275716\n",
      "------ epoch:3 ------\n"
     ]
    },
    {
     "name": "stderr",
     "output_type": "stream",
     "text": [
      "100%|██████████| 252/252 [00:04<00:00, 60.46it/s]\n",
      "100%|██████████| 28/28 [00:00<00:00, 114.27it/s]\n",
      "100%|██████████| 943/943 [00:00<00:00, 1350.82it/s]\n"
     ]
    },
    {
     "name": "stdout",
     "output_type": "stream",
     "text": [
      "Epoch 3: train loss :   0.184884   val loss :   0.155755   val score :   0.301166\n",
      "------ epoch:4 ------\n"
     ]
    },
    {
     "name": "stderr",
     "output_type": "stream",
     "text": [
      "100%|██████████| 252/252 [00:03<00:00, 64.50it/s]\n",
      "100%|██████████| 28/28 [00:00<00:00, 66.52it/s] \n",
      "100%|██████████| 943/943 [00:00<00:00, 1327.61it/s]\n"
     ]
    },
    {
     "name": "stdout",
     "output_type": "stream",
     "text": [
      "Epoch 4: train loss :   0.173040   val loss :   0.154301   val score :   0.300106\n",
      "------ epoch:5 ------\n"
     ]
    },
    {
     "name": "stderr",
     "output_type": "stream",
     "text": [
      "100%|██████████| 252/252 [00:03<00:00, 64.96it/s]\n",
      "100%|██████████| 28/28 [00:00<00:00, 65.54it/s]\n",
      "100%|██████████| 943/943 [00:00<00:00, 1163.27it/s]\n"
     ]
    },
    {
     "name": "stdout",
     "output_type": "stream",
     "text": [
      "Epoch 5: train loss :   0.163865   val loss :   0.152515   val score :   0.304348\n",
      "------ epoch:6 ------\n"
     ]
    },
    {
     "name": "stderr",
     "output_type": "stream",
     "text": [
      "100%|██████████| 252/252 [00:04<00:00, 61.12it/s]\n",
      "100%|██████████| 28/28 [00:00<00:00, 117.79it/s]\n",
      "100%|██████████| 943/943 [00:00<00:00, 1177.19it/s]\n"
     ]
    },
    {
     "name": "stdout",
     "output_type": "stream",
     "text": [
      "Epoch 6: train loss :   0.157466   val loss :   0.151520   val score :   0.308590\n",
      "------ epoch:7 ------\n"
     ]
    },
    {
     "name": "stderr",
     "output_type": "stream",
     "text": [
      "100%|██████████| 252/252 [00:03<00:00, 63.70it/s]\n",
      "100%|██████████| 28/28 [00:00<00:00, 113.51it/s]\n",
      "100%|██████████| 943/943 [00:00<00:00, 1314.05it/s]\n"
     ]
    },
    {
     "name": "stdout",
     "output_type": "stream",
     "text": [
      "Epoch 7: train loss :   0.153427   val loss :   0.150934   val score :   0.314952\n",
      "------ epoch:8 ------\n"
     ]
    },
    {
     "name": "stderr",
     "output_type": "stream",
     "text": [
      "100%|██████████| 252/252 [00:03<00:00, 64.46it/s]\n",
      "100%|██████████| 28/28 [00:00<00:00, 111.58it/s]\n",
      "100%|██████████| 943/943 [00:00<00:00, 1507.79it/s]\n"
     ]
    },
    {
     "name": "stdout",
     "output_type": "stream",
     "text": [
      "Epoch 8: train loss :   0.151367   val loss :   0.150590   val score :   0.304348\n",
      "------ epoch:9 ------\n"
     ]
    },
    {
     "name": "stderr",
     "output_type": "stream",
     "text": [
      "100%|██████████| 252/252 [00:04<00:00, 62.71it/s]\n",
      "100%|██████████| 28/28 [00:00<00:00, 65.65it/s] \n",
      "100%|██████████| 943/943 [00:00<00:00, 1635.57it/s]\n"
     ]
    },
    {
     "name": "stdout",
     "output_type": "stream",
     "text": [
      "Epoch 9: train loss :   0.150002   val loss :   0.150353   val score :   0.304348\n",
      "------ epoch:10 ------\n"
     ]
    },
    {
     "name": "stderr",
     "output_type": "stream",
     "text": [
      "100%|██████████| 252/252 [00:04<00:00, 62.70it/s]\n",
      "100%|██████████| 28/28 [00:00<00:00, 68.07it/s]\n",
      "100%|██████████| 943/943 [00:00<00:00, 1923.94it/s]\n"
     ]
    },
    {
     "name": "stdout",
     "output_type": "stream",
     "text": [
      "Epoch 10: train loss :   0.149043   val loss :   0.150214   val score :   0.305408\n",
      "Epoch 00010: reducing learning rate of group 0 to 1.0000e-03.\n",
      "------ epoch:11 ------\n"
     ]
    },
    {
     "name": "stderr",
     "output_type": "stream",
     "text": [
      "100%|██████████| 252/252 [00:03<00:00, 63.66it/s]\n",
      "100%|██████████| 28/28 [00:00<00:00, 116.22it/s]\n",
      "100%|██████████| 943/943 [00:00<00:00, 2017.14it/s]\n"
     ]
    },
    {
     "name": "stdout",
     "output_type": "stream",
     "text": [
      "Epoch 11: train loss :   0.144548   val loss :   0.150180   val score :   0.302227\n"
     ]
    },
    {
     "name": "stderr",
     "output_type": "stream",
     "text": [
      "100%|██████████| 70/70 [00:00<00:00, 91.06it/s] \n",
      "100%|██████████| 943/943 [00:00<00:00, 1914.90it/s]\n"
     ]
    },
    {
     "name": "stdout",
     "output_type": "stream",
     "text": [
      "------ log loss of 4 fold : 0.14631341110382762 ------\n",
      "------ score of 4 fold : 0.2513255567338282 ------\n",
      "------ 第5折 ------\n",
      "------ epoch:1 ------\n"
     ]
    },
    {
     "name": "stderr",
     "output_type": "stream",
     "text": [
      "100%|██████████| 252/252 [00:03<00:00, 63.64it/s]\n",
      "100%|██████████| 28/28 [00:00<00:00, 111.01it/s]\n",
      "100%|██████████| 943/943 [00:00<00:00, 1671.43it/s]\n"
     ]
    },
    {
     "name": "stdout",
     "output_type": "stream",
     "text": [
      "Epoch 1: train loss :   0.307420   val loss :   0.157561   val score :   0.258749\n",
      "------ epoch:2 ------\n"
     ]
    },
    {
     "name": "stderr",
     "output_type": "stream",
     "text": [
      "100%|██████████| 252/252 [00:03<00:00, 63.20it/s]\n",
      "100%|██████████| 28/28 [00:00<00:00, 114.20it/s]\n",
      "100%|██████████| 943/943 [00:00<00:00, 1421.09it/s]\n"
     ]
    },
    {
     "name": "stdout",
     "output_type": "stream",
     "text": [
      "Epoch 2: train loss :   0.197636   val loss :   0.155082   val score :   0.265111\n",
      "------ epoch:3 ------\n"
     ]
    },
    {
     "name": "stderr",
     "output_type": "stream",
     "text": [
      "100%|██████████| 252/252 [00:03<00:00, 64.13it/s]\n",
      "100%|██████████| 28/28 [00:00<00:00, 115.77it/s]\n",
      "100%|██████████| 943/943 [00:00<00:00, 1321.09it/s]\n"
     ]
    },
    {
     "name": "stdout",
     "output_type": "stream",
     "text": [
      "Epoch 3: train loss :   0.183845   val loss :   0.153479   val score :   0.285260\n",
      "------ epoch:4 ------\n"
     ]
    },
    {
     "name": "stderr",
     "output_type": "stream",
     "text": [
      "100%|██████████| 252/252 [00:03<00:00, 64.25it/s]\n",
      "100%|██████████| 28/28 [00:00<00:00, 114.83it/s]\n",
      "100%|██████████| 943/943 [00:00<00:00, 1957.97it/s]\n"
     ]
    },
    {
     "name": "stdout",
     "output_type": "stream",
     "text": [
      "Epoch 4: train loss :   0.172147   val loss :   0.152224   val score :   0.287381\n",
      "------ epoch:5 ------\n"
     ]
    },
    {
     "name": "stderr",
     "output_type": "stream",
     "text": [
      "100%|██████████| 252/252 [00:03<00:00, 64.48it/s]\n",
      "100%|██████████| 28/28 [00:00<00:00, 51.58it/s] \n",
      "100%|██████████| 943/943 [00:00<00:00, 1528.54it/s]\n"
     ]
    },
    {
     "name": "stdout",
     "output_type": "stream",
     "text": [
      "Epoch 5: train loss :   0.163128   val loss :   0.151458   val score :   0.291622\n",
      "------ epoch:6 ------\n"
     ]
    },
    {
     "name": "stderr",
     "output_type": "stream",
     "text": [
      "100%|██████████| 252/252 [00:03<00:00, 63.00it/s]\n",
      "100%|██████████| 28/28 [00:00<00:00, 114.06it/s]\n",
      "100%|██████████| 943/943 [00:00<00:00, 1904.68it/s]\n"
     ]
    },
    {
     "name": "stdout",
     "output_type": "stream",
     "text": [
      "Epoch 6: train loss :   0.156805   val loss :   0.150593   val score :   0.294804\n",
      "------ epoch:7 ------\n"
     ]
    },
    {
     "name": "stderr",
     "output_type": "stream",
     "text": [
      "100%|██████████| 252/252 [00:04<00:00, 61.78it/s]\n",
      "100%|██████████| 28/28 [00:00<00:00, 111.12it/s]\n",
      "100%|██████████| 943/943 [00:00<00:00, 1414.28it/s]\n"
     ]
    },
    {
     "name": "stdout",
     "output_type": "stream",
     "text": [
      "Epoch 7: train loss :   0.153398   val loss :   0.149874   val score :   0.283139\n",
      "------ epoch:8 ------\n"
     ]
    },
    {
     "name": "stderr",
     "output_type": "stream",
     "text": [
      "100%|██████████| 252/252 [00:03<00:00, 64.62it/s]\n",
      "100%|██████████| 28/28 [00:00<00:00, 108.61it/s]\n",
      "100%|██████████| 943/943 [00:00<00:00, 1959.82it/s]\n"
     ]
    },
    {
     "name": "stdout",
     "output_type": "stream",
     "text": [
      "Epoch 8: train loss :   0.151309   val loss :   0.149485   val score :   0.291622\n",
      "------ epoch:9 ------\n"
     ]
    },
    {
     "name": "stderr",
     "output_type": "stream",
     "text": [
      "100%|██████████| 252/252 [00:03<00:00, 65.52it/s]\n",
      "100%|██████████| 28/28 [00:00<00:00, 112.11it/s]\n",
      "100%|██████████| 943/943 [00:00<00:00, 1163.76it/s]\n"
     ]
    },
    {
     "name": "stdout",
     "output_type": "stream",
     "text": [
      "Epoch 9: train loss :   0.149945   val loss :   0.149133   val score :   0.282078\n",
      "Epoch 00009: reducing learning rate of group 0 to 1.0000e-03.\n",
      "------ epoch:10 ------\n"
     ]
    },
    {
     "name": "stderr",
     "output_type": "stream",
     "text": [
      "100%|██████████| 252/252 [00:04<00:00, 56.36it/s]\n",
      "100%|██████████| 28/28 [00:00<00:00, 67.31it/s] \n",
      "100%|██████████| 943/943 [00:00<00:00, 1941.05it/s]\n"
     ]
    },
    {
     "name": "stdout",
     "output_type": "stream",
     "text": [
      "Epoch 10: train loss :   0.145621   val loss :   0.149082   val score :   0.283139\n"
     ]
    },
    {
     "name": "stderr",
     "output_type": "stream",
     "text": [
      "100%|██████████| 70/70 [00:00<00:00, 114.56it/s]\n",
      "100%|██████████| 943/943 [00:00<00:00, 2089.19it/s]\n"
     ]
    },
    {
     "name": "stdout",
     "output_type": "stream",
     "text": [
      "------ log loss of 5 fold : 0.1486328658248697 ------\n",
      "------ score of 5 fold : 0.2735949098621421 ------\n",
      "settings : power = 1, model type = 2\n",
      "parameters :  {'num_users': 943, 'num_items': 1682, 'embedding_dim': 10, 'lr': 0.01, 'alpha': 0.01, 'patience': 3, 'epochs': 30, 'device': 'cuda:0', 'model_selection': True}\n",
      "------ log loss of the model : 0.14735501225505554 ------\n",
      "------ score of the model : 0.2576882290562036 ------\n",
      "------ 第1折 ------\n",
      "------ epoch:1 ------\n"
     ]
    },
    {
     "name": "stderr",
     "output_type": "stream",
     "text": [
      "100%|██████████| 252/252 [00:04<00:00, 61.81it/s]\n",
      "100%|██████████| 28/28 [00:00<00:00, 67.48it/s] \n",
      "100%|██████████| 943/943 [00:00<00:00, 1982.88it/s]\n"
     ]
    },
    {
     "name": "stdout",
     "output_type": "stream",
     "text": [
      "Epoch 1: train loss :   0.202390   val loss :   0.160872   val score :   0.182397\n",
      "------ epoch:2 ------\n"
     ]
    },
    {
     "name": "stderr",
     "output_type": "stream",
     "text": [
      "100%|██████████| 252/252 [00:03<00:00, 64.04it/s]\n",
      "100%|██████████| 28/28 [00:00<00:00, 112.73it/s]\n",
      "100%|██████████| 943/943 [00:00<00:00, 1523.61it/s]\n"
     ]
    },
    {
     "name": "stdout",
     "output_type": "stream",
     "text": [
      "Epoch 2: train loss :   0.172482   val loss :   0.160789   val score :   0.176034\n",
      "------ epoch:3 ------\n"
     ]
    },
    {
     "name": "stderr",
     "output_type": "stream",
     "text": [
      "100%|██████████| 252/252 [00:03<00:00, 65.13it/s]\n",
      "100%|██████████| 28/28 [00:00<00:00, 112.93it/s]\n",
      "100%|██████████| 943/943 [00:00<00:00, 1216.55it/s]\n"
     ]
    },
    {
     "name": "stdout",
     "output_type": "stream",
     "text": [
      "Epoch 3: train loss :   0.173282   val loss :   0.161470   val score :   0.160127\n",
      "------ epoch:4 ------\n"
     ]
    },
    {
     "name": "stderr",
     "output_type": "stream",
     "text": [
      "100%|██████████| 252/252 [00:04<00:00, 62.77it/s]\n",
      "100%|██████████| 28/28 [00:00<00:00, 108.96it/s]\n",
      "100%|██████████| 943/943 [00:00<00:00, 1504.71it/s]\n"
     ]
    },
    {
     "name": "stdout",
     "output_type": "stream",
     "text": [
      "Epoch 4: train loss :   0.172385   val loss :   0.160477   val score :   0.174973\n",
      "Epoch 00004: reducing learning rate of group 0 to 1.0000e-02.\n",
      "------ epoch:5 ------\n"
     ]
    },
    {
     "name": "stderr",
     "output_type": "stream",
     "text": [
      "100%|██████████| 252/252 [00:04<00:00, 61.01it/s]\n",
      "100%|██████████| 28/28 [00:00<00:00, 112.60it/s]\n",
      "100%|██████████| 943/943 [00:00<00:00, 1300.60it/s]\n"
     ]
    },
    {
     "name": "stdout",
     "output_type": "stream",
     "text": [
      "Epoch 5: train loss :   0.163192   val loss :   0.159434   val score :   0.282078\n",
      "------ epoch:6 ------\n"
     ]
    },
    {
     "name": "stderr",
     "output_type": "stream",
     "text": [
      "100%|██████████| 252/252 [00:04<00:00, 62.93it/s]\n",
      "100%|██████████| 28/28 [00:00<00:00, 67.32it/s] \n",
      "100%|██████████| 943/943 [00:00<00:00, 1795.93it/s]\n"
     ]
    },
    {
     "name": "stdout",
     "output_type": "stream",
     "text": [
      "Epoch 6: train loss :   0.161226   val loss :   0.159544   val score :   0.297985\n",
      "------ epoch:7 ------\n"
     ]
    },
    {
     "name": "stderr",
     "output_type": "stream",
     "text": [
      "100%|██████████| 252/252 [00:03<00:00, 68.03it/s]\n",
      "100%|██████████| 28/28 [00:00<00:00, 67.79it/s]\n",
      "100%|██████████| 943/943 [00:00<00:00, 1906.31it/s]\n"
     ]
    },
    {
     "name": "stdout",
     "output_type": "stream",
     "text": [
      "Epoch 7: train loss :   0.161185   val loss :   0.159463   val score :   0.276776\n",
      "------ epoch:8 ------\n"
     ]
    },
    {
     "name": "stderr",
     "output_type": "stream",
     "text": [
      "100%|██████████| 252/252 [00:04<00:00, 60.84it/s]\n",
      "100%|██████████| 28/28 [00:00<00:00, 113.41it/s]\n",
      "100%|██████████| 943/943 [00:00<00:00, 1362.64it/s]\n"
     ]
    },
    {
     "name": "stdout",
     "output_type": "stream",
     "text": [
      "Epoch 8: train loss :   0.161058   val loss :   0.159449   val score :   0.284199\n",
      "------ epoch:9 ------\n"
     ]
    },
    {
     "name": "stderr",
     "output_type": "stream",
     "text": [
      "100%|██████████| 252/252 [00:04<00:00, 59.89it/s]\n",
      "100%|██████████| 28/28 [00:00<00:00, 118.81it/s]\n",
      "100%|██████████| 943/943 [00:00<00:00, 1255.99it/s]\n"
     ]
    },
    {
     "name": "stdout",
     "output_type": "stream",
     "text": [
      "Epoch 9: train loss :   0.161097   val loss :   0.159345   val score :   0.291622\n",
      "Epoch 00009: reducing learning rate of group 0 to 1.0000e-03.\n",
      "------ epoch:10 ------\n"
     ]
    },
    {
     "name": "stderr",
     "output_type": "stream",
     "text": [
      "100%|██████████| 252/252 [00:03<00:00, 63.89it/s]\n",
      "100%|██████████| 28/28 [00:00<00:00, 114.02it/s]\n",
      "100%|██████████| 943/943 [00:00<00:00, 1264.35it/s]\n"
     ]
    },
    {
     "name": "stdout",
     "output_type": "stream",
     "text": [
      "Epoch 10: train loss :   0.160152   val loss :   0.159339   val score :   0.296925\n"
     ]
    },
    {
     "name": "stderr",
     "output_type": "stream",
     "text": [
      "100%|██████████| 70/70 [00:00<00:00, 88.32it/s] \n",
      "100%|██████████| 943/943 [00:00<00:00, 2023.78it/s]\n"
     ]
    },
    {
     "name": "stdout",
     "output_type": "stream",
     "text": [
      "------ log loss of 1 fold : 0.15304477055157933 ------\n",
      "------ score of 1 fold : 0.2576882290562036 ------\n",
      "------ 第2折 ------\n",
      "------ epoch:1 ------\n"
     ]
    },
    {
     "name": "stderr",
     "output_type": "stream",
     "text": [
      "100%|██████████| 252/252 [00:03<00:00, 63.65it/s]\n",
      "100%|██████████| 28/28 [00:00<00:00, 119.62it/s]\n",
      "100%|██████████| 943/943 [00:00<00:00, 1198.75it/s]\n"
     ]
    },
    {
     "name": "stdout",
     "output_type": "stream",
     "text": [
      "Epoch 1: train loss :   0.201334   val loss :   0.160273   val score :   0.180276\n",
      "------ epoch:2 ------\n"
     ]
    },
    {
     "name": "stderr",
     "output_type": "stream",
     "text": [
      "100%|██████████| 252/252 [00:04<00:00, 51.74it/s]\n",
      "100%|██████████| 28/28 [00:00<00:00, 59.06it/s]\n",
      "100%|██████████| 943/943 [00:00<00:00, 1742.99it/s]\n"
     ]
    },
    {
     "name": "stdout",
     "output_type": "stream",
     "text": [
      "Epoch 2: train loss :   0.171973   val loss :   0.160994   val score :   0.188759\n",
      "------ epoch:3 ------\n"
     ]
    },
    {
     "name": "stderr",
     "output_type": "stream",
     "text": [
      "100%|██████████| 252/252 [00:03<00:00, 64.53it/s]\n",
      "100%|██████████| 28/28 [00:00<00:00, 68.19it/s]\n",
      "100%|██████████| 943/943 [00:00<00:00, 2148.33it/s]\n"
     ]
    },
    {
     "name": "stdout",
     "output_type": "stream",
     "text": [
      "Epoch 3: train loss :   0.171705   val loss :   0.160157   val score :   0.187699\n",
      "------ epoch:4 ------\n"
     ]
    },
    {
     "name": "stderr",
     "output_type": "stream",
     "text": [
      "100%|██████████| 252/252 [00:04<00:00, 62.12it/s]\n",
      "100%|██████████| 28/28 [00:00<00:00, 120.40it/s]\n",
      "100%|██████████| 943/943 [00:00<00:00, 2127.41it/s]\n"
     ]
    },
    {
     "name": "stdout",
     "output_type": "stream",
     "text": [
      "Epoch 4: train loss :   0.171712   val loss :   0.160112   val score :   0.187699\n",
      "------ epoch:5 ------\n"
     ]
    },
    {
     "name": "stderr",
     "output_type": "stream",
     "text": [
      "100%|██████████| 252/252 [00:04<00:00, 61.50it/s]\n",
      "100%|██████████| 28/28 [00:00<00:00, 115.32it/s]\n",
      "100%|██████████| 943/943 [00:00<00:00, 1946.31it/s]\n"
     ]
    },
    {
     "name": "stdout",
     "output_type": "stream",
     "text": [
      "Epoch 5: train loss :   0.172114   val loss :   0.160990   val score :   0.182397\n",
      "Epoch 00005: reducing learning rate of group 0 to 1.0000e-02.\n",
      "------ epoch:6 ------\n"
     ]
    },
    {
     "name": "stderr",
     "output_type": "stream",
     "text": [
      "100%|██████████| 252/252 [00:04<00:00, 61.24it/s]\n",
      "100%|██████████| 28/28 [00:00<00:00, 114.73it/s]\n",
      "100%|██████████| 943/943 [00:00<00:00, 2050.09it/s]\n"
     ]
    },
    {
     "name": "stdout",
     "output_type": "stream",
     "text": [
      "Epoch 6: train loss :   0.161818   val loss :   0.159255   val score :   0.279958\n",
      "------ epoch:7 ------\n"
     ]
    },
    {
     "name": "stderr",
     "output_type": "stream",
     "text": [
      "100%|██████████| 252/252 [00:04<00:00, 61.48it/s]\n",
      "100%|██████████| 28/28 [00:00<00:00, 105.41it/s]\n",
      "100%|██████████| 943/943 [00:00<00:00, 2078.19it/s]\n"
     ]
    },
    {
     "name": "stdout",
     "output_type": "stream",
     "text": [
      "Epoch 7: train loss :   0.160118   val loss :   0.159031   val score :   0.294804\n",
      "------ epoch:8 ------\n"
     ]
    },
    {
     "name": "stderr",
     "output_type": "stream",
     "text": [
      "100%|██████████| 252/252 [00:03<00:00, 63.51it/s]\n",
      "100%|██████████| 28/28 [00:00<00:00, 60.29it/s] \n",
      "100%|██████████| 943/943 [00:00<00:00, 1755.11it/s]\n"
     ]
    },
    {
     "name": "stdout",
     "output_type": "stream",
     "text": [
      "Epoch 8: train loss :   0.160286   val loss :   0.159162   val score :   0.294804\n",
      "------ epoch:9 ------\n"
     ]
    },
    {
     "name": "stderr",
     "output_type": "stream",
     "text": [
      "100%|██████████| 252/252 [00:04<00:00, 52.52it/s]\n",
      "100%|██████████| 28/28 [00:00<00:00, 53.10it/s]\n",
      "100%|██████████| 943/943 [00:00<00:00, 1564.55it/s]\n"
     ]
    },
    {
     "name": "stdout",
     "output_type": "stream",
     "text": [
      "Epoch 9: train loss :   0.160157   val loss :   0.159181   val score :   0.274655\n",
      "------ epoch:10 ------\n"
     ]
    },
    {
     "name": "stderr",
     "output_type": "stream",
     "text": [
      "100%|██████████| 252/252 [00:06<00:00, 39.46it/s]\n",
      "100%|██████████| 28/28 [00:00<00:00, 94.27it/s]\n",
      "100%|██████████| 943/943 [00:00<00:00, 2003.14it/s]\n"
     ]
    },
    {
     "name": "stdout",
     "output_type": "stream",
     "text": [
      "Epoch 10: train loss :   0.160224   val loss :   0.159125   val score :   0.275716\n",
      "Epoch 00010: reducing learning rate of group 0 to 1.0000e-03.\n",
      "------ epoch:11 ------\n"
     ]
    },
    {
     "name": "stderr",
     "output_type": "stream",
     "text": [
      "100%|██████████| 252/252 [00:03<00:00, 63.15it/s]\n",
      "100%|██████████| 28/28 [00:00<00:00, 118.08it/s]\n",
      "100%|██████████| 943/943 [00:00<00:00, 1107.41it/s]\n"
     ]
    },
    {
     "name": "stdout",
     "output_type": "stream",
     "text": [
      "Epoch 11: train loss :   0.159195   val loss :   0.159111   val score :   0.276776\n"
     ]
    },
    {
     "name": "stderr",
     "output_type": "stream",
     "text": [
      "100%|██████████| 70/70 [00:00<00:00, 92.82it/s] \n",
      "100%|██████████| 943/943 [00:00<00:00, 1996.61it/s]\n"
     ]
    },
    {
     "name": "stdout",
     "output_type": "stream",
     "text": [
      "------ log loss of 2 fold : 0.15657339383448873 ------\n",
      "------ score of 2 fold : 0.22375397667020147 ------\n",
      "------ 第3折 ------\n",
      "------ epoch:1 ------\n"
     ]
    },
    {
     "name": "stderr",
     "output_type": "stream",
     "text": [
      "100%|██████████| 252/252 [00:04<00:00, 61.69it/s]\n",
      "100%|██████████| 28/28 [00:00<00:00, 92.29it/s]\n",
      "100%|██████████| 943/943 [00:00<00:00, 1890.04it/s]\n"
     ]
    },
    {
     "name": "stdout",
     "output_type": "stream",
     "text": [
      "Epoch 1: train loss :   0.200964   val loss :   0.160310   val score :   0.179215\n",
      "------ epoch:2 ------\n"
     ]
    },
    {
     "name": "stderr",
     "output_type": "stream",
     "text": [
      "100%|██████████| 252/252 [00:04<00:00, 52.84it/s]\n",
      "100%|██████████| 28/28 [00:00<00:00, 69.15it/s]\n",
      "100%|██████████| 943/943 [00:00<00:00, 1788.47it/s]\n"
     ]
    },
    {
     "name": "stdout",
     "output_type": "stream",
     "text": [
      "Epoch 2: train loss :   0.170657   val loss :   0.160311   val score :   0.177094\n",
      "------ epoch:3 ------\n"
     ]
    },
    {
     "name": "stderr",
     "output_type": "stream",
     "text": [
      "100%|██████████| 252/252 [00:05<00:00, 42.43it/s]\n",
      "100%|██████████| 28/28 [00:00<00:00, 37.30it/s]\n",
      "100%|██████████| 943/943 [00:00<00:00, 1374.70it/s]\n"
     ]
    },
    {
     "name": "stdout",
     "output_type": "stream",
     "text": [
      "Epoch 3: train loss :   0.171306   val loss :   0.159396   val score :   0.160127\n",
      "------ epoch:4 ------\n"
     ]
    },
    {
     "name": "stderr",
     "output_type": "stream",
     "text": [
      "100%|██████████| 252/252 [00:04<00:00, 51.68it/s]\n",
      "100%|██████████| 28/28 [00:00<00:00, 68.92it/s]\n",
      "100%|██████████| 943/943 [00:00<00:00, 1726.77it/s]\n"
     ]
    },
    {
     "name": "stdout",
     "output_type": "stream",
     "text": [
      "Epoch 4: train loss :   0.170413   val loss :   0.160048   val score :   0.164369\n",
      "Epoch 00004: reducing learning rate of group 0 to 1.0000e-02.\n",
      "------ epoch:5 ------\n"
     ]
    },
    {
     "name": "stderr",
     "output_type": "stream",
     "text": [
      "100%|██████████| 252/252 [00:04<00:00, 61.63it/s]\n",
      "100%|██████████| 28/28 [00:00<00:00, 111.25it/s]\n",
      "100%|██████████| 943/943 [00:00<00:00, 1685.52it/s]\n"
     ]
    },
    {
     "name": "stdout",
     "output_type": "stream",
     "text": [
      "Epoch 5: train loss :   0.161234   val loss :   0.158560   val score :   0.271474\n",
      "------ epoch:6 ------\n"
     ]
    },
    {
     "name": "stderr",
     "output_type": "stream",
     "text": [
      "100%|██████████| 252/252 [00:04<00:00, 62.37it/s]\n",
      "100%|██████████| 28/28 [00:00<00:00, 100.84it/s]\n",
      "100%|██████████| 943/943 [00:00<00:00, 1924.67it/s]\n"
     ]
    },
    {
     "name": "stdout",
     "output_type": "stream",
     "text": [
      "Epoch 6: train loss :   0.159421   val loss :   0.158571   val score :   0.271474\n",
      "------ epoch:7 ------\n"
     ]
    },
    {
     "name": "stderr",
     "output_type": "stream",
     "text": [
      "100%|██████████| 252/252 [00:04<00:00, 62.75it/s]\n",
      "100%|██████████| 28/28 [00:00<00:00, 114.28it/s]\n",
      "100%|██████████| 943/943 [00:00<00:00, 2287.09it/s]\n"
     ]
    },
    {
     "name": "stdout",
     "output_type": "stream",
     "text": [
      "Epoch 7: train loss :   0.159347   val loss :   0.158522   val score :   0.277837\n",
      "------ epoch:8 ------\n"
     ]
    },
    {
     "name": "stderr",
     "output_type": "stream",
     "text": [
      "100%|██████████| 252/252 [00:04<00:00, 62.29it/s]\n",
      "100%|██████████| 28/28 [00:00<00:00, 65.99it/s] \n",
      "100%|██████████| 943/943 [00:00<00:00, 1487.91it/s]\n"
     ]
    },
    {
     "name": "stdout",
     "output_type": "stream",
     "text": [
      "Epoch 8: train loss :   0.159238   val loss :   0.158475   val score :   0.264051\n",
      "------ epoch:9 ------\n"
     ]
    },
    {
     "name": "stderr",
     "output_type": "stream",
     "text": [
      "100%|██████████| 252/252 [00:03<00:00, 65.55it/s]\n",
      "100%|██████████| 28/28 [00:00<00:00, 67.14it/s]\n",
      "100%|██████████| 943/943 [00:00<00:00, 1409.38it/s]\n"
     ]
    },
    {
     "name": "stdout",
     "output_type": "stream",
     "text": [
      "Epoch 9: train loss :   0.159403   val loss :   0.158489   val score :   0.264051\n",
      "------ epoch:10 ------\n"
     ]
    },
    {
     "name": "stderr",
     "output_type": "stream",
     "text": [
      "100%|██████████| 252/252 [00:04<00:00, 62.56it/s]\n",
      "100%|██████████| 28/28 [00:00<00:00, 117.12it/s]\n",
      "100%|██████████| 943/943 [00:00<00:00, 1714.60it/s]\n"
     ]
    },
    {
     "name": "stdout",
     "output_type": "stream",
     "text": [
      "Epoch 10: train loss :   0.159323   val loss :   0.158543   val score :   0.265111\n",
      "Epoch 00010: reducing learning rate of group 0 to 1.0000e-03.\n",
      "------ epoch:11 ------\n"
     ]
    },
    {
     "name": "stderr",
     "output_type": "stream",
     "text": [
      "100%|██████████| 252/252 [00:04<00:00, 61.36it/s]\n",
      "100%|██████████| 28/28 [00:00<00:00, 114.21it/s]\n",
      "100%|██████████| 943/943 [00:00<00:00, 1233.46it/s]\n"
     ]
    },
    {
     "name": "stdout",
     "output_type": "stream",
     "text": [
      "Epoch 11: train loss :   0.158278   val loss :   0.158500   val score :   0.264051\n"
     ]
    },
    {
     "name": "stderr",
     "output_type": "stream",
     "text": [
      "100%|██████████| 70/70 [00:00<00:00, 90.45it/s] \n",
      "100%|██████████| 943/943 [00:00<00:00, 1448.25it/s]\n"
     ]
    },
    {
     "name": "stdout",
     "output_type": "stream",
     "text": [
      "------ log loss of 3 fold : 0.15973902089255196 ------\n",
      "------ score of 3 fold : 0.24072110286320256 ------\n",
      "------ 第4折 ------\n",
      "------ epoch:1 ------\n"
     ]
    },
    {
     "name": "stderr",
     "output_type": "stream",
     "text": [
      "100%|██████████| 252/252 [00:04<00:00, 62.29it/s]\n",
      "100%|██████████| 28/28 [00:00<00:00, 114.34it/s]\n",
      "100%|██████████| 943/943 [00:00<00:00, 1885.27it/s]\n"
     ]
    },
    {
     "name": "stdout",
     "output_type": "stream",
     "text": [
      "Epoch 1: train loss :   0.202073   val loss :   0.160721   val score :   0.176034\n",
      "------ epoch:2 ------\n"
     ]
    },
    {
     "name": "stderr",
     "output_type": "stream",
     "text": [
      "100%|██████████| 252/252 [00:04<00:00, 62.79it/s]\n",
      "100%|██████████| 28/28 [00:00<00:00, 109.38it/s]\n",
      "100%|██████████| 943/943 [00:00<00:00, 1994.32it/s]\n"
     ]
    },
    {
     "name": "stdout",
     "output_type": "stream",
     "text": [
      "Epoch 2: train loss :   0.171551   val loss :   0.161370   val score :   0.182397\n",
      "------ epoch:3 ------\n"
     ]
    },
    {
     "name": "stderr",
     "output_type": "stream",
     "text": [
      "100%|██████████| 252/252 [00:03<00:00, 63.39it/s]\n",
      "100%|██████████| 28/28 [00:00<00:00, 67.63it/s] \n",
      "100%|██████████| 943/943 [00:00<00:00, 1894.61it/s]\n"
     ]
    },
    {
     "name": "stdout",
     "output_type": "stream",
     "text": [
      "Epoch 3: train loss :   0.172166   val loss :   0.161021   val score :   0.190880\n",
      "------ epoch:4 ------\n"
     ]
    },
    {
     "name": "stderr",
     "output_type": "stream",
     "text": [
      "100%|██████████| 252/252 [00:03<00:00, 64.32it/s]\n",
      "100%|██████████| 28/28 [00:00<00:00, 72.25it/s]\n",
      "100%|██████████| 943/943 [00:00<00:00, 1931.95it/s]\n"
     ]
    },
    {
     "name": "stdout",
     "output_type": "stream",
     "text": [
      "Epoch 4: train loss :   0.171149   val loss :   0.161643   val score :   0.205726\n",
      "------ epoch:5 ------\n"
     ]
    },
    {
     "name": "stderr",
     "output_type": "stream",
     "text": [
      "100%|██████████| 252/252 [00:03<00:00, 70.40it/s]\n",
      "100%|██████████| 28/28 [00:00<00:00, 115.25it/s]\n",
      "100%|██████████| 943/943 [00:00<00:00, 1802.31it/s]\n"
     ]
    },
    {
     "name": "stdout",
     "output_type": "stream",
     "text": [
      "Epoch 5: train loss :   0.171797   val loss :   0.161593   val score :   0.182397\n",
      "------ epoch:6 ------\n"
     ]
    },
    {
     "name": "stderr",
     "output_type": "stream",
     "text": [
      "100%|██████████| 252/252 [00:04<00:00, 62.68it/s]\n",
      "100%|██████████| 28/28 [00:00<00:00, 116.40it/s]\n",
      "100%|██████████| 943/943 [00:00<00:00, 1902.79it/s]\n"
     ]
    },
    {
     "name": "stdout",
     "output_type": "stream",
     "text": [
      "Epoch 6: train loss :   0.173222   val loss :   0.161430   val score :   0.168611\n",
      "------ epoch:7 ------\n"
     ]
    },
    {
     "name": "stderr",
     "output_type": "stream",
     "text": [
      "100%|██████████| 252/252 [00:04<00:00, 59.25it/s]\n",
      "100%|██████████| 28/28 [00:00<00:00, 115.26it/s]\n",
      "100%|██████████| 943/943 [00:00<00:00, 1436.76it/s]\n"
     ]
    },
    {
     "name": "stdout",
     "output_type": "stream",
     "text": [
      "Epoch 7: train loss :   0.172073   val loss :   0.161506   val score :   0.195122\n",
      "Epoch 00007: reducing learning rate of group 0 to 1.0000e-02.\n",
      "------ epoch:8 ------\n"
     ]
    },
    {
     "name": "stderr",
     "output_type": "stream",
     "text": [
      "100%|██████████| 252/252 [00:04<00:00, 54.93it/s]\n",
      "100%|██████████| 28/28 [00:00<00:00, 70.84it/s] \n",
      "100%|██████████| 943/943 [00:01<00:00, 891.66it/s]\n"
     ]
    },
    {
     "name": "stdout",
     "output_type": "stream",
     "text": [
      "Epoch 8: train loss :   0.162231   val loss :   0.159975   val score :   0.284199\n",
      "------ epoch:9 ------\n"
     ]
    },
    {
     "name": "stderr",
     "output_type": "stream",
     "text": [
      "100%|██████████| 252/252 [00:04<00:00, 60.10it/s]\n",
      "100%|██████████| 28/28 [00:00<00:00, 63.28it/s]\n",
      "100%|██████████| 943/943 [00:00<00:00, 1559.00it/s]\n"
     ]
    },
    {
     "name": "stdout",
     "output_type": "stream",
     "text": [
      "Epoch 9: train loss :   0.160217   val loss :   0.159881   val score :   0.303287\n",
      "------ epoch:10 ------\n"
     ]
    },
    {
     "name": "stderr",
     "output_type": "stream",
     "text": [
      "100%|██████████| 252/252 [00:04<00:00, 60.74it/s]\n",
      "100%|██████████| 28/28 [00:00<00:00, 113.67it/s]\n",
      "100%|██████████| 943/943 [00:00<00:00, 1838.28it/s]\n"
     ]
    },
    {
     "name": "stdout",
     "output_type": "stream",
     "text": [
      "Epoch 10: train loss :   0.160073   val loss :   0.159874   val score :   0.304348\n",
      "------ epoch:11 ------\n"
     ]
    },
    {
     "name": "stderr",
     "output_type": "stream",
     "text": [
      "100%|██████████| 252/252 [00:04<00:00, 62.95it/s]\n",
      "100%|██████████| 28/28 [00:00<00:00, 107.36it/s]\n",
      "100%|██████████| 943/943 [00:00<00:00, 1869.58it/s]\n"
     ]
    },
    {
     "name": "stdout",
     "output_type": "stream",
     "text": [
      "Epoch 11: train loss :   0.160197   val loss :   0.159722   val score :   0.290562\n",
      "------ epoch:12 ------\n"
     ]
    },
    {
     "name": "stderr",
     "output_type": "stream",
     "text": [
      "100%|██████████| 252/252 [00:03<00:00, 65.99it/s]\n",
      "100%|██████████| 28/28 [00:00<00:00, 116.28it/s]\n",
      "100%|██████████| 943/943 [00:00<00:00, 1266.48it/s]\n"
     ]
    },
    {
     "name": "stdout",
     "output_type": "stream",
     "text": [
      "Epoch 12: train loss :   0.160341   val loss :   0.159665   val score :   0.289502\n",
      "------ epoch:13 ------\n"
     ]
    },
    {
     "name": "stderr",
     "output_type": "stream",
     "text": [
      "100%|██████████| 252/252 [00:04<00:00, 62.89it/s]\n",
      "100%|██████████| 28/28 [00:00<00:00, 115.85it/s]\n",
      "100%|██████████| 943/943 [00:00<00:00, 1505.24it/s]\n"
     ]
    },
    {
     "name": "stdout",
     "output_type": "stream",
     "text": [
      "Epoch 13: train loss :   0.160163   val loss :   0.159883   val score :   0.284199\n",
      "Epoch 00013: reducing learning rate of group 0 to 1.0000e-03.\n",
      "------ epoch:14 ------\n"
     ]
    },
    {
     "name": "stderr",
     "output_type": "stream",
     "text": [
      "100%|██████████| 252/252 [00:03<00:00, 64.94it/s]\n",
      "100%|██████████| 28/28 [00:00<00:00, 69.12it/s] \n",
      "100%|██████████| 943/943 [00:00<00:00, 1906.72it/s]\n"
     ]
    },
    {
     "name": "stdout",
     "output_type": "stream",
     "text": [
      "Epoch 14: train loss :   0.159312   val loss :   0.159838   val score :   0.285260\n"
     ]
    },
    {
     "name": "stderr",
     "output_type": "stream",
     "text": [
      "100%|██████████| 70/70 [00:00<00:00, 115.55it/s]\n",
      "100%|██████████| 943/943 [00:00<00:00, 2339.23it/s]\n"
     ]
    },
    {
     "name": "stdout",
     "output_type": "stream",
     "text": [
      "------ log loss of 4 fold : 0.15599220927272525 ------\n",
      "------ score of 4 fold : 0.25344644750795337 ------\n",
      "------ 第5折 ------\n",
      "------ epoch:1 ------\n"
     ]
    },
    {
     "name": "stderr",
     "output_type": "stream",
     "text": [
      "100%|██████████| 252/252 [00:03<00:00, 64.15it/s]\n",
      "100%|██████████| 28/28 [00:00<00:00, 69.08it/s] \n",
      "100%|██████████| 943/943 [00:00<00:00, 981.90it/s] \n"
     ]
    },
    {
     "name": "stdout",
     "output_type": "stream",
     "text": [
      "Epoch 1: train loss :   0.200725   val loss :   0.160467   val score :   0.176034\n",
      "------ epoch:2 ------\n"
     ]
    },
    {
     "name": "stderr",
     "output_type": "stream",
     "text": [
      "100%|██████████| 252/252 [00:03<00:00, 64.75it/s]\n",
      "100%|██████████| 28/28 [00:00<00:00, 112.96it/s]\n",
      "100%|██████████| 943/943 [00:00<00:00, 1151.18it/s]\n"
     ]
    },
    {
     "name": "stdout",
     "output_type": "stream",
     "text": [
      "Epoch 2: train loss :   0.171112   val loss :   0.159617   val score :   0.193001\n",
      "------ epoch:3 ------\n"
     ]
    },
    {
     "name": "stderr",
     "output_type": "stream",
     "text": [
      "100%|██████████| 252/252 [00:04<00:00, 60.30it/s]\n",
      "100%|██████████| 28/28 [00:00<00:00, 112.92it/s]\n",
      "100%|██████████| 943/943 [00:00<00:00, 1526.44it/s]\n"
     ]
    },
    {
     "name": "stdout",
     "output_type": "stream",
     "text": [
      "Epoch 3: train loss :   0.172083   val loss :   0.160211   val score :   0.171792\n",
      "------ epoch:4 ------\n"
     ]
    },
    {
     "name": "stderr",
     "output_type": "stream",
     "text": [
      "100%|██████████| 252/252 [00:03<00:00, 63.59it/s]\n",
      "100%|██████████| 28/28 [00:00<00:00, 110.48it/s]\n",
      "100%|██████████| 943/943 [00:00<00:00, 1904.60it/s]\n"
     ]
    },
    {
     "name": "stdout",
     "output_type": "stream",
     "text": [
      "Epoch 4: train loss :   0.171178   val loss :   0.160046   val score :   0.181336\n",
      "------ epoch:5 ------\n"
     ]
    },
    {
     "name": "stderr",
     "output_type": "stream",
     "text": [
      "100%|██████████| 252/252 [00:03<00:00, 63.65it/s]\n",
      "100%|██████████| 28/28 [00:00<00:00, 109.29it/s]\n",
      "100%|██████████| 943/943 [00:00<00:00, 1669.54it/s]\n"
     ]
    },
    {
     "name": "stdout",
     "output_type": "stream",
     "text": [
      "Epoch 5: train loss :   0.172197   val loss :   0.159343   val score :   0.187699\n",
      "Epoch 00005: reducing learning rate of group 0 to 1.0000e-02.\n",
      "------ epoch:6 ------\n"
     ]
    },
    {
     "name": "stderr",
     "output_type": "stream",
     "text": [
      "100%|██████████| 252/252 [00:04<00:00, 60.83it/s]\n",
      "100%|██████████| 28/28 [00:00<00:00, 66.83it/s] \n",
      "100%|██████████| 943/943 [00:00<00:00, 1871.90it/s]\n"
     ]
    },
    {
     "name": "stdout",
     "output_type": "stream",
     "text": [
      "Epoch 6: train loss :   0.161825   val loss :   0.158218   val score :   0.259809\n",
      "------ epoch:7 ------\n"
     ]
    },
    {
     "name": "stderr",
     "output_type": "stream",
     "text": [
      "100%|██████████| 252/252 [00:04<00:00, 62.25it/s]\n",
      "100%|██████████| 28/28 [00:00<00:00, 112.08it/s]\n",
      "100%|██████████| 943/943 [00:00<00:00, 1911.93it/s]\n"
     ]
    },
    {
     "name": "stdout",
     "output_type": "stream",
     "text": [
      "Epoch 7: train loss :   0.159699   val loss :   0.158202   val score :   0.266172\n",
      "------ epoch:8 ------\n"
     ]
    },
    {
     "name": "stderr",
     "output_type": "stream",
     "text": [
      "100%|██████████| 252/252 [00:03<00:00, 64.32it/s]\n",
      "100%|██████████| 28/28 [00:00<00:00, 116.75it/s]\n",
      "100%|██████████| 943/943 [00:00<00:00, 1893.71it/s]\n"
     ]
    },
    {
     "name": "stdout",
     "output_type": "stream",
     "text": [
      "Epoch 8: train loss :   0.159838   val loss :   0.158353   val score :   0.266172\n",
      "------ epoch:9 ------\n"
     ]
    },
    {
     "name": "stderr",
     "output_type": "stream",
     "text": [
      "100%|██████████| 252/252 [00:03<00:00, 63.44it/s]\n",
      "100%|██████████| 28/28 [00:00<00:00, 112.39it/s]\n",
      "100%|██████████| 943/943 [00:00<00:00, 1768.07it/s]\n"
     ]
    },
    {
     "name": "stdout",
     "output_type": "stream",
     "text": [
      "Epoch 9: train loss :   0.159721   val loss :   0.158307   val score :   0.271474\n",
      "------ epoch:10 ------\n"
     ]
    },
    {
     "name": "stderr",
     "output_type": "stream",
     "text": [
      "100%|██████████| 252/252 [00:03<00:00, 66.02it/s]\n",
      "100%|██████████| 28/28 [00:00<00:00, 114.88it/s]\n",
      "100%|██████████| 943/943 [00:00<00:00, 1054.49it/s]\n"
     ]
    },
    {
     "name": "stdout",
     "output_type": "stream",
     "text": [
      "Epoch 10: train loss :   0.159953   val loss :   0.158378   val score :   0.265111\n",
      "------ epoch:11 ------\n"
     ]
    },
    {
     "name": "stderr",
     "output_type": "stream",
     "text": [
      "100%|██████████| 252/252 [00:03<00:00, 65.40it/s]\n",
      "100%|██████████| 28/28 [00:00<00:00, 116.32it/s]\n",
      "100%|██████████| 943/943 [00:00<00:00, 1354.43it/s]\n"
     ]
    },
    {
     "name": "stdout",
     "output_type": "stream",
     "text": [
      "Epoch 11: train loss :   0.159975   val loss :   0.158320   val score :   0.252386\n",
      "------ epoch:12 ------\n"
     ]
    },
    {
     "name": "stderr",
     "output_type": "stream",
     "text": [
      "100%|██████████| 252/252 [00:04<00:00, 62.66it/s]\n",
      "100%|██████████| 28/28 [00:00<00:00, 69.02it/s] \n",
      "100%|██████████| 943/943 [00:00<00:00, 1401.74it/s]\n"
     ]
    },
    {
     "name": "stdout",
     "output_type": "stream",
     "text": [
      "Epoch 12: train loss :   0.159875   val loss :   0.158352   val score :   0.269353\n",
      "Epoch 00012: reducing learning rate of group 0 to 1.0000e-03.\n",
      "------ epoch:13 ------\n"
     ]
    },
    {
     "name": "stderr",
     "output_type": "stream",
     "text": [
      "100%|██████████| 252/252 [00:04<00:00, 62.78it/s]\n",
      "100%|██████████| 28/28 [00:00<00:00, 113.71it/s]\n",
      "100%|██████████| 943/943 [00:00<00:00, 1295.39it/s]\n"
     ]
    },
    {
     "name": "stdout",
     "output_type": "stream",
     "text": [
      "Epoch 13: train loss :   0.158727   val loss :   0.158316   val score :   0.271474\n"
     ]
    },
    {
     "name": "stderr",
     "output_type": "stream",
     "text": [
      "100%|██████████| 70/70 [00:00<00:00, 88.85it/s] \n",
      "100%|██████████| 943/943 [00:00<00:00, 1926.72it/s]\n"
     ]
    },
    {
     "name": "stdout",
     "output_type": "stream",
     "text": [
      "------ log loss of 5 fold : 0.15813792028597423 ------\n",
      "------ score of 5 fold : 0.2651113467656416 ------\n",
      "settings : power = 1, model type = 2\n",
      "parameters :  {'num_users': 943, 'num_items': 1682, 'embedding_dim': 10, 'lr': 0.1, 'alpha': 0.1, 'patience': 3, 'epochs': 30, 'device': 'cuda:0', 'model_selection': True}\n",
      "------ log loss of the model : 0.15669746296746392 ------\n",
      "------ score of the model : 0.24814422057264052 ------\n",
      "------ 第1折 ------\n",
      "------ epoch:1 ------\n"
     ]
    },
    {
     "name": "stderr",
     "output_type": "stream",
     "text": [
      "100%|██████████| 252/252 [00:03<00:00, 64.95it/s]\n",
      "100%|██████████| 28/28 [00:00<00:00, 114.38it/s]\n",
      "100%|██████████| 943/943 [00:00<00:00, 1659.60it/s]\n"
     ]
    },
    {
     "name": "stdout",
     "output_type": "stream",
     "text": [
      "Epoch 1: train loss :   0.745513   val loss :   0.516809   val score :   0.119830\n",
      "------ epoch:2 ------\n"
     ]
    },
    {
     "name": "stderr",
     "output_type": "stream",
     "text": [
      "100%|██████████| 252/252 [00:03<00:00, 65.92it/s]\n",
      "100%|██████████| 28/28 [00:00<00:00, 117.83it/s]\n",
      "100%|██████████| 943/943 [00:00<00:00, 1154.68it/s]\n"
     ]
    },
    {
     "name": "stdout",
     "output_type": "stream",
     "text": [
      "Epoch 2: train loss :   0.289422   val loss :   0.180521   val score :   0.159067\n",
      "------ epoch:3 ------\n"
     ]
    },
    {
     "name": "stderr",
     "output_type": "stream",
     "text": [
      "100%|██████████| 252/252 [00:03<00:00, 63.96it/s]\n",
      "100%|██████████| 28/28 [00:00<00:00, 121.25it/s]\n",
      "100%|██████████| 943/943 [00:00<00:00, 1072.11it/s]\n"
     ]
    },
    {
     "name": "stdout",
     "output_type": "stream",
     "text": [
      "Epoch 3: train loss :   0.166837   val loss :   0.159764   val score :   0.246023\n",
      "------ epoch:4 ------\n"
     ]
    },
    {
     "name": "stderr",
     "output_type": "stream",
     "text": [
      "100%|██████████| 252/252 [00:04<00:00, 61.26it/s]\n",
      "100%|██████████| 28/28 [00:00<00:00, 123.54it/s]\n",
      "100%|██████████| 943/943 [00:00<00:00, 1040.69it/s]\n"
     ]
    },
    {
     "name": "stdout",
     "output_type": "stream",
     "text": [
      "Epoch 4: train loss :   0.157492   val loss :   0.156783   val score :   0.259809\n",
      "------ epoch:5 ------\n"
     ]
    },
    {
     "name": "stderr",
     "output_type": "stream",
     "text": [
      "100%|██████████| 252/252 [00:03<00:00, 66.73it/s]\n",
      "100%|██████████| 28/28 [00:00<00:00, 72.12it/s] \n",
      "100%|██████████| 943/943 [00:00<00:00, 1078.37it/s]\n"
     ]
    },
    {
     "name": "stdout",
     "output_type": "stream",
     "text": [
      "Epoch 5: train loss :   0.155081   val loss :   0.155992   val score :   0.265111\n",
      "------ epoch:6 ------\n"
     ]
    },
    {
     "name": "stderr",
     "output_type": "stream",
     "text": [
      "100%|██████████| 252/252 [00:03<00:00, 71.16it/s]\n",
      "100%|██████████| 28/28 [00:00<00:00, 72.94it/s]\n",
      "100%|██████████| 943/943 [00:00<00:00, 1962.28it/s]\n"
     ]
    },
    {
     "name": "stdout",
     "output_type": "stream",
     "text": [
      "Epoch 6: train loss :   0.153701   val loss :   0.155755   val score :   0.270414\n",
      "------ epoch:7 ------\n"
     ]
    },
    {
     "name": "stderr",
     "output_type": "stream",
     "text": [
      "100%|██████████| 252/252 [00:03<00:00, 65.16it/s]\n",
      "100%|██████████| 28/28 [00:00<00:00, 119.52it/s]\n",
      "100%|██████████| 943/943 [00:00<00:00, 1767.85it/s]\n"
     ]
    },
    {
     "name": "stdout",
     "output_type": "stream",
     "text": [
      "Epoch 7: train loss :   0.152864   val loss :   0.155652   val score :   0.271474\n",
      "------ epoch:8 ------\n"
     ]
    },
    {
     "name": "stderr",
     "output_type": "stream",
     "text": [
      "100%|██████████| 252/252 [00:03<00:00, 63.03it/s]\n",
      "100%|██████████| 28/28 [00:00<00:00, 122.47it/s]\n",
      "100%|██████████| 943/943 [00:00<00:00, 1960.49it/s]\n"
     ]
    },
    {
     "name": "stdout",
     "output_type": "stream",
     "text": [
      "Epoch 8: train loss :   0.152263   val loss :   0.155578   val score :   0.268293\n",
      "------ epoch:9 ------\n"
     ]
    },
    {
     "name": "stderr",
     "output_type": "stream",
     "text": [
      "100%|██████████| 252/252 [00:03<00:00, 63.77it/s]\n",
      "100%|██████████| 28/28 [00:00<00:00, 111.79it/s]\n",
      "100%|██████████| 943/943 [00:00<00:00, 1795.49it/s]\n"
     ]
    },
    {
     "name": "stdout",
     "output_type": "stream",
     "text": [
      "Epoch 9: train loss :   0.151603   val loss :   0.155662   val score :   0.274655\n",
      "------ epoch:10 ------\n"
     ]
    },
    {
     "name": "stderr",
     "output_type": "stream",
     "text": [
      "100%|██████████| 252/252 [00:03<00:00, 68.06it/s]\n",
      "100%|██████████| 28/28 [00:00<00:00, 128.54it/s]\n",
      "100%|██████████| 943/943 [00:00<00:00, 1819.94it/s]\n"
     ]
    },
    {
     "name": "stdout",
     "output_type": "stream",
     "text": [
      "Epoch 10: train loss :   0.151169   val loss :   0.155766   val score :   0.275716\n",
      "------ epoch:11 ------\n"
     ]
    },
    {
     "name": "stderr",
     "output_type": "stream",
     "text": [
      "100%|██████████| 252/252 [00:03<00:00, 68.12it/s]\n",
      "100%|██████████| 28/28 [00:00<00:00, 69.73it/s] \n",
      "100%|██████████| 943/943 [00:00<00:00, 1861.96it/s]\n"
     ]
    },
    {
     "name": "stdout",
     "output_type": "stream",
     "text": [
      "Epoch 11: train loss :   0.150528   val loss :   0.155784   val score :   0.273595\n",
      "------ epoch:12 ------\n"
     ]
    },
    {
     "name": "stderr",
     "output_type": "stream",
     "text": [
      "100%|██████████| 252/252 [00:03<00:00, 68.70it/s]\n",
      "100%|██████████| 28/28 [00:00<00:00, 70.87it/s]\n",
      "100%|██████████| 943/943 [00:00<00:00, 2070.69it/s]\n"
     ]
    },
    {
     "name": "stdout",
     "output_type": "stream",
     "text": [
      "Epoch 12: train loss :   0.150020   val loss :   0.155806   val score :   0.274655\n",
      "------ epoch:13 ------\n"
     ]
    },
    {
     "name": "stderr",
     "output_type": "stream",
     "text": [
      "100%|██████████| 252/252 [00:03<00:00, 66.32it/s]\n",
      "100%|██████████| 28/28 [00:00<00:00, 123.98it/s]\n",
      "100%|██████████| 943/943 [00:00<00:00, 1414.74it/s]\n"
     ]
    },
    {
     "name": "stdout",
     "output_type": "stream",
     "text": [
      "Epoch 13: train loss :   0.149703   val loss :   0.155798   val score :   0.274655\n",
      "Epoch 00013: reducing learning rate of group 0 to 1.0000e-04.\n",
      "------ epoch:14 ------\n"
     ]
    },
    {
     "name": "stderr",
     "output_type": "stream",
     "text": [
      "100%|██████████| 252/252 [00:04<00:00, 61.12it/s]\n",
      "100%|██████████| 28/28 [00:00<00:00, 119.27it/s]\n",
      "100%|██████████| 943/943 [00:00<00:00, 1161.99it/s]\n"
     ]
    },
    {
     "name": "stdout",
     "output_type": "stream",
     "text": [
      "Epoch 14: train loss :   0.148003   val loss :   0.155796   val score :   0.273595\n"
     ]
    },
    {
     "name": "stderr",
     "output_type": "stream",
     "text": [
      "100%|██████████| 70/70 [00:00<00:00, 92.07it/s] \n",
      "100%|██████████| 943/943 [00:00<00:00, 1862.80it/s]\n"
     ]
    },
    {
     "name": "stdout",
     "output_type": "stream",
     "text": [
      "------ log loss of 1 fold : 0.14802105586443629 ------\n",
      "------ score of 1 fold : 0.23329798515376457 ------\n",
      "------ 第2折 ------\n",
      "------ epoch:1 ------\n"
     ]
    },
    {
     "name": "stderr",
     "output_type": "stream",
     "text": [
      "100%|██████████| 252/252 [00:04<00:00, 58.50it/s]\n",
      "100%|██████████| 28/28 [00:00<00:00, 105.89it/s]\n",
      "100%|██████████| 943/943 [00:00<00:00, 1898.82it/s]\n"
     ]
    },
    {
     "name": "stdout",
     "output_type": "stream",
     "text": [
      "Epoch 1: train loss :   0.744591   val loss :   0.495220   val score :   0.128314\n",
      "------ epoch:2 ------\n"
     ]
    },
    {
     "name": "stderr",
     "output_type": "stream",
     "text": [
      "100%|██████████| 252/252 [00:04<00:00, 60.50it/s]\n",
      "100%|██████████| 28/28 [00:00<00:00, 114.02it/s]\n",
      "100%|██████████| 943/943 [00:00<00:00, 1825.15it/s]\n"
     ]
    },
    {
     "name": "stdout",
     "output_type": "stream",
     "text": [
      "Epoch 2: train loss :   0.276503   val loss :   0.177663   val score :   0.152704\n",
      "------ epoch:3 ------\n"
     ]
    },
    {
     "name": "stderr",
     "output_type": "stream",
     "text": [
      "100%|██████████| 252/252 [00:03<00:00, 63.54it/s]\n",
      "100%|██████████| 28/28 [00:00<00:00, 108.92it/s]\n",
      "100%|██████████| 943/943 [00:00<00:00, 1884.91it/s]\n"
     ]
    },
    {
     "name": "stdout",
     "output_type": "stream",
     "text": [
      "Epoch 3: train loss :   0.165382   val loss :   0.158164   val score :   0.235419\n",
      "------ epoch:4 ------\n"
     ]
    },
    {
     "name": "stderr",
     "output_type": "stream",
     "text": [
      "100%|██████████| 252/252 [00:03<00:00, 63.99it/s]\n",
      "100%|██████████| 28/28 [00:00<00:00, 68.47it/s] \n",
      "100%|██████████| 943/943 [00:00<00:00, 2151.66it/s]\n"
     ]
    },
    {
     "name": "stdout",
     "output_type": "stream",
     "text": [
      "Epoch 4: train loss :   0.156427   val loss :   0.155002   val score :   0.255567\n",
      "------ epoch:5 ------\n"
     ]
    },
    {
     "name": "stderr",
     "output_type": "stream",
     "text": [
      "100%|██████████| 252/252 [00:03<00:00, 64.04it/s]\n",
      "100%|██████████| 28/28 [00:00<00:00, 115.42it/s]\n",
      "100%|██████████| 943/943 [00:00<00:00, 2075.08it/s]\n"
     ]
    },
    {
     "name": "stdout",
     "output_type": "stream",
     "text": [
      "Epoch 5: train loss :   0.153972   val loss :   0.153933   val score :   0.257688\n",
      "------ epoch:6 ------\n"
     ]
    },
    {
     "name": "stderr",
     "output_type": "stream",
     "text": [
      "100%|██████████| 252/252 [00:04<00:00, 62.93it/s]\n",
      "100%|██████████| 28/28 [00:00<00:00, 104.18it/s]\n",
      "100%|██████████| 943/943 [00:00<00:00, 1836.75it/s]\n"
     ]
    },
    {
     "name": "stdout",
     "output_type": "stream",
     "text": [
      "Epoch 6: train loss :   0.152613   val loss :   0.153497   val score :   0.258749\n",
      "------ epoch:7 ------\n"
     ]
    },
    {
     "name": "stderr",
     "output_type": "stream",
     "text": [
      "100%|██████████| 252/252 [00:04<00:00, 61.11it/s]\n",
      "100%|██████████| 28/28 [00:00<00:00, 103.82it/s]\n",
      "100%|██████████| 943/943 [00:00<00:00, 1961.93it/s]\n"
     ]
    },
    {
     "name": "stdout",
     "output_type": "stream",
     "text": [
      "Epoch 7: train loss :   0.151741   val loss :   0.153298   val score :   0.260870\n",
      "------ epoch:8 ------\n"
     ]
    },
    {
     "name": "stderr",
     "output_type": "stream",
     "text": [
      "100%|██████████| 252/252 [00:03<00:00, 63.54it/s]\n",
      "100%|██████████| 28/28 [00:00<00:00, 109.48it/s]\n",
      "100%|██████████| 943/943 [00:00<00:00, 1602.82it/s]\n"
     ]
    },
    {
     "name": "stdout",
     "output_type": "stream",
     "text": [
      "Epoch 8: train loss :   0.151256   val loss :   0.153158   val score :   0.259809\n",
      "------ epoch:9 ------\n"
     ]
    },
    {
     "name": "stderr",
     "output_type": "stream",
     "text": [
      "100%|██████████| 252/252 [00:03<00:00, 63.53it/s]\n",
      "100%|██████████| 28/28 [00:00<00:00, 68.33it/s] \n",
      "100%|██████████| 943/943 [00:00<00:00, 1831.52it/s]\n"
     ]
    },
    {
     "name": "stdout",
     "output_type": "stream",
     "text": [
      "Epoch 9: train loss :   0.150693   val loss :   0.153154   val score :   0.259809\n",
      "------ epoch:10 ------\n"
     ]
    },
    {
     "name": "stderr",
     "output_type": "stream",
     "text": [
      "100%|██████████| 252/252 [00:03<00:00, 65.09it/s]\n",
      "100%|██████████| 28/28 [00:00<00:00, 67.08it/s]\n",
      "100%|██████████| 943/943 [00:00<00:00, 1436.27it/s]\n"
     ]
    },
    {
     "name": "stdout",
     "output_type": "stream",
     "text": [
      "Epoch 10: train loss :   0.150034   val loss :   0.153211   val score :   0.259809\n",
      "Epoch 00010: reducing learning rate of group 0 to 1.0000e-04.\n",
      "------ epoch:11 ------\n"
     ]
    },
    {
     "name": "stderr",
     "output_type": "stream",
     "text": [
      "100%|██████████| 252/252 [00:03<00:00, 64.87it/s]\n",
      "100%|██████████| 28/28 [00:00<00:00, 121.02it/s]\n",
      "100%|██████████| 943/943 [00:00<00:00, 1386.43it/s]\n"
     ]
    },
    {
     "name": "stdout",
     "output_type": "stream",
     "text": [
      "Epoch 11: train loss :   0.148544   val loss :   0.153199   val score :   0.259809\n"
     ]
    },
    {
     "name": "stderr",
     "output_type": "stream",
     "text": [
      "100%|██████████| 70/70 [00:00<00:00, 89.98it/s] \n",
      "100%|██████████| 943/943 [00:00<00:00, 1384.12it/s]\n"
     ]
    },
    {
     "name": "stdout",
     "output_type": "stream",
     "text": [
      "------ log loss of 2 fold : 0.15287865038428988 ------\n",
      "------ score of 2 fold : 0.2354188759278897 ------\n",
      "------ 第3折 ------\n",
      "------ epoch:1 ------\n"
     ]
    },
    {
     "name": "stderr",
     "output_type": "stream",
     "text": [
      "100%|██████████| 252/252 [00:04<00:00, 62.83it/s]\n",
      "100%|██████████| 28/28 [00:00<00:00, 114.80it/s]\n",
      "100%|██████████| 943/943 [00:00<00:00, 1605.06it/s]\n"
     ]
    },
    {
     "name": "stdout",
     "output_type": "stream",
     "text": [
      "Epoch 1: train loss :   0.719931   val loss :   0.464390   val score :   0.098621\n",
      "------ epoch:2 ------\n"
     ]
    },
    {
     "name": "stderr",
     "output_type": "stream",
     "text": [
      "100%|██████████| 252/252 [00:04<00:00, 62.35it/s]\n",
      "100%|██████████| 28/28 [00:00<00:00, 116.78it/s]\n",
      "100%|██████████| 943/943 [00:00<00:00, 1978.30it/s]\n"
     ]
    },
    {
     "name": "stdout",
     "output_type": "stream",
     "text": [
      "Epoch 2: train loss :   0.264385   val loss :   0.177594   val score :   0.130435\n",
      "------ epoch:3 ------\n"
     ]
    },
    {
     "name": "stderr",
     "output_type": "stream",
     "text": [
      "100%|██████████| 252/252 [00:04<00:00, 62.82it/s]\n",
      "100%|██████████| 28/28 [00:00<00:00, 117.19it/s]\n",
      "100%|██████████| 943/943 [00:00<00:00, 1822.85it/s]\n"
     ]
    },
    {
     "name": "stdout",
     "output_type": "stream",
     "text": [
      "Epoch 3: train loss :   0.163905   val loss :   0.160797   val score :   0.211029\n",
      "------ epoch:4 ------\n"
     ]
    },
    {
     "name": "stderr",
     "output_type": "stream",
     "text": [
      "100%|██████████| 252/252 [00:03<00:00, 64.11it/s]\n",
      "100%|██████████| 28/28 [00:00<00:00, 114.99it/s]\n",
      "100%|██████████| 943/943 [00:00<00:00, 1750.20it/s]\n"
     ]
    },
    {
     "name": "stdout",
     "output_type": "stream",
     "text": [
      "Epoch 4: train loss :   0.155551   val loss :   0.158460   val score :   0.226935\n",
      "------ epoch:5 ------\n"
     ]
    },
    {
     "name": "stderr",
     "output_type": "stream",
     "text": [
      "100%|██████████| 252/252 [00:03<00:00, 63.37it/s]\n",
      "100%|██████████| 28/28 [00:00<00:00, 69.05it/s] \n",
      "100%|██████████| 943/943 [00:00<00:00, 1970.79it/s]\n"
     ]
    },
    {
     "name": "stdout",
     "output_type": "stream",
     "text": [
      "Epoch 5: train loss :   0.153200   val loss :   0.157904   val score :   0.239661\n",
      "------ epoch:6 ------\n"
     ]
    },
    {
     "name": "stderr",
     "output_type": "stream",
     "text": [
      "100%|██████████| 252/252 [00:03<00:00, 67.80it/s]\n",
      "100%|██████████| 28/28 [00:00<00:00, 115.96it/s]\n",
      "100%|██████████| 943/943 [00:00<00:00, 2007.79it/s]\n"
     ]
    },
    {
     "name": "stdout",
     "output_type": "stream",
     "text": [
      "Epoch 6: train loss :   0.151923   val loss :   0.157739   val score :   0.244963\n",
      "------ epoch:7 ------\n"
     ]
    },
    {
     "name": "stderr",
     "output_type": "stream",
     "text": [
      "100%|██████████| 252/252 [00:03<00:00, 63.71it/s]\n",
      "100%|██████████| 28/28 [00:00<00:00, 113.24it/s]\n",
      "100%|██████████| 943/943 [00:00<00:00, 1967.00it/s]\n"
     ]
    },
    {
     "name": "stdout",
     "output_type": "stream",
     "text": [
      "Epoch 7: train loss :   0.151059   val loss :   0.157757   val score :   0.252386\n",
      "------ epoch:8 ------\n"
     ]
    },
    {
     "name": "stderr",
     "output_type": "stream",
     "text": [
      "100%|██████████| 252/252 [00:03<00:00, 63.85it/s]\n",
      "100%|██████████| 28/28 [00:00<00:00, 113.43it/s]\n",
      "100%|██████████| 943/943 [00:00<00:00, 1921.99it/s]\n"
     ]
    },
    {
     "name": "stdout",
     "output_type": "stream",
     "text": [
      "Epoch 8: train loss :   0.150722   val loss :   0.157930   val score :   0.249205\n",
      "------ epoch:9 ------\n"
     ]
    },
    {
     "name": "stderr",
     "output_type": "stream",
     "text": [
      "100%|██████████| 252/252 [00:03<00:00, 63.78it/s]\n",
      "100%|██████████| 28/28 [00:00<00:00, 113.62it/s]\n",
      "100%|██████████| 943/943 [00:00<00:00, 1936.07it/s]\n"
     ]
    },
    {
     "name": "stdout",
     "output_type": "stream",
     "text": [
      "Epoch 9: train loss :   0.149808   val loss :   0.158059   val score :   0.250265\n",
      "------ epoch:10 ------\n"
     ]
    },
    {
     "name": "stderr",
     "output_type": "stream",
     "text": [
      "100%|██████████| 252/252 [00:03<00:00, 63.41it/s]\n",
      "100%|██████████| 28/28 [00:00<00:00, 65.13it/s]\n",
      "100%|██████████| 943/943 [00:00<00:00, 1965.97it/s]\n"
     ]
    },
    {
     "name": "stdout",
     "output_type": "stream",
     "text": [
      "Epoch 10: train loss :   0.149519   val loss :   0.158154   val score :   0.252386\n",
      "Epoch 00010: reducing learning rate of group 0 to 1.0000e-04.\n",
      "------ epoch:11 ------\n"
     ]
    },
    {
     "name": "stderr",
     "output_type": "stream",
     "text": [
      "100%|██████████| 252/252 [00:04<00:00, 62.59it/s]\n",
      "100%|██████████| 28/28 [00:00<00:00, 83.71it/s]\n",
      "100%|██████████| 943/943 [00:00<00:00, 1994.30it/s]\n"
     ]
    },
    {
     "name": "stdout",
     "output_type": "stream",
     "text": [
      "Epoch 11: train loss :   0.147997   val loss :   0.158166   val score :   0.252386\n"
     ]
    },
    {
     "name": "stderr",
     "output_type": "stream",
     "text": [
      "100%|██████████| 70/70 [00:00<00:00, 74.06it/s]\n",
      "100%|██████████| 943/943 [00:00<00:00, 1282.07it/s]\n"
     ]
    },
    {
     "name": "stdout",
     "output_type": "stream",
     "text": [
      "------ log loss of 3 fold : 0.15680118245737892 ------\n",
      "------ score of 3 fold : 0.23966065747614 ------\n",
      "------ 第4折 ------\n",
      "------ epoch:1 ------\n"
     ]
    },
    {
     "name": "stderr",
     "output_type": "stream",
     "text": [
      "100%|██████████| 252/252 [00:05<00:00, 42.47it/s]\n",
      "100%|██████████| 28/28 [00:00<00:00, 63.27it/s]\n",
      "100%|██████████| 943/943 [00:00<00:00, 1598.23it/s]\n"
     ]
    },
    {
     "name": "stdout",
     "output_type": "stream",
     "text": [
      "Epoch 1: train loss :   0.764412   val loss :   0.511655   val score :   0.111347\n",
      "------ epoch:2 ------\n"
     ]
    },
    {
     "name": "stderr",
     "output_type": "stream",
     "text": [
      "100%|██████████| 252/252 [00:04<00:00, 56.64it/s]\n",
      "100%|██████████| 28/28 [00:00<00:00, 120.48it/s]\n",
      "100%|██████████| 943/943 [00:00<00:00, 1934.92it/s]\n"
     ]
    },
    {
     "name": "stdout",
     "output_type": "stream",
     "text": [
      "Epoch 2: train loss :   0.283425   val loss :   0.179474   val score :   0.161188\n",
      "------ epoch:3 ------\n"
     ]
    },
    {
     "name": "stderr",
     "output_type": "stream",
     "text": [
      "100%|██████████| 252/252 [00:03<00:00, 64.92it/s]\n",
      "100%|██████████| 28/28 [00:00<00:00, 119.68it/s]\n",
      "100%|██████████| 943/943 [00:00<00:00, 1922.10it/s]\n"
     ]
    },
    {
     "name": "stdout",
     "output_type": "stream",
     "text": [
      "Epoch 3: train loss :   0.165498   val loss :   0.160038   val score :   0.243902\n",
      "------ epoch:4 ------\n"
     ]
    },
    {
     "name": "stderr",
     "output_type": "stream",
     "text": [
      "100%|██████████| 252/252 [00:03<00:00, 64.12it/s]\n",
      "100%|██████████| 28/28 [00:00<00:00, 122.96it/s]\n",
      "100%|██████████| 943/943 [00:00<00:00, 1991.58it/s]\n"
     ]
    },
    {
     "name": "stdout",
     "output_type": "stream",
     "text": [
      "Epoch 4: train loss :   0.156158   val loss :   0.157496   val score :   0.267232\n",
      "------ epoch:5 ------\n"
     ]
    },
    {
     "name": "stderr",
     "output_type": "stream",
     "text": [
      "100%|██████████| 252/252 [00:03<00:00, 63.87it/s]\n",
      "100%|██████████| 28/28 [00:00<00:00, 67.54it/s] \n",
      "100%|██████████| 943/943 [00:00<00:00, 1880.53it/s]\n"
     ]
    },
    {
     "name": "stdout",
     "output_type": "stream",
     "text": [
      "Epoch 5: train loss :   0.153368   val loss :   0.156943   val score :   0.290562\n",
      "------ epoch:6 ------\n"
     ]
    },
    {
     "name": "stderr",
     "output_type": "stream",
     "text": [
      "100%|██████████| 252/252 [00:05<00:00, 47.73it/s]\n",
      "100%|██████████| 28/28 [00:00<00:00, 52.44it/s]\n",
      "100%|██████████| 943/943 [00:00<00:00, 1689.10it/s]\n"
     ]
    },
    {
     "name": "stdout",
     "output_type": "stream",
     "text": [
      "Epoch 6: train loss :   0.152252   val loss :   0.156874   val score :   0.293743\n",
      "------ epoch:7 ------\n"
     ]
    },
    {
     "name": "stderr",
     "output_type": "stream",
     "text": [
      "100%|██████████| 252/252 [00:05<00:00, 44.15it/s]\n",
      "100%|██████████| 28/28 [00:00<00:00, 122.16it/s]\n",
      "100%|██████████| 943/943 [00:00<00:00, 1862.71it/s]\n"
     ]
    },
    {
     "name": "stdout",
     "output_type": "stream",
     "text": [
      "Epoch 7: train loss :   0.151357   val loss :   0.156912   val score :   0.290562\n",
      "------ epoch:8 ------\n"
     ]
    },
    {
     "name": "stderr",
     "output_type": "stream",
     "text": [
      "100%|██████████| 252/252 [00:03<00:00, 66.24it/s]\n",
      "100%|██████████| 28/28 [00:00<00:00, 121.67it/s]\n",
      "100%|██████████| 943/943 [00:00<00:00, 1929.13it/s]\n"
     ]
    },
    {
     "name": "stdout",
     "output_type": "stream",
     "text": [
      "Epoch 8: train loss :   0.150665   val loss :   0.157139   val score :   0.299046\n",
      "------ epoch:9 ------\n"
     ]
    },
    {
     "name": "stderr",
     "output_type": "stream",
     "text": [
      "100%|██████████| 252/252 [00:04<00:00, 60.79it/s]\n",
      "100%|██████████| 28/28 [00:00<00:00, 111.50it/s]\n",
      "100%|██████████| 943/943 [00:00<00:00, 2087.40it/s]\n"
     ]
    },
    {
     "name": "stdout",
     "output_type": "stream",
     "text": [
      "Epoch 9: train loss :   0.150245   val loss :   0.157236   val score :   0.296925\n",
      "------ epoch:10 ------\n"
     ]
    },
    {
     "name": "stderr",
     "output_type": "stream",
     "text": [
      "100%|██████████| 252/252 [00:04<00:00, 59.83it/s]\n",
      "100%|██████████| 28/28 [00:00<00:00, 69.80it/s] \n",
      "100%|██████████| 943/943 [00:00<00:00, 1134.74it/s]\n"
     ]
    },
    {
     "name": "stdout",
     "output_type": "stream",
     "text": [
      "Epoch 10: train loss :   0.149457   val loss :   0.157390   val score :   0.296925\n",
      "------ epoch:11 ------\n"
     ]
    },
    {
     "name": "stderr",
     "output_type": "stream",
     "text": [
      "100%|██████████| 252/252 [00:03<00:00, 67.41it/s]\n",
      "100%|██████████| 28/28 [00:00<00:00, 70.65it/s]\n",
      "100%|██████████| 943/943 [00:00<00:00, 1256.20it/s]\n"
     ]
    },
    {
     "name": "stdout",
     "output_type": "stream",
     "text": [
      "Epoch 11: train loss :   0.149143   val loss :   0.157443   val score :   0.296925\n",
      "Epoch 00011: reducing learning rate of group 0 to 1.0000e-04.\n",
      "------ epoch:12 ------\n"
     ]
    },
    {
     "name": "stderr",
     "output_type": "stream",
     "text": [
      "100%|██████████| 252/252 [00:03<00:00, 64.18it/s]\n",
      "100%|██████████| 28/28 [00:00<00:00, 121.18it/s]\n",
      "100%|██████████| 943/943 [00:00<00:00, 1236.43it/s]\n"
     ]
    },
    {
     "name": "stdout",
     "output_type": "stream",
     "text": [
      "Epoch 12: train loss :   0.147708   val loss :   0.157455   val score :   0.297985\n"
     ]
    },
    {
     "name": "stderr",
     "output_type": "stream",
     "text": [
      "100%|██████████| 70/70 [00:00<00:00, 91.64it/s] \n",
      "100%|██████████| 943/943 [00:00<00:00, 2184.49it/s]\n"
     ]
    },
    {
     "name": "stdout",
     "output_type": "stream",
     "text": [
      "------ log loss of 4 fold : 0.15165000813347954 ------\n",
      "------ score of 4 fold : 0.2576882290562036 ------\n",
      "------ 第5折 ------\n",
      "------ epoch:1 ------\n"
     ]
    },
    {
     "name": "stderr",
     "output_type": "stream",
     "text": [
      "100%|██████████| 252/252 [00:04<00:00, 61.32it/s]\n",
      "100%|██████████| 28/28 [00:00<00:00, 117.03it/s]\n",
      "100%|██████████| 943/943 [00:00<00:00, 1899.31it/s]\n"
     ]
    },
    {
     "name": "stdout",
     "output_type": "stream",
     "text": [
      "Epoch 1: train loss :   0.769455   val loss :   0.494883   val score :   0.102863\n",
      "------ epoch:2 ------\n"
     ]
    },
    {
     "name": "stderr",
     "output_type": "stream",
     "text": [
      "100%|██████████| 252/252 [00:04<00:00, 61.45it/s]\n",
      "100%|██████████| 28/28 [00:00<00:00, 90.81it/s] \n",
      "100%|██████████| 943/943 [00:00<00:00, 1702.55it/s]\n"
     ]
    },
    {
     "name": "stdout",
     "output_type": "stream",
     "text": [
      "Epoch 2: train loss :   0.276495   val loss :   0.177232   val score :   0.142100\n",
      "------ epoch:3 ------\n"
     ]
    },
    {
     "name": "stderr",
     "output_type": "stream",
     "text": [
      "100%|██████████| 252/252 [00:04<00:00, 52.55it/s]\n",
      "100%|██████████| 28/28 [00:00<00:00, 108.51it/s]\n",
      "100%|██████████| 943/943 [00:00<00:00, 1040.61it/s]\n"
     ]
    },
    {
     "name": "stdout",
     "output_type": "stream",
     "text": [
      "Epoch 3: train loss :   0.165295   val loss :   0.158115   val score :   0.220573\n",
      "------ epoch:4 ------\n"
     ]
    },
    {
     "name": "stderr",
     "output_type": "stream",
     "text": [
      "100%|██████████| 252/252 [00:04<00:00, 58.20it/s]\n",
      "100%|██████████| 28/28 [00:00<00:00, 112.92it/s]\n",
      "100%|██████████| 943/943 [00:01<00:00, 791.32it/s]\n"
     ]
    },
    {
     "name": "stdout",
     "output_type": "stream",
     "text": [
      "Epoch 4: train loss :   0.155795   val loss :   0.155471   val score :   0.237540\n",
      "------ epoch:5 ------\n"
     ]
    },
    {
     "name": "stderr",
     "output_type": "stream",
     "text": [
      "100%|██████████| 252/252 [00:04<00:00, 57.26it/s]\n",
      "100%|██████████| 28/28 [00:00<00:00, 69.43it/s] \n",
      "100%|██████████| 943/943 [00:00<00:00, 1040.07it/s]\n"
     ]
    },
    {
     "name": "stdout",
     "output_type": "stream",
     "text": [
      "Epoch 5: train loss :   0.153361   val loss :   0.154861   val score :   0.248144\n",
      "------ epoch:6 ------\n"
     ]
    },
    {
     "name": "stderr",
     "output_type": "stream",
     "text": [
      "100%|██████████| 252/252 [00:03<00:00, 63.34it/s]\n",
      "100%|██████████| 28/28 [00:00<00:00, 121.27it/s]\n",
      "100%|██████████| 943/943 [00:01<00:00, 937.01it/s]\n"
     ]
    },
    {
     "name": "stdout",
     "output_type": "stream",
     "text": [
      "Epoch 6: train loss :   0.152101   val loss :   0.154750   val score :   0.255567\n",
      "------ epoch:7 ------\n"
     ]
    },
    {
     "name": "stderr",
     "output_type": "stream",
     "text": [
      "100%|██████████| 252/252 [00:03<00:00, 64.43it/s]\n",
      "100%|██████████| 28/28 [00:00<00:00, 119.80it/s]\n",
      "100%|██████████| 943/943 [00:00<00:00, 1076.30it/s]\n"
     ]
    },
    {
     "name": "stdout",
     "output_type": "stream",
     "text": [
      "Epoch 7: train loss :   0.151214   val loss :   0.154778   val score :   0.261930\n",
      "------ epoch:8 ------\n"
     ]
    },
    {
     "name": "stderr",
     "output_type": "stream",
     "text": [
      "100%|██████████| 252/252 [00:03<00:00, 64.64it/s]\n",
      "100%|██████████| 28/28 [00:00<00:00, 114.37it/s]\n",
      "100%|██████████| 943/943 [00:00<00:00, 1336.97it/s]\n"
     ]
    },
    {
     "name": "stdout",
     "output_type": "stream",
     "text": [
      "Epoch 8: train loss :   0.150456   val loss :   0.154927   val score :   0.270414\n",
      "------ epoch:9 ------\n"
     ]
    },
    {
     "name": "stderr",
     "output_type": "stream",
     "text": [
      "100%|██████████| 252/252 [00:03<00:00, 63.78it/s]\n",
      "100%|██████████| 28/28 [00:00<00:00, 115.83it/s]\n",
      "100%|██████████| 943/943 [00:00<00:00, 2115.88it/s]\n"
     ]
    },
    {
     "name": "stdout",
     "output_type": "stream",
     "text": [
      "Epoch 9: train loss :   0.150047   val loss :   0.155049   val score :   0.274655\n",
      "------ epoch:10 ------\n"
     ]
    },
    {
     "name": "stderr",
     "output_type": "stream",
     "text": [
      "100%|██████████| 252/252 [00:03<00:00, 63.60it/s]\n",
      "100%|██████████| 28/28 [00:00<00:00, 69.67it/s] \n",
      "100%|██████████| 943/943 [00:00<00:00, 2168.56it/s]\n"
     ]
    },
    {
     "name": "stdout",
     "output_type": "stream",
     "text": [
      "Epoch 10: train loss :   0.149548   val loss :   0.155198   val score :   0.273595\n",
      "------ epoch:11 ------\n"
     ]
    },
    {
     "name": "stderr",
     "output_type": "stream",
     "text": [
      "100%|██████████| 252/252 [00:03<00:00, 69.60it/s]\n",
      "100%|██████████| 28/28 [00:00<00:00, 67.73it/s]\n",
      "100%|██████████| 943/943 [00:00<00:00, 1560.14it/s]\n"
     ]
    },
    {
     "name": "stdout",
     "output_type": "stream",
     "text": [
      "Epoch 11: train loss :   0.149019   val loss :   0.155328   val score :   0.273595\n",
      "------ epoch:12 ------\n"
     ]
    },
    {
     "name": "stderr",
     "output_type": "stream",
     "text": [
      "100%|██████████| 252/252 [00:04<00:00, 58.44it/s]\n",
      "100%|██████████| 28/28 [00:00<00:00, 111.60it/s]\n",
      "100%|██████████| 943/943 [00:00<00:00, 1784.43it/s]\n"
     ]
    },
    {
     "name": "stdout",
     "output_type": "stream",
     "text": [
      "Epoch 12: train loss :   0.148636   val loss :   0.155382   val score :   0.275716\n",
      "------ epoch:13 ------\n"
     ]
    },
    {
     "name": "stderr",
     "output_type": "stream",
     "text": [
      "100%|██████████| 252/252 [00:04<00:00, 59.65it/s]\n",
      "100%|██████████| 28/28 [00:00<00:00, 112.80it/s]\n",
      "100%|██████████| 943/943 [00:00<00:00, 2085.59it/s]\n"
     ]
    },
    {
     "name": "stdout",
     "output_type": "stream",
     "text": [
      "Epoch 13: train loss :   0.148085   val loss :   0.155528   val score :   0.281018\n",
      "------ epoch:14 ------\n"
     ]
    },
    {
     "name": "stderr",
     "output_type": "stream",
     "text": [
      "100%|██████████| 252/252 [00:05<00:00, 48.40it/s]\n",
      "100%|██████████| 28/28 [00:00<00:00, 110.94it/s]\n",
      "100%|██████████| 943/943 [00:00<00:00, 1716.59it/s]\n"
     ]
    },
    {
     "name": "stdout",
     "output_type": "stream",
     "text": [
      "Epoch 14: train loss :   0.147658   val loss :   0.155570   val score :   0.275716\n",
      "------ epoch:15 ------\n"
     ]
    },
    {
     "name": "stderr",
     "output_type": "stream",
     "text": [
      "100%|██████████| 252/252 [00:04<00:00, 53.37it/s]\n",
      "100%|██████████| 28/28 [00:00<00:00, 96.73it/s]\n",
      "100%|██████████| 943/943 [00:00<00:00, 2050.98it/s]\n"
     ]
    },
    {
     "name": "stdout",
     "output_type": "stream",
     "text": [
      "Epoch 15: train loss :   0.147157   val loss :   0.155632   val score :   0.279958\n",
      "------ epoch:16 ------\n"
     ]
    },
    {
     "name": "stderr",
     "output_type": "stream",
     "text": [
      "100%|██████████| 252/252 [00:04<00:00, 62.44it/s]\n",
      "100%|██████████| 28/28 [00:00<00:00, 66.69it/s] \n",
      "100%|██████████| 943/943 [00:00<00:00, 1741.31it/s]\n"
     ]
    },
    {
     "name": "stdout",
     "output_type": "stream",
     "text": [
      "Epoch 16: train loss :   0.146541   val loss :   0.155635   val score :   0.279958\n",
      "Epoch 00016: reducing learning rate of group 0 to 1.0000e-04.\n",
      "------ epoch:17 ------\n"
     ]
    },
    {
     "name": "stderr",
     "output_type": "stream",
     "text": [
      "100%|██████████| 252/252 [00:03<00:00, 66.19it/s]\n",
      "100%|██████████| 28/28 [00:00<00:00, 67.11it/s]\n",
      "100%|██████████| 943/943 [00:00<00:00, 1928.58it/s]\n"
     ]
    },
    {
     "name": "stdout",
     "output_type": "stream",
     "text": [
      "Epoch 17: train loss :   0.144932   val loss :   0.155636   val score :   0.279958\n"
     ]
    },
    {
     "name": "stderr",
     "output_type": "stream",
     "text": [
      "100%|██████████| 70/70 [00:00<00:00, 91.31it/s] \n",
      "100%|██████████| 943/943 [00:00<00:00, 1215.49it/s]\n"
     ]
    },
    {
     "name": "stdout",
     "output_type": "stream",
     "text": [
      "------ log loss of 5 fold : 0.15399913915566035 ------\n",
      "------ score of 5 fold : 0.2301166489925769 ------\n",
      "settings : power = 1, model type = 2\n",
      "parameters :  {'num_users': 943, 'num_items': 1682, 'embedding_dim': 20, 'lr': 0.001, 'alpha': 0.001, 'patience': 3, 'epochs': 30, 'device': 'cuda:0', 'model_selection': True}\n",
      "------ log loss of the model : 0.152670007199049 ------\n",
      "------ score of the model : 0.23923647932131495 ------\n",
      "------ 第1折 ------\n",
      "------ epoch:1 ------\n"
     ]
    },
    {
     "name": "stderr",
     "output_type": "stream",
     "text": [
      "100%|██████████| 252/252 [00:03<00:00, 64.48it/s]\n",
      "100%|██████████| 28/28 [00:00<00:00, 111.50it/s]\n",
      "100%|██████████| 943/943 [00:00<00:00, 1674.88it/s]\n"
     ]
    },
    {
     "name": "stdout",
     "output_type": "stream",
     "text": [
      "Epoch 1: train loss :   0.307144   val loss :   0.160414   val score :   0.243902\n",
      "------ epoch:2 ------\n"
     ]
    },
    {
     "name": "stderr",
     "output_type": "stream",
     "text": [
      "100%|██████████| 252/252 [00:03<00:00, 63.73it/s]\n",
      "100%|██████████| 28/28 [00:00<00:00, 100.46it/s]\n",
      "100%|██████████| 943/943 [00:00<00:00, 1603.22it/s]\n"
     ]
    },
    {
     "name": "stdout",
     "output_type": "stream",
     "text": [
      "Epoch 2: train loss :   0.201326   val loss :   0.156828   val score :   0.244963\n",
      "------ epoch:3 ------\n"
     ]
    },
    {
     "name": "stderr",
     "output_type": "stream",
     "text": [
      "100%|██████████| 252/252 [00:04<00:00, 55.00it/s]\n",
      "100%|██████████| 28/28 [00:00<00:00, 83.74it/s]\n",
      "100%|██████████| 943/943 [00:00<00:00, 1607.44it/s]\n"
     ]
    },
    {
     "name": "stdout",
     "output_type": "stream",
     "text": [
      "Epoch 3: train loss :   0.186333   val loss :   0.154345   val score :   0.285260\n",
      "------ epoch:4 ------\n"
     ]
    },
    {
     "name": "stderr",
     "output_type": "stream",
     "text": [
      "100%|██████████| 252/252 [00:04<00:00, 61.13it/s]\n",
      "100%|██████████| 28/28 [00:00<00:00, 110.88it/s]\n",
      "100%|██████████| 943/943 [00:00<00:00, 1731.81it/s]\n"
     ]
    },
    {
     "name": "stdout",
     "output_type": "stream",
     "text": [
      "Epoch 4: train loss :   0.173820   val loss :   0.152493   val score :   0.276776\n",
      "------ epoch:5 ------\n"
     ]
    },
    {
     "name": "stderr",
     "output_type": "stream",
     "text": [
      "100%|██████████| 252/252 [00:04<00:00, 53.66it/s]\n",
      "100%|██████████| 28/28 [00:00<00:00, 115.55it/s]\n",
      "100%|██████████| 943/943 [00:00<00:00, 2064.33it/s]\n"
     ]
    },
    {
     "name": "stdout",
     "output_type": "stream",
     "text": [
      "Epoch 5: train loss :   0.164214   val loss :   0.151371   val score :   0.290562\n",
      "------ epoch:6 ------\n"
     ]
    },
    {
     "name": "stderr",
     "output_type": "stream",
     "text": [
      "100%|██████████| 252/252 [00:04<00:00, 62.84it/s]\n",
      "100%|██████████| 28/28 [00:00<00:00, 70.17it/s] \n",
      "100%|██████████| 943/943 [00:00<00:00, 2029.60it/s]\n"
     ]
    },
    {
     "name": "stdout",
     "output_type": "stream",
     "text": [
      "Epoch 6: train loss :   0.157983   val loss :   0.150619   val score :   0.293743\n",
      "------ epoch:7 ------\n"
     ]
    },
    {
     "name": "stderr",
     "output_type": "stream",
     "text": [
      "100%|██████████| 252/252 [00:04<00:00, 61.63it/s]\n",
      "100%|██████████| 28/28 [00:00<00:00, 112.65it/s]\n",
      "100%|██████████| 943/943 [00:00<00:00, 1892.13it/s]\n"
     ]
    },
    {
     "name": "stdout",
     "output_type": "stream",
     "text": [
      "Epoch 7: train loss :   0.154630   val loss :   0.149950   val score :   0.296925\n",
      "------ epoch:8 ------\n"
     ]
    },
    {
     "name": "stderr",
     "output_type": "stream",
     "text": [
      "100%|██████████| 252/252 [00:04<00:00, 50.77it/s]\n",
      "100%|██████████| 28/28 [00:00<00:00, 110.76it/s]\n",
      "100%|██████████| 943/943 [00:00<00:00, 1881.43it/s]\n"
     ]
    },
    {
     "name": "stdout",
     "output_type": "stream",
     "text": [
      "Epoch 8: train loss :   0.152932   val loss :   0.149414   val score :   0.296925\n",
      "------ epoch:9 ------\n"
     ]
    },
    {
     "name": "stderr",
     "output_type": "stream",
     "text": [
      "100%|██████████| 252/252 [00:04<00:00, 62.45it/s]\n",
      "100%|██████████| 28/28 [00:00<00:00, 115.12it/s]\n",
      "100%|██████████| 943/943 [00:00<00:00, 2031.08it/s]\n"
     ]
    },
    {
     "name": "stdout",
     "output_type": "stream",
     "text": [
      "Epoch 9: train loss :   0.151568   val loss :   0.149282   val score :   0.307529\n",
      "------ epoch:10 ------\n"
     ]
    },
    {
     "name": "stderr",
     "output_type": "stream",
     "text": [
      "100%|██████████| 252/252 [00:04<00:00, 57.40it/s]\n",
      "100%|██████████| 28/28 [00:00<00:00, 118.33it/s]\n",
      "100%|██████████| 943/943 [00:00<00:00, 2019.90it/s]\n"
     ]
    },
    {
     "name": "stdout",
     "output_type": "stream",
     "text": [
      "Epoch 10: train loss :   0.150718   val loss :   0.149367   val score :   0.302227\n",
      "------ epoch:11 ------\n"
     ]
    },
    {
     "name": "stderr",
     "output_type": "stream",
     "text": [
      "100%|██████████| 252/252 [00:04<00:00, 54.76it/s]\n",
      "100%|██████████| 28/28 [00:00<00:00, 63.17it/s] \n",
      "100%|██████████| 943/943 [00:00<00:00, 1995.10it/s]\n"
     ]
    },
    {
     "name": "stdout",
     "output_type": "stream",
     "text": [
      "Epoch 11: train loss :   0.149730   val loss :   0.149656   val score :   0.300106\n",
      "------ epoch:12 ------\n"
     ]
    },
    {
     "name": "stderr",
     "output_type": "stream",
     "text": [
      "100%|██████████| 252/252 [00:03<00:00, 67.18it/s]\n",
      "100%|██████████| 28/28 [00:00<00:00, 67.30it/s]\n",
      "100%|██████████| 943/943 [00:00<00:00, 2007.69it/s]\n"
     ]
    },
    {
     "name": "stdout",
     "output_type": "stream",
     "text": [
      "Epoch 12: train loss :   0.147944   val loss :   0.149718   val score :   0.296925\n",
      "Epoch 00012: reducing learning rate of group 0 to 1.0000e-03.\n",
      "------ epoch:13 ------\n"
     ]
    },
    {
     "name": "stderr",
     "output_type": "stream",
     "text": [
      "100%|██████████| 252/252 [00:04<00:00, 59.90it/s]\n",
      "100%|██████████| 28/28 [00:00<00:00, 110.63it/s]\n",
      "100%|██████████| 943/943 [00:00<00:00, 1908.33it/s]\n"
     ]
    },
    {
     "name": "stdout",
     "output_type": "stream",
     "text": [
      "Epoch 13: train loss :   0.137499   val loss :   0.149757   val score :   0.296925\n"
     ]
    },
    {
     "name": "stderr",
     "output_type": "stream",
     "text": [
      "100%|██████████| 70/70 [00:00<00:00, 90.08it/s] \n",
      "100%|██████████| 943/943 [00:00<00:00, 1413.60it/s]\n"
     ]
    },
    {
     "name": "stdout",
     "output_type": "stream",
     "text": [
      "------ log loss of 1 fold : 0.1436935693025589 ------\n",
      "------ score of 1 fold : 0.24284199363732767 ------\n",
      "------ 第2折 ------\n",
      "------ epoch:1 ------\n"
     ]
    },
    {
     "name": "stderr",
     "output_type": "stream",
     "text": [
      "100%|██████████| 252/252 [00:04<00:00, 61.92it/s]\n",
      "100%|██████████| 28/28 [00:00<00:00, 118.35it/s]\n",
      "100%|██████████| 943/943 [00:00<00:00, 1489.60it/s]\n"
     ]
    },
    {
     "name": "stdout",
     "output_type": "stream",
     "text": [
      "Epoch 1: train loss :   0.302465   val loss :   0.158328   val score :   0.224814\n",
      "------ epoch:2 ------\n"
     ]
    },
    {
     "name": "stderr",
     "output_type": "stream",
     "text": [
      "100%|██████████| 252/252 [00:03<00:00, 64.50it/s]\n",
      "100%|██████████| 28/28 [00:00<00:00, 117.12it/s]\n",
      "100%|██████████| 943/943 [00:00<00:00, 1609.36it/s]\n"
     ]
    },
    {
     "name": "stdout",
     "output_type": "stream",
     "text": [
      "Epoch 2: train loss :   0.200085   val loss :   0.156027   val score :   0.222694\n",
      "------ epoch:3 ------\n"
     ]
    },
    {
     "name": "stderr",
     "output_type": "stream",
     "text": [
      "100%|██████████| 252/252 [00:03<00:00, 65.65it/s]\n",
      "100%|██████████| 28/28 [00:00<00:00, 114.35it/s]\n",
      "100%|██████████| 943/943 [00:00<00:00, 1978.55it/s]\n"
     ]
    },
    {
     "name": "stdout",
     "output_type": "stream",
     "text": [
      "Epoch 3: train loss :   0.184640   val loss :   0.154141   val score :   0.233298\n",
      "------ epoch:4 ------\n"
     ]
    },
    {
     "name": "stderr",
     "output_type": "stream",
     "text": [
      "100%|██████████| 252/252 [00:03<00:00, 66.18it/s]\n",
      "100%|██████████| 28/28 [00:00<00:00, 114.07it/s]\n",
      "100%|██████████| 943/943 [00:00<00:00, 1231.23it/s]\n"
     ]
    },
    {
     "name": "stdout",
     "output_type": "stream",
     "text": [
      "Epoch 4: train loss :   0.171631   val loss :   0.152614   val score :   0.238600\n",
      "------ epoch:5 ------\n"
     ]
    },
    {
     "name": "stderr",
     "output_type": "stream",
     "text": [
      "100%|██████████| 252/252 [00:04<00:00, 54.69it/s]\n",
      "100%|██████████| 28/28 [00:00<00:00, 69.91it/s] \n",
      "100%|██████████| 943/943 [00:00<00:00, 1091.13it/s]\n"
     ]
    },
    {
     "name": "stdout",
     "output_type": "stream",
     "text": [
      "Epoch 5: train loss :   0.161890   val loss :   0.150882   val score :   0.251326\n",
      "------ epoch:6 ------\n"
     ]
    },
    {
     "name": "stderr",
     "output_type": "stream",
     "text": [
      "100%|██████████| 252/252 [00:04<00:00, 57.02it/s]\n",
      "100%|██████████| 28/28 [00:00<00:00, 120.07it/s]\n",
      "100%|██████████| 943/943 [00:00<00:00, 2186.24it/s]\n"
     ]
    },
    {
     "name": "stdout",
     "output_type": "stream",
     "text": [
      "Epoch 6: train loss :   0.156067   val loss :   0.149853   val score :   0.256628\n",
      "------ epoch:7 ------\n"
     ]
    },
    {
     "name": "stderr",
     "output_type": "stream",
     "text": [
      "100%|██████████| 252/252 [00:04<00:00, 53.38it/s]\n",
      "100%|██████████| 28/28 [00:00<00:00, 92.59it/s]\n",
      "100%|██████████| 943/943 [00:00<00:00, 1597.03it/s]\n"
     ]
    },
    {
     "name": "stdout",
     "output_type": "stream",
     "text": [
      "Epoch 7: train loss :   0.153042   val loss :   0.149224   val score :   0.256628\n",
      "------ epoch:8 ------\n"
     ]
    },
    {
     "name": "stderr",
     "output_type": "stream",
     "text": [
      "100%|██████████| 252/252 [00:04<00:00, 59.43it/s]\n",
      "100%|██████████| 28/28 [00:00<00:00, 115.00it/s]\n",
      "100%|██████████| 943/943 [00:00<00:00, 1872.09it/s]\n"
     ]
    },
    {
     "name": "stdout",
     "output_type": "stream",
     "text": [
      "Epoch 8: train loss :   0.151328   val loss :   0.148688   val score :   0.269353\n",
      "------ epoch:9 ------\n"
     ]
    },
    {
     "name": "stderr",
     "output_type": "stream",
     "text": [
      "100%|██████████| 252/252 [00:03<00:00, 64.51it/s]\n",
      "100%|██████████| 28/28 [00:00<00:00, 113.05it/s]\n",
      "100%|██████████| 943/943 [00:00<00:00, 1578.96it/s]\n"
     ]
    },
    {
     "name": "stdout",
     "output_type": "stream",
     "text": [
      "Epoch 9: train loss :   0.150476   val loss :   0.148295   val score :   0.265111\n",
      "------ epoch:10 ------\n"
     ]
    },
    {
     "name": "stderr",
     "output_type": "stream",
     "text": [
      "100%|██████████| 252/252 [00:03<00:00, 65.50it/s]\n",
      "100%|██████████| 28/28 [00:00<00:00, 67.57it/s] \n",
      "100%|██████████| 943/943 [00:00<00:00, 1958.32it/s]\n"
     ]
    },
    {
     "name": "stdout",
     "output_type": "stream",
     "text": [
      "Epoch 10: train loss :   0.149653   val loss :   0.148409   val score :   0.272534\n",
      "------ epoch:11 ------\n"
     ]
    },
    {
     "name": "stderr",
     "output_type": "stream",
     "text": [
      "100%|██████████| 252/252 [00:03<00:00, 64.95it/s]\n",
      "100%|██████████| 28/28 [00:00<00:00, 68.70it/s]\n",
      "100%|██████████| 943/943 [00:00<00:00, 1990.08it/s]\n"
     ]
    },
    {
     "name": "stdout",
     "output_type": "stream",
     "text": [
      "Epoch 11: train loss :   0.146974   val loss :   0.148446   val score :   0.271474\n",
      "------ epoch:12 ------\n"
     ]
    },
    {
     "name": "stderr",
     "output_type": "stream",
     "text": [
      "100%|██████████| 252/252 [00:04<00:00, 60.97it/s]\n",
      "100%|██████████| 28/28 [00:00<00:00, 114.17it/s]\n",
      "100%|██████████| 943/943 [00:00<00:00, 1919.80it/s]\n"
     ]
    },
    {
     "name": "stdout",
     "output_type": "stream",
     "text": [
      "Epoch 12: train loss :   0.146357   val loss :   0.148330   val score :   0.262990\n",
      "------ epoch:13 ------\n"
     ]
    },
    {
     "name": "stderr",
     "output_type": "stream",
     "text": [
      "100%|██████████| 252/252 [00:03<00:00, 64.41it/s]\n",
      "100%|██████████| 28/28 [00:00<00:00, 116.91it/s]\n",
      "100%|██████████| 943/943 [00:00<00:00, 1932.96it/s]\n"
     ]
    },
    {
     "name": "stdout",
     "output_type": "stream",
     "text": [
      "Epoch 13: train loss :   0.142154   val loss :   0.148626   val score :   0.265111\n",
      "Epoch 00013: reducing learning rate of group 0 to 1.0000e-03.\n",
      "------ epoch:14 ------\n"
     ]
    },
    {
     "name": "stderr",
     "output_type": "stream",
     "text": [
      "100%|██████████| 252/252 [00:03<00:00, 63.61it/s]\n",
      "100%|██████████| 28/28 [00:00<00:00, 113.77it/s]\n",
      "100%|██████████| 943/943 [00:00<00:00, 2019.32it/s]\n"
     ]
    },
    {
     "name": "stdout",
     "output_type": "stream",
     "text": [
      "Epoch 14: train loss :   0.129693   val loss :   0.148618   val score :   0.262990\n"
     ]
    },
    {
     "name": "stderr",
     "output_type": "stream",
     "text": [
      "100%|██████████| 70/70 [00:00<00:00, 92.54it/s] \n",
      "100%|██████████| 943/943 [00:00<00:00, 2071.25it/s]\n"
     ]
    },
    {
     "name": "stdout",
     "output_type": "stream",
     "text": [
      "------ log loss of 2 fold : 0.14749239991818155 ------\n",
      "------ score of 2 fold : 0.22905620360551432 ------\n",
      "------ 第3折 ------\n",
      "------ epoch:1 ------\n"
     ]
    },
    {
     "name": "stderr",
     "output_type": "stream",
     "text": [
      "100%|██████████| 252/252 [00:03<00:00, 64.10it/s]\n",
      "100%|██████████| 28/28 [00:00<00:00, 116.82it/s]\n",
      "100%|██████████| 943/943 [00:00<00:00, 1372.91it/s]\n"
     ]
    },
    {
     "name": "stdout",
     "output_type": "stream",
     "text": [
      "Epoch 1: train loss :   0.300466   val loss :   0.159601   val score :   0.255567\n",
      "------ epoch:2 ------\n"
     ]
    },
    {
     "name": "stderr",
     "output_type": "stream",
     "text": [
      "100%|██████████| 252/252 [00:04<00:00, 50.74it/s]\n",
      "100%|██████████| 28/28 [00:00<00:00, 40.13it/s]\n",
      "100%|██████████| 943/943 [00:00<00:00, 1572.37it/s]\n"
     ]
    },
    {
     "name": "stdout",
     "output_type": "stream",
     "text": [
      "Epoch 2: train loss :   0.200651   val loss :   0.157325   val score :   0.273595\n",
      "------ epoch:3 ------\n"
     ]
    },
    {
     "name": "stderr",
     "output_type": "stream",
     "text": [
      "100%|██████████| 252/252 [00:06<00:00, 39.44it/s]\n",
      "100%|██████████| 28/28 [00:00<00:00, 55.98it/s]\n",
      "100%|██████████| 943/943 [00:00<00:00, 2004.20it/s]\n"
     ]
    },
    {
     "name": "stdout",
     "output_type": "stream",
     "text": [
      "Epoch 3: train loss :   0.185048   val loss :   0.154753   val score :   0.278897\n",
      "------ epoch:4 ------\n"
     ]
    },
    {
     "name": "stderr",
     "output_type": "stream",
     "text": [
      "100%|██████████| 252/252 [00:03<00:00, 63.06it/s]\n",
      "100%|██████████| 28/28 [00:00<00:00, 109.40it/s]\n",
      "100%|██████████| 943/943 [00:00<00:00, 1175.39it/s]\n"
     ]
    },
    {
     "name": "stdout",
     "output_type": "stream",
     "text": [
      "Epoch 4: train loss :   0.171697   val loss :   0.152978   val score :   0.273595\n",
      "------ epoch:5 ------\n"
     ]
    },
    {
     "name": "stderr",
     "output_type": "stream",
     "text": [
      "100%|██████████| 252/252 [00:04<00:00, 54.53it/s]\n",
      "100%|██████████| 28/28 [00:00<00:00, 112.98it/s]\n",
      "100%|██████████| 943/943 [00:00<00:00, 1373.74it/s]\n"
     ]
    },
    {
     "name": "stdout",
     "output_type": "stream",
     "text": [
      "Epoch 5: train loss :   0.161616   val loss :   0.152076   val score :   0.291622\n",
      "------ epoch:6 ------\n"
     ]
    },
    {
     "name": "stderr",
     "output_type": "stream",
     "text": [
      "100%|██████████| 252/252 [00:03<00:00, 63.02it/s]\n",
      "100%|██████████| 28/28 [00:00<00:00, 113.61it/s]\n",
      "100%|██████████| 943/943 [00:00<00:00, 1355.68it/s]\n"
     ]
    },
    {
     "name": "stdout",
     "output_type": "stream",
     "text": [
      "Epoch 6: train loss :   0.155682   val loss :   0.150862   val score :   0.291622\n",
      "------ epoch:7 ------\n"
     ]
    },
    {
     "name": "stderr",
     "output_type": "stream",
     "text": [
      "100%|██████████| 252/252 [00:04<00:00, 61.82it/s]\n",
      "100%|██████████| 28/28 [00:00<00:00, 62.20it/s]\n",
      "100%|██████████| 943/943 [00:00<00:00, 1188.56it/s]\n"
     ]
    },
    {
     "name": "stdout",
     "output_type": "stream",
     "text": [
      "Epoch 7: train loss :   0.152152   val loss :   0.150140   val score :   0.285260\n",
      "------ epoch:8 ------\n"
     ]
    },
    {
     "name": "stderr",
     "output_type": "stream",
     "text": [
      "100%|██████████| 252/252 [00:03<00:00, 66.38it/s]\n",
      "100%|██████████| 28/28 [00:00<00:00, 68.39it/s]\n",
      "100%|██████████| 943/943 [00:00<00:00, 1212.73it/s]\n"
     ]
    },
    {
     "name": "stdout",
     "output_type": "stream",
     "text": [
      "Epoch 8: train loss :   0.150612   val loss :   0.149861   val score :   0.300106\n",
      "------ epoch:9 ------\n"
     ]
    },
    {
     "name": "stderr",
     "output_type": "stream",
     "text": [
      "100%|██████████| 252/252 [00:03<00:00, 66.57it/s]\n",
      "100%|██████████| 28/28 [00:00<00:00, 173.72it/s]\n",
      "100%|██████████| 943/943 [00:00<00:00, 1314.54it/s]\n"
     ]
    },
    {
     "name": "stdout",
     "output_type": "stream",
     "text": [
      "Epoch 9: train loss :   0.149333   val loss :   0.149588   val score :   0.296925\n",
      "------ epoch:10 ------\n"
     ]
    },
    {
     "name": "stderr",
     "output_type": "stream",
     "text": [
      "100%|██████████| 252/252 [00:03<00:00, 75.55it/s]\n",
      "100%|██████████| 28/28 [00:00<00:00, 142.21it/s]\n",
      "100%|██████████| 943/943 [00:00<00:00, 1912.42it/s]\n"
     ]
    },
    {
     "name": "stdout",
     "output_type": "stream",
     "text": [
      "Epoch 10: train loss :   0.148542   val loss :   0.149520   val score :   0.287381\n",
      "------ epoch:11 ------\n"
     ]
    },
    {
     "name": "stderr",
     "output_type": "stream",
     "text": [
      "100%|██████████| 252/252 [00:03<00:00, 72.90it/s]\n",
      "100%|██████████| 28/28 [00:00<00:00, 132.55it/s]\n",
      "100%|██████████| 943/943 [00:00<00:00, 2025.46it/s]\n"
     ]
    },
    {
     "name": "stdout",
     "output_type": "stream",
     "text": [
      "Epoch 11: train loss :   0.147693   val loss :   0.149599   val score :   0.294804\n",
      "Epoch 00011: reducing learning rate of group 0 to 1.0000e-03.\n",
      "------ epoch:12 ------\n"
     ]
    },
    {
     "name": "stderr",
     "output_type": "stream",
     "text": [
      "100%|██████████| 252/252 [00:03<00:00, 70.73it/s]\n",
      "100%|██████████| 28/28 [00:00<00:00, 131.51it/s]\n",
      "100%|██████████| 943/943 [00:00<00:00, 2117.36it/s]\n"
     ]
    },
    {
     "name": "stdout",
     "output_type": "stream",
     "text": [
      "Epoch 12: train loss :   0.134402   val loss :   0.149604   val score :   0.292683\n"
     ]
    },
    {
     "name": "stderr",
     "output_type": "stream",
     "text": [
      "100%|██████████| 70/70 [00:00<00:00, 100.40it/s]\n",
      "100%|██████████| 943/943 [00:00<00:00, 1208.64it/s]\n"
     ]
    },
    {
     "name": "stdout",
     "output_type": "stream",
     "text": [
      "------ log loss of 3 fold : 0.14997217591319764 ------\n",
      "------ score of 3 fold : 0.22269353128313893 ------\n",
      "------ 第4折 ------\n",
      "------ epoch:1 ------\n"
     ]
    },
    {
     "name": "stderr",
     "output_type": "stream",
     "text": [
      "100%|██████████| 252/252 [00:03<00:00, 71.18it/s]\n",
      "100%|██████████| 28/28 [00:00<00:00, 78.25it/s] \n",
      "100%|██████████| 943/943 [00:00<00:00, 1491.51it/s]\n"
     ]
    },
    {
     "name": "stdout",
     "output_type": "stream",
     "text": [
      "Epoch 1: train loss :   0.308605   val loss :   0.161260   val score :   0.256628\n",
      "------ epoch:2 ------\n"
     ]
    },
    {
     "name": "stderr",
     "output_type": "stream",
     "text": [
      "100%|██████████| 252/252 [00:03<00:00, 76.17it/s]\n",
      "100%|██████████| 28/28 [00:00<00:00, 77.12it/s]\n",
      "100%|██████████| 943/943 [00:00<00:00, 1855.97it/s]\n"
     ]
    },
    {
     "name": "stdout",
     "output_type": "stream",
     "text": [
      "Epoch 2: train loss :   0.201678   val loss :   0.159013   val score :   0.249205\n",
      "------ epoch:3 ------\n"
     ]
    },
    {
     "name": "stderr",
     "output_type": "stream",
     "text": [
      "100%|██████████| 252/252 [00:03<00:00, 67.72it/s]\n",
      "100%|██████████| 28/28 [00:00<00:00, 118.51it/s]\n",
      "100%|██████████| 943/943 [00:00<00:00, 1669.25it/s]\n"
     ]
    },
    {
     "name": "stdout",
     "output_type": "stream",
     "text": [
      "Epoch 3: train loss :   0.186592   val loss :   0.156669   val score :   0.289502\n",
      "------ epoch:4 ------\n"
     ]
    },
    {
     "name": "stderr",
     "output_type": "stream",
     "text": [
      "100%|██████████| 252/252 [00:03<00:00, 67.94it/s]\n",
      "100%|██████████| 28/28 [00:00<00:00, 116.24it/s]\n",
      "100%|██████████| 943/943 [00:00<00:00, 1253.38it/s]\n"
     ]
    },
    {
     "name": "stdout",
     "output_type": "stream",
     "text": [
      "Epoch 4: train loss :   0.173462   val loss :   0.154458   val score :   0.300106\n",
      "------ epoch:5 ------\n"
     ]
    },
    {
     "name": "stderr",
     "output_type": "stream",
     "text": [
      "100%|██████████| 252/252 [00:03<00:00, 64.57it/s]\n",
      "100%|██████████| 28/28 [00:00<00:00, 123.17it/s]\n",
      "100%|██████████| 943/943 [00:00<00:00, 965.44it/s] \n"
     ]
    },
    {
     "name": "stdout",
     "output_type": "stream",
     "text": [
      "Epoch 5: train loss :   0.163192   val loss :   0.152740   val score :   0.291622\n",
      "------ epoch:6 ------\n"
     ]
    },
    {
     "name": "stderr",
     "output_type": "stream",
     "text": [
      "100%|██████████| 252/252 [00:04<00:00, 61.93it/s]\n",
      "100%|██████████| 28/28 [00:00<00:00, 68.31it/s] \n",
      "100%|██████████| 943/943 [00:00<00:00, 1233.89it/s]\n"
     ]
    },
    {
     "name": "stdout",
     "output_type": "stream",
     "text": [
      "Epoch 6: train loss :   0.156773   val loss :   0.151528   val score :   0.304348\n",
      "------ epoch:7 ------\n"
     ]
    },
    {
     "name": "stderr",
     "output_type": "stream",
     "text": [
      "100%|██████████| 252/252 [00:03<00:00, 71.09it/s]\n",
      "100%|██████████| 28/28 [00:00<00:00, 77.49it/s]\n",
      "100%|██████████| 943/943 [00:00<00:00, 1266.75it/s]\n"
     ]
    },
    {
     "name": "stdout",
     "output_type": "stream",
     "text": [
      "Epoch 7: train loss :   0.153087   val loss :   0.150847   val score :   0.306469\n",
      "------ epoch:8 ------\n"
     ]
    },
    {
     "name": "stderr",
     "output_type": "stream",
     "text": [
      "100%|██████████| 252/252 [00:03<00:00, 73.35it/s]\n",
      "100%|██████████| 28/28 [00:00<00:00, 128.41it/s]\n",
      "100%|██████████| 943/943 [00:00<00:00, 1884.90it/s]\n"
     ]
    },
    {
     "name": "stdout",
     "output_type": "stream",
     "text": [
      "Epoch 8: train loss :   0.151406   val loss :   0.150421   val score :   0.307529\n",
      "------ epoch:9 ------\n"
     ]
    },
    {
     "name": "stderr",
     "output_type": "stream",
     "text": [
      "100%|██████████| 252/252 [00:03<00:00, 72.62it/s]\n",
      "100%|██████████| 28/28 [00:00<00:00, 109.90it/s]\n",
      "100%|██████████| 943/943 [00:00<00:00, 1456.19it/s]\n"
     ]
    },
    {
     "name": "stdout",
     "output_type": "stream",
     "text": [
      "Epoch 9: train loss :   0.150302   val loss :   0.150177   val score :   0.305408\n",
      "------ epoch:10 ------\n"
     ]
    },
    {
     "name": "stderr",
     "output_type": "stream",
     "text": [
      "100%|██████████| 252/252 [00:05<00:00, 50.38it/s]\n",
      "100%|██████████| 28/28 [00:00<00:00, 62.03it/s]\n",
      "100%|██████████| 943/943 [00:00<00:00, 1854.50it/s]\n"
     ]
    },
    {
     "name": "stdout",
     "output_type": "stream",
     "text": [
      "Epoch 10: train loss :   0.149345   val loss :   0.150275   val score :   0.302227\n",
      "------ epoch:11 ------\n"
     ]
    },
    {
     "name": "stderr",
     "output_type": "stream",
     "text": [
      "100%|██████████| 252/252 [00:05<00:00, 50.16it/s]\n",
      "100%|██████████| 28/28 [00:00<00:00, 111.38it/s]\n",
      "100%|██████████| 943/943 [00:00<00:00, 1905.49it/s]\n"
     ]
    },
    {
     "name": "stdout",
     "output_type": "stream",
     "text": [
      "Epoch 11: train loss :   0.148517   val loss :   0.150485   val score :   0.306469\n",
      "Epoch 00011: reducing learning rate of group 0 to 1.0000e-03.\n",
      "------ epoch:12 ------\n"
     ]
    },
    {
     "name": "stderr",
     "output_type": "stream",
     "text": [
      "100%|██████████| 252/252 [00:04<00:00, 59.49it/s]\n",
      "100%|██████████| 28/28 [00:00<00:00, 69.68it/s] \n",
      "100%|██████████| 943/943 [00:00<00:00, 1712.93it/s]\n"
     ]
    },
    {
     "name": "stdout",
     "output_type": "stream",
     "text": [
      "Epoch 12: train loss :   0.137857   val loss :   0.150436   val score :   0.303287\n"
     ]
    },
    {
     "name": "stderr",
     "output_type": "stream",
     "text": [
      "100%|██████████| 70/70 [00:00<00:00, 115.74it/s]\n",
      "100%|██████████| 943/943 [00:00<00:00, 1980.52it/s]\n"
     ]
    },
    {
     "name": "stdout",
     "output_type": "stream",
     "text": [
      "------ log loss of 4 fold : 0.14691939534885542 ------\n",
      "------ score of 4 fold : 0.256627783669141 ------\n",
      "------ 第5折 ------\n",
      "------ epoch:1 ------\n"
     ]
    },
    {
     "name": "stderr",
     "output_type": "stream",
     "text": [
      "100%|██████████| 252/252 [00:04<00:00, 59.86it/s]\n",
      "100%|██████████| 28/28 [00:00<00:00, 63.05it/s] \n",
      "100%|██████████| 943/943 [00:00<00:00, 1298.16it/s]\n"
     ]
    },
    {
     "name": "stdout",
     "output_type": "stream",
     "text": [
      "Epoch 1: train loss :   0.309267   val loss :   0.159101   val score :   0.218452\n",
      "------ epoch:2 ------\n"
     ]
    },
    {
     "name": "stderr",
     "output_type": "stream",
     "text": [
      "100%|██████████| 252/252 [00:04<00:00, 59.10it/s]\n",
      "100%|██████████| 28/28 [00:00<00:00, 89.42it/s]\n",
      "100%|██████████| 943/943 [00:00<00:00, 1687.65it/s]\n"
     ]
    },
    {
     "name": "stdout",
     "output_type": "stream",
     "text": [
      "Epoch 2: train loss :   0.202089   val loss :   0.156499   val score :   0.243902\n",
      "------ epoch:3 ------\n"
     ]
    },
    {
     "name": "stderr",
     "output_type": "stream",
     "text": [
      "100%|██████████| 252/252 [00:04<00:00, 59.05it/s]\n",
      "100%|██████████| 28/28 [00:00<00:00, 111.61it/s]\n",
      "100%|██████████| 943/943 [00:00<00:00, 1384.96it/s]\n"
     ]
    },
    {
     "name": "stdout",
     "output_type": "stream",
     "text": [
      "Epoch 3: train loss :   0.186654   val loss :   0.154218   val score :   0.259809\n",
      "------ epoch:4 ------\n"
     ]
    },
    {
     "name": "stderr",
     "output_type": "stream",
     "text": [
      "100%|██████████| 252/252 [00:03<00:00, 64.12it/s]\n",
      "100%|██████████| 28/28 [00:00<00:00, 110.96it/s]\n",
      "100%|██████████| 943/943 [00:00<00:00, 1109.86it/s]\n"
     ]
    },
    {
     "name": "stdout",
     "output_type": "stream",
     "text": [
      "Epoch 4: train loss :   0.173092   val loss :   0.153046   val score :   0.265111\n",
      "------ epoch:5 ------\n"
     ]
    },
    {
     "name": "stderr",
     "output_type": "stream",
     "text": [
      "100%|██████████| 252/252 [00:03<00:00, 66.33it/s]\n",
      "100%|██████████| 28/28 [00:00<00:00, 116.81it/s]\n",
      "100%|██████████| 943/943 [00:00<00:00, 1401.44it/s]\n"
     ]
    },
    {
     "name": "stdout",
     "output_type": "stream",
     "text": [
      "Epoch 5: train loss :   0.162510   val loss :   0.150889   val score :   0.266172\n",
      "------ epoch:6 ------\n"
     ]
    },
    {
     "name": "stderr",
     "output_type": "stream",
     "text": [
      "100%|██████████| 252/252 [00:03<00:00, 64.31it/s]\n",
      "100%|██████████| 28/28 [00:00<00:00, 68.07it/s] \n",
      "100%|██████████| 943/943 [00:00<00:00, 1260.19it/s]\n"
     ]
    },
    {
     "name": "stdout",
     "output_type": "stream",
     "text": [
      "Epoch 6: train loss :   0.156086   val loss :   0.149886   val score :   0.269353\n",
      "------ epoch:7 ------\n"
     ]
    },
    {
     "name": "stderr",
     "output_type": "stream",
     "text": [
      "100%|██████████| 252/252 [00:04<00:00, 62.81it/s]\n",
      "100%|██████████| 28/28 [00:00<00:00, 119.72it/s]\n",
      "100%|██████████| 943/943 [00:00<00:00, 1395.32it/s]\n"
     ]
    },
    {
     "name": "stdout",
     "output_type": "stream",
     "text": [
      "Epoch 7: train loss :   0.152729   val loss :   0.149402   val score :   0.282078\n",
      "------ epoch:8 ------\n"
     ]
    },
    {
     "name": "stderr",
     "output_type": "stream",
     "text": [
      "100%|██████████| 252/252 [00:03<00:00, 63.25it/s]\n",
      "100%|██████████| 28/28 [00:00<00:00, 110.01it/s]\n",
      "100%|██████████| 943/943 [00:00<00:00, 1985.03it/s]\n"
     ]
    },
    {
     "name": "stdout",
     "output_type": "stream",
     "text": [
      "Epoch 8: train loss :   0.150894   val loss :   0.148954   val score :   0.277837\n",
      "------ epoch:9 ------\n"
     ]
    },
    {
     "name": "stderr",
     "output_type": "stream",
     "text": [
      "100%|██████████| 252/252 [00:04<00:00, 60.81it/s]\n",
      "100%|██████████| 28/28 [00:00<00:00, 112.79it/s]\n",
      "100%|██████████| 943/943 [00:00<00:00, 1821.10it/s]\n"
     ]
    },
    {
     "name": "stdout",
     "output_type": "stream",
     "text": [
      "Epoch 9: train loss :   0.149887   val loss :   0.148859   val score :   0.287381\n",
      "------ epoch:10 ------\n"
     ]
    },
    {
     "name": "stderr",
     "output_type": "stream",
     "text": [
      "100%|██████████| 252/252 [00:04<00:00, 60.85it/s]\n",
      "100%|██████████| 28/28 [00:00<00:00, 110.45it/s]\n",
      "100%|██████████| 943/943 [00:00<00:00, 1927.59it/s]\n"
     ]
    },
    {
     "name": "stdout",
     "output_type": "stream",
     "text": [
      "Epoch 10: train loss :   0.149013   val loss :   0.149015   val score :   0.279958\n",
      "------ epoch:11 ------\n"
     ]
    },
    {
     "name": "stderr",
     "output_type": "stream",
     "text": [
      "100%|██████████| 252/252 [00:04<00:00, 62.11it/s]\n",
      "100%|██████████| 28/28 [00:00<00:00, 117.32it/s]\n",
      "100%|██████████| 943/943 [00:00<00:00, 1570.93it/s]\n"
     ]
    },
    {
     "name": "stdout",
     "output_type": "stream",
     "text": [
      "Epoch 11: train loss :   0.148237   val loss :   0.149260   val score :   0.274655\n",
      "------ epoch:12 ------\n"
     ]
    },
    {
     "name": "stderr",
     "output_type": "stream",
     "text": [
      "100%|██████████| 252/252 [00:04<00:00, 55.04it/s]\n",
      "100%|██████████| 28/28 [00:00<00:00, 65.89it/s] \n",
      "100%|██████████| 943/943 [00:00<00:00, 1879.25it/s]\n"
     ]
    },
    {
     "name": "stdout",
     "output_type": "stream",
     "text": [
      "Epoch 12: train loss :   0.145794   val loss :   0.149595   val score :   0.275716\n",
      "Epoch 00012: reducing learning rate of group 0 to 1.0000e-03.\n",
      "------ epoch:13 ------\n"
     ]
    },
    {
     "name": "stderr",
     "output_type": "stream",
     "text": [
      "100%|██████████| 252/252 [00:04<00:00, 62.56it/s]\n",
      "100%|██████████| 28/28 [00:00<00:00, 91.82it/s]\n",
      "100%|██████████| 943/943 [00:00<00:00, 1870.39it/s]\n"
     ]
    },
    {
     "name": "stdout",
     "output_type": "stream",
     "text": [
      "Epoch 13: train loss :   0.136219   val loss :   0.149633   val score :   0.275716\n"
     ]
    },
    {
     "name": "stderr",
     "output_type": "stream",
     "text": [
      "100%|██████████| 70/70 [00:00<00:00, 91.82it/s] \n",
      "100%|██████████| 943/943 [00:00<00:00, 1666.53it/s]\n"
     ]
    },
    {
     "name": "stdout",
     "output_type": "stream",
     "text": [
      "------ log loss of 5 fold : 0.1490115547818797 ------\n",
      "------ score of 5 fold : 0.24390243902439024 ------\n",
      "settings : power = 1, model type = 2\n",
      "parameters :  {'num_users': 943, 'num_items': 1682, 'embedding_dim': 20, 'lr': 0.01, 'alpha': 0.01, 'patience': 3, 'epochs': 30, 'device': 'cuda:0', 'model_selection': True}\n",
      "------ log loss of the model : 0.14741781905293466 ------\n",
      "------ score of the model : 0.23902439024390243 ------\n",
      "------ 第1折 ------\n",
      "------ epoch:1 ------\n"
     ]
    },
    {
     "name": "stderr",
     "output_type": "stream",
     "text": [
      "100%|██████████| 252/252 [00:03<00:00, 66.52it/s]\n",
      "100%|██████████| 28/28 [00:00<00:00, 118.91it/s]\n",
      "100%|██████████| 943/943 [00:00<00:00, 1852.77it/s]\n"
     ]
    },
    {
     "name": "stdout",
     "output_type": "stream",
     "text": [
      "Epoch 1: train loss :   0.204481   val loss :   0.160389   val score :   0.208908\n",
      "------ epoch:2 ------\n"
     ]
    },
    {
     "name": "stderr",
     "output_type": "stream",
     "text": [
      "100%|██████████| 252/252 [00:03<00:00, 65.75it/s]\n",
      "100%|██████████| 28/28 [00:00<00:00, 116.00it/s]\n",
      "100%|██████████| 943/943 [00:00<00:00, 1984.46it/s]\n"
     ]
    },
    {
     "name": "stdout",
     "output_type": "stream",
     "text": [
      "Epoch 2: train loss :   0.176573   val loss :   0.160422   val score :   0.170732\n",
      "------ epoch:3 ------\n"
     ]
    },
    {
     "name": "stderr",
     "output_type": "stream",
     "text": [
      "100%|██████████| 252/252 [00:03<00:00, 63.58it/s]\n",
      "100%|██████████| 28/28 [00:00<00:00, 115.29it/s]\n",
      "100%|██████████| 943/943 [00:00<00:00, 1164.01it/s]\n"
     ]
    },
    {
     "name": "stdout",
     "output_type": "stream",
     "text": [
      "Epoch 3: train loss :   0.177168   val loss :   0.160637   val score :   0.196182\n",
      "------ epoch:4 ------\n"
     ]
    },
    {
     "name": "stderr",
     "output_type": "stream",
     "text": [
      "100%|██████████| 252/252 [00:03<00:00, 66.63it/s]\n",
      "100%|██████████| 28/28 [00:00<00:00, 122.32it/s]\n",
      "100%|██████████| 943/943 [00:00<00:00, 1233.34it/s]\n"
     ]
    },
    {
     "name": "stdout",
     "output_type": "stream",
     "text": [
      "Epoch 4: train loss :   0.176842   val loss :   0.160943   val score :   0.197243\n",
      "Epoch 00004: reducing learning rate of group 0 to 1.0000e-02.\n",
      "------ epoch:5 ------\n"
     ]
    },
    {
     "name": "stderr",
     "output_type": "stream",
     "text": [
      "100%|██████████| 252/252 [00:03<00:00, 65.22it/s]\n",
      "100%|██████████| 28/28 [00:00<00:00, 69.78it/s] \n",
      "100%|██████████| 943/943 [00:00<00:00, 1204.65it/s]\n"
     ]
    },
    {
     "name": "stdout",
     "output_type": "stream",
     "text": [
      "Epoch 5: train loss :   0.163300   val loss :   0.159337   val score :   0.288441\n",
      "------ epoch:6 ------\n"
     ]
    },
    {
     "name": "stderr",
     "output_type": "stream",
     "text": [
      "100%|██████████| 252/252 [00:03<00:00, 67.91it/s]\n",
      "100%|██████████| 28/28 [00:00<00:00, 71.85it/s]\n",
      "100%|██████████| 943/943 [00:00<00:00, 1212.02it/s]\n"
     ]
    },
    {
     "name": "stdout",
     "output_type": "stream",
     "text": [
      "Epoch 6: train loss :   0.161115   val loss :   0.159410   val score :   0.296925\n",
      "------ epoch:7 ------\n"
     ]
    },
    {
     "name": "stderr",
     "output_type": "stream",
     "text": [
      "100%|██████████| 252/252 [00:03<00:00, 65.65it/s]\n",
      "100%|██████████| 28/28 [00:00<00:00, 122.93it/s]\n",
      "100%|██████████| 943/943 [00:00<00:00, 1298.87it/s]\n"
     ]
    },
    {
     "name": "stdout",
     "output_type": "stream",
     "text": [
      "Epoch 7: train loss :   0.161163   val loss :   0.159467   val score :   0.311771\n",
      "------ epoch:8 ------\n"
     ]
    },
    {
     "name": "stderr",
     "output_type": "stream",
     "text": [
      "100%|██████████| 252/252 [00:03<00:00, 63.93it/s]\n",
      "100%|██████████| 28/28 [00:00<00:00, 123.62it/s]\n",
      "100%|██████████| 943/943 [00:00<00:00, 1956.20it/s]\n"
     ]
    },
    {
     "name": "stdout",
     "output_type": "stream",
     "text": [
      "Epoch 8: train loss :   0.161232   val loss :   0.159418   val score :   0.295864\n",
      "------ epoch:9 ------\n"
     ]
    },
    {
     "name": "stderr",
     "output_type": "stream",
     "text": [
      "100%|██████████| 252/252 [00:03<00:00, 65.39it/s]\n",
      "100%|██████████| 28/28 [00:00<00:00, 123.66it/s]\n",
      "100%|██████████| 943/943 [00:00<00:00, 1763.64it/s]\n"
     ]
    },
    {
     "name": "stdout",
     "output_type": "stream",
     "text": [
      "Epoch 9: train loss :   0.161157   val loss :   0.159215   val score :   0.296925\n",
      "------ epoch:10 ------\n"
     ]
    },
    {
     "name": "stderr",
     "output_type": "stream",
     "text": [
      "100%|██████████| 252/252 [00:03<00:00, 65.97it/s]\n",
      "100%|██████████| 28/28 [00:00<00:00, 121.86it/s]\n",
      "100%|██████████| 943/943 [00:00<00:00, 1600.66it/s]\n"
     ]
    },
    {
     "name": "stdout",
     "output_type": "stream",
     "text": [
      "Epoch 10: train loss :   0.161281   val loss :   0.159455   val score :   0.300106\n",
      "Epoch 00010: reducing learning rate of group 0 to 1.0000e-03.\n",
      "------ epoch:11 ------\n"
     ]
    },
    {
     "name": "stderr",
     "output_type": "stream",
     "text": [
      "100%|██████████| 252/252 [00:04<00:00, 60.02it/s]\n",
      "100%|██████████| 28/28 [00:00<00:00, 64.72it/s] \n",
      "100%|██████████| 943/943 [00:00<00:00, 1958.84it/s]\n"
     ]
    },
    {
     "name": "stdout",
     "output_type": "stream",
     "text": [
      "Epoch 11: train loss :   0.160098   val loss :   0.159408   val score :   0.304348\n"
     ]
    },
    {
     "name": "stderr",
     "output_type": "stream",
     "text": [
      "100%|██████████| 70/70 [00:00<00:00, 123.15it/s]\n",
      "100%|██████████| 943/943 [00:00<00:00, 1250.58it/s]\n"
     ]
    },
    {
     "name": "stdout",
     "output_type": "stream",
     "text": [
      "------ log loss of 1 fold : 0.15300566692437445 ------\n",
      "------ score of 1 fold : 0.25344644750795337 ------\n",
      "------ 第2折 ------\n",
      "------ epoch:1 ------\n"
     ]
    },
    {
     "name": "stderr",
     "output_type": "stream",
     "text": [
      "100%|██████████| 252/252 [00:04<00:00, 61.34it/s]\n",
      "100%|██████████| 28/28 [00:00<00:00, 59.67it/s]\n",
      "100%|██████████| 943/943 [00:01<00:00, 896.54it/s] \n"
     ]
    },
    {
     "name": "stdout",
     "output_type": "stream",
     "text": [
      "Epoch 1: train loss :   0.203359   val loss :   0.160385   val score :   0.189820\n",
      "------ epoch:2 ------\n"
     ]
    },
    {
     "name": "stderr",
     "output_type": "stream",
     "text": [
      "100%|██████████| 252/252 [00:03<00:00, 67.62it/s]\n",
      "100%|██████████| 28/28 [00:00<00:00, 67.06it/s]\n",
      "100%|██████████| 943/943 [00:00<00:00, 1259.73it/s]\n"
     ]
    },
    {
     "name": "stdout",
     "output_type": "stream",
     "text": [
      "Epoch 2: train loss :   0.175207   val loss :   0.160579   val score :   0.172853\n",
      "------ epoch:3 ------\n"
     ]
    },
    {
     "name": "stderr",
     "output_type": "stream",
     "text": [
      "100%|██████████| 252/252 [00:04<00:00, 61.57it/s]\n",
      "100%|██████████| 28/28 [00:00<00:00, 114.19it/s]\n",
      "100%|██████████| 943/943 [00:00<00:00, 1217.59it/s]\n"
     ]
    },
    {
     "name": "stdout",
     "output_type": "stream",
     "text": [
      "Epoch 3: train loss :   0.175838   val loss :   0.161087   val score :   0.206787\n",
      "------ epoch:4 ------\n"
     ]
    },
    {
     "name": "stderr",
     "output_type": "stream",
     "text": [
      "100%|██████████| 252/252 [00:04<00:00, 62.27it/s]\n",
      "100%|██████████| 28/28 [00:00<00:00, 114.55it/s]\n",
      "100%|██████████| 943/943 [00:00<00:00, 1234.07it/s]\n"
     ]
    },
    {
     "name": "stdout",
     "output_type": "stream",
     "text": [
      "Epoch 4: train loss :   0.174113   val loss :   0.161003   val score :   0.172853\n",
      "------ epoch:5 ------\n"
     ]
    },
    {
     "name": "stderr",
     "output_type": "stream",
     "text": [
      "100%|██████████| 252/252 [00:04<00:00, 59.80it/s]\n",
      "100%|██████████| 28/28 [00:00<00:00, 110.45it/s]\n",
      "100%|██████████| 943/943 [00:00<00:00, 1884.50it/s]\n"
     ]
    },
    {
     "name": "stdout",
     "output_type": "stream",
     "text": [
      "Epoch 5: train loss :   0.175962   val loss :   0.160750   val score :   0.164369\n",
      "------ epoch:6 ------\n"
     ]
    },
    {
     "name": "stderr",
     "output_type": "stream",
     "text": [
      "100%|██████████| 252/252 [00:03<00:00, 63.15it/s]\n",
      "100%|██████████| 28/28 [00:00<00:00, 112.11it/s]\n",
      "100%|██████████| 943/943 [00:00<00:00, 1936.03it/s]\n"
     ]
    },
    {
     "name": "stdout",
     "output_type": "stream",
     "text": [
      "Epoch 6: train loss :   0.176214   val loss :   0.161006   val score :   0.136797\n",
      "Epoch 00006: reducing learning rate of group 0 to 1.0000e-02.\n",
      "------ epoch:7 ------\n"
     ]
    },
    {
     "name": "stderr",
     "output_type": "stream",
     "text": [
      "100%|██████████| 252/252 [00:03<00:00, 63.46it/s]\n",
      "100%|██████████| 28/28 [00:00<00:00, 69.05it/s] \n",
      "100%|██████████| 943/943 [00:00<00:00, 1386.84it/s]\n"
     ]
    },
    {
     "name": "stdout",
     "output_type": "stream",
     "text": [
      "Epoch 7: train loss :   0.162268   val loss :   0.159113   val score :   0.273595\n",
      "------ epoch:8 ------\n"
     ]
    },
    {
     "name": "stderr",
     "output_type": "stream",
     "text": [
      "100%|██████████| 252/252 [00:04<00:00, 56.71it/s]\n",
      "100%|██████████| 28/28 [00:00<00:00, 70.40it/s]\n",
      "100%|██████████| 943/943 [00:00<00:00, 1856.33it/s]\n"
     ]
    },
    {
     "name": "stdout",
     "output_type": "stream",
     "text": [
      "Epoch 8: train loss :   0.160092   val loss :   0.159173   val score :   0.279958\n",
      "------ epoch:9 ------\n"
     ]
    },
    {
     "name": "stderr",
     "output_type": "stream",
     "text": [
      "100%|██████████| 252/252 [00:04<00:00, 62.41it/s]\n",
      "100%|██████████| 28/28 [00:00<00:00, 116.37it/s]\n",
      "100%|██████████| 943/943 [00:00<00:00, 1877.63it/s]\n"
     ]
    },
    {
     "name": "stdout",
     "output_type": "stream",
     "text": [
      "Epoch 9: train loss :   0.160037   val loss :   0.159247   val score :   0.275716\n",
      "------ epoch:10 ------\n"
     ]
    },
    {
     "name": "stderr",
     "output_type": "stream",
     "text": [
      "100%|██████████| 252/252 [00:04<00:00, 62.82it/s]\n",
      "100%|██████████| 28/28 [00:00<00:00, 115.65it/s]\n",
      "100%|██████████| 943/943 [00:00<00:00, 1779.25it/s]\n"
     ]
    },
    {
     "name": "stdout",
     "output_type": "stream",
     "text": [
      "Epoch 10: train loss :   0.160032   val loss :   0.159153   val score :   0.292683\n",
      "------ epoch:11 ------\n"
     ]
    },
    {
     "name": "stderr",
     "output_type": "stream",
     "text": [
      "100%|██████████| 252/252 [00:03<00:00, 63.19it/s]\n",
      "100%|██████████| 28/28 [00:00<00:00, 117.69it/s]\n",
      "100%|██████████| 943/943 [00:00<00:00, 2052.44it/s]\n"
     ]
    },
    {
     "name": "stdout",
     "output_type": "stream",
     "text": [
      "Epoch 11: train loss :   0.160191   val loss :   0.158970   val score :   0.303287\n",
      "------ epoch:12 ------\n"
     ]
    },
    {
     "name": "stderr",
     "output_type": "stream",
     "text": [
      "100%|██████████| 252/252 [00:04<00:00, 62.83it/s]\n",
      "100%|██████████| 28/28 [00:00<00:00, 58.78it/s] \n",
      "100%|██████████| 943/943 [00:00<00:00, 1422.00it/s]\n"
     ]
    },
    {
     "name": "stdout",
     "output_type": "stream",
     "text": [
      "Epoch 12: train loss :   0.160201   val loss :   0.159137   val score :   0.284199\n",
      "------ epoch:13 ------\n"
     ]
    },
    {
     "name": "stderr",
     "output_type": "stream",
     "text": [
      "100%|██████████| 252/252 [00:04<00:00, 60.83it/s]\n",
      "100%|██████████| 28/28 [00:00<00:00, 67.86it/s]\n",
      "100%|██████████| 943/943 [00:00<00:00, 1253.05it/s]\n"
     ]
    },
    {
     "name": "stdout",
     "output_type": "stream",
     "text": [
      "Epoch 13: train loss :   0.160087   val loss :   0.159171   val score :   0.276776\n",
      "------ epoch:14 ------\n"
     ]
    },
    {
     "name": "stderr",
     "output_type": "stream",
     "text": [
      "100%|██████████| 252/252 [00:03<00:00, 65.29it/s]\n",
      "100%|██████████| 28/28 [00:00<00:00, 120.26it/s]\n",
      "100%|██████████| 943/943 [00:00<00:00, 1394.07it/s]\n"
     ]
    },
    {
     "name": "stdout",
     "output_type": "stream",
     "text": [
      "Epoch 14: train loss :   0.160067   val loss :   0.159107   val score :   0.294804\n",
      "Epoch 00014: reducing learning rate of group 0 to 1.0000e-03.\n",
      "------ epoch:15 ------\n"
     ]
    },
    {
     "name": "stderr",
     "output_type": "stream",
     "text": [
      "100%|██████████| 252/252 [00:03<00:00, 67.20it/s]\n",
      "100%|██████████| 28/28 [00:00<00:00, 120.07it/s]\n",
      "100%|██████████| 943/943 [00:00<00:00, 2081.76it/s]\n"
     ]
    },
    {
     "name": "stdout",
     "output_type": "stream",
     "text": [
      "Epoch 15: train loss :   0.159229   val loss :   0.159077   val score :   0.286320\n"
     ]
    },
    {
     "name": "stderr",
     "output_type": "stream",
     "text": [
      "100%|██████████| 70/70 [00:00<00:00, 93.05it/s] \n",
      "100%|██████████| 943/943 [00:00<00:00, 1356.64it/s]\n"
     ]
    },
    {
     "name": "stdout",
     "output_type": "stream",
     "text": [
      "------ log loss of 2 fold : 0.15659307188221386 ------\n",
      "------ score of 2 fold : 0.27783669141039236 ------\n",
      "------ 第3折 ------\n",
      "------ epoch:1 ------\n"
     ]
    },
    {
     "name": "stderr",
     "output_type": "stream",
     "text": [
      "100%|██████████| 252/252 [00:04<00:00, 60.34it/s]\n",
      "100%|██████████| 28/28 [00:00<00:00, 116.05it/s]\n",
      "100%|██████████| 943/943 [00:00<00:00, 1246.87it/s]\n"
     ]
    },
    {
     "name": "stdout",
     "output_type": "stream",
     "text": [
      "Epoch 1: train loss :   0.204908   val loss :   0.159550   val score :   0.174973\n",
      "------ epoch:2 ------\n"
     ]
    },
    {
     "name": "stderr",
     "output_type": "stream",
     "text": [
      "100%|██████████| 252/252 [00:04<00:00, 58.80it/s]\n",
      "100%|██████████| 28/28 [00:00<00:00, 119.27it/s]\n",
      "100%|██████████| 943/943 [00:00<00:00, 2068.43it/s]\n"
     ]
    },
    {
     "name": "stdout",
     "output_type": "stream",
     "text": [
      "Epoch 2: train loss :   0.173992   val loss :   0.159755   val score :   0.207847\n",
      "------ epoch:3 ------\n"
     ]
    },
    {
     "name": "stderr",
     "output_type": "stream",
     "text": [
      "100%|██████████| 252/252 [00:04<00:00, 62.87it/s]\n",
      "100%|██████████| 28/28 [00:00<00:00, 114.94it/s]\n",
      "100%|██████████| 943/943 [00:00<00:00, 1865.46it/s]\n"
     ]
    },
    {
     "name": "stdout",
     "output_type": "stream",
     "text": [
      "Epoch 3: train loss :   0.174261   val loss :   0.159661   val score :   0.158006\n",
      "------ epoch:4 ------\n"
     ]
    },
    {
     "name": "stderr",
     "output_type": "stream",
     "text": [
      "100%|██████████| 252/252 [00:03<00:00, 63.52it/s]\n",
      "100%|██████████| 28/28 [00:00<00:00, 69.00it/s] \n",
      "100%|██████████| 943/943 [00:00<00:00, 2038.14it/s]\n"
     ]
    },
    {
     "name": "stdout",
     "output_type": "stream",
     "text": [
      "Epoch 4: train loss :   0.174917   val loss :   0.159508   val score :   0.174973\n",
      "------ epoch:5 ------\n"
     ]
    },
    {
     "name": "stderr",
     "output_type": "stream",
     "text": [
      "100%|██████████| 252/252 [00:04<00:00, 58.11it/s]\n",
      "100%|██████████| 28/28 [00:00<00:00, 121.98it/s]\n",
      "100%|██████████| 943/943 [00:00<00:00, 1219.87it/s]\n"
     ]
    },
    {
     "name": "stdout",
     "output_type": "stream",
     "text": [
      "Epoch 5: train loss :   0.175046   val loss :   0.159599   val score :   0.196182\n",
      "Epoch 00005: reducing learning rate of group 0 to 1.0000e-02.\n",
      "------ epoch:6 ------\n"
     ]
    },
    {
     "name": "stderr",
     "output_type": "stream",
     "text": [
      "100%|██████████| 252/252 [00:04<00:00, 55.04it/s]\n",
      "100%|██████████| 28/28 [00:00<00:00, 114.28it/s]\n",
      "100%|██████████| 943/943 [00:00<00:00, 1410.05it/s]\n"
     ]
    },
    {
     "name": "stdout",
     "output_type": "stream",
     "text": [
      "Epoch 6: train loss :   0.161374   val loss :   0.158542   val score :   0.269353\n",
      "------ epoch:7 ------\n"
     ]
    },
    {
     "name": "stderr",
     "output_type": "stream",
     "text": [
      "100%|██████████| 252/252 [00:04<00:00, 61.94it/s]\n",
      "100%|██████████| 28/28 [00:00<00:00, 118.73it/s]\n",
      "100%|██████████| 943/943 [00:00<00:00, 1309.46it/s]\n"
     ]
    },
    {
     "name": "stdout",
     "output_type": "stream",
     "text": [
      "Epoch 7: train loss :   0.159648   val loss :   0.158541   val score :   0.278897\n",
      "------ epoch:8 ------\n"
     ]
    },
    {
     "name": "stderr",
     "output_type": "stream",
     "text": [
      "100%|██████████| 252/252 [00:03<00:00, 65.05it/s]\n",
      "100%|██████████| 28/28 [00:00<00:00, 115.19it/s]\n",
      "100%|██████████| 943/943 [00:00<00:00, 1219.20it/s]\n"
     ]
    },
    {
     "name": "stdout",
     "output_type": "stream",
     "text": [
      "Epoch 8: train loss :   0.159285   val loss :   0.158437   val score :   0.283139\n",
      "------ epoch:9 ------\n"
     ]
    },
    {
     "name": "stderr",
     "output_type": "stream",
     "text": [
      "100%|██████████| 252/252 [00:04<00:00, 62.17it/s]\n",
      "100%|██████████| 28/28 [00:00<00:00, 68.63it/s] \n",
      "100%|██████████| 943/943 [00:00<00:00, 1315.11it/s]\n"
     ]
    },
    {
     "name": "stdout",
     "output_type": "stream",
     "text": [
      "Epoch 9: train loss :   0.159490   val loss :   0.158382   val score :   0.277837\n",
      "------ epoch:10 ------\n"
     ]
    },
    {
     "name": "stderr",
     "output_type": "stream",
     "text": [
      "100%|██████████| 252/252 [00:04<00:00, 62.21it/s]\n",
      "100%|██████████| 28/28 [00:00<00:00, 102.63it/s]\n",
      "100%|██████████| 943/943 [00:00<00:00, 1467.71it/s]\n"
     ]
    },
    {
     "name": "stdout",
     "output_type": "stream",
     "text": [
      "Epoch 10: train loss :   0.159426   val loss :   0.158472   val score :   0.281018\n",
      "------ epoch:11 ------\n"
     ]
    },
    {
     "name": "stderr",
     "output_type": "stream",
     "text": [
      "100%|██████████| 252/252 [00:04<00:00, 61.40it/s]\n",
      "100%|██████████| 28/28 [00:00<00:00, 117.83it/s]\n",
      "100%|██████████| 943/943 [00:00<00:00, 1348.51it/s]\n"
     ]
    },
    {
     "name": "stdout",
     "output_type": "stream",
     "text": [
      "Epoch 11: train loss :   0.159542   val loss :   0.158532   val score :   0.284199\n",
      "------ epoch:12 ------\n"
     ]
    },
    {
     "name": "stderr",
     "output_type": "stream",
     "text": [
      "100%|██████████| 252/252 [00:03<00:00, 64.12it/s]\n",
      "100%|██████████| 28/28 [00:00<00:00, 117.10it/s]\n",
      "100%|██████████| 943/943 [00:00<00:00, 1247.28it/s]\n"
     ]
    },
    {
     "name": "stdout",
     "output_type": "stream",
     "text": [
      "Epoch 12: train loss :   0.159593   val loss :   0.158419   val score :   0.264051\n",
      "------ epoch:13 ------\n"
     ]
    },
    {
     "name": "stderr",
     "output_type": "stream",
     "text": [
      "100%|██████████| 252/252 [00:04<00:00, 61.67it/s]\n",
      "100%|██████████| 28/28 [00:00<00:00, 109.22it/s]\n",
      "100%|██████████| 943/943 [00:00<00:00, 1455.60it/s]\n"
     ]
    },
    {
     "name": "stdout",
     "output_type": "stream",
     "text": [
      "Epoch 13: train loss :   0.159440   val loss :   0.158437   val score :   0.262990\n",
      "------ epoch:14 ------\n"
     ]
    },
    {
     "name": "stderr",
     "output_type": "stream",
     "text": [
      "100%|██████████| 252/252 [00:04<00:00, 59.65it/s]\n",
      "100%|██████████| 28/28 [00:00<00:00, 67.90it/s] \n",
      "100%|██████████| 943/943 [00:00<00:00, 2004.71it/s]\n"
     ]
    },
    {
     "name": "stdout",
     "output_type": "stream",
     "text": [
      "Epoch 14: train loss :   0.159476   val loss :   0.158667   val score :   0.277837\n",
      "Epoch 00014: reducing learning rate of group 0 to 1.0000e-03.\n",
      "------ epoch:15 ------\n"
     ]
    },
    {
     "name": "stderr",
     "output_type": "stream",
     "text": [
      "100%|██████████| 252/252 [00:03<00:00, 66.56it/s]\n",
      "100%|██████████| 28/28 [00:00<00:00, 70.20it/s]\n",
      "100%|██████████| 943/943 [00:00<00:00, 1863.47it/s]\n"
     ]
    },
    {
     "name": "stdout",
     "output_type": "stream",
     "text": [
      "Epoch 15: train loss :   0.158275   val loss :   0.158535   val score :   0.277837\n"
     ]
    },
    {
     "name": "stderr",
     "output_type": "stream",
     "text": [
      "100%|██████████| 70/70 [00:00<00:00, 96.13it/s] \n",
      "100%|██████████| 943/943 [00:00<00:00, 1902.12it/s]\n"
     ]
    },
    {
     "name": "stdout",
     "output_type": "stream",
     "text": [
      "------ log loss of 3 fold : 0.15971001056688172 ------\n",
      "------ score of 3 fold : 0.2767762460233298 ------\n",
      "------ 第4折 ------\n",
      "------ epoch:1 ------\n"
     ]
    },
    {
     "name": "stderr",
     "output_type": "stream",
     "text": [
      "100%|██████████| 252/252 [00:04<00:00, 51.89it/s]\n",
      "100%|██████████| 28/28 [00:00<00:00, 33.34it/s]\n",
      "100%|██████████| 943/943 [00:00<00:00, 1144.37it/s]\n"
     ]
    },
    {
     "name": "stdout",
     "output_type": "stream",
     "text": [
      "Epoch 1: train loss :   0.205124   val loss :   0.160808   val score :   0.150583\n",
      "------ epoch:2 ------\n"
     ]
    },
    {
     "name": "stderr",
     "output_type": "stream",
     "text": [
      "100%|██████████| 252/252 [00:10<00:00, 24.73it/s]\n",
      "100%|██████████| 28/28 [00:00<00:00, 35.75it/s]\n",
      "100%|██████████| 943/943 [00:00<00:00, 952.39it/s] \n"
     ]
    },
    {
     "name": "stdout",
     "output_type": "stream",
     "text": [
      "Epoch 2: train loss :   0.175582   val loss :   0.162209   val score :   0.184517\n",
      "------ epoch:3 ------\n"
     ]
    },
    {
     "name": "stderr",
     "output_type": "stream",
     "text": [
      "100%|██████████| 252/252 [00:08<00:00, 29.96it/s]\n",
      "100%|██████████| 28/28 [00:00<00:00, 94.25it/s]\n",
      "100%|██████████| 943/943 [00:00<00:00, 1707.35it/s]\n"
     ]
    },
    {
     "name": "stdout",
     "output_type": "stream",
     "text": [
      "Epoch 3: train loss :   0.175172   val loss :   0.161011   val score :   0.194062\n",
      "------ epoch:4 ------\n"
     ]
    },
    {
     "name": "stderr",
     "output_type": "stream",
     "text": [
      "100%|██████████| 252/252 [00:04<00:00, 62.31it/s]\n",
      "100%|██████████| 28/28 [00:00<00:00, 113.52it/s]\n",
      "100%|██████████| 943/943 [00:00<00:00, 1983.43it/s]\n"
     ]
    },
    {
     "name": "stdout",
     "output_type": "stream",
     "text": [
      "Epoch 4: train loss :   0.176535   val loss :   0.161525   val score :   0.171792\n",
      "------ epoch:5 ------\n"
     ]
    },
    {
     "name": "stderr",
     "output_type": "stream",
     "text": [
      "100%|██████████| 252/252 [00:04<00:00, 60.58it/s]\n",
      "100%|██████████| 28/28 [00:00<00:00, 68.58it/s] \n",
      "100%|██████████| 943/943 [00:00<00:00, 2065.91it/s]\n"
     ]
    },
    {
     "name": "stdout",
     "output_type": "stream",
     "text": [
      "Epoch 5: train loss :   0.174958   val loss :   0.161042   val score :   0.198303\n",
      "------ epoch:6 ------\n"
     ]
    },
    {
     "name": "stderr",
     "output_type": "stream",
     "text": [
      "100%|██████████| 252/252 [00:03<00:00, 68.19it/s]\n",
      "100%|██████████| 28/28 [00:00<00:00, 69.87it/s]\n",
      "100%|██████████| 943/943 [00:00<00:00, 1855.64it/s]\n"
     ]
    },
    {
     "name": "stdout",
     "output_type": "stream",
     "text": [
      "Epoch 6: train loss :   0.174247   val loss :   0.160781   val score :   0.188759\n",
      "------ epoch:7 ------\n"
     ]
    },
    {
     "name": "stderr",
     "output_type": "stream",
     "text": [
      "100%|██████████| 252/252 [00:03<00:00, 63.29it/s]\n",
      "100%|██████████| 28/28 [00:00<00:00, 116.00it/s]\n",
      "100%|██████████| 943/943 [00:00<00:00, 1922.95it/s]\n"
     ]
    },
    {
     "name": "stdout",
     "output_type": "stream",
     "text": [
      "Epoch 7: train loss :   0.176676   val loss :   0.161570   val score :   0.182397\n",
      "------ epoch:8 ------\n"
     ]
    },
    {
     "name": "stderr",
     "output_type": "stream",
     "text": [
      "100%|██████████| 252/252 [00:04<00:00, 62.90it/s]\n",
      "100%|██████████| 28/28 [00:00<00:00, 116.63it/s]\n",
      "100%|██████████| 943/943 [00:00<00:00, 2208.85it/s]\n"
     ]
    },
    {
     "name": "stdout",
     "output_type": "stream",
     "text": [
      "Epoch 8: train loss :   0.176778   val loss :   0.161689   val score :   0.181336\n",
      "Epoch 00008: reducing learning rate of group 0 to 1.0000e-02.\n",
      "------ epoch:9 ------\n"
     ]
    },
    {
     "name": "stderr",
     "output_type": "stream",
     "text": [
      "100%|██████████| 252/252 [00:03<00:00, 63.11it/s]\n",
      "100%|██████████| 28/28 [00:00<00:00, 117.00it/s]\n",
      "100%|██████████| 943/943 [00:00<00:00, 2029.46it/s]\n"
     ]
    },
    {
     "name": "stdout",
     "output_type": "stream",
     "text": [
      "Epoch 9: train loss :   0.162157   val loss :   0.159966   val score :   0.290562\n",
      "------ epoch:10 ------\n"
     ]
    },
    {
     "name": "stderr",
     "output_type": "stream",
     "text": [
      "100%|██████████| 252/252 [00:03<00:00, 65.95it/s]\n",
      "100%|██████████| 28/28 [00:00<00:00, 122.50it/s]\n",
      "100%|██████████| 943/943 [00:00<00:00, 1941.88it/s]\n"
     ]
    },
    {
     "name": "stdout",
     "output_type": "stream",
     "text": [
      "Epoch 10: train loss :   0.160064   val loss :   0.159951   val score :   0.282078\n",
      "------ epoch:11 ------\n"
     ]
    },
    {
     "name": "stderr",
     "output_type": "stream",
     "text": [
      "100%|██████████| 252/252 [00:03<00:00, 65.64it/s]\n",
      "100%|██████████| 28/28 [00:00<00:00, 70.76it/s] \n",
      "100%|██████████| 943/943 [00:00<00:00, 2014.74it/s]\n"
     ]
    },
    {
     "name": "stdout",
     "output_type": "stream",
     "text": [
      "Epoch 11: train loss :   0.160167   val loss :   0.159846   val score :   0.299046\n",
      "------ epoch:12 ------\n"
     ]
    },
    {
     "name": "stderr",
     "output_type": "stream",
     "text": [
      "100%|██████████| 252/252 [00:03<00:00, 66.57it/s]\n",
      "100%|██████████| 28/28 [00:00<00:00, 69.50it/s]\n",
      "100%|██████████| 943/943 [00:00<00:00, 2255.39it/s]\n"
     ]
    },
    {
     "name": "stdout",
     "output_type": "stream",
     "text": [
      "Epoch 12: train loss :   0.160157   val loss :   0.159974   val score :   0.302227\n",
      "------ epoch:13 ------\n"
     ]
    },
    {
     "name": "stderr",
     "output_type": "stream",
     "text": [
      "100%|██████████| 252/252 [00:03<00:00, 65.84it/s]\n",
      "100%|██████████| 28/28 [00:00<00:00, 122.52it/s]\n",
      "100%|██████████| 943/943 [00:00<00:00, 1920.59it/s]\n"
     ]
    },
    {
     "name": "stdout",
     "output_type": "stream",
     "text": [
      "Epoch 13: train loss :   0.160240   val loss :   0.159913   val score :   0.285260\n",
      "------ epoch:14 ------\n"
     ]
    },
    {
     "name": "stderr",
     "output_type": "stream",
     "text": [
      "100%|██████████| 252/252 [00:03<00:00, 64.40it/s]\n",
      "100%|██████████| 28/28 [00:00<00:00, 115.31it/s]\n",
      "100%|██████████| 943/943 [00:00<00:00, 1541.19it/s]\n"
     ]
    },
    {
     "name": "stdout",
     "output_type": "stream",
     "text": [
      "Epoch 14: train loss :   0.160203   val loss :   0.159822   val score :   0.297985\n",
      "------ epoch:15 ------\n"
     ]
    },
    {
     "name": "stderr",
     "output_type": "stream",
     "text": [
      "100%|██████████| 252/252 [00:03<00:00, 65.05it/s]\n",
      "100%|██████████| 28/28 [00:00<00:00, 115.28it/s]\n",
      "100%|██████████| 943/943 [00:00<00:00, 1711.57it/s]\n"
     ]
    },
    {
     "name": "stdout",
     "output_type": "stream",
     "text": [
      "Epoch 15: train loss :   0.160095   val loss :   0.159798   val score :   0.286320\n",
      "Epoch 00015: reducing learning rate of group 0 to 1.0000e-03.\n",
      "------ epoch:16 ------\n"
     ]
    },
    {
     "name": "stderr",
     "output_type": "stream",
     "text": [
      "100%|██████████| 252/252 [00:04<00:00, 58.74it/s]\n",
      "100%|██████████| 28/28 [00:00<00:00, 95.89it/s]\n",
      "100%|██████████| 943/943 [00:00<00:00, 1945.43it/s]\n"
     ]
    },
    {
     "name": "stdout",
     "output_type": "stream",
     "text": [
      "Epoch 16: train loss :   0.159240   val loss :   0.159794   val score :   0.289502\n"
     ]
    },
    {
     "name": "stderr",
     "output_type": "stream",
     "text": [
      "100%|██████████| 70/70 [00:00<00:00, 91.53it/s] \n",
      "100%|██████████| 943/943 [00:00<00:00, 1871.88it/s]\n"
     ]
    },
    {
     "name": "stdout",
     "output_type": "stream",
     "text": [
      "------ log loss of 4 fold : 0.15594104315553392 ------\n",
      "------ score of 4 fold : 0.26299045599151644 ------\n",
      "------ 第5折 ------\n",
      "------ epoch:1 ------\n"
     ]
    },
    {
     "name": "stderr",
     "output_type": "stream",
     "text": [
      "100%|██████████| 252/252 [00:03<00:00, 65.76it/s]\n",
      "100%|██████████| 28/28 [00:00<00:00, 114.86it/s]\n",
      "100%|██████████| 943/943 [00:00<00:00, 2280.11it/s]\n"
     ]
    },
    {
     "name": "stdout",
     "output_type": "stream",
     "text": [
      "Epoch 1: train loss :   0.204408   val loss :   0.159775   val score :   0.153765\n",
      "------ epoch:2 ------\n"
     ]
    },
    {
     "name": "stderr",
     "output_type": "stream",
     "text": [
      "100%|██████████| 252/252 [00:03<00:00, 64.97it/s]\n",
      "100%|██████████| 28/28 [00:00<00:00, 115.48it/s]\n",
      "100%|██████████| 943/943 [00:00<00:00, 1950.74it/s]\n"
     ]
    },
    {
     "name": "stdout",
     "output_type": "stream",
     "text": [
      "Epoch 2: train loss :   0.174806   val loss :   0.159331   val score :   0.207847\n",
      "------ epoch:3 ------\n"
     ]
    },
    {
     "name": "stderr",
     "output_type": "stream",
     "text": [
      "100%|██████████| 252/252 [00:03<00:00, 65.50it/s]\n",
      "100%|██████████| 28/28 [00:00<00:00, 68.63it/s] \n",
      "100%|██████████| 943/943 [00:00<00:00, 2054.10it/s]\n"
     ]
    },
    {
     "name": "stdout",
     "output_type": "stream",
     "text": [
      "Epoch 3: train loss :   0.175142   val loss :   0.159974   val score :   0.170732\n",
      "------ epoch:4 ------\n"
     ]
    },
    {
     "name": "stderr",
     "output_type": "stream",
     "text": [
      "100%|██████████| 252/252 [00:03<00:00, 66.52it/s]\n",
      "100%|██████████| 28/28 [00:00<00:00, 118.15it/s]\n",
      "100%|██████████| 943/943 [00:00<00:00, 1952.52it/s]\n"
     ]
    },
    {
     "name": "stdout",
     "output_type": "stream",
     "text": [
      "Epoch 4: train loss :   0.174678   val loss :   0.159037   val score :   0.206787\n",
      "------ epoch:5 ------\n"
     ]
    },
    {
     "name": "stderr",
     "output_type": "stream",
     "text": [
      "100%|██████████| 252/252 [00:04<00:00, 62.92it/s]\n",
      "100%|██████████| 28/28 [00:00<00:00, 119.59it/s]\n",
      "100%|██████████| 943/943 [00:00<00:00, 1955.45it/s]\n"
     ]
    },
    {
     "name": "stdout",
     "output_type": "stream",
     "text": [
      "Epoch 5: train loss :   0.175726   val loss :   0.159466   val score :   0.227996\n",
      "------ epoch:6 ------\n"
     ]
    },
    {
     "name": "stderr",
     "output_type": "stream",
     "text": [
      "100%|██████████| 252/252 [00:04<00:00, 61.18it/s]\n",
      "100%|██████████| 28/28 [00:00<00:00, 119.12it/s]\n",
      "100%|██████████| 943/943 [00:00<00:00, 2042.13it/s]\n"
     ]
    },
    {
     "name": "stdout",
     "output_type": "stream",
     "text": [
      "Epoch 6: train loss :   0.174549   val loss :   0.159654   val score :   0.177094\n",
      "------ epoch:7 ------\n"
     ]
    },
    {
     "name": "stderr",
     "output_type": "stream",
     "text": [
      "100%|██████████| 252/252 [00:04<00:00, 60.51it/s]\n",
      "100%|██████████| 28/28 [00:00<00:00, 115.59it/s]\n",
      "100%|██████████| 943/943 [00:00<00:00, 1809.00it/s]\n"
     ]
    },
    {
     "name": "stdout",
     "output_type": "stream",
     "text": [
      "Epoch 7: train loss :   0.175737   val loss :   0.159555   val score :   0.180276\n",
      "------ epoch:8 ------\n"
     ]
    },
    {
     "name": "stderr",
     "output_type": "stream",
     "text": [
      "100%|██████████| 252/252 [00:03<00:00, 64.40it/s]\n",
      "100%|██████████| 28/28 [00:00<00:00, 68.77it/s] \n",
      "100%|██████████| 943/943 [00:00<00:00, 2148.35it/s]\n"
     ]
    },
    {
     "name": "stdout",
     "output_type": "stream",
     "text": [
      "Epoch 8: train loss :   0.174791   val loss :   0.159949   val score :   0.174973\n",
      "Epoch 00008: reducing learning rate of group 0 to 1.0000e-02.\n",
      "------ epoch:9 ------\n"
     ]
    },
    {
     "name": "stderr",
     "output_type": "stream",
     "text": [
      "100%|██████████| 252/252 [00:03<00:00, 66.03it/s]\n",
      "100%|██████████| 28/28 [00:00<00:00, 42.91it/s]\n",
      "100%|██████████| 943/943 [00:00<00:00, 1837.31it/s]\n"
     ]
    },
    {
     "name": "stdout",
     "output_type": "stream",
     "text": [
      "Epoch 9: train loss :   0.161884   val loss :   0.158413   val score :   0.270414\n",
      "------ epoch:10 ------\n"
     ]
    },
    {
     "name": "stderr",
     "output_type": "stream",
     "text": [
      "100%|██████████| 252/252 [00:04<00:00, 61.36it/s]\n",
      "100%|██████████| 28/28 [00:00<00:00, 115.41it/s]\n",
      "100%|██████████| 943/943 [00:00<00:00, 1132.54it/s]\n"
     ]
    },
    {
     "name": "stdout",
     "output_type": "stream",
     "text": [
      "Epoch 10: train loss :   0.159717   val loss :   0.158351   val score :   0.290562\n",
      "------ epoch:11 ------\n"
     ]
    },
    {
     "name": "stderr",
     "output_type": "stream",
     "text": [
      "100%|██████████| 252/252 [00:03<00:00, 63.54it/s]\n",
      "100%|██████████| 28/28 [00:00<00:00, 117.76it/s]\n",
      "100%|██████████| 943/943 [00:00<00:00, 1727.69it/s]\n"
     ]
    },
    {
     "name": "stdout",
     "output_type": "stream",
     "text": [
      "Epoch 11: train loss :   0.159746   val loss :   0.158325   val score :   0.292683\n",
      "------ epoch:12 ------\n"
     ]
    },
    {
     "name": "stderr",
     "output_type": "stream",
     "text": [
      "100%|██████████| 252/252 [00:03<00:00, 64.58it/s]\n",
      "100%|██████████| 28/28 [00:00<00:00, 115.47it/s]\n",
      "100%|██████████| 943/943 [00:00<00:00, 1682.17it/s]\n"
     ]
    },
    {
     "name": "stdout",
     "output_type": "stream",
     "text": [
      "Epoch 12: train loss :   0.159806   val loss :   0.158334   val score :   0.284199\n",
      "------ epoch:13 ------\n"
     ]
    },
    {
     "name": "stderr",
     "output_type": "stream",
     "text": [
      "100%|██████████| 252/252 [00:04<00:00, 56.06it/s]\n",
      "100%|██████████| 28/28 [00:00<00:00, 64.94it/s] \n",
      "100%|██████████| 943/943 [00:00<00:00, 1902.71it/s]\n"
     ]
    },
    {
     "name": "stdout",
     "output_type": "stream",
     "text": [
      "Epoch 13: train loss :   0.159906   val loss :   0.158433   val score :   0.293743\n",
      "------ epoch:14 ------\n"
     ]
    },
    {
     "name": "stderr",
     "output_type": "stream",
     "text": [
      "100%|██████████| 252/252 [00:03<00:00, 65.73it/s]\n",
      "100%|██████████| 28/28 [00:00<00:00, 68.10it/s]\n",
      "100%|██████████| 943/943 [00:00<00:00, 1550.62it/s]\n"
     ]
    },
    {
     "name": "stdout",
     "output_type": "stream",
     "text": [
      "Epoch 14: train loss :   0.159791   val loss :   0.158283   val score :   0.292683\n",
      "------ epoch:15 ------\n"
     ]
    },
    {
     "name": "stderr",
     "output_type": "stream",
     "text": [
      "100%|██████████| 252/252 [00:04<00:00, 56.84it/s]\n",
      "100%|██████████| 28/28 [00:00<00:00, 112.72it/s]\n",
      "100%|██████████| 943/943 [00:00<00:00, 1951.58it/s]\n"
     ]
    },
    {
     "name": "stdout",
     "output_type": "stream",
     "text": [
      "Epoch 15: train loss :   0.159833   val loss :   0.158455   val score :   0.289502\n",
      "------ epoch:16 ------\n"
     ]
    },
    {
     "name": "stderr",
     "output_type": "stream",
     "text": [
      "100%|██████████| 252/252 [00:03<00:00, 63.54it/s]\n",
      "100%|██████████| 28/28 [00:00<00:00, 116.23it/s]\n",
      "100%|██████████| 943/943 [00:00<00:00, 1810.30it/s]\n"
     ]
    },
    {
     "name": "stdout",
     "output_type": "stream",
     "text": [
      "Epoch 16: train loss :   0.159859   val loss :   0.158447   val score :   0.282078\n",
      "Epoch 00016: reducing learning rate of group 0 to 1.0000e-03.\n",
      "------ epoch:17 ------\n"
     ]
    },
    {
     "name": "stderr",
     "output_type": "stream",
     "text": [
      "100%|██████████| 252/252 [00:03<00:00, 63.83it/s]\n",
      "100%|██████████| 28/28 [00:00<00:00, 107.63it/s]\n",
      "100%|██████████| 943/943 [00:00<00:00, 1827.04it/s]\n"
     ]
    },
    {
     "name": "stdout",
     "output_type": "stream",
     "text": [
      "Epoch 17: train loss :   0.158688   val loss :   0.158385   val score :   0.288441\n"
     ]
    },
    {
     "name": "stderr",
     "output_type": "stream",
     "text": [
      "100%|██████████| 70/70 [00:00<00:00, 88.24it/s] \n",
      "100%|██████████| 943/943 [00:00<00:00, 1535.74it/s]\n"
     ]
    },
    {
     "name": "stdout",
     "output_type": "stream",
     "text": [
      "------ log loss of 5 fold : 0.15817572261605944 ------\n",
      "------ score of 5 fold : 0.25026511134676566 ------\n",
      "settings : power = 1, model type = 2\n",
      "parameters :  {'num_users': 943, 'num_items': 1682, 'embedding_dim': 20, 'lr': 0.1, 'alpha': 0.1, 'patience': 3, 'epochs': 30, 'device': 'cuda:0', 'model_selection': True}\n",
      "------ log loss of the model : 0.15668510302901267 ------\n",
      "------ score of the model : 0.26426299045599155 ------\n",
      "------ 第1折 ------\n",
      "------ epoch:1 ------\n"
     ]
    },
    {
     "name": "stderr",
     "output_type": "stream",
     "text": [
      "100%|██████████| 252/252 [00:03<00:00, 65.57it/s]\n",
      "100%|██████████| 28/28 [00:00<00:00, 120.14it/s]\n",
      "100%|██████████| 943/943 [00:00<00:00, 1211.52it/s]\n"
     ]
    },
    {
     "name": "stdout",
     "output_type": "stream",
     "text": [
      "Epoch 1: train loss :   0.701829   val loss :   0.347625   val score :   0.132556\n",
      "------ epoch:2 ------\n"
     ]
    },
    {
     "name": "stderr",
     "output_type": "stream",
     "text": [
      "100%|██████████| 252/252 [00:03<00:00, 67.16it/s]\n",
      "100%|██████████| 28/28 [00:00<00:00, 122.25it/s]\n",
      "100%|██████████| 943/943 [00:00<00:00, 1974.92it/s]\n"
     ]
    },
    {
     "name": "stdout",
     "output_type": "stream",
     "text": [
      "Epoch 2: train loss :   0.202357   val loss :   0.158414   val score :   0.227996\n",
      "------ epoch:3 ------\n"
     ]
    },
    {
     "name": "stderr",
     "output_type": "stream",
     "text": [
      "100%|██████████| 252/252 [00:03<00:00, 65.27it/s]\n",
      "100%|██████████| 28/28 [00:00<00:00, 67.13it/s]\n",
      "100%|██████████| 943/943 [00:00<00:00, 2053.49it/s]\n"
     ]
    },
    {
     "name": "stdout",
     "output_type": "stream",
     "text": [
      "Epoch 3: train loss :   0.157815   val loss :   0.153990   val score :   0.279958\n",
      "------ epoch:4 ------\n"
     ]
    },
    {
     "name": "stderr",
     "output_type": "stream",
     "text": [
      "100%|██████████| 252/252 [00:04<00:00, 61.93it/s]\n",
      "100%|██████████| 28/28 [00:00<00:00, 118.82it/s]\n",
      "100%|██████████| 943/943 [00:00<00:00, 2015.18it/s]\n"
     ]
    },
    {
     "name": "stdout",
     "output_type": "stream",
     "text": [
      "Epoch 4: train loss :   0.154355   val loss :   0.153495   val score :   0.281018\n",
      "------ epoch:5 ------\n"
     ]
    },
    {
     "name": "stderr",
     "output_type": "stream",
     "text": [
      "100%|██████████| 252/252 [00:03<00:00, 63.25it/s]\n",
      "100%|██████████| 28/28 [00:00<00:00, 69.83it/s]\n",
      "100%|██████████| 943/943 [00:00<00:00, 1556.80it/s]\n"
     ]
    },
    {
     "name": "stdout",
     "output_type": "stream",
     "text": [
      "Epoch 5: train loss :   0.152843   val loss :   0.153417   val score :   0.278897\n",
      "------ epoch:6 ------\n"
     ]
    },
    {
     "name": "stderr",
     "output_type": "stream",
     "text": [
      "100%|██████████| 252/252 [00:04<00:00, 62.57it/s]\n",
      "100%|██████████| 28/28 [00:00<00:00, 64.47it/s]\n",
      "100%|██████████| 943/943 [00:00<00:00, 1744.92it/s]\n"
     ]
    },
    {
     "name": "stdout",
     "output_type": "stream",
     "text": [
      "Epoch 6: train loss :   0.151474   val loss :   0.153630   val score :   0.285260\n",
      "------ epoch:7 ------\n"
     ]
    },
    {
     "name": "stderr",
     "output_type": "stream",
     "text": [
      "100%|██████████| 252/252 [00:04<00:00, 62.32it/s]\n",
      "100%|██████████| 28/28 [00:00<00:00, 109.82it/s]\n",
      "100%|██████████| 943/943 [00:00<00:00, 2205.36it/s]\n"
     ]
    },
    {
     "name": "stdout",
     "output_type": "stream",
     "text": [
      "Epoch 7: train loss :   0.150128   val loss :   0.153640   val score :   0.288441\n",
      "------ epoch:8 ------\n"
     ]
    },
    {
     "name": "stderr",
     "output_type": "stream",
     "text": [
      "100%|██████████| 252/252 [00:03<00:00, 65.02it/s]\n",
      "100%|██████████| 28/28 [00:00<00:00, 71.30it/s] \n",
      "100%|██████████| 943/943 [00:00<00:00, 1752.72it/s]\n"
     ]
    },
    {
     "name": "stdout",
     "output_type": "stream",
     "text": [
      "Epoch 8: train loss :   0.148845   val loss :   0.153821   val score :   0.292683\n",
      "------ epoch:9 ------\n"
     ]
    },
    {
     "name": "stderr",
     "output_type": "stream",
     "text": [
      "100%|██████████| 252/252 [00:03<00:00, 68.33it/s]\n",
      "100%|██████████| 28/28 [00:00<00:00, 70.18it/s]\n",
      "100%|██████████| 943/943 [00:00<00:00, 1854.24it/s]\n"
     ]
    },
    {
     "name": "stdout",
     "output_type": "stream",
     "text": [
      "Epoch 9: train loss :   0.146896   val loss :   0.153972   val score :   0.295864\n",
      "------ epoch:10 ------\n"
     ]
    },
    {
     "name": "stderr",
     "output_type": "stream",
     "text": [
      "100%|██████████| 252/252 [00:03<00:00, 65.42it/s]\n",
      "100%|██████████| 28/28 [00:00<00:00, 119.18it/s]\n",
      "100%|██████████| 943/943 [00:00<00:00, 1735.42it/s]\n"
     ]
    },
    {
     "name": "stdout",
     "output_type": "stream",
     "text": [
      "Epoch 10: train loss :   0.145053   val loss :   0.153966   val score :   0.288441\n",
      "------ epoch:11 ------\n"
     ]
    },
    {
     "name": "stderr",
     "output_type": "stream",
     "text": [
      "100%|██████████| 252/252 [00:03<00:00, 63.05it/s]\n",
      "100%|██████████| 28/28 [00:00<00:00, 106.32it/s]\n",
      "100%|██████████| 943/943 [00:00<00:00, 1191.60it/s]\n"
     ]
    },
    {
     "name": "stdout",
     "output_type": "stream",
     "text": [
      "Epoch 11: train loss :   0.142976   val loss :   0.154023   val score :   0.293743\n",
      "------ epoch:12 ------\n"
     ]
    },
    {
     "name": "stderr",
     "output_type": "stream",
     "text": [
      "100%|██████████| 252/252 [00:03<00:00, 65.24it/s]\n",
      "100%|██████████| 28/28 [00:00<00:00, 117.76it/s]\n",
      "100%|██████████| 943/943 [00:00<00:00, 1592.15it/s]\n"
     ]
    },
    {
     "name": "stdout",
     "output_type": "stream",
     "text": [
      "Epoch 12: train loss :   0.140475   val loss :   0.154060   val score :   0.287381\n",
      "Epoch 00012: reducing learning rate of group 0 to 1.0000e-04.\n",
      "------ epoch:13 ------\n"
     ]
    },
    {
     "name": "stderr",
     "output_type": "stream",
     "text": [
      "100%|██████████| 252/252 [00:03<00:00, 65.59it/s]\n",
      "100%|██████████| 28/28 [00:00<00:00, 115.52it/s]\n",
      "100%|██████████| 943/943 [00:00<00:00, 1680.75it/s]\n"
     ]
    },
    {
     "name": "stdout",
     "output_type": "stream",
     "text": [
      "Epoch 13: train loss :   0.137031   val loss :   0.154075   val score :   0.289502\n"
     ]
    },
    {
     "name": "stderr",
     "output_type": "stream",
     "text": [
      "100%|██████████| 70/70 [00:00<00:00, 94.39it/s] \n",
      "100%|██████████| 943/943 [00:00<00:00, 1862.95it/s]\n"
     ]
    },
    {
     "name": "stdout",
     "output_type": "stream",
     "text": [
      "------ log loss of 1 fold : 0.14744219992841992 ------\n",
      "------ score of 1 fold : 0.24284199363732767 ------\n",
      "------ 第2折 ------\n",
      "------ epoch:1 ------\n"
     ]
    },
    {
     "name": "stderr",
     "output_type": "stream",
     "text": [
      "100%|██████████| 252/252 [00:03<00:00, 80.04it/s]\n",
      "100%|██████████| 28/28 [00:00<00:00, 135.89it/s]\n",
      "100%|██████████| 943/943 [00:00<00:00, 1930.86it/s]\n"
     ]
    },
    {
     "name": "stdout",
     "output_type": "stream",
     "text": [
      "Epoch 1: train loss :   0.692986   val loss :   0.341944   val score :   0.129374\n",
      "------ epoch:2 ------\n"
     ]
    },
    {
     "name": "stderr",
     "output_type": "stream",
     "text": [
      "100%|██████████| 252/252 [00:03<00:00, 70.38it/s]\n",
      "100%|██████████| 28/28 [00:00<00:00, 74.36it/s] \n",
      "100%|██████████| 943/943 [00:00<00:00, 1891.24it/s]\n"
     ]
    },
    {
     "name": "stdout",
     "output_type": "stream",
     "text": [
      "Epoch 2: train loss :   0.200232   val loss :   0.158316   val score :   0.218452\n",
      "------ epoch:3 ------\n"
     ]
    },
    {
     "name": "stderr",
     "output_type": "stream",
     "text": [
      "100%|██████████| 252/252 [00:04<00:00, 60.58it/s]\n",
      "100%|██████████| 28/28 [00:00<00:00, 103.07it/s]\n",
      "100%|██████████| 943/943 [00:00<00:00, 1820.49it/s]\n"
     ]
    },
    {
     "name": "stdout",
     "output_type": "stream",
     "text": [
      "Epoch 3: train loss :   0.156854   val loss :   0.153742   val score :   0.250265\n",
      "------ epoch:4 ------\n"
     ]
    },
    {
     "name": "stderr",
     "output_type": "stream",
     "text": [
      "100%|██████████| 252/252 [00:04<00:00, 62.61it/s]\n",
      "100%|██████████| 28/28 [00:00<00:00, 116.99it/s]\n",
      "100%|██████████| 943/943 [00:00<00:00, 1408.33it/s]\n"
     ]
    },
    {
     "name": "stdout",
     "output_type": "stream",
     "text": [
      "Epoch 4: train loss :   0.153685   val loss :   0.152755   val score :   0.256628\n",
      "------ epoch:5 ------\n"
     ]
    },
    {
     "name": "stderr",
     "output_type": "stream",
     "text": [
      "100%|██████████| 252/252 [00:04<00:00, 61.12it/s]\n",
      "100%|██████████| 28/28 [00:00<00:00, 92.63it/s] \n",
      "100%|██████████| 943/943 [00:00<00:00, 1736.21it/s]\n"
     ]
    },
    {
     "name": "stdout",
     "output_type": "stream",
     "text": [
      "Epoch 5: train loss :   0.152152   val loss :   0.152522   val score :   0.272534\n",
      "------ epoch:6 ------\n"
     ]
    },
    {
     "name": "stderr",
     "output_type": "stream",
     "text": [
      "100%|██████████| 252/252 [00:03<00:00, 63.00it/s]\n",
      "100%|██████████| 28/28 [00:00<00:00, 111.09it/s]\n",
      "100%|██████████| 943/943 [00:00<00:00, 1319.10it/s]\n"
     ]
    },
    {
     "name": "stdout",
     "output_type": "stream",
     "text": [
      "Epoch 6: train loss :   0.150615   val loss :   0.152419   val score :   0.278897\n",
      "------ epoch:7 ------\n"
     ]
    },
    {
     "name": "stderr",
     "output_type": "stream",
     "text": [
      "100%|██████████| 252/252 [00:03<00:00, 63.61it/s]\n",
      "100%|██████████| 28/28 [00:00<00:00, 96.63it/s]\n",
      "100%|██████████| 943/943 [00:00<00:00, 1628.60it/s]\n"
     ]
    },
    {
     "name": "stdout",
     "output_type": "stream",
     "text": [
      "Epoch 7: train loss :   0.149535   val loss :   0.152371   val score :   0.277837\n",
      "------ epoch:8 ------\n"
     ]
    },
    {
     "name": "stderr",
     "output_type": "stream",
     "text": [
      "100%|██████████| 252/252 [00:04<00:00, 62.90it/s]\n",
      "100%|██████████| 28/28 [00:00<00:00, 61.85it/s] \n",
      "100%|██████████| 943/943 [00:00<00:00, 1889.25it/s]\n"
     ]
    },
    {
     "name": "stdout",
     "output_type": "stream",
     "text": [
      "Epoch 8: train loss :   0.148083   val loss :   0.152200   val score :   0.292683\n",
      "------ epoch:9 ------\n"
     ]
    },
    {
     "name": "stderr",
     "output_type": "stream",
     "text": [
      "100%|██████████| 252/252 [00:03<00:00, 64.93it/s]\n",
      "100%|██████████| 28/28 [00:00<00:00, 112.59it/s]\n",
      "100%|██████████| 943/943 [00:00<00:00, 1943.44it/s]\n"
     ]
    },
    {
     "name": "stdout",
     "output_type": "stream",
     "text": [
      "Epoch 9: train loss :   0.146642   val loss :   0.152161   val score :   0.284199\n",
      "------ epoch:10 ------\n"
     ]
    },
    {
     "name": "stderr",
     "output_type": "stream",
     "text": [
      "100%|██████████| 252/252 [00:03<00:00, 65.40it/s]\n",
      "100%|██████████| 28/28 [00:00<00:00, 111.29it/s]\n",
      "100%|██████████| 943/943 [00:00<00:00, 1811.84it/s]\n"
     ]
    },
    {
     "name": "stdout",
     "output_type": "stream",
     "text": [
      "Epoch 10: train loss :   0.144801   val loss :   0.151968   val score :   0.282078\n",
      "------ epoch:11 ------\n"
     ]
    },
    {
     "name": "stderr",
     "output_type": "stream",
     "text": [
      "100%|██████████| 252/252 [00:03<00:00, 65.95it/s]\n",
      "100%|██████████| 28/28 [00:00<00:00, 118.61it/s]\n",
      "100%|██████████| 943/943 [00:00<00:00, 1764.75it/s]\n"
     ]
    },
    {
     "name": "stdout",
     "output_type": "stream",
     "text": [
      "Epoch 11: train loss :   0.142974   val loss :   0.151989   val score :   0.284199\n",
      "Epoch 00011: reducing learning rate of group 0 to 1.0000e-04.\n",
      "------ epoch:12 ------\n"
     ]
    },
    {
     "name": "stderr",
     "output_type": "stream",
     "text": [
      "100%|██████████| 252/252 [00:04<00:00, 58.81it/s]\n",
      "100%|██████████| 28/28 [00:00<00:00, 110.26it/s]\n",
      "100%|██████████| 943/943 [00:00<00:00, 2105.80it/s]\n"
     ]
    },
    {
     "name": "stdout",
     "output_type": "stream",
     "text": [
      "Epoch 12: train loss :   0.139494   val loss :   0.151972   val score :   0.285260\n"
     ]
    },
    {
     "name": "stderr",
     "output_type": "stream",
     "text": [
      "100%|██████████| 70/70 [00:00<00:00, 87.54it/s] \n",
      "100%|██████████| 943/943 [00:00<00:00, 1919.53it/s]\n"
     ]
    },
    {
     "name": "stdout",
     "output_type": "stream",
     "text": [
      "------ log loss of 2 fold : 0.15379074652280125 ------\n",
      "------ score of 2 fold : 0.23966065747614 ------\n",
      "------ 第3折 ------\n",
      "------ epoch:1 ------\n"
     ]
    },
    {
     "name": "stderr",
     "output_type": "stream",
     "text": [
      "100%|██████████| 252/252 [00:04<00:00, 59.88it/s]\n",
      "100%|██████████| 28/28 [00:00<00:00, 113.03it/s]\n",
      "100%|██████████| 943/943 [00:00<00:00, 1880.30it/s]\n"
     ]
    },
    {
     "name": "stdout",
     "output_type": "stream",
     "text": [
      "Epoch 1: train loss :   0.687336   val loss :   0.344328   val score :   0.117709\n",
      "------ epoch:2 ------\n"
     ]
    },
    {
     "name": "stderr",
     "output_type": "stream",
     "text": [
      "100%|██████████| 252/252 [00:03<00:00, 63.91it/s]\n",
      "100%|██████████| 28/28 [00:00<00:00, 93.20it/s]\n",
      "100%|██████████| 943/943 [00:00<00:00, 1277.58it/s]\n"
     ]
    },
    {
     "name": "stdout",
     "output_type": "stream",
     "text": [
      "Epoch 2: train loss :   0.201068   val loss :   0.160711   val score :   0.227996\n",
      "------ epoch:3 ------\n"
     ]
    },
    {
     "name": "stderr",
     "output_type": "stream",
     "text": [
      "100%|██████████| 252/252 [00:05<00:00, 45.41it/s]\n",
      "100%|██████████| 28/28 [00:00<00:00, 43.87it/s]\n",
      "100%|██████████| 943/943 [00:00<00:00, 1566.37it/s]\n"
     ]
    },
    {
     "name": "stdout",
     "output_type": "stream",
     "text": [
      "Epoch 3: train loss :   0.156441   val loss :   0.156943   val score :   0.264051\n",
      "------ epoch:4 ------\n"
     ]
    },
    {
     "name": "stderr",
     "output_type": "stream",
     "text": [
      "100%|██████████| 252/252 [00:04<00:00, 53.60it/s]\n",
      "100%|██████████| 28/28 [00:00<00:00, 71.00it/s]\n",
      "100%|██████████| 943/943 [00:00<00:00, 2071.76it/s]\n"
     ]
    },
    {
     "name": "stdout",
     "output_type": "stream",
     "text": [
      "Epoch 4: train loss :   0.152853   val loss :   0.156720   val score :   0.269353\n",
      "------ epoch:5 ------\n"
     ]
    },
    {
     "name": "stderr",
     "output_type": "stream",
     "text": [
      "100%|██████████| 252/252 [00:03<00:00, 65.18it/s]\n",
      "100%|██████████| 28/28 [00:00<00:00, 124.08it/s]\n",
      "100%|██████████| 943/943 [00:00<00:00, 2166.81it/s]\n"
     ]
    },
    {
     "name": "stdout",
     "output_type": "stream",
     "text": [
      "Epoch 5: train loss :   0.150868   val loss :   0.156824   val score :   0.266172\n",
      "------ epoch:6 ------\n"
     ]
    },
    {
     "name": "stderr",
     "output_type": "stream",
     "text": [
      "100%|██████████| 252/252 [00:03<00:00, 68.07it/s]\n",
      "100%|██████████| 28/28 [00:00<00:00, 125.42it/s]\n",
      "100%|██████████| 943/943 [00:00<00:00, 2226.54it/s]\n"
     ]
    },
    {
     "name": "stdout",
     "output_type": "stream",
     "text": [
      "Epoch 6: train loss :   0.149652   val loss :   0.157140   val score :   0.276776\n",
      "------ epoch:7 ------\n"
     ]
    },
    {
     "name": "stderr",
     "output_type": "stream",
     "text": [
      "100%|██████████| 252/252 [00:03<00:00, 64.90it/s]\n",
      "100%|██████████| 28/28 [00:00<00:00, 121.57it/s]\n",
      "100%|██████████| 943/943 [00:00<00:00, 1634.04it/s]\n"
     ]
    },
    {
     "name": "stdout",
     "output_type": "stream",
     "text": [
      "Epoch 7: train loss :   0.148099   val loss :   0.157329   val score :   0.274655\n",
      "------ epoch:8 ------\n"
     ]
    },
    {
     "name": "stderr",
     "output_type": "stream",
     "text": [
      "100%|██████████| 252/252 [00:03<00:00, 63.83it/s]\n",
      "100%|██████████| 28/28 [00:00<00:00, 124.84it/s]\n",
      "100%|██████████| 943/943 [00:00<00:00, 2277.49it/s]\n"
     ]
    },
    {
     "name": "stdout",
     "output_type": "stream",
     "text": [
      "Epoch 8: train loss :   0.146557   val loss :   0.157577   val score :   0.278897\n",
      "------ epoch:9 ------\n"
     ]
    },
    {
     "name": "stderr",
     "output_type": "stream",
     "text": [
      "100%|██████████| 252/252 [00:03<00:00, 66.14it/s]\n",
      "100%|██████████| 28/28 [00:00<00:00, 72.12it/s] \n",
      "100%|██████████| 943/943 [00:00<00:00, 2247.81it/s]\n"
     ]
    },
    {
     "name": "stdout",
     "output_type": "stream",
     "text": [
      "Epoch 9: train loss :   0.145075   val loss :   0.157717   val score :   0.283139\n",
      "------ epoch:10 ------\n"
     ]
    },
    {
     "name": "stderr",
     "output_type": "stream",
     "text": [
      "100%|██████████| 252/252 [00:03<00:00, 69.79it/s]\n",
      "100%|██████████| 28/28 [00:00<00:00, 68.85it/s]\n",
      "100%|██████████| 943/943 [00:00<00:00, 2170.57it/s]\n"
     ]
    },
    {
     "name": "stdout",
     "output_type": "stream",
     "text": [
      "Epoch 10: train loss :   0.142811   val loss :   0.157826   val score :   0.289502\n",
      "------ epoch:11 ------\n"
     ]
    },
    {
     "name": "stderr",
     "output_type": "stream",
     "text": [
      "100%|██████████| 252/252 [00:03<00:00, 66.08it/s]\n",
      "100%|██████████| 28/28 [00:00<00:00, 118.66it/s]\n",
      "100%|██████████| 943/943 [00:00<00:00, 2247.09it/s]\n"
     ]
    },
    {
     "name": "stdout",
     "output_type": "stream",
     "text": [
      "Epoch 11: train loss :   0.140711   val loss :   0.157802   val score :   0.290562\n",
      "------ epoch:12 ------\n"
     ]
    },
    {
     "name": "stderr",
     "output_type": "stream",
     "text": [
      "100%|██████████| 252/252 [00:03<00:00, 63.60it/s]\n",
      "100%|██████████| 28/28 [00:00<00:00, 113.61it/s]\n",
      "100%|██████████| 943/943 [00:00<00:00, 2208.45it/s]\n"
     ]
    },
    {
     "name": "stdout",
     "output_type": "stream",
     "text": [
      "Epoch 12: train loss :   0.138145   val loss :   0.157924   val score :   0.285260\n",
      "------ epoch:13 ------\n"
     ]
    },
    {
     "name": "stderr",
     "output_type": "stream",
     "text": [
      "100%|██████████| 252/252 [00:03<00:00, 64.62it/s]\n",
      "100%|██████████| 28/28 [00:00<00:00, 122.32it/s]\n",
      "100%|██████████| 943/943 [00:00<00:00, 2151.63it/s]\n"
     ]
    },
    {
     "name": "stdout",
     "output_type": "stream",
     "text": [
      "Epoch 13: train loss :   0.135422   val loss :   0.157979   val score :   0.281018\n",
      "------ epoch:14 ------\n"
     ]
    },
    {
     "name": "stderr",
     "output_type": "stream",
     "text": [
      "100%|██████████| 252/252 [00:03<00:00, 66.20it/s]\n",
      "100%|██████████| 28/28 [00:00<00:00, 115.99it/s]\n",
      "100%|██████████| 943/943 [00:00<00:00, 2087.73it/s]\n"
     ]
    },
    {
     "name": "stdout",
     "output_type": "stream",
     "text": [
      "Epoch 14: train loss :   0.132365   val loss :   0.158038   val score :   0.277837\n",
      "Epoch 00014: reducing learning rate of group 0 to 1.0000e-04.\n",
      "------ epoch:15 ------\n"
     ]
    },
    {
     "name": "stderr",
     "output_type": "stream",
     "text": [
      "100%|██████████| 252/252 [00:03<00:00, 65.65it/s]\n",
      "100%|██████████| 28/28 [00:00<00:00, 70.23it/s]\n",
      "100%|██████████| 943/943 [00:00<00:00, 2394.05it/s]\n"
     ]
    },
    {
     "name": "stdout",
     "output_type": "stream",
     "text": [
      "Epoch 15: train loss :   0.128532   val loss :   0.158042   val score :   0.276776\n"
     ]
    },
    {
     "name": "stderr",
     "output_type": "stream",
     "text": [
      "100%|██████████| 70/70 [00:00<00:00, 117.90it/s]\n",
      "100%|██████████| 943/943 [00:00<00:00, 1309.90it/s]\n"
     ]
    },
    {
     "name": "stdout",
     "output_type": "stream",
     "text": [
      "------ log loss of 3 fold : 0.15753038397857122 ------\n",
      "------ score of 3 fold : 0.2354188759278897 ------\n",
      "------ 第4折 ------\n",
      "------ epoch:1 ------\n"
     ]
    },
    {
     "name": "stderr",
     "output_type": "stream",
     "text": [
      "100%|██████████| 252/252 [00:03<00:00, 71.54it/s]\n",
      "100%|██████████| 28/28 [00:00<00:00, 70.29it/s]\n",
      "100%|██████████| 943/943 [00:00<00:00, 1470.34it/s]\n"
     ]
    },
    {
     "name": "stdout",
     "output_type": "stream",
     "text": [
      "Epoch 1: train loss :   0.706394   val loss :   0.355584   val score :   0.119830\n",
      "------ epoch:2 ------\n"
     ]
    },
    {
     "name": "stderr",
     "output_type": "stream",
     "text": [
      "100%|██████████| 252/252 [00:03<00:00, 64.06it/s]\n",
      "100%|██████████| 28/28 [00:00<00:00, 121.29it/s]\n",
      "100%|██████████| 943/943 [00:00<00:00, 1668.19it/s]\n"
     ]
    },
    {
     "name": "stdout",
     "output_type": "stream",
     "text": [
      "Epoch 2: train loss :   0.201788   val loss :   0.161522   val score :   0.220573\n",
      "------ epoch:3 ------\n"
     ]
    },
    {
     "name": "stderr",
     "output_type": "stream",
     "text": [
      "100%|██████████| 252/252 [00:03<00:00, 64.37it/s]\n",
      "100%|██████████| 28/28 [00:00<00:00, 122.94it/s]\n",
      "100%|██████████| 943/943 [00:00<00:00, 1791.90it/s]\n"
     ]
    },
    {
     "name": "stdout",
     "output_type": "stream",
     "text": [
      "Epoch 3: train loss :   0.156615   val loss :   0.157631   val score :   0.251326\n",
      "------ epoch:4 ------\n"
     ]
    },
    {
     "name": "stderr",
     "output_type": "stream",
     "text": [
      "100%|██████████| 252/252 [00:03<00:00, 65.50it/s]\n",
      "100%|██████████| 28/28 [00:00<00:00, 121.96it/s]\n",
      "100%|██████████| 943/943 [00:00<00:00, 2155.27it/s]\n"
     ]
    },
    {
     "name": "stdout",
     "output_type": "stream",
     "text": [
      "Epoch 4: train loss :   0.153337   val loss :   0.157508   val score :   0.257688\n",
      "------ epoch:5 ------\n"
     ]
    },
    {
     "name": "stderr",
     "output_type": "stream",
     "text": [
      "100%|██████████| 252/252 [00:03<00:00, 63.96it/s]\n",
      "100%|██████████| 28/28 [00:00<00:00, 69.72it/s] \n",
      "100%|██████████| 943/943 [00:00<00:00, 2151.63it/s]\n"
     ]
    },
    {
     "name": "stdout",
     "output_type": "stream",
     "text": [
      "Epoch 5: train loss :   0.151733   val loss :   0.157750   val score :   0.262990\n",
      "------ epoch:6 ------\n"
     ]
    },
    {
     "name": "stderr",
     "output_type": "stream",
     "text": [
      "100%|██████████| 252/252 [00:03<00:00, 65.95it/s]\n",
      "100%|██████████| 28/28 [00:00<00:00, 67.51it/s]\n",
      "100%|██████████| 943/943 [00:00<00:00, 2036.33it/s]\n"
     ]
    },
    {
     "name": "stdout",
     "output_type": "stream",
     "text": [
      "Epoch 6: train loss :   0.150808   val loss :   0.158050   val score :   0.270414\n",
      "------ epoch:7 ------\n"
     ]
    },
    {
     "name": "stderr",
     "output_type": "stream",
     "text": [
      "100%|██████████| 252/252 [00:03<00:00, 65.05it/s]\n",
      "100%|██████████| 28/28 [00:00<00:00, 113.05it/s]\n",
      "100%|██████████| 943/943 [00:00<00:00, 2134.25it/s]\n"
     ]
    },
    {
     "name": "stdout",
     "output_type": "stream",
     "text": [
      "Epoch 7: train loss :   0.149844   val loss :   0.158316   val score :   0.267232\n",
      "------ epoch:8 ------\n"
     ]
    },
    {
     "name": "stderr",
     "output_type": "stream",
     "text": [
      "100%|██████████| 252/252 [00:03<00:00, 65.81it/s]\n",
      "100%|██████████| 28/28 [00:00<00:00, 116.20it/s]\n",
      "100%|██████████| 943/943 [00:00<00:00, 2347.86it/s]\n"
     ]
    },
    {
     "name": "stdout",
     "output_type": "stream",
     "text": [
      "Epoch 8: train loss :   0.148372   val loss :   0.158475   val score :   0.266172\n",
      "------ epoch:9 ------\n"
     ]
    },
    {
     "name": "stderr",
     "output_type": "stream",
     "text": [
      "100%|██████████| 252/252 [00:04<00:00, 61.76it/s]\n",
      "100%|██████████| 28/28 [00:00<00:00, 114.21it/s]\n",
      "100%|██████████| 943/943 [00:00<00:00, 2103.19it/s]\n"
     ]
    },
    {
     "name": "stdout",
     "output_type": "stream",
     "text": [
      "Epoch 9: train loss :   0.147329   val loss :   0.158629   val score :   0.269353\n",
      "Epoch 00009: reducing learning rate of group 0 to 1.0000e-04.\n",
      "------ epoch:10 ------\n"
     ]
    },
    {
     "name": "stderr",
     "output_type": "stream",
     "text": [
      "100%|██████████| 252/252 [00:04<00:00, 62.99it/s]\n",
      "100%|██████████| 28/28 [00:00<00:00, 109.14it/s]\n",
      "100%|██████████| 943/943 [00:00<00:00, 2135.79it/s]\n"
     ]
    },
    {
     "name": "stdout",
     "output_type": "stream",
     "text": [
      "Epoch 10: train loss :   0.144492   val loss :   0.158641   val score :   0.269353\n"
     ]
    },
    {
     "name": "stderr",
     "output_type": "stream",
     "text": [
      "100%|██████████| 70/70 [00:00<00:00, 89.03it/s] \n",
      "100%|██████████| 943/943 [00:00<00:00, 2176.19it/s]\n"
     ]
    },
    {
     "name": "stdout",
     "output_type": "stream",
     "text": [
      "------ log loss of 4 fold : 0.15215790974242346 ------\n",
      "------ score of 4 fold : 0.23435843054082714 ------\n",
      "------ 第5折 ------\n",
      "------ epoch:1 ------\n"
     ]
    },
    {
     "name": "stderr",
     "output_type": "stream",
     "text": [
      "100%|██████████| 252/252 [00:04<00:00, 62.19it/s]\n",
      "100%|██████████| 28/28 [00:00<00:00, 69.71it/s] \n",
      "100%|██████████| 943/943 [00:00<00:00, 2096.10it/s]\n"
     ]
    },
    {
     "name": "stdout",
     "output_type": "stream",
     "text": [
      "Epoch 1: train loss :   0.706899   val loss :   0.361090   val score :   0.126193\n",
      "------ epoch:2 ------\n"
     ]
    },
    {
     "name": "stderr",
     "output_type": "stream",
     "text": [
      "100%|██████████| 252/252 [00:03<00:00, 68.99it/s]\n",
      "100%|██████████| 28/28 [00:00<00:00, 73.08it/s]\n",
      "100%|██████████| 943/943 [00:00<00:00, 2232.90it/s]\n"
     ]
    },
    {
     "name": "stdout",
     "output_type": "stream",
     "text": [
      "Epoch 2: train loss :   0.204539   val loss :   0.159942   val score :   0.213150\n",
      "------ epoch:3 ------\n"
     ]
    },
    {
     "name": "stderr",
     "output_type": "stream",
     "text": [
      "100%|██████████| 252/252 [00:03<00:00, 66.61it/s]\n",
      "100%|██████████| 28/28 [00:00<00:00, 128.65it/s]\n",
      "100%|██████████| 943/943 [00:00<00:00, 2248.97it/s]\n"
     ]
    },
    {
     "name": "stdout",
     "output_type": "stream",
     "text": [
      "Epoch 3: train loss :   0.156968   val loss :   0.155299   val score :   0.239661\n",
      "------ epoch:4 ------\n"
     ]
    },
    {
     "name": "stderr",
     "output_type": "stream",
     "text": [
      "100%|██████████| 252/252 [00:03<00:00, 68.89it/s]\n",
      "100%|██████████| 28/28 [00:00<00:00, 126.82it/s]\n",
      "100%|██████████| 943/943 [00:00<00:00, 2281.26it/s]\n"
     ]
    },
    {
     "name": "stdout",
     "output_type": "stream",
     "text": [
      "Epoch 4: train loss :   0.153376   val loss :   0.154646   val score :   0.249205\n",
      "------ epoch:5 ------\n"
     ]
    },
    {
     "name": "stderr",
     "output_type": "stream",
     "text": [
      "100%|██████████| 252/252 [00:03<00:00, 66.83it/s]\n",
      "100%|██████████| 28/28 [00:00<00:00, 116.11it/s]\n",
      "100%|██████████| 943/943 [00:00<00:00, 2199.31it/s]\n"
     ]
    },
    {
     "name": "stdout",
     "output_type": "stream",
     "text": [
      "Epoch 5: train loss :   0.151768   val loss :   0.154617   val score :   0.247084\n",
      "------ epoch:6 ------\n"
     ]
    },
    {
     "name": "stderr",
     "output_type": "stream",
     "text": [
      "100%|██████████| 252/252 [00:03<00:00, 68.34it/s]\n",
      "100%|██████████| 28/28 [00:00<00:00, 69.48it/s] \n",
      "100%|██████████| 943/943 [00:00<00:00, 2118.89it/s]\n"
     ]
    },
    {
     "name": "stdout",
     "output_type": "stream",
     "text": [
      "Epoch 6: train loss :   0.150052   val loss :   0.154551   val score :   0.250265\n",
      "------ epoch:7 ------\n"
     ]
    },
    {
     "name": "stderr",
     "output_type": "stream",
     "text": [
      "100%|██████████| 252/252 [00:04<00:00, 59.58it/s]\n",
      "100%|██████████| 28/28 [00:00<00:00, 68.76it/s]\n",
      "100%|██████████| 943/943 [00:00<00:00, 2178.21it/s]\n"
     ]
    },
    {
     "name": "stdout",
     "output_type": "stream",
     "text": [
      "Epoch 7: train loss :   0.148388   val loss :   0.154573   val score :   0.260870\n",
      "------ epoch:8 ------\n"
     ]
    },
    {
     "name": "stderr",
     "output_type": "stream",
     "text": [
      "100%|██████████| 252/252 [00:04<00:00, 60.90it/s]\n",
      "100%|██████████| 28/28 [00:00<00:00, 102.87it/s]\n",
      "100%|██████████| 943/943 [00:00<00:00, 2029.68it/s]\n"
     ]
    },
    {
     "name": "stdout",
     "output_type": "stream",
     "text": [
      "Epoch 8: train loss :   0.146965   val loss :   0.154449   val score :   0.259809\n",
      "------ epoch:9 ------\n"
     ]
    },
    {
     "name": "stderr",
     "output_type": "stream",
     "text": [
      "100%|██████████| 252/252 [00:04<00:00, 61.41it/s]\n",
      "100%|██████████| 28/28 [00:00<00:00, 124.72it/s]\n",
      "100%|██████████| 943/943 [00:00<00:00, 2153.18it/s]\n"
     ]
    },
    {
     "name": "stdout",
     "output_type": "stream",
     "text": [
      "Epoch 9: train loss :   0.145102   val loss :   0.154455   val score :   0.267232\n",
      "------ epoch:10 ------\n"
     ]
    },
    {
     "name": "stderr",
     "output_type": "stream",
     "text": [
      "100%|██████████| 252/252 [00:03<00:00, 66.35it/s]\n",
      "100%|██████████| 28/28 [00:00<00:00, 101.48it/s]\n",
      "100%|██████████| 943/943 [00:00<00:00, 2166.89it/s]\n"
     ]
    },
    {
     "name": "stdout",
     "output_type": "stream",
     "text": [
      "Epoch 10: train loss :   0.143200   val loss :   0.154366   val score :   0.269353\n",
      "------ epoch:11 ------\n"
     ]
    },
    {
     "name": "stderr",
     "output_type": "stream",
     "text": [
      "100%|██████████| 252/252 [00:04<00:00, 59.02it/s]\n",
      "100%|██████████| 28/28 [00:00<00:00, 118.09it/s]\n",
      "100%|██████████| 943/943 [00:00<00:00, 2064.42it/s]\n"
     ]
    },
    {
     "name": "stdout",
     "output_type": "stream",
     "text": [
      "Epoch 11: train loss :   0.140906   val loss :   0.154238   val score :   0.265111\n",
      "------ epoch:12 ------\n"
     ]
    },
    {
     "name": "stderr",
     "output_type": "stream",
     "text": [
      "100%|██████████| 252/252 [00:04<00:00, 56.91it/s]\n",
      "100%|██████████| 28/28 [00:00<00:00, 69.21it/s]\n",
      "100%|██████████| 943/943 [00:00<00:00, 2235.02it/s]\n"
     ]
    },
    {
     "name": "stdout",
     "output_type": "stream",
     "text": [
      "Epoch 12: train loss :   0.138579   val loss :   0.154021   val score :   0.262990\n",
      "------ epoch:13 ------\n"
     ]
    },
    {
     "name": "stderr",
     "output_type": "stream",
     "text": [
      "100%|██████████| 252/252 [00:03<00:00, 63.77it/s]\n",
      "100%|██████████| 28/28 [00:00<00:00, 120.45it/s]\n",
      "100%|██████████| 943/943 [00:00<00:00, 2159.74it/s]\n"
     ]
    },
    {
     "name": "stdout",
     "output_type": "stream",
     "text": [
      "Epoch 13: train loss :   0.136058   val loss :   0.154005   val score :   0.260870\n",
      "Epoch 00013: reducing learning rate of group 0 to 1.0000e-04.\n",
      "------ epoch:14 ------\n"
     ]
    },
    {
     "name": "stderr",
     "output_type": "stream",
     "text": [
      "100%|██████████| 252/252 [00:03<00:00, 63.19it/s]\n",
      "100%|██████████| 28/28 [00:00<00:00, 114.06it/s]\n",
      "100%|██████████| 943/943 [00:00<00:00, 1393.66it/s]\n"
     ]
    },
    {
     "name": "stdout",
     "output_type": "stream",
     "text": [
      "Epoch 14: train loss :   0.132328   val loss :   0.153985   val score :   0.259809\n"
     ]
    },
    {
     "name": "stderr",
     "output_type": "stream",
     "text": [
      "100%|██████████| 70/70 [00:00<00:00, 89.89it/s] \n",
      "100%|██████████| 943/943 [00:00<00:00, 2151.55it/s]\n"
     ]
    },
    {
     "name": "stdout",
     "output_type": "stream",
     "text": [
      "------ log loss of 5 fold : 0.15375595571739334 ------\n",
      "------ score of 5 fold : 0.26193001060445387 ------\n",
      "settings : power = 1, model type = 2\n",
      "parameters :  {'num_users': 943, 'num_items': 1682, 'embedding_dim': 50, 'lr': 0.001, 'alpha': 0.001, 'patience': 3, 'epochs': 30, 'device': 'cuda:0', 'model_selection': True}\n",
      "------ log loss of the model : 0.15293543917792182 ------\n",
      "------ score of the model : 0.24284199363732767 ------\n",
      "------ 第1折 ------\n",
      "------ epoch:1 ------\n"
     ]
    },
    {
     "name": "stderr",
     "output_type": "stream",
     "text": [
      "100%|██████████| 252/252 [00:04<00:00, 58.94it/s]\n",
      "100%|██████████| 28/28 [00:00<00:00, 115.55it/s]\n",
      "100%|██████████| 943/943 [00:00<00:00, 2357.06it/s]\n"
     ]
    },
    {
     "name": "stdout",
     "output_type": "stream",
     "text": [
      "Epoch 1: train loss :   0.300561   val loss :   0.159255   val score :   0.234358\n",
      "------ epoch:2 ------\n"
     ]
    },
    {
     "name": "stderr",
     "output_type": "stream",
     "text": [
      "100%|██████████| 252/252 [00:03<00:00, 64.07it/s]\n",
      "100%|██████████| 28/28 [00:00<00:00, 97.67it/s]\n",
      "100%|██████████| 943/943 [00:00<00:00, 2143.45it/s]\n"
     ]
    },
    {
     "name": "stdout",
     "output_type": "stream",
     "text": [
      "Epoch 2: train loss :   0.204991   val loss :   0.157378   val score :   0.242842\n",
      "------ epoch:3 ------\n"
     ]
    },
    {
     "name": "stderr",
     "output_type": "stream",
     "text": [
      "100%|██████████| 252/252 [00:03<00:00, 65.25it/s]\n",
      "100%|██████████| 28/28 [00:00<00:00, 117.27it/s]\n",
      "100%|██████████| 943/943 [00:00<00:00, 2042.36it/s]\n"
     ]
    },
    {
     "name": "stdout",
     "output_type": "stream",
     "text": [
      "Epoch 3: train loss :   0.187514   val loss :   0.154555   val score :   0.271474\n",
      "------ epoch:4 ------\n"
     ]
    },
    {
     "name": "stderr",
     "output_type": "stream",
     "text": [
      "100%|██████████| 252/252 [00:03<00:00, 64.19it/s]\n",
      "100%|██████████| 28/28 [00:00<00:00, 65.37it/s] \n",
      "100%|██████████| 943/943 [00:00<00:00, 2087.27it/s]\n"
     ]
    },
    {
     "name": "stdout",
     "output_type": "stream",
     "text": [
      "Epoch 4: train loss :   0.172880   val loss :   0.152535   val score :   0.272534\n",
      "------ epoch:5 ------\n"
     ]
    },
    {
     "name": "stderr",
     "output_type": "stream",
     "text": [
      "100%|██████████| 252/252 [00:03<00:00, 64.85it/s]\n",
      "100%|██████████| 28/28 [00:00<00:00, 112.63it/s]\n",
      "100%|██████████| 943/943 [00:00<00:00, 2164.37it/s]\n"
     ]
    },
    {
     "name": "stdout",
     "output_type": "stream",
     "text": [
      "Epoch 5: train loss :   0.162853   val loss :   0.151102   val score :   0.277837\n",
      "------ epoch:6 ------\n"
     ]
    },
    {
     "name": "stderr",
     "output_type": "stream",
     "text": [
      "100%|██████████| 252/252 [00:04<00:00, 61.86it/s]\n",
      "100%|██████████| 28/28 [00:00<00:00, 114.52it/s]\n",
      "100%|██████████| 943/943 [00:00<00:00, 2144.85it/s]\n"
     ]
    },
    {
     "name": "stdout",
     "output_type": "stream",
     "text": [
      "Epoch 6: train loss :   0.157756   val loss :   0.150306   val score :   0.285260\n",
      "------ epoch:7 ------\n"
     ]
    },
    {
     "name": "stderr",
     "output_type": "stream",
     "text": [
      "100%|██████████| 252/252 [00:04<00:00, 62.86it/s]\n",
      "100%|██████████| 28/28 [00:00<00:00, 100.34it/s]\n",
      "100%|██████████| 943/943 [00:00<00:00, 2002.35it/s]\n"
     ]
    },
    {
     "name": "stdout",
     "output_type": "stream",
     "text": [
      "Epoch 7: train loss :   0.155711   val loss :   0.149897   val score :   0.306469\n",
      "------ epoch:8 ------\n"
     ]
    },
    {
     "name": "stderr",
     "output_type": "stream",
     "text": [
      "100%|██████████| 252/252 [00:04<00:00, 59.55it/s]\n",
      "100%|██████████| 28/28 [00:00<00:00, 104.96it/s]\n",
      "100%|██████████| 943/943 [00:00<00:00, 2302.52it/s]\n"
     ]
    },
    {
     "name": "stdout",
     "output_type": "stream",
     "text": [
      "Epoch 8: train loss :   0.154730   val loss :   0.149781   val score :   0.289502\n",
      "------ epoch:9 ------\n"
     ]
    },
    {
     "name": "stderr",
     "output_type": "stream",
     "text": [
      "100%|██████████| 252/252 [00:03<00:00, 64.07it/s]\n",
      "100%|██████████| 28/28 [00:00<00:00, 67.44it/s] \n",
      "100%|██████████| 943/943 [00:00<00:00, 2118.13it/s]\n"
     ]
    },
    {
     "name": "stdout",
     "output_type": "stream",
     "text": [
      "Epoch 9: train loss :   0.153825   val loss :   0.149797   val score :   0.302227\n",
      "------ epoch:10 ------\n"
     ]
    },
    {
     "name": "stderr",
     "output_type": "stream",
     "text": [
      "100%|██████████| 252/252 [00:03<00:00, 66.39it/s]\n",
      "100%|██████████| 28/28 [00:00<00:00, 69.68it/s]\n",
      "100%|██████████| 943/943 [00:00<00:00, 2069.80it/s]\n"
     ]
    },
    {
     "name": "stdout",
     "output_type": "stream",
     "text": [
      "Epoch 10: train loss :   0.152181   val loss :   0.150105   val score :   0.299046\n",
      "Epoch 00010: reducing learning rate of group 0 to 1.0000e-03.\n",
      "------ epoch:11 ------\n"
     ]
    },
    {
     "name": "stderr",
     "output_type": "stream",
     "text": [
      "100%|██████████| 252/252 [00:03<00:00, 64.38it/s]\n",
      "100%|██████████| 28/28 [00:00<00:00, 117.86it/s]\n",
      "100%|██████████| 943/943 [00:00<00:00, 2283.02it/s]\n"
     ]
    },
    {
     "name": "stdout",
     "output_type": "stream",
     "text": [
      "Epoch 11: train loss :   0.139619   val loss :   0.150064   val score :   0.296925\n"
     ]
    },
    {
     "name": "stderr",
     "output_type": "stream",
     "text": [
      "100%|██████████| 70/70 [00:00<00:00, 90.02it/s] \n",
      "100%|██████████| 943/943 [00:00<00:00, 2190.18it/s]\n"
     ]
    },
    {
     "name": "stdout",
     "output_type": "stream",
     "text": [
      "------ log loss of 1 fold : 0.1436164844248976 ------\n",
      "------ score of 1 fold : 0.24284199363732767 ------\n",
      "------ 第2折 ------\n",
      "------ epoch:1 ------\n"
     ]
    },
    {
     "name": "stderr",
     "output_type": "stream",
     "text": [
      "100%|██████████| 252/252 [00:03<00:00, 64.09it/s]\n",
      "100%|██████████| 28/28 [00:00<00:00, 113.97it/s]\n",
      "100%|██████████| 943/943 [00:00<00:00, 2168.79it/s]\n"
     ]
    },
    {
     "name": "stdout",
     "output_type": "stream",
     "text": [
      "Epoch 1: train loss :   0.297122   val loss :   0.161482   val score :   0.230117\n",
      "------ epoch:2 ------\n"
     ]
    },
    {
     "name": "stderr",
     "output_type": "stream",
     "text": [
      "100%|██████████| 252/252 [00:03<00:00, 64.17it/s]\n",
      "100%|██████████| 28/28 [00:00<00:00, 111.76it/s]\n",
      "100%|██████████| 943/943 [00:00<00:00, 2245.56it/s]\n"
     ]
    },
    {
     "name": "stdout",
     "output_type": "stream",
     "text": [
      "Epoch 2: train loss :   0.203833   val loss :   0.157297   val score :   0.246023\n",
      "------ epoch:3 ------\n"
     ]
    },
    {
     "name": "stderr",
     "output_type": "stream",
     "text": [
      "100%|██████████| 252/252 [00:04<00:00, 59.12it/s]\n",
      "100%|██████████| 28/28 [00:00<00:00, 106.94it/s]\n",
      "100%|██████████| 943/943 [00:00<00:00, 1945.27it/s]\n"
     ]
    },
    {
     "name": "stdout",
     "output_type": "stream",
     "text": [
      "Epoch 3: train loss :   0.186402   val loss :   0.153918   val score :   0.267232\n",
      "------ epoch:4 ------\n"
     ]
    },
    {
     "name": "stderr",
     "output_type": "stream",
     "text": [
      "100%|██████████| 252/252 [00:04<00:00, 60.56it/s]\n",
      "100%|██████████| 28/28 [00:00<00:00, 113.95it/s]\n",
      "100%|██████████| 943/943 [00:00<00:00, 2313.13it/s]\n"
     ]
    },
    {
     "name": "stdout",
     "output_type": "stream",
     "text": [
      "Epoch 4: train loss :   0.171689   val loss :   0.151722   val score :   0.282078\n",
      "------ epoch:5 ------\n"
     ]
    },
    {
     "name": "stderr",
     "output_type": "stream",
     "text": [
      "100%|██████████| 252/252 [00:04<00:00, 62.84it/s]\n",
      "100%|██████████| 28/28 [00:00<00:00, 65.26it/s] \n",
      "100%|██████████| 943/943 [00:00<00:00, 2003.78it/s]\n"
     ]
    },
    {
     "name": "stdout",
     "output_type": "stream",
     "text": [
      "Epoch 5: train loss :   0.161696   val loss :   0.150266   val score :   0.290562\n",
      "------ epoch:6 ------\n"
     ]
    },
    {
     "name": "stderr",
     "output_type": "stream",
     "text": [
      "100%|██████████| 252/252 [00:03<00:00, 65.62it/s]\n",
      "100%|██████████| 28/28 [00:00<00:00, 66.88it/s]\n",
      "100%|██████████| 943/943 [00:00<00:00, 2370.19it/s]\n"
     ]
    },
    {
     "name": "stdout",
     "output_type": "stream",
     "text": [
      "Epoch 6: train loss :   0.156851   val loss :   0.149613   val score :   0.296925\n",
      "------ epoch:7 ------\n"
     ]
    },
    {
     "name": "stderr",
     "output_type": "stream",
     "text": [
      "100%|██████████| 252/252 [00:03<00:00, 64.41it/s]\n",
      "100%|██████████| 28/28 [00:00<00:00, 115.25it/s]\n",
      "100%|██████████| 943/943 [00:00<00:00, 2428.64it/s]\n"
     ]
    },
    {
     "name": "stdout",
     "output_type": "stream",
     "text": [
      "Epoch 7: train loss :   0.154641   val loss :   0.149117   val score :   0.292683\n",
      "------ epoch:8 ------\n"
     ]
    },
    {
     "name": "stderr",
     "output_type": "stream",
     "text": [
      "100%|██████████| 252/252 [00:03<00:00, 65.78it/s]\n",
      "100%|██████████| 28/28 [00:00<00:00, 113.97it/s]\n",
      "100%|██████████| 943/943 [00:00<00:00, 2333.59it/s]\n"
     ]
    },
    {
     "name": "stdout",
     "output_type": "stream",
     "text": [
      "Epoch 8: train loss :   0.153343   val loss :   0.148909   val score :   0.305408\n",
      "------ epoch:9 ------\n"
     ]
    },
    {
     "name": "stderr",
     "output_type": "stream",
     "text": [
      "100%|██████████| 252/252 [00:03<00:00, 64.54it/s]\n",
      "100%|██████████| 28/28 [00:00<00:00, 113.31it/s]\n",
      "100%|██████████| 943/943 [00:00<00:00, 2010.76it/s]\n"
     ]
    },
    {
     "name": "stdout",
     "output_type": "stream",
     "text": [
      "Epoch 9: train loss :   0.151706   val loss :   0.148966   val score :   0.289502\n",
      "------ epoch:10 ------\n"
     ]
    },
    {
     "name": "stderr",
     "output_type": "stream",
     "text": [
      "100%|██████████| 252/252 [00:04<00:00, 62.56it/s]\n",
      "100%|██████████| 28/28 [00:00<00:00, 110.38it/s]\n",
      "100%|██████████| 943/943 [00:00<00:00, 2019.63it/s]\n"
     ]
    },
    {
     "name": "stdout",
     "output_type": "stream",
     "text": [
      "Epoch 10: train loss :   0.148845   val loss :   0.148625   val score :   0.313892\n",
      "------ epoch:11 ------\n"
     ]
    },
    {
     "name": "stderr",
     "output_type": "stream",
     "text": [
      "100%|██████████| 252/252 [00:03<00:00, 64.84it/s]\n",
      "100%|██████████| 28/28 [00:00<00:00, 68.03it/s] \n",
      "100%|██████████| 943/943 [00:00<00:00, 2271.15it/s]\n"
     ]
    },
    {
     "name": "stdout",
     "output_type": "stream",
     "text": [
      "Epoch 11: train loss :   0.146857   val loss :   0.148828   val score :   0.303287\n",
      "------ epoch:12 ------\n"
     ]
    },
    {
     "name": "stderr",
     "output_type": "stream",
     "text": [
      "100%|██████████| 252/252 [00:03<00:00, 67.35it/s]\n",
      "100%|██████████| 28/28 [00:00<00:00, 69.49it/s]\n",
      "100%|██████████| 943/943 [00:00<00:00, 2103.38it/s]\n"
     ]
    },
    {
     "name": "stdout",
     "output_type": "stream",
     "text": [
      "Epoch 12: train loss :   0.148514   val loss :   0.148925   val score :   0.282078\n",
      "------ epoch:13 ------\n"
     ]
    },
    {
     "name": "stderr",
     "output_type": "stream",
     "text": [
      "100%|██████████| 252/252 [00:03<00:00, 63.94it/s]\n",
      "100%|██████████| 28/28 [00:00<00:00, 111.40it/s]\n",
      "100%|██████████| 943/943 [00:00<00:00, 2120.77it/s]\n"
     ]
    },
    {
     "name": "stdout",
     "output_type": "stream",
     "text": [
      "Epoch 13: train loss :   0.140239   val loss :   0.149097   val score :   0.285260\n",
      "Epoch 00013: reducing learning rate of group 0 to 1.0000e-03.\n",
      "------ epoch:14 ------\n"
     ]
    },
    {
     "name": "stderr",
     "output_type": "stream",
     "text": [
      "100%|██████████| 252/252 [00:04<00:00, 62.20it/s]\n",
      "100%|██████████| 28/28 [00:00<00:00, 114.39it/s]\n",
      "100%|██████████| 943/943 [00:00<00:00, 2395.76it/s]\n"
     ]
    },
    {
     "name": "stdout",
     "output_type": "stream",
     "text": [
      "Epoch 14: train loss :   0.125687   val loss :   0.149081   val score :   0.289502\n"
     ]
    },
    {
     "name": "stderr",
     "output_type": "stream",
     "text": [
      "100%|██████████| 70/70 [00:00<00:00, 88.67it/s] \n",
      "100%|██████████| 943/943 [00:00<00:00, 2210.43it/s]\n"
     ]
    },
    {
     "name": "stdout",
     "output_type": "stream",
     "text": [
      "------ log loss of 2 fold : 0.14817995790924346 ------\n",
      "------ score of 2 fold : 0.24284199363732767 ------\n",
      "------ 第3折 ------\n",
      "------ epoch:1 ------\n"
     ]
    },
    {
     "name": "stderr",
     "output_type": "stream",
     "text": [
      "100%|██████████| 252/252 [00:03<00:00, 63.53it/s]\n",
      "100%|██████████| 28/28 [00:00<00:00, 121.51it/s]\n",
      "100%|██████████| 943/943 [00:00<00:00, 2220.32it/s]\n"
     ]
    },
    {
     "name": "stdout",
     "output_type": "stream",
     "text": [
      "Epoch 1: train loss :   0.296222   val loss :   0.160036   val score :   0.236479\n",
      "------ epoch:2 ------\n"
     ]
    },
    {
     "name": "stderr",
     "output_type": "stream",
     "text": [
      "100%|██████████| 252/252 [00:03<00:00, 65.73it/s]\n",
      "100%|██████████| 28/28 [00:00<00:00, 97.50it/s] \n",
      "100%|██████████| 943/943 [00:00<00:00, 1681.66it/s]\n"
     ]
    },
    {
     "name": "stdout",
     "output_type": "stream",
     "text": [
      "Epoch 2: train loss :   0.203283   val loss :   0.157528   val score :   0.248144\n",
      "------ epoch:3 ------\n"
     ]
    },
    {
     "name": "stderr",
     "output_type": "stream",
     "text": [
      "100%|██████████| 252/252 [00:03<00:00, 67.38it/s]\n",
      "100%|██████████| 28/28 [00:00<00:00, 119.76it/s]\n",
      "100%|██████████| 943/943 [00:00<00:00, 1466.56it/s]\n"
     ]
    },
    {
     "name": "stdout",
     "output_type": "stream",
     "text": [
      "Epoch 3: train loss :   0.185827   val loss :   0.155468   val score :   0.254507\n",
      "------ epoch:4 ------\n"
     ]
    },
    {
     "name": "stderr",
     "output_type": "stream",
     "text": [
      "100%|██████████| 252/252 [00:03<00:00, 67.04it/s]\n",
      "100%|██████████| 28/28 [00:00<00:00, 69.43it/s] \n",
      "100%|██████████| 943/943 [00:00<00:00, 1753.88it/s]\n"
     ]
    },
    {
     "name": "stdout",
     "output_type": "stream",
     "text": [
      "Epoch 4: train loss :   0.171251   val loss :   0.153137   val score :   0.284199\n",
      "------ epoch:5 ------\n"
     ]
    },
    {
     "name": "stderr",
     "output_type": "stream",
     "text": [
      "100%|██████████| 252/252 [00:03<00:00, 68.52it/s]\n",
      "100%|██████████| 28/28 [00:00<00:00, 119.40it/s]\n",
      "100%|██████████| 943/943 [00:00<00:00, 2150.79it/s]\n"
     ]
    },
    {
     "name": "stdout",
     "output_type": "stream",
     "text": [
      "Epoch 5: train loss :   0.160974   val loss :   0.151392   val score :   0.271474\n",
      "------ epoch:6 ------\n"
     ]
    },
    {
     "name": "stderr",
     "output_type": "stream",
     "text": [
      "100%|██████████| 252/252 [00:03<00:00, 67.93it/s]\n",
      "100%|██████████| 28/28 [00:00<00:00, 118.45it/s]\n",
      "100%|██████████| 943/943 [00:00<00:00, 2222.04it/s]\n"
     ]
    },
    {
     "name": "stdout",
     "output_type": "stream",
     "text": [
      "Epoch 6: train loss :   0.156146   val loss :   0.150482   val score :   0.283139\n",
      "------ epoch:7 ------\n"
     ]
    },
    {
     "name": "stderr",
     "output_type": "stream",
     "text": [
      "100%|██████████| 252/252 [00:03<00:00, 66.94it/s]\n",
      "100%|██████████| 28/28 [00:00<00:00, 122.82it/s]\n",
      "100%|██████████| 943/943 [00:00<00:00, 2303.67it/s]\n"
     ]
    },
    {
     "name": "stdout",
     "output_type": "stream",
     "text": [
      "Epoch 7: train loss :   0.153838   val loss :   0.149875   val score :   0.288441\n",
      "------ epoch:8 ------\n"
     ]
    },
    {
     "name": "stderr",
     "output_type": "stream",
     "text": [
      "100%|██████████| 252/252 [00:03<00:00, 66.51it/s]\n",
      "100%|██████████| 28/28 [00:00<00:00, 119.80it/s]\n",
      "100%|██████████| 943/943 [00:00<00:00, 2205.19it/s]\n"
     ]
    },
    {
     "name": "stdout",
     "output_type": "stream",
     "text": [
      "Epoch 8: train loss :   0.152342   val loss :   0.149633   val score :   0.274655\n",
      "------ epoch:9 ------\n"
     ]
    },
    {
     "name": "stderr",
     "output_type": "stream",
     "text": [
      "100%|██████████| 252/252 [00:03<00:00, 67.35it/s]\n",
      "100%|██████████| 28/28 [00:00<00:00, 71.81it/s] \n",
      "100%|██████████| 943/943 [00:00<00:00, 2132.70it/s]\n"
     ]
    },
    {
     "name": "stdout",
     "output_type": "stream",
     "text": [
      "Epoch 9: train loss :   0.148020   val loss :   0.149979   val score :   0.278897\n",
      "------ epoch:10 ------\n"
     ]
    },
    {
     "name": "stderr",
     "output_type": "stream",
     "text": [
      "100%|██████████| 252/252 [00:03<00:00, 70.75it/s]\n",
      "100%|██████████| 28/28 [00:00<00:00, 70.91it/s]\n",
      "100%|██████████| 943/943 [00:00<00:00, 2101.68it/s]\n"
     ]
    },
    {
     "name": "stdout",
     "output_type": "stream",
     "text": [
      "Epoch 10: train loss :   0.147874   val loss :   0.150416   val score :   0.281018\n",
      "Epoch 00010: reducing learning rate of group 0 to 1.0000e-03.\n",
      "------ epoch:11 ------\n"
     ]
    },
    {
     "name": "stderr",
     "output_type": "stream",
     "text": [
      "100%|██████████| 252/252 [00:03<00:00, 65.36it/s]\n",
      "100%|██████████| 28/28 [00:00<00:00, 121.55it/s]\n",
      "100%|██████████| 943/943 [00:00<00:00, 2192.57it/s]\n"
     ]
    },
    {
     "name": "stdout",
     "output_type": "stream",
     "text": [
      "Epoch 11: train loss :   0.131258   val loss :   0.150264   val score :   0.278897\n"
     ]
    },
    {
     "name": "stderr",
     "output_type": "stream",
     "text": [
      "100%|██████████| 70/70 [00:00<00:00, 92.17it/s] \n",
      "100%|██████████| 943/943 [00:00<00:00, 2163.92it/s]\n"
     ]
    },
    {
     "name": "stdout",
     "output_type": "stream",
     "text": [
      "------ log loss of 3 fold : 0.15073270382625717 ------\n",
      "------ score of 3 fold : 0.25344644750795337 ------\n",
      "------ 第4折 ------\n",
      "------ epoch:1 ------\n"
     ]
    },
    {
     "name": "stderr",
     "output_type": "stream",
     "text": [
      "100%|██████████| 252/252 [00:03<00:00, 67.35it/s]\n",
      "100%|██████████| 28/28 [00:00<00:00, 112.90it/s]\n",
      "100%|██████████| 943/943 [00:00<00:00, 2242.42it/s]\n"
     ]
    },
    {
     "name": "stdout",
     "output_type": "stream",
     "text": [
      "Epoch 1: train loss :   0.297088   val loss :   0.161222   val score :   0.242842\n",
      "------ epoch:2 ------\n"
     ]
    },
    {
     "name": "stderr",
     "output_type": "stream",
     "text": [
      "100%|██████████| 252/252 [00:03<00:00, 64.99it/s]\n",
      "100%|██████████| 28/28 [00:00<00:00, 119.94it/s]\n",
      "100%|██████████| 943/943 [00:00<00:00, 2145.00it/s]\n"
     ]
    },
    {
     "name": "stdout",
     "output_type": "stream",
     "text": [
      "Epoch 2: train loss :   0.203248   val loss :   0.160281   val score :   0.250265\n",
      "------ epoch:3 ------\n"
     ]
    },
    {
     "name": "stderr",
     "output_type": "stream",
     "text": [
      "100%|██████████| 252/252 [00:03<00:00, 66.48it/s]\n",
      "100%|██████████| 28/28 [00:00<00:00, 115.92it/s]\n",
      "100%|██████████| 943/943 [00:00<00:00, 2012.03it/s]\n"
     ]
    },
    {
     "name": "stdout",
     "output_type": "stream",
     "text": [
      "Epoch 3: train loss :   0.186210   val loss :   0.156255   val score :   0.270414\n",
      "------ epoch:4 ------\n"
     ]
    },
    {
     "name": "stderr",
     "output_type": "stream",
     "text": [
      "100%|██████████| 252/252 [00:04<00:00, 57.88it/s]\n",
      "100%|██████████| 28/28 [00:00<00:00, 117.69it/s]\n",
      "100%|██████████| 943/943 [00:00<00:00, 2044.84it/s]\n"
     ]
    },
    {
     "name": "stdout",
     "output_type": "stream",
     "text": [
      "Epoch 4: train loss :   0.171815   val loss :   0.154041   val score :   0.281018\n",
      "------ epoch:5 ------\n"
     ]
    },
    {
     "name": "stderr",
     "output_type": "stream",
     "text": [
      "100%|██████████| 252/252 [00:03<00:00, 63.96it/s]\n",
      "100%|██████████| 28/28 [00:00<00:00, 70.39it/s] \n",
      "100%|██████████| 943/943 [00:00<00:00, 2431.72it/s]\n"
     ]
    },
    {
     "name": "stdout",
     "output_type": "stream",
     "text": [
      "Epoch 5: train loss :   0.161968   val loss :   0.152585   val score :   0.302227\n",
      "------ epoch:6 ------\n"
     ]
    },
    {
     "name": "stderr",
     "output_type": "stream",
     "text": [
      "100%|██████████| 252/252 [00:03<00:00, 65.96it/s]\n",
      "100%|██████████| 28/28 [00:00<00:00, 113.66it/s]\n",
      "100%|██████████| 943/943 [00:00<00:00, 2426.14it/s]\n"
     ]
    },
    {
     "name": "stdout",
     "output_type": "stream",
     "text": [
      "Epoch 6: train loss :   0.157116   val loss :   0.151461   val score :   0.305408\n",
      "------ epoch:7 ------\n"
     ]
    },
    {
     "name": "stderr",
     "output_type": "stream",
     "text": [
      "100%|██████████| 252/252 [00:03<00:00, 64.16it/s]\n",
      "100%|██████████| 28/28 [00:00<00:00, 115.37it/s]\n",
      "100%|██████████| 943/943 [00:00<00:00, 2378.68it/s]\n"
     ]
    },
    {
     "name": "stdout",
     "output_type": "stream",
     "text": [
      "Epoch 7: train loss :   0.154624   val loss :   0.150894   val score :   0.309650\n",
      "------ epoch:8 ------\n"
     ]
    },
    {
     "name": "stderr",
     "output_type": "stream",
     "text": [
      "100%|██████████| 252/252 [00:04<00:00, 62.73it/s]\n",
      "100%|██████████| 28/28 [00:00<00:00, 100.85it/s]\n",
      "100%|██████████| 943/943 [00:00<00:00, 1786.62it/s]\n"
     ]
    },
    {
     "name": "stdout",
     "output_type": "stream",
     "text": [
      "Epoch 8: train loss :   0.153550   val loss :   0.150984   val score :   0.304348\n",
      "------ epoch:9 ------\n"
     ]
    },
    {
     "name": "stderr",
     "output_type": "stream",
     "text": [
      "100%|██████████| 252/252 [00:03<00:00, 65.06it/s]\n",
      "100%|██████████| 28/28 [00:00<00:00, 112.99it/s]\n",
      "100%|██████████| 943/943 [00:00<00:00, 1614.90it/s]\n"
     ]
    },
    {
     "name": "stdout",
     "output_type": "stream",
     "text": [
      "Epoch 9: train loss :   0.152460   val loss :   0.150934   val score :   0.300106\n",
      "------ epoch:10 ------\n"
     ]
    },
    {
     "name": "stderr",
     "output_type": "stream",
     "text": [
      "100%|██████████| 252/252 [00:03<00:00, 64.66it/s]\n",
      "100%|██████████| 28/28 [00:00<00:00, 69.36it/s] \n",
      "100%|██████████| 943/943 [00:00<00:00, 1400.30it/s]\n"
     ]
    },
    {
     "name": "stdout",
     "output_type": "stream",
     "text": [
      "Epoch 10: train loss :   0.150844   val loss :   0.151023   val score :   0.311771\n",
      "------ epoch:11 ------\n"
     ]
    },
    {
     "name": "stderr",
     "output_type": "stream",
     "text": [
      "100%|██████████| 252/252 [00:03<00:00, 67.17it/s]\n",
      "100%|██████████| 28/28 [00:00<00:00, 67.34it/s]\n",
      "100%|██████████| 943/943 [00:00<00:00, 1595.29it/s]\n"
     ]
    },
    {
     "name": "stdout",
     "output_type": "stream",
     "text": [
      "Epoch 11: train loss :   0.149311   val loss :   0.151652   val score :   0.305408\n",
      "------ epoch:12 ------\n"
     ]
    },
    {
     "name": "stderr",
     "output_type": "stream",
     "text": [
      "100%|██████████| 252/252 [00:03<00:00, 65.13it/s]\n",
      "100%|██████████| 28/28 [00:00<00:00, 121.23it/s]\n",
      "100%|██████████| 943/943 [00:00<00:00, 2607.97it/s]\n"
     ]
    },
    {
     "name": "stdout",
     "output_type": "stream",
     "text": [
      "Epoch 12: train loss :   0.145307   val loss :   0.151800   val score :   0.299046\n",
      "------ epoch:13 ------\n"
     ]
    },
    {
     "name": "stderr",
     "output_type": "stream",
     "text": [
      "100%|██████████| 252/252 [00:03<00:00, 64.75it/s]\n",
      "100%|██████████| 28/28 [00:00<00:00, 117.69it/s]\n",
      "100%|██████████| 943/943 [00:00<00:00, 2533.29it/s]\n"
     ]
    },
    {
     "name": "stdout",
     "output_type": "stream",
     "text": [
      "Epoch 13: train loss :   0.144532   val loss :   0.152290   val score :   0.304348\n",
      "Epoch 00013: reducing learning rate of group 0 to 1.0000e-03.\n",
      "------ epoch:14 ------\n"
     ]
    },
    {
     "name": "stderr",
     "output_type": "stream",
     "text": [
      "100%|██████████| 252/252 [00:03<00:00, 67.49it/s]\n",
      "100%|██████████| 28/28 [00:00<00:00, 120.30it/s]\n",
      "100%|██████████| 943/943 [00:00<00:00, 2543.92it/s]\n"
     ]
    },
    {
     "name": "stdout",
     "output_type": "stream",
     "text": [
      "Epoch 14: train loss :   0.113467   val loss :   0.152176   val score :   0.306469\n"
     ]
    },
    {
     "name": "stderr",
     "output_type": "stream",
     "text": [
      "100%|██████████| 70/70 [00:00<00:00, 94.52it/s] \n",
      "100%|██████████| 943/943 [00:00<00:00, 1758.58it/s]\n"
     ]
    },
    {
     "name": "stdout",
     "output_type": "stream",
     "text": [
      "------ log loss of 4 fold : 0.14817211351224355 ------\n",
      "------ score of 4 fold : 0.2301166489925769 ------\n",
      "------ 第5折 ------\n",
      "------ epoch:1 ------\n"
     ]
    },
    {
     "name": "stderr",
     "output_type": "stream",
     "text": [
      "100%|██████████| 252/252 [00:03<00:00, 65.19it/s]\n",
      "100%|██████████| 28/28 [00:00<00:00, 120.28it/s]\n",
      "100%|██████████| 943/943 [00:00<00:00, 2392.24it/s]\n"
     ]
    },
    {
     "name": "stdout",
     "output_type": "stream",
     "text": [
      "Epoch 1: train loss :   0.300399   val loss :   0.160179   val score :   0.216331\n",
      "------ epoch:2 ------\n"
     ]
    },
    {
     "name": "stderr",
     "output_type": "stream",
     "text": [
      "100%|██████████| 252/252 [00:03<00:00, 64.52it/s]\n",
      "100%|██████████| 28/28 [00:00<00:00, 71.40it/s] \n",
      "100%|██████████| 943/943 [00:00<00:00, 2389.97it/s]\n"
     ]
    },
    {
     "name": "stdout",
     "output_type": "stream",
     "text": [
      "Epoch 2: train loss :   0.204662   val loss :   0.157384   val score :   0.222694\n",
      "------ epoch:3 ------\n"
     ]
    },
    {
     "name": "stderr",
     "output_type": "stream",
     "text": [
      "100%|██████████| 252/252 [00:03<00:00, 66.75it/s]\n",
      "100%|██████████| 28/28 [00:00<00:00, 70.34it/s]\n",
      "100%|██████████| 943/943 [00:00<00:00, 2464.81it/s]\n"
     ]
    },
    {
     "name": "stdout",
     "output_type": "stream",
     "text": [
      "Epoch 3: train loss :   0.187076   val loss :   0.153693   val score :   0.251326\n",
      "------ epoch:4 ------\n"
     ]
    },
    {
     "name": "stderr",
     "output_type": "stream",
     "text": [
      "100%|██████████| 252/252 [00:03<00:00, 64.62it/s]\n",
      "100%|██████████| 28/28 [00:00<00:00, 118.20it/s]\n",
      "100%|██████████| 943/943 [00:00<00:00, 2636.75it/s]\n"
     ]
    },
    {
     "name": "stdout",
     "output_type": "stream",
     "text": [
      "Epoch 4: train loss :   0.172097   val loss :   0.152204   val score :   0.248144\n",
      "------ epoch:5 ------\n"
     ]
    },
    {
     "name": "stderr",
     "output_type": "stream",
     "text": [
      "100%|██████████| 252/252 [00:03<00:00, 65.68it/s]\n",
      "100%|██████████| 28/28 [00:00<00:00, 115.74it/s]\n",
      "100%|██████████| 943/943 [00:00<00:00, 2267.73it/s]\n"
     ]
    },
    {
     "name": "stdout",
     "output_type": "stream",
     "text": [
      "Epoch 5: train loss :   0.162174   val loss :   0.150747   val score :   0.267232\n",
      "------ epoch:6 ------\n"
     ]
    },
    {
     "name": "stderr",
     "output_type": "stream",
     "text": [
      "100%|██████████| 252/252 [00:03<00:00, 63.47it/s]\n",
      "100%|██████████| 28/28 [00:00<00:00, 114.94it/s]\n",
      "100%|██████████| 943/943 [00:00<00:00, 2659.31it/s]\n"
     ]
    },
    {
     "name": "stdout",
     "output_type": "stream",
     "text": [
      "Epoch 6: train loss :   0.156626   val loss :   0.149811   val score :   0.274655\n",
      "------ epoch:7 ------\n"
     ]
    },
    {
     "name": "stderr",
     "output_type": "stream",
     "text": [
      "100%|██████████| 252/252 [00:04<00:00, 62.76it/s]\n",
      "100%|██████████| 28/28 [00:00<00:00, 70.29it/s] \n",
      "100%|██████████| 943/943 [00:00<00:00, 2353.68it/s]\n"
     ]
    },
    {
     "name": "stdout",
     "output_type": "stream",
     "text": [
      "Epoch 7: train loss :   0.154096   val loss :   0.149397   val score :   0.281018\n",
      "------ epoch:8 ------\n"
     ]
    },
    {
     "name": "stderr",
     "output_type": "stream",
     "text": [
      "100%|██████████| 252/252 [00:03<00:00, 65.14it/s]\n",
      "100%|██████████| 28/28 [00:00<00:00, 64.80it/s]\n",
      "100%|██████████| 943/943 [00:00<00:00, 2349.53it/s]\n"
     ]
    },
    {
     "name": "stdout",
     "output_type": "stream",
     "text": [
      "Epoch 8: train loss :   0.152865   val loss :   0.149291   val score :   0.273595\n",
      "------ epoch:9 ------\n"
     ]
    },
    {
     "name": "stderr",
     "output_type": "stream",
     "text": [
      "100%|██████████| 252/252 [00:04<00:00, 62.95it/s]\n",
      "100%|██████████| 28/28 [00:00<00:00, 112.44it/s]\n",
      "100%|██████████| 943/943 [00:00<00:00, 2654.08it/s]\n"
     ]
    },
    {
     "name": "stdout",
     "output_type": "stream",
     "text": [
      "Epoch 9: train loss :   0.152095   val loss :   0.149107   val score :   0.283139\n",
      "------ epoch:10 ------\n"
     ]
    },
    {
     "name": "stderr",
     "output_type": "stream",
     "text": [
      "100%|██████████| 252/252 [00:03<00:00, 65.99it/s]\n",
      "100%|██████████| 28/28 [00:00<00:00, 119.71it/s]\n",
      "100%|██████████| 943/943 [00:00<00:00, 2435.96it/s]\n"
     ]
    },
    {
     "name": "stdout",
     "output_type": "stream",
     "text": [
      "Epoch 10: train loss :   0.150062   val loss :   0.149489   val score :   0.275716\n",
      "------ epoch:11 ------\n"
     ]
    },
    {
     "name": "stderr",
     "output_type": "stream",
     "text": [
      "100%|██████████| 252/252 [00:03<00:00, 65.14it/s]\n",
      "100%|██████████| 28/28 [00:00<00:00, 117.55it/s]\n",
      "100%|██████████| 943/943 [00:00<00:00, 2453.32it/s]\n"
     ]
    },
    {
     "name": "stdout",
     "output_type": "stream",
     "text": [
      "Epoch 11: train loss :   0.148171   val loss :   0.149888   val score :   0.267232\n",
      "------ epoch:12 ------\n"
     ]
    },
    {
     "name": "stderr",
     "output_type": "stream",
     "text": [
      "100%|██████████| 252/252 [00:03<00:00, 66.26it/s]\n",
      "100%|██████████| 28/28 [00:00<00:00, 115.54it/s]\n",
      "100%|██████████| 943/943 [00:00<00:00, 2393.57it/s]\n"
     ]
    },
    {
     "name": "stdout",
     "output_type": "stream",
     "text": [
      "Epoch 12: train loss :   0.144892   val loss :   0.150316   val score :   0.276776\n",
      "Epoch 00012: reducing learning rate of group 0 to 1.0000e-03.\n",
      "------ epoch:13 ------\n"
     ]
    },
    {
     "name": "stderr",
     "output_type": "stream",
     "text": [
      "100%|██████████| 252/252 [00:03<00:00, 67.14it/s]\n",
      "100%|██████████| 28/28 [00:00<00:00, 69.38it/s] \n",
      "100%|██████████| 943/943 [00:00<00:00, 2397.20it/s]\n"
     ]
    },
    {
     "name": "stdout",
     "output_type": "stream",
     "text": [
      "Epoch 13: train loss :   0.131275   val loss :   0.150250   val score :   0.273595\n"
     ]
    },
    {
     "name": "stderr",
     "output_type": "stream",
     "text": [
      "100%|██████████| 70/70 [00:00<00:00, 118.45it/s]\n",
      "100%|██████████| 943/943 [00:00<00:00, 2476.68it/s]\n"
     ]
    },
    {
     "name": "stdout",
     "output_type": "stream",
     "text": [
      "------ log loss of 5 fold : 0.1498128996363708 ------\n",
      "------ score of 5 fold : 0.26935312831389185 ------\n",
      "settings : power = 1, model type = 2\n",
      "parameters :  {'num_users': 943, 'num_items': 1682, 'embedding_dim': 50, 'lr': 0.01, 'alpha': 0.01, 'patience': 3, 'epochs': 30, 'device': 'cuda:0', 'model_selection': True}\n",
      "------ log loss of the model : 0.1481028318618025 ------\n",
      "------ score of the model : 0.24772004241781548 ------\n",
      "------ 第1折 ------\n",
      "------ epoch:1 ------\n"
     ]
    },
    {
     "name": "stderr",
     "output_type": "stream",
     "text": [
      "100%|██████████| 252/252 [00:04<00:00, 62.73it/s]\n",
      "100%|██████████| 28/28 [00:00<00:00, 68.29it/s] \n",
      "100%|██████████| 943/943 [00:00<00:00, 1588.19it/s]\n"
     ]
    },
    {
     "name": "stdout",
     "output_type": "stream",
     "text": [
      "Epoch 1: train loss :   0.213324   val loss :   0.161013   val score :   0.194062\n",
      "------ epoch:2 ------\n"
     ]
    },
    {
     "name": "stderr",
     "output_type": "stream",
     "text": [
      "100%|██████████| 252/252 [00:04<00:00, 62.20it/s]\n",
      "100%|██████████| 28/28 [00:00<00:00, 114.19it/s]\n",
      "100%|██████████| 943/943 [00:00<00:00, 1592.04it/s]\n"
     ]
    },
    {
     "name": "stdout",
     "output_type": "stream",
     "text": [
      "Epoch 2: train loss :   0.187384   val loss :   0.160104   val score :   0.194062\n",
      "------ epoch:3 ------\n"
     ]
    },
    {
     "name": "stderr",
     "output_type": "stream",
     "text": [
      "100%|██████████| 252/252 [00:04<00:00, 59.37it/s]\n",
      "100%|██████████| 28/28 [00:00<00:00, 110.79it/s]\n",
      "100%|██████████| 943/943 [00:00<00:00, 2537.78it/s]\n"
     ]
    },
    {
     "name": "stdout",
     "output_type": "stream",
     "text": [
      "Epoch 3: train loss :   0.187518   val loss :   0.160678   val score :   0.187699\n",
      "------ epoch:4 ------\n"
     ]
    },
    {
     "name": "stderr",
     "output_type": "stream",
     "text": [
      "100%|██████████| 252/252 [00:03<00:00, 64.08it/s]\n",
      "100%|██████████| 28/28 [00:00<00:00, 111.76it/s]\n",
      "100%|██████████| 943/943 [00:00<00:00, 2698.56it/s]\n"
     ]
    },
    {
     "name": "stdout",
     "output_type": "stream",
     "text": [
      "Epoch 4: train loss :   0.187147   val loss :   0.160767   val score :   0.179215\n",
      "Epoch 00004: reducing learning rate of group 0 to 1.0000e-02.\n",
      "------ epoch:5 ------\n"
     ]
    },
    {
     "name": "stderr",
     "output_type": "stream",
     "text": [
      "100%|██████████| 252/252 [00:03<00:00, 64.92it/s]\n",
      "100%|██████████| 28/28 [00:00<00:00, 117.26it/s]\n",
      "100%|██████████| 943/943 [00:00<00:00, 2435.10it/s]\n"
     ]
    },
    {
     "name": "stdout",
     "output_type": "stream",
     "text": [
      "Epoch 5: train loss :   0.163772   val loss :   0.159404   val score :   0.294804\n",
      "------ epoch:6 ------\n"
     ]
    },
    {
     "name": "stderr",
     "output_type": "stream",
     "text": [
      "100%|██████████| 252/252 [00:04<00:00, 62.07it/s]\n",
      "100%|██████████| 28/28 [00:00<00:00, 69.26it/s] \n",
      "100%|██████████| 943/943 [00:00<00:00, 2477.35it/s]\n"
     ]
    },
    {
     "name": "stdout",
     "output_type": "stream",
     "text": [
      "Epoch 6: train loss :   0.161173   val loss :   0.159319   val score :   0.304348\n",
      "------ epoch:7 ------\n"
     ]
    },
    {
     "name": "stderr",
     "output_type": "stream",
     "text": [
      "100%|██████████| 252/252 [00:04<00:00, 62.49it/s]\n",
      "100%|██████████| 28/28 [00:00<00:00, 116.03it/s]\n",
      "100%|██████████| 943/943 [00:00<00:00, 2635.85it/s]\n"
     ]
    },
    {
     "name": "stdout",
     "output_type": "stream",
     "text": [
      "Epoch 7: train loss :   0.161053   val loss :   0.159346   val score :   0.319194\n",
      "------ epoch:8 ------\n"
     ]
    },
    {
     "name": "stderr",
     "output_type": "stream",
     "text": [
      "100%|██████████| 252/252 [00:04<00:00, 58.65it/s]\n",
      "100%|██████████| 28/28 [00:00<00:00, 114.70it/s]\n",
      "100%|██████████| 943/943 [00:00<00:00, 2498.65it/s]\n"
     ]
    },
    {
     "name": "stdout",
     "output_type": "stream",
     "text": [
      "Epoch 8: train loss :   0.161265   val loss :   0.159416   val score :   0.312831\n",
      "------ epoch:9 ------\n"
     ]
    },
    {
     "name": "stderr",
     "output_type": "stream",
     "text": [
      "100%|██████████| 252/252 [00:04<00:00, 61.76it/s]\n",
      "100%|██████████| 28/28 [00:00<00:00, 113.09it/s]\n",
      "100%|██████████| 943/943 [00:00<00:00, 2436.08it/s]\n"
     ]
    },
    {
     "name": "stdout",
     "output_type": "stream",
     "text": [
      "Epoch 9: train loss :   0.161059   val loss :   0.159522   val score :   0.302227\n",
      "------ epoch:10 ------\n"
     ]
    },
    {
     "name": "stderr",
     "output_type": "stream",
     "text": [
      "100%|██████████| 252/252 [00:04<00:00, 61.50it/s]\n",
      "100%|██████████| 28/28 [00:00<00:00, 117.42it/s]\n",
      "100%|██████████| 943/943 [00:00<00:00, 2676.97it/s]\n"
     ]
    },
    {
     "name": "stdout",
     "output_type": "stream",
     "text": [
      "Epoch 10: train loss :   0.161116   val loss :   0.159365   val score :   0.296925\n",
      "Epoch 00010: reducing learning rate of group 0 to 1.0000e-03.\n",
      "------ epoch:11 ------\n"
     ]
    },
    {
     "name": "stderr",
     "output_type": "stream",
     "text": [
      "100%|██████████| 252/252 [00:03<00:00, 65.46it/s]\n",
      "100%|██████████| 28/28 [00:00<00:00, 120.21it/s]\n",
      "100%|██████████| 943/943 [00:00<00:00, 2691.90it/s]\n"
     ]
    },
    {
     "name": "stdout",
     "output_type": "stream",
     "text": [
      "Epoch 11: train loss :   0.160199   val loss :   0.159350   val score :   0.296925\n"
     ]
    },
    {
     "name": "stderr",
     "output_type": "stream",
     "text": [
      "100%|██████████| 70/70 [00:00<00:00, 85.37it/s]\n",
      "100%|██████████| 943/943 [00:00<00:00, 2728.95it/s]\n"
     ]
    },
    {
     "name": "stdout",
     "output_type": "stream",
     "text": [
      "------ log loss of 1 fold : 0.1529566575373922 ------\n",
      "------ score of 1 fold : 0.2513255567338282 ------\n",
      "------ 第2折 ------\n",
      "------ epoch:1 ------\n"
     ]
    },
    {
     "name": "stderr",
     "output_type": "stream",
     "text": [
      "100%|██████████| 252/252 [00:03<00:00, 63.67it/s]\n",
      "100%|██████████| 28/28 [00:00<00:00, 114.77it/s]\n",
      "100%|██████████| 943/943 [00:00<00:00, 1250.28it/s]\n"
     ]
    },
    {
     "name": "stdout",
     "output_type": "stream",
     "text": [
      "Epoch 1: train loss :   0.212169   val loss :   0.161210   val score :   0.219512\n",
      "------ epoch:2 ------\n"
     ]
    },
    {
     "name": "stderr",
     "output_type": "stream",
     "text": [
      "100%|██████████| 252/252 [00:03<00:00, 66.68it/s]\n",
      "100%|██████████| 28/28 [00:00<00:00, 111.53it/s]\n",
      "100%|██████████| 943/943 [00:00<00:00, 3544.31it/s]\n"
     ]
    },
    {
     "name": "stdout",
     "output_type": "stream",
     "text": [
      "Epoch 2: train loss :   0.183950   val loss :   0.161122   val score :   0.186638\n",
      "------ epoch:3 ------\n"
     ]
    },
    {
     "name": "stderr",
     "output_type": "stream",
     "text": [
      "100%|██████████| 252/252 [00:02<00:00, 84.85it/s]\n",
      "100%|██████████| 28/28 [00:00<00:00, 144.67it/s]\n",
      "100%|██████████| 943/943 [00:00<00:00, 2642.59it/s]\n"
     ]
    },
    {
     "name": "stdout",
     "output_type": "stream",
     "text": [
      "Epoch 3: train loss :   0.188162   val loss :   0.160937   val score :   0.171792\n",
      "------ epoch:4 ------\n"
     ]
    },
    {
     "name": "stderr",
     "output_type": "stream",
     "text": [
      "100%|██████████| 252/252 [00:03<00:00, 80.56it/s]\n",
      "100%|██████████| 28/28 [00:00<00:00, 140.34it/s]\n",
      "100%|██████████| 943/943 [00:00<00:00, 2846.62it/s]\n"
     ]
    },
    {
     "name": "stdout",
     "output_type": "stream",
     "text": [
      "Epoch 4: train loss :   0.184913   val loss :   0.160510   val score :   0.182397\n",
      "Epoch 00004: reducing learning rate of group 0 to 1.0000e-02.\n",
      "------ epoch:5 ------\n"
     ]
    },
    {
     "name": "stderr",
     "output_type": "stream",
     "text": [
      "100%|██████████| 252/252 [00:03<00:00, 80.60it/s]\n",
      "100%|██████████| 28/28 [00:00<00:00, 148.18it/s]\n",
      "100%|██████████| 943/943 [00:00<00:00, 2505.97it/s]\n"
     ]
    },
    {
     "name": "stdout",
     "output_type": "stream",
     "text": [
      "Epoch 5: train loss :   0.162818   val loss :   0.159117   val score :   0.287381\n",
      "------ epoch:6 ------\n"
     ]
    },
    {
     "name": "stderr",
     "output_type": "stream",
     "text": [
      "100%|██████████| 252/252 [00:03<00:00, 73.63it/s]\n",
      "100%|██████████| 28/28 [00:00<00:00, 144.25it/s]\n",
      "100%|██████████| 943/943 [00:00<00:00, 2834.91it/s]\n"
     ]
    },
    {
     "name": "stdout",
     "output_type": "stream",
     "text": [
      "Epoch 6: train loss :   0.160279   val loss :   0.159165   val score :   0.302227\n",
      "------ epoch:7 ------\n"
     ]
    },
    {
     "name": "stderr",
     "output_type": "stream",
     "text": [
      "100%|██████████| 252/252 [00:03<00:00, 81.04it/s]\n",
      "100%|██████████| 28/28 [00:00<00:00, 84.95it/s]\n",
      "100%|██████████| 943/943 [00:00<00:00, 2597.06it/s]\n"
     ]
    },
    {
     "name": "stdout",
     "output_type": "stream",
     "text": [
      "Epoch 7: train loss :   0.160277   val loss :   0.159144   val score :   0.294804\n",
      "------ epoch:8 ------\n"
     ]
    },
    {
     "name": "stderr",
     "output_type": "stream",
     "text": [
      "100%|██████████| 252/252 [00:03<00:00, 81.63it/s]\n",
      "100%|██████████| 28/28 [00:00<00:00, 141.74it/s]\n",
      "100%|██████████| 943/943 [00:00<00:00, 2624.03it/s]\n"
     ]
    },
    {
     "name": "stdout",
     "output_type": "stream",
     "text": [
      "Epoch 8: train loss :   0.160067   val loss :   0.159158   val score :   0.306469\n",
      "------ epoch:9 ------\n"
     ]
    },
    {
     "name": "stderr",
     "output_type": "stream",
     "text": [
      "100%|██████████| 252/252 [00:03<00:00, 80.83it/s]\n",
      "100%|██████████| 28/28 [00:00<00:00, 144.09it/s]\n",
      "100%|██████████| 943/943 [00:00<00:00, 2722.40it/s]\n"
     ]
    },
    {
     "name": "stdout",
     "output_type": "stream",
     "text": [
      "Epoch 9: train loss :   0.160178   val loss :   0.159276   val score :   0.294804\n",
      "------ epoch:10 ------\n"
     ]
    },
    {
     "name": "stderr",
     "output_type": "stream",
     "text": [
      "100%|██████████| 252/252 [00:03<00:00, 80.73it/s]\n",
      "100%|██████████| 28/28 [00:00<00:00, 143.80it/s]\n",
      "100%|██████████| 943/943 [00:00<00:00, 2633.59it/s]\n"
     ]
    },
    {
     "name": "stdout",
     "output_type": "stream",
     "text": [
      "Epoch 10: train loss :   0.160124   val loss :   0.159096   val score :   0.300106\n",
      "------ epoch:11 ------\n"
     ]
    },
    {
     "name": "stderr",
     "output_type": "stream",
     "text": [
      "100%|██████████| 252/252 [00:03<00:00, 73.32it/s]\n",
      "100%|██████████| 28/28 [00:00<00:00, 116.78it/s]\n",
      "100%|██████████| 943/943 [00:00<00:00, 2659.65it/s]\n"
     ]
    },
    {
     "name": "stdout",
     "output_type": "stream",
     "text": [
      "Epoch 11: train loss :   0.160185   val loss :   0.159161   val score :   0.294804\n",
      "Epoch 00011: reducing learning rate of group 0 to 1.0000e-03.\n",
      "------ epoch:12 ------\n"
     ]
    },
    {
     "name": "stderr",
     "output_type": "stream",
     "text": [
      "100%|██████████| 252/252 [00:03<00:00, 67.55it/s]\n",
      "100%|██████████| 28/28 [00:00<00:00, 75.65it/s] \n",
      "100%|██████████| 943/943 [00:00<00:00, 1829.63it/s]\n"
     ]
    },
    {
     "name": "stdout",
     "output_type": "stream",
     "text": [
      "Epoch 12: train loss :   0.159158   val loss :   0.159130   val score :   0.306469\n"
     ]
    },
    {
     "name": "stderr",
     "output_type": "stream",
     "text": [
      "100%|██████████| 70/70 [00:00<00:00, 135.08it/s]\n",
      "100%|██████████| 943/943 [00:00<00:00, 2689.75it/s]\n"
     ]
    },
    {
     "name": "stdout",
     "output_type": "stream",
     "text": [
      "------ log loss of 2 fold : 0.15659833497234754 ------\n",
      "------ score of 2 fold : 0.2545068928950159 ------\n",
      "------ 第3折 ------\n",
      "------ epoch:1 ------\n"
     ]
    },
    {
     "name": "stderr",
     "output_type": "stream",
     "text": [
      "100%|██████████| 252/252 [00:03<00:00, 70.46it/s]\n",
      "100%|██████████| 28/28 [00:00<00:00, 133.45it/s]\n",
      "100%|██████████| 943/943 [00:00<00:00, 2618.87it/s]\n"
     ]
    },
    {
     "name": "stdout",
     "output_type": "stream",
     "text": [
      "Epoch 1: train loss :   0.211754   val loss :   0.159575   val score :   0.190880\n",
      "------ epoch:2 ------\n"
     ]
    },
    {
     "name": "stderr",
     "output_type": "stream",
     "text": [
      "100%|██████████| 252/252 [00:03<00:00, 70.71it/s]\n",
      "100%|██████████| 28/28 [00:00<00:00, 73.80it/s] \n",
      "100%|██████████| 943/943 [00:00<00:00, 2390.56it/s]\n"
     ]
    },
    {
     "name": "stdout",
     "output_type": "stream",
     "text": [
      "Epoch 2: train loss :   0.184371   val loss :   0.160039   val score :   0.162248\n",
      "------ epoch:3 ------\n"
     ]
    },
    {
     "name": "stderr",
     "output_type": "stream",
     "text": [
      "100%|██████████| 252/252 [00:03<00:00, 73.96it/s]\n",
      "100%|██████████| 28/28 [00:00<00:00, 75.95it/s]\n",
      "100%|██████████| 943/943 [00:00<00:00, 2709.92it/s]\n"
     ]
    },
    {
     "name": "stdout",
     "output_type": "stream",
     "text": [
      "Epoch 3: train loss :   0.185840   val loss :   0.159536   val score :   0.193001\n",
      "------ epoch:4 ------\n"
     ]
    },
    {
     "name": "stderr",
     "output_type": "stream",
     "text": [
      "100%|██████████| 252/252 [00:03<00:00, 73.44it/s]\n",
      "100%|██████████| 28/28 [00:00<00:00, 119.10it/s]\n",
      "100%|██████████| 943/943 [00:00<00:00, 2886.09it/s]\n"
     ]
    },
    {
     "name": "stdout",
     "output_type": "stream",
     "text": [
      "Epoch 4: train loss :   0.183887   val loss :   0.160016   val score :   0.178155\n",
      "------ epoch:5 ------\n"
     ]
    },
    {
     "name": "stderr",
     "output_type": "stream",
     "text": [
      "100%|██████████| 252/252 [00:03<00:00, 70.47it/s]\n",
      "100%|██████████| 28/28 [00:00<00:00, 134.54it/s]\n",
      "100%|██████████| 943/943 [00:00<00:00, 2905.11it/s]\n"
     ]
    },
    {
     "name": "stdout",
     "output_type": "stream",
     "text": [
      "Epoch 5: train loss :   0.182641   val loss :   0.160036   val score :   0.208908\n",
      "------ epoch:6 ------\n"
     ]
    },
    {
     "name": "stderr",
     "output_type": "stream",
     "text": [
      "100%|██████████| 252/252 [00:03<00:00, 70.01it/s]\n",
      "100%|██████████| 28/28 [00:00<00:00, 129.80it/s]\n",
      "100%|██████████| 943/943 [00:00<00:00, 2884.80it/s]\n"
     ]
    },
    {
     "name": "stdout",
     "output_type": "stream",
     "text": [
      "Epoch 6: train loss :   0.185402   val loss :   0.160513   val score :   0.169671\n",
      "------ epoch:7 ------\n"
     ]
    },
    {
     "name": "stderr",
     "output_type": "stream",
     "text": [
      "100%|██████████| 252/252 [00:03<00:00, 69.74it/s]\n",
      "100%|██████████| 28/28 [00:00<00:00, 134.79it/s]\n",
      "100%|██████████| 943/943 [00:00<00:00, 2606.70it/s]\n"
     ]
    },
    {
     "name": "stdout",
     "output_type": "stream",
     "text": [
      "Epoch 7: train loss :   0.183906   val loss :   0.160431   val score :   0.170732\n",
      "------ epoch:8 ------\n"
     ]
    },
    {
     "name": "stderr",
     "output_type": "stream",
     "text": [
      "100%|██████████| 252/252 [00:03<00:00, 73.06it/s]\n",
      "100%|██████████| 28/28 [00:00<00:00, 75.98it/s] \n",
      "100%|██████████| 943/943 [00:00<00:00, 2602.14it/s]\n"
     ]
    },
    {
     "name": "stdout",
     "output_type": "stream",
     "text": [
      "Epoch 8: train loss :   0.186948   val loss :   0.160369   val score :   0.178155\n",
      "Epoch 00008: reducing learning rate of group 0 to 1.0000e-02.\n",
      "------ epoch:9 ------\n"
     ]
    },
    {
     "name": "stderr",
     "output_type": "stream",
     "text": [
      "100%|██████████| 252/252 [00:03<00:00, 72.61it/s]\n",
      "100%|██████████| 28/28 [00:00<00:00, 74.77it/s]\n",
      "100%|██████████| 943/943 [00:00<00:00, 2557.22it/s]\n"
     ]
    },
    {
     "name": "stdout",
     "output_type": "stream",
     "text": [
      "Epoch 9: train loss :   0.162300   val loss :   0.158462   val score :   0.273595\n",
      "------ epoch:10 ------\n"
     ]
    },
    {
     "name": "stderr",
     "output_type": "stream",
     "text": [
      "100%|██████████| 252/252 [00:03<00:00, 69.12it/s]\n",
      "100%|██████████| 28/28 [00:00<00:00, 130.62it/s]\n",
      "100%|██████████| 943/943 [00:00<00:00, 2562.81it/s]\n"
     ]
    },
    {
     "name": "stdout",
     "output_type": "stream",
     "text": [
      "Epoch 10: train loss :   0.159265   val loss :   0.158582   val score :   0.285260\n",
      "------ epoch:11 ------\n"
     ]
    },
    {
     "name": "stderr",
     "output_type": "stream",
     "text": [
      "100%|██████████| 252/252 [00:03<00:00, 68.98it/s]\n",
      "100%|██████████| 28/28 [00:00<00:00, 131.98it/s]\n",
      "100%|██████████| 943/943 [00:00<00:00, 2680.36it/s]\n"
     ]
    },
    {
     "name": "stdout",
     "output_type": "stream",
     "text": [
      "Epoch 11: train loss :   0.159549   val loss :   0.158531   val score :   0.268293\n",
      "------ epoch:12 ------\n"
     ]
    },
    {
     "name": "stderr",
     "output_type": "stream",
     "text": [
      "100%|██████████| 252/252 [00:03<00:00, 69.76it/s]\n",
      "100%|██████████| 28/28 [00:00<00:00, 131.41it/s]\n",
      "100%|██████████| 943/943 [00:00<00:00, 2587.52it/s]\n"
     ]
    },
    {
     "name": "stdout",
     "output_type": "stream",
     "text": [
      "Epoch 12: train loss :   0.159256   val loss :   0.158567   val score :   0.267232\n",
      "------ epoch:13 ------\n"
     ]
    },
    {
     "name": "stderr",
     "output_type": "stream",
     "text": [
      "100%|██████████| 252/252 [00:03<00:00, 69.68it/s]\n",
      "100%|██████████| 28/28 [00:00<00:00, 76.87it/s] \n",
      "100%|██████████| 943/943 [00:00<00:00, 2536.20it/s]\n"
     ]
    },
    {
     "name": "stdout",
     "output_type": "stream",
     "text": [
      "Epoch 13: train loss :   0.159409   val loss :   0.158476   val score :   0.274655\n",
      "Epoch 00013: reducing learning rate of group 0 to 1.0000e-03.\n",
      "------ epoch:14 ------\n"
     ]
    },
    {
     "name": "stderr",
     "output_type": "stream",
     "text": [
      "100%|██████████| 252/252 [00:03<00:00, 72.32it/s]\n",
      "100%|██████████| 28/28 [00:00<00:00, 74.66it/s]\n",
      "100%|██████████| 943/943 [00:00<00:00, 2456.11it/s]\n"
     ]
    },
    {
     "name": "stdout",
     "output_type": "stream",
     "text": [
      "Epoch 14: train loss :   0.158369   val loss :   0.158471   val score :   0.277837\n"
     ]
    },
    {
     "name": "stderr",
     "output_type": "stream",
     "text": [
      "100%|██████████| 70/70 [00:00<00:00, 100.02it/s]\n",
      "100%|██████████| 943/943 [00:00<00:00, 1941.63it/s]\n"
     ]
    },
    {
     "name": "stdout",
     "output_type": "stream",
     "text": [
      "------ log loss of 3 fold : 0.15974482957805905 ------\n",
      "------ score of 3 fold : 0.24390243902439024 ------\n",
      "------ 第4折 ------\n",
      "------ epoch:1 ------\n"
     ]
    },
    {
     "name": "stderr",
     "output_type": "stream",
     "text": [
      "100%|██████████| 252/252 [00:03<00:00, 69.80it/s]\n",
      "100%|██████████| 28/28 [00:00<00:00, 70.43it/s]\n",
      "100%|██████████| 943/943 [00:00<00:00, 2695.17it/s]\n"
     ]
    },
    {
     "name": "stdout",
     "output_type": "stream",
     "text": [
      "Epoch 1: train loss :   0.212738   val loss :   0.161458   val score :   0.191941\n",
      "------ epoch:2 ------\n"
     ]
    },
    {
     "name": "stderr",
     "output_type": "stream",
     "text": [
      "100%|██████████| 252/252 [00:03<00:00, 65.78it/s]\n",
      "100%|██████████| 28/28 [00:00<00:00, 114.68it/s]\n",
      "100%|██████████| 943/943 [00:00<00:00, 2466.31it/s]\n"
     ]
    },
    {
     "name": "stdout",
     "output_type": "stream",
     "text": [
      "Epoch 2: train loss :   0.185930   val loss :   0.161901   val score :   0.208908\n",
      "------ epoch:3 ------\n"
     ]
    },
    {
     "name": "stderr",
     "output_type": "stream",
     "text": [
      "100%|██████████| 252/252 [00:03<00:00, 66.50it/s]\n",
      "100%|██████████| 28/28 [00:00<00:00, 119.50it/s]\n",
      "100%|██████████| 943/943 [00:00<00:00, 2509.87it/s]\n"
     ]
    },
    {
     "name": "stdout",
     "output_type": "stream",
     "text": [
      "Epoch 3: train loss :   0.188877   val loss :   0.160686   val score :   0.169671\n",
      "------ epoch:4 ------\n"
     ]
    },
    {
     "name": "stderr",
     "output_type": "stream",
     "text": [
      "100%|██████████| 252/252 [00:05<00:00, 47.76it/s]\n",
      "100%|██████████| 28/28 [00:00<00:00, 100.82it/s]\n",
      "100%|██████████| 943/943 [00:00<00:00, 2711.49it/s]\n"
     ]
    },
    {
     "name": "stdout",
     "output_type": "stream",
     "text": [
      "Epoch 4: train loss :   0.181988   val loss :   0.160971   val score :   0.171792\n",
      "------ epoch:5 ------\n"
     ]
    },
    {
     "name": "stderr",
     "output_type": "stream",
     "text": [
      "100%|██████████| 252/252 [00:04<00:00, 57.52it/s]\n",
      "100%|██████████| 28/28 [00:00<00:00, 116.01it/s]\n",
      "100%|██████████| 943/943 [00:00<00:00, 2649.17it/s]\n"
     ]
    },
    {
     "name": "stdout",
     "output_type": "stream",
     "text": [
      "Epoch 5: train loss :   0.186660   val loss :   0.161008   val score :   0.176034\n",
      "Epoch 00005: reducing learning rate of group 0 to 1.0000e-02.\n",
      "------ epoch:6 ------\n"
     ]
    },
    {
     "name": "stderr",
     "output_type": "stream",
     "text": [
      "100%|██████████| 252/252 [00:03<00:00, 64.14it/s]\n",
      "100%|██████████| 28/28 [00:00<00:00, 70.85it/s] \n",
      "100%|██████████| 943/943 [00:00<00:00, 2451.87it/s]\n"
     ]
    },
    {
     "name": "stdout",
     "output_type": "stream",
     "text": [
      "Epoch 6: train loss :   0.162916   val loss :   0.159792   val score :   0.292683\n",
      "------ epoch:7 ------\n"
     ]
    },
    {
     "name": "stderr",
     "output_type": "stream",
     "text": [
      "100%|██████████| 252/252 [00:03<00:00, 64.57it/s]\n",
      "100%|██████████| 28/28 [00:00<00:00, 117.82it/s]\n",
      "100%|██████████| 943/943 [00:00<00:00, 2458.41it/s]\n"
     ]
    },
    {
     "name": "stdout",
     "output_type": "stream",
     "text": [
      "Epoch 7: train loss :   0.160235   val loss :   0.159884   val score :   0.275716\n",
      "------ epoch:8 ------\n"
     ]
    },
    {
     "name": "stderr",
     "output_type": "stream",
     "text": [
      "100%|██████████| 252/252 [00:03<00:00, 64.52it/s]\n",
      "100%|██████████| 28/28 [00:00<00:00, 112.05it/s]\n",
      "100%|██████████| 943/943 [00:00<00:00, 2207.93it/s]\n"
     ]
    },
    {
     "name": "stdout",
     "output_type": "stream",
     "text": [
      "Epoch 8: train loss :   0.160102   val loss :   0.159810   val score :   0.287381\n",
      "------ epoch:9 ------\n"
     ]
    },
    {
     "name": "stderr",
     "output_type": "stream",
     "text": [
      "100%|██████████| 252/252 [00:04<00:00, 62.89it/s]\n",
      "100%|██████████| 28/28 [00:00<00:00, 122.60it/s]\n",
      "100%|██████████| 943/943 [00:00<00:00, 2406.49it/s]\n"
     ]
    },
    {
     "name": "stdout",
     "output_type": "stream",
     "text": [
      "Epoch 9: train loss :   0.160295   val loss :   0.159924   val score :   0.294804\n",
      "------ epoch:10 ------\n"
     ]
    },
    {
     "name": "stderr",
     "output_type": "stream",
     "text": [
      "100%|██████████| 252/252 [00:03<00:00, 66.15it/s]\n",
      "100%|██████████| 28/28 [00:00<00:00, 121.87it/s]\n",
      "100%|██████████| 943/943 [00:00<00:00, 2684.67it/s]\n"
     ]
    },
    {
     "name": "stdout",
     "output_type": "stream",
     "text": [
      "Epoch 10: train loss :   0.160502   val loss :   0.159881   val score :   0.306469\n",
      "------ epoch:11 ------\n"
     ]
    },
    {
     "name": "stderr",
     "output_type": "stream",
     "text": [
      "100%|██████████| 252/252 [00:03<00:00, 66.50it/s]\n",
      "100%|██████████| 28/28 [00:00<00:00, 72.75it/s] \n",
      "100%|██████████| 943/943 [00:00<00:00, 2475.79it/s]\n"
     ]
    },
    {
     "name": "stdout",
     "output_type": "stream",
     "text": [
      "Epoch 11: train loss :   0.160144   val loss :   0.159842   val score :   0.294804\n",
      "------ epoch:12 ------\n"
     ]
    },
    {
     "name": "stderr",
     "output_type": "stream",
     "text": [
      "100%|██████████| 252/252 [00:03<00:00, 68.03it/s]\n",
      "100%|██████████| 28/28 [00:00<00:00, 125.87it/s]\n",
      "100%|██████████| 943/943 [00:00<00:00, 2654.47it/s]\n"
     ]
    },
    {
     "name": "stdout",
     "output_type": "stream",
     "text": [
      "Epoch 12: train loss :   0.160344   val loss :   0.159842   val score :   0.282078\n",
      "------ epoch:13 ------\n"
     ]
    },
    {
     "name": "stderr",
     "output_type": "stream",
     "text": [
      "100%|██████████| 252/252 [00:03<00:00, 66.57it/s]\n",
      "100%|██████████| 28/28 [00:00<00:00, 125.96it/s]\n",
      "100%|██████████| 943/943 [00:00<00:00, 2440.63it/s]\n"
     ]
    },
    {
     "name": "stdout",
     "output_type": "stream",
     "text": [
      "Epoch 13: train loss :   0.160258   val loss :   0.159877   val score :   0.282078\n",
      "Epoch 00013: reducing learning rate of group 0 to 1.0000e-03.\n",
      "------ epoch:14 ------\n"
     ]
    },
    {
     "name": "stderr",
     "output_type": "stream",
     "text": [
      "100%|██████████| 252/252 [00:03<00:00, 64.93it/s]\n",
      "100%|██████████| 28/28 [00:00<00:00, 120.34it/s]\n",
      "100%|██████████| 943/943 [00:00<00:00, 2539.36it/s]\n"
     ]
    },
    {
     "name": "stdout",
     "output_type": "stream",
     "text": [
      "Epoch 14: train loss :   0.159148   val loss :   0.159848   val score :   0.285260\n"
     ]
    },
    {
     "name": "stderr",
     "output_type": "stream",
     "text": [
      "100%|██████████| 70/70 [00:00<00:00, 93.11it/s] \n",
      "100%|██████████| 943/943 [00:00<00:00, 2183.88it/s]\n"
     ]
    },
    {
     "name": "stdout",
     "output_type": "stream",
     "text": [
      "------ log loss of 4 fold : 0.15595161701951707 ------\n",
      "------ score of 4 fold : 0.2704135737009544 ------\n",
      "------ 第5折 ------\n",
      "------ epoch:1 ------\n"
     ]
    },
    {
     "name": "stderr",
     "output_type": "stream",
     "text": [
      "100%|██████████| 252/252 [00:03<00:00, 67.07it/s]\n",
      "100%|██████████| 28/28 [00:00<00:00, 122.32it/s]\n",
      "100%|██████████| 943/943 [00:00<00:00, 2606.26it/s]\n"
     ]
    },
    {
     "name": "stdout",
     "output_type": "stream",
     "text": [
      "Epoch 1: train loss :   0.212785   val loss :   0.159858   val score :   0.189820\n",
      "------ epoch:2 ------\n"
     ]
    },
    {
     "name": "stderr",
     "output_type": "stream",
     "text": [
      "100%|██████████| 252/252 [00:03<00:00, 63.59it/s]\n",
      "100%|██████████| 28/28 [00:00<00:00, 119.84it/s]\n",
      "100%|██████████| 943/943 [00:00<00:00, 2770.96it/s]\n"
     ]
    },
    {
     "name": "stdout",
     "output_type": "stream",
     "text": [
      "Epoch 2: train loss :   0.186512   val loss :   0.159409   val score :   0.185578\n",
      "------ epoch:3 ------\n"
     ]
    },
    {
     "name": "stderr",
     "output_type": "stream",
     "text": [
      "100%|██████████| 252/252 [00:03<00:00, 67.11it/s]\n",
      "100%|██████████| 28/28 [00:00<00:00, 71.97it/s] \n",
      "100%|██████████| 943/943 [00:00<00:00, 1844.30it/s]\n"
     ]
    },
    {
     "name": "stdout",
     "output_type": "stream",
     "text": [
      "Epoch 3: train loss :   0.183669   val loss :   0.159997   val score :   0.167550\n",
      "------ epoch:4 ------\n"
     ]
    },
    {
     "name": "stderr",
     "output_type": "stream",
     "text": [
      "100%|██████████| 252/252 [00:03<00:00, 68.82it/s]\n",
      "100%|██████████| 28/28 [00:00<00:00, 71.29it/s]\n",
      "100%|██████████| 943/943 [00:00<00:00, 1848.90it/s]\n"
     ]
    },
    {
     "name": "stdout",
     "output_type": "stream",
     "text": [
      "Epoch 4: train loss :   0.185228   val loss :   0.159316   val score :   0.172853\n",
      "Epoch 00004: reducing learning rate of group 0 to 1.0000e-02.\n",
      "------ epoch:5 ------\n"
     ]
    },
    {
     "name": "stderr",
     "output_type": "stream",
     "text": [
      "100%|██████████| 252/252 [00:03<00:00, 65.45it/s]\n",
      "100%|██████████| 28/28 [00:00<00:00, 118.69it/s]\n",
      "100%|██████████| 943/943 [00:00<00:00, 1413.16it/s]\n"
     ]
    },
    {
     "name": "stdout",
     "output_type": "stream",
     "text": [
      "Epoch 5: train loss :   0.162585   val loss :   0.158311   val score :   0.278897\n",
      "------ epoch:6 ------\n"
     ]
    },
    {
     "name": "stderr",
     "output_type": "stream",
     "text": [
      "100%|██████████| 252/252 [00:03<00:00, 65.39it/s]\n",
      "100%|██████████| 28/28 [00:00<00:00, 121.14it/s]\n",
      "100%|██████████| 943/943 [00:00<00:00, 1369.50it/s]\n"
     ]
    },
    {
     "name": "stdout",
     "output_type": "stream",
     "text": [
      "Epoch 6: train loss :   0.159649   val loss :   0.158300   val score :   0.279958\n",
      "------ epoch:7 ------\n"
     ]
    },
    {
     "name": "stderr",
     "output_type": "stream",
     "text": [
      "100%|██████████| 252/252 [00:03<00:00, 64.52it/s]\n",
      "100%|██████████| 28/28 [00:00<00:00, 116.89it/s]\n",
      "100%|██████████| 943/943 [00:00<00:00, 2167.15it/s]\n"
     ]
    },
    {
     "name": "stdout",
     "output_type": "stream",
     "text": [
      "Epoch 7: train loss :   0.159820   val loss :   0.158339   val score :   0.283139\n",
      "------ epoch:8 ------\n"
     ]
    },
    {
     "name": "stderr",
     "output_type": "stream",
     "text": [
      "100%|██████████| 252/252 [00:03<00:00, 64.74it/s]\n",
      "100%|██████████| 28/28 [00:00<00:00, 71.16it/s] \n",
      "100%|██████████| 943/943 [00:00<00:00, 2422.74it/s]\n"
     ]
    },
    {
     "name": "stdout",
     "output_type": "stream",
     "text": [
      "Epoch 8: train loss :   0.159793   val loss :   0.158413   val score :   0.277837\n",
      "------ epoch:9 ------\n"
     ]
    },
    {
     "name": "stderr",
     "output_type": "stream",
     "text": [
      "100%|██████████| 252/252 [00:03<00:00, 65.40it/s]\n",
      "100%|██████████| 28/28 [00:00<00:00, 69.88it/s]\n",
      "100%|██████████| 943/943 [00:00<00:00, 2369.60it/s]\n"
     ]
    },
    {
     "name": "stdout",
     "output_type": "stream",
     "text": [
      "Epoch 9: train loss :   0.159875   val loss :   0.158463   val score :   0.288441\n",
      "------ epoch:10 ------\n"
     ]
    },
    {
     "name": "stderr",
     "output_type": "stream",
     "text": [
      "100%|██████████| 252/252 [00:03<00:00, 64.22it/s]\n",
      "100%|██████████| 28/28 [00:00<00:00, 101.89it/s]\n",
      "100%|██████████| 943/943 [00:00<00:00, 2439.05it/s]\n"
     ]
    },
    {
     "name": "stdout",
     "output_type": "stream",
     "text": [
      "Epoch 10: train loss :   0.159743   val loss :   0.158241   val score :   0.292683\n",
      "------ epoch:11 ------\n"
     ]
    },
    {
     "name": "stderr",
     "output_type": "stream",
     "text": [
      "100%|██████████| 252/252 [00:04<00:00, 62.14it/s]\n",
      "100%|██████████| 28/28 [00:00<00:00, 98.37it/s]\n",
      "100%|██████████| 943/943 [00:00<00:00, 2591.47it/s]\n"
     ]
    },
    {
     "name": "stdout",
     "output_type": "stream",
     "text": [
      "Epoch 11: train loss :   0.159699   val loss :   0.158240   val score :   0.284199\n",
      "------ epoch:12 ------\n"
     ]
    },
    {
     "name": "stderr",
     "output_type": "stream",
     "text": [
      "100%|██████████| 252/252 [00:04<00:00, 62.91it/s]\n",
      "100%|██████████| 28/28 [00:00<00:00, 115.59it/s]\n",
      "100%|██████████| 943/943 [00:00<00:00, 2616.66it/s]\n"
     ]
    },
    {
     "name": "stdout",
     "output_type": "stream",
     "text": [
      "Epoch 12: train loss :   0.159767   val loss :   0.158326   val score :   0.273595\n",
      "------ epoch:13 ------\n"
     ]
    },
    {
     "name": "stderr",
     "output_type": "stream",
     "text": [
      "100%|██████████| 252/252 [00:03<00:00, 64.81it/s]\n",
      "100%|██████████| 28/28 [00:00<00:00, 110.78it/s]\n",
      "100%|██████████| 943/943 [00:00<00:00, 2516.56it/s]\n"
     ]
    },
    {
     "name": "stdout",
     "output_type": "stream",
     "text": [
      "Epoch 13: train loss :   0.159659   val loss :   0.158375   val score :   0.295864\n",
      "------ epoch:14 ------\n"
     ]
    },
    {
     "name": "stderr",
     "output_type": "stream",
     "text": [
      "100%|██████████| 252/252 [00:03<00:00, 63.49it/s]\n",
      "100%|██████████| 28/28 [00:00<00:00, 68.47it/s] \n",
      "100%|██████████| 943/943 [00:00<00:00, 2543.10it/s]\n"
     ]
    },
    {
     "name": "stdout",
     "output_type": "stream",
     "text": [
      "Epoch 14: train loss :   0.159602   val loss :   0.158253   val score :   0.290562\n",
      "------ epoch:15 ------\n"
     ]
    },
    {
     "name": "stderr",
     "output_type": "stream",
     "text": [
      "100%|██████████| 252/252 [00:03<00:00, 69.85it/s]\n",
      "100%|██████████| 28/28 [00:00<00:00, 68.22it/s]\n",
      "100%|██████████| 943/943 [00:00<00:00, 2069.88it/s]\n"
     ]
    },
    {
     "name": "stdout",
     "output_type": "stream",
     "text": [
      "Epoch 15: train loss :   0.159910   val loss :   0.158265   val score :   0.301166\n",
      "------ epoch:16 ------\n"
     ]
    },
    {
     "name": "stderr",
     "output_type": "stream",
     "text": [
      "100%|██████████| 252/252 [00:03<00:00, 66.84it/s]\n",
      "100%|██████████| 28/28 [00:00<00:00, 117.95it/s]\n",
      "100%|██████████| 943/943 [00:00<00:00, 1734.71it/s]\n"
     ]
    },
    {
     "name": "stdout",
     "output_type": "stream",
     "text": [
      "Epoch 16: train loss :   0.159740   val loss :   0.158285   val score :   0.286320\n",
      "------ epoch:17 ------\n"
     ]
    },
    {
     "name": "stderr",
     "output_type": "stream",
     "text": [
      "100%|██████████| 252/252 [00:03<00:00, 67.06it/s]\n",
      "100%|██████████| 28/28 [00:00<00:00, 116.62it/s]\n",
      "100%|██████████| 943/943 [00:00<00:00, 1855.10it/s]\n"
     ]
    },
    {
     "name": "stdout",
     "output_type": "stream",
     "text": [
      "Epoch 17: train loss :   0.159869   val loss :   0.158452   val score :   0.284199\n",
      "------ epoch:18 ------\n"
     ]
    },
    {
     "name": "stderr",
     "output_type": "stream",
     "text": [
      "100%|██████████| 252/252 [00:04<00:00, 62.28it/s]\n",
      "100%|██████████| 28/28 [00:00<00:00, 117.68it/s]\n",
      "100%|██████████| 943/943 [00:00<00:00, 1733.09it/s]\n"
     ]
    },
    {
     "name": "stdout",
     "output_type": "stream",
     "text": [
      "Epoch 18: train loss :   0.159721   val loss :   0.158393   val score :   0.295864\n",
      "Epoch 00018: reducing learning rate of group 0 to 1.0000e-03.\n",
      "------ epoch:19 ------\n"
     ]
    },
    {
     "name": "stderr",
     "output_type": "stream",
     "text": [
      "100%|██████████| 252/252 [00:03<00:00, 65.13it/s]\n",
      "100%|██████████| 28/28 [00:00<00:00, 116.73it/s]\n",
      "100%|██████████| 943/943 [00:00<00:00, 2600.56it/s]\n"
     ]
    },
    {
     "name": "stdout",
     "output_type": "stream",
     "text": [
      "Epoch 19: train loss :   0.159047   val loss :   0.158360   val score :   0.291622\n"
     ]
    },
    {
     "name": "stderr",
     "output_type": "stream",
     "text": [
      "100%|██████████| 70/70 [00:00<00:00, 91.65it/s] \n",
      "100%|██████████| 943/943 [00:00<00:00, 2704.54it/s]\n"
     ]
    },
    {
     "name": "stdout",
     "output_type": "stream",
     "text": [
      "------ log loss of 5 fold : 0.15820624445165907 ------\n",
      "------ score of 5 fold : 0.22693531283138918 ------\n",
      "settings : power = 1, model type = 2\n",
      "parameters :  {'num_users': 943, 'num_items': 1682, 'embedding_dim': 50, 'lr': 0.1, 'alpha': 0.1, 'patience': 3, 'epochs': 30, 'device': 'cuda:0', 'model_selection': True}\n",
      "------ log loss of the model : 0.15669153671179498 ------\n",
      "------ score of the model : 0.24941675503711558 ------\n",
      "------ 第1折 ------\n",
      "------ epoch:1 ------\n"
     ]
    },
    {
     "name": "stderr",
     "output_type": "stream",
     "text": [
      "100%|██████████| 252/252 [00:03<00:00, 67.21it/s]\n",
      "100%|██████████| 28/28 [00:00<00:00, 121.82it/s]\n",
      "100%|██████████| 943/943 [00:00<00:00, 2485.28it/s]\n"
     ]
    },
    {
     "name": "stdout",
     "output_type": "stream",
     "text": [
      "Epoch 1: train loss :   0.962315   val loss :   0.633290   val score :   0.088017\n",
      "------ epoch:2 ------\n"
     ]
    },
    {
     "name": "stderr",
     "output_type": "stream",
     "text": [
      "100%|██████████| 252/252 [00:03<00:00, 67.47it/s]\n",
      "100%|██████████| 28/28 [00:00<00:00, 117.76it/s]\n",
      "100%|██████████| 943/943 [00:00<00:00, 2439.24it/s]\n"
     ]
    },
    {
     "name": "stdout",
     "output_type": "stream",
     "text": [
      "Epoch 2: train loss :   0.692906   val loss :   0.335105   val score :   0.095440\n",
      "------ epoch:3 ------\n"
     ]
    },
    {
     "name": "stderr",
     "output_type": "stream",
     "text": [
      "100%|██████████| 252/252 [00:04<00:00, 62.93it/s]\n",
      "100%|██████████| 28/28 [00:00<00:00, 66.55it/s]\n",
      "100%|██████████| 943/943 [00:00<00:00, 2786.45it/s]\n"
     ]
    },
    {
     "name": "stdout",
     "output_type": "stream",
     "text": [
      "Epoch 3: train loss :   0.567074   val loss :   0.280973   val score :   0.100742\n",
      "------ epoch:4 ------\n"
     ]
    },
    {
     "name": "stderr",
     "output_type": "stream",
     "text": [
      "100%|██████████| 252/252 [00:03<00:00, 63.75it/s]\n",
      "100%|██████████| 28/28 [00:00<00:00, 117.28it/s]\n",
      "100%|██████████| 943/943 [00:00<00:00, 2618.16it/s]\n"
     ]
    },
    {
     "name": "stdout",
     "output_type": "stream",
     "text": [
      "Epoch 4: train loss :   0.499997   val loss :   0.266459   val score :   0.101803\n",
      "------ epoch:5 ------\n"
     ]
    },
    {
     "name": "stderr",
     "output_type": "stream",
     "text": [
      "100%|██████████| 252/252 [00:03<00:00, 64.88it/s]\n",
      "100%|██████████| 28/28 [00:00<00:00, 115.76it/s]\n",
      "100%|██████████| 943/943 [00:00<00:00, 2437.03it/s]\n"
     ]
    },
    {
     "name": "stdout",
     "output_type": "stream",
     "text": [
      "Epoch 5: train loss :   0.439308   val loss :   0.255812   val score :   0.097561\n",
      "------ epoch:6 ------\n"
     ]
    },
    {
     "name": "stderr",
     "output_type": "stream",
     "text": [
      "100%|██████████| 252/252 [00:03<00:00, 64.32it/s]\n",
      "100%|██████████| 28/28 [00:00<00:00, 115.00it/s]\n",
      "100%|██████████| 943/943 [00:00<00:00, 2450.76it/s]\n"
     ]
    },
    {
     "name": "stdout",
     "output_type": "stream",
     "text": [
      "Epoch 6: train loss :   0.383494   val loss :   0.244619   val score :   0.096501\n",
      "------ epoch:7 ------\n"
     ]
    },
    {
     "name": "stderr",
     "output_type": "stream",
     "text": [
      "100%|██████████| 252/252 [00:04<00:00, 62.91it/s]\n",
      "100%|██████████| 28/28 [00:00<00:00, 118.62it/s]\n",
      "100%|██████████| 943/943 [00:00<00:00, 2614.45it/s]\n"
     ]
    },
    {
     "name": "stdout",
     "output_type": "stream",
     "text": [
      "Epoch 7: train loss :   0.334103   val loss :   0.231991   val score :   0.095440\n",
      "Epoch 00007: reducing learning rate of group 0 to 1.0000e-04.\n",
      "------ epoch:8 ------\n"
     ]
    },
    {
     "name": "stderr",
     "output_type": "stream",
     "text": [
      "100%|██████████| 252/252 [00:03<00:00, 65.36it/s]\n",
      "100%|██████████| 28/28 [00:00<00:00, 65.43it/s] \n",
      "100%|██████████| 943/943 [00:00<00:00, 2395.35it/s]\n"
     ]
    },
    {
     "name": "stdout",
     "output_type": "stream",
     "text": [
      "Epoch 8: train loss :   0.309529   val loss :   0.230614   val score :   0.095440\n"
     ]
    },
    {
     "name": "stderr",
     "output_type": "stream",
     "text": [
      "100%|██████████| 70/70 [00:00<00:00, 114.48it/s]\n",
      "100%|██████████| 943/943 [00:00<00:00, 2432.10it/s]\n"
     ]
    },
    {
     "name": "stdout",
     "output_type": "stream",
     "text": [
      "------ log loss of 1 fold : 0.2279916518500873 ------\n",
      "------ score of 1 fold : 0.09862142099681867 ------\n",
      "------ 第2折 ------\n",
      "------ epoch:1 ------\n"
     ]
    },
    {
     "name": "stderr",
     "output_type": "stream",
     "text": [
      "100%|██████████| 252/252 [00:03<00:00, 65.06it/s]\n",
      "100%|██████████| 28/28 [00:00<00:00, 118.19it/s]\n",
      "100%|██████████| 943/943 [00:00<00:00, 2786.80it/s]\n"
     ]
    },
    {
     "name": "stdout",
     "output_type": "stream",
     "text": [
      "Epoch 1: train loss :   0.936498   val loss :   0.626187   val score :   0.115589\n",
      "------ epoch:2 ------\n"
     ]
    },
    {
     "name": "stderr",
     "output_type": "stream",
     "text": [
      "100%|██████████| 252/252 [00:03<00:00, 64.92it/s]\n",
      "100%|██████████| 28/28 [00:00<00:00, 70.09it/s] \n",
      "100%|██████████| 943/943 [00:00<00:00, 2772.10it/s]\n"
     ]
    },
    {
     "name": "stdout",
     "output_type": "stream",
     "text": [
      "Epoch 2: train loss :   0.681165   val loss :   0.337861   val score :   0.120891\n",
      "------ epoch:3 ------\n"
     ]
    },
    {
     "name": "stderr",
     "output_type": "stream",
     "text": [
      "100%|██████████| 252/252 [00:03<00:00, 66.28it/s]\n",
      "100%|██████████| 28/28 [00:00<00:00, 69.02it/s]\n",
      "100%|██████████| 943/943 [00:00<00:00, 2722.42it/s]\n"
     ]
    },
    {
     "name": "stdout",
     "output_type": "stream",
     "text": [
      "Epoch 3: train loss :   0.555405   val loss :   0.282070   val score :   0.121951\n",
      "------ epoch:4 ------\n"
     ]
    },
    {
     "name": "stderr",
     "output_type": "stream",
     "text": [
      "100%|██████████| 252/252 [00:03<00:00, 63.44it/s]\n",
      "100%|██████████| 28/28 [00:00<00:00, 117.97it/s]\n",
      "100%|██████████| 943/943 [00:00<00:00, 2852.06it/s]\n"
     ]
    },
    {
     "name": "stdout",
     "output_type": "stream",
     "text": [
      "Epoch 4: train loss :   0.488442   val loss :   0.266811   val score :   0.120891\n",
      "------ epoch:5 ------\n"
     ]
    },
    {
     "name": "stderr",
     "output_type": "stream",
     "text": [
      "100%|██████████| 252/252 [00:03<00:00, 65.84it/s]\n",
      "100%|██████████| 28/28 [00:00<00:00, 121.13it/s]\n",
      "100%|██████████| 943/943 [00:00<00:00, 2650.63it/s]\n"
     ]
    },
    {
     "name": "stdout",
     "output_type": "stream",
     "text": [
      "Epoch 5: train loss :   0.428164   val loss :   0.255493   val score :   0.121951\n",
      "------ epoch:6 ------\n"
     ]
    },
    {
     "name": "stderr",
     "output_type": "stream",
     "text": [
      "100%|██████████| 252/252 [00:03<00:00, 65.79it/s]\n",
      "100%|██████████| 28/28 [00:00<00:00, 123.15it/s]\n",
      "100%|██████████| 943/943 [00:00<00:00, 2576.89it/s]\n"
     ]
    },
    {
     "name": "stdout",
     "output_type": "stream",
     "text": [
      "Epoch 6: train loss :   0.373400   val loss :   0.243647   val score :   0.120891\n",
      "Epoch 00006: reducing learning rate of group 0 to 1.0000e-04.\n",
      "------ epoch:7 ------\n"
     ]
    },
    {
     "name": "stderr",
     "output_type": "stream",
     "text": [
      "100%|██████████| 252/252 [00:04<00:00, 62.62it/s]\n",
      "100%|██████████| 28/28 [00:00<00:00, 68.61it/s] \n",
      "100%|██████████| 943/943 [00:00<00:00, 2472.98it/s]\n"
     ]
    },
    {
     "name": "stdout",
     "output_type": "stream",
     "text": [
      "Epoch 7: train loss :   0.345420   val loss :   0.242305   val score :   0.120891\n"
     ]
    },
    {
     "name": "stderr",
     "output_type": "stream",
     "text": [
      "100%|██████████| 70/70 [00:00<00:00, 114.55it/s]\n",
      "100%|██████████| 943/943 [00:00<00:00, 2727.47it/s]\n"
     ]
    },
    {
     "name": "stdout",
     "output_type": "stream",
     "text": [
      "------ log loss of 2 fold : 0.24126890706164497 ------\n",
      "------ score of 2 fold : 0.09862142099681867 ------\n",
      "------ 第3折 ------\n",
      "------ epoch:1 ------\n"
     ]
    },
    {
     "name": "stderr",
     "output_type": "stream",
     "text": [
      "100%|██████████| 252/252 [00:03<00:00, 65.46it/s]\n",
      "100%|██████████| 28/28 [00:00<00:00, 117.91it/s]\n",
      "100%|██████████| 943/943 [00:00<00:00, 2648.45it/s]\n"
     ]
    },
    {
     "name": "stdout",
     "output_type": "stream",
     "text": [
      "Epoch 1: train loss :   0.959527   val loss :   0.634688   val score :   0.117709\n",
      "------ epoch:2 ------\n"
     ]
    },
    {
     "name": "stderr",
     "output_type": "stream",
     "text": [
      "100%|██████████| 252/252 [00:03<00:00, 65.14it/s]\n",
      "100%|██████████| 28/28 [00:00<00:00, 68.33it/s] \n",
      "100%|██████████| 943/943 [00:00<00:00, 2566.98it/s]\n"
     ]
    },
    {
     "name": "stdout",
     "output_type": "stream",
     "text": [
      "Epoch 2: train loss :   0.689965   val loss :   0.334130   val score :   0.128314\n",
      "------ epoch:3 ------\n"
     ]
    },
    {
     "name": "stderr",
     "output_type": "stream",
     "text": [
      "100%|██████████| 252/252 [00:03<00:00, 70.29it/s]\n",
      "100%|██████████| 28/28 [00:00<00:00, 69.09it/s]\n",
      "100%|██████████| 943/943 [00:00<00:00, 2736.81it/s]\n"
     ]
    },
    {
     "name": "stdout",
     "output_type": "stream",
     "text": [
      "Epoch 3: train loss :   0.564790   val loss :   0.282038   val score :   0.137858\n",
      "------ epoch:4 ------\n"
     ]
    },
    {
     "name": "stderr",
     "output_type": "stream",
     "text": [
      "100%|██████████| 252/252 [00:03<00:00, 64.40it/s]\n",
      "100%|██████████| 28/28 [00:00<00:00, 120.68it/s]\n",
      "100%|██████████| 943/943 [00:00<00:00, 2714.17it/s]\n"
     ]
    },
    {
     "name": "stdout",
     "output_type": "stream",
     "text": [
      "Epoch 4: train loss :   0.496836   val loss :   0.267727   val score :   0.132556\n",
      "------ epoch:5 ------\n"
     ]
    },
    {
     "name": "stderr",
     "output_type": "stream",
     "text": [
      "100%|██████████| 252/252 [00:03<00:00, 65.79it/s]\n",
      "100%|██████████| 28/28 [00:00<00:00, 129.51it/s]\n",
      "100%|██████████| 943/943 [00:00<00:00, 2504.68it/s]\n"
     ]
    },
    {
     "name": "stdout",
     "output_type": "stream",
     "text": [
      "Epoch 5: train loss :   0.435380   val loss :   0.256659   val score :   0.130435\n",
      "------ epoch:6 ------\n"
     ]
    },
    {
     "name": "stderr",
     "output_type": "stream",
     "text": [
      "100%|██████████| 252/252 [00:03<00:00, 66.48it/s]\n",
      "100%|██████████| 28/28 [00:00<00:00, 114.04it/s]\n",
      "100%|██████████| 943/943 [00:00<00:00, 2637.79it/s]\n"
     ]
    },
    {
     "name": "stdout",
     "output_type": "stream",
     "text": [
      "Epoch 6: train loss :   0.378949   val loss :   0.244985   val score :   0.123012\n",
      "Epoch 00006: reducing learning rate of group 0 to 1.0000e-04.\n",
      "------ epoch:7 ------\n"
     ]
    },
    {
     "name": "stderr",
     "output_type": "stream",
     "text": [
      "100%|██████████| 252/252 [00:03<00:00, 63.25it/s]\n",
      "100%|██████████| 28/28 [00:00<00:00, 117.00it/s]\n",
      "100%|██████████| 943/943 [00:00<00:00, 2407.57it/s]\n"
     ]
    },
    {
     "name": "stdout",
     "output_type": "stream",
     "text": [
      "Epoch 7: train loss :   0.350064   val loss :   0.243669   val score :   0.124072\n"
     ]
    },
    {
     "name": "stderr",
     "output_type": "stream",
     "text": [
      "100%|██████████| 70/70 [00:00<00:00, 88.78it/s] \n",
      "100%|██████████| 943/943 [00:00<00:00, 2613.18it/s]\n"
     ]
    },
    {
     "name": "stdout",
     "output_type": "stream",
     "text": [
      "------ log loss of 3 fold : 0.24473729027169092 ------\n",
      "------ score of 3 fold : 0.0975609756097561 ------\n",
      "------ 第4折 ------\n",
      "------ epoch:1 ------\n"
     ]
    },
    {
     "name": "stderr",
     "output_type": "stream",
     "text": [
      "100%|██████████| 252/252 [00:03<00:00, 66.10it/s]\n",
      "100%|██████████| 28/28 [00:00<00:00, 120.41it/s]\n",
      "100%|██████████| 943/943 [00:00<00:00, 2539.67it/s]\n"
     ]
    },
    {
     "name": "stdout",
     "output_type": "stream",
     "text": [
      "Epoch 1: train loss :   0.941155   val loss :   0.624960   val score :   0.110286\n",
      "------ epoch:2 ------\n"
     ]
    },
    {
     "name": "stderr",
     "output_type": "stream",
     "text": [
      "100%|██████████| 252/252 [00:04<00:00, 62.96it/s]\n",
      "100%|██████████| 28/28 [00:00<00:00, 69.82it/s] \n",
      "100%|██████████| 943/943 [00:00<00:00, 2461.27it/s]\n"
     ]
    },
    {
     "name": "stdout",
     "output_type": "stream",
     "text": [
      "Epoch 2: train loss :   0.679345   val loss :   0.332559   val score :   0.131495\n",
      "------ epoch:3 ------\n"
     ]
    },
    {
     "name": "stderr",
     "output_type": "stream",
     "text": [
      "100%|██████████| 252/252 [00:03<00:00, 66.56it/s]\n",
      "100%|██████████| 28/28 [00:00<00:00, 69.59it/s]\n",
      "100%|██████████| 943/943 [00:00<00:00, 2432.79it/s]\n"
     ]
    },
    {
     "name": "stdout",
     "output_type": "stream",
     "text": [
      "Epoch 3: train loss :   0.555232   val loss :   0.280312   val score :   0.127253\n",
      "------ epoch:4 ------\n"
     ]
    },
    {
     "name": "stderr",
     "output_type": "stream",
     "text": [
      "100%|██████████| 252/252 [00:03<00:00, 65.30it/s]\n",
      "100%|██████████| 28/28 [00:00<00:00, 115.84it/s]\n",
      "100%|██████████| 943/943 [00:00<00:00, 1716.13it/s]\n"
     ]
    },
    {
     "name": "stdout",
     "output_type": "stream",
     "text": [
      "Epoch 4: train loss :   0.488464   val loss :   0.265949   val score :   0.127253\n",
      "------ epoch:5 ------\n"
     ]
    },
    {
     "name": "stderr",
     "output_type": "stream",
     "text": [
      "100%|██████████| 252/252 [00:03<00:00, 63.16it/s]\n",
      "100%|██████████| 28/28 [00:00<00:00, 118.95it/s]\n",
      "100%|██████████| 943/943 [00:00<00:00, 2439.61it/s]\n"
     ]
    },
    {
     "name": "stdout",
     "output_type": "stream",
     "text": [
      "Epoch 5: train loss :   0.428114   val loss :   0.254871   val score :   0.123012\n",
      "Epoch 00005: reducing learning rate of group 0 to 1.0000e-04.\n",
      "------ epoch:6 ------\n"
     ]
    },
    {
     "name": "stderr",
     "output_type": "stream",
     "text": [
      "100%|██████████| 252/252 [00:03<00:00, 67.04it/s]\n",
      "100%|██████████| 28/28 [00:00<00:00, 120.42it/s]\n",
      "100%|██████████| 943/943 [00:00<00:00, 2458.92it/s]\n"
     ]
    },
    {
     "name": "stdout",
     "output_type": "stream",
     "text": [
      "Epoch 6: train loss :   0.396404   val loss :   0.253642   val score :   0.123012\n"
     ]
    },
    {
     "name": "stderr",
     "output_type": "stream",
     "text": [
      "100%|██████████| 70/70 [00:00<00:00, 95.06it/s] \n",
      "100%|██████████| 943/943 [00:00<00:00, 1828.13it/s]\n"
     ]
    },
    {
     "name": "stdout",
     "output_type": "stream",
     "text": [
      "------ log loss of 4 fold : 0.25151151184524806 ------\n",
      "------ score of 4 fold : 0.11558854718981973 ------\n",
      "------ 第5折 ------\n",
      "------ epoch:1 ------\n"
     ]
    },
    {
     "name": "stderr",
     "output_type": "stream",
     "text": [
      "100%|██████████| 252/252 [00:04<00:00, 62.83it/s]\n",
      "100%|██████████| 28/28 [00:00<00:00, 117.00it/s]\n",
      "100%|██████████| 943/943 [00:00<00:00, 2749.57it/s]\n"
     ]
    },
    {
     "name": "stdout",
     "output_type": "stream",
     "text": [
      "Epoch 1: train loss :   0.924737   val loss :   0.623310   val score :   0.120891\n",
      "------ epoch:2 ------\n"
     ]
    },
    {
     "name": "stderr",
     "output_type": "stream",
     "text": [
      "100%|██████████| 252/252 [00:03<00:00, 63.87it/s]\n",
      "100%|██████████| 28/28 [00:00<00:00, 109.26it/s]\n",
      "100%|██████████| 943/943 [00:00<00:00, 2526.54it/s]\n"
     ]
    },
    {
     "name": "stdout",
     "output_type": "stream",
     "text": [
      "Epoch 2: train loss :   0.676516   val loss :   0.339700   val score :   0.123012\n",
      "------ epoch:3 ------\n"
     ]
    },
    {
     "name": "stderr",
     "output_type": "stream",
     "text": [
      "100%|██████████| 252/252 [00:03<00:00, 64.64it/s]\n",
      "100%|██████████| 28/28 [00:00<00:00, 67.39it/s] \n",
      "100%|██████████| 943/943 [00:00<00:00, 2461.28it/s]\n"
     ]
    },
    {
     "name": "stdout",
     "output_type": "stream",
     "text": [
      "Epoch 3: train loss :   0.549724   val loss :   0.281616   val score :   0.129374\n",
      "------ epoch:4 ------\n"
     ]
    },
    {
     "name": "stderr",
     "output_type": "stream",
     "text": [
      "100%|██████████| 252/252 [00:03<00:00, 67.29it/s]\n",
      "100%|██████████| 28/28 [00:00<00:00, 70.27it/s]\n",
      "100%|██████████| 943/943 [00:00<00:00, 2430.32it/s]\n"
     ]
    },
    {
     "name": "stdout",
     "output_type": "stream",
     "text": [
      "Epoch 4: train loss :   0.482850   val loss :   0.266007   val score :   0.128314\n",
      "------ epoch:5 ------\n"
     ]
    },
    {
     "name": "stderr",
     "output_type": "stream",
     "text": [
      "100%|██████████| 252/252 [00:03<00:00, 64.17it/s]\n",
      "100%|██████████| 28/28 [00:00<00:00, 116.50it/s]\n",
      "100%|██████████| 943/943 [00:00<00:00, 2666.49it/s]\n"
     ]
    },
    {
     "name": "stdout",
     "output_type": "stream",
     "text": [
      "Epoch 5: train loss :   0.423050   val loss :   0.254563   val score :   0.126193\n",
      "------ epoch:6 ------\n"
     ]
    },
    {
     "name": "stderr",
     "output_type": "stream",
     "text": [
      "100%|██████████| 252/252 [00:03<00:00, 64.79it/s]\n",
      "100%|██████████| 28/28 [00:00<00:00, 115.46it/s]\n",
      "100%|██████████| 943/943 [00:00<00:00, 2369.50it/s]\n"
     ]
    },
    {
     "name": "stdout",
     "output_type": "stream",
     "text": [
      "Epoch 6: train loss :   0.368825   val loss :   0.242454   val score :   0.127253\n",
      "Epoch 00006: reducing learning rate of group 0 to 1.0000e-04.\n",
      "------ epoch:7 ------\n"
     ]
    },
    {
     "name": "stderr",
     "output_type": "stream",
     "text": [
      "100%|██████████| 252/252 [00:04<00:00, 62.26it/s]\n",
      "100%|██████████| 28/28 [00:00<00:00, 120.27it/s]\n",
      "100%|██████████| 943/943 [00:00<00:00, 2447.21it/s]\n"
     ]
    },
    {
     "name": "stdout",
     "output_type": "stream",
     "text": [
      "Epoch 7: train loss :   0.341180   val loss :   0.241094   val score :   0.127253\n"
     ]
    },
    {
     "name": "stderr",
     "output_type": "stream",
     "text": [
      "100%|██████████| 70/70 [00:00<00:00, 87.92it/s] \n",
      "100%|██████████| 943/943 [00:00<00:00, 2512.12it/s]\n"
     ]
    },
    {
     "name": "stdout",
     "output_type": "stream",
     "text": [
      "------ log loss of 5 fold : 0.24002552926540374 ------\n",
      "------ score of 5 fold : 0.1007423117709438 ------\n",
      "settings : power = 1, model type = 2\n",
      "parameters :  {'num_users': 943, 'num_items': 1682, 'embedding_dim': 10, 'lr': 0.001, 'alpha': 0.1, 'patience': 3, 'epochs': 30, 'device': 'cuda:0', 'model_selection': True}\n",
      "------ log loss of the model : 0.24110697805881495 ------\n",
      "------ score of the model : 0.1022269353128314 ------\n",
      "------ 第1折 ------\n",
      "------ epoch:1 ------\n"
     ]
    },
    {
     "name": "stderr",
     "output_type": "stream",
     "text": [
      "100%|██████████| 252/252 [00:03<00:00, 66.24it/s]\n",
      "100%|██████████| 28/28 [00:00<00:00, 104.81it/s]\n",
      "100%|██████████| 943/943 [00:00<00:00, 2454.12it/s]\n"
     ]
    },
    {
     "name": "stdout",
     "output_type": "stream",
     "text": [
      "Epoch 1: train loss :   0.463159   val loss :   0.200271   val score :   0.097561\n",
      "------ epoch:2 ------\n"
     ]
    },
    {
     "name": "stderr",
     "output_type": "stream",
     "text": [
      "100%|██████████| 252/252 [00:03<00:00, 64.26it/s]\n",
      "100%|██████████| 28/28 [00:00<00:00, 119.56it/s]\n",
      "100%|██████████| 943/943 [00:00<00:00, 2542.85it/s]\n"
     ]
    },
    {
     "name": "stdout",
     "output_type": "stream",
     "text": [
      "Epoch 2: train loss :   0.198247   val loss :   0.168217   val score :   0.247084\n",
      "------ epoch:3 ------\n"
     ]
    },
    {
     "name": "stderr",
     "output_type": "stream",
     "text": [
      "100%|██████████| 252/252 [00:03<00:00, 63.58it/s]\n",
      "100%|██████████| 28/28 [00:00<00:00, 68.19it/s] \n",
      "100%|██████████| 943/943 [00:00<00:00, 2516.10it/s]\n"
     ]
    },
    {
     "name": "stdout",
     "output_type": "stream",
     "text": [
      "Epoch 3: train loss :   0.170082   val loss :   0.161879   val score :   0.294804\n",
      "------ epoch:4 ------\n"
     ]
    },
    {
     "name": "stderr",
     "output_type": "stream",
     "text": [
      "100%|██████████| 252/252 [00:03<00:00, 64.43it/s]\n",
      "100%|██████████| 28/28 [00:00<00:00, 115.53it/s]\n",
      "100%|██████████| 943/943 [00:00<00:00, 2438.20it/s]\n"
     ]
    },
    {
     "name": "stdout",
     "output_type": "stream",
     "text": [
      "Epoch 4: train loss :   0.163224   val loss :   0.160066   val score :   0.297985\n",
      "------ epoch:5 ------\n"
     ]
    },
    {
     "name": "stderr",
     "output_type": "stream",
     "text": [
      "100%|██████████| 252/252 [00:04<00:00, 55.44it/s]\n",
      "100%|██████████| 28/28 [00:00<00:00, 115.05it/s]\n",
      "100%|██████████| 943/943 [00:00<00:00, 2508.31it/s]\n"
     ]
    },
    {
     "name": "stdout",
     "output_type": "stream",
     "text": [
      "Epoch 5: train loss :   0.161632   val loss :   0.159600   val score :   0.293743\n",
      "------ epoch:6 ------\n"
     ]
    },
    {
     "name": "stderr",
     "output_type": "stream",
     "text": [
      "100%|██████████| 252/252 [00:04<00:00, 60.97it/s]\n",
      "100%|██████████| 28/28 [00:00<00:00, 118.38it/s]\n",
      "100%|██████████| 943/943 [00:00<00:00, 2432.14it/s]\n"
     ]
    },
    {
     "name": "stdout",
     "output_type": "stream",
     "text": [
      "Epoch 6: train loss :   0.161247   val loss :   0.159598   val score :   0.297985\n",
      "------ epoch:7 ------\n"
     ]
    },
    {
     "name": "stderr",
     "output_type": "stream",
     "text": [
      "100%|██████████| 252/252 [00:04<00:00, 62.53it/s]\n",
      "100%|██████████| 28/28 [00:00<00:00, 114.27it/s]\n",
      "100%|██████████| 943/943 [00:00<00:00, 2487.20it/s]\n"
     ]
    },
    {
     "name": "stdout",
     "output_type": "stream",
     "text": [
      "Epoch 7: train loss :   0.161151   val loss :   0.159482   val score :   0.275716\n",
      "Epoch 00007: reducing learning rate of group 0 to 1.0000e-03.\n",
      "------ epoch:8 ------\n"
     ]
    },
    {
     "name": "stderr",
     "output_type": "stream",
     "text": [
      "100%|██████████| 252/252 [00:04<00:00, 62.13it/s]\n",
      "100%|██████████| 28/28 [00:00<00:00, 118.50it/s]\n",
      "100%|██████████| 943/943 [00:00<00:00, 2731.47it/s]\n"
     ]
    },
    {
     "name": "stdout",
     "output_type": "stream",
     "text": [
      "Epoch 8: train loss :   0.160043   val loss :   0.159442   val score :   0.279958\n"
     ]
    },
    {
     "name": "stderr",
     "output_type": "stream",
     "text": [
      "100%|██████████| 70/70 [00:00<00:00, 93.31it/s] \n",
      "100%|██████████| 943/943 [00:00<00:00, 2684.33it/s]\n"
     ]
    },
    {
     "name": "stdout",
     "output_type": "stream",
     "text": [
      "------ log loss of 1 fold : 0.15310640505381992 ------\n",
      "------ score of 1 fold : 0.2449628844114528 ------\n",
      "------ 第2折 ------\n",
      "------ epoch:1 ------\n"
     ]
    },
    {
     "name": "stderr",
     "output_type": "stream",
     "text": [
      "100%|██████████| 252/252 [00:03<00:00, 64.81it/s]\n",
      "100%|██████████| 28/28 [00:00<00:00, 119.01it/s]\n",
      "100%|██████████| 943/943 [00:00<00:00, 1678.65it/s]\n"
     ]
    },
    {
     "name": "stdout",
     "output_type": "stream",
     "text": [
      "Epoch 1: train loss :   0.452095   val loss :   0.197995   val score :   0.119830\n",
      "------ epoch:2 ------\n"
     ]
    },
    {
     "name": "stderr",
     "output_type": "stream",
     "text": [
      "100%|██████████| 252/252 [00:03<00:00, 66.94it/s]\n",
      "100%|██████████| 28/28 [00:00<00:00, 68.21it/s]\n",
      "100%|██████████| 943/943 [00:00<00:00, 2518.30it/s]\n"
     ]
    },
    {
     "name": "stdout",
     "output_type": "stream",
     "text": [
      "Epoch 2: train loss :   0.197039   val loss :   0.167888   val score :   0.221633\n",
      "------ epoch:3 ------\n"
     ]
    },
    {
     "name": "stderr",
     "output_type": "stream",
     "text": [
      "100%|██████████| 252/252 [00:03<00:00, 67.36it/s]\n",
      "100%|██████████| 28/28 [00:00<00:00, 109.50it/s]\n",
      "100%|██████████| 943/943 [00:00<00:00, 2572.68it/s]\n"
     ]
    },
    {
     "name": "stdout",
     "output_type": "stream",
     "text": [
      "Epoch 3: train loss :   0.169026   val loss :   0.161550   val score :   0.275716\n",
      "------ epoch:4 ------\n"
     ]
    },
    {
     "name": "stderr",
     "output_type": "stream",
     "text": [
      "100%|██████████| 252/252 [00:04<00:00, 62.25it/s]\n",
      "100%|██████████| 28/28 [00:00<00:00, 123.82it/s]\n",
      "100%|██████████| 943/943 [00:00<00:00, 2366.29it/s]\n"
     ]
    },
    {
     "name": "stdout",
     "output_type": "stream",
     "text": [
      "Epoch 4: train loss :   0.162317   val loss :   0.159761   val score :   0.276776\n",
      "------ epoch:5 ------\n"
     ]
    },
    {
     "name": "stderr",
     "output_type": "stream",
     "text": [
      "100%|██████████| 252/252 [00:03<00:00, 64.96it/s]\n",
      "100%|██████████| 28/28 [00:00<00:00, 111.09it/s]\n",
      "100%|██████████| 943/943 [00:00<00:00, 2390.29it/s]\n"
     ]
    },
    {
     "name": "stdout",
     "output_type": "stream",
     "text": [
      "Epoch 5: train loss :   0.160434   val loss :   0.159340   val score :   0.266172\n",
      "------ epoch:6 ------\n"
     ]
    },
    {
     "name": "stderr",
     "output_type": "stream",
     "text": [
      "100%|██████████| 252/252 [00:04<00:00, 62.70it/s]\n",
      "100%|██████████| 28/28 [00:00<00:00, 110.53it/s]\n",
      "100%|██████████| 943/943 [00:00<00:00, 2439.79it/s]\n"
     ]
    },
    {
     "name": "stdout",
     "output_type": "stream",
     "text": [
      "Epoch 6: train loss :   0.160072   val loss :   0.159059   val score :   0.265111\n",
      "------ epoch:7 ------\n"
     ]
    },
    {
     "name": "stderr",
     "output_type": "stream",
     "text": [
      "100%|██████████| 252/252 [00:03<00:00, 63.38it/s]\n",
      "100%|██████████| 28/28 [00:00<00:00, 68.98it/s]\n",
      "100%|██████████| 943/943 [00:00<00:00, 2582.41it/s]\n"
     ]
    },
    {
     "name": "stdout",
     "output_type": "stream",
     "text": [
      "Epoch 7: train loss :   0.159856   val loss :   0.159147   val score :   0.273595\n",
      "Epoch 00007: reducing learning rate of group 0 to 1.0000e-03.\n",
      "------ epoch:8 ------\n"
     ]
    },
    {
     "name": "stderr",
     "output_type": "stream",
     "text": [
      "100%|██████████| 252/252 [00:03<00:00, 63.55it/s]\n",
      "100%|██████████| 28/28 [00:00<00:00, 118.23it/s]\n",
      "100%|██████████| 943/943 [00:00<00:00, 2432.05it/s]\n"
     ]
    },
    {
     "name": "stdout",
     "output_type": "stream",
     "text": [
      "Epoch 8: train loss :   0.159007   val loss :   0.159131   val score :   0.273595\n"
     ]
    },
    {
     "name": "stderr",
     "output_type": "stream",
     "text": [
      "100%|██████████| 70/70 [00:00<00:00, 90.52it/s] \n",
      "100%|██████████| 943/943 [00:00<00:00, 2020.11it/s]\n"
     ]
    },
    {
     "name": "stdout",
     "output_type": "stream",
     "text": [
      "------ log loss of 2 fold : 0.15663802613105093 ------\n",
      "------ score of 2 fold : 0.23435843054082714 ------\n",
      "------ 第3折 ------\n",
      "------ epoch:1 ------\n"
     ]
    },
    {
     "name": "stderr",
     "output_type": "stream",
     "text": [
      "100%|██████████| 252/252 [00:03<00:00, 64.51it/s]\n",
      "100%|██████████| 28/28 [00:00<00:00, 118.37it/s]\n",
      "100%|██████████| 943/943 [00:00<00:00, 2439.71it/s]\n"
     ]
    },
    {
     "name": "stdout",
     "output_type": "stream",
     "text": [
      "Epoch 1: train loss :   0.462842   val loss :   0.198881   val score :   0.123012\n",
      "------ epoch:2 ------\n"
     ]
    },
    {
     "name": "stderr",
     "output_type": "stream",
     "text": [
      "100%|██████████| 252/252 [00:03<00:00, 64.21it/s]\n",
      "100%|██████████| 28/28 [00:00<00:00, 117.04it/s]\n",
      "100%|██████████| 943/943 [00:00<00:00, 2759.50it/s]\n"
     ]
    },
    {
     "name": "stdout",
     "output_type": "stream",
     "text": [
      "Epoch 2: train loss :   0.196435   val loss :   0.167362   val score :   0.242842\n",
      "------ epoch:3 ------\n"
     ]
    },
    {
     "name": "stderr",
     "output_type": "stream",
     "text": [
      "100%|██████████| 252/252 [00:03<00:00, 64.33it/s]\n",
      "100%|██████████| 28/28 [00:00<00:00, 115.55it/s]\n",
      "100%|██████████| 943/943 [00:00<00:00, 2604.97it/s]\n"
     ]
    },
    {
     "name": "stdout",
     "output_type": "stream",
     "text": [
      "Epoch 3: train loss :   0.168216   val loss :   0.161058   val score :   0.269353\n",
      "------ epoch:4 ------\n"
     ]
    },
    {
     "name": "stderr",
     "output_type": "stream",
     "text": [
      "100%|██████████| 252/252 [00:03<00:00, 63.89it/s]\n",
      "100%|██████████| 28/28 [00:00<00:00, 119.76it/s]\n",
      "100%|██████████| 943/943 [00:00<00:00, 2444.55it/s]\n"
     ]
    },
    {
     "name": "stdout",
     "output_type": "stream",
     "text": [
      "Epoch 4: train loss :   0.161676   val loss :   0.159205   val score :   0.281018\n",
      "------ epoch:5 ------\n"
     ]
    },
    {
     "name": "stderr",
     "output_type": "stream",
     "text": [
      "100%|██████████| 252/252 [00:03<00:00, 63.52it/s]\n",
      "100%|██████████| 28/28 [00:00<00:00, 69.17it/s] \n",
      "100%|██████████| 943/943 [00:00<00:00, 2405.57it/s]\n"
     ]
    },
    {
     "name": "stdout",
     "output_type": "stream",
     "text": [
      "Epoch 5: train loss :   0.159608   val loss :   0.158607   val score :   0.276776\n",
      "------ epoch:6 ------\n"
     ]
    },
    {
     "name": "stderr",
     "output_type": "stream",
     "text": [
      "100%|██████████| 252/252 [00:04<00:00, 62.80it/s]\n",
      "100%|██████████| 28/28 [00:00<00:00, 116.75it/s]\n",
      "100%|██████████| 943/943 [00:00<00:00, 2642.10it/s]\n"
     ]
    },
    {
     "name": "stdout",
     "output_type": "stream",
     "text": [
      "Epoch 6: train loss :   0.159266   val loss :   0.158579   val score :   0.270414\n",
      "------ epoch:7 ------\n"
     ]
    },
    {
     "name": "stderr",
     "output_type": "stream",
     "text": [
      "100%|██████████| 252/252 [00:03<00:00, 63.60it/s]\n",
      "100%|██████████| 28/28 [00:00<00:00, 117.27it/s]\n",
      "100%|██████████| 943/943 [00:00<00:00, 2463.31it/s]\n"
     ]
    },
    {
     "name": "stdout",
     "output_type": "stream",
     "text": [
      "Epoch 7: train loss :   0.159231   val loss :   0.158454   val score :   0.270414\n",
      "Epoch 00007: reducing learning rate of group 0 to 1.0000e-03.\n",
      "------ epoch:8 ------\n"
     ]
    },
    {
     "name": "stderr",
     "output_type": "stream",
     "text": [
      "100%|██████████| 252/252 [00:03<00:00, 65.85it/s]\n",
      "100%|██████████| 28/28 [00:00<00:00, 105.05it/s]\n",
      "100%|██████████| 943/943 [00:00<00:00, 2472.14it/s]\n"
     ]
    },
    {
     "name": "stdout",
     "output_type": "stream",
     "text": [
      "Epoch 8: train loss :   0.158423   val loss :   0.158464   val score :   0.273595\n"
     ]
    },
    {
     "name": "stderr",
     "output_type": "stream",
     "text": [
      "100%|██████████| 70/70 [00:00<00:00, 90.85it/s] \n",
      "100%|██████████| 943/943 [00:00<00:00, 1523.79it/s]\n"
     ]
    },
    {
     "name": "stdout",
     "output_type": "stream",
     "text": [
      "------ log loss of 3 fold : 0.1596590705215931 ------\n",
      "------ score of 3 fold : 0.2725344644750795 ------\n",
      "------ 第4折 ------\n",
      "------ epoch:1 ------\n"
     ]
    },
    {
     "name": "stderr",
     "output_type": "stream",
     "text": [
      "100%|██████████| 252/252 [00:04<00:00, 60.29it/s]\n",
      "100%|██████████| 28/28 [00:00<00:00, 116.40it/s]\n",
      "100%|██████████| 943/943 [00:00<00:00, 2620.13it/s]\n"
     ]
    },
    {
     "name": "stdout",
     "output_type": "stream",
     "text": [
      "Epoch 1: train loss :   0.464487   val loss :   0.200588   val score :   0.125133\n",
      "------ epoch:2 ------\n"
     ]
    },
    {
     "name": "stderr",
     "output_type": "stream",
     "text": [
      "100%|██████████| 252/252 [00:04<00:00, 62.15it/s]\n",
      "100%|██████████| 28/28 [00:00<00:00, 121.76it/s]\n",
      "100%|██████████| 943/943 [00:00<00:00, 2440.57it/s]\n"
     ]
    },
    {
     "name": "stdout",
     "output_type": "stream",
     "text": [
      "Epoch 2: train loss :   0.197397   val loss :   0.168638   val score :   0.242842\n",
      "------ epoch:3 ------\n"
     ]
    },
    {
     "name": "stderr",
     "output_type": "stream",
     "text": [
      "100%|██████████| 252/252 [00:03<00:00, 68.09it/s]\n",
      "100%|██████████| 28/28 [00:00<00:00, 69.79it/s] \n",
      "100%|██████████| 943/943 [00:00<00:00, 2466.26it/s]\n"
     ]
    },
    {
     "name": "stdout",
     "output_type": "stream",
     "text": [
      "Epoch 3: train loss :   0.169341   val loss :   0.162349   val score :   0.304348\n",
      "------ epoch:4 ------\n"
     ]
    },
    {
     "name": "stderr",
     "output_type": "stream",
     "text": [
      "100%|██████████| 252/252 [00:03<00:00, 72.03it/s]\n",
      "100%|██████████| 28/28 [00:00<00:00, 68.25it/s]\n",
      "100%|██████████| 943/943 [00:00<00:00, 2602.45it/s]\n"
     ]
    },
    {
     "name": "stdout",
     "output_type": "stream",
     "text": [
      "Epoch 4: train loss :   0.162535   val loss :   0.160477   val score :   0.307529\n",
      "------ epoch:5 ------\n"
     ]
    },
    {
     "name": "stderr",
     "output_type": "stream",
     "text": [
      "100%|██████████| 252/252 [00:03<00:00, 63.61it/s]\n",
      "100%|██████████| 28/28 [00:00<00:00, 106.32it/s]\n",
      "100%|██████████| 943/943 [00:00<00:00, 2717.69it/s]\n"
     ]
    },
    {
     "name": "stdout",
     "output_type": "stream",
     "text": [
      "Epoch 5: train loss :   0.160408   val loss :   0.160036   val score :   0.310710\n",
      "------ epoch:6 ------\n"
     ]
    },
    {
     "name": "stderr",
     "output_type": "stream",
     "text": [
      "100%|██████████| 252/252 [00:03<00:00, 64.66it/s]\n",
      "100%|██████████| 28/28 [00:00<00:00, 114.40it/s]\n",
      "100%|██████████| 943/943 [00:00<00:00, 1592.94it/s]\n"
     ]
    },
    {
     "name": "stdout",
     "output_type": "stream",
     "text": [
      "Epoch 6: train loss :   0.160166   val loss :   0.159799   val score :   0.312831\n",
      "------ epoch:7 ------\n"
     ]
    },
    {
     "name": "stderr",
     "output_type": "stream",
     "text": [
      "100%|██████████| 252/252 [00:03<00:00, 64.07it/s]\n",
      "100%|██████████| 28/28 [00:00<00:00, 116.22it/s]\n",
      "100%|██████████| 943/943 [00:00<00:00, 1412.16it/s]\n"
     ]
    },
    {
     "name": "stdout",
     "output_type": "stream",
     "text": [
      "Epoch 7: train loss :   0.160117   val loss :   0.159882   val score :   0.293743\n",
      "------ epoch:8 ------\n"
     ]
    },
    {
     "name": "stderr",
     "output_type": "stream",
     "text": [
      "100%|██████████| 252/252 [00:03<00:00, 64.11it/s]\n",
      "100%|██████████| 28/28 [00:00<00:00, 68.47it/s] \n",
      "100%|██████████| 943/943 [00:00<00:00, 1976.52it/s]\n"
     ]
    },
    {
     "name": "stdout",
     "output_type": "stream",
     "text": [
      "Epoch 8: train loss :   0.160154   val loss :   0.159926   val score :   0.316013\n",
      "------ epoch:9 ------\n"
     ]
    },
    {
     "name": "stderr",
     "output_type": "stream",
     "text": [
      "100%|██████████| 252/252 [00:03<00:00, 66.27it/s]\n",
      "100%|██████████| 28/28 [00:00<00:00, 68.54it/s]\n",
      "100%|██████████| 943/943 [00:00<00:00, 1950.28it/s]\n"
     ]
    },
    {
     "name": "stdout",
     "output_type": "stream",
     "text": [
      "Epoch 9: train loss :   0.160061   val loss :   0.159808   val score :   0.301166\n",
      "------ epoch:10 ------\n"
     ]
    },
    {
     "name": "stderr",
     "output_type": "stream",
     "text": [
      "100%|██████████| 252/252 [00:03<00:00, 64.02it/s]\n",
      "100%|██████████| 28/28 [00:00<00:00, 113.51it/s]\n",
      "100%|██████████| 943/943 [00:00<00:00, 1821.55it/s]\n"
     ]
    },
    {
     "name": "stdout",
     "output_type": "stream",
     "text": [
      "Epoch 10: train loss :   0.160163   val loss :   0.159879   val score :   0.301166\n",
      "------ epoch:11 ------\n"
     ]
    },
    {
     "name": "stderr",
     "output_type": "stream",
     "text": [
      "100%|██████████| 252/252 [00:03<00:00, 64.27it/s]\n",
      "100%|██████████| 28/28 [00:00<00:00, 118.06it/s]\n",
      "100%|██████████| 943/943 [00:00<00:00, 1443.12it/s]\n"
     ]
    },
    {
     "name": "stdout",
     "output_type": "stream",
     "text": [
      "Epoch 11: train loss :   0.160077   val loss :   0.159912   val score :   0.303287\n",
      "Epoch 00011: reducing learning rate of group 0 to 1.0000e-03.\n",
      "------ epoch:12 ------\n"
     ]
    },
    {
     "name": "stderr",
     "output_type": "stream",
     "text": [
      "100%|██████████| 252/252 [00:03<00:00, 65.12it/s]\n",
      "100%|██████████| 28/28 [00:00<00:00, 116.26it/s]\n",
      "100%|██████████| 943/943 [00:00<00:00, 2003.40it/s]\n"
     ]
    },
    {
     "name": "stdout",
     "output_type": "stream",
     "text": [
      "Epoch 12: train loss :   0.159170   val loss :   0.159883   val score :   0.312831\n"
     ]
    },
    {
     "name": "stderr",
     "output_type": "stream",
     "text": [
      "100%|██████████| 70/70 [00:00<00:00, 91.39it/s] \n",
      "100%|██████████| 943/943 [00:00<00:00, 2485.38it/s]\n"
     ]
    },
    {
     "name": "stdout",
     "output_type": "stream",
     "text": [
      "------ log loss of 4 fold : 0.15599069254738943 ------\n",
      "------ score of 4 fold : 0.22269353128313893 ------\n",
      "------ 第5折 ------\n",
      "------ epoch:1 ------\n"
     ]
    },
    {
     "name": "stderr",
     "output_type": "stream",
     "text": [
      "100%|██████████| 252/252 [00:03<00:00, 66.33it/s]\n",
      "100%|██████████| 28/28 [00:00<00:00, 118.07it/s]\n",
      "100%|██████████| 943/943 [00:00<00:00, 1802.54it/s]\n"
     ]
    },
    {
     "name": "stdout",
     "output_type": "stream",
     "text": [
      "Epoch 1: train loss :   0.448586   val loss :   0.196515   val score :   0.125133\n",
      "------ epoch:2 ------\n"
     ]
    },
    {
     "name": "stderr",
     "output_type": "stream",
     "text": [
      "100%|██████████| 252/252 [00:03<00:00, 66.15it/s]\n",
      "100%|██████████| 28/28 [00:00<00:00, 119.97it/s]\n",
      "100%|██████████| 943/943 [00:00<00:00, 2700.12it/s]\n"
     ]
    },
    {
     "name": "stdout",
     "output_type": "stream",
     "text": [
      "Epoch 2: train loss :   0.196271   val loss :   0.166857   val score :   0.243902\n",
      "------ epoch:3 ------\n"
     ]
    },
    {
     "name": "stderr",
     "output_type": "stream",
     "text": [
      "100%|██████████| 252/252 [00:03<00:00, 64.93it/s]\n",
      "100%|██████████| 28/28 [00:00<00:00, 68.24it/s] \n",
      "100%|██████████| 943/943 [00:00<00:00, 2748.44it/s]\n"
     ]
    },
    {
     "name": "stdout",
     "output_type": "stream",
     "text": [
      "Epoch 3: train loss :   0.168448   val loss :   0.160779   val score :   0.247084\n",
      "------ epoch:4 ------\n"
     ]
    },
    {
     "name": "stderr",
     "output_type": "stream",
     "text": [
      "100%|██████████| 252/252 [00:03<00:00, 64.66it/s]\n",
      "100%|██████████| 28/28 [00:00<00:00, 125.41it/s]\n",
      "100%|██████████| 943/943 [00:00<00:00, 2697.63it/s]\n"
     ]
    },
    {
     "name": "stdout",
     "output_type": "stream",
     "text": [
      "Epoch 4: train loss :   0.161733   val loss :   0.159128   val score :   0.254507\n",
      "------ epoch:5 ------\n"
     ]
    },
    {
     "name": "stderr",
     "output_type": "stream",
     "text": [
      "100%|██████████| 252/252 [00:03<00:00, 66.27it/s]\n",
      "100%|██████████| 28/28 [00:00<00:00, 123.55it/s]\n",
      "100%|██████████| 943/943 [00:00<00:00, 2552.86it/s]\n"
     ]
    },
    {
     "name": "stdout",
     "output_type": "stream",
     "text": [
      "Epoch 5: train loss :   0.160041   val loss :   0.158546   val score :   0.267232\n",
      "------ epoch:6 ------\n"
     ]
    },
    {
     "name": "stderr",
     "output_type": "stream",
     "text": [
      "100%|██████████| 252/252 [00:03<00:00, 76.57it/s] \n",
      "100%|██████████| 28/28 [00:00<00:00, 184.45it/s]\n",
      "100%|██████████| 943/943 [00:00<00:00, 3450.93it/s]\n"
     ]
    },
    {
     "name": "stdout",
     "output_type": "stream",
     "text": [
      "Epoch 6: train loss :   0.159922   val loss :   0.158328   val score :   0.268293\n",
      "------ epoch:7 ------\n"
     ]
    },
    {
     "name": "stderr",
     "output_type": "stream",
     "text": [
      "100%|██████████| 252/252 [00:03<00:00, 80.65it/s]\n",
      "100%|██████████| 28/28 [00:00<00:00, 146.10it/s]\n",
      "100%|██████████| 943/943 [00:00<00:00, 2134.98it/s]\n"
     ]
    },
    {
     "name": "stdout",
     "output_type": "stream",
     "text": [
      "Epoch 7: train loss :   0.159819   val loss :   0.158378   val score :   0.260870\n",
      "------ epoch:8 ------\n"
     ]
    },
    {
     "name": "stderr",
     "output_type": "stream",
     "text": [
      "100%|██████████| 252/252 [00:03<00:00, 78.38it/s]\n",
      "100%|██████████| 28/28 [00:00<00:00, 82.10it/s] \n",
      "100%|██████████| 943/943 [00:00<00:00, 2316.95it/s]\n"
     ]
    },
    {
     "name": "stdout",
     "output_type": "stream",
     "text": [
      "Epoch 8: train loss :   0.159712   val loss :   0.158431   val score :   0.268293\n",
      "------ epoch:9 ------\n"
     ]
    },
    {
     "name": "stderr",
     "output_type": "stream",
     "text": [
      "100%|██████████| 252/252 [00:03<00:00, 82.71it/s]\n",
      "100%|██████████| 28/28 [00:00<00:00, 82.90it/s]\n",
      "100%|██████████| 943/943 [00:00<00:00, 2737.23it/s]\n"
     ]
    },
    {
     "name": "stdout",
     "output_type": "stream",
     "text": [
      "Epoch 9: train loss :   0.159710   val loss :   0.158420   val score :   0.261930\n",
      "Epoch 00009: reducing learning rate of group 0 to 1.0000e-03.\n",
      "------ epoch:10 ------\n"
     ]
    },
    {
     "name": "stderr",
     "output_type": "stream",
     "text": [
      "100%|██████████| 252/252 [00:03<00:00, 75.14it/s]\n",
      "100%|██████████| 28/28 [00:00<00:00, 136.53it/s]\n",
      "100%|██████████| 943/943 [00:00<00:00, 2585.57it/s]\n"
     ]
    },
    {
     "name": "stdout",
     "output_type": "stream",
     "text": [
      "Epoch 10: train loss :   0.158835   val loss :   0.158368   val score :   0.272534\n",
      "------ epoch:11 ------\n"
     ]
    },
    {
     "name": "stderr",
     "output_type": "stream",
     "text": [
      "100%|██████████| 252/252 [00:03<00:00, 75.35it/s]\n",
      "100%|██████████| 28/28 [00:00<00:00, 131.86it/s]\n",
      "100%|██████████| 943/943 [00:00<00:00, 2677.34it/s]\n"
     ]
    },
    {
     "name": "stdout",
     "output_type": "stream",
     "text": [
      "Epoch 11: train loss :   0.158531   val loss :   0.158343   val score :   0.268293\n",
      "------ epoch:12 ------\n"
     ]
    },
    {
     "name": "stderr",
     "output_type": "stream",
     "text": [
      "100%|██████████| 252/252 [00:03<00:00, 73.54it/s]\n",
      "100%|██████████| 28/28 [00:00<00:00, 135.29it/s]\n",
      "100%|██████████| 943/943 [00:00<00:00, 2807.09it/s]\n"
     ]
    },
    {
     "name": "stdout",
     "output_type": "stream",
     "text": [
      "Epoch 12: train loss :   0.158659   val loss :   0.158335   val score :   0.265111\n",
      "------ epoch:13 ------\n"
     ]
    },
    {
     "name": "stderr",
     "output_type": "stream",
     "text": [
      "100%|██████████| 252/252 [00:03<00:00, 70.40it/s]\n",
      "100%|██████████| 28/28 [00:00<00:00, 136.85it/s]\n",
      "100%|██████████| 943/943 [00:00<00:00, 2592.70it/s]\n"
     ]
    },
    {
     "name": "stdout",
     "output_type": "stream",
     "text": [
      "Epoch 13: train loss :   0.158631   val loss :   0.158320   val score :   0.267232\n",
      "Epoch 00013: reducing learning rate of group 0 to 1.0000e-04.\n",
      "------ epoch:14 ------\n"
     ]
    },
    {
     "name": "stderr",
     "output_type": "stream",
     "text": [
      "100%|██████████| 252/252 [00:03<00:00, 71.18it/s]\n",
      "100%|██████████| 28/28 [00:00<00:00, 76.17it/s] \n",
      "100%|██████████| 943/943 [00:00<00:00, 2587.77it/s]\n"
     ]
    },
    {
     "name": "stdout",
     "output_type": "stream",
     "text": [
      "Epoch 14: train loss :   0.158593   val loss :   0.158320   val score :   0.267232\n"
     ]
    },
    {
     "name": "stderr",
     "output_type": "stream",
     "text": [
      "100%|██████████| 70/70 [00:00<00:00, 137.69it/s]\n",
      "100%|██████████| 943/943 [00:00<00:00, 2551.84it/s]"
     ]
    },
    {
     "name": "stdout",
     "output_type": "stream",
     "text": [
      "------ log loss of 5 fold : 0.1581406974366733 ------\n",
      "------ score of 5 fold : 0.26299045599151644 ------\n",
      "settings : power = 1, model type = 2\n",
      "parameters :  {'num_users': 943, 'num_items': 1682, 'embedding_dim': 10, 'lr': 0.01, 'alpha': 0.1, 'patience': 3, 'epochs': 30, 'device': 'cuda:0', 'model_selection': True}\n",
      "------ log loss of the model : 0.15670697833810535 ------\n",
      "------ score of the model : 0.247507953340403 ------\n"
     ]
    },
    {
     "name": "stderr",
     "output_type": "stream",
     "text": [
      "\n"
     ]
    }
   ],
   "source": [
    "embedding_dim = 10\n",
    "lr = 1e-3\n",
    "alpha = 1e-3\n",
    "model_type = 2\n",
    "seed_everything(42)\n",
    "CrossValidation3(train, model_type=model_type, power=power, k=5,  \n",
    "                num_users=num_users, num_items=num_items, embedding_dim=embedding_dim, \n",
    "               lr=lr, alpha=alpha, patience=3, epochs=30, device=\"cuda:0\", model_selection=True)\n",
    "\n",
    "embedding_dim = 10\n",
    "lr = 1e-2\n",
    "alpha = 1e-2\n",
    "model_type = 2\n",
    "seed_everything(42)\n",
    "CrossValidation3(train, model_type=model_type, power=power, k=5,  \n",
    "                num_users=num_users, num_items=num_items, embedding_dim=embedding_dim, \n",
    "               lr=lr, alpha=alpha, patience=3, epochs=30, device=\"cuda:0\", model_selection=True)\n",
    "\n",
    "embedding_dim = 10\n",
    "lr = 1e-1\n",
    "alpha = 1e-1\n",
    "model_type = 2\n",
    "seed_everything(42)\n",
    "CrossValidation3(train, model_type=model_type, power=power, k=5,  \n",
    "                num_users=num_users, num_items=num_items, embedding_dim=embedding_dim, \n",
    "               lr=lr, alpha=alpha, patience=3, epochs=30, device=\"cuda:0\", model_selection=True)\n",
    "\n",
    "embedding_dim = 20\n",
    "lr = 1e-3\n",
    "alpha = 1e-3\n",
    "model_type = 2\n",
    "seed_everything(42)\n",
    "CrossValidation3(train, model_type=model_type, power=power, k=5,  \n",
    "                num_users=num_users, num_items=num_items, embedding_dim=embedding_dim, \n",
    "               lr=lr, alpha=alpha, patience=3, epochs=30, device=\"cuda:0\", model_selection=True)\n",
    "\n",
    "embedding_dim = 20\n",
    "lr = 1e-2\n",
    "alpha = 1e-2\n",
    "model_type = 2\n",
    "seed_everything(42)\n",
    "CrossValidation3(train, model_type=model_type, power=power, k=5,  \n",
    "                num_users=num_users, num_items=num_items, embedding_dim=embedding_dim, \n",
    "               lr=lr, alpha=alpha, patience=3, epochs=30, device=\"cuda:0\", model_selection=True)\n",
    "\n",
    "embedding_dim = 20\n",
    "lr = 1e-1\n",
    "alpha = 1e-1\n",
    "model_type = 2\n",
    "seed_everything(42)\n",
    "CrossValidation3(train, model_type=model_type, power=power, k=5,  \n",
    "                num_users=num_users, num_items=num_items, embedding_dim=embedding_dim, \n",
    "               lr=lr, alpha=alpha, patience=3, epochs=30, device=\"cuda:0\", model_selection=True)\n",
    "\n",
    "embedding_dim = 50\n",
    "lr = 1e-3\n",
    "alpha = 1e-3\n",
    "model_type = 2\n",
    "seed_everything(42)\n",
    "CrossValidation3(train, model_type=model_type, power=power, k=5,  \n",
    "                num_users=num_users, num_items=num_items, embedding_dim=embedding_dim, \n",
    "               lr=lr, alpha=alpha, patience=3, epochs=30, device=\"cuda:0\", model_selection=True)\n",
    "\n",
    "embedding_dim = 50\n",
    "lr = 1e-2\n",
    "alpha = 1e-2\n",
    "model_type = 2\n",
    "seed_everything(42)\n",
    "CrossValidation3(train, model_type=model_type, power=power, k=5,  \n",
    "                num_users=num_users, num_items=num_items, embedding_dim=embedding_dim, \n",
    "               lr=lr, alpha=alpha, patience=3, epochs=30, device=\"cuda:0\", model_selection=True)\n",
    "\n",
    "embedding_dim = 50\n",
    "lr = 1e-1\n",
    "alpha = 1e-1\n",
    "model_type = 2\n",
    "seed_everything(42)\n",
    "CrossValidation3(train, model_type=model_type, power=power, k=5,  \n",
    "                num_users=num_users, num_items=num_items, embedding_dim=embedding_dim, \n",
    "               lr=lr, alpha=alpha, patience=3, epochs=30, device=\"cuda:0\", model_selection=True)\n",
    "\n",
    "embedding_dim = 10\n",
    "lr = 1e-3\n",
    "alpha = 1e-1\n",
    "model_type = 2\n",
    "seed_everything(42)\n",
    "CrossValidation3(train, model_type=model_type, power=power, k=5,  \n",
    "                num_users=num_users, num_items=num_items, embedding_dim=embedding_dim, \n",
    "               lr=lr, alpha=alpha, patience=3, epochs=30, device=\"cuda:0\", model_selection=True)\n",
    "\n",
    "embedding_dim = 10\n",
    "lr = 1e-2\n",
    "alpha = 1e-1\n",
    "model_type = 2\n",
    "seed_everything(42)\n",
    "CrossValidation3(train, model_type=model_type, power=power, k=5,  \n",
    "                num_users=num_users, num_items=num_items, embedding_dim=embedding_dim, \n",
    "               lr=lr, alpha=alpha, patience=3, epochs=30, device=\"cuda:0\", model_selection=True)"
   ]
  },
  {
   "cell_type": "code",
   "execution_count": 11,
   "id": "82b30dcc-e9ee-4ea2-a917-d2e422067f4e",
   "metadata": {
    "collapsed": true,
    "jupyter": {
     "outputs_hidden": true
    },
    "tags": []
   },
   "outputs": [
    {
     "name": "stdout",
     "output_type": "stream",
     "text": [
      "------ 第1折 ------\n",
      "------ epoch:1 ------\n"
     ]
    },
    {
     "name": "stderr",
     "output_type": "stream",
     "text": [
      "100%|██████████| 252/252 [00:03<00:00, 65.54it/s]\n",
      "100%|██████████| 28/28 [00:00<00:00, 72.63it/s] \n",
      "100%|██████████| 943/943 [00:00<00:00, 2456.19it/s]\n"
     ]
    },
    {
     "name": "stdout",
     "output_type": "stream",
     "text": [
      "Epoch 1: train loss :   0.204481   val loss :   0.160389   val score :   0.208908\n",
      "------ epoch:2 ------\n"
     ]
    },
    {
     "name": "stderr",
     "output_type": "stream",
     "text": [
      "100%|██████████| 252/252 [00:03<00:00, 63.93it/s]\n",
      "100%|██████████| 28/28 [00:00<00:00, 123.12it/s]\n",
      "100%|██████████| 943/943 [00:00<00:00, 2500.39it/s]\n"
     ]
    },
    {
     "name": "stdout",
     "output_type": "stream",
     "text": [
      "Epoch 2: train loss :   0.176573   val loss :   0.160422   val score :   0.170732\n",
      "------ epoch:3 ------\n"
     ]
    },
    {
     "name": "stderr",
     "output_type": "stream",
     "text": [
      "100%|██████████| 252/252 [00:04<00:00, 62.55it/s]\n",
      "100%|██████████| 28/28 [00:00<00:00, 126.62it/s]\n",
      "100%|██████████| 943/943 [00:00<00:00, 2668.74it/s]\n"
     ]
    },
    {
     "name": "stdout",
     "output_type": "stream",
     "text": [
      "Epoch 3: train loss :   0.177168   val loss :   0.160637   val score :   0.196182\n",
      "------ epoch:4 ------\n"
     ]
    },
    {
     "name": "stderr",
     "output_type": "stream",
     "text": [
      "100%|██████████| 252/252 [00:03<00:00, 65.58it/s]\n",
      "100%|██████████| 28/28 [00:00<00:00, 117.77it/s]\n",
      "100%|██████████| 943/943 [00:00<00:00, 2465.05it/s]\n"
     ]
    },
    {
     "name": "stdout",
     "output_type": "stream",
     "text": [
      "Epoch 4: train loss :   0.176842   val loss :   0.160943   val score :   0.197243\n",
      "Epoch 00004: reducing learning rate of group 0 to 1.0000e-02.\n",
      "------ epoch:5 ------\n"
     ]
    },
    {
     "name": "stderr",
     "output_type": "stream",
     "text": [
      "100%|██████████| 252/252 [00:03<00:00, 66.02it/s]\n",
      "100%|██████████| 28/28 [00:00<00:00, 130.32it/s]\n",
      "100%|██████████| 943/943 [00:00<00:00, 2530.79it/s]\n"
     ]
    },
    {
     "name": "stdout",
     "output_type": "stream",
     "text": [
      "Epoch 5: train loss :   0.163300   val loss :   0.159337   val score :   0.288441\n",
      "------ epoch:6 ------\n"
     ]
    },
    {
     "name": "stderr",
     "output_type": "stream",
     "text": [
      "100%|██████████| 252/252 [00:03<00:00, 66.51it/s]\n",
      "100%|██████████| 28/28 [00:00<00:00, 68.74it/s] \n",
      "100%|██████████| 943/943 [00:00<00:00, 2436.65it/s]\n"
     ]
    },
    {
     "name": "stdout",
     "output_type": "stream",
     "text": [
      "Epoch 6: train loss :   0.161115   val loss :   0.159410   val score :   0.296925\n",
      "------ epoch:7 ------\n"
     ]
    },
    {
     "name": "stderr",
     "output_type": "stream",
     "text": [
      "100%|██████████| 252/252 [00:03<00:00, 76.46it/s] \n",
      "100%|██████████| 28/28 [00:00<00:00, 113.49it/s]\n",
      "100%|██████████| 943/943 [00:00<00:00, 3092.21it/s]\n"
     ]
    },
    {
     "name": "stdout",
     "output_type": "stream",
     "text": [
      "Epoch 7: train loss :   0.161163   val loss :   0.159467   val score :   0.311771\n",
      "------ epoch:8 ------\n"
     ]
    },
    {
     "name": "stderr",
     "output_type": "stream",
     "text": [
      "100%|██████████| 252/252 [00:02<00:00, 84.10it/s]\n",
      "100%|██████████| 28/28 [00:00<00:00, 146.70it/s]\n",
      "100%|██████████| 943/943 [00:00<00:00, 2706.07it/s]\n"
     ]
    },
    {
     "name": "stdout",
     "output_type": "stream",
     "text": [
      "Epoch 8: train loss :   0.161232   val loss :   0.159418   val score :   0.295864\n",
      "------ epoch:9 ------\n"
     ]
    },
    {
     "name": "stderr",
     "output_type": "stream",
     "text": [
      "100%|██████████| 252/252 [00:03<00:00, 76.83it/s]\n",
      "100%|██████████| 28/28 [00:00<00:00, 135.71it/s]\n",
      "100%|██████████| 943/943 [00:00<00:00, 2539.24it/s]\n"
     ]
    },
    {
     "name": "stdout",
     "output_type": "stream",
     "text": [
      "Epoch 9: train loss :   0.161157   val loss :   0.159215   val score :   0.296925\n",
      "------ epoch:10 ------\n"
     ]
    },
    {
     "name": "stderr",
     "output_type": "stream",
     "text": [
      "100%|██████████| 252/252 [00:03<00:00, 68.55it/s]\n",
      "100%|██████████| 28/28 [00:00<00:00, 77.02it/s]\n",
      "100%|██████████| 943/943 [00:00<00:00, 1328.52it/s]\n"
     ]
    },
    {
     "name": "stdout",
     "output_type": "stream",
     "text": [
      "Epoch 10: train loss :   0.161281   val loss :   0.159455   val score :   0.300106\n",
      "Epoch 00010: reducing learning rate of group 0 to 1.0000e-03.\n",
      "------ epoch:11 ------\n"
     ]
    },
    {
     "name": "stderr",
     "output_type": "stream",
     "text": [
      "100%|██████████| 252/252 [00:06<00:00, 41.32it/s]\n",
      "100%|██████████| 28/28 [00:00<00:00, 96.61it/s] \n",
      "100%|██████████| 943/943 [00:00<00:00, 1932.97it/s]\n"
     ]
    },
    {
     "name": "stdout",
     "output_type": "stream",
     "text": [
      "Epoch 11: train loss :   0.160098   val loss :   0.159408   val score :   0.304348\n"
     ]
    },
    {
     "name": "stderr",
     "output_type": "stream",
     "text": [
      "100%|██████████| 70/70 [00:00<00:00, 76.27it/s]\n",
      "100%|██████████| 943/943 [00:00<00:00, 2047.60it/s]\n"
     ]
    },
    {
     "name": "stdout",
     "output_type": "stream",
     "text": [
      "------ log loss of 1 fold : 0.15300566692437445 ------\n",
      "------ score of 1 fold : 0.25344644750795337 ------\n",
      "------ 第2折 ------\n",
      "------ epoch:1 ------\n"
     ]
    },
    {
     "name": "stderr",
     "output_type": "stream",
     "text": [
      "100%|██████████| 252/252 [00:04<00:00, 59.46it/s]\n",
      "100%|██████████| 28/28 [00:00<00:00, 71.06it/s] \n",
      "100%|██████████| 943/943 [00:00<00:00, 1500.80it/s]\n"
     ]
    },
    {
     "name": "stdout",
     "output_type": "stream",
     "text": [
      "Epoch 1: train loss :   0.203359   val loss :   0.160385   val score :   0.189820\n",
      "------ epoch:2 ------\n"
     ]
    },
    {
     "name": "stderr",
     "output_type": "stream",
     "text": [
      "100%|██████████| 252/252 [00:03<00:00, 64.14it/s]\n",
      "100%|██████████| 28/28 [00:00<00:00, 40.60it/s]\n",
      "100%|██████████| 943/943 [00:00<00:00, 977.05it/s] \n"
     ]
    },
    {
     "name": "stdout",
     "output_type": "stream",
     "text": [
      "Epoch 2: train loss :   0.175207   val loss :   0.160579   val score :   0.172853\n",
      "------ epoch:3 ------\n"
     ]
    },
    {
     "name": "stderr",
     "output_type": "stream",
     "text": [
      "100%|██████████| 252/252 [00:06<00:00, 38.53it/s]\n",
      "100%|██████████| 28/28 [00:00<00:00, 70.71it/s]\n",
      "100%|██████████| 943/943 [00:00<00:00, 1136.97it/s]\n"
     ]
    },
    {
     "name": "stdout",
     "output_type": "stream",
     "text": [
      "Epoch 3: train loss :   0.175838   val loss :   0.161087   val score :   0.206787\n",
      "------ epoch:4 ------\n"
     ]
    },
    {
     "name": "stderr",
     "output_type": "stream",
     "text": [
      "100%|██████████| 252/252 [00:04<00:00, 62.39it/s]\n",
      "100%|██████████| 28/28 [00:00<00:00, 113.36it/s]\n",
      "100%|██████████| 943/943 [00:00<00:00, 1408.35it/s]\n"
     ]
    },
    {
     "name": "stdout",
     "output_type": "stream",
     "text": [
      "Epoch 4: train loss :   0.174113   val loss :   0.161003   val score :   0.172853\n",
      "------ epoch:5 ------\n"
     ]
    },
    {
     "name": "stderr",
     "output_type": "stream",
     "text": [
      "100%|██████████| 252/252 [00:04<00:00, 61.83it/s]\n",
      "100%|██████████| 28/28 [00:00<00:00, 113.17it/s]\n",
      "100%|██████████| 943/943 [00:01<00:00, 808.23it/s]\n"
     ]
    },
    {
     "name": "stdout",
     "output_type": "stream",
     "text": [
      "Epoch 5: train loss :   0.175962   val loss :   0.160750   val score :   0.164369\n",
      "------ epoch:6 ------\n"
     ]
    },
    {
     "name": "stderr",
     "output_type": "stream",
     "text": [
      "100%|██████████| 252/252 [00:04<00:00, 59.75it/s]\n",
      "100%|██████████| 28/28 [00:00<00:00, 71.35it/s] \n",
      "100%|██████████| 943/943 [00:01<00:00, 913.38it/s] \n"
     ]
    },
    {
     "name": "stdout",
     "output_type": "stream",
     "text": [
      "Epoch 6: train loss :   0.176214   val loss :   0.161006   val score :   0.136797\n",
      "Epoch 00006: reducing learning rate of group 0 to 1.0000e-02.\n",
      "------ epoch:7 ------\n"
     ]
    },
    {
     "name": "stderr",
     "output_type": "stream",
     "text": [
      "100%|██████████| 252/252 [00:03<00:00, 66.52it/s]\n",
      "100%|██████████| 28/28 [00:00<00:00, 66.25it/s]\n",
      "100%|██████████| 943/943 [00:00<00:00, 1198.34it/s]\n"
     ]
    },
    {
     "name": "stdout",
     "output_type": "stream",
     "text": [
      "Epoch 7: train loss :   0.162268   val loss :   0.159113   val score :   0.273595\n",
      "------ epoch:8 ------\n"
     ]
    },
    {
     "name": "stderr",
     "output_type": "stream",
     "text": [
      "100%|██████████| 252/252 [00:04<00:00, 62.70it/s]\n",
      "100%|██████████| 28/28 [00:00<00:00, 111.41it/s]\n",
      "100%|██████████| 943/943 [00:00<00:00, 2096.86it/s]\n"
     ]
    },
    {
     "name": "stdout",
     "output_type": "stream",
     "text": [
      "Epoch 8: train loss :   0.160092   val loss :   0.159173   val score :   0.279958\n",
      "------ epoch:9 ------\n"
     ]
    },
    {
     "name": "stderr",
     "output_type": "stream",
     "text": [
      "100%|██████████| 252/252 [00:04<00:00, 61.42it/s]\n",
      "100%|██████████| 28/28 [00:00<00:00, 114.99it/s]\n",
      "100%|██████████| 943/943 [00:00<00:00, 2094.52it/s]\n"
     ]
    },
    {
     "name": "stdout",
     "output_type": "stream",
     "text": [
      "Epoch 9: train loss :   0.160037   val loss :   0.159247   val score :   0.275716\n",
      "------ epoch:10 ------\n"
     ]
    },
    {
     "name": "stderr",
     "output_type": "stream",
     "text": [
      "100%|██████████| 252/252 [00:04<00:00, 62.31it/s]\n",
      "100%|██████████| 28/28 [00:00<00:00, 98.20it/s] \n",
      "100%|██████████| 943/943 [00:00<00:00, 2063.09it/s]\n"
     ]
    },
    {
     "name": "stdout",
     "output_type": "stream",
     "text": [
      "Epoch 10: train loss :   0.160032   val loss :   0.159153   val score :   0.292683\n",
      "------ epoch:11 ------\n"
     ]
    },
    {
     "name": "stderr",
     "output_type": "stream",
     "text": [
      "100%|██████████| 252/252 [00:04<00:00, 58.99it/s]\n",
      "100%|██████████| 28/28 [00:00<00:00, 100.88it/s]\n",
      "100%|██████████| 943/943 [00:00<00:00, 1324.93it/s]\n"
     ]
    },
    {
     "name": "stdout",
     "output_type": "stream",
     "text": [
      "Epoch 11: train loss :   0.160191   val loss :   0.158970   val score :   0.303287\n",
      "------ epoch:12 ------\n"
     ]
    },
    {
     "name": "stderr",
     "output_type": "stream",
     "text": [
      "100%|██████████| 252/252 [00:04<00:00, 62.62it/s]\n",
      "100%|██████████| 28/28 [00:00<00:00, 65.78it/s] \n",
      "100%|██████████| 943/943 [00:00<00:00, 1285.70it/s]\n"
     ]
    },
    {
     "name": "stdout",
     "output_type": "stream",
     "text": [
      "Epoch 12: train loss :   0.160201   val loss :   0.159137   val score :   0.284199\n",
      "------ epoch:13 ------\n"
     ]
    },
    {
     "name": "stderr",
     "output_type": "stream",
     "text": [
      "100%|██████████| 252/252 [00:04<00:00, 55.96it/s]\n",
      "100%|██████████| 28/28 [00:00<00:00, 54.65it/s]\n",
      "100%|██████████| 943/943 [00:00<00:00, 1713.18it/s]\n"
     ]
    },
    {
     "name": "stdout",
     "output_type": "stream",
     "text": [
      "Epoch 13: train loss :   0.160087   val loss :   0.159171   val score :   0.276776\n",
      "------ epoch:14 ------\n"
     ]
    },
    {
     "name": "stderr",
     "output_type": "stream",
     "text": [
      "100%|██████████| 252/252 [00:04<00:00, 61.78it/s]\n",
      "100%|██████████| 28/28 [00:00<00:00, 112.62it/s]\n",
      "100%|██████████| 943/943 [00:00<00:00, 2092.27it/s]\n"
     ]
    },
    {
     "name": "stdout",
     "output_type": "stream",
     "text": [
      "Epoch 14: train loss :   0.160067   val loss :   0.159107   val score :   0.294804\n",
      "Epoch 00014: reducing learning rate of group 0 to 1.0000e-03.\n",
      "------ epoch:15 ------\n"
     ]
    },
    {
     "name": "stderr",
     "output_type": "stream",
     "text": [
      "100%|██████████| 252/252 [00:04<00:00, 62.16it/s]\n",
      "100%|██████████| 28/28 [00:00<00:00, 116.25it/s]\n",
      "100%|██████████| 943/943 [00:00<00:00, 2120.75it/s]\n"
     ]
    },
    {
     "name": "stdout",
     "output_type": "stream",
     "text": [
      "Epoch 15: train loss :   0.159229   val loss :   0.159077   val score :   0.286320\n"
     ]
    },
    {
     "name": "stderr",
     "output_type": "stream",
     "text": [
      "100%|██████████| 70/70 [00:00<00:00, 91.78it/s] \n",
      "100%|██████████| 943/943 [00:00<00:00, 1322.20it/s]\n"
     ]
    },
    {
     "name": "stdout",
     "output_type": "stream",
     "text": [
      "------ log loss of 2 fold : 0.15659307188221386 ------\n",
      "------ score of 2 fold : 0.27783669141039236 ------\n",
      "------ 第3折 ------\n",
      "------ epoch:1 ------\n"
     ]
    },
    {
     "name": "stderr",
     "output_type": "stream",
     "text": [
      "100%|██████████| 252/252 [00:03<00:00, 63.58it/s]\n",
      "100%|██████████| 28/28 [00:00<00:00, 107.79it/s]\n",
      "100%|██████████| 943/943 [00:00<00:00, 1617.70it/s]\n"
     ]
    },
    {
     "name": "stdout",
     "output_type": "stream",
     "text": [
      "Epoch 1: train loss :   0.204908   val loss :   0.159550   val score :   0.174973\n",
      "------ epoch:2 ------\n"
     ]
    },
    {
     "name": "stderr",
     "output_type": "stream",
     "text": [
      "100%|██████████| 252/252 [00:04<00:00, 61.63it/s]\n",
      "100%|██████████| 28/28 [00:00<00:00, 108.52it/s]\n",
      "100%|██████████| 943/943 [00:00<00:00, 1586.87it/s]\n"
     ]
    },
    {
     "name": "stdout",
     "output_type": "stream",
     "text": [
      "Epoch 2: train loss :   0.173992   val loss :   0.159755   val score :   0.207847\n",
      "------ epoch:3 ------\n"
     ]
    },
    {
     "name": "stderr",
     "output_type": "stream",
     "text": [
      "100%|██████████| 252/252 [00:03<00:00, 63.39it/s]\n",
      "100%|██████████| 28/28 [00:00<00:00, 111.76it/s]\n",
      "100%|██████████| 943/943 [00:00<00:00, 1411.13it/s]\n"
     ]
    },
    {
     "name": "stdout",
     "output_type": "stream",
     "text": [
      "Epoch 3: train loss :   0.174261   val loss :   0.159661   val score :   0.158006\n",
      "------ epoch:4 ------\n"
     ]
    },
    {
     "name": "stderr",
     "output_type": "stream",
     "text": [
      "100%|██████████| 252/252 [00:03<00:00, 64.31it/s]\n",
      "100%|██████████| 28/28 [00:00<00:00, 68.09it/s]\n",
      "100%|██████████| 943/943 [00:00<00:00, 1523.20it/s]\n"
     ]
    },
    {
     "name": "stdout",
     "output_type": "stream",
     "text": [
      "Epoch 4: train loss :   0.174917   val loss :   0.159508   val score :   0.174973\n",
      "------ epoch:5 ------\n"
     ]
    },
    {
     "name": "stderr",
     "output_type": "stream",
     "text": [
      "100%|██████████| 252/252 [00:04<00:00, 62.44it/s]\n",
      "100%|██████████| 28/28 [00:00<00:00, 107.96it/s]\n",
      "100%|██████████| 943/943 [00:00<00:00, 1200.80it/s]\n"
     ]
    },
    {
     "name": "stdout",
     "output_type": "stream",
     "text": [
      "Epoch 5: train loss :   0.175046   val loss :   0.159599   val score :   0.196182\n",
      "Epoch 00005: reducing learning rate of group 0 to 1.0000e-02.\n",
      "------ epoch:6 ------\n"
     ]
    },
    {
     "name": "stderr",
     "output_type": "stream",
     "text": [
      "100%|██████████| 252/252 [00:04<00:00, 61.21it/s]\n",
      "100%|██████████| 28/28 [00:00<00:00, 110.69it/s]\n",
      "100%|██████████| 943/943 [00:00<00:00, 1697.35it/s]\n"
     ]
    },
    {
     "name": "stdout",
     "output_type": "stream",
     "text": [
      "Epoch 6: train loss :   0.161374   val loss :   0.158542   val score :   0.269353\n",
      "------ epoch:7 ------\n"
     ]
    },
    {
     "name": "stderr",
     "output_type": "stream",
     "text": [
      "100%|██████████| 252/252 [00:04<00:00, 59.48it/s]\n",
      "100%|██████████| 28/28 [00:00<00:00, 110.37it/s]\n",
      "100%|██████████| 943/943 [00:00<00:00, 1724.20it/s]\n"
     ]
    },
    {
     "name": "stdout",
     "output_type": "stream",
     "text": [
      "Epoch 7: train loss :   0.159648   val loss :   0.158541   val score :   0.278897\n",
      "------ epoch:8 ------\n"
     ]
    },
    {
     "name": "stderr",
     "output_type": "stream",
     "text": [
      "100%|██████████| 252/252 [00:03<00:00, 63.38it/s]\n",
      "100%|██████████| 28/28 [00:00<00:00, 113.33it/s]\n",
      "100%|██████████| 943/943 [00:00<00:00, 1812.61it/s]\n"
     ]
    },
    {
     "name": "stdout",
     "output_type": "stream",
     "text": [
      "Epoch 8: train loss :   0.159285   val loss :   0.158437   val score :   0.283139\n",
      "------ epoch:9 ------\n"
     ]
    },
    {
     "name": "stderr",
     "output_type": "stream",
     "text": [
      "100%|██████████| 252/252 [00:03<00:00, 63.04it/s]\n",
      "100%|██████████| 28/28 [00:00<00:00, 67.29it/s] \n",
      "100%|██████████| 943/943 [00:00<00:00, 2070.06it/s]\n"
     ]
    },
    {
     "name": "stdout",
     "output_type": "stream",
     "text": [
      "Epoch 9: train loss :   0.159490   val loss :   0.158382   val score :   0.277837\n",
      "------ epoch:10 ------\n"
     ]
    },
    {
     "name": "stderr",
     "output_type": "stream",
     "text": [
      "100%|██████████| 252/252 [00:03<00:00, 66.51it/s]\n",
      "100%|██████████| 28/28 [00:00<00:00, 66.77it/s]\n",
      "100%|██████████| 943/943 [00:00<00:00, 1946.14it/s]\n"
     ]
    },
    {
     "name": "stdout",
     "output_type": "stream",
     "text": [
      "Epoch 10: train loss :   0.159426   val loss :   0.158472   val score :   0.281018\n",
      "------ epoch:11 ------\n"
     ]
    },
    {
     "name": "stderr",
     "output_type": "stream",
     "text": [
      "100%|██████████| 252/252 [00:03<00:00, 63.37it/s]\n",
      "100%|██████████| 28/28 [00:00<00:00, 114.72it/s]\n",
      "100%|██████████| 943/943 [00:00<00:00, 1979.35it/s]\n"
     ]
    },
    {
     "name": "stdout",
     "output_type": "stream",
     "text": [
      "Epoch 11: train loss :   0.159542   val loss :   0.158532   val score :   0.284199\n",
      "------ epoch:12 ------\n"
     ]
    },
    {
     "name": "stderr",
     "output_type": "stream",
     "text": [
      "100%|██████████| 252/252 [00:04<00:00, 61.79it/s]\n",
      "100%|██████████| 28/28 [00:00<00:00, 111.37it/s]\n",
      "100%|██████████| 943/943 [00:00<00:00, 1957.07it/s]\n"
     ]
    },
    {
     "name": "stdout",
     "output_type": "stream",
     "text": [
      "Epoch 12: train loss :   0.159593   val loss :   0.158419   val score :   0.264051\n",
      "------ epoch:13 ------\n"
     ]
    },
    {
     "name": "stderr",
     "output_type": "stream",
     "text": [
      "100%|██████████| 252/252 [00:04<00:00, 61.78it/s]\n",
      "100%|██████████| 28/28 [00:00<00:00, 112.95it/s]\n",
      "100%|██████████| 943/943 [00:00<00:00, 1861.65it/s]\n"
     ]
    },
    {
     "name": "stdout",
     "output_type": "stream",
     "text": [
      "Epoch 13: train loss :   0.159440   val loss :   0.158437   val score :   0.262990\n",
      "------ epoch:14 ------\n"
     ]
    },
    {
     "name": "stderr",
     "output_type": "stream",
     "text": [
      "100%|██████████| 252/252 [00:04<00:00, 62.02it/s]\n",
      "100%|██████████| 28/28 [00:00<00:00, 67.96it/s] \n",
      "100%|██████████| 943/943 [00:00<00:00, 1377.00it/s]\n"
     ]
    },
    {
     "name": "stdout",
     "output_type": "stream",
     "text": [
      "Epoch 14: train loss :   0.159476   val loss :   0.158667   val score :   0.277837\n",
      "Epoch 00014: reducing learning rate of group 0 to 1.0000e-03.\n",
      "------ epoch:15 ------\n"
     ]
    },
    {
     "name": "stderr",
     "output_type": "stream",
     "text": [
      "100%|██████████| 252/252 [00:03<00:00, 66.39it/s]\n",
      "100%|██████████| 28/28 [00:00<00:00, 68.39it/s]\n",
      "100%|██████████| 943/943 [00:00<00:00, 2174.25it/s]\n"
     ]
    },
    {
     "name": "stdout",
     "output_type": "stream",
     "text": [
      "Epoch 15: train loss :   0.158275   val loss :   0.158535   val score :   0.277837\n"
     ]
    },
    {
     "name": "stderr",
     "output_type": "stream",
     "text": [
      "100%|██████████| 70/70 [00:00<00:00, 90.55it/s] \n",
      "100%|██████████| 943/943 [00:00<00:00, 1539.83it/s]\n"
     ]
    },
    {
     "name": "stdout",
     "output_type": "stream",
     "text": [
      "------ log loss of 3 fold : 0.15971001056688172 ------\n",
      "------ score of 3 fold : 0.2767762460233298 ------\n",
      "------ 第4折 ------\n",
      "------ epoch:1 ------\n"
     ]
    },
    {
     "name": "stderr",
     "output_type": "stream",
     "text": [
      "100%|██████████| 252/252 [00:03<00:00, 68.51it/s]\n",
      "100%|██████████| 28/28 [00:00<00:00, 68.69it/s]\n",
      "100%|██████████| 943/943 [00:00<00:00, 1948.97it/s]\n"
     ]
    },
    {
     "name": "stdout",
     "output_type": "stream",
     "text": [
      "Epoch 1: train loss :   0.205124   val loss :   0.160808   val score :   0.150583\n",
      "------ epoch:2 ------\n"
     ]
    },
    {
     "name": "stderr",
     "output_type": "stream",
     "text": [
      "100%|██████████| 252/252 [00:04<00:00, 61.88it/s]\n",
      "100%|██████████| 28/28 [00:00<00:00, 110.92it/s]\n",
      "100%|██████████| 943/943 [00:00<00:00, 1820.17it/s]\n"
     ]
    },
    {
     "name": "stdout",
     "output_type": "stream",
     "text": [
      "Epoch 2: train loss :   0.175582   val loss :   0.162209   val score :   0.184517\n",
      "------ epoch:3 ------\n"
     ]
    },
    {
     "name": "stderr",
     "output_type": "stream",
     "text": [
      "100%|██████████| 252/252 [00:03<00:00, 63.96it/s]\n",
      "100%|██████████| 28/28 [00:00<00:00, 110.36it/s]\n",
      "100%|██████████| 943/943 [00:00<00:00, 1554.69it/s]\n"
     ]
    },
    {
     "name": "stdout",
     "output_type": "stream",
     "text": [
      "Epoch 3: train loss :   0.175172   val loss :   0.161011   val score :   0.194062\n",
      "------ epoch:4 ------\n"
     ]
    },
    {
     "name": "stderr",
     "output_type": "stream",
     "text": [
      "100%|██████████| 252/252 [00:04<00:00, 62.64it/s]\n",
      "100%|██████████| 28/28 [00:00<00:00, 114.25it/s]\n",
      "100%|██████████| 943/943 [00:00<00:00, 1362.63it/s]\n"
     ]
    },
    {
     "name": "stdout",
     "output_type": "stream",
     "text": [
      "Epoch 4: train loss :   0.176535   val loss :   0.161525   val score :   0.171792\n",
      "------ epoch:5 ------\n"
     ]
    },
    {
     "name": "stderr",
     "output_type": "stream",
     "text": [
      "100%|██████████| 252/252 [00:04<00:00, 62.18it/s]\n",
      "100%|██████████| 28/28 [00:00<00:00, 111.30it/s]\n",
      "100%|██████████| 943/943 [00:00<00:00, 1684.85it/s]\n"
     ]
    },
    {
     "name": "stdout",
     "output_type": "stream",
     "text": [
      "Epoch 5: train loss :   0.174958   val loss :   0.161042   val score :   0.198303\n",
      "------ epoch:6 ------\n"
     ]
    },
    {
     "name": "stderr",
     "output_type": "stream",
     "text": [
      "100%|██████████| 252/252 [00:04<00:00, 58.74it/s]\n",
      "100%|██████████| 28/28 [00:00<00:00, 52.62it/s]\n",
      "100%|██████████| 943/943 [00:00<00:00, 2013.24it/s]\n"
     ]
    },
    {
     "name": "stdout",
     "output_type": "stream",
     "text": [
      "Epoch 6: train loss :   0.174247   val loss :   0.160781   val score :   0.188759\n",
      "------ epoch:7 ------\n"
     ]
    },
    {
     "name": "stderr",
     "output_type": "stream",
     "text": [
      "100%|██████████| 252/252 [00:04<00:00, 59.93it/s]\n",
      "100%|██████████| 28/28 [00:00<00:00, 113.44it/s]\n",
      "100%|██████████| 943/943 [00:00<00:00, 2124.44it/s]\n"
     ]
    },
    {
     "name": "stdout",
     "output_type": "stream",
     "text": [
      "Epoch 7: train loss :   0.176676   val loss :   0.161570   val score :   0.182397\n",
      "------ epoch:8 ------\n"
     ]
    },
    {
     "name": "stderr",
     "output_type": "stream",
     "text": [
      "100%|██████████| 252/252 [00:04<00:00, 58.04it/s]\n",
      "100%|██████████| 28/28 [00:00<00:00, 107.99it/s]\n",
      "100%|██████████| 943/943 [00:00<00:00, 1478.95it/s]\n"
     ]
    },
    {
     "name": "stdout",
     "output_type": "stream",
     "text": [
      "Epoch 8: train loss :   0.176778   val loss :   0.161689   val score :   0.181336\n",
      "Epoch 00008: reducing learning rate of group 0 to 1.0000e-02.\n",
      "------ epoch:9 ------\n"
     ]
    },
    {
     "name": "stderr",
     "output_type": "stream",
     "text": [
      "100%|██████████| 252/252 [00:04<00:00, 57.28it/s]\n",
      "100%|██████████| 28/28 [00:00<00:00, 116.59it/s]\n",
      "100%|██████████| 943/943 [00:00<00:00, 2079.67it/s]\n"
     ]
    },
    {
     "name": "stdout",
     "output_type": "stream",
     "text": [
      "Epoch 9: train loss :   0.162157   val loss :   0.159966   val score :   0.290562\n",
      "------ epoch:10 ------\n"
     ]
    },
    {
     "name": "stderr",
     "output_type": "stream",
     "text": [
      "100%|██████████| 252/252 [00:04<00:00, 61.81it/s]\n",
      "100%|██████████| 28/28 [00:00<00:00, 114.28it/s]\n",
      "100%|██████████| 943/943 [00:00<00:00, 1685.92it/s]\n"
     ]
    },
    {
     "name": "stdout",
     "output_type": "stream",
     "text": [
      "Epoch 10: train loss :   0.160064   val loss :   0.159951   val score :   0.282078\n",
      "------ epoch:11 ------\n"
     ]
    },
    {
     "name": "stderr",
     "output_type": "stream",
     "text": [
      "100%|██████████| 252/252 [00:03<00:00, 63.66it/s]\n",
      "100%|██████████| 28/28 [00:00<00:00, 68.92it/s] \n",
      "100%|██████████| 943/943 [00:00<00:00, 1877.41it/s]\n"
     ]
    },
    {
     "name": "stdout",
     "output_type": "stream",
     "text": [
      "Epoch 11: train loss :   0.160167   val loss :   0.159846   val score :   0.299046\n",
      "------ epoch:12 ------\n"
     ]
    },
    {
     "name": "stderr",
     "output_type": "stream",
     "text": [
      "100%|██████████| 252/252 [00:03<00:00, 67.45it/s]\n",
      "100%|██████████| 28/28 [00:00<00:00, 67.24it/s]\n",
      "100%|██████████| 943/943 [00:00<00:00, 1406.03it/s]\n"
     ]
    },
    {
     "name": "stdout",
     "output_type": "stream",
     "text": [
      "Epoch 12: train loss :   0.160157   val loss :   0.159974   val score :   0.302227\n",
      "------ epoch:13 ------\n"
     ]
    },
    {
     "name": "stderr",
     "output_type": "stream",
     "text": [
      "100%|██████████| 252/252 [00:03<00:00, 65.64it/s]\n",
      "100%|██████████| 28/28 [00:00<00:00, 111.59it/s]\n",
      "100%|██████████| 943/943 [00:00<00:00, 1663.85it/s]\n"
     ]
    },
    {
     "name": "stdout",
     "output_type": "stream",
     "text": [
      "Epoch 13: train loss :   0.160240   val loss :   0.159913   val score :   0.285260\n",
      "------ epoch:14 ------\n"
     ]
    },
    {
     "name": "stderr",
     "output_type": "stream",
     "text": [
      "100%|██████████| 252/252 [00:03<00:00, 68.13it/s]\n",
      "100%|██████████| 28/28 [00:00<00:00, 122.04it/s]\n",
      "100%|██████████| 943/943 [00:00<00:00, 1639.32it/s]\n"
     ]
    },
    {
     "name": "stdout",
     "output_type": "stream",
     "text": [
      "Epoch 14: train loss :   0.160203   val loss :   0.159822   val score :   0.297985\n",
      "------ epoch:15 ------\n"
     ]
    },
    {
     "name": "stderr",
     "output_type": "stream",
     "text": [
      "100%|██████████| 252/252 [00:03<00:00, 67.57it/s]\n",
      "100%|██████████| 28/28 [00:00<00:00, 120.33it/s]\n",
      "100%|██████████| 943/943 [00:00<00:00, 1982.56it/s]\n"
     ]
    },
    {
     "name": "stdout",
     "output_type": "stream",
     "text": [
      "Epoch 15: train loss :   0.160095   val loss :   0.159798   val score :   0.286320\n",
      "Epoch 00015: reducing learning rate of group 0 to 1.0000e-03.\n",
      "------ epoch:16 ------\n"
     ]
    },
    {
     "name": "stderr",
     "output_type": "stream",
     "text": [
      "100%|██████████| 252/252 [00:03<00:00, 65.24it/s]\n",
      "100%|██████████| 28/28 [00:00<00:00, 120.57it/s]\n",
      "100%|██████████| 943/943 [00:00<00:00, 1761.69it/s]\n"
     ]
    },
    {
     "name": "stdout",
     "output_type": "stream",
     "text": [
      "Epoch 16: train loss :   0.159240   val loss :   0.159794   val score :   0.289502\n"
     ]
    },
    {
     "name": "stderr",
     "output_type": "stream",
     "text": [
      "100%|██████████| 70/70 [00:00<00:00, 90.74it/s] \n",
      "100%|██████████| 943/943 [00:00<00:00, 1432.42it/s]\n"
     ]
    },
    {
     "name": "stdout",
     "output_type": "stream",
     "text": [
      "------ log loss of 4 fold : 0.15594104315553392 ------\n",
      "------ score of 4 fold : 0.26299045599151644 ------\n",
      "------ 第5折 ------\n",
      "------ epoch:1 ------\n"
     ]
    },
    {
     "name": "stderr",
     "output_type": "stream",
     "text": [
      "100%|██████████| 252/252 [00:03<00:00, 63.57it/s]\n",
      "100%|██████████| 28/28 [00:00<00:00, 67.08it/s] \n",
      "100%|██████████| 943/943 [00:00<00:00, 1445.68it/s]\n"
     ]
    },
    {
     "name": "stdout",
     "output_type": "stream",
     "text": [
      "Epoch 1: train loss :   0.204408   val loss :   0.159775   val score :   0.153765\n",
      "------ epoch:2 ------\n"
     ]
    },
    {
     "name": "stderr",
     "output_type": "stream",
     "text": [
      "100%|██████████| 252/252 [00:03<00:00, 64.43it/s]\n",
      "100%|██████████| 28/28 [00:00<00:00, 67.66it/s]\n",
      "100%|██████████| 943/943 [00:00<00:00, 1898.68it/s]\n"
     ]
    },
    {
     "name": "stdout",
     "output_type": "stream",
     "text": [
      "Epoch 2: train loss :   0.174806   val loss :   0.159331   val score :   0.207847\n",
      "------ epoch:3 ------\n"
     ]
    },
    {
     "name": "stderr",
     "output_type": "stream",
     "text": [
      "100%|██████████| 252/252 [00:03<00:00, 64.01it/s]\n",
      "100%|██████████| 28/28 [00:00<00:00, 115.92it/s]\n",
      "100%|██████████| 943/943 [00:00<00:00, 1978.44it/s]\n"
     ]
    },
    {
     "name": "stdout",
     "output_type": "stream",
     "text": [
      "Epoch 3: train loss :   0.175142   val loss :   0.159974   val score :   0.170732\n",
      "------ epoch:4 ------\n"
     ]
    },
    {
     "name": "stderr",
     "output_type": "stream",
     "text": [
      "100%|██████████| 252/252 [00:03<00:00, 63.45it/s]\n",
      "100%|██████████| 28/28 [00:00<00:00, 116.49it/s]\n",
      "100%|██████████| 943/943 [00:00<00:00, 1865.00it/s]\n"
     ]
    },
    {
     "name": "stdout",
     "output_type": "stream",
     "text": [
      "Epoch 4: train loss :   0.174678   val loss :   0.159037   val score :   0.206787\n",
      "------ epoch:5 ------\n"
     ]
    },
    {
     "name": "stderr",
     "output_type": "stream",
     "text": [
      "100%|██████████| 252/252 [00:03<00:00, 64.24it/s]\n",
      "100%|██████████| 28/28 [00:00<00:00, 110.81it/s]\n",
      "100%|██████████| 943/943 [00:00<00:00, 1632.17it/s]\n"
     ]
    },
    {
     "name": "stdout",
     "output_type": "stream",
     "text": [
      "Epoch 5: train loss :   0.175726   val loss :   0.159466   val score :   0.227996\n",
      "------ epoch:6 ------\n"
     ]
    },
    {
     "name": "stderr",
     "output_type": "stream",
     "text": [
      "100%|██████████| 252/252 [00:03<00:00, 66.01it/s]\n",
      "100%|██████████| 28/28 [00:00<00:00, 67.09it/s] \n",
      "100%|██████████| 943/943 [00:00<00:00, 1488.58it/s]\n"
     ]
    },
    {
     "name": "stdout",
     "output_type": "stream",
     "text": [
      "Epoch 6: train loss :   0.174549   val loss :   0.159654   val score :   0.177094\n",
      "------ epoch:7 ------\n"
     ]
    },
    {
     "name": "stderr",
     "output_type": "stream",
     "text": [
      "100%|██████████| 252/252 [00:03<00:00, 66.85it/s]\n",
      "100%|██████████| 28/28 [00:00<00:00, 69.73it/s]\n",
      "100%|██████████| 943/943 [00:00<00:00, 1985.08it/s]\n"
     ]
    },
    {
     "name": "stdout",
     "output_type": "stream",
     "text": [
      "Epoch 7: train loss :   0.175737   val loss :   0.159555   val score :   0.180276\n",
      "------ epoch:8 ------\n"
     ]
    },
    {
     "name": "stderr",
     "output_type": "stream",
     "text": [
      "100%|██████████| 252/252 [00:03<00:00, 75.76it/s] \n",
      "100%|██████████| 28/28 [00:00<00:00, 86.49it/s]\n",
      "100%|██████████| 943/943 [00:00<00:00, 1786.66it/s]\n"
     ]
    },
    {
     "name": "stdout",
     "output_type": "stream",
     "text": [
      "Epoch 8: train loss :   0.174791   val loss :   0.159949   val score :   0.174973\n",
      "Epoch 00008: reducing learning rate of group 0 to 1.0000e-02.\n",
      "------ epoch:9 ------\n"
     ]
    },
    {
     "name": "stderr",
     "output_type": "stream",
     "text": [
      "100%|██████████| 252/252 [00:04<00:00, 60.82it/s]\n",
      "100%|██████████| 28/28 [00:00<00:00, 81.32it/s]\n",
      "100%|██████████| 943/943 [00:00<00:00, 1706.36it/s]\n"
     ]
    },
    {
     "name": "stdout",
     "output_type": "stream",
     "text": [
      "Epoch 9: train loss :   0.161884   val loss :   0.158413   val score :   0.270414\n",
      "------ epoch:10 ------\n"
     ]
    },
    {
     "name": "stderr",
     "output_type": "stream",
     "text": [
      "100%|██████████| 252/252 [00:03<00:00, 66.16it/s]\n",
      "100%|██████████| 28/28 [00:00<00:00, 109.39it/s]\n",
      "100%|██████████| 943/943 [00:00<00:00, 1634.60it/s]\n"
     ]
    },
    {
     "name": "stdout",
     "output_type": "stream",
     "text": [
      "Epoch 10: train loss :   0.159717   val loss :   0.158351   val score :   0.290562\n",
      "------ epoch:11 ------\n"
     ]
    },
    {
     "name": "stderr",
     "output_type": "stream",
     "text": [
      "100%|██████████| 252/252 [00:03<00:00, 63.52it/s]\n",
      "100%|██████████| 28/28 [00:00<00:00, 108.95it/s]\n",
      "100%|██████████| 943/943 [00:00<00:00, 1682.27it/s]\n"
     ]
    },
    {
     "name": "stdout",
     "output_type": "stream",
     "text": [
      "Epoch 11: train loss :   0.159746   val loss :   0.158325   val score :   0.292683\n",
      "------ epoch:12 ------\n"
     ]
    },
    {
     "name": "stderr",
     "output_type": "stream",
     "text": [
      "100%|██████████| 252/252 [00:04<00:00, 62.45it/s]\n",
      "100%|██████████| 28/28 [00:00<00:00, 72.51it/s] \n",
      "100%|██████████| 943/943 [00:00<00:00, 1842.76it/s]\n"
     ]
    },
    {
     "name": "stdout",
     "output_type": "stream",
     "text": [
      "Epoch 12: train loss :   0.159806   val loss :   0.158334   val score :   0.284199\n",
      "------ epoch:13 ------\n"
     ]
    },
    {
     "name": "stderr",
     "output_type": "stream",
     "text": [
      "100%|██████████| 252/252 [00:03<00:00, 66.89it/s]\n",
      "100%|██████████| 28/28 [00:00<00:00, 68.36it/s]\n",
      "100%|██████████| 943/943 [00:00<00:00, 1794.25it/s]\n"
     ]
    },
    {
     "name": "stdout",
     "output_type": "stream",
     "text": [
      "Epoch 13: train loss :   0.159906   val loss :   0.158433   val score :   0.293743\n",
      "------ epoch:14 ------\n"
     ]
    },
    {
     "name": "stderr",
     "output_type": "stream",
     "text": [
      "100%|██████████| 252/252 [00:04<00:00, 60.78it/s]\n",
      "100%|██████████| 28/28 [00:00<00:00, 99.72it/s] \n",
      "100%|██████████| 943/943 [00:00<00:00, 1977.37it/s]\n"
     ]
    },
    {
     "name": "stdout",
     "output_type": "stream",
     "text": [
      "Epoch 14: train loss :   0.159791   val loss :   0.158283   val score :   0.292683\n",
      "------ epoch:15 ------\n"
     ]
    },
    {
     "name": "stderr",
     "output_type": "stream",
     "text": [
      "100%|██████████| 252/252 [00:03<00:00, 63.48it/s]\n",
      "100%|██████████| 28/28 [00:00<00:00, 116.24it/s]\n",
      "100%|██████████| 943/943 [00:00<00:00, 1682.23it/s]\n"
     ]
    },
    {
     "name": "stdout",
     "output_type": "stream",
     "text": [
      "Epoch 15: train loss :   0.159833   val loss :   0.158455   val score :   0.289502\n",
      "------ epoch:16 ------\n"
     ]
    },
    {
     "name": "stderr",
     "output_type": "stream",
     "text": [
      "100%|██████████| 252/252 [00:03<00:00, 63.72it/s]\n",
      "100%|██████████| 28/28 [00:00<00:00, 114.31it/s]\n",
      "100%|██████████| 943/943 [00:00<00:00, 2094.63it/s]\n"
     ]
    },
    {
     "name": "stdout",
     "output_type": "stream",
     "text": [
      "Epoch 16: train loss :   0.159859   val loss :   0.158447   val score :   0.282078\n",
      "Epoch 00016: reducing learning rate of group 0 to 1.0000e-03.\n",
      "------ epoch:17 ------\n"
     ]
    },
    {
     "name": "stderr",
     "output_type": "stream",
     "text": [
      "100%|██████████| 252/252 [00:03<00:00, 63.85it/s]\n",
      "100%|██████████| 28/28 [00:00<00:00, 111.85it/s]\n",
      "100%|██████████| 943/943 [00:00<00:00, 1607.47it/s]\n"
     ]
    },
    {
     "name": "stdout",
     "output_type": "stream",
     "text": [
      "Epoch 17: train loss :   0.158688   val loss :   0.158385   val score :   0.288441\n"
     ]
    },
    {
     "name": "stderr",
     "output_type": "stream",
     "text": [
      "100%|██████████| 70/70 [00:00<00:00, 87.14it/s] \n",
      "100%|██████████| 943/943 [00:00<00:00, 987.43it/s] \n"
     ]
    },
    {
     "name": "stdout",
     "output_type": "stream",
     "text": [
      "------ log loss of 5 fold : 0.15817572261605944 ------\n",
      "------ score of 5 fold : 0.25026511134676566 ------\n",
      "settings : power = 1, model type = 2\n",
      "parameters :  {'num_users': 943, 'num_items': 1682, 'embedding_dim': 20, 'lr': 0.1, 'alpha': 0.1, 'patience': 3, 'epochs': 30, 'device': 'cuda:0', 'model_selection': True}\n",
      "------ log loss of the model : 0.15668510302901267 ------\n",
      "------ score of the model : 0.26426299045599155 ------\n",
      "------ 第1折 ------\n",
      "------ epoch:1 ------\n"
     ]
    },
    {
     "name": "stderr",
     "output_type": "stream",
     "text": [
      "100%|██████████| 252/252 [00:05<00:00, 49.30it/s]\n",
      "100%|██████████| 28/28 [00:00<00:00, 75.56it/s]\n",
      "100%|██████████| 943/943 [00:00<00:00, 2121.82it/s]\n"
     ]
    },
    {
     "name": "stdout",
     "output_type": "stream",
     "text": [
      "Epoch 1: train loss :   0.454206   val loss :   0.198679   val score :   0.133616\n",
      "------ epoch:2 ------\n"
     ]
    },
    {
     "name": "stderr",
     "output_type": "stream",
     "text": [
      "100%|██████████| 252/252 [00:04<00:00, 62.96it/s]\n",
      "100%|██████████| 28/28 [00:00<00:00, 66.15it/s] \n",
      "100%|██████████| 943/943 [00:00<00:00, 1872.25it/s]\n"
     ]
    },
    {
     "name": "stdout",
     "output_type": "stream",
     "text": [
      "Epoch 2: train loss :   0.197650   val loss :   0.168205   val score :   0.270414\n",
      "------ epoch:3 ------\n"
     ]
    },
    {
     "name": "stderr",
     "output_type": "stream",
     "text": [
      "100%|██████████| 252/252 [00:03<00:00, 64.34it/s]\n",
      "100%|██████████| 28/28 [00:00<00:00, 63.12it/s]\n",
      "100%|██████████| 943/943 [00:00<00:00, 1855.68it/s]\n"
     ]
    },
    {
     "name": "stdout",
     "output_type": "stream",
     "text": [
      "Epoch 3: train loss :   0.170187   val loss :   0.161894   val score :   0.307529\n",
      "------ epoch:4 ------\n"
     ]
    },
    {
     "name": "stderr",
     "output_type": "stream",
     "text": [
      "100%|██████████| 252/252 [00:03<00:00, 64.73it/s]\n",
      "100%|██████████| 28/28 [00:00<00:00, 119.43it/s]\n",
      "100%|██████████| 943/943 [00:00<00:00, 1958.65it/s]\n"
     ]
    },
    {
     "name": "stdout",
     "output_type": "stream",
     "text": [
      "Epoch 4: train loss :   0.163340   val loss :   0.160085   val score :   0.288441\n",
      "------ epoch:5 ------\n"
     ]
    },
    {
     "name": "stderr",
     "output_type": "stream",
     "text": [
      "100%|██████████| 252/252 [00:03<00:00, 64.37it/s]\n",
      "100%|██████████| 28/28 [00:00<00:00, 115.34it/s]\n",
      "100%|██████████| 943/943 [00:00<00:00, 1947.30it/s]\n"
     ]
    },
    {
     "name": "stdout",
     "output_type": "stream",
     "text": [
      "Epoch 5: train loss :   0.161607   val loss :   0.159485   val score :   0.288441\n",
      "------ epoch:6 ------\n"
     ]
    },
    {
     "name": "stderr",
     "output_type": "stream",
     "text": [
      "100%|██████████| 252/252 [00:03<00:00, 64.22it/s]\n",
      "100%|██████████| 28/28 [00:00<00:00, 113.48it/s]\n",
      "100%|██████████| 943/943 [00:00<00:00, 1556.84it/s]\n"
     ]
    },
    {
     "name": "stdout",
     "output_type": "stream",
     "text": [
      "Epoch 6: train loss :   0.161138   val loss :   0.159475   val score :   0.302227\n",
      "Epoch 00006: reducing learning rate of group 0 to 1.0000e-03.\n",
      "------ epoch:7 ------\n"
     ]
    },
    {
     "name": "stderr",
     "output_type": "stream",
     "text": [
      "100%|██████████| 252/252 [00:03<00:00, 65.08it/s]\n",
      "100%|██████████| 28/28 [00:00<00:00, 116.34it/s]\n",
      "100%|██████████| 943/943 [00:00<00:00, 953.40it/s] \n"
     ]
    },
    {
     "name": "stdout",
     "output_type": "stream",
     "text": [
      "Epoch 7: train loss :   0.160173   val loss :   0.159438   val score :   0.301166\n"
     ]
    },
    {
     "name": "stderr",
     "output_type": "stream",
     "text": [
      "100%|██████████| 70/70 [00:00<00:00, 88.98it/s] \n",
      "100%|██████████| 943/943 [00:00<00:00, 1954.63it/s]\n"
     ]
    },
    {
     "name": "stdout",
     "output_type": "stream",
     "text": [
      "------ log loss of 1 fold : 0.15311152935028077 ------\n",
      "------ score of 1 fold : 0.2492046659597031 ------\n",
      "------ 第2折 ------\n",
      "------ epoch:1 ------\n"
     ]
    },
    {
     "name": "stderr",
     "output_type": "stream",
     "text": [
      "100%|██████████| 252/252 [00:03<00:00, 66.20it/s]\n",
      "100%|██████████| 28/28 [00:00<00:00, 123.80it/s]\n",
      "100%|██████████| 943/943 [00:00<00:00, 1990.59it/s]\n"
     ]
    },
    {
     "name": "stdout",
     "output_type": "stream",
     "text": [
      "Epoch 1: train loss :   0.458652   val loss :   0.198229   val score :   0.137858\n",
      "------ epoch:2 ------\n"
     ]
    },
    {
     "name": "stderr",
     "output_type": "stream",
     "text": [
      "100%|██████████| 252/252 [00:03<00:00, 67.72it/s]\n",
      "100%|██████████| 28/28 [00:00<00:00, 69.99it/s] \n",
      "100%|██████████| 943/943 [00:00<00:00, 1938.11it/s]\n"
     ]
    },
    {
     "name": "stdout",
     "output_type": "stream",
     "text": [
      "Epoch 2: train loss :   0.196376   val loss :   0.167706   val score :   0.265111\n",
      "------ epoch:3 ------\n"
     ]
    },
    {
     "name": "stderr",
     "output_type": "stream",
     "text": [
      "100%|██████████| 252/252 [00:03<00:00, 68.85it/s]\n",
      "100%|██████████| 28/28 [00:00<00:00, 70.11it/s]\n",
      "100%|██████████| 943/943 [00:00<00:00, 2096.72it/s]\n"
     ]
    },
    {
     "name": "stdout",
     "output_type": "stream",
     "text": [
      "Epoch 3: train loss :   0.168877   val loss :   0.161584   val score :   0.308590\n",
      "------ epoch:4 ------\n"
     ]
    },
    {
     "name": "stderr",
     "output_type": "stream",
     "text": [
      "100%|██████████| 252/252 [00:03<00:00, 66.12it/s]\n",
      "100%|██████████| 28/28 [00:00<00:00, 120.38it/s]\n",
      "100%|██████████| 943/943 [00:00<00:00, 1185.83it/s]\n"
     ]
    },
    {
     "name": "stdout",
     "output_type": "stream",
     "text": [
      "Epoch 4: train loss :   0.162359   val loss :   0.159788   val score :   0.301166\n",
      "------ epoch:5 ------\n"
     ]
    },
    {
     "name": "stderr",
     "output_type": "stream",
     "text": [
      "100%|██████████| 252/252 [00:03<00:00, 68.16it/s]\n",
      "100%|██████████| 28/28 [00:00<00:00, 124.48it/s]\n",
      "100%|██████████| 943/943 [00:00<00:00, 1075.30it/s]\n"
     ]
    },
    {
     "name": "stdout",
     "output_type": "stream",
     "text": [
      "Epoch 5: train loss :   0.160514   val loss :   0.159295   val score :   0.291622\n",
      "------ epoch:6 ------\n"
     ]
    },
    {
     "name": "stderr",
     "output_type": "stream",
     "text": [
      "100%|██████████| 252/252 [00:03<00:00, 67.22it/s]\n",
      "100%|██████████| 28/28 [00:00<00:00, 125.66it/s]\n",
      "100%|██████████| 943/943 [00:00<00:00, 1419.82it/s]\n"
     ]
    },
    {
     "name": "stdout",
     "output_type": "stream",
     "text": [
      "Epoch 6: train loss :   0.160007   val loss :   0.159175   val score :   0.301166\n",
      "Epoch 00006: reducing learning rate of group 0 to 1.0000e-03.\n",
      "------ epoch:7 ------\n"
     ]
    },
    {
     "name": "stderr",
     "output_type": "stream",
     "text": [
      "100%|██████████| 252/252 [00:03<00:00, 68.34it/s]\n",
      "100%|██████████| 28/28 [00:00<00:00, 71.63it/s] \n",
      "100%|██████████| 943/943 [00:00<00:00, 1962.79it/s]\n"
     ]
    },
    {
     "name": "stdout",
     "output_type": "stream",
     "text": [
      "Epoch 7: train loss :   0.159203   val loss :   0.159157   val score :   0.304348\n"
     ]
    },
    {
     "name": "stderr",
     "output_type": "stream",
     "text": [
      "100%|██████████| 70/70 [00:00<00:00, 119.33it/s]\n",
      "100%|██████████| 943/943 [00:00<00:00, 1445.84it/s]\n"
     ]
    },
    {
     "name": "stdout",
     "output_type": "stream",
     "text": [
      "------ log loss of 2 fold : 0.15668917606983865 ------\n",
      "------ score of 2 fold : 0.24390243902439024 ------\n",
      "------ 第3折 ------\n",
      "------ epoch:1 ------\n"
     ]
    },
    {
     "name": "stderr",
     "output_type": "stream",
     "text": [
      "100%|██████████| 252/252 [00:03<00:00, 64.86it/s]\n",
      "100%|██████████| 28/28 [00:00<00:00, 71.18it/s] \n",
      "100%|██████████| 943/943 [00:00<00:00, 1178.52it/s]\n"
     ]
    },
    {
     "name": "stdout",
     "output_type": "stream",
     "text": [
      "Epoch 1: train loss :   0.452716   val loss :   0.197031   val score :   0.136797\n",
      "------ epoch:2 ------\n"
     ]
    },
    {
     "name": "stderr",
     "output_type": "stream",
     "text": [
      "100%|██████████| 252/252 [00:04<00:00, 58.94it/s]\n",
      "100%|██████████| 28/28 [00:00<00:00, 66.94it/s]\n",
      "100%|██████████| 943/943 [00:00<00:00, 1212.82it/s]\n"
     ]
    },
    {
     "name": "stdout",
     "output_type": "stream",
     "text": [
      "Epoch 2: train loss :   0.195386   val loss :   0.166973   val score :   0.246023\n",
      "------ epoch:3 ------\n"
     ]
    },
    {
     "name": "stderr",
     "output_type": "stream",
     "text": [
      "100%|██████████| 252/252 [00:04<00:00, 62.31it/s]\n",
      "100%|██████████| 28/28 [00:00<00:00, 107.61it/s]\n",
      "100%|██████████| 943/943 [00:00<00:00, 1320.95it/s]\n"
     ]
    },
    {
     "name": "stdout",
     "output_type": "stream",
     "text": [
      "Epoch 3: train loss :   0.168263   val loss :   0.160866   val score :   0.281018\n",
      "------ epoch:4 ------\n"
     ]
    },
    {
     "name": "stderr",
     "output_type": "stream",
     "text": [
      "100%|██████████| 252/252 [00:04<00:00, 61.12it/s]\n",
      "100%|██████████| 28/28 [00:00<00:00, 110.32it/s]\n",
      "100%|██████████| 943/943 [00:00<00:00, 1197.96it/s]\n"
     ]
    },
    {
     "name": "stdout",
     "output_type": "stream",
     "text": [
      "Epoch 4: train loss :   0.161393   val loss :   0.159022   val score :   0.292683\n",
      "------ epoch:5 ------\n"
     ]
    },
    {
     "name": "stderr",
     "output_type": "stream",
     "text": [
      "100%|██████████| 252/252 [00:04<00:00, 58.12it/s]\n",
      "100%|██████████| 28/28 [00:00<00:00, 108.01it/s]\n",
      "100%|██████████| 943/943 [00:00<00:00, 1053.67it/s]\n"
     ]
    },
    {
     "name": "stdout",
     "output_type": "stream",
     "text": [
      "Epoch 5: train loss :   0.159827   val loss :   0.158670   val score :   0.285260\n",
      "------ epoch:6 ------\n"
     ]
    },
    {
     "name": "stderr",
     "output_type": "stream",
     "text": [
      "100%|██████████| 252/252 [00:03<00:00, 64.20it/s]\n",
      "100%|██████████| 28/28 [00:00<00:00, 111.38it/s]\n",
      "100%|██████████| 943/943 [00:00<00:00, 1102.31it/s]\n"
     ]
    },
    {
     "name": "stdout",
     "output_type": "stream",
     "text": [
      "Epoch 6: train loss :   0.159410   val loss :   0.158547   val score :   0.313892\n",
      "------ epoch:7 ------\n"
     ]
    },
    {
     "name": "stderr",
     "output_type": "stream",
     "text": [
      "100%|██████████| 252/252 [00:04<00:00, 62.51it/s]\n",
      "100%|██████████| 28/28 [00:00<00:00, 66.53it/s] \n",
      "100%|██████████| 943/943 [00:00<00:00, 1165.40it/s]\n"
     ]
    },
    {
     "name": "stdout",
     "output_type": "stream",
     "text": [
      "Epoch 7: train loss :   0.159308   val loss :   0.158528   val score :   0.273595\n",
      "------ epoch:8 ------\n"
     ]
    },
    {
     "name": "stderr",
     "output_type": "stream",
     "text": [
      "100%|██████████| 252/252 [00:04<00:00, 61.71it/s]\n",
      "100%|██████████| 28/28 [00:00<00:00, 66.21it/s]\n",
      "100%|██████████| 943/943 [00:00<00:00, 1321.66it/s]\n"
     ]
    },
    {
     "name": "stdout",
     "output_type": "stream",
     "text": [
      "Epoch 8: train loss :   0.159266   val loss :   0.158569   val score :   0.290562\n",
      "------ epoch:9 ------\n"
     ]
    },
    {
     "name": "stderr",
     "output_type": "stream",
     "text": [
      "100%|██████████| 252/252 [00:04<00:00, 59.37it/s]\n",
      "100%|██████████| 28/28 [00:00<00:00, 112.43it/s]\n",
      "100%|██████████| 943/943 [00:00<00:00, 1891.22it/s]\n"
     ]
    },
    {
     "name": "stdout",
     "output_type": "stream",
     "text": [
      "Epoch 9: train loss :   0.159366   val loss :   0.158516   val score :   0.281018\n",
      "Epoch 00009: reducing learning rate of group 0 to 1.0000e-03.\n",
      "------ epoch:10 ------\n"
     ]
    },
    {
     "name": "stderr",
     "output_type": "stream",
     "text": [
      "100%|██████████| 252/252 [00:04<00:00, 62.60it/s]\n",
      "100%|██████████| 28/28 [00:00<00:00, 114.87it/s]\n",
      "100%|██████████| 943/943 [00:00<00:00, 1897.82it/s]\n"
     ]
    },
    {
     "name": "stdout",
     "output_type": "stream",
     "text": [
      "Epoch 10: train loss :   0.158288   val loss :   0.158486   val score :   0.283139\n"
     ]
    },
    {
     "name": "stderr",
     "output_type": "stream",
     "text": [
      "100%|██████████| 70/70 [00:00<00:00, 90.32it/s] \n",
      "100%|██████████| 943/943 [00:00<00:00, 2071.05it/s]\n"
     ]
    },
    {
     "name": "stdout",
     "output_type": "stream",
     "text": [
      "------ log loss of 3 fold : 0.15972312912344933 ------\n",
      "------ score of 3 fold : 0.2513255567338282 ------\n",
      "------ 第4折 ------\n",
      "------ epoch:1 ------\n"
     ]
    },
    {
     "name": "stderr",
     "output_type": "stream",
     "text": [
      "100%|██████████| 252/252 [00:04<00:00, 58.51it/s]\n",
      "100%|██████████| 28/28 [00:00<00:00, 123.74it/s]\n",
      "100%|██████████| 943/943 [00:00<00:00, 2070.34it/s]\n"
     ]
    },
    {
     "name": "stdout",
     "output_type": "stream",
     "text": [
      "Epoch 1: train loss :   0.468516   val loss :   0.200682   val score :   0.128314\n",
      "------ epoch:2 ------\n"
     ]
    },
    {
     "name": "stderr",
     "output_type": "stream",
     "text": [
      "100%|██████████| 252/252 [00:03<00:00, 68.05it/s]\n",
      "100%|██████████| 28/28 [00:00<00:00, 120.33it/s]\n",
      "100%|██████████| 943/943 [00:00<00:00, 2029.42it/s]\n"
     ]
    },
    {
     "name": "stdout",
     "output_type": "stream",
     "text": [
      "Epoch 2: train loss :   0.197246   val loss :   0.168570   val score :   0.249205\n",
      "------ epoch:3 ------\n"
     ]
    },
    {
     "name": "stderr",
     "output_type": "stream",
     "text": [
      "100%|██████████| 252/252 [00:03<00:00, 70.03it/s]\n",
      "100%|██████████| 28/28 [00:00<00:00, 121.95it/s]\n",
      "100%|██████████| 943/943 [00:00<00:00, 1096.78it/s]\n"
     ]
    },
    {
     "name": "stdout",
     "output_type": "stream",
     "text": [
      "Epoch 3: train loss :   0.169247   val loss :   0.162094   val score :   0.292683\n",
      "------ epoch:4 ------\n"
     ]
    },
    {
     "name": "stderr",
     "output_type": "stream",
     "text": [
      "100%|██████████| 252/252 [00:03<00:00, 67.08it/s]\n",
      "100%|██████████| 28/28 [00:00<00:00, 73.90it/s]\n",
      "100%|██████████| 943/943 [00:00<00:00, 1034.91it/s]\n"
     ]
    },
    {
     "name": "stdout",
     "output_type": "stream",
     "text": [
      "Epoch 4: train loss :   0.162335   val loss :   0.160493   val score :   0.293743\n",
      "------ epoch:5 ------\n"
     ]
    },
    {
     "name": "stderr",
     "output_type": "stream",
     "text": [
      "100%|██████████| 252/252 [00:03<00:00, 66.76it/s]\n",
      "100%|██████████| 28/28 [00:00<00:00, 121.65it/s]\n",
      "100%|██████████| 943/943 [00:00<00:00, 985.80it/s] \n"
     ]
    },
    {
     "name": "stdout",
     "output_type": "stream",
     "text": [
      "Epoch 5: train loss :   0.160530   val loss :   0.159965   val score :   0.293743\n",
      "------ epoch:6 ------\n"
     ]
    },
    {
     "name": "stderr",
     "output_type": "stream",
     "text": [
      "100%|██████████| 252/252 [00:03<00:00, 63.45it/s]\n",
      "100%|██████████| 28/28 [00:00<00:00, 123.91it/s]\n",
      "100%|██████████| 943/943 [00:00<00:00, 1339.34it/s]\n"
     ]
    },
    {
     "name": "stdout",
     "output_type": "stream",
     "text": [
      "Epoch 6: train loss :   0.160240   val loss :   0.159920   val score :   0.303287\n",
      "------ epoch:7 ------\n"
     ]
    },
    {
     "name": "stderr",
     "output_type": "stream",
     "text": [
      "100%|██████████| 252/252 [00:03<00:00, 66.91it/s]\n",
      "100%|██████████| 28/28 [00:00<00:00, 120.59it/s]\n",
      "100%|██████████| 943/943 [00:00<00:00, 1745.17it/s]\n"
     ]
    },
    {
     "name": "stdout",
     "output_type": "stream",
     "text": [
      "Epoch 7: train loss :   0.160061   val loss :   0.159927   val score :   0.286320\n",
      "------ epoch:8 ------\n"
     ]
    },
    {
     "name": "stderr",
     "output_type": "stream",
     "text": [
      "100%|██████████| 252/252 [00:03<00:00, 66.77it/s]\n",
      "100%|██████████| 28/28 [00:00<00:00, 126.65it/s]\n",
      "100%|██████████| 943/943 [00:00<00:00, 1995.59it/s]\n"
     ]
    },
    {
     "name": "stdout",
     "output_type": "stream",
     "text": [
      "Epoch 8: train loss :   0.160108   val loss :   0.159754   val score :   0.318134\n",
      "------ epoch:9 ------\n"
     ]
    },
    {
     "name": "stderr",
     "output_type": "stream",
     "text": [
      "100%|██████████| 252/252 [00:03<00:00, 66.56it/s]\n",
      "100%|██████████| 28/28 [00:00<00:00, 60.14it/s] \n",
      "100%|██████████| 943/943 [00:00<00:00, 1928.41it/s]\n"
     ]
    },
    {
     "name": "stdout",
     "output_type": "stream",
     "text": [
      "Epoch 9: train loss :   0.160098   val loss :   0.159925   val score :   0.304348\n",
      "------ epoch:10 ------\n"
     ]
    },
    {
     "name": "stderr",
     "output_type": "stream",
     "text": [
      "100%|██████████| 252/252 [00:04<00:00, 55.32it/s]\n",
      "100%|██████████| 28/28 [00:00<00:00, 56.09it/s]\n",
      "100%|██████████| 943/943 [00:00<00:00, 1888.75it/s]\n"
     ]
    },
    {
     "name": "stdout",
     "output_type": "stream",
     "text": [
      "Epoch 10: train loss :   0.160143   val loss :   0.159928   val score :   0.294804\n",
      "------ epoch:11 ------\n"
     ]
    },
    {
     "name": "stderr",
     "output_type": "stream",
     "text": [
      "100%|██████████| 252/252 [00:06<00:00, 41.28it/s]\n",
      "100%|██████████| 28/28 [00:00<00:00, 117.14it/s]\n",
      "100%|██████████| 943/943 [00:00<00:00, 1784.87it/s]\n"
     ]
    },
    {
     "name": "stdout",
     "output_type": "stream",
     "text": [
      "Epoch 11: train loss :   0.160127   val loss :   0.159884   val score :   0.305408\n",
      "Epoch 00011: reducing learning rate of group 0 to 1.0000e-03.\n",
      "------ epoch:12 ------\n"
     ]
    },
    {
     "name": "stderr",
     "output_type": "stream",
     "text": [
      "100%|██████████| 252/252 [00:03<00:00, 63.77it/s]\n",
      "100%|██████████| 28/28 [00:00<00:00, 115.09it/s]\n",
      "100%|██████████| 943/943 [00:00<00:00, 1954.50it/s]\n"
     ]
    },
    {
     "name": "stdout",
     "output_type": "stream",
     "text": [
      "Epoch 12: train loss :   0.159226   val loss :   0.159853   val score :   0.303287\n"
     ]
    },
    {
     "name": "stderr",
     "output_type": "stream",
     "text": [
      "100%|██████████| 70/70 [00:00<00:00, 86.79it/s] \n",
      "100%|██████████| 943/943 [00:00<00:00, 1856.21it/s]\n"
     ]
    },
    {
     "name": "stdout",
     "output_type": "stream",
     "text": [
      "------ log loss of 4 fold : 0.1560282721051148 ------\n",
      "------ score of 4 fold : 0.264050901378579 ------\n",
      "------ 第5折 ------\n",
      "------ epoch:1 ------\n"
     ]
    },
    {
     "name": "stderr",
     "output_type": "stream",
     "text": [
      "100%|██████████| 252/252 [00:04<00:00, 58.63it/s]\n",
      "100%|██████████| 28/28 [00:00<00:00, 91.57it/s]\n",
      "100%|██████████| 943/943 [00:00<00:00, 2048.69it/s]\n"
     ]
    },
    {
     "name": "stdout",
     "output_type": "stream",
     "text": [
      "Epoch 1: train loss :   0.455889   val loss :   0.198704   val score :   0.119830\n",
      "------ epoch:2 ------\n"
     ]
    },
    {
     "name": "stderr",
     "output_type": "stream",
     "text": [
      "100%|██████████| 252/252 [00:05<00:00, 46.59it/s]\n",
      "100%|██████████| 28/28 [00:00<00:00, 86.86it/s]\n",
      "100%|██████████| 943/943 [00:00<00:00, 1870.22it/s]\n"
     ]
    },
    {
     "name": "stdout",
     "output_type": "stream",
     "text": [
      "Epoch 2: train loss :   0.196476   val loss :   0.167547   val score :   0.259809\n",
      "------ epoch:3 ------\n"
     ]
    },
    {
     "name": "stderr",
     "output_type": "stream",
     "text": [
      "100%|██████████| 252/252 [00:05<00:00, 48.84it/s]\n",
      "100%|██████████| 28/28 [00:00<00:00, 113.15it/s]\n",
      "100%|██████████| 943/943 [00:00<00:00, 1800.54it/s]\n"
     ]
    },
    {
     "name": "stdout",
     "output_type": "stream",
     "text": [
      "Epoch 3: train loss :   0.168693   val loss :   0.160911   val score :   0.292683\n",
      "------ epoch:4 ------\n"
     ]
    },
    {
     "name": "stderr",
     "output_type": "stream",
     "text": [
      "100%|██████████| 252/252 [00:03<00:00, 63.72it/s]\n",
      "100%|██████████| 28/28 [00:00<00:00, 65.03it/s]\n",
      "100%|██████████| 943/943 [00:00<00:00, 2128.71it/s]\n"
     ]
    },
    {
     "name": "stdout",
     "output_type": "stream",
     "text": [
      "Epoch 4: train loss :   0.161962   val loss :   0.158940   val score :   0.293743\n",
      "------ epoch:5 ------\n"
     ]
    },
    {
     "name": "stderr",
     "output_type": "stream",
     "text": [
      "100%|██████████| 252/252 [00:03<00:00, 64.92it/s]\n",
      "100%|██████████| 28/28 [00:00<00:00, 114.91it/s]\n",
      "100%|██████████| 943/943 [00:00<00:00, 1860.23it/s]\n"
     ]
    },
    {
     "name": "stdout",
     "output_type": "stream",
     "text": [
      "Epoch 5: train loss :   0.160186   val loss :   0.158523   val score :   0.312831\n",
      "------ epoch:6 ------\n"
     ]
    },
    {
     "name": "stderr",
     "output_type": "stream",
     "text": [
      "100%|██████████| 252/252 [00:03<00:00, 65.50it/s]\n",
      "100%|██████████| 28/28 [00:00<00:00, 122.37it/s]\n",
      "100%|██████████| 943/943 [00:00<00:00, 2172.66it/s]\n"
     ]
    },
    {
     "name": "stdout",
     "output_type": "stream",
     "text": [
      "Epoch 6: train loss :   0.159710   val loss :   0.158429   val score :   0.314952\n",
      "------ epoch:7 ------\n"
     ]
    },
    {
     "name": "stderr",
     "output_type": "stream",
     "text": [
      "100%|██████████| 252/252 [00:03<00:00, 68.04it/s]\n",
      "100%|██████████| 28/28 [00:00<00:00, 117.56it/s]\n",
      "100%|██████████| 943/943 [00:00<00:00, 1919.87it/s]\n"
     ]
    },
    {
     "name": "stdout",
     "output_type": "stream",
     "text": [
      "Epoch 7: train loss :   0.159709   val loss :   0.158312   val score :   0.297985\n",
      "------ epoch:8 ------\n"
     ]
    },
    {
     "name": "stderr",
     "output_type": "stream",
     "text": [
      "100%|██████████| 252/252 [00:03<00:00, 63.92it/s]\n",
      "100%|██████████| 28/28 [00:00<00:00, 111.83it/s]\n",
      "100%|██████████| 943/943 [00:00<00:00, 1804.66it/s]\n"
     ]
    },
    {
     "name": "stdout",
     "output_type": "stream",
     "text": [
      "Epoch 8: train loss :   0.159824   val loss :   0.158358   val score :   0.292683\n",
      "------ epoch:9 ------\n"
     ]
    },
    {
     "name": "stderr",
     "output_type": "stream",
     "text": [
      "100%|██████████| 252/252 [00:03<00:00, 63.07it/s]\n",
      "100%|██████████| 28/28 [00:00<00:00, 67.31it/s] \n",
      "100%|██████████| 943/943 [00:00<00:00, 1839.85it/s]\n"
     ]
    },
    {
     "name": "stdout",
     "output_type": "stream",
     "text": [
      "Epoch 9: train loss :   0.159695   val loss :   0.158364   val score :   0.291622\n",
      "Epoch 00009: reducing learning rate of group 0 to 1.0000e-03.\n",
      "------ epoch:10 ------\n"
     ]
    },
    {
     "name": "stderr",
     "output_type": "stream",
     "text": [
      "100%|██████████| 252/252 [00:03<00:00, 68.70it/s]\n",
      "100%|██████████| 28/28 [00:00<00:00, 70.27it/s]\n",
      "100%|██████████| 943/943 [00:00<00:00, 1754.03it/s]\n"
     ]
    },
    {
     "name": "stdout",
     "output_type": "stream",
     "text": [
      "Epoch 10: train loss :   0.158874   val loss :   0.158338   val score :   0.302227\n"
     ]
    },
    {
     "name": "stderr",
     "output_type": "stream",
     "text": [
      "100%|██████████| 70/70 [00:00<00:00, 92.94it/s] \n",
      "100%|██████████| 943/943 [00:00<00:00, 1785.81it/s]\n"
     ]
    },
    {
     "name": "stdout",
     "output_type": "stream",
     "text": [
      "------ log loss of 5 fold : 0.15816492864063808 ------\n",
      "------ score of 5 fold : 0.25556733828207845 ------\n",
      "settings : power = 1, model type = 2\n",
      "parameters :  {'num_users': 943, 'num_items': 1682, 'embedding_dim': 20, 'lr': 0.01, 'alpha': 0.1, 'patience': 3, 'epochs': 30, 'device': 'cuda:0', 'model_selection': True}\n",
      "------ log loss of the model : 0.15674340705786433 ------\n",
      "------ score of the model : 0.2528101802757158 ------\n",
      "------ 第1折 ------\n",
      "------ epoch:1 ------\n"
     ]
    },
    {
     "name": "stderr",
     "output_type": "stream",
     "text": [
      "100%|██████████| 252/252 [00:04<00:00, 57.37it/s]\n",
      "100%|██████████| 28/28 [00:00<00:00, 66.32it/s]\n",
      "100%|██████████| 943/943 [00:00<00:00, 1839.16it/s]\n"
     ]
    },
    {
     "name": "stdout",
     "output_type": "stream",
     "text": [
      "Epoch 1: train loss :   0.945320   val loss :   0.608896   val score :   0.118770\n",
      "------ epoch:2 ------\n"
     ]
    },
    {
     "name": "stderr",
     "output_type": "stream",
     "text": [
      "100%|██████████| 252/252 [00:03<00:00, 63.43it/s]\n",
      "100%|██████████| 28/28 [00:00<00:00, 115.38it/s]\n",
      "100%|██████████| 943/943 [00:00<00:00, 2016.45it/s]\n"
     ]
    },
    {
     "name": "stdout",
     "output_type": "stream",
     "text": [
      "Epoch 2: train loss :   0.667144   val loss :   0.305263   val score :   0.132556\n",
      "------ epoch:3 ------\n"
     ]
    },
    {
     "name": "stderr",
     "output_type": "stream",
     "text": [
      "100%|██████████| 252/252 [00:03<00:00, 65.19it/s]\n",
      "100%|██████████| 28/28 [00:00<00:00, 115.80it/s]\n",
      "100%|██████████| 943/943 [00:00<00:00, 1498.66it/s]\n"
     ]
    },
    {
     "name": "stdout",
     "output_type": "stream",
     "text": [
      "Epoch 3: train loss :   0.561432   val loss :   0.280820   val score :   0.134677\n",
      "------ epoch:4 ------\n"
     ]
    },
    {
     "name": "stderr",
     "output_type": "stream",
     "text": [
      "100%|██████████| 252/252 [00:03<00:00, 64.45it/s]\n",
      "100%|██████████| 28/28 [00:00<00:00, 114.35it/s]\n",
      "100%|██████████| 943/943 [00:00<00:00, 1460.35it/s]\n"
     ]
    },
    {
     "name": "stdout",
     "output_type": "stream",
     "text": [
      "Epoch 4: train loss :   0.493812   val loss :   0.270851   val score :   0.133616\n",
      "------ epoch:5 ------\n"
     ]
    },
    {
     "name": "stderr",
     "output_type": "stream",
     "text": [
      "100%|██████████| 252/252 [00:04<00:00, 62.73it/s]\n",
      "100%|██████████| 28/28 [00:00<00:00, 67.70it/s] \n",
      "100%|██████████| 943/943 [00:00<00:00, 2104.21it/s]\n"
     ]
    },
    {
     "name": "stdout",
     "output_type": "stream",
     "text": [
      "Epoch 5: train loss :   0.430326   val loss :   0.260683   val score :   0.132556\n",
      "------ epoch:6 ------\n"
     ]
    },
    {
     "name": "stderr",
     "output_type": "stream",
     "text": [
      "100%|██████████| 252/252 [00:04<00:00, 61.02it/s]\n",
      "100%|██████████| 28/28 [00:00<00:00, 62.52it/s]\n",
      "100%|██████████| 943/943 [00:00<00:00, 1680.78it/s]\n"
     ]
    },
    {
     "name": "stdout",
     "output_type": "stream",
     "text": [
      "Epoch 6: train loss :   0.372464   val loss :   0.248122   val score :   0.129374\n",
      "Epoch 00006: reducing learning rate of group 0 to 1.0000e-04.\n",
      "------ epoch:7 ------\n"
     ]
    },
    {
     "name": "stderr",
     "output_type": "stream",
     "text": [
      "100%|██████████| 252/252 [00:04<00:00, 59.24it/s]\n",
      "100%|██████████| 28/28 [00:00<00:00, 113.07it/s]\n",
      "100%|██████████| 943/943 [00:00<00:00, 1821.19it/s]\n"
     ]
    },
    {
     "name": "stdout",
     "output_type": "stream",
     "text": [
      "Epoch 7: train loss :   0.343110   val loss :   0.246678   val score :   0.129374\n"
     ]
    },
    {
     "name": "stderr",
     "output_type": "stream",
     "text": [
      "100%|██████████| 70/70 [00:00<00:00, 88.47it/s] \n",
      "100%|██████████| 943/943 [00:00<00:00, 1252.71it/s]\n"
     ]
    },
    {
     "name": "stdout",
     "output_type": "stream",
     "text": [
      "------ log loss of 1 fold : 0.2433485318507467 ------\n",
      "------ score of 1 fold : 0.10286320254506894 ------\n",
      "------ 第2折 ------\n",
      "------ epoch:1 ------\n"
     ]
    },
    {
     "name": "stderr",
     "output_type": "stream",
     "text": [
      "100%|██████████| 252/252 [00:03<00:00, 63.14it/s]\n",
      "100%|██████████| 28/28 [00:00<00:00, 110.85it/s]\n",
      "100%|██████████| 943/943 [00:00<00:00, 2186.43it/s]\n"
     ]
    },
    {
     "name": "stdout",
     "output_type": "stream",
     "text": [
      "Epoch 1: train loss :   0.950987   val loss :   0.592147   val score :   0.125133\n",
      "------ epoch:2 ------\n"
     ]
    },
    {
     "name": "stderr",
     "output_type": "stream",
     "text": [
      "100%|██████████| 252/252 [00:04<00:00, 58.43it/s]\n",
      "100%|██████████| 28/28 [00:00<00:00, 118.10it/s]\n",
      "100%|██████████| 943/943 [00:00<00:00, 1832.63it/s]\n"
     ]
    },
    {
     "name": "stdout",
     "output_type": "stream",
     "text": [
      "Epoch 2: train loss :   0.673520   val loss :   0.301651   val score :   0.138918\n",
      "------ epoch:3 ------\n"
     ]
    },
    {
     "name": "stderr",
     "output_type": "stream",
     "text": [
      "100%|██████████| 252/252 [00:04<00:00, 62.24it/s]\n",
      "100%|██████████| 28/28 [00:00<00:00, 112.85it/s]\n",
      "100%|██████████| 943/943 [00:00<00:00, 1895.57it/s]\n"
     ]
    },
    {
     "name": "stdout",
     "output_type": "stream",
     "text": [
      "Epoch 3: train loss :   0.569148   val loss :   0.277966   val score :   0.138918\n",
      "------ epoch:4 ------\n"
     ]
    },
    {
     "name": "stderr",
     "output_type": "stream",
     "text": [
      "100%|██████████| 252/252 [00:03<00:00, 63.33it/s]\n",
      "100%|██████████| 28/28 [00:00<00:00, 113.18it/s]\n",
      "100%|██████████| 943/943 [00:00<00:00, 2089.45it/s]\n"
     ]
    },
    {
     "name": "stdout",
     "output_type": "stream",
     "text": [
      "Epoch 4: train loss :   0.500544   val loss :   0.268312   val score :   0.135737\n",
      "------ epoch:5 ------\n"
     ]
    },
    {
     "name": "stderr",
     "output_type": "stream",
     "text": [
      "100%|██████████| 252/252 [00:03<00:00, 67.04it/s]\n",
      "100%|██████████| 28/28 [00:00<00:00, 67.43it/s] \n",
      "100%|██████████| 943/943 [00:00<00:00, 1822.93it/s]\n"
     ]
    },
    {
     "name": "stdout",
     "output_type": "stream",
     "text": [
      "Epoch 5: train loss :   0.435921   val loss :   0.258521   val score :   0.132556\n",
      "Epoch 00005: reducing learning rate of group 0 to 1.0000e-04.\n",
      "------ epoch:6 ------\n"
     ]
    },
    {
     "name": "stderr",
     "output_type": "stream",
     "text": [
      "100%|██████████| 252/252 [00:03<00:00, 69.46it/s]\n",
      "100%|██████████| 28/28 [00:00<00:00, 69.55it/s] \n",
      "100%|██████████| 943/943 [00:00<00:00, 1978.63it/s]\n"
     ]
    },
    {
     "name": "stdout",
     "output_type": "stream",
     "text": [
      "Epoch 6: train loss :   0.401862   val loss :   0.257382   val score :   0.132556\n"
     ]
    },
    {
     "name": "stderr",
     "output_type": "stream",
     "text": [
      "100%|██████████| 70/70 [00:00<00:00, 107.09it/s]\n",
      "100%|██████████| 943/943 [00:00<00:00, 2035.48it/s]\n"
     ]
    },
    {
     "name": "stdout",
     "output_type": "stream",
     "text": [
      "------ log loss of 2 fold : 0.25656694705997196 ------\n",
      "------ score of 2 fold : 0.09968186638388123 ------\n",
      "------ 第3折 ------\n",
      "------ epoch:1 ------\n"
     ]
    },
    {
     "name": "stderr",
     "output_type": "stream",
     "text": [
      "100%|██████████| 252/252 [00:03<00:00, 63.50it/s]\n",
      "100%|██████████| 28/28 [00:00<00:00, 68.51it/s]\n",
      "100%|██████████| 943/943 [00:00<00:00, 1867.40it/s]\n"
     ]
    },
    {
     "name": "stdout",
     "output_type": "stream",
     "text": [
      "Epoch 1: train loss :   0.965005   val loss :   0.605463   val score :   0.129374\n",
      "------ epoch:2 ------\n"
     ]
    },
    {
     "name": "stderr",
     "output_type": "stream",
     "text": [
      "100%|██████████| 252/252 [00:04<00:00, 57.87it/s]\n",
      "100%|██████████| 28/28 [00:00<00:00, 85.77it/s] \n",
      "100%|██████████| 943/943 [00:00<00:00, 1888.47it/s]\n"
     ]
    },
    {
     "name": "stdout",
     "output_type": "stream",
     "text": [
      "Epoch 2: train loss :   0.683415   val loss :   0.302659   val score :   0.141039\n",
      "------ epoch:3 ------\n"
     ]
    },
    {
     "name": "stderr",
     "output_type": "stream",
     "text": [
      "100%|██████████| 252/252 [00:03<00:00, 65.97it/s]\n",
      "100%|██████████| 28/28 [00:00<00:00, 118.79it/s]\n",
      "100%|██████████| 943/943 [00:00<00:00, 2003.57it/s]\n"
     ]
    },
    {
     "name": "stdout",
     "output_type": "stream",
     "text": [
      "Epoch 3: train loss :   0.577670   val loss :   0.278814   val score :   0.141039\n",
      "------ epoch:4 ------\n"
     ]
    },
    {
     "name": "stderr",
     "output_type": "stream",
     "text": [
      "100%|██████████| 252/252 [00:03<00:00, 65.63it/s]\n",
      "100%|██████████| 28/28 [00:00<00:00, 115.42it/s]\n",
      "100%|██████████| 943/943 [00:00<00:00, 2029.01it/s]\n"
     ]
    },
    {
     "name": "stdout",
     "output_type": "stream",
     "text": [
      "Epoch 4: train loss :   0.508627   val loss :   0.269487   val score :   0.137858\n",
      "------ epoch:5 ------\n"
     ]
    },
    {
     "name": "stderr",
     "output_type": "stream",
     "text": [
      "100%|██████████| 252/252 [00:03<00:00, 63.60it/s]\n",
      "100%|██████████| 28/28 [00:00<00:00, 104.20it/s]\n",
      "100%|██████████| 943/943 [00:00<00:00, 1946.98it/s]\n"
     ]
    },
    {
     "name": "stdout",
     "output_type": "stream",
     "text": [
      "Epoch 5: train loss :   0.443568   val loss :   0.259899   val score :   0.133616\n",
      "Epoch 00005: reducing learning rate of group 0 to 1.0000e-04.\n",
      "------ epoch:6 ------\n"
     ]
    },
    {
     "name": "stderr",
     "output_type": "stream",
     "text": [
      "100%|██████████| 252/252 [00:03<00:00, 63.24it/s]\n",
      "100%|██████████| 28/28 [00:00<00:00, 67.33it/s] \n",
      "100%|██████████| 943/943 [00:00<00:00, 1790.75it/s]\n"
     ]
    },
    {
     "name": "stdout",
     "output_type": "stream",
     "text": [
      "Epoch 6: train loss :   0.409341   val loss :   0.258719   val score :   0.132556\n"
     ]
    },
    {
     "name": "stderr",
     "output_type": "stream",
     "text": [
      "100%|██████████| 70/70 [00:00<00:00, 118.03it/s]\n",
      "100%|██████████| 943/943 [00:00<00:00, 1249.29it/s]\n"
     ]
    },
    {
     "name": "stdout",
     "output_type": "stream",
     "text": [
      "------ log loss of 3 fold : 0.2586353174277714 ------\n",
      "------ score of 3 fold : 0.12725344644750794 ------\n",
      "------ 第4折 ------\n",
      "------ epoch:1 ------\n"
     ]
    },
    {
     "name": "stderr",
     "output_type": "stream",
     "text": [
      "100%|██████████| 252/252 [00:04<00:00, 57.76it/s]\n",
      "100%|██████████| 28/28 [00:00<00:00, 112.65it/s]\n",
      "100%|██████████| 943/943 [00:00<00:00, 1798.09it/s]\n"
     ]
    },
    {
     "name": "stdout",
     "output_type": "stream",
     "text": [
      "Epoch 1: train loss :   0.978440   val loss :   0.608723   val score :   0.120891\n",
      "------ epoch:2 ------\n"
     ]
    },
    {
     "name": "stderr",
     "output_type": "stream",
     "text": [
      "100%|██████████| 252/252 [00:04<00:00, 59.94it/s]\n",
      "100%|██████████| 28/28 [00:00<00:00, 51.92it/s]\n",
      "100%|██████████| 943/943 [00:00<00:00, 1929.74it/s]\n"
     ]
    },
    {
     "name": "stdout",
     "output_type": "stream",
     "text": [
      "Epoch 2: train loss :   0.681382   val loss :   0.300379   val score :   0.125133\n",
      "------ epoch:3 ------\n"
     ]
    },
    {
     "name": "stderr",
     "output_type": "stream",
     "text": [
      "100%|██████████| 252/252 [00:04<00:00, 57.50it/s]\n",
      "100%|██████████| 28/28 [00:00<00:00, 107.27it/s]\n",
      "100%|██████████| 943/943 [00:00<00:00, 2053.57it/s]\n"
     ]
    },
    {
     "name": "stdout",
     "output_type": "stream",
     "text": [
      "Epoch 3: train loss :   0.577626   val loss :   0.279283   val score :   0.134677\n",
      "------ epoch:4 ------\n"
     ]
    },
    {
     "name": "stderr",
     "output_type": "stream",
     "text": [
      "100%|██████████| 252/252 [00:04<00:00, 61.81it/s]\n",
      "100%|██████████| 28/28 [00:00<00:00, 109.57it/s]\n",
      "100%|██████████| 943/943 [00:00<00:00, 1682.53it/s]\n"
     ]
    },
    {
     "name": "stdout",
     "output_type": "stream",
     "text": [
      "Epoch 4: train loss :   0.508578   val loss :   0.270799   val score :   0.126193\n",
      "------ epoch:5 ------\n"
     ]
    },
    {
     "name": "stderr",
     "output_type": "stream",
     "text": [
      "100%|██████████| 252/252 [00:04<00:00, 62.35it/s]\n",
      "100%|██████████| 28/28 [00:00<00:00, 109.85it/s]\n",
      "100%|██████████| 943/943 [00:00<00:00, 2159.09it/s]\n"
     ]
    },
    {
     "name": "stdout",
     "output_type": "stream",
     "text": [
      "Epoch 5: train loss :   0.443104   val loss :   0.261397   val score :   0.125133\n",
      "------ epoch:6 ------\n"
     ]
    },
    {
     "name": "stderr",
     "output_type": "stream",
     "text": [
      "100%|██████████| 252/252 [00:04<00:00, 62.20it/s]\n",
      "100%|██████████| 28/28 [00:00<00:00, 103.09it/s]\n",
      "100%|██████████| 943/943 [00:00<00:00, 2045.49it/s]\n"
     ]
    },
    {
     "name": "stdout",
     "output_type": "stream",
     "text": [
      "Epoch 6: train loss :   0.382926   val loss :   0.249785   val score :   0.127253\n",
      "Epoch 00006: reducing learning rate of group 0 to 1.0000e-04.\n",
      "------ epoch:7 ------\n"
     ]
    },
    {
     "name": "stderr",
     "output_type": "stream",
     "text": [
      "100%|██████████| 252/252 [00:04<00:00, 62.11it/s]\n",
      "100%|██████████| 28/28 [00:00<00:00, 67.54it/s] \n",
      "100%|██████████| 943/943 [00:00<00:00, 1160.31it/s]\n"
     ]
    },
    {
     "name": "stdout",
     "output_type": "stream",
     "text": [
      "Epoch 7: train loss :   0.351984   val loss :   0.248435   val score :   0.127253\n"
     ]
    },
    {
     "name": "stderr",
     "output_type": "stream",
     "text": [
      "100%|██████████| 70/70 [00:00<00:00, 110.43it/s]\n",
      "100%|██████████| 943/943 [00:00<00:00, 1757.55it/s]\n"
     ]
    },
    {
     "name": "stdout",
     "output_type": "stream",
     "text": [
      "------ log loss of 4 fold : 0.24773315106119428 ------\n",
      "------ score of 4 fold : 0.09331919406150584 ------\n",
      "------ 第5折 ------\n",
      "------ epoch:1 ------\n"
     ]
    },
    {
     "name": "stderr",
     "output_type": "stream",
     "text": [
      "100%|██████████| 252/252 [00:04<00:00, 61.59it/s]\n",
      "100%|██████████| 28/28 [00:00<00:00, 113.05it/s]\n",
      "100%|██████████| 943/943 [00:00<00:00, 1661.13it/s]\n"
     ]
    },
    {
     "name": "stdout",
     "output_type": "stream",
     "text": [
      "Epoch 1: train loss :   0.965207   val loss :   0.606006   val score :   0.118770\n",
      "------ epoch:2 ------\n"
     ]
    },
    {
     "name": "stderr",
     "output_type": "stream",
     "text": [
      "100%|██████████| 252/252 [00:03<00:00, 63.96it/s]\n",
      "100%|██████████| 28/28 [00:00<00:00, 56.36it/s] \n",
      "100%|██████████| 943/943 [00:00<00:00, 1738.28it/s]\n"
     ]
    },
    {
     "name": "stdout",
     "output_type": "stream",
     "text": [
      "Epoch 2: train loss :   0.682652   val loss :   0.302612   val score :   0.124072\n",
      "------ epoch:3 ------\n"
     ]
    },
    {
     "name": "stderr",
     "output_type": "stream",
     "text": [
      "100%|██████████| 252/252 [00:04<00:00, 62.94it/s]\n",
      "100%|██████████| 28/28 [00:00<00:00, 109.97it/s]\n",
      "100%|██████████| 943/943 [00:00<00:00, 1212.22it/s]\n"
     ]
    },
    {
     "name": "stdout",
     "output_type": "stream",
     "text": [
      "Epoch 3: train loss :   0.576244   val loss :   0.279169   val score :   0.129374\n",
      "------ epoch:4 ------\n"
     ]
    },
    {
     "name": "stderr",
     "output_type": "stream",
     "text": [
      "100%|██████████| 252/252 [00:04<00:00, 59.75it/s]\n",
      "100%|██████████| 28/28 [00:00<00:00, 109.94it/s]\n",
      "100%|██████████| 943/943 [00:00<00:00, 2194.84it/s]\n"
     ]
    },
    {
     "name": "stdout",
     "output_type": "stream",
     "text": [
      "Epoch 4: train loss :   0.506654   val loss :   0.269785   val score :   0.126193\n",
      "------ epoch:5 ------\n"
     ]
    },
    {
     "name": "stderr",
     "output_type": "stream",
     "text": [
      "100%|██████████| 252/252 [00:04<00:00, 59.56it/s]\n",
      "100%|██████████| 28/28 [00:00<00:00, 110.98it/s]\n",
      "100%|██████████| 943/943 [00:00<00:00, 1412.22it/s]\n"
     ]
    },
    {
     "name": "stdout",
     "output_type": "stream",
     "text": [
      "Epoch 5: train loss :   0.441367   val loss :   0.260376   val score :   0.123012\n",
      "------ epoch:6 ------\n"
     ]
    },
    {
     "name": "stderr",
     "output_type": "stream",
     "text": [
      "100%|██████████| 252/252 [00:03<00:00, 64.17it/s]\n",
      "100%|██████████| 28/28 [00:00<00:00, 114.06it/s]\n",
      "100%|██████████| 943/943 [00:00<00:00, 1458.05it/s]\n"
     ]
    },
    {
     "name": "stdout",
     "output_type": "stream",
     "text": [
      "Epoch 6: train loss :   0.381689   val loss :   0.248503   val score :   0.121951\n",
      "Epoch 00006: reducing learning rate of group 0 to 1.0000e-04.\n",
      "------ epoch:7 ------\n"
     ]
    },
    {
     "name": "stderr",
     "output_type": "stream",
     "text": [
      "100%|██████████| 252/252 [00:03<00:00, 64.06it/s]\n",
      "100%|██████████| 28/28 [00:00<00:00, 65.71it/s] \n",
      "100%|██████████| 943/943 [00:00<00:00, 1755.83it/s]\n"
     ]
    },
    {
     "name": "stdout",
     "output_type": "stream",
     "text": [
      "Epoch 7: train loss :   0.351042   val loss :   0.247139   val score :   0.121951\n"
     ]
    },
    {
     "name": "stderr",
     "output_type": "stream",
     "text": [
      "100%|██████████| 70/70 [00:00<00:00, 110.47it/s]\n",
      "100%|██████████| 943/943 [00:00<00:00, 1933.25it/s]"
     ]
    },
    {
     "name": "stdout",
     "output_type": "stream",
     "text": [
      "------ log loss of 5 fold : 0.24742585995367594 ------\n",
      "------ score of 5 fold : 0.11983032873807 ------\n",
      "settings : power = 1, model type = 2\n",
      "parameters :  {'num_users': 943, 'num_items': 1682, 'embedding_dim': 20, 'lr': 0.001, 'alpha': 0.1, 'patience': 3, 'epochs': 30, 'device': 'cuda:0', 'model_selection': True}\n",
      "------ log loss of the model : 0.25074196147067207 ------\n",
      "------ score of the model : 0.1085896076352068 ------\n"
     ]
    },
    {
     "name": "stderr",
     "output_type": "stream",
     "text": [
      "\n"
     ]
    }
   ],
   "source": [
    "embedding_dim = 20\n",
    "lr = 1e-1\n",
    "alpha = 1e-1\n",
    "model_type = 2\n",
    "seed_everything(42)\n",
    "CrossValidation3(train, model_type=model_type, power=power, k=5,  \n",
    "                num_users=num_users, num_items=num_items, embedding_dim=embedding_dim, \n",
    "               lr=lr, alpha=alpha, patience=3, epochs=30, device=\"cuda:0\", model_selection=True)\n",
    "\n",
    "embedding_dim = 20\n",
    "lr = 1e-2\n",
    "alpha = 1e-1\n",
    "model_type = 2\n",
    "seed_everything(42)\n",
    "CrossValidation3(train, model_type=model_type, power=power, k=5,  \n",
    "                num_users=num_users, num_items=num_items, embedding_dim=embedding_dim, \n",
    "               lr=lr, alpha=alpha, patience=3, epochs=30, device=\"cuda:0\", model_selection=True)\n",
    "\n",
    "embedding_dim = 20\n",
    "lr = 1e-3\n",
    "alpha = 1e-1\n",
    "model_type = 2\n",
    "seed_everything(42)\n",
    "CrossValidation3(train, model_type=model_type, power=power, k=5,  \n",
    "                num_users=num_users, num_items=num_items, embedding_dim=embedding_dim, \n",
    "               lr=lr, alpha=alpha, patience=3, epochs=30, device=\"cuda:0\", model_selection=True)"
   ]
  },
  {
   "cell_type": "markdown",
   "id": "9b2808b4-e58f-4ac6-a57c-3499ee202705",
   "metadata": {},
   "source": [
    "### 3"
   ]
  },
  {
   "cell_type": "markdown",
   "id": "15b138bf-3efc-411d-9e86-4549f4bc4f44",
   "metadata": {},
   "source": [
    "### 4"
   ]
  },
  {
   "cell_type": "markdown",
   "id": "14263a41-d022-4006-b5a0-45ff55f9df68",
   "metadata": {},
   "source": [
    "### 5"
   ]
  },
  {
   "cell_type": "code",
   "execution_count": null,
   "id": "e049095d-073c-4003-aa5c-d2fd176b509c",
   "metadata": {},
   "outputs": [],
   "source": []
  },
  {
   "cell_type": "code",
   "execution_count": null,
   "id": "6c141825-bda5-4b19-9595-a77846083de0",
   "metadata": {},
   "outputs": [],
   "source": []
  },
  {
   "cell_type": "code",
   "execution_count": null,
   "id": "134ff00e-ac5e-4e59-adfd-9a20502de0b2",
   "metadata": {},
   "outputs": [],
   "source": []
  },
  {
   "cell_type": "markdown",
   "id": "ab5904ea-52a9-4b28-a185-d2567f13525a",
   "metadata": {},
   "source": [
    "# Test"
   ]
  },
  {
   "cell_type": "markdown",
   "id": "f77b90ba-50e3-46b8-ace0-aaeb77897c52",
   "metadata": {},
   "source": [
    "## 一. p = 1"
   ]
  },
  {
   "cell_type": "code",
   "execution_count": 14,
   "id": "802c212c-855b-47c9-a3e0-29b5c0657b1d",
   "metadata": {
    "tags": []
   },
   "outputs": [],
   "source": [
    "seed_everything(42)\n",
    "power = 1\n",
    "click_data, _, _ = generate_click_data(data, num_users, num_items, power=power)\n",
    "neg_data = click_data[click_data[:, 6]==0, :]\n",
    "pos_data = click_data[click_data[:, 6]==1, :]\n",
    "train, test = train_test_split(neg_data, test_size=0.1, random_state=0)\n",
    "train = torch.vstack([pos_data, train]) # 使用未被点击的一部分作为测试集"
   ]
  },
  {
   "cell_type": "markdown",
   "id": "b678b117-8894-48b2-bf4c-1c49325eaaf6",
   "metadata": {},
   "source": [
    "### 2"
   ]
  },
  {
   "cell_type": "code",
   "execution_count": 15,
   "id": "a3cfa8a2-59b4-4036-9a1c-13ddd952f141",
   "metadata": {
    "tags": []
   },
   "outputs": [
    {
     "name": "stdout",
     "output_type": "stream",
     "text": [
      "------ repeat : 1 ------\n",
      "------ epoch:1 ------\n"
     ]
    },
    {
     "name": "stderr",
     "output_type": "stream",
     "text": [
      "100%|██████████| 280/280 [00:05<00:00, 55.55it/s]\n",
      "100%|██████████| 70/70 [00:00<00:00, 82.38it/s]\n",
      "100%|██████████| 943/943 [00:00<00:00, 2121.10it/s]\n"
     ]
    },
    {
     "name": "stdout",
     "output_type": "stream",
     "text": [
      "Epoch 1: train loss :   0.202275   val loss :   0.153560   val score :   0.134677\n",
      "------ epoch:2 ------\n"
     ]
    },
    {
     "name": "stderr",
     "output_type": "stream",
     "text": [
      "100%|██████████| 280/280 [00:04<00:00, 58.92it/s]\n",
      "100%|██████████| 70/70 [00:00<00:00, 84.63it/s] \n",
      "100%|██████████| 943/943 [00:00<00:00, 1528.06it/s]\n"
     ]
    },
    {
     "name": "stdout",
     "output_type": "stream",
     "text": [
      "Epoch 2: train loss :   0.177040   val loss :   0.154513   val score :   0.145281\n",
      "------ epoch:3 ------\n"
     ]
    },
    {
     "name": "stderr",
     "output_type": "stream",
     "text": [
      "100%|██████████| 280/280 [00:04<00:00, 60.94it/s]\n",
      "100%|██████████| 70/70 [00:00<00:00, 81.42it/s] \n",
      "100%|██████████| 943/943 [00:00<00:00, 1913.41it/s]\n"
     ]
    },
    {
     "name": "stdout",
     "output_type": "stream",
     "text": [
      "Epoch 3: train loss :   0.178015   val loss :   0.154834   val score :   0.143160\n",
      "------ epoch:4 ------\n"
     ]
    },
    {
     "name": "stderr",
     "output_type": "stream",
     "text": [
      "100%|██████████| 280/280 [00:04<00:00, 61.55it/s]\n",
      "100%|██████████| 70/70 [00:00<00:00, 87.67it/s] \n",
      "100%|██████████| 943/943 [00:00<00:00, 1207.68it/s]\n"
     ]
    },
    {
     "name": "stdout",
     "output_type": "stream",
     "text": [
      "Epoch 4: train loss :   0.176936   val loss :   0.153983   val score :   0.151644\n",
      "------ epoch:5 ------\n"
     ]
    },
    {
     "name": "stderr",
     "output_type": "stream",
     "text": [
      "100%|██████████| 280/280 [00:04<00:00, 62.27it/s]\n",
      "100%|██████████| 70/70 [00:00<00:00, 102.49it/s]\n",
      "100%|██████████| 943/943 [00:00<00:00, 1406.17it/s]\n"
     ]
    },
    {
     "name": "stdout",
     "output_type": "stream",
     "text": [
      "Epoch 5: train loss :   0.176343   val loss :   0.154413   val score :   0.143160\n",
      "------ epoch:6 ------\n"
     ]
    },
    {
     "name": "stderr",
     "output_type": "stream",
     "text": [
      "100%|██████████| 280/280 [00:04<00:00, 60.92it/s]\n",
      "100%|██████████| 70/70 [00:00<00:00, 84.21it/s]\n",
      "100%|██████████| 943/943 [00:00<00:00, 1103.55it/s]\n"
     ]
    },
    {
     "name": "stdout",
     "output_type": "stream",
     "text": [
      "Epoch 6: train loss :   0.176937   val loss :   0.154850   val score :   0.139979\n",
      "------ epoch:7 ------\n"
     ]
    },
    {
     "name": "stderr",
     "output_type": "stream",
     "text": [
      "100%|██████████| 280/280 [00:04<00:00, 61.97it/s]\n",
      "100%|██████████| 70/70 [00:00<00:00, 84.53it/s] \n",
      "100%|██████████| 943/943 [00:00<00:00, 1764.14it/s]\n"
     ]
    },
    {
     "name": "stdout",
     "output_type": "stream",
     "text": [
      "Epoch 7: train loss :   0.177935   val loss :   0.155061   val score :   0.133616\n",
      "Epoch 00007: reducing learning rate of group 0 to 1.0000e-02.\n",
      "------ epoch:8 ------\n"
     ]
    },
    {
     "name": "stderr",
     "output_type": "stream",
     "text": [
      "100%|██████████| 280/280 [00:04<00:00, 63.26it/s]\n",
      "100%|██████████| 70/70 [00:00<00:00, 84.79it/s] \n",
      "100%|██████████| 943/943 [00:00<00:00, 1267.02it/s]\n"
     ]
    },
    {
     "name": "stdout",
     "output_type": "stream",
     "text": [
      "Epoch 8: train loss :   0.163380   val loss :   0.153129   val score :   0.240721\n",
      "------ epoch:9 ------\n"
     ]
    },
    {
     "name": "stderr",
     "output_type": "stream",
     "text": [
      "100%|██████████| 280/280 [00:04<00:00, 56.46it/s]\n",
      "100%|██████████| 70/70 [00:00<00:00, 78.55it/s] \n",
      "100%|██████████| 943/943 [00:00<00:00, 1840.86it/s]\n"
     ]
    },
    {
     "name": "stdout",
     "output_type": "stream",
     "text": [
      "Epoch 9: train loss :   0.161434   val loss :   0.152966   val score :   0.252386\n",
      "------ epoch:10 ------\n"
     ]
    },
    {
     "name": "stderr",
     "output_type": "stream",
     "text": [
      "100%|██████████| 280/280 [00:04<00:00, 60.86it/s]\n",
      "100%|██████████| 70/70 [00:00<00:00, 108.35it/s]\n",
      "100%|██████████| 943/943 [00:00<00:00, 1546.21it/s]\n"
     ]
    },
    {
     "name": "stdout",
     "output_type": "stream",
     "text": [
      "Epoch 10: train loss :   0.161340   val loss :   0.153020   val score :   0.254507\n",
      "------ epoch:11 ------\n"
     ]
    },
    {
     "name": "stderr",
     "output_type": "stream",
     "text": [
      "100%|██████████| 280/280 [00:04<00:00, 61.82it/s]\n",
      "100%|██████████| 70/70 [00:00<00:00, 81.61it/s]\n",
      "100%|██████████| 943/943 [00:00<00:00, 1983.41it/s]\n"
     ]
    },
    {
     "name": "stdout",
     "output_type": "stream",
     "text": [
      "Epoch 11: train loss :   0.161461   val loss :   0.152966   val score :   0.256628\n",
      "------ epoch:12 ------\n"
     ]
    },
    {
     "name": "stderr",
     "output_type": "stream",
     "text": [
      "100%|██████████| 280/280 [00:04<00:00, 62.21it/s]\n",
      "100%|██████████| 70/70 [00:00<00:00, 82.69it/s] \n",
      "100%|██████████| 943/943 [00:00<00:00, 1833.79it/s]\n"
     ]
    },
    {
     "name": "stdout",
     "output_type": "stream",
     "text": [
      "Epoch 12: train loss :   0.161430   val loss :   0.152972   val score :   0.259809\n",
      "------ epoch:13 ------\n"
     ]
    },
    {
     "name": "stderr",
     "output_type": "stream",
     "text": [
      "100%|██████████| 280/280 [00:04<00:00, 60.43it/s]\n",
      "100%|██████████| 70/70 [00:00<00:00, 83.17it/s] \n",
      "100%|██████████| 943/943 [00:01<00:00, 934.95it/s]\n"
     ]
    },
    {
     "name": "stdout",
     "output_type": "stream",
     "text": [
      "Epoch 13: train loss :   0.161519   val loss :   0.153117   val score :   0.246023\n",
      "------ epoch:14 ------\n"
     ]
    },
    {
     "name": "stderr",
     "output_type": "stream",
     "text": [
      "100%|██████████| 280/280 [00:04<00:00, 59.25it/s]\n",
      "100%|██████████| 70/70 [00:00<00:00, 102.82it/s]\n",
      "100%|██████████| 943/943 [00:00<00:00, 1789.78it/s]\n"
     ]
    },
    {
     "name": "stdout",
     "output_type": "stream",
     "text": [
      "Epoch 14: train loss :   0.161350   val loss :   0.153044   val score :   0.257688\n",
      "------ epoch:15 ------\n"
     ]
    },
    {
     "name": "stderr",
     "output_type": "stream",
     "text": [
      "100%|██████████| 280/280 [00:05<00:00, 54.96it/s]\n",
      "100%|██████████| 70/70 [00:00<00:00, 83.92it/s]\n",
      "100%|██████████| 943/943 [00:00<00:00, 1795.91it/s]\n"
     ]
    },
    {
     "name": "stdout",
     "output_type": "stream",
     "text": [
      "Epoch 15: train loss :   0.161283   val loss :   0.152983   val score :   0.241782\n",
      "Epoch 00015: reducing learning rate of group 0 to 1.0000e-03.\n",
      "------ epoch:16 ------\n"
     ]
    },
    {
     "name": "stderr",
     "output_type": "stream",
     "text": [
      "100%|██████████| 280/280 [00:04<00:00, 61.48it/s]\n",
      "100%|██████████| 70/70 [00:00<00:00, 85.94it/s] \n",
      "100%|██████████| 943/943 [00:00<00:00, 1929.36it/s]\n"
     ]
    },
    {
     "name": "stdout",
     "output_type": "stream",
     "text": [
      "Epoch 16: train loss :   0.160566   val loss :   0.152972   val score :   0.238600\n"
     ]
    },
    {
     "name": "stderr",
     "output_type": "stream",
     "text": [
      "100%|██████████| 39/39 [00:00<00:00, 112.65it/s]\n",
      "100%|██████████| 943/943 [00:06<00:00, 149.75it/s]\n"
     ]
    },
    {
     "name": "stdout",
     "output_type": "stream",
     "text": [
      "------ repeat : 2 ------\n",
      "------ epoch:1 ------\n"
     ]
    },
    {
     "name": "stderr",
     "output_type": "stream",
     "text": [
      "100%|██████████| 280/280 [00:04<00:00, 56.57it/s]\n",
      "100%|██████████| 70/70 [00:00<00:00, 108.14it/s]\n",
      "100%|██████████| 943/943 [00:00<00:00, 1731.20it/s]\n"
     ]
    },
    {
     "name": "stdout",
     "output_type": "stream",
     "text": [
      "Epoch 1: train loss :   0.201153   val loss :   0.154299   val score :   0.147402\n",
      "------ epoch:2 ------\n"
     ]
    },
    {
     "name": "stderr",
     "output_type": "stream",
     "text": [
      "100%|██████████| 280/280 [00:04<00:00, 56.67it/s]\n",
      "100%|██████████| 70/70 [00:01<00:00, 67.31it/s] \n",
      "100%|██████████| 943/943 [00:00<00:00, 1145.33it/s]\n"
     ]
    },
    {
     "name": "stdout",
     "output_type": "stream",
     "text": [
      "Epoch 2: train loss :   0.176928   val loss :   0.154110   val score :   0.159067\n",
      "------ epoch:3 ------\n"
     ]
    },
    {
     "name": "stderr",
     "output_type": "stream",
     "text": [
      "100%|██████████| 280/280 [00:07<00:00, 36.09it/s]\n",
      "100%|██████████| 70/70 [00:01<00:00, 56.83it/s]\n",
      "100%|██████████| 943/943 [00:00<00:00, 1472.65it/s]\n"
     ]
    },
    {
     "name": "stdout",
     "output_type": "stream",
     "text": [
      "Epoch 3: train loss :   0.177430   val loss :   0.154791   val score :   0.138918\n",
      "------ epoch:4 ------\n"
     ]
    },
    {
     "name": "stderr",
     "output_type": "stream",
     "text": [
      "100%|██████████| 280/280 [00:04<00:00, 58.27it/s]\n",
      "100%|██████████| 70/70 [00:00<00:00, 80.84it/s] \n",
      "100%|██████████| 943/943 [00:00<00:00, 1316.26it/s]\n"
     ]
    },
    {
     "name": "stdout",
     "output_type": "stream",
     "text": [
      "Epoch 4: train loss :   0.176655   val loss :   0.154453   val score :   0.155885\n",
      "------ epoch:5 ------\n"
     ]
    },
    {
     "name": "stderr",
     "output_type": "stream",
     "text": [
      "100%|██████████| 280/280 [00:04<00:00, 61.11it/s]\n",
      "100%|██████████| 70/70 [00:00<00:00, 81.74it/s] \n",
      "100%|██████████| 943/943 [00:00<00:00, 1762.41it/s]\n"
     ]
    },
    {
     "name": "stdout",
     "output_type": "stream",
     "text": [
      "Epoch 5: train loss :   0.178683   val loss :   0.154854   val score :   0.167550\n",
      "------ epoch:6 ------\n"
     ]
    },
    {
     "name": "stderr",
     "output_type": "stream",
     "text": [
      "100%|██████████| 280/280 [00:04<00:00, 59.02it/s]\n",
      "100%|██████████| 70/70 [00:00<00:00, 82.21it/s] \n",
      "100%|██████████| 943/943 [00:00<00:00, 1719.76it/s]\n"
     ]
    },
    {
     "name": "stdout",
     "output_type": "stream",
     "text": [
      "Epoch 6: train loss :   0.177101   val loss :   0.154562   val score :   0.121951\n",
      "------ epoch:7 ------\n"
     ]
    },
    {
     "name": "stderr",
     "output_type": "stream",
     "text": [
      "100%|██████████| 280/280 [00:04<00:00, 56.80it/s]\n",
      "100%|██████████| 70/70 [00:00<00:00, 101.41it/s]\n",
      "100%|██████████| 943/943 [00:00<00:00, 1235.11it/s]\n"
     ]
    },
    {
     "name": "stdout",
     "output_type": "stream",
     "text": [
      "Epoch 7: train loss :   0.177705   val loss :   0.154831   val score :   0.145281\n",
      "------ epoch:8 ------\n"
     ]
    },
    {
     "name": "stderr",
     "output_type": "stream",
     "text": [
      "100%|██████████| 280/280 [00:06<00:00, 44.28it/s]\n",
      "100%|██████████| 70/70 [00:00<00:00, 80.45it/s]\n",
      "100%|██████████| 943/943 [00:00<00:00, 1239.09it/s]\n"
     ]
    },
    {
     "name": "stdout",
     "output_type": "stream",
     "text": [
      "Epoch 8: train loss :   0.175055   val loss :   0.154467   val score :   0.125133\n",
      "Epoch 00008: reducing learning rate of group 0 to 1.0000e-02.\n",
      "------ epoch:9 ------\n"
     ]
    },
    {
     "name": "stderr",
     "output_type": "stream",
     "text": [
      "100%|██████████| 280/280 [00:05<00:00, 52.62it/s]\n",
      "100%|██████████| 70/70 [00:00<00:00, 81.79it/s] \n",
      "100%|██████████| 943/943 [00:00<00:00, 1624.59it/s]\n"
     ]
    },
    {
     "name": "stdout",
     "output_type": "stream",
     "text": [
      "Epoch 9: train loss :   0.163407   val loss :   0.153028   val score :   0.255567\n",
      "------ epoch:10 ------\n"
     ]
    },
    {
     "name": "stderr",
     "output_type": "stream",
     "text": [
      "100%|██████████| 280/280 [00:04<00:00, 61.89it/s]\n",
      "100%|██████████| 70/70 [00:00<00:00, 82.94it/s] \n",
      "100%|██████████| 943/943 [00:00<00:00, 1716.99it/s]\n"
     ]
    },
    {
     "name": "stdout",
     "output_type": "stream",
     "text": [
      "Epoch 10: train loss :   0.161313   val loss :   0.153026   val score :   0.254507\n",
      "------ epoch:11 ------\n"
     ]
    },
    {
     "name": "stderr",
     "output_type": "stream",
     "text": [
      "100%|██████████| 280/280 [00:04<00:00, 62.43it/s]\n",
      "100%|██████████| 70/70 [00:00<00:00, 81.18it/s] \n",
      "100%|██████████| 943/943 [00:00<00:00, 1952.13it/s]\n"
     ]
    },
    {
     "name": "stdout",
     "output_type": "stream",
     "text": [
      "Epoch 11: train loss :   0.161579   val loss :   0.152930   val score :   0.249205\n",
      "------ epoch:12 ------\n"
     ]
    },
    {
     "name": "stderr",
     "output_type": "stream",
     "text": [
      "100%|██████████| 280/280 [00:04<00:00, 61.29it/s]\n",
      "100%|██████████| 70/70 [00:00<00:00, 106.68it/s]\n",
      "100%|██████████| 943/943 [00:00<00:00, 1893.32it/s]\n"
     ]
    },
    {
     "name": "stdout",
     "output_type": "stream",
     "text": [
      "Epoch 12: train loss :   0.161315   val loss :   0.152981   val score :   0.240721\n",
      "Epoch 00012: reducing learning rate of group 0 to 1.0000e-03.\n",
      "------ epoch:13 ------\n"
     ]
    },
    {
     "name": "stderr",
     "output_type": "stream",
     "text": [
      "100%|██████████| 280/280 [00:04<00:00, 61.99it/s]\n",
      "100%|██████████| 70/70 [00:00<00:00, 88.96it/s] \n",
      "100%|██████████| 943/943 [00:00<00:00, 1147.17it/s]\n"
     ]
    },
    {
     "name": "stdout",
     "output_type": "stream",
     "text": [
      "Epoch 13: train loss :   0.160411   val loss :   0.152985   val score :   0.239661\n"
     ]
    },
    {
     "name": "stderr",
     "output_type": "stream",
     "text": [
      "100%|██████████| 39/39 [00:00<00:00, 73.82it/s] \n",
      "100%|██████████| 943/943 [00:06<00:00, 150.66it/s]\n"
     ]
    },
    {
     "name": "stdout",
     "output_type": "stream",
     "text": [
      "------ repeat : 3 ------\n",
      "------ epoch:1 ------\n"
     ]
    },
    {
     "name": "stderr",
     "output_type": "stream",
     "text": [
      "100%|██████████| 280/280 [00:04<00:00, 61.01it/s]\n",
      "100%|██████████| 70/70 [00:00<00:00, 74.05it/s]\n",
      "100%|██████████| 943/943 [00:00<00:00, 1891.64it/s]\n"
     ]
    },
    {
     "name": "stdout",
     "output_type": "stream",
     "text": [
      "Epoch 1: train loss :   0.202081   val loss :   0.154637   val score :   0.137858\n",
      "------ epoch:2 ------\n"
     ]
    },
    {
     "name": "stderr",
     "output_type": "stream",
     "text": [
      "100%|██████████| 280/280 [00:04<00:00, 62.71it/s]\n",
      "100%|██████████| 70/70 [00:00<00:00, 112.13it/s]\n",
      "100%|██████████| 943/943 [00:00<00:00, 1815.76it/s]\n"
     ]
    },
    {
     "name": "stdout",
     "output_type": "stream",
     "text": [
      "Epoch 2: train loss :   0.177032   val loss :   0.154725   val score :   0.151644\n",
      "------ epoch:3 ------\n"
     ]
    },
    {
     "name": "stderr",
     "output_type": "stream",
     "text": [
      "100%|██████████| 280/280 [00:04<00:00, 63.46it/s]\n",
      "100%|██████████| 70/70 [00:00<00:00, 86.90it/s] \n",
      "100%|██████████| 943/943 [00:00<00:00, 1828.96it/s]\n"
     ]
    },
    {
     "name": "stdout",
     "output_type": "stream",
     "text": [
      "Epoch 3: train loss :   0.176917   val loss :   0.154194   val score :   0.160127\n",
      "------ epoch:4 ------\n"
     ]
    },
    {
     "name": "stderr",
     "output_type": "stream",
     "text": [
      "100%|██████████| 280/280 [00:04<00:00, 57.42it/s]\n",
      "100%|██████████| 70/70 [00:00<00:00, 90.46it/s] \n",
      "100%|██████████| 943/943 [00:00<00:00, 1877.12it/s]\n"
     ]
    },
    {
     "name": "stdout",
     "output_type": "stream",
     "text": [
      "Epoch 4: train loss :   0.176484   val loss :   0.154343   val score :   0.136797\n",
      "------ epoch:5 ------\n"
     ]
    },
    {
     "name": "stderr",
     "output_type": "stream",
     "text": [
      "100%|██████████| 280/280 [00:04<00:00, 60.76it/s]\n",
      "100%|██████████| 70/70 [00:00<00:00, 86.19it/s] \n",
      "100%|██████████| 943/943 [00:00<00:00, 1328.08it/s]\n"
     ]
    },
    {
     "name": "stdout",
     "output_type": "stream",
     "text": [
      "Epoch 5: train loss :   0.177491   val loss :   0.154869   val score :   0.137858\n",
      "------ epoch:6 ------\n"
     ]
    },
    {
     "name": "stderr",
     "output_type": "stream",
     "text": [
      "100%|██████████| 280/280 [00:04<00:00, 61.76it/s]\n",
      "100%|██████████| 70/70 [00:00<00:00, 82.03it/s] \n",
      "100%|██████████| 943/943 [00:00<00:00, 1834.66it/s]\n"
     ]
    },
    {
     "name": "stdout",
     "output_type": "stream",
     "text": [
      "Epoch 6: train loss :   0.177388   val loss :   0.154467   val score :   0.118770\n",
      "Epoch 00006: reducing learning rate of group 0 to 1.0000e-02.\n",
      "------ epoch:7 ------\n"
     ]
    },
    {
     "name": "stderr",
     "output_type": "stream",
     "text": [
      "100%|██████████| 280/280 [00:04<00:00, 62.43it/s]\n",
      "100%|██████████| 70/70 [00:00<00:00, 109.60it/s]\n",
      "100%|██████████| 943/943 [00:00<00:00, 1868.86it/s]\n"
     ]
    },
    {
     "name": "stdout",
     "output_type": "stream",
     "text": [
      "Epoch 7: train loss :   0.163547   val loss :   0.153027   val score :   0.248144\n",
      "------ epoch:8 ------\n"
     ]
    },
    {
     "name": "stderr",
     "output_type": "stream",
     "text": [
      "100%|██████████| 280/280 [00:04<00:00, 58.30it/s]\n",
      "100%|██████████| 70/70 [00:00<00:00, 82.05it/s]\n",
      "100%|██████████| 943/943 [00:00<00:00, 1901.93it/s]\n"
     ]
    },
    {
     "name": "stdout",
     "output_type": "stream",
     "text": [
      "Epoch 8: train loss :   0.161454   val loss :   0.153098   val score :   0.258749\n",
      "------ epoch:9 ------\n"
     ]
    },
    {
     "name": "stderr",
     "output_type": "stream",
     "text": [
      "100%|██████████| 280/280 [00:04<00:00, 57.53it/s]\n",
      "100%|██████████| 70/70 [00:00<00:00, 80.26it/s]\n",
      "100%|██████████| 943/943 [00:00<00:00, 1884.14it/s]\n"
     ]
    },
    {
     "name": "stdout",
     "output_type": "stream",
     "text": [
      "Epoch 9: train loss :   0.161310   val loss :   0.153083   val score :   0.251326\n",
      "------ epoch:10 ------\n"
     ]
    },
    {
     "name": "stderr",
     "output_type": "stream",
     "text": [
      "100%|██████████| 280/280 [00:05<00:00, 50.38it/s]\n",
      "100%|██████████| 70/70 [00:00<00:00, 75.05it/s]\n",
      "100%|██████████| 943/943 [00:00<00:00, 1994.73it/s]\n"
     ]
    },
    {
     "name": "stdout",
     "output_type": "stream",
     "text": [
      "Epoch 10: train loss :   0.161470   val loss :   0.153009   val score :   0.249205\n",
      "------ epoch:11 ------\n"
     ]
    },
    {
     "name": "stderr",
     "output_type": "stream",
     "text": [
      "100%|██████████| 280/280 [00:04<00:00, 63.12it/s]\n",
      "100%|██████████| 70/70 [00:00<00:00, 84.91it/s] \n",
      "100%|██████████| 943/943 [00:00<00:00, 1842.00it/s]\n"
     ]
    },
    {
     "name": "stdout",
     "output_type": "stream",
     "text": [
      "Epoch 11: train loss :   0.161558   val loss :   0.153074   val score :   0.258749\n",
      "Epoch 00011: reducing learning rate of group 0 to 1.0000e-03.\n",
      "------ epoch:12 ------\n"
     ]
    },
    {
     "name": "stderr",
     "output_type": "stream",
     "text": [
      "100%|██████████| 280/280 [00:04<00:00, 64.72it/s]\n",
      "100%|██████████| 70/70 [00:00<00:00, 75.49it/s] \n",
      "100%|██████████| 943/943 [00:00<00:00, 1934.70it/s]\n"
     ]
    },
    {
     "name": "stdout",
     "output_type": "stream",
     "text": [
      "Epoch 12: train loss :   0.160600   val loss :   0.153039   val score :   0.256628\n"
     ]
    },
    {
     "name": "stderr",
     "output_type": "stream",
     "text": [
      "100%|██████████| 39/39 [00:00<00:00, 70.47it/s]\n",
      "100%|██████████| 943/943 [00:06<00:00, 150.45it/s]\n"
     ]
    },
    {
     "name": "stdout",
     "output_type": "stream",
     "text": [
      "------ repeat : 4 ------\n",
      "------ epoch:1 ------\n"
     ]
    },
    {
     "name": "stderr",
     "output_type": "stream",
     "text": [
      "100%|██████████| 280/280 [00:05<00:00, 55.80it/s]\n",
      "100%|██████████| 70/70 [00:00<00:00, 82.60it/s] \n",
      "100%|██████████| 943/943 [00:00<00:00, 1704.83it/s]\n"
     ]
    },
    {
     "name": "stdout",
     "output_type": "stream",
     "text": [
      "Epoch 1: train loss :   0.202865   val loss :   0.153742   val score :   0.160127\n",
      "------ epoch:2 ------\n"
     ]
    },
    {
     "name": "stderr",
     "output_type": "stream",
     "text": [
      "100%|██████████| 280/280 [00:04<00:00, 62.03it/s]\n",
      "100%|██████████| 70/70 [00:00<00:00, 87.25it/s] \n",
      "100%|██████████| 943/943 [00:00<00:00, 1794.47it/s]\n"
     ]
    },
    {
     "name": "stdout",
     "output_type": "stream",
     "text": [
      "Epoch 2: train loss :   0.177860   val loss :   0.154270   val score :   0.170732\n",
      "------ epoch:3 ------\n"
     ]
    },
    {
     "name": "stderr",
     "output_type": "stream",
     "text": [
      "100%|██████████| 280/280 [00:05<00:00, 53.42it/s]\n",
      "100%|██████████| 70/70 [00:00<00:00, 106.84it/s]\n",
      "100%|██████████| 943/943 [00:00<00:00, 1594.74it/s]\n"
     ]
    },
    {
     "name": "stdout",
     "output_type": "stream",
     "text": [
      "Epoch 3: train loss :   0.176276   val loss :   0.154818   val score :   0.121951\n",
      "------ epoch:4 ------\n"
     ]
    },
    {
     "name": "stderr",
     "output_type": "stream",
     "text": [
      "100%|██████████| 280/280 [00:04<00:00, 62.09it/s]\n",
      "100%|██████████| 70/70 [00:00<00:00, 81.90it/s] \n",
      "100%|██████████| 943/943 [00:00<00:00, 1257.78it/s]\n"
     ]
    },
    {
     "name": "stdout",
     "output_type": "stream",
     "text": [
      "Epoch 4: train loss :   0.177683   val loss :   0.154253   val score :   0.159067\n",
      "------ epoch:5 ------\n"
     ]
    },
    {
     "name": "stderr",
     "output_type": "stream",
     "text": [
      "100%|██████████| 280/280 [00:04<00:00, 60.68it/s]\n",
      "100%|██████████| 70/70 [00:00<00:00, 85.85it/s] \n",
      "100%|██████████| 943/943 [00:00<00:00, 1934.67it/s]\n"
     ]
    },
    {
     "name": "stdout",
     "output_type": "stream",
     "text": [
      "Epoch 5: train loss :   0.176713   val loss :   0.153793   val score :   0.142100\n",
      "Epoch 00005: reducing learning rate of group 0 to 1.0000e-02.\n",
      "------ epoch:6 ------\n"
     ]
    },
    {
     "name": "stderr",
     "output_type": "stream",
     "text": [
      "100%|██████████| 280/280 [00:04<00:00, 61.39it/s]\n",
      "100%|██████████| 70/70 [00:01<00:00, 66.33it/s]\n",
      "100%|██████████| 943/943 [00:00<00:00, 1865.69it/s]\n"
     ]
    },
    {
     "name": "stdout",
     "output_type": "stream",
     "text": [
      "Epoch 6: train loss :   0.163238   val loss :   0.152909   val score :   0.250265\n",
      "------ epoch:7 ------\n"
     ]
    },
    {
     "name": "stderr",
     "output_type": "stream",
     "text": [
      "100%|██████████| 280/280 [00:04<00:00, 60.64it/s]\n",
      "100%|██████████| 70/70 [00:00<00:00, 105.45it/s]\n",
      "100%|██████████| 943/943 [00:00<00:00, 1259.73it/s]\n"
     ]
    },
    {
     "name": "stdout",
     "output_type": "stream",
     "text": [
      "Epoch 7: train loss :   0.161301   val loss :   0.153110   val score :   0.270414\n",
      "------ epoch:8 ------\n"
     ]
    },
    {
     "name": "stderr",
     "output_type": "stream",
     "text": [
      "100%|██████████| 280/280 [00:04<00:00, 58.04it/s]\n",
      "100%|██████████| 70/70 [00:00<00:00, 105.44it/s]\n",
      "100%|██████████| 943/943 [00:00<00:00, 1928.99it/s]\n"
     ]
    },
    {
     "name": "stdout",
     "output_type": "stream",
     "text": [
      "Epoch 8: train loss :   0.161440   val loss :   0.152990   val score :   0.267232\n",
      "------ epoch:9 ------\n"
     ]
    },
    {
     "name": "stderr",
     "output_type": "stream",
     "text": [
      "100%|██████████| 280/280 [00:04<00:00, 60.99it/s]\n",
      "100%|██████████| 70/70 [00:00<00:00, 80.61it/s] \n",
      "100%|██████████| 943/943 [00:00<00:00, 1306.13it/s]\n"
     ]
    },
    {
     "name": "stdout",
     "output_type": "stream",
     "text": [
      "Epoch 9: train loss :   0.161332   val loss :   0.153058   val score :   0.254507\n",
      "------ epoch:10 ------\n"
     ]
    },
    {
     "name": "stderr",
     "output_type": "stream",
     "text": [
      "100%|██████████| 280/280 [00:04<00:00, 60.53it/s]\n",
      "100%|██████████| 70/70 [00:00<00:00, 83.00it/s] \n",
      "100%|██████████| 943/943 [00:00<00:00, 1255.22it/s]\n"
     ]
    },
    {
     "name": "stdout",
     "output_type": "stream",
     "text": [
      "Epoch 10: train loss :   0.161416   val loss :   0.152984   val score :   0.271474\n",
      "------ epoch:11 ------\n"
     ]
    },
    {
     "name": "stderr",
     "output_type": "stream",
     "text": [
      "100%|██████████| 280/280 [00:05<00:00, 55.25it/s]\n",
      "100%|██████████| 70/70 [00:00<00:00, 80.40it/s]\n",
      "100%|██████████| 943/943 [00:00<00:00, 2004.39it/s]\n"
     ]
    },
    {
     "name": "stdout",
     "output_type": "stream",
     "text": [
      "Epoch 11: train loss :   0.161479   val loss :   0.153031   val score :   0.265111\n",
      "------ epoch:12 ------\n"
     ]
    },
    {
     "name": "stderr",
     "output_type": "stream",
     "text": [
      "100%|██████████| 280/280 [00:04<00:00, 58.73it/s]\n",
      "100%|██████████| 70/70 [00:00<00:00, 71.90it/s]\n",
      "100%|██████████| 943/943 [00:00<00:00, 1991.99it/s]\n"
     ]
    },
    {
     "name": "stdout",
     "output_type": "stream",
     "text": [
      "Epoch 12: train loss :   0.161655   val loss :   0.152953   val score :   0.262990\n",
      "------ epoch:13 ------\n"
     ]
    },
    {
     "name": "stderr",
     "output_type": "stream",
     "text": [
      "100%|██████████| 280/280 [00:04<00:00, 60.20it/s]\n",
      "100%|██████████| 70/70 [00:00<00:00, 101.21it/s]\n",
      "100%|██████████| 943/943 [00:00<00:00, 1645.11it/s]\n"
     ]
    },
    {
     "name": "stdout",
     "output_type": "stream",
     "text": [
      "Epoch 13: train loss :   0.161339   val loss :   0.152975   val score :   0.251326\n",
      "Epoch 00013: reducing learning rate of group 0 to 1.0000e-03.\n",
      "------ epoch:14 ------\n"
     ]
    },
    {
     "name": "stderr",
     "output_type": "stream",
     "text": [
      "100%|██████████| 280/280 [00:04<00:00, 60.00it/s]\n",
      "100%|██████████| 70/70 [00:00<00:00, 81.23it/s] \n",
      "100%|██████████| 943/943 [00:00<00:00, 1327.44it/s]\n"
     ]
    },
    {
     "name": "stdout",
     "output_type": "stream",
     "text": [
      "Epoch 14: train loss :   0.160650   val loss :   0.152944   val score :   0.252386\n"
     ]
    },
    {
     "name": "stderr",
     "output_type": "stream",
     "text": [
      "100%|██████████| 39/39 [00:00<00:00, 71.68it/s] \n",
      "100%|██████████| 943/943 [00:06<00:00, 151.06it/s]\n"
     ]
    },
    {
     "name": "stdout",
     "output_type": "stream",
     "text": [
      "------ repeat : 5 ------\n",
      "------ epoch:1 ------\n"
     ]
    },
    {
     "name": "stderr",
     "output_type": "stream",
     "text": [
      "100%|██████████| 280/280 [00:04<00:00, 62.84it/s]\n",
      "100%|██████████| 70/70 [00:00<00:00, 112.82it/s]\n",
      "100%|██████████| 943/943 [00:00<00:00, 1267.40it/s]\n"
     ]
    },
    {
     "name": "stdout",
     "output_type": "stream",
     "text": [
      "Epoch 1: train loss :   0.203442   val loss :   0.154881   val score :   0.163309\n",
      "------ epoch:2 ------\n"
     ]
    },
    {
     "name": "stderr",
     "output_type": "stream",
     "text": [
      "100%|██████████| 280/280 [00:04<00:00, 59.33it/s]\n",
      "100%|██████████| 70/70 [00:00<00:00, 112.26it/s]\n",
      "100%|██████████| 943/943 [00:00<00:00, 1908.78it/s]\n"
     ]
    },
    {
     "name": "stdout",
     "output_type": "stream",
     "text": [
      "Epoch 2: train loss :   0.177308   val loss :   0.154700   val score :   0.143160\n",
      "------ epoch:3 ------\n"
     ]
    },
    {
     "name": "stderr",
     "output_type": "stream",
     "text": [
      "100%|██████████| 280/280 [00:04<00:00, 60.30it/s]\n",
      "100%|██████████| 70/70 [00:00<00:00, 84.08it/s] \n",
      "100%|██████████| 943/943 [00:00<00:00, 1929.80it/s]\n"
     ]
    },
    {
     "name": "stdout",
     "output_type": "stream",
     "text": [
      "Epoch 3: train loss :   0.177018   val loss :   0.154241   val score :   0.139979\n",
      "------ epoch:4 ------\n"
     ]
    },
    {
     "name": "stderr",
     "output_type": "stream",
     "text": [
      "100%|██████████| 280/280 [00:04<00:00, 61.35it/s]\n",
      "100%|██████████| 70/70 [00:00<00:00, 85.03it/s] \n",
      "100%|██████████| 943/943 [00:00<00:00, 1935.20it/s]\n"
     ]
    },
    {
     "name": "stdout",
     "output_type": "stream",
     "text": [
      "Epoch 4: train loss :   0.177358   val loss :   0.154688   val score :   0.156946\n",
      "Epoch 00004: reducing learning rate of group 0 to 1.0000e-02.\n",
      "------ epoch:5 ------\n"
     ]
    },
    {
     "name": "stderr",
     "output_type": "stream",
     "text": [
      "100%|██████████| 280/280 [00:04<00:00, 63.07it/s]\n",
      "100%|██████████| 70/70 [00:00<00:00, 71.85it/s] \n",
      "100%|██████████| 943/943 [00:00<00:00, 1718.39it/s]\n"
     ]
    },
    {
     "name": "stdout",
     "output_type": "stream",
     "text": [
      "Epoch 5: train loss :   0.163423   val loss :   0.152997   val score :   0.252386\n",
      "------ epoch:6 ------\n"
     ]
    },
    {
     "name": "stderr",
     "output_type": "stream",
     "text": [
      "100%|██████████| 280/280 [00:04<00:00, 61.77it/s]\n",
      "100%|██████████| 70/70 [00:00<00:00, 103.96it/s]\n",
      "100%|██████████| 943/943 [00:00<00:00, 1996.54it/s]\n"
     ]
    },
    {
     "name": "stdout",
     "output_type": "stream",
     "text": [
      "Epoch 6: train loss :   0.161408   val loss :   0.153079   val score :   0.258749\n",
      "------ epoch:7 ------\n"
     ]
    },
    {
     "name": "stderr",
     "output_type": "stream",
     "text": [
      "100%|██████████| 280/280 [00:04<00:00, 57.10it/s]\n",
      "100%|██████████| 70/70 [00:00<00:00, 108.62it/s]\n",
      "100%|██████████| 943/943 [00:00<00:00, 1827.59it/s]\n"
     ]
    },
    {
     "name": "stdout",
     "output_type": "stream",
     "text": [
      "Epoch 7: train loss :   0.161325   val loss :   0.153024   val score :   0.254507\n",
      "------ epoch:8 ------\n"
     ]
    },
    {
     "name": "stderr",
     "output_type": "stream",
     "text": [
      "100%|██████████| 280/280 [00:04<00:00, 60.73it/s]\n",
      "100%|██████████| 70/70 [00:00<00:00, 86.52it/s] \n",
      "100%|██████████| 943/943 [00:00<00:00, 2168.01it/s]\n"
     ]
    },
    {
     "name": "stdout",
     "output_type": "stream",
     "text": [
      "Epoch 8: train loss :   0.161288   val loss :   0.153111   val score :   0.257688\n",
      "------ epoch:9 ------\n"
     ]
    },
    {
     "name": "stderr",
     "output_type": "stream",
     "text": [
      "100%|██████████| 280/280 [00:04<00:00, 61.58it/s]\n",
      "100%|██████████| 70/70 [00:00<00:00, 83.58it/s] \n",
      "100%|██████████| 943/943 [00:00<00:00, 981.24it/s] \n"
     ]
    },
    {
     "name": "stdout",
     "output_type": "stream",
     "text": [
      "Epoch 9: train loss :   0.161421   val loss :   0.153016   val score :   0.249205\n",
      "Epoch 00009: reducing learning rate of group 0 to 1.0000e-03.\n",
      "------ epoch:10 ------\n"
     ]
    },
    {
     "name": "stderr",
     "output_type": "stream",
     "text": [
      "100%|██████████| 280/280 [00:04<00:00, 61.87it/s]\n",
      "100%|██████████| 70/70 [00:00<00:00, 82.72it/s] \n",
      "100%|██████████| 943/943 [00:00<00:00, 1050.09it/s]\n"
     ]
    },
    {
     "name": "stdout",
     "output_type": "stream",
     "text": [
      "Epoch 10: train loss :   0.160366   val loss :   0.152990   val score :   0.244963\n"
     ]
    },
    {
     "name": "stderr",
     "output_type": "stream",
     "text": [
      "100%|██████████| 39/39 [00:00<00:00, 108.21it/s]\n",
      "100%|██████████| 943/943 [00:06<00:00, 156.15it/s]\n"
     ]
    }
   ],
   "source": [
    "embedding_dim = 20\n",
    "lr = 1e-1\n",
    "alpha = 1e-1\n",
    "model_type = 2\n",
    "seed_everything(42)\n",
    "Test3(train, test, power, model_type, num_users=num_users, num_items=num_items, repeats=5,  \n",
    "     embedding_dim=embedding_dim, lr=lr, alpha=alpha, patience=3, epochs=30, device=\"cuda:0\", model_selection=False)"
   ]
  },
  {
   "cell_type": "code",
   "execution_count": null,
   "id": "17d22d26-73c4-4b14-9567-855cc507eb3b",
   "metadata": {},
   "outputs": [],
   "source": []
  }
 ],
 "metadata": {
  "kernelspec": {
   "display_name": "Python 3 (ipykernel)",
   "language": "python",
   "name": "python3"
  },
  "language_info": {
   "codemirror_mode": {
    "name": "ipython",
    "version": 3
   },
   "file_extension": ".py",
   "mimetype": "text/x-python",
   "name": "python",
   "nbconvert_exporter": "python",
   "pygments_lexer": "ipython3",
   "version": "3.8.10"
  }
 },
 "nbformat": 4,
 "nbformat_minor": 5
}
