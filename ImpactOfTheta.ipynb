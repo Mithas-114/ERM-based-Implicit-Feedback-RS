{
 "cells": [
  {
   "cell_type": "markdown",
   "id": "674024bf-52bf-4d7d-976e-42c42e451171",
   "metadata": {},
   "source": [
    "# CrossValidate"
   ]
  },
  {
   "cell_type": "code",
   "execution_count": 1,
   "id": "5cc67a70-496f-4a6b-a2ba-fe8db2815f10",
   "metadata": {
    "tags": []
   },
   "outputs": [],
   "source": [
    "import torch\n",
    "import pandas as pd\n",
    "import numpy as np\n",
    "from models.model import BasicMF\n",
    "from train.TrainAndEvaluate import CrossValidation2, Train, computing_r_hat_using_ERM2, Test2\n",
    "from utils.utils import seed_everything\n",
    "from utils.data import generate_click_data, get_train_data2, get_theta_hat\n",
    "from sklearn.model_selection import train_test_split"
   ]
  },
  {
   "cell_type": "markdown",
   "id": "63f0568f-b2be-4703-95e7-3e2e45ab11f2",
   "metadata": {},
   "source": [
    "## 一. 读取数据"
   ]
  },
  {
   "cell_type": "code",
   "execution_count": 2,
   "id": "c4563bd6-644f-4824-976d-df90b958476b",
   "metadata": {
    "tags": []
   },
   "outputs": [
    {
     "data": {
      "text/plain": [
       "tensor([[0.0000e+00, 0.0000e+00, 7.5689e-01, 5.3379e-01],\n",
       "        [0.0000e+00, 1.0000e+00, 3.6157e-01, 5.6538e-01],\n",
       "        [0.0000e+00, 2.0000e+00, 7.5689e-01, 3.5982e-01],\n",
       "        ...,\n",
       "        [9.4200e+02, 1.6790e+03, 5.9671e-02, 1.2541e-02],\n",
       "        [9.4200e+02, 1.6800e+03, 1.1591e-01, 2.7859e-02],\n",
       "        [9.4200e+02, 1.6810e+03, 1.9183e-01, 1.9211e-02]], dtype=torch.float64)"
      ]
     },
     "execution_count": 2,
     "metadata": {},
     "output_type": "execute_result"
    }
   ],
   "source": [
    "seed_everything(42)\n",
    "num_users = 943\n",
    "num_items = 1682\n",
    "data = torch.tensor(pd.read_csv(\"data/semi-data\").iloc[:, 1:].values)\n",
    "data"
   ]
  },
  {
   "cell_type": "markdown",
   "id": "7af7987a-87d7-4ede-8180-3f70a0e1a398",
   "metadata": {},
   "source": [
    "## 二. per = 100%"
   ]
  },
  {
   "cell_type": "code",
   "execution_count": 3,
   "id": "6c74782e-740a-4743-9752-feee5c65723f",
   "metadata": {
    "tags": []
   },
   "outputs": [
    {
     "name": "stderr",
     "output_type": "stream",
     "text": [
      "100%|██████████| 1682/1682 [00:01<00:00, 1376.64it/s]\n"
     ]
    }
   ],
   "source": [
    "seed_everything(42)\n",
    "percentage = 1\n",
    "click_data, _, _ = generate_click_data(data, num_users, num_items, power=1)\n",
    "click_data = get_theta_hat(click_data, percentage=percentage)\n",
    "neg_data = click_data[click_data[:, 6]==0, :]\n",
    "pos_data = click_data[click_data[:, 6]==1, :]\n",
    "train, test = train_test_split(neg_data, test_size=0.1, random_state=0)\n",
    "train = torch.vstack([pos_data, train]) # 使用未被点击的一部分作为测试集"
   ]
  },
  {
   "cell_type": "markdown",
   "id": "9b2808b4-e58f-4ac6-a57c-3499ee202705",
   "metadata": {},
   "source": [
    "### 3"
   ]
  },
  {
   "cell_type": "code",
   "execution_count": 4,
   "id": "e2a00a06-e413-4de0-85c5-352ab974ce73",
   "metadata": {
    "collapsed": true,
    "jupyter": {
     "outputs_hidden": true,
     "source_hidden": true
    },
    "tags": []
   },
   "outputs": [
    {
     "name": "stdout",
     "output_type": "stream",
     "text": [
      "------ 第1折 ------\n",
      "------ epoch:1 ------\n"
     ]
    },
    {
     "name": "stderr",
     "output_type": "stream",
     "text": [
      "100%|██████████| 252/252 [00:03<00:00, 70.37it/s]\n",
      "100%|██████████| 28/28 [00:00<00:00, 103.29it/s]\n",
      "100%|██████████| 943/943 [00:00<00:00, 2964.29it/s]\n"
     ]
    },
    {
     "name": "stdout",
     "output_type": "stream",
     "text": [
      "Epoch 1: train loss :   0.298558   val loss :   0.139450   val score :   0.205726\n",
      "------ epoch:2 ------\n"
     ]
    },
    {
     "name": "stderr",
     "output_type": "stream",
     "text": [
      "100%|██████████| 252/252 [00:03<00:00, 75.03it/s]\n",
      "100%|██████████| 28/28 [00:00<00:00, 142.22it/s]\n",
      "100%|██████████| 943/943 [00:00<00:00, 3099.84it/s]\n"
     ]
    },
    {
     "name": "stdout",
     "output_type": "stream",
     "text": [
      "Epoch 2: train loss :   0.183027   val loss :   0.135975   val score :   0.223754\n",
      "------ epoch:3 ------\n"
     ]
    },
    {
     "name": "stderr",
     "output_type": "stream",
     "text": [
      "100%|██████████| 252/252 [00:03<00:00, 71.39it/s]\n",
      "100%|██████████| 28/28 [00:00<00:00, 124.04it/s]\n",
      "100%|██████████| 943/943 [00:00<00:00, 3133.46it/s]\n"
     ]
    },
    {
     "name": "stdout",
     "output_type": "stream",
     "text": [
      "Epoch 3: train loss :   0.168803   val loss :   0.133817   val score :   0.218452\n",
      "------ epoch:4 ------\n"
     ]
    },
    {
     "name": "stderr",
     "output_type": "stream",
     "text": [
      "100%|██████████| 252/252 [00:03<00:00, 74.13it/s]\n",
      "100%|██████████| 28/28 [00:00<00:00, 101.65it/s]\n",
      "100%|██████████| 943/943 [00:00<00:00, 3133.86it/s]\n"
     ]
    },
    {
     "name": "stdout",
     "output_type": "stream",
     "text": [
      "Epoch 4: train loss :   0.156574   val loss :   0.132503   val score :   0.220573\n",
      "------ epoch:5 ------\n"
     ]
    },
    {
     "name": "stderr",
     "output_type": "stream",
     "text": [
      "100%|██████████| 252/252 [00:03<00:00, 72.66it/s]\n",
      "100%|██████████| 28/28 [00:00<00:00, 144.29it/s]\n",
      "100%|██████████| 943/943 [00:00<00:00, 3121.97it/s]\n"
     ]
    },
    {
     "name": "stdout",
     "output_type": "stream",
     "text": [
      "Epoch 5: train loss :   0.146955   val loss :   0.131271   val score :   0.229056\n",
      "------ epoch:6 ------\n"
     ]
    },
    {
     "name": "stderr",
     "output_type": "stream",
     "text": [
      "100%|██████████| 252/252 [00:03<00:00, 75.57it/s]\n",
      "100%|██████████| 28/28 [00:00<00:00, 141.99it/s]\n",
      "100%|██████████| 943/943 [00:00<00:00, 3136.94it/s]\n"
     ]
    },
    {
     "name": "stdout",
     "output_type": "stream",
     "text": [
      "Epoch 6: train loss :   0.140400   val loss :   0.130632   val score :   0.233298\n",
      "------ epoch:7 ------\n"
     ]
    },
    {
     "name": "stderr",
     "output_type": "stream",
     "text": [
      "100%|██████████| 252/252 [00:03<00:00, 75.25it/s]\n",
      "100%|██████████| 28/28 [00:00<00:00, 103.39it/s]\n",
      "100%|██████████| 943/943 [00:00<00:00, 3160.86it/s]\n"
     ]
    },
    {
     "name": "stdout",
     "output_type": "stream",
     "text": [
      "Epoch 7: train loss :   0.136609   val loss :   0.129990   val score :   0.231177\n",
      "------ epoch:8 ------\n"
     ]
    },
    {
     "name": "stderr",
     "output_type": "stream",
     "text": [
      "100%|██████████| 252/252 [00:03<00:00, 75.65it/s]\n",
      "100%|██████████| 28/28 [00:00<00:00, 143.06it/s]\n",
      "100%|██████████| 943/943 [00:00<00:00, 3119.12it/s]\n"
     ]
    },
    {
     "name": "stdout",
     "output_type": "stream",
     "text": [
      "Epoch 8: train loss :   0.134448   val loss :   0.129540   val score :   0.239661\n",
      "------ epoch:9 ------\n"
     ]
    },
    {
     "name": "stderr",
     "output_type": "stream",
     "text": [
      "100%|██████████| 252/252 [00:03<00:00, 73.96it/s]\n",
      "100%|██████████| 28/28 [00:00<00:00, 142.99it/s]\n",
      "100%|██████████| 943/943 [00:00<00:00, 3102.20it/s]\n"
     ]
    },
    {
     "name": "stdout",
     "output_type": "stream",
     "text": [
      "Epoch 9: train loss :   0.133266   val loss :   0.129117   val score :   0.238600\n",
      "------ epoch:10 ------\n"
     ]
    },
    {
     "name": "stderr",
     "output_type": "stream",
     "text": [
      "100%|██████████| 252/252 [00:03<00:00, 74.26it/s]\n",
      "100%|██████████| 28/28 [00:00<00:00, 103.37it/s]\n",
      "100%|██████████| 943/943 [00:00<00:00, 3098.75it/s]\n"
     ]
    },
    {
     "name": "stdout",
     "output_type": "stream",
     "text": [
      "Epoch 10: train loss :   0.132557   val loss :   0.128974   val score :   0.238600\n",
      "------ epoch:11 ------\n"
     ]
    },
    {
     "name": "stderr",
     "output_type": "stream",
     "text": [
      "100%|██████████| 252/252 [00:03<00:00, 75.49it/s]\n",
      "100%|██████████| 28/28 [00:00<00:00, 143.24it/s]\n",
      "100%|██████████| 943/943 [00:00<00:00, 3190.83it/s]\n"
     ]
    },
    {
     "name": "stdout",
     "output_type": "stream",
     "text": [
      "Epoch 11: train loss :   0.131946   val loss :   0.128865   val score :   0.236479\n",
      "Epoch 00011: reducing learning rate of group 0 to 1.0000e-03.\n",
      "------ epoch:12 ------\n"
     ]
    },
    {
     "name": "stderr",
     "output_type": "stream",
     "text": [
      "100%|██████████| 252/252 [00:03<00:00, 75.47it/s]\n",
      "100%|██████████| 28/28 [00:00<00:00, 145.14it/s]\n",
      "100%|██████████| 943/943 [00:00<00:00, 3163.30it/s]\n"
     ]
    },
    {
     "name": "stdout",
     "output_type": "stream",
     "text": [
      "Epoch 12: train loss :   0.128531   val loss :   0.128828   val score :   0.235419\n",
      "------ epoch:13 ------\n"
     ]
    },
    {
     "name": "stderr",
     "output_type": "stream",
     "text": [
      "100%|██████████| 252/252 [00:03<00:00, 75.70it/s]\n",
      "100%|██████████| 28/28 [00:00<00:00, 105.57it/s]\n",
      "100%|██████████| 943/943 [00:00<00:00, 3139.98it/s]\n"
     ]
    },
    {
     "name": "stdout",
     "output_type": "stream",
     "text": [
      "Epoch 13: train loss :   0.128279   val loss :   0.128792   val score :   0.235419\n",
      "------ epoch:14 ------\n"
     ]
    },
    {
     "name": "stderr",
     "output_type": "stream",
     "text": [
      "100%|██████████| 252/252 [00:03<00:00, 72.86it/s]\n",
      "100%|██████████| 28/28 [00:00<00:00, 136.57it/s]\n",
      "100%|██████████| 943/943 [00:00<00:00, 2865.43it/s]\n"
     ]
    },
    {
     "name": "stdout",
     "output_type": "stream",
     "text": [
      "Epoch 14: train loss :   0.127942   val loss :   0.128771   val score :   0.238600\n",
      "Epoch 00014: reducing learning rate of group 0 to 1.0000e-04.\n"
     ]
    },
    {
     "name": "stderr",
     "output_type": "stream",
     "text": [
      "100%|██████████| 70/70 [00:00<00:00, 121.91it/s]\n",
      "100%|██████████| 943/943 [00:00<00:00, 3072.88it/s]\n"
     ]
    },
    {
     "name": "stdout",
     "output_type": "stream",
     "text": [
      "------ log loss of 1 fold : 0.12444239077823503 ------\n",
      "------ score of 1 fold : 0.20254506892895016 ------\n",
      "------ 第2折 ------\n",
      "------ epoch:1 ------\n"
     ]
    },
    {
     "name": "stderr",
     "output_type": "stream",
     "text": [
      "100%|██████████| 252/252 [00:03<00:00, 73.47it/s]\n",
      "100%|██████████| 28/28 [00:00<00:00, 140.64it/s]\n",
      "100%|██████████| 943/943 [00:00<00:00, 3081.35it/s]\n"
     ]
    },
    {
     "name": "stdout",
     "output_type": "stream",
     "text": [
      "Epoch 1: train loss :   0.300495   val loss :   0.138935   val score :   0.236479\n",
      "------ epoch:2 ------\n"
     ]
    },
    {
     "name": "stderr",
     "output_type": "stream",
     "text": [
      "100%|██████████| 252/252 [00:03<00:00, 70.92it/s]\n",
      "100%|██████████| 28/28 [00:00<00:00, 128.71it/s]\n",
      "100%|██████████| 943/943 [00:00<00:00, 2683.31it/s]\n"
     ]
    },
    {
     "name": "stdout",
     "output_type": "stream",
     "text": [
      "Epoch 2: train loss :   0.183025   val loss :   0.137766   val score :   0.236479\n",
      "------ epoch:3 ------\n"
     ]
    },
    {
     "name": "stderr",
     "output_type": "stream",
     "text": [
      "100%|██████████| 252/252 [00:03<00:00, 73.94it/s]\n",
      "100%|██████████| 28/28 [00:00<00:00, 97.49it/s]\n",
      "100%|██████████| 943/943 [00:00<00:00, 2399.45it/s]\n"
     ]
    },
    {
     "name": "stdout",
     "output_type": "stream",
     "text": [
      "Epoch 3: train loss :   0.168923   val loss :   0.135587   val score :   0.246023\n",
      "------ epoch:4 ------\n"
     ]
    },
    {
     "name": "stderr",
     "output_type": "stream",
     "text": [
      "100%|██████████| 252/252 [00:03<00:00, 72.83it/s]\n",
      "100%|██████████| 28/28 [00:00<00:00, 133.55it/s]\n",
      "100%|██████████| 943/943 [00:00<00:00, 2502.90it/s]\n"
     ]
    },
    {
     "name": "stdout",
     "output_type": "stream",
     "text": [
      "Epoch 4: train loss :   0.156835   val loss :   0.133648   val score :   0.248144\n",
      "------ epoch:5 ------\n"
     ]
    },
    {
     "name": "stderr",
     "output_type": "stream",
     "text": [
      "100%|██████████| 252/252 [00:03<00:00, 66.22it/s]\n",
      "100%|██████████| 28/28 [00:00<00:00, 128.91it/s]\n",
      "100%|██████████| 943/943 [00:00<00:00, 2589.14it/s]\n"
     ]
    },
    {
     "name": "stdout",
     "output_type": "stream",
     "text": [
      "Epoch 5: train loss :   0.146917   val loss :   0.132177   val score :   0.244963\n",
      "------ epoch:6 ------\n"
     ]
    },
    {
     "name": "stderr",
     "output_type": "stream",
     "text": [
      "100%|██████████| 252/252 [00:03<00:00, 72.49it/s]\n",
      "100%|██████████| 28/28 [00:00<00:00, 100.76it/s]\n",
      "100%|██████████| 943/943 [00:00<00:00, 2434.30it/s]\n"
     ]
    },
    {
     "name": "stdout",
     "output_type": "stream",
     "text": [
      "Epoch 6: train loss :   0.140137   val loss :   0.131005   val score :   0.242842\n",
      "------ epoch:7 ------\n"
     ]
    },
    {
     "name": "stderr",
     "output_type": "stream",
     "text": [
      "100%|██████████| 252/252 [00:03<00:00, 73.91it/s]\n",
      "100%|██████████| 28/28 [00:00<00:00, 137.35it/s]\n",
      "100%|██████████| 943/943 [00:00<00:00, 2469.58it/s]\n"
     ]
    },
    {
     "name": "stdout",
     "output_type": "stream",
     "text": [
      "Epoch 7: train loss :   0.136076   val loss :   0.130195   val score :   0.247084\n",
      "Epoch 00007: reducing learning rate of group 0 to 1.0000e-03.\n",
      "------ epoch:8 ------\n"
     ]
    },
    {
     "name": "stderr",
     "output_type": "stream",
     "text": [
      "100%|██████████| 252/252 [00:03<00:00, 74.23it/s]\n",
      "100%|██████████| 28/28 [00:00<00:00, 136.80it/s]\n",
      "100%|██████████| 943/943 [00:00<00:00, 2668.83it/s]\n"
     ]
    },
    {
     "name": "stdout",
     "output_type": "stream",
     "text": [
      "Epoch 8: train loss :   0.132222   val loss :   0.130092   val score :   0.246023\n",
      "------ epoch:9 ------\n"
     ]
    },
    {
     "name": "stderr",
     "output_type": "stream",
     "text": [
      "100%|██████████| 252/252 [00:03<00:00, 69.28it/s]\n",
      "100%|██████████| 28/28 [00:00<00:00, 97.31it/s]\n",
      "100%|██████████| 943/943 [00:00<00:00, 2361.81it/s]\n"
     ]
    },
    {
     "name": "stdout",
     "output_type": "stream",
     "text": [
      "Epoch 9: train loss :   0.131942   val loss :   0.129987   val score :   0.243902\n",
      "------ epoch:10 ------\n"
     ]
    },
    {
     "name": "stderr",
     "output_type": "stream",
     "text": [
      "100%|██████████| 252/252 [00:03<00:00, 70.90it/s]\n",
      "100%|██████████| 28/28 [00:00<00:00, 138.21it/s]\n",
      "100%|██████████| 943/943 [00:00<00:00, 2600.31it/s]\n"
     ]
    },
    {
     "name": "stdout",
     "output_type": "stream",
     "text": [
      "Epoch 10: train loss :   0.131620   val loss :   0.129895   val score :   0.246023\n",
      "Epoch 00010: reducing learning rate of group 0 to 1.0000e-04.\n"
     ]
    },
    {
     "name": "stderr",
     "output_type": "stream",
     "text": [
      "100%|██████████| 70/70 [00:00<00:00, 117.71it/s]\n",
      "100%|██████████| 943/943 [00:00<00:00, 2454.41it/s]\n"
     ]
    },
    {
     "name": "stdout",
     "output_type": "stream",
     "text": [
      "------ log loss of 2 fold : 0.128285078810794 ------\n",
      "------ score of 2 fold : 0.2067868504772004 ------\n",
      "------ 第3折 ------\n",
      "------ epoch:1 ------\n"
     ]
    },
    {
     "name": "stderr",
     "output_type": "stream",
     "text": [
      "100%|██████████| 252/252 [00:03<00:00, 70.44it/s]\n",
      "100%|██████████| 28/28 [00:00<00:00, 131.07it/s]\n",
      "100%|██████████| 943/943 [00:00<00:00, 1873.34it/s]\n"
     ]
    },
    {
     "name": "stdout",
     "output_type": "stream",
     "text": [
      "Epoch 1: train loss :   0.293469   val loss :   0.139951   val score :   0.197243\n",
      "------ epoch:2 ------\n"
     ]
    },
    {
     "name": "stderr",
     "output_type": "stream",
     "text": [
      "100%|██████████| 252/252 [00:03<00:00, 69.75it/s]\n",
      "100%|██████████| 28/28 [00:00<00:00, 99.38it/s] \n",
      "100%|██████████| 943/943 [00:00<00:00, 2050.45it/s]\n"
     ]
    },
    {
     "name": "stdout",
     "output_type": "stream",
     "text": [
      "Epoch 2: train loss :   0.181979   val loss :   0.137862   val score :   0.196182\n",
      "------ epoch:3 ------\n"
     ]
    },
    {
     "name": "stderr",
     "output_type": "stream",
     "text": [
      "100%|██████████| 252/252 [00:03<00:00, 72.92it/s]\n",
      "100%|██████████| 28/28 [00:00<00:00, 131.74it/s]\n",
      "100%|██████████| 943/943 [00:00<00:00, 1922.82it/s]\n"
     ]
    },
    {
     "name": "stdout",
     "output_type": "stream",
     "text": [
      "Epoch 3: train loss :   0.167727   val loss :   0.135848   val score :   0.206787\n",
      "------ epoch:4 ------\n"
     ]
    },
    {
     "name": "stderr",
     "output_type": "stream",
     "text": [
      "100%|██████████| 252/252 [00:03<00:00, 72.81it/s]\n",
      "100%|██████████| 28/28 [00:00<00:00, 132.82it/s]\n",
      "100%|██████████| 943/943 [00:00<00:00, 1917.15it/s]\n"
     ]
    },
    {
     "name": "stdout",
     "output_type": "stream",
     "text": [
      "Epoch 4: train loss :   0.155466   val loss :   0.134236   val score :   0.217391\n",
      "------ epoch:5 ------\n"
     ]
    },
    {
     "name": "stderr",
     "output_type": "stream",
     "text": [
      "100%|██████████| 252/252 [00:03<00:00, 72.89it/s]\n",
      "100%|██████████| 28/28 [00:00<00:00, 94.69it/s] \n",
      "100%|██████████| 943/943 [00:00<00:00, 2192.87it/s]\n"
     ]
    },
    {
     "name": "stdout",
     "output_type": "stream",
     "text": [
      "Epoch 5: train loss :   0.145662   val loss :   0.132492   val score :   0.225875\n",
      "------ epoch:6 ------\n"
     ]
    },
    {
     "name": "stderr",
     "output_type": "stream",
     "text": [
      "100%|██████████| 252/252 [00:03<00:00, 73.90it/s]\n",
      "100%|██████████| 28/28 [00:00<00:00, 134.49it/s]\n",
      "100%|██████████| 943/943 [00:00<00:00, 1963.40it/s]\n"
     ]
    },
    {
     "name": "stdout",
     "output_type": "stream",
     "text": [
      "Epoch 6: train loss :   0.139089   val loss :   0.131098   val score :   0.235419\n",
      "------ epoch:7 ------\n"
     ]
    },
    {
     "name": "stderr",
     "output_type": "stream",
     "text": [
      "100%|██████████| 252/252 [00:03<00:00, 73.27it/s]\n",
      "100%|██████████| 28/28 [00:00<00:00, 134.24it/s]\n",
      "100%|██████████| 943/943 [00:00<00:00, 2009.42it/s]\n"
     ]
    },
    {
     "name": "stdout",
     "output_type": "stream",
     "text": [
      "Epoch 7: train loss :   0.135146   val loss :   0.130208   val score :   0.233298\n",
      "------ epoch:8 ------\n"
     ]
    },
    {
     "name": "stderr",
     "output_type": "stream",
     "text": [
      "100%|██████████| 252/252 [00:03<00:00, 70.77it/s]\n",
      "100%|██████████| 28/28 [00:00<00:00, 97.89it/s] \n",
      "100%|██████████| 943/943 [00:00<00:00, 2000.66it/s]\n"
     ]
    },
    {
     "name": "stdout",
     "output_type": "stream",
     "text": [
      "Epoch 8: train loss :   0.132943   val loss :   0.129692   val score :   0.236479\n",
      "------ epoch:9 ------\n"
     ]
    },
    {
     "name": "stderr",
     "output_type": "stream",
     "text": [
      "100%|██████████| 252/252 [00:03<00:00, 72.96it/s]\n",
      "100%|██████████| 28/28 [00:00<00:00, 132.67it/s]\n",
      "100%|██████████| 943/943 [00:00<00:00, 1995.99it/s]\n"
     ]
    },
    {
     "name": "stdout",
     "output_type": "stream",
     "text": [
      "Epoch 9: train loss :   0.131961   val loss :   0.129220   val score :   0.235419\n",
      "------ epoch:10 ------\n"
     ]
    },
    {
     "name": "stderr",
     "output_type": "stream",
     "text": [
      "100%|██████████| 252/252 [00:03<00:00, 72.97it/s]\n",
      "100%|██████████| 28/28 [00:00<00:00, 132.37it/s]\n",
      "100%|██████████| 943/943 [00:00<00:00, 2169.92it/s]\n"
     ]
    },
    {
     "name": "stdout",
     "output_type": "stream",
     "text": [
      "Epoch 10: train loss :   0.130996   val loss :   0.129182   val score :   0.233298\n",
      "------ epoch:11 ------\n"
     ]
    },
    {
     "name": "stderr",
     "output_type": "stream",
     "text": [
      "100%|██████████| 252/252 [00:03<00:00, 73.96it/s]\n",
      "100%|██████████| 28/28 [00:00<00:00, 98.31it/s] \n",
      "100%|██████████| 943/943 [00:00<00:00, 2044.82it/s]\n"
     ]
    },
    {
     "name": "stdout",
     "output_type": "stream",
     "text": [
      "Epoch 11: train loss :   0.129839   val loss :   0.128873   val score :   0.236479\n",
      "Epoch 00011: reducing learning rate of group 0 to 1.0000e-03.\n",
      "------ epoch:12 ------\n"
     ]
    },
    {
     "name": "stderr",
     "output_type": "stream",
     "text": [
      "100%|██████████| 252/252 [00:03<00:00, 72.31it/s]\n",
      "100%|██████████| 28/28 [00:00<00:00, 130.88it/s]\n",
      "100%|██████████| 943/943 [00:00<00:00, 1845.89it/s]\n"
     ]
    },
    {
     "name": "stdout",
     "output_type": "stream",
     "text": [
      "Epoch 12: train loss :   0.126729   val loss :   0.128801   val score :   0.239661\n",
      "------ epoch:13 ------\n"
     ]
    },
    {
     "name": "stderr",
     "output_type": "stream",
     "text": [
      "100%|██████████| 252/252 [00:05<00:00, 43.96it/s]\n",
      "100%|██████████| 28/28 [00:00<00:00, 107.40it/s]\n",
      "100%|██████████| 943/943 [00:00<00:00, 1522.29it/s]\n"
     ]
    },
    {
     "name": "stdout",
     "output_type": "stream",
     "text": [
      "Epoch 13: train loss :   0.126327   val loss :   0.128758   val score :   0.239661\n",
      "------ epoch:14 ------\n"
     ]
    },
    {
     "name": "stderr",
     "output_type": "stream",
     "text": [
      "100%|██████████| 252/252 [00:03<00:00, 72.20it/s]\n",
      "100%|██████████| 28/28 [00:00<00:00, 96.83it/s] \n",
      "100%|██████████| 943/943 [00:00<00:00, 1392.84it/s]\n"
     ]
    },
    {
     "name": "stdout",
     "output_type": "stream",
     "text": [
      "Epoch 14: train loss :   0.125668   val loss :   0.128716   val score :   0.238600\n",
      "------ epoch:15 ------\n"
     ]
    },
    {
     "name": "stderr",
     "output_type": "stream",
     "text": [
      "100%|██████████| 252/252 [00:03<00:00, 73.08it/s]\n",
      "100%|██████████| 28/28 [00:00<00:00, 132.79it/s]\n",
      "100%|██████████| 943/943 [00:00<00:00, 1518.90it/s]\n"
     ]
    },
    {
     "name": "stdout",
     "output_type": "stream",
     "text": [
      "Epoch 15: train loss :   0.125541   val loss :   0.128681   val score :   0.236479\n",
      "Epoch 00015: reducing learning rate of group 0 to 1.0000e-04.\n",
      "------ epoch:16 ------\n"
     ]
    },
    {
     "name": "stderr",
     "output_type": "stream",
     "text": [
      "100%|██████████| 252/252 [00:03<00:00, 72.29it/s]\n",
      "100%|██████████| 28/28 [00:00<00:00, 134.95it/s]\n",
      "100%|██████████| 943/943 [00:00<00:00, 1084.43it/s]\n"
     ]
    },
    {
     "name": "stdout",
     "output_type": "stream",
     "text": [
      "Epoch 16: train loss :   0.124909   val loss :   0.128676   val score :   0.236479\n",
      "------ epoch:17 ------\n"
     ]
    },
    {
     "name": "stderr",
     "output_type": "stream",
     "text": [
      "100%|██████████| 252/252 [00:03<00:00, 73.30it/s]\n",
      "100%|██████████| 28/28 [00:00<00:00, 90.57it/s]\n",
      "100%|██████████| 943/943 [00:00<00:00, 1532.23it/s]\n"
     ]
    },
    {
     "name": "stdout",
     "output_type": "stream",
     "text": [
      "Epoch 17: train loss :   0.125024   val loss :   0.128674   val score :   0.236479\n",
      "------ epoch:18 ------\n"
     ]
    },
    {
     "name": "stderr",
     "output_type": "stream",
     "text": [
      "100%|██████████| 252/252 [00:03<00:00, 79.18it/s]\n",
      "100%|██████████| 28/28 [00:00<00:00, 133.90it/s]\n",
      "100%|██████████| 943/943 [00:00<00:00, 1921.15it/s]\n"
     ]
    },
    {
     "name": "stdout",
     "output_type": "stream",
     "text": [
      "Epoch 18: train loss :   0.124973   val loss :   0.128670   val score :   0.236479\n",
      "Epoch 00018: reducing learning rate of group 0 to 1.0000e-05.\n"
     ]
    },
    {
     "name": "stderr",
     "output_type": "stream",
     "text": [
      "100%|██████████| 70/70 [00:00<00:00, 114.26it/s]\n",
      "100%|██████████| 943/943 [00:00<00:00, 1629.87it/s]\n"
     ]
    },
    {
     "name": "stdout",
     "output_type": "stream",
     "text": [
      "------ log loss of 3 fold : 0.12996426352432797 ------\n",
      "------ score of 3 fold : 0.19618239660657477 ------\n",
      "------ 第4折 ------\n",
      "------ epoch:1 ------\n"
     ]
    },
    {
     "name": "stderr",
     "output_type": "stream",
     "text": [
      "100%|██████████| 252/252 [00:03<00:00, 71.33it/s]\n",
      "100%|██████████| 28/28 [00:00<00:00, 133.03it/s]\n",
      "100%|██████████| 943/943 [00:00<00:00, 1080.89it/s]\n"
     ]
    },
    {
     "name": "stdout",
     "output_type": "stream",
     "text": [
      "Epoch 1: train loss :   0.296173   val loss :   0.140508   val score :   0.227996\n",
      "------ epoch:2 ------\n"
     ]
    },
    {
     "name": "stderr",
     "output_type": "stream",
     "text": [
      "100%|██████████| 252/252 [00:03<00:00, 69.55it/s]\n",
      "100%|██████████| 28/28 [00:00<00:00, 93.10it/s] \n",
      "100%|██████████| 943/943 [00:00<00:00, 2011.00it/s]\n"
     ]
    },
    {
     "name": "stdout",
     "output_type": "stream",
     "text": [
      "Epoch 2: train loss :   0.183054   val loss :   0.138520   val score :   0.236479\n",
      "------ epoch:3 ------\n"
     ]
    },
    {
     "name": "stderr",
     "output_type": "stream",
     "text": [
      "100%|██████████| 252/252 [00:03<00:00, 66.88it/s]\n",
      "100%|██████████| 28/28 [00:00<00:00, 133.92it/s]\n",
      "100%|██████████| 943/943 [00:00<00:00, 1569.97it/s]\n"
     ]
    },
    {
     "name": "stdout",
     "output_type": "stream",
     "text": [
      "Epoch 3: train loss :   0.168538   val loss :   0.136674   val score :   0.246023\n",
      "------ epoch:4 ------\n"
     ]
    },
    {
     "name": "stderr",
     "output_type": "stream",
     "text": [
      "100%|██████████| 252/252 [00:03<00:00, 79.10it/s]\n",
      "100%|██████████| 28/28 [00:00<00:00, 128.94it/s]\n",
      "100%|██████████| 943/943 [00:00<00:00, 1701.02it/s]\n"
     ]
    },
    {
     "name": "stdout",
     "output_type": "stream",
     "text": [
      "Epoch 4: train loss :   0.156469   val loss :   0.135306   val score :   0.255567\n",
      "------ epoch:5 ------\n"
     ]
    },
    {
     "name": "stderr",
     "output_type": "stream",
     "text": [
      "100%|██████████| 252/252 [00:03<00:00, 70.09it/s]\n",
      "100%|██████████| 28/28 [00:00<00:00, 96.60it/s] \n",
      "100%|██████████| 943/943 [00:00<00:00, 1121.89it/s]\n"
     ]
    },
    {
     "name": "stdout",
     "output_type": "stream",
     "text": [
      "Epoch 5: train loss :   0.146807   val loss :   0.133490   val score :   0.258749\n",
      "------ epoch:6 ------\n"
     ]
    },
    {
     "name": "stderr",
     "output_type": "stream",
     "text": [
      "100%|██████████| 252/252 [00:03<00:00, 70.12it/s]\n",
      "100%|██████████| 28/28 [00:00<00:00, 126.12it/s]\n",
      "100%|██████████| 943/943 [00:00<00:00, 1491.85it/s]\n"
     ]
    },
    {
     "name": "stdout",
     "output_type": "stream",
     "text": [
      "Epoch 6: train loss :   0.140140   val loss :   0.132063   val score :   0.265111\n",
      "------ epoch:7 ------\n"
     ]
    },
    {
     "name": "stderr",
     "output_type": "stream",
     "text": [
      "100%|██████████| 252/252 [00:03<00:00, 68.73it/s]\n",
      "100%|██████████| 28/28 [00:00<00:00, 134.38it/s]\n",
      "100%|██████████| 943/943 [00:00<00:00, 1590.01it/s]\n"
     ]
    },
    {
     "name": "stdout",
     "output_type": "stream",
     "text": [
      "Epoch 7: train loss :   0.136253   val loss :   0.131052   val score :   0.270414\n",
      "------ epoch:8 ------\n"
     ]
    },
    {
     "name": "stderr",
     "output_type": "stream",
     "text": [
      "100%|██████████| 252/252 [00:03<00:00, 71.23it/s]\n",
      "100%|██████████| 28/28 [00:00<00:00, 82.00it/s] \n",
      "100%|██████████| 943/943 [00:00<00:00, 1413.66it/s]\n"
     ]
    },
    {
     "name": "stdout",
     "output_type": "stream",
     "text": [
      "Epoch 8: train loss :   0.134255   val loss :   0.130451   val score :   0.265111\n",
      "------ epoch:9 ------\n"
     ]
    },
    {
     "name": "stderr",
     "output_type": "stream",
     "text": [
      "100%|██████████| 252/252 [00:03<00:00, 72.58it/s]\n",
      "100%|██████████| 28/28 [00:00<00:00, 134.24it/s]\n",
      "100%|██████████| 943/943 [00:00<00:00, 1369.08it/s]\n"
     ]
    },
    {
     "name": "stdout",
     "output_type": "stream",
     "text": [
      "Epoch 9: train loss :   0.133023   val loss :   0.130214   val score :   0.264051\n",
      "------ epoch:10 ------\n"
     ]
    },
    {
     "name": "stderr",
     "output_type": "stream",
     "text": [
      "100%|██████████| 252/252 [00:03<00:00, 72.25it/s]\n",
      "100%|██████████| 28/28 [00:00<00:00, 128.09it/s]\n",
      "100%|██████████| 943/943 [00:00<00:00, 1679.70it/s]\n"
     ]
    },
    {
     "name": "stdout",
     "output_type": "stream",
     "text": [
      "Epoch 10: train loss :   0.132067   val loss :   0.130011   val score :   0.273595\n",
      "------ epoch:11 ------\n"
     ]
    },
    {
     "name": "stderr",
     "output_type": "stream",
     "text": [
      "100%|██████████| 252/252 [00:03<00:00, 64.37it/s]\n",
      "100%|██████████| 28/28 [00:00<00:00, 97.48it/s] \n",
      "100%|██████████| 943/943 [00:00<00:00, 1742.40it/s]\n"
     ]
    },
    {
     "name": "stdout",
     "output_type": "stream",
     "text": [
      "Epoch 11: train loss :   0.131616   val loss :   0.129809   val score :   0.267232\n",
      "------ epoch:12 ------\n"
     ]
    },
    {
     "name": "stderr",
     "output_type": "stream",
     "text": [
      "100%|██████████| 252/252 [00:03<00:00, 71.13it/s]\n",
      "100%|██████████| 28/28 [00:00<00:00, 131.62it/s]\n",
      "100%|██████████| 943/943 [00:00<00:00, 1833.33it/s]\n"
     ]
    },
    {
     "name": "stdout",
     "output_type": "stream",
     "text": [
      "Epoch 12: train loss :   0.130967   val loss :   0.129792   val score :   0.270414\n",
      "------ epoch:13 ------\n"
     ]
    },
    {
     "name": "stderr",
     "output_type": "stream",
     "text": [
      "100%|██████████| 252/252 [00:03<00:00, 72.19it/s]\n",
      "100%|██████████| 28/28 [00:00<00:00, 130.54it/s]\n",
      "100%|██████████| 943/943 [00:00<00:00, 1776.85it/s]\n"
     ]
    },
    {
     "name": "stdout",
     "output_type": "stream",
     "text": [
      "Epoch 13: train loss :   0.130626   val loss :   0.129869   val score :   0.276776\n",
      "------ epoch:14 ------\n"
     ]
    },
    {
     "name": "stderr",
     "output_type": "stream",
     "text": [
      "100%|██████████| 252/252 [00:03<00:00, 70.80it/s]\n",
      "100%|██████████| 28/28 [00:00<00:00, 94.60it/s] \n",
      "100%|██████████| 943/943 [00:00<00:00, 1124.27it/s]\n"
     ]
    },
    {
     "name": "stdout",
     "output_type": "stream",
     "text": [
      "Epoch 14: train loss :   0.130369   val loss :   0.130012   val score :   0.276776\n",
      "------ epoch:15 ------\n"
     ]
    },
    {
     "name": "stderr",
     "output_type": "stream",
     "text": [
      "100%|██████████| 252/252 [00:03<00:00, 64.36it/s]\n",
      "100%|██████████| 28/28 [00:00<00:00, 129.01it/s]\n",
      "100%|██████████| 943/943 [00:00<00:00, 1543.54it/s]\n"
     ]
    },
    {
     "name": "stdout",
     "output_type": "stream",
     "text": [
      "Epoch 15: train loss :   0.130083   val loss :   0.130065   val score :   0.279958\n",
      "------ epoch:16 ------\n"
     ]
    },
    {
     "name": "stderr",
     "output_type": "stream",
     "text": [
      "100%|██████████| 252/252 [00:03<00:00, 70.59it/s]\n",
      "100%|██████████| 28/28 [00:00<00:00, 132.67it/s]\n",
      "100%|██████████| 943/943 [00:00<00:00, 1866.29it/s]\n"
     ]
    },
    {
     "name": "stdout",
     "output_type": "stream",
     "text": [
      "Epoch 16: train loss :   0.129565   val loss :   0.130147   val score :   0.267232\n",
      "------ epoch:17 ------\n"
     ]
    },
    {
     "name": "stderr",
     "output_type": "stream",
     "text": [
      "100%|██████████| 252/252 [00:03<00:00, 72.24it/s]\n",
      "100%|██████████| 28/28 [00:00<00:00, 97.90it/s] \n",
      "100%|██████████| 943/943 [00:00<00:00, 1734.12it/s]\n"
     ]
    },
    {
     "name": "stdout",
     "output_type": "stream",
     "text": [
      "Epoch 17: train loss :   0.128825   val loss :   0.130350   val score :   0.270414\n",
      "------ epoch:18 ------\n"
     ]
    },
    {
     "name": "stderr",
     "output_type": "stream",
     "text": [
      "100%|██████████| 252/252 [00:03<00:00, 71.83it/s]\n",
      "100%|██████████| 28/28 [00:00<00:00, 134.27it/s]\n",
      "100%|██████████| 943/943 [00:00<00:00, 1545.37it/s]\n"
     ]
    },
    {
     "name": "stdout",
     "output_type": "stream",
     "text": [
      "Epoch 18: train loss :   0.128572   val loss :   0.130606   val score :   0.268293\n",
      "Epoch 00018: reducing learning rate of group 0 to 1.0000e-03.\n",
      "------ epoch:19 ------\n"
     ]
    },
    {
     "name": "stderr",
     "output_type": "stream",
     "text": [
      "100%|██████████| 252/252 [00:03<00:00, 71.87it/s]\n",
      "100%|██████████| 28/28 [00:00<00:00, 134.95it/s]\n",
      "100%|██████████| 943/943 [00:00<00:00, 1537.90it/s]\n"
     ]
    },
    {
     "name": "stdout",
     "output_type": "stream",
     "text": [
      "Epoch 19: train loss :   0.121520   val loss :   0.130640   val score :   0.270414\n",
      "------ epoch:20 ------\n"
     ]
    },
    {
     "name": "stderr",
     "output_type": "stream",
     "text": [
      "100%|██████████| 252/252 [00:03<00:00, 79.06it/s]\n",
      "100%|██████████| 28/28 [00:00<00:00, 97.92it/s] \n",
      "100%|██████████| 943/943 [00:00<00:00, 1315.99it/s]\n"
     ]
    },
    {
     "name": "stdout",
     "output_type": "stream",
     "text": [
      "Epoch 20: train loss :   0.121588   val loss :   0.130669   val score :   0.268293\n",
      "------ epoch:21 ------\n"
     ]
    },
    {
     "name": "stderr",
     "output_type": "stream",
     "text": [
      "100%|██████████| 252/252 [00:03<00:00, 67.88it/s]\n",
      "100%|██████████| 28/28 [00:00<00:00, 132.34it/s]\n",
      "100%|██████████| 943/943 [00:00<00:00, 1423.88it/s]\n"
     ]
    },
    {
     "name": "stdout",
     "output_type": "stream",
     "text": [
      "Epoch 21: train loss :   0.121250   val loss :   0.130702   val score :   0.270414\n",
      "Epoch 00021: reducing learning rate of group 0 to 1.0000e-04.\n"
     ]
    },
    {
     "name": "stderr",
     "output_type": "stream",
     "text": [
      "100%|██████████| 70/70 [00:00<00:00, 113.99it/s]\n",
      "100%|██████████| 943/943 [00:00<00:00, 1246.78it/s]\n"
     ]
    },
    {
     "name": "stdout",
     "output_type": "stream",
     "text": [
      "------ log loss of 4 fold : 0.12729459096278464 ------\n",
      "------ score of 4 fold : 0.19936373276776245 ------\n",
      "------ 第5折 ------\n",
      "------ epoch:1 ------\n"
     ]
    },
    {
     "name": "stderr",
     "output_type": "stream",
     "text": [
      "100%|██████████| 252/252 [00:03<00:00, 69.65it/s]\n",
      "100%|██████████| 28/28 [00:00<00:00, 129.79it/s]\n",
      "100%|██████████| 943/943 [00:00<00:00, 1883.60it/s]\n"
     ]
    },
    {
     "name": "stdout",
     "output_type": "stream",
     "text": [
      "Epoch 1: train loss :   0.289773   val loss :   0.139816   val score :   0.208908\n",
      "------ epoch:2 ------\n"
     ]
    },
    {
     "name": "stderr",
     "output_type": "stream",
     "text": [
      "100%|██████████| 252/252 [00:03<00:00, 71.78it/s]\n",
      "100%|██████████| 28/28 [00:00<00:00, 125.32it/s]\n",
      "100%|██████████| 943/943 [00:00<00:00, 1630.28it/s]\n"
     ]
    },
    {
     "name": "stdout",
     "output_type": "stream",
     "text": [
      "Epoch 2: train loss :   0.181366   val loss :   0.136951   val score :   0.217391\n",
      "------ epoch:3 ------\n"
     ]
    },
    {
     "name": "stderr",
     "output_type": "stream",
     "text": [
      "100%|██████████| 252/252 [00:03<00:00, 69.88it/s]\n",
      "100%|██████████| 28/28 [00:00<00:00, 97.02it/s]\n",
      "100%|██████████| 943/943 [00:00<00:00, 1624.37it/s]\n"
     ]
    },
    {
     "name": "stdout",
     "output_type": "stream",
     "text": [
      "Epoch 3: train loss :   0.167195   val loss :   0.135693   val score :   0.213150\n",
      "------ epoch:4 ------\n"
     ]
    },
    {
     "name": "stderr",
     "output_type": "stream",
     "text": [
      "100%|██████████| 252/252 [00:03<00:00, 71.26it/s]\n",
      "100%|██████████| 28/28 [00:00<00:00, 130.15it/s]\n",
      "100%|██████████| 943/943 [00:00<00:00, 1367.94it/s]\n"
     ]
    },
    {
     "name": "stdout",
     "output_type": "stream",
     "text": [
      "Epoch 4: train loss :   0.155095   val loss :   0.133956   val score :   0.239661\n",
      "------ epoch:5 ------\n"
     ]
    },
    {
     "name": "stderr",
     "output_type": "stream",
     "text": [
      "100%|██████████| 252/252 [00:03<00:00, 70.36it/s]\n",
      "100%|██████████| 28/28 [00:00<00:00, 133.07it/s]\n",
      "100%|██████████| 943/943 [00:00<00:00, 1331.03it/s]\n"
     ]
    },
    {
     "name": "stdout",
     "output_type": "stream",
     "text": [
      "Epoch 5: train loss :   0.145674   val loss :   0.132261   val score :   0.237540\n",
      "------ epoch:6 ------\n"
     ]
    },
    {
     "name": "stderr",
     "output_type": "stream",
     "text": [
      "100%|██████████| 252/252 [00:03<00:00, 70.93it/s]\n",
      "100%|██████████| 28/28 [00:00<00:00, 95.47it/s]\n",
      "100%|██████████| 943/943 [00:00<00:00, 1210.46it/s]\n"
     ]
    },
    {
     "name": "stdout",
     "output_type": "stream",
     "text": [
      "Epoch 6: train loss :   0.139322   val loss :   0.130844   val score :   0.237540\n",
      "------ epoch:7 ------\n"
     ]
    },
    {
     "name": "stderr",
     "output_type": "stream",
     "text": [
      "100%|██████████| 252/252 [00:03<00:00, 75.19it/s]\n",
      "100%|██████████| 28/28 [00:00<00:00, 131.77it/s]\n",
      "100%|██████████| 943/943 [00:00<00:00, 1586.49it/s]\n"
     ]
    },
    {
     "name": "stdout",
     "output_type": "stream",
     "text": [
      "Epoch 7: train loss :   0.135720   val loss :   0.129716   val score :   0.240721\n",
      "------ epoch:8 ------\n"
     ]
    },
    {
     "name": "stderr",
     "output_type": "stream",
     "text": [
      "100%|██████████| 252/252 [00:03<00:00, 71.76it/s]\n",
      "100%|██████████| 28/28 [00:00<00:00, 95.56it/s] \n",
      "100%|██████████| 943/943 [00:00<00:00, 1876.64it/s]\n"
     ]
    },
    {
     "name": "stdout",
     "output_type": "stream",
     "text": [
      "Epoch 8: train loss :   0.133798   val loss :   0.129092   val score :   0.232238\n",
      "------ epoch:9 ------\n"
     ]
    },
    {
     "name": "stderr",
     "output_type": "stream",
     "text": [
      "100%|██████████| 252/252 [00:03<00:00, 68.79it/s]\n",
      "100%|██████████| 28/28 [00:00<00:00, 130.73it/s]\n",
      "100%|██████████| 943/943 [00:00<00:00, 1648.04it/s]\n"
     ]
    },
    {
     "name": "stdout",
     "output_type": "stream",
     "text": [
      "Epoch 9: train loss :   0.132545   val loss :   0.128723   val score :   0.230117\n",
      "------ epoch:10 ------\n"
     ]
    },
    {
     "name": "stderr",
     "output_type": "stream",
     "text": [
      "100%|██████████| 252/252 [00:03<00:00, 67.76it/s]\n",
      "100%|██████████| 28/28 [00:00<00:00, 133.74it/s]\n",
      "100%|██████████| 943/943 [00:00<00:00, 1676.65it/s]\n"
     ]
    },
    {
     "name": "stdout",
     "output_type": "stream",
     "text": [
      "Epoch 10: train loss :   0.131811   val loss :   0.128464   val score :   0.233298\n",
      "Epoch 00010: reducing learning rate of group 0 to 1.0000e-03.\n",
      "------ epoch:11 ------\n"
     ]
    },
    {
     "name": "stderr",
     "output_type": "stream",
     "text": [
      "100%|██████████| 252/252 [00:03<00:00, 69.88it/s]\n",
      "100%|██████████| 28/28 [00:00<00:00, 91.27it/s] \n",
      "100%|██████████| 943/943 [00:00<00:00, 1593.79it/s]\n"
     ]
    },
    {
     "name": "stdout",
     "output_type": "stream",
     "text": [
      "Epoch 11: train loss :   0.128379   val loss :   0.128397   val score :   0.235419\n",
      "------ epoch:12 ------\n"
     ]
    },
    {
     "name": "stderr",
     "output_type": "stream",
     "text": [
      "100%|██████████| 252/252 [00:03<00:00, 68.36it/s]\n",
      "100%|██████████| 28/28 [00:00<00:00, 130.54it/s]\n",
      "100%|██████████| 943/943 [00:00<00:00, 1304.32it/s]\n"
     ]
    },
    {
     "name": "stdout",
     "output_type": "stream",
     "text": [
      "Epoch 12: train loss :   0.128102   val loss :   0.128341   val score :   0.235419\n",
      "------ epoch:13 ------\n"
     ]
    },
    {
     "name": "stderr",
     "output_type": "stream",
     "text": [
      "100%|██████████| 252/252 [00:03<00:00, 69.64it/s]\n",
      "100%|██████████| 28/28 [00:00<00:00, 129.23it/s]\n",
      "100%|██████████| 943/943 [00:00<00:00, 1160.77it/s]\n"
     ]
    },
    {
     "name": "stdout",
     "output_type": "stream",
     "text": [
      "Epoch 13: train loss :   0.127945   val loss :   0.128289   val score :   0.236479\n",
      "Epoch 00013: reducing learning rate of group 0 to 1.0000e-04.\n"
     ]
    },
    {
     "name": "stderr",
     "output_type": "stream",
     "text": [
      "100%|██████████| 70/70 [00:00<00:00, 111.30it/s]\n",
      "100%|██████████| 943/943 [00:00<00:00, 1278.76it/s]\n"
     ]
    },
    {
     "name": "stdout",
     "output_type": "stream",
     "text": [
      "------ log loss of 5 fold : 0.12779973755989757 ------\n",
      "------ score of 5 fold : 0.23435843054082714 ------\n",
      "settings : percentage = 1, model type = 3\n",
      "parameters :  {'theta_clip': 0.15, 'num_users': 943, 'num_items': 1682, 'embedding_dim': 10, 'lr': 0.01, 'alpha': 0.01, 'patience': 5, 'epochs': 30, 'device': 'cuda:0', 'model_selection': True}\n",
      "------ log loss of the model : 0.12755721232720785 ------\n",
      "------ score of the model : 0.20784729586426298 ------\n",
      "------ 第1折 ------\n",
      "------ epoch:1 ------\n"
     ]
    },
    {
     "name": "stderr",
     "output_type": "stream",
     "text": [
      "100%|██████████| 252/252 [00:03<00:00, 69.96it/s]\n",
      "100%|██████████| 28/28 [00:00<00:00, 126.79it/s]\n",
      "100%|██████████| 943/943 [00:00<00:00, 1297.75it/s]\n"
     ]
    },
    {
     "name": "stdout",
     "output_type": "stream",
     "text": [
      "Epoch 1: train loss :   0.295656   val loss :   0.136389   val score :   0.208908\n",
      "------ epoch:2 ------\n"
     ]
    },
    {
     "name": "stderr",
     "output_type": "stream",
     "text": [
      "100%|██████████| 252/252 [00:03<00:00, 71.01it/s]\n",
      "100%|██████████| 28/28 [00:00<00:00, 95.62it/s]\n",
      "100%|██████████| 943/943 [00:00<00:00, 1313.44it/s]\n"
     ]
    },
    {
     "name": "stdout",
     "output_type": "stream",
     "text": [
      "Epoch 2: train loss :   0.179833   val loss :   0.132874   val score :   0.227996\n",
      "------ epoch:3 ------\n"
     ]
    },
    {
     "name": "stderr",
     "output_type": "stream",
     "text": [
      "100%|██████████| 252/252 [00:03<00:00, 68.81it/s]\n",
      "100%|██████████| 28/28 [00:00<00:00, 129.60it/s]\n",
      "100%|██████████| 943/943 [00:00<00:00, 1600.53it/s]\n"
     ]
    },
    {
     "name": "stdout",
     "output_type": "stream",
     "text": [
      "Epoch 3: train loss :   0.165548   val loss :   0.130756   val score :   0.222694\n",
      "------ epoch:4 ------\n"
     ]
    },
    {
     "name": "stderr",
     "output_type": "stream",
     "text": [
      "100%|██████████| 252/252 [00:03<00:00, 68.73it/s]\n",
      "100%|██████████| 28/28 [00:00<00:00, 132.66it/s]\n",
      "100%|██████████| 943/943 [00:00<00:00, 1730.03it/s]\n"
     ]
    },
    {
     "name": "stdout",
     "output_type": "stream",
     "text": [
      "Epoch 4: train loss :   0.153261   val loss :   0.129459   val score :   0.231177\n",
      "------ epoch:5 ------\n"
     ]
    },
    {
     "name": "stderr",
     "output_type": "stream",
     "text": [
      "100%|██████████| 252/252 [00:03<00:00, 65.83it/s]\n",
      "100%|██████████| 28/28 [00:00<00:00, 85.62it/s]\n",
      "100%|██████████| 943/943 [00:00<00:00, 1549.09it/s]\n"
     ]
    },
    {
     "name": "stdout",
     "output_type": "stream",
     "text": [
      "Epoch 5: train loss :   0.143611   val loss :   0.128198   val score :   0.234358\n",
      "------ epoch:6 ------\n"
     ]
    },
    {
     "name": "stderr",
     "output_type": "stream",
     "text": [
      "100%|██████████| 252/252 [00:03<00:00, 70.54it/s]\n",
      "100%|██████████| 28/28 [00:00<00:00, 132.39it/s]\n",
      "100%|██████████| 943/943 [00:00<00:00, 1570.01it/s]\n"
     ]
    },
    {
     "name": "stdout",
     "output_type": "stream",
     "text": [
      "Epoch 6: train loss :   0.137082   val loss :   0.127495   val score :   0.238600\n",
      "------ epoch:7 ------\n"
     ]
    },
    {
     "name": "stderr",
     "output_type": "stream",
     "text": [
      "100%|██████████| 252/252 [00:03<00:00, 71.42it/s]\n",
      "100%|██████████| 28/28 [00:00<00:00, 128.60it/s]\n",
      "100%|██████████| 943/943 [00:00<00:00, 1611.06it/s]\n"
     ]
    },
    {
     "name": "stdout",
     "output_type": "stream",
     "text": [
      "Epoch 7: train loss :   0.133386   val loss :   0.126808   val score :   0.238600\n",
      "------ epoch:8 ------\n"
     ]
    },
    {
     "name": "stderr",
     "output_type": "stream",
     "text": [
      "100%|██████████| 252/252 [00:03<00:00, 71.73it/s]\n",
      "100%|██████████| 28/28 [00:00<00:00, 94.22it/s]\n",
      "100%|██████████| 943/943 [00:00<00:00, 1848.13it/s]\n"
     ]
    },
    {
     "name": "stdout",
     "output_type": "stream",
     "text": [
      "Epoch 8: train loss :   0.131285   val loss :   0.126360   val score :   0.238600\n",
      "------ epoch:9 ------\n"
     ]
    },
    {
     "name": "stderr",
     "output_type": "stream",
     "text": [
      "100%|██████████| 252/252 [00:03<00:00, 72.52it/s]\n",
      "100%|██████████| 28/28 [00:00<00:00, 128.37it/s]\n",
      "100%|██████████| 943/943 [00:00<00:00, 1493.77it/s]\n"
     ]
    },
    {
     "name": "stdout",
     "output_type": "stream",
     "text": [
      "Epoch 9: train loss :   0.130141   val loss :   0.125954   val score :   0.237540\n",
      "Epoch 00009: reducing learning rate of group 0 to 1.0000e-03.\n",
      "------ epoch:10 ------\n"
     ]
    },
    {
     "name": "stderr",
     "output_type": "stream",
     "text": [
      "100%|██████████| 252/252 [00:03<00:00, 71.43it/s]\n",
      "100%|██████████| 28/28 [00:00<00:00, 128.30it/s]\n",
      "100%|██████████| 943/943 [00:00<00:00, 1090.57it/s]\n"
     ]
    },
    {
     "name": "stdout",
     "output_type": "stream",
     "text": [
      "Epoch 10: train loss :   0.127402   val loss :   0.125918   val score :   0.237540\n",
      "------ epoch:11 ------\n"
     ]
    },
    {
     "name": "stderr",
     "output_type": "stream",
     "text": [
      "100%|██████████| 252/252 [00:03<00:00, 71.38it/s]\n",
      "100%|██████████| 28/28 [00:00<00:00, 97.77it/s]\n",
      "100%|██████████| 943/943 [00:00<00:00, 1445.76it/s]\n"
     ]
    },
    {
     "name": "stdout",
     "output_type": "stream",
     "text": [
      "Epoch 11: train loss :   0.127187   val loss :   0.125877   val score :   0.238600\n",
      "------ epoch:12 ------\n"
     ]
    },
    {
     "name": "stderr",
     "output_type": "stream",
     "text": [
      "100%|██████████| 252/252 [00:03<00:00, 70.65it/s]\n",
      "100%|██████████| 28/28 [00:00<00:00, 130.81it/s]\n",
      "100%|██████████| 943/943 [00:00<00:00, 1804.26it/s]\n"
     ]
    },
    {
     "name": "stdout",
     "output_type": "stream",
     "text": [
      "Epoch 12: train loss :   0.127247   val loss :   0.125839   val score :   0.241782\n",
      "------ epoch:13 ------\n"
     ]
    },
    {
     "name": "stderr",
     "output_type": "stream",
     "text": [
      "100%|██████████| 252/252 [00:03<00:00, 76.94it/s]\n",
      "100%|██████████| 28/28 [00:00<00:00, 132.04it/s]\n",
      "100%|██████████| 943/943 [00:00<00:00, 1639.02it/s]\n"
     ]
    },
    {
     "name": "stdout",
     "output_type": "stream",
     "text": [
      "Epoch 13: train loss :   0.127091   val loss :   0.125796   val score :   0.238600\n",
      "------ epoch:14 ------\n"
     ]
    },
    {
     "name": "stderr",
     "output_type": "stream",
     "text": [
      "100%|██████████| 252/252 [00:03<00:00, 74.29it/s]\n",
      "100%|██████████| 28/28 [00:00<00:00, 93.11it/s] \n",
      "100%|██████████| 943/943 [00:00<00:00, 1507.26it/s]\n"
     ]
    },
    {
     "name": "stdout",
     "output_type": "stream",
     "text": [
      "Epoch 14: train loss :   0.126819   val loss :   0.125758   val score :   0.238600\n",
      "------ epoch:15 ------\n"
     ]
    },
    {
     "name": "stderr",
     "output_type": "stream",
     "text": [
      "100%|██████████| 252/252 [00:03<00:00, 69.90it/s]\n",
      "100%|██████████| 28/28 [00:00<00:00, 129.84it/s]\n",
      "100%|██████████| 943/943 [00:00<00:00, 1430.60it/s]\n"
     ]
    },
    {
     "name": "stdout",
     "output_type": "stream",
     "text": [
      "Epoch 15: train loss :   0.126703   val loss :   0.125735   val score :   0.239661\n",
      "Epoch 00015: reducing learning rate of group 0 to 1.0000e-04.\n",
      "------ epoch:16 ------\n"
     ]
    },
    {
     "name": "stderr",
     "output_type": "stream",
     "text": [
      "100%|██████████| 252/252 [00:03<00:00, 78.75it/s]\n",
      "100%|██████████| 28/28 [00:00<00:00, 130.09it/s]\n",
      "100%|██████████| 943/943 [00:00<00:00, 1572.28it/s]\n"
     ]
    },
    {
     "name": "stdout",
     "output_type": "stream",
     "text": [
      "Epoch 16: train loss :   0.126206   val loss :   0.125732   val score :   0.239661\n",
      "------ epoch:17 ------\n"
     ]
    },
    {
     "name": "stderr",
     "output_type": "stream",
     "text": [
      "100%|██████████| 252/252 [00:03<00:00, 75.58it/s]\n",
      "100%|██████████| 28/28 [00:00<00:00, 95.59it/s]\n",
      "100%|██████████| 943/943 [00:00<00:00, 1644.24it/s]\n"
     ]
    },
    {
     "name": "stdout",
     "output_type": "stream",
     "text": [
      "Epoch 17: train loss :   0.126320   val loss :   0.125728   val score :   0.239661\n",
      "------ epoch:18 ------\n"
     ]
    },
    {
     "name": "stderr",
     "output_type": "stream",
     "text": [
      "100%|██████████| 252/252 [00:03<00:00, 80.08it/s]\n",
      "100%|██████████| 28/28 [00:00<00:00, 130.35it/s]\n",
      "100%|██████████| 943/943 [00:00<00:00, 1331.38it/s]\n"
     ]
    },
    {
     "name": "stdout",
     "output_type": "stream",
     "text": [
      "Epoch 18: train loss :   0.126140   val loss :   0.125724   val score :   0.239661\n",
      "Epoch 00018: reducing learning rate of group 0 to 1.0000e-05.\n"
     ]
    },
    {
     "name": "stderr",
     "output_type": "stream",
     "text": [
      "100%|██████████| 70/70 [00:00<00:00, 112.87it/s]\n",
      "100%|██████████| 943/943 [00:00<00:00, 1676.31it/s]\n"
     ]
    },
    {
     "name": "stdout",
     "output_type": "stream",
     "text": [
      "------ log loss of 1 fold : 0.12148790412715503 ------\n",
      "------ score of 1 fold : 0.2046659597030753 ------\n",
      "------ 第2折 ------\n",
      "------ epoch:1 ------\n"
     ]
    },
    {
     "name": "stderr",
     "output_type": "stream",
     "text": [
      "100%|██████████| 252/252 [00:03<00:00, 70.13it/s]\n",
      "100%|██████████| 28/28 [00:00<00:00, 131.20it/s]\n",
      "100%|██████████| 943/943 [00:00<00:00, 1436.28it/s]\n"
     ]
    },
    {
     "name": "stdout",
     "output_type": "stream",
     "text": [
      "Epoch 1: train loss :   0.292657   val loss :   0.138346   val score :   0.193001\n",
      "------ epoch:2 ------\n"
     ]
    },
    {
     "name": "stderr",
     "output_type": "stream",
     "text": [
      "100%|██████████| 252/252 [00:03<00:00, 70.83it/s]\n",
      "100%|██████████| 28/28 [00:00<00:00, 90.83it/s] \n",
      "100%|██████████| 943/943 [00:00<00:00, 1149.91it/s]\n"
     ]
    },
    {
     "name": "stdout",
     "output_type": "stream",
     "text": [
      "Epoch 2: train loss :   0.180203   val loss :   0.135653   val score :   0.211029\n",
      "------ epoch:3 ------\n"
     ]
    },
    {
     "name": "stderr",
     "output_type": "stream",
     "text": [
      "100%|██████████| 252/252 [00:03<00:00, 71.53it/s]\n",
      "100%|██████████| 28/28 [00:00<00:00, 125.44it/s]\n",
      "100%|██████████| 943/943 [00:00<00:00, 1279.24it/s]\n"
     ]
    },
    {
     "name": "stdout",
     "output_type": "stream",
     "text": [
      "Epoch 3: train loss :   0.165493   val loss :   0.133541   val score :   0.231177\n",
      "------ epoch:4 ------\n"
     ]
    },
    {
     "name": "stderr",
     "output_type": "stream",
     "text": [
      "100%|██████████| 252/252 [00:03<00:00, 70.35it/s]\n",
      "100%|██████████| 28/28 [00:00<00:00, 126.80it/s]\n",
      "100%|██████████| 943/943 [00:00<00:00, 1598.98it/s]\n"
     ]
    },
    {
     "name": "stdout",
     "output_type": "stream",
     "text": [
      "Epoch 4: train loss :   0.153205   val loss :   0.131725   val score :   0.224814\n",
      "------ epoch:5 ------\n"
     ]
    },
    {
     "name": "stderr",
     "output_type": "stream",
     "text": [
      "100%|██████████| 252/252 [00:03<00:00, 68.93it/s]\n",
      "100%|██████████| 28/28 [00:00<00:00, 84.87it/s] \n",
      "100%|██████████| 943/943 [00:00<00:00, 1281.42it/s]\n"
     ]
    },
    {
     "name": "stdout",
     "output_type": "stream",
     "text": [
      "Epoch 5: train loss :   0.143550   val loss :   0.130578   val score :   0.233298\n",
      "------ epoch:6 ------\n"
     ]
    },
    {
     "name": "stderr",
     "output_type": "stream",
     "text": [
      "100%|██████████| 252/252 [00:03<00:00, 76.94it/s]\n",
      "100%|██████████| 28/28 [00:00<00:00, 133.75it/s]\n",
      "100%|██████████| 943/943 [00:00<00:00, 1221.38it/s]\n"
     ]
    },
    {
     "name": "stdout",
     "output_type": "stream",
     "text": [
      "Epoch 6: train loss :   0.136887   val loss :   0.128896   val score :   0.230117\n",
      "------ epoch:7 ------\n"
     ]
    },
    {
     "name": "stderr",
     "output_type": "stream",
     "text": [
      "100%|██████████| 252/252 [00:03<00:00, 72.18it/s]\n",
      "100%|██████████| 28/28 [00:00<00:00, 132.52it/s]\n",
      "100%|██████████| 943/943 [00:00<00:00, 1313.83it/s]\n"
     ]
    },
    {
     "name": "stdout",
     "output_type": "stream",
     "text": [
      "Epoch 7: train loss :   0.133168   val loss :   0.127627   val score :   0.227996\n",
      "------ epoch:8 ------\n"
     ]
    },
    {
     "name": "stderr",
     "output_type": "stream",
     "text": [
      "100%|██████████| 252/252 [00:03<00:00, 72.57it/s]\n",
      "100%|██████████| 28/28 [00:00<00:00, 97.27it/s] \n",
      "100%|██████████| 943/943 [00:00<00:00, 1704.78it/s]\n"
     ]
    },
    {
     "name": "stdout",
     "output_type": "stream",
     "text": [
      "Epoch 8: train loss :   0.131005   val loss :   0.126882   val score :   0.221633\n",
      "Epoch 00008: reducing learning rate of group 0 to 1.0000e-03.\n",
      "------ epoch:9 ------\n"
     ]
    },
    {
     "name": "stderr",
     "output_type": "stream",
     "text": [
      "100%|██████████| 252/252 [00:03<00:00, 78.96it/s]\n",
      "100%|██████████| 28/28 [00:00<00:00, 125.84it/s]\n",
      "100%|██████████| 943/943 [00:00<00:00, 1397.05it/s]\n"
     ]
    },
    {
     "name": "stdout",
     "output_type": "stream",
     "text": [
      "Epoch 9: train loss :   0.128006   val loss :   0.126777   val score :   0.223754\n",
      "------ epoch:10 ------\n"
     ]
    },
    {
     "name": "stderr",
     "output_type": "stream",
     "text": [
      "100%|██████████| 252/252 [00:03<00:00, 66.61it/s]\n",
      "100%|██████████| 28/28 [00:00<00:00, 130.76it/s]\n",
      "100%|██████████| 943/943 [00:00<00:00, 1134.41it/s]\n"
     ]
    },
    {
     "name": "stdout",
     "output_type": "stream",
     "text": [
      "Epoch 10: train loss :   0.127910   val loss :   0.126680   val score :   0.221633\n",
      "------ epoch:11 ------\n"
     ]
    },
    {
     "name": "stderr",
     "output_type": "stream",
     "text": [
      "100%|██████████| 252/252 [00:03<00:00, 72.48it/s]\n",
      "100%|██████████| 28/28 [00:00<00:00, 97.15it/s] \n",
      "100%|██████████| 943/943 [00:00<00:00, 1110.95it/s]\n"
     ]
    },
    {
     "name": "stdout",
     "output_type": "stream",
     "text": [
      "Epoch 11: train loss :   0.127832   val loss :   0.126598   val score :   0.220573\n",
      "Epoch 00011: reducing learning rate of group 0 to 1.0000e-04.\n"
     ]
    },
    {
     "name": "stderr",
     "output_type": "stream",
     "text": [
      "100%|██████████| 70/70 [00:00<00:00, 131.44it/s]\n",
      "100%|██████████| 943/943 [00:00<00:00, 1696.42it/s]\n"
     ]
    },
    {
     "name": "stdout",
     "output_type": "stream",
     "text": [
      "------ log loss of 2 fold : 0.12394588706748826 ------\n",
      "------ score of 2 fold : 0.22799575821845175 ------\n",
      "------ 第3折 ------\n",
      "------ epoch:1 ------\n"
     ]
    },
    {
     "name": "stderr",
     "output_type": "stream",
     "text": [
      "100%|██████████| 252/252 [00:03<00:00, 72.45it/s]\n",
      "100%|██████████| 28/28 [00:00<00:00, 96.39it/s] \n",
      "100%|██████████| 943/943 [00:00<00:00, 1985.63it/s]\n"
     ]
    },
    {
     "name": "stdout",
     "output_type": "stream",
     "text": [
      "Epoch 1: train loss :   0.290450   val loss :   0.136104   val score :   0.215270\n",
      "------ epoch:2 ------\n"
     ]
    },
    {
     "name": "stderr",
     "output_type": "stream",
     "text": [
      "100%|██████████| 252/252 [00:03<00:00, 66.06it/s]\n",
      "100%|██████████| 28/28 [00:00<00:00, 125.32it/s]\n",
      "100%|██████████| 943/943 [00:00<00:00, 1422.79it/s]\n"
     ]
    },
    {
     "name": "stdout",
     "output_type": "stream",
     "text": [
      "Epoch 2: train loss :   0.178793   val loss :   0.133939   val score :   0.217391\n",
      "------ epoch:3 ------\n"
     ]
    },
    {
     "name": "stderr",
     "output_type": "stream",
     "text": [
      "100%|██████████| 252/252 [00:03<00:00, 71.36it/s]\n",
      "100%|██████████| 28/28 [00:00<00:00, 131.08it/s]\n",
      "100%|██████████| 943/943 [00:00<00:00, 1454.82it/s]\n"
     ]
    },
    {
     "name": "stdout",
     "output_type": "stream",
     "text": [
      "Epoch 3: train loss :   0.164296   val loss :   0.132939   val score :   0.241782\n",
      "------ epoch:4 ------\n"
     ]
    },
    {
     "name": "stderr",
     "output_type": "stream",
     "text": [
      "100%|██████████| 252/252 [00:03<00:00, 72.51it/s]\n",
      "100%|██████████| 28/28 [00:00<00:00, 97.59it/s] \n",
      "100%|██████████| 943/943 [00:00<00:00, 1764.42it/s]\n"
     ]
    },
    {
     "name": "stdout",
     "output_type": "stream",
     "text": [
      "Epoch 4: train loss :   0.152171   val loss :   0.131572   val score :   0.241782\n",
      "------ epoch:5 ------\n"
     ]
    },
    {
     "name": "stderr",
     "output_type": "stream",
     "text": [
      "100%|██████████| 252/252 [00:03<00:00, 72.17it/s]\n",
      "100%|██████████| 28/28 [00:00<00:00, 132.62it/s]\n",
      "100%|██████████| 943/943 [00:00<00:00, 1785.83it/s]\n"
     ]
    },
    {
     "name": "stdout",
     "output_type": "stream",
     "text": [
      "Epoch 5: train loss :   0.142381   val loss :   0.130199   val score :   0.248144\n",
      "------ epoch:6 ------\n"
     ]
    },
    {
     "name": "stderr",
     "output_type": "stream",
     "text": [
      "100%|██████████| 252/252 [00:03<00:00, 71.25it/s]\n",
      "100%|██████████| 28/28 [00:00<00:00, 127.40it/s]\n",
      "100%|██████████| 943/943 [00:00<00:00, 1645.10it/s]\n"
     ]
    },
    {
     "name": "stdout",
     "output_type": "stream",
     "text": [
      "Epoch 6: train loss :   0.135795   val loss :   0.128959   val score :   0.242842\n",
      "------ epoch:7 ------\n"
     ]
    },
    {
     "name": "stderr",
     "output_type": "stream",
     "text": [
      "100%|██████████| 252/252 [00:03<00:00, 70.29it/s]\n",
      "100%|██████████| 28/28 [00:00<00:00, 94.70it/s]\n",
      "100%|██████████| 943/943 [00:00<00:00, 1685.46it/s]\n"
     ]
    },
    {
     "name": "stdout",
     "output_type": "stream",
     "text": [
      "Epoch 7: train loss :   0.132382   val loss :   0.127687   val score :   0.240721\n",
      "------ epoch:8 ------\n"
     ]
    },
    {
     "name": "stderr",
     "output_type": "stream",
     "text": [
      "100%|██████████| 252/252 [00:03<00:00, 67.64it/s]\n",
      "100%|██████████| 28/28 [00:00<00:00, 130.63it/s]\n",
      "100%|██████████| 943/943 [00:00<00:00, 1845.11it/s]\n"
     ]
    },
    {
     "name": "stdout",
     "output_type": "stream",
     "text": [
      "Epoch 8: train loss :   0.130288   val loss :   0.126886   val score :   0.248144\n",
      "Epoch 00008: reducing learning rate of group 0 to 1.0000e-03.\n",
      "------ epoch:9 ------\n"
     ]
    },
    {
     "name": "stderr",
     "output_type": "stream",
     "text": [
      "100%|██████████| 252/252 [00:03<00:00, 71.46it/s]\n",
      "100%|██████████| 28/28 [00:00<00:00, 131.45it/s]\n",
      "100%|██████████| 943/943 [00:00<00:00, 1574.42it/s]\n"
     ]
    },
    {
     "name": "stdout",
     "output_type": "stream",
     "text": [
      "Epoch 9: train loss :   0.127450   val loss :   0.126740   val score :   0.249205\n",
      "------ epoch:10 ------\n"
     ]
    },
    {
     "name": "stderr",
     "output_type": "stream",
     "text": [
      "100%|██████████| 252/252 [00:03<00:00, 72.37it/s]\n",
      "100%|██████████| 28/28 [00:00<00:00, 97.35it/s]\n",
      "100%|██████████| 943/943 [00:00<00:00, 1629.13it/s]\n"
     ]
    },
    {
     "name": "stdout",
     "output_type": "stream",
     "text": [
      "Epoch 10: train loss :   0.127203   val loss :   0.126601   val score :   0.247084\n",
      "------ epoch:11 ------\n"
     ]
    },
    {
     "name": "stderr",
     "output_type": "stream",
     "text": [
      "100%|██████████| 252/252 [00:03<00:00, 77.60it/s]\n",
      "100%|██████████| 28/28 [00:00<00:00, 133.03it/s]\n",
      "100%|██████████| 943/943 [00:00<00:00, 1773.95it/s]\n"
     ]
    },
    {
     "name": "stdout",
     "output_type": "stream",
     "text": [
      "Epoch 11: train loss :   0.126864   val loss :   0.126461   val score :   0.248144\n",
      "------ epoch:12 ------\n"
     ]
    },
    {
     "name": "stderr",
     "output_type": "stream",
     "text": [
      "100%|██████████| 252/252 [00:02<00:00, 85.59it/s]\n",
      "100%|██████████| 28/28 [00:00<00:00, 131.42it/s]\n",
      "100%|██████████| 943/943 [00:00<00:00, 1179.67it/s]\n"
     ]
    },
    {
     "name": "stdout",
     "output_type": "stream",
     "text": [
      "Epoch 12: train loss :   0.126776   val loss :   0.126349   val score :   0.247084\n",
      "Epoch 00012: reducing learning rate of group 0 to 1.0000e-04.\n",
      "------ epoch:13 ------\n"
     ]
    },
    {
     "name": "stderr",
     "output_type": "stream",
     "text": [
      "100%|██████████| 252/252 [00:03<00:00, 78.15it/s]\n",
      "100%|██████████| 28/28 [00:00<00:00, 68.20it/s]\n",
      "100%|██████████| 943/943 [00:00<00:00, 1429.83it/s]\n"
     ]
    },
    {
     "name": "stdout",
     "output_type": "stream",
     "text": [
      "Epoch 13: train loss :   0.126324   val loss :   0.126336   val score :   0.247084\n",
      "------ epoch:14 ------\n"
     ]
    },
    {
     "name": "stderr",
     "output_type": "stream",
     "text": [
      "100%|██████████| 252/252 [00:03<00:00, 82.40it/s]\n",
      "100%|██████████| 28/28 [00:00<00:00, 134.76it/s]\n",
      "100%|██████████| 943/943 [00:00<00:00, 1174.96it/s]\n"
     ]
    },
    {
     "name": "stdout",
     "output_type": "stream",
     "text": [
      "Epoch 14: train loss :   0.126452   val loss :   0.126325   val score :   0.247084\n",
      "------ epoch:15 ------\n"
     ]
    },
    {
     "name": "stderr",
     "output_type": "stream",
     "text": [
      "100%|██████████| 252/252 [00:02<00:00, 87.49it/s]\n",
      "100%|██████████| 28/28 [00:00<00:00, 133.61it/s]\n",
      "100%|██████████| 943/943 [00:00<00:00, 1608.63it/s]\n"
     ]
    },
    {
     "name": "stdout",
     "output_type": "stream",
     "text": [
      "Epoch 15: train loss :   0.126234   val loss :   0.126312   val score :   0.247084\n",
      "Epoch 00015: reducing learning rate of group 0 to 1.0000e-05.\n"
     ]
    },
    {
     "name": "stderr",
     "output_type": "stream",
     "text": [
      "100%|██████████| 70/70 [00:00<00:00, 112.35it/s]\n",
      "100%|██████████| 943/943 [00:00<00:00, 1365.95it/s]\n"
     ]
    },
    {
     "name": "stdout",
     "output_type": "stream",
     "text": [
      "------ log loss of 3 fold : 0.1270156431410994 ------\n",
      "------ score of 3 fold : 0.21314952279957583 ------\n",
      "------ 第4折 ------\n",
      "------ epoch:1 ------\n"
     ]
    },
    {
     "name": "stderr",
     "output_type": "stream",
     "text": [
      "100%|██████████| 252/252 [00:02<00:00, 86.06it/s]\n",
      "100%|██████████| 28/28 [00:00<00:00, 99.14it/s] \n",
      "100%|██████████| 943/943 [00:00<00:00, 1141.25it/s]\n"
     ]
    },
    {
     "name": "stdout",
     "output_type": "stream",
     "text": [
      "Epoch 1: train loss :   0.289116   val loss :   0.138273   val score :   0.208908\n",
      "------ epoch:2 ------\n"
     ]
    },
    {
     "name": "stderr",
     "output_type": "stream",
     "text": [
      "100%|██████████| 252/252 [00:02<00:00, 86.93it/s]\n",
      "100%|██████████| 28/28 [00:00<00:00, 130.85it/s]\n",
      "100%|██████████| 943/943 [00:00<00:00, 1743.26it/s]\n"
     ]
    },
    {
     "name": "stdout",
     "output_type": "stream",
     "text": [
      "Epoch 2: train loss :   0.177939   val loss :   0.135265   val score :   0.216331\n",
      "------ epoch:3 ------\n"
     ]
    },
    {
     "name": "stderr",
     "output_type": "stream",
     "text": [
      "100%|██████████| 252/252 [00:02<00:00, 85.00it/s]\n",
      "100%|██████████| 28/28 [00:00<00:00, 134.14it/s]\n",
      "100%|██████████| 943/943 [00:00<00:00, 1163.67it/s]\n"
     ]
    },
    {
     "name": "stdout",
     "output_type": "stream",
     "text": [
      "Epoch 3: train loss :   0.163819   val loss :   0.132314   val score :   0.214210\n",
      "------ epoch:4 ------\n"
     ]
    },
    {
     "name": "stderr",
     "output_type": "stream",
     "text": [
      "100%|██████████| 252/252 [00:03<00:00, 68.76it/s]\n",
      "100%|██████████| 28/28 [00:00<00:00, 95.41it/s] \n",
      "100%|██████████| 943/943 [00:00<00:00, 1096.74it/s]\n"
     ]
    },
    {
     "name": "stdout",
     "output_type": "stream",
     "text": [
      "Epoch 4: train loss :   0.151736   val loss :   0.130583   val score :   0.229056\n",
      "------ epoch:5 ------\n"
     ]
    },
    {
     "name": "stderr",
     "output_type": "stream",
     "text": [
      "100%|██████████| 252/252 [00:03<00:00, 69.38it/s]\n",
      "100%|██████████| 28/28 [00:00<00:00, 133.30it/s]\n",
      "100%|██████████| 943/943 [00:00<00:00, 1226.79it/s]\n"
     ]
    },
    {
     "name": "stdout",
     "output_type": "stream",
     "text": [
      "Epoch 5: train loss :   0.142348   val loss :   0.129168   val score :   0.223754\n",
      "------ epoch:6 ------\n"
     ]
    },
    {
     "name": "stderr",
     "output_type": "stream",
     "text": [
      "100%|██████████| 252/252 [00:03<00:00, 71.53it/s]\n",
      "100%|██████████| 28/28 [00:00<00:00, 133.33it/s]\n",
      "100%|██████████| 943/943 [00:00<00:00, 1182.94it/s]\n"
     ]
    },
    {
     "name": "stdout",
     "output_type": "stream",
     "text": [
      "Epoch 6: train loss :   0.136224   val loss :   0.128151   val score :   0.225875\n",
      "------ epoch:7 ------\n"
     ]
    },
    {
     "name": "stderr",
     "output_type": "stream",
     "text": [
      "100%|██████████| 252/252 [00:03<00:00, 72.57it/s]\n",
      "100%|██████████| 28/28 [00:00<00:00, 97.16it/s] \n",
      "100%|██████████| 943/943 [00:00<00:00, 1009.13it/s]\n"
     ]
    },
    {
     "name": "stdout",
     "output_type": "stream",
     "text": [
      "Epoch 7: train loss :   0.132675   val loss :   0.127472   val score :   0.229056\n",
      "Epoch 00007: reducing learning rate of group 0 to 1.0000e-03.\n",
      "------ epoch:8 ------\n"
     ]
    },
    {
     "name": "stderr",
     "output_type": "stream",
     "text": [
      "100%|██████████| 252/252 [00:03<00:00, 72.55it/s]\n",
      "100%|██████████| 28/28 [00:00<00:00, 133.55it/s]\n",
      "100%|██████████| 943/943 [00:01<00:00, 832.21it/s]\n"
     ]
    },
    {
     "name": "stdout",
     "output_type": "stream",
     "text": [
      "Epoch 8: train loss :   0.129156   val loss :   0.127367   val score :   0.227996\n",
      "------ epoch:9 ------\n"
     ]
    },
    {
     "name": "stderr",
     "output_type": "stream",
     "text": [
      "100%|██████████| 252/252 [00:03<00:00, 71.03it/s]\n",
      "100%|██████████| 28/28 [00:00<00:00, 128.45it/s]\n",
      "100%|██████████| 943/943 [00:00<00:00, 1583.11it/s]\n"
     ]
    },
    {
     "name": "stdout",
     "output_type": "stream",
     "text": [
      "Epoch 9: train loss :   0.129021   val loss :   0.127289   val score :   0.230117\n",
      "------ epoch:10 ------\n"
     ]
    },
    {
     "name": "stderr",
     "output_type": "stream",
     "text": [
      "100%|██████████| 252/252 [00:03<00:00, 71.86it/s]\n",
      "100%|██████████| 28/28 [00:00<00:00, 99.82it/s] \n",
      "100%|██████████| 943/943 [00:00<00:00, 1490.38it/s]\n"
     ]
    },
    {
     "name": "stdout",
     "output_type": "stream",
     "text": [
      "Epoch 10: train loss :   0.128546   val loss :   0.127208   val score :   0.229056\n",
      "------ epoch:11 ------\n"
     ]
    },
    {
     "name": "stderr",
     "output_type": "stream",
     "text": [
      "100%|██████████| 252/252 [00:03<00:00, 73.81it/s]\n",
      "100%|██████████| 28/28 [00:00<00:00, 135.79it/s]\n",
      "100%|██████████| 943/943 [00:00<00:00, 1434.30it/s]\n"
     ]
    },
    {
     "name": "stdout",
     "output_type": "stream",
     "text": [
      "Epoch 11: train loss :   0.128379   val loss :   0.127152   val score :   0.231177\n",
      "------ epoch:12 ------\n"
     ]
    },
    {
     "name": "stderr",
     "output_type": "stream",
     "text": [
      "100%|██████████| 252/252 [00:03<00:00, 73.40it/s]\n",
      "100%|██████████| 28/28 [00:00<00:00, 137.36it/s]\n",
      "100%|██████████| 943/943 [00:00<00:00, 1530.93it/s]\n"
     ]
    },
    {
     "name": "stdout",
     "output_type": "stream",
     "text": [
      "Epoch 12: train loss :   0.128170   val loss :   0.127089   val score :   0.231177\n",
      "------ epoch:13 ------\n"
     ]
    },
    {
     "name": "stderr",
     "output_type": "stream",
     "text": [
      "100%|██████████| 252/252 [00:03<00:00, 66.01it/s]\n",
      "100%|██████████| 28/28 [00:00<00:00, 98.45it/s] \n",
      "100%|██████████| 943/943 [00:00<00:00, 2016.14it/s]\n"
     ]
    },
    {
     "name": "stdout",
     "output_type": "stream",
     "text": [
      "Epoch 13: train loss :   0.128036   val loss :   0.127027   val score :   0.227996\n",
      "------ epoch:14 ------\n"
     ]
    },
    {
     "name": "stderr",
     "output_type": "stream",
     "text": [
      "100%|██████████| 252/252 [00:03<00:00, 71.84it/s]\n",
      "100%|██████████| 28/28 [00:00<00:00, 132.06it/s]\n",
      "100%|██████████| 943/943 [00:00<00:00, 1377.09it/s]\n"
     ]
    },
    {
     "name": "stdout",
     "output_type": "stream",
     "text": [
      "Epoch 14: train loss :   0.127694   val loss :   0.126979   val score :   0.229056\n",
      "Epoch 00014: reducing learning rate of group 0 to 1.0000e-04.\n",
      "------ epoch:15 ------\n"
     ]
    },
    {
     "name": "stderr",
     "output_type": "stream",
     "text": [
      "100%|██████████| 252/252 [00:03<00:00, 73.23it/s]\n",
      "100%|██████████| 28/28 [00:00<00:00, 130.92it/s]\n",
      "100%|██████████| 943/943 [00:00<00:00, 1576.20it/s]\n"
     ]
    },
    {
     "name": "stdout",
     "output_type": "stream",
     "text": [
      "Epoch 15: train loss :   0.127246   val loss :   0.126974   val score :   0.229056\n",
      "------ epoch:16 ------\n"
     ]
    },
    {
     "name": "stderr",
     "output_type": "stream",
     "text": [
      "100%|██████████| 252/252 [00:03<00:00, 73.20it/s]\n",
      "100%|██████████| 28/28 [00:00<00:00, 98.24it/s] \n",
      "100%|██████████| 943/943 [00:00<00:00, 1891.57it/s]\n"
     ]
    },
    {
     "name": "stdout",
     "output_type": "stream",
     "text": [
      "Epoch 16: train loss :   0.127275   val loss :   0.126969   val score :   0.229056\n",
      "------ epoch:17 ------\n"
     ]
    },
    {
     "name": "stderr",
     "output_type": "stream",
     "text": [
      "100%|██████████| 252/252 [00:03<00:00, 78.66it/s]\n",
      "100%|██████████| 28/28 [00:00<00:00, 135.84it/s]\n",
      "100%|██████████| 943/943 [00:00<00:00, 1726.65it/s]\n"
     ]
    },
    {
     "name": "stdout",
     "output_type": "stream",
     "text": [
      "Epoch 17: train loss :   0.127309   val loss :   0.126964   val score :   0.229056\n",
      "Epoch 00017: reducing learning rate of group 0 to 1.0000e-05.\n"
     ]
    },
    {
     "name": "stderr",
     "output_type": "stream",
     "text": [
      "100%|██████████| 70/70 [00:00<00:00, 111.03it/s]\n",
      "100%|██████████| 943/943 [00:00<00:00, 2314.71it/s]\n"
     ]
    },
    {
     "name": "stdout",
     "output_type": "stream",
     "text": [
      "------ log loss of 4 fold : 0.12408585154584476 ------\n",
      "------ score of 4 fold : 0.21845174973488865 ------\n",
      "------ 第5折 ------\n",
      "------ epoch:1 ------\n"
     ]
    },
    {
     "name": "stderr",
     "output_type": "stream",
     "text": [
      "100%|██████████| 252/252 [00:03<00:00, 70.86it/s]\n",
      "100%|██████████| 28/28 [00:00<00:00, 132.94it/s]\n",
      "100%|██████████| 943/943 [00:00<00:00, 1320.34it/s]\n"
     ]
    },
    {
     "name": "stdout",
     "output_type": "stream",
     "text": [
      "Epoch 1: train loss :   0.294134   val loss :   0.135373   val score :   0.223754\n",
      "------ epoch:2 ------\n"
     ]
    },
    {
     "name": "stderr",
     "output_type": "stream",
     "text": [
      "100%|██████████| 252/252 [00:03<00:00, 72.89it/s]\n",
      "100%|██████████| 28/28 [00:00<00:00, 133.20it/s]\n",
      "100%|██████████| 943/943 [00:00<00:00, 2161.33it/s]\n"
     ]
    },
    {
     "name": "stdout",
     "output_type": "stream",
     "text": [
      "Epoch 2: train loss :   0.179117   val loss :   0.132440   val score :   0.233298\n",
      "------ epoch:3 ------\n"
     ]
    },
    {
     "name": "stderr",
     "output_type": "stream",
     "text": [
      "100%|██████████| 252/252 [00:03<00:00, 72.71it/s]\n",
      "100%|██████████| 28/28 [00:00<00:00, 98.74it/s]\n",
      "100%|██████████| 943/943 [00:00<00:00, 2436.88it/s]\n"
     ]
    },
    {
     "name": "stdout",
     "output_type": "stream",
     "text": [
      "Epoch 3: train loss :   0.164845   val loss :   0.130857   val score :   0.239661\n",
      "------ epoch:4 ------\n"
     ]
    },
    {
     "name": "stderr",
     "output_type": "stream",
     "text": [
      "100%|██████████| 252/252 [00:03<00:00, 72.75it/s]\n",
      "100%|██████████| 28/28 [00:00<00:00, 132.35it/s]\n",
      "100%|██████████| 943/943 [00:00<00:00, 1967.02it/s]\n"
     ]
    },
    {
     "name": "stdout",
     "output_type": "stream",
     "text": [
      "Epoch 4: train loss :   0.152803   val loss :   0.128988   val score :   0.253446\n",
      "------ epoch:5 ------\n"
     ]
    },
    {
     "name": "stderr",
     "output_type": "stream",
     "text": [
      "100%|██████████| 252/252 [00:03<00:00, 71.76it/s]\n",
      "100%|██████████| 28/28 [00:00<00:00, 125.53it/s]\n",
      "100%|██████████| 943/943 [00:00<00:00, 2237.88it/s]\n"
     ]
    },
    {
     "name": "stdout",
     "output_type": "stream",
     "text": [
      "Epoch 5: train loss :   0.142998   val loss :   0.127969   val score :   0.249205\n",
      "------ epoch:6 ------\n"
     ]
    },
    {
     "name": "stderr",
     "output_type": "stream",
     "text": [
      "100%|██████████| 252/252 [00:03<00:00, 73.24it/s]\n",
      "100%|██████████| 28/28 [00:00<00:00, 99.85it/s]\n",
      "100%|██████████| 943/943 [00:00<00:00, 3166.89it/s]\n"
     ]
    },
    {
     "name": "stdout",
     "output_type": "stream",
     "text": [
      "Epoch 6: train loss :   0.136246   val loss :   0.126878   val score :   0.250265\n",
      "------ epoch:7 ------\n"
     ]
    },
    {
     "name": "stderr",
     "output_type": "stream",
     "text": [
      "100%|██████████| 252/252 [00:03<00:00, 75.06it/s]\n",
      "100%|██████████| 28/28 [00:00<00:00, 140.82it/s]\n",
      "100%|██████████| 943/943 [00:00<00:00, 3199.46it/s]\n"
     ]
    },
    {
     "name": "stdout",
     "output_type": "stream",
     "text": [
      "Epoch 7: train loss :   0.132506   val loss :   0.126069   val score :   0.259809\n",
      "------ epoch:8 ------\n"
     ]
    },
    {
     "name": "stderr",
     "output_type": "stream",
     "text": [
      "100%|██████████| 252/252 [00:03<00:00, 75.14it/s]\n",
      "100%|██████████| 28/28 [00:00<00:00, 102.58it/s]\n",
      "100%|██████████| 943/943 [00:00<00:00, 3180.16it/s]\n"
     ]
    },
    {
     "name": "stdout",
     "output_type": "stream",
     "text": [
      "Epoch 8: train loss :   0.130469   val loss :   0.125487   val score :   0.266172\n",
      "------ epoch:9 ------\n"
     ]
    },
    {
     "name": "stderr",
     "output_type": "stream",
     "text": [
      "100%|██████████| 252/252 [00:03<00:00, 75.86it/s]\n",
      "100%|██████████| 28/28 [00:00<00:00, 137.97it/s]\n",
      "100%|██████████| 943/943 [00:00<00:00, 3018.19it/s]\n"
     ]
    },
    {
     "name": "stdout",
     "output_type": "stream",
     "text": [
      "Epoch 9: train loss :   0.129339   val loss :   0.125118   val score :   0.262990\n",
      "------ epoch:10 ------\n"
     ]
    },
    {
     "name": "stderr",
     "output_type": "stream",
     "text": [
      "100%|██████████| 252/252 [00:03<00:00, 72.79it/s]\n",
      "100%|██████████| 28/28 [00:00<00:00, 137.84it/s]\n",
      "100%|██████████| 943/943 [00:00<00:00, 3165.50it/s]\n"
     ]
    },
    {
     "name": "stdout",
     "output_type": "stream",
     "text": [
      "Epoch 10: train loss :   0.128678   val loss :   0.124878   val score :   0.257688\n",
      "------ epoch:11 ------\n"
     ]
    },
    {
     "name": "stderr",
     "output_type": "stream",
     "text": [
      "100%|██████████| 252/252 [00:03<00:00, 74.37it/s]\n",
      "100%|██████████| 28/28 [00:00<00:00, 103.72it/s]\n",
      "100%|██████████| 943/943 [00:00<00:00, 3146.76it/s]\n"
     ]
    },
    {
     "name": "stdout",
     "output_type": "stream",
     "text": [
      "Epoch 11: train loss :   0.128131   val loss :   0.124767   val score :   0.256628\n",
      "Epoch 00011: reducing learning rate of group 0 to 1.0000e-03.\n",
      "------ epoch:12 ------\n"
     ]
    },
    {
     "name": "stderr",
     "output_type": "stream",
     "text": [
      "100%|██████████| 252/252 [00:03<00:00, 76.16it/s]\n",
      "100%|██████████| 28/28 [00:00<00:00, 135.95it/s]\n",
      "100%|██████████| 943/943 [00:00<00:00, 3166.03it/s]\n"
     ]
    },
    {
     "name": "stdout",
     "output_type": "stream",
     "text": [
      "Epoch 12: train loss :   0.125276   val loss :   0.124729   val score :   0.256628\n",
      "------ epoch:13 ------\n"
     ]
    },
    {
     "name": "stderr",
     "output_type": "stream",
     "text": [
      "100%|██████████| 252/252 [00:03<00:00, 75.69it/s]\n",
      "100%|██████████| 28/28 [00:00<00:00, 140.23it/s]\n",
      "100%|██████████| 943/943 [00:00<00:00, 3153.00it/s]\n"
     ]
    },
    {
     "name": "stdout",
     "output_type": "stream",
     "text": [
      "Epoch 13: train loss :   0.125072   val loss :   0.124691   val score :   0.257688\n",
      "------ epoch:14 ------\n"
     ]
    },
    {
     "name": "stderr",
     "output_type": "stream",
     "text": [
      "100%|██████████| 252/252 [00:03<00:00, 75.61it/s]\n",
      "100%|██████████| 28/28 [00:00<00:00, 94.30it/s] \n",
      "100%|██████████| 943/943 [00:00<00:00, 3026.51it/s]\n"
     ]
    },
    {
     "name": "stdout",
     "output_type": "stream",
     "text": [
      "Epoch 14: train loss :   0.124881   val loss :   0.124653   val score :   0.254507\n",
      "Epoch 00014: reducing learning rate of group 0 to 1.0000e-04.\n"
     ]
    },
    {
     "name": "stderr",
     "output_type": "stream",
     "text": [
      "100%|██████████| 70/70 [00:00<00:00, 133.58it/s]\n",
      "100%|██████████| 943/943 [00:00<00:00, 3167.18it/s]\n"
     ]
    },
    {
     "name": "stdout",
     "output_type": "stream",
     "text": [
      "------ log loss of 5 fold : 0.12434690019914083 ------\n",
      "------ score of 5 fold : 0.21845174973488865 ------\n",
      "settings : percentage = 1, model type = 3\n",
      "parameters :  {'theta_clip': 0.2, 'num_users': 943, 'num_items': 1682, 'embedding_dim': 10, 'lr': 0.01, 'alpha': 0.01, 'patience': 5, 'epochs': 30, 'device': 'cuda:0', 'model_selection': True}\n",
      "------ log loss of the model : 0.12417643721614566 ------\n",
      "------ score of the model : 0.21654294803817606 ------\n"
     ]
    }
   ],
   "source": [
    "embedding_dim = 10\n",
    "lr = 1e-2\n",
    "alpha = 1e-2\n",
    "theta_clip = 0.15\n",
    "model_type = 3\n",
    "seed_everything(42)\n",
    "CrossValidation2(train, model_type=model_type, percentage=percentage, k=5, theta_clip=theta_clip,  \n",
    "                num_users=num_users, num_items=num_items, embedding_dim=embedding_dim, \n",
    "               lr=lr, alpha=alpha, patience=5, epochs=30, device=\"cuda:0\", model_selection=True)\n",
    "\n",
    "embedding_dim = 10\n",
    "lr = 1e-2\n",
    "alpha = 1e-2\n",
    "theta_clip = 0.2\n",
    "model_type = 3\n",
    "seed_everything(42)\n",
    "CrossValidation2(train, model_type=model_type, percentage=percentage, k=5, theta_clip=theta_clip,  \n",
    "                num_users=num_users, num_items=num_items, embedding_dim=embedding_dim, \n",
    "               lr=lr, alpha=alpha, patience=5, epochs=30, device=\"cuda:0\", model_selection=True)"
   ]
  },
  {
   "cell_type": "markdown",
   "id": "15b138bf-3efc-411d-9e86-4549f4bc4f44",
   "metadata": {},
   "source": [
    "### 4"
   ]
  },
  {
   "cell_type": "code",
   "execution_count": 4,
   "id": "58104cf8-3e49-492d-8072-cc12c1423fa6",
   "metadata": {
    "collapsed": true,
    "jupyter": {
     "outputs_hidden": true,
     "source_hidden": true
    },
    "tags": []
   },
   "outputs": [
    {
     "name": "stderr",
     "output_type": "stream",
     "text": [
      "100%|██████████| 943/943 [00:08<00:00, 104.86it/s]\n"
     ]
    },
    {
     "name": "stdout",
     "output_type": "stream",
     "text": [
      "------ 第1折 ------\n",
      "------ epoch:1 ------\n"
     ]
    },
    {
     "name": "stderr",
     "output_type": "stream",
     "text": [
      "100%|██████████| 252/252 [00:03<00:00, 69.36it/s]\n",
      "100%|██████████| 28/28 [00:00<00:00, 97.95it/s] \n",
      "100%|██████████| 943/943 [00:00<00:00, 2909.18it/s]\n"
     ]
    },
    {
     "name": "stdout",
     "output_type": "stream",
     "text": [
      "Epoch 1: train loss :   0.189239   val loss :   0.152382   val score :   0.232238\n",
      "------ epoch:2 ------\n"
     ]
    },
    {
     "name": "stderr",
     "output_type": "stream",
     "text": [
      "100%|██████████| 252/252 [00:03<00:00, 71.53it/s]\n",
      "100%|██████████| 28/28 [00:00<00:00, 139.75it/s]\n",
      "100%|██████████| 943/943 [00:00<00:00, 3003.66it/s]\n"
     ]
    },
    {
     "name": "stdout",
     "output_type": "stream",
     "text": [
      "Epoch 2: train loss :   0.155788   val loss :   0.152496   val score :   0.219512\n",
      "------ epoch:3 ------\n"
     ]
    },
    {
     "name": "stderr",
     "output_type": "stream",
     "text": [
      "100%|██████████| 252/252 [00:03<00:00, 68.58it/s]\n",
      "100%|██████████| 28/28 [00:00<00:00, 138.02it/s]\n",
      "100%|██████████| 943/943 [00:00<00:00, 3061.90it/s]\n"
     ]
    },
    {
     "name": "stdout",
     "output_type": "stream",
     "text": [
      "Epoch 3: train loss :   0.157129   val loss :   0.152239   val score :   0.207847\n",
      "------ epoch:4 ------\n"
     ]
    },
    {
     "name": "stderr",
     "output_type": "stream",
     "text": [
      "100%|██████████| 252/252 [00:03<00:00, 71.24it/s]\n",
      "100%|██████████| 28/28 [00:00<00:00, 101.91it/s]\n",
      "100%|██████████| 943/943 [00:00<00:00, 3059.13it/s]\n"
     ]
    },
    {
     "name": "stdout",
     "output_type": "stream",
     "text": [
      "Epoch 4: train loss :   0.157104   val loss :   0.152295   val score :   0.202545\n",
      "Epoch 00004: reducing learning rate of group 0 to 1.0000e-02.\n",
      "------ epoch:5 ------\n"
     ]
    },
    {
     "name": "stderr",
     "output_type": "stream",
     "text": [
      "100%|██████████| 252/252 [00:03<00:00, 72.03it/s]\n",
      "100%|██████████| 28/28 [00:00<00:00, 136.44it/s]\n",
      "100%|██████████| 943/943 [00:00<00:00, 3050.19it/s]\n"
     ]
    },
    {
     "name": "stdout",
     "output_type": "stream",
     "text": [
      "Epoch 5: train loss :   0.154685   val loss :   0.152185   val score :   0.248144\n",
      "------ epoch:6 ------\n"
     ]
    },
    {
     "name": "stderr",
     "output_type": "stream",
     "text": [
      "100%|██████████| 252/252 [00:03<00:00, 71.23it/s]\n",
      "100%|██████████| 28/28 [00:00<00:00, 139.53it/s]\n",
      "100%|██████████| 943/943 [00:00<00:00, 3001.19it/s]\n"
     ]
    },
    {
     "name": "stdout",
     "output_type": "stream",
     "text": [
      "Epoch 6: train loss :   0.154578   val loss :   0.152177   val score :   0.225875\n",
      "------ epoch:7 ------\n"
     ]
    },
    {
     "name": "stderr",
     "output_type": "stream",
     "text": [
      "100%|██████████| 252/252 [00:03<00:00, 71.42it/s]\n",
      "100%|██████████| 28/28 [00:00<00:00, 100.84it/s]\n",
      "100%|██████████| 943/943 [00:00<00:00, 3036.12it/s]\n"
     ]
    },
    {
     "name": "stdout",
     "output_type": "stream",
     "text": [
      "Epoch 7: train loss :   0.154553   val loss :   0.152234   val score :   0.237540\n",
      "------ epoch:8 ------\n"
     ]
    },
    {
     "name": "stderr",
     "output_type": "stream",
     "text": [
      "100%|██████████| 252/252 [00:03<00:00, 74.02it/s]\n",
      "100%|██████████| 28/28 [00:00<00:00, 132.97it/s]\n",
      "100%|██████████| 943/943 [00:00<00:00, 3044.51it/s]\n"
     ]
    },
    {
     "name": "stdout",
     "output_type": "stream",
     "text": [
      "Epoch 8: train loss :   0.154565   val loss :   0.152221   val score :   0.232238\n",
      "Epoch 00008: reducing learning rate of group 0 to 1.0000e-03.\n",
      "------ epoch:9 ------\n"
     ]
    },
    {
     "name": "stderr",
     "output_type": "stream",
     "text": [
      "100%|██████████| 252/252 [00:03<00:00, 68.31it/s]\n",
      "100%|██████████| 28/28 [00:00<00:00, 137.85it/s]\n",
      "100%|██████████| 943/943 [00:00<00:00, 3018.79it/s]\n"
     ]
    },
    {
     "name": "stdout",
     "output_type": "stream",
     "text": [
      "Epoch 9: train loss :   0.154450   val loss :   0.152178   val score :   0.264051\n",
      "------ epoch:10 ------\n"
     ]
    },
    {
     "name": "stderr",
     "output_type": "stream",
     "text": [
      "100%|██████████| 252/252 [00:03<00:00, 69.81it/s]\n",
      "100%|██████████| 28/28 [00:00<00:00, 98.49it/s] \n",
      "100%|██████████| 943/943 [00:00<00:00, 3071.60it/s]\n"
     ]
    },
    {
     "name": "stdout",
     "output_type": "stream",
     "text": [
      "Epoch 10: train loss :   0.154421   val loss :   0.152177   val score :   0.267232\n",
      "------ epoch:11 ------\n"
     ]
    },
    {
     "name": "stderr",
     "output_type": "stream",
     "text": [
      "100%|██████████| 252/252 [00:03<00:00, 72.26it/s]\n",
      "100%|██████████| 28/28 [00:00<00:00, 140.59it/s]\n",
      "100%|██████████| 943/943 [00:00<00:00, 2959.79it/s]\n"
     ]
    },
    {
     "name": "stdout",
     "output_type": "stream",
     "text": [
      "Epoch 11: train loss :   0.154383   val loss :   0.152173   val score :   0.271474\n",
      "------ epoch:12 ------\n"
     ]
    },
    {
     "name": "stderr",
     "output_type": "stream",
     "text": [
      "100%|██████████| 252/252 [00:03<00:00, 72.07it/s]\n",
      "100%|██████████| 28/28 [00:00<00:00, 139.67it/s]\n",
      "100%|██████████| 943/943 [00:00<00:00, 3040.54it/s]\n"
     ]
    },
    {
     "name": "stdout",
     "output_type": "stream",
     "text": [
      "Epoch 12: train loss :   0.154381   val loss :   0.152172   val score :   0.266172\n",
      "------ epoch:13 ------\n"
     ]
    },
    {
     "name": "stderr",
     "output_type": "stream",
     "text": [
      "100%|██████████| 252/252 [00:03<00:00, 74.99it/s]\n",
      "100%|██████████| 28/28 [00:00<00:00, 103.18it/s]\n",
      "100%|██████████| 943/943 [00:00<00:00, 3052.91it/s]\n"
     ]
    },
    {
     "name": "stdout",
     "output_type": "stream",
     "text": [
      "Epoch 13: train loss :   0.154392   val loss :   0.152167   val score :   0.267232\n",
      "------ epoch:14 ------\n"
     ]
    },
    {
     "name": "stderr",
     "output_type": "stream",
     "text": [
      "100%|██████████| 252/252 [00:03<00:00, 76.44it/s]\n",
      "100%|██████████| 28/28 [00:00<00:00, 139.99it/s]\n",
      "100%|██████████| 943/943 [00:00<00:00, 3034.97it/s]\n"
     ]
    },
    {
     "name": "stdout",
     "output_type": "stream",
     "text": [
      "Epoch 14: train loss :   0.154378   val loss :   0.152171   val score :   0.266172\n",
      "Epoch 00014: reducing learning rate of group 0 to 1.0000e-04.\n",
      "------ epoch:15 ------\n"
     ]
    },
    {
     "name": "stderr",
     "output_type": "stream",
     "text": [
      "100%|██████████| 252/252 [00:03<00:00, 77.22it/s]\n",
      "100%|██████████| 28/28 [00:00<00:00, 139.71it/s]\n",
      "100%|██████████| 943/943 [00:00<00:00, 3158.11it/s]\n"
     ]
    },
    {
     "name": "stdout",
     "output_type": "stream",
     "text": [
      "Epoch 15: train loss :   0.154313   val loss :   0.152172   val score :   0.268293\n",
      "------ epoch:16 ------\n"
     ]
    },
    {
     "name": "stderr",
     "output_type": "stream",
     "text": [
      "100%|██████████| 252/252 [00:03<00:00, 74.18it/s]\n",
      "100%|██████████| 28/28 [00:00<00:00, 104.40it/s]\n",
      "100%|██████████| 943/943 [00:00<00:00, 3138.95it/s]\n"
     ]
    },
    {
     "name": "stdout",
     "output_type": "stream",
     "text": [
      "Epoch 16: train loss :   0.154382   val loss :   0.152173   val score :   0.267232\n",
      "------ epoch:17 ------\n"
     ]
    },
    {
     "name": "stderr",
     "output_type": "stream",
     "text": [
      "100%|██████████| 252/252 [00:03<00:00, 75.16it/s]\n",
      "100%|██████████| 28/28 [00:00<00:00, 143.35it/s]\n",
      "100%|██████████| 943/943 [00:00<00:00, 3159.72it/s]\n"
     ]
    },
    {
     "name": "stdout",
     "output_type": "stream",
     "text": [
      "Epoch 17: train loss :   0.154362   val loss :   0.152174   val score :   0.268293\n",
      "Epoch 00017: reducing learning rate of group 0 to 1.0000e-05.\n"
     ]
    },
    {
     "name": "stderr",
     "output_type": "stream",
     "text": [
      "100%|██████████| 70/70 [00:00<00:00, 124.61it/s]\n",
      "100%|██████████| 943/943 [00:00<00:00, 3096.21it/s]\n"
     ]
    },
    {
     "name": "stdout",
     "output_type": "stream",
     "text": [
      "------ log loss of 1 fold : 0.1505688692842211 ------\n",
      "------ score of 1 fold : 0.22905620360551432 ------\n",
      "------ 第2折 ------\n",
      "------ epoch:1 ------\n"
     ]
    },
    {
     "name": "stderr",
     "output_type": "stream",
     "text": [
      "100%|██████████| 252/252 [00:03<00:00, 74.38it/s]\n",
      "100%|██████████| 28/28 [00:00<00:00, 137.12it/s]\n",
      "100%|██████████| 943/943 [00:00<00:00, 3105.84it/s]\n"
     ]
    },
    {
     "name": "stdout",
     "output_type": "stream",
     "text": [
      "Epoch 1: train loss :   0.189933   val loss :   0.152234   val score :   0.187699\n",
      "------ epoch:2 ------\n"
     ]
    },
    {
     "name": "stderr",
     "output_type": "stream",
     "text": [
      "100%|██████████| 252/252 [00:03<00:00, 73.08it/s]\n",
      "100%|██████████| 28/28 [00:00<00:00, 139.07it/s]\n",
      "100%|██████████| 943/943 [00:00<00:00, 3147.16it/s]\n"
     ]
    },
    {
     "name": "stdout",
     "output_type": "stream",
     "text": [
      "Epoch 2: train loss :   0.155511   val loss :   0.152301   val score :   0.174973\n",
      "------ epoch:3 ------\n"
     ]
    },
    {
     "name": "stderr",
     "output_type": "stream",
     "text": [
      "100%|██████████| 252/252 [00:03<00:00, 69.87it/s]\n",
      "100%|██████████| 28/28 [00:00<00:00, 103.41it/s]\n",
      "100%|██████████| 943/943 [00:00<00:00, 3007.39it/s]\n"
     ]
    },
    {
     "name": "stdout",
     "output_type": "stream",
     "text": [
      "Epoch 3: train loss :   0.156806   val loss :   0.152355   val score :   0.186638\n",
      "------ epoch:4 ------\n"
     ]
    },
    {
     "name": "stderr",
     "output_type": "stream",
     "text": [
      "100%|██████████| 252/252 [00:03<00:00, 71.74it/s]\n",
      "100%|██████████| 28/28 [00:00<00:00, 136.46it/s]\n",
      "100%|██████████| 943/943 [00:00<00:00, 3019.91it/s]\n"
     ]
    },
    {
     "name": "stdout",
     "output_type": "stream",
     "text": [
      "Epoch 4: train loss :   0.156751   val loss :   0.152397   val score :   0.188759\n",
      "------ epoch:5 ------\n"
     ]
    },
    {
     "name": "stderr",
     "output_type": "stream",
     "text": [
      "100%|██████████| 252/252 [00:03<00:00, 73.64it/s]\n",
      "100%|██████████| 28/28 [00:00<00:00, 138.24it/s]\n",
      "100%|██████████| 943/943 [00:00<00:00, 3094.58it/s]\n"
     ]
    },
    {
     "name": "stdout",
     "output_type": "stream",
     "text": [
      "Epoch 5: train loss :   0.156973   val loss :   0.152086   val score :   0.183457\n",
      "------ epoch:6 ------\n"
     ]
    },
    {
     "name": "stderr",
     "output_type": "stream",
     "text": [
      "100%|██████████| 252/252 [00:03<00:00, 72.51it/s]\n",
      "100%|██████████| 28/28 [00:00<00:00, 138.09it/s]\n",
      "100%|██████████| 943/943 [00:00<00:00, 3109.88it/s]\n"
     ]
    },
    {
     "name": "stdout",
     "output_type": "stream",
     "text": [
      "Epoch 6: train loss :   0.157146   val loss :   0.152312   val score :   0.172853\n",
      "------ epoch:7 ------\n"
     ]
    },
    {
     "name": "stderr",
     "output_type": "stream",
     "text": [
      "100%|██████████| 252/252 [00:03<00:00, 72.73it/s]\n",
      "100%|██████████| 28/28 [00:00<00:00, 136.57it/s]\n",
      "100%|██████████| 943/943 [00:00<00:00, 3027.33it/s]\n"
     ]
    },
    {
     "name": "stdout",
     "output_type": "stream",
     "text": [
      "Epoch 7: train loss :   0.157084   val loss :   0.152182   val score :   0.168611\n",
      "Epoch 00007: reducing learning rate of group 0 to 1.0000e-02.\n",
      "------ epoch:8 ------\n"
     ]
    },
    {
     "name": "stderr",
     "output_type": "stream",
     "text": [
      "100%|██████████| 252/252 [00:03<00:00, 71.16it/s]\n",
      "100%|██████████| 28/28 [00:00<00:00, 137.09it/s]\n",
      "100%|██████████| 943/943 [00:00<00:00, 3016.68it/s]\n"
     ]
    },
    {
     "name": "stdout",
     "output_type": "stream",
     "text": [
      "Epoch 8: train loss :   0.154488   val loss :   0.152069   val score :   0.215270\n",
      "------ epoch:9 ------\n"
     ]
    },
    {
     "name": "stderr",
     "output_type": "stream",
     "text": [
      "100%|██████████| 252/252 [00:03<00:00, 70.28it/s]\n",
      "100%|██████████| 28/28 [00:00<00:00, 137.98it/s]\n",
      "100%|██████████| 943/943 [00:00<00:00, 2944.73it/s]\n"
     ]
    },
    {
     "name": "stdout",
     "output_type": "stream",
     "text": [
      "Epoch 9: train loss :   0.154323   val loss :   0.152058   val score :   0.220573\n",
      "------ epoch:10 ------\n"
     ]
    },
    {
     "name": "stderr",
     "output_type": "stream",
     "text": [
      "100%|██████████| 252/252 [00:03<00:00, 73.13it/s]\n",
      "100%|██████████| 28/28 [00:00<00:00, 135.97it/s]\n",
      "100%|██████████| 943/943 [00:00<00:00, 3070.97it/s]\n"
     ]
    },
    {
     "name": "stdout",
     "output_type": "stream",
     "text": [
      "Epoch 10: train loss :   0.154360   val loss :   0.152128   val score :   0.217391\n",
      "------ epoch:11 ------\n"
     ]
    },
    {
     "name": "stderr",
     "output_type": "stream",
     "text": [
      "100%|██████████| 252/252 [00:03<00:00, 72.64it/s]\n",
      "100%|██████████| 28/28 [00:00<00:00, 138.32it/s]\n",
      "100%|██████████| 943/943 [00:00<00:00, 3064.25it/s]\n"
     ]
    },
    {
     "name": "stdout",
     "output_type": "stream",
     "text": [
      "Epoch 11: train loss :   0.154335   val loss :   0.152127   val score :   0.208908\n",
      "------ epoch:12 ------\n"
     ]
    },
    {
     "name": "stderr",
     "output_type": "stream",
     "text": [
      "100%|██████████| 252/252 [00:03<00:00, 71.52it/s]\n",
      "100%|██████████| 28/28 [00:00<00:00, 136.67it/s]\n",
      "100%|██████████| 943/943 [00:00<00:00, 3065.37it/s]\n"
     ]
    },
    {
     "name": "stdout",
     "output_type": "stream",
     "text": [
      "Epoch 12: train loss :   0.154348   val loss :   0.152099   val score :   0.229056\n",
      "------ epoch:13 ------\n"
     ]
    },
    {
     "name": "stderr",
     "output_type": "stream",
     "text": [
      "100%|██████████| 252/252 [00:03<00:00, 71.16it/s]\n",
      "100%|██████████| 28/28 [00:00<00:00, 136.76it/s]\n",
      "100%|██████████| 943/943 [00:00<00:00, 2638.05it/s]\n"
     ]
    },
    {
     "name": "stdout",
     "output_type": "stream",
     "text": [
      "Epoch 13: train loss :   0.154331   val loss :   0.152095   val score :   0.207847\n",
      "------ epoch:14 ------\n"
     ]
    },
    {
     "name": "stderr",
     "output_type": "stream",
     "text": [
      "100%|██████████| 252/252 [00:03<00:00, 66.16it/s]\n",
      "100%|██████████| 28/28 [00:00<00:00, 132.82it/s]\n",
      "100%|██████████| 943/943 [00:00<00:00, 2984.26it/s]\n"
     ]
    },
    {
     "name": "stdout",
     "output_type": "stream",
     "text": [
      "Epoch 14: train loss :   0.154316   val loss :   0.152033   val score :   0.221633\n",
      "------ epoch:15 ------\n"
     ]
    },
    {
     "name": "stderr",
     "output_type": "stream",
     "text": [
      "100%|██████████| 252/252 [00:03<00:00, 75.05it/s]\n",
      "100%|██████████| 28/28 [00:00<00:00, 139.66it/s]\n",
      "100%|██████████| 943/943 [00:00<00:00, 3138.65it/s]\n"
     ]
    },
    {
     "name": "stdout",
     "output_type": "stream",
     "text": [
      "Epoch 15: train loss :   0.154322   val loss :   0.152156   val score :   0.217391\n",
      "Epoch 00015: reducing learning rate of group 0 to 1.0000e-03.\n",
      "------ epoch:16 ------\n"
     ]
    },
    {
     "name": "stderr",
     "output_type": "stream",
     "text": [
      "100%|██████████| 252/252 [00:03<00:00, 78.86it/s]\n",
      "100%|██████████| 28/28 [00:00<00:00, 128.58it/s]\n",
      "100%|██████████| 943/943 [00:00<00:00, 3136.55it/s]\n"
     ]
    },
    {
     "name": "stdout",
     "output_type": "stream",
     "text": [
      "Epoch 16: train loss :   0.154208   val loss :   0.152109   val score :   0.234358\n",
      "------ epoch:17 ------\n"
     ]
    },
    {
     "name": "stderr",
     "output_type": "stream",
     "text": [
      "100%|██████████| 252/252 [00:03<00:00, 74.57it/s]\n",
      "100%|██████████| 28/28 [00:00<00:00, 102.29it/s]\n",
      "100%|██████████| 943/943 [00:00<00:00, 3130.25it/s]\n"
     ]
    },
    {
     "name": "stdout",
     "output_type": "stream",
     "text": [
      "Epoch 17: train loss :   0.154151   val loss :   0.152093   val score :   0.237540\n",
      "------ epoch:18 ------\n"
     ]
    },
    {
     "name": "stderr",
     "output_type": "stream",
     "text": [
      "100%|██████████| 252/252 [00:03<00:00, 72.07it/s]\n",
      "100%|██████████| 28/28 [00:00<00:00, 139.80it/s]\n",
      "100%|██████████| 943/943 [00:00<00:00, 2729.56it/s]\n"
     ]
    },
    {
     "name": "stdout",
     "output_type": "stream",
     "text": [
      "Epoch 18: train loss :   0.154174   val loss :   0.152089   val score :   0.236479\n",
      "------ epoch:19 ------\n"
     ]
    },
    {
     "name": "stderr",
     "output_type": "stream",
     "text": [
      "100%|██████████| 252/252 [00:03<00:00, 71.12it/s]\n",
      "100%|██████████| 28/28 [00:00<00:00, 132.25it/s]\n",
      "100%|██████████| 943/943 [00:00<00:00, 3039.81it/s]\n"
     ]
    },
    {
     "name": "stdout",
     "output_type": "stream",
     "text": [
      "Epoch 19: train loss :   0.154144   val loss :   0.152078   val score :   0.237540\n",
      "------ epoch:20 ------\n"
     ]
    },
    {
     "name": "stderr",
     "output_type": "stream",
     "text": [
      "100%|██████████| 252/252 [00:03<00:00, 74.70it/s]\n",
      "100%|██████████| 28/28 [00:00<00:00, 101.75it/s]\n",
      "100%|██████████| 943/943 [00:00<00:00, 3072.19it/s]\n"
     ]
    },
    {
     "name": "stdout",
     "output_type": "stream",
     "text": [
      "Epoch 20: train loss :   0.154158   val loss :   0.152089   val score :   0.240721\n",
      "------ epoch:21 ------\n"
     ]
    },
    {
     "name": "stderr",
     "output_type": "stream",
     "text": [
      "100%|██████████| 252/252 [00:03<00:00, 75.31it/s]\n",
      "100%|██████████| 28/28 [00:00<00:00, 138.27it/s]\n",
      "100%|██████████| 943/943 [00:00<00:00, 3090.29it/s]\n"
     ]
    },
    {
     "name": "stdout",
     "output_type": "stream",
     "text": [
      "Epoch 21: train loss :   0.154140   val loss :   0.152083   val score :   0.238600\n",
      "------ epoch:22 ------\n"
     ]
    },
    {
     "name": "stderr",
     "output_type": "stream",
     "text": [
      "100%|██████████| 252/252 [00:03<00:00, 75.23it/s]\n",
      "100%|██████████| 28/28 [00:00<00:00, 139.32it/s]\n",
      "100%|██████████| 943/943 [00:00<00:00, 3091.83it/s]\n"
     ]
    },
    {
     "name": "stdout",
     "output_type": "stream",
     "text": [
      "Epoch 22: train loss :   0.154171   val loss :   0.152082   val score :   0.239661\n",
      "------ epoch:23 ------\n"
     ]
    },
    {
     "name": "stderr",
     "output_type": "stream",
     "text": [
      "100%|██████████| 252/252 [00:03<00:00, 73.13it/s]\n",
      "100%|██████████| 28/28 [00:00<00:00, 103.22it/s]\n",
      "100%|██████████| 943/943 [00:00<00:00, 3051.31it/s]\n"
     ]
    },
    {
     "name": "stdout",
     "output_type": "stream",
     "text": [
      "Epoch 23: train loss :   0.154158   val loss :   0.152084   val score :   0.237540\n",
      "Epoch 00023: reducing learning rate of group 0 to 1.0000e-04.\n",
      "------ epoch:24 ------\n"
     ]
    },
    {
     "name": "stderr",
     "output_type": "stream",
     "text": [
      "100%|██████████| 252/252 [00:03<00:00, 73.60it/s]\n",
      "100%|██████████| 28/28 [00:00<00:00, 139.27it/s]\n",
      "100%|██████████| 943/943 [00:00<00:00, 2978.13it/s]\n"
     ]
    },
    {
     "name": "stdout",
     "output_type": "stream",
     "text": [
      "Epoch 24: train loss :   0.154151   val loss :   0.152082   val score :   0.235419\n",
      "------ epoch:25 ------\n"
     ]
    },
    {
     "name": "stderr",
     "output_type": "stream",
     "text": [
      "100%|██████████| 252/252 [00:03<00:00, 74.92it/s]\n",
      "100%|██████████| 28/28 [00:00<00:00, 139.82it/s]\n",
      "100%|██████████| 943/943 [00:00<00:00, 3100.25it/s]\n"
     ]
    },
    {
     "name": "stdout",
     "output_type": "stream",
     "text": [
      "Epoch 25: train loss :   0.154116   val loss :   0.152082   val score :   0.239661\n",
      "------ epoch:26 ------\n"
     ]
    },
    {
     "name": "stderr",
     "output_type": "stream",
     "text": [
      "100%|██████████| 252/252 [00:03<00:00, 74.65it/s]\n",
      "100%|██████████| 28/28 [00:00<00:00, 102.63it/s]\n",
      "100%|██████████| 943/943 [00:00<00:00, 3042.26it/s]\n"
     ]
    },
    {
     "name": "stdout",
     "output_type": "stream",
     "text": [
      "Epoch 26: train loss :   0.154102   val loss :   0.152081   val score :   0.239661\n",
      "Epoch 00026: reducing learning rate of group 0 to 1.0000e-05.\n"
     ]
    },
    {
     "name": "stderr",
     "output_type": "stream",
     "text": [
      "100%|██████████| 70/70 [00:00<00:00, 137.12it/s]\n",
      "100%|██████████| 943/943 [00:00<00:00, 3011.23it/s]\n"
     ]
    },
    {
     "name": "stdout",
     "output_type": "stream",
     "text": [
      "------ log loss of 2 fold : 0.15137888682740075 ------\n",
      "------ score of 2 fold : 0.22163308589607636 ------\n",
      "------ 第3折 ------\n",
      "------ epoch:1 ------\n"
     ]
    },
    {
     "name": "stderr",
     "output_type": "stream",
     "text": [
      "100%|██████████| 252/252 [00:03<00:00, 74.76it/s]\n",
      "100%|██████████| 28/28 [00:00<00:00, 99.43it/s] \n",
      "100%|██████████| 943/943 [00:00<00:00, 2884.13it/s]\n"
     ]
    },
    {
     "name": "stdout",
     "output_type": "stream",
     "text": [
      "Epoch 1: train loss :   0.189307   val loss :   0.151306   val score :   0.183457\n",
      "------ epoch:2 ------\n"
     ]
    },
    {
     "name": "stderr",
     "output_type": "stream",
     "text": [
      "100%|██████████| 252/252 [00:03<00:00, 71.60it/s]\n",
      "100%|██████████| 28/28 [00:00<00:00, 129.96it/s]\n",
      "100%|██████████| 943/943 [00:00<00:00, 2962.85it/s]\n"
     ]
    },
    {
     "name": "stdout",
     "output_type": "stream",
     "text": [
      "Epoch 2: train loss :   0.155563   val loss :   0.151347   val score :   0.188759\n",
      "------ epoch:3 ------\n"
     ]
    },
    {
     "name": "stderr",
     "output_type": "stream",
     "text": [
      "100%|██████████| 252/252 [00:03<00:00, 82.71it/s] \n",
      "100%|██████████| 28/28 [00:00<00:00, 136.04it/s]\n",
      "100%|██████████| 943/943 [00:00<00:00, 3038.73it/s]\n"
     ]
    },
    {
     "name": "stdout",
     "output_type": "stream",
     "text": [
      "Epoch 3: train loss :   0.156772   val loss :   0.151232   val score :   0.194062\n",
      "------ epoch:4 ------\n"
     ]
    },
    {
     "name": "stderr",
     "output_type": "stream",
     "text": [
      "100%|██████████| 252/252 [00:02<00:00, 90.85it/s] \n",
      "100%|██████████| 28/28 [00:00<00:00, 102.07it/s]\n",
      "100%|██████████| 943/943 [00:00<00:00, 3051.54it/s]\n"
     ]
    },
    {
     "name": "stdout",
     "output_type": "stream",
     "text": [
      "Epoch 4: train loss :   0.156823   val loss :   0.151479   val score :   0.178155\n",
      "------ epoch:5 ------\n"
     ]
    },
    {
     "name": "stderr",
     "output_type": "stream",
     "text": [
      "100%|██████████| 252/252 [00:03<00:00, 78.88it/s]\n",
      "100%|██████████| 28/28 [00:00<00:00, 137.17it/s]\n",
      "100%|██████████| 943/943 [00:00<00:00, 3073.50it/s]\n"
     ]
    },
    {
     "name": "stdout",
     "output_type": "stream",
     "text": [
      "Epoch 5: train loss :   0.156852   val loss :   0.151299   val score :   0.168611\n",
      "------ epoch:6 ------\n"
     ]
    },
    {
     "name": "stderr",
     "output_type": "stream",
     "text": [
      "100%|██████████| 252/252 [00:03<00:00, 72.52it/s]\n",
      "100%|██████████| 28/28 [00:00<00:00, 136.89it/s]\n",
      "100%|██████████| 943/943 [00:00<00:00, 3061.92it/s]\n"
     ]
    },
    {
     "name": "stdout",
     "output_type": "stream",
     "text": [
      "Epoch 6: train loss :   0.157189   val loss :   0.151467   val score :   0.177094\n",
      "Epoch 00006: reducing learning rate of group 0 to 1.0000e-02.\n",
      "------ epoch:7 ------\n"
     ]
    },
    {
     "name": "stderr",
     "output_type": "stream",
     "text": [
      "100%|██████████| 252/252 [00:03<00:00, 72.01it/s]\n",
      "100%|██████████| 28/28 [00:00<00:00, 101.33it/s]\n",
      "100%|██████████| 943/943 [00:00<00:00, 2971.43it/s]\n"
     ]
    },
    {
     "name": "stdout",
     "output_type": "stream",
     "text": [
      "Epoch 7: train loss :   0.154435   val loss :   0.151120   val score :   0.255567\n",
      "------ epoch:8 ------\n"
     ]
    },
    {
     "name": "stderr",
     "output_type": "stream",
     "text": [
      "100%|██████████| 252/252 [00:03<00:00, 73.37it/s]\n",
      "100%|██████████| 28/28 [00:00<00:00, 138.44it/s]\n",
      "100%|██████████| 943/943 [00:00<00:00, 3030.63it/s]\n"
     ]
    },
    {
     "name": "stdout",
     "output_type": "stream",
     "text": [
      "Epoch 8: train loss :   0.154247   val loss :   0.151088   val score :   0.236479\n",
      "------ epoch:9 ------\n"
     ]
    },
    {
     "name": "stderr",
     "output_type": "stream",
     "text": [
      "100%|██████████| 252/252 [00:03<00:00, 74.29it/s]\n",
      "100%|██████████| 28/28 [00:00<00:00, 136.82it/s]\n",
      "100%|██████████| 943/943 [00:00<00:00, 3054.18it/s]\n"
     ]
    },
    {
     "name": "stdout",
     "output_type": "stream",
     "text": [
      "Epoch 9: train loss :   0.154280   val loss :   0.151111   val score :   0.240721\n",
      "------ epoch:10 ------\n"
     ]
    },
    {
     "name": "stderr",
     "output_type": "stream",
     "text": [
      "100%|██████████| 252/252 [00:03<00:00, 73.81it/s]\n",
      "100%|██████████| 28/28 [00:00<00:00, 92.06it/s]\n",
      "100%|██████████| 943/943 [00:00<00:00, 3040.98it/s]\n"
     ]
    },
    {
     "name": "stdout",
     "output_type": "stream",
     "text": [
      "Epoch 10: train loss :   0.154282   val loss :   0.151138   val score :   0.232238\n",
      "Epoch 00010: reducing learning rate of group 0 to 1.0000e-03.\n",
      "------ epoch:11 ------\n"
     ]
    },
    {
     "name": "stderr",
     "output_type": "stream",
     "text": [
      "100%|██████████| 252/252 [00:04<00:00, 62.58it/s]\n",
      "100%|██████████| 28/28 [00:00<00:00, 123.18it/s]\n",
      "100%|██████████| 943/943 [00:00<00:00, 2934.03it/s]\n"
     ]
    },
    {
     "name": "stdout",
     "output_type": "stream",
     "text": [
      "Epoch 11: train loss :   0.154164   val loss :   0.151097   val score :   0.242842\n",
      "------ epoch:12 ------\n"
     ]
    },
    {
     "name": "stderr",
     "output_type": "stream",
     "text": [
      "100%|██████████| 252/252 [00:03<00:00, 66.27it/s]\n",
      "100%|██████████| 28/28 [00:00<00:00, 122.70it/s]\n",
      "100%|██████████| 943/943 [00:00<00:00, 2895.72it/s]\n"
     ]
    },
    {
     "name": "stdout",
     "output_type": "stream",
     "text": [
      "Epoch 12: train loss :   0.154090   val loss :   0.151084   val score :   0.253446\n",
      "------ epoch:13 ------\n"
     ]
    },
    {
     "name": "stderr",
     "output_type": "stream",
     "text": [
      "100%|██████████| 252/252 [00:03<00:00, 63.74it/s]\n",
      "100%|██████████| 28/28 [00:00<00:00, 89.94it/s]\n",
      "100%|██████████| 943/943 [00:00<00:00, 2448.13it/s]\n"
     ]
    },
    {
     "name": "stdout",
     "output_type": "stream",
     "text": [
      "Epoch 13: train loss :   0.154143   val loss :   0.151084   val score :   0.260870\n",
      "------ epoch:14 ------\n"
     ]
    },
    {
     "name": "stderr",
     "output_type": "stream",
     "text": [
      "100%|██████████| 252/252 [00:03<00:00, 67.58it/s]\n",
      "100%|██████████| 28/28 [00:00<00:00, 129.97it/s]\n",
      "100%|██████████| 943/943 [00:00<00:00, 2291.55it/s]\n"
     ]
    },
    {
     "name": "stdout",
     "output_type": "stream",
     "text": [
      "Epoch 14: train loss :   0.154087   val loss :   0.151082   val score :   0.252386\n",
      "------ epoch:15 ------\n"
     ]
    },
    {
     "name": "stderr",
     "output_type": "stream",
     "text": [
      "100%|██████████| 252/252 [00:03<00:00, 66.01it/s]\n",
      "100%|██████████| 28/28 [00:00<00:00, 133.38it/s]\n",
      "100%|██████████| 943/943 [00:00<00:00, 2507.28it/s]\n"
     ]
    },
    {
     "name": "stdout",
     "output_type": "stream",
     "text": [
      "Epoch 15: train loss :   0.154110   val loss :   0.151084   val score :   0.260870\n",
      "------ epoch:16 ------\n"
     ]
    },
    {
     "name": "stderr",
     "output_type": "stream",
     "text": [
      "100%|██████████| 252/252 [00:03<00:00, 72.29it/s]\n",
      "100%|██████████| 28/28 [00:00<00:00, 98.28it/s]\n",
      "100%|██████████| 943/943 [00:00<00:00, 2396.16it/s]\n"
     ]
    },
    {
     "name": "stdout",
     "output_type": "stream",
     "text": [
      "Epoch 16: train loss :   0.154119   val loss :   0.151080   val score :   0.257688\n",
      "Epoch 00016: reducing learning rate of group 0 to 1.0000e-04.\n",
      "------ epoch:17 ------\n"
     ]
    },
    {
     "name": "stderr",
     "output_type": "stream",
     "text": [
      "100%|██████████| 252/252 [00:03<00:00, 72.12it/s]\n",
      "100%|██████████| 28/28 [00:00<00:00, 133.35it/s]\n",
      "100%|██████████| 943/943 [00:00<00:00, 2527.77it/s]\n"
     ]
    },
    {
     "name": "stdout",
     "output_type": "stream",
     "text": [
      "Epoch 17: train loss :   0.154105   val loss :   0.151081   val score :   0.259809\n",
      "------ epoch:18 ------\n"
     ]
    },
    {
     "name": "stderr",
     "output_type": "stream",
     "text": [
      "100%|██████████| 252/252 [00:03<00:00, 73.04it/s]\n",
      "100%|██████████| 28/28 [00:00<00:00, 101.07it/s]\n",
      "100%|██████████| 943/943 [00:00<00:00, 2399.62it/s]\n"
     ]
    },
    {
     "name": "stdout",
     "output_type": "stream",
     "text": [
      "Epoch 18: train loss :   0.154098   val loss :   0.151081   val score :   0.259809\n",
      "------ epoch:19 ------\n"
     ]
    },
    {
     "name": "stderr",
     "output_type": "stream",
     "text": [
      "100%|██████████| 252/252 [00:03<00:00, 73.88it/s]\n",
      "100%|██████████| 28/28 [00:00<00:00, 134.05it/s]\n",
      "100%|██████████| 943/943 [00:00<00:00, 2390.15it/s]\n"
     ]
    },
    {
     "name": "stdout",
     "output_type": "stream",
     "text": [
      "Epoch 19: train loss :   0.154096   val loss :   0.151081   val score :   0.260870\n",
      "Epoch 00019: reducing learning rate of group 0 to 1.0000e-05.\n"
     ]
    },
    {
     "name": "stderr",
     "output_type": "stream",
     "text": [
      "100%|██████████| 70/70 [00:00<00:00, 117.24it/s]\n",
      "100%|██████████| 943/943 [00:00<00:00, 2112.73it/s]\n"
     ]
    },
    {
     "name": "stdout",
     "output_type": "stream",
     "text": [
      "------ log loss of 3 fold : 0.1519387634737151 ------\n",
      "------ score of 3 fold : 0.2417815482502651 ------\n",
      "------ 第4折 ------\n",
      "------ epoch:1 ------\n"
     ]
    },
    {
     "name": "stderr",
     "output_type": "stream",
     "text": [
      "100%|██████████| 252/252 [00:03<00:00, 72.58it/s]\n",
      "100%|██████████| 28/28 [00:00<00:00, 132.89it/s]\n",
      "100%|██████████| 943/943 [00:00<00:00, 2533.74it/s]\n"
     ]
    },
    {
     "name": "stdout",
     "output_type": "stream",
     "text": [
      "Epoch 1: train loss :   0.189842   val loss :   0.152071   val score :   0.200424\n",
      "------ epoch:2 ------\n"
     ]
    },
    {
     "name": "stderr",
     "output_type": "stream",
     "text": [
      "100%|██████████| 252/252 [00:03<00:00, 69.49it/s]\n",
      "100%|██████████| 28/28 [00:00<00:00, 133.91it/s]\n",
      "100%|██████████| 943/943 [00:00<00:00, 2272.51it/s]\n"
     ]
    },
    {
     "name": "stdout",
     "output_type": "stream",
     "text": [
      "Epoch 2: train loss :   0.155712   val loss :   0.151888   val score :   0.181336\n",
      "------ epoch:3 ------\n"
     ]
    },
    {
     "name": "stderr",
     "output_type": "stream",
     "text": [
      "100%|██████████| 252/252 [00:03<00:00, 71.54it/s]\n",
      "100%|██████████| 28/28 [00:00<00:00, 98.09it/s] \n",
      "100%|██████████| 943/943 [00:00<00:00, 2539.81it/s]\n"
     ]
    },
    {
     "name": "stdout",
     "output_type": "stream",
     "text": [
      "Epoch 3: train loss :   0.156973   val loss :   0.152078   val score :   0.179215\n",
      "------ epoch:4 ------\n"
     ]
    },
    {
     "name": "stderr",
     "output_type": "stream",
     "text": [
      "100%|██████████| 252/252 [00:03<00:00, 72.44it/s]\n",
      "100%|██████████| 28/28 [00:00<00:00, 131.99it/s]\n",
      "100%|██████████| 943/943 [00:00<00:00, 2419.41it/s]\n"
     ]
    },
    {
     "name": "stdout",
     "output_type": "stream",
     "text": [
      "Epoch 4: train loss :   0.156973   val loss :   0.151989   val score :   0.211029\n",
      "------ epoch:5 ------\n"
     ]
    },
    {
     "name": "stderr",
     "output_type": "stream",
     "text": [
      "100%|██████████| 252/252 [00:03<00:00, 72.11it/s]\n",
      "100%|██████████| 28/28 [00:00<00:00, 135.49it/s]\n",
      "100%|██████████| 943/943 [00:00<00:00, 2261.80it/s]\n"
     ]
    },
    {
     "name": "stdout",
     "output_type": "stream",
     "text": [
      "Epoch 5: train loss :   0.157057   val loss :   0.152033   val score :   0.179215\n",
      "------ epoch:6 ------\n"
     ]
    },
    {
     "name": "stderr",
     "output_type": "stream",
     "text": [
      "100%|██████████| 252/252 [00:03<00:00, 73.45it/s]\n",
      "100%|██████████| 28/28 [00:00<00:00, 101.04it/s]\n",
      "100%|██████████| 943/943 [00:00<00:00, 2404.08it/s]\n"
     ]
    },
    {
     "name": "stdout",
     "output_type": "stream",
     "text": [
      "Epoch 6: train loss :   0.157279   val loss :   0.151867   val score :   0.183457\n",
      "------ epoch:7 ------\n"
     ]
    },
    {
     "name": "stderr",
     "output_type": "stream",
     "text": [
      "100%|██████████| 252/252 [00:03<00:00, 71.96it/s]\n",
      "100%|██████████| 28/28 [00:00<00:00, 134.39it/s]\n",
      "100%|██████████| 943/943 [00:00<00:00, 2384.20it/s]\n"
     ]
    },
    {
     "name": "stdout",
     "output_type": "stream",
     "text": [
      "Epoch 7: train loss :   0.157235   val loss :   0.151759   val score :   0.199364\n",
      "Epoch 00007: reducing learning rate of group 0 to 1.0000e-02.\n",
      "------ epoch:8 ------\n"
     ]
    },
    {
     "name": "stderr",
     "output_type": "stream",
     "text": [
      "100%|██████████| 252/252 [00:03<00:00, 72.62it/s]\n",
      "100%|██████████| 28/28 [00:00<00:00, 132.63it/s]\n",
      "100%|██████████| 943/943 [00:00<00:00, 2265.27it/s]\n"
     ]
    },
    {
     "name": "stdout",
     "output_type": "stream",
     "text": [
      "Epoch 8: train loss :   0.154567   val loss :   0.151715   val score :   0.236479\n",
      "------ epoch:9 ------\n"
     ]
    },
    {
     "name": "stderr",
     "output_type": "stream",
     "text": [
      "100%|██████████| 252/252 [00:04<00:00, 55.65it/s]\n",
      "100%|██████████| 28/28 [00:00<00:00, 79.16it/s]\n",
      "100%|██████████| 943/943 [00:00<00:00, 2035.30it/s]\n"
     ]
    },
    {
     "name": "stdout",
     "output_type": "stream",
     "text": [
      "Epoch 9: train loss :   0.154432   val loss :   0.151689   val score :   0.223754\n",
      "------ epoch:10 ------\n"
     ]
    },
    {
     "name": "stderr",
     "output_type": "stream",
     "text": [
      "100%|██████████| 252/252 [00:06<00:00, 39.35it/s]\n",
      "100%|██████████| 28/28 [00:01<00:00, 19.80it/s]\n",
      "100%|██████████| 943/943 [00:01<00:00, 626.55it/s]\n"
     ]
    },
    {
     "name": "stdout",
     "output_type": "stream",
     "text": [
      "Epoch 10: train loss :   0.154482   val loss :   0.151759   val score :   0.235419\n",
      "------ epoch:11 ------\n"
     ]
    },
    {
     "name": "stderr",
     "output_type": "stream",
     "text": [
      "100%|██████████| 252/252 [00:05<00:00, 48.53it/s]\n",
      "100%|██████████| 28/28 [00:00<00:00, 130.52it/s]\n",
      "100%|██████████| 943/943 [00:00<00:00, 2114.06it/s]\n"
     ]
    },
    {
     "name": "stdout",
     "output_type": "stream",
     "text": [
      "Epoch 11: train loss :   0.154446   val loss :   0.151698   val score :   0.239661\n",
      "------ epoch:12 ------\n"
     ]
    },
    {
     "name": "stderr",
     "output_type": "stream",
     "text": [
      "100%|██████████| 252/252 [00:03<00:00, 71.33it/s]\n",
      "100%|██████████| 28/28 [00:00<00:00, 95.66it/s]\n",
      "100%|██████████| 943/943 [00:00<00:00, 2173.72it/s]\n"
     ]
    },
    {
     "name": "stdout",
     "output_type": "stream",
     "text": [
      "Epoch 12: train loss :   0.154466   val loss :   0.151776   val score :   0.225875\n",
      "------ epoch:13 ------\n"
     ]
    },
    {
     "name": "stderr",
     "output_type": "stream",
     "text": [
      "100%|██████████| 252/252 [00:03<00:00, 72.17it/s]\n",
      "100%|██████████| 28/28 [00:00<00:00, 131.96it/s]\n",
      "100%|██████████| 943/943 [00:00<00:00, 2116.47it/s]\n"
     ]
    },
    {
     "name": "stdout",
     "output_type": "stream",
     "text": [
      "Epoch 13: train loss :   0.154468   val loss :   0.151798   val score :   0.225875\n",
      "------ epoch:14 ------\n"
     ]
    },
    {
     "name": "stderr",
     "output_type": "stream",
     "text": [
      "100%|██████████| 252/252 [00:03<00:00, 70.75it/s]\n",
      "100%|██████████| 28/28 [00:00<00:00, 126.14it/s]\n",
      "100%|██████████| 943/943 [00:00<00:00, 2094.30it/s]\n"
     ]
    },
    {
     "name": "stdout",
     "output_type": "stream",
     "text": [
      "Epoch 14: train loss :   0.154432   val loss :   0.151803   val score :   0.232238\n",
      "Epoch 00014: reducing learning rate of group 0 to 1.0000e-03.\n",
      "------ epoch:15 ------\n"
     ]
    },
    {
     "name": "stderr",
     "output_type": "stream",
     "text": [
      "100%|██████████| 252/252 [00:03<00:00, 66.51it/s]\n",
      "100%|██████████| 28/28 [00:00<00:00, 88.85it/s]\n",
      "100%|██████████| 943/943 [00:00<00:00, 1322.14it/s]\n"
     ]
    },
    {
     "name": "stdout",
     "output_type": "stream",
     "text": [
      "Epoch 15: train loss :   0.154365   val loss :   0.151748   val score :   0.251326\n",
      "------ epoch:16 ------\n"
     ]
    },
    {
     "name": "stderr",
     "output_type": "stream",
     "text": [
      "100%|██████████| 252/252 [00:03<00:00, 66.16it/s]\n",
      "100%|██████████| 28/28 [00:00<00:00, 128.93it/s]\n",
      "100%|██████████| 943/943 [00:00<00:00, 1587.27it/s]\n"
     ]
    },
    {
     "name": "stdout",
     "output_type": "stream",
     "text": [
      "Epoch 16: train loss :   0.154280   val loss :   0.151734   val score :   0.259809\n",
      "------ epoch:17 ------\n"
     ]
    },
    {
     "name": "stderr",
     "output_type": "stream",
     "text": [
      "100%|██████████| 252/252 [00:03<00:00, 66.28it/s]\n",
      "100%|██████████| 28/28 [00:00<00:00, 125.90it/s]\n",
      "100%|██████████| 943/943 [00:00<00:00, 1550.60it/s]\n"
     ]
    },
    {
     "name": "stdout",
     "output_type": "stream",
     "text": [
      "Epoch 17: train loss :   0.154268   val loss :   0.151718   val score :   0.260870\n",
      "------ epoch:18 ------\n"
     ]
    },
    {
     "name": "stderr",
     "output_type": "stream",
     "text": [
      "100%|██████████| 252/252 [00:04<00:00, 61.19it/s]\n",
      "100%|██████████| 28/28 [00:00<00:00, 74.79it/s] \n",
      "100%|██████████| 943/943 [00:00<00:00, 1215.18it/s]\n"
     ]
    },
    {
     "name": "stdout",
     "output_type": "stream",
     "text": [
      "Epoch 18: train loss :   0.154260   val loss :   0.151717   val score :   0.257688\n",
      "------ epoch:19 ------\n"
     ]
    },
    {
     "name": "stderr",
     "output_type": "stream",
     "text": [
      "100%|██████████| 252/252 [00:03<00:00, 69.85it/s]\n",
      "100%|██████████| 28/28 [00:00<00:00, 124.77it/s]\n",
      "100%|██████████| 943/943 [00:01<00:00, 901.43it/s] \n"
     ]
    },
    {
     "name": "stdout",
     "output_type": "stream",
     "text": [
      "Epoch 19: train loss :   0.154253   val loss :   0.151729   val score :   0.257688\n",
      "------ epoch:20 ------\n"
     ]
    },
    {
     "name": "stderr",
     "output_type": "stream",
     "text": [
      "100%|██████████| 252/252 [00:03<00:00, 70.06it/s]\n",
      "100%|██████████| 28/28 [00:00<00:00, 115.39it/s]\n",
      "100%|██████████| 943/943 [00:01<00:00, 937.22it/s]\n"
     ]
    },
    {
     "name": "stdout",
     "output_type": "stream",
     "text": [
      "Epoch 20: train loss :   0.154258   val loss :   0.151718   val score :   0.259809\n",
      "Epoch 00020: reducing learning rate of group 0 to 1.0000e-04.\n",
      "------ epoch:21 ------\n"
     ]
    },
    {
     "name": "stderr",
     "output_type": "stream",
     "text": [
      "100%|██████████| 252/252 [00:03<00:00, 68.47it/s]\n",
      "100%|██████████| 28/28 [00:00<00:00, 93.78it/s]\n",
      "100%|██████████| 943/943 [00:00<00:00, 1145.69it/s]\n"
     ]
    },
    {
     "name": "stdout",
     "output_type": "stream",
     "text": [
      "Epoch 21: train loss :   0.154233   val loss :   0.151718   val score :   0.259809\n",
      "------ epoch:22 ------\n"
     ]
    },
    {
     "name": "stderr",
     "output_type": "stream",
     "text": [
      "100%|██████████| 252/252 [00:03<00:00, 69.96it/s]\n",
      "100%|██████████| 28/28 [00:00<00:00, 126.08it/s]\n",
      "100%|██████████| 943/943 [00:00<00:00, 1205.42it/s]\n"
     ]
    },
    {
     "name": "stdout",
     "output_type": "stream",
     "text": [
      "Epoch 22: train loss :   0.154253   val loss :   0.151718   val score :   0.261930\n",
      "------ epoch:23 ------\n"
     ]
    },
    {
     "name": "stderr",
     "output_type": "stream",
     "text": [
      "100%|██████████| 252/252 [00:03<00:00, 71.40it/s]\n",
      "100%|██████████| 28/28 [00:00<00:00, 123.87it/s]\n",
      "100%|██████████| 943/943 [00:00<00:00, 1117.22it/s]\n"
     ]
    },
    {
     "name": "stdout",
     "output_type": "stream",
     "text": [
      "Epoch 23: train loss :   0.154247   val loss :   0.151718   val score :   0.261930\n",
      "------ epoch:24 ------\n"
     ]
    },
    {
     "name": "stderr",
     "output_type": "stream",
     "text": [
      "100%|██████████| 252/252 [00:03<00:00, 70.58it/s]\n",
      "100%|██████████| 28/28 [00:00<00:00, 96.33it/s]\n",
      "100%|██████████| 943/943 [00:00<00:00, 1218.64it/s]\n"
     ]
    },
    {
     "name": "stdout",
     "output_type": "stream",
     "text": [
      "Epoch 24: train loss :   0.154249   val loss :   0.151719   val score :   0.261930\n",
      "------ epoch:25 ------\n"
     ]
    },
    {
     "name": "stderr",
     "output_type": "stream",
     "text": [
      "100%|██████████| 252/252 [00:03<00:00, 70.14it/s]\n",
      "100%|██████████| 28/28 [00:00<00:00, 130.18it/s]\n",
      "100%|██████████| 943/943 [00:00<00:00, 1235.05it/s]\n"
     ]
    },
    {
     "name": "stdout",
     "output_type": "stream",
     "text": [
      "Epoch 25: train loss :   0.154210   val loss :   0.151719   val score :   0.258749\n",
      "Epoch 00025: reducing learning rate of group 0 to 1.0000e-05.\n",
      "------ epoch:26 ------\n"
     ]
    },
    {
     "name": "stderr",
     "output_type": "stream",
     "text": [
      "100%|██████████| 252/252 [00:03<00:00, 70.05it/s]\n",
      "100%|██████████| 28/28 [00:00<00:00, 127.16it/s]\n",
      "100%|██████████| 943/943 [00:00<00:00, 1288.95it/s]\n"
     ]
    },
    {
     "name": "stdout",
     "output_type": "stream",
     "text": [
      "Epoch 26: train loss :   0.154252   val loss :   0.151719   val score :   0.258749\n",
      "------ epoch:27 ------\n"
     ]
    },
    {
     "name": "stderr",
     "output_type": "stream",
     "text": [
      "100%|██████████| 252/252 [00:03<00:00, 70.88it/s]\n",
      "100%|██████████| 28/28 [00:00<00:00, 93.85it/s]\n",
      "100%|██████████| 943/943 [00:00<00:00, 1279.66it/s]\n"
     ]
    },
    {
     "name": "stdout",
     "output_type": "stream",
     "text": [
      "Epoch 27: train loss :   0.154226   val loss :   0.151719   val score :   0.259809\n",
      "------ epoch:28 ------\n"
     ]
    },
    {
     "name": "stderr",
     "output_type": "stream",
     "text": [
      "100%|██████████| 252/252 [00:03<00:00, 72.83it/s]\n",
      "100%|██████████| 28/28 [00:00<00:00, 126.16it/s]\n",
      "100%|██████████| 943/943 [00:00<00:00, 1389.62it/s]\n"
     ]
    },
    {
     "name": "stdout",
     "output_type": "stream",
     "text": [
      "Epoch 28: train loss :   0.154264   val loss :   0.151719   val score :   0.259809\n",
      "Epoch 00028: reducing learning rate of group 0 to 1.0000e-06.\n"
     ]
    },
    {
     "name": "stderr",
     "output_type": "stream",
     "text": [
      "100%|██████████| 70/70 [00:00<00:00, 111.34it/s]\n",
      "100%|██████████| 943/943 [00:00<00:00, 1165.33it/s]\n"
     ]
    },
    {
     "name": "stdout",
     "output_type": "stream",
     "text": [
      "------ log loss of 4 fold : 0.1510781615972519 ------\n",
      "------ score of 4 fold : 0.2513255567338282 ------\n",
      "------ 第5折 ------\n",
      "------ epoch:1 ------\n"
     ]
    },
    {
     "name": "stderr",
     "output_type": "stream",
     "text": [
      "100%|██████████| 252/252 [00:03<00:00, 76.20it/s]\n",
      "100%|██████████| 28/28 [00:00<00:00, 129.03it/s]\n",
      "100%|██████████| 943/943 [00:00<00:00, 1575.08it/s]\n"
     ]
    },
    {
     "name": "stdout",
     "output_type": "stream",
     "text": [
      "Epoch 1: train loss :   0.190198   val loss :   0.151489   val score :   0.198303\n",
      "------ epoch:2 ------\n"
     ]
    },
    {
     "name": "stderr",
     "output_type": "stream",
     "text": [
      "100%|██████████| 252/252 [00:03<00:00, 74.70it/s]\n",
      "100%|██████████| 28/28 [00:00<00:00, 94.25it/s] \n",
      "100%|██████████| 943/943 [00:00<00:00, 1707.22it/s]\n"
     ]
    },
    {
     "name": "stdout",
     "output_type": "stream",
     "text": [
      "Epoch 2: train loss :   0.155605   val loss :   0.151492   val score :   0.189820\n",
      "------ epoch:3 ------\n"
     ]
    },
    {
     "name": "stderr",
     "output_type": "stream",
     "text": [
      "100%|██████████| 252/252 [00:03<00:00, 72.04it/s]\n",
      "100%|██████████| 28/28 [00:00<00:00, 129.00it/s]\n",
      "100%|██████████| 943/943 [00:00<00:00, 1527.10it/s]\n"
     ]
    },
    {
     "name": "stdout",
     "output_type": "stream",
     "text": [
      "Epoch 3: train loss :   0.156960   val loss :   0.151483   val score :   0.193001\n",
      "------ epoch:4 ------\n"
     ]
    },
    {
     "name": "stderr",
     "output_type": "stream",
     "text": [
      "100%|██████████| 252/252 [00:03<00:00, 71.62it/s]\n",
      "100%|██████████| 28/28 [00:00<00:00, 123.23it/s]\n",
      "100%|██████████| 943/943 [00:00<00:00, 1596.29it/s]\n"
     ]
    },
    {
     "name": "stdout",
     "output_type": "stream",
     "text": [
      "Epoch 4: train loss :   0.156703   val loss :   0.151475   val score :   0.205726\n",
      "------ epoch:5 ------\n"
     ]
    },
    {
     "name": "stderr",
     "output_type": "stream",
     "text": [
      "100%|██████████| 252/252 [00:03<00:00, 65.25it/s]\n",
      "100%|██████████| 28/28 [00:00<00:00, 87.09it/s] \n",
      "100%|██████████| 943/943 [00:00<00:00, 1220.67it/s]\n"
     ]
    },
    {
     "name": "stdout",
     "output_type": "stream",
     "text": [
      "Epoch 5: train loss :   0.157000   val loss :   0.151515   val score :   0.206787\n",
      "------ epoch:6 ------\n"
     ]
    },
    {
     "name": "stderr",
     "output_type": "stream",
     "text": [
      "100%|██████████| 252/252 [00:03<00:00, 65.39it/s]\n",
      "100%|██████████| 28/28 [00:00<00:00, 129.29it/s]\n",
      "100%|██████████| 943/943 [00:00<00:00, 1127.28it/s]\n"
     ]
    },
    {
     "name": "stdout",
     "output_type": "stream",
     "text": [
      "Epoch 6: train loss :   0.157225   val loss :   0.151622   val score :   0.184517\n",
      "------ epoch:7 ------\n"
     ]
    },
    {
     "name": "stderr",
     "output_type": "stream",
     "text": [
      "100%|██████████| 252/252 [00:03<00:00, 64.44it/s]\n",
      "100%|██████████| 28/28 [00:00<00:00, 122.11it/s]\n",
      "100%|██████████| 943/943 [00:00<00:00, 1023.60it/s]\n"
     ]
    },
    {
     "name": "stdout",
     "output_type": "stream",
     "text": [
      "Epoch 7: train loss :   0.157215   val loss :   0.151552   val score :   0.185578\n",
      "------ epoch:8 ------\n"
     ]
    },
    {
     "name": "stderr",
     "output_type": "stream",
     "text": [
      "100%|██████████| 252/252 [00:04<00:00, 61.69it/s]\n",
      "100%|██████████| 28/28 [00:00<00:00, 86.43it/s] \n",
      "100%|██████████| 943/943 [00:00<00:00, 1315.35it/s]\n"
     ]
    },
    {
     "name": "stdout",
     "output_type": "stream",
     "text": [
      "Epoch 8: train loss :   0.157253   val loss :   0.151589   val score :   0.186638\n",
      "Epoch 00008: reducing learning rate of group 0 to 1.0000e-02.\n",
      "------ epoch:9 ------\n"
     ]
    },
    {
     "name": "stderr",
     "output_type": "stream",
     "text": [
      "100%|██████████| 252/252 [00:03<00:00, 67.38it/s]\n",
      "100%|██████████| 28/28 [00:00<00:00, 130.53it/s]\n",
      "100%|██████████| 943/943 [00:00<00:00, 1582.72it/s]\n"
     ]
    },
    {
     "name": "stdout",
     "output_type": "stream",
     "text": [
      "Epoch 9: train loss :   0.154502   val loss :   0.151249   val score :   0.232238\n",
      "------ epoch:10 ------\n"
     ]
    },
    {
     "name": "stderr",
     "output_type": "stream",
     "text": [
      "100%|██████████| 252/252 [00:03<00:00, 81.08it/s]\n",
      "100%|██████████| 28/28 [00:00<00:00, 127.53it/s]\n",
      "100%|██████████| 943/943 [00:00<00:00, 1203.96it/s]\n"
     ]
    },
    {
     "name": "stdout",
     "output_type": "stream",
     "text": [
      "Epoch 10: train loss :   0.154409   val loss :   0.151323   val score :   0.221633\n",
      "------ epoch:11 ------\n"
     ]
    },
    {
     "name": "stderr",
     "output_type": "stream",
     "text": [
      "100%|██████████| 252/252 [00:03<00:00, 82.08it/s]\n",
      "100%|██████████| 28/28 [00:00<00:00, 86.36it/s] \n",
      "100%|██████████| 943/943 [00:00<00:00, 1071.38it/s]\n"
     ]
    },
    {
     "name": "stdout",
     "output_type": "stream",
     "text": [
      "Epoch 11: train loss :   0.154342   val loss :   0.151280   val score :   0.220573\n",
      "------ epoch:12 ------\n"
     ]
    },
    {
     "name": "stderr",
     "output_type": "stream",
     "text": [
      "100%|██████████| 252/252 [00:03<00:00, 64.67it/s]\n",
      "100%|██████████| 28/28 [00:00<00:00, 116.29it/s]\n",
      "100%|██████████| 943/943 [00:00<00:00, 1161.87it/s]\n"
     ]
    },
    {
     "name": "stdout",
     "output_type": "stream",
     "text": [
      "Epoch 12: train loss :   0.154333   val loss :   0.151333   val score :   0.236479\n",
      "------ epoch:13 ------\n"
     ]
    },
    {
     "name": "stderr",
     "output_type": "stream",
     "text": [
      "100%|██████████| 252/252 [00:04<00:00, 62.04it/s]\n",
      "100%|██████████| 28/28 [00:00<00:00, 128.93it/s]\n",
      "100%|██████████| 943/943 [00:00<00:00, 1689.52it/s]\n"
     ]
    },
    {
     "name": "stdout",
     "output_type": "stream",
     "text": [
      "Epoch 13: train loss :   0.154358   val loss :   0.151286   val score :   0.231177\n",
      "------ epoch:14 ------\n"
     ]
    },
    {
     "name": "stderr",
     "output_type": "stream",
     "text": [
      "100%|██████████| 252/252 [00:03<00:00, 66.77it/s]\n",
      "100%|██████████| 28/28 [00:00<00:00, 82.32it/s] \n",
      "100%|██████████| 943/943 [00:00<00:00, 1436.26it/s]\n"
     ]
    },
    {
     "name": "stdout",
     "output_type": "stream",
     "text": [
      "Epoch 14: train loss :   0.154362   val loss :   0.151311   val score :   0.241782\n",
      "------ epoch:15 ------\n"
     ]
    },
    {
     "name": "stderr",
     "output_type": "stream",
     "text": [
      "100%|██████████| 252/252 [00:03<00:00, 64.14it/s]\n",
      "100%|██████████| 28/28 [00:00<00:00, 118.63it/s]\n",
      "100%|██████████| 943/943 [00:00<00:00, 1229.36it/s]\n"
     ]
    },
    {
     "name": "stdout",
     "output_type": "stream",
     "text": [
      "Epoch 15: train loss :   0.154365   val loss :   0.151386   val score :   0.227996\n",
      "------ epoch:16 ------\n"
     ]
    },
    {
     "name": "stderr",
     "output_type": "stream",
     "text": [
      "100%|██████████| 252/252 [00:04<00:00, 62.69it/s]\n",
      "100%|██████████| 28/28 [00:00<00:00, 126.82it/s]\n",
      "100%|██████████| 943/943 [00:00<00:00, 1767.61it/s]\n"
     ]
    },
    {
     "name": "stdout",
     "output_type": "stream",
     "text": [
      "Epoch 16: train loss :   0.154382   val loss :   0.151318   val score :   0.232238\n",
      "------ epoch:17 ------\n"
     ]
    },
    {
     "name": "stderr",
     "output_type": "stream",
     "text": [
      "100%|██████████| 252/252 [00:03<00:00, 66.61it/s]\n",
      "100%|██████████| 28/28 [00:00<00:00, 91.31it/s] \n",
      "100%|██████████| 943/943 [00:00<00:00, 1540.15it/s]\n"
     ]
    },
    {
     "name": "stdout",
     "output_type": "stream",
     "text": [
      "Epoch 17: train loss :   0.154347   val loss :   0.151271   val score :   0.224814\n",
      "Epoch 00017: reducing learning rate of group 0 to 1.0000e-03.\n",
      "------ epoch:18 ------\n"
     ]
    },
    {
     "name": "stderr",
     "output_type": "stream",
     "text": [
      "100%|██████████| 252/252 [00:03<00:00, 64.22it/s]\n",
      "100%|██████████| 28/28 [00:00<00:00, 123.76it/s]\n",
      "100%|██████████| 943/943 [00:00<00:00, 1427.39it/s]\n"
     ]
    },
    {
     "name": "stdout",
     "output_type": "stream",
     "text": [
      "Epoch 18: train loss :   0.154259   val loss :   0.151267   val score :   0.244963\n",
      "------ epoch:19 ------\n"
     ]
    },
    {
     "name": "stderr",
     "output_type": "stream",
     "text": [
      "100%|██████████| 252/252 [00:04<00:00, 61.62it/s]\n",
      "100%|██████████| 28/28 [00:00<00:00, 123.68it/s]\n",
      "100%|██████████| 943/943 [00:00<00:00, 1157.72it/s]\n"
     ]
    },
    {
     "name": "stdout",
     "output_type": "stream",
     "text": [
      "Epoch 19: train loss :   0.154221   val loss :   0.151283   val score :   0.254507\n",
      "------ epoch:20 ------\n"
     ]
    },
    {
     "name": "stderr",
     "output_type": "stream",
     "text": [
      "100%|██████████| 252/252 [00:03<00:00, 66.57it/s]\n",
      "100%|██████████| 28/28 [00:00<00:00, 87.13it/s] \n",
      "100%|██████████| 943/943 [00:00<00:00, 1160.46it/s]\n"
     ]
    },
    {
     "name": "stdout",
     "output_type": "stream",
     "text": [
      "Epoch 20: train loss :   0.154221   val loss :   0.151291   val score :   0.258749\n",
      "------ epoch:21 ------\n"
     ]
    },
    {
     "name": "stderr",
     "output_type": "stream",
     "text": [
      "100%|██████████| 252/252 [00:03<00:00, 67.95it/s]\n",
      "100%|██████████| 28/28 [00:00<00:00, 120.34it/s]\n",
      "100%|██████████| 943/943 [00:00<00:00, 1413.42it/s]\n"
     ]
    },
    {
     "name": "stdout",
     "output_type": "stream",
     "text": [
      "Epoch 21: train loss :   0.154157   val loss :   0.151292   val score :   0.257688\n",
      "------ epoch:22 ------\n"
     ]
    },
    {
     "name": "stderr",
     "output_type": "stream",
     "text": [
      "100%|██████████| 252/252 [00:03<00:00, 68.98it/s]\n",
      "100%|██████████| 28/28 [00:00<00:00, 125.04it/s]\n",
      "100%|██████████| 943/943 [00:00<00:00, 1390.39it/s]\n"
     ]
    },
    {
     "name": "stdout",
     "output_type": "stream",
     "text": [
      "Epoch 22: train loss :   0.154185   val loss :   0.151296   val score :   0.256628\n",
      "------ epoch:23 ------\n"
     ]
    },
    {
     "name": "stderr",
     "output_type": "stream",
     "text": [
      "100%|██████████| 252/252 [00:03<00:00, 68.21it/s]\n",
      "100%|██████████| 28/28 [00:00<00:00, 85.46it/s] \n",
      "100%|██████████| 943/943 [00:00<00:00, 1655.95it/s]\n"
     ]
    },
    {
     "name": "stdout",
     "output_type": "stream",
     "text": [
      "Epoch 23: train loss :   0.154195   val loss :   0.151297   val score :   0.254507\n",
      "Epoch 00023: reducing learning rate of group 0 to 1.0000e-04.\n",
      "------ epoch:24 ------\n"
     ]
    },
    {
     "name": "stderr",
     "output_type": "stream",
     "text": [
      "100%|██████████| 252/252 [00:03<00:00, 76.29it/s]\n",
      "100%|██████████| 28/28 [00:00<00:00, 122.79it/s]\n",
      "100%|██████████| 943/943 [00:00<00:00, 1197.49it/s]\n"
     ]
    },
    {
     "name": "stdout",
     "output_type": "stream",
     "text": [
      "Epoch 24: train loss :   0.154174   val loss :   0.151296   val score :   0.254507\n",
      "------ epoch:25 ------\n"
     ]
    },
    {
     "name": "stderr",
     "output_type": "stream",
     "text": [
      "100%|██████████| 252/252 [00:03<00:00, 69.63it/s]\n",
      "100%|██████████| 28/28 [00:00<00:00, 128.50it/s]\n",
      "100%|██████████| 943/943 [00:00<00:00, 1114.12it/s]\n"
     ]
    },
    {
     "name": "stdout",
     "output_type": "stream",
     "text": [
      "Epoch 25: train loss :   0.154144   val loss :   0.151295   val score :   0.255567\n",
      "------ epoch:26 ------\n"
     ]
    },
    {
     "name": "stderr",
     "output_type": "stream",
     "text": [
      "100%|██████████| 252/252 [00:03<00:00, 71.97it/s]\n",
      "100%|██████████| 28/28 [00:00<00:00, 97.36it/s] \n",
      "100%|██████████| 943/943 [00:00<00:00, 1246.94it/s]\n"
     ]
    },
    {
     "name": "stdout",
     "output_type": "stream",
     "text": [
      "Epoch 26: train loss :   0.154140   val loss :   0.151295   val score :   0.253446\n",
      "Epoch 00026: reducing learning rate of group 0 to 1.0000e-05.\n"
     ]
    },
    {
     "name": "stderr",
     "output_type": "stream",
     "text": [
      "100%|██████████| 70/70 [00:00<00:00, 125.42it/s]\n",
      "100%|██████████| 943/943 [00:00<00:00, 1508.78it/s]"
     ]
    },
    {
     "name": "stdout",
     "output_type": "stream",
     "text": [
      "------ log loss of 5 fold : 0.15161696800163815 ------\n",
      "------ score of 5 fold : 0.25026511134676566 ------\n",
      "settings : percentage = 1, model type = 4\n",
      "parameters :  {'lam': 0.01, 'phi_r': 0.01, 'phi_theta': 0.001, 'num_users': 943, 'num_items': 1682, 'embedding_dim': 20, 'mu': 0.1, 'lr': 0.1, 'alpha': 0.1, 'patience': 5, 'epochs': 30, 'device': 'cuda:0', 'model_selection': True}\n",
      "------ log loss of the model : 0.1513163298368454 ------\n",
      "------ score of the model : 0.23881230116648994 ------\n"
     ]
    },
    {
     "name": "stderr",
     "output_type": "stream",
     "text": [
      "\n"
     ]
    }
   ],
   "source": [
    "embedding_dim = 20\n",
    "lr = 1e-1\n",
    "alpha = 1e-1\n",
    "lam = 1e-2\n",
    "phi_r = 1e-2\n",
    "phi_theta = 1e-3\n",
    "mu = 0.1\n",
    "model_type = 4\n",
    "seed_everything(42)\n",
    "CrossValidation2(train, model_type=model_type, percentage=percentage, k=5, lam=lam, phi_r=phi_r, phi_theta=phi_theta, \n",
    "                num_users=num_users, num_items=num_items, embedding_dim=embedding_dim, mu=mu,\n",
    "               lr=lr, alpha=alpha, patience=5, epochs=30, device=\"cuda:0\", model_selection=True)"
   ]
  },
  {
   "cell_type": "markdown",
   "id": "14263a41-d022-4006-b5a0-45ff55f9df68",
   "metadata": {},
   "source": [
    "### 5"
   ]
  },
  {
   "cell_type": "code",
   "execution_count": 4,
   "id": "8d30b22a-3549-459f-9da0-998304066a1c",
   "metadata": {
    "collapsed": true,
    "jupyter": {
     "outputs_hidden": true,
     "source_hidden": true
    },
    "tags": []
   },
   "outputs": [
    {
     "name": "stderr",
     "output_type": "stream",
     "text": [
      "100%|██████████| 943/943 [00:08<00:00, 110.67it/s]\n"
     ]
    },
    {
     "name": "stdout",
     "output_type": "stream",
     "text": [
      "------ epoch:1 ------\n"
     ]
    },
    {
     "name": "stderr",
     "output_type": "stream",
     "text": [
      "100%|██████████| 280/280 [00:03<00:00, 71.85it/s]\n",
      "100%|██████████| 70/70 [00:00<00:00, 143.44it/s]\n",
      "100%|██████████| 943/943 [00:00<00:00, 2973.41it/s]\n"
     ]
    },
    {
     "name": "stdout",
     "output_type": "stream",
     "text": [
      "Epoch 1: train loss :   0.285405   val loss :   0.149048   val score :   0.142100\n",
      "------ epoch:2 ------\n"
     ]
    },
    {
     "name": "stderr",
     "output_type": "stream",
     "text": [
      "100%|██████████| 280/280 [00:03<00:00, 74.81it/s]\n",
      "100%|██████████| 70/70 [00:00<00:00, 124.42it/s]\n",
      "100%|██████████| 943/943 [00:00<00:00, 3088.47it/s]\n"
     ]
    },
    {
     "name": "stdout",
     "output_type": "stream",
     "text": [
      "Epoch 2: train loss :   0.187340   val loss :   0.147859   val score :   0.158006\n",
      "------ epoch:3 ------\n"
     ]
    },
    {
     "name": "stderr",
     "output_type": "stream",
     "text": [
      "100%|██████████| 280/280 [00:03<00:00, 76.38it/s]\n",
      "100%|██████████| 70/70 [00:00<00:00, 122.78it/s]\n",
      "100%|██████████| 943/943 [00:00<00:00, 3051.45it/s]\n"
     ]
    },
    {
     "name": "stdout",
     "output_type": "stream",
     "text": [
      "Epoch 3: train loss :   0.170592   val loss :   0.146683   val score :   0.176034\n",
      "------ epoch:4 ------\n"
     ]
    },
    {
     "name": "stderr",
     "output_type": "stream",
     "text": [
      "100%|██████████| 280/280 [00:03<00:00, 75.95it/s]\n",
      "100%|██████████| 70/70 [00:00<00:00, 125.32it/s]\n",
      "100%|██████████| 943/943 [00:00<00:00, 3069.37it/s]\n"
     ]
    },
    {
     "name": "stdout",
     "output_type": "stream",
     "text": [
      "Epoch 4: train loss :   0.157448   val loss :   0.144864   val score :   0.186638\n",
      "------ epoch:5 ------\n"
     ]
    },
    {
     "name": "stderr",
     "output_type": "stream",
     "text": [
      "100%|██████████| 280/280 [00:03<00:00, 76.01it/s]\n",
      "100%|██████████| 70/70 [00:00<00:00, 125.63it/s]\n",
      "100%|██████████| 943/943 [00:00<00:00, 3129.78it/s]\n"
     ]
    },
    {
     "name": "stdout",
     "output_type": "stream",
     "text": [
      "Epoch 5: train loss :   0.151185   val loss :   0.143588   val score :   0.225875\n",
      "------ epoch:6 ------\n"
     ]
    },
    {
     "name": "stderr",
     "output_type": "stream",
     "text": [
      "100%|██████████| 280/280 [00:03<00:00, 74.97it/s]\n",
      "100%|██████████| 70/70 [00:00<00:00, 140.80it/s]\n",
      "100%|██████████| 943/943 [00:00<00:00, 3152.81it/s]\n"
     ]
    },
    {
     "name": "stdout",
     "output_type": "stream",
     "text": [
      "Epoch 6: train loss :   0.148840   val loss :   0.143125   val score :   0.206787\n",
      "------ epoch:7 ------\n"
     ]
    },
    {
     "name": "stderr",
     "output_type": "stream",
     "text": [
      "100%|██████████| 280/280 [00:03<00:00, 72.46it/s]\n",
      "100%|██████████| 70/70 [00:00<00:00, 142.13it/s]\n",
      "100%|██████████| 943/943 [00:00<00:00, 3095.55it/s]\n"
     ]
    },
    {
     "name": "stdout",
     "output_type": "stream",
     "text": [
      "Epoch 7: train loss :   0.147542   val loss :   0.142901   val score :   0.221633\n",
      "------ epoch:8 ------\n"
     ]
    },
    {
     "name": "stderr",
     "output_type": "stream",
     "text": [
      "100%|██████████| 280/280 [00:03<00:00, 75.34it/s]\n",
      "100%|██████████| 70/70 [00:00<00:00, 123.38it/s]\n",
      "100%|██████████| 943/943 [00:00<00:00, 3146.49it/s]\n"
     ]
    },
    {
     "name": "stdout",
     "output_type": "stream",
     "text": [
      "Epoch 8: train loss :   0.146935   val loss :   0.142726   val score :   0.223754\n",
      "Epoch 00008: reducing learning rate of group 0 to 1.0000e-03.\n",
      "------ epoch:9 ------\n"
     ]
    },
    {
     "name": "stderr",
     "output_type": "stream",
     "text": [
      "100%|██████████| 280/280 [00:03<00:00, 76.84it/s]\n",
      "100%|██████████| 70/70 [00:00<00:00, 125.37it/s]\n",
      "100%|██████████| 943/943 [00:00<00:00, 3153.90it/s]\n"
     ]
    },
    {
     "name": "stdout",
     "output_type": "stream",
     "text": [
      "Epoch 9: train loss :   0.146564   val loss :   0.142703   val score :   0.225875\n",
      "------ epoch:10 ------\n"
     ]
    },
    {
     "name": "stderr",
     "output_type": "stream",
     "text": [
      "100%|██████████| 280/280 [00:03<00:00, 75.37it/s]\n",
      "100%|██████████| 70/70 [00:00<00:00, 121.42it/s]\n",
      "100%|██████████| 943/943 [00:00<00:00, 3103.70it/s]\n"
     ]
    },
    {
     "name": "stdout",
     "output_type": "stream",
     "text": [
      "Epoch 10: train loss :   0.146521   val loss :   0.142688   val score :   0.229056\n",
      "------ epoch:11 ------\n"
     ]
    },
    {
     "name": "stderr",
     "output_type": "stream",
     "text": [
      "100%|██████████| 280/280 [00:03<00:00, 77.14it/s]\n",
      "100%|██████████| 70/70 [00:00<00:00, 125.42it/s]\n",
      "100%|██████████| 943/943 [00:00<00:00, 3164.16it/s]\n"
     ]
    },
    {
     "name": "stdout",
     "output_type": "stream",
     "text": [
      "Epoch 11: train loss :   0.146489   val loss :   0.142675   val score :   0.225875\n",
      "------ epoch:12 ------\n"
     ]
    },
    {
     "name": "stderr",
     "output_type": "stream",
     "text": [
      "100%|██████████| 280/280 [00:03<00:00, 75.28it/s]\n",
      "100%|██████████| 70/70 [00:00<00:00, 143.70it/s]\n",
      "100%|██████████| 943/943 [00:00<00:00, 3156.45it/s]\n"
     ]
    },
    {
     "name": "stdout",
     "output_type": "stream",
     "text": [
      "Epoch 12: train loss :   0.146495   val loss :   0.142665   val score :   0.227996\n",
      "------ epoch:13 ------\n"
     ]
    },
    {
     "name": "stderr",
     "output_type": "stream",
     "text": [
      "100%|██████████| 280/280 [00:03<00:00, 74.25it/s]\n",
      "100%|██████████| 70/70 [00:00<00:00, 123.16it/s]\n",
      "100%|██████████| 943/943 [00:00<00:00, 2721.60it/s]\n"
     ]
    },
    {
     "name": "stdout",
     "output_type": "stream",
     "text": [
      "Epoch 13: train loss :   0.146484   val loss :   0.142653   val score :   0.229056\n",
      "Epoch 00013: reducing learning rate of group 0 to 1.0000e-04.\n",
      "------ epoch:14 ------\n"
     ]
    },
    {
     "name": "stderr",
     "output_type": "stream",
     "text": [
      "100%|██████████| 280/280 [00:03<00:00, 77.07it/s]\n",
      "100%|██████████| 70/70 [00:00<00:00, 126.67it/s]\n",
      "100%|██████████| 943/943 [00:00<00:00, 3215.95it/s]\n"
     ]
    },
    {
     "name": "stdout",
     "output_type": "stream",
     "text": [
      "Epoch 14: train loss :   0.146370   val loss :   0.142652   val score :   0.229056\n",
      "------ epoch:15 ------\n"
     ]
    },
    {
     "name": "stderr",
     "output_type": "stream",
     "text": [
      "100%|██████████| 280/280 [00:03<00:00, 78.14it/s]\n",
      "100%|██████████| 70/70 [00:00<00:00, 127.06it/s]\n",
      "100%|██████████| 943/943 [00:00<00:00, 3204.56it/s]\n"
     ]
    },
    {
     "name": "stdout",
     "output_type": "stream",
     "text": [
      "Epoch 15: train loss :   0.146417   val loss :   0.142651   val score :   0.229056\n",
      "------ epoch:16 ------\n"
     ]
    },
    {
     "name": "stderr",
     "output_type": "stream",
     "text": [
      "100%|██████████| 280/280 [00:03<00:00, 77.36it/s]\n",
      "100%|██████████| 70/70 [00:00<00:00, 126.49it/s]\n",
      "100%|██████████| 943/943 [00:00<00:00, 3226.92it/s]\n"
     ]
    },
    {
     "name": "stdout",
     "output_type": "stream",
     "text": [
      "Epoch 16: train loss :   0.146400   val loss :   0.142651   val score :   0.229056\n",
      "Epoch 00016: reducing learning rate of group 0 to 1.0000e-05.\n"
     ]
    }
   ],
   "source": [
    "kwargs = {\n",
    "'embedding_dim' : 20,\n",
    "'lr' : 1e-2,\n",
    "'alpha' : 1e-2,\n",
    "'lam' : 1e-2,\n",
    "'phi_theta' : 1e-2,\n",
    "'phi_r' : 1e-2, \n",
    "'mu' : 1e-1, \n",
    "'model_type' : 4,\n",
    "'num_users' : 943,\n",
    "'num_items' : 1682,\n",
    "}\n",
    "seed_everything(42)\n",
    "train1 = computing_r_hat_using_ERM2(train, kwargs)"
   ]
  },
  {
   "cell_type": "code",
   "execution_count": 6,
   "id": "b8407818-1e56-4c0a-a464-2deabe2d54da",
   "metadata": {
    "collapsed": true,
    "jupyter": {
     "outputs_hidden": true,
     "source_hidden": true
    },
    "tags": []
   },
   "outputs": [
    {
     "name": "stdout",
     "output_type": "stream",
     "text": [
      "------ 第1折 ------\n",
      "------ epoch:1 ------\n"
     ]
    },
    {
     "name": "stderr",
     "output_type": "stream",
     "text": [
      "100%|██████████| 252/252 [00:03<00:00, 72.09it/s]\n",
      "100%|██████████| 28/28 [00:00<00:00, 139.05it/s]\n",
      "100%|██████████| 943/943 [00:00<00:00, 3005.95it/s]\n"
     ]
    },
    {
     "name": "stdout",
     "output_type": "stream",
     "text": [
      "Epoch 1: train loss :   0.443086   val loss :   0.195970   val score :   0.127253\n",
      "------ epoch:2 ------\n"
     ]
    },
    {
     "name": "stderr",
     "output_type": "stream",
     "text": [
      "100%|██████████| 252/252 [00:03<00:00, 73.62it/s]\n",
      "100%|██████████| 28/28 [00:00<00:00, 102.73it/s]\n",
      "100%|██████████| 943/943 [00:00<00:00, 3068.77it/s]\n"
     ]
    },
    {
     "name": "stdout",
     "output_type": "stream",
     "text": [
      "Epoch 2: train loss :   0.191873   val loss :   0.165844   val score :   0.230117\n",
      "------ epoch:3 ------\n"
     ]
    },
    {
     "name": "stderr",
     "output_type": "stream",
     "text": [
      "100%|██████████| 252/252 [00:03<00:00, 75.37it/s]\n",
      "100%|██████████| 28/28 [00:00<00:00, 138.41it/s]\n",
      "100%|██████████| 943/943 [00:00<00:00, 3093.33it/s]\n"
     ]
    },
    {
     "name": "stdout",
     "output_type": "stream",
     "text": [
      "Epoch 3: train loss :   0.166210   val loss :   0.159303   val score :   0.272534\n",
      "------ epoch:4 ------\n"
     ]
    },
    {
     "name": "stderr",
     "output_type": "stream",
     "text": [
      "100%|██████████| 252/252 [00:03<00:00, 74.13it/s]\n",
      "100%|██████████| 28/28 [00:00<00:00, 138.94it/s]\n",
      "100%|██████████| 943/943 [00:00<00:00, 3106.83it/s]\n"
     ]
    },
    {
     "name": "stdout",
     "output_type": "stream",
     "text": [
      "Epoch 4: train loss :   0.159984   val loss :   0.157539   val score :   0.256628\n",
      "------ epoch:5 ------\n"
     ]
    },
    {
     "name": "stderr",
     "output_type": "stream",
     "text": [
      "100%|██████████| 252/252 [00:03<00:00, 72.50it/s]\n",
      "100%|██████████| 28/28 [00:00<00:00, 99.91it/s] \n",
      "100%|██████████| 943/943 [00:00<00:00, 3051.78it/s]\n"
     ]
    },
    {
     "name": "stdout",
     "output_type": "stream",
     "text": [
      "Epoch 5: train loss :   0.158472   val loss :   0.157063   val score :   0.266172\n",
      "------ epoch:6 ------\n"
     ]
    },
    {
     "name": "stderr",
     "output_type": "stream",
     "text": [
      "100%|██████████| 252/252 [00:03<00:00, 75.79it/s]\n",
      "100%|██████████| 28/28 [00:00<00:00, 139.42it/s]\n",
      "100%|██████████| 943/943 [00:00<00:00, 3172.93it/s]\n"
     ]
    },
    {
     "name": "stdout",
     "output_type": "stream",
     "text": [
      "Epoch 6: train loss :   0.158229   val loss :   0.156984   val score :   0.255567\n",
      "Epoch 00006: reducing learning rate of group 0 to 1.0000e-03.\n",
      "------ epoch:7 ------\n"
     ]
    },
    {
     "name": "stderr",
     "output_type": "stream",
     "text": [
      "100%|██████████| 252/252 [00:03<00:00, 75.90it/s]\n",
      "100%|██████████| 28/28 [00:00<00:00, 139.69it/s]\n",
      "100%|██████████| 943/943 [00:00<00:00, 3159.49it/s]\n"
     ]
    },
    {
     "name": "stdout",
     "output_type": "stream",
     "text": [
      "Epoch 7: train loss :   0.158074   val loss :   0.156973   val score :   0.267232\n",
      "------ epoch:8 ------\n"
     ]
    },
    {
     "name": "stderr",
     "output_type": "stream",
     "text": [
      "100%|██████████| 252/252 [00:03<00:00, 75.42it/s]\n",
      "100%|██████████| 28/28 [00:00<00:00, 97.36it/s]\n",
      "100%|██████████| 943/943 [00:00<00:00, 3085.90it/s]\n"
     ]
    },
    {
     "name": "stdout",
     "output_type": "stream",
     "text": [
      "Epoch 8: train loss :   0.158049   val loss :   0.156970   val score :   0.262990\n",
      "------ epoch:9 ------\n"
     ]
    },
    {
     "name": "stderr",
     "output_type": "stream",
     "text": [
      "100%|██████████| 252/252 [00:03<00:00, 67.21it/s]\n",
      "100%|██████████| 28/28 [00:00<00:00, 137.67it/s]\n",
      "100%|██████████| 943/943 [00:00<00:00, 3033.47it/s]\n"
     ]
    },
    {
     "name": "stdout",
     "output_type": "stream",
     "text": [
      "Epoch 9: train loss :   0.158035   val loss :   0.156963   val score :   0.270414\n",
      "Epoch 00009: reducing learning rate of group 0 to 1.0000e-04.\n"
     ]
    },
    {
     "name": "stderr",
     "output_type": "stream",
     "text": [
      "100%|██████████| 70/70 [00:00<00:00, 118.87it/s]\n",
      "100%|██████████| 943/943 [00:00<00:00, 2990.40it/s]\n"
     ]
    },
    {
     "name": "stdout",
     "output_type": "stream",
     "text": [
      "------ log loss of 1 fold : 0.15526568634169444 ------\n",
      "------ score of 1 fold : 0.22693531283138918 ------\n",
      "------ 第2折 ------\n",
      "------ epoch:1 ------\n"
     ]
    },
    {
     "name": "stderr",
     "output_type": "stream",
     "text": [
      "100%|██████████| 252/252 [00:03<00:00, 72.98it/s]\n",
      "100%|██████████| 28/28 [00:00<00:00, 134.31it/s]\n",
      "100%|██████████| 943/943 [00:00<00:00, 3055.58it/s]\n"
     ]
    },
    {
     "name": "stdout",
     "output_type": "stream",
     "text": [
      "Epoch 1: train loss :   0.452690   val loss :   0.196689   val score :   0.130435\n",
      "------ epoch:2 ------\n"
     ]
    },
    {
     "name": "stderr",
     "output_type": "stream",
     "text": [
      "100%|██████████| 252/252 [00:03<00:00, 75.13it/s]\n",
      "100%|██████████| 28/28 [00:00<00:00, 103.74it/s]\n",
      "100%|██████████| 943/943 [00:00<00:00, 3083.24it/s]\n"
     ]
    },
    {
     "name": "stdout",
     "output_type": "stream",
     "text": [
      "Epoch 2: train loss :   0.191708   val loss :   0.165763   val score :   0.213150\n",
      "------ epoch:3 ------\n"
     ]
    },
    {
     "name": "stderr",
     "output_type": "stream",
     "text": [
      " 63%|██████▎   | 159/252 [00:02<00:01, 74.81it/s]\n",
      "\n",
      "KeyboardInterrupt\n",
      "\n"
     ]
    }
   ],
   "source": [
    "embedding_dim = 20\n",
    "lr = 1e-2\n",
    "alpha = 1e-1\n",
    "lam = 1e-2\n",
    "phi_r = 0\n",
    "phi_theta = 0\n",
    "mu = 0.1\n",
    "model_type = 5\n",
    "seed_everything(42)\n",
    "CrossValidation2(train1, model_type=model_type, percentage=percentage, k=5, lam=lam, phi_r=phi_r, phi_theta=phi_theta, \n",
    "                num_users=num_users, num_items=num_items, embedding_dim=embedding_dim, mu=mu,\n",
    "               lr=lr, alpha=alpha, patience=5, epochs=30, device=\"cuda:0\", model_selection=True)"
   ]
  },
  {
   "cell_type": "code",
   "execution_count": 8,
   "id": "67c67486-334c-4d39-89a6-df7b7b6af4f5",
   "metadata": {
    "collapsed": true,
    "jupyter": {
     "outputs_hidden": true
    },
    "tags": []
   },
   "outputs": [
    {
     "name": "stdout",
     "output_type": "stream",
     "text": [
      "------ 第1折 ------\n",
      "------ epoch:1 ------\n"
     ]
    },
    {
     "name": "stderr",
     "output_type": "stream",
     "text": [
      "100%|██████████| 252/252 [00:03<00:00, 69.92it/s]\n",
      "100%|██████████| 28/28 [00:00<00:00, 133.60it/s]\n",
      "100%|██████████| 943/943 [00:00<00:00, 2929.09it/s]\n"
     ]
    },
    {
     "name": "stdout",
     "output_type": "stream",
     "text": [
      "Epoch 1: train loss :   0.301541   val loss :   0.153513   val score :   0.191941\n",
      "------ epoch:2 ------\n"
     ]
    },
    {
     "name": "stderr",
     "output_type": "stream",
     "text": [
      "100%|██████████| 252/252 [00:03<00:00, 73.55it/s]\n",
      "100%|██████████| 28/28 [00:00<00:00, 131.75it/s]\n",
      "100%|██████████| 943/943 [00:00<00:00, 2390.88it/s]\n"
     ]
    },
    {
     "name": "stdout",
     "output_type": "stream",
     "text": [
      "Epoch 2: train loss :   0.191318   val loss :   0.152047   val score :   0.200424\n",
      "------ epoch:3 ------\n"
     ]
    },
    {
     "name": "stderr",
     "output_type": "stream",
     "text": [
      "100%|██████████| 252/252 [00:03<00:00, 73.81it/s]\n",
      "100%|██████████| 28/28 [00:00<00:00, 134.06it/s]\n",
      "100%|██████████| 943/943 [00:00<00:00, 2408.84it/s]\n"
     ]
    },
    {
     "name": "stdout",
     "output_type": "stream",
     "text": [
      "Epoch 3: train loss :   0.176666   val loss :   0.150939   val score :   0.197243\n",
      "------ epoch:4 ------\n"
     ]
    },
    {
     "name": "stderr",
     "output_type": "stream",
     "text": [
      "100%|██████████| 252/252 [00:03<00:00, 76.79it/s]\n",
      "100%|██████████| 28/28 [00:00<00:00, 135.01it/s]\n",
      "100%|██████████| 943/943 [00:00<00:00, 2566.31it/s]\n"
     ]
    },
    {
     "name": "stdout",
     "output_type": "stream",
     "text": [
      "Epoch 4: train loss :   0.164091   val loss :   0.149732   val score :   0.214210\n",
      "------ epoch:5 ------\n"
     ]
    },
    {
     "name": "stderr",
     "output_type": "stream",
     "text": [
      "100%|██████████| 252/252 [00:03<00:00, 73.43it/s]\n",
      "100%|██████████| 28/28 [00:00<00:00, 134.60it/s]\n",
      "100%|██████████| 943/943 [00:00<00:00, 2433.80it/s]\n"
     ]
    },
    {
     "name": "stdout",
     "output_type": "stream",
     "text": [
      "Epoch 5: train loss :   0.155629   val loss :   0.148315   val score :   0.241782\n",
      "------ epoch:6 ------\n"
     ]
    },
    {
     "name": "stderr",
     "output_type": "stream",
     "text": [
      "100%|██████████| 252/252 [00:03<00:00, 71.91it/s]\n",
      "100%|██████████| 28/28 [00:00<00:00, 134.37it/s]\n",
      "100%|██████████| 943/943 [00:00<00:00, 1984.85it/s]\n"
     ]
    },
    {
     "name": "stdout",
     "output_type": "stream",
     "text": [
      "Epoch 6: train loss :   0.151874   val loss :   0.147732   val score :   0.251326\n",
      "------ epoch:7 ------\n"
     ]
    },
    {
     "name": "stderr",
     "output_type": "stream",
     "text": [
      "100%|██████████| 252/252 [00:03<00:00, 73.00it/s]\n",
      "100%|██████████| 28/28 [00:00<00:00, 134.26it/s]\n",
      "100%|██████████| 943/943 [00:00<00:00, 2507.04it/s]\n"
     ]
    },
    {
     "name": "stdout",
     "output_type": "stream",
     "text": [
      "Epoch 7: train loss :   0.150205   val loss :   0.147452   val score :   0.252386\n",
      "------ epoch:8 ------\n"
     ]
    },
    {
     "name": "stderr",
     "output_type": "stream",
     "text": [
      "100%|██████████| 252/252 [00:03<00:00, 72.94it/s]\n",
      "100%|██████████| 28/28 [00:00<00:00, 132.51it/s]\n",
      "100%|██████████| 943/943 [00:00<00:00, 2525.48it/s]\n"
     ]
    },
    {
     "name": "stdout",
     "output_type": "stream",
     "text": [
      "Epoch 8: train loss :   0.149224   val loss :   0.147307   val score :   0.243902\n",
      "------ epoch:9 ------\n"
     ]
    },
    {
     "name": "stderr",
     "output_type": "stream",
     "text": [
      "100%|██████████| 252/252 [00:03<00:00, 72.09it/s]\n",
      "100%|██████████| 28/28 [00:00<00:00, 133.62it/s]\n",
      "100%|██████████| 943/943 [00:00<00:00, 2516.76it/s]\n"
     ]
    },
    {
     "name": "stdout",
     "output_type": "stream",
     "text": [
      "Epoch 9: train loss :   0.148672   val loss :   0.147217   val score :   0.255567\n",
      "------ epoch:10 ------\n"
     ]
    },
    {
     "name": "stderr",
     "output_type": "stream",
     "text": [
      "100%|██████████| 252/252 [00:03<00:00, 71.03it/s]\n",
      "100%|██████████| 28/28 [00:00<00:00, 131.61it/s]\n",
      "100%|██████████| 943/943 [00:00<00:00, 2443.52it/s]\n"
     ]
    },
    {
     "name": "stdout",
     "output_type": "stream",
     "text": [
      "Epoch 10: train loss :   0.148418   val loss :   0.147149   val score :   0.252386\n",
      "------ epoch:11 ------\n"
     ]
    },
    {
     "name": "stderr",
     "output_type": "stream",
     "text": [
      "100%|██████████| 252/252 [00:03<00:00, 73.01it/s]\n",
      "100%|██████████| 28/28 [00:00<00:00, 131.84it/s]\n",
      "100%|██████████| 943/943 [00:00<00:00, 2347.23it/s]\n"
     ]
    },
    {
     "name": "stdout",
     "output_type": "stream",
     "text": [
      "Epoch 11: train loss :   0.148218   val loss :   0.147092   val score :   0.255567\n",
      "------ epoch:12 ------\n"
     ]
    },
    {
     "name": "stderr",
     "output_type": "stream",
     "text": [
      "100%|██████████| 252/252 [00:03<00:00, 72.44it/s]\n",
      "100%|██████████| 28/28 [00:00<00:00, 134.29it/s]\n",
      "100%|██████████| 943/943 [00:00<00:00, 2544.70it/s]\n"
     ]
    },
    {
     "name": "stdout",
     "output_type": "stream",
     "text": [
      "Epoch 12: train loss :   0.148237   val loss :   0.147068   val score :   0.254507\n",
      "Epoch 00012: reducing learning rate of group 0 to 1.0000e-03.\n",
      "------ epoch:13 ------\n"
     ]
    },
    {
     "name": "stderr",
     "output_type": "stream",
     "text": [
      "100%|██████████| 252/252 [00:03<00:00, 72.19it/s]\n",
      "100%|██████████| 28/28 [00:00<00:00, 125.30it/s]\n",
      "100%|██████████| 943/943 [00:00<00:00, 2466.04it/s]\n"
     ]
    },
    {
     "name": "stdout",
     "output_type": "stream",
     "text": [
      "Epoch 13: train loss :   0.147936   val loss :   0.147048   val score :   0.253446\n",
      "------ epoch:14 ------\n"
     ]
    },
    {
     "name": "stderr",
     "output_type": "stream",
     "text": [
      "100%|██████████| 252/252 [00:03<00:00, 71.87it/s]\n",
      "100%|██████████| 28/28 [00:00<00:00, 132.75it/s]\n",
      "100%|██████████| 943/943 [00:00<00:00, 1602.18it/s]\n"
     ]
    },
    {
     "name": "stdout",
     "output_type": "stream",
     "text": [
      "Epoch 14: train loss :   0.147864   val loss :   0.147035   val score :   0.256628\n",
      "------ epoch:15 ------\n"
     ]
    },
    {
     "name": "stderr",
     "output_type": "stream",
     "text": [
      "100%|██████████| 252/252 [00:03<00:00, 70.97it/s]\n",
      "100%|██████████| 28/28 [00:00<00:00, 133.83it/s]\n",
      "100%|██████████| 943/943 [00:00<00:00, 2905.02it/s]\n"
     ]
    },
    {
     "name": "stdout",
     "output_type": "stream",
     "text": [
      "Epoch 15: train loss :   0.147856   val loss :   0.147030   val score :   0.255567\n",
      "------ epoch:16 ------\n"
     ]
    },
    {
     "name": "stderr",
     "output_type": "stream",
     "text": [
      "100%|██████████| 252/252 [00:03<00:00, 71.89it/s]\n",
      "100%|██████████| 28/28 [00:00<00:00, 134.20it/s]\n",
      "100%|██████████| 943/943 [00:00<00:00, 2394.65it/s]\n"
     ]
    },
    {
     "name": "stdout",
     "output_type": "stream",
     "text": [
      "Epoch 16: train loss :   0.147831   val loss :   0.147025   val score :   0.253446\n",
      "------ epoch:17 ------\n"
     ]
    },
    {
     "name": "stderr",
     "output_type": "stream",
     "text": [
      "100%|██████████| 252/252 [00:03<00:00, 70.56it/s]\n",
      "100%|██████████| 28/28 [00:00<00:00, 130.61it/s]\n",
      "100%|██████████| 943/943 [00:00<00:00, 2495.20it/s]\n"
     ]
    },
    {
     "name": "stdout",
     "output_type": "stream",
     "text": [
      "Epoch 17: train loss :   0.147875   val loss :   0.147020   val score :   0.251326\n",
      "Epoch 00017: reducing learning rate of group 0 to 1.0000e-04.\n",
      "------ epoch:18 ------\n"
     ]
    },
    {
     "name": "stderr",
     "output_type": "stream",
     "text": [
      "100%|██████████| 252/252 [00:03<00:00, 73.12it/s]\n",
      "100%|██████████| 28/28 [00:00<00:00, 132.90it/s]\n",
      "100%|██████████| 943/943 [00:00<00:00, 2388.23it/s]\n"
     ]
    },
    {
     "name": "stdout",
     "output_type": "stream",
     "text": [
      "Epoch 18: train loss :   0.147759   val loss :   0.147020   val score :   0.252386\n",
      "------ epoch:19 ------\n"
     ]
    },
    {
     "name": "stderr",
     "output_type": "stream",
     "text": [
      "100%|██████████| 252/252 [00:03<00:00, 73.65it/s]\n",
      "100%|██████████| 28/28 [00:00<00:00, 135.05it/s]\n",
      "100%|██████████| 943/943 [00:00<00:00, 2549.76it/s]\n"
     ]
    },
    {
     "name": "stdout",
     "output_type": "stream",
     "text": [
      "Epoch 19: train loss :   0.147804   val loss :   0.147019   val score :   0.251326\n",
      "------ epoch:20 ------\n"
     ]
    },
    {
     "name": "stderr",
     "output_type": "stream",
     "text": [
      "100%|██████████| 252/252 [00:03<00:00, 73.86it/s]\n",
      "100%|██████████| 28/28 [00:00<00:00, 130.01it/s]\n",
      "100%|██████████| 943/943 [00:00<00:00, 2071.96it/s]\n"
     ]
    },
    {
     "name": "stdout",
     "output_type": "stream",
     "text": [
      "Epoch 20: train loss :   0.147826   val loss :   0.147020   val score :   0.251326\n",
      "Epoch 00020: reducing learning rate of group 0 to 1.0000e-05.\n"
     ]
    },
    {
     "name": "stderr",
     "output_type": "stream",
     "text": [
      "100%|██████████| 70/70 [00:00<00:00, 112.29it/s]\n",
      "100%|██████████| 943/943 [00:00<00:00, 2167.43it/s]\n"
     ]
    },
    {
     "name": "stdout",
     "output_type": "stream",
     "text": [
      "------ log loss of 1 fold : 0.14509498753717967 ------\n",
      "------ score of 1 fold : 0.22481442205726404 ------\n",
      "------ 第2折 ------\n",
      "------ epoch:1 ------\n"
     ]
    },
    {
     "name": "stderr",
     "output_type": "stream",
     "text": [
      "100%|██████████| 252/252 [00:03<00:00, 74.85it/s]\n",
      "100%|██████████| 28/28 [00:00<00:00, 96.14it/s] \n",
      "100%|██████████| 943/943 [00:00<00:00, 2457.18it/s]\n"
     ]
    },
    {
     "name": "stdout",
     "output_type": "stream",
     "text": [
      "Epoch 1: train loss :   0.304694   val loss :   0.153859   val score :   0.201485\n",
      "------ epoch:2 ------\n"
     ]
    },
    {
     "name": "stderr",
     "output_type": "stream",
     "text": [
      "100%|██████████| 252/252 [00:03<00:00, 75.32it/s]\n",
      "100%|██████████| 28/28 [00:00<00:00, 96.96it/s] \n",
      "100%|██████████| 943/943 [00:00<00:00, 1936.22it/s]\n"
     ]
    },
    {
     "name": "stdout",
     "output_type": "stream",
     "text": [
      "Epoch 2: train loss :   0.192609   val loss :   0.152332   val score :   0.202545\n",
      "------ epoch:3 ------\n"
     ]
    },
    {
     "name": "stderr",
     "output_type": "stream",
     "text": [
      "100%|██████████| 252/252 [00:03<00:00, 73.91it/s]\n",
      "100%|██████████| 28/28 [00:00<00:00, 96.72it/s] \n",
      "100%|██████████| 943/943 [00:00<00:00, 1422.12it/s]\n"
     ]
    },
    {
     "name": "stdout",
     "output_type": "stream",
     "text": [
      "Epoch 3: train loss :   0.177438   val loss :   0.151367   val score :   0.227996\n",
      "------ epoch:4 ------\n"
     ]
    },
    {
     "name": "stderr",
     "output_type": "stream",
     "text": [
      "100%|██████████| 252/252 [00:03<00:00, 72.07it/s]\n",
      "100%|██████████| 28/28 [00:00<00:00, 134.35it/s]\n",
      "100%|██████████| 943/943 [00:00<00:00, 2422.99it/s]\n"
     ]
    },
    {
     "name": "stdout",
     "output_type": "stream",
     "text": [
      "Epoch 4: train loss :   0.164394   val loss :   0.149996   val score :   0.238600\n",
      "------ epoch:5 ------\n"
     ]
    },
    {
     "name": "stderr",
     "output_type": "stream",
     "text": [
      "100%|██████████| 252/252 [00:03<00:00, 73.66it/s]\n",
      "100%|██████████| 28/28 [00:00<00:00, 135.98it/s]\n",
      "100%|██████████| 943/943 [00:00<00:00, 2599.98it/s]\n"
     ]
    },
    {
     "name": "stdout",
     "output_type": "stream",
     "text": [
      "Epoch 5: train loss :   0.155574   val loss :   0.148497   val score :   0.253446\n",
      "------ epoch:6 ------\n"
     ]
    },
    {
     "name": "stderr",
     "output_type": "stream",
     "text": [
      "100%|██████████| 252/252 [00:03<00:00, 73.39it/s]\n",
      "100%|██████████| 28/28 [00:00<00:00, 137.50it/s]\n",
      "100%|██████████| 943/943 [00:00<00:00, 2471.66it/s]\n"
     ]
    },
    {
     "name": "stdout",
     "output_type": "stream",
     "text": [
      "Epoch 6: train loss :   0.151734   val loss :   0.147855   val score :   0.258749\n",
      "------ epoch:7 ------\n"
     ]
    },
    {
     "name": "stderr",
     "output_type": "stream",
     "text": [
      "100%|██████████| 252/252 [00:03<00:00, 73.43it/s]\n",
      "100%|██████████| 28/28 [00:00<00:00, 136.67it/s]\n",
      "100%|██████████| 943/943 [00:00<00:00, 1504.07it/s]\n"
     ]
    },
    {
     "name": "stdout",
     "output_type": "stream",
     "text": [
      "Epoch 7: train loss :   0.150030   val loss :   0.147607   val score :   0.251326\n",
      "------ epoch:8 ------\n"
     ]
    },
    {
     "name": "stderr",
     "output_type": "stream",
     "text": [
      "100%|██████████| 252/252 [00:03<00:00, 70.15it/s]\n",
      "100%|██████████| 28/28 [00:00<00:00, 135.18it/s]\n",
      "100%|██████████| 943/943 [00:00<00:00, 2547.44it/s]\n"
     ]
    },
    {
     "name": "stdout",
     "output_type": "stream",
     "text": [
      "Epoch 8: train loss :   0.149113   val loss :   0.147443   val score :   0.249205\n",
      "------ epoch:9 ------\n"
     ]
    },
    {
     "name": "stderr",
     "output_type": "stream",
     "text": [
      "100%|██████████| 252/252 [00:03<00:00, 71.90it/s]\n",
      "100%|██████████| 28/28 [00:00<00:00, 133.31it/s]\n",
      "100%|██████████| 943/943 [00:00<00:00, 2240.45it/s]\n"
     ]
    },
    {
     "name": "stdout",
     "output_type": "stream",
     "text": [
      "Epoch 9: train loss :   0.148633   val loss :   0.147351   val score :   0.253446\n",
      "Epoch 00009: reducing learning rate of group 0 to 1.0000e-03.\n",
      "------ epoch:10 ------\n"
     ]
    },
    {
     "name": "stderr",
     "output_type": "stream",
     "text": [
      "100%|██████████| 252/252 [00:03<00:00, 73.04it/s]\n",
      "100%|██████████| 28/28 [00:00<00:00, 133.69it/s]\n",
      "100%|██████████| 943/943 [00:00<00:00, 2551.20it/s]\n"
     ]
    },
    {
     "name": "stdout",
     "output_type": "stream",
     "text": [
      "Epoch 10: train loss :   0.148103   val loss :   0.147330   val score :   0.255567\n",
      "------ epoch:11 ------\n"
     ]
    },
    {
     "name": "stderr",
     "output_type": "stream",
     "text": [
      "100%|██████████| 252/252 [00:03<00:00, 71.62it/s]\n",
      "100%|██████████| 28/28 [00:00<00:00, 131.25it/s]\n",
      "100%|██████████| 943/943 [00:00<00:00, 2427.88it/s]\n"
     ]
    },
    {
     "name": "stdout",
     "output_type": "stream",
     "text": [
      "Epoch 11: train loss :   0.148088   val loss :   0.147317   val score :   0.256628\n",
      "------ epoch:12 ------\n"
     ]
    },
    {
     "name": "stderr",
     "output_type": "stream",
     "text": [
      "100%|██████████| 252/252 [00:03<00:00, 69.42it/s]\n",
      "100%|██████████| 28/28 [00:00<00:00, 137.86it/s]\n",
      "100%|██████████| 943/943 [00:00<00:00, 2627.78it/s]\n"
     ]
    },
    {
     "name": "stdout",
     "output_type": "stream",
     "text": [
      "Epoch 12: train loss :   0.147986   val loss :   0.147307   val score :   0.259809\n",
      "------ epoch:13 ------\n"
     ]
    },
    {
     "name": "stderr",
     "output_type": "stream",
     "text": [
      "100%|██████████| 252/252 [00:03<00:00, 72.85it/s]\n",
      "100%|██████████| 28/28 [00:00<00:00, 107.75it/s]\n",
      "100%|██████████| 943/943 [00:00<00:00, 1998.60it/s]\n"
     ]
    },
    {
     "name": "stdout",
     "output_type": "stream",
     "text": [
      "Epoch 13: train loss :   0.147993   val loss :   0.147299   val score :   0.259809\n",
      "------ epoch:14 ------\n"
     ]
    },
    {
     "name": "stderr",
     "output_type": "stream",
     "text": [
      "100%|██████████| 252/252 [00:03<00:00, 72.39it/s]\n",
      "100%|██████████| 28/28 [00:00<00:00, 132.28it/s]\n",
      "100%|██████████| 943/943 [00:00<00:00, 2463.33it/s]\n"
     ]
    },
    {
     "name": "stdout",
     "output_type": "stream",
     "text": [
      "Epoch 14: train loss :   0.147964   val loss :   0.147292   val score :   0.260870\n",
      "------ epoch:15 ------\n"
     ]
    },
    {
     "name": "stderr",
     "output_type": "stream",
     "text": [
      "100%|██████████| 252/252 [00:03<00:00, 66.37it/s]\n",
      "100%|██████████| 28/28 [00:00<00:00, 133.34it/s]\n",
      "100%|██████████| 943/943 [00:00<00:00, 2382.72it/s]\n"
     ]
    },
    {
     "name": "stdout",
     "output_type": "stream",
     "text": [
      "Epoch 15: train loss :   0.147937   val loss :   0.147286   val score :   0.259809\n",
      "------ epoch:16 ------\n"
     ]
    },
    {
     "name": "stderr",
     "output_type": "stream",
     "text": [
      "100%|██████████| 252/252 [00:03<00:00, 70.79it/s]\n",
      "100%|██████████| 28/28 [00:00<00:00, 132.78it/s]\n",
      "100%|██████████| 943/943 [00:00<00:00, 2433.63it/s]\n"
     ]
    },
    {
     "name": "stdout",
     "output_type": "stream",
     "text": [
      "Epoch 16: train loss :   0.147847   val loss :   0.147280   val score :   0.261930\n",
      "------ epoch:17 ------\n"
     ]
    },
    {
     "name": "stderr",
     "output_type": "stream",
     "text": [
      "100%|██████████| 252/252 [00:03<00:00, 68.47it/s]\n",
      "100%|██████████| 28/28 [00:00<00:00, 133.71it/s]\n",
      "100%|██████████| 943/943 [00:00<00:00, 2478.95it/s]\n"
     ]
    },
    {
     "name": "stdout",
     "output_type": "stream",
     "text": [
      "Epoch 17: train loss :   0.147870   val loss :   0.147273   val score :   0.265111\n",
      "------ epoch:18 ------\n"
     ]
    },
    {
     "name": "stderr",
     "output_type": "stream",
     "text": [
      "100%|██████████| 252/252 [00:03<00:00, 68.07it/s]\n",
      "100%|██████████| 28/28 [00:00<00:00, 132.99it/s]\n",
      "100%|██████████| 943/943 [00:00<00:00, 2264.79it/s]\n"
     ]
    },
    {
     "name": "stdout",
     "output_type": "stream",
     "text": [
      "Epoch 18: train loss :   0.147862   val loss :   0.147269   val score :   0.262990\n",
      "------ epoch:19 ------\n"
     ]
    },
    {
     "name": "stderr",
     "output_type": "stream",
     "text": [
      "100%|██████████| 252/252 [00:03<00:00, 69.54it/s]\n",
      "100%|██████████| 28/28 [00:00<00:00, 134.24it/s]\n",
      "100%|██████████| 943/943 [00:00<00:00, 1501.34it/s]\n"
     ]
    },
    {
     "name": "stdout",
     "output_type": "stream",
     "text": [
      "Epoch 19: train loss :   0.147798   val loss :   0.147263   val score :   0.265111\n",
      "------ epoch:20 ------\n"
     ]
    },
    {
     "name": "stderr",
     "output_type": "stream",
     "text": [
      "100%|██████████| 252/252 [00:03<00:00, 69.49it/s]\n",
      "100%|██████████| 28/28 [00:00<00:00, 131.54it/s]\n",
      "100%|██████████| 943/943 [00:00<00:00, 2815.98it/s]\n"
     ]
    },
    {
     "name": "stdout",
     "output_type": "stream",
     "text": [
      "Epoch 20: train loss :   0.147790   val loss :   0.147256   val score :   0.262990\n",
      "Epoch 00020: reducing learning rate of group 0 to 1.0000e-04.\n",
      "------ epoch:21 ------\n"
     ]
    },
    {
     "name": "stderr",
     "output_type": "stream",
     "text": [
      "100%|██████████| 252/252 [00:03<00:00, 70.49it/s]\n",
      "100%|██████████| 28/28 [00:00<00:00, 132.78it/s]\n",
      "100%|██████████| 943/943 [00:00<00:00, 2371.42it/s]\n"
     ]
    },
    {
     "name": "stdout",
     "output_type": "stream",
     "text": [
      "Epoch 21: train loss :   0.147796   val loss :   0.147255   val score :   0.264051\n",
      "------ epoch:22 ------\n"
     ]
    },
    {
     "name": "stderr",
     "output_type": "stream",
     "text": [
      "100%|██████████| 252/252 [00:03<00:00, 66.29it/s]\n",
      "100%|██████████| 28/28 [00:00<00:00, 128.49it/s]\n",
      "100%|██████████| 943/943 [00:00<00:00, 1415.22it/s]\n"
     ]
    },
    {
     "name": "stdout",
     "output_type": "stream",
     "text": [
      "Epoch 22: train loss :   0.147773   val loss :   0.147255   val score :   0.264051\n",
      "------ epoch:23 ------\n"
     ]
    },
    {
     "name": "stderr",
     "output_type": "stream",
     "text": [
      "100%|██████████| 252/252 [00:03<00:00, 67.77it/s]\n",
      "100%|██████████| 28/28 [00:00<00:00, 131.25it/s]\n",
      "100%|██████████| 943/943 [00:00<00:00, 2351.98it/s]\n"
     ]
    },
    {
     "name": "stdout",
     "output_type": "stream",
     "text": [
      "Epoch 23: train loss :   0.147757   val loss :   0.147254   val score :   0.264051\n",
      "Epoch 00023: reducing learning rate of group 0 to 1.0000e-05.\n"
     ]
    },
    {
     "name": "stderr",
     "output_type": "stream",
     "text": [
      "100%|██████████| 70/70 [00:00<00:00, 114.74it/s]\n",
      "100%|██████████| 943/943 [00:00<00:00, 2362.23it/s]\n"
     ]
    },
    {
     "name": "stdout",
     "output_type": "stream",
     "text": [
      "------ log loss of 2 fold : 0.14566182238715036 ------\n",
      "------ score of 2 fold : 0.24814422057264052 ------\n",
      "------ 第3折 ------\n",
      "------ epoch:1 ------\n"
     ]
    },
    {
     "name": "stderr",
     "output_type": "stream",
     "text": [
      "100%|██████████| 252/252 [00:03<00:00, 69.56it/s]\n",
      "100%|██████████| 28/28 [00:00<00:00, 131.97it/s]\n",
      "100%|██████████| 943/943 [00:00<00:00, 2482.94it/s]\n"
     ]
    },
    {
     "name": "stdout",
     "output_type": "stream",
     "text": [
      "Epoch 1: train loss :   0.293317   val loss :   0.152352   val score :   0.213150\n",
      "------ epoch:2 ------\n"
     ]
    },
    {
     "name": "stderr",
     "output_type": "stream",
     "text": [
      "100%|██████████| 252/252 [00:03<00:00, 67.81it/s]\n",
      "100%|██████████| 28/28 [00:00<00:00, 133.89it/s]\n",
      "100%|██████████| 943/943 [00:00<00:00, 2404.08it/s]\n"
     ]
    },
    {
     "name": "stdout",
     "output_type": "stream",
     "text": [
      "Epoch 2: train loss :   0.190298   val loss :   0.151160   val score :   0.217391\n",
      "------ epoch:3 ------\n"
     ]
    },
    {
     "name": "stderr",
     "output_type": "stream",
     "text": [
      "100%|██████████| 252/252 [00:03<00:00, 70.32it/s]\n",
      "100%|██████████| 28/28 [00:00<00:00, 133.04it/s]\n",
      "100%|██████████| 943/943 [00:00<00:00, 2550.57it/s]\n"
     ]
    },
    {
     "name": "stdout",
     "output_type": "stream",
     "text": [
      "Epoch 3: train loss :   0.175373   val loss :   0.150114   val score :   0.220573\n",
      "------ epoch:4 ------\n"
     ]
    },
    {
     "name": "stderr",
     "output_type": "stream",
     "text": [
      "100%|██████████| 252/252 [00:03<00:00, 72.82it/s]\n",
      "100%|██████████| 28/28 [00:00<00:00, 91.97it/s]\n",
      "100%|██████████| 943/943 [00:00<00:00, 2224.56it/s]\n"
     ]
    },
    {
     "name": "stdout",
     "output_type": "stream",
     "text": [
      "Epoch 4: train loss :   0.162680   val loss :   0.148695   val score :   0.226935\n",
      "------ epoch:5 ------\n"
     ]
    },
    {
     "name": "stderr",
     "output_type": "stream",
     "text": [
      "100%|██████████| 252/252 [00:03<00:00, 74.66it/s]\n",
      "100%|██████████| 28/28 [00:00<00:00, 97.66it/s]\n",
      "100%|██████████| 943/943 [00:00<00:00, 2818.96it/s]\n"
     ]
    },
    {
     "name": "stdout",
     "output_type": "stream",
     "text": [
      "Epoch 5: train loss :   0.154629   val loss :   0.147407   val score :   0.238600\n",
      "------ epoch:6 ------\n"
     ]
    },
    {
     "name": "stderr",
     "output_type": "stream",
     "text": [
      "100%|██████████| 252/252 [00:03<00:00, 74.56it/s]\n",
      "100%|██████████| 28/28 [00:00<00:00, 98.22it/s] \n",
      "100%|██████████| 943/943 [00:00<00:00, 2428.68it/s]\n"
     ]
    },
    {
     "name": "stdout",
     "output_type": "stream",
     "text": [
      "Epoch 6: train loss :   0.151240   val loss :   0.146863   val score :   0.229056\n",
      "------ epoch:7 ------\n"
     ]
    },
    {
     "name": "stderr",
     "output_type": "stream",
     "text": [
      "100%|██████████| 252/252 [00:03<00:00, 75.74it/s]\n",
      "100%|██████████| 28/28 [00:00<00:00, 97.18it/s] \n",
      "100%|██████████| 943/943 [00:00<00:00, 2573.68it/s]\n"
     ]
    },
    {
     "name": "stdout",
     "output_type": "stream",
     "text": [
      "Epoch 7: train loss :   0.149678   val loss :   0.146613   val score :   0.231177\n",
      "------ epoch:8 ------\n"
     ]
    },
    {
     "name": "stderr",
     "output_type": "stream",
     "text": [
      "100%|██████████| 252/252 [00:03<00:00, 76.12it/s]\n",
      "100%|██████████| 28/28 [00:00<00:00, 97.08it/s] \n",
      "100%|██████████| 943/943 [00:00<00:00, 2638.36it/s]\n"
     ]
    },
    {
     "name": "stdout",
     "output_type": "stream",
     "text": [
      "Epoch 8: train loss :   0.148720   val loss :   0.146488   val score :   0.237540\n",
      "Epoch 00008: reducing learning rate of group 0 to 1.0000e-03.\n",
      "------ epoch:9 ------\n"
     ]
    },
    {
     "name": "stderr",
     "output_type": "stream",
     "text": [
      "100%|██████████| 252/252 [00:03<00:00, 75.67it/s]\n",
      "100%|██████████| 28/28 [00:00<00:00, 97.74it/s] \n",
      "100%|██████████| 943/943 [00:00<00:00, 2850.82it/s]\n"
     ]
    },
    {
     "name": "stdout",
     "output_type": "stream",
     "text": [
      "Epoch 9: train loss :   0.148153   val loss :   0.146469   val score :   0.238600\n",
      "------ epoch:10 ------\n"
     ]
    },
    {
     "name": "stderr",
     "output_type": "stream",
     "text": [
      "100%|██████████| 252/252 [00:03<00:00, 74.43it/s]\n",
      "100%|██████████| 28/28 [00:00<00:00, 93.78it/s] \n",
      "100%|██████████| 943/943 [00:00<00:00, 2401.14it/s]\n"
     ]
    },
    {
     "name": "stdout",
     "output_type": "stream",
     "text": [
      "Epoch 10: train loss :   0.148130   val loss :   0.146450   val score :   0.235419\n",
      "------ epoch:11 ------\n"
     ]
    },
    {
     "name": "stderr",
     "output_type": "stream",
     "text": [
      "100%|██████████| 252/252 [00:03<00:00, 75.34it/s]\n",
      "100%|██████████| 28/28 [00:00<00:00, 95.83it/s] \n",
      "100%|██████████| 943/943 [00:00<00:00, 2415.64it/s]\n"
     ]
    },
    {
     "name": "stdout",
     "output_type": "stream",
     "text": [
      "Epoch 11: train loss :   0.148035   val loss :   0.146433   val score :   0.233298\n",
      "Epoch 00011: reducing learning rate of group 0 to 1.0000e-04.\n"
     ]
    },
    {
     "name": "stderr",
     "output_type": "stream",
     "text": [
      "100%|██████████| 70/70 [00:00<00:00, 134.59it/s]\n",
      "100%|██████████| 943/943 [00:00<00:00, 2605.57it/s]\n"
     ]
    },
    {
     "name": "stdout",
     "output_type": "stream",
     "text": [
      "------ log loss of 3 fold : 0.14701346116406577 ------\n",
      "------ score of 3 fold : 0.2163308589607635 ------\n",
      "------ 第4折 ------\n",
      "------ epoch:1 ------\n"
     ]
    },
    {
     "name": "stderr",
     "output_type": "stream",
     "text": [
      "100%|██████████| 252/252 [00:03<00:00, 74.23it/s]\n",
      "100%|██████████| 28/28 [00:00<00:00, 134.48it/s]\n",
      "100%|██████████| 943/943 [00:00<00:00, 2591.32it/s]\n"
     ]
    },
    {
     "name": "stdout",
     "output_type": "stream",
     "text": [
      "Epoch 1: train loss :   0.297907   val loss :   0.153342   val score :   0.204666\n",
      "------ epoch:2 ------\n"
     ]
    },
    {
     "name": "stderr",
     "output_type": "stream",
     "text": [
      "100%|██████████| 252/252 [00:03<00:00, 71.07it/s]\n",
      "100%|██████████| 28/28 [00:00<00:00, 133.27it/s]\n",
      "100%|██████████| 943/943 [00:00<00:00, 2356.15it/s]\n"
     ]
    },
    {
     "name": "stdout",
     "output_type": "stream",
     "text": [
      "Epoch 2: train loss :   0.190353   val loss :   0.151873   val score :   0.212089\n",
      "------ epoch:3 ------\n"
     ]
    },
    {
     "name": "stderr",
     "output_type": "stream",
     "text": [
      "100%|██████████| 252/252 [00:03<00:00, 73.10it/s]\n",
      "100%|██████████| 28/28 [00:00<00:00, 135.55it/s]\n",
      "100%|██████████| 943/943 [00:00<00:00, 2605.15it/s]\n"
     ]
    },
    {
     "name": "stdout",
     "output_type": "stream",
     "text": [
      "Epoch 3: train loss :   0.175943   val loss :   0.150868   val score :   0.227996\n",
      "------ epoch:4 ------\n"
     ]
    },
    {
     "name": "stderr",
     "output_type": "stream",
     "text": [
      "100%|██████████| 252/252 [00:03<00:00, 73.68it/s]\n",
      "100%|██████████| 28/28 [00:00<00:00, 133.10it/s]\n",
      "100%|██████████| 943/943 [00:00<00:00, 2440.07it/s]\n"
     ]
    },
    {
     "name": "stdout",
     "output_type": "stream",
     "text": [
      "Epoch 4: train loss :   0.163504   val loss :   0.149561   val score :   0.233298\n",
      "------ epoch:5 ------\n"
     ]
    },
    {
     "name": "stderr",
     "output_type": "stream",
     "text": [
      "100%|██████████| 252/252 [00:03<00:00, 74.16it/s]\n",
      "100%|██████████| 28/28 [00:00<00:00, 135.93it/s]\n",
      "100%|██████████| 943/943 [00:00<00:00, 1516.87it/s]\n"
     ]
    },
    {
     "name": "stdout",
     "output_type": "stream",
     "text": [
      "Epoch 5: train loss :   0.155214   val loss :   0.148227   val score :   0.258749\n",
      "------ epoch:6 ------\n"
     ]
    },
    {
     "name": "stderr",
     "output_type": "stream",
     "text": [
      "100%|██████████| 252/252 [00:03<00:00, 73.11it/s]\n",
      "100%|██████████| 28/28 [00:00<00:00, 135.25it/s]\n",
      "100%|██████████| 943/943 [00:00<00:00, 2698.91it/s]\n"
     ]
    },
    {
     "name": "stdout",
     "output_type": "stream",
     "text": [
      "Epoch 6: train loss :   0.151608   val loss :   0.147649   val score :   0.250265\n",
      "------ epoch:7 ------\n"
     ]
    },
    {
     "name": "stderr",
     "output_type": "stream",
     "text": [
      "100%|██████████| 252/252 [00:03<00:00, 73.17it/s]\n",
      "100%|██████████| 28/28 [00:00<00:00, 133.33it/s]\n",
      "100%|██████████| 943/943 [00:00<00:00, 1422.95it/s]\n"
     ]
    },
    {
     "name": "stdout",
     "output_type": "stream",
     "text": [
      "Epoch 7: train loss :   0.149977   val loss :   0.147355   val score :   0.250265\n",
      "------ epoch:8 ------\n"
     ]
    },
    {
     "name": "stderr",
     "output_type": "stream",
     "text": [
      "100%|██████████| 252/252 [00:03<00:00, 75.00it/s]\n",
      "100%|██████████| 28/28 [00:00<00:00, 134.79it/s]\n",
      "100%|██████████| 943/943 [00:00<00:00, 2601.38it/s]\n"
     ]
    },
    {
     "name": "stdout",
     "output_type": "stream",
     "text": [
      "Epoch 8: train loss :   0.149057   val loss :   0.147213   val score :   0.249205\n",
      "Epoch 00008: reducing learning rate of group 0 to 1.0000e-03.\n",
      "------ epoch:9 ------\n"
     ]
    },
    {
     "name": "stderr",
     "output_type": "stream",
     "text": [
      "100%|██████████| 252/252 [00:03<00:00, 72.68it/s]\n",
      "100%|██████████| 28/28 [00:00<00:00, 132.77it/s]\n",
      "100%|██████████| 943/943 [00:00<00:00, 2338.84it/s]\n"
     ]
    },
    {
     "name": "stdout",
     "output_type": "stream",
     "text": [
      "Epoch 9: train loss :   0.148513   val loss :   0.147191   val score :   0.252386\n",
      "------ epoch:10 ------\n"
     ]
    },
    {
     "name": "stderr",
     "output_type": "stream",
     "text": [
      "100%|██████████| 252/252 [00:03<00:00, 74.43it/s]\n",
      "100%|██████████| 28/28 [00:00<00:00, 137.68it/s]\n",
      "100%|██████████| 943/943 [00:00<00:00, 1584.40it/s]\n"
     ]
    },
    {
     "name": "stdout",
     "output_type": "stream",
     "text": [
      "Epoch 10: train loss :   0.148395   val loss :   0.147175   val score :   0.255567\n",
      "------ epoch:11 ------\n"
     ]
    },
    {
     "name": "stderr",
     "output_type": "stream",
     "text": [
      "100%|██████████| 252/252 [00:03<00:00, 73.95it/s]\n",
      "100%|██████████| 28/28 [00:00<00:00, 133.91it/s]\n",
      "100%|██████████| 943/943 [00:00<00:00, 2658.53it/s]\n"
     ]
    },
    {
     "name": "stdout",
     "output_type": "stream",
     "text": [
      "Epoch 11: train loss :   0.148358   val loss :   0.147161   val score :   0.254507\n",
      "Epoch 00011: reducing learning rate of group 0 to 1.0000e-04.\n"
     ]
    },
    {
     "name": "stderr",
     "output_type": "stream",
     "text": [
      "100%|██████████| 70/70 [00:00<00:00, 118.18it/s]\n",
      "100%|██████████| 943/943 [00:00<00:00, 1603.86it/s]\n"
     ]
    },
    {
     "name": "stdout",
     "output_type": "stream",
     "text": [
      "------ log loss of 4 fold : 0.1458307934658868 ------\n",
      "------ score of 4 fold : 0.22799575821845175 ------\n",
      "------ 第5折 ------\n",
      "------ epoch:1 ------\n"
     ]
    },
    {
     "name": "stderr",
     "output_type": "stream",
     "text": [
      "100%|██████████| 252/252 [00:03<00:00, 74.40it/s]\n",
      "100%|██████████| 28/28 [00:00<00:00, 96.44it/s] \n",
      "100%|██████████| 943/943 [00:00<00:00, 1635.90it/s]\n"
     ]
    },
    {
     "name": "stdout",
     "output_type": "stream",
     "text": [
      "Epoch 1: train loss :   0.295214   val loss :   0.152898   val score :   0.176034\n",
      "------ epoch:2 ------\n"
     ]
    },
    {
     "name": "stderr",
     "output_type": "stream",
     "text": [
      "100%|██████████| 252/252 [00:03<00:00, 74.57it/s]\n",
      "100%|██████████| 28/28 [00:00<00:00, 96.60it/s] \n",
      "100%|██████████| 943/943 [00:00<00:00, 2638.29it/s]\n"
     ]
    },
    {
     "name": "stdout",
     "output_type": "stream",
     "text": [
      "Epoch 2: train loss :   0.189694   val loss :   0.151361   val score :   0.182397\n",
      "------ epoch:3 ------\n"
     ]
    },
    {
     "name": "stderr",
     "output_type": "stream",
     "text": [
      "100%|██████████| 252/252 [00:03<00:00, 75.84it/s]\n",
      "100%|██████████| 28/28 [00:00<00:00, 134.10it/s]\n",
      "100%|██████████| 943/943 [00:00<00:00, 2548.71it/s]\n"
     ]
    },
    {
     "name": "stdout",
     "output_type": "stream",
     "text": [
      "Epoch 3: train loss :   0.175187   val loss :   0.150209   val score :   0.201485\n",
      "------ epoch:4 ------\n"
     ]
    },
    {
     "name": "stderr",
     "output_type": "stream",
     "text": [
      "100%|██████████| 252/252 [00:03<00:00, 74.08it/s]\n",
      "100%|██████████| 28/28 [00:00<00:00, 132.29it/s]\n",
      "100%|██████████| 943/943 [00:00<00:00, 2388.89it/s]\n"
     ]
    },
    {
     "name": "stdout",
     "output_type": "stream",
     "text": [
      "Epoch 4: train loss :   0.162848   val loss :   0.148865   val score :   0.203606\n",
      "------ epoch:5 ------\n"
     ]
    },
    {
     "name": "stderr",
     "output_type": "stream",
     "text": [
      "100%|██████████| 252/252 [00:03<00:00, 71.67it/s]\n",
      "100%|██████████| 28/28 [00:00<00:00, 134.45it/s]\n",
      "100%|██████████| 943/943 [00:00<00:00, 2590.21it/s]\n"
     ]
    },
    {
     "name": "stdout",
     "output_type": "stream",
     "text": [
      "Epoch 5: train loss :   0.154832   val loss :   0.147503   val score :   0.226935\n",
      "------ epoch:6 ------\n"
     ]
    },
    {
     "name": "stderr",
     "output_type": "stream",
     "text": [
      "100%|██████████| 252/252 [00:03<00:00, 73.82it/s]\n",
      "100%|██████████| 28/28 [00:00<00:00, 135.16it/s]\n",
      "100%|██████████| 943/943 [00:00<00:00, 2438.37it/s]\n"
     ]
    },
    {
     "name": "stdout",
     "output_type": "stream",
     "text": [
      "Epoch 6: train loss :   0.151465   val loss :   0.146943   val score :   0.223754\n",
      "------ epoch:7 ------\n"
     ]
    },
    {
     "name": "stderr",
     "output_type": "stream",
     "text": [
      "100%|██████████| 252/252 [00:03<00:00, 73.44it/s]\n",
      "100%|██████████| 28/28 [00:00<00:00, 137.35it/s]\n",
      "100%|██████████| 943/943 [00:00<00:00, 2931.72it/s]\n"
     ]
    },
    {
     "name": "stdout",
     "output_type": "stream",
     "text": [
      "Epoch 7: train loss :   0.149817   val loss :   0.146743   val score :   0.233298\n",
      "------ epoch:8 ------\n"
     ]
    },
    {
     "name": "stderr",
     "output_type": "stream",
     "text": [
      "100%|██████████| 252/252 [00:03<00:00, 73.07it/s]\n",
      "100%|██████████| 28/28 [00:00<00:00, 133.76it/s]\n",
      "100%|██████████| 943/943 [00:00<00:00, 2410.35it/s]\n"
     ]
    },
    {
     "name": "stdout",
     "output_type": "stream",
     "text": [
      "Epoch 8: train loss :   0.148914   val loss :   0.146593   val score :   0.239661\n",
      "------ epoch:9 ------\n"
     ]
    },
    {
     "name": "stderr",
     "output_type": "stream",
     "text": [
      "100%|██████████| 252/252 [00:03<00:00, 70.78it/s]\n",
      "100%|██████████| 28/28 [00:00<00:00, 133.68it/s]\n",
      "100%|██████████| 943/943 [00:00<00:00, 2559.58it/s]\n"
     ]
    },
    {
     "name": "stdout",
     "output_type": "stream",
     "text": [
      "Epoch 9: train loss :   0.148379   val loss :   0.146444   val score :   0.231177\n",
      "------ epoch:10 ------\n"
     ]
    },
    {
     "name": "stderr",
     "output_type": "stream",
     "text": [
      "100%|██████████| 252/252 [00:03<00:00, 73.71it/s]\n",
      "100%|██████████| 28/28 [00:00<00:00, 134.64it/s]\n",
      "100%|██████████| 943/943 [00:00<00:00, 2425.01it/s]\n"
     ]
    },
    {
     "name": "stdout",
     "output_type": "stream",
     "text": [
      "Epoch 10: train loss :   0.148108   val loss :   0.146365   val score :   0.236479\n",
      "------ epoch:11 ------\n"
     ]
    },
    {
     "name": "stderr",
     "output_type": "stream",
     "text": [
      "100%|██████████| 252/252 [00:03<00:00, 73.33it/s]\n",
      "100%|██████████| 28/28 [00:00<00:00, 134.18it/s]\n",
      "100%|██████████| 943/943 [00:00<00:00, 2503.34it/s]\n"
     ]
    },
    {
     "name": "stdout",
     "output_type": "stream",
     "text": [
      "Epoch 11: train loss :   0.147964   val loss :   0.146376   val score :   0.236479\n",
      "Epoch 00011: reducing learning rate of group 0 to 1.0000e-03.\n",
      "------ epoch:12 ------\n"
     ]
    },
    {
     "name": "stderr",
     "output_type": "stream",
     "text": [
      "100%|██████████| 252/252 [00:03<00:00, 73.66it/s]\n",
      "100%|██████████| 28/28 [00:00<00:00, 127.42it/s]\n",
      "100%|██████████| 943/943 [00:00<00:00, 2104.76it/s]\n"
     ]
    },
    {
     "name": "stdout",
     "output_type": "stream",
     "text": [
      "Epoch 12: train loss :   0.147629   val loss :   0.146357   val score :   0.233298\n",
      "------ epoch:13 ------\n"
     ]
    },
    {
     "name": "stderr",
     "output_type": "stream",
     "text": [
      "100%|██████████| 252/252 [00:03<00:00, 68.41it/s]\n",
      "100%|██████████| 28/28 [00:00<00:00, 129.72it/s]\n",
      "100%|██████████| 943/943 [00:00<00:00, 2095.92it/s]\n"
     ]
    },
    {
     "name": "stdout",
     "output_type": "stream",
     "text": [
      "Epoch 13: train loss :   0.147645   val loss :   0.146343   val score :   0.233298\n",
      "------ epoch:14 ------\n"
     ]
    },
    {
     "name": "stderr",
     "output_type": "stream",
     "text": [
      "100%|██████████| 252/252 [00:03<00:00, 67.86it/s]\n",
      "100%|██████████| 28/28 [00:00<00:00, 135.38it/s]\n",
      "100%|██████████| 943/943 [00:00<00:00, 2406.92it/s]\n"
     ]
    },
    {
     "name": "stdout",
     "output_type": "stream",
     "text": [
      "Epoch 14: train loss :   0.147617   val loss :   0.146333   val score :   0.233298\n",
      "Epoch 00014: reducing learning rate of group 0 to 1.0000e-04.\n"
     ]
    },
    {
     "name": "stderr",
     "output_type": "stream",
     "text": [
      "100%|██████████| 70/70 [00:00<00:00, 113.23it/s]\n",
      "100%|██████████| 943/943 [00:00<00:00, 2910.24it/s]"
     ]
    },
    {
     "name": "stdout",
     "output_type": "stream",
     "text": [
      "------ log loss of 5 fold : 0.14634857709918703 ------\n",
      "------ score of 5 fold : 0.25556733828207845 ------\n",
      "settings : percentage = 1, model type = 5\n",
      "parameters :  {'lam': 0.001, 'phi_r': 0.001, 'phi_theta': 0.01, 'num_users': 943, 'num_items': 1682, 'embedding_dim': 10, 'mu': 0.1, 'lr': 0.01, 'alpha': 0.01, 'patience': 5, 'epochs': 30, 'device': 'cuda:0', 'model_selection': True}\n",
      "------ log loss of the model : 0.14598992833069394 ------\n",
      "------ score of the model : 0.23457051961823963 ------\n"
     ]
    },
    {
     "name": "stderr",
     "output_type": "stream",
     "text": [
      "\n"
     ]
    }
   ],
   "source": [
    "embedding_dim = 10\n",
    "lr = 1e-2\n",
    "alpha = 1e-2\n",
    "lam = 1e-3\n",
    "phi_r = 1e-3\n",
    "phi_theta = 1e-2\n",
    "mu = 0.1\n",
    "model_type = 5\n",
    "seed_everything(42)\n",
    "CrossValidation2(train1, model_type=model_type, percentage=percentage, k=5, lam=lam, phi_r=phi_r, phi_theta=phi_theta, \n",
    "                num_users=num_users, num_items=num_items, embedding_dim=embedding_dim, mu=mu,\n",
    "               lr=lr, alpha=alpha, patience=5, epochs=30, device=\"cuda:0\", model_selection=True)"
   ]
  },
  {
   "cell_type": "code",
   "execution_count": 22,
   "id": "691fab1b-ffac-4bf3-88f9-f2062450e4c4",
   "metadata": {
    "collapsed": true,
    "jupyter": {
     "outputs_hidden": true,
     "source_hidden": true
    },
    "tags": []
   },
   "outputs": [
    {
     "name": "stdout",
     "output_type": "stream",
     "text": [
      "------ 第1折 ------\n",
      "------ epoch:1 ------\n"
     ]
    },
    {
     "name": "stderr",
     "output_type": "stream",
     "text": [
      "100%|██████████| 252/252 [00:03<00:00, 64.53it/s]\n",
      "100%|██████████| 28/28 [00:00<00:00, 128.08it/s]\n",
      "100%|██████████| 943/943 [00:00<00:00, 1448.58it/s]\n"
     ]
    },
    {
     "name": "stdout",
     "output_type": "stream",
     "text": [
      "Epoch 1: train loss :   0.301549   val loss :   0.153550   val score :   0.191941\n",
      "------ epoch:2 ------\n"
     ]
    },
    {
     "name": "stderr",
     "output_type": "stream",
     "text": [
      "100%|██████████| 252/252 [00:03<00:00, 66.80it/s]\n",
      "100%|██████████| 28/28 [00:00<00:00, 122.84it/s]\n",
      "100%|██████████| 943/943 [00:00<00:00, 1783.48it/s]\n"
     ]
    },
    {
     "name": "stdout",
     "output_type": "stream",
     "text": [
      "Epoch 2: train loss :   0.191353   val loss :   0.152088   val score :   0.199364\n",
      "------ epoch:3 ------\n"
     ]
    },
    {
     "name": "stderr",
     "output_type": "stream",
     "text": [
      "100%|██████████| 252/252 [00:03<00:00, 70.64it/s]\n",
      "100%|██████████| 28/28 [00:00<00:00, 129.61it/s]\n",
      "100%|██████████| 943/943 [00:00<00:00, 1807.83it/s]\n"
     ]
    },
    {
     "name": "stdout",
     "output_type": "stream",
     "text": [
      "Epoch 3: train loss :   0.176696   val loss :   0.150981   val score :   0.197243\n",
      "------ epoch:4 ------\n"
     ]
    },
    {
     "name": "stderr",
     "output_type": "stream",
     "text": [
      "100%|██████████| 252/252 [00:03<00:00, 70.01it/s]\n",
      "100%|██████████| 28/28 [00:00<00:00, 130.52it/s]\n",
      "100%|██████████| 943/943 [00:00<00:00, 1708.92it/s]\n"
     ]
    },
    {
     "name": "stdout",
     "output_type": "stream",
     "text": [
      "Epoch 4: train loss :   0.164116   val loss :   0.149772   val score :   0.214210\n",
      "------ epoch:5 ------\n"
     ]
    },
    {
     "name": "stderr",
     "output_type": "stream",
     "text": [
      "100%|██████████| 252/252 [00:03<00:00, 70.94it/s]\n",
      "100%|██████████| 28/28 [00:00<00:00, 124.46it/s]\n",
      "100%|██████████| 943/943 [00:00<00:00, 1544.40it/s]\n"
     ]
    },
    {
     "name": "stdout",
     "output_type": "stream",
     "text": [
      "Epoch 5: train loss :   0.155658   val loss :   0.148354   val score :   0.241782\n",
      "------ epoch:6 ------\n"
     ]
    },
    {
     "name": "stderr",
     "output_type": "stream",
     "text": [
      "100%|██████████| 252/252 [00:03<00:00, 69.68it/s]\n",
      "100%|██████████| 28/28 [00:00<00:00, 123.67it/s]\n",
      "100%|██████████| 943/943 [00:00<00:00, 1573.81it/s]\n"
     ]
    },
    {
     "name": "stdout",
     "output_type": "stream",
     "text": [
      "Epoch 6: train loss :   0.151910   val loss :   0.147773   val score :   0.251326\n",
      "------ epoch:7 ------\n"
     ]
    },
    {
     "name": "stderr",
     "output_type": "stream",
     "text": [
      "100%|██████████| 252/252 [00:03<00:00, 70.28it/s]\n",
      "100%|██████████| 28/28 [00:00<00:00, 128.91it/s]\n",
      "100%|██████████| 943/943 [00:00<00:00, 1601.96it/s]\n"
     ]
    },
    {
     "name": "stdout",
     "output_type": "stream",
     "text": [
      "Epoch 7: train loss :   0.150244   val loss :   0.147493   val score :   0.252386\n",
      "------ epoch:8 ------\n"
     ]
    },
    {
     "name": "stderr",
     "output_type": "stream",
     "text": [
      "100%|██████████| 252/252 [00:03<00:00, 71.09it/s]\n",
      "100%|██████████| 28/28 [00:00<00:00, 127.27it/s]\n",
      "100%|██████████| 943/943 [00:00<00:00, 1527.57it/s]\n"
     ]
    },
    {
     "name": "stdout",
     "output_type": "stream",
     "text": [
      "Epoch 8: train loss :   0.149264   val loss :   0.147349   val score :   0.243902\n",
      "------ epoch:9 ------\n"
     ]
    },
    {
     "name": "stderr",
     "output_type": "stream",
     "text": [
      "100%|██████████| 252/252 [00:03<00:00, 69.50it/s]\n",
      "100%|██████████| 28/28 [00:00<00:00, 127.01it/s]\n",
      "100%|██████████| 943/943 [00:00<00:00, 1500.02it/s]\n"
     ]
    },
    {
     "name": "stdout",
     "output_type": "stream",
     "text": [
      "Epoch 9: train loss :   0.148714   val loss :   0.147258   val score :   0.255567\n",
      "------ epoch:10 ------\n"
     ]
    },
    {
     "name": "stderr",
     "output_type": "stream",
     "text": [
      "100%|██████████| 252/252 [00:03<00:00, 76.67it/s]\n",
      "100%|██████████| 28/28 [00:00<00:00, 94.79it/s]\n",
      "100%|██████████| 943/943 [00:00<00:00, 1465.63it/s]\n"
     ]
    },
    {
     "name": "stdout",
     "output_type": "stream",
     "text": [
      "Epoch 10: train loss :   0.148460   val loss :   0.147190   val score :   0.252386\n",
      "------ epoch:11 ------\n"
     ]
    },
    {
     "name": "stderr",
     "output_type": "stream",
     "text": [
      "100%|██████████| 252/252 [00:03<00:00, 74.98it/s]\n",
      "100%|██████████| 28/28 [00:00<00:00, 69.06it/s]\n",
      "100%|██████████| 943/943 [00:00<00:00, 1701.09it/s]\n"
     ]
    },
    {
     "name": "stdout",
     "output_type": "stream",
     "text": [
      "Epoch 11: train loss :   0.148260   val loss :   0.147133   val score :   0.255567\n",
      "------ epoch:12 ------\n"
     ]
    },
    {
     "name": "stderr",
     "output_type": "stream",
     "text": [
      "100%|██████████| 252/252 [00:03<00:00, 72.05it/s]\n",
      "100%|██████████| 28/28 [00:00<00:00, 92.67it/s] \n",
      "100%|██████████| 943/943 [00:00<00:00, 1647.01it/s]\n"
     ]
    },
    {
     "name": "stdout",
     "output_type": "stream",
     "text": [
      "Epoch 12: train loss :   0.148280   val loss :   0.147110   val score :   0.254507\n",
      "Epoch 00012: reducing learning rate of group 0 to 1.0000e-03.\n",
      "------ epoch:13 ------\n"
     ]
    },
    {
     "name": "stderr",
     "output_type": "stream",
     "text": [
      "100%|██████████| 252/252 [00:03<00:00, 68.79it/s]\n",
      "100%|██████████| 28/28 [00:00<00:00, 84.55it/s] \n",
      "100%|██████████| 943/943 [00:00<00:00, 1494.23it/s]\n"
     ]
    },
    {
     "name": "stdout",
     "output_type": "stream",
     "text": [
      "Epoch 13: train loss :   0.147980   val loss :   0.147090   val score :   0.253446\n"
     ]
    },
    {
     "name": "stderr",
     "output_type": "stream",
     "text": [
      "100%|██████████| 70/70 [00:00<00:00, 129.56it/s]\n",
      "100%|██████████| 943/943 [00:00<00:00, 1584.78it/s]\n"
     ]
    },
    {
     "name": "stdout",
     "output_type": "stream",
     "text": [
      "------ log loss of 1 fold : 0.14517859773976463 ------\n",
      "------ score of 1 fold : 0.2205726405090138 ------\n",
      "------ 第2折 ------\n",
      "------ epoch:1 ------\n"
     ]
    },
    {
     "name": "stderr",
     "output_type": "stream",
     "text": [
      "100%|██████████| 252/252 [00:03<00:00, 67.89it/s]\n",
      "100%|██████████| 28/28 [00:00<00:00, 130.04it/s]\n",
      "100%|██████████| 943/943 [00:00<00:00, 1642.55it/s]\n"
     ]
    },
    {
     "name": "stdout",
     "output_type": "stream",
     "text": [
      "Epoch 1: train loss :   0.297910   val loss :   0.153475   val score :   0.195122\n",
      "------ epoch:2 ------\n"
     ]
    },
    {
     "name": "stderr",
     "output_type": "stream",
     "text": [
      "100%|██████████| 252/252 [00:03<00:00, 70.84it/s]\n",
      "100%|██████████| 28/28 [00:00<00:00, 130.61it/s]\n",
      "100%|██████████| 943/943 [00:00<00:00, 1502.79it/s]\n"
     ]
    },
    {
     "name": "stdout",
     "output_type": "stream",
     "text": [
      "Epoch 2: train loss :   0.189783   val loss :   0.151857   val score :   0.182397\n",
      "------ epoch:3 ------\n"
     ]
    },
    {
     "name": "stderr",
     "output_type": "stream",
     "text": [
      "100%|██████████| 252/252 [00:03<00:00, 71.08it/s]\n",
      "100%|██████████| 28/28 [00:00<00:00, 127.88it/s]\n",
      "100%|██████████| 943/943 [00:00<00:00, 1716.60it/s]\n"
     ]
    },
    {
     "name": "stdout",
     "output_type": "stream",
     "text": [
      "Epoch 3: train loss :   0.175405   val loss :   0.151157   val score :   0.201485\n",
      "------ epoch:4 ------\n"
     ]
    },
    {
     "name": "stderr",
     "output_type": "stream",
     "text": [
      "100%|██████████| 252/252 [00:03<00:00, 67.39it/s]\n",
      "100%|██████████| 28/28 [00:00<00:00, 128.81it/s]\n",
      "100%|██████████| 943/943 [00:00<00:00, 1687.26it/s]\n"
     ]
    },
    {
     "name": "stdout",
     "output_type": "stream",
     "text": [
      "Epoch 4: train loss :   0.163196   val loss :   0.149888   val score :   0.199364\n",
      "------ epoch:5 ------\n"
     ]
    },
    {
     "name": "stderr",
     "output_type": "stream",
     "text": [
      "100%|██████████| 252/252 [00:03<00:00, 68.77it/s]\n",
      "100%|██████████| 28/28 [00:00<00:00, 129.43it/s]\n",
      "100%|██████████| 943/943 [00:00<00:00, 1613.22it/s]\n"
     ]
    },
    {
     "name": "stdout",
     "output_type": "stream",
     "text": [
      "Epoch 5: train loss :   0.155109   val loss :   0.148463   val score :   0.223754\n",
      "------ epoch:6 ------\n"
     ]
    },
    {
     "name": "stderr",
     "output_type": "stream",
     "text": [
      "100%|██████████| 252/252 [00:03<00:00, 67.85it/s]\n",
      "100%|██████████| 28/28 [00:00<00:00, 128.01it/s]\n",
      "100%|██████████| 943/943 [00:00<00:00, 1757.89it/s]\n"
     ]
    },
    {
     "name": "stdout",
     "output_type": "stream",
     "text": [
      "Epoch 6: train loss :   0.151644   val loss :   0.147883   val score :   0.221633\n",
      "------ epoch:7 ------\n"
     ]
    },
    {
     "name": "stderr",
     "output_type": "stream",
     "text": [
      "100%|██████████| 252/252 [00:03<00:00, 71.45it/s]\n",
      "100%|██████████| 28/28 [00:00<00:00, 128.76it/s]\n",
      "100%|██████████| 943/943 [00:00<00:00, 1762.12it/s]\n"
     ]
    },
    {
     "name": "stdout",
     "output_type": "stream",
     "text": [
      "Epoch 7: train loss :   0.150072   val loss :   0.147619   val score :   0.224814\n",
      "------ epoch:8 ------\n"
     ]
    },
    {
     "name": "stderr",
     "output_type": "stream",
     "text": [
      "100%|██████████| 252/252 [00:03<00:00, 73.29it/s]\n",
      "100%|██████████| 28/28 [00:00<00:00, 95.35it/s]\n",
      "100%|██████████| 943/943 [00:00<00:00, 1729.83it/s]\n"
     ]
    },
    {
     "name": "stdout",
     "output_type": "stream",
     "text": [
      "Epoch 8: train loss :   0.149105   val loss :   0.147509   val score :   0.221633\n",
      "------ epoch:9 ------\n"
     ]
    },
    {
     "name": "stderr",
     "output_type": "stream",
     "text": [
      "100%|██████████| 252/252 [00:03<00:00, 72.47it/s]\n",
      "100%|██████████| 28/28 [00:00<00:00, 89.21it/s]\n",
      "100%|██████████| 943/943 [00:00<00:00, 1509.00it/s]\n"
     ]
    },
    {
     "name": "stdout",
     "output_type": "stream",
     "text": [
      "Epoch 9: train loss :   0.148567   val loss :   0.147391   val score :   0.219512\n",
      "------ epoch:10 ------\n"
     ]
    },
    {
     "name": "stderr",
     "output_type": "stream",
     "text": [
      "100%|██████████| 252/252 [00:03<00:00, 70.62it/s]\n",
      "100%|██████████| 28/28 [00:00<00:00, 93.76it/s] \n",
      "100%|██████████| 943/943 [00:00<00:00, 1414.98it/s]\n"
     ]
    },
    {
     "name": "stdout",
     "output_type": "stream",
     "text": [
      "Epoch 10: train loss :   0.148304   val loss :   0.147356   val score :   0.221633\n",
      "Epoch 00010: reducing learning rate of group 0 to 1.0000e-03.\n",
      "------ epoch:11 ------\n"
     ]
    },
    {
     "name": "stderr",
     "output_type": "stream",
     "text": [
      "100%|██████████| 252/252 [00:03<00:00, 73.18it/s]\n",
      "100%|██████████| 28/28 [00:00<00:00, 129.28it/s]\n",
      "100%|██████████| 943/943 [00:00<00:00, 1750.62it/s]\n"
     ]
    },
    {
     "name": "stdout",
     "output_type": "stream",
     "text": [
      "Epoch 11: train loss :   0.147915   val loss :   0.147332   val score :   0.223754\n"
     ]
    },
    {
     "name": "stderr",
     "output_type": "stream",
     "text": [
      "100%|██████████| 70/70 [00:00<00:00, 111.64it/s]\n",
      "100%|██████████| 943/943 [00:00<00:00, 1687.66it/s]\n"
     ]
    },
    {
     "name": "stdout",
     "output_type": "stream",
     "text": [
      "------ log loss of 2 fold : 0.14573055484465192 ------\n",
      "------ score of 2 fold : 0.23329798515376457 ------\n",
      "------ 第3折 ------\n",
      "------ epoch:1 ------\n"
     ]
    },
    {
     "name": "stderr",
     "output_type": "stream",
     "text": [
      "100%|██████████| 252/252 [00:03<00:00, 66.19it/s]\n",
      "100%|██████████| 28/28 [00:00<00:00, 114.52it/s]\n",
      "100%|██████████| 943/943 [00:00<00:00, 1527.23it/s]\n"
     ]
    },
    {
     "name": "stdout",
     "output_type": "stream",
     "text": [
      "Epoch 1: train loss :   0.297764   val loss :   0.152709   val score :   0.181336\n",
      "------ epoch:2 ------\n"
     ]
    },
    {
     "name": "stderr",
     "output_type": "stream",
     "text": [
      "100%|██████████| 252/252 [00:03<00:00, 69.20it/s]\n",
      "100%|██████████| 28/28 [00:00<00:00, 129.19it/s]\n",
      "100%|██████████| 943/943 [00:00<00:00, 1536.41it/s]\n"
     ]
    },
    {
     "name": "stdout",
     "output_type": "stream",
     "text": [
      "Epoch 2: train loss :   0.190633   val loss :   0.151370   val score :   0.184517\n",
      "------ epoch:3 ------\n"
     ]
    },
    {
     "name": "stderr",
     "output_type": "stream",
     "text": [
      "100%|██████████| 252/252 [00:03<00:00, 68.21it/s]\n",
      "100%|██████████| 28/28 [00:00<00:00, 128.47it/s]\n",
      "100%|██████████| 943/943 [00:00<00:00, 1634.66it/s]\n"
     ]
    },
    {
     "name": "stdout",
     "output_type": "stream",
     "text": [
      "Epoch 3: train loss :   0.175819   val loss :   0.150215   val score :   0.195122\n",
      "------ epoch:4 ------\n"
     ]
    },
    {
     "name": "stderr",
     "output_type": "stream",
     "text": [
      "100%|██████████| 252/252 [00:03<00:00, 70.76it/s]\n",
      "100%|██████████| 28/28 [00:00<00:00, 124.76it/s]\n",
      "100%|██████████| 943/943 [00:00<00:00, 1658.55it/s]\n"
     ]
    },
    {
     "name": "stdout",
     "output_type": "stream",
     "text": [
      "Epoch 4: train loss :   0.163315   val loss :   0.148898   val score :   0.209968\n",
      "------ epoch:5 ------\n"
     ]
    },
    {
     "name": "stderr",
     "output_type": "stream",
     "text": [
      "100%|██████████| 252/252 [00:03<00:00, 70.67it/s]\n",
      "100%|██████████| 28/28 [00:00<00:00, 81.47it/s]\n",
      "100%|██████████| 943/943 [00:00<00:00, 1634.99it/s]\n"
     ]
    },
    {
     "name": "stdout",
     "output_type": "stream",
     "text": [
      "Epoch 5: train loss :   0.154997   val loss :   0.147584   val score :   0.235419\n",
      "------ epoch:6 ------\n"
     ]
    },
    {
     "name": "stderr",
     "output_type": "stream",
     "text": [
      "100%|██████████| 252/252 [00:03<00:00, 65.06it/s]\n",
      "100%|██████████| 28/28 [00:00<00:00, 89.10it/s]\n",
      "100%|██████████| 943/943 [00:00<00:00, 1179.64it/s]\n"
     ]
    },
    {
     "name": "stdout",
     "output_type": "stream",
     "text": [
      "Epoch 6: train loss :   0.151397   val loss :   0.146903   val score :   0.250265\n",
      "------ epoch:7 ------\n"
     ]
    },
    {
     "name": "stderr",
     "output_type": "stream",
     "text": [
      "100%|██████████| 252/252 [00:03<00:00, 69.72it/s]\n",
      "100%|██████████| 28/28 [00:00<00:00, 94.62it/s] \n",
      "100%|██████████| 943/943 [00:00<00:00, 1327.00it/s]\n"
     ]
    },
    {
     "name": "stdout",
     "output_type": "stream",
     "text": [
      "Epoch 7: train loss :   0.149751   val loss :   0.146668   val score :   0.236479\n",
      "------ epoch:8 ------\n"
     ]
    },
    {
     "name": "stderr",
     "output_type": "stream",
     "text": [
      "100%|██████████| 252/252 [00:03<00:00, 70.42it/s]\n",
      "100%|██████████| 28/28 [00:00<00:00, 91.23it/s] \n",
      "100%|██████████| 943/943 [00:00<00:00, 1574.32it/s]\n"
     ]
    },
    {
     "name": "stdout",
     "output_type": "stream",
     "text": [
      "Epoch 8: train loss :   0.148810   val loss :   0.146547   val score :   0.249205\n",
      "------ epoch:9 ------\n"
     ]
    },
    {
     "name": "stderr",
     "output_type": "stream",
     "text": [
      "100%|██████████| 252/252 [00:03<00:00, 72.34it/s]\n",
      "100%|██████████| 28/28 [00:00<00:00, 116.36it/s]\n",
      "100%|██████████| 943/943 [00:00<00:00, 1423.10it/s]\n"
     ]
    },
    {
     "name": "stdout",
     "output_type": "stream",
     "text": [
      "Epoch 9: train loss :   0.148338   val loss :   0.146458   val score :   0.242842\n",
      "Epoch 00009: reducing learning rate of group 0 to 1.0000e-03.\n",
      "------ epoch:10 ------\n"
     ]
    },
    {
     "name": "stderr",
     "output_type": "stream",
     "text": [
      "100%|██████████| 252/252 [00:03<00:00, 70.36it/s]\n",
      "100%|██████████| 28/28 [00:00<00:00, 128.93it/s]\n",
      "100%|██████████| 943/943 [00:00<00:00, 1444.56it/s]\n"
     ]
    },
    {
     "name": "stdout",
     "output_type": "stream",
     "text": [
      "Epoch 10: train loss :   0.147894   val loss :   0.146437   val score :   0.246023\n"
     ]
    },
    {
     "name": "stderr",
     "output_type": "stream",
     "text": [
      "100%|██████████| 70/70 [00:00<00:00, 109.08it/s]\n",
      "100%|██████████| 943/943 [00:00<00:00, 1128.27it/s]\n"
     ]
    },
    {
     "name": "stdout",
     "output_type": "stream",
     "text": [
      "------ log loss of 3 fold : 0.1470154102359499 ------\n",
      "------ score of 3 fold : 0.20890774125132555 ------\n",
      "------ 第4折 ------\n",
      "------ epoch:1 ------\n"
     ]
    },
    {
     "name": "stderr",
     "output_type": "stream",
     "text": [
      "100%|██████████| 252/252 [00:03<00:00, 70.43it/s]\n",
      "100%|██████████| 28/28 [00:00<00:00, 126.42it/s]\n",
      "100%|██████████| 943/943 [00:00<00:00, 1362.96it/s]\n"
     ]
    },
    {
     "name": "stdout",
     "output_type": "stream",
     "text": [
      "Epoch 1: train loss :   0.300351   val loss :   0.153505   val score :   0.204666\n",
      "------ epoch:2 ------\n"
     ]
    },
    {
     "name": "stderr",
     "output_type": "stream",
     "text": [
      "100%|██████████| 252/252 [00:03<00:00, 70.94it/s]\n",
      "100%|██████████| 28/28 [00:00<00:00, 125.74it/s]\n",
      "100%|██████████| 943/943 [00:00<00:00, 1596.91it/s]\n"
     ]
    },
    {
     "name": "stdout",
     "output_type": "stream",
     "text": [
      "Epoch 2: train loss :   0.190609   val loss :   0.152019   val score :   0.224814\n",
      "------ epoch:3 ------\n"
     ]
    },
    {
     "name": "stderr",
     "output_type": "stream",
     "text": [
      "100%|██████████| 252/252 [00:03<00:00, 71.40it/s]\n",
      "100%|██████████| 28/28 [00:00<00:00, 127.19it/s]\n",
      "100%|██████████| 943/943 [00:00<00:00, 1604.44it/s]\n"
     ]
    },
    {
     "name": "stdout",
     "output_type": "stream",
     "text": [
      "Epoch 3: train loss :   0.176044   val loss :   0.151077   val score :   0.237540\n",
      "------ epoch:4 ------\n"
     ]
    },
    {
     "name": "stderr",
     "output_type": "stream",
     "text": [
      "100%|██████████| 252/252 [00:03<00:00, 71.61it/s]\n",
      "100%|██████████| 28/28 [00:00<00:00, 126.92it/s]\n",
      "100%|██████████| 943/943 [00:00<00:00, 1748.91it/s]\n"
     ]
    },
    {
     "name": "stdout",
     "output_type": "stream",
     "text": [
      "Epoch 4: train loss :   0.163636   val loss :   0.149688   val score :   0.235419\n",
      "------ epoch:5 ------\n"
     ]
    },
    {
     "name": "stderr",
     "output_type": "stream",
     "text": [
      "100%|██████████| 252/252 [00:03<00:00, 66.10it/s]\n",
      "100%|██████████| 28/28 [00:00<00:00, 86.20it/s]\n",
      "100%|██████████| 943/943 [00:00<00:00, 1648.72it/s]\n"
     ]
    },
    {
     "name": "stdout",
     "output_type": "stream",
     "text": [
      "Epoch 5: train loss :   0.155330   val loss :   0.148368   val score :   0.255567\n",
      "------ epoch:6 ------\n"
     ]
    },
    {
     "name": "stderr",
     "output_type": "stream",
     "text": [
      "100%|██████████| 252/252 [00:03<00:00, 71.81it/s]\n",
      "100%|██████████| 28/28 [00:00<00:00, 93.09it/s]\n",
      "100%|██████████| 943/943 [00:00<00:00, 1648.96it/s]\n"
     ]
    },
    {
     "name": "stdout",
     "output_type": "stream",
     "text": [
      "Epoch 6: train loss :   0.151729   val loss :   0.147687   val score :   0.264051\n",
      "------ epoch:7 ------\n"
     ]
    },
    {
     "name": "stderr",
     "output_type": "stream",
     "text": [
      "100%|██████████| 252/252 [00:03<00:00, 72.58it/s]\n",
      "100%|██████████| 28/28 [00:00<00:00, 93.55it/s] \n",
      "100%|██████████| 943/943 [00:00<00:00, 1135.01it/s]\n"
     ]
    },
    {
     "name": "stdout",
     "output_type": "stream",
     "text": [
      "Epoch 7: train loss :   0.150068   val loss :   0.147424   val score :   0.266172\n",
      "------ epoch:8 ------\n"
     ]
    },
    {
     "name": "stderr",
     "output_type": "stream",
     "text": [
      "100%|██████████| 252/252 [00:03<00:00, 66.48it/s]\n",
      "100%|██████████| 28/28 [00:00<00:00, 129.22it/s]\n",
      "100%|██████████| 943/943 [00:00<00:00, 1691.58it/s]\n"
     ]
    },
    {
     "name": "stdout",
     "output_type": "stream",
     "text": [
      "Epoch 8: train loss :   0.149076   val loss :   0.147281   val score :   0.268293\n",
      "------ epoch:9 ------\n"
     ]
    },
    {
     "name": "stderr",
     "output_type": "stream",
     "text": [
      "100%|██████████| 252/252 [00:03<00:00, 66.13it/s]\n",
      "100%|██████████| 28/28 [00:00<00:00, 128.07it/s]\n",
      "100%|██████████| 943/943 [00:00<00:00, 1612.02it/s]\n"
     ]
    },
    {
     "name": "stdout",
     "output_type": "stream",
     "text": [
      "Epoch 9: train loss :   0.148552   val loss :   0.147131   val score :   0.265111\n",
      "------ epoch:10 ------\n"
     ]
    },
    {
     "name": "stderr",
     "output_type": "stream",
     "text": [
      "100%|██████████| 252/252 [00:03<00:00, 69.49it/s]\n",
      "100%|██████████| 28/28 [00:00<00:00, 128.95it/s]\n",
      "100%|██████████| 943/943 [00:00<00:00, 1589.46it/s]\n"
     ]
    },
    {
     "name": "stdout",
     "output_type": "stream",
     "text": [
      "Epoch 10: train loss :   0.148293   val loss :   0.147071   val score :   0.268293\n",
      "------ epoch:11 ------\n"
     ]
    },
    {
     "name": "stderr",
     "output_type": "stream",
     "text": [
      "100%|██████████| 252/252 [00:03<00:00, 70.66it/s]\n",
      "100%|██████████| 28/28 [00:00<00:00, 128.01it/s]\n",
      "100%|██████████| 943/943 [00:00<00:00, 1602.22it/s]\n"
     ]
    },
    {
     "name": "stdout",
     "output_type": "stream",
     "text": [
      "Epoch 11: train loss :   0.148118   val loss :   0.147104   val score :   0.271474\n",
      "------ epoch:12 ------\n"
     ]
    },
    {
     "name": "stderr",
     "output_type": "stream",
     "text": [
      "100%|██████████| 252/252 [00:03<00:00, 71.12it/s]\n",
      "100%|██████████| 28/28 [00:00<00:00, 128.38it/s]\n",
      "100%|██████████| 943/943 [00:00<00:00, 1635.91it/s]\n"
     ]
    },
    {
     "name": "stdout",
     "output_type": "stream",
     "text": [
      "Epoch 12: train loss :   0.148075   val loss :   0.147058   val score :   0.272534\n",
      "------ epoch:13 ------\n"
     ]
    },
    {
     "name": "stderr",
     "output_type": "stream",
     "text": [
      "100%|██████████| 252/252 [00:03<00:00, 68.04it/s]\n",
      "100%|██████████| 28/28 [00:00<00:00, 129.07it/s]\n",
      "100%|██████████| 943/943 [00:00<00:00, 1814.20it/s]\n"
     ]
    },
    {
     "name": "stdout",
     "output_type": "stream",
     "text": [
      "Epoch 13: train loss :   0.148095   val loss :   0.147042   val score :   0.271474\n",
      "------ epoch:14 ------\n"
     ]
    },
    {
     "name": "stderr",
     "output_type": "stream",
     "text": [
      "100%|██████████| 252/252 [00:03<00:00, 63.99it/s]\n",
      "100%|██████████| 28/28 [00:00<00:00, 128.42it/s]\n",
      "100%|██████████| 943/943 [00:00<00:00, 1828.99it/s]\n"
     ]
    },
    {
     "name": "stdout",
     "output_type": "stream",
     "text": [
      "Epoch 14: train loss :   0.148034   val loss :   0.147021   val score :   0.277837\n",
      "------ epoch:15 ------\n"
     ]
    },
    {
     "name": "stderr",
     "output_type": "stream",
     "text": [
      "100%|██████████| 252/252 [00:03<00:00, 70.58it/s]\n",
      "100%|██████████| 28/28 [00:00<00:00, 130.93it/s]\n",
      "100%|██████████| 943/943 [00:00<00:00, 1540.47it/s]\n"
     ]
    },
    {
     "name": "stdout",
     "output_type": "stream",
     "text": [
      "Epoch 15: train loss :   0.148043   val loss :   0.146985   val score :   0.272534\n",
      "------ epoch:16 ------\n"
     ]
    },
    {
     "name": "stderr",
     "output_type": "stream",
     "text": [
      "100%|██████████| 252/252 [00:03<00:00, 70.37it/s]\n",
      "100%|██████████| 28/28 [00:00<00:00, 128.72it/s]\n",
      "100%|██████████| 943/943 [00:00<00:00, 1575.89it/s]\n"
     ]
    },
    {
     "name": "stdout",
     "output_type": "stream",
     "text": [
      "Epoch 16: train loss :   0.148077   val loss :   0.147002   val score :   0.273595\n",
      "------ epoch:17 ------\n"
     ]
    },
    {
     "name": "stderr",
     "output_type": "stream",
     "text": [
      "100%|██████████| 252/252 [00:03<00:00, 70.57it/s]\n",
      "100%|██████████| 28/28 [00:00<00:00, 124.48it/s]\n",
      "100%|██████████| 943/943 [00:00<00:00, 1605.02it/s]\n"
     ]
    },
    {
     "name": "stdout",
     "output_type": "stream",
     "text": [
      "Epoch 17: train loss :   0.148071   val loss :   0.147005   val score :   0.275716\n",
      "Epoch 00017: reducing learning rate of group 0 to 1.0000e-03.\n",
      "------ epoch:18 ------\n"
     ]
    },
    {
     "name": "stderr",
     "output_type": "stream",
     "text": [
      "100%|██████████| 252/252 [00:03<00:00, 69.63it/s]\n",
      "100%|██████████| 28/28 [00:00<00:00, 127.79it/s]\n",
      "100%|██████████| 943/943 [00:00<00:00, 1611.66it/s]\n"
     ]
    },
    {
     "name": "stdout",
     "output_type": "stream",
     "text": [
      "Epoch 18: train loss :   0.147772   val loss :   0.146982   val score :   0.277837\n"
     ]
    },
    {
     "name": "stderr",
     "output_type": "stream",
     "text": [
      "100%|██████████| 70/70 [00:00<00:00, 113.06it/s]\n",
      "100%|██████████| 943/943 [00:00<00:00, 970.04it/s] \n"
     ]
    },
    {
     "name": "stdout",
     "output_type": "stream",
     "text": [
      "------ log loss of 4 fold : 0.1456499329635075 ------\n",
      "------ score of 4 fold : 0.2301166489925769 ------\n",
      "------ 第5折 ------\n",
      "------ epoch:1 ------\n"
     ]
    },
    {
     "name": "stderr",
     "output_type": "stream",
     "text": [
      "100%|██████████| 252/252 [00:03<00:00, 73.42it/s]\n",
      "100%|██████████| 28/28 [00:00<00:00, 93.67it/s] \n",
      "100%|██████████| 943/943 [00:00<00:00, 999.83it/s] \n"
     ]
    },
    {
     "name": "stdout",
     "output_type": "stream",
     "text": [
      "Epoch 1: train loss :   0.295183   val loss :   0.153008   val score :   0.187699\n",
      "------ epoch:2 ------\n"
     ]
    },
    {
     "name": "stderr",
     "output_type": "stream",
     "text": [
      "100%|██████████| 252/252 [00:03<00:00, 73.02it/s]\n",
      "100%|██████████| 28/28 [00:00<00:00, 125.49it/s]\n",
      "100%|██████████| 943/943 [00:00<00:00, 1060.93it/s]\n"
     ]
    },
    {
     "name": "stdout",
     "output_type": "stream",
     "text": [
      "Epoch 2: train loss :   0.189424   val loss :   0.151408   val score :   0.199364\n",
      "------ epoch:3 ------\n"
     ]
    },
    {
     "name": "stderr",
     "output_type": "stream",
     "text": [
      "100%|██████████| 252/252 [00:03<00:00, 68.90it/s]\n",
      "100%|██████████| 28/28 [00:00<00:00, 126.09it/s]\n",
      "100%|██████████| 943/943 [00:00<00:00, 1066.88it/s]\n"
     ]
    },
    {
     "name": "stdout",
     "output_type": "stream",
     "text": [
      "Epoch 3: train loss :   0.174924   val loss :   0.150275   val score :   0.216331\n",
      "------ epoch:4 ------\n"
     ]
    },
    {
     "name": "stderr",
     "output_type": "stream",
     "text": [
      "100%|██████████| 252/252 [00:03<00:00, 69.68it/s]\n",
      "100%|██████████| 28/28 [00:00<00:00, 115.67it/s]\n",
      "100%|██████████| 943/943 [00:00<00:00, 974.29it/s] \n"
     ]
    },
    {
     "name": "stdout",
     "output_type": "stream",
     "text": [
      "Epoch 4: train loss :   0.162645   val loss :   0.148972   val score :   0.221633\n",
      "------ epoch:5 ------\n"
     ]
    },
    {
     "name": "stderr",
     "output_type": "stream",
     "text": [
      "100%|██████████| 252/252 [00:03<00:00, 67.99it/s]\n",
      "100%|██████████| 28/28 [00:00<00:00, 123.04it/s]\n",
      "100%|██████████| 943/943 [00:00<00:00, 1034.57it/s]\n"
     ]
    },
    {
     "name": "stdout",
     "output_type": "stream",
     "text": [
      "Epoch 5: train loss :   0.154757   val loss :   0.147599   val score :   0.235419\n",
      "------ epoch:6 ------\n"
     ]
    },
    {
     "name": "stderr",
     "output_type": "stream",
     "text": [
      "100%|██████████| 252/252 [00:03<00:00, 71.50it/s]\n",
      "100%|██████████| 28/28 [00:00<00:00, 124.32it/s]\n",
      "100%|██████████| 943/943 [00:00<00:00, 1016.25it/s]\n"
     ]
    },
    {
     "name": "stdout",
     "output_type": "stream",
     "text": [
      "Epoch 6: train loss :   0.151400   val loss :   0.146995   val score :   0.241782\n",
      "------ epoch:7 ------\n"
     ]
    },
    {
     "name": "stderr",
     "output_type": "stream",
     "text": [
      "100%|██████████| 252/252 [00:03<00:00, 69.75it/s]\n",
      "100%|██████████| 28/28 [00:00<00:00, 124.33it/s]\n",
      "100%|██████████| 943/943 [00:00<00:00, 1062.02it/s]\n"
     ]
    },
    {
     "name": "stdout",
     "output_type": "stream",
     "text": [
      "Epoch 7: train loss :   0.149825   val loss :   0.146748   val score :   0.243902\n",
      "------ epoch:8 ------\n"
     ]
    },
    {
     "name": "stderr",
     "output_type": "stream",
     "text": [
      "100%|██████████| 252/252 [00:03<00:00, 67.19it/s]\n",
      "100%|██████████| 28/28 [00:00<00:00, 126.23it/s]\n",
      "100%|██████████| 943/943 [00:00<00:00, 1100.93it/s]\n"
     ]
    },
    {
     "name": "stdout",
     "output_type": "stream",
     "text": [
      "Epoch 8: train loss :   0.148938   val loss :   0.146607   val score :   0.246023\n",
      "------ epoch:9 ------\n"
     ]
    },
    {
     "name": "stderr",
     "output_type": "stream",
     "text": [
      "100%|██████████| 252/252 [00:03<00:00, 68.72it/s]\n",
      "100%|██████████| 28/28 [00:00<00:00, 127.25it/s]\n",
      "100%|██████████| 943/943 [00:00<00:00, 964.61it/s] \n"
     ]
    },
    {
     "name": "stdout",
     "output_type": "stream",
     "text": [
      "Epoch 9: train loss :   0.148393   val loss :   0.146533   val score :   0.259809\n",
      "------ epoch:10 ------\n"
     ]
    },
    {
     "name": "stderr",
     "output_type": "stream",
     "text": [
      "100%|██████████| 252/252 [00:03<00:00, 65.57it/s]\n",
      "100%|██████████| 28/28 [00:00<00:00, 127.54it/s]\n",
      "100%|██████████| 943/943 [00:00<00:00, 1181.56it/s]\n"
     ]
    },
    {
     "name": "stdout",
     "output_type": "stream",
     "text": [
      "Epoch 10: train loss :   0.148127   val loss :   0.146451   val score :   0.247084\n",
      "------ epoch:11 ------\n"
     ]
    },
    {
     "name": "stderr",
     "output_type": "stream",
     "text": [
      "100%|██████████| 252/252 [00:03<00:00, 69.43it/s]\n",
      "100%|██████████| 28/28 [00:00<00:00, 93.27it/s]\n",
      "100%|██████████| 943/943 [00:00<00:00, 1424.44it/s]\n"
     ]
    },
    {
     "name": "stdout",
     "output_type": "stream",
     "text": [
      "Epoch 11: train loss :   0.148045   val loss :   0.146402   val score :   0.251326\n",
      "------ epoch:12 ------\n"
     ]
    },
    {
     "name": "stderr",
     "output_type": "stream",
     "text": [
      "100%|██████████| 252/252 [00:03<00:00, 70.21it/s]\n",
      "100%|██████████| 28/28 [00:00<00:00, 91.09it/s]\n",
      "100%|██████████| 943/943 [00:00<00:00, 1706.93it/s]\n"
     ]
    },
    {
     "name": "stdout",
     "output_type": "stream",
     "text": [
      "Epoch 12: train loss :   0.147951   val loss :   0.146412   val score :   0.251326\n",
      "Epoch 00012: reducing learning rate of group 0 to 1.0000e-03.\n",
      "------ epoch:13 ------\n"
     ]
    },
    {
     "name": "stderr",
     "output_type": "stream",
     "text": [
      "100%|██████████| 252/252 [00:03<00:00, 71.84it/s]\n",
      "100%|██████████| 28/28 [00:00<00:00, 86.75it/s] \n",
      "100%|██████████| 943/943 [00:00<00:00, 1268.56it/s]\n"
     ]
    },
    {
     "name": "stdout",
     "output_type": "stream",
     "text": [
      "Epoch 13: train loss :   0.147707   val loss :   0.146387   val score :   0.254507\n"
     ]
    },
    {
     "name": "stderr",
     "output_type": "stream",
     "text": [
      "100%|██████████| 70/70 [00:00<00:00, 94.85it/s] \n",
      "100%|██████████| 943/943 [00:00<00:00, 1567.05it/s]\n"
     ]
    },
    {
     "name": "stdout",
     "output_type": "stream",
     "text": [
      "------ log loss of 5 fold : 0.1463661259838513 ------\n",
      "------ score of 5 fold : 0.2067868504772004 ------\n",
      "settings : percentage = 1, model type = 5\n",
      "parameters :  {'lam': 0.001, 'phi_r': 0.001, 'phi_theta': 0.001, 'num_users': 943, 'num_items': 1682, 'embedding_dim': 10, 'mu': 0.1, 'lr': 0.01, 'alpha': 0.01, 'patience': 3, 'epochs': 30, 'device': 'cuda:0', 'model_selection': True}\n",
      "------ log loss of the model : 0.14598812435354502 ------\n",
      "------ score of the model : 0.21993637327677623 ------\n",
      "------ 第1折 ------\n",
      "------ epoch:1 ------\n"
     ]
    },
    {
     "name": "stderr",
     "output_type": "stream",
     "text": [
      "100%|██████████| 252/252 [00:03<00:00, 69.89it/s]\n",
      "100%|██████████| 28/28 [00:00<00:00, 126.35it/s]\n",
      "100%|██████████| 943/943 [00:00<00:00, 1109.77it/s]\n"
     ]
    },
    {
     "name": "stdout",
     "output_type": "stream",
     "text": [
      "Epoch 1: train loss :   0.304109   val loss :   0.157672   val score :   0.185578\n",
      "------ epoch:2 ------\n"
     ]
    },
    {
     "name": "stderr",
     "output_type": "stream",
     "text": [
      "100%|██████████| 252/252 [00:03<00:00, 65.56it/s]\n",
      "100%|██████████| 28/28 [00:00<00:00, 125.55it/s]\n",
      "100%|██████████| 943/943 [00:00<00:00, 1167.37it/s]\n"
     ]
    },
    {
     "name": "stdout",
     "output_type": "stream",
     "text": [
      "Epoch 2: train loss :   0.194817   val loss :   0.156403   val score :   0.188759\n",
      "------ epoch:3 ------\n"
     ]
    },
    {
     "name": "stderr",
     "output_type": "stream",
     "text": [
      "100%|██████████| 252/252 [00:03<00:00, 69.77it/s]\n",
      "100%|██████████| 28/28 [00:00<00:00, 126.24it/s]\n",
      "100%|██████████| 943/943 [00:00<00:00, 1416.89it/s]\n"
     ]
    },
    {
     "name": "stdout",
     "output_type": "stream",
     "text": [
      "Epoch 3: train loss :   0.180105   val loss :   0.155410   val score :   0.194062\n",
      "------ epoch:4 ------\n"
     ]
    },
    {
     "name": "stderr",
     "output_type": "stream",
     "text": [
      "100%|██████████| 252/252 [00:03<00:00, 68.59it/s]\n",
      "100%|██████████| 28/28 [00:00<00:00, 123.90it/s]\n",
      "100%|██████████| 943/943 [00:00<00:00, 1556.49it/s]\n"
     ]
    },
    {
     "name": "stdout",
     "output_type": "stream",
     "text": [
      "Epoch 4: train loss :   0.167465   val loss :   0.154116   val score :   0.209968\n",
      "------ epoch:5 ------\n"
     ]
    },
    {
     "name": "stderr",
     "output_type": "stream",
     "text": [
      "100%|██████████| 252/252 [00:03<00:00, 67.67it/s]\n",
      "100%|██████████| 28/28 [00:00<00:00, 124.99it/s]\n",
      "100%|██████████| 943/943 [00:00<00:00, 1386.43it/s]\n"
     ]
    },
    {
     "name": "stdout",
     "output_type": "stream",
     "text": [
      "Epoch 5: train loss :   0.159367   val loss :   0.152705   val score :   0.243902\n",
      "------ epoch:6 ------\n"
     ]
    },
    {
     "name": "stderr",
     "output_type": "stream",
     "text": [
      "100%|██████████| 252/252 [00:03<00:00, 68.70it/s]\n",
      "100%|██████████| 28/28 [00:00<00:00, 125.62it/s]\n",
      "100%|██████████| 943/943 [00:00<00:00, 1273.87it/s]\n"
     ]
    },
    {
     "name": "stdout",
     "output_type": "stream",
     "text": [
      "Epoch 6: train loss :   0.156061   val loss :   0.152216   val score :   0.251326\n",
      "------ epoch:7 ------\n"
     ]
    },
    {
     "name": "stderr",
     "output_type": "stream",
     "text": [
      "100%|██████████| 252/252 [00:03<00:00, 69.72it/s]\n",
      "100%|██████████| 28/28 [00:00<00:00, 88.48it/s] \n",
      "100%|██████████| 943/943 [00:00<00:00, 1792.41it/s]\n"
     ]
    },
    {
     "name": "stdout",
     "output_type": "stream",
     "text": [
      "Epoch 7: train loss :   0.154543   val loss :   0.151985   val score :   0.247084\n",
      "------ epoch:8 ------\n"
     ]
    },
    {
     "name": "stderr",
     "output_type": "stream",
     "text": [
      "100%|██████████| 252/252 [00:03<00:00, 71.91it/s]\n",
      "100%|██████████| 28/28 [00:00<00:00, 91.34it/s]\n",
      "100%|██████████| 943/943 [00:00<00:00, 1842.03it/s]\n"
     ]
    },
    {
     "name": "stdout",
     "output_type": "stream",
     "text": [
      "Epoch 8: train loss :   0.153666   val loss :   0.151865   val score :   0.249205\n",
      "------ epoch:9 ------\n"
     ]
    },
    {
     "name": "stderr",
     "output_type": "stream",
     "text": [
      "100%|██████████| 252/252 [00:03<00:00, 72.21it/s]\n",
      "100%|██████████| 28/28 [00:00<00:00, 87.48it/s] \n",
      "100%|██████████| 943/943 [00:00<00:00, 1671.56it/s]\n"
     ]
    },
    {
     "name": "stdout",
     "output_type": "stream",
     "text": [
      "Epoch 9: train loss :   0.153178   val loss :   0.151787   val score :   0.256628\n",
      "------ epoch:10 ------\n"
     ]
    },
    {
     "name": "stderr",
     "output_type": "stream",
     "text": [
      "100%|██████████| 252/252 [00:03<00:00, 71.60it/s]\n",
      "100%|██████████| 28/28 [00:00<00:00, 90.11it/s] \n",
      "100%|██████████| 943/943 [00:00<00:00, 1694.31it/s]\n"
     ]
    },
    {
     "name": "stdout",
     "output_type": "stream",
     "text": [
      "Epoch 10: train loss :   0.152964   val loss :   0.151727   val score :   0.249205\n",
      "------ epoch:11 ------\n"
     ]
    },
    {
     "name": "stderr",
     "output_type": "stream",
     "text": [
      "100%|██████████| 252/252 [00:03<00:00, 67.92it/s]\n",
      "100%|██████████| 28/28 [00:00<00:00, 126.67it/s]\n",
      "100%|██████████| 943/943 [00:00<00:00, 1523.32it/s]\n"
     ]
    },
    {
     "name": "stdout",
     "output_type": "stream",
     "text": [
      "Epoch 11: train loss :   0.152804   val loss :   0.151677   val score :   0.250265\n",
      "------ epoch:12 ------\n"
     ]
    },
    {
     "name": "stderr",
     "output_type": "stream",
     "text": [
      "100%|██████████| 252/252 [00:03<00:00, 70.36it/s]\n",
      "100%|██████████| 28/28 [00:00<00:00, 125.54it/s]\n",
      "100%|██████████| 943/943 [00:00<00:00, 1703.98it/s]\n"
     ]
    },
    {
     "name": "stdout",
     "output_type": "stream",
     "text": [
      "Epoch 12: train loss :   0.152816   val loss :   0.151665   val score :   0.250265\n",
      "Epoch 00012: reducing learning rate of group 0 to 1.0000e-03.\n",
      "------ epoch:13 ------\n"
     ]
    },
    {
     "name": "stderr",
     "output_type": "stream",
     "text": [
      "100%|██████████| 252/252 [00:03<00:00, 70.21it/s]\n",
      "100%|██████████| 28/28 [00:00<00:00, 119.26it/s]\n",
      "100%|██████████| 943/943 [00:00<00:00, 1956.94it/s]\n"
     ]
    },
    {
     "name": "stdout",
     "output_type": "stream",
     "text": [
      "Epoch 13: train loss :   0.152628   val loss :   0.151644   val score :   0.250265\n"
     ]
    },
    {
     "name": "stderr",
     "output_type": "stream",
     "text": [
      "100%|██████████| 70/70 [00:00<00:00, 108.91it/s]\n",
      "100%|██████████| 943/943 [00:00<00:00, 1144.46it/s]\n"
     ]
    },
    {
     "name": "stdout",
     "output_type": "stream",
     "text": [
      "------ log loss of 1 fold : 0.15007323345967702 ------\n",
      "------ score of 1 fold : 0.22375397667020147 ------\n",
      "------ 第2折 ------\n",
      "------ epoch:1 ------\n"
     ]
    },
    {
     "name": "stderr",
     "output_type": "stream",
     "text": [
      "100%|██████████| 252/252 [00:03<00:00, 68.82it/s]\n",
      "100%|██████████| 28/28 [00:00<00:00, 124.30it/s]\n",
      "100%|██████████| 943/943 [00:00<00:00, 1032.17it/s]\n"
     ]
    },
    {
     "name": "stdout",
     "output_type": "stream",
     "text": [
      "Epoch 1: train loss :   0.300517   val loss :   0.157528   val score :   0.194062\n",
      "------ epoch:2 ------\n"
     ]
    },
    {
     "name": "stderr",
     "output_type": "stream",
     "text": [
      "100%|██████████| 252/252 [00:03<00:00, 70.01it/s]\n",
      "100%|██████████| 28/28 [00:00<00:00, 126.45it/s]\n",
      "100%|██████████| 943/943 [00:00<00:00, 1069.86it/s]\n"
     ]
    },
    {
     "name": "stdout",
     "output_type": "stream",
     "text": [
      "Epoch 2: train loss :   0.193175   val loss :   0.156109   val score :   0.187699\n",
      "------ epoch:3 ------\n"
     ]
    },
    {
     "name": "stderr",
     "output_type": "stream",
     "text": [
      "100%|██████████| 252/252 [00:03<00:00, 70.50it/s]\n",
      "100%|██████████| 28/28 [00:00<00:00, 128.25it/s]\n",
      "100%|██████████| 943/943 [00:00<00:00, 1113.83it/s]\n"
     ]
    },
    {
     "name": "stdout",
     "output_type": "stream",
     "text": [
      "Epoch 3: train loss :   0.178775   val loss :   0.155425   val score :   0.197243\n",
      "------ epoch:4 ------\n"
     ]
    },
    {
     "name": "stderr",
     "output_type": "stream",
     "text": [
      "100%|██████████| 252/252 [00:03<00:00, 69.50it/s]\n",
      "100%|██████████| 28/28 [00:00<00:00, 126.43it/s]\n",
      "100%|██████████| 943/943 [00:00<00:00, 1202.51it/s]\n"
     ]
    },
    {
     "name": "stdout",
     "output_type": "stream",
     "text": [
      "Epoch 4: train loss :   0.166514   val loss :   0.154047   val score :   0.197243\n",
      "------ epoch:5 ------\n"
     ]
    },
    {
     "name": "stderr",
     "output_type": "stream",
     "text": [
      "100%|██████████| 252/252 [00:03<00:00, 71.23it/s]\n",
      "100%|██████████| 28/28 [00:00<00:00, 88.35it/s]\n",
      "100%|██████████| 943/943 [00:00<00:00, 1207.70it/s]\n"
     ]
    },
    {
     "name": "stdout",
     "output_type": "stream",
     "text": [
      "Epoch 5: train loss :   0.158854   val loss :   0.152644   val score :   0.226935\n",
      "------ epoch:6 ------\n"
     ]
    },
    {
     "name": "stderr",
     "output_type": "stream",
     "text": [
      "100%|██████████| 252/252 [00:03<00:00, 72.09it/s]\n",
      "100%|██████████| 28/28 [00:00<00:00, 91.90it/s]\n",
      "100%|██████████| 943/943 [00:00<00:00, 1334.18it/s]\n"
     ]
    },
    {
     "name": "stdout",
     "output_type": "stream",
     "text": [
      "Epoch 6: train loss :   0.155814   val loss :   0.152168   val score :   0.221633\n",
      "------ epoch:7 ------\n"
     ]
    },
    {
     "name": "stderr",
     "output_type": "stream",
     "text": [
      "100%|██████████| 252/252 [00:03<00:00, 72.09it/s]\n",
      "100%|██████████| 28/28 [00:00<00:00, 92.14it/s] \n",
      "100%|██████████| 943/943 [00:00<00:00, 1634.66it/s]\n"
     ]
    },
    {
     "name": "stdout",
     "output_type": "stream",
     "text": [
      "Epoch 7: train loss :   0.154369   val loss :   0.151941   val score :   0.229056\n",
      "------ epoch:8 ------\n"
     ]
    },
    {
     "name": "stderr",
     "output_type": "stream",
     "text": [
      "100%|██████████| 252/252 [00:03<00:00, 72.32it/s]\n",
      "100%|██████████| 28/28 [00:00<00:00, 121.46it/s]\n",
      "100%|██████████| 943/943 [00:00<00:00, 1625.23it/s]\n"
     ]
    },
    {
     "name": "stdout",
     "output_type": "stream",
     "text": [
      "Epoch 8: train loss :   0.153492   val loss :   0.151849   val score :   0.226935\n",
      "------ epoch:9 ------\n"
     ]
    },
    {
     "name": "stderr",
     "output_type": "stream",
     "text": [
      "100%|██████████| 252/252 [00:03<00:00, 68.58it/s]\n",
      "100%|██████████| 28/28 [00:00<00:00, 128.53it/s]\n",
      "100%|██████████| 943/943 [00:00<00:00, 1666.86it/s]\n"
     ]
    },
    {
     "name": "stdout",
     "output_type": "stream",
     "text": [
      "Epoch 9: train loss :   0.153022   val loss :   0.151753   val score :   0.223754\n",
      "------ epoch:10 ------\n"
     ]
    },
    {
     "name": "stderr",
     "output_type": "stream",
     "text": [
      "100%|██████████| 252/252 [00:03<00:00, 69.53it/s]\n",
      "100%|██████████| 28/28 [00:00<00:00, 123.50it/s]\n",
      "100%|██████████| 943/943 [00:00<00:00, 1622.61it/s]\n"
     ]
    },
    {
     "name": "stdout",
     "output_type": "stream",
     "text": [
      "Epoch 10: train loss :   0.152795   val loss :   0.151711   val score :   0.224814\n",
      "Epoch 00010: reducing learning rate of group 0 to 1.0000e-03.\n",
      "------ epoch:11 ------\n"
     ]
    },
    {
     "name": "stderr",
     "output_type": "stream",
     "text": [
      "100%|██████████| 252/252 [00:03<00:00, 68.11it/s]\n",
      "100%|██████████| 28/28 [00:00<00:00, 127.87it/s]\n",
      "100%|██████████| 943/943 [00:00<00:00, 1587.16it/s]\n"
     ]
    },
    {
     "name": "stdout",
     "output_type": "stream",
     "text": [
      "Epoch 11: train loss :   0.152528   val loss :   0.151688   val score :   0.222694\n"
     ]
    },
    {
     "name": "stderr",
     "output_type": "stream",
     "text": [
      "100%|██████████| 70/70 [00:00<00:00, 111.03it/s]\n",
      "100%|██████████| 943/943 [00:00<00:00, 1069.06it/s]\n"
     ]
    },
    {
     "name": "stdout",
     "output_type": "stream",
     "text": [
      "------ log loss of 2 fold : 0.1507011577486992 ------\n",
      "------ score of 2 fold : 0.24284199363732767 ------\n",
      "------ 第3折 ------\n",
      "------ epoch:1 ------\n"
     ]
    },
    {
     "name": "stderr",
     "output_type": "stream",
     "text": [
      "100%|██████████| 252/252 [00:03<00:00, 68.55it/s]\n",
      "100%|██████████| 28/28 [00:00<00:00, 126.66it/s]\n",
      "100%|██████████| 943/943 [00:00<00:00, 1560.60it/s]\n"
     ]
    },
    {
     "name": "stdout",
     "output_type": "stream",
     "text": [
      "Epoch 1: train loss :   0.300357   val loss :   0.156763   val score :   0.176034\n",
      "------ epoch:2 ------\n"
     ]
    },
    {
     "name": "stderr",
     "output_type": "stream",
     "text": [
      "100%|██████████| 252/252 [00:03<00:00, 69.02it/s]\n",
      "100%|██████████| 28/28 [00:00<00:00, 90.90it/s] \n",
      "100%|██████████| 943/943 [00:00<00:00, 1258.60it/s]\n"
     ]
    },
    {
     "name": "stdout",
     "output_type": "stream",
     "text": [
      "Epoch 2: train loss :   0.194170   val loss :   0.155574   val score :   0.181336\n",
      "------ epoch:3 ------\n"
     ]
    },
    {
     "name": "stderr",
     "output_type": "stream",
     "text": [
      "100%|██████████| 252/252 [00:03<00:00, 69.03it/s]\n",
      "100%|██████████| 28/28 [00:00<00:00, 92.87it/s]\n",
      "100%|██████████| 943/943 [00:00<00:00, 1299.57it/s]\n"
     ]
    },
    {
     "name": "stdout",
     "output_type": "stream",
     "text": [
      "Epoch 3: train loss :   0.179342   val loss :   0.154555   val score :   0.190880\n",
      "------ epoch:4 ------\n"
     ]
    },
    {
     "name": "stderr",
     "output_type": "stream",
     "text": [
      "100%|██████████| 252/252 [00:03<00:00, 72.18it/s]\n",
      "100%|██████████| 28/28 [00:00<00:00, 97.02it/s] \n",
      "100%|██████████| 943/943 [00:00<00:00, 2055.30it/s]\n"
     ]
    },
    {
     "name": "stdout",
     "output_type": "stream",
     "text": [
      "Epoch 4: train loss :   0.166780   val loss :   0.153165   val score :   0.197243\n",
      "------ epoch:5 ------\n"
     ]
    },
    {
     "name": "stderr",
     "output_type": "stream",
     "text": [
      "100%|██████████| 252/252 [00:03<00:00, 72.40it/s]\n",
      "100%|██████████| 28/28 [00:00<00:00, 95.25it/s] \n",
      "100%|██████████| 943/943 [00:00<00:00, 1716.69it/s]\n"
     ]
    },
    {
     "name": "stdout",
     "output_type": "stream",
     "text": [
      "Epoch 5: train loss :   0.158833   val loss :   0.151840   val score :   0.235419\n",
      "------ epoch:6 ------\n"
     ]
    },
    {
     "name": "stderr",
     "output_type": "stream",
     "text": [
      "100%|██████████| 252/252 [00:03<00:00, 72.44it/s]\n",
      "100%|██████████| 28/28 [00:00<00:00, 129.63it/s]\n",
      "100%|██████████| 943/943 [00:00<00:00, 1773.81it/s]\n"
     ]
    },
    {
     "name": "stdout",
     "output_type": "stream",
     "text": [
      "Epoch 6: train loss :   0.155664   val loss :   0.151283   val score :   0.250265\n",
      "------ epoch:7 ------\n"
     ]
    },
    {
     "name": "stderr",
     "output_type": "stream",
     "text": [
      "100%|██████████| 252/252 [00:03<00:00, 69.81it/s]\n",
      "100%|██████████| 28/28 [00:00<00:00, 129.81it/s]\n",
      "100%|██████████| 943/943 [00:00<00:00, 1690.71it/s]\n"
     ]
    },
    {
     "name": "stdout",
     "output_type": "stream",
     "text": [
      "Epoch 7: train loss :   0.154182   val loss :   0.151091   val score :   0.236479\n",
      "------ epoch:8 ------\n"
     ]
    },
    {
     "name": "stderr",
     "output_type": "stream",
     "text": [
      "100%|██████████| 252/252 [00:03<00:00, 70.89it/s]\n",
      "100%|██████████| 28/28 [00:00<00:00, 129.28it/s]\n",
      "100%|██████████| 943/943 [00:00<00:00, 1963.69it/s]\n"
     ]
    },
    {
     "name": "stdout",
     "output_type": "stream",
     "text": [
      "Epoch 8: train loss :   0.153332   val loss :   0.150973   val score :   0.251326\n",
      "------ epoch:9 ------\n"
     ]
    },
    {
     "name": "stderr",
     "output_type": "stream",
     "text": [
      "100%|██████████| 252/252 [00:03<00:00, 70.85it/s]\n",
      "100%|██████████| 28/28 [00:00<00:00, 129.19it/s]\n",
      "100%|██████████| 943/943 [00:00<00:00, 1826.62it/s]\n"
     ]
    },
    {
     "name": "stdout",
     "output_type": "stream",
     "text": [
      "Epoch 9: train loss :   0.152902   val loss :   0.150896   val score :   0.246023\n",
      "------ epoch:10 ------\n"
     ]
    },
    {
     "name": "stderr",
     "output_type": "stream",
     "text": [
      "100%|██████████| 252/252 [00:03<00:00, 69.34it/s]\n",
      "100%|██████████| 28/28 [00:00<00:00, 131.26it/s]\n",
      "100%|██████████| 943/943 [00:00<00:00, 1731.62it/s]\n"
     ]
    },
    {
     "name": "stdout",
     "output_type": "stream",
     "text": [
      "Epoch 10: train loss :   0.152666   val loss :   0.150850   val score :   0.249205\n",
      "------ epoch:11 ------\n"
     ]
    },
    {
     "name": "stderr",
     "output_type": "stream",
     "text": [
      "100%|██████████| 252/252 [00:03<00:00, 71.41it/s]\n",
      "100%|██████████| 28/28 [00:00<00:00, 128.35it/s]\n",
      "100%|██████████| 943/943 [00:00<00:00, 1971.93it/s]\n"
     ]
    },
    {
     "name": "stdout",
     "output_type": "stream",
     "text": [
      "Epoch 11: train loss :   0.152535   val loss :   0.150799   val score :   0.242842\n",
      "Epoch 00011: reducing learning rate of group 0 to 1.0000e-03.\n",
      "------ epoch:12 ------\n"
     ]
    },
    {
     "name": "stderr",
     "output_type": "stream",
     "text": [
      "100%|██████████| 252/252 [00:03<00:00, 71.07it/s]\n",
      "100%|██████████| 28/28 [00:00<00:00, 131.53it/s]\n",
      "100%|██████████| 943/943 [00:00<00:00, 2149.27it/s]\n"
     ]
    },
    {
     "name": "stdout",
     "output_type": "stream",
     "text": [
      "Epoch 12: train loss :   0.152343   val loss :   0.150781   val score :   0.247084\n"
     ]
    },
    {
     "name": "stderr",
     "output_type": "stream",
     "text": [
      "100%|██████████| 70/70 [00:00<00:00, 113.52it/s]\n",
      "100%|██████████| 943/943 [00:00<00:00, 1580.14it/s]\n"
     ]
    },
    {
     "name": "stdout",
     "output_type": "stream",
     "text": [
      "------ log loss of 3 fold : 0.15140165367296765 ------\n",
      "------ score of 3 fold : 0.20890774125132555 ------\n",
      "------ 第4折 ------\n",
      "------ epoch:1 ------\n"
     ]
    },
    {
     "name": "stderr",
     "output_type": "stream",
     "text": [
      "100%|██████████| 252/252 [00:03<00:00, 70.21it/s]\n",
      "100%|██████████| 28/28 [00:00<00:00, 95.72it/s]\n",
      "100%|██████████| 943/943 [00:00<00:00, 1217.03it/s]\n"
     ]
    },
    {
     "name": "stdout",
     "output_type": "stream",
     "text": [
      "Epoch 1: train loss :   0.295798   val loss :   0.157275   val score :   0.183457\n",
      "------ epoch:2 ------\n"
     ]
    },
    {
     "name": "stderr",
     "output_type": "stream",
     "text": [
      "100%|██████████| 252/252 [00:03<00:00, 71.54it/s]\n",
      "100%|██████████| 28/28 [00:00<00:00, 94.70it/s] \n",
      "100%|██████████| 943/943 [00:00<00:00, 1461.48it/s]\n"
     ]
    },
    {
     "name": "stdout",
     "output_type": "stream",
     "text": [
      "Epoch 2: train loss :   0.193318   val loss :   0.155988   val score :   0.191941\n",
      "------ epoch:3 ------\n"
     ]
    },
    {
     "name": "stderr",
     "output_type": "stream",
     "text": [
      "100%|██████████| 252/252 [00:03<00:00, 70.62it/s]\n",
      "100%|██████████| 28/28 [00:00<00:00, 95.33it/s] \n",
      "100%|██████████| 943/943 [00:00<00:00, 1876.62it/s]\n"
     ]
    },
    {
     "name": "stdout",
     "output_type": "stream",
     "text": [
      "Epoch 3: train loss :   0.178660   val loss :   0.155227   val score :   0.216331\n",
      "------ epoch:4 ------\n"
     ]
    },
    {
     "name": "stderr",
     "output_type": "stream",
     "text": [
      "100%|██████████| 252/252 [00:03<00:00, 74.15it/s]\n",
      "100%|██████████| 28/28 [00:00<00:00, 128.87it/s]\n",
      "100%|██████████| 943/943 [00:00<00:00, 1982.64it/s]\n"
     ]
    },
    {
     "name": "stdout",
     "output_type": "stream",
     "text": [
      "Epoch 4: train loss :   0.166288   val loss :   0.153669   val score :   0.229056\n",
      "------ epoch:5 ------\n"
     ]
    },
    {
     "name": "stderr",
     "output_type": "stream",
     "text": [
      "100%|██████████| 252/252 [00:03<00:00, 72.08it/s]\n",
      "100%|██████████| 28/28 [00:00<00:00, 129.05it/s]\n",
      "100%|██████████| 943/943 [00:00<00:00, 2046.91it/s]\n"
     ]
    },
    {
     "name": "stdout",
     "output_type": "stream",
     "text": [
      "Epoch 5: train loss :   0.158740   val loss :   0.152379   val score :   0.238600\n",
      "------ epoch:6 ------\n"
     ]
    },
    {
     "name": "stderr",
     "output_type": "stream",
     "text": [
      "100%|██████████| 252/252 [00:03<00:00, 69.76it/s]\n",
      "100%|██████████| 28/28 [00:00<00:00, 128.90it/s]\n",
      "100%|██████████| 943/943 [00:00<00:00, 2147.49it/s]\n"
     ]
    },
    {
     "name": "stdout",
     "output_type": "stream",
     "text": [
      "Epoch 6: train loss :   0.155733   val loss :   0.151914   val score :   0.238600\n",
      "------ epoch:7 ------\n"
     ]
    },
    {
     "name": "stderr",
     "output_type": "stream",
     "text": [
      "100%|██████████| 252/252 [00:03<00:00, 70.63it/s]\n",
      "100%|██████████| 28/28 [00:00<00:00, 128.71it/s]\n",
      "100%|██████████| 943/943 [00:00<00:00, 1901.37it/s]\n"
     ]
    },
    {
     "name": "stdout",
     "output_type": "stream",
     "text": [
      "Epoch 7: train loss :   0.154296   val loss :   0.151672   val score :   0.240721\n",
      "------ epoch:8 ------\n"
     ]
    },
    {
     "name": "stderr",
     "output_type": "stream",
     "text": [
      "100%|██████████| 252/252 [00:03<00:00, 71.56it/s]\n",
      "100%|██████████| 28/28 [00:00<00:00, 127.43it/s]\n",
      "100%|██████████| 943/943 [00:00<00:00, 1984.32it/s]\n"
     ]
    },
    {
     "name": "stdout",
     "output_type": "stream",
     "text": [
      "Epoch 8: train loss :   0.153486   val loss :   0.151542   val score :   0.244963\n",
      "------ epoch:9 ------\n"
     ]
    },
    {
     "name": "stderr",
     "output_type": "stream",
     "text": [
      "100%|██████████| 252/252 [00:03<00:00, 71.52it/s]\n",
      "100%|██████████| 28/28 [00:00<00:00, 123.75it/s]\n",
      "100%|██████████| 943/943 [00:00<00:00, 1855.57it/s]\n"
     ]
    },
    {
     "name": "stdout",
     "output_type": "stream",
     "text": [
      "Epoch 9: train loss :   0.153017   val loss :   0.151523   val score :   0.238600\n",
      "------ epoch:10 ------\n"
     ]
    },
    {
     "name": "stderr",
     "output_type": "stream",
     "text": [
      "100%|██████████| 252/252 [00:03<00:00, 67.61it/s]\n",
      "100%|██████████| 28/28 [00:00<00:00, 129.64it/s]\n",
      "100%|██████████| 943/943 [00:00<00:00, 1840.01it/s]\n"
     ]
    },
    {
     "name": "stdout",
     "output_type": "stream",
     "text": [
      "Epoch 10: train loss :   0.152802   val loss :   0.151451   val score :   0.251326\n",
      "------ epoch:11 ------\n"
     ]
    },
    {
     "name": "stderr",
     "output_type": "stream",
     "text": [
      "100%|██████████| 252/252 [00:03<00:00, 68.13it/s]\n",
      "100%|██████████| 28/28 [00:00<00:00, 128.69it/s]\n",
      "100%|██████████| 943/943 [00:00<00:00, 1855.03it/s]\n"
     ]
    },
    {
     "name": "stdout",
     "output_type": "stream",
     "text": [
      "Epoch 11: train loss :   0.152746   val loss :   0.151422   val score :   0.241782\n",
      "------ epoch:12 ------\n"
     ]
    },
    {
     "name": "stderr",
     "output_type": "stream",
     "text": [
      "100%|██████████| 252/252 [00:03<00:00, 71.97it/s]\n",
      "100%|██████████| 28/28 [00:00<00:00, 129.32it/s]\n",
      "100%|██████████| 943/943 [00:00<00:00, 1755.02it/s]\n"
     ]
    },
    {
     "name": "stdout",
     "output_type": "stream",
     "text": [
      "Epoch 12: train loss :   0.152666   val loss :   0.151392   val score :   0.252386\n",
      "------ epoch:13 ------\n"
     ]
    },
    {
     "name": "stderr",
     "output_type": "stream",
     "text": [
      "100%|██████████| 252/252 [00:03<00:00, 73.77it/s]\n",
      "100%|██████████| 28/28 [00:00<00:00, 93.47it/s]\n",
      "100%|██████████| 943/943 [00:00<00:00, 1967.07it/s]\n"
     ]
    },
    {
     "name": "stdout",
     "output_type": "stream",
     "text": [
      "Epoch 13: train loss :   0.152653   val loss :   0.151361   val score :   0.242842\n",
      "------ epoch:14 ------\n"
     ]
    },
    {
     "name": "stderr",
     "output_type": "stream",
     "text": [
      "100%|██████████| 252/252 [00:03<00:00, 72.87it/s]\n",
      "100%|██████████| 28/28 [00:00<00:00, 75.60it/s]\n",
      "100%|██████████| 943/943 [00:00<00:00, 2255.13it/s]\n"
     ]
    },
    {
     "name": "stdout",
     "output_type": "stream",
     "text": [
      "Epoch 14: train loss :   0.152677   val loss :   0.151372   val score :   0.242842\n",
      "------ epoch:15 ------\n"
     ]
    },
    {
     "name": "stderr",
     "output_type": "stream",
     "text": [
      "100%|██████████| 252/252 [00:03<00:00, 70.79it/s]\n",
      "100%|██████████| 28/28 [00:00<00:00, 91.86it/s] \n",
      "100%|██████████| 943/943 [00:00<00:00, 1772.21it/s]\n"
     ]
    },
    {
     "name": "stdout",
     "output_type": "stream",
     "text": [
      "Epoch 15: train loss :   0.152672   val loss :   0.151368   val score :   0.242842\n",
      "Epoch 00015: reducing learning rate of group 0 to 1.0000e-03.\n",
      "------ epoch:16 ------\n"
     ]
    },
    {
     "name": "stderr",
     "output_type": "stream",
     "text": [
      "100%|██████████| 252/252 [00:03<00:00, 73.82it/s]\n",
      "100%|██████████| 28/28 [00:00<00:00, 129.64it/s]\n",
      "100%|██████████| 943/943 [00:00<00:00, 1426.66it/s]\n"
     ]
    },
    {
     "name": "stdout",
     "output_type": "stream",
     "text": [
      "Epoch 16: train loss :   0.152482   val loss :   0.151342   val score :   0.246023\n"
     ]
    },
    {
     "name": "stderr",
     "output_type": "stream",
     "text": [
      "100%|██████████| 70/70 [00:00<00:00, 115.99it/s]\n",
      "100%|██████████| 943/943 [00:00<00:00, 2061.98it/s]\n"
     ]
    },
    {
     "name": "stdout",
     "output_type": "stream",
     "text": [
      "------ log loss of 4 fold : 0.15051196281399046 ------\n",
      "------ score of 4 fold : 0.2513255567338282 ------\n",
      "------ 第5折 ------\n",
      "------ epoch:1 ------\n"
     ]
    },
    {
     "name": "stderr",
     "output_type": "stream",
     "text": [
      "100%|██████████| 252/252 [00:03<00:00, 71.46it/s]\n",
      "100%|██████████| 28/28 [00:00<00:00, 130.49it/s]\n",
      "100%|██████████| 943/943 [00:00<00:00, 2202.21it/s]\n"
     ]
    },
    {
     "name": "stdout",
     "output_type": "stream",
     "text": [
      "Epoch 1: train loss :   0.297975   val loss :   0.157114   val score :   0.182397\n",
      "------ epoch:2 ------\n"
     ]
    },
    {
     "name": "stderr",
     "output_type": "stream",
     "text": [
      "100%|██████████| 252/252 [00:03<00:00, 72.39it/s]\n",
      "100%|██████████| 28/28 [00:00<00:00, 129.42it/s]\n",
      "100%|██████████| 943/943 [00:00<00:00, 1900.71it/s]\n"
     ]
    },
    {
     "name": "stdout",
     "output_type": "stream",
     "text": [
      "Epoch 2: train loss :   0.192850   val loss :   0.155683   val score :   0.194062\n",
      "------ epoch:3 ------\n"
     ]
    },
    {
     "name": "stderr",
     "output_type": "stream",
     "text": [
      "100%|██████████| 252/252 [00:03<00:00, 68.34it/s]\n",
      "100%|██████████| 28/28 [00:00<00:00, 127.33it/s]\n",
      "100%|██████████| 943/943 [00:00<00:00, 2270.87it/s]\n"
     ]
    },
    {
     "name": "stdout",
     "output_type": "stream",
     "text": [
      "Epoch 3: train loss :   0.178385   val loss :   0.154673   val score :   0.212089\n",
      "------ epoch:4 ------\n"
     ]
    },
    {
     "name": "stderr",
     "output_type": "stream",
     "text": [
      "100%|██████████| 252/252 [00:03<00:00, 70.27it/s]\n",
      "100%|██████████| 28/28 [00:00<00:00, 128.30it/s]\n",
      "100%|██████████| 943/943 [00:00<00:00, 2065.38it/s]\n"
     ]
    },
    {
     "name": "stdout",
     "output_type": "stream",
     "text": [
      "Epoch 4: train loss :   0.166111   val loss :   0.153284   val score :   0.222694\n",
      "------ epoch:5 ------\n"
     ]
    },
    {
     "name": "stderr",
     "output_type": "stream",
     "text": [
      "100%|██████████| 252/252 [00:03<00:00, 72.58it/s]\n",
      "100%|██████████| 28/28 [00:00<00:00, 129.86it/s]\n",
      "100%|██████████| 943/943 [00:00<00:00, 2165.10it/s]\n"
     ]
    },
    {
     "name": "stdout",
     "output_type": "stream",
     "text": [
      "Epoch 5: train loss :   0.158633   val loss :   0.151953   val score :   0.233298\n",
      "------ epoch:6 ------\n"
     ]
    },
    {
     "name": "stderr",
     "output_type": "stream",
     "text": [
      "100%|██████████| 252/252 [00:03<00:00, 72.80it/s]\n",
      "100%|██████████| 28/28 [00:00<00:00, 131.08it/s]\n",
      "100%|██████████| 943/943 [00:00<00:00, 2088.07it/s]\n"
     ]
    },
    {
     "name": "stdout",
     "output_type": "stream",
     "text": [
      "Epoch 6: train loss :   0.155668   val loss :   0.151467   val score :   0.244963\n",
      "------ epoch:7 ------\n"
     ]
    },
    {
     "name": "stderr",
     "output_type": "stream",
     "text": [
      "100%|██████████| 252/252 [00:03<00:00, 74.56it/s]\n",
      "100%|██████████| 28/28 [00:00<00:00, 95.62it/s]\n",
      "100%|██████████| 943/943 [00:00<00:00, 2113.31it/s]\n"
     ]
    },
    {
     "name": "stdout",
     "output_type": "stream",
     "text": [
      "Epoch 7: train loss :   0.154227   val loss :   0.151251   val score :   0.241782\n",
      "------ epoch:8 ------\n"
     ]
    },
    {
     "name": "stderr",
     "output_type": "stream",
     "text": [
      "100%|██████████| 252/252 [00:03<00:00, 71.64it/s]\n",
      "100%|██████████| 28/28 [00:00<00:00, 96.50it/s] \n",
      "100%|██████████| 943/943 [00:00<00:00, 1992.22it/s]\n"
     ]
    },
    {
     "name": "stdout",
     "output_type": "stream",
     "text": [
      "Epoch 8: train loss :   0.153416   val loss :   0.151127   val score :   0.242842\n",
      "------ epoch:9 ------\n"
     ]
    },
    {
     "name": "stderr",
     "output_type": "stream",
     "text": [
      "100%|██████████| 252/252 [00:03<00:00, 73.77it/s]\n",
      "100%|██████████| 28/28 [00:00<00:00, 92.67it/s] \n",
      "100%|██████████| 943/943 [00:00<00:00, 2238.20it/s]\n"
     ]
    },
    {
     "name": "stdout",
     "output_type": "stream",
     "text": [
      "Epoch 9: train loss :   0.152941   val loss :   0.151060   val score :   0.259809\n",
      "------ epoch:10 ------\n"
     ]
    },
    {
     "name": "stderr",
     "output_type": "stream",
     "text": [
      "100%|██████████| 252/252 [00:03<00:00, 72.08it/s]\n",
      "100%|██████████| 28/28 [00:00<00:00, 123.44it/s]\n",
      "100%|██████████| 943/943 [00:00<00:00, 2145.58it/s]\n"
     ]
    },
    {
     "name": "stdout",
     "output_type": "stream",
     "text": [
      "Epoch 10: train loss :   0.152717   val loss :   0.150990   val score :   0.246023\n",
      "------ epoch:11 ------\n"
     ]
    },
    {
     "name": "stderr",
     "output_type": "stream",
     "text": [
      "100%|██████████| 252/252 [00:03<00:00, 72.44it/s]\n",
      "100%|██████████| 28/28 [00:00<00:00, 131.51it/s]\n",
      "100%|██████████| 943/943 [00:00<00:00, 2028.25it/s]\n"
     ]
    },
    {
     "name": "stdout",
     "output_type": "stream",
     "text": [
      "Epoch 11: train loss :   0.152652   val loss :   0.150952   val score :   0.251326\n",
      "------ epoch:12 ------\n"
     ]
    },
    {
     "name": "stderr",
     "output_type": "stream",
     "text": [
      "100%|██████████| 252/252 [00:03<00:00, 69.86it/s]\n",
      "100%|██████████| 28/28 [00:00<00:00, 124.67it/s]\n",
      "100%|██████████| 943/943 [00:00<00:00, 1936.39it/s]\n"
     ]
    },
    {
     "name": "stdout",
     "output_type": "stream",
     "text": [
      "Epoch 12: train loss :   0.152589   val loss :   0.150961   val score :   0.248144\n",
      "Epoch 00012: reducing learning rate of group 0 to 1.0000e-03.\n",
      "------ epoch:13 ------\n"
     ]
    },
    {
     "name": "stderr",
     "output_type": "stream",
     "text": [
      "100%|██████████| 252/252 [00:03<00:00, 70.68it/s]\n",
      "100%|██████████| 28/28 [00:00<00:00, 129.37it/s]\n",
      "100%|██████████| 943/943 [00:00<00:00, 2021.76it/s]\n"
     ]
    },
    {
     "name": "stdout",
     "output_type": "stream",
     "text": [
      "Epoch 13: train loss :   0.152442   val loss :   0.150934   val score :   0.246023\n"
     ]
    },
    {
     "name": "stderr",
     "output_type": "stream",
     "text": [
      "100%|██████████| 70/70 [00:00<00:00, 84.52it/s] \n",
      "100%|██████████| 943/943 [00:00<00:00, 2014.26it/s]\n"
     ]
    },
    {
     "name": "stdout",
     "output_type": "stream",
     "text": [
      "------ log loss of 5 fold : 0.15099757441452571 ------\n",
      "------ score of 5 fold : 0.20572640509013787 ------\n",
      "settings : percentage = 1, model type = 5\n",
      "parameters :  {'lam': 0.01, 'phi_r': 0.01, 'phi_theta': 0.01, 'num_users': 943, 'num_items': 1682, 'embedding_dim': 10, 'mu': 0.1, 'lr': 0.01, 'alpha': 0.01, 'patience': 3, 'epochs': 30, 'device': 'cuda:0', 'model_selection': True}\n",
      "------ log loss of the model : 0.15073711642197202 ------\n",
      "------ score of the model : 0.22651113467656417 ------\n",
      "------ 第1折 ------\n",
      "------ epoch:1 ------\n"
     ]
    },
    {
     "name": "stderr",
     "output_type": "stream",
     "text": [
      "100%|██████████| 252/252 [00:03<00:00, 73.59it/s]\n",
      "100%|██████████| 28/28 [00:00<00:00, 130.97it/s]\n",
      "100%|██████████| 943/943 [00:00<00:00, 1261.51it/s]\n"
     ]
    },
    {
     "name": "stdout",
     "output_type": "stream",
     "text": [
      "Epoch 1: train loss :   0.304652   val loss :   0.158777   val score :   0.161188\n",
      "------ epoch:2 ------\n"
     ]
    },
    {
     "name": "stderr",
     "output_type": "stream",
     "text": [
      "100%|██████████| 252/252 [00:03<00:00, 72.73it/s]\n",
      "100%|██████████| 28/28 [00:00<00:00, 131.30it/s]\n",
      "100%|██████████| 943/943 [00:00<00:00, 1251.51it/s]\n"
     ]
    },
    {
     "name": "stdout",
     "output_type": "stream",
     "text": [
      "Epoch 2: train loss :   0.195853   val loss :   0.157774   val score :   0.174973\n",
      "------ epoch:3 ------\n"
     ]
    },
    {
     "name": "stderr",
     "output_type": "stream",
     "text": [
      "100%|██████████| 252/252 [00:03<00:00, 73.51it/s]\n",
      "100%|██████████| 28/28 [00:00<00:00, 90.25it/s]\n",
      "100%|██████████| 943/943 [00:00<00:00, 1272.06it/s]\n"
     ]
    },
    {
     "name": "stdout",
     "output_type": "stream",
     "text": [
      "Epoch 3: train loss :   0.181142   val loss :   0.157033   val score :   0.185578\n",
      "------ epoch:4 ------\n"
     ]
    },
    {
     "name": "stderr",
     "output_type": "stream",
     "text": [
      "100%|██████████| 252/252 [00:03<00:00, 72.83it/s]\n",
      "100%|██████████| 28/28 [00:00<00:00, 96.45it/s] \n",
      "100%|██████████| 943/943 [00:00<00:00, 1425.59it/s]\n"
     ]
    },
    {
     "name": "stdout",
     "output_type": "stream",
     "text": [
      "Epoch 4: train loss :   0.168404   val loss :   0.155613   val score :   0.190880\n",
      "------ epoch:5 ------\n"
     ]
    },
    {
     "name": "stderr",
     "output_type": "stream",
     "text": [
      "100%|██████████| 252/252 [00:03<00:00, 74.50it/s]\n",
      "100%|██████████| 28/28 [00:00<00:00, 94.45it/s] \n",
      "100%|██████████| 943/943 [00:00<00:00, 1237.36it/s]\n"
     ]
    },
    {
     "name": "stdout",
     "output_type": "stream",
     "text": [
      "Epoch 5: train loss :   0.160689   val loss :   0.154228   val score :   0.244963\n",
      "------ epoch:6 ------\n"
     ]
    },
    {
     "name": "stderr",
     "output_type": "stream",
     "text": [
      "100%|██████████| 252/252 [00:03<00:00, 73.77it/s]\n",
      "100%|██████████| 28/28 [00:00<00:00, 126.64it/s]\n",
      "100%|██████████| 943/943 [00:00<00:00, 1270.20it/s]\n"
     ]
    },
    {
     "name": "stdout",
     "output_type": "stream",
     "text": [
      "Epoch 6: train loss :   0.157774   val loss :   0.153803   val score :   0.251326\n",
      "------ epoch:7 ------\n"
     ]
    },
    {
     "name": "stderr",
     "output_type": "stream",
     "text": [
      "100%|██████████| 252/252 [00:03<00:00, 70.25it/s]\n",
      "100%|██████████| 28/28 [00:00<00:00, 130.77it/s]\n",
      "100%|██████████| 943/943 [00:00<00:00, 1242.79it/s]\n"
     ]
    },
    {
     "name": "stdout",
     "output_type": "stream",
     "text": [
      "Epoch 7: train loss :   0.156369   val loss :   0.153612   val score :   0.250265\n",
      "------ epoch:8 ------\n"
     ]
    },
    {
     "name": "stderr",
     "output_type": "stream",
     "text": [
      "100%|██████████| 252/252 [00:03<00:00, 71.92it/s]\n",
      "100%|██████████| 28/28 [00:00<00:00, 125.30it/s]\n",
      "100%|██████████| 943/943 [00:00<00:00, 1713.16it/s]\n"
     ]
    },
    {
     "name": "stdout",
     "output_type": "stream",
     "text": [
      "Epoch 8: train loss :   0.155595   val loss :   0.153508   val score :   0.253446\n",
      "------ epoch:9 ------\n"
     ]
    },
    {
     "name": "stderr",
     "output_type": "stream",
     "text": [
      "100%|██████████| 252/252 [00:03<00:00, 70.46it/s]\n",
      "100%|██████████| 28/28 [00:00<00:00, 132.07it/s]\n",
      "100%|██████████| 943/943 [00:00<00:00, 2037.21it/s]\n"
     ]
    },
    {
     "name": "stdout",
     "output_type": "stream",
     "text": [
      "Epoch 9: train loss :   0.155173   val loss :   0.153443   val score :   0.252386\n",
      "------ epoch:10 ------\n"
     ]
    },
    {
     "name": "stderr",
     "output_type": "stream",
     "text": [
      "100%|██████████| 252/252 [00:03<00:00, 73.31it/s]\n",
      "100%|██████████| 28/28 [00:00<00:00, 132.45it/s]\n",
      "100%|██████████| 943/943 [00:00<00:00, 2062.57it/s]\n"
     ]
    },
    {
     "name": "stdout",
     "output_type": "stream",
     "text": [
      "Epoch 10: train loss :   0.154993   val loss :   0.153397   val score :   0.241782\n",
      "------ epoch:11 ------\n"
     ]
    },
    {
     "name": "stderr",
     "output_type": "stream",
     "text": [
      "100%|██████████| 252/252 [00:03<00:00, 71.73it/s]\n",
      "100%|██████████| 28/28 [00:00<00:00, 129.50it/s]\n",
      "100%|██████████| 943/943 [00:00<00:00, 1978.99it/s]\n"
     ]
    },
    {
     "name": "stdout",
     "output_type": "stream",
     "text": [
      "Epoch 11: train loss :   0.154895   val loss :   0.153371   val score :   0.252386\n",
      "Epoch 00011: reducing learning rate of group 0 to 1.0000e-03.\n",
      "------ epoch:12 ------\n"
     ]
    },
    {
     "name": "stderr",
     "output_type": "stream",
     "text": [
      "100%|██████████| 252/252 [00:03<00:00, 70.88it/s]\n",
      "100%|██████████| 28/28 [00:00<00:00, 126.79it/s]\n",
      "100%|██████████| 943/943 [00:00<00:00, 1862.32it/s]\n"
     ]
    },
    {
     "name": "stdout",
     "output_type": "stream",
     "text": [
      "Epoch 12: train loss :   0.154870   val loss :   0.153362   val score :   0.254507\n",
      "------ epoch:13 ------\n"
     ]
    },
    {
     "name": "stderr",
     "output_type": "stream",
     "text": [
      "100%|██████████| 252/252 [00:03<00:00, 71.09it/s]\n",
      "100%|██████████| 28/28 [00:00<00:00, 130.02it/s]\n",
      "100%|██████████| 943/943 [00:00<00:00, 2093.68it/s]\n"
     ]
    },
    {
     "name": "stdout",
     "output_type": "stream",
     "text": [
      "Epoch 13: train loss :   0.154846   val loss :   0.153357   val score :   0.257688\n",
      "------ epoch:14 ------\n"
     ]
    },
    {
     "name": "stderr",
     "output_type": "stream",
     "text": [
      "100%|██████████| 252/252 [00:03<00:00, 72.88it/s]\n",
      "100%|██████████| 28/28 [00:00<00:00, 129.79it/s]\n",
      "100%|██████████| 943/943 [00:00<00:00, 1886.49it/s]\n"
     ]
    },
    {
     "name": "stdout",
     "output_type": "stream",
     "text": [
      "Epoch 14: train loss :   0.154840   val loss :   0.153356   val score :   0.258749\n",
      "------ epoch:15 ------\n"
     ]
    },
    {
     "name": "stderr",
     "output_type": "stream",
     "text": [
      "100%|██████████| 252/252 [00:03<00:00, 73.03it/s]\n",
      "100%|██████████| 28/28 [00:00<00:00, 130.50it/s]\n",
      "100%|██████████| 943/943 [00:00<00:00, 2032.20it/s]\n"
     ]
    },
    {
     "name": "stdout",
     "output_type": "stream",
     "text": [
      "Epoch 15: train loss :   0.154838   val loss :   0.153355   val score :   0.254507\n",
      "------ epoch:16 ------\n"
     ]
    },
    {
     "name": "stderr",
     "output_type": "stream",
     "text": [
      "100%|██████████| 252/252 [00:03<00:00, 75.02it/s]\n",
      "100%|██████████| 28/28 [00:00<00:00, 94.63it/s]\n",
      "100%|██████████| 943/943 [00:00<00:00, 2001.87it/s]\n"
     ]
    },
    {
     "name": "stdout",
     "output_type": "stream",
     "text": [
      "Epoch 16: train loss :   0.154837   val loss :   0.153353   val score :   0.256628\n",
      "------ epoch:17 ------\n"
     ]
    },
    {
     "name": "stderr",
     "output_type": "stream",
     "text": [
      "100%|██████████| 252/252 [00:03<00:00, 67.65it/s]\n",
      "100%|██████████| 28/28 [00:00<00:00, 93.84it/s]\n",
      "100%|██████████| 943/943 [00:00<00:00, 1701.21it/s]\n"
     ]
    },
    {
     "name": "stdout",
     "output_type": "stream",
     "text": [
      "Epoch 17: train loss :   0.154843   val loss :   0.153351   val score :   0.253446\n",
      "Epoch 00017: reducing learning rate of group 0 to 1.0000e-04.\n",
      "------ epoch:18 ------\n"
     ]
    },
    {
     "name": "stderr",
     "output_type": "stream",
     "text": [
      "100%|██████████| 252/252 [00:03<00:00, 70.08it/s]\n",
      "100%|██████████| 28/28 [00:00<00:00, 95.66it/s] \n",
      "100%|██████████| 943/943 [00:00<00:00, 2344.46it/s]\n"
     ]
    },
    {
     "name": "stdout",
     "output_type": "stream",
     "text": [
      "Epoch 18: train loss :   0.154810   val loss :   0.153351   val score :   0.254507\n"
     ]
    },
    {
     "name": "stderr",
     "output_type": "stream",
     "text": [
      "100%|██████████| 70/70 [00:00<00:00, 128.27it/s]\n",
      "100%|██████████| 943/943 [00:00<00:00, 2086.88it/s]\n"
     ]
    },
    {
     "name": "stdout",
     "output_type": "stream",
     "text": [
      "------ log loss of 1 fold : 0.15271381608077458 ------\n",
      "------ score of 1 fold : 0.23117709437963946 ------\n",
      "------ 第2折 ------\n",
      "------ epoch:1 ------\n"
     ]
    },
    {
     "name": "stderr",
     "output_type": "stream",
     "text": [
      "100%|██████████| 252/252 [00:03<00:00, 72.04it/s]\n",
      "100%|██████████| 28/28 [00:00<00:00, 125.88it/s]\n",
      "100%|██████████| 943/943 [00:00<00:00, 2004.18it/s]\n"
     ]
    },
    {
     "name": "stdout",
     "output_type": "stream",
     "text": [
      "Epoch 1: train loss :   0.301009   val loss :   0.158634   val score :   0.164369\n",
      "------ epoch:2 ------\n"
     ]
    },
    {
     "name": "stderr",
     "output_type": "stream",
     "text": [
      "100%|██████████| 252/252 [00:03<00:00, 72.09it/s]\n",
      "100%|██████████| 28/28 [00:00<00:00, 131.33it/s]\n",
      "100%|██████████| 943/943 [00:00<00:00, 2045.84it/s]\n"
     ]
    },
    {
     "name": "stdout",
     "output_type": "stream",
     "text": [
      "Epoch 2: train loss :   0.194866   val loss :   0.157524   val score :   0.193001\n",
      "------ epoch:3 ------\n"
     ]
    },
    {
     "name": "stderr",
     "output_type": "stream",
     "text": [
      "100%|██████████| 252/252 [00:03<00:00, 76.81it/s]\n",
      "100%|██████████| 28/28 [00:00<00:00, 124.76it/s]\n",
      "100%|██████████| 943/943 [00:00<00:00, 1278.71it/s]\n"
     ]
    },
    {
     "name": "stdout",
     "output_type": "stream",
     "text": [
      "Epoch 3: train loss :   0.180267   val loss :   0.156828   val score :   0.186638\n",
      "------ epoch:4 ------\n"
     ]
    },
    {
     "name": "stderr",
     "output_type": "stream",
     "text": [
      "100%|██████████| 252/252 [00:03<00:00, 75.35it/s]\n",
      "100%|██████████| 28/28 [00:00<00:00, 128.13it/s]\n",
      "100%|██████████| 943/943 [00:00<00:00, 1791.48it/s]\n"
     ]
    },
    {
     "name": "stdout",
     "output_type": "stream",
     "text": [
      "Epoch 4: train loss :   0.167702   val loss :   0.155358   val score :   0.194062\n",
      "------ epoch:5 ------\n"
     ]
    },
    {
     "name": "stderr",
     "output_type": "stream",
     "text": [
      "100%|██████████| 252/252 [00:03<00:00, 71.98it/s]\n",
      "100%|██████████| 28/28 [00:00<00:00, 114.24it/s]\n",
      "100%|██████████| 943/943 [00:00<00:00, 1919.68it/s]\n"
     ]
    },
    {
     "name": "stdout",
     "output_type": "stream",
     "text": [
      "Epoch 5: train loss :   0.160304   val loss :   0.154046   val score :   0.224814\n",
      "------ epoch:6 ------\n"
     ]
    },
    {
     "name": "stderr",
     "output_type": "stream",
     "text": [
      "100%|██████████| 252/252 [00:03<00:00, 71.14it/s]\n",
      "100%|██████████| 28/28 [00:00<00:00, 129.96it/s]\n",
      "100%|██████████| 943/943 [00:00<00:00, 1860.05it/s]\n"
     ]
    },
    {
     "name": "stdout",
     "output_type": "stream",
     "text": [
      "Epoch 6: train loss :   0.157535   val loss :   0.153641   val score :   0.243902\n",
      "------ epoch:7 ------\n"
     ]
    },
    {
     "name": "stderr",
     "output_type": "stream",
     "text": [
      "100%|██████████| 252/252 [00:03<00:00, 71.11it/s]\n",
      "100%|██████████| 28/28 [00:00<00:00, 126.82it/s]\n",
      "100%|██████████| 943/943 [00:00<00:00, 2005.99it/s]\n"
     ]
    },
    {
     "name": "stdout",
     "output_type": "stream",
     "text": [
      "Epoch 7: train loss :   0.156183   val loss :   0.153467   val score :   0.243902\n",
      "------ epoch:8 ------\n"
     ]
    },
    {
     "name": "stderr",
     "output_type": "stream",
     "text": [
      "100%|██████████| 252/252 [00:03<00:00, 69.14it/s]\n",
      "100%|██████████| 28/28 [00:00<00:00, 121.15it/s]\n",
      "100%|██████████| 943/943 [00:00<00:00, 1902.14it/s]\n"
     ]
    },
    {
     "name": "stdout",
     "output_type": "stream",
     "text": [
      "Epoch 8: train loss :   0.155398   val loss :   0.153343   val score :   0.233298\n",
      "------ epoch:9 ------\n"
     ]
    },
    {
     "name": "stderr",
     "output_type": "stream",
     "text": [
      "100%|██████████| 252/252 [00:03<00:00, 70.98it/s]\n",
      "100%|██████████| 28/28 [00:00<00:00, 129.02it/s]\n",
      "100%|██████████| 943/943 [00:00<00:00, 1872.51it/s]\n"
     ]
    },
    {
     "name": "stdout",
     "output_type": "stream",
     "text": [
      "Epoch 9: train loss :   0.154999   val loss :   0.153304   val score :   0.238600\n",
      "Epoch 00009: reducing learning rate of group 0 to 1.0000e-03.\n",
      "------ epoch:10 ------\n"
     ]
    },
    {
     "name": "stderr",
     "output_type": "stream",
     "text": [
      "100%|██████████| 252/252 [00:03<00:00, 73.60it/s]\n",
      "100%|██████████| 28/28 [00:00<00:00, 96.49it/s]\n",
      "100%|██████████| 943/943 [00:00<00:00, 1904.33it/s]\n"
     ]
    },
    {
     "name": "stdout",
     "output_type": "stream",
     "text": [
      "Epoch 10: train loss :   0.154865   val loss :   0.153289   val score :   0.240721\n"
     ]
    },
    {
     "name": "stderr",
     "output_type": "stream",
     "text": [
      "100%|██████████| 70/70 [00:00<00:00, 130.43it/s]\n",
      "100%|██████████| 943/943 [00:00<00:00, 2069.64it/s]\n"
     ]
    },
    {
     "name": "stdout",
     "output_type": "stream",
     "text": [
      "------ log loss of 2 fold : 0.1533214339188167 ------\n",
      "------ score of 2 fold : 0.24284199363732767 ------\n",
      "------ 第3折 ------\n",
      "------ epoch:1 ------\n"
     ]
    },
    {
     "name": "stderr",
     "output_type": "stream",
     "text": [
      "100%|██████████| 252/252 [00:03<00:00, 71.32it/s]\n",
      "100%|██████████| 28/28 [00:00<00:00, 131.03it/s]\n",
      "100%|██████████| 943/943 [00:00<00:00, 1336.53it/s]\n"
     ]
    },
    {
     "name": "stdout",
     "output_type": "stream",
     "text": [
      "Epoch 1: train loss :   0.299466   val loss :   0.158412   val score :   0.151644\n",
      "------ epoch:2 ------\n"
     ]
    },
    {
     "name": "stderr",
     "output_type": "stream",
     "text": [
      "100%|██████████| 252/252 [00:03<00:00, 66.98it/s]\n",
      "100%|██████████| 28/28 [00:00<00:00, 124.86it/s]\n",
      "100%|██████████| 943/943 [00:00<00:00, 1338.50it/s]\n"
     ]
    },
    {
     "name": "stdout",
     "output_type": "stream",
     "text": [
      "Epoch 2: train loss :   0.194619   val loss :   0.157379   val score :   0.179215\n",
      "------ epoch:3 ------\n"
     ]
    },
    {
     "name": "stderr",
     "output_type": "stream",
     "text": [
      "100%|██████████| 252/252 [00:03<00:00, 69.56it/s]\n",
      "100%|██████████| 28/28 [00:00<00:00, 130.21it/s]\n",
      "100%|██████████| 943/943 [00:00<00:00, 2073.97it/s]\n"
     ]
    },
    {
     "name": "stdout",
     "output_type": "stream",
     "text": [
      "Epoch 3: train loss :   0.179892   val loss :   0.156635   val score :   0.186638\n",
      "------ epoch:4 ------\n"
     ]
    },
    {
     "name": "stderr",
     "output_type": "stream",
     "text": [
      "100%|██████████| 252/252 [00:03<00:00, 72.54it/s]\n",
      "100%|██████████| 28/28 [00:00<00:00, 131.88it/s]\n",
      "100%|██████████| 943/943 [00:00<00:00, 1943.43it/s]\n"
     ]
    },
    {
     "name": "stdout",
     "output_type": "stream",
     "text": [
      "Epoch 4: train loss :   0.167278   val loss :   0.155061   val score :   0.195122\n",
      "------ epoch:5 ------\n"
     ]
    },
    {
     "name": "stderr",
     "output_type": "stream",
     "text": [
      "100%|██████████| 252/252 [00:03<00:00, 72.54it/s]\n",
      "100%|██████████| 28/28 [00:00<00:00, 132.11it/s]\n",
      "100%|██████████| 943/943 [00:00<00:00, 1830.58it/s]\n"
     ]
    },
    {
     "name": "stdout",
     "output_type": "stream",
     "text": [
      "Epoch 5: train loss :   0.160143   val loss :   0.153759   val score :   0.231177\n",
      "------ epoch:6 ------\n"
     ]
    },
    {
     "name": "stderr",
     "output_type": "stream",
     "text": [
      "100%|██████████| 252/252 [00:03<00:00, 70.29it/s]\n",
      "100%|██████████| 28/28 [00:00<00:00, 127.24it/s]\n",
      "100%|██████████| 943/943 [00:00<00:00, 1830.43it/s]\n"
     ]
    },
    {
     "name": "stdout",
     "output_type": "stream",
     "text": [
      "Epoch 6: train loss :   0.157498   val loss :   0.153369   val score :   0.224814\n",
      "------ epoch:7 ------\n"
     ]
    },
    {
     "name": "stderr",
     "output_type": "stream",
     "text": [
      "100%|██████████| 252/252 [00:03<00:00, 70.88it/s]\n",
      "100%|██████████| 28/28 [00:00<00:00, 125.43it/s]\n",
      "100%|██████████| 943/943 [00:00<00:00, 1947.95it/s]\n"
     ]
    },
    {
     "name": "stdout",
     "output_type": "stream",
     "text": [
      "Epoch 7: train loss :   0.156146   val loss :   0.153183   val score :   0.232238\n",
      "------ epoch:8 ------\n"
     ]
    },
    {
     "name": "stderr",
     "output_type": "stream",
     "text": [
      "100%|██████████| 252/252 [00:03<00:00, 71.86it/s]\n",
      "100%|██████████| 28/28 [00:00<00:00, 130.06it/s]\n",
      "100%|██████████| 943/943 [00:00<00:00, 1734.27it/s]\n"
     ]
    },
    {
     "name": "stdout",
     "output_type": "stream",
     "text": [
      "Epoch 8: train loss :   0.155392   val loss :   0.153080   val score :   0.226935\n",
      "------ epoch:9 ------\n"
     ]
    },
    {
     "name": "stderr",
     "output_type": "stream",
     "text": [
      "100%|██████████| 252/252 [00:03<00:00, 71.48it/s]\n",
      "100%|██████████| 28/28 [00:00<00:00, 129.17it/s]\n",
      "100%|██████████| 943/943 [00:00<00:00, 1924.46it/s]\n"
     ]
    },
    {
     "name": "stdout",
     "output_type": "stream",
     "text": [
      "Epoch 9: train loss :   0.155009   val loss :   0.153012   val score :   0.225875\n",
      "------ epoch:10 ------\n"
     ]
    },
    {
     "name": "stderr",
     "output_type": "stream",
     "text": [
      "100%|██████████| 252/252 [00:03<00:00, 72.19it/s]\n",
      "100%|██████████| 28/28 [00:00<00:00, 130.41it/s]\n",
      "100%|██████████| 943/943 [00:00<00:00, 1847.50it/s]\n"
     ]
    },
    {
     "name": "stdout",
     "output_type": "stream",
     "text": [
      "Epoch 10: train loss :   0.154851   val loss :   0.152974   val score :   0.231177\n",
      "Epoch 00010: reducing learning rate of group 0 to 1.0000e-03.\n",
      "------ epoch:11 ------\n"
     ]
    },
    {
     "name": "stderr",
     "output_type": "stream",
     "text": [
      "100%|██████████| 252/252 [00:03<00:00, 69.11it/s]\n",
      "100%|██████████| 28/28 [00:00<00:00, 93.89it/s]\n",
      "100%|██████████| 943/943 [00:00<00:00, 1786.69it/s]\n"
     ]
    },
    {
     "name": "stdout",
     "output_type": "stream",
     "text": [
      "Epoch 11: train loss :   0.154778   val loss :   0.152965   val score :   0.233298\n",
      "------ epoch:12 ------\n"
     ]
    },
    {
     "name": "stderr",
     "output_type": "stream",
     "text": [
      "100%|██████████| 252/252 [00:03<00:00, 73.40it/s]\n",
      "100%|██████████| 28/28 [00:00<00:00, 94.42it/s]\n",
      "100%|██████████| 943/943 [00:00<00:00, 1936.85it/s]\n"
     ]
    },
    {
     "name": "stdout",
     "output_type": "stream",
     "text": [
      "Epoch 12: train loss :   0.154751   val loss :   0.152961   val score :   0.234358\n",
      "------ epoch:13 ------\n"
     ]
    },
    {
     "name": "stderr",
     "output_type": "stream",
     "text": [
      "100%|██████████| 252/252 [00:03<00:00, 74.04it/s]\n",
      "100%|██████████| 28/28 [00:00<00:00, 93.36it/s] \n",
      "100%|██████████| 943/943 [00:00<00:00, 1881.04it/s]\n"
     ]
    },
    {
     "name": "stdout",
     "output_type": "stream",
     "text": [
      "Epoch 13: train loss :   0.154734   val loss :   0.152957   val score :   0.236479\n",
      "------ epoch:14 ------\n"
     ]
    },
    {
     "name": "stderr",
     "output_type": "stream",
     "text": [
      "100%|██████████| 252/252 [00:03<00:00, 73.96it/s]\n",
      "100%|██████████| 28/28 [00:00<00:00, 130.45it/s]\n",
      "100%|██████████| 943/943 [00:00<00:00, 1330.40it/s]\n"
     ]
    },
    {
     "name": "stdout",
     "output_type": "stream",
     "text": [
      "Epoch 14: train loss :   0.154737   val loss :   0.152954   val score :   0.233298\n",
      "------ epoch:15 ------\n"
     ]
    },
    {
     "name": "stderr",
     "output_type": "stream",
     "text": [
      "100%|██████████| 252/252 [00:03<00:00, 68.57it/s]\n",
      "100%|██████████| 28/28 [00:00<00:00, 112.55it/s]\n",
      "100%|██████████| 943/943 [00:00<00:00, 2107.03it/s]\n"
     ]
    },
    {
     "name": "stdout",
     "output_type": "stream",
     "text": [
      "Epoch 15: train loss :   0.154730   val loss :   0.152952   val score :   0.233298\n",
      "------ epoch:16 ------\n"
     ]
    },
    {
     "name": "stderr",
     "output_type": "stream",
     "text": [
      "100%|██████████| 252/252 [00:03<00:00, 72.73it/s]\n",
      "100%|██████████| 28/28 [00:00<00:00, 124.82it/s]\n",
      "100%|██████████| 943/943 [00:00<00:00, 1709.92it/s]\n"
     ]
    },
    {
     "name": "stdout",
     "output_type": "stream",
     "text": [
      "Epoch 16: train loss :   0.154724   val loss :   0.152949   val score :   0.232238\n",
      "Epoch 00016: reducing learning rate of group 0 to 1.0000e-04.\n",
      "------ epoch:17 ------\n"
     ]
    },
    {
     "name": "stderr",
     "output_type": "stream",
     "text": [
      "100%|██████████| 252/252 [00:03<00:00, 71.82it/s]\n",
      "100%|██████████| 28/28 [00:00<00:00, 130.72it/s]\n",
      "100%|██████████| 943/943 [00:00<00:00, 1794.89it/s]\n"
     ]
    },
    {
     "name": "stdout",
     "output_type": "stream",
     "text": [
      "Epoch 17: train loss :   0.154711   val loss :   0.152949   val score :   0.232238\n"
     ]
    },
    {
     "name": "stderr",
     "output_type": "stream",
     "text": [
      "100%|██████████| 70/70 [00:00<00:00, 108.20it/s]\n",
      "100%|██████████| 943/943 [00:00<00:00, 2039.23it/s]\n"
     ]
    },
    {
     "name": "stdout",
     "output_type": "stream",
     "text": [
      "------ log loss of 3 fold : 0.15332189500331878 ------\n",
      "------ score of 3 fold : 0.22269353128313893 ------\n",
      "------ 第4折 ------\n",
      "------ epoch:1 ------\n"
     ]
    },
    {
     "name": "stderr",
     "output_type": "stream",
     "text": [
      "100%|██████████| 252/252 [00:03<00:00, 72.51it/s]\n",
      "100%|██████████| 28/28 [00:00<00:00, 131.41it/s]\n",
      "100%|██████████| 943/943 [00:00<00:00, 1824.55it/s]\n"
     ]
    },
    {
     "name": "stdout",
     "output_type": "stream",
     "text": [
      "Epoch 1: train loss :   0.302142   val loss :   0.158707   val score :   0.187699\n",
      "------ epoch:2 ------\n"
     ]
    },
    {
     "name": "stderr",
     "output_type": "stream",
     "text": [
      "100%|██████████| 252/252 [00:03<00:00, 71.34it/s]\n",
      "100%|██████████| 28/28 [00:00<00:00, 130.66it/s]\n",
      "100%|██████████| 943/943 [00:00<00:00, 2033.22it/s]\n"
     ]
    },
    {
     "name": "stdout",
     "output_type": "stream",
     "text": [
      "Epoch 2: train loss :   0.195731   val loss :   0.157650   val score :   0.209968\n",
      "------ epoch:3 ------\n"
     ]
    },
    {
     "name": "stderr",
     "output_type": "stream",
     "text": [
      "100%|██████████| 252/252 [00:03<00:00, 68.95it/s]\n",
      "100%|██████████| 28/28 [00:00<00:00, 132.38it/s]\n",
      "100%|██████████| 943/943 [00:00<00:00, 1964.30it/s]\n"
     ]
    },
    {
     "name": "stdout",
     "output_type": "stream",
     "text": [
      "Epoch 3: train loss :   0.180845   val loss :   0.156936   val score :   0.213150\n",
      "------ epoch:4 ------\n"
     ]
    },
    {
     "name": "stderr",
     "output_type": "stream",
     "text": [
      "100%|██████████| 252/252 [00:03<00:00, 71.84it/s]\n",
      "100%|██████████| 28/28 [00:00<00:00, 132.12it/s]\n",
      "100%|██████████| 943/943 [00:00<00:00, 1954.93it/s]\n"
     ]
    },
    {
     "name": "stdout",
     "output_type": "stream",
     "text": [
      "Epoch 4: train loss :   0.167969   val loss :   0.155436   val score :   0.227996\n",
      "------ epoch:5 ------\n"
     ]
    },
    {
     "name": "stderr",
     "output_type": "stream",
     "text": [
      "100%|██████████| 252/252 [00:03<00:00, 73.55it/s]\n",
      "100%|██████████| 28/28 [00:00<00:00, 93.92it/s]\n",
      "100%|██████████| 943/943 [00:00<00:00, 1825.94it/s]\n"
     ]
    },
    {
     "name": "stdout",
     "output_type": "stream",
     "text": [
      "Epoch 5: train loss :   0.160351   val loss :   0.154050   val score :   0.271474\n",
      "------ epoch:6 ------\n"
     ]
    },
    {
     "name": "stderr",
     "output_type": "stream",
     "text": [
      "100%|██████████| 252/252 [00:03<00:00, 71.58it/s]\n",
      "100%|██████████| 28/28 [00:00<00:00, 94.87it/s] \n",
      "100%|██████████| 943/943 [00:00<00:00, 2004.19it/s]\n"
     ]
    },
    {
     "name": "stdout",
     "output_type": "stream",
     "text": [
      "Epoch 6: train loss :   0.157557   val loss :   0.153651   val score :   0.283139\n",
      "------ epoch:7 ------\n"
     ]
    },
    {
     "name": "stderr",
     "output_type": "stream",
     "text": [
      "100%|██████████| 252/252 [00:03<00:00, 69.34it/s]\n",
      "100%|██████████| 28/28 [00:00<00:00, 92.48it/s] \n",
      "100%|██████████| 943/943 [00:00<00:00, 1869.65it/s]\n"
     ]
    },
    {
     "name": "stdout",
     "output_type": "stream",
     "text": [
      "Epoch 7: train loss :   0.156195   val loss :   0.153469   val score :   0.274655\n",
      "------ epoch:8 ------\n"
     ]
    },
    {
     "name": "stderr",
     "output_type": "stream",
     "text": [
      "100%|██████████| 252/252 [00:03<00:00, 71.37it/s]\n",
      "100%|██████████| 28/28 [00:00<00:00, 127.53it/s]\n",
      "100%|██████████| 943/943 [00:00<00:00, 1768.24it/s]\n"
     ]
    },
    {
     "name": "stdout",
     "output_type": "stream",
     "text": [
      "Epoch 8: train loss :   0.155435   val loss :   0.153360   val score :   0.288441\n",
      "------ epoch:9 ------\n"
     ]
    },
    {
     "name": "stderr",
     "output_type": "stream",
     "text": [
      "100%|██████████| 252/252 [00:03<00:00, 68.91it/s]\n",
      "100%|██████████| 28/28 [00:00<00:00, 131.95it/s]\n",
      "100%|██████████| 943/943 [00:00<00:00, 1896.17it/s]\n"
     ]
    },
    {
     "name": "stdout",
     "output_type": "stream",
     "text": [
      "Epoch 9: train loss :   0.155041   val loss :   0.153294   val score :   0.286320\n",
      "------ epoch:10 ------\n"
     ]
    },
    {
     "name": "stderr",
     "output_type": "stream",
     "text": [
      "100%|██████████| 252/252 [00:03<00:00, 71.11it/s]\n",
      "100%|██████████| 28/28 [00:00<00:00, 129.61it/s]\n",
      "100%|██████████| 943/943 [00:00<00:00, 1905.12it/s]\n"
     ]
    },
    {
     "name": "stdout",
     "output_type": "stream",
     "text": [
      "Epoch 10: train loss :   0.154852   val loss :   0.153263   val score :   0.283139\n",
      "------ epoch:11 ------\n"
     ]
    },
    {
     "name": "stderr",
     "output_type": "stream",
     "text": [
      "100%|██████████| 252/252 [00:03<00:00, 69.76it/s]\n",
      "100%|██████████| 28/28 [00:00<00:00, 116.14it/s]\n",
      "100%|██████████| 943/943 [00:00<00:00, 1915.85it/s]\n"
     ]
    },
    {
     "name": "stdout",
     "output_type": "stream",
     "text": [
      "Epoch 11: train loss :   0.154777   val loss :   0.153235   val score :   0.284199\n",
      "Epoch 00011: reducing learning rate of group 0 to 1.0000e-03.\n",
      "------ epoch:12 ------\n"
     ]
    },
    {
     "name": "stderr",
     "output_type": "stream",
     "text": [
      "100%|██████████| 252/252 [00:03<00:00, 68.05it/s]\n",
      "100%|██████████| 28/28 [00:00<00:00, 130.44it/s]\n",
      "100%|██████████| 943/943 [00:00<00:00, 1930.41it/s]\n"
     ]
    },
    {
     "name": "stdout",
     "output_type": "stream",
     "text": [
      "Epoch 12: train loss :   0.154733   val loss :   0.153226   val score :   0.283139\n"
     ]
    },
    {
     "name": "stderr",
     "output_type": "stream",
     "text": [
      "100%|██████████| 70/70 [00:00<00:00, 113.19it/s]\n",
      "100%|██████████| 943/943 [00:00<00:00, 1374.46it/s]\n"
     ]
    },
    {
     "name": "stdout",
     "output_type": "stream",
     "text": [
      "------ log loss of 4 fold : 0.15318647005728314 ------\n",
      "------ score of 4 fold : 0.2258748674443266 ------\n",
      "------ 第5折 ------\n",
      "------ epoch:1 ------\n"
     ]
    },
    {
     "name": "stderr",
     "output_type": "stream",
     "text": [
      "100%|██████████| 252/252 [00:03<00:00, 70.32it/s]\n",
      "100%|██████████| 28/28 [00:00<00:00, 130.58it/s]\n",
      "100%|██████████| 943/943 [00:00<00:00, 1838.29it/s]\n"
     ]
    },
    {
     "name": "stdout",
     "output_type": "stream",
     "text": [
      "Epoch 1: train loss :   0.299979   val loss :   0.158422   val score :   0.174973\n",
      "------ epoch:2 ------\n"
     ]
    },
    {
     "name": "stderr",
     "output_type": "stream",
     "text": [
      "100%|██████████| 252/252 [00:03<00:00, 72.01it/s]\n",
      "100%|██████████| 28/28 [00:00<00:00, 128.21it/s]\n",
      "100%|██████████| 943/943 [00:00<00:00, 1934.56it/s]\n"
     ]
    },
    {
     "name": "stdout",
     "output_type": "stream",
     "text": [
      "Epoch 2: train loss :   0.194514   val loss :   0.157344   val score :   0.186638\n",
      "------ epoch:3 ------\n"
     ]
    },
    {
     "name": "stderr",
     "output_type": "stream",
     "text": [
      "100%|██████████| 252/252 [00:03<00:00, 71.35it/s]\n",
      "100%|██████████| 28/28 [00:00<00:00, 94.16it/s]\n",
      "100%|██████████| 943/943 [00:00<00:00, 2151.43it/s]\n"
     ]
    },
    {
     "name": "stdout",
     "output_type": "stream",
     "text": [
      "Epoch 3: train loss :   0.180028   val loss :   0.156646   val score :   0.182397\n",
      "------ epoch:4 ------\n"
     ]
    },
    {
     "name": "stderr",
     "output_type": "stream",
     "text": [
      "100%|██████████| 252/252 [00:03<00:00, 71.74it/s]\n",
      "100%|██████████| 28/28 [00:00<00:00, 92.50it/s]\n",
      "100%|██████████| 943/943 [00:00<00:00, 2186.19it/s]\n"
     ]
    },
    {
     "name": "stdout",
     "output_type": "stream",
     "text": [
      "Epoch 4: train loss :   0.167484   val loss :   0.155086   val score :   0.185578\n",
      "------ epoch:5 ------\n"
     ]
    },
    {
     "name": "stderr",
     "output_type": "stream",
     "text": [
      "100%|██████████| 252/252 [00:03<00:00, 68.38it/s]\n",
      "100%|██████████| 28/28 [00:00<00:00, 96.23it/s] \n",
      "100%|██████████| 943/943 [00:00<00:00, 2000.37it/s]\n"
     ]
    },
    {
     "name": "stdout",
     "output_type": "stream",
     "text": [
      "Epoch 5: train loss :   0.160238   val loss :   0.153772   val score :   0.222694\n",
      "------ epoch:6 ------\n"
     ]
    },
    {
     "name": "stderr",
     "output_type": "stream",
     "text": [
      "100%|██████████| 252/252 [00:03<00:00, 74.08it/s]\n",
      "100%|██████████| 28/28 [00:00<00:00, 131.68it/s]\n",
      "100%|██████████| 943/943 [00:00<00:00, 2097.27it/s]\n"
     ]
    },
    {
     "name": "stdout",
     "output_type": "stream",
     "text": [
      "Epoch 6: train loss :   0.157571   val loss :   0.153387   val score :   0.235419\n",
      "------ epoch:7 ------\n"
     ]
    },
    {
     "name": "stderr",
     "output_type": "stream",
     "text": [
      "100%|██████████| 252/252 [00:03<00:00, 72.28it/s]\n",
      "100%|██████████| 28/28 [00:00<00:00, 128.03it/s]\n",
      "100%|██████████| 943/943 [00:00<00:00, 2141.66it/s]\n"
     ]
    },
    {
     "name": "stdout",
     "output_type": "stream",
     "text": [
      "Epoch 7: train loss :   0.156208   val loss :   0.153213   val score :   0.233298\n",
      "------ epoch:8 ------\n"
     ]
    },
    {
     "name": "stderr",
     "output_type": "stream",
     "text": [
      "100%|██████████| 252/252 [00:03<00:00, 68.62it/s]\n",
      "100%|██████████| 28/28 [00:00<00:00, 130.11it/s]\n",
      "100%|██████████| 943/943 [00:00<00:00, 1909.54it/s]\n"
     ]
    },
    {
     "name": "stdout",
     "output_type": "stream",
     "text": [
      "Epoch 8: train loss :   0.155454   val loss :   0.153107   val score :   0.246023\n",
      "------ epoch:9 ------\n"
     ]
    },
    {
     "name": "stderr",
     "output_type": "stream",
     "text": [
      "100%|██████████| 252/252 [00:03<00:00, 70.14it/s]\n",
      "100%|██████████| 28/28 [00:00<00:00, 130.79it/s]\n",
      "100%|██████████| 943/943 [00:00<00:00, 2090.72it/s]\n"
     ]
    },
    {
     "name": "stdout",
     "output_type": "stream",
     "text": [
      "Epoch 9: train loss :   0.155052   val loss :   0.153042   val score :   0.250265\n",
      "------ epoch:10 ------\n"
     ]
    },
    {
     "name": "stderr",
     "output_type": "stream",
     "text": [
      "100%|██████████| 252/252 [00:03<00:00, 72.20it/s]\n",
      "100%|██████████| 28/28 [00:00<00:00, 127.97it/s]\n",
      "100%|██████████| 943/943 [00:00<00:00, 2079.21it/s]\n"
     ]
    },
    {
     "name": "stdout",
     "output_type": "stream",
     "text": [
      "Epoch 10: train loss :   0.154873   val loss :   0.153003   val score :   0.239661\n",
      "------ epoch:11 ------\n"
     ]
    },
    {
     "name": "stderr",
     "output_type": "stream",
     "text": [
      "100%|██████████| 252/252 [00:03<00:00, 72.88it/s]\n",
      "100%|██████████| 28/28 [00:00<00:00, 128.93it/s]\n",
      "100%|██████████| 943/943 [00:00<00:00, 1950.00it/s]\n"
     ]
    },
    {
     "name": "stdout",
     "output_type": "stream",
     "text": [
      "Epoch 11: train loss :   0.154788   val loss :   0.152981   val score :   0.244963\n",
      "------ epoch:12 ------\n"
     ]
    },
    {
     "name": "stderr",
     "output_type": "stream",
     "text": [
      "100%|██████████| 252/252 [00:03<00:00, 71.34it/s]\n",
      "100%|██████████| 28/28 [00:00<00:00, 124.75it/s]\n",
      "100%|██████████| 943/943 [00:00<00:00, 2133.43it/s]\n"
     ]
    },
    {
     "name": "stdout",
     "output_type": "stream",
     "text": [
      "Epoch 12: train loss :   0.154767   val loss :   0.152965   val score :   0.238600\n",
      "Epoch 00012: reducing learning rate of group 0 to 1.0000e-03.\n",
      "------ epoch:13 ------\n"
     ]
    },
    {
     "name": "stderr",
     "output_type": "stream",
     "text": [
      "100%|██████████| 252/252 [00:03<00:00, 72.76it/s]\n",
      "100%|██████████| 28/28 [00:00<00:00, 126.73it/s]\n",
      "100%|██████████| 943/943 [00:00<00:00, 1928.58it/s]\n"
     ]
    },
    {
     "name": "stdout",
     "output_type": "stream",
     "text": [
      "Epoch 13: train loss :   0.154730   val loss :   0.152952   val score :   0.237540\n"
     ]
    },
    {
     "name": "stderr",
     "output_type": "stream",
     "text": [
      "100%|██████████| 70/70 [00:00<00:00, 111.23it/s]\n",
      "100%|██████████| 943/943 [00:00<00:00, 1858.68it/s]"
     ]
    },
    {
     "name": "stdout",
     "output_type": "stream",
     "text": [
      "------ log loss of 5 fold : 0.15327571268592563 ------\n",
      "------ score of 5 fold : 0.22481442205726404 ------\n",
      "settings : percentage = 1, model type = 5\n",
      "parameters :  {'lam': 0.1, 'phi_r': 0.1, 'phi_theta': 0.1, 'num_users': 943, 'num_items': 1682, 'embedding_dim': 10, 'mu': 0.1, 'lr': 0.01, 'alpha': 0.01, 'patience': 3, 'epochs': 30, 'device': 'cuda:0', 'model_selection': True}\n",
      "------ log loss of the model : 0.1531638655492238 ------\n",
      "------ score of the model : 0.22948038176033933 ------\n"
     ]
    },
    {
     "name": "stderr",
     "output_type": "stream",
     "text": [
      "\n"
     ]
    }
   ],
   "source": [
    "embedding_dim = 10\n",
    "lr = 1e-2\n",
    "alpha = 1e-2\n",
    "lam = 1e-3\n",
    "phi_r = 1e-3\n",
    "phi_theta = 1e-3\n",
    "mu = 0.1\n",
    "model_type = 5\n",
    "seed_everything(42)\n",
    "CrossValidation2(train1, model_type=model_type, percentage=percentage, k=5, lam=lam, phi_r=phi_r, phi_theta=phi_theta, \n",
    "                num_users=num_users, num_items=num_items, embedding_dim=embedding_dim, mu=mu,\n",
    "               lr=lr, alpha=alpha, patience=3, epochs=30, device=\"cuda:0\", model_selection=True)\n",
    "\n",
    "embedding_dim = 10\n",
    "lr = 1e-2\n",
    "alpha = 1e-2\n",
    "lam = 1e-2\n",
    "phi_r = 1e-2\n",
    "phi_theta = 1e-2\n",
    "mu = 0.1\n",
    "model_type = 5\n",
    "seed_everything(42)\n",
    "CrossValidation2(train1, model_type=model_type, percentage=percentage, k=5, lam=lam, phi_r=phi_r, phi_theta=phi_theta, \n",
    "                num_users=num_users, num_items=num_items, embedding_dim=embedding_dim, mu=mu,\n",
    "               lr=lr, alpha=alpha, patience=3, epochs=30, device=\"cuda:0\", model_selection=True)\n",
    "\n",
    "embedding_dim = 10\n",
    "lr = 1e-2\n",
    "alpha = 1e-2\n",
    "lam = 1e-1\n",
    "phi_r = 1e-1\n",
    "phi_theta = 1e-1\n",
    "mu = 0.1\n",
    "model_type = 5\n",
    "seed_everything(42)\n",
    "CrossValidation2(train1, model_type=model_type, percentage=percentage, k=5, lam=lam, phi_r=phi_r, phi_theta=phi_theta, \n",
    "                num_users=num_users, num_items=num_items, embedding_dim=embedding_dim, mu=mu,\n",
    "               lr=lr, alpha=alpha, patience=3, epochs=30, device=\"cuda:0\", model_selection=True)"
   ]
  },
  {
   "cell_type": "markdown",
   "id": "3e27a3db-2249-4be9-9d44-916a2b11090b",
   "metadata": {},
   "source": [
    "## 三. percentage = 75%"
   ]
  },
  {
   "cell_type": "code",
   "execution_count": 23,
   "id": "abf554db-d3fb-4ca9-81ef-82c7e431c29e",
   "metadata": {
    "jupyter": {
     "source_hidden": true
    },
    "tags": []
   },
   "outputs": [
    {
     "name": "stderr",
     "output_type": "stream",
     "text": [
      "100%|██████████| 1682/1682 [00:01<00:00, 1201.51it/s]\n"
     ]
    }
   ],
   "source": [
    "seed_everything(42)\n",
    "percentage = 0.75\n",
    "click_data, _, _ = generate_click_data(data, num_users, num_items, power=1)\n",
    "click_data = get_theta_hat(click_data, percentage=percentage)\n",
    "neg_data = click_data[click_data[:, 6]==0, :]\n",
    "pos_data = click_data[click_data[:, 6]==1, :]\n",
    "train, test = train_test_split(neg_data, test_size=0.1, random_state=0)\n",
    "train = torch.vstack([pos_data, train]) # 使用未被点击的一部分作为测试集"
   ]
  },
  {
   "cell_type": "markdown",
   "id": "b54a3ef2-58f9-482c-aece-37a6ae9f4004",
   "metadata": {},
   "source": [
    "### 3"
   ]
  },
  {
   "cell_type": "code",
   "execution_count": 24,
   "id": "dadda67a-4c1c-49ab-a7f1-a95b4a99808e",
   "metadata": {
    "collapsed": true,
    "jupyter": {
     "outputs_hidden": true,
     "source_hidden": true
    },
    "tags": []
   },
   "outputs": [
    {
     "name": "stdout",
     "output_type": "stream",
     "text": [
      "------ 第1折 ------\n",
      "------ epoch:1 ------\n"
     ]
    },
    {
     "name": "stderr",
     "output_type": "stream",
     "text": [
      "100%|██████████| 252/252 [00:03<00:00, 74.44it/s]\n",
      "100%|██████████| 28/28 [00:00<00:00, 139.00it/s]\n",
      "100%|██████████| 943/943 [00:00<00:00, 2420.57it/s]\n"
     ]
    },
    {
     "name": "stdout",
     "output_type": "stream",
     "text": [
      "Epoch 1: train loss :   0.321072   val loss :   0.166142   val score :   0.181336\n",
      "------ epoch:2 ------\n"
     ]
    },
    {
     "name": "stderr",
     "output_type": "stream",
     "text": [
      "100%|██████████| 252/252 [00:03<00:00, 74.78it/s]\n",
      "100%|██████████| 28/28 [00:00<00:00, 135.83it/s]\n",
      "100%|██████████| 943/943 [00:00<00:00, 2468.92it/s]\n"
     ]
    },
    {
     "name": "stdout",
     "output_type": "stream",
     "text": [
      "Epoch 2: train loss :   0.205243   val loss :   0.163140   val score :   0.186638\n",
      "------ epoch:3 ------\n"
     ]
    },
    {
     "name": "stderr",
     "output_type": "stream",
     "text": [
      "100%|██████████| 252/252 [00:03<00:00, 73.14it/s]\n",
      "100%|██████████| 28/28 [00:00<00:00, 94.28it/s]\n",
      "100%|██████████| 943/943 [00:00<00:00, 2584.09it/s]\n"
     ]
    },
    {
     "name": "stdout",
     "output_type": "stream",
     "text": [
      "Epoch 3: train loss :   0.190270   val loss :   0.161723   val score :   0.173913\n",
      "------ epoch:4 ------\n"
     ]
    },
    {
     "name": "stderr",
     "output_type": "stream",
     "text": [
      "100%|██████████| 252/252 [00:03<00:00, 74.69it/s]\n",
      "100%|██████████| 28/28 [00:00<00:00, 137.40it/s]\n",
      "100%|██████████| 943/943 [00:00<00:00, 2443.11it/s]\n"
     ]
    },
    {
     "name": "stdout",
     "output_type": "stream",
     "text": [
      "Epoch 4: train loss :   0.177322   val loss :   0.160034   val score :   0.193001\n",
      "------ epoch:5 ------\n"
     ]
    },
    {
     "name": "stderr",
     "output_type": "stream",
     "text": [
      "100%|██████████| 252/252 [00:03<00:00, 75.08it/s]\n",
      "100%|██████████| 28/28 [00:00<00:00, 135.91it/s]\n",
      "100%|██████████| 943/943 [00:00<00:00, 2449.48it/s]\n"
     ]
    },
    {
     "name": "stdout",
     "output_type": "stream",
     "text": [
      "Epoch 5: train loss :   0.166766   val loss :   0.159194   val score :   0.186638\n",
      "------ epoch:6 ------\n"
     ]
    },
    {
     "name": "stderr",
     "output_type": "stream",
     "text": [
      "100%|██████████| 252/252 [00:03<00:00, 75.11it/s]\n",
      "100%|██████████| 28/28 [00:00<00:00, 102.29it/s]\n",
      "100%|██████████| 943/943 [00:00<00:00, 2533.42it/s]\n"
     ]
    },
    {
     "name": "stdout",
     "output_type": "stream",
     "text": [
      "Epoch 6: train loss :   0.156343   val loss :   0.160097   val score :   0.194062\n",
      "------ epoch:7 ------\n"
     ]
    },
    {
     "name": "stderr",
     "output_type": "stream",
     "text": [
      "100%|██████████| 252/252 [00:03<00:00, 73.35it/s]\n",
      "100%|██████████| 28/28 [00:00<00:00, 127.67it/s]\n",
      "100%|██████████| 943/943 [00:00<00:00, 2371.96it/s]\n"
     ]
    },
    {
     "name": "stdout",
     "output_type": "stream",
     "text": [
      "Epoch 7: train loss :   0.147038   val loss :   0.160649   val score :   0.187699\n",
      "------ epoch:8 ------\n"
     ]
    },
    {
     "name": "stderr",
     "output_type": "stream",
     "text": [
      "100%|██████████| 252/252 [00:03<00:00, 74.25it/s]\n",
      "100%|██████████| 28/28 [00:00<00:00, 135.09it/s]\n",
      "100%|██████████| 943/943 [00:00<00:00, 2369.60it/s]\n"
     ]
    },
    {
     "name": "stdout",
     "output_type": "stream",
     "text": [
      "Epoch 8: train loss :   0.137027   val loss :   0.161496   val score :   0.195122\n",
      "------ epoch:9 ------\n"
     ]
    },
    {
     "name": "stderr",
     "output_type": "stream",
     "text": [
      "100%|██████████| 252/252 [00:03<00:00, 75.02it/s]\n",
      "100%|██████████| 28/28 [00:00<00:00, 135.48it/s]\n",
      "100%|██████████| 943/943 [00:00<00:00, 2418.51it/s]\n"
     ]
    },
    {
     "name": "stdout",
     "output_type": "stream",
     "text": [
      "Epoch 9: train loss :   0.117841   val loss :   0.163523   val score :   0.197243\n",
      "------ epoch:10 ------\n"
     ]
    },
    {
     "name": "stderr",
     "output_type": "stream",
     "text": [
      "100%|██████████| 252/252 [00:03<00:00, 73.71it/s]\n",
      "100%|██████████| 28/28 [00:00<00:00, 101.69it/s]\n",
      "100%|██████████| 943/943 [00:00<00:00, 2582.11it/s]\n"
     ]
    },
    {
     "name": "stdout",
     "output_type": "stream",
     "text": [
      "Epoch 10: train loss :   0.064375   val loss :   0.165226   val score :   0.186638\n",
      "------ epoch:11 ------\n"
     ]
    },
    {
     "name": "stderr",
     "output_type": "stream",
     "text": [
      "100%|██████████| 252/252 [00:03<00:00, 74.66it/s]\n",
      "100%|██████████| 28/28 [00:00<00:00, 138.23it/s]\n",
      "100%|██████████| 943/943 [00:00<00:00, 2237.09it/s]\n"
     ]
    },
    {
     "name": "stdout",
     "output_type": "stream",
     "text": [
      "Epoch 11: train loss :   0.037308   val loss :   0.165342   val score :   0.194062\n",
      "------ epoch:12 ------\n"
     ]
    },
    {
     "name": "stderr",
     "output_type": "stream",
     "text": [
      "100%|██████████| 252/252 [00:03<00:00, 73.46it/s]\n",
      "100%|██████████| 28/28 [00:00<00:00, 136.76it/s]\n",
      "100%|██████████| 943/943 [00:00<00:00, 2318.38it/s]\n"
     ]
    },
    {
     "name": "stdout",
     "output_type": "stream",
     "text": [
      "Epoch 12: train loss :  -0.044027   val loss :   0.167507   val score :   0.194062\n",
      "Epoch 00012: reducing learning rate of group 0 to 1.0000e-03.\n",
      "------ epoch:13 ------\n"
     ]
    },
    {
     "name": "stderr",
     "output_type": "stream",
     "text": [
      "100%|██████████| 252/252 [00:03<00:00, 74.58it/s]\n",
      "100%|██████████| 28/28 [00:00<00:00, 101.16it/s]\n",
      "100%|██████████| 943/943 [00:00<00:00, 2619.70it/s]\n"
     ]
    },
    {
     "name": "stdout",
     "output_type": "stream",
     "text": [
      "Epoch 13: train loss :  -0.111296   val loss :   0.167628   val score :   0.194062\n"
     ]
    },
    {
     "name": "stderr",
     "output_type": "stream",
     "text": [
      "100%|██████████| 70/70 [00:00<00:00, 139.64it/s]\n",
      "100%|██████████| 943/943 [00:00<00:00, 2404.85it/s]\n"
     ]
    },
    {
     "name": "stdout",
     "output_type": "stream",
     "text": [
      "------ log loss of 1 fold : 0.15689800998994283 ------\n",
      "------ score of 1 fold : 0.16861081654294804 ------\n",
      "------ 第2折 ------\n",
      "------ epoch:1 ------\n"
     ]
    },
    {
     "name": "stderr",
     "output_type": "stream",
     "text": [
      "100%|██████████| 252/252 [00:03<00:00, 75.50it/s]\n",
      "100%|██████████| 28/28 [00:00<00:00, 101.75it/s]\n",
      "100%|██████████| 943/943 [00:00<00:00, 2455.53it/s]\n"
     ]
    },
    {
     "name": "stdout",
     "output_type": "stream",
     "text": [
      "Epoch 1: train loss :   0.315793   val loss :   0.166597   val score :   0.194062\n",
      "------ epoch:2 ------\n"
     ]
    },
    {
     "name": "stderr",
     "output_type": "stream",
     "text": [
      "100%|██████████| 252/252 [00:03<00:00, 72.72it/s]\n",
      "100%|██████████| 28/28 [00:00<00:00, 135.40it/s]\n",
      "100%|██████████| 943/943 [00:00<00:00, 2543.83it/s]\n"
     ]
    },
    {
     "name": "stdout",
     "output_type": "stream",
     "text": [
      "Epoch 2: train loss :   0.201778   val loss :   0.163204   val score :   0.188759\n",
      "------ epoch:3 ------\n"
     ]
    },
    {
     "name": "stderr",
     "output_type": "stream",
     "text": [
      "100%|██████████| 252/252 [00:03<00:00, 74.78it/s]\n",
      "100%|██████████| 28/28 [00:00<00:00, 136.16it/s]\n",
      "100%|██████████| 943/943 [00:00<00:00, 2533.32it/s]\n"
     ]
    },
    {
     "name": "stdout",
     "output_type": "stream",
     "text": [
      "Epoch 3: train loss :   0.186724   val loss :   0.161760   val score :   0.188759\n",
      "------ epoch:4 ------\n"
     ]
    },
    {
     "name": "stderr",
     "output_type": "stream",
     "text": [
      "100%|██████████| 252/252 [00:03<00:00, 75.15it/s]\n",
      "100%|██████████| 28/28 [00:00<00:00, 100.89it/s]\n",
      "100%|██████████| 943/943 [00:00<00:00, 2386.49it/s]\n"
     ]
    },
    {
     "name": "stdout",
     "output_type": "stream",
     "text": [
      "Epoch 4: train loss :   0.173624   val loss :   0.159851   val score :   0.185578\n",
      "Epoch 00004: reducing learning rate of group 0 to 1.0000e-03.\n",
      "------ epoch:5 ------\n"
     ]
    },
    {
     "name": "stderr",
     "output_type": "stream",
     "text": [
      "100%|██████████| 252/252 [00:03<00:00, 75.48it/s]\n",
      "100%|██████████| 28/28 [00:00<00:00, 100.86it/s]\n",
      "100%|██████████| 943/943 [00:00<00:00, 2580.12it/s]\n"
     ]
    },
    {
     "name": "stdout",
     "output_type": "stream",
     "text": [
      "Epoch 5: train loss :   0.161329   val loss :   0.159496   val score :   0.186638\n"
     ]
    },
    {
     "name": "stderr",
     "output_type": "stream",
     "text": [
      "100%|██████████| 70/70 [00:00<00:00, 118.67it/s]\n",
      "100%|██████████| 943/943 [00:00<00:00, 2551.46it/s]\n"
     ]
    },
    {
     "name": "stdout",
     "output_type": "stream",
     "text": [
      "------ log loss of 2 fold : 0.16590157821774482 ------\n",
      "------ score of 2 fold : 0.19724284199363734 ------\n",
      "------ 第3折 ------\n",
      "------ epoch:1 ------\n"
     ]
    },
    {
     "name": "stderr",
     "output_type": "stream",
     "text": [
      "100%|██████████| 252/252 [00:03<00:00, 73.32it/s]\n",
      "100%|██████████| 28/28 [00:00<00:00, 136.24it/s]\n",
      "100%|██████████| 943/943 [00:00<00:00, 2414.61it/s]\n"
     ]
    },
    {
     "name": "stdout",
     "output_type": "stream",
     "text": [
      "Epoch 1: train loss :   0.315104   val loss :   0.167800   val score :   0.174973\n",
      "------ epoch:2 ------\n"
     ]
    },
    {
     "name": "stderr",
     "output_type": "stream",
     "text": [
      "100%|██████████| 252/252 [00:03<00:00, 75.68it/s]\n",
      "100%|██████████| 28/28 [00:00<00:00, 136.48it/s]\n",
      "100%|██████████| 943/943 [00:00<00:00, 2584.69it/s]\n"
     ]
    },
    {
     "name": "stdout",
     "output_type": "stream",
     "text": [
      "Epoch 2: train loss :   0.205852   val loss :   0.165049   val score :   0.181336\n",
      "------ epoch:3 ------\n"
     ]
    },
    {
     "name": "stderr",
     "output_type": "stream",
     "text": [
      "100%|██████████| 252/252 [00:03<00:00, 75.26it/s]\n",
      "100%|██████████| 28/28 [00:00<00:00, 101.44it/s]\n",
      "100%|██████████| 943/943 [00:00<00:00, 2388.78it/s]\n"
     ]
    },
    {
     "name": "stdout",
     "output_type": "stream",
     "text": [
      "Epoch 3: train loss :   0.190509   val loss :   0.164215   val score :   0.171792\n",
      "------ epoch:4 ------\n"
     ]
    },
    {
     "name": "stderr",
     "output_type": "stream",
     "text": [
      "100%|██████████| 252/252 [00:03<00:00, 76.83it/s]\n",
      "100%|██████████| 28/28 [00:00<00:00, 102.13it/s]\n",
      "100%|██████████| 943/943 [00:00<00:00, 2301.29it/s]\n"
     ]
    },
    {
     "name": "stdout",
     "output_type": "stream",
     "text": [
      "Epoch 4: train loss :   0.177763   val loss :   0.163563   val score :   0.179215\n",
      "------ epoch:5 ------\n"
     ]
    },
    {
     "name": "stderr",
     "output_type": "stream",
     "text": [
      "100%|██████████| 252/252 [00:03<00:00, 71.88it/s]\n",
      "100%|██████████| 28/28 [00:00<00:00, 132.17it/s]\n",
      "100%|██████████| 943/943 [00:00<00:00, 2555.99it/s]\n"
     ]
    },
    {
     "name": "stdout",
     "output_type": "stream",
     "text": [
      "Epoch 5: train loss :   0.167000   val loss :   0.162126   val score :   0.177094\n",
      "Epoch 00005: reducing learning rate of group 0 to 1.0000e-03.\n",
      "------ epoch:6 ------\n"
     ]
    },
    {
     "name": "stderr",
     "output_type": "stream",
     "text": [
      "100%|██████████| 252/252 [00:03<00:00, 75.64it/s]\n",
      "100%|██████████| 28/28 [00:00<00:00, 137.05it/s]\n",
      "100%|██████████| 943/943 [00:00<00:00, 2543.79it/s]\n"
     ]
    },
    {
     "name": "stdout",
     "output_type": "stream",
     "text": [
      "Epoch 6: train loss :   0.156399   val loss :   0.162026   val score :   0.182397\n",
      "------ epoch:7 ------\n"
     ]
    },
    {
     "name": "stderr",
     "output_type": "stream",
     "text": [
      "100%|██████████| 252/252 [00:03<00:00, 75.05it/s]\n",
      "100%|██████████| 28/28 [00:00<00:00, 102.37it/s]\n",
      "100%|██████████| 943/943 [00:00<00:00, 2423.69it/s]\n"
     ]
    },
    {
     "name": "stdout",
     "output_type": "stream",
     "text": [
      "Epoch 7: train loss :   0.155134   val loss :   0.161948   val score :   0.185578\n",
      "------ epoch:8 ------\n"
     ]
    },
    {
     "name": "stderr",
     "output_type": "stream",
     "text": [
      "100%|██████████| 252/252 [00:03<00:00, 75.47it/s]\n",
      "100%|██████████| 28/28 [00:00<00:00, 136.49it/s]\n",
      "100%|██████████| 943/943 [00:00<00:00, 2372.42it/s]\n"
     ]
    },
    {
     "name": "stdout",
     "output_type": "stream",
     "text": [
      "Epoch 8: train loss :   0.153989   val loss :   0.161939   val score :   0.185578\n",
      "------ epoch:9 ------\n"
     ]
    },
    {
     "name": "stderr",
     "output_type": "stream",
     "text": [
      "100%|██████████| 252/252 [00:03<00:00, 73.19it/s]\n",
      "100%|██████████| 28/28 [00:00<00:00, 136.92it/s]\n",
      "100%|██████████| 943/943 [00:00<00:00, 2546.17it/s]\n"
     ]
    },
    {
     "name": "stdout",
     "output_type": "stream",
     "text": [
      "Epoch 9: train loss :   0.153442   val loss :   0.161836   val score :   0.182397\n",
      "------ epoch:10 ------\n"
     ]
    },
    {
     "name": "stderr",
     "output_type": "stream",
     "text": [
      "100%|██████████| 252/252 [00:03<00:00, 75.19it/s]\n",
      "100%|██████████| 28/28 [00:00<00:00, 135.03it/s]\n",
      "100%|██████████| 943/943 [00:00<00:00, 2099.92it/s]\n"
     ]
    },
    {
     "name": "stdout",
     "output_type": "stream",
     "text": [
      "Epoch 10: train loss :   0.151756   val loss :   0.161859   val score :   0.183457\n",
      "Epoch 00010: reducing learning rate of group 0 to 1.0000e-04.\n",
      "------ epoch:11 ------\n"
     ]
    },
    {
     "name": "stderr",
     "output_type": "stream",
     "text": [
      "100%|██████████| 252/252 [00:03<00:00, 77.12it/s]\n",
      "100%|██████████| 28/28 [00:00<00:00, 100.81it/s]\n",
      "100%|██████████| 943/943 [00:00<00:00, 2427.18it/s]\n"
     ]
    },
    {
     "name": "stdout",
     "output_type": "stream",
     "text": [
      "Epoch 11: train loss :   0.150390   val loss :   0.161853   val score :   0.184517\n"
     ]
    },
    {
     "name": "stderr",
     "output_type": "stream",
     "text": [
      "100%|██████████| 70/70 [00:00<00:00, 121.85it/s]\n",
      "100%|██████████| 943/943 [00:00<00:00, 2447.23it/s]\n"
     ]
    },
    {
     "name": "stdout",
     "output_type": "stream",
     "text": [
      "------ log loss of 3 fold : 0.1562436360333647 ------\n",
      "------ score of 3 fold : 0.1951219512195122 ------\n",
      "------ 第4折 ------\n",
      "------ epoch:1 ------\n"
     ]
    },
    {
     "name": "stderr",
     "output_type": "stream",
     "text": [
      "100%|██████████| 252/252 [00:03<00:00, 74.08it/s]\n",
      "100%|██████████| 28/28 [00:00<00:00, 134.92it/s]\n",
      "100%|██████████| 943/943 [00:00<00:00, 2451.45it/s]\n"
     ]
    },
    {
     "name": "stdout",
     "output_type": "stream",
     "text": [
      "Epoch 1: train loss :   0.317894   val loss :   0.163016   val score :   0.220573\n",
      "------ epoch:2 ------\n"
     ]
    },
    {
     "name": "stderr",
     "output_type": "stream",
     "text": [
      "100%|██████████| 252/252 [00:03<00:00, 72.08it/s]\n",
      "100%|██████████| 28/28 [00:00<00:00, 134.74it/s]\n",
      "100%|██████████| 943/943 [00:00<00:00, 2383.14it/s]\n"
     ]
    },
    {
     "name": "stdout",
     "output_type": "stream",
     "text": [
      "Epoch 2: train loss :   0.204330   val loss :   0.160632   val score :   0.218452\n",
      "------ epoch:3 ------\n"
     ]
    },
    {
     "name": "stderr",
     "output_type": "stream",
     "text": [
      "100%|██████████| 252/252 [00:03<00:00, 74.81it/s]\n",
      "100%|██████████| 28/28 [00:00<00:00, 133.73it/s]\n",
      "100%|██████████| 943/943 [00:00<00:00, 2558.26it/s]\n"
     ]
    },
    {
     "name": "stdout",
     "output_type": "stream",
     "text": [
      "Epoch 3: train loss :   0.189450   val loss :   0.159715   val score :   0.219512\n",
      "------ epoch:4 ------\n"
     ]
    },
    {
     "name": "stderr",
     "output_type": "stream",
     "text": [
      "100%|██████████| 252/252 [00:03<00:00, 74.81it/s]\n",
      "100%|██████████| 28/28 [00:00<00:00, 102.19it/s]\n",
      "100%|██████████| 943/943 [00:00<00:00, 2389.61it/s]\n"
     ]
    },
    {
     "name": "stdout",
     "output_type": "stream",
     "text": [
      "Epoch 4: train loss :   0.176755   val loss :   0.157687   val score :   0.216331\n",
      "Epoch 00004: reducing learning rate of group 0 to 1.0000e-03.\n",
      "------ epoch:5 ------\n"
     ]
    },
    {
     "name": "stderr",
     "output_type": "stream",
     "text": [
      "100%|██████████| 252/252 [00:03<00:00, 74.27it/s]\n",
      "100%|██████████| 28/28 [00:00<00:00, 134.15it/s]\n",
      "100%|██████████| 943/943 [00:00<00:00, 2336.25it/s]\n"
     ]
    },
    {
     "name": "stdout",
     "output_type": "stream",
     "text": [
      "Epoch 5: train loss :   0.166237   val loss :   0.157416   val score :   0.214210\n"
     ]
    },
    {
     "name": "stderr",
     "output_type": "stream",
     "text": [
      "100%|██████████| 70/70 [00:00<00:00, 115.17it/s]\n",
      "100%|██████████| 943/943 [00:00<00:00, 2380.51it/s]\n"
     ]
    },
    {
     "name": "stdout",
     "output_type": "stream",
     "text": [
      "------ log loss of 4 fold : 0.16215532730732646 ------\n",
      "------ score of 4 fold : 0.18451749734888653 ------\n",
      "------ 第5折 ------\n",
      "------ epoch:1 ------\n"
     ]
    },
    {
     "name": "stderr",
     "output_type": "stream",
     "text": [
      "100%|██████████| 252/252 [00:03<00:00, 74.88it/s]\n",
      "100%|██████████| 28/28 [00:00<00:00, 139.36it/s]\n",
      "100%|██████████| 943/943 [00:00<00:00, 2447.72it/s]\n"
     ]
    },
    {
     "name": "stdout",
     "output_type": "stream",
     "text": [
      "Epoch 1: train loss :   0.311675   val loss :   0.166669   val score :   0.203606\n",
      "------ epoch:2 ------\n"
     ]
    },
    {
     "name": "stderr",
     "output_type": "stream",
     "text": [
      "100%|██████████| 252/252 [00:03<00:00, 74.82it/s]\n",
      "100%|██████████| 28/28 [00:00<00:00, 137.30it/s]\n",
      "100%|██████████| 943/943 [00:00<00:00, 2401.50it/s]\n"
     ]
    },
    {
     "name": "stdout",
     "output_type": "stream",
     "text": [
      "Epoch 2: train loss :   0.204481   val loss :   0.164032   val score :   0.201485\n",
      "------ epoch:3 ------\n"
     ]
    },
    {
     "name": "stderr",
     "output_type": "stream",
     "text": [
      "100%|██████████| 252/252 [00:03<00:00, 75.18it/s]\n",
      "100%|██████████| 28/28 [00:00<00:00, 135.84it/s]\n",
      "100%|██████████| 943/943 [00:00<00:00, 2070.94it/s]\n"
     ]
    },
    {
     "name": "stdout",
     "output_type": "stream",
     "text": [
      "Epoch 3: train loss :   0.189806   val loss :   0.160710   val score :   0.193001\n",
      "------ epoch:4 ------\n"
     ]
    },
    {
     "name": "stderr",
     "output_type": "stream",
     "text": [
      "100%|██████████| 252/252 [00:03<00:00, 74.02it/s]\n",
      "100%|██████████| 28/28 [00:00<00:00, 102.13it/s]\n",
      "100%|██████████| 943/943 [00:00<00:00, 2571.91it/s]\n"
     ]
    },
    {
     "name": "stdout",
     "output_type": "stream",
     "text": [
      "Epoch 4: train loss :   0.177628   val loss :   0.160475   val score :   0.211029\n",
      "------ epoch:5 ------\n"
     ]
    },
    {
     "name": "stderr",
     "output_type": "stream",
     "text": [
      "100%|██████████| 252/252 [00:03<00:00, 74.91it/s]\n",
      "100%|██████████| 28/28 [00:00<00:00, 136.01it/s]\n",
      "100%|██████████| 943/943 [00:00<00:00, 2396.73it/s]\n"
     ]
    },
    {
     "name": "stdout",
     "output_type": "stream",
     "text": [
      "Epoch 5: train loss :   0.167112   val loss :   0.160657   val score :   0.215270\n",
      "------ epoch:6 ------\n"
     ]
    },
    {
     "name": "stderr",
     "output_type": "stream",
     "text": [
      "100%|██████████| 252/252 [00:03<00:00, 75.75it/s]\n",
      "100%|██████████| 28/28 [00:00<00:00, 136.48it/s]\n",
      "100%|██████████| 943/943 [00:00<00:00, 2396.46it/s]\n"
     ]
    },
    {
     "name": "stdout",
     "output_type": "stream",
     "text": [
      "Epoch 6: train loss :   0.158076   val loss :   0.161193   val score :   0.211029\n",
      "------ epoch:7 ------\n"
     ]
    },
    {
     "name": "stderr",
     "output_type": "stream",
     "text": [
      "100%|██████████| 252/252 [00:03<00:00, 75.19it/s]\n",
      "100%|██████████| 28/28 [00:00<00:00, 100.90it/s]\n",
      "100%|██████████| 943/943 [00:00<00:00, 2452.37it/s]\n"
     ]
    },
    {
     "name": "stdout",
     "output_type": "stream",
     "text": [
      "Epoch 7: train loss :   0.149755   val loss :   0.162274   val score :   0.206787\n",
      "------ epoch:8 ------\n"
     ]
    },
    {
     "name": "stderr",
     "output_type": "stream",
     "text": [
      "100%|██████████| 252/252 [00:03<00:00, 70.76it/s]\n",
      "100%|██████████| 28/28 [00:00<00:00, 134.74it/s]\n",
      "100%|██████████| 943/943 [00:00<00:00, 2570.76it/s]\n"
     ]
    },
    {
     "name": "stdout",
     "output_type": "stream",
     "text": [
      "Epoch 8: train loss :   0.139442   val loss :   0.163931   val score :   0.202545\n",
      "Epoch 00008: reducing learning rate of group 0 to 1.0000e-03.\n",
      "------ epoch:9 ------\n"
     ]
    },
    {
     "name": "stderr",
     "output_type": "stream",
     "text": [
      "100%|██████████| 252/252 [00:03<00:00, 75.10it/s]\n",
      "100%|██████████| 28/28 [00:00<00:00, 137.09it/s]\n",
      "100%|██████████| 943/943 [00:00<00:00, 2432.50it/s]\n"
     ]
    },
    {
     "name": "stdout",
     "output_type": "stream",
     "text": [
      "Epoch 9: train loss :   0.125111   val loss :   0.164081   val score :   0.201485\n"
     ]
    },
    {
     "name": "stderr",
     "output_type": "stream",
     "text": [
      "100%|██████████| 70/70 [00:00<00:00, 120.57it/s]\n",
      "100%|██████████| 943/943 [00:00<00:00, 1705.63it/s]\n"
     ]
    },
    {
     "name": "stdout",
     "output_type": "stream",
     "text": [
      "------ log loss of 5 fold : 0.15183357245155743 ------\n",
      "------ score of 5 fold : 0.15270413573700956 ------\n",
      "settings : percentage = 0.75, model type = 3\n",
      "parameters :  {'theta_clip': 0.01, 'num_users': 943, 'num_items': 1682, 'embedding_dim': 10, 'lr': 0.01, 'alpha': 0.01, 'patience': 3, 'epochs': 30, 'device': 'cuda:0', 'model_selection': True}\n",
      "------ log loss of the model : 0.1586064247999872 ------\n",
      "------ score of the model : 0.17963944856839875 ------\n",
      "------ 第1折 ------\n",
      "------ epoch:1 ------\n"
     ]
    },
    {
     "name": "stderr",
     "output_type": "stream",
     "text": [
      "100%|██████████| 252/252 [00:03<00:00, 65.06it/s]\n",
      "100%|██████████| 28/28 [00:00<00:00, 93.60it/s]\n",
      "100%|██████████| 943/943 [00:00<00:00, 2381.78it/s]\n"
     ]
    },
    {
     "name": "stdout",
     "output_type": "stream",
     "text": [
      "Epoch 1: train loss :   0.307477   val loss :   0.149045   val score :   0.186638\n",
      "------ epoch:2 ------\n"
     ]
    },
    {
     "name": "stderr",
     "output_type": "stream",
     "text": [
      "100%|██████████| 252/252 [00:03<00:00, 73.35it/s]\n",
      "100%|██████████| 28/28 [00:00<00:00, 98.14it/s] \n",
      "100%|██████████| 943/943 [00:00<00:00, 2712.65it/s]\n"
     ]
    },
    {
     "name": "stdout",
     "output_type": "stream",
     "text": [
      "Epoch 2: train loss :   0.192540   val loss :   0.145826   val score :   0.200424\n",
      "------ epoch:3 ------\n"
     ]
    },
    {
     "name": "stderr",
     "output_type": "stream",
     "text": [
      "100%|██████████| 252/252 [00:03<00:00, 73.42it/s]\n",
      "100%|██████████| 28/28 [00:00<00:00, 122.25it/s]\n",
      "100%|██████████| 943/943 [00:00<00:00, 2536.35it/s]\n"
     ]
    },
    {
     "name": "stdout",
     "output_type": "stream",
     "text": [
      "Epoch 3: train loss :   0.178421   val loss :   0.143474   val score :   0.194062\n",
      "------ epoch:4 ------\n"
     ]
    },
    {
     "name": "stderr",
     "output_type": "stream",
     "text": [
      "100%|██████████| 252/252 [00:03<00:00, 73.97it/s]\n",
      "100%|██████████| 28/28 [00:00<00:00, 135.58it/s]\n",
      "100%|██████████| 943/943 [00:00<00:00, 2440.13it/s]\n"
     ]
    },
    {
     "name": "stdout",
     "output_type": "stream",
     "text": [
      "Epoch 4: train loss :   0.166262   val loss :   0.142043   val score :   0.206787\n",
      "------ epoch:5 ------\n"
     ]
    },
    {
     "name": "stderr",
     "output_type": "stream",
     "text": [
      "100%|██████████| 252/252 [00:03<00:00, 68.78it/s]\n",
      "100%|██████████| 28/28 [00:00<00:00, 129.91it/s]\n",
      "100%|██████████| 943/943 [00:00<00:00, 2254.49it/s]\n"
     ]
    },
    {
     "name": "stdout",
     "output_type": "stream",
     "text": [
      "Epoch 5: train loss :   0.156668   val loss :   0.141010   val score :   0.212089\n",
      "------ epoch:6 ------\n"
     ]
    },
    {
     "name": "stderr",
     "output_type": "stream",
     "text": [
      "100%|██████████| 252/252 [00:03<00:00, 72.48it/s]\n",
      "100%|██████████| 28/28 [00:00<00:00, 101.13it/s]\n",
      "100%|██████████| 943/943 [00:00<00:00, 2540.45it/s]\n"
     ]
    },
    {
     "name": "stdout",
     "output_type": "stream",
     "text": [
      "Epoch 6: train loss :   0.149754   val loss :   0.140655   val score :   0.218452\n",
      "------ epoch:7 ------\n"
     ]
    },
    {
     "name": "stderr",
     "output_type": "stream",
     "text": [
      "100%|██████████| 252/252 [00:03<00:00, 72.30it/s]\n",
      "100%|██████████| 28/28 [00:00<00:00, 135.08it/s]\n",
      "100%|██████████| 943/943 [00:00<00:00, 2392.54it/s]\n"
     ]
    },
    {
     "name": "stdout",
     "output_type": "stream",
     "text": [
      "Epoch 7: train loss :   0.145430   val loss :   0.140242   val score :   0.215270\n",
      "------ epoch:8 ------\n"
     ]
    },
    {
     "name": "stderr",
     "output_type": "stream",
     "text": [
      "100%|██████████| 252/252 [00:03<00:00, 73.82it/s]\n",
      "100%|██████████| 28/28 [00:00<00:00, 134.61it/s]\n",
      "100%|██████████| 943/943 [00:00<00:00, 2434.58it/s]\n"
     ]
    },
    {
     "name": "stdout",
     "output_type": "stream",
     "text": [
      "Epoch 8: train loss :   0.142590   val loss :   0.139939   val score :   0.223754\n",
      "------ epoch:9 ------\n"
     ]
    },
    {
     "name": "stderr",
     "output_type": "stream",
     "text": [
      "100%|██████████| 252/252 [00:03<00:00, 74.80it/s]\n",
      "100%|██████████| 28/28 [00:00<00:00, 135.47it/s]\n",
      "100%|██████████| 943/943 [00:00<00:00, 2557.56it/s]\n"
     ]
    },
    {
     "name": "stdout",
     "output_type": "stream",
     "text": [
      "Epoch 9: train loss :   0.140650   val loss :   0.139621   val score :   0.227996\n",
      "------ epoch:10 ------\n"
     ]
    },
    {
     "name": "stderr",
     "output_type": "stream",
     "text": [
      "100%|██████████| 252/252 [00:03<00:00, 73.89it/s]\n",
      "100%|██████████| 28/28 [00:00<00:00, 101.11it/s]\n",
      "100%|██████████| 943/943 [00:00<00:00, 2416.85it/s]\n"
     ]
    },
    {
     "name": "stdout",
     "output_type": "stream",
     "text": [
      "Epoch 10: train loss :   0.137361   val loss :   0.139932   val score :   0.223754\n",
      "------ epoch:11 ------\n"
     ]
    },
    {
     "name": "stderr",
     "output_type": "stream",
     "text": [
      "100%|██████████| 252/252 [00:03<00:00, 72.98it/s]\n",
      "100%|██████████| 28/28 [00:00<00:00, 136.27it/s]\n",
      "100%|██████████| 943/943 [00:00<00:00, 2434.68it/s]\n"
     ]
    },
    {
     "name": "stdout",
     "output_type": "stream",
     "text": [
      "Epoch 11: train loss :   0.135527   val loss :   0.140189   val score :   0.221633\n",
      "------ epoch:12 ------\n"
     ]
    },
    {
     "name": "stderr",
     "output_type": "stream",
     "text": [
      "100%|██████████| 252/252 [00:03<00:00, 75.33it/s]\n",
      "100%|██████████| 28/28 [00:00<00:00, 136.57it/s]\n",
      "100%|██████████| 943/943 [00:00<00:00, 2600.03it/s]\n"
     ]
    },
    {
     "name": "stdout",
     "output_type": "stream",
     "text": [
      "Epoch 12: train loss :   0.131470   val loss :   0.140641   val score :   0.224814\n",
      "Epoch 00012: reducing learning rate of group 0 to 1.0000e-03.\n",
      "------ epoch:13 ------\n"
     ]
    },
    {
     "name": "stderr",
     "output_type": "stream",
     "text": [
      "100%|██████████| 252/252 [00:03<00:00, 74.63it/s]\n",
      "100%|██████████| 28/28 [00:00<00:00, 101.93it/s]\n",
      "100%|██████████| 943/943 [00:00<00:00, 2394.20it/s]\n"
     ]
    },
    {
     "name": "stdout",
     "output_type": "stream",
     "text": [
      "Epoch 13: train loss :   0.112804   val loss :   0.140707   val score :   0.222694\n"
     ]
    },
    {
     "name": "stderr",
     "output_type": "stream",
     "text": [
      "100%|██████████| 70/70 [00:00<00:00, 138.49it/s]\n",
      "100%|██████████| 943/943 [00:00<00:00, 2559.94it/s]\n"
     ]
    },
    {
     "name": "stdout",
     "output_type": "stream",
     "text": [
      "------ log loss of 1 fold : 0.134721802175045 ------\n",
      "------ score of 1 fold : 0.18875927889713678 ------\n",
      "------ 第2折 ------\n",
      "------ epoch:1 ------\n"
     ]
    },
    {
     "name": "stderr",
     "output_type": "stream",
     "text": [
      "100%|██████████| 252/252 [00:03<00:00, 73.40it/s]\n",
      "100%|██████████| 28/28 [00:00<00:00, 93.22it/s] \n",
      "100%|██████████| 943/943 [00:00<00:00, 2572.92it/s]\n"
     ]
    },
    {
     "name": "stdout",
     "output_type": "stream",
     "text": [
      "Epoch 1: train loss :   0.303423   val loss :   0.148866   val score :   0.203606\n",
      "------ epoch:2 ------\n"
     ]
    },
    {
     "name": "stderr",
     "output_type": "stream",
     "text": [
      "100%|██████████| 252/252 [00:03<00:00, 74.95it/s]\n",
      "100%|██████████| 28/28 [00:00<00:00, 138.33it/s]\n",
      "100%|██████████| 943/943 [00:00<00:00, 2257.08it/s]\n"
     ]
    },
    {
     "name": "stdout",
     "output_type": "stream",
     "text": [
      "Epoch 2: train loss :   0.190502   val loss :   0.145459   val score :   0.195122\n",
      "------ epoch:3 ------\n"
     ]
    },
    {
     "name": "stderr",
     "output_type": "stream",
     "text": [
      "100%|██████████| 252/252 [00:03<00:00, 71.97it/s]\n",
      "100%|██████████| 28/28 [00:00<00:00, 133.08it/s]\n",
      "100%|██████████| 943/943 [00:00<00:00, 3047.23it/s]\n"
     ]
    },
    {
     "name": "stdout",
     "output_type": "stream",
     "text": [
      "Epoch 3: train loss :   0.176460   val loss :   0.143965   val score :   0.204666\n",
      "------ epoch:4 ------\n"
     ]
    },
    {
     "name": "stderr",
     "output_type": "stream",
     "text": [
      "100%|██████████| 252/252 [00:03<00:00, 74.80it/s]\n",
      "100%|██████████| 28/28 [00:00<00:00, 138.55it/s]\n",
      "100%|██████████| 943/943 [00:00<00:00, 2434.35it/s]\n"
     ]
    },
    {
     "name": "stdout",
     "output_type": "stream",
     "text": [
      "Epoch 4: train loss :   0.164332   val loss :   0.142021   val score :   0.203606\n",
      "------ epoch:5 ------\n"
     ]
    },
    {
     "name": "stderr",
     "output_type": "stream",
     "text": [
      "100%|██████████| 252/252 [00:03<00:00, 72.28it/s]\n",
      "100%|██████████| 28/28 [00:00<00:00, 93.70it/s]\n",
      "100%|██████████| 943/943 [00:00<00:00, 3207.02it/s]\n"
     ]
    },
    {
     "name": "stdout",
     "output_type": "stream",
     "text": [
      "Epoch 5: train loss :   0.154855   val loss :   0.141075   val score :   0.200424\n",
      "------ epoch:6 ------\n"
     ]
    },
    {
     "name": "stderr",
     "output_type": "stream",
     "text": [
      "100%|██████████| 252/252 [00:03<00:00, 74.45it/s]\n",
      "100%|██████████| 28/28 [00:00<00:00, 137.14it/s]\n",
      "100%|██████████| 943/943 [00:00<00:00, 2587.58it/s]\n"
     ]
    },
    {
     "name": "stdout",
     "output_type": "stream",
     "text": [
      "Epoch 6: train loss :   0.148031   val loss :   0.140355   val score :   0.198303\n",
      "Epoch 00006: reducing learning rate of group 0 to 1.0000e-03.\n",
      "------ epoch:7 ------\n"
     ]
    },
    {
     "name": "stderr",
     "output_type": "stream",
     "text": [
      "100%|██████████| 252/252 [00:03<00:00, 76.29it/s]\n",
      "100%|██████████| 28/28 [00:00<00:00, 136.30it/s]\n",
      "100%|██████████| 943/943 [00:00<00:00, 2546.58it/s]\n"
     ]
    },
    {
     "name": "stdout",
     "output_type": "stream",
     "text": [
      "Epoch 7: train loss :   0.142178   val loss :   0.140225   val score :   0.199364\n"
     ]
    },
    {
     "name": "stderr",
     "output_type": "stream",
     "text": [
      "100%|██████████| 70/70 [00:00<00:00, 120.95it/s]\n",
      "100%|██████████| 943/943 [00:00<00:00, 3002.87it/s]\n"
     ]
    },
    {
     "name": "stdout",
     "output_type": "stream",
     "text": [
      "------ log loss of 2 fold : 0.1399696999362537 ------\n",
      "------ score of 2 fold : 0.20254506892895016 ------\n",
      "------ 第3折 ------\n",
      "------ epoch:1 ------\n"
     ]
    },
    {
     "name": "stderr",
     "output_type": "stream",
     "text": [
      "100%|██████████| 252/252 [00:03<00:00, 69.71it/s]\n",
      "100%|██████████| 28/28 [00:00<00:00, 133.58it/s]\n",
      "100%|██████████| 943/943 [00:00<00:00, 2252.97it/s]\n"
     ]
    },
    {
     "name": "stdout",
     "output_type": "stream",
     "text": [
      "Epoch 1: train loss :   0.301066   val loss :   0.150144   val score :   0.216331\n",
      "------ epoch:2 ------\n"
     ]
    },
    {
     "name": "stderr",
     "output_type": "stream",
     "text": [
      "100%|██████████| 252/252 [00:03<00:00, 68.47it/s]\n",
      "100%|██████████| 28/28 [00:00<00:00, 90.60it/s]\n",
      "100%|██████████| 943/943 [00:00<00:00, 2279.87it/s]\n"
     ]
    },
    {
     "name": "stdout",
     "output_type": "stream",
     "text": [
      "Epoch 2: train loss :   0.190393   val loss :   0.147995   val score :   0.232238\n",
      "------ epoch:3 ------\n"
     ]
    },
    {
     "name": "stderr",
     "output_type": "stream",
     "text": [
      "100%|██████████| 252/252 [00:03<00:00, 70.14it/s]\n",
      "100%|██████████| 28/28 [00:00<00:00, 134.87it/s]\n",
      "100%|██████████| 943/943 [00:00<00:00, 2292.40it/s]\n"
     ]
    },
    {
     "name": "stdout",
     "output_type": "stream",
     "text": [
      "Epoch 3: train loss :   0.176435   val loss :   0.145781   val score :   0.237540\n",
      "------ epoch:4 ------\n"
     ]
    },
    {
     "name": "stderr",
     "output_type": "stream",
     "text": [
      "100%|██████████| 252/252 [00:03<00:00, 73.68it/s]\n",
      "100%|██████████| 28/28 [00:00<00:00, 136.32it/s]\n",
      "100%|██████████| 943/943 [00:00<00:00, 2608.81it/s]\n"
     ]
    },
    {
     "name": "stdout",
     "output_type": "stream",
     "text": [
      "Epoch 4: train loss :   0.164548   val loss :   0.143862   val score :   0.252386\n",
      "------ epoch:5 ------\n"
     ]
    },
    {
     "name": "stderr",
     "output_type": "stream",
     "text": [
      "100%|██████████| 252/252 [00:03<00:00, 75.77it/s]\n",
      "100%|██████████| 28/28 [00:00<00:00, 102.62it/s]\n",
      "100%|██████████| 943/943 [00:00<00:00, 2339.44it/s]\n"
     ]
    },
    {
     "name": "stdout",
     "output_type": "stream",
     "text": [
      "Epoch 5: train loss :   0.154819   val loss :   0.142615   val score :   0.254507\n",
      "------ epoch:6 ------\n"
     ]
    },
    {
     "name": "stderr",
     "output_type": "stream",
     "text": [
      "100%|██████████| 252/252 [00:03<00:00, 75.12it/s]\n",
      "100%|██████████| 28/28 [00:00<00:00, 102.72it/s]\n",
      "100%|██████████| 943/943 [00:00<00:00, 2455.62it/s]\n"
     ]
    },
    {
     "name": "stdout",
     "output_type": "stream",
     "text": [
      "Epoch 6: train loss :   0.147852   val loss :   0.141703   val score :   0.249205\n",
      "------ epoch:7 ------\n"
     ]
    },
    {
     "name": "stderr",
     "output_type": "stream",
     "text": [
      "100%|██████████| 252/252 [00:03<00:00, 75.83it/s]\n",
      "100%|██████████| 28/28 [00:00<00:00, 138.36it/s]\n",
      "100%|██████████| 943/943 [00:00<00:00, 2459.18it/s]\n"
     ]
    },
    {
     "name": "stdout",
     "output_type": "stream",
     "text": [
      "Epoch 7: train loss :   0.143732   val loss :   0.141025   val score :   0.256628\n",
      "------ epoch:8 ------\n"
     ]
    },
    {
     "name": "stderr",
     "output_type": "stream",
     "text": [
      "100%|██████████| 252/252 [00:03<00:00, 75.80it/s]\n",
      "100%|██████████| 28/28 [00:00<00:00, 136.25it/s]\n",
      "100%|██████████| 943/943 [00:00<00:00, 2548.41it/s]\n"
     ]
    },
    {
     "name": "stdout",
     "output_type": "stream",
     "text": [
      "Epoch 8: train loss :   0.140516   val loss :   0.140589   val score :   0.250265\n",
      "------ epoch:9 ------\n"
     ]
    },
    {
     "name": "stderr",
     "output_type": "stream",
     "text": [
      "100%|██████████| 252/252 [00:03<00:00, 75.83it/s]\n",
      "100%|██████████| 28/28 [00:00<00:00, 102.62it/s]\n",
      "100%|██████████| 943/943 [00:00<00:00, 2507.82it/s]\n"
     ]
    },
    {
     "name": "stdout",
     "output_type": "stream",
     "text": [
      "Epoch 9: train loss :   0.138264   val loss :   0.140334   val score :   0.252386\n",
      "------ epoch:10 ------\n"
     ]
    },
    {
     "name": "stderr",
     "output_type": "stream",
     "text": [
      "100%|██████████| 252/252 [00:03<00:00, 74.09it/s]\n",
      "100%|██████████| 28/28 [00:00<00:00, 101.03it/s]\n",
      "100%|██████████| 943/943 [00:00<00:00, 2433.67it/s]\n"
     ]
    },
    {
     "name": "stdout",
     "output_type": "stream",
     "text": [
      "Epoch 10: train loss :   0.135337   val loss :   0.140445   val score :   0.254507\n",
      "Epoch 00010: reducing learning rate of group 0 to 1.0000e-03.\n",
      "------ epoch:11 ------\n"
     ]
    },
    {
     "name": "stderr",
     "output_type": "stream",
     "text": [
      "100%|██████████| 252/252 [00:03<00:00, 74.75it/s]\n",
      "100%|██████████| 28/28 [00:00<00:00, 135.18it/s]\n",
      "100%|██████████| 943/943 [00:00<00:00, 2422.69it/s]\n"
     ]
    },
    {
     "name": "stdout",
     "output_type": "stream",
     "text": [
      "Epoch 11: train loss :   0.121800   val loss :   0.140383   val score :   0.256628\n"
     ]
    },
    {
     "name": "stderr",
     "output_type": "stream",
     "text": [
      "100%|██████████| 70/70 [00:00<00:00, 120.95it/s]\n",
      "100%|██████████| 943/943 [00:00<00:00, 2439.38it/s]\n"
     ]
    },
    {
     "name": "stdout",
     "output_type": "stream",
     "text": [
      "------ log loss of 3 fold : 0.14110768980213573 ------\n",
      "------ score of 3 fold : 0.2205726405090138 ------\n",
      "------ 第4折 ------\n",
      "------ epoch:1 ------\n"
     ]
    },
    {
     "name": "stderr",
     "output_type": "stream",
     "text": [
      "100%|██████████| 252/252 [00:03<00:00, 75.10it/s]\n",
      "100%|██████████| 28/28 [00:00<00:00, 133.99it/s]\n",
      "100%|██████████| 943/943 [00:00<00:00, 2371.99it/s]\n"
     ]
    },
    {
     "name": "stdout",
     "output_type": "stream",
     "text": [
      "Epoch 1: train loss :   0.300091   val loss :   0.150784   val score :   0.215270\n",
      "------ epoch:2 ------\n"
     ]
    },
    {
     "name": "stderr",
     "output_type": "stream",
     "text": [
      "100%|██████████| 252/252 [00:03<00:00, 73.40it/s]\n",
      "100%|██████████| 28/28 [00:00<00:00, 133.67it/s]\n",
      "100%|██████████| 943/943 [00:00<00:00, 1900.18it/s]\n"
     ]
    },
    {
     "name": "stdout",
     "output_type": "stream",
     "text": [
      "Epoch 2: train loss :   0.190554   val loss :   0.148151   val score :   0.220573\n",
      "------ epoch:3 ------\n"
     ]
    },
    {
     "name": "stderr",
     "output_type": "stream",
     "text": [
      "100%|██████████| 252/252 [00:03<00:00, 75.40it/s]\n",
      "100%|██████████| 28/28 [00:00<00:00, 98.41it/s]\n",
      "100%|██████████| 943/943 [00:00<00:00, 2550.69it/s]\n"
     ]
    },
    {
     "name": "stdout",
     "output_type": "stream",
     "text": [
      "Epoch 3: train loss :   0.176707   val loss :   0.146248   val score :   0.224814\n",
      "------ epoch:4 ------\n"
     ]
    },
    {
     "name": "stderr",
     "output_type": "stream",
     "text": [
      "100%|██████████| 252/252 [00:03<00:00, 74.84it/s]\n",
      "100%|██████████| 28/28 [00:00<00:00, 111.65it/s]\n",
      "100%|██████████| 943/943 [00:00<00:00, 2487.09it/s]\n"
     ]
    },
    {
     "name": "stdout",
     "output_type": "stream",
     "text": [
      "Epoch 4: train loss :   0.164726   val loss :   0.145192   val score :   0.233298\n",
      "------ epoch:5 ------\n"
     ]
    },
    {
     "name": "stderr",
     "output_type": "stream",
     "text": [
      "100%|██████████| 252/252 [00:03<00:00, 70.61it/s]\n",
      "100%|██████████| 28/28 [00:00<00:00, 128.25it/s]\n",
      "100%|██████████| 943/943 [00:00<00:00, 2188.08it/s]\n"
     ]
    },
    {
     "name": "stdout",
     "output_type": "stream",
     "text": [
      "Epoch 5: train loss :   0.155248   val loss :   0.144009   val score :   0.226935\n",
      "------ epoch:6 ------\n"
     ]
    },
    {
     "name": "stderr",
     "output_type": "stream",
     "text": [
      "100%|██████████| 252/252 [00:03<00:00, 73.04it/s]\n",
      "100%|██████████| 28/28 [00:00<00:00, 96.28it/s] \n",
      "100%|██████████| 943/943 [00:00<00:00, 1669.04it/s]\n"
     ]
    },
    {
     "name": "stdout",
     "output_type": "stream",
     "text": [
      "Epoch 6: train loss :   0.148458   val loss :   0.142906   val score :   0.236479\n",
      "------ epoch:7 ------\n"
     ]
    },
    {
     "name": "stderr",
     "output_type": "stream",
     "text": [
      "100%|██████████| 252/252 [00:03<00:00, 74.58it/s]\n",
      "100%|██████████| 28/28 [00:00<00:00, 137.16it/s]\n",
      "100%|██████████| 943/943 [00:00<00:00, 2727.02it/s]\n"
     ]
    },
    {
     "name": "stdout",
     "output_type": "stream",
     "text": [
      "Epoch 7: train loss :   0.144339   val loss :   0.141779   val score :   0.237540\n",
      "------ epoch:8 ------\n"
     ]
    },
    {
     "name": "stderr",
     "output_type": "stream",
     "text": [
      "100%|██████████| 252/252 [00:03<00:00, 75.03it/s]\n",
      "100%|██████████| 28/28 [00:00<00:00, 137.03it/s]\n",
      "100%|██████████| 943/943 [00:00<00:00, 2727.83it/s]\n"
     ]
    },
    {
     "name": "stdout",
     "output_type": "stream",
     "text": [
      "Epoch 8: train loss :   0.141417   val loss :   0.141356   val score :   0.242842\n",
      "------ epoch:9 ------\n"
     ]
    },
    {
     "name": "stderr",
     "output_type": "stream",
     "text": [
      "100%|██████████| 252/252 [00:03<00:00, 75.79it/s]\n",
      "100%|██████████| 28/28 [00:00<00:00, 136.67it/s]\n",
      "100%|██████████| 943/943 [00:00<00:00, 2277.98it/s]\n"
     ]
    },
    {
     "name": "stdout",
     "output_type": "stream",
     "text": [
      "Epoch 9: train loss :   0.139127   val loss :   0.141326   val score :   0.240721\n",
      "------ epoch:10 ------\n"
     ]
    },
    {
     "name": "stderr",
     "output_type": "stream",
     "text": [
      "100%|██████████| 252/252 [00:03<00:00, 79.01it/s]\n",
      "100%|██████████| 28/28 [00:00<00:00, 101.72it/s]\n",
      "100%|██████████| 943/943 [00:00<00:00, 2367.42it/s]\n"
     ]
    },
    {
     "name": "stdout",
     "output_type": "stream",
     "text": [
      "Epoch 10: train loss :   0.136897   val loss :   0.141709   val score :   0.237540\n",
      "------ epoch:11 ------\n"
     ]
    },
    {
     "name": "stderr",
     "output_type": "stream",
     "text": [
      "100%|██████████| 252/252 [00:02<00:00, 87.29it/s] \n",
      "100%|██████████| 28/28 [00:00<00:00, 138.52it/s]\n",
      "100%|██████████| 943/943 [00:00<00:00, 2385.62it/s]\n"
     ]
    },
    {
     "name": "stdout",
     "output_type": "stream",
     "text": [
      "Epoch 11: train loss :   0.129942   val loss :   0.142912   val score :   0.241782\n",
      "Epoch 00011: reducing learning rate of group 0 to 1.0000e-03.\n",
      "------ epoch:12 ------\n"
     ]
    },
    {
     "name": "stderr",
     "output_type": "stream",
     "text": [
      "100%|██████████| 252/252 [00:02<00:00, 91.10it/s] \n",
      "100%|██████████| 28/28 [00:00<00:00, 135.68it/s]\n",
      "100%|██████████| 943/943 [00:00<00:00, 2498.02it/s]\n"
     ]
    },
    {
     "name": "stdout",
     "output_type": "stream",
     "text": [
      "Epoch 12: train loss :   0.116047   val loss :   0.142922   val score :   0.243902\n",
      "------ epoch:13 ------\n"
     ]
    },
    {
     "name": "stderr",
     "output_type": "stream",
     "text": [
      "100%|██████████| 252/252 [00:02<00:00, 91.31it/s] \n",
      "100%|██████████| 28/28 [00:00<00:00, 101.97it/s]\n",
      "100%|██████████| 943/943 [00:00<00:00, 1697.90it/s]\n"
     ]
    },
    {
     "name": "stdout",
     "output_type": "stream",
     "text": [
      "Epoch 13: train loss :   0.115572   val loss :   0.142939   val score :   0.244963\n",
      "------ epoch:14 ------\n"
     ]
    },
    {
     "name": "stderr",
     "output_type": "stream",
     "text": [
      "100%|██████████| 252/252 [00:02<00:00, 88.85it/s] \n",
      "100%|██████████| 28/28 [00:00<00:00, 139.13it/s]\n",
      "100%|██████████| 943/943 [00:00<00:00, 2396.29it/s]\n"
     ]
    },
    {
     "name": "stdout",
     "output_type": "stream",
     "text": [
      "Epoch 14: train loss :   0.113525   val loss :   0.142962   val score :   0.246023\n",
      "------ epoch:15 ------\n"
     ]
    },
    {
     "name": "stderr",
     "output_type": "stream",
     "text": [
      "100%|██████████| 252/252 [00:03<00:00, 79.82it/s]\n",
      "100%|██████████| 28/28 [00:00<00:00, 136.17it/s]\n",
      "100%|██████████| 943/943 [00:00<00:00, 2372.38it/s]\n"
     ]
    },
    {
     "name": "stdout",
     "output_type": "stream",
     "text": [
      "Epoch 15: train loss :   0.114243   val loss :   0.143010   val score :   0.243902\n",
      "------ epoch:16 ------\n"
     ]
    },
    {
     "name": "stderr",
     "output_type": "stream",
     "text": [
      "100%|██████████| 252/252 [00:02<00:00, 86.34it/s] \n",
      "100%|██████████| 28/28 [00:00<00:00, 136.75it/s]\n",
      "100%|██████████| 943/943 [00:00<00:00, 2075.54it/s]\n"
     ]
    },
    {
     "name": "stdout",
     "output_type": "stream",
     "text": [
      "Epoch 16: train loss :   0.113040   val loss :   0.143077   val score :   0.243902\n",
      "------ epoch:17 ------\n"
     ]
    },
    {
     "name": "stderr",
     "output_type": "stream",
     "text": [
      "100%|██████████| 252/252 [00:02<00:00, 94.23it/s] \n",
      "100%|██████████| 28/28 [00:00<00:00, 100.30it/s]\n",
      "100%|██████████| 943/943 [00:00<00:00, 2557.41it/s]\n"
     ]
    },
    {
     "name": "stdout",
     "output_type": "stream",
     "text": [
      "Epoch 17: train loss :   0.112352   val loss :   0.143135   val score :   0.243902\n",
      "Epoch 00017: reducing learning rate of group 0 to 1.0000e-04.\n",
      "------ epoch:18 ------\n"
     ]
    },
    {
     "name": "stderr",
     "output_type": "stream",
     "text": [
      "100%|██████████| 252/252 [00:02<00:00, 91.07it/s] \n",
      "100%|██████████| 28/28 [00:00<00:00, 136.12it/s]\n",
      "100%|██████████| 943/943 [00:00<00:00, 2417.72it/s]\n"
     ]
    },
    {
     "name": "stdout",
     "output_type": "stream",
     "text": [
      "Epoch 18: train loss :   0.111981   val loss :   0.143142   val score :   0.243902\n"
     ]
    },
    {
     "name": "stderr",
     "output_type": "stream",
     "text": [
      "100%|██████████| 70/70 [00:00<00:00, 119.20it/s]\n",
      "100%|██████████| 943/943 [00:00<00:00, 2429.22it/s]\n"
     ]
    },
    {
     "name": "stdout",
     "output_type": "stream",
     "text": [
      "------ log loss of 4 fold : 0.1399340771138668 ------\n",
      "------ score of 4 fold : 0.1792152704135737 ------\n",
      "------ 第5折 ------\n",
      "------ epoch:1 ------\n"
     ]
    },
    {
     "name": "stderr",
     "output_type": "stream",
     "text": [
      "100%|██████████| 252/252 [00:03<00:00, 81.84it/s] \n",
      "100%|██████████| 28/28 [00:00<00:00, 132.51it/s]\n",
      "100%|██████████| 943/943 [00:00<00:00, 2395.19it/s]\n"
     ]
    },
    {
     "name": "stdout",
     "output_type": "stream",
     "text": [
      "Epoch 1: train loss :   0.301066   val loss :   0.148260   val score :   0.231177\n",
      "------ epoch:2 ------\n"
     ]
    },
    {
     "name": "stderr",
     "output_type": "stream",
     "text": [
      "100%|██████████| 252/252 [00:03<00:00, 75.56it/s]\n",
      "100%|██████████| 28/28 [00:00<00:00, 102.11it/s]\n",
      "100%|██████████| 943/943 [00:00<00:00, 2421.91it/s]\n"
     ]
    },
    {
     "name": "stdout",
     "output_type": "stream",
     "text": [
      "Epoch 2: train loss :   0.190519   val loss :   0.145162   val score :   0.238600\n",
      "------ epoch:3 ------\n"
     ]
    },
    {
     "name": "stderr",
     "output_type": "stream",
     "text": [
      "100%|██████████| 252/252 [00:03<00:00, 77.51it/s]\n",
      "100%|██████████| 28/28 [00:00<00:00, 101.33it/s]\n",
      "100%|██████████| 943/943 [00:00<00:00, 2406.99it/s]\n"
     ]
    },
    {
     "name": "stdout",
     "output_type": "stream",
     "text": [
      "Epoch 3: train loss :   0.176260   val loss :   0.142790   val score :   0.235419\n",
      "------ epoch:4 ------\n"
     ]
    },
    {
     "name": "stderr",
     "output_type": "stream",
     "text": [
      "100%|██████████| 252/252 [00:03<00:00, 75.45it/s]\n",
      "100%|██████████| 28/28 [00:00<00:00, 136.69it/s]\n",
      "100%|██████████| 943/943 [00:00<00:00, 2447.72it/s]\n"
     ]
    },
    {
     "name": "stdout",
     "output_type": "stream",
     "text": [
      "Epoch 4: train loss :   0.164132   val loss :   0.141645   val score :   0.238600\n",
      "------ epoch:5 ------\n"
     ]
    },
    {
     "name": "stderr",
     "output_type": "stream",
     "text": [
      "100%|██████████| 252/252 [00:03<00:00, 74.30it/s]\n",
      "100%|██████████| 28/28 [00:00<00:00, 133.23it/s]\n",
      "100%|██████████| 943/943 [00:00<00:00, 2468.61it/s]\n"
     ]
    },
    {
     "name": "stdout",
     "output_type": "stream",
     "text": [
      "Epoch 5: train loss :   0.154676   val loss :   0.140793   val score :   0.229056\n",
      "Epoch 00005: reducing learning rate of group 0 to 1.0000e-03.\n",
      "------ epoch:6 ------\n"
     ]
    },
    {
     "name": "stderr",
     "output_type": "stream",
     "text": [
      "100%|██████████| 252/252 [00:03<00:00, 75.04it/s]\n",
      "100%|██████████| 28/28 [00:00<00:00, 101.95it/s]\n",
      "100%|██████████| 943/943 [00:00<00:00, 2402.15it/s]\n"
     ]
    },
    {
     "name": "stdout",
     "output_type": "stream",
     "text": [
      "Epoch 6: train loss :   0.146997   val loss :   0.140682   val score :   0.227996\n"
     ]
    },
    {
     "name": "stderr",
     "output_type": "stream",
     "text": [
      "100%|██████████| 70/70 [00:00<00:00, 137.29it/s]\n",
      "100%|██████████| 943/943 [00:00<00:00, 2642.65it/s]"
     ]
    },
    {
     "name": "stdout",
     "output_type": "stream",
     "text": [
      "------ log loss of 5 fold : 0.14052001365593503 ------\n",
      "------ score of 5 fold : 0.23117709437963946 ------\n",
      "settings : percentage = 0.75, model type = 3\n",
      "parameters :  {'theta_clip': 0.05, 'num_users': 943, 'num_items': 1682, 'embedding_dim': 10, 'lr': 0.01, 'alpha': 0.01, 'patience': 3, 'epochs': 30, 'device': 'cuda:0', 'model_selection': True}\n",
      "------ log loss of the model : 0.13925065653664723 ------\n",
      "------ score of the model : 0.20445387062566275 ------\n"
     ]
    },
    {
     "name": "stderr",
     "output_type": "stream",
     "text": [
      "\n"
     ]
    }
   ],
   "source": [
    "embedding_dim = 10\n",
    "lr = 1e-2\n",
    "alpha = 1e-2\n",
    "theta_clip = 0.01\n",
    "model_type = 3\n",
    "seed_everything(42)\n",
    "CrossValidation2(train, model_type=model_type, percentage=percentage, k=5, theta_clip=theta_clip,  \n",
    "                num_users=num_users, num_items=num_items, embedding_dim=embedding_dim, \n",
    "               lr=lr, alpha=alpha, patience=3, epochs=30, device=\"cuda:0\", model_selection=True)\n",
    "\n",
    "embedding_dim = 10\n",
    "lr = 1e-2\n",
    "alpha = 1e-2\n",
    "theta_clip = 0.05\n",
    "model_type = 3\n",
    "seed_everything(42)\n",
    "CrossValidation2(train, model_type=model_type, percentage=percentage, k=5, theta_clip=theta_clip,  \n",
    "                num_users=num_users, num_items=num_items, embedding_dim=embedding_dim, \n",
    "               lr=lr, alpha=alpha, patience=3, epochs=30, device=\"cuda:0\", model_selection=True)"
   ]
  },
  {
   "cell_type": "markdown",
   "id": "9f23bcc1-c067-47c3-af47-8d09270c67b5",
   "metadata": {},
   "source": [
    "### 4"
   ]
  },
  {
   "cell_type": "markdown",
   "id": "cdefadc9-cd5c-4399-b6a5-cf771135183d",
   "metadata": {},
   "source": [
    "### 5"
   ]
  },
  {
   "cell_type": "markdown",
   "id": "5e9d6d49-9cea-4d82-a6a6-3d82a4a6659e",
   "metadata": {},
   "source": [
    "## 四. percentage = 50%"
   ]
  },
  {
   "cell_type": "code",
   "execution_count": 25,
   "id": "78011af4-7a5b-4df9-aed9-ffc137f195dc",
   "metadata": {
    "jupyter": {
     "source_hidden": true
    },
    "tags": []
   },
   "outputs": [
    {
     "name": "stderr",
     "output_type": "stream",
     "text": [
      "100%|██████████| 1682/1682 [00:01<00:00, 1233.64it/s]\n"
     ]
    }
   ],
   "source": [
    "seed_everything(42)\n",
    "percentage = 0.5\n",
    "click_data, _, _ = generate_click_data(data, num_users, num_items, power=1)\n",
    "click_data = get_theta_hat(click_data, percentage=percentage)\n",
    "neg_data = click_data[click_data[:, 6]==0, :]\n",
    "pos_data = click_data[click_data[:, 6]==1, :]\n",
    "train, test = train_test_split(neg_data, test_size=0.1, random_state=0)\n",
    "train = torch.vstack([pos_data, train]) # 使用未被点击的一部分作为测试集"
   ]
  },
  {
   "cell_type": "markdown",
   "id": "0e552de6-c25e-4cf2-bf1b-a5ec2c0564c5",
   "metadata": {},
   "source": [
    "### 3"
   ]
  },
  {
   "cell_type": "code",
   "execution_count": 26,
   "id": "909b422b-437d-4bbe-9556-d8e24269b29f",
   "metadata": {
    "collapsed": true,
    "jupyter": {
     "outputs_hidden": true,
     "source_hidden": true
    },
    "tags": []
   },
   "outputs": [
    {
     "name": "stdout",
     "output_type": "stream",
     "text": [
      "------ 第1折 ------\n",
      "------ epoch:1 ------\n"
     ]
    },
    {
     "name": "stderr",
     "output_type": "stream",
     "text": [
      "100%|██████████| 252/252 [00:03<00:00, 75.09it/s]\n",
      "100%|██████████| 28/28 [00:00<00:00, 99.43it/s] \n",
      "100%|██████████| 943/943 [00:00<00:00, 2408.95it/s]\n"
     ]
    },
    {
     "name": "stdout",
     "output_type": "stream",
     "text": [
      "Epoch 1: train loss :   0.344663   val loss :   0.204640   val score :   0.187699\n",
      "------ epoch:2 ------\n"
     ]
    },
    {
     "name": "stderr",
     "output_type": "stream",
     "text": [
      "100%|██████████| 252/252 [00:03<00:00, 73.10it/s]\n",
      "100%|██████████| 28/28 [00:00<00:00, 112.04it/s]\n",
      "100%|██████████| 943/943 [00:00<00:00, 2561.23it/s]\n"
     ]
    },
    {
     "name": "stdout",
     "output_type": "stream",
     "text": [
      "Epoch 2: train loss :   0.234138   val loss :   0.202074   val score :   0.163309\n",
      "------ epoch:3 ------\n"
     ]
    },
    {
     "name": "stderr",
     "output_type": "stream",
     "text": [
      "100%|██████████| 252/252 [00:03<00:00, 74.03it/s]\n",
      "100%|██████████| 28/28 [00:00<00:00, 135.07it/s]\n",
      "100%|██████████| 943/943 [00:00<00:00, 1741.05it/s]\n"
     ]
    },
    {
     "name": "stdout",
     "output_type": "stream",
     "text": [
      "Epoch 3: train loss :   0.211469   val loss :   0.200791   val score :   0.164369\n",
      "------ epoch:4 ------\n"
     ]
    },
    {
     "name": "stderr",
     "output_type": "stream",
     "text": [
      "100%|██████████| 252/252 [00:03<00:00, 76.21it/s]\n",
      "100%|██████████| 28/28 [00:00<00:00, 138.29it/s]\n",
      "100%|██████████| 943/943 [00:00<00:00, 1701.87it/s]\n"
     ]
    },
    {
     "name": "stdout",
     "output_type": "stream",
     "text": [
      "Epoch 4: train loss :   0.185358   val loss :   0.200963   val score :   0.168611\n",
      "Epoch 00004: reducing learning rate of group 0 to 1.0000e-03.\n",
      "------ epoch:5 ------\n"
     ]
    },
    {
     "name": "stderr",
     "output_type": "stream",
     "text": [
      "100%|██████████| 252/252 [00:03<00:00, 76.16it/s]\n",
      "100%|██████████| 28/28 [00:00<00:00, 102.11it/s]\n",
      "100%|██████████| 943/943 [00:00<00:00, 1735.96it/s]\n"
     ]
    },
    {
     "name": "stdout",
     "output_type": "stream",
     "text": [
      "Epoch 5: train loss :   0.145706   val loss :   0.200895   val score :   0.165429\n"
     ]
    },
    {
     "name": "stderr",
     "output_type": "stream",
     "text": [
      "100%|██████████| 70/70 [00:00<00:00, 125.20it/s]\n",
      "100%|██████████| 943/943 [00:00<00:00, 2448.13it/s]\n"
     ]
    },
    {
     "name": "stdout",
     "output_type": "stream",
     "text": [
      "------ log loss of 1 fold : 0.18749332821794917 ------\n",
      "------ score of 1 fold : 0.11664899257688228 ------\n",
      "------ 第2折 ------\n",
      "------ epoch:1 ------\n"
     ]
    },
    {
     "name": "stderr",
     "output_type": "stream",
     "text": [
      "100%|██████████| 252/252 [00:03<00:00, 75.72it/s]\n",
      "100%|██████████| 28/28 [00:00<00:00, 102.39it/s]\n",
      "100%|██████████| 943/943 [00:00<00:00, 2660.64it/s]\n"
     ]
    },
    {
     "name": "stdout",
     "output_type": "stream",
     "text": [
      "Epoch 1: train loss :   0.341812   val loss :   0.206582   val score :   0.173913\n",
      "------ epoch:2 ------\n"
     ]
    },
    {
     "name": "stderr",
     "output_type": "stream",
     "text": [
      "100%|██████████| 252/252 [00:03<00:00, 75.83it/s]\n",
      "100%|██████████| 28/28 [00:00<00:00, 138.48it/s]\n",
      "100%|██████████| 943/943 [00:00<00:00, 2486.48it/s]\n"
     ]
    },
    {
     "name": "stdout",
     "output_type": "stream",
     "text": [
      "Epoch 2: train loss :   0.232275   val loss :   0.202633   val score :   0.153765\n",
      "------ epoch:3 ------\n"
     ]
    },
    {
     "name": "stderr",
     "output_type": "stream",
     "text": [
      "100%|██████████| 252/252 [00:03<00:00, 75.79it/s]\n",
      "100%|██████████| 28/28 [00:00<00:00, 138.37it/s]\n",
      "100%|██████████| 943/943 [00:00<00:00, 2476.04it/s]\n"
     ]
    },
    {
     "name": "stdout",
     "output_type": "stream",
     "text": [
      "Epoch 3: train loss :   0.209523   val loss :   0.196988   val score :   0.143160\n",
      "------ epoch:4 ------\n"
     ]
    },
    {
     "name": "stderr",
     "output_type": "stream",
     "text": [
      "100%|██████████| 252/252 [00:03<00:00, 75.66it/s]\n",
      "100%|██████████| 28/28 [00:00<00:00, 102.62it/s]\n",
      "100%|██████████| 943/943 [00:00<00:00, 2480.92it/s]\n"
     ]
    },
    {
     "name": "stdout",
     "output_type": "stream",
     "text": [
      "Epoch 4: train loss :   0.183641   val loss :   0.198924   val score :   0.150583\n",
      "Epoch 00004: reducing learning rate of group 0 to 1.0000e-03.\n",
      "------ epoch:5 ------\n"
     ]
    },
    {
     "name": "stderr",
     "output_type": "stream",
     "text": [
      "100%|██████████| 252/252 [00:03<00:00, 72.67it/s]\n",
      "100%|██████████| 28/28 [00:00<00:00, 134.13it/s]\n",
      "100%|██████████| 943/943 [00:00<00:00, 2503.24it/s]\n"
     ]
    },
    {
     "name": "stdout",
     "output_type": "stream",
     "text": [
      "Epoch 5: train loss :   0.143316   val loss :   0.198377   val score :   0.150583\n"
     ]
    },
    {
     "name": "stderr",
     "output_type": "stream",
     "text": [
      "100%|██████████| 70/70 [00:00<00:00, 120.36it/s]\n",
      "100%|██████████| 943/943 [00:00<00:00, 2429.15it/s]\n"
     ]
    },
    {
     "name": "stdout",
     "output_type": "stream",
     "text": [
      "------ log loss of 2 fold : 0.19500821733048984 ------\n",
      "------ score of 2 fold : 0.11664899257688228 ------\n",
      "------ 第3折 ------\n",
      "------ epoch:1 ------\n"
     ]
    },
    {
     "name": "stderr",
     "output_type": "stream",
     "text": [
      "100%|██████████| 252/252 [00:03<00:00, 75.42it/s]\n",
      "100%|██████████| 28/28 [00:00<00:00, 137.86it/s]\n",
      "100%|██████████| 943/943 [00:00<00:00, 2394.95it/s]\n"
     ]
    },
    {
     "name": "stdout",
     "output_type": "stream",
     "text": [
      "Epoch 1: train loss :   0.350380   val loss :   0.208938   val score :   0.197243\n",
      "------ epoch:2 ------\n"
     ]
    },
    {
     "name": "stderr",
     "output_type": "stream",
     "text": [
      "100%|██████████| 252/252 [00:03<00:00, 74.98it/s]\n",
      "100%|██████████| 28/28 [00:00<00:00, 136.44it/s]\n",
      "100%|██████████| 943/943 [00:00<00:00, 2407.06it/s]\n"
     ]
    },
    {
     "name": "stdout",
     "output_type": "stream",
     "text": [
      "Epoch 2: train loss :   0.235884   val loss :   0.207284   val score :   0.176034\n",
      "------ epoch:3 ------\n"
     ]
    },
    {
     "name": "stderr",
     "output_type": "stream",
     "text": [
      "100%|██████████| 252/252 [00:03<00:00, 76.21it/s]\n",
      "100%|██████████| 28/28 [00:00<00:00, 138.72it/s]\n",
      "100%|██████████| 943/943 [00:00<00:00, 2557.36it/s]\n"
     ]
    },
    {
     "name": "stdout",
     "output_type": "stream",
     "text": [
      "Epoch 3: train loss :   0.212254   val loss :   0.203698   val score :   0.167550\n",
      "------ epoch:4 ------\n"
     ]
    },
    {
     "name": "stderr",
     "output_type": "stream",
     "text": [
      "100%|██████████| 252/252 [00:03<00:00, 72.37it/s]\n",
      "100%|██████████| 28/28 [00:00<00:00, 102.49it/s]\n",
      "100%|██████████| 943/943 [00:00<00:00, 2385.32it/s]\n"
     ]
    },
    {
     "name": "stdout",
     "output_type": "stream",
     "text": [
      "Epoch 4: train loss :   0.186127   val loss :   0.206036   val score :   0.178155\n",
      "Epoch 00004: reducing learning rate of group 0 to 1.0000e-03.\n",
      "------ epoch:5 ------\n"
     ]
    },
    {
     "name": "stderr",
     "output_type": "stream",
     "text": [
      "100%|██████████| 252/252 [00:03<00:00, 76.21it/s]\n",
      "100%|██████████| 28/28 [00:00<00:00, 137.82it/s]\n",
      "100%|██████████| 943/943 [00:00<00:00, 2407.44it/s]\n"
     ]
    },
    {
     "name": "stdout",
     "output_type": "stream",
     "text": [
      "Epoch 5: train loss :   0.147323   val loss :   0.205267   val score :   0.172853\n"
     ]
    },
    {
     "name": "stderr",
     "output_type": "stream",
     "text": [
      "100%|██████████| 70/70 [00:00<00:00, 122.19it/s]\n",
      "100%|██████████| 943/943 [00:00<00:00, 2007.82it/s]\n"
     ]
    },
    {
     "name": "stdout",
     "output_type": "stream",
     "text": [
      "------ log loss of 3 fold : 0.19250039107033184 ------\n",
      "------ score of 3 fold : 0.15482502651113467 ------\n",
      "------ 第4折 ------\n",
      "------ epoch:1 ------\n"
     ]
    },
    {
     "name": "stderr",
     "output_type": "stream",
     "text": [
      "100%|██████████| 252/252 [00:03<00:00, 76.35it/s]\n",
      "100%|██████████| 28/28 [00:00<00:00, 138.27it/s]\n",
      "100%|██████████| 943/943 [00:00<00:00, 2612.82it/s]\n"
     ]
    },
    {
     "name": "stdout",
     "output_type": "stream",
     "text": [
      "Epoch 1: train loss :   0.344713   val loss :   0.206957   val score :   0.169671\n",
      "------ epoch:2 ------\n"
     ]
    },
    {
     "name": "stderr",
     "output_type": "stream",
     "text": [
      "100%|██████████| 252/252 [00:03<00:00, 74.71it/s]\n",
      "100%|██████████| 28/28 [00:00<00:00, 134.47it/s]\n",
      "100%|██████████| 943/943 [00:00<00:00, 2538.73it/s]\n"
     ]
    },
    {
     "name": "stdout",
     "output_type": "stream",
     "text": [
      "Epoch 2: train loss :   0.231609   val loss :   0.208710   val score :   0.163309\n",
      "------ epoch:3 ------\n"
     ]
    },
    {
     "name": "stderr",
     "output_type": "stream",
     "text": [
      "100%|██████████| 252/252 [00:03<00:00, 73.63it/s]\n",
      "100%|██████████| 28/28 [00:00<00:00, 102.98it/s]\n",
      "100%|██████████| 943/943 [00:00<00:00, 2458.53it/s]\n"
     ]
    },
    {
     "name": "stdout",
     "output_type": "stream",
     "text": [
      "Epoch 3: train loss :   0.210001   val loss :   0.206931   val score :   0.148462\n",
      "------ epoch:4 ------\n"
     ]
    },
    {
     "name": "stderr",
     "output_type": "stream",
     "text": [
      "100%|██████████| 252/252 [00:03<00:00, 75.55it/s]\n",
      "100%|██████████| 28/28 [00:00<00:00, 139.85it/s]\n",
      "100%|██████████| 943/943 [00:00<00:00, 2386.70it/s]\n"
     ]
    },
    {
     "name": "stdout",
     "output_type": "stream",
     "text": [
      "Epoch 4: train loss :   0.185921   val loss :   0.207490   val score :   0.163309\n",
      "Epoch 00004: reducing learning rate of group 0 to 1.0000e-03.\n",
      "------ epoch:5 ------\n"
     ]
    },
    {
     "name": "stderr",
     "output_type": "stream",
     "text": [
      "100%|██████████| 252/252 [00:03<00:00, 75.86it/s]\n",
      "100%|██████████| 28/28 [00:00<00:00, 138.09it/s]\n",
      "100%|██████████| 943/943 [00:00<00:00, 2599.32it/s]\n"
     ]
    },
    {
     "name": "stdout",
     "output_type": "stream",
     "text": [
      "Epoch 5: train loss :   0.151657   val loss :   0.207023   val score :   0.165429\n"
     ]
    },
    {
     "name": "stderr",
     "output_type": "stream",
     "text": [
      "100%|██████████| 70/70 [00:00<00:00, 122.14it/s]\n",
      "100%|██████████| 943/943 [00:00<00:00, 2490.91it/s]\n"
     ]
    },
    {
     "name": "stdout",
     "output_type": "stream",
     "text": [
      "------ log loss of 4 fold : 0.1940622798034123 ------\n",
      "------ score of 4 fold : 0.12937433722163308 ------\n",
      "------ 第5折 ------\n",
      "------ epoch:1 ------\n"
     ]
    },
    {
     "name": "stderr",
     "output_type": "stream",
     "text": [
      "100%|██████████| 252/252 [00:03<00:00, 72.83it/s]\n",
      "100%|██████████| 28/28 [00:00<00:00, 136.74it/s]\n",
      "100%|██████████| 943/943 [00:00<00:00, 2406.37it/s]\n"
     ]
    },
    {
     "name": "stdout",
     "output_type": "stream",
     "text": [
      "Epoch 1: train loss :   0.342221   val loss :   0.200706   val score :   0.198303\n",
      "------ epoch:2 ------\n"
     ]
    },
    {
     "name": "stderr",
     "output_type": "stream",
     "text": [
      "100%|██████████| 252/252 [00:03<00:00, 76.10it/s]\n",
      "100%|██████████| 28/28 [00:00<00:00, 101.88it/s]\n",
      "100%|██████████| 943/943 [00:00<00:00, 2554.52it/s]\n"
     ]
    },
    {
     "name": "stdout",
     "output_type": "stream",
     "text": [
      "Epoch 2: train loss :   0.232261   val loss :   0.201903   val score :   0.180276\n",
      "------ epoch:3 ------\n"
     ]
    },
    {
     "name": "stderr",
     "output_type": "stream",
     "text": [
      "100%|██████████| 252/252 [00:03<00:00, 78.14it/s]\n",
      "100%|██████████| 28/28 [00:00<00:00, 102.84it/s]\n",
      "100%|██████████| 943/943 [00:00<00:00, 2482.08it/s]\n"
     ]
    },
    {
     "name": "stdout",
     "output_type": "stream",
     "text": [
      "Epoch 3: train loss :   0.210332   val loss :   0.200019   val score :   0.172853\n",
      "------ epoch:4 ------\n"
     ]
    },
    {
     "name": "stderr",
     "output_type": "stream",
     "text": [
      "100%|██████████| 252/252 [00:03<00:00, 75.99it/s]\n",
      "100%|██████████| 28/28 [00:00<00:00, 135.81it/s]\n",
      "100%|██████████| 943/943 [00:00<00:00, 2408.11it/s]\n"
     ]
    },
    {
     "name": "stdout",
     "output_type": "stream",
     "text": [
      "Epoch 4: train loss :   0.186926   val loss :   0.197829   val score :   0.177094\n",
      "Epoch 00004: reducing learning rate of group 0 to 1.0000e-03.\n",
      "------ epoch:5 ------\n"
     ]
    },
    {
     "name": "stderr",
     "output_type": "stream",
     "text": [
      "100%|██████████| 252/252 [00:03<00:00, 72.93it/s]\n",
      "100%|██████████| 28/28 [00:00<00:00, 132.52it/s]\n",
      "100%|██████████| 943/943 [00:00<00:00, 2428.85it/s]\n"
     ]
    },
    {
     "name": "stdout",
     "output_type": "stream",
     "text": [
      "Epoch 5: train loss :   0.151790   val loss :   0.197491   val score :   0.177094\n"
     ]
    },
    {
     "name": "stderr",
     "output_type": "stream",
     "text": [
      "100%|██████████| 70/70 [00:00<00:00, 121.27it/s]\n",
      "100%|██████████| 943/943 [00:00<00:00, 2836.89it/s]\n"
     ]
    },
    {
     "name": "stdout",
     "output_type": "stream",
     "text": [
      "------ log loss of 5 fold : 0.1999150201678276 ------\n",
      "------ score of 5 fold : 0.15800636267232238 ------\n",
      "settings : percentage = 0.5, model type = 3\n",
      "parameters :  {'theta_clip': 0.01, 'num_users': 943, 'num_items': 1682, 'embedding_dim': 20, 'lr': 0.01, 'alpha': 0.01, 'patience': 3, 'epochs': 30, 'device': 'cuda:0', 'model_selection': True}\n",
      "------ log loss of the model : 0.19379584731800215 ------\n",
      "------ score of the model : 0.13510074231177094 ------\n",
      "------ 第1折 ------\n",
      "------ epoch:1 ------\n"
     ]
    },
    {
     "name": "stderr",
     "output_type": "stream",
     "text": [
      "100%|██████████| 252/252 [00:03<00:00, 75.99it/s]\n",
      "100%|██████████| 28/28 [00:00<00:00, 134.96it/s]\n",
      "100%|██████████| 943/943 [00:00<00:00, 2419.14it/s]\n"
     ]
    },
    {
     "name": "stdout",
     "output_type": "stream",
     "text": [
      "Epoch 1: train loss :   0.308131   val loss :   0.159756   val score :   0.204666\n",
      "------ epoch:2 ------\n"
     ]
    },
    {
     "name": "stderr",
     "output_type": "stream",
     "text": [
      "100%|██████████| 252/252 [00:03<00:00, 75.63it/s]\n",
      "100%|██████████| 28/28 [00:00<00:00, 101.92it/s]\n",
      "100%|██████████| 943/943 [00:00<00:00, 2453.94it/s]\n"
     ]
    },
    {
     "name": "stdout",
     "output_type": "stream",
     "text": [
      "Epoch 2: train loss :   0.201464   val loss :   0.155601   val score :   0.201485\n",
      "------ epoch:3 ------\n"
     ]
    },
    {
     "name": "stderr",
     "output_type": "stream",
     "text": [
      "100%|██████████| 252/252 [00:03<00:00, 75.95it/s]\n",
      "100%|██████████| 28/28 [00:00<00:00, 137.07it/s]\n",
      "100%|██████████| 943/943 [00:00<00:00, 2552.81it/s]\n"
     ]
    },
    {
     "name": "stdout",
     "output_type": "stream",
     "text": [
      "Epoch 3: train loss :   0.185853   val loss :   0.153416   val score :   0.222694\n",
      "------ epoch:4 ------\n"
     ]
    },
    {
     "name": "stderr",
     "output_type": "stream",
     "text": [
      "100%|██████████| 252/252 [00:03<00:00, 73.46it/s]\n",
      "100%|██████████| 28/28 [00:00<00:00, 137.98it/s]\n",
      "100%|██████████| 943/943 [00:00<00:00, 2610.76it/s]\n"
     ]
    },
    {
     "name": "stdout",
     "output_type": "stream",
     "text": [
      "Epoch 4: train loss :   0.172673   val loss :   0.151569   val score :   0.214210\n",
      "------ epoch:5 ------\n"
     ]
    },
    {
     "name": "stderr",
     "output_type": "stream",
     "text": [
      "100%|██████████| 252/252 [00:03<00:00, 75.28it/s]\n",
      "100%|██████████| 28/28 [00:00<00:00, 137.64it/s]\n",
      "100%|██████████| 943/943 [00:00<00:00, 2297.05it/s]\n"
     ]
    },
    {
     "name": "stdout",
     "output_type": "stream",
     "text": [
      "Epoch 5: train loss :   0.162088   val loss :   0.150595   val score :   0.220573\n",
      "------ epoch:6 ------\n"
     ]
    },
    {
     "name": "stderr",
     "output_type": "stream",
     "text": [
      "100%|██████████| 252/252 [00:03<00:00, 75.90it/s]\n",
      "100%|██████████| 28/28 [00:00<00:00, 102.13it/s]\n",
      "100%|██████████| 943/943 [00:00<00:00, 2412.28it/s]\n"
     ]
    },
    {
     "name": "stdout",
     "output_type": "stream",
     "text": [
      "Epoch 6: train loss :   0.154093   val loss :   0.150288   val score :   0.227996\n",
      "------ epoch:7 ------\n"
     ]
    },
    {
     "name": "stderr",
     "output_type": "stream",
     "text": [
      "100%|██████████| 252/252 [00:03<00:00, 74.85it/s]\n",
      "100%|██████████| 28/28 [00:00<00:00, 138.03it/s]\n",
      "100%|██████████| 943/943 [00:00<00:00, 2376.16it/s]\n"
     ]
    },
    {
     "name": "stdout",
     "output_type": "stream",
     "text": [
      "Epoch 7: train loss :   0.147537   val loss :   0.150404   val score :   0.235419\n",
      "------ epoch:8 ------\n"
     ]
    },
    {
     "name": "stderr",
     "output_type": "stream",
     "text": [
      "100%|██████████| 252/252 [00:03<00:00, 72.78it/s]\n",
      "100%|██████████| 28/28 [00:00<00:00, 135.80it/s]\n",
      "100%|██████████| 943/943 [00:00<00:00, 2428.07it/s]\n"
     ]
    },
    {
     "name": "stdout",
     "output_type": "stream",
     "text": [
      "Epoch 8: train loss :   0.139932   val loss :   0.150736   val score :   0.229056\n",
      "------ epoch:9 ------\n"
     ]
    },
    {
     "name": "stderr",
     "output_type": "stream",
     "text": [
      "100%|██████████| 252/252 [00:03<00:00, 75.07it/s]\n",
      "100%|██████████| 28/28 [00:00<00:00, 100.46it/s]\n",
      "100%|██████████| 943/943 [00:00<00:00, 2556.80it/s]\n"
     ]
    },
    {
     "name": "stdout",
     "output_type": "stream",
     "text": [
      "Epoch 9: train loss :   0.119607   val loss :   0.152667   val score :   0.226935\n",
      "------ epoch:10 ------\n"
     ]
    },
    {
     "name": "stderr",
     "output_type": "stream",
     "text": [
      "100%|██████████| 252/252 [00:03<00:00, 73.36it/s]\n",
      "100%|██████████| 28/28 [00:00<00:00, 135.00it/s]\n",
      "100%|██████████| 943/943 [00:00<00:00, 2200.01it/s]\n"
     ]
    },
    {
     "name": "stdout",
     "output_type": "stream",
     "text": [
      "Epoch 10: train loss :   0.097647   val loss :   0.154538   val score :   0.234358\n",
      "Epoch 00010: reducing learning rate of group 0 to 1.0000e-03.\n",
      "------ epoch:11 ------\n"
     ]
    },
    {
     "name": "stderr",
     "output_type": "stream",
     "text": [
      "100%|██████████| 252/252 [00:03<00:00, 73.76it/s]\n",
      "100%|██████████| 28/28 [00:00<00:00, 118.71it/s]\n",
      "100%|██████████| 943/943 [00:00<00:00, 2550.70it/s]\n"
     ]
    },
    {
     "name": "stdout",
     "output_type": "stream",
     "text": [
      "Epoch 11: train loss :   0.060604   val loss :   0.154646   val score :   0.233298\n"
     ]
    },
    {
     "name": "stderr",
     "output_type": "stream",
     "text": [
      "100%|██████████| 70/70 [00:00<00:00, 113.27it/s]\n",
      "100%|██████████| 943/943 [00:00<00:00, 1488.71it/s]\n"
     ]
    },
    {
     "name": "stdout",
     "output_type": "stream",
     "text": [
      "------ log loss of 1 fold : 0.14733100033232144 ------\n",
      "------ score of 1 fold : 0.1919406150583245 ------\n",
      "------ 第2折 ------\n",
      "------ epoch:1 ------\n"
     ]
    },
    {
     "name": "stderr",
     "output_type": "stream",
     "text": [
      "100%|██████████| 252/252 [00:03<00:00, 74.68it/s]\n",
      "100%|██████████| 28/28 [00:00<00:00, 136.46it/s]\n",
      "100%|██████████| 943/943 [00:00<00:00, 2554.08it/s]\n"
     ]
    },
    {
     "name": "stdout",
     "output_type": "stream",
     "text": [
      "Epoch 1: train loss :   0.304048   val loss :   0.159895   val score :   0.218452\n",
      "------ epoch:2 ------\n"
     ]
    },
    {
     "name": "stderr",
     "output_type": "stream",
     "text": [
      "100%|██████████| 252/252 [00:03<00:00, 75.29it/s]\n",
      "100%|██████████| 28/28 [00:00<00:00, 99.24it/s] \n",
      "100%|██████████| 943/943 [00:00<00:00, 2533.86it/s]\n"
     ]
    },
    {
     "name": "stdout",
     "output_type": "stream",
     "text": [
      "Epoch 2: train loss :   0.201218   val loss :   0.158690   val score :   0.195122\n",
      "------ epoch:3 ------\n"
     ]
    },
    {
     "name": "stderr",
     "output_type": "stream",
     "text": [
      "100%|██████████| 252/252 [00:03<00:00, 75.59it/s]\n",
      "100%|██████████| 28/28 [00:00<00:00, 140.95it/s]\n",
      "100%|██████████| 943/943 [00:00<00:00, 2058.22it/s]\n"
     ]
    },
    {
     "name": "stdout",
     "output_type": "stream",
     "text": [
      "Epoch 3: train loss :   0.185734   val loss :   0.155213   val score :   0.217391\n",
      "------ epoch:4 ------\n"
     ]
    },
    {
     "name": "stderr",
     "output_type": "stream",
     "text": [
      "100%|██████████| 252/252 [00:03<00:00, 73.81it/s]\n",
      "100%|██████████| 28/28 [00:00<00:00, 136.09it/s]\n",
      "100%|██████████| 943/943 [00:00<00:00, 2326.97it/s]\n"
     ]
    },
    {
     "name": "stdout",
     "output_type": "stream",
     "text": [
      "Epoch 4: train loss :   0.172030   val loss :   0.152800   val score :   0.209968\n",
      "Epoch 00004: reducing learning rate of group 0 to 1.0000e-03.\n",
      "------ epoch:5 ------\n"
     ]
    },
    {
     "name": "stderr",
     "output_type": "stream",
     "text": [
      "100%|██████████| 252/252 [00:03<00:00, 73.52it/s]\n",
      "100%|██████████| 28/28 [00:00<00:00, 136.69it/s]\n",
      "100%|██████████| 943/943 [00:00<00:00, 2401.01it/s]\n"
     ]
    },
    {
     "name": "stdout",
     "output_type": "stream",
     "text": [
      "Epoch 5: train loss :   0.160227   val loss :   0.152287   val score :   0.209968\n"
     ]
    },
    {
     "name": "stderr",
     "output_type": "stream",
     "text": [
      "100%|██████████| 70/70 [00:00<00:00, 122.88it/s]\n",
      "100%|██████████| 943/943 [00:00<00:00, 1449.86it/s]\n"
     ]
    },
    {
     "name": "stdout",
     "output_type": "stream",
     "text": [
      "------ log loss of 2 fold : 0.14879033054624285 ------\n",
      "------ score of 2 fold : 0.20042417815482502 ------\n",
      "------ 第3折 ------\n",
      "------ epoch:1 ------\n"
     ]
    },
    {
     "name": "stderr",
     "output_type": "stream",
     "text": [
      "100%|██████████| 252/252 [00:03<00:00, 74.29it/s]\n",
      "100%|██████████| 28/28 [00:00<00:00, 101.43it/s]\n",
      "100%|██████████| 943/943 [00:00<00:00, 2608.47it/s]\n"
     ]
    },
    {
     "name": "stdout",
     "output_type": "stream",
     "text": [
      "Epoch 1: train loss :   0.305235   val loss :   0.161228   val score :   0.211029\n",
      "------ epoch:2 ------\n"
     ]
    },
    {
     "name": "stderr",
     "output_type": "stream",
     "text": [
      "100%|██████████| 252/252 [00:03<00:00, 76.04it/s]\n",
      "100%|██████████| 28/28 [00:00<00:00, 101.58it/s]\n",
      "100%|██████████| 943/943 [00:00<00:00, 2596.17it/s]\n"
     ]
    },
    {
     "name": "stdout",
     "output_type": "stream",
     "text": [
      "Epoch 2: train loss :   0.201960   val loss :   0.157615   val score :   0.205726\n",
      "------ epoch:3 ------\n"
     ]
    },
    {
     "name": "stderr",
     "output_type": "stream",
     "text": [
      "100%|██████████| 252/252 [00:03<00:00, 72.45it/s]\n",
      "100%|██████████| 28/28 [00:00<00:00, 137.68it/s]\n",
      "100%|██████████| 943/943 [00:00<00:00, 2406.85it/s]\n"
     ]
    },
    {
     "name": "stdout",
     "output_type": "stream",
     "text": [
      "Epoch 3: train loss :   0.185773   val loss :   0.155991   val score :   0.204666\n",
      "------ epoch:4 ------\n"
     ]
    },
    {
     "name": "stderr",
     "output_type": "stream",
     "text": [
      "100%|██████████| 252/252 [00:03<00:00, 75.01it/s]\n",
      "100%|██████████| 28/28 [00:00<00:00, 132.90it/s]\n",
      "100%|██████████| 943/943 [00:00<00:00, 2448.50it/s]\n"
     ]
    },
    {
     "name": "stdout",
     "output_type": "stream",
     "text": [
      "Epoch 4: train loss :   0.171582   val loss :   0.153608   val score :   0.209968\n",
      "Epoch 00004: reducing learning rate of group 0 to 1.0000e-03.\n",
      "------ epoch:5 ------\n"
     ]
    },
    {
     "name": "stderr",
     "output_type": "stream",
     "text": [
      "100%|██████████| 252/252 [00:03<00:00, 75.69it/s]\n",
      "100%|██████████| 28/28 [00:00<00:00, 101.61it/s]\n",
      "100%|██████████| 943/943 [00:00<00:00, 2425.56it/s]\n"
     ]
    },
    {
     "name": "stdout",
     "output_type": "stream",
     "text": [
      "Epoch 5: train loss :   0.159647   val loss :   0.153042   val score :   0.208908\n"
     ]
    },
    {
     "name": "stderr",
     "output_type": "stream",
     "text": [
      "100%|██████████| 70/70 [00:00<00:00, 138.76it/s]\n",
      "100%|██████████| 943/943 [00:00<00:00, 2444.06it/s]\n"
     ]
    },
    {
     "name": "stdout",
     "output_type": "stream",
     "text": [
      "------ log loss of 3 fold : 0.15211368767278535 ------\n",
      "------ score of 3 fold : 0.2205726405090138 ------\n",
      "------ 第4折 ------\n",
      "------ epoch:1 ------\n"
     ]
    },
    {
     "name": "stderr",
     "output_type": "stream",
     "text": [
      "100%|██████████| 252/252 [00:03<00:00, 74.38it/s]\n",
      "100%|██████████| 28/28 [00:00<00:00, 99.86it/s]\n",
      "100%|██████████| 943/943 [00:00<00:00, 2350.15it/s]\n"
     ]
    },
    {
     "name": "stdout",
     "output_type": "stream",
     "text": [
      "Epoch 1: train loss :   0.313340   val loss :   0.159424   val score :   0.201485\n",
      "------ epoch:2 ------\n"
     ]
    },
    {
     "name": "stderr",
     "output_type": "stream",
     "text": [
      "100%|██████████| 252/252 [00:03<00:00, 73.34it/s]\n",
      "100%|██████████| 28/28 [00:00<00:00, 137.14it/s]\n",
      "100%|██████████| 943/943 [00:00<00:00, 2403.79it/s]\n"
     ]
    },
    {
     "name": "stdout",
     "output_type": "stream",
     "text": [
      "Epoch 2: train loss :   0.201424   val loss :   0.158069   val score :   0.200424\n",
      "------ epoch:3 ------\n"
     ]
    },
    {
     "name": "stderr",
     "output_type": "stream",
     "text": [
      "100%|██████████| 252/252 [00:03<00:00, 75.92it/s]\n",
      "100%|██████████| 28/28 [00:00<00:00, 136.12it/s]\n",
      "100%|██████████| 943/943 [00:00<00:00, 2519.20it/s]\n"
     ]
    },
    {
     "name": "stdout",
     "output_type": "stream",
     "text": [
      "Epoch 3: train loss :   0.185910   val loss :   0.154666   val score :   0.202545\n",
      "------ epoch:4 ------\n"
     ]
    },
    {
     "name": "stderr",
     "output_type": "stream",
     "text": [
      "100%|██████████| 252/252 [00:03<00:00, 75.90it/s]\n",
      "100%|██████████| 28/28 [00:00<00:00, 137.51it/s]\n",
      "100%|██████████| 943/943 [00:00<00:00, 2579.46it/s]\n"
     ]
    },
    {
     "name": "stdout",
     "output_type": "stream",
     "text": [
      "Epoch 4: train loss :   0.172769   val loss :   0.152748   val score :   0.214210\n",
      "------ epoch:5 ------\n"
     ]
    },
    {
     "name": "stderr",
     "output_type": "stream",
     "text": [
      "100%|██████████| 252/252 [00:03<00:00, 75.57it/s]\n",
      "100%|██████████| 28/28 [00:00<00:00, 102.83it/s]\n",
      "100%|██████████| 943/943 [00:00<00:00, 2411.28it/s]\n"
     ]
    },
    {
     "name": "stdout",
     "output_type": "stream",
     "text": [
      "Epoch 5: train loss :   0.161739   val loss :   0.151520   val score :   0.199364\n",
      "------ epoch:6 ------\n"
     ]
    },
    {
     "name": "stderr",
     "output_type": "stream",
     "text": [
      "100%|██████████| 252/252 [00:03<00:00, 71.95it/s]\n",
      "100%|██████████| 28/28 [00:00<00:00, 135.10it/s]\n",
      "100%|██████████| 943/943 [00:00<00:00, 2372.96it/s]\n"
     ]
    },
    {
     "name": "stdout",
     "output_type": "stream",
     "text": [
      "Epoch 6: train loss :   0.153482   val loss :   0.151306   val score :   0.202545\n",
      "------ epoch:7 ------\n"
     ]
    },
    {
     "name": "stderr",
     "output_type": "stream",
     "text": [
      "100%|██████████| 252/252 [00:03<00:00, 74.02it/s]\n",
      "100%|██████████| 28/28 [00:00<00:00, 135.72it/s]\n",
      "100%|██████████| 943/943 [00:00<00:00, 2482.23it/s]\n"
     ]
    },
    {
     "name": "stdout",
     "output_type": "stream",
     "text": [
      "Epoch 7: train loss :   0.146579   val loss :   0.151076   val score :   0.215270\n",
      "------ epoch:8 ------\n"
     ]
    },
    {
     "name": "stderr",
     "output_type": "stream",
     "text": [
      "100%|██████████| 252/252 [00:03<00:00, 74.27it/s]\n",
      "100%|██████████| 28/28 [00:00<00:00, 131.42it/s]\n",
      "100%|██████████| 943/943 [00:00<00:00, 2546.99it/s]\n"
     ]
    },
    {
     "name": "stdout",
     "output_type": "stream",
     "text": [
      "Epoch 8: train loss :   0.140269   val loss :   0.147723   val score :   0.216331\n",
      "------ epoch:9 ------\n"
     ]
    },
    {
     "name": "stderr",
     "output_type": "stream",
     "text": [
      "100%|██████████| 252/252 [00:03<00:00, 74.54it/s]\n",
      "100%|██████████| 28/28 [00:00<00:00, 99.47it/s] \n",
      "100%|██████████| 943/943 [00:00<00:00, 2348.34it/s]\n"
     ]
    },
    {
     "name": "stdout",
     "output_type": "stream",
     "text": [
      "Epoch 9: train loss :   0.122720   val loss :   0.148975   val score :   0.215270\n",
      "------ epoch:10 ------\n"
     ]
    },
    {
     "name": "stderr",
     "output_type": "stream",
     "text": [
      "100%|██████████| 252/252 [00:03<00:00, 72.77it/s]\n",
      "100%|██████████| 28/28 [00:00<00:00, 133.92it/s]\n",
      "100%|██████████| 943/943 [00:00<00:00, 2404.00it/s]\n"
     ]
    },
    {
     "name": "stdout",
     "output_type": "stream",
     "text": [
      "Epoch 10: train loss :   0.102290   val loss :   0.150941   val score :   0.220573\n",
      "------ epoch:11 ------\n"
     ]
    },
    {
     "name": "stderr",
     "output_type": "stream",
     "text": [
      "100%|██████████| 252/252 [00:03<00:00, 74.21it/s]\n",
      "100%|██████████| 28/28 [00:00<00:00, 134.45it/s]\n",
      "100%|██████████| 943/943 [00:00<00:00, 2548.30it/s]\n"
     ]
    },
    {
     "name": "stdout",
     "output_type": "stream",
     "text": [
      "Epoch 11: train loss :   0.080614   val loss :   0.153043   val score :   0.223754\n",
      "------ epoch:12 ------\n"
     ]
    },
    {
     "name": "stderr",
     "output_type": "stream",
     "text": [
      "100%|██████████| 252/252 [00:03<00:00, 74.97it/s]\n",
      "100%|██████████| 28/28 [00:00<00:00, 101.40it/s]\n",
      "100%|██████████| 943/943 [00:00<00:00, 2335.93it/s]\n"
     ]
    },
    {
     "name": "stdout",
     "output_type": "stream",
     "text": [
      "Epoch 12: train loss :   0.058771   val loss :   0.155178   val score :   0.216331\n",
      "------ epoch:13 ------\n"
     ]
    },
    {
     "name": "stderr",
     "output_type": "stream",
     "text": [
      "100%|██████████| 252/252 [00:03<00:00, 79.95it/s]\n",
      "100%|██████████| 28/28 [00:00<00:00, 97.81it/s]\n",
      "100%|██████████| 943/943 [00:00<00:00, 3072.34it/s]\n"
     ]
    },
    {
     "name": "stdout",
     "output_type": "stream",
     "text": [
      "Epoch 13: train loss :   0.046789   val loss :   0.160622   val score :   0.220573\n",
      "------ epoch:14 ------\n"
     ]
    },
    {
     "name": "stderr",
     "output_type": "stream",
     "text": [
      "100%|██████████| 252/252 [00:03<00:00, 70.93it/s]\n",
      "100%|██████████| 28/28 [00:00<00:00, 138.42it/s]\n",
      "100%|██████████| 943/943 [00:00<00:00, 3149.12it/s]\n"
     ]
    },
    {
     "name": "stdout",
     "output_type": "stream",
     "text": [
      "Epoch 14: train loss :   0.027909   val loss :   0.162052   val score :   0.222694\n",
      "Epoch 00014: reducing learning rate of group 0 to 1.0000e-03.\n",
      "------ epoch:15 ------\n"
     ]
    },
    {
     "name": "stderr",
     "output_type": "stream",
     "text": [
      "100%|██████████| 252/252 [00:03<00:00, 73.27it/s]\n",
      "100%|██████████| 28/28 [00:00<00:00, 132.72it/s]\n",
      "100%|██████████| 943/943 [00:00<00:00, 2839.74it/s]\n"
     ]
    },
    {
     "name": "stdout",
     "output_type": "stream",
     "text": [
      "Epoch 15: train loss :  -0.012049   val loss :   0.162078   val score :   0.219512\n"
     ]
    },
    {
     "name": "stderr",
     "output_type": "stream",
     "text": [
      "100%|██████████| 70/70 [00:00<00:00, 117.46it/s]\n",
      "100%|██████████| 943/943 [00:00<00:00, 2374.44it/s]\n"
     ]
    },
    {
     "name": "stdout",
     "output_type": "stream",
     "text": [
      "------ log loss of 4 fold : 0.15940789388758794 ------\n",
      "------ score of 4 fold : 0.18133616118769882 ------\n",
      "------ 第5折 ------\n",
      "------ epoch:1 ------\n"
     ]
    },
    {
     "name": "stderr",
     "output_type": "stream",
     "text": [
      "100%|██████████| 252/252 [00:03<00:00, 73.02it/s]\n",
      "100%|██████████| 28/28 [00:00<00:00, 133.54it/s]\n",
      "100%|██████████| 943/943 [00:00<00:00, 2409.55it/s]\n"
     ]
    },
    {
     "name": "stdout",
     "output_type": "stream",
     "text": [
      "Epoch 1: train loss :   0.302878   val loss :   0.157980   val score :   0.201485\n",
      "------ epoch:2 ------\n"
     ]
    },
    {
     "name": "stderr",
     "output_type": "stream",
     "text": [
      "100%|██████████| 252/252 [00:03<00:00, 74.52it/s]\n",
      "100%|██████████| 28/28 [00:00<00:00, 99.82it/s] \n",
      "100%|██████████| 943/943 [00:00<00:00, 2496.30it/s]\n"
     ]
    },
    {
     "name": "stdout",
     "output_type": "stream",
     "text": [
      "Epoch 2: train loss :   0.200402   val loss :   0.155399   val score :   0.203606\n",
      "------ epoch:3 ------\n"
     ]
    },
    {
     "name": "stderr",
     "output_type": "stream",
     "text": [
      "100%|██████████| 252/252 [00:03<00:00, 74.19it/s]\n",
      "100%|██████████| 28/28 [00:00<00:00, 137.76it/s]\n",
      "100%|██████████| 943/943 [00:00<00:00, 2468.68it/s]\n"
     ]
    },
    {
     "name": "stdout",
     "output_type": "stream",
     "text": [
      "Epoch 3: train loss :   0.184954   val loss :   0.153358   val score :   0.213150\n",
      "------ epoch:4 ------\n"
     ]
    },
    {
     "name": "stderr",
     "output_type": "stream",
     "text": [
      "100%|██████████| 252/252 [00:03<00:00, 76.33it/s]\n",
      "100%|██████████| 28/28 [00:00<00:00, 137.16it/s]\n",
      "100%|██████████| 943/943 [00:00<00:00, 2462.16it/s]\n"
     ]
    },
    {
     "name": "stdout",
     "output_type": "stream",
     "text": [
      "Epoch 4: train loss :   0.171560   val loss :   0.151295   val score :   0.224814\n",
      "------ epoch:5 ------\n"
     ]
    },
    {
     "name": "stderr",
     "output_type": "stream",
     "text": [
      "100%|██████████| 252/252 [00:03<00:00, 75.52it/s]\n",
      "100%|██████████| 28/28 [00:00<00:00, 101.28it/s]\n",
      "100%|██████████| 943/943 [00:00<00:00, 2432.73it/s]\n"
     ]
    },
    {
     "name": "stdout",
     "output_type": "stream",
     "text": [
      "Epoch 5: train loss :   0.160860   val loss :   0.149315   val score :   0.220573\n",
      "------ epoch:6 ------\n"
     ]
    },
    {
     "name": "stderr",
     "output_type": "stream",
     "text": [
      "100%|██████████| 252/252 [00:03<00:00, 74.54it/s]\n",
      "100%|██████████| 28/28 [00:00<00:00, 133.38it/s]\n",
      "100%|██████████| 943/943 [00:00<00:00, 2594.87it/s]\n"
     ]
    },
    {
     "name": "stdout",
     "output_type": "stream",
     "text": [
      "Epoch 6: train loss :   0.152920   val loss :   0.148468   val score :   0.224814\n",
      "------ epoch:7 ------\n"
     ]
    },
    {
     "name": "stderr",
     "output_type": "stream",
     "text": [
      "100%|██████████| 252/252 [00:03<00:00, 72.90it/s]\n",
      "100%|██████████| 28/28 [00:00<00:00, 130.99it/s]\n",
      "100%|██████████| 943/943 [00:00<00:00, 2577.71it/s]\n"
     ]
    },
    {
     "name": "stdout",
     "output_type": "stream",
     "text": [
      "Epoch 7: train loss :   0.147365   val loss :   0.148165   val score :   0.224814\n",
      "Epoch 00007: reducing learning rate of group 0 to 1.0000e-03.\n",
      "------ epoch:8 ------\n"
     ]
    },
    {
     "name": "stderr",
     "output_type": "stream",
     "text": [
      "100%|██████████| 252/252 [00:03<00:00, 73.10it/s]\n",
      "100%|██████████| 28/28 [00:00<00:00, 138.65it/s]\n",
      "100%|██████████| 943/943 [00:00<00:00, 2448.28it/s]\n"
     ]
    },
    {
     "name": "stdout",
     "output_type": "stream",
     "text": [
      "Epoch 8: train loss :   0.133591   val loss :   0.148095   val score :   0.221633\n"
     ]
    },
    {
     "name": "stderr",
     "output_type": "stream",
     "text": [
      "100%|██████████| 70/70 [00:00<00:00, 121.01it/s]\n",
      "100%|██████████| 943/943 [00:00<00:00, 2452.39it/s]\n"
     ]
    },
    {
     "name": "stdout",
     "output_type": "stream",
     "text": [
      "------ log loss of 5 fold : 0.14941041959183557 ------\n",
      "------ score of 5 fold : 0.20254506892895016 ------\n",
      "settings : percentage = 0.5, model type = 3\n",
      "parameters :  {'theta_clip': 0.05, 'num_users': 943, 'num_items': 1682, 'embedding_dim': 20, 'lr': 0.01, 'alpha': 0.01, 'patience': 3, 'epochs': 30, 'device': 'cuda:0', 'model_selection': True}\n",
      "------ log loss of the model : 0.1514106664061546 ------\n",
      "------ score of the model : 0.19936373276776248 ------\n"
     ]
    }
   ],
   "source": [
    "embedding_dim = 20\n",
    "lr = 1e-2\n",
    "alpha = 1e-2\n",
    "theta_clip = 0.01\n",
    "model_type = 3\n",
    "seed_everything(42)\n",
    "CrossValidation2(train, model_type=model_type, percentage=percentage, k=5, theta_clip=theta_clip,  \n",
    "                num_users=num_users, num_items=num_items, embedding_dim=embedding_dim, \n",
    "               lr=lr, alpha=alpha, patience=3, epochs=30, device=\"cuda:0\", model_selection=True)\n",
    "\n",
    "embedding_dim = 20\n",
    "lr = 1e-2\n",
    "alpha = 1e-2\n",
    "theta_clip = 0.05\n",
    "model_type = 3\n",
    "seed_everything(42)\n",
    "CrossValidation2(train, model_type=model_type, percentage=percentage, k=5, theta_clip=theta_clip,  \n",
    "                num_users=num_users, num_items=num_items, embedding_dim=embedding_dim, \n",
    "               lr=lr, alpha=alpha, patience=3, epochs=30, device=\"cuda:0\", model_selection=True)"
   ]
  },
  {
   "cell_type": "markdown",
   "id": "b105b309-1c33-42ac-83bc-f4f3e92cffe5",
   "metadata": {},
   "source": [
    "### 4"
   ]
  },
  {
   "cell_type": "markdown",
   "id": "2e394552-ac57-4c56-b1db-c1616adaf4d6",
   "metadata": {},
   "source": [
    "### 5"
   ]
  },
  {
   "cell_type": "markdown",
   "id": "ee8b509b-0a0a-4c3f-8ac2-e9bd06ce7932",
   "metadata": {
    "tags": []
   },
   "source": [
    "## 五. percentage = 25%"
   ]
  },
  {
   "cell_type": "code",
   "execution_count": 30,
   "id": "96db7acf-282c-4e44-990f-43ef3701e03f",
   "metadata": {
    "jupyter": {
     "source_hidden": true
    },
    "tags": []
   },
   "outputs": [
    {
     "name": "stderr",
     "output_type": "stream",
     "text": [
      "100%|██████████| 1682/1682 [00:01<00:00, 1105.28it/s]\n"
     ]
    }
   ],
   "source": [
    "seed_everything(42)\n",
    "percentage = 0.25\n",
    "click_data, _, _ = generate_click_data(data, num_users, num_items, power=1)\n",
    "click_data = get_theta_hat(click_data, percentage=percentage)\n",
    "neg_data = click_data[click_data[:, 6]==0, :]\n",
    "pos_data = click_data[click_data[:, 6]==1, :]\n",
    "train, test = train_test_split(neg_data, test_size=0.1, random_state=0)\n",
    "train = torch.vstack([pos_data, train]) # 使用未被点击的一部分作为测试集"
   ]
  },
  {
   "cell_type": "markdown",
   "id": "69f840ce-6eb7-47dd-a46b-85b43fbf86ea",
   "metadata": {},
   "source": [
    "### 3"
   ]
  },
  {
   "cell_type": "code",
   "execution_count": 32,
   "id": "e4fdec9c-fa43-4f09-8e82-05965f378564",
   "metadata": {
    "collapsed": true,
    "jupyter": {
     "outputs_hidden": true,
     "source_hidden": true
    },
    "tags": []
   },
   "outputs": [
    {
     "name": "stdout",
     "output_type": "stream",
     "text": [
      "------ 第1折 ------\n",
      "------ epoch:1 ------\n"
     ]
    },
    {
     "name": "stderr",
     "output_type": "stream",
     "text": [
      "100%|██████████| 252/252 [00:03<00:00, 74.41it/s]\n",
      "100%|██████████| 28/28 [00:00<00:00, 103.30it/s]\n",
      "100%|██████████| 943/943 [00:00<00:00, 2446.53it/s]\n"
     ]
    },
    {
     "name": "stdout",
     "output_type": "stream",
     "text": [
      "Epoch 1: train loss :   0.244023   val loss :   0.074983   val score :   0.243902\n",
      "------ epoch:2 ------\n"
     ]
    },
    {
     "name": "stderr",
     "output_type": "stream",
     "text": [
      "100%|██████████| 252/252 [00:03<00:00, 77.33it/s]\n",
      "100%|██████████| 28/28 [00:00<00:00, 137.73it/s]\n",
      "100%|██████████| 943/943 [00:00<00:00, 2430.23it/s]\n"
     ]
    },
    {
     "name": "stdout",
     "output_type": "stream",
     "text": [
      "Epoch 2: train loss :   0.123358   val loss :   0.074033   val score :   0.262990\n",
      "------ epoch:3 ------\n"
     ]
    },
    {
     "name": "stderr",
     "output_type": "stream",
     "text": [
      "100%|██████████| 252/252 [00:03<00:00, 75.60it/s]\n",
      "100%|██████████| 28/28 [00:00<00:00, 139.96it/s]\n",
      "100%|██████████| 943/943 [00:00<00:00, 2448.13it/s]\n"
     ]
    },
    {
     "name": "stdout",
     "output_type": "stream",
     "text": [
      "Epoch 3: train loss :   0.108783   val loss :   0.073174   val score :   0.270414\n",
      "------ epoch:4 ------\n"
     ]
    },
    {
     "name": "stderr",
     "output_type": "stream",
     "text": [
      "100%|██████████| 252/252 [00:03<00:00, 75.88it/s]\n",
      "100%|██████████| 28/28 [00:00<00:00, 137.22it/s]\n",
      "100%|██████████| 943/943 [00:00<00:00, 2506.28it/s]\n"
     ]
    },
    {
     "name": "stdout",
     "output_type": "stream",
     "text": [
      "Epoch 4: train loss :   0.095162   val loss :   0.072113   val score :   0.274655\n",
      "------ epoch:5 ------\n"
     ]
    },
    {
     "name": "stderr",
     "output_type": "stream",
     "text": [
      "100%|██████████| 252/252 [00:03<00:00, 72.76it/s]\n",
      "100%|██████████| 28/28 [00:00<00:00, 142.73it/s]\n",
      "100%|██████████| 943/943 [00:00<00:00, 2453.33it/s]\n"
     ]
    },
    {
     "name": "stdout",
     "output_type": "stream",
     "text": [
      "Epoch 5: train loss :   0.083657   val loss :   0.070220   val score :   0.271474\n",
      "------ epoch:6 ------\n"
     ]
    },
    {
     "name": "stderr",
     "output_type": "stream",
     "text": [
      "100%|██████████| 252/252 [00:03<00:00, 76.12it/s]\n",
      "100%|██████████| 28/28 [00:00<00:00, 139.50it/s]\n",
      "100%|██████████| 943/943 [00:00<00:00, 2428.79it/s]\n"
     ]
    },
    {
     "name": "stdout",
     "output_type": "stream",
     "text": [
      "Epoch 6: train loss :   0.076064   val loss :   0.068492   val score :   0.284199\n",
      "------ epoch:7 ------\n"
     ]
    },
    {
     "name": "stderr",
     "output_type": "stream",
     "text": [
      "100%|██████████| 252/252 [00:03<00:00, 76.26it/s]\n",
      "100%|██████████| 28/28 [00:00<00:00, 141.44it/s]\n",
      "100%|██████████| 943/943 [00:00<00:00, 2401.01it/s]\n"
     ]
    },
    {
     "name": "stdout",
     "output_type": "stream",
     "text": [
      "Epoch 7: train loss :   0.072177   val loss :   0.067447   val score :   0.294804\n",
      "------ epoch:8 ------\n"
     ]
    },
    {
     "name": "stderr",
     "output_type": "stream",
     "text": [
      "100%|██████████| 252/252 [00:03<00:00, 74.76it/s]\n",
      "100%|██████████| 28/28 [00:00<00:00, 142.57it/s]\n",
      "100%|██████████| 943/943 [00:00<00:00, 2441.65it/s]\n"
     ]
    },
    {
     "name": "stdout",
     "output_type": "stream",
     "text": [
      "Epoch 8: train loss :   0.069908   val loss :   0.066826   val score :   0.299046\n",
      "------ epoch:9 ------\n"
     ]
    },
    {
     "name": "stderr",
     "output_type": "stream",
     "text": [
      "100%|██████████| 252/252 [00:03<00:00, 73.80it/s]\n",
      "100%|██████████| 28/28 [00:00<00:00, 139.22it/s]\n",
      "100%|██████████| 943/943 [00:00<00:00, 2449.29it/s]\n"
     ]
    },
    {
     "name": "stdout",
     "output_type": "stream",
     "text": [
      "Epoch 9: train loss :   0.068504   val loss :   0.066406   val score :   0.304348\n",
      "------ epoch:10 ------\n"
     ]
    },
    {
     "name": "stderr",
     "output_type": "stream",
     "text": [
      "100%|██████████| 252/252 [00:03<00:00, 75.59it/s]\n",
      "100%|██████████| 28/28 [00:00<00:00, 140.15it/s]\n",
      "100%|██████████| 943/943 [00:00<00:00, 2446.48it/s]\n"
     ]
    },
    {
     "name": "stdout",
     "output_type": "stream",
     "text": [
      "Epoch 10: train loss :   0.067705   val loss :   0.066114   val score :   0.296925\n",
      "------ epoch:11 ------\n"
     ]
    },
    {
     "name": "stderr",
     "output_type": "stream",
     "text": [
      "100%|██████████| 252/252 [00:03<00:00, 75.60it/s]\n",
      "100%|██████████| 28/28 [00:00<00:00, 138.96it/s]\n",
      "100%|██████████| 943/943 [00:00<00:00, 2536.45it/s]\n"
     ]
    },
    {
     "name": "stdout",
     "output_type": "stream",
     "text": [
      "Epoch 11: train loss :   0.067145   val loss :   0.065902   val score :   0.300106\n",
      "------ epoch:12 ------\n"
     ]
    },
    {
     "name": "stderr",
     "output_type": "stream",
     "text": [
      " 11%|█         | 28/252 [00:00<00:03, 69.71it/s]\n",
      "\n",
      "KeyboardInterrupt\n",
      "\n"
     ]
    }
   ],
   "source": [
    "embedding_dim = 10\n",
    "lr = 1e-2\n",
    "alpha = 1e-2\n",
    "theta_clip = 0.1\n",
    "model_type = 3\n",
    "seed_everything(42)\n",
    "CrossValidation2(train, model_type=model_type, percentage=percentage, k=5, theta_clip=theta_clip,  \n",
    "                num_users=num_users, num_items=num_items, embedding_dim=embedding_dim, \n",
    "               lr=lr, alpha=alpha, patience=3, epochs=30, device=\"cuda:0\", model_selection=True)\n"
   ]
  },
  {
   "cell_type": "markdown",
   "id": "c60e1654-f3f2-47d5-b899-b80c733c35cc",
   "metadata": {},
   "source": [
    "### 4"
   ]
  },
  {
   "cell_type": "markdown",
   "id": "0574f8e9-2472-4728-bcee-a512640dec4a",
   "metadata": {},
   "source": [
    "### 5"
   ]
  },
  {
   "cell_type": "markdown",
   "id": "1b78f23f-7de3-4521-9a26-7eaf4190d3a9",
   "metadata": {},
   "source": [
    "## 六. per = 0.05"
   ]
  },
  {
   "cell_type": "code",
   "execution_count": null,
   "id": "abb18a05-a03a-4d7c-b2e9-fd5d1d53536d",
   "metadata": {},
   "outputs": [],
   "source": []
  },
  {
   "cell_type": "markdown",
   "id": "3541dda6-3228-4c66-9e7e-b83affbca5e2",
   "metadata": {},
   "source": [
    "# Test"
   ]
  },
  {
   "cell_type": "markdown",
   "id": "f77b90ba-50e3-46b8-ace0-aaeb77897c52",
   "metadata": {},
   "source": [
    "## 一. per = 100%"
   ]
  },
  {
   "cell_type": "code",
   "execution_count": 10,
   "id": "802c212c-855b-47c9-a3e0-29b5c0657b1d",
   "metadata": {
    "tags": []
   },
   "outputs": [
    {
     "name": "stderr",
     "output_type": "stream",
     "text": [
      "100%|██████████| 1682/1682 [00:01<00:00, 1324.88it/s]\n"
     ]
    }
   ],
   "source": [
    "seed_everything(42)\n",
    "percentage = 0.05\n",
    "click_data, _, _ = generate_click_data(data, num_users, num_items, power=1)\n",
    "click_data = get_theta_hat(click_data, percentage=percentage)\n",
    "neg_data = click_data[click_data[:, 6]==0, :]\n",
    "pos_data = click_data[click_data[:, 6]==1, :]\n",
    "train, test = train_test_split(neg_data, test_size=0.1, random_state=0)\n",
    "train = torch.vstack([pos_data, train]) # 使用未被点击的一部分作为测试集"
   ]
  },
  {
   "cell_type": "markdown",
   "id": "b678b117-8894-48b2-bf4c-1c49325eaaf6",
   "metadata": {},
   "source": [
    "### 3"
   ]
  },
  {
   "cell_type": "code",
   "execution_count": 12,
   "id": "58fa2638-670a-45a1-87e3-ece4a751f099",
   "metadata": {
    "tags": []
   },
   "outputs": [
    {
     "name": "stdout",
     "output_type": "stream",
     "text": [
      "------ repeat : 1 ------\n",
      "------ epoch:1 ------\n"
     ]
    },
    {
     "name": "stderr",
     "output_type": "stream",
     "text": [
      "100%|██████████| 280/280 [00:03<00:00, 73.35it/s]\n",
      "100%|██████████| 70/70 [00:00<00:00, 119.19it/s]\n",
      "100%|██████████| 943/943 [00:00<00:00, 3094.95it/s]\n"
     ]
    },
    {
     "name": "stdout",
     "output_type": "stream",
     "text": [
      "Epoch 1: train loss :   0.350713   val loss :   0.205377   val score :   0.196182\n",
      "------ epoch:2 ------\n"
     ]
    },
    {
     "name": "stderr",
     "output_type": "stream",
     "text": [
      "100%|██████████| 280/280 [00:03<00:00, 75.07it/s]\n",
      "100%|██████████| 70/70 [00:00<00:00, 119.14it/s]\n",
      "100%|██████████| 943/943 [00:00<00:00, 3099.62it/s]\n"
     ]
    },
    {
     "name": "stdout",
     "output_type": "stream",
     "text": [
      "Epoch 2: train loss :   0.247234   val loss :   0.198678   val score :   0.190880\n",
      "------ epoch:3 ------\n"
     ]
    },
    {
     "name": "stderr",
     "output_type": "stream",
     "text": [
      "100%|██████████| 280/280 [00:03<00:00, 75.09it/s]\n",
      "100%|██████████| 70/70 [00:00<00:00, 137.15it/s]\n",
      "100%|██████████| 943/943 [00:00<00:00, 3096.78it/s]\n"
     ]
    },
    {
     "name": "stdout",
     "output_type": "stream",
     "text": [
      "Epoch 3: train loss :   0.229410   val loss :   0.192917   val score :   0.181336\n",
      "------ epoch:4 ------\n"
     ]
    },
    {
     "name": "stderr",
     "output_type": "stream",
     "text": [
      "100%|██████████| 280/280 [00:03<00:00, 74.35it/s]\n",
      "100%|██████████| 70/70 [00:00<00:00, 119.02it/s]\n",
      "100%|██████████| 943/943 [00:00<00:00, 3078.38it/s]\n"
     ]
    },
    {
     "name": "stdout",
     "output_type": "stream",
     "text": [
      "Epoch 4: train loss :   0.212987   val loss :   0.189823   val score :   0.191941\n",
      "Epoch 00004: reducing learning rate of group 0 to 1.0000e-03.\n",
      "------ epoch:5 ------\n"
     ]
    },
    {
     "name": "stderr",
     "output_type": "stream",
     "text": [
      "100%|██████████| 280/280 [00:03<00:00, 90.04it/s] \n",
      "100%|██████████| 70/70 [00:00<00:00, 119.77it/s]\n",
      "100%|██████████| 943/943 [00:00<00:00, 3129.51it/s]\n"
     ]
    },
    {
     "name": "stdout",
     "output_type": "stream",
     "text": [
      "Epoch 5: train loss :   0.192825   val loss :   0.189346   val score :   0.187699\n",
      "------ epoch:6 ------\n"
     ]
    },
    {
     "name": "stderr",
     "output_type": "stream",
     "text": [
      "100%|██████████| 280/280 [00:03<00:00, 91.39it/s] \n",
      "100%|██████████| 70/70 [00:00<00:00, 137.93it/s]\n",
      "100%|██████████| 943/943 [00:00<00:00, 3034.06it/s]\n"
     ]
    },
    {
     "name": "stdout",
     "output_type": "stream",
     "text": [
      "Epoch 6: train loss :   0.190953   val loss :   0.189073   val score :   0.187699\n",
      "------ epoch:7 ------\n"
     ]
    },
    {
     "name": "stderr",
     "output_type": "stream",
     "text": [
      "100%|██████████| 280/280 [00:03<00:00, 75.60it/s]\n",
      "100%|██████████| 70/70 [00:00<00:00, 114.03it/s]\n",
      "100%|██████████| 943/943 [00:00<00:00, 2838.13it/s]\n"
     ]
    },
    {
     "name": "stdout",
     "output_type": "stream",
     "text": [
      "Epoch 7: train loss :   0.188725   val loss :   0.188841   val score :   0.188759\n",
      "Epoch 00007: reducing learning rate of group 0 to 1.0000e-04.\n"
     ]
    },
    {
     "name": "stderr",
     "output_type": "stream",
     "text": [
      "100%|██████████| 39/39 [00:00<00:00, 106.53it/s]\n",
      "100%|██████████| 943/943 [00:03<00:00, 286.25it/s]\n"
     ]
    },
    {
     "name": "stdout",
     "output_type": "stream",
     "text": [
      "------ repeat : 2 ------\n",
      "------ epoch:1 ------\n"
     ]
    },
    {
     "name": "stderr",
     "output_type": "stream",
     "text": [
      "100%|██████████| 280/280 [00:03<00:00, 75.30it/s]\n",
      "100%|██████████| 70/70 [00:00<00:00, 136.74it/s]\n",
      "100%|██████████| 943/943 [00:00<00:00, 3142.60it/s]\n"
     ]
    },
    {
     "name": "stdout",
     "output_type": "stream",
     "text": [
      "Epoch 1: train loss :   0.352105   val loss :   0.203928   val score :   0.205726\n",
      "------ epoch:2 ------\n"
     ]
    },
    {
     "name": "stderr",
     "output_type": "stream",
     "text": [
      "100%|██████████| 280/280 [00:03<00:00, 75.36it/s]\n",
      "100%|██████████| 70/70 [00:00<00:00, 119.02it/s]\n",
      "100%|██████████| 943/943 [00:00<00:00, 3132.76it/s]\n"
     ]
    },
    {
     "name": "stdout",
     "output_type": "stream",
     "text": [
      "Epoch 2: train loss :   0.248512   val loss :   0.199886   val score :   0.203606\n",
      "------ epoch:3 ------\n"
     ]
    },
    {
     "name": "stderr",
     "output_type": "stream",
     "text": [
      "100%|██████████| 280/280 [00:03<00:00, 73.63it/s]\n",
      "100%|██████████| 70/70 [00:00<00:00, 119.51it/s]\n",
      "100%|██████████| 943/943 [00:00<00:00, 3127.99it/s]\n"
     ]
    },
    {
     "name": "stdout",
     "output_type": "stream",
     "text": [
      "Epoch 3: train loss :   0.232391   val loss :   0.196295   val score :   0.208908\n",
      "------ epoch:4 ------\n"
     ]
    },
    {
     "name": "stderr",
     "output_type": "stream",
     "text": [
      "100%|██████████| 280/280 [00:03<00:00, 74.66it/s]\n",
      "100%|██████████| 70/70 [00:00<00:00, 136.11it/s]\n",
      "100%|██████████| 943/943 [00:00<00:00, 3169.57it/s]\n"
     ]
    },
    {
     "name": "stdout",
     "output_type": "stream",
     "text": [
      "Epoch 4: train loss :   0.219035   val loss :   0.193261   val score :   0.214210\n",
      "------ epoch:5 ------\n"
     ]
    },
    {
     "name": "stderr",
     "output_type": "stream",
     "text": [
      "100%|██████████| 280/280 [00:03<00:00, 73.63it/s]\n",
      "100%|██████████| 70/70 [00:00<00:00, 116.86it/s]\n",
      "100%|██████████| 943/943 [00:00<00:00, 3126.09it/s]\n"
     ]
    },
    {
     "name": "stdout",
     "output_type": "stream",
     "text": [
      "Epoch 5: train loss :   0.206332   val loss :   0.190596   val score :   0.203606\n",
      "------ epoch:6 ------\n"
     ]
    },
    {
     "name": "stderr",
     "output_type": "stream",
     "text": [
      "100%|██████████| 280/280 [00:03<00:00, 74.72it/s]\n",
      "100%|██████████| 70/70 [00:00<00:00, 120.28it/s]\n",
      "100%|██████████| 943/943 [00:00<00:00, 3082.65it/s]\n"
     ]
    },
    {
     "name": "stdout",
     "output_type": "stream",
     "text": [
      "Epoch 6: train loss :   0.192951   val loss :   0.190287   val score :   0.212089\n",
      "------ epoch:7 ------\n"
     ]
    },
    {
     "name": "stderr",
     "output_type": "stream",
     "text": [
      "100%|██████████| 280/280 [00:03<00:00, 75.26it/s]\n",
      "100%|██████████| 70/70 [00:00<00:00, 138.04it/s]\n",
      "100%|██████████| 943/943 [00:00<00:00, 3090.17it/s]\n"
     ]
    },
    {
     "name": "stdout",
     "output_type": "stream",
     "text": [
      "Epoch 7: train loss :   0.177837   val loss :   0.191825   val score :   0.213150\n",
      "Epoch 00007: reducing learning rate of group 0 to 1.0000e-03.\n",
      "------ epoch:8 ------\n"
     ]
    },
    {
     "name": "stderr",
     "output_type": "stream",
     "text": [
      "100%|██████████| 280/280 [00:03<00:00, 75.01it/s]\n",
      "100%|██████████| 70/70 [00:00<00:00, 118.08it/s]\n",
      "100%|██████████| 943/943 [00:00<00:00, 3078.35it/s]\n"
     ]
    },
    {
     "name": "stdout",
     "output_type": "stream",
     "text": [
      "Epoch 8: train loss :   0.144898   val loss :   0.192254   val score :   0.213150\n",
      "------ epoch:9 ------\n"
     ]
    },
    {
     "name": "stderr",
     "output_type": "stream",
     "text": [
      "100%|██████████| 280/280 [00:03<00:00, 74.97it/s]\n",
      "100%|██████████| 70/70 [00:00<00:00, 114.43it/s]\n",
      "100%|██████████| 943/943 [00:00<00:00, 3073.16it/s]\n"
     ]
    },
    {
     "name": "stdout",
     "output_type": "stream",
     "text": [
      "Epoch 9: train loss :   0.142282   val loss :   0.192659   val score :   0.211029\n",
      "------ epoch:10 ------\n"
     ]
    },
    {
     "name": "stderr",
     "output_type": "stream",
     "text": [
      "100%|██████████| 280/280 [00:03<00:00, 75.20it/s]\n",
      "100%|██████████| 70/70 [00:00<00:00, 119.67it/s]\n",
      "100%|██████████| 943/943 [00:00<00:00, 3104.26it/s]\n"
     ]
    },
    {
     "name": "stdout",
     "output_type": "stream",
     "text": [
      "Epoch 10: train loss :   0.139458   val loss :   0.193151   val score :   0.204666\n",
      "Epoch 00010: reducing learning rate of group 0 to 1.0000e-04.\n"
     ]
    },
    {
     "name": "stderr",
     "output_type": "stream",
     "text": [
      "100%|██████████| 39/39 [00:00<00:00, 138.25it/s]\n",
      "100%|██████████| 943/943 [00:03<00:00, 286.58it/s]\n"
     ]
    },
    {
     "name": "stdout",
     "output_type": "stream",
     "text": [
      "------ repeat : 3 ------\n",
      "------ epoch:1 ------\n"
     ]
    },
    {
     "name": "stderr",
     "output_type": "stream",
     "text": [
      "100%|██████████| 280/280 [00:03<00:00, 75.15it/s]\n",
      "100%|██████████| 70/70 [00:00<00:00, 119.38it/s]\n",
      "100%|██████████| 943/943 [00:00<00:00, 3100.60it/s]\n"
     ]
    },
    {
     "name": "stdout",
     "output_type": "stream",
     "text": [
      "Epoch 1: train loss :   0.354200   val loss :   0.205322   val score :   0.163309\n",
      "------ epoch:2 ------\n"
     ]
    },
    {
     "name": "stderr",
     "output_type": "stream",
     "text": [
      "100%|██████████| 280/280 [00:03<00:00, 73.78it/s]\n",
      "100%|██████████| 70/70 [00:00<00:00, 137.76it/s]\n",
      "100%|██████████| 943/943 [00:00<00:00, 3145.16it/s]\n"
     ]
    },
    {
     "name": "stdout",
     "output_type": "stream",
     "text": [
      "Epoch 2: train loss :   0.246462   val loss :   0.197226   val score :   0.177094\n",
      "------ epoch:3 ------\n"
     ]
    },
    {
     "name": "stderr",
     "output_type": "stream",
     "text": [
      "100%|██████████| 280/280 [00:03<00:00, 75.21it/s]\n",
      "100%|██████████| 70/70 [00:00<00:00, 119.41it/s]\n",
      "100%|██████████| 943/943 [00:00<00:00, 3138.86it/s]\n"
     ]
    },
    {
     "name": "stdout",
     "output_type": "stream",
     "text": [
      "Epoch 3: train loss :   0.227135   val loss :   0.191548   val score :   0.189820\n",
      "------ epoch:4 ------\n"
     ]
    },
    {
     "name": "stderr",
     "output_type": "stream",
     "text": [
      "100%|██████████| 280/280 [00:03<00:00, 74.88it/s]\n",
      "100%|██████████| 70/70 [00:00<00:00, 119.88it/s]\n",
      "100%|██████████| 943/943 [00:00<00:00, 3139.72it/s]\n"
     ]
    },
    {
     "name": "stdout",
     "output_type": "stream",
     "text": [
      "Epoch 4: train loss :   0.210841   val loss :   0.188894   val score :   0.195122\n",
      "------ epoch:5 ------\n"
     ]
    },
    {
     "name": "stderr",
     "output_type": "stream",
     "text": [
      "100%|██████████| 280/280 [00:03<00:00, 74.22it/s]\n",
      "100%|██████████| 70/70 [00:00<00:00, 119.56it/s]\n",
      "100%|██████████| 943/943 [00:00<00:00, 3106.78it/s]\n"
     ]
    },
    {
     "name": "stdout",
     "output_type": "stream",
     "text": [
      "Epoch 5: train loss :   0.197252   val loss :   0.188757   val score :   0.194062\n",
      "------ epoch:6 ------\n"
     ]
    },
    {
     "name": "stderr",
     "output_type": "stream",
     "text": [
      "100%|██████████| 280/280 [00:03<00:00, 75.30it/s]\n",
      "100%|██████████| 70/70 [00:00<00:00, 137.48it/s]\n",
      "100%|██████████| 943/943 [00:00<00:00, 3129.80it/s]\n"
     ]
    },
    {
     "name": "stdout",
     "output_type": "stream",
     "text": [
      "Epoch 6: train loss :   0.179213   val loss :   0.187505   val score :   0.191941\n",
      "------ epoch:7 ------\n"
     ]
    },
    {
     "name": "stderr",
     "output_type": "stream",
     "text": [
      "100%|██████████| 280/280 [00:03<00:00, 74.32it/s]\n",
      "100%|██████████| 70/70 [00:00<00:00, 119.41it/s]\n",
      "100%|██████████| 943/943 [00:00<00:00, 3143.56it/s]\n"
     ]
    },
    {
     "name": "stdout",
     "output_type": "stream",
     "text": [
      "Epoch 7: train loss :   0.157086   val loss :   0.188293   val score :   0.185578\n",
      "Epoch 00007: reducing learning rate of group 0 to 1.0000e-03.\n",
      "------ epoch:8 ------\n"
     ]
    },
    {
     "name": "stderr",
     "output_type": "stream",
     "text": [
      "100%|██████████| 280/280 [00:03<00:00, 74.47it/s]\n",
      "100%|██████████| 70/70 [00:00<00:00, 117.17it/s]\n",
      "100%|██████████| 943/943 [00:00<00:00, 3144.08it/s]\n"
     ]
    },
    {
     "name": "stdout",
     "output_type": "stream",
     "text": [
      "Epoch 8: train loss :   0.116130   val loss :   0.189243   val score :   0.182397\n",
      "------ epoch:9 ------\n"
     ]
    },
    {
     "name": "stderr",
     "output_type": "stream",
     "text": [
      "100%|██████████| 280/280 [00:03<00:00, 74.97it/s]\n",
      "100%|██████████| 70/70 [00:00<00:00, 136.83it/s]\n",
      "100%|██████████| 943/943 [00:00<00:00, 3144.26it/s]\n"
     ]
    },
    {
     "name": "stdout",
     "output_type": "stream",
     "text": [
      "Epoch 9: train loss :   0.110445   val loss :   0.189591   val score :   0.181336\n",
      "------ epoch:10 ------\n"
     ]
    },
    {
     "name": "stderr",
     "output_type": "stream",
     "text": [
      "100%|██████████| 280/280 [00:03<00:00, 75.42it/s]\n",
      "100%|██████████| 70/70 [00:00<00:00, 116.45it/s]\n",
      "100%|██████████| 943/943 [00:00<00:00, 3145.69it/s]\n"
     ]
    },
    {
     "name": "stdout",
     "output_type": "stream",
     "text": [
      "Epoch 10: train loss :   0.105157   val loss :   0.190626   val score :   0.183457\n",
      "Epoch 00010: reducing learning rate of group 0 to 1.0000e-04.\n"
     ]
    },
    {
     "name": "stderr",
     "output_type": "stream",
     "text": [
      "100%|██████████| 39/39 [00:00<00:00, 110.71it/s]\n",
      "100%|██████████| 943/943 [00:03<00:00, 289.22it/s]\n"
     ]
    },
    {
     "name": "stdout",
     "output_type": "stream",
     "text": [
      "------ repeat : 4 ------\n",
      "------ epoch:1 ------\n"
     ]
    },
    {
     "name": "stderr",
     "output_type": "stream",
     "text": [
      "100%|██████████| 280/280 [00:03<00:00, 73.35it/s]\n",
      "100%|██████████| 70/70 [00:00<00:00, 137.53it/s]\n",
      "100%|██████████| 943/943 [00:00<00:00, 3159.55it/s]\n"
     ]
    },
    {
     "name": "stdout",
     "output_type": "stream",
     "text": [
      "Epoch 1: train loss :   0.351212   val loss :   0.206656   val score :   0.198303\n",
      "------ epoch:2 ------\n"
     ]
    },
    {
     "name": "stderr",
     "output_type": "stream",
     "text": [
      "100%|██████████| 280/280 [00:03<00:00, 74.33it/s]\n",
      "100%|██████████| 70/70 [00:00<00:00, 119.39it/s]\n",
      "100%|██████████| 943/943 [00:00<00:00, 3128.45it/s]\n"
     ]
    },
    {
     "name": "stdout",
     "output_type": "stream",
     "text": [
      "Epoch 2: train loss :   0.247970   val loss :   0.200058   val score :   0.201485\n",
      "------ epoch:3 ------\n"
     ]
    },
    {
     "name": "stderr",
     "output_type": "stream",
     "text": [
      "100%|██████████| 280/280 [00:03<00:00, 73.77it/s]\n",
      "100%|██████████| 70/70 [00:00<00:00, 118.41it/s]\n",
      "100%|██████████| 943/943 [00:00<00:00, 3014.97it/s]\n"
     ]
    },
    {
     "name": "stdout",
     "output_type": "stream",
     "text": [
      "Epoch 3: train loss :   0.231440   val loss :   0.195571   val score :   0.205726\n",
      "------ epoch:4 ------\n"
     ]
    },
    {
     "name": "stderr",
     "output_type": "stream",
     "text": [
      "100%|██████████| 280/280 [00:03<00:00, 72.95it/s]\n",
      "100%|██████████| 70/70 [00:00<00:00, 136.48it/s]\n",
      "100%|██████████| 943/943 [00:00<00:00, 3137.52it/s]\n"
     ]
    },
    {
     "name": "stdout",
     "output_type": "stream",
     "text": [
      "Epoch 4: train loss :   0.216299   val loss :   0.190869   val score :   0.211029\n",
      "------ epoch:5 ------\n"
     ]
    },
    {
     "name": "stderr",
     "output_type": "stream",
     "text": [
      "100%|██████████| 280/280 [00:03<00:00, 74.27it/s]\n",
      "100%|██████████| 70/70 [00:00<00:00, 119.32it/s]\n",
      "100%|██████████| 943/943 [00:00<00:00, 3148.84it/s]\n"
     ]
    },
    {
     "name": "stdout",
     "output_type": "stream",
     "text": [
      "Epoch 5: train loss :   0.202366   val loss :   0.189516   val score :   0.197243\n",
      "------ epoch:6 ------\n"
     ]
    },
    {
     "name": "stderr",
     "output_type": "stream",
     "text": [
      "100%|██████████| 280/280 [00:03<00:00, 74.92it/s]\n",
      "100%|██████████| 70/70 [00:00<00:00, 117.72it/s]\n",
      "100%|██████████| 943/943 [00:00<00:00, 3064.69it/s]\n"
     ]
    },
    {
     "name": "stdout",
     "output_type": "stream",
     "text": [
      "Epoch 6: train loss :   0.189366   val loss :   0.189756   val score :   0.188759\n",
      "------ epoch:7 ------\n"
     ]
    },
    {
     "name": "stderr",
     "output_type": "stream",
     "text": [
      "100%|██████████| 280/280 [00:03<00:00, 73.85it/s]\n",
      "100%|██████████| 70/70 [00:00<00:00, 117.99it/s]\n",
      "100%|██████████| 943/943 [00:00<00:00, 3128.86it/s]\n"
     ]
    },
    {
     "name": "stdout",
     "output_type": "stream",
     "text": [
      "Epoch 7: train loss :   0.174356   val loss :   0.192980   val score :   0.188759\n",
      "Epoch 00007: reducing learning rate of group 0 to 1.0000e-03.\n",
      "------ epoch:8 ------\n"
     ]
    },
    {
     "name": "stderr",
     "output_type": "stream",
     "text": [
      "100%|██████████| 280/280 [00:03<00:00, 76.64it/s]\n",
      "100%|██████████| 70/70 [00:00<00:00, 119.12it/s]\n",
      "100%|██████████| 943/943 [00:00<00:00, 3147.82it/s]\n"
     ]
    },
    {
     "name": "stdout",
     "output_type": "stream",
     "text": [
      "Epoch 8: train loss :   0.141457   val loss :   0.193364   val score :   0.190880\n",
      "------ epoch:9 ------\n"
     ]
    },
    {
     "name": "stderr",
     "output_type": "stream",
     "text": [
      "100%|██████████| 280/280 [00:03<00:00, 75.42it/s]\n",
      "100%|██████████| 70/70 [00:00<00:00, 119.19it/s]\n",
      "100%|██████████| 943/943 [00:00<00:00, 3135.39it/s]\n"
     ]
    },
    {
     "name": "stdout",
     "output_type": "stream",
     "text": [
      "Epoch 9: train loss :   0.137446   val loss :   0.193808   val score :   0.194062\n",
      "------ epoch:10 ------\n"
     ]
    },
    {
     "name": "stderr",
     "output_type": "stream",
     "text": [
      "100%|██████████| 280/280 [00:03<00:00, 71.40it/s]\n",
      "100%|██████████| 70/70 [00:00<00:00, 116.70it/s]\n",
      "100%|██████████| 943/943 [00:00<00:00, 3111.46it/s]\n"
     ]
    },
    {
     "name": "stdout",
     "output_type": "stream",
     "text": [
      "Epoch 10: train loss :   0.132523   val loss :   0.194254   val score :   0.193001\n",
      "Epoch 00010: reducing learning rate of group 0 to 1.0000e-04.\n"
     ]
    },
    {
     "name": "stderr",
     "output_type": "stream",
     "text": [
      "100%|██████████| 39/39 [00:00<00:00, 138.43it/s]\n",
      "100%|██████████| 943/943 [00:03<00:00, 286.83it/s]\n"
     ]
    },
    {
     "name": "stdout",
     "output_type": "stream",
     "text": [
      "------ repeat : 5 ------\n",
      "------ epoch:1 ------\n"
     ]
    },
    {
     "name": "stderr",
     "output_type": "stream",
     "text": [
      "100%|██████████| 280/280 [00:03<00:00, 75.42it/s]\n",
      "100%|██████████| 70/70 [00:00<00:00, 114.52it/s]\n",
      "100%|██████████| 943/943 [00:00<00:00, 3110.45it/s]\n"
     ]
    },
    {
     "name": "stdout",
     "output_type": "stream",
     "text": [
      "Epoch 1: train loss :   0.350500   val loss :   0.205954   val score :   0.187699\n",
      "------ epoch:2 ------\n"
     ]
    },
    {
     "name": "stderr",
     "output_type": "stream",
     "text": [
      "100%|██████████| 280/280 [00:03<00:00, 73.51it/s]\n",
      "100%|██████████| 70/70 [00:00<00:00, 115.36it/s]\n",
      "100%|██████████| 943/943 [00:00<00:00, 3147.94it/s]\n"
     ]
    },
    {
     "name": "stdout",
     "output_type": "stream",
     "text": [
      "Epoch 2: train loss :   0.248308   val loss :   0.199483   val score :   0.200424\n",
      "------ epoch:3 ------\n"
     ]
    },
    {
     "name": "stderr",
     "output_type": "stream",
     "text": [
      "100%|██████████| 280/280 [00:03<00:00, 74.39it/s]\n",
      "100%|██████████| 70/70 [00:00<00:00, 138.12it/s]\n",
      "100%|██████████| 943/943 [00:00<00:00, 3117.16it/s]\n"
     ]
    },
    {
     "name": "stdout",
     "output_type": "stream",
     "text": [
      "Epoch 3: train loss :   0.230241   val loss :   0.193474   val score :   0.199364\n",
      "------ epoch:4 ------\n"
     ]
    },
    {
     "name": "stderr",
     "output_type": "stream",
     "text": [
      "100%|██████████| 280/280 [00:03<00:00, 74.95it/s]\n",
      "100%|██████████| 70/70 [00:00<00:00, 119.64it/s]\n",
      "100%|██████████| 943/943 [00:00<00:00, 3177.78it/s]\n"
     ]
    },
    {
     "name": "stdout",
     "output_type": "stream",
     "text": [
      "Epoch 4: train loss :   0.214309   val loss :   0.189810   val score :   0.200424\n",
      "------ epoch:5 ------\n"
     ]
    },
    {
     "name": "stderr",
     "output_type": "stream",
     "text": [
      "100%|██████████| 280/280 [00:03<00:00, 74.89it/s]\n",
      "100%|██████████| 70/70 [00:00<00:00, 113.22it/s]\n",
      "100%|██████████| 943/943 [00:00<00:00, 3134.78it/s]\n"
     ]
    },
    {
     "name": "stdout",
     "output_type": "stream",
     "text": [
      "Epoch 5: train loss :   0.200709   val loss :   0.189269   val score :   0.198303\n",
      "Epoch 00005: reducing learning rate of group 0 to 1.0000e-03.\n",
      "------ epoch:6 ------\n"
     ]
    },
    {
     "name": "stderr",
     "output_type": "stream",
     "text": [
      "100%|██████████| 280/280 [00:03<00:00, 73.34it/s]\n",
      "100%|██████████| 70/70 [00:00<00:00, 136.91it/s]\n",
      "100%|██████████| 943/943 [00:00<00:00, 3164.70it/s]\n"
     ]
    },
    {
     "name": "stdout",
     "output_type": "stream",
     "text": [
      "Epoch 6: train loss :   0.180962   val loss :   0.189137   val score :   0.197243\n",
      "------ epoch:7 ------\n"
     ]
    },
    {
     "name": "stderr",
     "output_type": "stream",
     "text": [
      "100%|██████████| 280/280 [00:03<00:00, 72.26it/s]\n",
      "100%|██████████| 70/70 [00:00<00:00, 120.99it/s]\n",
      "100%|██████████| 943/943 [00:00<00:00, 3158.60it/s]\n"
     ]
    },
    {
     "name": "stdout",
     "output_type": "stream",
     "text": [
      "Epoch 7: train loss :   0.178533   val loss :   0.189096   val score :   0.201485\n",
      "------ epoch:8 ------\n"
     ]
    },
    {
     "name": "stderr",
     "output_type": "stream",
     "text": [
      "100%|██████████| 280/280 [00:03<00:00, 74.98it/s]\n",
      "100%|██████████| 70/70 [00:00<00:00, 120.28it/s]\n",
      "100%|██████████| 943/943 [00:00<00:00, 3133.18it/s]\n"
     ]
    },
    {
     "name": "stdout",
     "output_type": "stream",
     "text": [
      "Epoch 8: train loss :   0.176970   val loss :   0.189066   val score :   0.200424\n",
      "------ epoch:9 ------\n"
     ]
    },
    {
     "name": "stderr",
     "output_type": "stream",
     "text": [
      "100%|██████████| 280/280 [00:03<00:00, 74.53it/s]\n",
      "100%|██████████| 70/70 [00:00<00:00, 118.95it/s]\n",
      "100%|██████████| 943/943 [00:00<00:00, 3140.72it/s]\n"
     ]
    },
    {
     "name": "stdout",
     "output_type": "stream",
     "text": [
      "Epoch 9: train loss :   0.174927   val loss :   0.189111   val score :   0.198303\n",
      "------ epoch:10 ------\n"
     ]
    },
    {
     "name": "stderr",
     "output_type": "stream",
     "text": [
      "100%|██████████| 280/280 [00:03<00:00, 75.96it/s]\n",
      "100%|██████████| 70/70 [00:00<00:00, 138.54it/s]\n",
      "100%|██████████| 943/943 [00:00<00:00, 3181.81it/s]\n"
     ]
    },
    {
     "name": "stdout",
     "output_type": "stream",
     "text": [
      "Epoch 10: train loss :   0.173328   val loss :   0.189182   val score :   0.201485\n",
      "Epoch 00010: reducing learning rate of group 0 to 1.0000e-04.\n",
      "------ epoch:11 ------\n"
     ]
    },
    {
     "name": "stderr",
     "output_type": "stream",
     "text": [
      "100%|██████████| 280/280 [00:03<00:00, 74.32it/s]\n",
      "100%|██████████| 70/70 [00:00<00:00, 119.04it/s]\n",
      "100%|██████████| 943/943 [00:00<00:00, 3098.52it/s]\n"
     ]
    },
    {
     "name": "stdout",
     "output_type": "stream",
     "text": [
      "Epoch 11: train loss :   0.170670   val loss :   0.189192   val score :   0.201485\n",
      "------ epoch:12 ------\n"
     ]
    },
    {
     "name": "stderr",
     "output_type": "stream",
     "text": [
      "100%|██████████| 280/280 [00:03<00:00, 73.48it/s]\n",
      "100%|██████████| 70/70 [00:00<00:00, 120.79it/s]\n",
      "100%|██████████| 943/943 [00:00<00:00, 3179.69it/s]\n"
     ]
    },
    {
     "name": "stdout",
     "output_type": "stream",
     "text": [
      "Epoch 12: train loss :   0.170574   val loss :   0.189204   val score :   0.201485\n",
      "------ epoch:13 ------\n"
     ]
    },
    {
     "name": "stderr",
     "output_type": "stream",
     "text": [
      "100%|██████████| 280/280 [00:03<00:00, 75.71it/s]\n",
      "100%|██████████| 70/70 [00:00<00:00, 130.32it/s]\n",
      "100%|██████████| 943/943 [00:00<00:00, 3094.17it/s]\n"
     ]
    },
    {
     "name": "stdout",
     "output_type": "stream",
     "text": [
      "Epoch 13: train loss :   0.170074   val loss :   0.189212   val score :   0.201485\n",
      "Epoch 00013: reducing learning rate of group 0 to 1.0000e-05.\n"
     ]
    },
    {
     "name": "stderr",
     "output_type": "stream",
     "text": [
      "100%|██████████| 39/39 [00:00<00:00, 109.54it/s]\n",
      "100%|██████████| 943/943 [00:03<00:00, 286.79it/s]\n"
     ]
    }
   ],
   "source": [
    "embedding_dim = 10\n",
    "lr = 1e-2\n",
    "alpha = 1e-2\n",
    "theta_clip = 0.1\n",
    "model_type = 3\n",
    "seed_everything(42)\n",
    "Test2(train, test, percentage, model_type, num_users=num_users, num_items=num_items, repeats=5, theta_clip=theta_clip, \n",
    "     embedding_dim=embedding_dim, lr=lr, alpha=alpha, patience=5, epochs=30, device=\"cuda:0\", model_selection=False)"
   ]
  },
  {
   "cell_type": "markdown",
   "id": "122ecb9f-c71e-4ed0-a171-7d1740c88d6e",
   "metadata": {},
   "source": [
    "### 4"
   ]
  },
  {
   "cell_type": "code",
   "execution_count": 11,
   "id": "6b11fced-5d9b-4ba4-9e53-ecca74cc9411",
   "metadata": {
    "collapsed": true,
    "jupyter": {
     "outputs_hidden": true
    },
    "tags": []
   },
   "outputs": [
    {
     "name": "stdout",
     "output_type": "stream",
     "text": [
      "------ repeat : 1 ------\n"
     ]
    },
    {
     "name": "stderr",
     "output_type": "stream",
     "text": [
      "100%|██████████| 943/943 [00:08<00:00, 105.80it/s]\n"
     ]
    },
    {
     "name": "stdout",
     "output_type": "stream",
     "text": [
      "------ epoch:1 ------\n"
     ]
    },
    {
     "name": "stderr",
     "output_type": "stream",
     "text": [
      "100%|██████████| 280/280 [00:03<00:00, 71.88it/s]\n",
      "100%|██████████| 70/70 [00:00<00:00, 116.92it/s]\n",
      "100%|██████████| 943/943 [00:00<00:00, 2526.02it/s]\n"
     ]
    },
    {
     "name": "stdout",
     "output_type": "stream",
     "text": [
      "Epoch 1: train loss :   0.206020   val loss :   0.170562   val score :   0.162248\n",
      "------ epoch:2 ------\n"
     ]
    },
    {
     "name": "stderr",
     "output_type": "stream",
     "text": [
      "100%|██████████| 280/280 [00:03<00:00, 72.20it/s]\n",
      "100%|██████████| 70/70 [00:00<00:00, 117.24it/s]\n",
      "100%|██████████| 943/943 [00:00<00:00, 2454.01it/s]\n"
     ]
    },
    {
     "name": "stdout",
     "output_type": "stream",
     "text": [
      "Epoch 2: train loss :   0.176611   val loss :   0.170701   val score :   0.146341\n",
      "------ epoch:3 ------\n"
     ]
    },
    {
     "name": "stderr",
     "output_type": "stream",
     "text": [
      "100%|██████████| 280/280 [00:03<00:00, 74.71it/s]\n",
      "100%|██████████| 70/70 [00:00<00:00, 117.15it/s]\n",
      "100%|██████████| 943/943 [00:00<00:00, 2439.36it/s]\n"
     ]
    },
    {
     "name": "stdout",
     "output_type": "stream",
     "text": [
      "Epoch 3: train loss :   0.177774   val loss :   0.170730   val score :   0.163309\n",
      "------ epoch:4 ------\n"
     ]
    },
    {
     "name": "stderr",
     "output_type": "stream",
     "text": [
      "100%|██████████| 280/280 [00:03<00:00, 74.70it/s]\n",
      "100%|██████████| 70/70 [00:00<00:00, 133.61it/s]\n",
      "100%|██████████| 943/943 [00:00<00:00, 2403.87it/s]\n"
     ]
    },
    {
     "name": "stdout",
     "output_type": "stream",
     "text": [
      "Epoch 4: train loss :   0.177538   val loss :   0.170799   val score :   0.151644\n",
      "------ epoch:5 ------\n"
     ]
    },
    {
     "name": "stderr",
     "output_type": "stream",
     "text": [
      "100%|██████████| 280/280 [00:03<00:00, 72.79it/s]\n",
      "100%|██████████| 70/70 [00:00<00:00, 109.42it/s]\n",
      "100%|██████████| 943/943 [00:00<00:00, 2551.94it/s]\n"
     ]
    },
    {
     "name": "stdout",
     "output_type": "stream",
     "text": [
      "Epoch 5: train loss :   0.177979   val loss :   0.171027   val score :   0.129374\n",
      "------ epoch:6 ------\n"
     ]
    },
    {
     "name": "stderr",
     "output_type": "stream",
     "text": [
      "100%|██████████| 280/280 [00:03<00:00, 74.56it/s]\n",
      "100%|██████████| 70/70 [00:00<00:00, 113.03it/s]\n",
      "100%|██████████| 943/943 [00:00<00:00, 2611.19it/s]\n"
     ]
    },
    {
     "name": "stdout",
     "output_type": "stream",
     "text": [
      "Epoch 6: train loss :   0.177964   val loss :   0.170911   val score :   0.154825\n",
      "Epoch 00006: reducing learning rate of group 0 to 1.0000e-02.\n",
      "------ epoch:7 ------\n"
     ]
    },
    {
     "name": "stderr",
     "output_type": "stream",
     "text": [
      "100%|██████████| 280/280 [00:03<00:00, 74.05it/s]\n",
      "100%|██████████| 70/70 [00:00<00:00, 132.01it/s]\n",
      "100%|██████████| 943/943 [00:00<00:00, 2965.25it/s]\n"
     ]
    },
    {
     "name": "stdout",
     "output_type": "stream",
     "text": [
      "Epoch 7: train loss :   0.175290   val loss :   0.170612   val score :   0.197243\n",
      "------ epoch:8 ------\n"
     ]
    },
    {
     "name": "stderr",
     "output_type": "stream",
     "text": [
      "100%|██████████| 280/280 [00:03<00:00, 72.57it/s]\n",
      "100%|██████████| 70/70 [00:00<00:00, 115.60it/s]\n",
      "100%|██████████| 943/943 [00:00<00:00, 3098.86it/s]\n"
     ]
    },
    {
     "name": "stdout",
     "output_type": "stream",
     "text": [
      "Epoch 8: train loss :   0.175132   val loss :   0.170536   val score :   0.202545\n",
      "------ epoch:9 ------\n"
     ]
    },
    {
     "name": "stderr",
     "output_type": "stream",
     "text": [
      "100%|██████████| 280/280 [00:03<00:00, 72.16it/s]\n",
      "100%|██████████| 70/70 [00:00<00:00, 115.38it/s]\n",
      "100%|██████████| 943/943 [00:00<00:00, 2986.29it/s]\n"
     ]
    },
    {
     "name": "stdout",
     "output_type": "stream",
     "text": [
      "Epoch 9: train loss :   0.175202   val loss :   0.170467   val score :   0.187699\n",
      "------ epoch:10 ------\n"
     ]
    },
    {
     "name": "stderr",
     "output_type": "stream",
     "text": [
      "100%|██████████| 280/280 [00:03<00:00, 74.14it/s]\n",
      "100%|██████████| 70/70 [00:00<00:00, 134.24it/s]\n",
      "100%|██████████| 943/943 [00:00<00:00, 2987.58it/s]\n"
     ]
    },
    {
     "name": "stdout",
     "output_type": "stream",
     "text": [
      "Epoch 10: train loss :   0.175181   val loss :   0.170525   val score :   0.189820\n",
      "------ epoch:11 ------\n"
     ]
    },
    {
     "name": "stderr",
     "output_type": "stream",
     "text": [
      "100%|██████████| 280/280 [00:03<00:00, 73.25it/s]\n",
      "100%|██████████| 70/70 [00:00<00:00, 114.72it/s]\n",
      "100%|██████████| 943/943 [00:00<00:00, 2853.58it/s]\n"
     ]
    },
    {
     "name": "stdout",
     "output_type": "stream",
     "text": [
      "Epoch 11: train loss :   0.175212   val loss :   0.170550   val score :   0.188759\n",
      "Epoch 00011: reducing learning rate of group 0 to 1.0000e-03.\n",
      "------ epoch:12 ------\n"
     ]
    },
    {
     "name": "stderr",
     "output_type": "stream",
     "text": [
      "100%|██████████| 280/280 [00:03<00:00, 72.51it/s]\n",
      "100%|██████████| 70/70 [00:00<00:00, 114.97it/s]\n",
      "100%|██████████| 943/943 [00:00<00:00, 2601.37it/s]\n"
     ]
    },
    {
     "name": "stdout",
     "output_type": "stream",
     "text": [
      "Epoch 12: train loss :   0.175080   val loss :   0.170513   val score :   0.229056\n",
      "------ epoch:13 ------\n"
     ]
    },
    {
     "name": "stderr",
     "output_type": "stream",
     "text": [
      "100%|██████████| 280/280 [00:03<00:00, 73.73it/s]\n",
      "100%|██████████| 70/70 [00:00<00:00, 132.82it/s]\n",
      "100%|██████████| 943/943 [00:00<00:00, 2523.51it/s]\n"
     ]
    },
    {
     "name": "stdout",
     "output_type": "stream",
     "text": [
      "Epoch 13: train loss :   0.175046   val loss :   0.170507   val score :   0.221633\n",
      "------ epoch:14 ------\n"
     ]
    },
    {
     "name": "stderr",
     "output_type": "stream",
     "text": [
      "100%|██████████| 280/280 [00:03<00:00, 72.59it/s]\n",
      "100%|██████████| 70/70 [00:00<00:00, 116.93it/s]\n",
      "100%|██████████| 943/943 [00:00<00:00, 2571.83it/s]\n"
     ]
    },
    {
     "name": "stdout",
     "output_type": "stream",
     "text": [
      "Epoch 14: train loss :   0.174998   val loss :   0.170505   val score :   0.227996\n",
      "------ epoch:15 ------\n"
     ]
    },
    {
     "name": "stderr",
     "output_type": "stream",
     "text": [
      "100%|██████████| 280/280 [00:03<00:00, 74.69it/s]\n",
      "100%|██████████| 70/70 [00:00<00:00, 115.77it/s]\n",
      "100%|██████████| 943/943 [00:00<00:00, 2420.44it/s]\n"
     ]
    },
    {
     "name": "stdout",
     "output_type": "stream",
     "text": [
      "Epoch 15: train loss :   0.174977   val loss :   0.170502   val score :   0.232238\n",
      "------ epoch:16 ------\n"
     ]
    },
    {
     "name": "stderr",
     "output_type": "stream",
     "text": [
      "100%|██████████| 280/280 [00:03<00:00, 74.02it/s]\n",
      "100%|██████████| 70/70 [00:00<00:00, 117.04it/s]\n",
      "100%|██████████| 943/943 [00:00<00:00, 2371.89it/s]\n"
     ]
    },
    {
     "name": "stdout",
     "output_type": "stream",
     "text": [
      "Epoch 16: train loss :   0.175039   val loss :   0.170512   val score :   0.225875\n",
      "------ epoch:17 ------\n"
     ]
    },
    {
     "name": "stderr",
     "output_type": "stream",
     "text": [
      "100%|██████████| 280/280 [00:03<00:00, 74.97it/s]\n",
      "100%|██████████| 70/70 [00:00<00:00, 117.46it/s]\n",
      "100%|██████████| 943/943 [00:00<00:00, 2602.90it/s]\n"
     ]
    },
    {
     "name": "stdout",
     "output_type": "stream",
     "text": [
      "Epoch 17: train loss :   0.175040   val loss :   0.170508   val score :   0.227996\n",
      "------ epoch:18 ------\n"
     ]
    },
    {
     "name": "stderr",
     "output_type": "stream",
     "text": [
      "100%|██████████| 280/280 [00:03<00:00, 74.68it/s]\n",
      "100%|██████████| 70/70 [00:00<00:00, 117.05it/s]\n",
      "100%|██████████| 943/943 [00:00<00:00, 2519.78it/s]\n"
     ]
    },
    {
     "name": "stdout",
     "output_type": "stream",
     "text": [
      "Epoch 18: train loss :   0.175011   val loss :   0.170502   val score :   0.217391\n",
      "Epoch 00018: reducing learning rate of group 0 to 1.0000e-04.\n",
      "------ epoch:19 ------\n"
     ]
    },
    {
     "name": "stderr",
     "output_type": "stream",
     "text": [
      "100%|██████████| 280/280 [00:03<00:00, 74.01it/s]\n",
      "100%|██████████| 70/70 [00:00<00:00, 118.01it/s]\n",
      "100%|██████████| 943/943 [00:00<00:00, 2417.64it/s]\n"
     ]
    },
    {
     "name": "stdout",
     "output_type": "stream",
     "text": [
      "Epoch 19: train loss :   0.175010   val loss :   0.170505   val score :   0.218452\n",
      "------ epoch:20 ------\n"
     ]
    },
    {
     "name": "stderr",
     "output_type": "stream",
     "text": [
      "100%|██████████| 280/280 [00:03<00:00, 73.57it/s]\n",
      "100%|██████████| 70/70 [00:00<00:00, 134.01it/s]\n",
      "100%|██████████| 943/943 [00:00<00:00, 2511.94it/s]\n"
     ]
    },
    {
     "name": "stdout",
     "output_type": "stream",
     "text": [
      "Epoch 20: train loss :   0.175059   val loss :   0.170505   val score :   0.221633\n",
      "------ epoch:21 ------\n"
     ]
    },
    {
     "name": "stderr",
     "output_type": "stream",
     "text": [
      "100%|██████████| 280/280 [00:03<00:00, 74.80it/s]\n",
      "100%|██████████| 70/70 [00:00<00:00, 117.19it/s]\n",
      "100%|██████████| 943/943 [00:00<00:00, 2418.97it/s]\n"
     ]
    },
    {
     "name": "stdout",
     "output_type": "stream",
     "text": [
      "Epoch 21: train loss :   0.174985   val loss :   0.170505   val score :   0.224814\n",
      "Epoch 00021: reducing learning rate of group 0 to 1.0000e-05.\n"
     ]
    },
    {
     "name": "stderr",
     "output_type": "stream",
     "text": [
      "100%|██████████| 39/39 [00:00<00:00, 108.12it/s]\n",
      "100%|██████████| 943/943 [00:04<00:00, 221.62it/s]\n"
     ]
    },
    {
     "name": "stdout",
     "output_type": "stream",
     "text": [
      "------ repeat : 2 ------\n"
     ]
    },
    {
     "name": "stderr",
     "output_type": "stream",
     "text": [
      "100%|██████████| 943/943 [00:08<00:00, 106.47it/s]\n"
     ]
    },
    {
     "name": "stdout",
     "output_type": "stream",
     "text": [
      "------ epoch:1 ------\n"
     ]
    },
    {
     "name": "stderr",
     "output_type": "stream",
     "text": [
      "100%|██████████| 280/280 [00:03<00:00, 75.09it/s]\n",
      "100%|██████████| 70/70 [00:00<00:00, 131.78it/s]\n",
      "100%|██████████| 943/943 [00:00<00:00, 1421.98it/s]\n"
     ]
    },
    {
     "name": "stdout",
     "output_type": "stream",
     "text": [
      "Epoch 1: train loss :   0.205706   val loss :   0.170572   val score :   0.161188\n",
      "------ epoch:2 ------\n"
     ]
    },
    {
     "name": "stderr",
     "output_type": "stream",
     "text": [
      "100%|██████████| 280/280 [00:03<00:00, 72.98it/s]\n",
      "100%|██████████| 70/70 [00:00<00:00, 108.84it/s]\n",
      "100%|██████████| 943/943 [00:00<00:00, 2516.58it/s]\n"
     ]
    },
    {
     "name": "stdout",
     "output_type": "stream",
     "text": [
      "Epoch 2: train loss :   0.176601   val loss :   0.170679   val score :   0.155885\n",
      "------ epoch:3 ------\n"
     ]
    },
    {
     "name": "stderr",
     "output_type": "stream",
     "text": [
      "100%|██████████| 280/280 [00:03<00:00, 74.37it/s]\n",
      "100%|██████████| 70/70 [00:00<00:00, 116.26it/s]\n",
      "100%|██████████| 943/943 [00:00<00:00, 2494.70it/s]\n"
     ]
    },
    {
     "name": "stdout",
     "output_type": "stream",
     "text": [
      "Epoch 3: train loss :   0.177747   val loss :   0.170444   val score :   0.160127\n",
      "------ epoch:4 ------\n"
     ]
    },
    {
     "name": "stderr",
     "output_type": "stream",
     "text": [
      "100%|██████████| 280/280 [00:03<00:00, 75.35it/s]\n",
      "100%|██████████| 70/70 [00:00<00:00, 134.71it/s]\n",
      "100%|██████████| 943/943 [00:00<00:00, 2072.59it/s]\n"
     ]
    },
    {
     "name": "stdout",
     "output_type": "stream",
     "text": [
      "Epoch 4: train loss :   0.177627   val loss :   0.170638   val score :   0.142100\n",
      "Epoch 00004: reducing learning rate of group 0 to 1.0000e-02.\n",
      "------ epoch:5 ------\n"
     ]
    },
    {
     "name": "stderr",
     "output_type": "stream",
     "text": [
      "100%|██████████| 280/280 [00:03<00:00, 75.04it/s]\n",
      "100%|██████████| 70/70 [00:00<00:00, 119.22it/s]\n",
      "100%|██████████| 943/943 [00:00<00:00, 1407.44it/s]\n"
     ]
    },
    {
     "name": "stdout",
     "output_type": "stream",
     "text": [
      "Epoch 5: train loss :   0.175296   val loss :   0.170536   val score :   0.191941\n",
      "------ epoch:6 ------\n"
     ]
    },
    {
     "name": "stderr",
     "output_type": "stream",
     "text": [
      "100%|██████████| 280/280 [00:03<00:00, 74.41it/s]\n",
      "100%|██████████| 70/70 [00:00<00:00, 119.33it/s]\n",
      "100%|██████████| 943/943 [00:00<00:00, 2449.00it/s]\n"
     ]
    },
    {
     "name": "stdout",
     "output_type": "stream",
     "text": [
      "Epoch 6: train loss :   0.175209   val loss :   0.170493   val score :   0.198303\n",
      "------ epoch:7 ------\n"
     ]
    },
    {
     "name": "stderr",
     "output_type": "stream",
     "text": [
      "100%|██████████| 280/280 [00:03<00:00, 73.71it/s]\n",
      "100%|██████████| 70/70 [00:00<00:00, 118.51it/s]\n",
      "100%|██████████| 943/943 [00:00<00:00, 2966.69it/s]\n"
     ]
    },
    {
     "name": "stdout",
     "output_type": "stream",
     "text": [
      "Epoch 7: train loss :   0.175177   val loss :   0.170527   val score :   0.190880\n",
      "------ epoch:8 ------\n"
     ]
    },
    {
     "name": "stderr",
     "output_type": "stream",
     "text": [
      "100%|██████████| 280/280 [00:03<00:00, 74.56it/s]\n",
      "100%|██████████| 70/70 [00:00<00:00, 134.70it/s]\n",
      "100%|██████████| 943/943 [00:00<00:00, 2677.14it/s]\n"
     ]
    },
    {
     "name": "stdout",
     "output_type": "stream",
     "text": [
      "Epoch 8: train loss :   0.175140   val loss :   0.170538   val score :   0.200424\n",
      "------ epoch:9 ------\n"
     ]
    },
    {
     "name": "stderr",
     "output_type": "stream",
     "text": [
      "100%|██████████| 280/280 [00:03<00:00, 72.81it/s]\n",
      "100%|██████████| 70/70 [00:00<00:00, 116.83it/s]\n",
      "100%|██████████| 943/943 [00:00<00:00, 2394.09it/s]\n"
     ]
    },
    {
     "name": "stdout",
     "output_type": "stream",
     "text": [
      "Epoch 9: train loss :   0.175170   val loss :   0.170579   val score :   0.178155\n",
      "------ epoch:10 ------\n"
     ]
    },
    {
     "name": "stderr",
     "output_type": "stream",
     "text": [
      "100%|██████████| 280/280 [00:03<00:00, 74.86it/s]\n",
      "100%|██████████| 70/70 [00:00<00:00, 117.67it/s]\n",
      "100%|██████████| 943/943 [00:00<00:00, 2387.52it/s]\n"
     ]
    },
    {
     "name": "stdout",
     "output_type": "stream",
     "text": [
      "Epoch 10: train loss :   0.175168   val loss :   0.170558   val score :   0.201485\n",
      "------ epoch:11 ------\n"
     ]
    },
    {
     "name": "stderr",
     "output_type": "stream",
     "text": [
      "100%|██████████| 280/280 [00:03<00:00, 74.66it/s]\n",
      "100%|██████████| 70/70 [00:00<00:00, 134.55it/s]\n",
      "100%|██████████| 943/943 [00:00<00:00, 2383.66it/s]\n"
     ]
    },
    {
     "name": "stdout",
     "output_type": "stream",
     "text": [
      "Epoch 11: train loss :   0.175203   val loss :   0.170541   val score :   0.188759\n",
      "------ epoch:12 ------\n"
     ]
    },
    {
     "name": "stderr",
     "output_type": "stream",
     "text": [
      "100%|██████████| 280/280 [00:03<00:00, 72.55it/s]\n",
      "100%|██████████| 70/70 [00:00<00:00, 116.80it/s]\n",
      "100%|██████████| 943/943 [00:00<00:00, 2428.89it/s]\n"
     ]
    },
    {
     "name": "stdout",
     "output_type": "stream",
     "text": [
      "Epoch 12: train loss :   0.175210   val loss :   0.170576   val score :   0.182397\n",
      "------ epoch:13 ------\n"
     ]
    },
    {
     "name": "stderr",
     "output_type": "stream",
     "text": [
      "100%|██████████| 280/280 [00:03<00:00, 74.69it/s]\n",
      "100%|██████████| 70/70 [00:00<00:00, 118.06it/s]\n",
      "100%|██████████| 943/943 [00:00<00:00, 2432.05it/s]\n"
     ]
    },
    {
     "name": "stdout",
     "output_type": "stream",
     "text": [
      "Epoch 13: train loss :   0.175253   val loss :   0.170494   val score :   0.185578\n",
      "Epoch 00013: reducing learning rate of group 0 to 1.0000e-03.\n",
      "------ epoch:14 ------\n"
     ]
    },
    {
     "name": "stderr",
     "output_type": "stream",
     "text": [
      "100%|██████████| 280/280 [00:03<00:00, 74.37it/s]\n",
      "100%|██████████| 70/70 [00:00<00:00, 132.21it/s]\n",
      "100%|██████████| 943/943 [00:00<00:00, 1415.83it/s]\n"
     ]
    },
    {
     "name": "stdout",
     "output_type": "stream",
     "text": [
      "Epoch 14: train loss :   0.175080   val loss :   0.170494   val score :   0.203606\n",
      "------ epoch:15 ------\n"
     ]
    },
    {
     "name": "stderr",
     "output_type": "stream",
     "text": [
      "100%|██████████| 280/280 [00:03<00:00, 71.76it/s]\n",
      "100%|██████████| 70/70 [00:00<00:00, 121.50it/s]\n",
      "100%|██████████| 943/943 [00:00<00:00, 3168.92it/s]\n"
     ]
    },
    {
     "name": "stdout",
     "output_type": "stream",
     "text": [
      "Epoch 15: train loss :   0.175013   val loss :   0.170497   val score :   0.218452\n",
      "------ epoch:16 ------\n"
     ]
    },
    {
     "name": "stderr",
     "output_type": "stream",
     "text": [
      "100%|██████████| 280/280 [00:03<00:00, 75.58it/s]\n",
      "100%|██████████| 70/70 [00:00<00:00, 120.58it/s]\n",
      "100%|██████████| 943/943 [00:00<00:00, 3167.64it/s]\n"
     ]
    },
    {
     "name": "stdout",
     "output_type": "stream",
     "text": [
      "Epoch 16: train loss :   0.174974   val loss :   0.170505   val score :   0.214210\n",
      "------ epoch:17 ------\n"
     ]
    },
    {
     "name": "stderr",
     "output_type": "stream",
     "text": [
      "100%|██████████| 280/280 [00:03<00:00, 75.43it/s]\n",
      "100%|██████████| 70/70 [00:00<00:00, 139.05it/s]\n",
      "100%|██████████| 943/943 [00:00<00:00, 3200.55it/s]\n"
     ]
    },
    {
     "name": "stdout",
     "output_type": "stream",
     "text": [
      "Epoch 17: train loss :   0.174990   val loss :   0.170514   val score :   0.214210\n",
      "------ epoch:18 ------\n"
     ]
    },
    {
     "name": "stderr",
     "output_type": "stream",
     "text": [
      "100%|██████████| 280/280 [00:03<00:00, 73.51it/s]\n",
      "100%|██████████| 70/70 [00:00<00:00, 119.93it/s]\n",
      "100%|██████████| 943/943 [00:00<00:00, 3057.99it/s]\n"
     ]
    },
    {
     "name": "stdout",
     "output_type": "stream",
     "text": [
      "Epoch 18: train loss :   0.175029   val loss :   0.170506   val score :   0.215270\n",
      "Epoch 00018: reducing learning rate of group 0 to 1.0000e-04.\n",
      "------ epoch:19 ------\n"
     ]
    },
    {
     "name": "stderr",
     "output_type": "stream",
     "text": [
      "100%|██████████| 280/280 [00:03<00:00, 75.57it/s]\n",
      "100%|██████████| 70/70 [00:00<00:00, 120.74it/s]\n",
      "100%|██████████| 943/943 [00:00<00:00, 3172.24it/s]\n"
     ]
    },
    {
     "name": "stdout",
     "output_type": "stream",
     "text": [
      "Epoch 19: train loss :   0.175002   val loss :   0.170506   val score :   0.215270\n",
      "------ epoch:20 ------\n"
     ]
    },
    {
     "name": "stderr",
     "output_type": "stream",
     "text": [
      "100%|██████████| 280/280 [00:03<00:00, 76.02it/s]\n",
      "100%|██████████| 70/70 [00:00<00:00, 139.26it/s]\n",
      "100%|██████████| 943/943 [00:00<00:00, 3179.15it/s]\n"
     ]
    },
    {
     "name": "stdout",
     "output_type": "stream",
     "text": [
      "Epoch 20: train loss :   0.174969   val loss :   0.170506   val score :   0.211029\n",
      "------ epoch:21 ------\n"
     ]
    },
    {
     "name": "stderr",
     "output_type": "stream",
     "text": [
      "100%|██████████| 280/280 [00:03<00:00, 76.20it/s]\n",
      "100%|██████████| 70/70 [00:00<00:00, 118.70it/s]\n",
      "100%|██████████| 943/943 [00:00<00:00, 3096.37it/s]\n"
     ]
    },
    {
     "name": "stdout",
     "output_type": "stream",
     "text": [
      "Epoch 21: train loss :   0.175018   val loss :   0.170507   val score :   0.209968\n",
      "Epoch 00021: reducing learning rate of group 0 to 1.0000e-05.\n"
     ]
    },
    {
     "name": "stderr",
     "output_type": "stream",
     "text": [
      "100%|██████████| 39/39 [00:00<00:00, 104.29it/s]\n",
      "100%|██████████| 943/943 [00:03<00:00, 288.89it/s]\n"
     ]
    },
    {
     "name": "stdout",
     "output_type": "stream",
     "text": [
      "------ repeat : 3 ------\n"
     ]
    },
    {
     "name": "stderr",
     "output_type": "stream",
     "text": [
      "100%|██████████| 943/943 [00:08<00:00, 107.87it/s]\n"
     ]
    },
    {
     "name": "stdout",
     "output_type": "stream",
     "text": [
      "------ epoch:1 ------\n"
     ]
    },
    {
     "name": "stderr",
     "output_type": "stream",
     "text": [
      "100%|██████████| 280/280 [00:03<00:00, 70.13it/s]\n",
      "100%|██████████| 70/70 [00:00<00:00, 136.17it/s]\n",
      "100%|██████████| 943/943 [00:00<00:00, 2937.69it/s]\n"
     ]
    },
    {
     "name": "stdout",
     "output_type": "stream",
     "text": [
      "Epoch 1: train loss :   0.205831   val loss :   0.170742   val score :   0.142100\n",
      "------ epoch:2 ------\n"
     ]
    },
    {
     "name": "stderr",
     "output_type": "stream",
     "text": [
      "100%|██████████| 280/280 [00:04<00:00, 69.31it/s]\n",
      "100%|██████████| 70/70 [00:00<00:00, 103.45it/s]\n",
      "100%|██████████| 943/943 [00:00<00:00, 2833.80it/s]\n"
     ]
    },
    {
     "name": "stdout",
     "output_type": "stream",
     "text": [
      "Epoch 2: train loss :   0.176604   val loss :   0.170790   val score :   0.158006\n",
      "------ epoch:3 ------\n"
     ]
    },
    {
     "name": "stderr",
     "output_type": "stream",
     "text": [
      "100%|██████████| 280/280 [00:03<00:00, 70.97it/s]\n",
      "100%|██████████| 70/70 [00:00<00:00, 112.35it/s]\n",
      "100%|██████████| 943/943 [00:00<00:00, 3081.54it/s]\n"
     ]
    },
    {
     "name": "stdout",
     "output_type": "stream",
     "text": [
      "Epoch 3: train loss :   0.177713   val loss :   0.170833   val score :   0.152704\n",
      "------ epoch:4 ------\n"
     ]
    },
    {
     "name": "stderr",
     "output_type": "stream",
     "text": [
      "100%|██████████| 280/280 [00:04<00:00, 66.50it/s]\n",
      "100%|██████████| 70/70 [00:00<00:00, 115.02it/s]\n",
      "100%|██████████| 943/943 [00:00<00:00, 2910.08it/s]\n"
     ]
    },
    {
     "name": "stdout",
     "output_type": "stream",
     "text": [
      "Epoch 4: train loss :   0.177635   val loss :   0.170764   val score :   0.164369\n",
      "------ epoch:5 ------\n"
     ]
    },
    {
     "name": "stderr",
     "output_type": "stream",
     "text": [
      "100%|██████████| 280/280 [00:03<00:00, 71.90it/s]\n",
      "100%|██████████| 70/70 [00:00<00:00, 135.36it/s]\n",
      "100%|██████████| 943/943 [00:00<00:00, 3029.23it/s]\n"
     ]
    },
    {
     "name": "stdout",
     "output_type": "stream",
     "text": [
      "Epoch 5: train loss :   0.177976   val loss :   0.170925   val score :   0.138918\n",
      "------ epoch:6 ------\n"
     ]
    },
    {
     "name": "stderr",
     "output_type": "stream",
     "text": [
      "100%|██████████| 280/280 [00:03<00:00, 73.53it/s]\n",
      "100%|██████████| 70/70 [00:00<00:00, 119.23it/s]\n",
      "100%|██████████| 943/943 [00:00<00:00, 3177.12it/s]\n"
     ]
    },
    {
     "name": "stdout",
     "output_type": "stream",
     "text": [
      "Epoch 6: train loss :   0.177986   val loss :   0.170769   val score :   0.131495\n",
      "------ epoch:7 ------\n"
     ]
    },
    {
     "name": "stderr",
     "output_type": "stream",
     "text": [
      "100%|██████████| 280/280 [00:03<00:00, 73.44it/s]\n",
      "100%|██████████| 70/70 [00:00<00:00, 116.49it/s]\n",
      "100%|██████████| 943/943 [00:00<00:00, 3083.68it/s]\n"
     ]
    },
    {
     "name": "stdout",
     "output_type": "stream",
     "text": [
      "Epoch 7: train loss :   0.177986   val loss :   0.170872   val score :   0.151644\n",
      "Epoch 00007: reducing learning rate of group 0 to 1.0000e-02.\n",
      "------ epoch:8 ------\n"
     ]
    },
    {
     "name": "stderr",
     "output_type": "stream",
     "text": [
      "100%|██████████| 280/280 [00:03<00:00, 75.25it/s]\n",
      "100%|██████████| 70/70 [00:00<00:00, 137.30it/s]\n",
      "100%|██████████| 943/943 [00:00<00:00, 3176.72it/s]\n"
     ]
    },
    {
     "name": "stdout",
     "output_type": "stream",
     "text": [
      "Epoch 8: train loss :   0.175367   val loss :   0.170496   val score :   0.205726\n",
      "------ epoch:9 ------\n"
     ]
    },
    {
     "name": "stderr",
     "output_type": "stream",
     "text": [
      "100%|██████████| 280/280 [00:03<00:00, 74.47it/s]\n",
      "100%|██████████| 70/70 [00:00<00:00, 116.34it/s]\n",
      "100%|██████████| 943/943 [00:00<00:00, 3170.53it/s]\n"
     ]
    },
    {
     "name": "stdout",
     "output_type": "stream",
     "text": [
      "Epoch 9: train loss :   0.175202   val loss :   0.170526   val score :   0.176034\n",
      "------ epoch:10 ------\n"
     ]
    },
    {
     "name": "stderr",
     "output_type": "stream",
     "text": [
      "100%|██████████| 280/280 [00:03<00:00, 75.36it/s]\n",
      "100%|██████████| 70/70 [00:00<00:00, 114.64it/s]\n",
      "100%|██████████| 943/943 [00:00<00:00, 3105.33it/s]\n"
     ]
    },
    {
     "name": "stdout",
     "output_type": "stream",
     "text": [
      "Epoch 10: train loss :   0.175217   val loss :   0.170497   val score :   0.183457\n",
      "------ epoch:11 ------\n"
     ]
    },
    {
     "name": "stderr",
     "output_type": "stream",
     "text": [
      "100%|██████████| 280/280 [00:03<00:00, 73.86it/s]\n",
      "100%|██████████| 70/70 [00:00<00:00, 136.73it/s]\n",
      "100%|██████████| 943/943 [00:00<00:00, 3087.66it/s]\n"
     ]
    },
    {
     "name": "stdout",
     "output_type": "stream",
     "text": [
      "Epoch 11: train loss :   0.175191   val loss :   0.170518   val score :   0.181336\n",
      "Epoch 00011: reducing learning rate of group 0 to 1.0000e-03.\n",
      "------ epoch:12 ------\n"
     ]
    },
    {
     "name": "stderr",
     "output_type": "stream",
     "text": [
      "100%|██████████| 280/280 [00:03<00:00, 72.65it/s]\n",
      "100%|██████████| 70/70 [00:00<00:00, 117.53it/s]\n",
      "100%|██████████| 943/943 [00:00<00:00, 3092.32it/s]\n"
     ]
    },
    {
     "name": "stdout",
     "output_type": "stream",
     "text": [
      "Epoch 12: train loss :   0.175063   val loss :   0.170495   val score :   0.216331\n",
      "------ epoch:13 ------\n"
     ]
    },
    {
     "name": "stderr",
     "output_type": "stream",
     "text": [
      "100%|██████████| 280/280 [00:03<00:00, 72.10it/s]\n",
      "100%|██████████| 70/70 [00:00<00:00, 116.65it/s]\n",
      "100%|██████████| 943/943 [00:00<00:00, 3016.67it/s]\n"
     ]
    },
    {
     "name": "stdout",
     "output_type": "stream",
     "text": [
      "Epoch 13: train loss :   0.175058   val loss :   0.170508   val score :   0.217391\n",
      "------ epoch:14 ------\n"
     ]
    },
    {
     "name": "stderr",
     "output_type": "stream",
     "text": [
      "100%|██████████| 280/280 [00:03<00:00, 72.60it/s]\n",
      "100%|██████████| 70/70 [00:00<00:00, 117.53it/s]\n",
      "100%|██████████| 943/943 [00:00<00:00, 3042.50it/s]\n"
     ]
    },
    {
     "name": "stdout",
     "output_type": "stream",
     "text": [
      "Epoch 14: train loss :   0.175038   val loss :   0.170503   val score :   0.217391\n",
      "------ epoch:15 ------\n"
     ]
    },
    {
     "name": "stderr",
     "output_type": "stream",
     "text": [
      "100%|██████████| 280/280 [00:03<00:00, 73.98it/s]\n",
      "100%|██████████| 70/70 [00:00<00:00, 135.38it/s]\n",
      "100%|██████████| 943/943 [00:00<00:00, 3056.89it/s]\n"
     ]
    },
    {
     "name": "stdout",
     "output_type": "stream",
     "text": [
      "Epoch 15: train loss :   0.174994   val loss :   0.170500   val score :   0.219512\n",
      "------ epoch:16 ------\n"
     ]
    },
    {
     "name": "stderr",
     "output_type": "stream",
     "text": [
      "100%|██████████| 280/280 [00:03<00:00, 72.85it/s]\n",
      "100%|██████████| 70/70 [00:00<00:00, 117.50it/s]\n",
      "100%|██████████| 943/943 [00:00<00:00, 3064.88it/s]\n"
     ]
    },
    {
     "name": "stdout",
     "output_type": "stream",
     "text": [
      "Epoch 16: train loss :   0.175005   val loss :   0.170510   val score :   0.214210\n",
      "------ epoch:17 ------\n"
     ]
    },
    {
     "name": "stderr",
     "output_type": "stream",
     "text": [
      "100%|██████████| 280/280 [00:03<00:00, 73.81it/s]\n",
      "100%|██████████| 70/70 [00:00<00:00, 119.17it/s]\n",
      "100%|██████████| 943/943 [00:00<00:00, 3101.01it/s]\n"
     ]
    },
    {
     "name": "stdout",
     "output_type": "stream",
     "text": [
      "Epoch 17: train loss :   0.174962   val loss :   0.170502   val score :   0.217391\n",
      "------ epoch:18 ------\n"
     ]
    },
    {
     "name": "stderr",
     "output_type": "stream",
     "text": [
      "100%|██████████| 280/280 [00:03<00:00, 75.11it/s]\n",
      "100%|██████████| 70/70 [00:00<00:00, 135.78it/s]\n",
      "100%|██████████| 943/943 [00:00<00:00, 3118.97it/s]\n"
     ]
    },
    {
     "name": "stdout",
     "output_type": "stream",
     "text": [
      "Epoch 18: train loss :   0.175083   val loss :   0.170509   val score :   0.227996\n",
      "------ epoch:19 ------\n"
     ]
    },
    {
     "name": "stderr",
     "output_type": "stream",
     "text": [
      "100%|██████████| 280/280 [00:03<00:00, 73.59it/s]\n",
      "100%|██████████| 70/70 [00:00<00:00, 117.24it/s]\n",
      "100%|██████████| 943/943 [00:00<00:00, 3032.53it/s]\n"
     ]
    },
    {
     "name": "stdout",
     "output_type": "stream",
     "text": [
      "Epoch 19: train loss :   0.175061   val loss :   0.170502   val score :   0.218452\n",
      "------ epoch:20 ------\n"
     ]
    },
    {
     "name": "stderr",
     "output_type": "stream",
     "text": [
      "100%|██████████| 280/280 [00:03<00:00, 72.56it/s]\n",
      "100%|██████████| 70/70 [00:00<00:00, 118.83it/s]\n",
      "100%|██████████| 943/943 [00:00<00:00, 3109.13it/s]\n"
     ]
    },
    {
     "name": "stdout",
     "output_type": "stream",
     "text": [
      "Epoch 20: train loss :   0.174997   val loss :   0.170505   val score :   0.226935\n",
      "------ epoch:21 ------\n"
     ]
    },
    {
     "name": "stderr",
     "output_type": "stream",
     "text": [
      "100%|██████████| 280/280 [00:03<00:00, 74.82it/s]\n",
      "100%|██████████| 70/70 [00:00<00:00, 134.13it/s]\n",
      "100%|██████████| 943/943 [00:00<00:00, 3116.06it/s]\n"
     ]
    },
    {
     "name": "stdout",
     "output_type": "stream",
     "text": [
      "Epoch 21: train loss :   0.175022   val loss :   0.170505   val score :   0.218452\n",
      "Epoch 00021: reducing learning rate of group 0 to 1.0000e-04.\n",
      "------ epoch:22 ------\n"
     ]
    },
    {
     "name": "stderr",
     "output_type": "stream",
     "text": [
      "100%|██████████| 280/280 [00:03<00:00, 74.94it/s]\n",
      "100%|██████████| 70/70 [00:00<00:00, 116.35it/s]\n",
      "100%|██████████| 943/943 [00:00<00:00, 3098.38it/s]\n"
     ]
    },
    {
     "name": "stdout",
     "output_type": "stream",
     "text": [
      "Epoch 22: train loss :   0.174944   val loss :   0.170506   val score :   0.221633\n",
      "------ epoch:23 ------\n"
     ]
    },
    {
     "name": "stderr",
     "output_type": "stream",
     "text": [
      "100%|██████████| 280/280 [00:03<00:00, 75.22it/s]\n",
      "100%|██████████| 70/70 [00:00<00:00, 117.99it/s]\n",
      "100%|██████████| 943/943 [00:00<00:00, 2974.72it/s]\n"
     ]
    },
    {
     "name": "stdout",
     "output_type": "stream",
     "text": [
      "Epoch 23: train loss :   0.174997   val loss :   0.170507   val score :   0.221633\n",
      "------ epoch:24 ------\n"
     ]
    },
    {
     "name": "stderr",
     "output_type": "stream",
     "text": [
      "100%|██████████| 280/280 [00:03<00:00, 75.24it/s]\n",
      "100%|██████████| 70/70 [00:00<00:00, 117.71it/s]\n",
      "100%|██████████| 943/943 [00:00<00:00, 3047.28it/s]\n"
     ]
    },
    {
     "name": "stdout",
     "output_type": "stream",
     "text": [
      "Epoch 24: train loss :   0.174993   val loss :   0.170507   val score :   0.220573\n",
      "Epoch 00024: reducing learning rate of group 0 to 1.0000e-05.\n"
     ]
    },
    {
     "name": "stderr",
     "output_type": "stream",
     "text": [
      "100%|██████████| 39/39 [00:00<00:00, 138.39it/s]\n",
      "100%|██████████| 943/943 [00:03<00:00, 286.41it/s]\n"
     ]
    },
    {
     "name": "stdout",
     "output_type": "stream",
     "text": [
      "------ repeat : 4 ------\n"
     ]
    },
    {
     "name": "stderr",
     "output_type": "stream",
     "text": [
      "100%|██████████| 943/943 [00:08<00:00, 105.72it/s]\n"
     ]
    },
    {
     "name": "stdout",
     "output_type": "stream",
     "text": [
      "------ epoch:1 ------\n"
     ]
    },
    {
     "name": "stderr",
     "output_type": "stream",
     "text": [
      "100%|██████████| 280/280 [00:03<00:00, 74.14it/s]\n",
      "100%|██████████| 70/70 [00:00<00:00, 119.39it/s]\n",
      "100%|██████████| 943/943 [00:00<00:00, 3103.66it/s]\n"
     ]
    },
    {
     "name": "stdout",
     "output_type": "stream",
     "text": [
      "Epoch 1: train loss :   0.205815   val loss :   0.170748   val score :   0.169671\n",
      "------ epoch:2 ------\n"
     ]
    },
    {
     "name": "stderr",
     "output_type": "stream",
     "text": [
      "100%|██████████| 280/280 [00:03<00:00, 75.44it/s]\n",
      "100%|██████████| 70/70 [00:00<00:00, 120.53it/s]\n",
      "100%|██████████| 943/943 [00:00<00:00, 3116.78it/s]\n"
     ]
    },
    {
     "name": "stdout",
     "output_type": "stream",
     "text": [
      "Epoch 2: train loss :   0.176569   val loss :   0.170827   val score :   0.195122\n",
      "------ epoch:3 ------\n"
     ]
    },
    {
     "name": "stderr",
     "output_type": "stream",
     "text": [
      "100%|██████████| 280/280 [00:03<00:00, 74.59it/s]\n",
      "100%|██████████| 70/70 [00:00<00:00, 137.77it/s]\n",
      "100%|██████████| 943/943 [00:00<00:00, 3142.36it/s]\n"
     ]
    },
    {
     "name": "stdout",
     "output_type": "stream",
     "text": [
      "Epoch 3: train loss :   0.177775   val loss :   0.170690   val score :   0.191941\n",
      "------ epoch:4 ------\n"
     ]
    },
    {
     "name": "stderr",
     "output_type": "stream",
     "text": [
      "100%|██████████| 280/280 [00:03<00:00, 75.05it/s]\n",
      "100%|██████████| 70/70 [00:00<00:00, 118.41it/s]\n",
      "100%|██████████| 943/943 [00:00<00:00, 3072.93it/s]\n"
     ]
    },
    {
     "name": "stdout",
     "output_type": "stream",
     "text": [
      "Epoch 4: train loss :   0.177619   val loss :   0.170805   val score :   0.183457\n",
      "------ epoch:5 ------\n"
     ]
    },
    {
     "name": "stderr",
     "output_type": "stream",
     "text": [
      "100%|██████████| 280/280 [00:03<00:00, 74.50it/s]\n",
      "100%|██████████| 70/70 [00:00<00:00, 120.18it/s]\n",
      "100%|██████████| 943/943 [00:00<00:00, 3151.00it/s]\n"
     ]
    },
    {
     "name": "stdout",
     "output_type": "stream",
     "text": [
      "Epoch 5: train loss :   0.177904   val loss :   0.170780   val score :   0.203606\n",
      "------ epoch:6 ------\n"
     ]
    },
    {
     "name": "stderr",
     "output_type": "stream",
     "text": [
      "100%|██████████| 280/280 [00:03<00:00, 73.74it/s]\n",
      "100%|██████████| 70/70 [00:00<00:00, 135.92it/s]\n",
      "100%|██████████| 943/943 [00:00<00:00, 3095.38it/s]\n"
     ]
    },
    {
     "name": "stdout",
     "output_type": "stream",
     "text": [
      "Epoch 6: train loss :   0.177982   val loss :   0.170946   val score :   0.164369\n",
      "------ epoch:7 ------\n"
     ]
    },
    {
     "name": "stderr",
     "output_type": "stream",
     "text": [
      "100%|██████████| 280/280 [00:03<00:00, 74.67it/s]\n",
      "100%|██████████| 70/70 [00:00<00:00, 117.77it/s]\n",
      "100%|██████████| 943/943 [00:00<00:00, 3069.94it/s]\n"
     ]
    },
    {
     "name": "stdout",
     "output_type": "stream",
     "text": [
      "Epoch 7: train loss :   0.177960   val loss :   0.170895   val score :   0.158006\n",
      "------ epoch:8 ------\n"
     ]
    },
    {
     "name": "stderr",
     "output_type": "stream",
     "text": [
      "100%|██████████| 280/280 [00:03<00:00, 74.81it/s]\n",
      "100%|██████████| 70/70 [00:00<00:00, 118.65it/s]\n",
      "100%|██████████| 943/943 [00:00<00:00, 3094.36it/s]\n"
     ]
    },
    {
     "name": "stdout",
     "output_type": "stream",
     "text": [
      "Epoch 8: train loss :   0.178100   val loss :   0.170803   val score :   0.169671\n",
      "Epoch 00008: reducing learning rate of group 0 to 1.0000e-02.\n",
      "------ epoch:9 ------\n"
     ]
    },
    {
     "name": "stderr",
     "output_type": "stream",
     "text": [
      "100%|██████████| 280/280 [00:03<00:00, 75.17it/s]\n",
      "100%|██████████| 70/70 [00:00<00:00, 133.61it/s]\n",
      "100%|██████████| 943/943 [00:00<00:00, 3012.11it/s]\n"
     ]
    },
    {
     "name": "stdout",
     "output_type": "stream",
     "text": [
      "Epoch 9: train loss :   0.175263   val loss :   0.170567   val score :   0.223754\n",
      "------ epoch:10 ------\n"
     ]
    },
    {
     "name": "stderr",
     "output_type": "stream",
     "text": [
      "100%|██████████| 280/280 [00:03<00:00, 74.13it/s]\n",
      "100%|██████████| 70/70 [00:00<00:00, 118.79it/s]\n",
      "100%|██████████| 943/943 [00:00<00:00, 3068.71it/s]\n"
     ]
    },
    {
     "name": "stdout",
     "output_type": "stream",
     "text": [
      "Epoch 10: train loss :   0.175153   val loss :   0.170537   val score :   0.205726\n",
      "------ epoch:11 ------\n"
     ]
    },
    {
     "name": "stderr",
     "output_type": "stream",
     "text": [
      "100%|██████████| 280/280 [00:03<00:00, 74.95it/s]\n",
      "100%|██████████| 70/70 [00:00<00:00, 119.13it/s]\n",
      "100%|██████████| 943/943 [00:00<00:00, 3106.55it/s]\n"
     ]
    },
    {
     "name": "stdout",
     "output_type": "stream",
     "text": [
      "Epoch 11: train loss :   0.175194   val loss :   0.170516   val score :   0.211029\n",
      "------ epoch:12 ------\n"
     ]
    },
    {
     "name": "stderr",
     "output_type": "stream",
     "text": [
      "100%|██████████| 280/280 [00:03<00:00, 74.79it/s]\n",
      "100%|██████████| 70/70 [00:00<00:00, 119.40it/s]\n",
      "100%|██████████| 943/943 [00:00<00:00, 3113.03it/s]\n"
     ]
    },
    {
     "name": "stdout",
     "output_type": "stream",
     "text": [
      "Epoch 12: train loss :   0.175165   val loss :   0.170439   val score :   0.215270\n",
      "Epoch 00012: reducing learning rate of group 0 to 1.0000e-03.\n",
      "------ epoch:13 ------\n"
     ]
    },
    {
     "name": "stderr",
     "output_type": "stream",
     "text": [
      "100%|██████████| 280/280 [00:03<00:00, 73.78it/s]\n",
      "100%|██████████| 70/70 [00:00<00:00, 137.14it/s]\n",
      "100%|██████████| 943/943 [00:00<00:00, 3138.40it/s]\n"
     ]
    },
    {
     "name": "stdout",
     "output_type": "stream",
     "text": [
      "Epoch 13: train loss :   0.175111   val loss :   0.170475   val score :   0.252386\n",
      "------ epoch:14 ------\n"
     ]
    },
    {
     "name": "stderr",
     "output_type": "stream",
     "text": [
      "100%|██████████| 280/280 [00:03<00:00, 75.34it/s]\n",
      "100%|██████████| 70/70 [00:00<00:00, 118.71it/s]\n",
      "100%|██████████| 943/943 [00:00<00:00, 3105.65it/s]\n"
     ]
    },
    {
     "name": "stdout",
     "output_type": "stream",
     "text": [
      "Epoch 14: train loss :   0.175027   val loss :   0.170490   val score :   0.260870\n",
      "------ epoch:15 ------\n"
     ]
    },
    {
     "name": "stderr",
     "output_type": "stream",
     "text": [
      "100%|██████████| 280/280 [00:03<00:00, 74.95it/s]\n",
      "100%|██████████| 70/70 [00:00<00:00, 119.10it/s]\n",
      "100%|██████████| 943/943 [00:00<00:00, 3095.67it/s]\n"
     ]
    },
    {
     "name": "stdout",
     "output_type": "stream",
     "text": [
      "Epoch 15: train loss :   0.174995   val loss :   0.170497   val score :   0.260870\n",
      "------ epoch:16 ------\n"
     ]
    },
    {
     "name": "stderr",
     "output_type": "stream",
     "text": [
      "100%|██████████| 280/280 [00:03<00:00, 72.91it/s]\n",
      "100%|██████████| 70/70 [00:00<00:00, 135.55it/s]\n",
      "100%|██████████| 943/943 [00:00<00:00, 3073.07it/s]\n"
     ]
    },
    {
     "name": "stdout",
     "output_type": "stream",
     "text": [
      "Epoch 16: train loss :   0.175005   val loss :   0.170505   val score :   0.258749\n",
      "------ epoch:17 ------\n"
     ]
    },
    {
     "name": "stderr",
     "output_type": "stream",
     "text": [
      "100%|██████████| 280/280 [00:03<00:00, 74.46it/s]\n",
      "100%|██████████| 70/70 [00:00<00:00, 118.43it/s]\n",
      "100%|██████████| 943/943 [00:00<00:00, 3046.69it/s]\n"
     ]
    },
    {
     "name": "stdout",
     "output_type": "stream",
     "text": [
      "Epoch 17: train loss :   0.174964   val loss :   0.170505   val score :   0.258749\n",
      "Epoch 00017: reducing learning rate of group 0 to 1.0000e-04.\n",
      "------ epoch:18 ------\n"
     ]
    },
    {
     "name": "stderr",
     "output_type": "stream",
     "text": [
      "100%|██████████| 280/280 [00:03<00:00, 74.06it/s]\n",
      "100%|██████████| 70/70 [00:00<00:00, 118.63it/s]\n",
      "100%|██████████| 943/943 [00:00<00:00, 3105.59it/s]\n"
     ]
    },
    {
     "name": "stdout",
     "output_type": "stream",
     "text": [
      "Epoch 18: train loss :   0.174970   val loss :   0.170505   val score :   0.257688\n",
      "------ epoch:19 ------\n"
     ]
    },
    {
     "name": "stderr",
     "output_type": "stream",
     "text": [
      "100%|██████████| 280/280 [00:03<00:00, 73.59it/s]\n",
      "100%|██████████| 70/70 [00:00<00:00, 134.42it/s]\n",
      "100%|██████████| 943/943 [00:00<00:00, 3064.20it/s]\n"
     ]
    },
    {
     "name": "stdout",
     "output_type": "stream",
     "text": [
      "Epoch 19: train loss :   0.174973   val loss :   0.170505   val score :   0.257688\n",
      "------ epoch:20 ------\n"
     ]
    },
    {
     "name": "stderr",
     "output_type": "stream",
     "text": [
      "100%|██████████| 280/280 [00:03<00:00, 75.04it/s]\n",
      "100%|██████████| 70/70 [00:00<00:00, 119.10it/s]\n",
      "100%|██████████| 943/943 [00:00<00:00, 3097.64it/s]\n"
     ]
    },
    {
     "name": "stdout",
     "output_type": "stream",
     "text": [
      "Epoch 20: train loss :   0.175000   val loss :   0.170505   val score :   0.256628\n",
      "Epoch 00020: reducing learning rate of group 0 to 1.0000e-05.\n"
     ]
    },
    {
     "name": "stderr",
     "output_type": "stream",
     "text": [
      "100%|██████████| 39/39 [00:00<00:00, 106.36it/s]\n",
      "100%|██████████| 943/943 [00:03<00:00, 285.86it/s]\n"
     ]
    },
    {
     "name": "stdout",
     "output_type": "stream",
     "text": [
      "------ repeat : 5 ------\n"
     ]
    },
    {
     "name": "stderr",
     "output_type": "stream",
     "text": [
      "100%|██████████| 943/943 [00:09<00:00, 104.45it/s]\n"
     ]
    },
    {
     "name": "stdout",
     "output_type": "stream",
     "text": [
      "------ epoch:1 ------\n"
     ]
    },
    {
     "name": "stderr",
     "output_type": "stream",
     "text": [
      "100%|██████████| 280/280 [00:03<00:00, 74.27it/s]\n",
      "100%|██████████| 70/70 [00:00<00:00, 137.32it/s]\n",
      "100%|██████████| 943/943 [00:00<00:00, 2866.92it/s]\n"
     ]
    },
    {
     "name": "stdout",
     "output_type": "stream",
     "text": [
      "Epoch 1: train loss :   0.205263   val loss :   0.170588   val score :   0.190880\n",
      "------ epoch:2 ------\n"
     ]
    },
    {
     "name": "stderr",
     "output_type": "stream",
     "text": [
      "100%|██████████| 280/280 [00:03<00:00, 74.18it/s]\n",
      "100%|██████████| 70/70 [00:00<00:00, 118.37it/s]\n",
      "100%|██████████| 943/943 [00:00<00:00, 3095.28it/s]\n"
     ]
    },
    {
     "name": "stdout",
     "output_type": "stream",
     "text": [
      "Epoch 2: train loss :   0.176656   val loss :   0.170496   val score :   0.149523\n",
      "------ epoch:3 ------\n"
     ]
    },
    {
     "name": "stderr",
     "output_type": "stream",
     "text": [
      "100%|██████████| 280/280 [00:03<00:00, 72.84it/s]\n",
      "100%|██████████| 70/70 [00:00<00:00, 118.62it/s]\n",
      "100%|██████████| 943/943 [00:00<00:00, 3086.06it/s]\n"
     ]
    },
    {
     "name": "stdout",
     "output_type": "stream",
     "text": [
      "Epoch 3: train loss :   0.177812   val loss :   0.170811   val score :   0.172853\n",
      "------ epoch:4 ------\n"
     ]
    },
    {
     "name": "stderr",
     "output_type": "stream",
     "text": [
      "100%|██████████| 280/280 [00:03<00:00, 74.59it/s]\n",
      "100%|██████████| 70/70 [00:00<00:00, 118.04it/s]\n",
      "100%|██████████| 943/943 [00:00<00:00, 3086.25it/s]\n"
     ]
    },
    {
     "name": "stdout",
     "output_type": "stream",
     "text": [
      "Epoch 4: train loss :   0.177555   val loss :   0.170878   val score :   0.163309\n",
      "Epoch 00004: reducing learning rate of group 0 to 1.0000e-02.\n",
      "------ epoch:5 ------\n"
     ]
    },
    {
     "name": "stderr",
     "output_type": "stream",
     "text": [
      "100%|██████████| 280/280 [00:03<00:00, 74.04it/s]\n",
      "100%|██████████| 70/70 [00:00<00:00, 135.92it/s]\n",
      "100%|██████████| 943/943 [00:00<00:00, 3084.18it/s]\n"
     ]
    },
    {
     "name": "stdout",
     "output_type": "stream",
     "text": [
      "Epoch 5: train loss :   0.175298   val loss :   0.170588   val score :   0.181336\n",
      "------ epoch:6 ------\n"
     ]
    },
    {
     "name": "stderr",
     "output_type": "stream",
     "text": [
      "100%|██████████| 280/280 [00:03<00:00, 73.55it/s]\n",
      "100%|██████████| 70/70 [00:00<00:00, 119.02it/s]\n",
      "100%|██████████| 943/943 [00:00<00:00, 3076.02it/s]\n"
     ]
    },
    {
     "name": "stdout",
     "output_type": "stream",
     "text": [
      "Epoch 6: train loss :   0.175147   val loss :   0.170553   val score :   0.209968\n",
      "------ epoch:7 ------\n"
     ]
    },
    {
     "name": "stderr",
     "output_type": "stream",
     "text": [
      "100%|██████████| 280/280 [00:03<00:00, 74.72it/s]\n",
      "100%|██████████| 70/70 [00:00<00:00, 118.39it/s]\n",
      "100%|██████████| 943/943 [00:00<00:00, 3087.40it/s]\n"
     ]
    },
    {
     "name": "stdout",
     "output_type": "stream",
     "text": [
      "Epoch 7: train loss :   0.175161   val loss :   0.170497   val score :   0.201485\n",
      "------ epoch:8 ------\n"
     ]
    },
    {
     "name": "stderr",
     "output_type": "stream",
     "text": [
      "100%|██████████| 280/280 [00:03<00:00, 75.06it/s]\n",
      "100%|██████████| 70/70 [00:00<00:00, 136.41it/s]\n",
      "100%|██████████| 943/943 [00:00<00:00, 3083.30it/s]\n"
     ]
    },
    {
     "name": "stdout",
     "output_type": "stream",
     "text": [
      "Epoch 8: train loss :   0.175170   val loss :   0.170562   val score :   0.194062\n",
      "------ epoch:9 ------\n"
     ]
    },
    {
     "name": "stderr",
     "output_type": "stream",
     "text": [
      "100%|██████████| 280/280 [00:03<00:00, 75.11it/s]\n",
      "100%|██████████| 70/70 [00:00<00:00, 116.90it/s]\n",
      "100%|██████████| 943/943 [00:00<00:00, 2955.41it/s]\n"
     ]
    },
    {
     "name": "stdout",
     "output_type": "stream",
     "text": [
      "Epoch 9: train loss :   0.175160   val loss :   0.170538   val score :   0.203606\n",
      "Epoch 00009: reducing learning rate of group 0 to 1.0000e-03.\n",
      "------ epoch:10 ------\n"
     ]
    },
    {
     "name": "stderr",
     "output_type": "stream",
     "text": [
      "100%|██████████| 280/280 [00:03<00:00, 74.47it/s]\n",
      "100%|██████████| 70/70 [00:00<00:00, 118.29it/s]\n",
      "100%|██████████| 943/943 [00:00<00:00, 3091.38it/s]\n"
     ]
    },
    {
     "name": "stdout",
     "output_type": "stream",
     "text": [
      "Epoch 10: train loss :   0.175069   val loss :   0.170516   val score :   0.226935\n",
      "------ epoch:11 ------\n"
     ]
    },
    {
     "name": "stderr",
     "output_type": "stream",
     "text": [
      "100%|██████████| 280/280 [00:03<00:00, 74.41it/s]\n",
      "100%|██████████| 70/70 [00:00<00:00, 136.54it/s]\n",
      "100%|██████████| 943/943 [00:00<00:00, 3081.51it/s]\n"
     ]
    },
    {
     "name": "stdout",
     "output_type": "stream",
     "text": [
      "Epoch 11: train loss :   0.175032   val loss :   0.170511   val score :   0.236479\n",
      "------ epoch:12 ------\n"
     ]
    },
    {
     "name": "stderr",
     "output_type": "stream",
     "text": [
      "100%|██████████| 280/280 [00:03<00:00, 74.79it/s]\n",
      "100%|██████████| 70/70 [00:00<00:00, 116.82it/s]\n",
      "100%|██████████| 943/943 [00:00<00:00, 3011.52it/s]\n"
     ]
    },
    {
     "name": "stdout",
     "output_type": "stream",
     "text": [
      "Epoch 12: train loss :   0.175000   val loss :   0.170506   val score :   0.240721\n",
      "------ epoch:13 ------\n"
     ]
    },
    {
     "name": "stderr",
     "output_type": "stream",
     "text": [
      "100%|██████████| 280/280 [00:03<00:00, 73.01it/s]\n",
      "100%|██████████| 70/70 [00:00<00:00, 118.72it/s]\n",
      "100%|██████████| 943/943 [00:00<00:00, 3088.41it/s]\n"
     ]
    },
    {
     "name": "stdout",
     "output_type": "stream",
     "text": [
      "Epoch 13: train loss :   0.175036   val loss :   0.170511   val score :   0.241782\n",
      "------ epoch:14 ------\n"
     ]
    },
    {
     "name": "stderr",
     "output_type": "stream",
     "text": [
      "100%|██████████| 280/280 [00:03<00:00, 74.63it/s]\n",
      "100%|██████████| 70/70 [00:00<00:00, 118.27it/s]\n",
      "100%|██████████| 943/943 [00:00<00:00, 3056.49it/s]\n"
     ]
    },
    {
     "name": "stdout",
     "output_type": "stream",
     "text": [
      "Epoch 14: train loss :   0.175044   val loss :   0.170515   val score :   0.239661\n",
      "------ epoch:15 ------\n"
     ]
    },
    {
     "name": "stderr",
     "output_type": "stream",
     "text": [
      "100%|██████████| 280/280 [00:03<00:00, 74.52it/s]\n",
      "100%|██████████| 70/70 [00:00<00:00, 135.81it/s]\n",
      "100%|██████████| 943/943 [00:00<00:00, 3085.63it/s]\n"
     ]
    },
    {
     "name": "stdout",
     "output_type": "stream",
     "text": [
      "Epoch 15: train loss :   0.175042   val loss :   0.170512   val score :   0.238600\n",
      "------ epoch:16 ------\n"
     ]
    },
    {
     "name": "stderr",
     "output_type": "stream",
     "text": [
      "100%|██████████| 280/280 [00:03<00:00, 73.36it/s]\n",
      "100%|██████████| 70/70 [00:00<00:00, 117.46it/s]\n",
      "100%|██████████| 943/943 [00:00<00:00, 3054.54it/s]\n"
     ]
    },
    {
     "name": "stdout",
     "output_type": "stream",
     "text": [
      "Epoch 16: train loss :   0.175032   val loss :   0.170509   val score :   0.240721\n",
      "Epoch 00016: reducing learning rate of group 0 to 1.0000e-04.\n",
      "------ epoch:17 ------\n"
     ]
    },
    {
     "name": "stderr",
     "output_type": "stream",
     "text": [
      "100%|██████████| 280/280 [00:03<00:00, 75.06it/s]\n",
      "100%|██████████| 70/70 [00:00<00:00, 120.39it/s]\n",
      "100%|██████████| 943/943 [00:00<00:00, 3202.97it/s]\n"
     ]
    },
    {
     "name": "stdout",
     "output_type": "stream",
     "text": [
      "Epoch 17: train loss :   0.175002   val loss :   0.170509   val score :   0.240721\n",
      "------ epoch:18 ------\n"
     ]
    },
    {
     "name": "stderr",
     "output_type": "stream",
     "text": [
      "100%|██████████| 280/280 [00:03<00:00, 75.60it/s]\n",
      "100%|██████████| 70/70 [00:00<00:00, 138.77it/s]\n",
      "100%|██████████| 943/943 [00:00<00:00, 3194.19it/s]\n"
     ]
    },
    {
     "name": "stdout",
     "output_type": "stream",
     "text": [
      "Epoch 18: train loss :   0.175001   val loss :   0.170509   val score :   0.243902\n",
      "------ epoch:19 ------\n"
     ]
    },
    {
     "name": "stderr",
     "output_type": "stream",
     "text": [
      "100%|██████████| 280/280 [00:03<00:00, 73.55it/s]\n",
      "100%|██████████| 70/70 [00:00<00:00, 115.72it/s]\n",
      "100%|██████████| 943/943 [00:00<00:00, 3063.40it/s]\n"
     ]
    },
    {
     "name": "stdout",
     "output_type": "stream",
     "text": [
      "Epoch 19: train loss :   0.174943   val loss :   0.170508   val score :   0.243902\n",
      "------ epoch:20 ------\n"
     ]
    },
    {
     "name": "stderr",
     "output_type": "stream",
     "text": [
      "100%|██████████| 280/280 [00:03<00:00, 74.40it/s]\n",
      "100%|██████████| 70/70 [00:00<00:00, 118.90it/s]\n",
      "100%|██████████| 943/943 [00:00<00:00, 3097.34it/s]\n"
     ]
    },
    {
     "name": "stdout",
     "output_type": "stream",
     "text": [
      "Epoch 20: train loss :   0.174960   val loss :   0.170508   val score :   0.243902\n",
      "------ epoch:21 ------\n"
     ]
    },
    {
     "name": "stderr",
     "output_type": "stream",
     "text": [
      "100%|██████████| 280/280 [00:03<00:00, 74.59it/s]\n",
      "100%|██████████| 70/70 [00:00<00:00, 136.02it/s]\n",
      "100%|██████████| 943/943 [00:00<00:00, 3142.50it/s]\n"
     ]
    },
    {
     "name": "stdout",
     "output_type": "stream",
     "text": [
      "Epoch 21: train loss :   0.175002   val loss :   0.170507   val score :   0.243902\n",
      "Epoch 00021: reducing learning rate of group 0 to 1.0000e-05.\n",
      "------ epoch:22 ------\n"
     ]
    },
    {
     "name": "stderr",
     "output_type": "stream",
     "text": [
      "100%|██████████| 280/280 [00:03<00:00, 74.42it/s]\n",
      "100%|██████████| 70/70 [00:00<00:00, 116.70it/s]\n",
      "100%|██████████| 943/943 [00:00<00:00, 3127.95it/s]\n"
     ]
    },
    {
     "name": "stdout",
     "output_type": "stream",
     "text": [
      "Epoch 22: train loss :   0.175004   val loss :   0.170507   val score :   0.243902\n",
      "------ epoch:23 ------\n"
     ]
    },
    {
     "name": "stderr",
     "output_type": "stream",
     "text": [
      "100%|██████████| 280/280 [00:03<00:00, 76.23it/s]\n",
      "100%|██████████| 70/70 [00:00<00:00, 119.93it/s]\n",
      "100%|██████████| 943/943 [00:00<00:00, 3187.56it/s]\n"
     ]
    },
    {
     "name": "stdout",
     "output_type": "stream",
     "text": [
      "Epoch 23: train loss :   0.174957   val loss :   0.170507   val score :   0.243902\n",
      "------ epoch:24 ------\n"
     ]
    },
    {
     "name": "stderr",
     "output_type": "stream",
     "text": [
      "100%|██████████| 280/280 [00:03<00:00, 73.30it/s]\n",
      "100%|██████████| 70/70 [00:00<00:00, 118.05it/s]\n",
      "100%|██████████| 943/943 [00:00<00:00, 3144.45it/s]\n"
     ]
    },
    {
     "name": "stdout",
     "output_type": "stream",
     "text": [
      "Epoch 24: train loss :   0.174971   val loss :   0.170507   val score :   0.243902\n",
      "Epoch 00024: reducing learning rate of group 0 to 1.0000e-06.\n"
     ]
    },
    {
     "name": "stderr",
     "output_type": "stream",
     "text": [
      "100%|██████████| 39/39 [00:00<00:00, 138.96it/s]\n",
      "100%|██████████| 943/943 [00:03<00:00, 288.01it/s]\n"
     ]
    }
   ],
   "source": [
    "embedding_dim = 20\n",
    "lr = 1e-1\n",
    "alpha = 1e-1\n",
    "lam = 1e-2\n",
    "phi_r = 1e-2\n",
    "phi_theta = 1e-3\n",
    "mu = 0.1\n",
    "model_type = 4\n",
    "seed_everything(42)\n",
    "Test2(train, test, percentage, model_type, lam=lam, phi_r=phi_r, phi_theta=phi_theta, repeats=5, \n",
    "                num_users=num_users, num_items=num_items, embedding_dim=embedding_dim, mu=mu,\n",
    "               lr=lr, alpha=alpha, patience=5, epochs=30, device=\"cuda:0\", model_selection=False)"
   ]
  },
  {
   "cell_type": "markdown",
   "id": "3c72cda1-38b4-4bba-98dd-60f1417371f4",
   "metadata": {},
   "source": [
    "### 5"
   ]
  },
  {
   "cell_type": "code",
   "execution_count": 13,
   "id": "f26a6954-8ce6-4fdd-90b3-f32f8e0161e8",
   "metadata": {
    "tags": []
   },
   "outputs": [
    {
     "name": "stderr",
     "output_type": "stream",
     "text": [
      "100%|██████████| 943/943 [00:08<00:00, 106.88it/s]\n"
     ]
    },
    {
     "name": "stdout",
     "output_type": "stream",
     "text": [
      "------ epoch:1 ------\n"
     ]
    },
    {
     "name": "stderr",
     "output_type": "stream",
     "text": [
      "100%|██████████| 280/280 [00:03<00:00, 75.34it/s]\n",
      "100%|██████████| 70/70 [00:00<00:00, 121.48it/s]\n",
      "100%|██████████| 943/943 [00:00<00:00, 3189.29it/s]\n"
     ]
    },
    {
     "name": "stdout",
     "output_type": "stream",
     "text": [
      "Epoch 1: train loss :   0.300416   val loss :   0.167005   val score :   0.142100\n",
      "------ epoch:2 ------\n"
     ]
    },
    {
     "name": "stderr",
     "output_type": "stream",
     "text": [
      "100%|██████████| 280/280 [00:03<00:00, 76.20it/s]\n",
      "100%|██████████| 70/70 [00:00<00:00, 138.66it/s]\n",
      "100%|██████████| 943/943 [00:00<00:00, 3143.89it/s]\n"
     ]
    },
    {
     "name": "stdout",
     "output_type": "stream",
     "text": [
      "Epoch 2: train loss :   0.204160   val loss :   0.165875   val score :   0.151644\n",
      "------ epoch:3 ------\n"
     ]
    },
    {
     "name": "stderr",
     "output_type": "stream",
     "text": [
      "100%|██████████| 280/280 [00:03<00:00, 75.06it/s]\n",
      "100%|██████████| 70/70 [00:00<00:00, 121.77it/s]\n",
      "100%|██████████| 943/943 [00:00<00:00, 3183.14it/s]\n"
     ]
    },
    {
     "name": "stdout",
     "output_type": "stream",
     "text": [
      "Epoch 3: train loss :   0.187598   val loss :   0.164858   val score :   0.161188\n",
      "------ epoch:4 ------\n"
     ]
    },
    {
     "name": "stderr",
     "output_type": "stream",
     "text": [
      "100%|██████████| 280/280 [00:03<00:00, 76.22it/s]\n",
      "100%|██████████| 70/70 [00:00<00:00, 121.32it/s]\n",
      "100%|██████████| 943/943 [00:00<00:00, 3173.43it/s]\n"
     ]
    },
    {
     "name": "stdout",
     "output_type": "stream",
     "text": [
      "Epoch 4: train loss :   0.175047   val loss :   0.162992   val score :   0.185578\n",
      "------ epoch:5 ------\n"
     ]
    },
    {
     "name": "stderr",
     "output_type": "stream",
     "text": [
      "100%|██████████| 280/280 [00:03<00:00, 75.12it/s]\n",
      "100%|██████████| 70/70 [00:00<00:00, 118.96it/s]\n",
      "100%|██████████| 943/943 [00:00<00:00, 3072.48it/s]\n"
     ]
    },
    {
     "name": "stdout",
     "output_type": "stream",
     "text": [
      "Epoch 5: train loss :   0.169479   val loss :   0.161822   val score :   0.208908\n",
      "------ epoch:6 ------\n"
     ]
    },
    {
     "name": "stderr",
     "output_type": "stream",
     "text": [
      "100%|██████████| 280/280 [00:03<00:00, 74.79it/s]\n",
      "100%|██████████| 70/70 [00:00<00:00, 137.35it/s]\n",
      "100%|██████████| 943/943 [00:00<00:00, 3022.99it/s]\n"
     ]
    },
    {
     "name": "stdout",
     "output_type": "stream",
     "text": [
      "Epoch 6: train loss :   0.167452   val loss :   0.161414   val score :   0.214210\n",
      "------ epoch:7 ------\n"
     ]
    },
    {
     "name": "stderr",
     "output_type": "stream",
     "text": [
      "100%|██████████| 280/280 [00:03<00:00, 74.95it/s]\n",
      "100%|██████████| 70/70 [00:00<00:00, 121.40it/s]\n",
      "100%|██████████| 943/943 [00:00<00:00, 3186.45it/s]\n"
     ]
    },
    {
     "name": "stdout",
     "output_type": "stream",
     "text": [
      "Epoch 7: train loss :   0.166351   val loss :   0.161217   val score :   0.209968\n",
      "------ epoch:8 ------\n"
     ]
    },
    {
     "name": "stderr",
     "output_type": "stream",
     "text": [
      "100%|██████████| 280/280 [00:03<00:00, 75.62it/s]\n",
      "100%|██████████| 70/70 [00:00<00:00, 121.61it/s]\n",
      "100%|██████████| 943/943 [00:00<00:00, 3224.98it/s]\n"
     ]
    },
    {
     "name": "stdout",
     "output_type": "stream",
     "text": [
      "Epoch 8: train loss :   0.165857   val loss :   0.161063   val score :   0.209968\n",
      "------ epoch:9 ------\n"
     ]
    },
    {
     "name": "stderr",
     "output_type": "stream",
     "text": [
      "100%|██████████| 280/280 [00:03<00:00, 75.34it/s]\n",
      "100%|██████████| 70/70 [00:00<00:00, 116.14it/s]\n",
      "100%|██████████| 943/943 [00:00<00:00, 3139.81it/s]\n"
     ]
    },
    {
     "name": "stdout",
     "output_type": "stream",
     "text": [
      "Epoch 9: train loss :   0.165600   val loss :   0.160984   val score :   0.218452\n",
      "------ epoch:10 ------\n"
     ]
    },
    {
     "name": "stderr",
     "output_type": "stream",
     "text": [
      "100%|██████████| 280/280 [00:03<00:00, 74.00it/s]\n",
      "100%|██████████| 70/70 [00:00<00:00, 138.76it/s]\n",
      "100%|██████████| 943/943 [00:00<00:00, 3141.24it/s]\n"
     ]
    },
    {
     "name": "stdout",
     "output_type": "stream",
     "text": [
      "Epoch 10: train loss :   0.165498   val loss :   0.160957   val score :   0.206787\n",
      "------ epoch:11 ------\n"
     ]
    },
    {
     "name": "stderr",
     "output_type": "stream",
     "text": [
      "100%|██████████| 280/280 [00:03<00:00, 74.43it/s]\n",
      "100%|██████████| 70/70 [00:00<00:00, 120.33it/s]\n",
      "100%|██████████| 943/943 [00:00<00:00, 3137.30it/s]\n"
     ]
    },
    {
     "name": "stdout",
     "output_type": "stream",
     "text": [
      "Epoch 11: train loss :   0.165483   val loss :   0.160905   val score :   0.213150\n",
      "------ epoch:12 ------\n"
     ]
    },
    {
     "name": "stderr",
     "output_type": "stream",
     "text": [
      "100%|██████████| 280/280 [00:03<00:00, 75.22it/s]\n",
      "100%|██████████| 70/70 [00:00<00:00, 120.72it/s]\n",
      "100%|██████████| 943/943 [00:00<00:00, 3145.43it/s]\n"
     ]
    },
    {
     "name": "stdout",
     "output_type": "stream",
     "text": [
      "Epoch 12: train loss :   0.165510   val loss :   0.160890   val score :   0.208908\n",
      "Epoch 00012: reducing learning rate of group 0 to 1.0000e-03.\n",
      "------ epoch:13 ------\n"
     ]
    },
    {
     "name": "stderr",
     "output_type": "stream",
     "text": [
      "100%|██████████| 280/280 [00:03<00:00, 72.27it/s]\n",
      "100%|██████████| 70/70 [00:00<00:00, 116.53it/s]\n",
      "100%|██████████| 943/943 [00:00<00:00, 3104.81it/s]\n"
     ]
    },
    {
     "name": "stdout",
     "output_type": "stream",
     "text": [
      "Epoch 13: train loss :   0.165395   val loss :   0.160863   val score :   0.217391\n",
      "------ epoch:14 ------\n"
     ]
    },
    {
     "name": "stderr",
     "output_type": "stream",
     "text": [
      "100%|██████████| 280/280 [00:03<00:00, 75.70it/s]\n",
      "100%|██████████| 70/70 [00:00<00:00, 138.13it/s]\n",
      "100%|██████████| 943/943 [00:00<00:00, 3149.86it/s]\n"
     ]
    },
    {
     "name": "stdout",
     "output_type": "stream",
     "text": [
      "Epoch 14: train loss :   0.165306   val loss :   0.160852   val score :   0.220573\n",
      "------ epoch:15 ------\n"
     ]
    },
    {
     "name": "stderr",
     "output_type": "stream",
     "text": [
      "100%|██████████| 280/280 [00:03<00:00, 75.26it/s]\n",
      "100%|██████████| 70/70 [00:00<00:00, 120.30it/s]\n",
      "100%|██████████| 943/943 [00:00<00:00, 3142.68it/s]\n"
     ]
    },
    {
     "name": "stdout",
     "output_type": "stream",
     "text": [
      "Epoch 15: train loss :   0.165331   val loss :   0.160847   val score :   0.217391\n",
      "------ epoch:16 ------\n"
     ]
    },
    {
     "name": "stderr",
     "output_type": "stream",
     "text": [
      "100%|██████████| 280/280 [00:03<00:00, 74.93it/s]\n",
      "100%|██████████| 70/70 [00:00<00:00, 114.43it/s]\n",
      "100%|██████████| 943/943 [00:00<00:00, 3082.25it/s]\n"
     ]
    },
    {
     "name": "stdout",
     "output_type": "stream",
     "text": [
      "Epoch 16: train loss :   0.165321   val loss :   0.160844   val score :   0.220573\n",
      "------ epoch:17 ------\n"
     ]
    },
    {
     "name": "stderr",
     "output_type": "stream",
     "text": [
      "100%|██████████| 280/280 [00:03<00:00, 74.35it/s]\n",
      "100%|██████████| 70/70 [00:00<00:00, 119.97it/s]\n",
      "100%|██████████| 943/943 [00:00<00:00, 3102.77it/s]\n"
     ]
    },
    {
     "name": "stdout",
     "output_type": "stream",
     "text": [
      "Epoch 17: train loss :   0.165254   val loss :   0.160841   val score :   0.216331\n",
      "Epoch 00017: reducing learning rate of group 0 to 1.0000e-04.\n",
      "------ epoch:18 ------\n"
     ]
    },
    {
     "name": "stderr",
     "output_type": "stream",
     "text": [
      "100%|██████████| 280/280 [00:03<00:00, 74.82it/s]\n",
      "100%|██████████| 70/70 [00:00<00:00, 136.81it/s]\n",
      "100%|██████████| 943/943 [00:00<00:00, 3077.01it/s]\n"
     ]
    },
    {
     "name": "stdout",
     "output_type": "stream",
     "text": [
      "Epoch 18: train loss :   0.165285   val loss :   0.160841   val score :   0.216331\n",
      "------ epoch:19 ------\n"
     ]
    },
    {
     "name": "stderr",
     "output_type": "stream",
     "text": [
      "100%|██████████| 280/280 [00:03<00:00, 74.31it/s]\n",
      "100%|██████████| 70/70 [00:00<00:00, 111.01it/s]\n",
      "100%|██████████| 943/943 [00:00<00:00, 3057.08it/s]\n"
     ]
    },
    {
     "name": "stdout",
     "output_type": "stream",
     "text": [
      "Epoch 19: train loss :   0.165296   val loss :   0.160842   val score :   0.216331\n",
      "------ epoch:20 ------\n"
     ]
    },
    {
     "name": "stderr",
     "output_type": "stream",
     "text": [
      "100%|██████████| 280/280 [00:03<00:00, 73.15it/s]\n",
      "100%|██████████| 70/70 [00:00<00:00, 119.28it/s]\n",
      "100%|██████████| 943/943 [00:00<00:00, 3040.87it/s]\n"
     ]
    },
    {
     "name": "stdout",
     "output_type": "stream",
     "text": [
      "Epoch 20: train loss :   0.165271   val loss :   0.160841   val score :   0.217391\n",
      "Epoch 00020: reducing learning rate of group 0 to 1.0000e-05.\n",
      "------ repeat : 1 ------\n",
      "------ epoch:1 ------\n"
     ]
    },
    {
     "name": "stderr",
     "output_type": "stream",
     "text": [
      "100%|██████████| 280/280 [00:03<00:00, 74.05it/s]\n",
      "100%|██████████| 70/70 [00:00<00:00, 117.91it/s]\n",
      "100%|██████████| 943/943 [00:00<00:00, 3073.97it/s]\n"
     ]
    },
    {
     "name": "stdout",
     "output_type": "stream",
     "text": [
      "Epoch 1: train loss :   0.303831   val loss :   0.173944   val score :   0.185578\n",
      "------ epoch:2 ------\n"
     ]
    },
    {
     "name": "stderr",
     "output_type": "stream",
     "text": [
      "100%|██████████| 280/280 [00:03<00:00, 74.96it/s]\n",
      "100%|██████████| 70/70 [00:00<00:00, 134.04it/s]\n",
      "100%|██████████| 943/943 [00:00<00:00, 3017.17it/s]\n"
     ]
    },
    {
     "name": "stdout",
     "output_type": "stream",
     "text": [
      "Epoch 2: train loss :   0.208281   val loss :   0.172223   val score :   0.186638\n",
      "------ epoch:3 ------\n"
     ]
    },
    {
     "name": "stderr",
     "output_type": "stream",
     "text": [
      "100%|██████████| 280/280 [00:03<00:00, 72.78it/s]\n",
      "100%|██████████| 70/70 [00:00<00:00, 118.93it/s]\n",
      "100%|██████████| 943/943 [00:00<00:00, 3056.80it/s]\n"
     ]
    },
    {
     "name": "stdout",
     "output_type": "stream",
     "text": [
      "Epoch 3: train loss :   0.192853   val loss :   0.171198   val score :   0.191941\n",
      "------ epoch:4 ------\n"
     ]
    },
    {
     "name": "stderr",
     "output_type": "stream",
     "text": [
      "100%|██████████| 280/280 [00:03<00:00, 74.24it/s]\n",
      "100%|██████████| 70/70 [00:00<00:00, 116.20it/s]\n",
      "100%|██████████| 943/943 [00:00<00:00, 3065.70it/s]\n"
     ]
    },
    {
     "name": "stdout",
     "output_type": "stream",
     "text": [
      "Epoch 4: train loss :   0.181237   val loss :   0.169551   val score :   0.206787\n",
      "------ epoch:5 ------\n"
     ]
    },
    {
     "name": "stderr",
     "output_type": "stream",
     "text": [
      "100%|██████████| 280/280 [00:03<00:00, 74.09it/s]\n",
      "100%|██████████| 70/70 [00:00<00:00, 132.95it/s]\n",
      "100%|██████████| 943/943 [00:00<00:00, 3078.48it/s]\n"
     ]
    },
    {
     "name": "stdout",
     "output_type": "stream",
     "text": [
      "Epoch 5: train loss :   0.175712   val loss :   0.168502   val score :   0.229056\n",
      "------ epoch:6 ------\n"
     ]
    },
    {
     "name": "stderr",
     "output_type": "stream",
     "text": [
      "100%|██████████| 280/280 [00:03<00:00, 72.92it/s]\n",
      "100%|██████████| 70/70 [00:00<00:00, 116.81it/s]\n",
      "100%|██████████| 943/943 [00:00<00:00, 3132.49it/s]\n"
     ]
    },
    {
     "name": "stdout",
     "output_type": "stream",
     "text": [
      "Epoch 6: train loss :   0.173626   val loss :   0.168186   val score :   0.215270\n",
      "------ epoch:7 ------\n"
     ]
    },
    {
     "name": "stderr",
     "output_type": "stream",
     "text": [
      "100%|██████████| 280/280 [00:03<00:00, 75.51it/s]\n",
      "100%|██████████| 70/70 [00:00<00:00, 120.15it/s]\n",
      "100%|██████████| 943/943 [00:00<00:00, 3151.40it/s]\n"
     ]
    },
    {
     "name": "stdout",
     "output_type": "stream",
     "text": [
      "Epoch 7: train loss :   0.172599   val loss :   0.168004   val score :   0.221633\n",
      "------ epoch:8 ------\n"
     ]
    },
    {
     "name": "stderr",
     "output_type": "stream",
     "text": [
      "100%|██████████| 280/280 [00:03<00:00, 75.20it/s]\n",
      "100%|██████████| 70/70 [00:00<00:00, 119.92it/s]\n",
      "100%|██████████| 943/943 [00:00<00:00, 3136.70it/s]\n"
     ]
    },
    {
     "name": "stdout",
     "output_type": "stream",
     "text": [
      "Epoch 8: train loss :   0.172038   val loss :   0.167903   val score :   0.217391\n",
      "Epoch 00008: reducing learning rate of group 0 to 1.0000e-03.\n",
      "------ epoch:9 ------\n"
     ]
    },
    {
     "name": "stderr",
     "output_type": "stream",
     "text": [
      "100%|██████████| 280/280 [00:03<00:00, 73.76it/s]\n",
      "100%|██████████| 70/70 [00:00<00:00, 137.27it/s]\n",
      "100%|██████████| 943/943 [00:00<00:00, 3085.34it/s]\n"
     ]
    },
    {
     "name": "stdout",
     "output_type": "stream",
     "text": [
      "Epoch 9: train loss :   0.171645   val loss :   0.167865   val score :   0.221633\n",
      "------ epoch:10 ------\n"
     ]
    },
    {
     "name": "stderr",
     "output_type": "stream",
     "text": [
      "100%|██████████| 280/280 [00:03<00:00, 74.03it/s]\n",
      "100%|██████████| 70/70 [00:00<00:00, 118.47it/s]\n",
      "100%|██████████| 943/943 [00:00<00:00, 2994.24it/s]\n"
     ]
    },
    {
     "name": "stdout",
     "output_type": "stream",
     "text": [
      "Epoch 10: train loss :   0.171612   val loss :   0.167838   val score :   0.221633\n",
      "------ epoch:11 ------\n"
     ]
    },
    {
     "name": "stderr",
     "output_type": "stream",
     "text": [
      "100%|██████████| 280/280 [00:03<00:00, 75.05it/s]\n",
      "100%|██████████| 70/70 [00:00<00:00, 116.88it/s]\n",
      "100%|██████████| 943/943 [00:00<00:00, 3096.37it/s]\n"
     ]
    },
    {
     "name": "stdout",
     "output_type": "stream",
     "text": [
      "Epoch 11: train loss :   0.171545   val loss :   0.167817   val score :   0.226935\n",
      "Epoch 00011: reducing learning rate of group 0 to 1.0000e-04.\n"
     ]
    },
    {
     "name": "stderr",
     "output_type": "stream",
     "text": [
      "100%|██████████| 39/39 [00:00<00:00, 138.57it/s]\n",
      "100%|██████████| 943/943 [00:03<00:00, 286.51it/s]\n"
     ]
    },
    {
     "name": "stdout",
     "output_type": "stream",
     "text": [
      "------ repeat : 2 ------\n",
      "------ epoch:1 ------\n"
     ]
    },
    {
     "name": "stderr",
     "output_type": "stream",
     "text": [
      "100%|██████████| 280/280 [00:03<00:00, 73.49it/s]\n",
      "100%|██████████| 70/70 [00:00<00:00, 118.60it/s]\n",
      "100%|██████████| 943/943 [00:00<00:00, 3152.68it/s]\n"
     ]
    },
    {
     "name": "stdout",
     "output_type": "stream",
     "text": [
      "Epoch 1: train loss :   0.307924   val loss :   0.174061   val score :   0.180276\n",
      "------ epoch:2 ------\n"
     ]
    },
    {
     "name": "stderr",
     "output_type": "stream",
     "text": [
      "100%|██████████| 280/280 [00:03<00:00, 75.33it/s]\n",
      "100%|██████████| 70/70 [00:00<00:00, 119.59it/s]\n",
      "100%|██████████| 943/943 [00:00<00:00, 3133.00it/s]\n"
     ]
    },
    {
     "name": "stdout",
     "output_type": "stream",
     "text": [
      "Epoch 2: train loss :   0.209234   val loss :   0.172308   val score :   0.195122\n",
      "------ epoch:3 ------\n"
     ]
    },
    {
     "name": "stderr",
     "output_type": "stream",
     "text": [
      "100%|██████████| 280/280 [00:03<00:00, 75.44it/s]\n",
      "100%|██████████| 70/70 [00:00<00:00, 117.58it/s]\n",
      "100%|██████████| 943/943 [00:00<00:00, 3114.61it/s]\n"
     ]
    },
    {
     "name": "stdout",
     "output_type": "stream",
     "text": [
      "Epoch 3: train loss :   0.193654   val loss :   0.171245   val score :   0.194062\n",
      "------ epoch:4 ------\n"
     ]
    },
    {
     "name": "stderr",
     "output_type": "stream",
     "text": [
      "100%|██████████| 280/280 [00:03<00:00, 73.36it/s]\n",
      "100%|██████████| 70/70 [00:00<00:00, 115.38it/s]\n",
      "100%|██████████| 943/943 [00:00<00:00, 3117.14it/s]\n"
     ]
    },
    {
     "name": "stdout",
     "output_type": "stream",
     "text": [
      "Epoch 4: train loss :   0.181764   val loss :   0.169666   val score :   0.211029\n",
      "------ epoch:5 ------\n"
     ]
    },
    {
     "name": "stderr",
     "output_type": "stream",
     "text": [
      "100%|██████████| 280/280 [00:03<00:00, 74.58it/s]\n",
      "100%|██████████| 70/70 [00:00<00:00, 119.12it/s]\n",
      "100%|██████████| 943/943 [00:00<00:00, 3119.45it/s]\n"
     ]
    },
    {
     "name": "stdout",
     "output_type": "stream",
     "text": [
      "Epoch 5: train loss :   0.175822   val loss :   0.168593   val score :   0.215270\n",
      "------ epoch:6 ------\n"
     ]
    },
    {
     "name": "stderr",
     "output_type": "stream",
     "text": [
      "100%|██████████| 280/280 [00:03<00:00, 74.98it/s]\n",
      "100%|██████████| 70/70 [00:00<00:00, 137.01it/s]\n",
      "100%|██████████| 943/943 [00:00<00:00, 3115.31it/s]\n"
     ]
    },
    {
     "name": "stdout",
     "output_type": "stream",
     "text": [
      "Epoch 6: train loss :   0.173688   val loss :   0.168175   val score :   0.212089\n",
      "------ epoch:7 ------\n"
     ]
    },
    {
     "name": "stderr",
     "output_type": "stream",
     "text": [
      "100%|██████████| 280/280 [00:03<00:00, 73.88it/s]\n",
      "100%|██████████| 70/70 [00:00<00:00, 112.70it/s]\n",
      "100%|██████████| 943/943 [00:00<00:00, 3128.21it/s]\n"
     ]
    },
    {
     "name": "stdout",
     "output_type": "stream",
     "text": [
      "Epoch 7: train loss :   0.172617   val loss :   0.168009   val score :   0.221633\n",
      "------ epoch:8 ------\n"
     ]
    },
    {
     "name": "stderr",
     "output_type": "stream",
     "text": [
      "100%|██████████| 280/280 [00:03<00:00, 73.72it/s]\n",
      "100%|██████████| 70/70 [00:00<00:00, 118.10it/s]\n",
      "100%|██████████| 943/943 [00:00<00:00, 3111.20it/s]\n"
     ]
    },
    {
     "name": "stdout",
     "output_type": "stream",
     "text": [
      "Epoch 8: train loss :   0.172105   val loss :   0.167901   val score :   0.204666\n",
      "------ epoch:9 ------\n"
     ]
    },
    {
     "name": "stderr",
     "output_type": "stream",
     "text": [
      "100%|██████████| 280/280 [00:03<00:00, 74.99it/s]\n",
      "100%|██████████| 70/70 [00:00<00:00, 136.56it/s]\n",
      "100%|██████████| 943/943 [00:00<00:00, 3062.69it/s]\n"
     ]
    },
    {
     "name": "stdout",
     "output_type": "stream",
     "text": [
      "Epoch 9: train loss :   0.171827   val loss :   0.167839   val score :   0.217391\n",
      "------ epoch:10 ------\n"
     ]
    },
    {
     "name": "stderr",
     "output_type": "stream",
     "text": [
      "100%|██████████| 280/280 [00:03<00:00, 74.81it/s]\n",
      "100%|██████████| 70/70 [00:00<00:00, 118.79it/s]\n",
      "100%|██████████| 943/943 [00:00<00:00, 3101.31it/s]\n"
     ]
    },
    {
     "name": "stdout",
     "output_type": "stream",
     "text": [
      "Epoch 10: train loss :   0.171709   val loss :   0.167779   val score :   0.217391\n",
      "Epoch 00010: reducing learning rate of group 0 to 1.0000e-03.\n",
      "------ epoch:11 ------\n"
     ]
    },
    {
     "name": "stderr",
     "output_type": "stream",
     "text": [
      "100%|██████████| 280/280 [00:03<00:00, 73.31it/s]\n",
      "100%|██████████| 70/70 [00:00<00:00, 117.53it/s]\n",
      "100%|██████████| 943/943 [00:00<00:00, 3082.24it/s]\n"
     ]
    },
    {
     "name": "stdout",
     "output_type": "stream",
     "text": [
      "Epoch 11: train loss :   0.171435   val loss :   0.167749   val score :   0.216331\n",
      "------ epoch:12 ------\n"
     ]
    },
    {
     "name": "stderr",
     "output_type": "stream",
     "text": [
      "100%|██████████| 280/280 [00:03<00:00, 74.77it/s]\n",
      "100%|██████████| 70/70 [00:00<00:00, 119.53it/s]\n",
      "100%|██████████| 943/943 [00:00<00:00, 3098.68it/s]\n"
     ]
    },
    {
     "name": "stdout",
     "output_type": "stream",
     "text": [
      "Epoch 12: train loss :   0.171385   val loss :   0.167730   val score :   0.216331\n",
      "------ epoch:13 ------\n"
     ]
    },
    {
     "name": "stderr",
     "output_type": "stream",
     "text": [
      "100%|██████████| 280/280 [00:03<00:00, 75.01it/s]\n",
      "100%|██████████| 70/70 [00:00<00:00, 137.39it/s]\n",
      "100%|██████████| 943/943 [00:00<00:00, 3128.80it/s]\n"
     ]
    },
    {
     "name": "stdout",
     "output_type": "stream",
     "text": [
      "Epoch 13: train loss :   0.171408   val loss :   0.167719   val score :   0.217391\n",
      "Epoch 00013: reducing learning rate of group 0 to 1.0000e-04.\n"
     ]
    },
    {
     "name": "stderr",
     "output_type": "stream",
     "text": [
      "100%|██████████| 39/39 [00:00<00:00, 107.87it/s]\n",
      "100%|██████████| 943/943 [00:03<00:00, 283.98it/s]\n"
     ]
    },
    {
     "name": "stdout",
     "output_type": "stream",
     "text": [
      "------ repeat : 3 ------\n",
      "------ epoch:1 ------\n"
     ]
    },
    {
     "name": "stderr",
     "output_type": "stream",
     "text": [
      "100%|██████████| 280/280 [00:03<00:00, 74.25it/s]\n",
      "100%|██████████| 70/70 [00:00<00:00, 136.37it/s]\n",
      "100%|██████████| 943/943 [00:00<00:00, 3104.97it/s]\n"
     ]
    },
    {
     "name": "stdout",
     "output_type": "stream",
     "text": [
      "Epoch 1: train loss :   0.307386   val loss :   0.173918   val score :   0.196182\n",
      "------ epoch:2 ------\n"
     ]
    },
    {
     "name": "stderr",
     "output_type": "stream",
     "text": [
      "100%|██████████| 280/280 [00:03<00:00, 74.84it/s]\n",
      "100%|██████████| 70/70 [00:00<00:00, 119.27it/s]\n",
      "100%|██████████| 943/943 [00:00<00:00, 3118.56it/s]\n"
     ]
    },
    {
     "name": "stdout",
     "output_type": "stream",
     "text": [
      "Epoch 2: train loss :   0.209359   val loss :   0.172336   val score :   0.194062\n",
      "------ epoch:3 ------\n"
     ]
    },
    {
     "name": "stderr",
     "output_type": "stream",
     "text": [
      "100%|██████████| 280/280 [00:03<00:00, 75.24it/s]\n",
      "100%|██████████| 70/70 [00:00<00:00, 118.66it/s]\n",
      "100%|██████████| 943/943 [00:00<00:00, 2797.66it/s]\n"
     ]
    },
    {
     "name": "stdout",
     "output_type": "stream",
     "text": [
      "Epoch 3: train loss :   0.193609   val loss :   0.171258   val score :   0.196182\n",
      "------ epoch:4 ------\n"
     ]
    },
    {
     "name": "stderr",
     "output_type": "stream",
     "text": [
      "100%|██████████| 280/280 [00:03<00:00, 74.83it/s]\n",
      "100%|██████████| 70/70 [00:00<00:00, 118.42it/s]\n",
      "100%|██████████| 943/943 [00:00<00:00, 3161.60it/s]\n"
     ]
    },
    {
     "name": "stdout",
     "output_type": "stream",
     "text": [
      "Epoch 4: train loss :   0.181491   val loss :   0.169570   val score :   0.233298\n",
      "------ epoch:5 ------\n"
     ]
    },
    {
     "name": "stderr",
     "output_type": "stream",
     "text": [
      "100%|██████████| 280/280 [00:03<00:00, 75.61it/s]\n",
      "100%|██████████| 70/70 [00:00<00:00, 136.62it/s]\n",
      "100%|██████████| 943/943 [00:00<00:00, 3184.29it/s]\n"
     ]
    },
    {
     "name": "stdout",
     "output_type": "stream",
     "text": [
      "Epoch 5: train loss :   0.175619   val loss :   0.168525   val score :   0.242842\n",
      "------ epoch:6 ------\n"
     ]
    },
    {
     "name": "stderr",
     "output_type": "stream",
     "text": [
      "100%|██████████| 280/280 [00:03<00:00, 75.49it/s]\n",
      "100%|██████████| 70/70 [00:00<00:00, 120.53it/s]\n",
      "100%|██████████| 943/943 [00:00<00:00, 3164.08it/s]\n"
     ]
    },
    {
     "name": "stdout",
     "output_type": "stream",
     "text": [
      "Epoch 6: train loss :   0.173567   val loss :   0.168156   val score :   0.242842\n",
      "------ epoch:7 ------\n"
     ]
    },
    {
     "name": "stderr",
     "output_type": "stream",
     "text": [
      "100%|██████████| 280/280 [00:03<00:00, 74.36it/s]\n",
      "100%|██████████| 70/70 [00:00<00:00, 114.88it/s]\n",
      "100%|██████████| 943/943 [00:00<00:00, 3138.88it/s]\n"
     ]
    },
    {
     "name": "stdout",
     "output_type": "stream",
     "text": [
      "Epoch 7: train loss :   0.172594   val loss :   0.168003   val score :   0.241782\n",
      "------ epoch:8 ------\n"
     ]
    },
    {
     "name": "stderr",
     "output_type": "stream",
     "text": [
      "100%|██████████| 280/280 [00:03<00:00, 75.78it/s]\n",
      "100%|██████████| 70/70 [00:00<00:00, 138.39it/s]\n",
      "100%|██████████| 943/943 [00:00<00:00, 3139.20it/s]\n"
     ]
    },
    {
     "name": "stdout",
     "output_type": "stream",
     "text": [
      "Epoch 8: train loss :   0.172036   val loss :   0.167866   val score :   0.236479\n",
      "Epoch 00008: reducing learning rate of group 0 to 1.0000e-03.\n",
      "------ epoch:9 ------\n"
     ]
    },
    {
     "name": "stderr",
     "output_type": "stream",
     "text": [
      "100%|██████████| 280/280 [00:03<00:00, 75.87it/s]\n",
      "100%|██████████| 70/70 [00:00<00:00, 120.62it/s]\n",
      "100%|██████████| 943/943 [00:00<00:00, 3163.72it/s]\n"
     ]
    },
    {
     "name": "stdout",
     "output_type": "stream",
     "text": [
      "Epoch 9: train loss :   0.171710   val loss :   0.167842   val score :   0.238600\n",
      "------ epoch:10 ------\n"
     ]
    },
    {
     "name": "stderr",
     "output_type": "stream",
     "text": [
      "100%|██████████| 280/280 [00:03<00:00, 74.92it/s]\n",
      "100%|██████████| 70/70 [00:00<00:00, 118.26it/s]\n",
      "100%|██████████| 943/943 [00:00<00:00, 3136.73it/s]\n"
     ]
    },
    {
     "name": "stdout",
     "output_type": "stream",
     "text": [
      "Epoch 10: train loss :   0.171637   val loss :   0.167825   val score :   0.240721\n",
      "------ epoch:11 ------\n"
     ]
    },
    {
     "name": "stderr",
     "output_type": "stream",
     "text": [
      "100%|██████████| 280/280 [00:03<00:00, 73.68it/s]\n",
      "100%|██████████| 70/70 [00:00<00:00, 138.62it/s]\n",
      "100%|██████████| 943/943 [00:00<00:00, 3196.45it/s]\n"
     ]
    },
    {
     "name": "stdout",
     "output_type": "stream",
     "text": [
      "Epoch 11: train loss :   0.171635   val loss :   0.167812   val score :   0.238600\n",
      "Epoch 00011: reducing learning rate of group 0 to 1.0000e-04.\n"
     ]
    },
    {
     "name": "stderr",
     "output_type": "stream",
     "text": [
      "100%|██████████| 39/39 [00:00<00:00, 110.36it/s]\n",
      "100%|██████████| 943/943 [00:03<00:00, 293.02it/s]\n"
     ]
    },
    {
     "name": "stdout",
     "output_type": "stream",
     "text": [
      "------ repeat : 4 ------\n",
      "------ epoch:1 ------\n"
     ]
    },
    {
     "name": "stderr",
     "output_type": "stream",
     "text": [
      "100%|██████████| 280/280 [00:03<00:00, 75.44it/s]\n",
      "100%|██████████| 70/70 [00:00<00:00, 120.41it/s]\n",
      "100%|██████████| 943/943 [00:00<00:00, 3154.45it/s]\n"
     ]
    },
    {
     "name": "stdout",
     "output_type": "stream",
     "text": [
      "Epoch 1: train loss :   0.307044   val loss :   0.173924   val score :   0.179215\n",
      "------ epoch:2 ------\n"
     ]
    },
    {
     "name": "stderr",
     "output_type": "stream",
     "text": [
      "100%|██████████| 280/280 [00:03<00:00, 72.11it/s]\n",
      "100%|██████████| 70/70 [00:00<00:00, 134.94it/s]\n",
      "100%|██████████| 943/943 [00:00<00:00, 3052.42it/s]\n"
     ]
    },
    {
     "name": "stdout",
     "output_type": "stream",
     "text": [
      "Epoch 2: train loss :   0.208701   val loss :   0.172298   val score :   0.186638\n",
      "------ epoch:3 ------\n"
     ]
    },
    {
     "name": "stderr",
     "output_type": "stream",
     "text": [
      "100%|██████████| 280/280 [00:03<00:00, 73.86it/s]\n",
      "100%|██████████| 70/70 [00:00<00:00, 117.52it/s]\n",
      "100%|██████████| 943/943 [00:00<00:00, 3069.28it/s]\n"
     ]
    },
    {
     "name": "stdout",
     "output_type": "stream",
     "text": [
      "Epoch 3: train loss :   0.193311   val loss :   0.171231   val score :   0.216331\n",
      "------ epoch:4 ------\n"
     ]
    },
    {
     "name": "stderr",
     "output_type": "stream",
     "text": [
      "100%|██████████| 280/280 [00:03<00:00, 74.35it/s]\n",
      "100%|██████████| 70/70 [00:00<00:00, 118.08it/s]\n",
      "100%|██████████| 943/943 [00:00<00:00, 3073.30it/s]\n"
     ]
    },
    {
     "name": "stdout",
     "output_type": "stream",
     "text": [
      "Epoch 4: train loss :   0.181471   val loss :   0.169611   val score :   0.239661\n",
      "------ epoch:5 ------\n"
     ]
    },
    {
     "name": "stderr",
     "output_type": "stream",
     "text": [
      "100%|██████████| 280/280 [00:03<00:00, 72.97it/s]\n",
      "100%|██████████| 70/70 [00:00<00:00, 134.61it/s]\n",
      "100%|██████████| 943/943 [00:00<00:00, 3164.61it/s]\n"
     ]
    },
    {
     "name": "stdout",
     "output_type": "stream",
     "text": [
      "Epoch 5: train loss :   0.175767   val loss :   0.168553   val score :   0.260870\n",
      "------ epoch:6 ------\n"
     ]
    },
    {
     "name": "stderr",
     "output_type": "stream",
     "text": [
      "100%|██████████| 280/280 [00:03<00:00, 75.58it/s]\n",
      "100%|██████████| 70/70 [00:00<00:00, 120.56it/s]\n",
      "100%|██████████| 943/943 [00:00<00:00, 3172.43it/s]\n"
     ]
    },
    {
     "name": "stdout",
     "output_type": "stream",
     "text": [
      "Epoch 6: train loss :   0.173623   val loss :   0.168160   val score :   0.259809\n",
      "------ epoch:7 ------\n"
     ]
    },
    {
     "name": "stderr",
     "output_type": "stream",
     "text": [
      "100%|██████████| 280/280 [00:03<00:00, 76.00it/s]\n",
      "100%|██████████| 70/70 [00:00<00:00, 120.74it/s]\n",
      "100%|██████████| 943/943 [00:00<00:00, 3162.46it/s]\n"
     ]
    },
    {
     "name": "stdout",
     "output_type": "stream",
     "text": [
      "Epoch 7: train loss :   0.172642   val loss :   0.167993   val score :   0.257688\n",
      "------ epoch:8 ------\n"
     ]
    },
    {
     "name": "stderr",
     "output_type": "stream",
     "text": [
      "100%|██████████| 280/280 [00:03<00:00, 76.05it/s]\n",
      "100%|██████████| 70/70 [00:00<00:00, 115.72it/s]\n",
      "100%|██████████| 943/943 [00:00<00:00, 3119.25it/s]\n"
     ]
    },
    {
     "name": "stdout",
     "output_type": "stream",
     "text": [
      "Epoch 8: train loss :   0.172079   val loss :   0.167890   val score :   0.267232\n",
      "------ epoch:9 ------\n"
     ]
    },
    {
     "name": "stderr",
     "output_type": "stream",
     "text": [
      "100%|██████████| 280/280 [00:03<00:00, 72.78it/s]\n",
      "100%|██████████| 70/70 [00:00<00:00, 136.24it/s]\n",
      "100%|██████████| 943/943 [00:00<00:00, 3104.86it/s]\n"
     ]
    },
    {
     "name": "stdout",
     "output_type": "stream",
     "text": [
      "Epoch 9: train loss :   0.171808   val loss :   0.167817   val score :   0.264051\n",
      "------ epoch:10 ------\n"
     ]
    },
    {
     "name": "stderr",
     "output_type": "stream",
     "text": [
      "100%|██████████| 280/280 [00:03<00:00, 74.80it/s]\n",
      "100%|██████████| 70/70 [00:00<00:00, 118.34it/s]\n",
      "100%|██████████| 943/943 [00:00<00:00, 3099.00it/s]\n"
     ]
    },
    {
     "name": "stdout",
     "output_type": "stream",
     "text": [
      "Epoch 10: train loss :   0.171646   val loss :   0.167755   val score :   0.261930\n",
      "------ epoch:11 ------\n"
     ]
    },
    {
     "name": "stderr",
     "output_type": "stream",
     "text": [
      "100%|██████████| 280/280 [00:03<00:00, 74.69it/s]\n",
      "100%|██████████| 70/70 [00:00<00:00, 118.39it/s]\n",
      "100%|██████████| 943/943 [00:00<00:00, 3101.46it/s]\n"
     ]
    },
    {
     "name": "stdout",
     "output_type": "stream",
     "text": [
      "Epoch 11: train loss :   0.171617   val loss :   0.167771   val score :   0.264051\n",
      "Epoch 00011: reducing learning rate of group 0 to 1.0000e-03.\n",
      "------ epoch:12 ------\n"
     ]
    },
    {
     "name": "stderr",
     "output_type": "stream",
     "text": [
      "100%|██████████| 280/280 [00:03<00:00, 72.91it/s]\n",
      "100%|██████████| 70/70 [00:00<00:00, 133.85it/s]\n",
      "100%|██████████| 943/943 [00:00<00:00, 3066.58it/s]\n"
     ]
    },
    {
     "name": "stdout",
     "output_type": "stream",
     "text": [
      "Epoch 12: train loss :   0.171393   val loss :   0.167739   val score :   0.262990\n",
      "------ epoch:13 ------\n"
     ]
    },
    {
     "name": "stderr",
     "output_type": "stream",
     "text": [
      "100%|██████████| 280/280 [00:03<00:00, 74.22it/s]\n",
      "100%|██████████| 70/70 [00:00<00:00, 117.42it/s]\n",
      "100%|██████████| 943/943 [00:00<00:00, 3102.33it/s]\n"
     ]
    },
    {
     "name": "stdout",
     "output_type": "stream",
     "text": [
      "Epoch 13: train loss :   0.171382   val loss :   0.167719   val score :   0.265111\n",
      "------ epoch:14 ------\n"
     ]
    },
    {
     "name": "stderr",
     "output_type": "stream",
     "text": [
      "100%|██████████| 280/280 [00:03<00:00, 74.59it/s]\n",
      "100%|██████████| 70/70 [00:00<00:00, 116.76it/s]\n",
      "100%|██████████| 943/943 [00:00<00:00, 3043.19it/s]\n"
     ]
    },
    {
     "name": "stdout",
     "output_type": "stream",
     "text": [
      "Epoch 14: train loss :   0.171357   val loss :   0.167707   val score :   0.265111\n",
      "Epoch 00014: reducing learning rate of group 0 to 1.0000e-04.\n"
     ]
    },
    {
     "name": "stderr",
     "output_type": "stream",
     "text": [
      "100%|██████████| 39/39 [00:00<00:00, 137.29it/s]\n",
      "100%|██████████| 943/943 [00:03<00:00, 283.50it/s]\n"
     ]
    },
    {
     "name": "stdout",
     "output_type": "stream",
     "text": [
      "------ repeat : 5 ------\n",
      "------ epoch:1 ------\n"
     ]
    },
    {
     "name": "stderr",
     "output_type": "stream",
     "text": [
      "100%|██████████| 280/280 [00:03<00:00, 74.27it/s]\n",
      "100%|██████████| 70/70 [00:00<00:00, 120.18it/s]\n",
      "100%|██████████| 943/943 [00:00<00:00, 3181.90it/s]\n"
     ]
    },
    {
     "name": "stdout",
     "output_type": "stream",
     "text": [
      "Epoch 1: train loss :   0.308430   val loss :   0.174121   val score :   0.178155\n",
      "------ epoch:2 ------\n"
     ]
    },
    {
     "name": "stderr",
     "output_type": "stream",
     "text": [
      "100%|██████████| 280/280 [00:03<00:00, 75.39it/s]\n",
      "100%|██████████| 70/70 [00:00<00:00, 119.23it/s]\n",
      "100%|██████████| 943/943 [00:00<00:00, 3168.17it/s]\n"
     ]
    },
    {
     "name": "stdout",
     "output_type": "stream",
     "text": [
      "Epoch 2: train loss :   0.209568   val loss :   0.172443   val score :   0.194062\n",
      "------ epoch:3 ------\n"
     ]
    },
    {
     "name": "stderr",
     "output_type": "stream",
     "text": [
      "100%|██████████| 280/280 [00:03<00:00, 75.74it/s]\n",
      "100%|██████████| 70/70 [00:00<00:00, 138.38it/s]\n",
      "100%|██████████| 943/943 [00:00<00:00, 3142.61it/s]\n"
     ]
    },
    {
     "name": "stdout",
     "output_type": "stream",
     "text": [
      "Epoch 3: train loss :   0.193728   val loss :   0.171414   val score :   0.203606\n",
      "------ epoch:4 ------\n"
     ]
    },
    {
     "name": "stderr",
     "output_type": "stream",
     "text": [
      "100%|██████████| 280/280 [00:03<00:00, 74.00it/s]\n",
      "100%|██████████| 70/70 [00:00<00:00, 120.03it/s]\n",
      "100%|██████████| 943/943 [00:00<00:00, 3090.51it/s]\n"
     ]
    },
    {
     "name": "stdout",
     "output_type": "stream",
     "text": [
      "Epoch 4: train loss :   0.181597   val loss :   0.169668   val score :   0.237540\n",
      "------ epoch:5 ------\n"
     ]
    },
    {
     "name": "stderr",
     "output_type": "stream",
     "text": [
      "100%|██████████| 280/280 [00:03<00:00, 75.42it/s]\n",
      "100%|██████████| 70/70 [00:00<00:00, 120.73it/s]\n",
      "100%|██████████| 943/943 [00:00<00:00, 3171.36it/s]\n"
     ]
    },
    {
     "name": "stdout",
     "output_type": "stream",
     "text": [
      "Epoch 5: train loss :   0.175735   val loss :   0.168555   val score :   0.249205\n",
      "------ epoch:6 ------\n"
     ]
    },
    {
     "name": "stderr",
     "output_type": "stream",
     "text": [
      "100%|██████████| 280/280 [00:03<00:00, 75.33it/s]\n",
      "100%|██████████| 70/70 [00:00<00:00, 138.56it/s]\n",
      "100%|██████████| 943/943 [00:00<00:00, 3180.26it/s]\n"
     ]
    },
    {
     "name": "stdout",
     "output_type": "stream",
     "text": [
      "Epoch 6: train loss :   0.173596   val loss :   0.168166   val score :   0.243902\n",
      "------ epoch:7 ------\n"
     ]
    },
    {
     "name": "stderr",
     "output_type": "stream",
     "text": [
      "100%|██████████| 280/280 [00:03<00:00, 72.79it/s]\n",
      "100%|██████████| 70/70 [00:00<00:00, 118.35it/s]\n",
      "100%|██████████| 943/943 [00:00<00:00, 3091.76it/s]\n"
     ]
    },
    {
     "name": "stdout",
     "output_type": "stream",
     "text": [
      "Epoch 7: train loss :   0.172658   val loss :   0.167979   val score :   0.250265\n",
      "------ epoch:8 ------\n"
     ]
    },
    {
     "name": "stderr",
     "output_type": "stream",
     "text": [
      "100%|██████████| 280/280 [00:03<00:00, 75.26it/s]\n",
      "100%|██████████| 70/70 [00:00<00:00, 119.53it/s]\n",
      "100%|██████████| 943/943 [00:00<00:00, 3096.58it/s]\n"
     ]
    },
    {
     "name": "stdout",
     "output_type": "stream",
     "text": [
      "Epoch 8: train loss :   0.172075   val loss :   0.167890   val score :   0.254507\n",
      "------ epoch:9 ------\n"
     ]
    },
    {
     "name": "stderr",
     "output_type": "stream",
     "text": [
      "100%|██████████| 280/280 [00:03<00:00, 75.17it/s]\n",
      "100%|██████████| 70/70 [00:00<00:00, 119.51it/s]\n",
      "100%|██████████| 943/943 [00:00<00:00, 3111.81it/s]\n"
     ]
    },
    {
     "name": "stdout",
     "output_type": "stream",
     "text": [
      "Epoch 9: train loss :   0.171799   val loss :   0.167796   val score :   0.252386\n",
      "------ epoch:10 ------\n"
     ]
    },
    {
     "name": "stderr",
     "output_type": "stream",
     "text": [
      "100%|██████████| 280/280 [00:03<00:00, 76.50it/s]\n",
      "100%|██████████| 70/70 [00:00<00:00, 118.29it/s]\n",
      "100%|██████████| 943/943 [00:00<00:00, 3137.86it/s]\n"
     ]
    },
    {
     "name": "stdout",
     "output_type": "stream",
     "text": [
      "Epoch 10: train loss :   0.171726   val loss :   0.167761   val score :   0.254507\n",
      "------ epoch:11 ------\n"
     ]
    },
    {
     "name": "stderr",
     "output_type": "stream",
     "text": [
      "100%|██████████| 280/280 [00:03<00:00, 73.96it/s]\n",
      "100%|██████████| 70/70 [00:00<00:00, 116.64it/s]\n",
      "100%|██████████| 943/943 [00:00<00:00, 3150.65it/s]\n"
     ]
    },
    {
     "name": "stdout",
     "output_type": "stream",
     "text": [
      "Epoch 11: train loss :   0.171640   val loss :   0.167735   val score :   0.248144\n",
      "Epoch 00011: reducing learning rate of group 0 to 1.0000e-03.\n",
      "------ epoch:12 ------\n"
     ]
    },
    {
     "name": "stderr",
     "output_type": "stream",
     "text": [
      "100%|██████████| 280/280 [00:03<00:00, 74.29it/s]\n",
      "100%|██████████| 70/70 [00:00<00:00, 119.23it/s]\n",
      "100%|██████████| 943/943 [00:00<00:00, 3110.02it/s]\n"
     ]
    },
    {
     "name": "stdout",
     "output_type": "stream",
     "text": [
      "Epoch 12: train loss :   0.171410   val loss :   0.167710   val score :   0.251326\n",
      "------ epoch:13 ------\n"
     ]
    },
    {
     "name": "stderr",
     "output_type": "stream",
     "text": [
      "100%|██████████| 280/280 [00:03<00:00, 74.89it/s]\n",
      "100%|██████████| 70/70 [00:00<00:00, 137.09it/s]\n",
      "100%|██████████| 943/943 [00:00<00:00, 3149.34it/s]\n"
     ]
    },
    {
     "name": "stdout",
     "output_type": "stream",
     "text": [
      "Epoch 13: train loss :   0.171360   val loss :   0.167695   val score :   0.248144\n",
      "------ epoch:14 ------\n"
     ]
    },
    {
     "name": "stderr",
     "output_type": "stream",
     "text": [
      "100%|██████████| 280/280 [00:03<00:00, 73.35it/s]\n",
      "100%|██████████| 70/70 [00:00<00:00, 119.45it/s]\n",
      "100%|██████████| 943/943 [00:00<00:00, 3163.24it/s]\n"
     ]
    },
    {
     "name": "stdout",
     "output_type": "stream",
     "text": [
      "Epoch 14: train loss :   0.171351   val loss :   0.167687   val score :   0.249205\n",
      "Epoch 00014: reducing learning rate of group 0 to 1.0000e-04.\n"
     ]
    },
    {
     "name": "stderr",
     "output_type": "stream",
     "text": [
      "100%|██████████| 39/39 [00:00<00:00, 141.09it/s]\n",
      "100%|██████████| 943/943 [00:03<00:00, 281.66it/s]\n"
     ]
    }
   ],
   "source": [
    "# 只有这里了\n",
    "# 希望比4高\n",
    "kwargs_ = {\n",
    "'embedding_dim' : 20,\n",
    "'lr' : 1e-2,\n",
    "'alpha' : 1e-2,\n",
    "'lam' : 1e-2,\n",
    "'phi_theta' : 1e-2,\n",
    "'phi_r' : 1e-2, \n",
    "'mu' : 1e-1, \n",
    "'model_type' : 4,\n",
    "'num_users' : 943,\n",
    "'num_items' : 1682,\n",
    "}\n",
    "embedding_dim = 10\n",
    "lr = 1e-2\n",
    "alpha = 1e-2\n",
    "lam = 1e-3\n",
    "phi_r = 1e-3\n",
    "phi_theta = 1e-2\n",
    "mu = 0.1\n",
    "model_type = 5\n",
    "seed_everything(42)\n",
    "Test2(train, test, percentage, model_type, num_users=num_users, num_items=num_items, repeats=5, lam=lam, phi_r=phi_r, phi_theta=phi_theta, \n",
    "     mu=mu, embedding_dim=embedding_dim, lr=lr, alpha=alpha, patience=5, epochs=30, device=\"cuda:0\", model_selection=False, kwargs_=kwargs_)"
   ]
  },
  {
   "cell_type": "markdown",
   "id": "ebd0271c-b01b-4e1a-b2bb-708485d22aa3",
   "metadata": {},
   "source": [
    "## 二. per = 75%"
   ]
  },
  {
   "cell_type": "code",
   "execution_count": 8,
   "id": "4fda59b1-8a82-4143-a73e-857830f817aa",
   "metadata": {
    "tags": []
   },
   "outputs": [
    {
     "name": "stderr",
     "output_type": "stream",
     "text": [
      "100%|██████████| 1682/1682 [00:01<00:00, 1282.68it/s]\n"
     ]
    }
   ],
   "source": [
    "seed_everything(42)\n",
    "percentage = 0.75\n",
    "click_data, _, _ = generate_click_data(data, num_users, num_items, power=1)\n",
    "click_data = get_theta_hat(click_data, percentage=percentage)\n",
    "neg_data = click_data[click_data[:, 6]==0, :]\n",
    "pos_data = click_data[click_data[:, 6]==1, :]\n",
    "train, test = train_test_split(neg_data, test_size=0.1, random_state=0)\n",
    "train = torch.vstack([pos_data, train]) # 使用未被点击的一部分作为测试集"
   ]
  },
  {
   "cell_type": "markdown",
   "id": "2b7f9fbf-d940-499c-ad24-08582e923528",
   "metadata": {},
   "source": [
    "### 3"
   ]
  },
  {
   "cell_type": "code",
   "execution_count": 9,
   "id": "0faa3152-7bda-498e-9474-228df8143b52",
   "metadata": {
    "collapsed": true,
    "jupyter": {
     "outputs_hidden": true
    },
    "tags": []
   },
   "outputs": [
    {
     "name": "stdout",
     "output_type": "stream",
     "text": [
      "------ repeat : 1 ------\n",
      "------ epoch:1 ------\n"
     ]
    },
    {
     "name": "stderr",
     "output_type": "stream",
     "text": [
      "100%|██████████| 280/280 [00:03<00:00, 71.85it/s]\n",
      "100%|██████████| 70/70 [00:00<00:00, 131.53it/s]\n",
      "100%|██████████| 943/943 [00:00<00:00, 2223.11it/s]\n"
     ]
    },
    {
     "name": "stdout",
     "output_type": "stream",
     "text": [
      "Epoch 1: train loss :   0.289406   val loss :   0.139839   val score :   0.178155\n",
      "------ epoch:2 ------\n"
     ]
    },
    {
     "name": "stderr",
     "output_type": "stream",
     "text": [
      "100%|██████████| 280/280 [00:03<00:00, 71.63it/s]\n",
      "100%|██████████| 70/70 [00:00<00:00, 133.27it/s]\n",
      "100%|██████████| 943/943 [00:00<00:00, 2043.26it/s]\n"
     ]
    },
    {
     "name": "stdout",
     "output_type": "stream",
     "text": [
      "Epoch 2: train loss :   0.186589   val loss :   0.137691   val score :   0.182397\n",
      "------ epoch:3 ------\n"
     ]
    },
    {
     "name": "stderr",
     "output_type": "stream",
     "text": [
      "100%|██████████| 280/280 [00:03<00:00, 73.61it/s]\n",
      "100%|██████████| 70/70 [00:00<00:00, 117.60it/s]\n",
      "100%|██████████| 943/943 [00:00<00:00, 2453.89it/s]\n"
     ]
    },
    {
     "name": "stdout",
     "output_type": "stream",
     "text": [
      "Epoch 3: train loss :   0.171578   val loss :   0.135821   val score :   0.188759\n",
      "------ epoch:4 ------\n"
     ]
    },
    {
     "name": "stderr",
     "output_type": "stream",
     "text": [
      "100%|██████████| 280/280 [00:03<00:00, 73.24it/s]\n",
      "100%|██████████| 70/70 [00:00<00:00, 116.83it/s]\n",
      "100%|██████████| 943/943 [00:00<00:00, 2451.09it/s]\n"
     ]
    },
    {
     "name": "stdout",
     "output_type": "stream",
     "text": [
      "Epoch 4: train loss :   0.159413   val loss :   0.134139   val score :   0.190880\n",
      "------ epoch:5 ------\n"
     ]
    },
    {
     "name": "stderr",
     "output_type": "stream",
     "text": [
      "100%|██████████| 280/280 [00:03<00:00, 71.81it/s]\n",
      "100%|██████████| 70/70 [00:00<00:00, 117.73it/s]\n",
      "100%|██████████| 943/943 [00:00<00:00, 2414.32it/s]\n"
     ]
    },
    {
     "name": "stdout",
     "output_type": "stream",
     "text": [
      "Epoch 5: train loss :   0.150022   val loss :   0.132216   val score :   0.201485\n",
      "------ epoch:6 ------\n"
     ]
    },
    {
     "name": "stderr",
     "output_type": "stream",
     "text": [
      "100%|██████████| 280/280 [00:03<00:00, 73.77it/s]\n",
      "100%|██████████| 70/70 [00:00<00:00, 118.92it/s]\n",
      "100%|██████████| 943/943 [00:00<00:00, 2016.32it/s]\n"
     ]
    },
    {
     "name": "stdout",
     "output_type": "stream",
     "text": [
      "Epoch 6: train loss :   0.144421   val loss :   0.130823   val score :   0.206787\n",
      "------ epoch:7 ------\n"
     ]
    },
    {
     "name": "stderr",
     "output_type": "stream",
     "text": [
      "100%|██████████| 280/280 [00:03<00:00, 74.48it/s]\n",
      "100%|██████████| 70/70 [00:00<00:00, 117.72it/s]\n",
      "100%|██████████| 943/943 [00:00<00:00, 2433.82it/s]\n"
     ]
    },
    {
     "name": "stdout",
     "output_type": "stream",
     "text": [
      "Epoch 7: train loss :   0.141249   val loss :   0.130203   val score :   0.213150\n",
      "------ epoch:8 ------\n"
     ]
    },
    {
     "name": "stderr",
     "output_type": "stream",
     "text": [
      "100%|██████████| 280/280 [00:03<00:00, 71.59it/s]\n",
      "100%|██████████| 70/70 [00:00<00:00, 132.30it/s]\n",
      "100%|██████████| 943/943 [00:00<00:00, 2436.14it/s]\n"
     ]
    },
    {
     "name": "stdout",
     "output_type": "stream",
     "text": [
      "Epoch 8: train loss :   0.139736   val loss :   0.129826   val score :   0.221633\n",
      "------ epoch:9 ------\n"
     ]
    },
    {
     "name": "stderr",
     "output_type": "stream",
     "text": [
      "100%|██████████| 280/280 [00:03<00:00, 73.52it/s]\n",
      "100%|██████████| 70/70 [00:00<00:00, 117.84it/s]\n",
      "100%|██████████| 943/943 [00:00<00:00, 2410.56it/s]\n"
     ]
    },
    {
     "name": "stdout",
     "output_type": "stream",
     "text": [
      "Epoch 9: train loss :   0.138575   val loss :   0.129549   val score :   0.220573\n",
      "------ epoch:10 ------\n"
     ]
    },
    {
     "name": "stderr",
     "output_type": "stream",
     "text": [
      "100%|██████████| 280/280 [00:03<00:00, 74.64it/s]\n",
      "100%|██████████| 70/70 [00:00<00:00, 117.70it/s]\n",
      "100%|██████████| 943/943 [00:00<00:00, 2406.40it/s]\n"
     ]
    },
    {
     "name": "stdout",
     "output_type": "stream",
     "text": [
      "Epoch 10: train loss :   0.137968   val loss :   0.129551   val score :   0.220573\n",
      "------ epoch:11 ------\n"
     ]
    },
    {
     "name": "stderr",
     "output_type": "stream",
     "text": [
      "100%|██████████| 280/280 [00:03<00:00, 74.88it/s]\n",
      "100%|██████████| 70/70 [00:00<00:00, 113.18it/s]\n",
      "100%|██████████| 943/943 [00:00<00:00, 1512.29it/s]\n"
     ]
    },
    {
     "name": "stdout",
     "output_type": "stream",
     "text": [
      "Epoch 11: train loss :   0.137083   val loss :   0.129403   val score :   0.220573\n",
      "Epoch 00011: reducing learning rate of group 0 to 1.0000e-03.\n",
      "------ epoch:12 ------\n"
     ]
    },
    {
     "name": "stderr",
     "output_type": "stream",
     "text": [
      "100%|██████████| 280/280 [00:03<00:00, 72.25it/s]\n",
      "100%|██████████| 70/70 [00:00<00:00, 115.55it/s]\n",
      "100%|██████████| 943/943 [00:00<00:00, 2584.54it/s]\n"
     ]
    },
    {
     "name": "stdout",
     "output_type": "stream",
     "text": [
      "Epoch 12: train loss :   0.132000   val loss :   0.129392   val score :   0.219512\n"
     ]
    },
    {
     "name": "stderr",
     "output_type": "stream",
     "text": [
      "100%|██████████| 39/39 [00:00<00:00, 134.36it/s]\n",
      "100%|██████████| 943/943 [00:04<00:00, 216.64it/s]\n"
     ]
    },
    {
     "name": "stdout",
     "output_type": "stream",
     "text": [
      "------ repeat : 2 ------\n",
      "------ epoch:1 ------\n"
     ]
    },
    {
     "name": "stderr",
     "output_type": "stream",
     "text": [
      "100%|██████████| 280/280 [00:03<00:00, 73.62it/s]\n",
      "100%|██████████| 70/70 [00:00<00:00, 117.09it/s]\n",
      "100%|██████████| 943/943 [00:00<00:00, 2412.42it/s]\n"
     ]
    },
    {
     "name": "stdout",
     "output_type": "stream",
     "text": [
      "Epoch 1: train loss :   0.293177   val loss :   0.140258   val score :   0.176034\n",
      "------ epoch:2 ------\n"
     ]
    },
    {
     "name": "stderr",
     "output_type": "stream",
     "text": [
      "100%|██████████| 280/280 [00:03<00:00, 72.38it/s]\n",
      "100%|██████████| 70/70 [00:00<00:00, 117.86it/s]\n",
      "100%|██████████| 943/943 [00:00<00:00, 2409.43it/s]\n"
     ]
    },
    {
     "name": "stdout",
     "output_type": "stream",
     "text": [
      "Epoch 2: train loss :   0.187755   val loss :   0.137254   val score :   0.193001\n",
      "------ epoch:3 ------\n"
     ]
    },
    {
     "name": "stderr",
     "output_type": "stream",
     "text": [
      "100%|██████████| 280/280 [00:03<00:00, 74.28it/s]\n",
      "100%|██████████| 70/70 [00:00<00:00, 114.67it/s]\n",
      "100%|██████████| 943/943 [00:00<00:00, 2558.00it/s]\n"
     ]
    },
    {
     "name": "stdout",
     "output_type": "stream",
     "text": [
      "Epoch 3: train loss :   0.172258   val loss :   0.135983   val score :   0.202545\n",
      "------ epoch:4 ------\n"
     ]
    },
    {
     "name": "stderr",
     "output_type": "stream",
     "text": [
      "100%|██████████| 280/280 [00:03<00:00, 74.04it/s]\n",
      "100%|██████████| 70/70 [00:00<00:00, 115.68it/s]\n",
      "100%|██████████| 943/943 [00:00<00:00, 2566.24it/s]\n"
     ]
    },
    {
     "name": "stdout",
     "output_type": "stream",
     "text": [
      "Epoch 4: train loss :   0.159678   val loss :   0.134437   val score :   0.198303\n",
      "------ epoch:5 ------\n"
     ]
    },
    {
     "name": "stderr",
     "output_type": "stream",
     "text": [
      "100%|██████████| 280/280 [00:03<00:00, 71.52it/s]\n",
      "100%|██████████| 70/70 [00:00<00:00, 116.95it/s]\n",
      "100%|██████████| 943/943 [00:00<00:00, 2624.09it/s]\n"
     ]
    },
    {
     "name": "stdout",
     "output_type": "stream",
     "text": [
      "Epoch 5: train loss :   0.150326   val loss :   0.133034   val score :   0.203606\n",
      "------ epoch:6 ------\n"
     ]
    },
    {
     "name": "stderr",
     "output_type": "stream",
     "text": [
      "100%|██████████| 280/280 [00:03<00:00, 73.60it/s]\n",
      "100%|██████████| 70/70 [00:00<00:00, 132.52it/s]\n",
      "100%|██████████| 943/943 [00:00<00:00, 2588.80it/s]\n"
     ]
    },
    {
     "name": "stdout",
     "output_type": "stream",
     "text": [
      "Epoch 6: train loss :   0.144612   val loss :   0.131707   val score :   0.196182\n",
      "------ epoch:7 ------\n"
     ]
    },
    {
     "name": "stderr",
     "output_type": "stream",
     "text": [
      "100%|██████████| 280/280 [00:03<00:00, 75.08it/s]\n",
      "100%|██████████| 70/70 [00:00<00:00, 119.00it/s]\n",
      "100%|██████████| 943/943 [00:00<00:00, 1442.66it/s]\n"
     ]
    },
    {
     "name": "stdout",
     "output_type": "stream",
     "text": [
      "Epoch 7: train loss :   0.141634   val loss :   0.130500   val score :   0.195122\n",
      "------ epoch:8 ------\n"
     ]
    },
    {
     "name": "stderr",
     "output_type": "stream",
     "text": [
      "100%|██████████| 280/280 [00:03<00:00, 74.80it/s]\n",
      "100%|██████████| 70/70 [00:00<00:00, 110.71it/s]\n",
      "100%|██████████| 943/943 [00:00<00:00, 2401.11it/s]\n"
     ]
    },
    {
     "name": "stdout",
     "output_type": "stream",
     "text": [
      "Epoch 8: train loss :   0.140047   val loss :   0.129879   val score :   0.196182\n",
      "Epoch 00008: reducing learning rate of group 0 to 1.0000e-03.\n",
      "------ epoch:9 ------\n"
     ]
    },
    {
     "name": "stderr",
     "output_type": "stream",
     "text": [
      "100%|██████████| 280/280 [00:03<00:00, 84.94it/s] \n",
      "100%|██████████| 70/70 [00:00<00:00, 115.17it/s]\n",
      "100%|██████████| 943/943 [00:00<00:00, 2434.52it/s]\n"
     ]
    },
    {
     "name": "stdout",
     "output_type": "stream",
     "text": [
      "Epoch 9: train loss :   0.136292   val loss :   0.129763   val score :   0.196182\n"
     ]
    },
    {
     "name": "stderr",
     "output_type": "stream",
     "text": [
      "100%|██████████| 39/39 [00:00<00:00, 136.44it/s]\n",
      "100%|██████████| 943/943 [00:04<00:00, 216.99it/s]\n"
     ]
    },
    {
     "name": "stdout",
     "output_type": "stream",
     "text": [
      "------ repeat : 3 ------\n",
      "------ epoch:1 ------\n"
     ]
    },
    {
     "name": "stderr",
     "output_type": "stream",
     "text": [
      "100%|██████████| 280/280 [00:03<00:00, 84.04it/s]\n",
      "100%|██████████| 70/70 [00:00<00:00, 133.31it/s]\n",
      "100%|██████████| 943/943 [00:00<00:00, 2572.57it/s]\n"
     ]
    },
    {
     "name": "stdout",
     "output_type": "stream",
     "text": [
      "Epoch 1: train loss :   0.297104   val loss :   0.140852   val score :   0.170732\n",
      "------ epoch:2 ------\n"
     ]
    },
    {
     "name": "stderr",
     "output_type": "stream",
     "text": [
      "100%|██████████| 280/280 [00:03<00:00, 87.20it/s]\n",
      "100%|██████████| 70/70 [00:00<00:00, 115.79it/s]\n",
      "100%|██████████| 943/943 [00:00<00:00, 2381.21it/s]\n"
     ]
    },
    {
     "name": "stdout",
     "output_type": "stream",
     "text": [
      "Epoch 2: train loss :   0.185582   val loss :   0.137640   val score :   0.178155\n",
      "------ epoch:3 ------\n"
     ]
    },
    {
     "name": "stderr",
     "output_type": "stream",
     "text": [
      "100%|██████████| 280/280 [00:03<00:00, 87.88it/s]\n",
      "100%|██████████| 70/70 [00:00<00:00, 115.47it/s]\n",
      "100%|██████████| 943/943 [00:00<00:00, 2314.29it/s]\n"
     ]
    },
    {
     "name": "stdout",
     "output_type": "stream",
     "text": [
      "Epoch 3: train loss :   0.171227   val loss :   0.134855   val score :   0.179215\n",
      "------ epoch:4 ------\n"
     ]
    },
    {
     "name": "stderr",
     "output_type": "stream",
     "text": [
      "100%|██████████| 280/280 [00:03<00:00, 88.18it/s]\n",
      "100%|██████████| 70/70 [00:00<00:00, 116.38it/s]\n",
      "100%|██████████| 943/943 [00:00<00:00, 2363.19it/s]\n"
     ]
    },
    {
     "name": "stdout",
     "output_type": "stream",
     "text": [
      "Epoch 4: train loss :   0.158840   val loss :   0.133488   val score :   0.184517\n",
      "------ epoch:5 ------\n"
     ]
    },
    {
     "name": "stderr",
     "output_type": "stream",
     "text": [
      "100%|██████████| 280/280 [00:03<00:00, 88.56it/s] \n",
      "100%|██████████| 70/70 [00:00<00:00, 117.95it/s]\n",
      "100%|██████████| 943/943 [00:00<00:00, 2425.32it/s]\n"
     ]
    },
    {
     "name": "stdout",
     "output_type": "stream",
     "text": [
      "Epoch 5: train loss :   0.149842   val loss :   0.131870   val score :   0.187699\n",
      "------ epoch:6 ------\n"
     ]
    },
    {
     "name": "stderr",
     "output_type": "stream",
     "text": [
      "100%|██████████| 280/280 [00:03<00:00, 76.40it/s]\n",
      "100%|██████████| 70/70 [00:00<00:00, 107.48it/s]\n",
      "100%|██████████| 943/943 [00:00<00:00, 2588.37it/s]\n"
     ]
    },
    {
     "name": "stdout",
     "output_type": "stream",
     "text": [
      "Epoch 6: train loss :   0.144239   val loss :   0.130813   val score :   0.193001\n",
      "------ epoch:7 ------\n"
     ]
    },
    {
     "name": "stderr",
     "output_type": "stream",
     "text": [
      "100%|██████████| 280/280 [00:03<00:00, 70.99it/s]\n",
      "100%|██████████| 70/70 [00:00<00:00, 132.94it/s]\n",
      "100%|██████████| 943/943 [00:00<00:00, 2596.67it/s]\n"
     ]
    },
    {
     "name": "stdout",
     "output_type": "stream",
     "text": [
      "Epoch 7: train loss :   0.141196   val loss :   0.130092   val score :   0.197243\n",
      "------ epoch:8 ------\n"
     ]
    },
    {
     "name": "stderr",
     "output_type": "stream",
     "text": [
      "100%|██████████| 280/280 [00:03<00:00, 73.80it/s]\n",
      "100%|██████████| 70/70 [00:00<00:00, 114.94it/s]\n",
      "100%|██████████| 943/943 [00:00<00:00, 2130.26it/s]\n"
     ]
    },
    {
     "name": "stdout",
     "output_type": "stream",
     "text": [
      "Epoch 8: train loss :   0.139437   val loss :   0.129705   val score :   0.201485\n",
      "------ epoch:9 ------\n"
     ]
    },
    {
     "name": "stderr",
     "output_type": "stream",
     "text": [
      "100%|██████████| 280/280 [00:03<00:00, 72.85it/s]\n",
      "100%|██████████| 70/70 [00:00<00:00, 109.62it/s]\n",
      "100%|██████████| 943/943 [00:00<00:00, 2386.60it/s]\n"
     ]
    },
    {
     "name": "stdout",
     "output_type": "stream",
     "text": [
      "Epoch 9: train loss :   0.138279   val loss :   0.129338   val score :   0.200424\n",
      "------ epoch:10 ------\n"
     ]
    },
    {
     "name": "stderr",
     "output_type": "stream",
     "text": [
      "100%|██████████| 280/280 [00:03<00:00, 70.57it/s]\n",
      "100%|██████████| 70/70 [00:00<00:00, 116.51it/s]\n",
      "100%|██████████| 943/943 [00:00<00:00, 2542.47it/s]\n"
     ]
    },
    {
     "name": "stdout",
     "output_type": "stream",
     "text": [
      "Epoch 10: train loss :   0.137508   val loss :   0.129181   val score :   0.198303\n",
      "------ epoch:11 ------\n"
     ]
    },
    {
     "name": "stderr",
     "output_type": "stream",
     "text": [
      "100%|██████████| 280/280 [00:03<00:00, 73.60it/s]\n",
      "100%|██████████| 70/70 [00:00<00:00, 116.68it/s]\n",
      "100%|██████████| 943/943 [00:00<00:00, 2618.72it/s]\n"
     ]
    },
    {
     "name": "stdout",
     "output_type": "stream",
     "text": [
      "Epoch 11: train loss :   0.136633   val loss :   0.129164   val score :   0.197243\n",
      "Epoch 00011: reducing learning rate of group 0 to 1.0000e-03.\n",
      "------ epoch:12 ------\n"
     ]
    },
    {
     "name": "stderr",
     "output_type": "stream",
     "text": [
      "100%|██████████| 280/280 [00:03<00:00, 74.41it/s]\n",
      "100%|██████████| 70/70 [00:00<00:00, 115.88it/s]\n",
      "100%|██████████| 943/943 [00:00<00:00, 2598.48it/s]\n"
     ]
    },
    {
     "name": "stdout",
     "output_type": "stream",
     "text": [
      "Epoch 12: train loss :   0.131012   val loss :   0.129143   val score :   0.195122\n"
     ]
    },
    {
     "name": "stderr",
     "output_type": "stream",
     "text": [
      "100%|██████████| 39/39 [00:00<00:00, 135.61it/s]\n",
      "100%|██████████| 943/943 [00:04<00:00, 217.59it/s]\n"
     ]
    },
    {
     "name": "stdout",
     "output_type": "stream",
     "text": [
      "------ repeat : 4 ------\n",
      "------ epoch:1 ------\n"
     ]
    },
    {
     "name": "stderr",
     "output_type": "stream",
     "text": [
      "100%|██████████| 280/280 [00:03<00:00, 74.33it/s]\n",
      "100%|██████████| 70/70 [00:00<00:00, 118.45it/s]\n",
      "100%|██████████| 943/943 [00:00<00:00, 2613.15it/s]\n"
     ]
    },
    {
     "name": "stdout",
     "output_type": "stream",
     "text": [
      "Epoch 1: train loss :   0.292445   val loss :   0.140097   val score :   0.202545\n",
      "------ epoch:2 ------\n"
     ]
    },
    {
     "name": "stderr",
     "output_type": "stream",
     "text": [
      "100%|██████████| 280/280 [00:03<00:00, 76.46it/s]\n",
      "100%|██████████| 70/70 [00:00<00:00, 119.15it/s]\n",
      "100%|██████████| 943/943 [00:00<00:00, 2586.23it/s]\n"
     ]
    },
    {
     "name": "stdout",
     "output_type": "stream",
     "text": [
      "Epoch 2: train loss :   0.186241   val loss :   0.137877   val score :   0.201485\n",
      "------ epoch:3 ------\n"
     ]
    },
    {
     "name": "stderr",
     "output_type": "stream",
     "text": [
      "100%|██████████| 280/280 [00:03<00:00, 89.48it/s] \n",
      "100%|██████████| 70/70 [00:00<00:00, 118.41it/s]\n",
      "100%|██████████| 943/943 [00:00<00:00, 2638.60it/s]\n"
     ]
    },
    {
     "name": "stdout",
     "output_type": "stream",
     "text": [
      "Epoch 3: train loss :   0.171703   val loss :   0.135290   val score :   0.217391\n",
      "------ epoch:4 ------\n"
     ]
    },
    {
     "name": "stderr",
     "output_type": "stream",
     "text": [
      "100%|██████████| 280/280 [00:03<00:00, 89.34it/s] \n",
      "100%|██████████| 70/70 [00:00<00:00, 118.92it/s]\n",
      "100%|██████████| 943/943 [00:00<00:00, 2388.72it/s]\n"
     ]
    },
    {
     "name": "stdout",
     "output_type": "stream",
     "text": [
      "Epoch 4: train loss :   0.159232   val loss :   0.133093   val score :   0.215270\n",
      "------ epoch:5 ------\n"
     ]
    },
    {
     "name": "stderr",
     "output_type": "stream",
     "text": [
      "100%|██████████| 280/280 [00:03<00:00, 74.86it/s]\n",
      "100%|██████████| 70/70 [00:00<00:00, 135.79it/s]\n",
      "100%|██████████| 943/943 [00:00<00:00, 2433.87it/s]\n"
     ]
    },
    {
     "name": "stdout",
     "output_type": "stream",
     "text": [
      "Epoch 5: train loss :   0.150230   val loss :   0.131726   val score :   0.224814\n",
      "------ epoch:6 ------\n"
     ]
    },
    {
     "name": "stderr",
     "output_type": "stream",
     "text": [
      "100%|██████████| 280/280 [00:03<00:00, 74.77it/s]\n",
      "100%|██████████| 70/70 [00:00<00:00, 116.60it/s]\n",
      "100%|██████████| 943/943 [00:00<00:00, 2418.91it/s]\n"
     ]
    },
    {
     "name": "stdout",
     "output_type": "stream",
     "text": [
      "Epoch 6: train loss :   0.144501   val loss :   0.130837   val score :   0.227996\n",
      "------ epoch:7 ------\n"
     ]
    },
    {
     "name": "stderr",
     "output_type": "stream",
     "text": [
      "100%|██████████| 280/280 [00:03<00:00, 73.03it/s]\n",
      "100%|██████████| 70/70 [00:00<00:00, 119.04it/s]\n",
      "100%|██████████| 943/943 [00:00<00:00, 1547.24it/s]\n"
     ]
    },
    {
     "name": "stdout",
     "output_type": "stream",
     "text": [
      "Epoch 7: train loss :   0.141221   val loss :   0.130159   val score :   0.226935\n",
      "------ epoch:8 ------\n"
     ]
    },
    {
     "name": "stderr",
     "output_type": "stream",
     "text": [
      "100%|██████████| 280/280 [00:03<00:00, 74.85it/s]\n",
      "100%|██████████| 70/70 [00:00<00:00, 117.57it/s]\n",
      "100%|██████████| 943/943 [00:00<00:00, 2256.42it/s]\n"
     ]
    },
    {
     "name": "stdout",
     "output_type": "stream",
     "text": [
      "Epoch 8: train loss :   0.139595   val loss :   0.129807   val score :   0.226935\n",
      "------ epoch:9 ------\n"
     ]
    },
    {
     "name": "stderr",
     "output_type": "stream",
     "text": [
      "100%|██████████| 280/280 [00:03<00:00, 73.72it/s]\n",
      "100%|██████████| 70/70 [00:00<00:00, 118.61it/s]\n",
      "100%|██████████| 943/943 [00:00<00:00, 1917.07it/s]\n"
     ]
    },
    {
     "name": "stdout",
     "output_type": "stream",
     "text": [
      "Epoch 9: train loss :   0.138457   val loss :   0.129555   val score :   0.227996\n",
      "Epoch 00009: reducing learning rate of group 0 to 1.0000e-03.\n",
      "------ epoch:10 ------\n"
     ]
    },
    {
     "name": "stderr",
     "output_type": "stream",
     "text": [
      "100%|██████████| 280/280 [00:03<00:00, 72.57it/s]\n",
      "100%|██████████| 70/70 [00:00<00:00, 117.49it/s]\n",
      "100%|██████████| 943/943 [00:00<00:00, 2641.37it/s]\n"
     ]
    },
    {
     "name": "stdout",
     "output_type": "stream",
     "text": [
      "Epoch 10: train loss :   0.134472   val loss :   0.129512   val score :   0.229056\n",
      "------ epoch:11 ------\n"
     ]
    },
    {
     "name": "stderr",
     "output_type": "stream",
     "text": [
      "100%|██████████| 280/280 [00:03<00:00, 75.03it/s]\n",
      "100%|██████████| 70/70 [00:00<00:00, 134.76it/s]\n",
      "100%|██████████| 943/943 [00:00<00:00, 2496.74it/s]\n"
     ]
    },
    {
     "name": "stdout",
     "output_type": "stream",
     "text": [
      "Epoch 11: train loss :   0.134024   val loss :   0.129484   val score :   0.223754\n",
      "------ epoch:12 ------\n"
     ]
    },
    {
     "name": "stderr",
     "output_type": "stream",
     "text": [
      "100%|██████████| 280/280 [00:03<00:00, 74.52it/s]\n",
      "100%|██████████| 70/70 [00:00<00:00, 118.13it/s]\n",
      "100%|██████████| 943/943 [00:00<00:00, 2459.50it/s]\n"
     ]
    },
    {
     "name": "stdout",
     "output_type": "stream",
     "text": [
      "Epoch 12: train loss :   0.133712   val loss :   0.129458   val score :   0.221633\n",
      "------ epoch:13 ------\n"
     ]
    },
    {
     "name": "stderr",
     "output_type": "stream",
     "text": [
      "100%|██████████| 280/280 [00:03<00:00, 74.46it/s]\n",
      "100%|██████████| 70/70 [00:00<00:00, 117.13it/s]\n",
      "100%|██████████| 943/943 [00:00<00:00, 2347.36it/s]\n"
     ]
    },
    {
     "name": "stdout",
     "output_type": "stream",
     "text": [
      "Epoch 13: train loss :   0.133425   val loss :   0.129431   val score :   0.223754\n",
      "Epoch 00013: reducing learning rate of group 0 to 1.0000e-04.\n",
      "------ epoch:14 ------\n"
     ]
    },
    {
     "name": "stderr",
     "output_type": "stream",
     "text": [
      "100%|██████████| 280/280 [00:03<00:00, 73.79it/s]\n",
      "100%|██████████| 70/70 [00:00<00:00, 112.77it/s]\n",
      "100%|██████████| 943/943 [00:00<00:00, 2617.72it/s]\n"
     ]
    },
    {
     "name": "stdout",
     "output_type": "stream",
     "text": [
      "Epoch 14: train loss :   0.132704   val loss :   0.129430   val score :   0.223754\n"
     ]
    },
    {
     "name": "stderr",
     "output_type": "stream",
     "text": [
      "100%|██████████| 39/39 [00:00<00:00, 135.82it/s]\n",
      "100%|██████████| 943/943 [00:04<00:00, 222.23it/s]\n"
     ]
    },
    {
     "name": "stdout",
     "output_type": "stream",
     "text": [
      "------ repeat : 5 ------\n",
      "------ epoch:1 ------\n"
     ]
    },
    {
     "name": "stderr",
     "output_type": "stream",
     "text": [
      "100%|██████████| 280/280 [00:03<00:00, 71.90it/s]\n",
      "100%|██████████| 70/70 [00:00<00:00, 134.90it/s]\n",
      "100%|██████████| 943/943 [00:00<00:00, 2442.72it/s]\n"
     ]
    },
    {
     "name": "stdout",
     "output_type": "stream",
     "text": [
      "Epoch 1: train loss :   0.293538   val loss :   0.140315   val score :   0.185578\n",
      "------ epoch:2 ------\n"
     ]
    },
    {
     "name": "stderr",
     "output_type": "stream",
     "text": [
      "100%|██████████| 280/280 [00:03<00:00, 71.85it/s]\n",
      "100%|██████████| 70/70 [00:00<00:00, 117.96it/s]\n",
      "100%|██████████| 943/943 [00:00<00:00, 2596.79it/s]\n"
     ]
    },
    {
     "name": "stdout",
     "output_type": "stream",
     "text": [
      "Epoch 2: train loss :   0.187023   val loss :   0.137766   val score :   0.173913\n",
      "------ epoch:3 ------\n"
     ]
    },
    {
     "name": "stderr",
     "output_type": "stream",
     "text": [
      "100%|██████████| 280/280 [00:03<00:00, 74.06it/s]\n",
      "100%|██████████| 70/70 [00:00<00:00, 118.41it/s]\n",
      "100%|██████████| 943/943 [00:00<00:00, 2579.28it/s]\n"
     ]
    },
    {
     "name": "stdout",
     "output_type": "stream",
     "text": [
      "Epoch 3: train loss :   0.171971   val loss :   0.136032   val score :   0.198303\n",
      "------ epoch:4 ------\n"
     ]
    },
    {
     "name": "stderr",
     "output_type": "stream",
     "text": [
      "100%|██████████| 280/280 [00:03<00:00, 73.34it/s]\n",
      "100%|██████████| 70/70 [00:00<00:00, 116.56it/s]\n",
      "100%|██████████| 943/943 [00:00<00:00, 2320.65it/s]\n"
     ]
    },
    {
     "name": "stdout",
     "output_type": "stream",
     "text": [
      "Epoch 4: train loss :   0.159330   val loss :   0.134211   val score :   0.204666\n",
      "------ epoch:5 ------\n"
     ]
    },
    {
     "name": "stderr",
     "output_type": "stream",
     "text": [
      "100%|██████████| 280/280 [00:04<00:00, 68.99it/s]\n",
      "100%|██████████| 70/70 [00:00<00:00, 112.55it/s]\n",
      "100%|██████████| 943/943 [00:00<00:00, 2536.69it/s]\n"
     ]
    },
    {
     "name": "stdout",
     "output_type": "stream",
     "text": [
      "Epoch 5: train loss :   0.150209   val loss :   0.133206   val score :   0.200424\n",
      "------ epoch:6 ------\n"
     ]
    },
    {
     "name": "stderr",
     "output_type": "stream",
     "text": [
      "100%|██████████| 280/280 [00:03<00:00, 71.66it/s]\n",
      "100%|██████████| 70/70 [00:00<00:00, 117.04it/s]\n",
      "100%|██████████| 943/943 [00:00<00:00, 2506.63it/s]\n"
     ]
    },
    {
     "name": "stdout",
     "output_type": "stream",
     "text": [
      "Epoch 6: train loss :   0.144706   val loss :   0.131833   val score :   0.198303\n",
      "------ epoch:7 ------\n"
     ]
    },
    {
     "name": "stderr",
     "output_type": "stream",
     "text": [
      "100%|██████████| 280/280 [00:03<00:00, 73.45it/s]\n",
      "100%|██████████| 70/70 [00:00<00:00, 132.73it/s]\n",
      "100%|██████████| 943/943 [00:00<00:00, 2505.25it/s]\n"
     ]
    },
    {
     "name": "stdout",
     "output_type": "stream",
     "text": [
      "Epoch 7: train loss :   0.141608   val loss :   0.130569   val score :   0.200424\n",
      "Epoch 00007: reducing learning rate of group 0 to 1.0000e-03.\n",
      "------ epoch:8 ------\n"
     ]
    },
    {
     "name": "stderr",
     "output_type": "stream",
     "text": [
      "100%|██████████| 280/280 [00:04<00:00, 69.86it/s]\n",
      "100%|██████████| 70/70 [00:00<00:00, 96.76it/s] \n",
      "100%|██████████| 943/943 [00:00<00:00, 2616.14it/s]\n"
     ]
    },
    {
     "name": "stdout",
     "output_type": "stream",
     "text": [
      "Epoch 8: train loss :   0.137659   val loss :   0.130406   val score :   0.198303\n"
     ]
    },
    {
     "name": "stderr",
     "output_type": "stream",
     "text": [
      "100%|██████████| 39/39 [00:00<00:00, 92.02it/s] \n",
      "100%|██████████| 943/943 [00:04<00:00, 215.39it/s]\n"
     ]
    }
   ],
   "source": [
    "embedding_dim = 10\n",
    "lr = 1e-2\n",
    "alpha = 1e-2\n",
    "theta_clip = 0.1\n",
    "model_type = 3\n",
    "seed_everything(42)\n",
    "Test2(train, test, percentage, model_type, num_users=num_users, num_items=num_items, repeats=5, theta_clip=theta_clip, \n",
    "     embedding_dim=embedding_dim, lr=lr, alpha=alpha, patience=3, epochs=30, device=\"cuda:0\", model_selection=False)"
   ]
  },
  {
   "cell_type": "markdown",
   "id": "200b7fad-9f44-4b18-9064-f05480a8076d",
   "metadata": {},
   "source": [
    "## 三. per = 50%"
   ]
  },
  {
   "cell_type": "code",
   "execution_count": 10,
   "id": "e9d31c93-d878-49c4-922d-91550a1ed1ca",
   "metadata": {
    "tags": []
   },
   "outputs": [
    {
     "name": "stderr",
     "output_type": "stream",
     "text": [
      "100%|██████████| 1682/1682 [00:01<00:00, 1170.96it/s]\n"
     ]
    }
   ],
   "source": [
    "seed_everything(42)\n",
    "percentage = 0.5\n",
    "click_data, _, _ = generate_click_data(data, num_users, num_items, power=1)\n",
    "click_data = get_theta_hat(click_data, percentage=percentage)\n",
    "neg_data = click_data[click_data[:, 6]==0, :]\n",
    "pos_data = click_data[click_data[:, 6]==1, :]\n",
    "train, test = train_test_split(neg_data, test_size=0.1, random_state=0)\n",
    "train = torch.vstack([pos_data, train]) # 使用未被点击的一部分作为测试集"
   ]
  },
  {
   "cell_type": "markdown",
   "id": "b14be3fd-12d3-477a-a2e9-c5f8e6b82bbe",
   "metadata": {},
   "source": [
    "### 3"
   ]
  },
  {
   "cell_type": "code",
   "execution_count": 11,
   "id": "3ac639f5-a48d-4cf6-933e-ea71fc073b58",
   "metadata": {
    "collapsed": true,
    "jupyter": {
     "outputs_hidden": true
    },
    "tags": []
   },
   "outputs": [
    {
     "name": "stdout",
     "output_type": "stream",
     "text": [
      "------ repeat : 1 ------\n",
      "------ epoch:1 ------\n"
     ]
    },
    {
     "name": "stderr",
     "output_type": "stream",
     "text": [
      "100%|██████████| 280/280 [00:03<00:00, 74.35it/s]\n",
      "100%|██████████| 70/70 [00:00<00:00, 119.84it/s]\n",
      "100%|██████████| 943/943 [00:00<00:00, 3184.29it/s]\n"
     ]
    },
    {
     "name": "stdout",
     "output_type": "stream",
     "text": [
      "Epoch 1: train loss :   0.291831   val loss :   0.144901   val score :   0.165429\n",
      "------ epoch:2 ------\n"
     ]
    },
    {
     "name": "stderr",
     "output_type": "stream",
     "text": [
      "100%|██████████| 280/280 [00:03<00:00, 77.16it/s]\n",
      "100%|██████████| 70/70 [00:00<00:00, 120.91it/s]\n",
      "100%|██████████| 943/943 [00:00<00:00, 3138.22it/s]\n"
     ]
    },
    {
     "name": "stdout",
     "output_type": "stream",
     "text": [
      "Epoch 2: train loss :   0.192725   val loss :   0.142545   val score :   0.180276\n",
      "------ epoch:3 ------\n"
     ]
    },
    {
     "name": "stderr",
     "output_type": "stream",
     "text": [
      "100%|██████████| 280/280 [00:03<00:00, 87.42it/s] \n",
      "100%|██████████| 70/70 [00:00<00:00, 111.93it/s]\n",
      "100%|██████████| 943/943 [00:00<00:00, 2410.80it/s]\n"
     ]
    },
    {
     "name": "stdout",
     "output_type": "stream",
     "text": [
      "Epoch 3: train loss :   0.175951   val loss :   0.139308   val score :   0.184517\n",
      "------ epoch:4 ------\n"
     ]
    },
    {
     "name": "stderr",
     "output_type": "stream",
     "text": [
      "100%|██████████| 280/280 [00:03<00:00, 71.50it/s]\n",
      "100%|██████████| 70/70 [00:00<00:00, 118.70it/s]\n",
      "100%|██████████| 943/943 [00:00<00:00, 2463.65it/s]\n"
     ]
    },
    {
     "name": "stdout",
     "output_type": "stream",
     "text": [
      "Epoch 4: train loss :   0.162171   val loss :   0.136863   val score :   0.185578\n",
      "------ epoch:5 ------\n"
     ]
    },
    {
     "name": "stderr",
     "output_type": "stream",
     "text": [
      "100%|██████████| 280/280 [00:03<00:00, 71.30it/s]\n",
      "100%|██████████| 70/70 [00:00<00:00, 116.68it/s]\n",
      "100%|██████████| 943/943 [00:00<00:00, 2396.70it/s]\n"
     ]
    },
    {
     "name": "stdout",
     "output_type": "stream",
     "text": [
      "Epoch 5: train loss :   0.152535   val loss :   0.135540   val score :   0.184517\n",
      "------ epoch:6 ------\n"
     ]
    },
    {
     "name": "stderr",
     "output_type": "stream",
     "text": [
      "100%|██████████| 280/280 [00:03<00:00, 72.54it/s]\n",
      "100%|██████████| 70/70 [00:00<00:00, 117.44it/s]\n",
      "100%|██████████| 943/943 [00:00<00:00, 2615.76it/s]\n"
     ]
    },
    {
     "name": "stdout",
     "output_type": "stream",
     "text": [
      "Epoch 6: train loss :   0.147386   val loss :   0.134333   val score :   0.193001\n",
      "------ epoch:7 ------\n"
     ]
    },
    {
     "name": "stderr",
     "output_type": "stream",
     "text": [
      "100%|██████████| 280/280 [00:03<00:00, 74.16it/s]\n",
      "100%|██████████| 70/70 [00:00<00:00, 117.98it/s]\n",
      "100%|██████████| 943/943 [00:00<00:00, 2172.48it/s]\n"
     ]
    },
    {
     "name": "stdout",
     "output_type": "stream",
     "text": [
      "Epoch 7: train loss :   0.144414   val loss :   0.133678   val score :   0.202545\n",
      "------ epoch:8 ------\n"
     ]
    },
    {
     "name": "stderr",
     "output_type": "stream",
     "text": [
      "100%|██████████| 280/280 [00:03<00:00, 74.40it/s]\n",
      "100%|██████████| 70/70 [00:00<00:00, 132.82it/s]\n",
      "100%|██████████| 943/943 [00:00<00:00, 2652.10it/s]\n"
     ]
    },
    {
     "name": "stdout",
     "output_type": "stream",
     "text": [
      "Epoch 8: train loss :   0.142684   val loss :   0.133463   val score :   0.193001\n",
      "------ epoch:9 ------\n"
     ]
    },
    {
     "name": "stderr",
     "output_type": "stream",
     "text": [
      "100%|██████████| 280/280 [00:03<00:00, 70.42it/s]\n",
      "100%|██████████| 70/70 [00:00<00:00, 133.81it/s]\n",
      "100%|██████████| 943/943 [00:00<00:00, 2506.15it/s]\n"
     ]
    },
    {
     "name": "stdout",
     "output_type": "stream",
     "text": [
      "Epoch 9: train loss :   0.140695   val loss :   0.133581   val score :   0.200424\n",
      "------ epoch:10 ------\n"
     ]
    },
    {
     "name": "stderr",
     "output_type": "stream",
     "text": [
      "100%|██████████| 280/280 [00:03<00:00, 71.22it/s]\n",
      "100%|██████████| 70/70 [00:00<00:00, 118.11it/s]\n",
      "100%|██████████| 943/943 [00:00<00:00, 2603.90it/s]\n"
     ]
    },
    {
     "name": "stdout",
     "output_type": "stream",
     "text": [
      "Epoch 10: train loss :   0.139247   val loss :   0.133917   val score :   0.203606\n",
      "------ epoch:11 ------\n"
     ]
    },
    {
     "name": "stderr",
     "output_type": "stream",
     "text": [
      "100%|██████████| 280/280 [00:03<00:00, 71.10it/s]\n",
      "100%|██████████| 70/70 [00:00<00:00, 118.15it/s]\n",
      "100%|██████████| 943/943 [00:00<00:00, 3028.57it/s]\n"
     ]
    },
    {
     "name": "stdout",
     "output_type": "stream",
     "text": [
      "Epoch 11: train loss :   0.134647   val loss :   0.134501   val score :   0.198303\n",
      "------ epoch:12 ------\n"
     ]
    },
    {
     "name": "stderr",
     "output_type": "stream",
     "text": [
      "100%|██████████| 280/280 [00:03<00:00, 70.05it/s]\n",
      "100%|██████████| 70/70 [00:00<00:00, 115.53it/s]\n",
      "100%|██████████| 943/943 [00:00<00:00, 2491.86it/s]\n"
     ]
    },
    {
     "name": "stdout",
     "output_type": "stream",
     "text": [
      "Epoch 12: train loss :   0.132632   val loss :   0.135245   val score :   0.207847\n",
      "------ epoch:13 ------\n"
     ]
    },
    {
     "name": "stderr",
     "output_type": "stream",
     "text": [
      "100%|██████████| 280/280 [00:03<00:00, 72.64it/s]\n",
      "100%|██████████| 70/70 [00:00<00:00, 116.73it/s]\n",
      "100%|██████████| 943/943 [00:00<00:00, 2497.56it/s]\n"
     ]
    },
    {
     "name": "stdout",
     "output_type": "stream",
     "text": [
      "Epoch 13: train loss :   0.127236   val loss :   0.136114   val score :   0.196182\n",
      "------ epoch:14 ------\n"
     ]
    },
    {
     "name": "stderr",
     "output_type": "stream",
     "text": [
      "100%|██████████| 280/280 [00:03<00:00, 74.27it/s]\n",
      "100%|██████████| 70/70 [00:00<00:00, 116.64it/s]\n",
      "100%|██████████| 943/943 [00:00<00:00, 2413.80it/s]\n"
     ]
    },
    {
     "name": "stdout",
     "output_type": "stream",
     "text": [
      "Epoch 14: train loss :   0.127361   val loss :   0.136769   val score :   0.190880\n",
      "------ epoch:15 ------\n"
     ]
    },
    {
     "name": "stderr",
     "output_type": "stream",
     "text": [
      "100%|██████████| 280/280 [00:03<00:00, 73.92it/s]\n",
      "100%|██████████| 70/70 [00:00<00:00, 132.62it/s]\n",
      "100%|██████████| 943/943 [00:00<00:00, 2369.38it/s]\n"
     ]
    },
    {
     "name": "stdout",
     "output_type": "stream",
     "text": [
      "Epoch 15: train loss :   0.118074   val loss :   0.137516   val score :   0.187699\n",
      "Epoch 00015: reducing learning rate of group 0 to 1.0000e-03.\n",
      "------ epoch:16 ------\n"
     ]
    },
    {
     "name": "stderr",
     "output_type": "stream",
     "text": [
      "100%|██████████| 280/280 [00:03<00:00, 70.20it/s]\n",
      "100%|██████████| 70/70 [00:00<00:00, 116.50it/s]\n",
      "100%|██████████| 943/943 [00:00<00:00, 2576.34it/s]\n"
     ]
    },
    {
     "name": "stdout",
     "output_type": "stream",
     "text": [
      "Epoch 16: train loss :   0.097130   val loss :   0.137620   val score :   0.194062\n"
     ]
    },
    {
     "name": "stderr",
     "output_type": "stream",
     "text": [
      "100%|██████████| 39/39 [00:00<00:00, 108.20it/s]\n",
      "100%|██████████| 943/943 [00:04<00:00, 215.24it/s]\n"
     ]
    },
    {
     "name": "stdout",
     "output_type": "stream",
     "text": [
      "------ repeat : 2 ------\n",
      "------ epoch:1 ------\n"
     ]
    },
    {
     "name": "stderr",
     "output_type": "stream",
     "text": [
      "100%|██████████| 280/280 [00:03<00:00, 72.50it/s]\n",
      "100%|██████████| 70/70 [00:00<00:00, 117.07it/s]\n",
      "100%|██████████| 943/943 [00:00<00:00, 1968.79it/s]\n"
     ]
    },
    {
     "name": "stdout",
     "output_type": "stream",
     "text": [
      "Epoch 1: train loss :   0.288703   val loss :   0.144751   val score :   0.173913\n",
      "------ epoch:2 ------\n"
     ]
    },
    {
     "name": "stderr",
     "output_type": "stream",
     "text": [
      "100%|██████████| 280/280 [00:03<00:00, 71.08it/s]\n",
      "100%|██████████| 70/70 [00:00<00:00, 133.15it/s]\n",
      "100%|██████████| 943/943 [00:00<00:00, 2604.23it/s]\n"
     ]
    },
    {
     "name": "stdout",
     "output_type": "stream",
     "text": [
      "Epoch 2: train loss :   0.191654   val loss :   0.142261   val score :   0.165429\n",
      "------ epoch:3 ------\n"
     ]
    },
    {
     "name": "stderr",
     "output_type": "stream",
     "text": [
      "100%|██████████| 280/280 [00:03<00:00, 72.03it/s]\n",
      "100%|██████████| 70/70 [00:00<00:00, 130.65it/s]\n",
      "100%|██████████| 943/943 [00:00<00:00, 2617.61it/s]\n"
     ]
    },
    {
     "name": "stdout",
     "output_type": "stream",
     "text": [
      "Epoch 3: train loss :   0.175341   val loss :   0.139270   val score :   0.178155\n",
      "------ epoch:4 ------\n"
     ]
    },
    {
     "name": "stderr",
     "output_type": "stream",
     "text": [
      "100%|██████████| 280/280 [00:03<00:00, 74.08it/s]\n",
      "100%|██████████| 70/70 [00:00<00:00, 116.47it/s]\n",
      "100%|██████████| 943/943 [00:00<00:00, 2588.12it/s]\n"
     ]
    },
    {
     "name": "stdout",
     "output_type": "stream",
     "text": [
      "Epoch 4: train loss :   0.161778   val loss :   0.136830   val score :   0.171792\n",
      "------ epoch:5 ------\n"
     ]
    },
    {
     "name": "stderr",
     "output_type": "stream",
     "text": [
      "100%|██████████| 280/280 [00:03<00:00, 73.40it/s]\n",
      "100%|██████████| 70/70 [00:00<00:00, 111.43it/s]\n",
      "100%|██████████| 943/943 [00:00<00:00, 2730.96it/s]\n"
     ]
    },
    {
     "name": "stdout",
     "output_type": "stream",
     "text": [
      "Epoch 5: train loss :   0.152355   val loss :   0.135293   val score :   0.181336\n",
      "------ epoch:6 ------\n"
     ]
    },
    {
     "name": "stderr",
     "output_type": "stream",
     "text": [
      "100%|██████████| 280/280 [00:03<00:00, 72.90it/s]\n",
      "100%|██████████| 70/70 [00:00<00:00, 114.40it/s]\n",
      "100%|██████████| 943/943 [00:00<00:00, 2405.44it/s]\n"
     ]
    },
    {
     "name": "stdout",
     "output_type": "stream",
     "text": [
      "Epoch 6: train loss :   0.147224   val loss :   0.134289   val score :   0.190880\n",
      "------ epoch:7 ------\n"
     ]
    },
    {
     "name": "stderr",
     "output_type": "stream",
     "text": [
      "100%|██████████| 280/280 [00:03<00:00, 73.52it/s]\n",
      "100%|██████████| 70/70 [00:00<00:00, 116.61it/s]\n",
      "100%|██████████| 943/943 [00:00<00:00, 2434.93it/s]\n"
     ]
    },
    {
     "name": "stdout",
     "output_type": "stream",
     "text": [
      "Epoch 7: train loss :   0.144703   val loss :   0.133749   val score :   0.194062\n",
      "------ epoch:8 ------\n"
     ]
    },
    {
     "name": "stderr",
     "output_type": "stream",
     "text": [
      "100%|██████████| 280/280 [00:03<00:00, 73.22it/s]\n",
      "100%|██████████| 70/70 [00:00<00:00, 115.87it/s]\n",
      "100%|██████████| 943/943 [00:00<00:00, 2737.36it/s]\n"
     ]
    },
    {
     "name": "stdout",
     "output_type": "stream",
     "text": [
      "Epoch 8: train loss :   0.142742   val loss :   0.133649   val score :   0.194062\n",
      "------ epoch:9 ------\n"
     ]
    },
    {
     "name": "stderr",
     "output_type": "stream",
     "text": [
      "100%|██████████| 280/280 [00:03<00:00, 71.58it/s]\n",
      "100%|██████████| 70/70 [00:00<00:00, 133.72it/s]\n",
      "100%|██████████| 943/943 [00:00<00:00, 1432.35it/s]\n"
     ]
    },
    {
     "name": "stdout",
     "output_type": "stream",
     "text": [
      "Epoch 9: train loss :   0.141235   val loss :   0.133719   val score :   0.187699\n",
      "------ epoch:10 ------\n"
     ]
    },
    {
     "name": "stderr",
     "output_type": "stream",
     "text": [
      "100%|██████████| 280/280 [00:03<00:00, 73.94it/s]\n",
      "100%|██████████| 70/70 [00:00<00:00, 116.21it/s]\n",
      "100%|██████████| 943/943 [00:00<00:00, 2577.10it/s]\n"
     ]
    },
    {
     "name": "stdout",
     "output_type": "stream",
     "text": [
      "Epoch 10: train loss :   0.137968   val loss :   0.134346   val score :   0.198303\n",
      "------ epoch:11 ------\n"
     ]
    },
    {
     "name": "stderr",
     "output_type": "stream",
     "text": [
      "100%|██████████| 280/280 [00:03<00:00, 73.84it/s]\n",
      "100%|██████████| 70/70 [00:00<00:00, 112.08it/s]\n",
      "100%|██████████| 943/943 [00:00<00:00, 2849.88it/s]\n"
     ]
    },
    {
     "name": "stdout",
     "output_type": "stream",
     "text": [
      "Epoch 11: train loss :   0.134280   val loss :   0.134843   val score :   0.200424\n",
      "------ epoch:12 ------\n"
     ]
    },
    {
     "name": "stderr",
     "output_type": "stream",
     "text": [
      "100%|██████████| 280/280 [00:03<00:00, 71.87it/s]\n",
      "100%|██████████| 70/70 [00:00<00:00, 115.97it/s]\n",
      "100%|██████████| 943/943 [00:00<00:00, 2412.82it/s]\n"
     ]
    },
    {
     "name": "stdout",
     "output_type": "stream",
     "text": [
      "Epoch 12: train loss :   0.132549   val loss :   0.135671   val score :   0.201485\n",
      "------ epoch:13 ------\n"
     ]
    },
    {
     "name": "stderr",
     "output_type": "stream",
     "text": [
      "100%|██████████| 280/280 [00:03<00:00, 73.74it/s]\n",
      "100%|██████████| 70/70 [00:00<00:00, 116.82it/s]\n",
      "100%|██████████| 943/943 [00:00<00:00, 2494.09it/s]\n"
     ]
    },
    {
     "name": "stdout",
     "output_type": "stream",
     "text": [
      "Epoch 13: train loss :   0.128475   val loss :   0.136468   val score :   0.188759\n",
      "------ epoch:14 ------\n"
     ]
    },
    {
     "name": "stderr",
     "output_type": "stream",
     "text": [
      "100%|██████████| 280/280 [00:03<00:00, 74.04it/s]\n",
      "100%|██████████| 70/70 [00:00<00:00, 115.89it/s]\n",
      "100%|██████████| 943/943 [00:00<00:00, 2398.92it/s]\n"
     ]
    },
    {
     "name": "stdout",
     "output_type": "stream",
     "text": [
      "Epoch 14: train loss :   0.123824   val loss :   0.137461   val score :   0.190880\n",
      "------ epoch:15 ------\n"
     ]
    },
    {
     "name": "stderr",
     "output_type": "stream",
     "text": [
      "100%|██████████| 280/280 [00:03<00:00, 73.82it/s]\n",
      "100%|██████████| 70/70 [00:00<00:00, 129.88it/s]\n",
      "100%|██████████| 943/943 [00:00<00:00, 2604.91it/s]\n"
     ]
    },
    {
     "name": "stdout",
     "output_type": "stream",
     "text": [
      "Epoch 15: train loss :   0.118398   val loss :   0.138285   val score :   0.199364\n",
      "Epoch 00015: reducing learning rate of group 0 to 1.0000e-03.\n",
      "------ epoch:16 ------\n"
     ]
    },
    {
     "name": "stderr",
     "output_type": "stream",
     "text": [
      "100%|██████████| 280/280 [00:03<00:00, 72.66it/s]\n",
      "100%|██████████| 70/70 [00:00<00:00, 116.80it/s]\n",
      "100%|██████████| 943/943 [00:00<00:00, 1829.30it/s]\n"
     ]
    },
    {
     "name": "stdout",
     "output_type": "stream",
     "text": [
      "Epoch 16: train loss :   0.095110   val loss :   0.138349   val score :   0.199364\n"
     ]
    },
    {
     "name": "stderr",
     "output_type": "stream",
     "text": [
      "100%|██████████| 39/39 [00:00<00:00, 107.42it/s]\n",
      "100%|██████████| 943/943 [00:04<00:00, 215.74it/s]\n"
     ]
    },
    {
     "name": "stdout",
     "output_type": "stream",
     "text": [
      "------ repeat : 3 ------\n",
      "------ epoch:1 ------\n"
     ]
    },
    {
     "name": "stderr",
     "output_type": "stream",
     "text": [
      "100%|██████████| 280/280 [00:03<00:00, 73.63it/s]\n",
      "100%|██████████| 70/70 [00:00<00:00, 115.21it/s]\n",
      "100%|██████████| 943/943 [00:00<00:00, 2466.03it/s]\n"
     ]
    },
    {
     "name": "stdout",
     "output_type": "stream",
     "text": [
      "Epoch 1: train loss :   0.293266   val loss :   0.145245   val score :   0.164369\n",
      "------ epoch:2 ------\n"
     ]
    },
    {
     "name": "stderr",
     "output_type": "stream",
     "text": [
      "100%|██████████| 280/280 [00:03<00:00, 70.44it/s]\n",
      "100%|██████████| 70/70 [00:00<00:00, 133.33it/s]\n",
      "100%|██████████| 943/943 [00:00<00:00, 2439.00it/s]\n"
     ]
    },
    {
     "name": "stdout",
     "output_type": "stream",
     "text": [
      "Epoch 2: train loss :   0.192885   val loss :   0.142209   val score :   0.176034\n",
      "------ epoch:3 ------\n"
     ]
    },
    {
     "name": "stderr",
     "output_type": "stream",
     "text": [
      "100%|██████████| 280/280 [00:03<00:00, 74.02it/s]\n",
      "100%|██████████| 70/70 [00:00<00:00, 117.05it/s]\n",
      "100%|██████████| 943/943 [00:00<00:00, 2371.27it/s]\n"
     ]
    },
    {
     "name": "stdout",
     "output_type": "stream",
     "text": [
      "Epoch 3: train loss :   0.176437   val loss :   0.138858   val score :   0.184517\n",
      "------ epoch:4 ------\n"
     ]
    },
    {
     "name": "stderr",
     "output_type": "stream",
     "text": [
      "100%|██████████| 280/280 [00:03<00:00, 73.74it/s]\n",
      "100%|██████████| 70/70 [00:00<00:00, 116.12it/s]\n",
      "100%|██████████| 943/943 [00:00<00:00, 2388.93it/s]\n"
     ]
    },
    {
     "name": "stdout",
     "output_type": "stream",
     "text": [
      "Epoch 4: train loss :   0.162460   val loss :   0.136825   val score :   0.180276\n",
      "------ epoch:5 ------\n"
     ]
    },
    {
     "name": "stderr",
     "output_type": "stream",
     "text": [
      "100%|██████████| 280/280 [00:03<00:00, 71.27it/s]\n",
      "100%|██████████| 70/70 [00:00<00:00, 118.06it/s]\n",
      "100%|██████████| 943/943 [00:00<00:00, 2248.49it/s]\n"
     ]
    },
    {
     "name": "stdout",
     "output_type": "stream",
     "text": [
      "Epoch 5: train loss :   0.152686   val loss :   0.135406   val score :   0.178155\n",
      "------ epoch:6 ------\n"
     ]
    },
    {
     "name": "stderr",
     "output_type": "stream",
     "text": [
      "100%|██████████| 280/280 [00:03<00:00, 75.21it/s]\n",
      "100%|██████████| 70/70 [00:00<00:00, 116.65it/s]\n",
      "100%|██████████| 943/943 [00:00<00:00, 2606.42it/s]\n"
     ]
    },
    {
     "name": "stdout",
     "output_type": "stream",
     "text": [
      "Epoch 6: train loss :   0.147240   val loss :   0.134393   val score :   0.182397\n",
      "Epoch 00006: reducing learning rate of group 0 to 1.0000e-03.\n",
      "------ epoch:7 ------\n"
     ]
    },
    {
     "name": "stderr",
     "output_type": "stream",
     "text": [
      "100%|██████████| 280/280 [00:03<00:00, 75.37it/s]\n",
      "100%|██████████| 70/70 [00:00<00:00, 117.23it/s]\n",
      "100%|██████████| 943/943 [00:00<00:00, 2662.24it/s]\n"
     ]
    },
    {
     "name": "stdout",
     "output_type": "stream",
     "text": [
      "Epoch 7: train loss :   0.141134   val loss :   0.134295   val score :   0.184517\n"
     ]
    },
    {
     "name": "stderr",
     "output_type": "stream",
     "text": [
      "100%|██████████| 39/39 [00:00<00:00, 136.49it/s]\n",
      "100%|██████████| 943/943 [00:04<00:00, 216.36it/s]\n"
     ]
    },
    {
     "name": "stdout",
     "output_type": "stream",
     "text": [
      "------ repeat : 4 ------\n",
      "------ epoch:1 ------\n"
     ]
    },
    {
     "name": "stderr",
     "output_type": "stream",
     "text": [
      "100%|██████████| 280/280 [00:03<00:00, 74.13it/s]\n",
      "100%|██████████| 70/70 [00:00<00:00, 116.33it/s]\n",
      "100%|██████████| 943/943 [00:00<00:00, 2568.59it/s]\n"
     ]
    },
    {
     "name": "stdout",
     "output_type": "stream",
     "text": [
      "Epoch 1: train loss :   0.289916   val loss :   0.145101   val score :   0.191941\n",
      "------ epoch:2 ------\n"
     ]
    },
    {
     "name": "stderr",
     "output_type": "stream",
     "text": [
      "100%|██████████| 280/280 [00:03<00:00, 74.27it/s]\n",
      "100%|██████████| 70/70 [00:00<00:00, 116.73it/s]\n",
      "100%|██████████| 943/943 [00:00<00:00, 1550.28it/s]\n"
     ]
    },
    {
     "name": "stdout",
     "output_type": "stream",
     "text": [
      "Epoch 2: train loss :   0.193475   val loss :   0.142701   val score :   0.179215\n",
      "------ epoch:3 ------\n"
     ]
    },
    {
     "name": "stderr",
     "output_type": "stream",
     "text": [
      "100%|██████████| 280/280 [00:03<00:00, 73.56it/s]\n",
      "100%|██████████| 70/70 [00:00<00:00, 115.15it/s]\n",
      "100%|██████████| 943/943 [00:00<00:00, 2313.81it/s]\n"
     ]
    },
    {
     "name": "stdout",
     "output_type": "stream",
     "text": [
      "Epoch 3: train loss :   0.176473   val loss :   0.140047   val score :   0.200424\n",
      "------ epoch:4 ------\n"
     ]
    },
    {
     "name": "stderr",
     "output_type": "stream",
     "text": [
      "100%|██████████| 280/280 [00:03<00:00, 71.65it/s]\n",
      "100%|██████████| 70/70 [00:00<00:00, 116.23it/s]\n",
      "100%|██████████| 943/943 [00:00<00:00, 2385.11it/s]\n"
     ]
    },
    {
     "name": "stdout",
     "output_type": "stream",
     "text": [
      "Epoch 4: train loss :   0.162255   val loss :   0.137666   val score :   0.203606\n",
      "------ epoch:5 ------\n"
     ]
    },
    {
     "name": "stderr",
     "output_type": "stream",
     "text": [
      "100%|██████████| 280/280 [00:03<00:00, 73.92it/s]\n",
      "100%|██████████| 70/70 [00:00<00:00, 131.07it/s]\n",
      "100%|██████████| 943/943 [00:00<00:00, 2523.44it/s]\n"
     ]
    },
    {
     "name": "stdout",
     "output_type": "stream",
     "text": [
      "Epoch 5: train loss :   0.152725   val loss :   0.135705   val score :   0.199364\n",
      "------ epoch:6 ------\n"
     ]
    },
    {
     "name": "stderr",
     "output_type": "stream",
     "text": [
      "100%|██████████| 280/280 [00:03<00:00, 72.30it/s]\n",
      "100%|██████████| 70/70 [00:00<00:00, 114.96it/s]\n",
      "100%|██████████| 943/943 [00:00<00:00, 2412.97it/s]\n"
     ]
    },
    {
     "name": "stdout",
     "output_type": "stream",
     "text": [
      "Epoch 6: train loss :   0.147461   val loss :   0.134519   val score :   0.201485\n",
      "------ epoch:7 ------\n"
     ]
    },
    {
     "name": "stderr",
     "output_type": "stream",
     "text": [
      "100%|██████████| 280/280 [00:03<00:00, 71.75it/s]\n",
      "100%|██████████| 70/70 [00:00<00:00, 115.39it/s]\n",
      "100%|██████████| 943/943 [00:00<00:00, 2369.45it/s]\n"
     ]
    },
    {
     "name": "stdout",
     "output_type": "stream",
     "text": [
      "Epoch 7: train loss :   0.144965   val loss :   0.133692   val score :   0.202545\n",
      "Epoch 00007: reducing learning rate of group 0 to 1.0000e-03.\n",
      "------ epoch:8 ------\n"
     ]
    },
    {
     "name": "stderr",
     "output_type": "stream",
     "text": [
      "100%|██████████| 280/280 [00:03<00:00, 72.92it/s]\n",
      "100%|██████████| 70/70 [00:00<00:00, 112.06it/s]\n",
      "100%|██████████| 943/943 [00:00<00:00, 2274.78it/s]\n"
     ]
    },
    {
     "name": "stdout",
     "output_type": "stream",
     "text": [
      "Epoch 8: train loss :   0.138299   val loss :   0.133613   val score :   0.203606\n"
     ]
    },
    {
     "name": "stderr",
     "output_type": "stream",
     "text": [
      "100%|██████████| 39/39 [00:00<00:00, 133.64it/s]\n",
      "100%|██████████| 943/943 [00:04<00:00, 217.56it/s]\n"
     ]
    },
    {
     "name": "stdout",
     "output_type": "stream",
     "text": [
      "------ repeat : 5 ------\n",
      "------ epoch:1 ------\n"
     ]
    },
    {
     "name": "stderr",
     "output_type": "stream",
     "text": [
      "100%|██████████| 280/280 [00:03<00:00, 71.82it/s]\n",
      "100%|██████████| 70/70 [00:00<00:00, 128.54it/s]\n",
      "100%|██████████| 943/943 [00:00<00:00, 2471.88it/s]\n"
     ]
    },
    {
     "name": "stdout",
     "output_type": "stream",
     "text": [
      "Epoch 1: train loss :   0.297360   val loss :   0.146156   val score :   0.196182\n",
      "------ epoch:2 ------\n"
     ]
    },
    {
     "name": "stderr",
     "output_type": "stream",
     "text": [
      "100%|██████████| 280/280 [00:03<00:00, 74.31it/s]\n",
      "100%|██████████| 70/70 [00:00<00:00, 119.13it/s]\n",
      "100%|██████████| 943/943 [00:00<00:00, 2497.61it/s]\n"
     ]
    },
    {
     "name": "stdout",
     "output_type": "stream",
     "text": [
      "Epoch 2: train loss :   0.193966   val loss :   0.142531   val score :   0.218452\n",
      "------ epoch:3 ------\n"
     ]
    },
    {
     "name": "stderr",
     "output_type": "stream",
     "text": [
      "100%|██████████| 280/280 [00:03<00:00, 73.65it/s]\n",
      "100%|██████████| 70/70 [00:00<00:00, 115.23it/s]\n",
      "100%|██████████| 943/943 [00:00<00:00, 2612.62it/s]\n"
     ]
    },
    {
     "name": "stdout",
     "output_type": "stream",
     "text": [
      "Epoch 3: train loss :   0.177061   val loss :   0.139604   val score :   0.219512\n",
      "------ epoch:4 ------\n"
     ]
    },
    {
     "name": "stderr",
     "output_type": "stream",
     "text": [
      "100%|██████████| 280/280 [00:03<00:00, 73.86it/s]\n",
      "100%|██████████| 70/70 [00:00<00:00, 115.68it/s]\n",
      "100%|██████████| 943/943 [00:00<00:00, 1618.23it/s]\n"
     ]
    },
    {
     "name": "stdout",
     "output_type": "stream",
     "text": [
      "Epoch 4: train loss :   0.162858   val loss :   0.137440   val score :   0.213150\n",
      "------ epoch:5 ------\n"
     ]
    },
    {
     "name": "stderr",
     "output_type": "stream",
     "text": [
      "100%|██████████| 280/280 [00:03<00:00, 72.07it/s]\n",
      "100%|██████████| 70/70 [00:00<00:00, 114.24it/s]\n",
      "100%|██████████| 943/943 [00:00<00:00, 2397.78it/s]\n"
     ]
    },
    {
     "name": "stdout",
     "output_type": "stream",
     "text": [
      "Epoch 5: train loss :   0.152661   val loss :   0.135724   val score :   0.214210\n",
      "------ epoch:6 ------\n"
     ]
    },
    {
     "name": "stderr",
     "output_type": "stream",
     "text": [
      "100%|██████████| 280/280 [00:03<00:00, 73.45it/s]\n",
      "100%|██████████| 70/70 [00:00<00:00, 115.00it/s]\n",
      "100%|██████████| 943/943 [00:00<00:00, 3093.63it/s]\n"
     ]
    },
    {
     "name": "stdout",
     "output_type": "stream",
     "text": [
      "Epoch 6: train loss :   0.147348   val loss :   0.134547   val score :   0.232238\n",
      "------ epoch:7 ------\n"
     ]
    },
    {
     "name": "stderr",
     "output_type": "stream",
     "text": [
      "100%|██████████| 280/280 [00:03<00:00, 74.92it/s]\n",
      "100%|██████████| 70/70 [00:00<00:00, 137.29it/s]\n",
      "100%|██████████| 943/943 [00:00<00:00, 3102.49it/s]\n"
     ]
    },
    {
     "name": "stdout",
     "output_type": "stream",
     "text": [
      "Epoch 7: train loss :   0.144744   val loss :   0.134079   val score :   0.219512\n",
      "------ epoch:8 ------\n"
     ]
    },
    {
     "name": "stderr",
     "output_type": "stream",
     "text": [
      "100%|██████████| 280/280 [00:04<00:00, 67.89it/s]\n",
      "100%|██████████| 70/70 [00:00<00:00, 113.10it/s]\n",
      "100%|██████████| 943/943 [00:00<00:00, 2991.98it/s]\n"
     ]
    },
    {
     "name": "stdout",
     "output_type": "stream",
     "text": [
      "Epoch 8: train loss :   0.142937   val loss :   0.133752   val score :   0.225875\n",
      "------ epoch:9 ------\n"
     ]
    },
    {
     "name": "stderr",
     "output_type": "stream",
     "text": [
      "100%|██████████| 280/280 [00:03<00:00, 72.17it/s]\n",
      "100%|██████████| 70/70 [00:00<00:00, 113.96it/s]\n",
      "100%|██████████| 943/943 [00:00<00:00, 2053.55it/s]\n"
     ]
    },
    {
     "name": "stdout",
     "output_type": "stream",
     "text": [
      "Epoch 9: train loss :   0.141214   val loss :   0.133888   val score :   0.220573\n",
      "Epoch 00009: reducing learning rate of group 0 to 1.0000e-03.\n",
      "------ epoch:10 ------\n"
     ]
    },
    {
     "name": "stderr",
     "output_type": "stream",
     "text": [
      "100%|██████████| 280/280 [00:03<00:00, 74.28it/s]\n",
      "100%|██████████| 70/70 [00:00<00:00, 117.63it/s]\n",
      "100%|██████████| 943/943 [00:00<00:00, 2505.74it/s]\n"
     ]
    },
    {
     "name": "stdout",
     "output_type": "stream",
     "text": [
      "Epoch 10: train loss :   0.131331   val loss :   0.133949   val score :   0.224814\n"
     ]
    },
    {
     "name": "stderr",
     "output_type": "stream",
     "text": [
      "100%|██████████| 39/39 [00:00<00:00, 135.28it/s]\n",
      "100%|██████████| 943/943 [00:04<00:00, 213.12it/s]\n"
     ]
    }
   ],
   "source": [
    "embedding_dim = 20\n",
    "lr = 1e-2\n",
    "alpha = 1e-2\n",
    "theta_clip = 0.1\n",
    "model_type = 3\n",
    "seed_everything(42)\n",
    "Test2(train, test, percentage, model_type, num_users=num_users, num_items=num_items, repeats=5, theta_clip=theta_clip, \n",
    "     embedding_dim=embedding_dim, lr=lr, alpha=alpha, patience=3, epochs=30, device=\"cuda:0\", model_selection=False)"
   ]
  },
  {
   "cell_type": "markdown",
   "id": "8768777b-5002-4f41-9f60-c75be9131925",
   "metadata": {},
   "source": [
    "## 五. per = 25%"
   ]
  },
  {
   "cell_type": "code",
   "execution_count": 21,
   "id": "bfd5db9a-961f-4528-8804-6146c00c2a94",
   "metadata": {
    "tags": []
   },
   "outputs": [
    {
     "name": "stderr",
     "output_type": "stream",
     "text": [
      "100%|██████████| 1682/1682 [00:01<00:00, 1151.82it/s]\n"
     ]
    }
   ],
   "source": [
    "seed_everything(42)\n",
    "percentage = 0.25\n",
    "click_data, _, _ = generate_click_data(data, num_users, num_items, power=1)\n",
    "click_data = get_theta_hat(click_data, percentage=percentage)\n",
    "neg_data = click_data[click_data[:, 6]==0, :]\n",
    "pos_data = click_data[click_data[:, 6]==1, :]\n",
    "train, test = train_test_split(neg_data, test_size=0.1, random_state=0)\n",
    "train = torch.vstack([pos_data, train]) # 使用未被点击的一部分作为测试集"
   ]
  },
  {
   "cell_type": "markdown",
   "id": "81626cc4-6c83-464d-be53-63ecba7fc978",
   "metadata": {},
   "source": [
    "### 4"
   ]
  },
  {
   "cell_type": "code",
   "execution_count": 22,
   "id": "fef5c524-2124-4f87-a851-1aa09ee5dbf6",
   "metadata": {
    "collapsed": true,
    "jupyter": {
     "outputs_hidden": true
    },
    "tags": []
   },
   "outputs": [
    {
     "name": "stdout",
     "output_type": "stream",
     "text": [
      "------ repeat : 1 ------\n",
      "------ epoch:1 ------\n"
     ]
    },
    {
     "name": "stderr",
     "output_type": "stream",
     "text": [
      "100%|██████████| 280/280 [00:04<00:00, 70.00it/s]\n",
      "100%|██████████| 70/70 [00:00<00:00, 135.86it/s]\n",
      "100%|██████████| 943/943 [00:00<00:00, 2476.26it/s]\n"
     ]
    },
    {
     "name": "stdout",
     "output_type": "stream",
     "text": [
      "Epoch 1: train loss :   0.299161   val loss :   0.149564   val score :   0.176034\n",
      "------ epoch:2 ------\n"
     ]
    },
    {
     "name": "stderr",
     "output_type": "stream",
     "text": [
      "100%|██████████| 280/280 [00:04<00:00, 69.90it/s]\n",
      "100%|██████████| 70/70 [00:00<00:00, 134.69it/s]\n",
      "100%|██████████| 943/943 [00:00<00:00, 2649.63it/s]\n"
     ]
    },
    {
     "name": "stdout",
     "output_type": "stream",
     "text": [
      "Epoch 2: train loss :   0.196575   val loss :   0.146465   val score :   0.193001\n",
      "------ epoch:3 ------\n"
     ]
    },
    {
     "name": "stderr",
     "output_type": "stream",
     "text": [
      "100%|██████████| 280/280 [00:03<00:00, 73.37it/s]\n",
      "100%|██████████| 70/70 [00:00<00:00, 117.04it/s]\n",
      "100%|██████████| 943/943 [00:00<00:00, 2434.02it/s]\n"
     ]
    },
    {
     "name": "stdout",
     "output_type": "stream",
     "text": [
      "Epoch 3: train loss :   0.181375   val loss :   0.143352   val score :   0.196182\n",
      "------ epoch:4 ------\n"
     ]
    },
    {
     "name": "stderr",
     "output_type": "stream",
     "text": [
      "100%|██████████| 280/280 [00:03<00:00, 74.10it/s]\n",
      "100%|██████████| 70/70 [00:00<00:00, 116.41it/s]\n",
      "100%|██████████| 943/943 [00:00<00:00, 2721.51it/s]\n"
     ]
    },
    {
     "name": "stdout",
     "output_type": "stream",
     "text": [
      "Epoch 4: train loss :   0.168930   val loss :   0.141540   val score :   0.185578\n",
      "------ epoch:5 ------\n"
     ]
    },
    {
     "name": "stderr",
     "output_type": "stream",
     "text": [
      "100%|██████████| 280/280 [00:03<00:00, 73.04it/s]\n",
      "100%|██████████| 70/70 [00:00<00:00, 112.40it/s]\n",
      "100%|██████████| 943/943 [00:00<00:00, 2512.78it/s]\n"
     ]
    },
    {
     "name": "stdout",
     "output_type": "stream",
     "text": [
      "Epoch 5: train loss :   0.158969   val loss :   0.140111   val score :   0.203606\n",
      "------ epoch:6 ------\n"
     ]
    },
    {
     "name": "stderr",
     "output_type": "stream",
     "text": [
      "100%|██████████| 280/280 [00:03<00:00, 74.88it/s]\n",
      "100%|██████████| 70/70 [00:00<00:00, 118.26it/s]\n",
      "100%|██████████| 943/943 [00:00<00:00, 2470.73it/s]\n"
     ]
    },
    {
     "name": "stdout",
     "output_type": "stream",
     "text": [
      "Epoch 6: train loss :   0.152921   val loss :   0.139298   val score :   0.202545\n",
      "------ epoch:7 ------\n"
     ]
    },
    {
     "name": "stderr",
     "output_type": "stream",
     "text": [
      "100%|██████████| 280/280 [00:03<00:00, 74.87it/s]\n",
      "100%|██████████| 70/70 [00:00<00:00, 116.34it/s]\n",
      "100%|██████████| 943/943 [00:00<00:00, 2456.37it/s]\n"
     ]
    },
    {
     "name": "stdout",
     "output_type": "stream",
     "text": [
      "Epoch 7: train loss :   0.148769   val loss :   0.138859   val score :   0.204666\n",
      "------ epoch:8 ------\n"
     ]
    },
    {
     "name": "stderr",
     "output_type": "stream",
     "text": [
      "100%|██████████| 280/280 [00:03<00:00, 74.50it/s]\n",
      "100%|██████████| 70/70 [00:00<00:00, 132.16it/s]\n",
      "100%|██████████| 943/943 [00:00<00:00, 2402.17it/s]\n"
     ]
    },
    {
     "name": "stdout",
     "output_type": "stream",
     "text": [
      "Epoch 8: train loss :   0.146081   val loss :   0.138883   val score :   0.202545\n",
      "------ epoch:9 ------\n"
     ]
    },
    {
     "name": "stderr",
     "output_type": "stream",
     "text": [
      "100%|██████████| 280/280 [00:03<00:00, 72.61it/s]\n",
      "100%|██████████| 70/70 [00:00<00:00, 117.11it/s]\n",
      "100%|██████████| 943/943 [00:00<00:00, 2668.76it/s]\n"
     ]
    },
    {
     "name": "stdout",
     "output_type": "stream",
     "text": [
      "Epoch 9: train loss :   0.143554   val loss :   0.139345   val score :   0.206787\n",
      "------ epoch:10 ------\n"
     ]
    },
    {
     "name": "stderr",
     "output_type": "stream",
     "text": [
      "100%|██████████| 280/280 [00:03<00:00, 75.46it/s]\n",
      "100%|██████████| 70/70 [00:00<00:00, 115.08it/s]\n",
      "100%|██████████| 943/943 [00:00<00:00, 2620.29it/s]\n"
     ]
    },
    {
     "name": "stdout",
     "output_type": "stream",
     "text": [
      "Epoch 10: train loss :   0.139560   val loss :   0.140504   val score :   0.206787\n",
      "------ epoch:11 ------\n"
     ]
    },
    {
     "name": "stderr",
     "output_type": "stream",
     "text": [
      "100%|██████████| 280/280 [00:03<00:00, 73.23it/s]\n",
      "100%|██████████| 70/70 [00:00<00:00, 115.75it/s]\n",
      "100%|██████████| 943/943 [00:00<00:00, 2554.55it/s]\n"
     ]
    },
    {
     "name": "stdout",
     "output_type": "stream",
     "text": [
      "Epoch 11: train loss :   0.132132   val loss :   0.141546   val score :   0.208908\n",
      "------ epoch:12 ------\n"
     ]
    },
    {
     "name": "stderr",
     "output_type": "stream",
     "text": [
      "100%|██████████| 280/280 [00:03<00:00, 72.03it/s]\n",
      "100%|██████████| 70/70 [00:00<00:00, 116.54it/s]\n",
      "100%|██████████| 943/943 [00:00<00:00, 2523.30it/s]\n"
     ]
    },
    {
     "name": "stdout",
     "output_type": "stream",
     "text": [
      "Epoch 12: train loss :   0.121496   val loss :   0.143214   val score :   0.214210\n",
      "------ epoch:13 ------\n"
     ]
    },
    {
     "name": "stderr",
     "output_type": "stream",
     "text": [
      "100%|██████████| 280/280 [00:03<00:00, 73.81it/s]\n",
      "100%|██████████| 70/70 [00:00<00:00, 115.63it/s]\n",
      "100%|██████████| 943/943 [00:00<00:00, 2522.97it/s]\n"
     ]
    },
    {
     "name": "stdout",
     "output_type": "stream",
     "text": [
      "Epoch 13: train loss :   0.113557   val loss :   0.144862   val score :   0.204666\n",
      "------ epoch:14 ------\n"
     ]
    },
    {
     "name": "stderr",
     "output_type": "stream",
     "text": [
      "100%|██████████| 280/280 [00:03<00:00, 73.89it/s]\n",
      "100%|██████████| 70/70 [00:00<00:00, 131.43it/s]\n",
      "100%|██████████| 943/943 [00:00<00:00, 1778.26it/s]\n"
     ]
    },
    {
     "name": "stdout",
     "output_type": "stream",
     "text": [
      "Epoch 14: train loss :   0.108668   val loss :   0.146310   val score :   0.196182\n",
      "------ epoch:15 ------\n"
     ]
    },
    {
     "name": "stderr",
     "output_type": "stream",
     "text": [
      "100%|██████████| 280/280 [00:03<00:00, 70.57it/s]\n",
      "100%|██████████| 70/70 [00:00<00:00, 127.95it/s]\n",
      "100%|██████████| 943/943 [00:00<00:00, 2309.64it/s]\n"
     ]
    },
    {
     "name": "stdout",
     "output_type": "stream",
     "text": [
      "Epoch 15: train loss :   0.099723   val loss :   0.147396   val score :   0.202545\n",
      "Epoch 00015: reducing learning rate of group 0 to 1.0000e-03.\n",
      "------ epoch:16 ------\n"
     ]
    },
    {
     "name": "stderr",
     "output_type": "stream",
     "text": [
      "100%|██████████| 280/280 [00:03<00:00, 73.77it/s]\n",
      "100%|██████████| 70/70 [00:00<00:00, 116.45it/s]\n",
      "100%|██████████| 943/943 [00:00<00:00, 1759.11it/s]\n"
     ]
    },
    {
     "name": "stdout",
     "output_type": "stream",
     "text": [
      "Epoch 16: train loss :   0.080819   val loss :   0.147542   val score :   0.203606\n"
     ]
    },
    {
     "name": "stderr",
     "output_type": "stream",
     "text": [
      "100%|██████████| 39/39 [00:00<00:00, 106.05it/s]\n",
      "100%|██████████| 943/943 [00:04<00:00, 215.98it/s]\n"
     ]
    },
    {
     "name": "stdout",
     "output_type": "stream",
     "text": [
      "------ repeat : 2 ------\n",
      "------ epoch:1 ------\n"
     ]
    },
    {
     "name": "stderr",
     "output_type": "stream",
     "text": [
      "100%|██████████| 280/280 [00:03<00:00, 73.41it/s]\n",
      "100%|██████████| 70/70 [00:00<00:00, 128.39it/s]\n",
      "100%|██████████| 943/943 [00:00<00:00, 2437.64it/s]\n"
     ]
    },
    {
     "name": "stdout",
     "output_type": "stream",
     "text": [
      "Epoch 1: train loss :   0.312429   val loss :   0.150579   val score :   0.189820\n",
      "------ epoch:2 ------\n"
     ]
    },
    {
     "name": "stderr",
     "output_type": "stream",
     "text": [
      "100%|██████████| 280/280 [00:03<00:00, 70.59it/s]\n",
      "100%|██████████| 70/70 [00:00<00:00, 134.24it/s]\n",
      "100%|██████████| 943/943 [00:00<00:00, 2470.51it/s]\n"
     ]
    },
    {
     "name": "stdout",
     "output_type": "stream",
     "text": [
      "Epoch 2: train loss :   0.198027   val loss :   0.147448   val score :   0.212089\n",
      "------ epoch:3 ------\n"
     ]
    },
    {
     "name": "stderr",
     "output_type": "stream",
     "text": [
      "100%|██████████| 280/280 [00:03<00:00, 73.89it/s]\n",
      "100%|██████████| 70/70 [00:00<00:00, 115.26it/s]\n",
      "100%|██████████| 943/943 [00:00<00:00, 2639.11it/s]\n"
     ]
    },
    {
     "name": "stdout",
     "output_type": "stream",
     "text": [
      "Epoch 3: train loss :   0.182892   val loss :   0.144629   val score :   0.215270\n",
      "------ epoch:4 ------\n"
     ]
    },
    {
     "name": "stderr",
     "output_type": "stream",
     "text": [
      "100%|██████████| 280/280 [00:03<00:00, 73.14it/s]\n",
      "100%|██████████| 70/70 [00:00<00:00, 116.53it/s]\n",
      "100%|██████████| 943/943 [00:00<00:00, 2525.76it/s]\n"
     ]
    },
    {
     "name": "stdout",
     "output_type": "stream",
     "text": [
      "Epoch 4: train loss :   0.170516   val loss :   0.142471   val score :   0.221633\n",
      "------ epoch:5 ------\n"
     ]
    },
    {
     "name": "stderr",
     "output_type": "stream",
     "text": [
      "100%|██████████| 280/280 [00:03<00:00, 72.35it/s]\n",
      "100%|██████████| 70/70 [00:00<00:00, 115.23it/s]\n",
      "100%|██████████| 943/943 [00:00<00:00, 2723.91it/s]\n"
     ]
    },
    {
     "name": "stdout",
     "output_type": "stream",
     "text": [
      "Epoch 5: train loss :   0.160875   val loss :   0.140669   val score :   0.212089\n",
      "------ epoch:6 ------\n"
     ]
    },
    {
     "name": "stderr",
     "output_type": "stream",
     "text": [
      "100%|██████████| 280/280 [00:03<00:00, 73.76it/s]\n",
      "100%|██████████| 70/70 [00:00<00:00, 117.59it/s]\n",
      "100%|██████████| 943/943 [00:00<00:00, 2586.58it/s]\n"
     ]
    },
    {
     "name": "stdout",
     "output_type": "stream",
     "text": [
      "Epoch 6: train loss :   0.153974   val loss :   0.139666   val score :   0.200424\n",
      "------ epoch:7 ------\n"
     ]
    },
    {
     "name": "stderr",
     "output_type": "stream",
     "text": [
      "100%|██████████| 280/280 [00:03<00:00, 73.69it/s]\n",
      "100%|██████████| 70/70 [00:00<00:00, 115.78it/s]\n",
      "100%|██████████| 943/943 [00:00<00:00, 2695.38it/s]\n"
     ]
    },
    {
     "name": "stdout",
     "output_type": "stream",
     "text": [
      "Epoch 7: train loss :   0.149291   val loss :   0.138950   val score :   0.206787\n",
      "Epoch 00007: reducing learning rate of group 0 to 1.0000e-03.\n",
      "------ epoch:8 ------\n"
     ]
    },
    {
     "name": "stderr",
     "output_type": "stream",
     "text": [
      "100%|██████████| 280/280 [00:03<00:00, 73.17it/s]\n",
      "100%|██████████| 70/70 [00:00<00:00, 125.97it/s]\n",
      "100%|██████████| 943/943 [00:00<00:00, 2288.95it/s]\n"
     ]
    },
    {
     "name": "stdout",
     "output_type": "stream",
     "text": [
      "Epoch 8: train loss :   0.141634   val loss :   0.138919   val score :   0.207847\n"
     ]
    },
    {
     "name": "stderr",
     "output_type": "stream",
     "text": [
      "100%|██████████| 39/39 [00:00<00:00, 106.08it/s]\n",
      "100%|██████████| 943/943 [00:04<00:00, 213.33it/s]\n"
     ]
    },
    {
     "name": "stdout",
     "output_type": "stream",
     "text": [
      "------ repeat : 3 ------\n",
      "------ epoch:1 ------\n"
     ]
    },
    {
     "name": "stderr",
     "output_type": "stream",
     "text": [
      "100%|██████████| 280/280 [00:03<00:00, 72.97it/s]\n",
      "100%|██████████| 70/70 [00:00<00:00, 115.65it/s]\n",
      "100%|██████████| 943/943 [00:00<00:00, 2522.80it/s]\n"
     ]
    },
    {
     "name": "stdout",
     "output_type": "stream",
     "text": [
      "Epoch 1: train loss :   0.305152   val loss :   0.150255   val score :   0.189820\n",
      "------ epoch:2 ------\n"
     ]
    },
    {
     "name": "stderr",
     "output_type": "stream",
     "text": [
      "100%|██████████| 280/280 [00:03<00:00, 73.16it/s]\n",
      "100%|██████████| 70/70 [00:00<00:00, 105.13it/s]\n",
      "100%|██████████| 943/943 [00:00<00:00, 2446.64it/s]\n"
     ]
    },
    {
     "name": "stdout",
     "output_type": "stream",
     "text": [
      "Epoch 2: train loss :   0.196689   val loss :   0.147264   val score :   0.184517\n",
      "------ epoch:3 ------\n"
     ]
    },
    {
     "name": "stderr",
     "output_type": "stream",
     "text": [
      "100%|██████████| 280/280 [00:03<00:00, 70.94it/s]\n",
      "100%|██████████| 70/70 [00:00<00:00, 131.53it/s]\n",
      "100%|██████████| 943/943 [00:00<00:00, 2076.17it/s]\n"
     ]
    },
    {
     "name": "stdout",
     "output_type": "stream",
     "text": [
      "Epoch 3: train loss :   0.181810   val loss :   0.144880   val score :   0.193001\n",
      "------ epoch:4 ------\n"
     ]
    },
    {
     "name": "stderr",
     "output_type": "stream",
     "text": [
      "100%|██████████| 280/280 [00:03<00:00, 71.48it/s]\n",
      "100%|██████████| 70/70 [00:00<00:00, 132.86it/s]\n",
      "100%|██████████| 943/943 [00:00<00:00, 2520.88it/s]\n"
     ]
    },
    {
     "name": "stdout",
     "output_type": "stream",
     "text": [
      "Epoch 4: train loss :   0.169395   val loss :   0.143025   val score :   0.190880\n",
      "------ epoch:5 ------\n"
     ]
    },
    {
     "name": "stderr",
     "output_type": "stream",
     "text": [
      "100%|██████████| 280/280 [00:03<00:00, 72.81it/s]\n",
      "100%|██████████| 70/70 [00:00<00:00, 116.27it/s]\n",
      "100%|██████████| 943/943 [00:00<00:00, 2529.80it/s]\n"
     ]
    },
    {
     "name": "stdout",
     "output_type": "stream",
     "text": [
      "Epoch 5: train loss :   0.160131   val loss :   0.141269   val score :   0.196182\n",
      "------ epoch:6 ------\n"
     ]
    },
    {
     "name": "stderr",
     "output_type": "stream",
     "text": [
      "100%|██████████| 280/280 [00:03<00:00, 71.75it/s]\n",
      "100%|██████████| 70/70 [00:00<00:00, 112.10it/s]\n",
      "100%|██████████| 943/943 [00:00<00:00, 2540.48it/s]\n"
     ]
    },
    {
     "name": "stdout",
     "output_type": "stream",
     "text": [
      "Epoch 6: train loss :   0.153739   val loss :   0.139665   val score :   0.200424\n",
      "------ epoch:7 ------\n"
     ]
    },
    {
     "name": "stderr",
     "output_type": "stream",
     "text": [
      "100%|██████████| 280/280 [00:03<00:00, 72.84it/s]\n",
      "100%|██████████| 70/70 [00:00<00:00, 115.87it/s]\n",
      "100%|██████████| 943/943 [00:00<00:00, 2551.27it/s]\n"
     ]
    },
    {
     "name": "stdout",
     "output_type": "stream",
     "text": [
      "Epoch 7: train loss :   0.150018   val loss :   0.138819   val score :   0.200424\n",
      "------ epoch:8 ------\n"
     ]
    },
    {
     "name": "stderr",
     "output_type": "stream",
     "text": [
      "100%|██████████| 280/280 [00:03<00:00, 72.69it/s]\n",
      "100%|██████████| 70/70 [00:00<00:00, 114.76it/s]\n",
      "100%|██████████| 943/943 [00:00<00:00, 2374.82it/s]\n"
     ]
    },
    {
     "name": "stdout",
     "output_type": "stream",
     "text": [
      "Epoch 8: train loss :   0.146816   val loss :   0.138387   val score :   0.204666\n",
      "------ epoch:9 ------\n"
     ]
    },
    {
     "name": "stderr",
     "output_type": "stream",
     "text": [
      "100%|██████████| 280/280 [00:03<00:00, 70.79it/s]\n",
      "100%|██████████| 70/70 [00:00<00:00, 111.96it/s]\n",
      "100%|██████████| 943/943 [00:00<00:00, 2411.34it/s]\n"
     ]
    },
    {
     "name": "stdout",
     "output_type": "stream",
     "text": [
      "Epoch 9: train loss :   0.144145   val loss :   0.138261   val score :   0.202545\n",
      "------ epoch:10 ------\n"
     ]
    },
    {
     "name": "stderr",
     "output_type": "stream",
     "text": [
      "100%|██████████| 280/280 [00:03<00:00, 73.01it/s]\n",
      "100%|██████████| 70/70 [00:00<00:00, 129.80it/s]\n",
      "100%|██████████| 943/943 [00:00<00:00, 2369.25it/s]\n"
     ]
    },
    {
     "name": "stdout",
     "output_type": "stream",
     "text": [
      "Epoch 10: train loss :   0.139772   val loss :   0.139385   val score :   0.203606\n",
      "------ epoch:11 ------\n"
     ]
    },
    {
     "name": "stderr",
     "output_type": "stream",
     "text": [
      "100%|██████████| 280/280 [00:03<00:00, 73.50it/s]\n",
      "100%|██████████| 70/70 [00:00<00:00, 115.19it/s]\n",
      "100%|██████████| 943/943 [00:00<00:00, 2408.10it/s]\n"
     ]
    },
    {
     "name": "stdout",
     "output_type": "stream",
     "text": [
      "Epoch 11: train loss :   0.134616   val loss :   0.140375   val score :   0.194062\n",
      "Epoch 00011: reducing learning rate of group 0 to 1.0000e-03.\n",
      "------ epoch:12 ------\n"
     ]
    },
    {
     "name": "stderr",
     "output_type": "stream",
     "text": [
      "100%|██████████| 280/280 [00:03<00:00, 72.77it/s]\n",
      "100%|██████████| 70/70 [00:00<00:00, 110.98it/s]\n",
      "100%|██████████| 943/943 [00:00<00:00, 2008.72it/s]\n"
     ]
    },
    {
     "name": "stdout",
     "output_type": "stream",
     "text": [
      "Epoch 12: train loss :   0.115905   val loss :   0.140464   val score :   0.195122\n"
     ]
    },
    {
     "name": "stderr",
     "output_type": "stream",
     "text": [
      "100%|██████████| 39/39 [00:00<00:00, 127.20it/s]\n",
      "100%|██████████| 943/943 [00:04<00:00, 215.14it/s]\n"
     ]
    },
    {
     "name": "stdout",
     "output_type": "stream",
     "text": [
      "------ repeat : 4 ------\n",
      "------ epoch:1 ------\n"
     ]
    },
    {
     "name": "stderr",
     "output_type": "stream",
     "text": [
      "100%|██████████| 280/280 [00:03<00:00, 85.59it/s]\n",
      "100%|██████████| 70/70 [00:00<00:00, 136.28it/s]\n",
      "100%|██████████| 943/943 [00:00<00:00, 3080.47it/s]\n"
     ]
    },
    {
     "name": "stdout",
     "output_type": "stream",
     "text": [
      "Epoch 1: train loss :   0.297914   val loss :   0.149202   val score :   0.178155\n",
      "------ epoch:2 ------\n"
     ]
    },
    {
     "name": "stderr",
     "output_type": "stream",
     "text": [
      "100%|██████████| 280/280 [00:03<00:00, 84.31it/s]\n",
      "100%|██████████| 70/70 [00:00<00:00, 136.06it/s]\n",
      "100%|██████████| 943/943 [00:00<00:00, 3088.10it/s]\n"
     ]
    },
    {
     "name": "stdout",
     "output_type": "stream",
     "text": [
      "Epoch 2: train loss :   0.196544   val loss :   0.146576   val score :   0.183457\n",
      "------ epoch:3 ------\n"
     ]
    },
    {
     "name": "stderr",
     "output_type": "stream",
     "text": [
      "100%|██████████| 280/280 [00:03<00:00, 70.77it/s]\n",
      "100%|██████████| 70/70 [00:00<00:00, 118.55it/s]\n",
      "100%|██████████| 943/943 [00:00<00:00, 1915.46it/s]\n"
     ]
    },
    {
     "name": "stdout",
     "output_type": "stream",
     "text": [
      "Epoch 3: train loss :   0.181542   val loss :   0.144755   val score :   0.196182\n",
      "------ epoch:4 ------\n"
     ]
    },
    {
     "name": "stderr",
     "output_type": "stream",
     "text": [
      "100%|██████████| 280/280 [00:03<00:00, 73.96it/s]\n",
      "100%|██████████| 70/70 [00:00<00:00, 116.82it/s]\n",
      "100%|██████████| 943/943 [00:00<00:00, 2409.80it/s]\n"
     ]
    },
    {
     "name": "stdout",
     "output_type": "stream",
     "text": [
      "Epoch 4: train loss :   0.169168   val loss :   0.142907   val score :   0.188759\n",
      "------ epoch:5 ------\n"
     ]
    },
    {
     "name": "stderr",
     "output_type": "stream",
     "text": [
      "100%|██████████| 280/280 [00:03<00:00, 73.51it/s]\n",
      "100%|██████████| 70/70 [00:00<00:00, 118.20it/s]\n",
      "100%|██████████| 943/943 [00:00<00:00, 2427.94it/s]\n"
     ]
    },
    {
     "name": "stdout",
     "output_type": "stream",
     "text": [
      "Epoch 5: train loss :   0.160114   val loss :   0.141205   val score :   0.199364\n",
      "------ epoch:6 ------\n"
     ]
    },
    {
     "name": "stderr",
     "output_type": "stream",
     "text": [
      "100%|██████████| 280/280 [00:03<00:00, 72.33it/s]\n",
      "100%|██████████| 70/70 [00:00<00:00, 111.45it/s]\n",
      "100%|██████████| 943/943 [00:00<00:00, 2372.61it/s]\n"
     ]
    },
    {
     "name": "stdout",
     "output_type": "stream",
     "text": [
      "Epoch 6: train loss :   0.153911   val loss :   0.139715   val score :   0.197243\n",
      "------ epoch:7 ------\n"
     ]
    },
    {
     "name": "stderr",
     "output_type": "stream",
     "text": [
      "100%|██████████| 280/280 [00:03<00:00, 73.84it/s]\n",
      "100%|██████████| 70/70 [00:00<00:00, 115.68it/s]\n",
      "100%|██████████| 943/943 [00:00<00:00, 2363.68it/s]\n"
     ]
    },
    {
     "name": "stdout",
     "output_type": "stream",
     "text": [
      "Epoch 7: train loss :   0.150042   val loss :   0.138824   val score :   0.198303\n",
      "------ epoch:8 ------\n"
     ]
    },
    {
     "name": "stderr",
     "output_type": "stream",
     "text": [
      "100%|██████████| 280/280 [00:03<00:00, 74.17it/s]\n",
      "100%|██████████| 70/70 [00:00<00:00, 134.87it/s]\n",
      "100%|██████████| 943/943 [00:00<00:00, 1864.85it/s]\n"
     ]
    },
    {
     "name": "stdout",
     "output_type": "stream",
     "text": [
      "Epoch 8: train loss :   0.146662   val loss :   0.138864   val score :   0.201485\n",
      "------ epoch:9 ------\n"
     ]
    },
    {
     "name": "stderr",
     "output_type": "stream",
     "text": [
      "100%|██████████| 280/280 [00:03<00:00, 74.15it/s]\n",
      "100%|██████████| 70/70 [00:00<00:00, 111.94it/s]\n",
      "100%|██████████| 943/943 [00:00<00:00, 2495.37it/s]\n"
     ]
    },
    {
     "name": "stdout",
     "output_type": "stream",
     "text": [
      "Epoch 9: train loss :   0.143532   val loss :   0.139203   val score :   0.199364\n",
      "------ epoch:10 ------\n"
     ]
    },
    {
     "name": "stderr",
     "output_type": "stream",
     "text": [
      "100%|██████████| 280/280 [00:03<00:00, 71.99it/s]\n",
      "100%|██████████| 70/70 [00:00<00:00, 116.99it/s]\n",
      "100%|██████████| 943/943 [00:00<00:00, 2586.17it/s]\n"
     ]
    },
    {
     "name": "stdout",
     "output_type": "stream",
     "text": [
      "Epoch 10: train loss :   0.138458   val loss :   0.139654   val score :   0.203606\n",
      "------ epoch:11 ------\n"
     ]
    },
    {
     "name": "stderr",
     "output_type": "stream",
     "text": [
      "100%|██████████| 280/280 [00:03<00:00, 72.72it/s]\n",
      "100%|██████████| 70/70 [00:00<00:00, 112.85it/s]\n",
      "100%|██████████| 943/943 [00:00<00:00, 2532.58it/s]\n"
     ]
    },
    {
     "name": "stdout",
     "output_type": "stream",
     "text": [
      "Epoch 11: train loss :   0.130766   val loss :   0.140978   val score :   0.207847\n",
      "------ epoch:12 ------\n"
     ]
    },
    {
     "name": "stderr",
     "output_type": "stream",
     "text": [
      "100%|██████████| 280/280 [00:03<00:00, 73.09it/s]\n",
      "100%|██████████| 70/70 [00:00<00:00, 115.28it/s]\n",
      "100%|██████████| 943/943 [00:00<00:00, 2630.35it/s]\n"
     ]
    },
    {
     "name": "stdout",
     "output_type": "stream",
     "text": [
      "Epoch 12: train loss :   0.123255   val loss :   0.142442   val score :   0.212089\n",
      "------ epoch:13 ------\n"
     ]
    },
    {
     "name": "stderr",
     "output_type": "stream",
     "text": [
      "100%|██████████| 280/280 [00:03<00:00, 71.44it/s]\n",
      "100%|██████████| 70/70 [00:00<00:00, 116.31it/s]\n",
      "100%|██████████| 943/943 [00:00<00:00, 2560.19it/s]\n"
     ]
    },
    {
     "name": "stdout",
     "output_type": "stream",
     "text": [
      "Epoch 13: train loss :   0.115466   val loss :   0.143661   val score :   0.193001\n",
      "------ epoch:14 ------\n"
     ]
    },
    {
     "name": "stderr",
     "output_type": "stream",
     "text": [
      "100%|██████████| 280/280 [00:03<00:00, 72.75it/s]\n",
      "100%|██████████| 70/70 [00:00<00:00, 133.46it/s]\n",
      "100%|██████████| 943/943 [00:00<00:00, 2482.73it/s]\n"
     ]
    },
    {
     "name": "stdout",
     "output_type": "stream",
     "text": [
      "Epoch 14: train loss :   0.107971   val loss :   0.145008   val score :   0.197243\n",
      "------ epoch:15 ------\n"
     ]
    },
    {
     "name": "stderr",
     "output_type": "stream",
     "text": [
      "100%|██████████| 280/280 [00:03<00:00, 72.32it/s]\n",
      "100%|██████████| 70/70 [00:00<00:00, 133.06it/s]\n",
      "100%|██████████| 943/943 [00:00<00:00, 1904.57it/s]\n"
     ]
    },
    {
     "name": "stdout",
     "output_type": "stream",
     "text": [
      "Epoch 15: train loss :   0.103811   val loss :   0.146175   val score :   0.205726\n",
      "Epoch 00015: reducing learning rate of group 0 to 1.0000e-03.\n",
      "------ epoch:16 ------\n"
     ]
    },
    {
     "name": "stderr",
     "output_type": "stream",
     "text": [
      "100%|██████████| 280/280 [00:03<00:00, 72.35it/s]\n",
      "100%|██████████| 70/70 [00:00<00:00, 109.88it/s]\n",
      "100%|██████████| 943/943 [00:00<00:00, 2486.02it/s]\n"
     ]
    },
    {
     "name": "stdout",
     "output_type": "stream",
     "text": [
      "Epoch 16: train loss :   0.082054   val loss :   0.146319   val score :   0.198303\n"
     ]
    },
    {
     "name": "stderr",
     "output_type": "stream",
     "text": [
      "100%|██████████| 39/39 [00:00<00:00, 106.83it/s]\n",
      "100%|██████████| 943/943 [00:04<00:00, 215.59it/s]\n"
     ]
    },
    {
     "name": "stdout",
     "output_type": "stream",
     "text": [
      "------ repeat : 5 ------\n",
      "------ epoch:1 ------\n"
     ]
    },
    {
     "name": "stderr",
     "output_type": "stream",
     "text": [
      "100%|██████████| 280/280 [00:03<00:00, 74.02it/s]\n",
      "100%|██████████| 70/70 [00:00<00:00, 132.96it/s]\n",
      "100%|██████████| 943/943 [00:00<00:00, 2355.02it/s]\n"
     ]
    },
    {
     "name": "stdout",
     "output_type": "stream",
     "text": [
      "Epoch 1: train loss :   0.299175   val loss :   0.150409   val score :   0.180276\n",
      "------ epoch:2 ------\n"
     ]
    },
    {
     "name": "stderr",
     "output_type": "stream",
     "text": [
      "100%|██████████| 280/280 [00:03<00:00, 71.91it/s]\n",
      "100%|██████████| 70/70 [00:00<00:00, 117.65it/s]\n",
      "100%|██████████| 943/943 [00:00<00:00, 1419.79it/s]\n"
     ]
    },
    {
     "name": "stdout",
     "output_type": "stream",
     "text": [
      "Epoch 2: train loss :   0.196909   val loss :   0.147458   val score :   0.196182\n",
      "------ epoch:3 ------\n"
     ]
    },
    {
     "name": "stderr",
     "output_type": "stream",
     "text": [
      "100%|██████████| 280/280 [00:03<00:00, 72.23it/s]\n",
      "100%|██████████| 70/70 [00:00<00:00, 114.98it/s]\n",
      "100%|██████████| 943/943 [00:00<00:00, 2552.72it/s]\n"
     ]
    },
    {
     "name": "stdout",
     "output_type": "stream",
     "text": [
      "Epoch 3: train loss :   0.181643   val loss :   0.145459   val score :   0.206787\n",
      "------ epoch:4 ------\n"
     ]
    },
    {
     "name": "stderr",
     "output_type": "stream",
     "text": [
      "100%|██████████| 280/280 [00:03<00:00, 73.53it/s]\n",
      "100%|██████████| 70/70 [00:00<00:00, 115.51it/s]\n",
      "100%|██████████| 943/943 [00:00<00:00, 2393.24it/s]\n"
     ]
    },
    {
     "name": "stdout",
     "output_type": "stream",
     "text": [
      "Epoch 4: train loss :   0.169416   val loss :   0.143668   val score :   0.195122\n",
      "------ epoch:5 ------\n"
     ]
    },
    {
     "name": "stderr",
     "output_type": "stream",
     "text": [
      "100%|██████████| 280/280 [00:03<00:00, 72.84it/s]\n",
      "100%|██████████| 70/70 [00:00<00:00, 115.87it/s]\n",
      "100%|██████████| 943/943 [00:00<00:00, 2378.88it/s]\n"
     ]
    },
    {
     "name": "stdout",
     "output_type": "stream",
     "text": [
      "Epoch 5: train loss :   0.160155   val loss :   0.141920   val score :   0.198303\n",
      "------ epoch:6 ------\n"
     ]
    },
    {
     "name": "stderr",
     "output_type": "stream",
     "text": [
      "100%|██████████| 280/280 [00:03<00:00, 74.86it/s]\n",
      "100%|██████████| 70/70 [00:00<00:00, 115.73it/s]\n",
      "100%|██████████| 943/943 [00:00<00:00, 2606.60it/s]\n"
     ]
    },
    {
     "name": "stdout",
     "output_type": "stream",
     "text": [
      "Epoch 6: train loss :   0.153919   val loss :   0.140319   val score :   0.208908\n",
      "------ epoch:7 ------\n"
     ]
    },
    {
     "name": "stderr",
     "output_type": "stream",
     "text": [
      "100%|██████████| 280/280 [00:03<00:00, 85.70it/s]\n",
      "100%|██████████| 70/70 [00:00<00:00, 116.07it/s]\n",
      "100%|██████████| 943/943 [00:00<00:00, 1886.62it/s]\n"
     ]
    },
    {
     "name": "stdout",
     "output_type": "stream",
     "text": [
      "Epoch 7: train loss :   0.149957   val loss :   0.139028   val score :   0.206787\n",
      "------ epoch:8 ------\n"
     ]
    },
    {
     "name": "stderr",
     "output_type": "stream",
     "text": [
      "100%|██████████| 280/280 [00:03<00:00, 88.07it/s]\n",
      "100%|██████████| 70/70 [00:00<00:00, 134.01it/s]\n",
      "100%|██████████| 943/943 [00:00<00:00, 1575.11it/s]\n"
     ]
    },
    {
     "name": "stdout",
     "output_type": "stream",
     "text": [
      "Epoch 8: train loss :   0.147326   val loss :   0.138619   val score :   0.207847\n",
      "------ epoch:9 ------\n"
     ]
    },
    {
     "name": "stderr",
     "output_type": "stream",
     "text": [
      "100%|██████████| 280/280 [00:03<00:00, 74.16it/s]\n",
      "100%|██████████| 70/70 [00:00<00:00, 115.83it/s]\n",
      "100%|██████████| 943/943 [00:00<00:00, 2310.95it/s]\n"
     ]
    },
    {
     "name": "stdout",
     "output_type": "stream",
     "text": [
      "Epoch 9: train loss :   0.145096   val loss :   0.138858   val score :   0.215270\n",
      "------ epoch:10 ------\n"
     ]
    },
    {
     "name": "stderr",
     "output_type": "stream",
     "text": [
      "100%|██████████| 280/280 [00:03<00:00, 72.21it/s]\n",
      "100%|██████████| 70/70 [00:00<00:00, 110.01it/s]\n",
      "100%|██████████| 943/943 [00:00<00:00, 2568.55it/s]\n"
     ]
    },
    {
     "name": "stdout",
     "output_type": "stream",
     "text": [
      "Epoch 10: train loss :   0.140608   val loss :   0.139150   val score :   0.213150\n",
      "------ epoch:11 ------\n"
     ]
    },
    {
     "name": "stderr",
     "output_type": "stream",
     "text": [
      "100%|██████████| 280/280 [00:03<00:00, 74.16it/s]\n",
      "100%|██████████| 70/70 [00:00<00:00, 116.75it/s]\n",
      "100%|██████████| 943/943 [00:00<00:00, 2593.57it/s]\n"
     ]
    },
    {
     "name": "stdout",
     "output_type": "stream",
     "text": [
      "Epoch 11: train loss :   0.135242   val loss :   0.139814   val score :   0.203606\n",
      "------ epoch:12 ------\n"
     ]
    },
    {
     "name": "stderr",
     "output_type": "stream",
     "text": [
      "100%|██████████| 280/280 [00:03<00:00, 72.06it/s]\n",
      "100%|██████████| 70/70 [00:00<00:00, 117.02it/s]\n",
      "100%|██████████| 943/943 [00:00<00:00, 2956.89it/s]\n"
     ]
    },
    {
     "name": "stdout",
     "output_type": "stream",
     "text": [
      "Epoch 12: train loss :   0.129179   val loss :   0.140964   val score :   0.198303\n",
      "Epoch 00012: reducing learning rate of group 0 to 1.0000e-03.\n",
      "------ epoch:13 ------\n"
     ]
    },
    {
     "name": "stderr",
     "output_type": "stream",
     "text": [
      "100%|██████████| 280/280 [00:03<00:00, 71.84it/s]\n",
      "100%|██████████| 70/70 [00:00<00:00, 115.84it/s]\n",
      "100%|██████████| 943/943 [00:00<00:00, 2443.58it/s]\n"
     ]
    },
    {
     "name": "stdout",
     "output_type": "stream",
     "text": [
      "Epoch 13: train loss :   0.112220   val loss :   0.141066   val score :   0.199364\n"
     ]
    },
    {
     "name": "stderr",
     "output_type": "stream",
     "text": [
      "100%|██████████| 39/39 [00:00<00:00, 138.51it/s]\n",
      "100%|██████████| 943/943 [00:04<00:00, 218.87it/s]\n"
     ]
    }
   ],
   "source": [
    "embedding_dim = 10\n",
    "lr = 1e-2\n",
    "alpha = 1e-2\n",
    "theta_clip = 0.1\n",
    "model_type = 3\n",
    "seed_everything(42)\n",
    "Test2(train, test, percentage, model_type, num_users=num_users, num_items=num_items, repeats=5, theta_clip=theta_clip, \n",
    "     embedding_dim=embedding_dim, lr=lr, alpha=alpha, patience=3, epochs=30, device=\"cuda:0\", model_selection=False)"
   ]
  },
  {
   "cell_type": "code",
   "execution_count": null,
   "id": "a3cfa8a2-59b4-4036-9a1c-13ddd952f141",
   "metadata": {},
   "outputs": [],
   "source": []
  }
 ],
 "metadata": {
  "kernelspec": {
   "display_name": "Python 3 (ipykernel)",
   "language": "python",
   "name": "python3"
  },
  "language_info": {
   "codemirror_mode": {
    "name": "ipython",
    "version": 3
   },
   "file_extension": ".py",
   "mimetype": "text/x-python",
   "name": "python",
   "nbconvert_exporter": "python",
   "pygments_lexer": "ipython3",
   "version": "3.8.10"
  }
 },
 "nbformat": 4,
 "nbformat_minor": 5
}
