{
 "cells": [
  {
   "cell_type": "code",
   "execution_count": 92,
   "id": "dcc87261-93bb-4366-abe9-3ac9f3b11527",
   "metadata": {
    "tags": []
   },
   "outputs": [],
   "source": [
    "import torch\n",
    "import pandas as pd\n",
    "import numpy as np\n",
    "import matplotlib.pyplot as plt\n",
    "from utils.utils import seed_everything, search_eps_for_rating\n",
    "from models.model import BasicMF, RatingRecoverModel, ObservationModel\n",
    "from utils.generate_data import load_movielens\n",
    "from torch.utils.data import DataLoader\n",
    "from sklearn.model_selection import train_test_split"
   ]
  },
  {
   "cell_type": "markdown",
   "id": "cb901748-8022-4461-847e-675f8edb0c10",
   "metadata": {},
   "source": [
    "## 一. 固定种子"
   ]
  },
  {
   "cell_type": "code",
   "execution_count": 93,
   "id": "baffbc68-384a-48b3-a6d9-fd10538a3c71",
   "metadata": {
    "tags": []
   },
   "outputs": [],
   "source": [
    "seed_everything(42)"
   ]
  },
  {
   "cell_type": "markdown",
   "id": "e544564f-c1e1-4037-babc-a8248cc81e8c",
   "metadata": {},
   "source": [
    "## 二. 读取数据"
   ]
  },
  {
   "cell_type": "code",
   "execution_count": 94,
   "id": "b7d5ee41-eb56-42f6-a694-734987818dd6",
   "metadata": {
    "tags": []
   },
   "outputs": [
    {
     "data": {
      "text/plain": [
       "(array([[ 195,  241,    3],\n",
       "        [ 185,  301,    3],\n",
       "        [  21,  376,    1],\n",
       "        ...,\n",
       "        [ 275, 1089,    1],\n",
       "        [  12,  224,    2],\n",
       "        [  11,  202,    3]]),\n",
       " 943,\n",
       " 1682)"
      ]
     },
     "execution_count": 94,
     "metadata": {},
     "output_type": "execute_result"
    }
   ],
   "source": [
    "seed_everything(42)\n",
    "ratings, num_users, num_items = load_movielens(\"data/u.data\")\n",
    "ratings = ratings.values\n",
    "ratings, num_users, num_items"
   ]
  },
  {
   "cell_type": "markdown",
   "id": "e9a9f1f2-5fff-46c0-ae38-856c40e9ae26",
   "metadata": {},
   "source": [
    "## 三. 生成ratings"
   ]
  },
  {
   "cell_type": "markdown",
   "id": "c7adfe04-81cb-40c4-a941-544d47d9a0ba",
   "metadata": {},
   "source": [
    "### （一）寻找最优参数"
   ]
  },
  {
   "cell_type": "code",
   "execution_count": 95,
   "id": "fb20a617-a0bf-406b-8a5a-b7e3f523a594",
   "metadata": {
    "tags": []
   },
   "outputs": [],
   "source": [
    "seed_everything(42)\n",
    "train, test = train_test_split(ratings, test_size=0.2, random_state=0)\n",
    "train = DataLoader(torch.tensor(train), batch_size=2**12,shuffle=True)\n",
    "test = DataLoader(torch.tensor(test), batch_size=2**12, shuffle=False)"
   ]
  },
  {
   "cell_type": "raw",
   "id": "2d693ae9-fb51-4c40-b7d1-f911b85cd7df",
   "metadata": {},
   "source": [
    "调参范围：\n",
    "1. k : 5, 10, 20, 50, 100, 200\n",
    "2. alpha : 0, 1e-5, 1e-4, 1e-3, 1e-2\n",
    "3. lr : 1e-5, 1e-4, 1e-3, 1e-2"
   ]
  },
  {
   "cell_type": "code",
   "execution_count": 96,
   "id": "ac2b8a16-3229-4b1c-b4b3-5be10753460d",
   "metadata": {
    "tags": []
   },
   "outputs": [],
   "source": [
    "K = 100\n",
    "alpha = 1e-3\n",
    "lr = 1e-3"
   ]
  },
  {
   "cell_type": "code",
   "execution_count": 97,
   "id": "07c43320-6a48-4a11-89dc-2067cf404955",
   "metadata": {
    "tags": []
   },
   "outputs": [
    {
     "name": "stderr",
     "output_type": "stream",
     "text": [
      "100%|██████████| 20/20 [00:00<00:00, 89.41it/s]\n",
      "100%|██████████| 5/5 [00:00<00:00, 106.12it/s]\n",
      "100%|██████████| 20/20 [00:00<00:00, 85.57it/s]\n",
      "100%|██████████| 5/5 [00:00<00:00, 79.81it/s]\n",
      "100%|██████████| 20/20 [00:00<00:00, 79.18it/s]\n",
      "100%|██████████| 5/5 [00:00<00:00, 105.48it/s]\n",
      "100%|██████████| 20/20 [00:00<00:00, 53.60it/s]\n",
      "100%|██████████| 5/5 [00:00<00:00, 111.74it/s]\n",
      "100%|██████████| 20/20 [00:00<00:00, 72.64it/s]\n",
      "100%|██████████| 5/5 [00:00<00:00, 135.89it/s]\n",
      "100%|██████████| 20/20 [00:00<00:00, 89.74it/s]\n",
      "100%|██████████| 5/5 [00:00<00:00, 103.03it/s]\n",
      "100%|██████████| 20/20 [00:00<00:00, 74.20it/s]\n",
      "100%|██████████| 5/5 [00:00<00:00, 131.29it/s]\n",
      "100%|██████████| 20/20 [00:00<00:00, 57.41it/s]\n",
      "100%|██████████| 5/5 [00:00<00:00, 125.28it/s]\n",
      "100%|██████████| 20/20 [00:00<00:00, 90.07it/s]\n",
      "100%|██████████| 5/5 [00:00<00:00, 109.62it/s]\n",
      "100%|██████████| 20/20 [00:00<00:00, 91.15it/s]\n",
      "100%|██████████| 5/5 [00:00<00:00, 139.92it/s]\n",
      "100%|██████████| 20/20 [00:00<00:00, 78.14it/s]\n",
      "100%|██████████| 5/5 [00:00<00:00, 140.73it/s]\n",
      "100%|██████████| 20/20 [00:00<00:00, 53.04it/s]\n",
      "100%|██████████| 5/5 [00:00<00:00, 126.85it/s]\n",
      "100%|██████████| 20/20 [00:00<00:00, 85.91it/s]\n",
      "100%|██████████| 5/5 [00:00<00:00, 130.45it/s]\n",
      "100%|██████████| 20/20 [00:00<00:00, 90.55it/s]\n",
      "100%|██████████| 5/5 [00:00<00:00, 77.67it/s]\n",
      "100%|██████████| 20/20 [00:00<00:00, 84.78it/s]\n",
      "100%|██████████| 5/5 [00:00<00:00, 121.07it/s]\n",
      "100%|██████████| 20/20 [00:00<00:00, 82.55it/s]\n",
      "100%|██████████| 5/5 [00:00<00:00, 33.76it/s]\n",
      "100%|██████████| 20/20 [00:00<00:00, 91.51it/s]\n",
      "100%|██████████| 5/5 [00:00<00:00, 102.46it/s]\n",
      "100%|██████████| 20/20 [00:00<00:00, 90.14it/s]\n",
      "100%|██████████| 5/5 [00:00<00:00, 132.98it/s]\n",
      "100%|██████████| 20/20 [00:00<00:00, 87.74it/s]\n",
      "100%|██████████| 5/5 [00:00<00:00, 131.78it/s]\n",
      "100%|██████████| 20/20 [00:00<00:00, 92.19it/s]\n",
      "100%|██████████| 5/5 [00:00<00:00, 107.11it/s]\n",
      "100%|██████████| 20/20 [00:00<00:00, 63.89it/s]\n",
      "100%|██████████| 5/5 [00:00<00:00, 141.36it/s]\n",
      "100%|██████████| 20/20 [00:00<00:00, 84.28it/s]\n",
      "100%|██████████| 5/5 [00:00<00:00, 138.66it/s]\n",
      "100%|██████████| 20/20 [00:00<00:00, 81.35it/s]\n",
      "100%|██████████| 5/5 [00:00<00:00, 120.18it/s]\n",
      "100%|██████████| 20/20 [00:00<00:00, 86.77it/s]\n",
      "100%|██████████| 5/5 [00:00<00:00, 99.19it/s]\n",
      "100%|██████████| 20/20 [00:00<00:00, 57.51it/s]\n",
      "100%|██████████| 5/5 [00:00<00:00, 109.72it/s]\n",
      "100%|██████████| 20/20 [00:00<00:00, 90.95it/s]\n",
      "100%|██████████| 5/5 [00:00<00:00, 119.92it/s]\n",
      "100%|██████████| 20/20 [00:00<00:00, 78.09it/s]\n",
      "100%|██████████| 5/5 [00:00<00:00, 121.57it/s]\n",
      "100%|██████████| 20/20 [00:00<00:00, 89.13it/s]\n",
      "100%|██████████| 5/5 [00:00<00:00, 139.58it/s]\n",
      "100%|██████████| 20/20 [00:00<00:00, 62.12it/s]\n",
      "100%|██████████| 5/5 [00:00<00:00, 90.80it/s]\n",
      "100%|██████████| 20/20 [00:00<00:00, 93.13it/s]\n",
      "100%|██████████| 5/5 [00:00<00:00, 118.98it/s]\n",
      "100%|██████████| 20/20 [00:00<00:00, 93.58it/s]\n",
      "100%|██████████| 5/5 [00:00<00:00, 103.31it/s]\n",
      "100%|██████████| 20/20 [00:00<00:00, 90.09it/s]\n",
      "100%|██████████| 5/5 [00:00<00:00, 116.65it/s]\n",
      "100%|██████████| 20/20 [00:00<00:00, 91.92it/s]\n",
      "100%|██████████| 5/5 [00:00<00:00, 32.87it/s]\n",
      "100%|██████████| 20/20 [00:00<00:00, 74.86it/s]\n",
      "100%|██████████| 5/5 [00:00<00:00, 80.75it/s]\n",
      "100%|██████████| 20/20 [00:00<00:00, 79.49it/s]\n",
      "100%|██████████| 5/5 [00:00<00:00, 136.25it/s]\n",
      "100%|██████████| 20/20 [00:00<00:00, 78.83it/s]\n",
      "100%|██████████| 5/5 [00:00<00:00, 128.38it/s]\n",
      "100%|██████████| 20/20 [00:00<00:00, 87.51it/s]\n",
      "100%|██████████| 5/5 [00:00<00:00, 110.68it/s]\n",
      "100%|██████████| 20/20 [00:00<00:00, 58.90it/s]\n",
      "100%|██████████| 5/5 [00:00<00:00, 108.51it/s]\n",
      "100%|██████████| 20/20 [00:00<00:00, 91.30it/s]\n",
      "100%|██████████| 5/5 [00:00<00:00, 123.45it/s]\n",
      "100%|██████████| 20/20 [00:00<00:00, 92.42it/s]\n",
      "100%|██████████| 5/5 [00:00<00:00, 133.26it/s]\n",
      "100%|██████████| 20/20 [00:00<00:00, 95.05it/s]\n",
      "100%|██████████| 5/5 [00:00<00:00, 107.85it/s]\n",
      "100%|██████████| 20/20 [00:00<00:00, 63.05it/s]\n",
      "100%|██████████| 5/5 [00:00<00:00, 140.80it/s]\n",
      "100%|██████████| 20/20 [00:00<00:00, 86.89it/s]\n",
      "100%|██████████| 5/5 [00:00<00:00, 132.38it/s]\n",
      "100%|██████████| 20/20 [00:00<00:00, 89.45it/s]\n",
      "100%|██████████| 5/5 [00:00<00:00, 99.76it/s]\n",
      "100%|██████████| 20/20 [00:00<00:00, 93.17it/s]\n",
      "100%|██████████| 5/5 [00:00<00:00, 123.46it/s]\n",
      "100%|██████████| 20/20 [00:00<00:00, 59.90it/s]\n",
      "100%|██████████| 5/5 [00:00<00:00, 138.64it/s]\n",
      "100%|██████████| 20/20 [00:00<00:00, 86.40it/s]\n",
      "100%|██████████| 5/5 [00:00<00:00, 113.89it/s]\n",
      "100%|██████████| 20/20 [00:00<00:00, 91.79it/s]\n",
      "100%|██████████| 5/5 [00:00<00:00, 110.39it/s]\n",
      "100%|██████████| 20/20 [00:00<00:00, 89.34it/s]\n",
      "100%|██████████| 5/5 [00:00<00:00, 136.57it/s]\n",
      "100%|██████████| 20/20 [00:00<00:00, 83.44it/s]\n",
      "100%|██████████| 5/5 [00:00<00:00, 84.02it/s]\n"
     ]
    },
    {
     "data": {
      "text/plain": [
       "0.9194790244102478"
      ]
     },
     "execution_count": 97,
     "metadata": {},
     "output_type": "execute_result"
    },
    {
     "data": {
      "image/png": "[encoded data removed]",
      "text/plain": [
       "<Figure size 640x480 with 1 Axes>"
      ]
     },
     "metadata": {},
     "output_type": "display_data"
    }
   ],
   "source": [
    "seed_everything(42)\n",
    "rating_net = BasicMF(num_users, num_items, embedding_dim=K)\n",
    "RatingModel = RatingRecoverModel(rating_net, train, test, device=\"cuda:0\")\n",
    "RatingModel.fit(epochs=50, lr=lr, alpha=alpha, weight_decay=1e-4)"
   ]
  },
  {
   "cell_type": "markdown",
   "id": "3312debb-0682-4291-a152-8b24a4d56323",
   "metadata": {
    "tags": []
   },
   "source": [
    "### （二）使用最优参数训练"
   ]
  },
  {
   "cell_type": "code",
   "execution_count": 98,
   "id": "2388e99e-7135-4e33-b855-5b86133f6d02",
   "metadata": {
    "tags": []
   },
   "outputs": [
    {
     "name": "stderr",
     "output_type": "stream",
     "text": [
      "100%|██████████| 25/25 [00:00<00:00, 62.65it/s]\n",
      "100%|██████████| 25/25 [00:00<00:00, 88.68it/s]\n",
      "100%|██████████| 25/25 [00:00<00:00, 81.87it/s]\n",
      "100%|██████████| 25/25 [00:00<00:00, 82.08it/s]\n",
      "100%|██████████| 25/25 [00:00<00:00, 64.76it/s]\n",
      "100%|██████████| 25/25 [00:00<00:00, 85.18it/s]\n",
      "100%|██████████| 25/25 [00:00<00:00, 83.69it/s]\n",
      "100%|██████████| 25/25 [00:00<00:00, 71.94it/s]\n",
      "100%|██████████| 25/25 [00:00<00:00, 44.76it/s]\n",
      "100%|██████████| 25/25 [00:00<00:00, 81.46it/s]\n",
      "100%|██████████| 25/25 [00:00<00:00, 88.08it/s]\n",
      "100%|██████████| 25/25 [00:00<00:00, 78.17it/s]\n",
      "100%|██████████| 25/25 [00:00<00:00, 83.50it/s]\n",
      "100%|██████████| 25/25 [00:00<00:00, 59.84it/s]\n",
      "100%|██████████| 25/25 [00:00<00:00, 83.29it/s]\n",
      "100%|██████████| 25/25 [00:00<00:00, 84.39it/s]\n",
      "100%|██████████| 25/25 [00:00<00:00, 86.14it/s]\n",
      "100%|██████████| 25/25 [00:00<00:00, 61.53it/s]\n",
      "100%|██████████| 25/25 [00:00<00:00, 86.73it/s]\n",
      "100%|██████████| 25/25 [00:00<00:00, 90.71it/s]\n",
      "100%|██████████| 25/25 [00:00<00:00, 89.31it/s]\n",
      "100%|██████████| 25/25 [00:00<00:00, 63.14it/s]\n",
      "100%|██████████| 25/25 [00:00<00:00, 90.49it/s]\n",
      "100%|██████████| 25/25 [00:00<00:00, 90.34it/s]\n",
      "100%|██████████| 25/25 [00:00<00:00, 85.34it/s]\n",
      "100%|██████████| 25/25 [00:00<00:00, 85.54it/s]\n",
      "100%|██████████| 25/25 [00:00<00:00, 52.57it/s]\n",
      "100%|██████████| 25/25 [00:00<00:00, 78.80it/s]\n",
      "100%|██████████| 25/25 [00:00<00:00, 80.96it/s]\n",
      "100%|██████████| 25/25 [00:00<00:00, 78.53it/s]\n",
      "100%|██████████| 25/25 [00:00<00:00, 57.63it/s]\n",
      "100%|██████████| 25/25 [00:00<00:00, 81.61it/s]\n",
      "100%|██████████| 25/25 [00:00<00:00, 77.19it/s]\n",
      "100%|██████████| 25/25 [00:00<00:00, 71.09it/s]\n",
      "100%|██████████| 25/25 [00:00<00:00, 47.39it/s]\n",
      "100%|██████████| 25/25 [00:00<00:00, 78.52it/s]\n",
      "100%|██████████| 25/25 [00:00<00:00, 84.34it/s]\n",
      "100%|██████████| 25/25 [00:00<00:00, 86.15it/s]\n",
      "100%|██████████| 25/25 [00:00<00:00, 88.35it/s]\n",
      "100%|██████████| 25/25 [00:00<00:00, 59.56it/s]\n",
      "100%|██████████| 25/25 [00:00<00:00, 82.25it/s]\n",
      "100%|██████████| 25/25 [00:00<00:00, 86.22it/s]\n",
      "100%|██████████| 25/25 [00:00<00:00, 72.14it/s]\n",
      "100%|██████████| 25/25 [00:00<00:00, 60.04it/s]\n",
      "100%|██████████| 25/25 [00:00<00:00, 74.83it/s]\n",
      "100%|██████████| 25/25 [00:00<00:00, 83.16it/s]\n",
      "100%|██████████| 25/25 [00:00<00:00, 85.37it/s]\n",
      "100%|██████████| 25/25 [00:00<00:00, 60.80it/s]\n",
      "100%|██████████| 25/25 [00:00<00:00, 90.46it/s]\n",
      "100%|██████████| 25/25 [00:00<00:00, 89.11it/s]\n"
     ]
    },
    {
     "data": {
      "image/png": "[encoded data removed]",
      "text/plain": [
       "<Figure size 640x480 with 1 Axes>"
      ]
     },
     "metadata": {},
     "output_type": "display_data"
    }
   ],
   "source": [
    "seed_everything(42)\n",
    "train = DataLoader(torch.tensor(ratings), batch_size=2**12,shuffle=True)\n",
    "rating_net = BasicMF(num_users, num_items, embedding_dim=K)\n",
    "RatingModel = RatingRecoverModel(rating_net, train, None, device=\"cuda:0\")\n",
    "RatingModel.fit(epochs=50, lr=lr, alpha=alpha, weight_decay=1e-4)"
   ]
  },
  {
   "cell_type": "code",
   "execution_count": 99,
   "id": "b089d4f2-a4f2-47c7-a08b-fd4e14081156",
   "metadata": {
    "tags": []
   },
   "outputs": [
    {
     "data": {
      "text/plain": [
       "tensor([[5.0000, 3.2957, 5.0000,  ..., 1.4069, 2.3686, 2.8275],\n",
       "        [4.1397, 1.5415, 3.7220,  ..., 1.0000, 1.7927, 1.7987],\n",
       "        [3.0915, 1.0000, 2.8606,  ..., 1.0000, 1.3218, 1.5241],\n",
       "        ...,\n",
       "        [5.0000, 3.0387, 5.0000,  ..., 1.5417, 2.2248, 2.6709],\n",
       "        [3.8014, 1.5532, 3.5233,  ..., 1.0000, 1.6005, 1.6699],\n",
       "        [4.9221, 2.8817, 5.0000,  ..., 1.1069, 1.8326, 2.4262]],\n",
       "       device='cuda:0', grad_fn=<ClampBackward1>)"
      ]
     },
     "execution_count": 99,
     "metadata": {},
     "output_type": "execute_result"
    }
   ],
   "source": [
    "r = RatingModel.get_rating()\n",
    "r"
   ]
  },
  {
   "cell_type": "markdown",
   "id": "7c989dc9-61ad-4599-950e-7a7dcc390e16",
   "metadata": {},
   "source": [
    "### （三）寻找eps并生成相关矩阵"
   ]
  },
  {
   "cell_type": "code",
   "execution_count": 100,
   "id": "9f852499-09a4-41d3-a8c3-0e128b4a7a1a",
   "metadata": {
    "tags": []
   },
   "outputs": [
    {
     "data": {
      "text/plain": [
       "3.864297866821289"
      ]
     },
     "execution_count": 100,
     "metadata": {},
     "output_type": "execute_result"
    }
   ],
   "source": [
    "eps = search_eps_for_rating(r)\n",
    "eps"
   ]
  },
  {
   "cell_type": "code",
   "execution_count": 101,
   "id": "fa92a7eb-917d-4df5-b734-a1bfd4872893",
   "metadata": {
    "tags": []
   },
   "outputs": [
    {
     "data": {
      "text/plain": [
       "tensor([[0.7569, 0.3616, 0.7569,  ..., 0.0789, 0.1831, 0.2618],\n",
       "        [0.5684, 0.0893, 0.4645,  ..., 0.0539, 0.1119, 0.1125],\n",
       "        [0.3159, 0.0539, 0.2682,  ..., 0.0539, 0.0729, 0.0878],\n",
       "        ...,\n",
       "        [0.7569, 0.3046, 0.7569,  ..., 0.0893, 0.1625, 0.2327],\n",
       "        [0.4843, 0.0902, 0.4156,  ..., 0.0539, 0.0942, 0.1003],\n",
       "        [0.7423, 0.2724, 0.7569,  ..., 0.0597, 0.1159, 0.1918]],\n",
       "       device='cuda:0', grad_fn=<SigmoidBackward0>)"
      ]
     },
     "execution_count": 101,
     "metadata": {},
     "output_type": "execute_result"
    }
   ],
   "source": [
    "rel = torch.sigmoid(r-eps)\n",
    "rel"
   ]
  },
  {
   "cell_type": "code",
   "execution_count": 102,
   "id": "cc23e810-7cbd-4479-b5d1-23222ddf0348",
   "metadata": {
    "tags": []
   },
   "outputs": [
    {
     "data": {
      "text/plain": [
       "(array([4.75209875, 2.08307812, 1.55912909, 1.21614714, 0.96925837,\n",
       "        0.80300925, 0.66295048, 0.56005773, 0.4740189 , 1.14616228]),\n",
       " array([0.05394693, 0.1242412 , 0.19453548, 0.26482975, 0.33512402,\n",
       "        0.40541828, 0.47571257, 0.5460068 , 0.61630112, 0.68659538,\n",
       "        0.75688964]),\n",
       " <BarContainer object of 10 artists>)"
      ]
     },
     "execution_count": 102,
     "metadata": {},
     "output_type": "execute_result"
    },
    {
     "data": {
      "image/png": "[encoded data removed]",
      "text/plain": [
       "<Figure size 640x480 with 1 Axes>"
      ]
     },
     "metadata": {},
     "output_type": "display_data"
    }
   ],
   "source": [
    "plt.hist(pd.DataFrame(rel.detach().cpu().numpy().reshape(-1)), density=True)"
   ]
  },
  {
   "cell_type": "markdown",
   "id": "aac2a809-3880-4d7c-aaf0-ad8ff4f2b08f",
   "metadata": {
    "tags": []
   },
   "source": [
    "## 四. 生成theta"
   ]
  },
  {
   "cell_type": "code",
   "execution_count": 103,
   "id": "b30fef3d-d709-41a6-9070-b2fdaf71659b",
   "metadata": {
    "tags": []
   },
   "outputs": [],
   "source": [
    "seed_everything(42)\n",
    "all_data = pd.DataFrame(np.zeros((num_users, num_items))).stack().reset_index()\n",
    "all_data = all_data.values[:, :2]\n",
    "pos_data = ratings[:, :2]\n",
    "unlabeled_data = np.array(list(set(map(tuple, all_data)) - set(map(tuple, pos_data))), dtype=int)\n",
    "expo_data = np.r_[np.c_[pos_data, np.ones(pos_data.shape[0])], np.c_[unlabeled_data, np.zeros(unlabeled_data.shape[0])]]"
   ]
  },
  {
   "cell_type": "markdown",
   "id": "187d6af0-5cb1-43fe-a728-7cfb69bfec64",
   "metadata": {},
   "source": [
    "### （一）寻找最优参数"
   ]
  },
  {
   "cell_type": "code",
   "execution_count": 104,
   "id": "ddf117a0-9822-4786-ab8a-7ee8c66290ca",
   "metadata": {
    "tags": []
   },
   "outputs": [],
   "source": [
    "seed_everything(42)\n",
    "observed_data = expo_data[expo_data[:, 2]==1]\n",
    "unobserved_data = expo_data[expo_data[:, 2]==0]\n",
    "train_obs, test_obs = train_test_split(observed_data, test_size=0.2, random_state=0)\n",
    "rate = len(test_obs)/len(unobserved_data)\n",
    "train_unobs, test_unobs = train_test_split(unobserved_data, test_size=rate, random_state=0)\n",
    "train = np.r_[train_obs, train_unobs]\n",
    "test = np.r_[test_obs, test_unobs]\n",
    "train = DataLoader(torch.tensor(train), batch_size=2**12,shuffle=True)\n",
    "test = DataLoader(torch.tensor(test), batch_size=2**12, shuffle=False)"
   ]
  },
  {
   "cell_type": "raw",
   "id": "57f6cc66-8dd4-4110-a99c-11eb9dfaa960",
   "metadata": {},
   "source": [
    "调参范围：\n",
    "1. k : 5, 10, 20, 50, 100, 200\n",
    "2. alpha : 0, 1e-5, 1e-4, 1e-3, 1e-2\n",
    "3. lr : 1e-5, 1e-4, 1e-3, 1e-2"
   ]
  },
  {
   "cell_type": "code",
   "execution_count": 105,
   "id": "539edd35-eb92-4f64-ba26-628d509b23e2",
   "metadata": {
    "tags": []
   },
   "outputs": [],
   "source": [
    "K = 100\n",
    "alpha = 1e-4\n",
    "lr = 1e-3"
   ]
  },
  {
   "cell_type": "code",
   "execution_count": 106,
   "id": "154c1d23-7d56-45b1-933a-29a8f16f47e9",
   "metadata": {
    "collapsed": true,
    "jupyter": {
     "outputs_hidden": true
    },
    "tags": []
   },
   "outputs": [
    {
     "name": "stderr",
     "output_type": "stream",
     "text": [
      "100%|██████████| 378/378 [00:04<00:00, 78.81it/s]\n",
      "100%|██████████| 10/10 [00:00<00:00, 125.32it/s]\n",
      "100%|██████████| 378/378 [00:04<00:00, 80.51it/s]\n",
      "100%|██████████| 10/10 [00:00<00:00, 130.75it/s]\n",
      "100%|██████████| 378/378 [00:04<00:00, 76.23it/s]\n",
      "100%|██████████| 10/10 [00:00<00:00, 122.36it/s]\n",
      "100%|██████████| 378/378 [00:04<00:00, 80.52it/s]\n",
      "100%|██████████| 10/10 [00:00<00:00, 125.90it/s]\n",
      "100%|██████████| 378/378 [00:04<00:00, 81.13it/s]\n",
      "100%|██████████| 10/10 [00:00<00:00, 129.43it/s]\n",
      "100%|██████████| 378/378 [00:04<00:00, 78.18it/s]\n",
      "100%|██████████| 10/10 [00:00<00:00, 139.07it/s]\n",
      "100%|██████████| 378/378 [00:04<00:00, 80.14it/s]\n",
      "100%|██████████| 10/10 [00:00<00:00, 129.19it/s]\n",
      "100%|██████████| 378/378 [00:04<00:00, 80.58it/s]\n",
      "100%|██████████| 10/10 [00:00<00:00, 93.70it/s]\n",
      "100%|██████████| 378/378 [00:04<00:00, 79.41it/s]\n",
      "100%|██████████| 10/10 [00:00<00:00, 119.78it/s]\n",
      "100%|██████████| 378/378 [00:04<00:00, 80.61it/s]\n",
      "100%|██████████| 10/10 [00:00<00:00, 136.31it/s]\n",
      "100%|██████████| 378/378 [00:04<00:00, 78.37it/s]\n",
      "100%|██████████| 10/10 [00:00<00:00, 131.15it/s]\n",
      "100%|██████████| 378/378 [00:04<00:00, 78.03it/s]\n",
      "100%|██████████| 10/10 [00:00<00:00, 47.13it/s]\n",
      "100%|██████████| 378/378 [00:04<00:00, 79.91it/s]\n",
      "100%|██████████| 10/10 [00:00<00:00, 113.05it/s]\n",
      "100%|██████████| 378/378 [00:04<00:00, 77.77it/s]\n",
      "100%|██████████| 10/10 [00:00<00:00, 130.31it/s]\n",
      "100%|██████████| 378/378 [00:04<00:00, 78.78it/s]\n",
      "100%|██████████| 10/10 [00:00<00:00, 123.67it/s]\n",
      "100%|██████████| 378/378 [00:04<00:00, 77.02it/s]\n",
      "100%|██████████| 10/10 [00:00<00:00, 131.66it/s]\n",
      "100%|██████████| 378/378 [00:04<00:00, 78.69it/s]\n",
      "100%|██████████| 10/10 [00:00<00:00, 131.07it/s]\n",
      "100%|██████████| 378/378 [00:04<00:00, 80.85it/s]\n",
      "100%|██████████| 10/10 [00:00<00:00, 129.86it/s]\n",
      "100%|██████████| 378/378 [00:04<00:00, 81.62it/s] \n",
      "100%|██████████| 10/10 [00:00<00:00, 129.30it/s]\n",
      "100%|██████████| 378/378 [00:04<00:00, 76.04it/s]\n",
      "100%|██████████| 10/10 [00:00<00:00, 43.77it/s]\n",
      "100%|██████████| 378/378 [00:04<00:00, 77.67it/s]\n",
      "100%|██████████| 10/10 [00:00<00:00, 137.89it/s]\n",
      "100%|██████████| 378/378 [00:04<00:00, 78.57it/s]\n",
      "100%|██████████| 10/10 [00:00<00:00, 127.88it/s]\n",
      "100%|██████████| 378/378 [00:04<00:00, 77.38it/s]\n",
      "100%|██████████| 10/10 [00:00<00:00, 102.34it/s]\n",
      "100%|██████████| 378/378 [00:04<00:00, 78.44it/s]\n",
      "100%|██████████| 10/10 [00:00<00:00, 126.68it/s]\n",
      "100%|██████████| 378/378 [00:04<00:00, 77.78it/s]\n",
      "100%|██████████| 10/10 [00:00<00:00, 122.85it/s]\n",
      "100%|██████████| 378/378 [00:04<00:00, 78.28it/s]\n",
      "100%|██████████| 10/10 [00:00<00:00, 122.88it/s]\n",
      "100%|██████████| 378/378 [00:05<00:00, 75.13it/s]\n",
      "100%|██████████| 10/10 [00:00<00:00, 117.19it/s]\n",
      "100%|██████████| 378/378 [00:04<00:00, 82.27it/s]\n",
      "100%|██████████| 10/10 [00:00<00:00, 118.47it/s]\n",
      "100%|██████████| 378/378 [00:04<00:00, 76.98it/s]\n",
      "100%|██████████| 10/10 [00:00<00:00, 125.87it/s]\n",
      "100%|██████████| 378/378 [00:04<00:00, 78.41it/s]\n",
      "100%|██████████| 10/10 [00:00<00:00, 126.09it/s]\n",
      "100%|██████████| 378/378 [00:04<00:00, 81.10it/s]\n",
      "100%|██████████| 10/10 [00:00<00:00, 132.46it/s]\n",
      "100%|██████████| 378/378 [00:04<00:00, 75.93it/s]\n",
      "100%|██████████| 10/10 [00:00<00:00, 127.42it/s]\n",
      "100%|██████████| 378/378 [00:04<00:00, 80.81it/s]\n",
      "100%|██████████| 10/10 [00:00<00:00, 45.45it/s]\n",
      "100%|██████████| 378/378 [00:04<00:00, 77.98it/s]\n",
      "100%|██████████| 10/10 [00:00<00:00, 128.34it/s]\n",
      "100%|██████████| 378/378 [00:04<00:00, 79.26it/s]\n",
      "100%|██████████| 10/10 [00:00<00:00, 131.08it/s]\n",
      "100%|██████████| 378/378 [00:04<00:00, 82.71it/s]\n",
      "100%|██████████| 10/10 [00:00<00:00, 124.67it/s]\n",
      "100%|██████████| 378/378 [00:04<00:00, 78.16it/s]\n",
      "100%|██████████| 10/10 [00:00<00:00, 134.67it/s]\n",
      "100%|██████████| 378/378 [00:04<00:00, 79.43it/s]\n",
      "100%|██████████| 10/10 [00:00<00:00, 124.80it/s]\n",
      "100%|██████████| 378/378 [00:04<00:00, 80.01it/s]\n",
      "100%|██████████| 10/10 [00:00<00:00, 127.81it/s]\n",
      "100%|██████████| 378/378 [00:04<00:00, 78.38it/s]\n",
      "100%|██████████| 10/10 [00:00<00:00, 122.23it/s]\n",
      "100%|██████████| 378/378 [00:04<00:00, 78.86it/s]\n",
      "100%|██████████| 10/10 [00:00<00:00, 123.14it/s]\n",
      "100%|██████████| 378/378 [00:04<00:00, 80.10it/s]\n",
      "100%|██████████| 10/10 [00:00<00:00, 134.81it/s]\n",
      "100%|██████████| 378/378 [00:05<00:00, 74.94it/s]\n",
      "100%|██████████| 10/10 [00:00<00:00, 123.25it/s]\n",
      "100%|██████████| 378/378 [00:05<00:00, 75.29it/s]\n",
      "100%|██████████| 10/10 [00:00<00:00, 82.28it/s]\n",
      "100%|██████████| 378/378 [00:04<00:00, 76.95it/s]\n",
      "100%|██████████| 10/10 [00:00<00:00, 122.51it/s]\n",
      "100%|██████████| 378/378 [00:04<00:00, 76.92it/s]\n",
      "100%|██████████| 10/10 [00:00<00:00, 51.57it/s]\n",
      "100%|██████████| 378/378 [00:04<00:00, 82.22it/s]\n",
      "100%|██████████| 10/10 [00:00<00:00, 124.97it/s]\n",
      "100%|██████████| 378/378 [00:04<00:00, 78.32it/s]\n",
      "100%|██████████| 10/10 [00:00<00:00, 123.52it/s]\n",
      "100%|██████████| 378/378 [00:04<00:00, 81.48it/s]\n",
      "100%|██████████| 10/10 [00:00<00:00, 50.05it/s]\n",
      "100%|██████████| 378/378 [00:04<00:00, 77.37it/s]\n",
      "100%|██████████| 10/10 [00:00<00:00, 116.30it/s]\n"
     ]
    },
    {
     "data": {
      "text/plain": [
       "tensor(0.7140, device='cuda:0')"
      ]
     },
     "execution_count": 106,
     "metadata": {},
     "output_type": "execute_result"
    },
    {
     "data": {
      "image/png": "[encoded data removed]",
      "text/plain": [
       "<Figure size 640x480 with 1 Axes>"
      ]
     },
     "metadata": {},
     "output_type": "display_data"
    }
   ],
   "source": [
    "seed_everything(42)\n",
    "observing_net = BasicMF(num_users, num_items, embedding_dim=K)\n",
    "ObservingModel = ObservationModel(observing_net, train, test, device=\"cuda:0\")\n",
    "ObservingModel.fit(epochs=50, lr=lr, alpha=alpha, weight_decay=1e-4)"
   ]
  },
  {
   "cell_type": "markdown",
   "id": "95bc7779-f50b-4dfb-8ec4-69acd38ba4e2",
   "metadata": {},
   "source": [
    "### （二）使用最优参数"
   ]
  },
  {
   "cell_type": "code",
   "execution_count": 107,
   "id": "854b6155-eb1f-4c83-a323-4747637947c5",
   "metadata": {
    "tags": []
   },
   "outputs": [
    {
     "name": "stderr",
     "output_type": "stream",
     "text": [
      "100%|██████████| 388/388 [00:05<00:00, 74.59it/s]\n",
      "100%|██████████| 388/388 [00:05<00:00, 75.11it/s]\n",
      "100%|██████████| 388/388 [00:05<00:00, 71.39it/s]\n",
      "100%|██████████| 388/388 [00:05<00:00, 74.25it/s]\n",
      "100%|██████████| 388/388 [00:05<00:00, 76.16it/s]\n",
      "100%|██████████| 388/388 [00:05<00:00, 75.39it/s]\n",
      "100%|██████████| 388/388 [00:05<00:00, 77.56it/s]\n",
      "100%|██████████| 388/388 [00:05<00:00, 76.34it/s]\n",
      "100%|██████████| 388/388 [00:05<00:00, 73.43it/s]\n",
      "100%|██████████| 388/388 [00:04<00:00, 79.16it/s]\n",
      "100%|██████████| 388/388 [00:05<00:00, 74.80it/s]\n",
      "100%|██████████| 388/388 [00:05<00:00, 69.10it/s]\n",
      "100%|██████████| 388/388 [00:05<00:00, 76.26it/s]\n",
      "100%|██████████| 388/388 [00:05<00:00, 75.57it/s]\n",
      "100%|██████████| 388/388 [00:05<00:00, 72.72it/s]\n",
      "100%|██████████| 388/388 [00:05<00:00, 76.99it/s]\n",
      "100%|██████████| 388/388 [00:05<00:00, 76.93it/s]\n",
      "100%|██████████| 388/388 [00:05<00:00, 75.93it/s]\n",
      "100%|██████████| 388/388 [00:05<00:00, 76.67it/s]\n",
      "100%|██████████| 388/388 [00:04<00:00, 77.94it/s]\n",
      "100%|██████████| 388/388 [00:05<00:00, 76.58it/s]\n",
      "100%|██████████| 388/388 [00:05<00:00, 75.43it/s]\n",
      "100%|██████████| 388/388 [00:05<00:00, 76.44it/s]\n",
      "100%|██████████| 388/388 [00:05<00:00, 75.60it/s]\n",
      "100%|██████████| 388/388 [00:04<00:00, 79.91it/s]\n",
      "100%|██████████| 388/388 [00:04<00:00, 81.83it/s]\n",
      "100%|██████████| 388/388 [00:05<00:00, 76.56it/s]\n",
      "100%|██████████| 388/388 [00:04<00:00, 77.78it/s]\n",
      "100%|██████████| 388/388 [00:04<00:00, 80.45it/s]\n",
      "100%|██████████| 388/388 [00:04<00:00, 79.61it/s]\n",
      "100%|██████████| 388/388 [00:04<00:00, 81.48it/s]\n",
      "100%|██████████| 388/388 [00:05<00:00, 76.05it/s]\n",
      "100%|██████████| 388/388 [00:05<00:00, 76.09it/s]\n",
      "100%|██████████| 388/388 [00:04<00:00, 81.76it/s]\n",
      "100%|██████████| 388/388 [00:05<00:00, 73.69it/s]\n",
      "100%|██████████| 388/388 [00:05<00:00, 77.54it/s]\n",
      "100%|██████████| 388/388 [00:04<00:00, 79.12it/s]\n",
      "100%|██████████| 388/388 [00:04<00:00, 79.39it/s]\n",
      "100%|██████████| 388/388 [00:04<00:00, 79.93it/s]\n",
      "100%|██████████| 388/388 [00:04<00:00, 78.06it/s]\n",
      "100%|██████████| 388/388 [00:05<00:00, 74.10it/s]\n",
      "100%|██████████| 388/388 [00:05<00:00, 76.29it/s]\n",
      "100%|██████████| 388/388 [00:05<00:00, 75.03it/s]\n",
      "100%|██████████| 388/388 [00:05<00:00, 74.95it/s]\n",
      "100%|██████████| 388/388 [00:05<00:00, 74.51it/s]\n",
      "100%|██████████| 388/388 [00:05<00:00, 76.20it/s]\n",
      "100%|██████████| 388/388 [00:04<00:00, 77.67it/s]\n",
      "100%|██████████| 388/388 [00:05<00:00, 75.13it/s]\n",
      "100%|██████████| 388/388 [00:05<00:00, 73.25it/s]\n",
      "100%|██████████| 388/388 [00:04<00:00, 78.00it/s]\n"
     ]
    },
    {
     "data": {
      "image/png": "[encoded data removed]",
      "text/plain": [
       "<Figure size 640x480 with 1 Axes>"
      ]
     },
     "metadata": {},
     "output_type": "display_data"
    }
   ],
   "source": [
    "seed_everything(42)\n",
    "train = DataLoader(torch.tensor(expo_data), batch_size=2**12,shuffle=True)\n",
    "observing_net = BasicMF(num_users, num_items, embedding_dim=K)\n",
    "ObservingModel = ObservationModel(observing_net, train, None, device=\"cuda:0\")\n",
    "ObservingModel.fit(epochs=50, lr=lr, alpha=alpha, weight_decay=1e-4)"
   ]
  },
  {
   "cell_type": "code",
   "execution_count": 108,
   "id": "cf5564fc-f820-4310-99f7-9ac3eff6e9a1",
   "metadata": {
    "tags": []
   },
   "outputs": [],
   "source": [
    "theta =  ObservingModel.get_theta()\n",
    "theta = torch.clip(theta, 1e-4, 1-1e-4)"
   ]
  },
  {
   "cell_type": "markdown",
   "id": "35fdf0c4-b5ab-4c8d-88c5-d26b9f5e938d",
   "metadata": {},
   "source": [
    "### （三）调整并生成theta"
   ]
  },
  {
   "cell_type": "code",
   "execution_count": 109,
   "id": "465c7303-7c8a-45a5-b689-a27863e822a2",
   "metadata": {
    "tags": []
   },
   "outputs": [
    {
     "data": {
      "text/html": [
       "<div>\n",
       "<style scoped>\n",
       "    .dataframe tbody tr th:only-of-type {\n",
       "        vertical-align: middle;\n",
       "    }\n",
       "\n",
       "    .dataframe tbody tr th {\n",
       "        vertical-align: top;\n",
       "    }\n",
       "\n",
       "    .dataframe thead th {\n",
       "        text-align: right;\n",
       "    }\n",
       "</style>\n",
       "<table border=\"1\" class=\"dataframe\">\n",
       "  <thead>\n",
       "    <tr style=\"text-align: right;\">\n",
       "      <th></th>\n",
       "      <th>0</th>\n",
       "    </tr>\n",
       "  </thead>\n",
       "  <tbody>\n",
       "    <tr>\n",
       "      <th>count</th>\n",
       "      <td>1.586126e+06</td>\n",
       "    </tr>\n",
       "    <tr>\n",
       "      <th>mean</th>\n",
       "      <td>3.282538e-02</td>\n",
       "    </tr>\n",
       "    <tr>\n",
       "      <th>std</th>\n",
       "      <td>6.879990e-02</td>\n",
       "    </tr>\n",
       "    <tr>\n",
       "      <th>min</th>\n",
       "      <td>5.152681e-03</td>\n",
       "    </tr>\n",
       "    <tr>\n",
       "      <th>25%</th>\n",
       "      <td>6.050491e-03</td>\n",
       "    </tr>\n",
       "    <tr>\n",
       "      <th>50%</th>\n",
       "      <td>1.169142e-02</td>\n",
       "    </tr>\n",
       "    <tr>\n",
       "      <th>75%</th>\n",
       "      <td>2.480029e-02</td>\n",
       "    </tr>\n",
       "    <tr>\n",
       "      <th>max</th>\n",
       "      <td>5.653791e-01</td>\n",
       "    </tr>\n",
       "  </tbody>\n",
       "</table>\n",
       "</div>"
      ],
      "text/plain": [
       "                  0\n",
       "count  1.586126e+06\n",
       "mean   3.282538e-02\n",
       "std    6.879990e-02\n",
       "min    5.152681e-03\n",
       "25%    6.050491e-03\n",
       "50%    1.169142e-02\n",
       "75%    2.480029e-02\n",
       "max    5.653791e-01"
      ]
     },
     "execution_count": 109,
     "metadata": {},
     "output_type": "execute_result"
    }
   ],
   "source": [
    "theta = torch.sigmoid(torch.logit(theta)*0.3-2.5)\n",
    "pd.DataFrame(theta.detach().cpu().numpy().reshape(-1)).describe()"
   ]
  },
  {
   "cell_type": "code",
   "execution_count": 110,
   "id": "98279fb8-fd09-41f6-a14c-cf436cd095f6",
   "metadata": {
    "tags": []
   },
   "outputs": [
    {
     "data": {
      "text/plain": [
       "(array([15.96850457,  0.79640799,  0.31665908,  0.24107864,  0.17286939,\n",
       "         0.11032088,  0.07232809,  0.04860511,  0.03425653,  0.08889367]),\n",
       " array([0.00515268, 0.06117533, 0.11719798, 0.17322062, 0.22924326,\n",
       "        0.28526592, 0.34128857, 0.39731121, 0.45333385, 0.5093565 ,\n",
       "        0.56537914]),\n",
       " <BarContainer object of 10 artists>)"
      ]
     },
     "execution_count": 110,
     "metadata": {},
     "output_type": "execute_result"
    },
    {
     "data": {
      "image/png": "[encoded data removed]",
      "text/plain": [
       "<Figure size 640x480 with 1 Axes>"
      ]
     },
     "metadata": {},
     "output_type": "display_data"
    }
   ],
   "source": [
    "plt.hist(pd.DataFrame(theta.detach().cpu().numpy().reshape(-1)), density=True)"
   ]
  },
  {
   "cell_type": "markdown",
   "id": "41fe1bcf-f59e-4f07-b61f-0342d24cb025",
   "metadata": {},
   "source": [
    "## 五. 保存"
   ]
  },
  {
   "cell_type": "code",
   "execution_count": 111,
   "id": "5a08b365-1e29-4bdd-ab9a-a851a08c348e",
   "metadata": {
    "tags": []
   },
   "outputs": [
    {
     "name": "stdout",
     "output_type": "stream",
     "text": [
      "[[0.00000000e+00 0.00000000e+00 7.56889641e-01 5.33785701e-01]\n",
      " [0.00000000e+00 1.00000000e+00 3.61566901e-01 5.65379143e-01]\n",
      " [0.00000000e+00 2.00000000e+00 7.56889641e-01 3.59815896e-01]\n",
      " ...\n",
      " [9.42000000e+02 1.67900000e+03 5.96710257e-02 1.25410818e-02]\n",
      " [9.42000000e+02 1.68000000e+03 1.15910679e-01 2.78589241e-02]\n",
      " [9.42000000e+02 1.68100000e+03 1.91834003e-01 1.92112718e-02]]\n"
     ]
    }
   ],
   "source": [
    "semi_data = np.c_[all_data, \n",
    "             pd.DataFrame(rel.cpu().detach().numpy()).stack().values, \n",
    "             pd.DataFrame(theta.cpu().detach().numpy()).stack().values]\n",
    "print(semi_data)\n",
    "pd.DataFrame(semi_data).to_csv(\"data/semi-data\")"
   ]
  }
 ],
 "metadata": {
  "kernelspec": {
   "display_name": "Python 3 (ipykernel)",
   "language": "python",
   "name": "python3"
  },
  "language_info": {
   "codemirror_mode": {
    "name": "ipython",
    "version": 3
   },
   "file_extension": ".py",
   "mimetype": "text/x-python",
   "name": "python",
   "nbconvert_exporter": "python",
   "pygments_lexer": "ipython3",
   "version": "3.8.10"
  }
 },
 "nbformat": 4,
 "nbformat_minor": 5
}
