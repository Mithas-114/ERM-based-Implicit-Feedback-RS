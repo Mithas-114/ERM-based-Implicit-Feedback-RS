{
 "cells": [
  {
   "cell_type": "code",
   "execution_count": 3,
   "id": "bbcca9b0-5a56-4e98-aaaf-e66344f7be8e",
   "metadata": {
    "tags": []
   },
   "outputs": [],
   "source": [
    "import numpy as np\n",
    "#from codes.utils.data import preprocess_yahoor3, preprocess_coat"
   ]
  },
  {
   "cell_type": "code",
   "execution_count": 3,
   "id": "1c0ae8e4-7dab-41f0-b46c-9cbc3c69140f",
   "metadata": {
    "tags": []
   },
   "outputs": [],
   "source": [
    "preprocess_yahoor3(\"data/yahoor3\", \"data/yahoor3_processed\")"
   ]
  },
  {
   "cell_type": "code",
   "execution_count": 3,
   "id": "a39daec2-f1bf-453f-8117-b9cc330f4bb5",
   "metadata": {
    "tags": []
   },
   "outputs": [],
   "source": [
    "preprocess_coat(\"data/coat\", \"data/coat_processed\", rating_threshold=3, user_threshold=5)"
   ]
  },
  {
   "cell_type": "code",
   "execution_count": 7,
   "id": "a5c2e46e",
   "metadata": {},
   "outputs": [
    {
     "data": {
      "text/plain": [
       "array([274, 299,   0], dtype=int64)"
      ]
     },
     "execution_count": 7,
     "metadata": {},
     "output_type": "execute_result"
    }
   ],
   "source": [
    "np.load(\"train.npy\")[-1]"
   ]
  }
 ],
 "metadata": {
  "kernelspec": {
   "display_name": "Python 3 (ipykernel)",
   "language": "python",
   "name": "python3"
  },
  "language_info": {
   "codemirror_mode": {
    "name": "ipython",
    "version": 3
   },
   "file_extension": ".py",
   "mimetype": "text/x-python",
   "name": "python",
   "nbconvert_exporter": "python",
   "pygments_lexer": "ipython3",
   "version": "3.9.16"
  }
 },
 "nbformat": 4,
 "nbformat_minor": 5
}
