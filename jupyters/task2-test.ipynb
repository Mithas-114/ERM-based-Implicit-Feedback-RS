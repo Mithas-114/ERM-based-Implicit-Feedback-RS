{
 "cells": [
  {
   "cell_type": "code",
   "execution_count": 1,
   "id": "14cfeec2-bf2c-4df0-9a86-64737d9f01cb",
   "metadata": {
    "tags": []
   },
   "outputs": [],
   "source": [
    "import numpy as np\n",
    "from codes.utils.utils import seed_everything\n",
    "from codes.utils.data import get_train_data, get_test_data\n",
    "from codes.train.TrainAndEvaluate import *"
   ]
  },
  {
   "cell_type": "code",
   "execution_count": 2,
   "id": "5fc1659e-7ba3-4a6b-b8f8-bb785706a73b",
   "metadata": {
    "tags": []
   },
   "outputs": [],
   "source": [
    "num_users = 275\n",
    "num_items = 300\n",
    "addr = \"data/coat_processed\""
   ]
  },
  {
   "cell_type": "markdown",
   "id": "fab393d0-8256-4628-a81a-6d9920cc1b79",
   "metadata": {},
   "source": [
    "## WMF"
   ]
  },
  {
   "cell_type": "code",
   "execution_count": 19,
   "id": "82d8ea97-12b0-4888-b5f4-cfdbc5ed1882",
   "metadata": {
    "collapsed": true,
    "jupyter": {
     "outputs_hidden": true
    },
    "tags": []
   },
   "outputs": [
    {
     "name": "stdout",
     "output_type": "stream",
     "text": [
      "------ repeat : 1 ------\n",
      "------ epoch:1 ------\n"
     ]
    },
    {
     "name": "stderr",
     "output_type": "stream",
     "text": [
      "100%|██████████| 10/10 [00:00<00:00, 24.86it/s]\n",
      "100%|██████████| 2/2 [00:00<00:00, 78.32it/s]\n",
      "100%|██████████| 275/275 [00:00<00:00, 2021.44it/s]\n"
     ]
    },
    {
     "name": "stdout",
     "output_type": "stream",
     "text": [
      "Epoch 1: train loss :   0.278328   val loss :   0.099825   val score :   0.280000\n",
      "------ epoch:2 ------\n"
     ]
    },
    {
     "name": "stderr",
     "output_type": "stream",
     "text": [
      "100%|██████████| 10/10 [00:00<00:00, 38.15it/s]\n",
      "100%|██████████| 2/2 [00:00<00:00, 77.85it/s]\n",
      "100%|██████████| 275/275 [00:00<00:00, 1981.46it/s]\n"
     ]
    },
    {
     "name": "stdout",
     "output_type": "stream",
     "text": [
      "Epoch 2: train loss :   0.240638   val loss :   0.075959   val score :   0.265455\n",
      "------ epoch:3 ------\n"
     ]
    },
    {
     "name": "stderr",
     "output_type": "stream",
     "text": [
      " 50%|█████     | 5/10 [00:00<00:00, 30.64it/s]\n",
      "\n",
      "KeyboardInterrupt\n",
      "\n"
     ]
    }
   ],
   "source": [
    "model_name = \"WMF\"\n",
    "weight = 0.1\n",
    "embedding_dim = 200\n",
    "lr = 0.1\n",
    "alpha = 0.01\n",
    "train = get_train_data(addr, model_name)\n",
    "test = get_test_data(addr)\n",
    "seed_everything(42)\n",
    "Test(train, test, task=2, model_name=model_name, repeats=5, num_users=num_users, num_items=num_items,\n",
    "     weight=weight, embedding_dim=embedding_dim, lr=lr, alpha=alpha, patience=5, epochs=30, device=\"cuda:0\")"
   ]
  },
  {
   "cell_type": "markdown",
   "id": "6446342c-b6f2-4e45-9c62-27edd5473667",
   "metadata": {},
   "source": [
    "## REL-MF-CLIP"
   ]
  },
  {
   "cell_type": "code",
   "execution_count": 4,
   "id": "f3fa1d63-66e7-4ded-8844-1a312693f2c9",
   "metadata": {
    "collapsed": true,
    "jupyter": {
     "outputs_hidden": true
    },
    "tags": []
   },
   "outputs": [
    {
     "name": "stdout",
     "output_type": "stream",
     "text": [
      "------ repeat : 1 ------\n",
      "------ epoch:1 ------\n"
     ]
    },
    {
     "name": "stderr",
     "output_type": "stream",
     "text": [
      "100%|██████████| 10/10 [00:00<00:00, 35.22it/s]\n",
      "100%|██████████| 2/2 [00:00<00:00, 78.81it/s]\n",
      "100%|██████████| 275/275 [00:00<00:00, 2052.98it/s]\n"
     ]
    },
    {
     "name": "stdout",
     "output_type": "stream",
     "text": [
      "Epoch 1: train loss :   0.886974   val loss :   0.778367   val score :   0.138182\n",
      "------ epoch:2 ------\n"
     ]
    },
    {
     "name": "stderr",
     "output_type": "stream",
     "text": [
      "100%|██████████| 10/10 [00:00<00:00, 26.68it/s]\n",
      "100%|██████████| 2/2 [00:00<00:00, 79.93it/s]\n",
      " 76%|███████▋  | 210/275 [00:00<00:00, 2040.66it/s]\n",
      "\n",
      "KeyboardInterrupt\n",
      "\n"
     ]
    }
   ],
   "source": [
    "model_name = \"REL-MF-CLIP\"\n",
    "IPS_clip = 0.01\n",
    "embedding_dim = 200\n",
    "lr = 0.01\n",
    "alpha = 0.005\n",
    "seed_everything(42)\n",
    "train = get_train_data(addr, model_name, IPS_clip=IPS_clip)\n",
    "test = get_test_data(addr)\n",
    "seed_everything(42)\n",
    "Test(train, test, task=2, model_name=model_name, repeats=5, num_users=num_users, num_items=num_items,\n",
    "     IPS_clip=IPS_clip, embedding_dim=embedding_dim, lr=lr, alpha=alpha, patience=3, epochs=30, device=\"cuda:0\")"
   ]
  },
  {
   "cell_type": "markdown",
   "id": "c5b84444-ae09-41cc-ad27-e684d6256b12",
   "metadata": {},
   "source": [
    "## ERM-MF-PRIOR"
   ]
  },
  {
   "cell_type": "code",
   "execution_count": 9,
   "id": "02eeca79-341e-47ba-bca3-020403077788",
   "metadata": {
    "collapsed": true,
    "jupyter": {
     "outputs_hidden": true
    },
    "tags": []
   },
   "outputs": [
    {
     "name": "stderr",
     "output_type": "stream",
     "text": [
      "100%|██████████| 275/275 [00:00<00:00, 17590.87it/s]\n"
     ]
    },
    {
     "name": "stdout",
     "output_type": "stream",
     "text": [
      "------ repeat : 1 ------\n",
      "------ epoch:1 ------\n"
     ]
    },
    {
     "name": "stderr",
     "output_type": "stream",
     "text": [
      "100%|██████████| 10/10 [00:00<00:00, 26.52it/s]\n",
      "100%|██████████| 2/2 [00:00<00:00, 89.34it/s]\n",
      "100%|██████████| 275/275 [00:00<00:00, 1960.04it/s]\n"
     ]
    },
    {
     "name": "stdout",
     "output_type": "stream",
     "text": [
      "Epoch 1: train loss :   0.942927   val loss :   0.924962   val score :   0.138182\n",
      "------ epoch:2 ------\n"
     ]
    },
    {
     "name": "stderr",
     "output_type": "stream",
     "text": [
      " 90%|█████████ | 9/10 [00:00<00:00, 35.47it/s]\n",
      "\n",
      "KeyboardInterrupt\n",
      "\n"
     ]
    }
   ],
   "source": [
    "model_name = \"ERM-MF-PRIOR\"\n",
    "K = 1\n",
    "lam = 0.0005\n",
    "phi_r = 0\n",
    "phi_theta = 100000000\n",
    "mu = 0.05\n",
    "embedding_dim = 200\n",
    "lr = 0.005\n",
    "alpha = 0.01\n",
    "seed_everything(42)\n",
    "train = get_train_data(addr, model_name, K=K, mu=mu, lam=lam, phi_r=phi_r, phi_theta=phi_theta, r_default=0.4)\n",
    "test = get_test_data(addr)\n",
    "seed_everything(42)\n",
    "Test(train, test, task=2, model_name=model_name, repeats=5, num_users=num_users, num_items=num_items, K=K, mu=mu, lam=lam, phi_r=phi_r, \n",
    "               phi_theta=phi_theta, embedding_dim=embedding_dim, lr=lr, alpha=alpha, patience=5, epochs=30, device=\"cuda:0\")"
   ]
  },
  {
   "cell_type": "markdown",
   "id": "cdcfbbcf-b889-4d50-b4cd-8d6dfc62c377",
   "metadata": {},
   "source": [
    "## ERM-MF-ESTIMATE"
   ]
  },
  {
   "cell_type": "code",
   "execution_count": 27,
   "id": "d83c4308-4b5d-49a2-816c-4b02173942cd",
   "metadata": {
    "collapsed": true,
    "jupyter": {
     "outputs_hidden": true
    },
    "tags": []
   },
   "outputs": [
    {
     "name": "stdout",
     "output_type": "stream",
     "text": [
      "------ repeat : 1 ------\n",
      "------ epoch:1 ------\n"
     ]
    },
    {
     "name": "stderr",
     "output_type": "stream",
     "text": [
      "100%|██████████| 10/10 [00:00<00:00, 72.13it/s]\n",
      "100%|██████████| 2/2 [00:00<00:00, 170.88it/s]\n",
      "100%|██████████| 275/275 [00:00<00:00, 3318.07it/s]\n"
     ]
    },
    {
     "name": "stdout",
     "output_type": "stream",
     "text": [
      "Epoch 1: train loss :   0.871634   val loss :   0.726894   val score :   0.138182\n",
      "------ epoch:2 ------\n"
     ]
    },
    {
     "name": "stderr",
     "output_type": "stream",
     "text": [
      "100%|██████████| 10/10 [00:00<00:00, 37.28it/s]\n",
      "100%|██████████| 2/2 [00:00<00:00, 166.41it/s]\n",
      "100%|██████████| 275/275 [00:00<00:00, 3423.10it/s]\n"
     ]
    },
    {
     "name": "stdout",
     "output_type": "stream",
     "text": [
      "Epoch 2: train loss :   0.518767   val loss :   0.332046   val score :   0.163636\n",
      "------ epoch:3 ------\n"
     ]
    },
    {
     "name": "stderr",
     "output_type": "stream",
     "text": [
      "100%|██████████| 10/10 [00:00<00:00, 69.12it/s]\n",
      "100%|██████████| 2/2 [00:00<00:00, 163.97it/s]\n",
      "100%|██████████| 275/275 [00:00<00:00, 3684.69it/s]\n"
     ]
    },
    {
     "name": "stdout",
     "output_type": "stream",
     "text": [
      "Epoch 3: train loss :   0.395962   val loss :   0.324553   val score :   0.320000\n",
      "------ epoch:4 ------\n"
     ]
    },
    {
     "name": "stderr",
     "output_type": "stream",
     "text": [
      "100%|██████████| 10/10 [00:00<00:00, 69.04it/s]\n",
      "100%|██████████| 2/2 [00:00<00:00, 159.99it/s]\n",
      "100%|██████████| 275/275 [00:00<00:00, 2448.86it/s]\n"
     ]
    },
    {
     "name": "stdout",
     "output_type": "stream",
     "text": [
      "Epoch 4: train loss :   0.367240   val loss :   0.314068   val score :   0.330909\n",
      "------ epoch:5 ------\n"
     ]
    },
    {
     "name": "stderr",
     "output_type": "stream",
     "text": [
      "100%|██████████| 10/10 [00:00<00:00, 36.92it/s]\n",
      "100%|██████████| 2/2 [00:00<00:00, 162.54it/s]\n",
      "100%|██████████| 275/275 [00:00<00:00, 3401.35it/s]\n"
     ]
    },
    {
     "name": "stdout",
     "output_type": "stream",
     "text": [
      "Epoch 5: train loss :   0.353278   val loss :   0.297964   val score :   0.450909\n",
      "------ epoch:6 ------\n"
     ]
    },
    {
     "name": "stderr",
     "output_type": "stream",
     "text": [
      "100%|██████████| 10/10 [00:00<00:00, 68.30it/s]\n",
      "100%|██████████| 2/2 [00:00<00:00, 177.51it/s]\n",
      "100%|██████████| 275/275 [00:00<00:00, 3499.02it/s]\n"
     ]
    },
    {
     "name": "stdout",
     "output_type": "stream",
     "text": [
      "Epoch 6: train loss :   0.340959   val loss :   0.288851   val score :   0.560000\n",
      "------ epoch:7 ------\n"
     ]
    },
    {
     "name": "stderr",
     "output_type": "stream",
     "text": [
      "100%|██████████| 10/10 [00:00<00:00, 37.96it/s]\n",
      "100%|██████████| 2/2 [00:00<00:00, 167.22it/s]\n",
      "100%|██████████| 275/275 [00:00<00:00, 3287.39it/s]\n"
     ]
    },
    {
     "name": "stdout",
     "output_type": "stream",
     "text": [
      "Epoch 7: train loss :   0.333969   val loss :   0.287120   val score :   0.530909\n",
      "------ epoch:8 ------\n"
     ]
    },
    {
     "name": "stderr",
     "output_type": "stream",
     "text": [
      "100%|██████████| 10/10 [00:00<00:00, 68.59it/s]\n",
      "100%|██████████| 2/2 [00:00<00:00, 159.61it/s]\n",
      "100%|██████████| 275/275 [00:00<00:00, 3122.42it/s]\n"
     ]
    },
    {
     "name": "stdout",
     "output_type": "stream",
     "text": [
      "Epoch 8: train loss :   0.331900   val loss :   0.285203   val score :   0.534545\n",
      "------ epoch:9 ------\n"
     ]
    },
    {
     "name": "stderr",
     "output_type": "stream",
     "text": [
      "100%|██████████| 10/10 [00:00<00:00, 39.15it/s]\n",
      "100%|██████████| 2/2 [00:00<00:00, 181.81it/s]\n",
      "100%|██████████| 275/275 [00:00<00:00, 3415.43it/s]\n"
     ]
    },
    {
     "name": "stdout",
     "output_type": "stream",
     "text": [
      "Epoch 9: train loss :   0.331494   val loss :   0.284521   val score :   0.538182\n",
      "Epoch 00009: reducing learning rate of group 0 to 1.0000e-03.\n",
      "------ epoch:10 ------\n"
     ]
    },
    {
     "name": "stderr",
     "output_type": "stream",
     "text": [
      "100%|██████████| 10/10 [00:00<00:00, 69.86it/s]\n",
      "100%|██████████| 2/2 [00:00<00:00, 170.73it/s]\n",
      "100%|██████████| 275/275 [00:00<00:00, 2851.38it/s]\n"
     ]
    },
    {
     "name": "stdout",
     "output_type": "stream",
     "text": [
      "Epoch 10: train loss :   0.330394   val loss :   0.284189   val score :   0.545455\n",
      "------ epoch:11 ------\n"
     ]
    },
    {
     "name": "stderr",
     "output_type": "stream",
     "text": [
      "100%|██████████| 10/10 [00:00<00:00, 40.13it/s]\n",
      "100%|██████████| 2/2 [00:00<00:00, 154.21it/s]\n",
      "100%|██████████| 275/275 [00:00<00:00, 3722.33it/s]\n"
     ]
    },
    {
     "name": "stdout",
     "output_type": "stream",
     "text": [
      "Epoch 11: train loss :   0.330479   val loss :   0.283649   val score :   0.545455\n",
      "------ epoch:12 ------\n"
     ]
    },
    {
     "name": "stderr",
     "output_type": "stream",
     "text": [
      "100%|██████████| 10/10 [00:00<00:00, 72.12it/s]\n",
      "100%|██████████| 2/2 [00:00<00:00, 171.01it/s]\n",
      "100%|██████████| 275/275 [00:00<00:00, 2573.61it/s]\n"
     ]
    },
    {
     "name": "stdout",
     "output_type": "stream",
     "text": [
      "Epoch 12: train loss :   0.326328   val loss :   0.283240   val score :   0.549091\n",
      "Epoch 00012: reducing learning rate of group 0 to 1.0000e-04.\n"
     ]
    },
    {
     "name": "stderr",
     "output_type": "stream",
     "text": [
      "100%|██████████| 1/1 [00:00<00:00, 151.94it/s]\n",
      "100%|██████████| 275/275 [00:00<00:00, 665.50it/s]\n"
     ]
    },
    {
     "name": "stdout",
     "output_type": "stream",
     "text": [
      "------ repeat : 2 ------\n",
      "------ epoch:1 ------\n"
     ]
    },
    {
     "name": "stderr",
     "output_type": "stream",
     "text": [
      "100%|██████████| 10/10 [00:00<00:00, 39.67it/s]\n",
      "100%|██████████| 2/2 [00:00<00:00, 170.70it/s]\n",
      "100%|██████████| 275/275 [00:00<00:00, 3537.54it/s]\n"
     ]
    },
    {
     "name": "stdout",
     "output_type": "stream",
     "text": [
      "Epoch 1: train loss :   0.835926   val loss :   0.665482   val score :   0.130909\n",
      "------ epoch:2 ------\n"
     ]
    },
    {
     "name": "stderr",
     "output_type": "stream",
     "text": [
      "100%|██████████| 10/10 [00:00<00:00, 71.63it/s]\n",
      "100%|██████████| 2/2 [00:00<00:00, 174.91it/s]\n",
      "100%|██████████| 275/275 [00:00<00:00, 3585.34it/s]\n"
     ]
    },
    {
     "name": "stdout",
     "output_type": "stream",
     "text": [
      "Epoch 2: train loss :   0.511727   val loss :   0.327580   val score :   0.214545\n",
      "------ epoch:3 ------\n"
     ]
    },
    {
     "name": "stderr",
     "output_type": "stream",
     "text": [
      "100%|██████████| 10/10 [00:00<00:00, 39.50it/s]\n",
      "100%|██████████| 2/2 [00:00<00:00, 173.21it/s]\n",
      "100%|██████████| 275/275 [00:00<00:00, 3615.16it/s]\n"
     ]
    },
    {
     "name": "stdout",
     "output_type": "stream",
     "text": [
      "Epoch 3: train loss :   0.387966   val loss :   0.316870   val score :   0.298182\n",
      "------ epoch:4 ------\n"
     ]
    },
    {
     "name": "stderr",
     "output_type": "stream",
     "text": [
      "100%|██████████| 10/10 [00:00<00:00, 69.59it/s]\n",
      "100%|██████████| 2/2 [00:00<00:00, 159.24it/s]\n",
      "100%|██████████| 275/275 [00:00<00:00, 2803.02it/s]\n"
     ]
    },
    {
     "name": "stdout",
     "output_type": "stream",
     "text": [
      "Epoch 4: train loss :   0.369286   val loss :   0.303913   val score :   0.374545\n",
      "------ epoch:5 ------\n"
     ]
    },
    {
     "name": "stderr",
     "output_type": "stream",
     "text": [
      "100%|██████████| 10/10 [00:00<00:00, 40.66it/s]\n",
      "100%|██████████| 2/2 [00:00<00:00, 162.99it/s]\n",
      "100%|██████████| 275/275 [00:00<00:00, 3017.56it/s]\n"
     ]
    },
    {
     "name": "stdout",
     "output_type": "stream",
     "text": [
      "Epoch 5: train loss :   0.350074   val loss :   0.290854   val score :   0.469091\n",
      "------ epoch:6 ------\n"
     ]
    },
    {
     "name": "stderr",
     "output_type": "stream",
     "text": [
      "100%|██████████| 10/10 [00:00<00:00, 70.32it/s]\n",
      "100%|██████████| 2/2 [00:00<00:00, 171.28it/s]\n",
      "100%|██████████| 275/275 [00:00<00:00, 3477.69it/s]\n"
     ]
    },
    {
     "name": "stdout",
     "output_type": "stream",
     "text": [
      "Epoch 6: train loss :   0.338219   val loss :   0.283400   val score :   0.538182\n",
      "------ epoch:7 ------\n"
     ]
    },
    {
     "name": "stderr",
     "output_type": "stream",
     "text": [
      "100%|██████████| 10/10 [00:00<00:00, 40.30it/s]\n",
      "100%|██████████| 2/2 [00:00<00:00, 165.77it/s]\n",
      "100%|██████████| 275/275 [00:00<00:00, 3712.71it/s]\n"
     ]
    },
    {
     "name": "stdout",
     "output_type": "stream",
     "text": [
      "Epoch 7: train loss :   0.332498   val loss :   0.280936   val score :   0.530909\n",
      "------ epoch:8 ------\n"
     ]
    },
    {
     "name": "stderr",
     "output_type": "stream",
     "text": [
      "100%|██████████| 10/10 [00:00<00:00, 70.62it/s]\n",
      "100%|██████████| 2/2 [00:00<00:00, 163.79it/s]\n",
      "100%|██████████| 275/275 [00:00<00:00, 3288.91it/s]\n"
     ]
    },
    {
     "name": "stdout",
     "output_type": "stream",
     "text": [
      "Epoch 8: train loss :   0.335140   val loss :   0.280727   val score :   0.541818\n",
      "------ epoch:9 ------\n"
     ]
    },
    {
     "name": "stderr",
     "output_type": "stream",
     "text": [
      "100%|██████████| 10/10 [00:00<00:00, 72.09it/s]\n",
      "100%|██████████| 2/2 [00:00<00:00, 17.02it/s]\n",
      "100%|██████████| 275/275 [00:00<00:00, 3514.24it/s]\n"
     ]
    },
    {
     "name": "stdout",
     "output_type": "stream",
     "text": [
      "Epoch 9: train loss :   0.329620   val loss :   0.282048   val score :   0.549091\n",
      "------ epoch:10 ------\n"
     ]
    },
    {
     "name": "stderr",
     "output_type": "stream",
     "text": [
      "100%|██████████| 10/10 [00:00<00:00, 71.77it/s]\n",
      "100%|██████████| 2/2 [00:00<00:00, 173.60it/s]\n",
      "100%|██████████| 275/275 [00:00<00:00, 2752.63it/s]\n"
     ]
    },
    {
     "name": "stdout",
     "output_type": "stream",
     "text": [
      "Epoch 10: train loss :   0.327851   val loss :   0.282107   val score :   0.603636\n",
      "------ epoch:11 ------\n"
     ]
    },
    {
     "name": "stderr",
     "output_type": "stream",
     "text": [
      "100%|██████████| 10/10 [00:00<00:00, 38.02it/s]\n",
      "100%|██████████| 2/2 [00:00<00:00, 171.08it/s]\n",
      "100%|██████████| 275/275 [00:00<00:00, 3631.97it/s]\n"
     ]
    },
    {
     "name": "stdout",
     "output_type": "stream",
     "text": [
      "Epoch 11: train loss :   0.325039   val loss :   0.280340   val score :   0.607273\n",
      "------ epoch:12 ------\n"
     ]
    },
    {
     "name": "stderr",
     "output_type": "stream",
     "text": [
      "100%|██████████| 10/10 [00:00<00:00, 70.53it/s]\n",
      "100%|██████████| 2/2 [00:00<00:00, 177.30it/s]\n",
      "100%|██████████| 275/275 [00:00<00:00, 2960.71it/s]\n"
     ]
    },
    {
     "name": "stdout",
     "output_type": "stream",
     "text": [
      "Epoch 12: train loss :   0.323700   val loss :   0.279626   val score :   0.610909\n",
      "------ epoch:13 ------\n"
     ]
    },
    {
     "name": "stderr",
     "output_type": "stream",
     "text": [
      "100%|██████████| 10/10 [00:00<00:00, 38.87it/s]\n",
      "100%|██████████| 2/2 [00:00<00:00, 181.38it/s]\n",
      "100%|██████████| 275/275 [00:00<00:00, 3081.41it/s]\n"
     ]
    },
    {
     "name": "stdout",
     "output_type": "stream",
     "text": [
      "Epoch 13: train loss :   0.325946   val loss :   0.277946   val score :   0.636364\n",
      "------ epoch:14 ------\n"
     ]
    },
    {
     "name": "stderr",
     "output_type": "stream",
     "text": [
      "100%|██████████| 10/10 [00:00<00:00, 71.87it/s]\n",
      "100%|██████████| 2/2 [00:00<00:00, 160.01it/s]\n",
      "100%|██████████| 275/275 [00:00<00:00, 3525.07it/s]\n"
     ]
    },
    {
     "name": "stdout",
     "output_type": "stream",
     "text": [
      "Epoch 14: train loss :   0.324338   val loss :   0.278137   val score :   0.625455\n",
      "------ epoch:15 ------\n"
     ]
    },
    {
     "name": "stderr",
     "output_type": "stream",
     "text": [
      "100%|██████████| 10/10 [00:00<00:00, 72.97it/s]\n",
      "100%|██████████| 2/2 [00:00<00:00, 15.53it/s]\n",
      "100%|██████████| 275/275 [00:00<00:00, 3265.43it/s]\n"
     ]
    },
    {
     "name": "stdout",
     "output_type": "stream",
     "text": [
      "Epoch 15: train loss :   0.322207   val loss :   0.277629   val score :   0.629091\n",
      "------ epoch:16 ------\n"
     ]
    },
    {
     "name": "stderr",
     "output_type": "stream",
     "text": [
      "100%|██████████| 10/10 [00:00<00:00, 74.36it/s]\n",
      "100%|██████████| 2/2 [00:00<00:00, 164.99it/s]\n",
      "100%|██████████| 275/275 [00:00<00:00, 2605.65it/s]\n"
     ]
    },
    {
     "name": "stdout",
     "output_type": "stream",
     "text": [
      "Epoch 16: train loss :   0.322720   val loss :   0.277780   val score :   0.647273\n",
      "------ epoch:17 ------\n"
     ]
    },
    {
     "name": "stderr",
     "output_type": "stream",
     "text": [
      "100%|██████████| 10/10 [00:00<00:00, 73.48it/s]\n",
      "100%|██████████| 2/2 [00:00<00:00, 164.67it/s]\n",
      "100%|██████████| 275/275 [00:00<00:00, 3583.49it/s]\n"
     ]
    },
    {
     "name": "stdout",
     "output_type": "stream",
     "text": [
      "Epoch 17: train loss :   0.318617   val loss :   0.276919   val score :   0.661818\n",
      "------ epoch:18 ------\n"
     ]
    },
    {
     "name": "stderr",
     "output_type": "stream",
     "text": [
      "100%|██████████| 10/10 [00:00<00:00, 39.32it/s]\n",
      "100%|██████████| 2/2 [00:00<00:00, 167.96it/s]\n",
      "100%|██████████| 275/275 [00:00<00:00, 3426.36it/s]\n"
     ]
    },
    {
     "name": "stdout",
     "output_type": "stream",
     "text": [
      "Epoch 18: train loss :   0.318063   val loss :   0.276996   val score :   0.650909\n",
      "------ epoch:19 ------\n"
     ]
    },
    {
     "name": "stderr",
     "output_type": "stream",
     "text": [
      "100%|██████████| 10/10 [00:00<00:00, 73.84it/s]\n",
      "100%|██████████| 2/2 [00:00<00:00, 168.13it/s]\n",
      "100%|██████████| 275/275 [00:00<00:00, 3705.63it/s]\n"
     ]
    },
    {
     "name": "stdout",
     "output_type": "stream",
     "text": [
      "Epoch 19: train loss :   0.314947   val loss :   0.277013   val score :   0.643636\n",
      "------ epoch:20 ------\n"
     ]
    },
    {
     "name": "stderr",
     "output_type": "stream",
     "text": [
      "100%|██████████| 10/10 [00:00<00:00, 39.36it/s]\n",
      "100%|██████████| 2/2 [00:00<00:00, 175.14it/s]\n",
      "100%|██████████| 275/275 [00:00<00:00, 3313.93it/s]\n"
     ]
    },
    {
     "name": "stdout",
     "output_type": "stream",
     "text": [
      "Epoch 20: train loss :   0.316034   val loss :   0.275763   val score :   0.661818\n",
      "Epoch 00020: reducing learning rate of group 0 to 1.0000e-03.\n",
      "------ epoch:21 ------\n"
     ]
    },
    {
     "name": "stderr",
     "output_type": "stream",
     "text": [
      "100%|██████████| 10/10 [00:00<00:00, 74.32it/s]\n",
      "100%|██████████| 2/2 [00:00<00:00, 168.68it/s]\n",
      "100%|██████████| 275/275 [00:00<00:00, 3546.29it/s]\n"
     ]
    },
    {
     "name": "stdout",
     "output_type": "stream",
     "text": [
      "Epoch 21: train loss :   0.314747   val loss :   0.275619   val score :   0.665455\n",
      "------ epoch:22 ------\n"
     ]
    },
    {
     "name": "stderr",
     "output_type": "stream",
     "text": [
      "100%|██████████| 10/10 [00:00<00:00, 39.75it/s]\n",
      "100%|██████████| 2/2 [00:00<00:00, 168.26it/s]\n",
      "100%|██████████| 275/275 [00:00<00:00, 2658.47it/s]\n"
     ]
    },
    {
     "name": "stdout",
     "output_type": "stream",
     "text": [
      "Epoch 22: train loss :   0.314741   val loss :   0.275444   val score :   0.669091\n",
      "------ epoch:23 ------\n"
     ]
    },
    {
     "name": "stderr",
     "output_type": "stream",
     "text": [
      "100%|██████████| 10/10 [00:00<00:00, 75.46it/s]\n",
      "100%|██████████| 2/2 [00:00<00:00, 169.08it/s]\n",
      "100%|██████████| 275/275 [00:00<00:00, 3516.66it/s]\n"
     ]
    },
    {
     "name": "stdout",
     "output_type": "stream",
     "text": [
      "Epoch 23: train loss :   0.312995   val loss :   0.275215   val score :   0.661818\n",
      "------ epoch:24 ------\n"
     ]
    },
    {
     "name": "stderr",
     "output_type": "stream",
     "text": [
      "100%|██████████| 10/10 [00:00<00:00, 40.43it/s]\n",
      "100%|██████████| 2/2 [00:00<00:00, 166.75it/s]\n",
      "100%|██████████| 275/275 [00:00<00:00, 3464.72it/s]\n"
     ]
    },
    {
     "name": "stdout",
     "output_type": "stream",
     "text": [
      "Epoch 24: train loss :   0.313114   val loss :   0.275055   val score :   0.661818\n",
      "------ epoch:25 ------\n"
     ]
    },
    {
     "name": "stderr",
     "output_type": "stream",
     "text": [
      "100%|██████████| 10/10 [00:00<00:00, 73.04it/s]\n",
      "100%|██████████| 2/2 [00:00<00:00, 167.58it/s]\n",
      "100%|██████████| 275/275 [00:00<00:00, 2805.74it/s]\n"
     ]
    },
    {
     "name": "stdout",
     "output_type": "stream",
     "text": [
      "Epoch 25: train loss :   0.313354   val loss :   0.274813   val score :   0.665455\n",
      "Epoch 00025: reducing learning rate of group 0 to 1.0000e-04.\n",
      "------ epoch:26 ------\n"
     ]
    },
    {
     "name": "stderr",
     "output_type": "stream",
     "text": [
      "100%|██████████| 10/10 [00:00<00:00, 39.71it/s]\n",
      "100%|██████████| 2/2 [00:00<00:00, 177.62it/s]\n",
      "100%|██████████| 275/275 [00:00<00:00, 3482.57it/s]\n"
     ]
    },
    {
     "name": "stdout",
     "output_type": "stream",
     "text": [
      "Epoch 26: train loss :   0.312269   val loss :   0.274782   val score :   0.661818\n",
      "------ epoch:27 ------\n"
     ]
    },
    {
     "name": "stderr",
     "output_type": "stream",
     "text": [
      "100%|██████████| 10/10 [00:00<00:00, 73.45it/s]\n",
      "100%|██████████| 2/2 [00:00<00:00, 172.77it/s]\n",
      "100%|██████████| 275/275 [00:00<00:00, 3259.01it/s]\n"
     ]
    },
    {
     "name": "stdout",
     "output_type": "stream",
     "text": [
      "Epoch 27: train loss :   0.310647   val loss :   0.274746   val score :   0.661818\n",
      "------ epoch:28 ------\n"
     ]
    },
    {
     "name": "stderr",
     "output_type": "stream",
     "text": [
      "100%|██████████| 10/10 [00:00<00:00, 40.21it/s]\n",
      "100%|██████████| 2/2 [00:00<00:00, 181.74it/s]\n",
      "100%|██████████| 275/275 [00:00<00:00, 3378.39it/s]\n"
     ]
    },
    {
     "name": "stdout",
     "output_type": "stream",
     "text": [
      "Epoch 28: train loss :   0.313618   val loss :   0.274730   val score :   0.661818\n",
      "Epoch 00028: reducing learning rate of group 0 to 1.0000e-05.\n"
     ]
    },
    {
     "name": "stderr",
     "output_type": "stream",
     "text": [
      "100%|██████████| 1/1 [00:00<00:00, 152.64it/s]\n",
      "100%|██████████| 275/275 [00:00<00:00, 646.46it/s]\n"
     ]
    },
    {
     "name": "stdout",
     "output_type": "stream",
     "text": [
      "------ repeat : 3 ------\n",
      "------ epoch:1 ------\n"
     ]
    },
    {
     "name": "stderr",
     "output_type": "stream",
     "text": [
      "100%|██████████| 10/10 [00:00<00:00, 74.38it/s]\n",
      "100%|██████████| 2/2 [00:00<00:00, 171.46it/s]\n",
      "100%|██████████| 275/275 [00:00<00:00, 3591.52it/s]\n"
     ]
    },
    {
     "name": "stdout",
     "output_type": "stream",
     "text": [
      "Epoch 1: train loss :   0.844834   val loss :   0.682497   val score :   0.123636\n",
      "------ epoch:2 ------\n"
     ]
    },
    {
     "name": "stderr",
     "output_type": "stream",
     "text": [
      "100%|██████████| 10/10 [00:00<00:00, 40.50it/s]\n",
      "100%|██████████| 2/2 [00:00<00:00, 170.28it/s]\n",
      "100%|██████████| 275/275 [00:00<00:00, 2768.00it/s]\n"
     ]
    },
    {
     "name": "stdout",
     "output_type": "stream",
     "text": [
      "Epoch 2: train loss :   0.513278   val loss :   0.326379   val score :   0.181818\n",
      "------ epoch:3 ------\n"
     ]
    },
    {
     "name": "stderr",
     "output_type": "stream",
     "text": [
      "100%|██████████| 10/10 [00:00<00:00, 75.59it/s]\n",
      "100%|██████████| 2/2 [00:00<00:00, 177.57it/s]\n",
      "100%|██████████| 275/275 [00:00<00:00, 3418.32it/s]\n"
     ]
    },
    {
     "name": "stdout",
     "output_type": "stream",
     "text": [
      "Epoch 3: train loss :   0.391772   val loss :   0.312475   val score :   0.341818\n",
      "------ epoch:4 ------\n"
     ]
    },
    {
     "name": "stderr",
     "output_type": "stream",
     "text": [
      "100%|██████████| 10/10 [00:00<00:00, 39.64it/s]\n",
      "100%|██████████| 2/2 [00:00<00:00, 164.73it/s]\n",
      "100%|██████████| 275/275 [00:00<00:00, 3396.62it/s]\n"
     ]
    },
    {
     "name": "stdout",
     "output_type": "stream",
     "text": [
      "Epoch 4: train loss :   0.368715   val loss :   0.307146   val score :   0.414545\n",
      "------ epoch:5 ------\n"
     ]
    },
    {
     "name": "stderr",
     "output_type": "stream",
     "text": [
      "100%|██████████| 10/10 [00:00<00:00, 72.76it/s]\n",
      "100%|██████████| 2/2 [00:00<00:00, 168.30it/s]\n",
      "100%|██████████| 275/275 [00:00<00:00, 3612.54it/s]\n"
     ]
    },
    {
     "name": "stdout",
     "output_type": "stream",
     "text": [
      "Epoch 5: train loss :   0.350436   val loss :   0.292818   val score :   0.501818\n",
      "------ epoch:6 ------\n"
     ]
    },
    {
     "name": "stderr",
     "output_type": "stream",
     "text": [
      "100%|██████████| 10/10 [00:00<00:00, 39.67it/s]\n",
      "100%|██████████| 2/2 [00:00<00:00, 167.08it/s]\n",
      "100%|██████████| 275/275 [00:00<00:00, 3475.64it/s]\n"
     ]
    },
    {
     "name": "stdout",
     "output_type": "stream",
     "text": [
      "Epoch 6: train loss :   0.337768   val loss :   0.283169   val score :   0.549091\n",
      "------ epoch:7 ------\n"
     ]
    },
    {
     "name": "stderr",
     "output_type": "stream",
     "text": [
      "100%|██████████| 10/10 [00:00<00:00, 69.78it/s]\n",
      "100%|██████████| 2/2 [00:00<00:00, 172.04it/s]\n",
      "100%|██████████| 275/275 [00:00<00:00, 3047.96it/s]\n"
     ]
    },
    {
     "name": "stdout",
     "output_type": "stream",
     "text": [
      "Epoch 7: train loss :   0.335196   val loss :   0.282055   val score :   0.563636\n",
      "------ epoch:8 ------\n"
     ]
    },
    {
     "name": "stderr",
     "output_type": "stream",
     "text": [
      "100%|██████████| 10/10 [00:00<00:00, 37.29it/s]\n",
      "100%|██████████| 2/2 [00:00<00:00, 116.30it/s]\n",
      "100%|██████████| 275/275 [00:00<00:00, 3604.93it/s]\n"
     ]
    },
    {
     "name": "stdout",
     "output_type": "stream",
     "text": [
      "Epoch 8: train loss :   0.331180   val loss :   0.281513   val score :   0.578182\n",
      "------ epoch:9 ------\n"
     ]
    },
    {
     "name": "stderr",
     "output_type": "stream",
     "text": [
      "100%|██████████| 10/10 [00:00<00:00, 69.81it/s]\n",
      "100%|██████████| 2/2 [00:00<00:00, 151.32it/s]\n",
      "100%|██████████| 275/275 [00:00<00:00, 2563.54it/s]\n"
     ]
    },
    {
     "name": "stdout",
     "output_type": "stream",
     "text": [
      "Epoch 9: train loss :   0.331512   val loss :   0.278829   val score :   0.614545\n",
      "------ epoch:10 ------\n"
     ]
    },
    {
     "name": "stderr",
     "output_type": "stream",
     "text": [
      "100%|██████████| 10/10 [00:00<00:00, 36.75it/s]\n",
      "100%|██████████| 2/2 [00:00<00:00, 156.19it/s]\n",
      "100%|██████████| 275/275 [00:00<00:00, 2747.53it/s]\n"
     ]
    },
    {
     "name": "stdout",
     "output_type": "stream",
     "text": [
      "Epoch 10: train loss :   0.326271   val loss :   0.278772   val score :   0.629091\n",
      "------ epoch:11 ------\n"
     ]
    },
    {
     "name": "stderr",
     "output_type": "stream",
     "text": [
      "100%|██████████| 10/10 [00:00<00:00, 69.77it/s]\n",
      "100%|██████████| 2/2 [00:00<00:00, 165.29it/s]\n",
      "100%|██████████| 275/275 [00:00<00:00, 3484.78it/s]\n"
     ]
    },
    {
     "name": "stdout",
     "output_type": "stream",
     "text": [
      "Epoch 11: train loss :   0.324726   val loss :   0.278599   val score :   0.614545\n",
      "------ epoch:12 ------\n"
     ]
    },
    {
     "name": "stderr",
     "output_type": "stream",
     "text": [
      "100%|██████████| 10/10 [00:00<00:00, 66.69it/s]\n",
      "100%|██████████| 2/2 [00:00<00:00, 14.45it/s]\n",
      "100%|██████████| 275/275 [00:00<00:00, 2433.88it/s]\n"
     ]
    },
    {
     "name": "stdout",
     "output_type": "stream",
     "text": [
      "Epoch 12: train loss :   0.323511   val loss :   0.277350   val score :   0.625455\n",
      "------ epoch:13 ------\n"
     ]
    },
    {
     "name": "stderr",
     "output_type": "stream",
     "text": [
      "100%|██████████| 10/10 [00:00<00:00, 67.16it/s]\n",
      "100%|██████████| 2/2 [00:00<00:00, 159.78it/s]\n",
      "100%|██████████| 275/275 [00:00<00:00, 3302.55it/s]\n"
     ]
    },
    {
     "name": "stdout",
     "output_type": "stream",
     "text": [
      "Epoch 13: train loss :   0.322355   val loss :   0.277782   val score :   0.614545\n",
      "Epoch 00013: reducing learning rate of group 0 to 1.0000e-03.\n",
      "------ epoch:14 ------\n"
     ]
    },
    {
     "name": "stderr",
     "output_type": "stream",
     "text": [
      "100%|██████████| 10/10 [00:00<00:00, 36.16it/s]\n",
      "100%|██████████| 2/2 [00:00<00:00, 151.37it/s]\n",
      "100%|██████████| 275/275 [00:00<00:00, 2573.99it/s]\n"
     ]
    },
    {
     "name": "stdout",
     "output_type": "stream",
     "text": [
      "Epoch 14: train loss :   0.320679   val loss :   0.277524   val score :   0.614545\n",
      "------ epoch:15 ------\n"
     ]
    },
    {
     "name": "stderr",
     "output_type": "stream",
     "text": [
      "100%|██████████| 10/10 [00:00<00:00, 66.66it/s]\n",
      "100%|██████████| 2/2 [00:00<00:00, 165.55it/s]\n",
      "100%|██████████| 275/275 [00:00<00:00, 3426.57it/s]\n"
     ]
    },
    {
     "name": "stdout",
     "output_type": "stream",
     "text": [
      "Epoch 15: train loss :   0.321783   val loss :   0.277091   val score :   0.614545\n",
      "------ epoch:16 ------\n"
     ]
    },
    {
     "name": "stderr",
     "output_type": "stream",
     "text": [
      "100%|██████████| 10/10 [00:00<00:00, 35.69it/s]\n",
      "100%|██████████| 2/2 [00:00<00:00, 147.82it/s]\n",
      "100%|██████████| 275/275 [00:00<00:00, 2690.43it/s]\n"
     ]
    },
    {
     "name": "stdout",
     "output_type": "stream",
     "text": [
      "Epoch 16: train loss :   0.320172   val loss :   0.276602   val score :   0.618182\n",
      "Epoch 00016: reducing learning rate of group 0 to 1.0000e-04.\n"
     ]
    },
    {
     "name": "stderr",
     "output_type": "stream",
     "text": [
      "100%|██████████| 1/1 [00:00<00:00, 128.64it/s]\n",
      "100%|██████████| 275/275 [00:00<00:00, 614.48it/s]\n"
     ]
    },
    {
     "name": "stdout",
     "output_type": "stream",
     "text": [
      "------ repeat : 4 ------\n",
      "------ epoch:1 ------\n"
     ]
    },
    {
     "name": "stderr",
     "output_type": "stream",
     "text": [
      "100%|██████████| 10/10 [00:00<00:00, 70.03it/s]\n",
      "100%|██████████| 2/2 [00:00<00:00, 161.39it/s]\n",
      "100%|██████████| 275/275 [00:00<00:00, 3438.86it/s]\n"
     ]
    },
    {
     "name": "stdout",
     "output_type": "stream",
     "text": [
      "Epoch 1: train loss :   0.839440   val loss :   0.668806   val score :   0.152727\n",
      "------ epoch:2 ------\n"
     ]
    },
    {
     "name": "stderr",
     "output_type": "stream",
     "text": [
      "100%|██████████| 10/10 [00:00<00:00, 71.81it/s]\n",
      "100%|██████████| 2/2 [00:00<00:00, 162.99it/s]\n",
      "100%|██████████| 275/275 [00:00<00:00, 3466.53it/s]\n"
     ]
    },
    {
     "name": "stdout",
     "output_type": "stream",
     "text": [
      "Epoch 2: train loss :   0.505485   val loss :   0.324442   val score :   0.203636\n",
      "------ epoch:3 ------\n"
     ]
    },
    {
     "name": "stderr",
     "output_type": "stream",
     "text": [
      "100%|██████████| 10/10 [00:00<00:00, 37.63it/s]\n",
      "100%|██████████| 2/2 [00:00<00:00, 161.01it/s]\n",
      "100%|██████████| 275/275 [00:00<00:00, 3503.89it/s]\n"
     ]
    },
    {
     "name": "stdout",
     "output_type": "stream",
     "text": [
      "Epoch 3: train loss :   0.390971   val loss :   0.310234   val score :   0.349091\n",
      "------ epoch:4 ------\n"
     ]
    },
    {
     "name": "stderr",
     "output_type": "stream",
     "text": [
      "100%|██████████| 10/10 [00:00<00:00, 69.37it/s]\n",
      "100%|██████████| 2/2 [00:00<00:00, 157.99it/s]\n",
      "100%|██████████| 275/275 [00:00<00:00, 2629.92it/s]\n"
     ]
    },
    {
     "name": "stdout",
     "output_type": "stream",
     "text": [
      "Epoch 4: train loss :   0.370780   val loss :   0.300647   val score :   0.429091\n",
      "------ epoch:5 ------\n"
     ]
    },
    {
     "name": "stderr",
     "output_type": "stream",
     "text": [
      "100%|██████████| 10/10 [00:00<00:00, 38.02it/s]\n",
      "100%|██████████| 2/2 [00:00<00:00, 168.65it/s]\n",
      "100%|██████████| 275/275 [00:00<00:00, 3498.07it/s]\n"
     ]
    },
    {
     "name": "stdout",
     "output_type": "stream",
     "text": [
      "Epoch 5: train loss :   0.348470   val loss :   0.295157   val score :   0.505455\n",
      "------ epoch:6 ------\n"
     ]
    },
    {
     "name": "stderr",
     "output_type": "stream",
     "text": [
      "100%|██████████| 10/10 [00:00<00:00, 69.59it/s]\n",
      "100%|██████████| 2/2 [00:00<00:00, 172.05it/s]\n",
      "100%|██████████| 275/275 [00:00<00:00, 2609.74it/s]\n"
     ]
    },
    {
     "name": "stdout",
     "output_type": "stream",
     "text": [
      "Epoch 6: train loss :   0.338908   val loss :   0.288358   val score :   0.530909\n",
      "------ epoch:7 ------\n"
     ]
    },
    {
     "name": "stderr",
     "output_type": "stream",
     "text": [
      "100%|██████████| 10/10 [00:00<00:00, 38.39it/s]\n",
      "100%|██████████| 2/2 [00:00<00:00, 171.01it/s]\n",
      "100%|██████████| 275/275 [00:00<00:00, 3451.96it/s]\n"
     ]
    },
    {
     "name": "stdout",
     "output_type": "stream",
     "text": [
      "Epoch 7: train loss :   0.331766   val loss :   0.286654   val score :   0.545455\n",
      "------ epoch:8 ------\n"
     ]
    },
    {
     "name": "stderr",
     "output_type": "stream",
     "text": [
      "100%|██████████| 10/10 [00:00<00:00, 72.16it/s]\n",
      "100%|██████████| 2/2 [00:00<00:00, 167.48it/s]\n",
      "100%|██████████| 275/275 [00:00<00:00, 2951.32it/s]\n"
     ]
    },
    {
     "name": "stdout",
     "output_type": "stream",
     "text": [
      "Epoch 8: train loss :   0.329841   val loss :   0.285649   val score :   0.556364\n",
      "------ epoch:9 ------\n"
     ]
    },
    {
     "name": "stderr",
     "output_type": "stream",
     "text": [
      "100%|██████████| 10/10 [00:00<00:00, 39.02it/s]\n",
      "100%|██████████| 2/2 [00:00<00:00, 151.65it/s]\n",
      "100%|██████████| 275/275 [00:00<00:00, 3478.49it/s]\n"
     ]
    },
    {
     "name": "stdout",
     "output_type": "stream",
     "text": [
      "Epoch 9: train loss :   0.330305   val loss :   0.285723   val score :   0.570909\n",
      "------ epoch:10 ------\n"
     ]
    },
    {
     "name": "stderr",
     "output_type": "stream",
     "text": [
      "100%|██████████| 10/10 [00:00<00:00, 71.10it/s]\n",
      "100%|██████████| 2/2 [00:00<00:00, 165.83it/s]\n",
      "100%|██████████| 275/275 [00:00<00:00, 3341.80it/s]\n"
     ]
    },
    {
     "name": "stdout",
     "output_type": "stream",
     "text": [
      "Epoch 10: train loss :   0.324663   val loss :   0.286871   val score :   0.596364\n",
      "------ epoch:11 ------\n"
     ]
    },
    {
     "name": "stderr",
     "output_type": "stream",
     "text": [
      "100%|██████████| 10/10 [00:00<00:00, 37.14it/s]\n",
      "100%|██████████| 2/2 [00:00<00:00, 168.82it/s]\n",
      "100%|██████████| 275/275 [00:00<00:00, 3510.63it/s]\n"
     ]
    },
    {
     "name": "stdout",
     "output_type": "stream",
     "text": [
      "Epoch 11: train loss :   0.324109   val loss :   0.281902   val score :   0.640000\n",
      "------ epoch:12 ------\n"
     ]
    },
    {
     "name": "stderr",
     "output_type": "stream",
     "text": [
      "100%|██████████| 10/10 [00:00<00:00, 73.09it/s]\n",
      "100%|██████████| 2/2 [00:00<00:00, 166.09it/s]\n",
      "100%|██████████| 275/275 [00:00<00:00, 3064.15it/s]\n"
     ]
    },
    {
     "name": "stdout",
     "output_type": "stream",
     "text": [
      "Epoch 12: train loss :   0.324261   val loss :   0.281367   val score :   0.632727\n",
      "------ epoch:13 ------\n"
     ]
    },
    {
     "name": "stderr",
     "output_type": "stream",
     "text": [
      "100%|██████████| 10/10 [00:00<00:00, 37.54it/s]\n",
      "100%|██████████| 2/2 [00:00<00:00, 158.08it/s]\n",
      "100%|██████████| 275/275 [00:00<00:00, 3600.09it/s]\n"
     ]
    },
    {
     "name": "stdout",
     "output_type": "stream",
     "text": [
      "Epoch 13: train loss :   0.320759   val loss :   0.281706   val score :   0.632727\n",
      "------ epoch:14 ------\n"
     ]
    },
    {
     "name": "stderr",
     "output_type": "stream",
     "text": [
      "100%|██████████| 10/10 [00:00<00:00, 69.43it/s]\n",
      "100%|██████████| 2/2 [00:00<00:00, 178.65it/s]\n",
      "100%|██████████| 275/275 [00:00<00:00, 3115.67it/s]\n"
     ]
    },
    {
     "name": "stdout",
     "output_type": "stream",
     "text": [
      "Epoch 14: train loss :   0.321089   val loss :   0.280025   val score :   0.614545\n",
      "Epoch 00014: reducing learning rate of group 0 to 1.0000e-03.\n",
      "------ epoch:15 ------\n"
     ]
    },
    {
     "name": "stderr",
     "output_type": "stream",
     "text": [
      "100%|██████████| 10/10 [00:00<00:00, 37.86it/s]\n",
      "100%|██████████| 2/2 [00:00<00:00, 178.07it/s]\n",
      "100%|██████████| 275/275 [00:00<00:00, 3559.13it/s]\n"
     ]
    },
    {
     "name": "stdout",
     "output_type": "stream",
     "text": [
      "Epoch 15: train loss :   0.321216   val loss :   0.279923   val score :   0.607273\n",
      "------ epoch:16 ------\n"
     ]
    },
    {
     "name": "stderr",
     "output_type": "stream",
     "text": [
      "100%|██████████| 10/10 [00:00<00:00, 69.26it/s]\n",
      "100%|██████████| 2/2 [00:00<00:00, 171.42it/s]\n",
      "100%|██████████| 275/275 [00:00<00:00, 3196.20it/s]\n"
     ]
    },
    {
     "name": "stdout",
     "output_type": "stream",
     "text": [
      "Epoch 16: train loss :   0.317726   val loss :   0.279913   val score :   0.629091\n",
      "------ epoch:17 ------\n"
     ]
    },
    {
     "name": "stderr",
     "output_type": "stream",
     "text": [
      "100%|██████████| 10/10 [00:00<00:00, 37.45it/s]\n",
      "100%|██████████| 2/2 [00:00<00:00, 164.10it/s]\n",
      "100%|██████████| 275/275 [00:00<00:00, 3634.73it/s]\n"
     ]
    },
    {
     "name": "stdout",
     "output_type": "stream",
     "text": [
      "Epoch 17: train loss :   0.317682   val loss :   0.279675   val score :   0.640000\n",
      "Epoch 00017: reducing learning rate of group 0 to 1.0000e-04.\n"
     ]
    },
    {
     "name": "stderr",
     "output_type": "stream",
     "text": [
      "100%|██████████| 1/1 [00:00<00:00, 157.60it/s]\n",
      "100%|██████████| 275/275 [00:00<00:00, 668.32it/s]\n"
     ]
    },
    {
     "name": "stdout",
     "output_type": "stream",
     "text": [
      "------ repeat : 5 ------\n",
      "------ epoch:1 ------\n"
     ]
    },
    {
     "name": "stderr",
     "output_type": "stream",
     "text": [
      "100%|██████████| 10/10 [00:00<00:00, 72.35it/s]\n",
      "100%|██████████| 2/2 [00:00<00:00, 156.42it/s]\n",
      "100%|██████████| 275/275 [00:00<00:00, 3247.67it/s]\n"
     ]
    },
    {
     "name": "stdout",
     "output_type": "stream",
     "text": [
      "Epoch 1: train loss :   0.840735   val loss :   0.672305   val score :   0.145455\n",
      "------ epoch:2 ------\n"
     ]
    },
    {
     "name": "stderr",
     "output_type": "stream",
     "text": [
      "100%|██████████| 10/10 [00:00<00:00, 38.76it/s]\n",
      "100%|██████████| 2/2 [00:00<00:00, 161.21it/s]\n",
      "100%|██████████| 275/275 [00:00<00:00, 3045.72it/s]\n"
     ]
    },
    {
     "name": "stdout",
     "output_type": "stream",
     "text": [
      "Epoch 2: train loss :   0.523696   val loss :   0.335723   val score :   0.189091\n",
      "------ epoch:3 ------\n"
     ]
    },
    {
     "name": "stderr",
     "output_type": "stream",
     "text": [
      "100%|██████████| 10/10 [00:00<00:00, 72.24it/s]\n",
      "100%|██████████| 2/2 [00:00<00:00, 166.46it/s]\n",
      "100%|██████████| 275/275 [00:00<00:00, 3349.11it/s]\n"
     ]
    },
    {
     "name": "stdout",
     "output_type": "stream",
     "text": [
      "Epoch 3: train loss :   0.391564   val loss :   0.317737   val score :   0.276364\n",
      "------ epoch:4 ------\n"
     ]
    },
    {
     "name": "stderr",
     "output_type": "stream",
     "text": [
      "100%|██████████| 10/10 [00:00<00:00, 38.80it/s]\n",
      "100%|██████████| 2/2 [00:00<00:00, 172.26it/s]\n",
      "100%|██████████| 275/275 [00:00<00:00, 2687.37it/s]\n"
     ]
    },
    {
     "name": "stdout",
     "output_type": "stream",
     "text": [
      "Epoch 4: train loss :   0.370129   val loss :   0.308905   val score :   0.349091\n",
      "------ epoch:5 ------\n"
     ]
    },
    {
     "name": "stderr",
     "output_type": "stream",
     "text": [
      "100%|██████████| 10/10 [00:00<00:00, 72.65it/s]\n",
      "100%|██████████| 2/2 [00:00<00:00, 173.38it/s]\n",
      "100%|██████████| 275/275 [00:00<00:00, 3504.14it/s]\n"
     ]
    },
    {
     "name": "stdout",
     "output_type": "stream",
     "text": [
      "Epoch 5: train loss :   0.348291   val loss :   0.296207   val score :   0.458182\n",
      "------ epoch:6 ------\n"
     ]
    },
    {
     "name": "stderr",
     "output_type": "stream",
     "text": [
      "100%|██████████| 10/10 [00:00<00:00, 38.84it/s]\n",
      "100%|██████████| 2/2 [00:00<00:00, 165.73it/s]\n",
      "100%|██████████| 275/275 [00:00<00:00, 3177.56it/s]\n"
     ]
    },
    {
     "name": "stdout",
     "output_type": "stream",
     "text": [
      "Epoch 6: train loss :   0.339279   val loss :   0.289598   val score :   0.520000\n",
      "------ epoch:7 ------\n"
     ]
    },
    {
     "name": "stderr",
     "output_type": "stream",
     "text": [
      "100%|██████████| 10/10 [00:00<00:00, 72.85it/s]\n",
      "100%|██████████| 2/2 [00:00<00:00, 167.27it/s]\n",
      "100%|██████████| 275/275 [00:00<00:00, 3481.86it/s]\n"
     ]
    },
    {
     "name": "stdout",
     "output_type": "stream",
     "text": [
      "Epoch 7: train loss :   0.335317   val loss :   0.287536   val score :   0.545455\n",
      "------ epoch:8 ------\n"
     ]
    },
    {
     "name": "stderr",
     "output_type": "stream",
     "text": [
      "100%|██████████| 10/10 [00:00<00:00, 71.91it/s]\n",
      "100%|██████████| 2/2 [00:00<00:00, 15.49it/s]\n",
      "100%|██████████| 275/275 [00:00<00:00, 3597.11it/s]\n"
     ]
    },
    {
     "name": "stdout",
     "output_type": "stream",
     "text": [
      "Epoch 8: train loss :   0.333729   val loss :   0.287528   val score :   0.527273\n",
      "------ epoch:9 ------\n"
     ]
    },
    {
     "name": "stderr",
     "output_type": "stream",
     "text": [
      "100%|██████████| 10/10 [00:00<00:00, 71.55it/s]\n",
      "100%|██████████| 2/2 [00:00<00:00, 153.22it/s]\n",
      "100%|██████████| 275/275 [00:00<00:00, 3112.69it/s]\n"
     ]
    },
    {
     "name": "stdout",
     "output_type": "stream",
     "text": [
      "Epoch 9: train loss :   0.329365   val loss :   0.287228   val score :   0.541818\n",
      "------ epoch:10 ------\n"
     ]
    },
    {
     "name": "stderr",
     "output_type": "stream",
     "text": [
      "100%|██████████| 10/10 [00:00<00:00, 72.42it/s]\n",
      "100%|██████████| 2/2 [00:00<00:00, 171.62it/s]\n",
      "100%|██████████| 275/275 [00:00<00:00, 3377.16it/s]\n"
     ]
    },
    {
     "name": "stdout",
     "output_type": "stream",
     "text": [
      "Epoch 10: train loss :   0.327812   val loss :   0.283847   val score :   0.556364\n",
      "------ epoch:11 ------\n"
     ]
    },
    {
     "name": "stderr",
     "output_type": "stream",
     "text": [
      "100%|██████████| 10/10 [00:00<00:00, 38.40it/s]\n",
      "100%|██████████| 2/2 [00:00<00:00, 164.53it/s]\n",
      "100%|██████████| 275/275 [00:00<00:00, 3369.24it/s]\n"
     ]
    },
    {
     "name": "stdout",
     "output_type": "stream",
     "text": [
      "Epoch 11: train loss :   0.326588   val loss :   0.282660   val score :   0.560000\n",
      "------ epoch:12 ------\n"
     ]
    },
    {
     "name": "stderr",
     "output_type": "stream",
     "text": [
      "100%|██████████| 10/10 [00:00<00:00, 39.16it/s]\n",
      "100%|██████████| 2/2 [00:00<00:00, 149.45it/s]\n",
      "100%|██████████| 275/275 [00:00<00:00, 2877.71it/s]\n"
     ]
    },
    {
     "name": "stdout",
     "output_type": "stream",
     "text": [
      "Epoch 12: train loss :   0.327589   val loss :   0.281296   val score :   0.570909\n",
      "------ epoch:13 ------\n"
     ]
    },
    {
     "name": "stderr",
     "output_type": "stream",
     "text": [
      "100%|██████████| 10/10 [00:00<00:00, 68.76it/s]\n",
      "100%|██████████| 2/2 [00:00<00:00, 171.22it/s]\n",
      "100%|██████████| 275/275 [00:00<00:00, 3667.67it/s]\n"
     ]
    },
    {
     "name": "stdout",
     "output_type": "stream",
     "text": [
      "Epoch 13: train loss :   0.321558   val loss :   0.281614   val score :   0.589091\n",
      "------ epoch:14 ------\n"
     ]
    },
    {
     "name": "stderr",
     "output_type": "stream",
     "text": [
      "100%|██████████| 10/10 [00:00<00:00, 38.23it/s]\n",
      "100%|██████████| 2/2 [00:00<00:00, 160.97it/s]\n",
      "100%|██████████| 275/275 [00:00<00:00, 3422.39it/s]\n"
     ]
    },
    {
     "name": "stdout",
     "output_type": "stream",
     "text": [
      "Epoch 14: train loss :   0.321782   val loss :   0.281274   val score :   0.600000\n",
      "------ epoch:15 ------\n"
     ]
    },
    {
     "name": "stderr",
     "output_type": "stream",
     "text": [
      "100%|██████████| 10/10 [00:00<00:00, 72.24it/s]\n",
      "100%|██████████| 2/2 [00:00<00:00, 167.06it/s]\n",
      "100%|██████████| 275/275 [00:00<00:00, 3132.42it/s]\n"
     ]
    },
    {
     "name": "stdout",
     "output_type": "stream",
     "text": [
      "Epoch 15: train loss :   0.320989   val loss :   0.279470   val score :   0.596364\n",
      "------ epoch:16 ------\n"
     ]
    },
    {
     "name": "stderr",
     "output_type": "stream",
     "text": [
      "100%|██████████| 10/10 [00:00<00:00, 70.57it/s]\n",
      "100%|██████████| 2/2 [00:00<00:00, 174.48it/s]\n",
      "100%|██████████| 275/275 [00:00<00:00, 3336.78it/s]\n"
     ]
    },
    {
     "name": "stdout",
     "output_type": "stream",
     "text": [
      "Epoch 16: train loss :   0.318815   val loss :   0.279672   val score :   0.632727\n",
      "------ epoch:17 ------\n"
     ]
    },
    {
     "name": "stderr",
     "output_type": "stream",
     "text": [
      "100%|██████████| 10/10 [00:00<00:00, 39.43it/s]\n",
      "100%|██████████| 2/2 [00:00<00:00, 174.68it/s]\n",
      "100%|██████████| 275/275 [00:00<00:00, 3443.78it/s]\n"
     ]
    },
    {
     "name": "stdout",
     "output_type": "stream",
     "text": [
      "Epoch 17: train loss :   0.319078   val loss :   0.280048   val score :   0.621818\n",
      "------ epoch:18 ------\n"
     ]
    },
    {
     "name": "stderr",
     "output_type": "stream",
     "text": [
      "100%|██████████| 10/10 [00:00<00:00, 74.70it/s]\n",
      "100%|██████████| 2/2 [00:00<00:00, 157.63it/s]\n",
      "100%|██████████| 275/275 [00:00<00:00, 3121.47it/s]\n"
     ]
    },
    {
     "name": "stdout",
     "output_type": "stream",
     "text": [
      "Epoch 18: train loss :   0.318776   val loss :   0.279324   val score :   0.625455\n",
      "------ epoch:19 ------\n"
     ]
    },
    {
     "name": "stderr",
     "output_type": "stream",
     "text": [
      "100%|██████████| 10/10 [00:00<00:00, 38.25it/s]\n",
      "100%|██████████| 2/2 [00:00<00:00, 173.04it/s]\n",
      "100%|██████████| 275/275 [00:00<00:00, 3183.23it/s]\n"
     ]
    },
    {
     "name": "stdout",
     "output_type": "stream",
     "text": [
      "Epoch 19: train loss :   0.316837   val loss :   0.279020   val score :   0.629091\n",
      "Epoch 00019: reducing learning rate of group 0 to 1.0000e-03.\n",
      "------ epoch:20 ------\n"
     ]
    },
    {
     "name": "stderr",
     "output_type": "stream",
     "text": [
      "100%|██████████| 10/10 [00:00<00:00, 71.00it/s]\n",
      "100%|██████████| 2/2 [00:00<00:00, 170.77it/s]\n",
      "100%|██████████| 275/275 [00:00<00:00, 3436.20it/s]\n"
     ]
    },
    {
     "name": "stdout",
     "output_type": "stream",
     "text": [
      "Epoch 20: train loss :   0.315321   val loss :   0.278717   val score :   0.640000\n",
      "------ epoch:21 ------\n"
     ]
    },
    {
     "name": "stderr",
     "output_type": "stream",
     "text": [
      "100%|██████████| 10/10 [00:00<00:00, 39.67it/s]\n",
      "100%|██████████| 2/2 [00:00<00:00, 174.61it/s]\n",
      "100%|██████████| 275/275 [00:00<00:00, 3714.45it/s]\n"
     ]
    },
    {
     "name": "stdout",
     "output_type": "stream",
     "text": [
      "Epoch 21: train loss :   0.314201   val loss :   0.278106   val score :   0.643636\n",
      "------ epoch:22 ------\n"
     ]
    },
    {
     "name": "stderr",
     "output_type": "stream",
     "text": [
      "100%|██████████| 10/10 [00:00<00:00, 73.21it/s]\n",
      "100%|██████████| 2/2 [00:00<00:00, 163.51it/s]\n",
      "100%|██████████| 275/275 [00:00<00:00, 2513.77it/s]\n"
     ]
    },
    {
     "name": "stdout",
     "output_type": "stream",
     "text": [
      "Epoch 22: train loss :   0.313670   val loss :   0.277645   val score :   0.643636\n",
      "------ epoch:23 ------\n"
     ]
    },
    {
     "name": "stderr",
     "output_type": "stream",
     "text": [
      "100%|██████████| 10/10 [00:00<00:00, 38.76it/s]\n",
      "100%|██████████| 2/2 [00:00<00:00, 162.72it/s]\n",
      "100%|██████████| 275/275 [00:00<00:00, 3431.71it/s]\n"
     ]
    },
    {
     "name": "stdout",
     "output_type": "stream",
     "text": [
      "Epoch 23: train loss :   0.314369   val loss :   0.277472   val score :   0.654545\n",
      "------ epoch:24 ------\n"
     ]
    },
    {
     "name": "stderr",
     "output_type": "stream",
     "text": [
      "100%|██████████| 10/10 [00:00<00:00, 71.03it/s]\n",
      "100%|██████████| 2/2 [00:00<00:00, 167.24it/s]\n",
      "100%|██████████| 275/275 [00:00<00:00, 3590.07it/s]\n"
     ]
    },
    {
     "name": "stdout",
     "output_type": "stream",
     "text": [
      "Epoch 24: train loss :   0.312200   val loss :   0.277407   val score :   0.658182\n",
      "------ epoch:25 ------\n"
     ]
    },
    {
     "name": "stderr",
     "output_type": "stream",
     "text": [
      "100%|██████████| 10/10 [00:00<00:00, 38.33it/s]\n",
      "100%|██████████| 2/2 [00:00<00:00, 166.92it/s]\n",
      "100%|██████████| 275/275 [00:00<00:00, 3339.10it/s]\n"
     ]
    },
    {
     "name": "stdout",
     "output_type": "stream",
     "text": [
      "Epoch 25: train loss :   0.313711   val loss :   0.277207   val score :   0.647273\n",
      "------ epoch:26 ------\n"
     ]
    },
    {
     "name": "stderr",
     "output_type": "stream",
     "text": [
      "100%|██████████| 10/10 [00:00<00:00, 71.00it/s]\n",
      "100%|██████████| 2/2 [00:00<00:00, 162.94it/s]\n",
      "100%|██████████| 275/275 [00:00<00:00, 3535.43it/s]\n"
     ]
    },
    {
     "name": "stdout",
     "output_type": "stream",
     "text": [
      "Epoch 26: train loss :   0.311484   val loss :   0.277044   val score :   0.643636\n",
      "------ epoch:27 ------\n"
     ]
    },
    {
     "name": "stderr",
     "output_type": "stream",
     "text": [
      "100%|██████████| 10/10 [00:00<00:00, 38.93it/s]\n",
      "100%|██████████| 2/2 [00:00<00:00, 177.31it/s]\n",
      "100%|██████████| 275/275 [00:00<00:00, 3654.37it/s]\n"
     ]
    },
    {
     "name": "stdout",
     "output_type": "stream",
     "text": [
      "Epoch 27: train loss :   0.313777   val loss :   0.277118   val score :   0.654545\n",
      "Epoch 00027: reducing learning rate of group 0 to 1.0000e-04.\n",
      "------ epoch:28 ------\n"
     ]
    },
    {
     "name": "stderr",
     "output_type": "stream",
     "text": [
      "100%|██████████| 10/10 [00:00<00:00, 70.98it/s]\n",
      "100%|██████████| 2/2 [00:00<00:00, 172.62it/s]\n",
      "100%|██████████| 275/275 [00:00<00:00, 3259.84it/s]\n"
     ]
    },
    {
     "name": "stdout",
     "output_type": "stream",
     "text": [
      "Epoch 28: train loss :   0.312186   val loss :   0.277120   val score :   0.654545\n",
      "------ epoch:29 ------\n"
     ]
    },
    {
     "name": "stderr",
     "output_type": "stream",
     "text": [
      "100%|██████████| 10/10 [00:00<00:00, 39.01it/s]\n",
      "100%|██████████| 2/2 [00:00<00:00, 174.42it/s]\n",
      "100%|██████████| 275/275 [00:00<00:00, 3553.09it/s]\n"
     ]
    },
    {
     "name": "stdout",
     "output_type": "stream",
     "text": [
      "Epoch 29: train loss :   0.313804   val loss :   0.277114   val score :   0.658182\n",
      "------ epoch:30 ------\n"
     ]
    },
    {
     "name": "stderr",
     "output_type": "stream",
     "text": [
      "100%|██████████| 10/10 [00:00<00:00, 71.48it/s]\n",
      "100%|██████████| 2/2 [00:00<00:00, 157.97it/s]\n",
      "100%|██████████| 275/275 [00:00<00:00, 2948.15it/s]\n"
     ]
    },
    {
     "name": "stdout",
     "output_type": "stream",
     "text": [
      "Epoch 30: train loss :   0.314332   val loss :   0.277133   val score :   0.658182\n",
      "Epoch 00030: reducing learning rate of group 0 to 1.0000e-05.\n"
     ]
    },
    {
     "name": "stderr",
     "output_type": "stream",
     "text": [
      "100%|██████████| 1/1 [00:00<00:00, 143.22it/s]\n",
      "100%|██████████| 275/275 [00:00<00:00, 668.89it/s]\n"
     ]
    }
   ],
   "source": [
    "model_name = \"ERM-MF-ESTIMATE\"\n",
    "phi_r = 0\n",
    "phi_theta = 0\n",
    "embedding_dim = 200\n",
    "mu = 0.01\n",
    "lam = 5e-4\n",
    "lr = 0.01\n",
    "alpha = 0.005\n",
    "seed_everything(42)\n",
    "train = get_train_data(addr, model_name, phi_r = phi_r, phi_theta = phi_theta, embedding_dim = embedding_dim, mu = mu, lam = lam)\n",
    "test = get_test_data(addr)\n",
    "seed_everything(42)\n",
    "Test(train, test, \"ERM-MF-ESTIMATE\",  task=2, repeats=5,  num_users=num_users, num_items=num_items, phi_r = phi_r, phi_theta =phi_theta, \n",
    "     embedding_dim = embedding_dim, mu = mu, lam =lam, lr=lr, alpha=alpha, patience=5, epochs=30, device=\"cuda:0\")"
   ]
  },
  {
   "cell_type": "code",
   "execution_count": null,
   "id": "63b6289e-2e1c-446c-977e-e5de19a93be8",
   "metadata": {},
   "outputs": [],
   "source": []
  }
 ],
 "metadata": {
  "kernelspec": {
   "display_name": "Python 3 (ipykernel)",
   "language": "python",
   "name": "python3"
  },
  "language_info": {
   "codemirror_mode": {
    "name": "ipython",
    "version": 3
   },
   "file_extension": ".py",
   "mimetype": "text/x-python",
   "name": "python",
   "nbconvert_exporter": "python",
   "pygments_lexer": "ipython3",
   "version": "3.8.10"
  }
 },
 "nbformat": 4,
 "nbformat_minor": 5
}
