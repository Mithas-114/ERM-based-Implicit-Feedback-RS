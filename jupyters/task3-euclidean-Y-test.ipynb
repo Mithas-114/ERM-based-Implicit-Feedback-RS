{
 "cells": [
  {
   "cell_type": "code",
   "execution_count": 1,
   "id": "14cfeec2-bf2c-4df0-9a86-64737d9f01cb",
   "metadata": {
    "tags": []
   },
   "outputs": [],
   "source": [
    "import numpy as np\n",
    "from codes.utils.utils import seed_everything\n",
    "from codes.utils.data import get_train_data, get_test_data\n",
    "from codes.train.TrainAndEvaluate import Test"
   ]
  },
  {
   "cell_type": "code",
   "execution_count": 2,
   "id": "5fc1659e-7ba3-4a6b-b8f8-bb785706a73b",
   "metadata": {
    "tags": []
   },
   "outputs": [],
   "source": [
    "num_users = 9526\n",
    "num_items = 1000\n",
    "addr = \"data/yahoor3_processed\""
   ]
  },
  {
   "cell_type": "markdown",
   "id": "c5b84444-ae09-41cc-ad27-e684d6256b12",
   "metadata": {},
   "source": [
    "## ERM-MF-PRIOR"
   ]
  },
  {
   "cell_type": "code",
   "execution_count": 3,
   "id": "02eeca79-341e-47ba-bca3-020403077788",
   "metadata": {
    "tags": []
   },
   "outputs": [
    {
     "name": "stderr",
     "output_type": "stream",
     "text": [
      "/root/miniconda3/lib/python3.8/site-packages/sklearn/cluster/_kmeans.py:1416: FutureWarning: The default value of `n_init` will change from 10 to 'auto' in 1.4. Set the value of `n_init` explicitly to suppress the warning\n",
      "  super()._check_params_vs_input(X, default_n_init=10)\n",
      "100%|██████████| 9526/9526 [00:01<00:00, 5951.74it/s]\n"
     ]
    }
   ],
   "source": [
    "seed_everything(42)\n",
    "model_name = \"ERM-MF-PRIOR\"\n",
    "K = 2\n",
    "mu = 0.1\n",
    "lam = 0.0005\n",
    "phi_r = 0\n",
    "phi_theta = 1e8\n",
    "train = get_train_data(addr, model_name, K=K, mu=mu, lam=lam, phi_r=phi_r, phi_theta=phi_theta, r_default=0.1)\n",
    "test = get_test_data(addr)"
   ]
  },
  {
   "cell_type": "code",
   "execution_count": null,
   "id": "abf38ace-e202-4cd1-850f-8abe7962f0bd",
   "metadata": {
    "tags": []
   },
   "outputs": [
    {
     "name": "stdout",
     "output_type": "stream",
     "text": [
      "------ repeat : 1 ------\n",
      "------ epoch:1 ------\n"
     ]
    },
    {
     "name": "stderr",
     "output_type": "stream",
     "text": [
      " 12%|█▏        | 124/1046 [00:05<00:39, 23.30it/s]"
     ]
    }
   ],
   "source": [
    "embedding_dim = 200\n",
    "lr = 5e-3\n",
    "alpha = 5e-3 \n",
    "seed_everything(42)\n",
    "Test(train, test, task=3, model_name=model_name, repeats=4, num_users=num_users, num_items=num_items, K=K, mu=mu, lam=lam, phi_r=phi_r, \n",
    "               phi_theta=phi_theta, embedding_dim=embedding_dim, lr=lr, alpha=alpha, patience=3, epochs=30, device=\"cuda:0\")"
   ]
  },
  {
   "cell_type": "code",
   "execution_count": null,
   "id": "afdb7534-2207-48b6-94b1-b3936a820119",
   "metadata": {},
   "outputs": [],
   "source": []
  }
 ],
 "metadata": {
  "kernelspec": {
   "display_name": "Python 3 (ipykernel)",
   "language": "python",
   "name": "python3"
  },
  "language_info": {
   "codemirror_mode": {
    "name": "ipython",
    "version": 3
   },
   "file_extension": ".py",
   "mimetype": "text/x-python",
   "name": "python",
   "nbconvert_exporter": "python",
   "pygments_lexer": "ipython3",
   "version": "3.8.10"
  }
 },
 "nbformat": 4,
 "nbformat_minor": 5
}
