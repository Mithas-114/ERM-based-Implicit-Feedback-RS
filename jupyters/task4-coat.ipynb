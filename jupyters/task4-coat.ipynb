{
 "cells": [
  {
   "cell_type": "markdown",
   "id": "cf4f8145",
   "metadata": {},
   "source": []
  },
  {
   "cell_type": "code",
   "execution_count": 1,
   "id": "14cfeec2-bf2c-4df0-9a86-64737d9f01cb",
   "metadata": {
    "tags": []
   },
   "outputs": [
    {
     "ename": "ModuleNotFoundError",
     "evalue": "No module named 'codes'",
     "output_type": "error",
     "traceback": [
      "\u001b[1;31m---------------------------------------------------------------------------\u001b[0m",
      "\u001b[1;31mModuleNotFoundError\u001b[0m                       Traceback (most recent call last)",
      "Cell \u001b[1;32mIn[1], line 2\u001b[0m\n\u001b[0;32m      1\u001b[0m \u001b[38;5;28;01mimport\u001b[39;00m \u001b[38;5;21;01mnumpy\u001b[39;00m \u001b[38;5;28;01mas\u001b[39;00m \u001b[38;5;21;01mnp\u001b[39;00m\n\u001b[1;32m----> 2\u001b[0m \u001b[38;5;28;01mfrom\u001b[39;00m \u001b[38;5;21;01mcodes\u001b[39;00m\u001b[38;5;21;01m.\u001b[39;00m\u001b[38;5;21;01mutils\u001b[39;00m\u001b[38;5;21;01m.\u001b[39;00m\u001b[38;5;21;01mutils\u001b[39;00m \u001b[38;5;28;01mimport\u001b[39;00m seed_everything\n\u001b[0;32m      3\u001b[0m \u001b[38;5;28;01mfrom\u001b[39;00m \u001b[38;5;21;01mcodes\u001b[39;00m\u001b[38;5;21;01m.\u001b[39;00m\u001b[38;5;21;01mutils\u001b[39;00m\u001b[38;5;21;01m.\u001b[39;00m\u001b[38;5;21;01mdata\u001b[39;00m \u001b[38;5;28;01mimport\u001b[39;00m get_train_data, get_test_data, get_cold_user\n\u001b[0;32m      4\u001b[0m \u001b[38;5;28;01mfrom\u001b[39;00m \u001b[38;5;21;01mcodes\u001b[39;00m\u001b[38;5;21;01m.\u001b[39;00m\u001b[38;5;21;01mtrain\u001b[39;00m\u001b[38;5;21;01m.\u001b[39;00m\u001b[38;5;21;01mTrainAndEvaluate\u001b[39;00m \u001b[38;5;28;01mimport\u001b[39;00m \u001b[38;5;241m*\u001b[39m\n",
      "\u001b[1;31mModuleNotFoundError\u001b[0m: No module named 'codes'"
     ]
    }
   ],
   "source": [
    "import numpy as np\n",
    "from codes.utils.utils import seed_everything\n",
    "from codes.utils.data import get_train_data, get_test_data, get_cold_user\n",
    "from codes.train.TrainAndEvaluate import *"
   ]
  },
  {
   "cell_type": "code",
   "execution_count": 6,
   "id": "5fc1659e-7ba3-4a6b-b8f8-bb785706a73b",
   "metadata": {
    "tags": []
   },
   "outputs": [],
   "source": [
    "num_users = 275\n",
    "num_items = 300\n",
    "addr = \"data/coat_processed\""
   ]
  },
  {
   "cell_type": "markdown",
   "id": "fab393d0-8256-4628-a81a-6d9920cc1b79",
   "metadata": {},
   "source": [
    "## WMF"
   ]
  },
  {
   "cell_type": "code",
   "execution_count": 14,
   "id": "82d8ea97-12b0-4888-b5f4-cfdbc5ed1882",
   "metadata": {
    "collapsed": true,
    "jupyter": {
     "outputs_hidden": true
    },
    "tags": []
   },
   "outputs": [
    {
     "name": "stdout",
     "output_type": "stream",
     "text": [
      "------ repeat : 1 ------\n",
      "------ epoch:1 ------\n"
     ]
    },
    {
     "name": "stderr",
     "output_type": "stream",
     "text": [
      "100%|██████████| 10/10 [00:00<00:00, 25.91it/s]\n",
      "100%|██████████| 2/2 [00:00<00:00, 83.42it/s]\n",
      "100%|██████████| 275/275 [00:00<00:00, 1785.27it/s]\n"
     ]
    },
    {
     "name": "stdout",
     "output_type": "stream",
     "text": [
      "Epoch 1: train loss :   0.278328   val loss :   0.099825   val score :   0.280000\n",
      "------ epoch:2 ------\n"
     ]
    },
    {
     "name": "stderr",
     "output_type": "stream",
     "text": [
      "100%|██████████| 10/10 [00:00<00:00, 36.86it/s]\n",
      "100%|██████████| 2/2 [00:00<00:00, 83.71it/s]\n",
      " 12%|█▏        | 33/275 [00:00<00:00, 1637.61it/s]\n",
      "\n",
      "KeyboardInterrupt\n",
      "\n"
     ]
    }
   ],
   "source": [
    "model_name = \"WMF\"\n",
    "weight = 0.1\n",
    "embedding_dim = 200\n",
    "lr = 0.1\n",
    "alpha = 0.01\n",
    "train = get_train_data(addr, model_name)\n",
    "test = get_test_data(addr)\n",
    "test = get_cold_user(train, test, 275, 300)\n",
    "seed_everything(42)\n",
    "Test(train, test, task=4, model_name=model_name, repeats=5, num_users=num_users, num_items=num_items,\n",
    "     weight=weight, embedding_dim=embedding_dim, lr=lr, alpha=alpha, patience=5, epochs=30, device=\"cuda:0\")"
   ]
  },
  {
   "cell_type": "markdown",
   "id": "6446342c-b6f2-4e45-9c62-27edd5473667",
   "metadata": {},
   "source": [
    "## REL-MF-CLIP"
   ]
  },
  {
   "cell_type": "code",
   "execution_count": 4,
   "id": "f3fa1d63-66e7-4ded-8844-1a312693f2c9",
   "metadata": {
    "collapsed": true,
    "jupyter": {
     "outputs_hidden": true
    },
    "tags": []
   },
   "outputs": [
    {
     "name": "stdout",
     "output_type": "stream",
     "text": [
      "------ repeat : 1 ------\n",
      "------ epoch:1 ------\n"
     ]
    },
    {
     "name": "stderr",
     "output_type": "stream",
     "text": [
      "100%|██████████| 10/10 [00:00<00:00, 35.22it/s]\n",
      "100%|██████████| 2/2 [00:00<00:00, 78.81it/s]\n",
      "100%|██████████| 275/275 [00:00<00:00, 2052.98it/s]\n"
     ]
    },
    {
     "name": "stdout",
     "output_type": "stream",
     "text": [
      "Epoch 1: train loss :   0.886974   val loss :   0.778367   val score :   0.138182\n",
      "------ epoch:2 ------\n"
     ]
    },
    {
     "name": "stderr",
     "output_type": "stream",
     "text": [
      "100%|██████████| 10/10 [00:00<00:00, 26.68it/s]\n",
      "100%|██████████| 2/2 [00:00<00:00, 79.93it/s]\n",
      " 76%|███████▋  | 210/275 [00:00<00:00, 2040.66it/s]\n",
      "\n",
      "KeyboardInterrupt\n",
      "\n"
     ]
    }
   ],
   "source": [
    "model_name = \"REL-MF-CLIP\"\n",
    "IPS_clip = 0.01\n",
    "embedding_dim = 200\n",
    "lr = 0.01\n",
    "alpha = 0.005\n",
    "seed_everything(42)\n",
    "train = get_train_data(addr, model_name, IPS_clip=IPS_clip)\n",
    "test = get_test_data(addr)\n",
    "test = get_cold_user(train, test, 275, 300)\n",
    "seed_everything(42)\n",
    "Test(train, test, task=2, model_name=model_name, repeats=5, num_users=num_users, num_items=num_items,\n",
    "     IPS_clip=IPS_clip, embedding_dim=embedding_dim, lr=lr, alpha=alpha, patience=3, epochs=30, device=\"cuda:0\")"
   ]
  },
  {
   "cell_type": "markdown",
   "id": "c5b84444-ae09-41cc-ad27-e684d6256b12",
   "metadata": {},
   "source": [
    "## ERM-MF-PRIOR"
   ]
  },
  {
   "cell_type": "code",
   "execution_count": null,
   "id": "02eeca79-341e-47ba-bca3-020403077788",
   "metadata": {
    "collapsed": true,
    "jupyter": {
     "outputs_hidden": true
    },
    "tags": []
   },
   "outputs": [
    {
     "name": "stderr",
     "output_type": "stream",
     "text": [
      "100%|██████████| 275/275 [00:00<00:00, 31282.10it/s]\n"
     ]
    },
    {
     "name": "stdout",
     "output_type": "stream",
     "text": [
      "------ repeat : 1 ------\n",
      "------ epoch:1 ------\n"
     ]
    },
    {
     "name": "stderr",
     "output_type": "stream",
     "text": [
      "100%|██████████| 10/10 [00:00<00:00, 37.04it/s]\n",
      "100%|██████████| 2/2 [00:00<00:00, 156.20it/s]\n",
      "100%|██████████| 275/275 [00:00<00:00, 3708.68it/s]\n"
     ]
    },
    {
     "name": "stdout",
     "output_type": "stream",
     "text": [
      "Epoch 1: train loss :   0.942719   val loss :   0.924534   val score :   0.138182\n",
      "------ epoch:2 ------\n"
     ]
    },
    {
     "name": "stderr",
     "output_type": "stream",
     "text": [
      "100%|██████████| 10/10 [00:00<00:00, 66.95it/s]\n",
      "100%|██████████| 2/2 [00:00<00:00, 166.78it/s]\n",
      "100%|██████████| 275/275 [00:00<00:00, 3680.78it/s]\n"
     ]
    },
    {
     "name": "stdout",
     "output_type": "stream",
     "text": [
      "Epoch 2: train loss :   0.825700   val loss :   0.755718   val score :   0.134545\n",
      "------ epoch:3 ------\n"
     ]
    },
    {
     "name": "stderr",
     "output_type": "stream",
     "text": [
      "100%|██████████| 10/10 [00:00<00:00, 37.30it/s]\n",
      "100%|██████████| 2/2 [00:00<00:00, 158.09it/s]\n",
      "100%|██████████| 275/275 [00:00<00:00, 3668.93it/s]\n"
     ]
    },
    {
     "name": "stdout",
     "output_type": "stream",
     "text": [
      "Epoch 3: train loss :   0.638932   val loss :   0.480134   val score :   0.138182\n",
      "------ epoch:4 ------\n"
     ]
    },
    {
     "name": "stderr",
     "output_type": "stream",
     "text": [
      "100%|██████████| 10/10 [00:00<00:00, 65.81it/s]\n",
      "100%|██████████| 2/2 [00:00<00:00, 165.56it/s]\n",
      "100%|██████████| 275/275 [00:00<00:00, 3658.02it/s]\n"
     ]
    },
    {
     "name": "stdout",
     "output_type": "stream",
     "text": [
      "Epoch 4: train loss :   0.443970   val loss :   0.288345   val score :   0.189091\n",
      "------ epoch:5 ------\n"
     ]
    },
    {
     "name": "stderr",
     "output_type": "stream",
     "text": [
      "100%|██████████| 10/10 [00:00<00:00, 37.00it/s]\n",
      "100%|██████████| 2/2 [00:00<00:00, 156.04it/s]\n",
      "100%|██████████| 275/275 [00:00<00:00, 3675.16it/s]\n"
     ]
    },
    {
     "name": "stdout",
     "output_type": "stream",
     "text": [
      "Epoch 5: train loss :   0.390106   val loss :   0.255609   val score :   0.232727\n",
      "------ epoch:6 ------\n"
     ]
    },
    {
     "name": "stderr",
     "output_type": "stream",
     "text": [
      "100%|██████████| 10/10 [00:00<00:00, 67.07it/s]\n",
      "100%|██████████| 2/2 [00:00<00:00, 146.99it/s]\n",
      "100%|██████████| 275/275 [00:00<00:00, 3646.29it/s]\n"
     ]
    },
    {
     "name": "stdout",
     "output_type": "stream",
     "text": [
      "Epoch 6: train loss :   0.378176   val loss :   0.255974   val score :   0.258182\n",
      "------ epoch:7 ------\n"
     ]
    },
    {
     "name": "stderr",
     "output_type": "stream",
     "text": [
      "100%|██████████| 10/10 [00:00<00:00, 36.56it/s]\n",
      "100%|██████████| 2/2 [00:00<00:00, 149.25it/s]\n",
      "100%|██████████| 275/275 [00:00<00:00, 3605.16it/s]\n"
     ]
    },
    {
     "name": "stdout",
     "output_type": "stream",
     "text": [
      "Epoch 7: train loss :   0.359446   val loss :   0.261206   val score :   0.269091\n",
      "------ epoch:8 ------\n"
     ]
    },
    {
     "name": "stderr",
     "output_type": "stream",
     "text": [
      "100%|██████████| 10/10 [00:00<00:00, 67.63it/s]\n",
      "100%|██████████| 2/2 [00:00<00:00, 149.10it/s]\n",
      "100%|██████████| 275/275 [00:00<00:00, 3620.84it/s]\n"
     ]
    },
    {
     "name": "stdout",
     "output_type": "stream",
     "text": [
      "Epoch 8: train loss :   0.355389   val loss :   0.260801   val score :   0.269091\n",
      "------ epoch:9 ------\n"
     ]
    },
    {
     "name": "stderr",
     "output_type": "stream",
     "text": [
      "100%|██████████| 10/10 [00:00<00:00, 66.74it/s]\n",
      "100%|██████████| 2/2 [00:00<00:00, 14.88it/s]\n",
      "100%|██████████| 275/275 [00:00<00:00, 3630.99it/s]\n"
     ]
    },
    {
     "name": "stdout",
     "output_type": "stream",
     "text": [
      "Epoch 9: train loss :   0.360324   val loss :   0.256903   val score :   0.301818\n",
      "------ epoch:10 ------\n"
     ]
    },
    {
     "name": "stderr",
     "output_type": "stream",
     "text": [
      "100%|██████████| 10/10 [00:00<00:00, 66.97it/s]\n",
      "100%|██████████| 2/2 [00:00<00:00, 153.61it/s]\n",
      "100%|██████████| 275/275 [00:00<00:00, 3604.62it/s]\n"
     ]
    },
    {
     "name": "stdout",
     "output_type": "stream",
     "text": [
      "Epoch 10: train loss :   0.354114   val loss :   0.252787   val score :   0.334545\n",
      "------ epoch:11 ------\n"
     ]
    },
    {
     "name": "stderr",
     "output_type": "stream",
     "text": [
      "100%|██████████| 10/10 [00:00<00:00, 35.62it/s]\n",
      "100%|██████████| 2/2 [00:00<00:00, 158.48it/s]\n",
      "100%|██████████| 275/275 [00:00<00:00, 3517.65it/s]\n"
     ]
    },
    {
     "name": "stdout",
     "output_type": "stream",
     "text": [
      "Epoch 11: train loss :   0.347266   val loss :   0.249125   val score :   0.363636\n",
      "------ epoch:12 ------\n"
     ]
    },
    {
     "name": "stderr",
     "output_type": "stream",
     "text": [
      "100%|██████████| 10/10 [00:00<00:00, 66.29it/s]\n",
      "100%|██████████| 2/2 [00:00<00:00, 173.18it/s]\n",
      "100%|██████████| 275/275 [00:00<00:00, 3690.87it/s]\n"
     ]
    },
    {
     "name": "stdout",
     "output_type": "stream",
     "text": [
      "Epoch 12: train loss :   0.333168   val loss :   0.246593   val score :   0.410909\n",
      "------ epoch:13 ------\n"
     ]
    },
    {
     "name": "stderr",
     "output_type": "stream",
     "text": [
      "100%|██████████| 10/10 [00:00<00:00, 38.34it/s]\n",
      "100%|██████████| 2/2 [00:00<00:00, 166.37it/s]\n",
      "100%|██████████| 275/275 [00:00<00:00, 3685.32it/s]\n"
     ]
    },
    {
     "name": "stdout",
     "output_type": "stream",
     "text": [
      "Epoch 13: train loss :   0.325835   val loss :   0.243259   val score :   0.469091\n",
      "------ epoch:14 ------\n"
     ]
    },
    {
     "name": "stderr",
     "output_type": "stream",
     "text": [
      "100%|██████████| 10/10 [00:00<00:00, 67.82it/s]\n",
      "100%|██████████| 2/2 [00:00<00:00, 158.82it/s]\n",
      "100%|██████████| 275/275 [00:00<00:00, 3598.03it/s]\n"
     ]
    },
    {
     "name": "stdout",
     "output_type": "stream",
     "text": [
      "Epoch 14: train loss :   0.326892   val loss :   0.240430   val score :   0.465455\n",
      "------ epoch:15 ------\n"
     ]
    },
    {
     "name": "stderr",
     "output_type": "stream",
     "text": [
      "100%|██████████| 10/10 [00:00<00:00, 66.26it/s]\n",
      "100%|██████████| 2/2 [00:00<00:00, 14.94it/s]\n",
      "100%|██████████| 275/275 [00:00<00:00, 3704.28it/s]\n"
     ]
    },
    {
     "name": "stdout",
     "output_type": "stream",
     "text": [
      "Epoch 15: train loss :   0.326863   val loss :   0.239955   val score :   0.469091\n",
      "------ epoch:16 ------\n"
     ]
    },
    {
     "name": "stderr",
     "output_type": "stream",
     "text": [
      "100%|██████████| 10/10 [00:00<00:00, 69.19it/s]\n",
      "100%|██████████| 2/2 [00:00<00:00, 157.99it/s]\n",
      "100%|██████████| 275/275 [00:00<00:00, 3558.51it/s]\n"
     ]
    },
    {
     "name": "stdout",
     "output_type": "stream",
     "text": [
      "Epoch 16: train loss :   0.311123   val loss :   0.243649   val score :   0.469091\n",
      "Epoch 00016: reducing learning rate of group 0 to 5.0000e-04.\n",
      "------ epoch:17 ------\n"
     ]
    },
    {
     "name": "stderr",
     "output_type": "stream",
     "text": [
      "100%|██████████| 10/10 [00:00<00:00, 73.88it/s]\n",
      "100%|██████████| 2/2 [00:00<00:00, 158.81it/s]\n",
      "100%|██████████| 275/275 [00:00<00:00, 3602.33it/s]\n"
     ]
    },
    {
     "name": "stdout",
     "output_type": "stream",
     "text": [
      "Epoch 17: train loss :   0.306153   val loss :   0.243382   val score :   0.469091\n",
      "------ epoch:18 ------\n"
     ]
    },
    {
     "name": "stderr",
     "output_type": "stream",
     "text": [
      "100%|██████████| 10/10 [00:00<00:00, 37.83it/s]\n",
      "100%|██████████| 2/2 [00:00<00:00, 164.40it/s]\n",
      "100%|██████████| 275/275 [00:00<00:00, 3697.21it/s]\n"
     ]
    },
    {
     "name": "stdout",
     "output_type": "stream",
     "text": [
      "Epoch 18: train loss :   0.305894   val loss :   0.242741   val score :   0.465455\n",
      "------ epoch:19 ------\n"
     ]
    },
    {
     "name": "stderr",
     "output_type": "stream",
     "text": [
      "100%|██████████| 10/10 [00:00<00:00, 67.64it/s]\n",
      "100%|██████████| 2/2 [00:00<00:00, 104.37it/s]\n",
      "100%|██████████| 275/275 [00:00<00:00, 3077.82it/s]\n"
     ]
    },
    {
     "name": "stdout",
     "output_type": "stream",
     "text": [
      "Epoch 19: train loss :   0.313368   val loss :   0.242263   val score :   0.461818\n",
      "Epoch 00019: reducing learning rate of group 0 to 5.0000e-05.\n"
     ]
    },
    {
     "name": "stderr",
     "output_type": "stream",
     "text": [
      "100%|██████████| 1/1 [00:00<00:00, 556.35it/s]\n",
      "100%|██████████| 24/24 [00:00<00:00, 588.83it/s]\n"
     ]
    },
    {
     "name": "stdout",
     "output_type": "stream",
     "text": [
      "------ repeat : 2 ------\n",
      "------ epoch:1 ------\n"
     ]
    },
    {
     "name": "stderr",
     "output_type": "stream",
     "text": [
      "100%|██████████| 10/10 [00:00<00:00, 34.66it/s]\n",
      "100%|██████████| 2/2 [00:00<00:00, 167.83it/s]\n",
      "100%|██████████| 275/275 [00:00<00:00, 3703.67it/s]\n"
     ]
    },
    {
     "name": "stdout",
     "output_type": "stream",
     "text": [
      "Epoch 1: train loss :   0.940612   val loss :   0.863549   val score :   0.152727\n",
      "------ epoch:2 ------\n"
     ]
    },
    {
     "name": "stderr",
     "output_type": "stream",
     "text": [
      "100%|██████████| 10/10 [00:00<00:00, 68.53it/s]\n",
      "100%|██████████| 2/2 [00:00<00:00, 165.39it/s]\n",
      "100%|██████████| 275/275 [00:00<00:00, 3667.05it/s]\n"
     ]
    },
    {
     "name": "stdout",
     "output_type": "stream",
     "text": [
      "Epoch 2: train loss :   0.826512   val loss :   0.716448   val score :   0.152727\n",
      "------ epoch:3 ------\n"
     ]
    },
    {
     "name": "stderr",
     "output_type": "stream",
     "text": [
      "100%|██████████| 10/10 [00:00<00:00, 38.30it/s]\n",
      "100%|██████████| 2/2 [00:00<00:00, 160.03it/s]\n",
      "100%|██████████| 275/275 [00:00<00:00, 3701.61it/s]\n"
     ]
    },
    {
     "name": "stdout",
     "output_type": "stream",
     "text": [
      "Epoch 3: train loss :   0.659576   val loss :   0.474082   val score :   0.160000\n",
      "------ epoch:4 ------\n"
     ]
    },
    {
     "name": "stderr",
     "output_type": "stream",
     "text": [
      "100%|██████████| 10/10 [00:00<00:00, 67.13it/s]\n",
      "100%|██████████| 2/2 [00:00<00:00, 166.58it/s]\n",
      "100%|██████████| 275/275 [00:00<00:00, 3684.80it/s]\n"
     ]
    },
    {
     "name": "stdout",
     "output_type": "stream",
     "text": [
      "Epoch 4: train loss :   0.448985   val loss :   0.295281   val score :   0.196364\n",
      "------ epoch:5 ------\n"
     ]
    },
    {
     "name": "stderr",
     "output_type": "stream",
     "text": [
      "100%|██████████| 10/10 [00:00<00:00, 35.72it/s]\n",
      "100%|██████████| 2/2 [00:00<00:00, 164.12it/s]\n",
      "100%|██████████| 275/275 [00:00<00:00, 3711.75it/s]\n"
     ]
    },
    {
     "name": "stdout",
     "output_type": "stream",
     "text": [
      "Epoch 5: train loss :   0.386328   val loss :   0.255099   val score :   0.269091\n",
      "------ epoch:6 ------\n"
     ]
    },
    {
     "name": "stderr",
     "output_type": "stream",
     "text": [
      "100%|██████████| 10/10 [00:00<00:00, 67.25it/s]\n",
      "100%|██████████| 2/2 [00:00<00:00, 158.86it/s]\n",
      "100%|██████████| 275/275 [00:00<00:00, 3701.13it/s]\n"
     ]
    },
    {
     "name": "stdout",
     "output_type": "stream",
     "text": [
      "Epoch 6: train loss :   0.373865   val loss :   0.250902   val score :   0.301818\n",
      "------ epoch:7 ------\n"
     ]
    },
    {
     "name": "stderr",
     "output_type": "stream",
     "text": [
      "100%|██████████| 10/10 [00:00<00:00, 37.27it/s]\n",
      "100%|██████████| 2/2 [00:00<00:00, 163.85it/s]\n",
      "100%|██████████| 275/275 [00:00<00:00, 3719.28it/s]\n"
     ]
    },
    {
     "name": "stdout",
     "output_type": "stream",
     "text": [
      "Epoch 7: train loss :   0.369365   val loss :   0.252284   val score :   0.345455\n",
      "------ epoch:8 ------\n"
     ]
    },
    {
     "name": "stderr",
     "output_type": "stream",
     "text": [
      "100%|██████████| 10/10 [00:00<00:00, 65.70it/s]\n",
      "100%|██████████| 2/2 [00:00<00:00, 135.71it/s]\n",
      "100%|██████████| 275/275 [00:00<00:00, 3607.24it/s]\n"
     ]
    },
    {
     "name": "stdout",
     "output_type": "stream",
     "text": [
      "Epoch 8: train loss :   0.359699   val loss :   0.252241   val score :   0.341818\n",
      "------ epoch:9 ------\n"
     ]
    },
    {
     "name": "stderr",
     "output_type": "stream",
     "text": [
      "100%|██████████| 10/10 [00:00<00:00, 38.51it/s]\n",
      "100%|██████████| 2/2 [00:00<00:00, 152.12it/s]\n",
      "100%|██████████| 275/275 [00:00<00:00, 3706.28it/s]\n"
     ]
    },
    {
     "name": "stdout",
     "output_type": "stream",
     "text": [
      "Epoch 9: train loss :   0.359481   val loss :   0.250292   val score :   0.360000\n",
      "------ epoch:10 ------\n"
     ]
    },
    {
     "name": "stderr",
     "output_type": "stream",
     "text": [
      "100%|██████████| 10/10 [00:00<00:00, 70.92it/s]\n",
      "100%|██████████| 2/2 [00:00<00:00, 161.82it/s]\n",
      "100%|██████████| 275/275 [00:00<00:00, 3704.16it/s]\n"
     ]
    },
    {
     "name": "stdout",
     "output_type": "stream",
     "text": [
      "Epoch 10: train loss :   0.344644   val loss :   0.247625   val score :   0.410909\n",
      "------ epoch:11 ------\n"
     ]
    },
    {
     "name": "stderr",
     "output_type": "stream",
     "text": [
      "100%|██████████| 10/10 [00:00<00:00, 38.12it/s]\n",
      "100%|██████████| 2/2 [00:00<00:00, 164.51it/s]\n",
      "100%|██████████| 275/275 [00:00<00:00, 3691.79it/s]\n"
     ]
    },
    {
     "name": "stdout",
     "output_type": "stream",
     "text": [
      "Epoch 11: train loss :   0.341014   val loss :   0.245349   val score :   0.447273\n",
      "------ epoch:12 ------\n"
     ]
    },
    {
     "name": "stderr",
     "output_type": "stream",
     "text": [
      "100%|██████████| 10/10 [00:00<00:00, 70.18it/s]\n",
      "100%|██████████| 2/2 [00:00<00:00, 171.60it/s]\n",
      "100%|██████████| 275/275 [00:00<00:00, 3679.45it/s]\n"
     ]
    },
    {
     "name": "stdout",
     "output_type": "stream",
     "text": [
      "Epoch 12: train loss :   0.332372   val loss :   0.242787   val score :   0.450909\n",
      "------ epoch:13 ------\n"
     ]
    },
    {
     "name": "stderr",
     "output_type": "stream",
     "text": [
      "100%|██████████| 10/10 [00:00<00:00, 38.66it/s]\n",
      "100%|██████████| 2/2 [00:00<00:00, 163.12it/s]\n",
      "100%|██████████| 275/275 [00:00<00:00, 3696.36it/s]\n"
     ]
    },
    {
     "name": "stdout",
     "output_type": "stream",
     "text": [
      "Epoch 13: train loss :   0.324852   val loss :   0.238747   val score :   0.480000\n",
      "------ epoch:14 ------\n"
     ]
    },
    {
     "name": "stderr",
     "output_type": "stream",
     "text": [
      "100%|██████████| 10/10 [00:00<00:00, 69.38it/s]\n",
      "100%|██████████| 2/2 [00:00<00:00, 169.55it/s]\n",
      "100%|██████████| 275/275 [00:00<00:00, 3680.75it/s]\n"
     ]
    },
    {
     "name": "stdout",
     "output_type": "stream",
     "text": [
      "Epoch 14: train loss :   0.322253   val loss :   0.235231   val score :   0.530909\n",
      "------ epoch:15 ------\n"
     ]
    },
    {
     "name": "stderr",
     "output_type": "stream",
     "text": [
      "100%|██████████| 10/10 [00:00<00:00, 38.88it/s]\n",
      "100%|██████████| 2/2 [00:00<00:00, 168.11it/s]\n",
      "100%|██████████| 275/275 [00:00<00:00, 3664.46it/s]\n"
     ]
    },
    {
     "name": "stdout",
     "output_type": "stream",
     "text": [
      "Epoch 15: train loss :   0.315879   val loss :   0.234269   val score :   0.523636\n",
      "------ epoch:16 ------\n"
     ]
    },
    {
     "name": "stderr",
     "output_type": "stream",
     "text": [
      "100%|██████████| 10/10 [00:00<00:00, 69.42it/s]\n",
      "100%|██████████| 2/2 [00:00<00:00, 165.72it/s]\n",
      "100%|██████████| 275/275 [00:00<00:00, 3693.41it/s]\n"
     ]
    },
    {
     "name": "stdout",
     "output_type": "stream",
     "text": [
      "Epoch 16: train loss :   0.310903   val loss :   0.234559   val score :   0.530909\n",
      "------ epoch:17 ------\n"
     ]
    },
    {
     "name": "stderr",
     "output_type": "stream",
     "text": [
      "100%|██████████| 10/10 [00:00<00:00, 37.58it/s]\n",
      "100%|██████████| 2/2 [00:00<00:00, 168.52it/s]\n",
      "100%|██████████| 275/275 [00:00<00:00, 3711.49it/s]\n"
     ]
    },
    {
     "name": "stdout",
     "output_type": "stream",
     "text": [
      "Epoch 17: train loss :   0.303975   val loss :   0.233090   val score :   0.516364\n",
      "Epoch 00017: reducing learning rate of group 0 to 5.0000e-04.\n",
      "------ epoch:18 ------\n"
     ]
    },
    {
     "name": "stderr",
     "output_type": "stream",
     "text": [
      "100%|██████████| 10/10 [00:00<00:00, 68.60it/s]\n",
      "100%|██████████| 2/2 [00:00<00:00, 163.43it/s]\n",
      "100%|██████████| 275/275 [00:00<00:00, 3682.88it/s]\n"
     ]
    },
    {
     "name": "stdout",
     "output_type": "stream",
     "text": [
      "Epoch 18: train loss :   0.304359   val loss :   0.232917   val score :   0.516364\n",
      "------ epoch:19 ------\n"
     ]
    },
    {
     "name": "stderr",
     "output_type": "stream",
     "text": [
      "100%|██████████| 10/10 [00:00<00:00, 37.57it/s]\n",
      "100%|██████████| 2/2 [00:00<00:00, 153.85it/s]\n",
      "100%|██████████| 275/275 [00:00<00:00, 3712.01it/s]\n"
     ]
    },
    {
     "name": "stdout",
     "output_type": "stream",
     "text": [
      "Epoch 19: train loss :   0.299513   val loss :   0.232839   val score :   0.523636\n",
      "------ epoch:20 ------\n"
     ]
    },
    {
     "name": "stderr",
     "output_type": "stream",
     "text": [
      "100%|██████████| 10/10 [00:00<00:00, 67.92it/s]\n",
      "100%|██████████| 2/2 [00:00<00:00, 168.62it/s]\n",
      "100%|██████████| 275/275 [00:00<00:00, 3684.13it/s]\n"
     ]
    },
    {
     "name": "stdout",
     "output_type": "stream",
     "text": [
      "Epoch 20: train loss :   0.299834   val loss :   0.232647   val score :   0.516364\n",
      "Epoch 00020: reducing learning rate of group 0 to 5.0000e-05.\n"
     ]
    },
    {
     "name": "stderr",
     "output_type": "stream",
     "text": [
      "100%|██████████| 1/1 [00:00<00:00, 612.22it/s]\n",
      "100%|██████████| 24/24 [00:00<00:00, 777.74it/s]\n"
     ]
    },
    {
     "name": "stdout",
     "output_type": "stream",
     "text": [
      "------ repeat : 3 ------\n",
      "------ epoch:1 ------\n"
     ]
    },
    {
     "name": "stderr",
     "output_type": "stream",
     "text": [
      "100%|██████████| 10/10 [00:00<00:00, 38.15it/s]\n",
      "100%|██████████| 2/2 [00:00<00:00, 172.34it/s]\n",
      "100%|██████████| 275/275 [00:00<00:00, 3722.72it/s]\n"
     ]
    },
    {
     "name": "stdout",
     "output_type": "stream",
     "text": [
      "Epoch 1: train loss :   0.870422   val loss :   0.865933   val score :   0.138182\n",
      "------ epoch:2 ------\n"
     ]
    },
    {
     "name": "stderr",
     "output_type": "stream",
     "text": [
      "100%|██████████| 10/10 [00:00<00:00, 66.67it/s]\n",
      "100%|██████████| 2/2 [00:00<00:00, 158.03it/s]\n",
      "100%|██████████| 275/275 [00:00<00:00, 3624.96it/s]\n"
     ]
    },
    {
     "name": "stdout",
     "output_type": "stream",
     "text": [
      "Epoch 2: train loss :   0.777769   val loss :   0.715589   val score :   0.141818\n",
      "------ epoch:3 ------\n"
     ]
    },
    {
     "name": "stderr",
     "output_type": "stream",
     "text": [
      "100%|██████████| 10/10 [00:00<00:00, 36.68it/s]\n",
      "100%|██████████| 2/2 [00:00<00:00, 166.99it/s]\n",
      "100%|██████████| 275/275 [00:00<00:00, 3684.74it/s]\n"
     ]
    },
    {
     "name": "stdout",
     "output_type": "stream",
     "text": [
      "Epoch 3: train loss :   0.602836   val loss :   0.466432   val score :   0.152727\n",
      "------ epoch:4 ------\n"
     ]
    },
    {
     "name": "stderr",
     "output_type": "stream",
     "text": [
      "100%|██████████| 10/10 [00:00<00:00, 66.63it/s]\n",
      "100%|██████████| 2/2 [00:00<00:00, 176.14it/s]\n",
      "100%|██████████| 275/275 [00:00<00:00, 3702.46it/s]\n"
     ]
    },
    {
     "name": "stdout",
     "output_type": "stream",
     "text": [
      "Epoch 4: train loss :   0.426557   val loss :   0.291279   val score :   0.196364\n",
      "------ epoch:5 ------\n"
     ]
    },
    {
     "name": "stderr",
     "output_type": "stream",
     "text": [
      "100%|██████████| 10/10 [00:00<00:00, 38.34it/s]\n",
      "100%|██████████| 2/2 [00:00<00:00, 157.69it/s]\n",
      "100%|██████████| 275/275 [00:00<00:00, 3716.51it/s]\n"
     ]
    },
    {
     "name": "stdout",
     "output_type": "stream",
     "text": [
      "Epoch 5: train loss :   0.374517   val loss :   0.254907   val score :   0.269091\n",
      "------ epoch:6 ------\n"
     ]
    },
    {
     "name": "stderr",
     "output_type": "stream",
     "text": [
      "100%|██████████| 10/10 [00:00<00:00, 67.96it/s]\n",
      "100%|██████████| 2/2 [00:00<00:00, 167.20it/s]\n",
      "100%|██████████| 275/275 [00:00<00:00, 3700.47it/s]\n"
     ]
    },
    {
     "name": "stdout",
     "output_type": "stream",
     "text": [
      "Epoch 6: train loss :   0.366214   val loss :   0.250967   val score :   0.309091\n",
      "------ epoch:7 ------\n"
     ]
    },
    {
     "name": "stderr",
     "output_type": "stream",
     "text": [
      "100%|██████████| 10/10 [00:00<00:00, 67.09it/s]\n",
      "100%|██████████| 2/2 [00:00<00:00, 167.48it/s]\n",
      "100%|██████████| 275/275 [00:00<00:00, 3698.72it/s]\n"
     ]
    },
    {
     "name": "stdout",
     "output_type": "stream",
     "text": [
      "Epoch 7: train loss :   0.352115   val loss :   0.255079   val score :   0.287273\n",
      "------ epoch:8 ------\n"
     ]
    },
    {
     "name": "stderr",
     "output_type": "stream",
     "text": [
      "100%|██████████| 10/10 [00:00<00:00, 36.72it/s]\n",
      "100%|██████████| 2/2 [00:00<00:00, 165.99it/s]\n",
      "100%|██████████| 275/275 [00:00<00:00, 3713.23it/s]\n"
     ]
    },
    {
     "name": "stdout",
     "output_type": "stream",
     "text": [
      "Epoch 8: train loss :   0.351647   val loss :   0.255033   val score :   0.320000\n",
      "------ epoch:9 ------\n"
     ]
    },
    {
     "name": "stderr",
     "output_type": "stream",
     "text": [
      "100%|██████████| 10/10 [00:00<00:00, 67.47it/s]\n",
      "100%|██████████| 2/2 [00:00<00:00, 168.57it/s]\n",
      "100%|██████████| 275/275 [00:00<00:00, 3691.59it/s]\n"
     ]
    },
    {
     "name": "stdout",
     "output_type": "stream",
     "text": [
      "Epoch 9: train loss :   0.340828   val loss :   0.253664   val score :   0.360000\n",
      "------ epoch:10 ------\n"
     ]
    },
    {
     "name": "stderr",
     "output_type": "stream",
     "text": [
      "100%|██████████| 10/10 [00:00<00:00, 37.38it/s]\n",
      "100%|██████████| 2/2 [00:00<00:00, 169.53it/s]\n",
      "100%|██████████| 275/275 [00:00<00:00, 3129.58it/s]\n"
     ]
    },
    {
     "name": "stdout",
     "output_type": "stream",
     "text": [
      "Epoch 10: train loss :   0.344916   val loss :   0.250576   val score :   0.378182\n",
      "------ epoch:11 ------\n"
     ]
    },
    {
     "name": "stderr",
     "output_type": "stream",
     "text": [
      "100%|██████████| 10/10 [00:00<00:00, 64.64it/s]\n",
      "100%|██████████| 2/2 [00:00<00:00, 107.00it/s]\n",
      "100%|██████████| 275/275 [00:00<00:00, 3550.59it/s]\n"
     ]
    },
    {
     "name": "stdout",
     "output_type": "stream",
     "text": [
      "Epoch 11: train loss :   0.330105   val loss :   0.250223   val score :   0.410909\n",
      "------ epoch:12 ------\n"
     ]
    },
    {
     "name": "stderr",
     "output_type": "stream",
     "text": [
      "100%|██████████| 10/10 [00:00<00:00, 37.07it/s]\n",
      "100%|██████████| 2/2 [00:00<00:00, 165.14it/s]\n",
      "100%|██████████| 275/275 [00:00<00:00, 3687.67it/s]\n"
     ]
    },
    {
     "name": "stdout",
     "output_type": "stream",
     "text": [
      "Epoch 12: train loss :   0.324635   val loss :   0.250940   val score :   0.443636\n",
      "------ epoch:13 ------\n"
     ]
    },
    {
     "name": "stderr",
     "output_type": "stream",
     "text": [
      "100%|██████████| 10/10 [00:00<00:00, 66.52it/s]\n",
      "100%|██████████| 2/2 [00:00<00:00, 158.29it/s]\n",
      "100%|██████████| 275/275 [00:00<00:00, 3571.00it/s]\n"
     ]
    },
    {
     "name": "stdout",
     "output_type": "stream",
     "text": [
      "Epoch 13: train loss :   0.318346   val loss :   0.247836   val score :   0.476364\n",
      "------ epoch:14 ------\n"
     ]
    },
    {
     "name": "stderr",
     "output_type": "stream",
     "text": [
      "100%|██████████| 10/10 [00:00<00:00, 37.10it/s]\n",
      "100%|██████████| 2/2 [00:00<00:00, 153.26it/s]\n",
      "100%|██████████| 275/275 [00:00<00:00, 3612.57it/s]\n"
     ]
    },
    {
     "name": "stdout",
     "output_type": "stream",
     "text": [
      "Epoch 14: train loss :   0.315334   val loss :   0.245030   val score :   0.487273\n",
      "------ epoch:15 ------\n"
     ]
    },
    {
     "name": "stderr",
     "output_type": "stream",
     "text": [
      "100%|██████████| 10/10 [00:00<00:00, 69.86it/s]\n",
      "100%|██████████| 2/2 [00:00<00:00, 164.72it/s]\n",
      "100%|██████████| 275/275 [00:00<00:00, 3610.83it/s]\n"
     ]
    },
    {
     "name": "stdout",
     "output_type": "stream",
     "text": [
      "Epoch 15: train loss :   0.308635   val loss :   0.242612   val score :   0.480000\n",
      "------ epoch:16 ------\n"
     ]
    },
    {
     "name": "stderr",
     "output_type": "stream",
     "text": [
      "100%|██████████| 10/10 [00:00<00:00, 36.87it/s]\n",
      "100%|██████████| 2/2 [00:00<00:00, 163.99it/s]\n",
      "100%|██████████| 275/275 [00:00<00:00, 3676.49it/s]\n"
     ]
    },
    {
     "name": "stdout",
     "output_type": "stream",
     "text": [
      "Epoch 16: train loss :   0.302966   val loss :   0.241723   val score :   0.527273\n",
      "------ epoch:17 ------\n"
     ]
    },
    {
     "name": "stderr",
     "output_type": "stream",
     "text": [
      "100%|██████████| 10/10 [00:00<00:00, 67.10it/s]\n",
      "100%|██████████| 2/2 [00:00<00:00, 159.68it/s]\n",
      "100%|██████████| 275/275 [00:00<00:00, 3673.20it/s]\n"
     ]
    },
    {
     "name": "stdout",
     "output_type": "stream",
     "text": [
      "Epoch 17: train loss :   0.299395   val loss :   0.238755   val score :   0.530909\n",
      "------ epoch:18 ------\n"
     ]
    },
    {
     "name": "stderr",
     "output_type": "stream",
     "text": [
      "100%|██████████| 10/10 [00:00<00:00, 37.07it/s]\n",
      "100%|██████████| 2/2 [00:00<00:00, 170.75it/s]\n",
      "100%|██████████| 275/275 [00:00<00:00, 3708.03it/s]\n"
     ]
    },
    {
     "name": "stdout",
     "output_type": "stream",
     "text": [
      "Epoch 18: train loss :   0.292127   val loss :   0.237377   val score :   0.520000\n",
      "------ epoch:19 ------\n"
     ]
    },
    {
     "name": "stderr",
     "output_type": "stream",
     "text": [
      "100%|██████████| 10/10 [00:00<00:00, 68.00it/s]\n",
      "100%|██████████| 2/2 [00:00<00:00, 166.36it/s]\n",
      "100%|██████████| 275/275 [00:00<00:00, 3653.91it/s]\n"
     ]
    },
    {
     "name": "stdout",
     "output_type": "stream",
     "text": [
      "Epoch 19: train loss :   0.295046   val loss :   0.238805   val score :   0.538182\n",
      "------ epoch:20 ------\n"
     ]
    },
    {
     "name": "stderr",
     "output_type": "stream",
     "text": [
      "100%|██████████| 10/10 [00:00<00:00, 36.49it/s]\n",
      "100%|██████████| 2/2 [00:00<00:00, 179.12it/s]\n",
      "100%|██████████| 275/275 [00:00<00:00, 3709.77it/s]\n"
     ]
    },
    {
     "name": "stdout",
     "output_type": "stream",
     "text": [
      "Epoch 20: train loss :   0.285074   val loss :   0.238541   val score :   0.534545\n",
      "------ epoch:21 ------\n"
     ]
    },
    {
     "name": "stderr",
     "output_type": "stream",
     "text": [
      "100%|██████████| 10/10 [00:00<00:00, 71.18it/s]\n",
      "100%|██████████| 2/2 [00:00<00:00, 163.33it/s]\n",
      "100%|██████████| 275/275 [00:00<00:00, 3658.84it/s]\n"
     ]
    },
    {
     "name": "stdout",
     "output_type": "stream",
     "text": [
      "Epoch 21: train loss :   0.280843   val loss :   0.238083   val score :   0.541818\n",
      "------ epoch:22 ------\n"
     ]
    },
    {
     "name": "stderr",
     "output_type": "stream",
     "text": [
      "100%|██████████| 10/10 [00:00<00:00, 40.95it/s]\n",
      "100%|██████████| 2/2 [00:00<00:00, 172.35it/s]\n",
      "100%|██████████| 275/275 [00:00<00:00, 3734.02it/s]\n"
     ]
    },
    {
     "name": "stdout",
     "output_type": "stream",
     "text": [
      "Epoch 22: train loss :   0.273642   val loss :   0.237687   val score :   0.530909\n",
      "------ epoch:23 ------\n"
     ]
    },
    {
     "name": "stderr",
     "output_type": "stream",
     "text": [
      "100%|██████████| 10/10 [00:00<00:00, 72.18it/s]\n",
      "100%|██████████| 2/2 [00:00<00:00, 173.52it/s]\n",
      "100%|██████████| 275/275 [00:00<00:00, 3708.48it/s]\n"
     ]
    },
    {
     "name": "stdout",
     "output_type": "stream",
     "text": [
      "Epoch 23: train loss :   0.268235   val loss :   0.239978   val score :   0.516364\n",
      "------ epoch:24 ------\n"
     ]
    },
    {
     "name": "stderr",
     "output_type": "stream",
     "text": [
      "100%|██████████| 10/10 [00:00<00:00, 39.47it/s]\n",
      "100%|██████████| 2/2 [00:00<00:00, 170.30it/s]\n",
      "100%|██████████| 275/275 [00:00<00:00, 3666.59it/s]\n"
     ]
    },
    {
     "name": "stdout",
     "output_type": "stream",
     "text": [
      "Epoch 24: train loss :   0.270333   val loss :   0.240065   val score :   0.534545\n",
      "Epoch 00024: reducing learning rate of group 0 to 5.0000e-04.\n",
      "------ epoch:25 ------\n"
     ]
    },
    {
     "name": "stderr",
     "output_type": "stream",
     "text": [
      "100%|██████████| 10/10 [00:00<00:00, 68.50it/s]\n",
      "100%|██████████| 2/2 [00:00<00:00, 173.72it/s]\n",
      "100%|██████████| 275/275 [00:00<00:00, 3699.86it/s]\n"
     ]
    },
    {
     "name": "stdout",
     "output_type": "stream",
     "text": [
      "Epoch 25: train loss :   0.266521   val loss :   0.240117   val score :   0.530909\n",
      "------ epoch:26 ------\n"
     ]
    },
    {
     "name": "stderr",
     "output_type": "stream",
     "text": [
      "100%|██████████| 10/10 [00:00<00:00, 37.60it/s]\n",
      "100%|██████████| 2/2 [00:00<00:00, 162.41it/s]\n",
      "100%|██████████| 275/275 [00:00<00:00, 3715.34it/s]\n"
     ]
    },
    {
     "name": "stdout",
     "output_type": "stream",
     "text": [
      "Epoch 26: train loss :   0.262518   val loss :   0.240029   val score :   0.534545\n",
      "------ epoch:27 ------\n"
     ]
    },
    {
     "name": "stderr",
     "output_type": "stream",
     "text": [
      "100%|██████████| 10/10 [00:00<00:00, 67.11it/s]\n",
      "100%|██████████| 2/2 [00:00<00:00, 169.92it/s]\n",
      "100%|██████████| 275/275 [00:00<00:00, 3698.38it/s]\n"
     ]
    },
    {
     "name": "stdout",
     "output_type": "stream",
     "text": [
      "Epoch 27: train loss :   0.262843   val loss :   0.240027   val score :   0.534545\n",
      "Epoch 00027: reducing learning rate of group 0 to 5.0000e-05.\n"
     ]
    },
    {
     "name": "stderr",
     "output_type": "stream",
     "text": [
      "100%|██████████| 1/1 [00:00<00:00, 636.56it/s]\n",
      "100%|██████████| 24/24 [00:00<00:00, 761.52it/s]\n"
     ]
    },
    {
     "name": "stdout",
     "output_type": "stream",
     "text": [
      "------ repeat : 4 ------\n",
      "------ epoch:1 ------\n"
     ]
    },
    {
     "name": "stderr",
     "output_type": "stream",
     "text": [
      "100%|██████████| 10/10 [00:00<00:00, 37.75it/s]\n",
      "100%|██████████| 2/2 [00:00<00:00, 167.12it/s]\n",
      "100%|██████████| 275/275 [00:00<00:00, 3693.00it/s]\n"
     ]
    },
    {
     "name": "stdout",
     "output_type": "stream",
     "text": [
      "Epoch 1: train loss :   0.818741   val loss :   0.663480   val score :   0.152727\n",
      "------ epoch:2 ------\n"
     ]
    },
    {
     "name": "stderr",
     "output_type": "stream",
     "text": [
      "100%|██████████| 10/10 [00:00<00:00, 69.59it/s]\n",
      "100%|██████████| 2/2 [00:00<00:00, 164.79it/s]\n",
      "100%|██████████| 275/275 [00:00<00:00, 3678.18it/s]\n"
     ]
    },
    {
     "name": "stdout",
     "output_type": "stream",
     "text": [
      "Epoch 2: train loss :   0.737614   val loss :   0.564867   val score :   0.156364\n",
      "------ epoch:3 ------\n"
     ]
    },
    {
     "name": "stderr",
     "output_type": "stream",
     "text": [
      "100%|██████████| 10/10 [00:00<00:00, 68.96it/s]\n",
      "100%|██████████| 2/2 [00:00<00:00, 15.91it/s]\n",
      "100%|██████████| 275/275 [00:00<00:00, 3668.99it/s]\n"
     ]
    },
    {
     "name": "stdout",
     "output_type": "stream",
     "text": [
      "Epoch 3: train loss :   0.596097   val loss :   0.401804   val score :   0.152727\n",
      "------ epoch:4 ------\n"
     ]
    },
    {
     "name": "stderr",
     "output_type": "stream",
     "text": [
      "100%|██████████| 10/10 [00:00<00:00, 72.42it/s]\n",
      "100%|██████████| 2/2 [00:00<00:00, 163.90it/s]\n",
      "100%|██████████| 275/275 [00:00<00:00, 3695.79it/s]\n"
     ]
    },
    {
     "name": "stdout",
     "output_type": "stream",
     "text": [
      "Epoch 4: train loss :   0.436825   val loss :   0.280989   val score :   0.200000\n",
      "------ epoch:5 ------\n"
     ]
    },
    {
     "name": "stderr",
     "output_type": "stream",
     "text": [
      "100%|██████████| 10/10 [00:00<00:00, 69.22it/s]\n",
      "100%|██████████| 2/2 [00:00<00:00, 171.31it/s]\n",
      "100%|██████████| 275/275 [00:00<00:00, 3654.37it/s]\n"
     ]
    },
    {
     "name": "stdout",
     "output_type": "stream",
     "text": [
      "Epoch 5: train loss :   0.381946   val loss :   0.255891   val score :   0.298182\n",
      "------ epoch:6 ------\n"
     ]
    },
    {
     "name": "stderr",
     "output_type": "stream",
     "text": [
      "100%|██████████| 10/10 [00:00<00:00, 38.57it/s]\n",
      "100%|██████████| 2/2 [00:00<00:00, 164.36it/s]\n",
      "100%|██████████| 275/275 [00:00<00:00, 3683.07it/s]\n"
     ]
    },
    {
     "name": "stdout",
     "output_type": "stream",
     "text": [
      "Epoch 6: train loss :   0.364583   val loss :   0.251582   val score :   0.327273\n",
      "------ epoch:7 ------\n"
     ]
    },
    {
     "name": "stderr",
     "output_type": "stream",
     "text": [
      "100%|██████████| 10/10 [00:00<00:00, 38.41it/s]\n",
      "100%|██████████| 2/2 [00:00<00:00, 165.89it/s]\n",
      "100%|██████████| 275/275 [00:00<00:00, 3647.04it/s]\n"
     ]
    },
    {
     "name": "stdout",
     "output_type": "stream",
     "text": [
      "Epoch 7: train loss :   0.351857   val loss :   0.251525   val score :   0.338182\n",
      "------ epoch:8 ------\n"
     ]
    },
    {
     "name": "stderr",
     "output_type": "stream",
     "text": [
      "100%|██████████| 10/10 [00:00<00:00, 68.26it/s]\n",
      "100%|██████████| 2/2 [00:00<00:00, 163.22it/s]\n",
      "100%|██████████| 275/275 [00:00<00:00, 3632.42it/s]\n"
     ]
    },
    {
     "name": "stdout",
     "output_type": "stream",
     "text": [
      "Epoch 8: train loss :   0.354469   val loss :   0.253031   val score :   0.360000\n",
      "------ epoch:9 ------\n"
     ]
    },
    {
     "name": "stderr",
     "output_type": "stream",
     "text": [
      "100%|██████████| 10/10 [00:00<00:00, 38.22it/s]\n",
      "100%|██████████| 2/2 [00:00<00:00, 160.87it/s]\n",
      "100%|██████████| 275/275 [00:00<00:00, 3628.31it/s]\n"
     ]
    },
    {
     "name": "stdout",
     "output_type": "stream",
     "text": [
      "Epoch 9: train loss :   0.334696   val loss :   0.251393   val score :   0.370909\n",
      "------ epoch:10 ------\n"
     ]
    },
    {
     "name": "stderr",
     "output_type": "stream",
     "text": [
      "100%|██████████| 10/10 [00:00<00:00, 69.51it/s]\n",
      "100%|██████████| 2/2 [00:00<00:00, 168.23it/s]\n",
      "100%|██████████| 275/275 [00:00<00:00, 3621.60it/s]\n"
     ]
    },
    {
     "name": "stdout",
     "output_type": "stream",
     "text": [
      "Epoch 10: train loss :   0.338171   val loss :   0.247562   val score :   0.410909\n",
      "------ epoch:11 ------\n"
     ]
    },
    {
     "name": "stderr",
     "output_type": "stream",
     "text": [
      "100%|██████████| 10/10 [00:00<00:00, 69.07it/s]\n",
      "100%|██████████| 2/2 [00:00<00:00, 159.44it/s]\n",
      "100%|██████████| 275/275 [00:00<00:00, 3628.91it/s]\n"
     ]
    },
    {
     "name": "stdout",
     "output_type": "stream",
     "text": [
      "Epoch 11: train loss :   0.330659   val loss :   0.244707   val score :   0.458182\n",
      "------ epoch:12 ------\n"
     ]
    },
    {
     "name": "stderr",
     "output_type": "stream",
     "text": [
      "100%|██████████| 10/10 [00:00<00:00, 38.13it/s]\n",
      "100%|██████████| 2/2 [00:00<00:00, 158.79it/s]\n",
      "100%|██████████| 275/275 [00:00<00:00, 3665.84it/s]\n"
     ]
    },
    {
     "name": "stdout",
     "output_type": "stream",
     "text": [
      "Epoch 12: train loss :   0.322859   val loss :   0.242745   val score :   0.476364\n",
      "------ epoch:13 ------\n"
     ]
    },
    {
     "name": "stderr",
     "output_type": "stream",
     "text": [
      "100%|██████████| 10/10 [00:00<00:00, 68.81it/s]\n",
      "100%|██████████| 2/2 [00:00<00:00, 165.58it/s]\n",
      "100%|██████████| 275/275 [00:00<00:00, 3611.27it/s]\n"
     ]
    },
    {
     "name": "stdout",
     "output_type": "stream",
     "text": [
      "Epoch 13: train loss :   0.319095   val loss :   0.240703   val score :   0.465455\n",
      "------ epoch:14 ------\n"
     ]
    },
    {
     "name": "stderr",
     "output_type": "stream",
     "text": [
      "100%|██████████| 10/10 [00:00<00:00, 38.23it/s]\n",
      "100%|██████████| 2/2 [00:00<00:00, 172.59it/s]\n",
      "100%|██████████| 275/275 [00:00<00:00, 3643.65it/s]\n"
     ]
    },
    {
     "name": "stdout",
     "output_type": "stream",
     "text": [
      "Epoch 14: train loss :   0.310499   val loss :   0.241424   val score :   0.483636\n",
      "------ epoch:15 ------\n"
     ]
    },
    {
     "name": "stderr",
     "output_type": "stream",
     "text": [
      "100%|██████████| 10/10 [00:00<00:00, 66.62it/s]\n",
      "100%|██████████| 2/2 [00:00<00:00, 165.56it/s]\n",
      "100%|██████████| 275/275 [00:00<00:00, 3619.84it/s]\n"
     ]
    },
    {
     "name": "stdout",
     "output_type": "stream",
     "text": [
      "Epoch 15: train loss :   0.304032   val loss :   0.239811   val score :   0.483636\n",
      "------ epoch:16 ------\n"
     ]
    },
    {
     "name": "stderr",
     "output_type": "stream",
     "text": [
      "100%|██████████| 10/10 [00:00<00:00, 37.55it/s]\n",
      "100%|██████████| 2/2 [00:00<00:00, 166.73it/s]\n",
      "100%|██████████| 275/275 [00:00<00:00, 3668.24it/s]\n"
     ]
    },
    {
     "name": "stdout",
     "output_type": "stream",
     "text": [
      "Epoch 16: train loss :   0.294886   val loss :   0.238673   val score :   0.487273\n",
      "------ epoch:17 ------\n"
     ]
    },
    {
     "name": "stderr",
     "output_type": "stream",
     "text": [
      "100%|██████████| 10/10 [00:00<00:00, 67.05it/s]\n",
      "100%|██████████| 2/2 [00:00<00:00, 156.25it/s]\n",
      "100%|██████████| 275/275 [00:00<00:00, 3654.21it/s]\n"
     ]
    },
    {
     "name": "stdout",
     "output_type": "stream",
     "text": [
      "Epoch 17: train loss :   0.292273   val loss :   0.235671   val score :   0.498182\n",
      "------ epoch:18 ------\n"
     ]
    },
    {
     "name": "stderr",
     "output_type": "stream",
     "text": [
      "100%|██████████| 10/10 [00:00<00:00, 37.87it/s]\n",
      "100%|██████████| 2/2 [00:00<00:00, 163.84it/s]\n",
      "100%|██████████| 275/275 [00:00<00:00, 3660.10it/s]\n"
     ]
    },
    {
     "name": "stdout",
     "output_type": "stream",
     "text": [
      "Epoch 18: train loss :   0.294445   val loss :   0.235026   val score :   0.498182\n",
      "------ epoch:19 ------\n"
     ]
    },
    {
     "name": "stderr",
     "output_type": "stream",
     "text": [
      "100%|██████████| 10/10 [00:00<00:00, 69.11it/s]\n",
      "100%|██████████| 2/2 [00:00<00:00, 174.63it/s]\n",
      "100%|██████████| 275/275 [00:00<00:00, 3693.46it/s]\n"
     ]
    },
    {
     "name": "stdout",
     "output_type": "stream",
     "text": [
      "Epoch 19: train loss :   0.287775   val loss :   0.236293   val score :   0.501818\n",
      "------ epoch:20 ------\n"
     ]
    },
    {
     "name": "stderr",
     "output_type": "stream",
     "text": [
      "100%|██████████| 10/10 [00:00<00:00, 38.17it/s]\n",
      "100%|██████████| 2/2 [00:00<00:00, 167.45it/s]\n",
      "100%|██████████| 275/275 [00:00<00:00, 3613.48it/s]\n"
     ]
    },
    {
     "name": "stdout",
     "output_type": "stream",
     "text": [
      "Epoch 20: train loss :   0.282774   val loss :   0.236611   val score :   0.494545\n",
      "------ epoch:21 ------\n"
     ]
    },
    {
     "name": "stderr",
     "output_type": "stream",
     "text": [
      "100%|██████████| 10/10 [00:00<00:00, 69.78it/s]\n",
      "100%|██████████| 2/2 [00:00<00:00, 167.31it/s]\n",
      "100%|██████████| 275/275 [00:00<00:00, 3635.79it/s]\n"
     ]
    },
    {
     "name": "stdout",
     "output_type": "stream",
     "text": [
      "Epoch 21: train loss :   0.277287   val loss :   0.236466   val score :   0.501818\n",
      "------ epoch:22 ------\n"
     ]
    },
    {
     "name": "stderr",
     "output_type": "stream",
     "text": [
      "100%|██████████| 10/10 [00:00<00:00, 37.68it/s]\n",
      "100%|██████████| 2/2 [00:00<00:00, 173.07it/s]\n",
      "100%|██████████| 275/275 [00:00<00:00, 3658.48it/s]\n"
     ]
    },
    {
     "name": "stdout",
     "output_type": "stream",
     "text": [
      "Epoch 22: train loss :   0.275595   val loss :   0.239353   val score :   0.512727\n",
      "------ epoch:23 ------\n"
     ]
    },
    {
     "name": "stderr",
     "output_type": "stream",
     "text": [
      "100%|██████████| 10/10 [00:00<00:00, 69.28it/s]\n",
      "100%|██████████| 2/2 [00:00<00:00, 174.30it/s]\n",
      "100%|██████████| 275/275 [00:00<00:00, 3640.60it/s]\n"
     ]
    },
    {
     "name": "stdout",
     "output_type": "stream",
     "text": [
      "Epoch 23: train loss :   0.274498   val loss :   0.239976   val score :   0.509091\n",
      "------ epoch:24 ------\n"
     ]
    },
    {
     "name": "stderr",
     "output_type": "stream",
     "text": [
      "100%|██████████| 10/10 [00:00<00:00, 36.62it/s]\n",
      "100%|██████████| 2/2 [00:00<00:00, 172.91it/s]\n",
      "100%|██████████| 275/275 [00:00<00:00, 3621.32it/s]\n"
     ]
    },
    {
     "name": "stdout",
     "output_type": "stream",
     "text": [
      "Epoch 24: train loss :   0.259317   val loss :   0.239379   val score :   0.512727\n",
      "------ epoch:25 ------\n"
     ]
    },
    {
     "name": "stderr",
     "output_type": "stream",
     "text": [
      "100%|██████████| 10/10 [00:00<00:00, 66.66it/s]\n",
      "100%|██████████| 2/2 [00:00<00:00, 164.00it/s]\n",
      "100%|██████████| 275/275 [00:00<00:00, 3668.58it/s]\n"
     ]
    },
    {
     "name": "stdout",
     "output_type": "stream",
     "text": [
      "Epoch 25: train loss :   0.261913   val loss :   0.239462   val score :   0.523636\n",
      "------ epoch:26 ------\n"
     ]
    },
    {
     "name": "stderr",
     "output_type": "stream",
     "text": [
      "100%|██████████| 10/10 [00:00<00:00, 37.41it/s]\n",
      "100%|██████████| 2/2 [00:00<00:00, 163.57it/s]\n",
      "100%|██████████| 275/275 [00:00<00:00, 3659.29it/s]\n"
     ]
    },
    {
     "name": "stdout",
     "output_type": "stream",
     "text": [
      "Epoch 26: train loss :   0.258566   val loss :   0.238227   val score :   0.527273\n",
      "------ epoch:27 ------\n"
     ]
    },
    {
     "name": "stderr",
     "output_type": "stream",
     "text": [
      "100%|██████████| 10/10 [00:00<00:00, 68.31it/s]\n",
      "100%|██████████| 2/2 [00:00<00:00, 163.58it/s]\n",
      "100%|██████████| 275/275 [00:00<00:00, 3597.52it/s]\n"
     ]
    },
    {
     "name": "stdout",
     "output_type": "stream",
     "text": [
      "Epoch 27: train loss :   0.252246   val loss :   0.240123   val score :   0.523636\n",
      "------ epoch:28 ------\n"
     ]
    },
    {
     "name": "stderr",
     "output_type": "stream",
     "text": [
      "100%|██████████| 10/10 [00:00<00:00, 37.74it/s]\n",
      "100%|██████████| 2/2 [00:00<00:00, 170.57it/s]\n",
      "100%|██████████| 275/275 [00:00<00:00, 3680.38it/s]\n"
     ]
    },
    {
     "name": "stdout",
     "output_type": "stream",
     "text": [
      "Epoch 28: train loss :   0.253007   val loss :   0.238185   val score :   0.520000\n",
      "------ epoch:29 ------\n"
     ]
    },
    {
     "name": "stderr",
     "output_type": "stream",
     "text": [
      "100%|██████████| 10/10 [00:00<00:00, 68.65it/s]\n",
      "100%|██████████| 2/2 [00:00<00:00, 165.85it/s]\n",
      "100%|██████████| 275/275 [00:00<00:00, 3715.79it/s]\n"
     ]
    },
    {
     "name": "stdout",
     "output_type": "stream",
     "text": [
      "Epoch 29: train loss :   0.251463   val loss :   0.236082   val score :   0.498182\n",
      "Epoch 00029: reducing learning rate of group 0 to 5.0000e-04.\n",
      "------ epoch:30 ------\n"
     ]
    },
    {
     "name": "stderr",
     "output_type": "stream",
     "text": [
      "100%|██████████| 10/10 [00:00<00:00, 37.60it/s]\n",
      "100%|██████████| 2/2 [00:00<00:00, 173.27it/s]\n",
      "100%|██████████| 275/275 [00:00<00:00, 3670.54it/s]\n"
     ]
    },
    {
     "name": "stdout",
     "output_type": "stream",
     "text": [
      "Epoch 30: train loss :   0.247823   val loss :   0.235878   val score :   0.494545\n"
     ]
    },
    {
     "name": "stderr",
     "output_type": "stream",
     "text": [
      "100%|██████████| 1/1 [00:00<00:00, 814.74it/s]\n",
      "100%|██████████| 24/24 [00:00<00:00, 770.70it/s]\n"
     ]
    },
    {
     "name": "stdout",
     "output_type": "stream",
     "text": [
      "------ repeat : 5 ------\n",
      "------ epoch:1 ------\n"
     ]
    },
    {
     "name": "stderr",
     "output_type": "stream",
     "text": [
      "100%|██████████| 10/10 [00:00<00:00, 67.29it/s]\n",
      "100%|██████████| 2/2 [00:00<00:00, 172.33it/s]\n",
      "100%|██████████| 275/275 [00:00<00:00, 3698.93it/s]\n"
     ]
    },
    {
     "name": "stdout",
     "output_type": "stream",
     "text": [
      "Epoch 1: train loss :   0.951351   val loss :   0.865738   val score :   0.174545\n",
      "------ epoch:2 ------\n"
     ]
    },
    {
     "name": "stderr",
     "output_type": "stream",
     "text": [
      "100%|██████████| 10/10 [00:00<00:00, 37.67it/s]\n",
      "100%|██████████| 2/2 [00:00<00:00, 166.77it/s]\n",
      "100%|██████████| 275/275 [00:00<00:00, 3706.50it/s]\n"
     ]
    },
    {
     "name": "stdout",
     "output_type": "stream",
     "text": [
      "Epoch 2: train loss :   0.839098   val loss :   0.715267   val score :   0.174545\n",
      "------ epoch:3 ------\n"
     ]
    },
    {
     "name": "stderr",
     "output_type": "stream",
     "text": [
      "100%|██████████| 10/10 [00:00<00:00, 69.85it/s]\n",
      "100%|██████████| 2/2 [00:00<00:00, 170.65it/s]\n",
      "100%|██████████| 275/275 [00:00<00:00, 3658.88it/s]\n"
     ]
    },
    {
     "name": "stdout",
     "output_type": "stream",
     "text": [
      "Epoch 3: train loss :   0.657069   val loss :   0.464026   val score :   0.178182\n",
      "------ epoch:4 ------\n"
     ]
    },
    {
     "name": "stderr",
     "output_type": "stream",
     "text": [
      "100%|██████████| 10/10 [00:00<00:00, 67.96it/s]\n",
      "100%|██████████| 2/2 [00:00<00:00, 15.06it/s]\n",
      "100%|██████████| 275/275 [00:00<00:00, 3686.91it/s]\n"
     ]
    },
    {
     "name": "stdout",
     "output_type": "stream",
     "text": [
      "Epoch 4: train loss :   0.454916   val loss :   0.286484   val score :   0.250909\n",
      "------ epoch:5 ------\n"
     ]
    },
    {
     "name": "stderr",
     "output_type": "stream",
     "text": [
      "100%|██████████| 10/10 [00:00<00:00, 69.49it/s]\n",
      "100%|██████████| 2/2 [00:00<00:00, 165.57it/s]\n",
      "100%|██████████| 275/275 [00:00<00:00, 3686.47it/s]\n"
     ]
    },
    {
     "name": "stdout",
     "output_type": "stream",
     "text": [
      "Epoch 5: train loss :   0.383994   val loss :   0.255382   val score :   0.312727\n",
      "------ epoch:6 ------\n"
     ]
    },
    {
     "name": "stderr",
     "output_type": "stream",
     "text": [
      "100%|██████████| 10/10 [00:00<00:00, 59.38it/s]\n",
      "100%|██████████| 2/2 [00:00<00:00, 80.39it/s]\n",
      "100%|██████████| 275/275 [00:00<00:00, 3689.68it/s]\n"
     ]
    },
    {
     "name": "stdout",
     "output_type": "stream",
     "text": [
      "Epoch 6: train loss :   0.377375   val loss :   0.253738   val score :   0.338182\n",
      "------ epoch:7 ------\n"
     ]
    },
    {
     "name": "stderr",
     "output_type": "stream",
     "text": [
      "100%|██████████| 10/10 [00:00<00:00, 36.57it/s]\n",
      "100%|██████████| 2/2 [00:00<00:00, 117.14it/s]\n",
      "100%|██████████| 275/275 [00:00<00:00, 2968.18it/s]\n"
     ]
    },
    {
     "name": "stdout",
     "output_type": "stream",
     "text": [
      "Epoch 7: train loss :   0.368702   val loss :   0.260478   val score :   0.341818\n",
      "------ epoch:8 ------\n"
     ]
    },
    {
     "name": "stderr",
     "output_type": "stream",
     "text": [
      "100%|██████████| 10/10 [00:00<00:00, 37.74it/s]\n",
      "100%|██████████| 2/2 [00:00<00:00, 176.71it/s]\n",
      "100%|██████████| 275/275 [00:00<00:00, 3692.57it/s]\n"
     ]
    },
    {
     "name": "stdout",
     "output_type": "stream",
     "text": [
      "Epoch 8: train loss :   0.357829   val loss :   0.265618   val score :   0.338182\n",
      "------ epoch:9 ------\n"
     ]
    },
    {
     "name": "stderr",
     "output_type": "stream",
     "text": [
      "100%|██████████| 10/10 [00:00<00:00, 62.53it/s]\n",
      "100%|██████████| 2/2 [00:00<00:00, 173.35it/s]\n",
      "100%|██████████| 275/275 [00:00<00:00, 3675.35it/s]\n"
     ]
    },
    {
     "name": "stdout",
     "output_type": "stream",
     "text": [
      "Epoch 9: train loss :   0.346094   val loss :   0.262683   val score :   0.352727\n",
      "------ epoch:10 ------\n"
     ]
    },
    {
     "name": "stderr",
     "output_type": "stream",
     "text": [
      "100%|██████████| 10/10 [00:00<00:00, 37.86it/s]\n",
      "100%|██████████| 2/2 [00:00<00:00, 171.69it/s]\n",
      "100%|██████████| 275/275 [00:00<00:00, 3411.94it/s]\n"
     ]
    },
    {
     "name": "stdout",
     "output_type": "stream",
     "text": [
      "Epoch 10: train loss :   0.342867   val loss :   0.258054   val score :   0.389091\n",
      "------ epoch:11 ------\n"
     ]
    },
    {
     "name": "stderr",
     "output_type": "stream",
     "text": [
      "100%|██████████| 10/10 [00:00<00:00, 66.00it/s]\n",
      "100%|██████████| 2/2 [00:00<00:00, 173.57it/s]\n",
      "100%|██████████| 275/275 [00:00<00:00, 3689.56it/s]\n"
     ]
    },
    {
     "name": "stdout",
     "output_type": "stream",
     "text": [
      "Epoch 11: train loss :   0.350093   val loss :   0.253554   val score :   0.385455\n",
      "------ epoch:12 ------\n"
     ]
    },
    {
     "name": "stderr",
     "output_type": "stream",
     "text": [
      "100%|██████████| 10/10 [00:00<00:00, 68.71it/s]\n",
      "100%|██████████| 2/2 [00:00<00:00, 170.15it/s]\n",
      "100%|██████████| 275/275 [00:00<00:00, 3650.96it/s]\n"
     ]
    },
    {
     "name": "stdout",
     "output_type": "stream",
     "text": [
      "Epoch 12: train loss :   0.329611   val loss :   0.250365   val score :   0.450909\n",
      "------ epoch:13 ------\n"
     ]
    },
    {
     "name": "stderr",
     "output_type": "stream",
     "text": [
      "100%|██████████| 10/10 [00:00<00:00, 37.67it/s]\n",
      "100%|██████████| 2/2 [00:00<00:00, 141.71it/s]\n",
      "100%|██████████| 275/275 [00:00<00:00, 3686.49it/s]\n"
     ]
    },
    {
     "name": "stdout",
     "output_type": "stream",
     "text": [
      "Epoch 13: train loss :   0.340831   val loss :   0.248706   val score :   0.472727\n",
      "------ epoch:14 ------\n"
     ]
    },
    {
     "name": "stderr",
     "output_type": "stream",
     "text": [
      "100%|██████████| 10/10 [00:00<00:00, 66.55it/s]\n",
      "100%|██████████| 2/2 [00:00<00:00, 167.35it/s]\n",
      "100%|██████████| 275/275 [00:00<00:00, 3645.92it/s]\n"
     ]
    },
    {
     "name": "stdout",
     "output_type": "stream",
     "text": [
      "Epoch 14: train loss :   0.323910   val loss :   0.250001   val score :   0.498182\n",
      "------ epoch:15 ------\n"
     ]
    },
    {
     "name": "stderr",
     "output_type": "stream",
     "text": [
      "100%|██████████| 10/10 [00:00<00:00, 35.70it/s]\n",
      "100%|██████████| 2/2 [00:00<00:00, 163.43it/s]\n",
      "100%|██████████| 275/275 [00:00<00:00, 3542.85it/s]\n"
     ]
    },
    {
     "name": "stdout",
     "output_type": "stream",
     "text": [
      "Epoch 15: train loss :   0.317363   val loss :   0.246397   val score :   0.512727\n",
      "------ epoch:16 ------\n"
     ]
    },
    {
     "name": "stderr",
     "output_type": "stream",
     "text": [
      "100%|██████████| 10/10 [00:00<00:00, 66.02it/s]\n",
      "100%|██████████| 2/2 [00:00<00:00, 168.67it/s]\n",
      "100%|██████████| 275/275 [00:00<00:00, 3680.81it/s]\n"
     ]
    },
    {
     "name": "stdout",
     "output_type": "stream",
     "text": [
      "Epoch 16: train loss :   0.317402   val loss :   0.243827   val score :   0.527273\n",
      "------ epoch:17 ------\n"
     ]
    },
    {
     "name": "stderr",
     "output_type": "stream",
     "text": [
      "100%|██████████| 10/10 [00:00<00:00, 37.64it/s]\n",
      "100%|██████████| 2/2 [00:00<00:00, 172.42it/s]\n",
      "100%|██████████| 275/275 [00:00<00:00, 3720.51it/s]\n"
     ]
    },
    {
     "name": "stdout",
     "output_type": "stream",
     "text": [
      "Epoch 17: train loss :   0.312445   val loss :   0.243727   val score :   0.556364\n",
      "------ epoch:18 ------\n"
     ]
    },
    {
     "name": "stderr",
     "output_type": "stream",
     "text": [
      "100%|██████████| 10/10 [00:00<00:00, 69.09it/s]\n",
      "100%|██████████| 2/2 [00:00<00:00, 166.43it/s]\n",
      "100%|██████████| 275/275 [00:00<00:00, 3699.32it/s]\n"
     ]
    },
    {
     "name": "stdout",
     "output_type": "stream",
     "text": [
      "Epoch 18: train loss :   0.306498   val loss :   0.240486   val score :   0.541818\n",
      "------ epoch:19 ------\n"
     ]
    },
    {
     "name": "stderr",
     "output_type": "stream",
     "text": [
      "100%|██████████| 10/10 [00:00<00:00, 37.90it/s]\n",
      "100%|██████████| 2/2 [00:00<00:00, 172.68it/s]\n",
      "100%|██████████| 275/275 [00:00<00:00, 3695.94it/s]\n"
     ]
    },
    {
     "name": "stdout",
     "output_type": "stream",
     "text": [
      "Epoch 19: train loss :   0.297206   val loss :   0.235446   val score :   0.520000\n",
      "------ epoch:20 ------\n"
     ]
    },
    {
     "name": "stderr",
     "output_type": "stream",
     "text": [
      "100%|██████████| 10/10 [00:00<00:00, 69.51it/s]\n",
      "100%|██████████| 2/2 [00:00<00:00, 167.78it/s]\n",
      "100%|██████████| 275/275 [00:00<00:00, 3697.04it/s]\n"
     ]
    },
    {
     "name": "stdout",
     "output_type": "stream",
     "text": [
      "Epoch 20: train loss :   0.296477   val loss :   0.233615   val score :   0.523636\n",
      "Epoch 00020: reducing learning rate of group 0 to 5.0000e-04.\n",
      "------ epoch:21 ------\n"
     ]
    },
    {
     "name": "stderr",
     "output_type": "stream",
     "text": [
      "100%|██████████| 10/10 [00:00<00:00, 37.46it/s]\n",
      "100%|██████████| 2/2 [00:00<00:00, 172.05it/s]\n",
      "100%|██████████| 275/275 [00:00<00:00, 3687.20it/s]\n"
     ]
    },
    {
     "name": "stdout",
     "output_type": "stream",
     "text": [
      "Epoch 21: train loss :   0.290406   val loss :   0.233497   val score :   0.523636\n",
      "------ epoch:22 ------\n"
     ]
    },
    {
     "name": "stderr",
     "output_type": "stream",
     "text": [
      "100%|██████████| 10/10 [00:00<00:00, 68.15it/s]\n",
      "100%|██████████| 2/2 [00:00<00:00, 173.01it/s]\n",
      "100%|██████████| 275/275 [00:00<00:00, 3697.86it/s]\n"
     ]
    },
    {
     "name": "stdout",
     "output_type": "stream",
     "text": [
      "Epoch 22: train loss :   0.288388   val loss :   0.233508   val score :   0.523636\n",
      "------ epoch:23 ------\n"
     ]
    },
    {
     "name": "stderr",
     "output_type": "stream",
     "text": [
      "100%|██████████| 10/10 [00:00<00:00, 37.57it/s]\n",
      "100%|██████████| 2/2 [00:00<00:00, 172.28it/s]\n",
      "100%|██████████| 275/275 [00:00<00:00, 3712.37it/s]\n"
     ]
    },
    {
     "name": "stdout",
     "output_type": "stream",
     "text": [
      "Epoch 23: train loss :   0.292656   val loss :   0.233493   val score :   0.527273\n",
      "Epoch 00023: reducing learning rate of group 0 to 5.0000e-05.\n"
     ]
    },
    {
     "name": "stderr",
     "output_type": "stream",
     "text": [
      "100%|██████████| 1/1 [00:00<00:00, 648.77it/s]\n",
      "100%|██████████| 24/24 [00:00<00:00, 773.54it/s]\n"
     ]
    }
   ],
   "source": [
    "model_name = \"ERM-MF-PRIOR\"\n",
    "K = 1\n",
    "lam = 0.0005\n",
    "phi_r = 0\n",
    "phi_theta = 100000000\n",
    "mu = 0.05\n",
    "embedding_dim = 200\n",
    "lr = 0.005\n",
    "alpha = 0.01\n",
    "seed_everything(42)\n",
    "train = get_train_data(addr, model_name, K=K, mu=mu, lam=lam, phi_r=phi_r, phi_theta=phi_theta, r_default=0.4)\n",
    "test = get_test_data(addr)\n",
    "test = get_cold_user(train, test, 275, 300)\n",
    "seed_everything(42)\n",
    "Test(train, test, task=2, model_name=model_name, repeats=5, num_users=num_users, num_items=num_items, K=K, mu=mu, lam=lam, phi_r=phi_r, \n",
    "               phi_theta=phi_theta, embedding_dim=embedding_dim, lr=lr, alpha=alpha, patience=5, epochs=30, device=\"cuda:0\")"
   ]
  },
  {
   "cell_type": "markdown",
   "id": "cdcfbbcf-b889-4d50-b4cd-8d6dfc62c377",
   "metadata": {},
   "source": [
    "## ERM-MF-ESTIMATE"
   ]
  },
  {
   "cell_type": "code",
   "execution_count": 20,
   "id": "d83c4308-4b5d-49a2-816c-4b02173942cd",
   "metadata": {
    "tags": []
   },
   "outputs": [
    {
     "name": "stdout",
     "output_type": "stream",
     "text": [
      "------ repeat : 1 ------\n",
      "------ epoch:1 ------\n"
     ]
    },
    {
     "name": "stderr",
     "output_type": "stream",
     "text": [
      "100%|██████████| 10/10 [00:00<00:00, 42.95it/s]\n",
      "100%|██████████| 2/2 [00:00<00:00, 142.74it/s]\n",
      "100%|██████████| 275/275 [00:00<00:00, 1865.03it/s]\n"
     ]
    },
    {
     "name": "stdout",
     "output_type": "stream",
     "text": [
      "Epoch 1: train loss :   0.871634   val loss :   0.726894   val score :   0.138182\n",
      "------ epoch:2 ------\n"
     ]
    },
    {
     "name": "stderr",
     "output_type": "stream",
     "text": [
      "100%|██████████| 10/10 [00:00<00:00, 27.17it/s]\n",
      "100%|██████████| 2/2 [00:00<00:00, 146.73it/s]\n",
      "100%|██████████| 275/275 [00:00<00:00, 1820.64it/s]\n"
     ]
    },
    {
     "name": "stdout",
     "output_type": "stream",
     "text": [
      "Epoch 2: train loss :   0.518767   val loss :   0.332046   val score :   0.163636\n",
      "------ epoch:3 ------\n"
     ]
    },
    {
     "name": "stderr",
     "output_type": "stream",
     "text": [
      "100%|██████████| 10/10 [00:00<00:00, 50.22it/s]\n",
      "100%|██████████| 2/2 [00:00<00:00, 146.00it/s]\n",
      "100%|██████████| 275/275 [00:00<00:00, 3255.87it/s]\n"
     ]
    },
    {
     "name": "stdout",
     "output_type": "stream",
     "text": [
      "Epoch 3: train loss :   0.395962   val loss :   0.324553   val score :   0.320000\n",
      "------ epoch:4 ------\n"
     ]
    },
    {
     "name": "stderr",
     "output_type": "stream",
     "text": [
      "100%|██████████| 10/10 [00:00<00:00, 28.38it/s]\n",
      "100%|██████████| 2/2 [00:00<00:00, 145.60it/s]\n",
      "100%|██████████| 275/275 [00:00<00:00, 1954.15it/s]\n"
     ]
    },
    {
     "name": "stdout",
     "output_type": "stream",
     "text": [
      "Epoch 4: train loss :   0.367240   val loss :   0.314068   val score :   0.330909\n",
      "------ epoch:5 ------\n"
     ]
    },
    {
     "name": "stderr",
     "output_type": "stream",
     "text": [
      "100%|██████████| 10/10 [00:00<00:00, 50.86it/s]\n",
      "100%|██████████| 2/2 [00:00<00:00, 152.20it/s]\n",
      "100%|██████████| 275/275 [00:00<00:00, 1388.83it/s]\n"
     ]
    },
    {
     "name": "stdout",
     "output_type": "stream",
     "text": [
      "Epoch 5: train loss :   0.353278   val loss :   0.297964   val score :   0.450909\n",
      "------ epoch:6 ------\n"
     ]
    },
    {
     "name": "stderr",
     "output_type": "stream",
     "text": [
      "100%|██████████| 10/10 [00:00<00:00, 28.16it/s]\n",
      "100%|██████████| 2/2 [00:00<00:00, 140.84it/s]\n",
      "100%|██████████| 275/275 [00:00<00:00, 1834.57it/s]\n"
     ]
    },
    {
     "name": "stdout",
     "output_type": "stream",
     "text": [
      "Epoch 6: train loss :   0.340959   val loss :   0.288851   val score :   0.560000\n",
      "------ epoch:7 ------\n"
     ]
    },
    {
     "name": "stderr",
     "output_type": "stream",
     "text": [
      "100%|██████████| 10/10 [00:00<00:00, 35.81it/s]\n",
      "100%|██████████| 2/2 [00:00<00:00, 61.36it/s]\n",
      "100%|██████████| 275/275 [00:00<00:00, 1272.62it/s]\n"
     ]
    },
    {
     "name": "stdout",
     "output_type": "stream",
     "text": [
      "Epoch 7: train loss :   0.333969   val loss :   0.287120   val score :   0.530909\n",
      "------ epoch:8 ------\n"
     ]
    },
    {
     "name": "stderr",
     "output_type": "stream",
     "text": [
      "100%|██████████| 10/10 [00:00<00:00, 29.81it/s]\n",
      "100%|██████████| 2/2 [00:00<00:00, 11.28it/s]\n",
      "100%|██████████| 275/275 [00:00<00:00, 1194.20it/s]\n"
     ]
    },
    {
     "name": "stdout",
     "output_type": "stream",
     "text": [
      "Epoch 8: train loss :   0.331900   val loss :   0.285203   val score :   0.534545\n",
      "------ epoch:9 ------\n"
     ]
    },
    {
     "name": "stderr",
     "output_type": "stream",
     "text": [
      "100%|██████████| 10/10 [00:00<00:00, 38.35it/s]\n",
      "100%|██████████| 2/2 [00:00<00:00, 66.04it/s]\n",
      "100%|██████████| 275/275 [00:00<00:00, 1421.38it/s]\n"
     ]
    },
    {
     "name": "stdout",
     "output_type": "stream",
     "text": [
      "Epoch 9: train loss :   0.331494   val loss :   0.284521   val score :   0.538182\n",
      "Epoch 00009: reducing learning rate of group 0 to 1.0000e-03.\n",
      "------ epoch:10 ------\n"
     ]
    },
    {
     "name": "stderr",
     "output_type": "stream",
     "text": [
      "100%|██████████| 10/10 [00:00<00:00, 25.28it/s]\n",
      "100%|██████████| 2/2 [00:00<00:00, 146.48it/s]\n",
      "100%|██████████| 275/275 [00:00<00:00, 1110.23it/s]\n"
     ]
    },
    {
     "name": "stdout",
     "output_type": "stream",
     "text": [
      "Epoch 10: train loss :   0.330394   val loss :   0.284189   val score :   0.545455\n",
      "------ epoch:11 ------\n"
     ]
    },
    {
     "name": "stderr",
     "output_type": "stream",
     "text": [
      "100%|██████████| 10/10 [00:00<00:00, 29.19it/s]\n",
      "100%|██████████| 2/2 [00:00<00:00, 57.05it/s]\n",
      "100%|██████████| 275/275 [00:00<00:00, 972.00it/s] \n"
     ]
    },
    {
     "name": "stdout",
     "output_type": "stream",
     "text": [
      "Epoch 11: train loss :   0.330479   val loss :   0.283649   val score :   0.545455\n",
      "------ epoch:12 ------\n"
     ]
    },
    {
     "name": "stderr",
     "output_type": "stream",
     "text": [
      "100%|██████████| 10/10 [00:00<00:00, 38.09it/s]\n",
      "100%|██████████| 2/2 [00:00<00:00, 12.41it/s]\n",
      "100%|██████████| 275/275 [00:00<00:00, 1171.66it/s]\n"
     ]
    },
    {
     "name": "stdout",
     "output_type": "stream",
     "text": [
      "Epoch 12: train loss :   0.326328   val loss :   0.283240   val score :   0.549091\n",
      "Epoch 00012: reducing learning rate of group 0 to 1.0000e-04.\n"
     ]
    },
    {
     "name": "stderr",
     "output_type": "stream",
     "text": [
      "100%|██████████| 1/1 [00:00<00:00, 580.21it/s]\n",
      "100%|██████████| 24/24 [00:00<00:00, 173.70it/s]\n"
     ]
    },
    {
     "name": "stdout",
     "output_type": "stream",
     "text": [
      "------ repeat : 2 ------\n",
      "------ epoch:1 ------\n"
     ]
    },
    {
     "name": "stderr",
     "output_type": "stream",
     "text": [
      "100%|██████████| 10/10 [00:00<00:00, 36.99it/s]\n",
      "100%|██████████| 2/2 [00:00<00:00, 148.32it/s]\n",
      "100%|██████████| 275/275 [00:00<00:00, 2320.63it/s]\n"
     ]
    },
    {
     "name": "stdout",
     "output_type": "stream",
     "text": [
      "Epoch 1: train loss :   0.835926   val loss :   0.665482   val score :   0.130909\n",
      "------ epoch:2 ------\n"
     ]
    },
    {
     "name": "stderr",
     "output_type": "stream",
     "text": [
      "100%|██████████| 10/10 [00:00<00:00, 17.17it/s]\n",
      "100%|██████████| 2/2 [00:00<00:00, 12.54it/s]\n",
      "100%|██████████| 275/275 [00:00<00:00, 1198.95it/s]\n"
     ]
    },
    {
     "name": "stdout",
     "output_type": "stream",
     "text": [
      "Epoch 2: train loss :   0.511727   val loss :   0.327580   val score :   0.214545\n",
      "------ epoch:3 ------\n"
     ]
    },
    {
     "name": "stderr",
     "output_type": "stream",
     "text": [
      "100%|██████████| 10/10 [00:00<00:00, 37.00it/s]\n",
      "100%|██████████| 2/2 [00:00<00:00, 147.27it/s]\n",
      "100%|██████████| 275/275 [00:00<00:00, 1263.44it/s]\n"
     ]
    },
    {
     "name": "stdout",
     "output_type": "stream",
     "text": [
      "Epoch 3: train loss :   0.387966   val loss :   0.316870   val score :   0.298182\n",
      "------ epoch:4 ------\n"
     ]
    },
    {
     "name": "stderr",
     "output_type": "stream",
     "text": [
      "100%|██████████| 10/10 [00:00<00:00, 18.41it/s]\n",
      "100%|██████████| 2/2 [00:00<00:00, 71.80it/s]\n",
      "100%|██████████| 275/275 [00:00<00:00, 1163.89it/s]\n"
     ]
    },
    {
     "name": "stdout",
     "output_type": "stream",
     "text": [
      "Epoch 4: train loss :   0.369286   val loss :   0.303913   val score :   0.374545\n",
      "------ epoch:5 ------\n"
     ]
    },
    {
     "name": "stderr",
     "output_type": "stream",
     "text": [
      "100%|██████████| 10/10 [00:00<00:00, 30.07it/s]\n",
      "100%|██████████| 2/2 [00:00<00:00, 90.72it/s]\n",
      "100%|██████████| 275/275 [00:00<00:00, 1566.81it/s]\n"
     ]
    },
    {
     "name": "stdout",
     "output_type": "stream",
     "text": [
      "Epoch 5: train loss :   0.350074   val loss :   0.290854   val score :   0.469091\n",
      "------ epoch:6 ------\n"
     ]
    },
    {
     "name": "stderr",
     "output_type": "stream",
     "text": [
      "100%|██████████| 10/10 [00:00<00:00, 24.97it/s]\n",
      "100%|██████████| 2/2 [00:00<00:00, 130.33it/s]\n",
      "100%|██████████| 275/275 [00:00<00:00, 1475.15it/s]\n"
     ]
    },
    {
     "name": "stdout",
     "output_type": "stream",
     "text": [
      "Epoch 6: train loss :   0.338219   val loss :   0.283400   val score :   0.538182\n",
      "------ epoch:7 ------\n"
     ]
    },
    {
     "name": "stderr",
     "output_type": "stream",
     "text": [
      "100%|██████████| 10/10 [00:00<00:00, 44.40it/s]\n",
      "100%|██████████| 2/2 [00:00<00:00, 105.63it/s]\n",
      "100%|██████████| 275/275 [00:00<00:00, 1347.30it/s]\n"
     ]
    },
    {
     "name": "stdout",
     "output_type": "stream",
     "text": [
      "Epoch 7: train loss :   0.332498   val loss :   0.280936   val score :   0.530909\n",
      "------ epoch:8 ------\n"
     ]
    },
    {
     "name": "stderr",
     "output_type": "stream",
     "text": [
      "100%|██████████| 10/10 [00:00<00:00, 21.63it/s]\n",
      "100%|██████████| 2/2 [00:00<00:00, 77.74it/s]\n",
      "100%|██████████| 275/275 [00:00<00:00, 1343.73it/s]\n"
     ]
    },
    {
     "name": "stdout",
     "output_type": "stream",
     "text": [
      "Epoch 8: train loss :   0.335140   val loss :   0.280727   val score :   0.541818\n",
      "------ epoch:9 ------\n"
     ]
    },
    {
     "name": "stderr",
     "output_type": "stream",
     "text": [
      "100%|██████████| 10/10 [00:00<00:00, 27.97it/s]\n",
      "100%|██████████| 2/2 [00:00<00:00, 102.34it/s]\n",
      "100%|██████████| 275/275 [00:00<00:00, 2025.47it/s]\n"
     ]
    },
    {
     "name": "stdout",
     "output_type": "stream",
     "text": [
      "Epoch 9: train loss :   0.329620   val loss :   0.282048   val score :   0.549091\n",
      "------ epoch:10 ------\n"
     ]
    },
    {
     "name": "stderr",
     "output_type": "stream",
     "text": [
      "100%|██████████| 10/10 [00:00<00:00, 19.61it/s]\n",
      "100%|██████████| 2/2 [00:00<00:00, 92.42it/s]\n",
      "100%|██████████| 275/275 [00:00<00:00, 1455.00it/s]\n"
     ]
    },
    {
     "name": "stdout",
     "output_type": "stream",
     "text": [
      "Epoch 10: train loss :   0.327851   val loss :   0.282107   val score :   0.603636\n",
      "------ epoch:11 ------\n"
     ]
    },
    {
     "name": "stderr",
     "output_type": "stream",
     "text": [
      "100%|██████████| 10/10 [00:00<00:00, 29.51it/s]\n",
      "100%|██████████| 2/2 [00:00<00:00, 140.81it/s]\n",
      "100%|██████████| 275/275 [00:00<00:00, 1235.31it/s]\n"
     ]
    },
    {
     "name": "stdout",
     "output_type": "stream",
     "text": [
      "Epoch 11: train loss :   0.325039   val loss :   0.280340   val score :   0.607273\n",
      "------ epoch:12 ------\n"
     ]
    },
    {
     "name": "stderr",
     "output_type": "stream",
     "text": [
      "100%|██████████| 10/10 [00:00<00:00, 17.55it/s]\n",
      "100%|██████████| 2/2 [00:00<00:00, 75.65it/s]\n",
      "100%|██████████| 275/275 [00:00<00:00, 1183.32it/s]\n"
     ]
    },
    {
     "name": "stdout",
     "output_type": "stream",
     "text": [
      "Epoch 12: train loss :   0.323700   val loss :   0.279626   val score :   0.610909\n",
      "------ epoch:13 ------\n"
     ]
    },
    {
     "name": "stderr",
     "output_type": "stream",
     "text": [
      "100%|██████████| 10/10 [00:00<00:00, 37.40it/s]\n",
      "100%|██████████| 2/2 [00:00<00:00, 38.78it/s]\n",
      "100%|██████████| 275/275 [00:00<00:00, 1588.27it/s]\n"
     ]
    },
    {
     "name": "stdout",
     "output_type": "stream",
     "text": [
      "Epoch 13: train loss :   0.325946   val loss :   0.277946   val score :   0.636364\n",
      "------ epoch:14 ------\n"
     ]
    },
    {
     "name": "stderr",
     "output_type": "stream",
     "text": [
      "100%|██████████| 10/10 [00:00<00:00, 24.80it/s]\n",
      "100%|██████████| 2/2 [00:00<00:00, 103.13it/s]\n",
      "100%|██████████| 275/275 [00:00<00:00, 2016.56it/s]\n"
     ]
    },
    {
     "name": "stdout",
     "output_type": "stream",
     "text": [
      "Epoch 14: train loss :   0.324338   val loss :   0.278137   val score :   0.625455\n",
      "------ epoch:15 ------\n"
     ]
    },
    {
     "name": "stderr",
     "output_type": "stream",
     "text": [
      "100%|██████████| 10/10 [00:00<00:00, 40.10it/s]\n",
      "100%|██████████| 2/2 [00:00<00:00, 149.65it/s]\n",
      "100%|██████████| 275/275 [00:00<00:00, 1899.82it/s]\n"
     ]
    },
    {
     "name": "stdout",
     "output_type": "stream",
     "text": [
      "Epoch 15: train loss :   0.322207   val loss :   0.277629   val score :   0.629091\n",
      "------ epoch:16 ------\n"
     ]
    },
    {
     "name": "stderr",
     "output_type": "stream",
     "text": [
      "100%|██████████| 10/10 [00:00<00:00, 27.61it/s]\n",
      "100%|██████████| 2/2 [00:00<00:00, 115.64it/s]\n",
      "100%|██████████| 275/275 [00:00<00:00, 1390.00it/s]\n"
     ]
    },
    {
     "name": "stdout",
     "output_type": "stream",
     "text": [
      "Epoch 16: train loss :   0.322720   val loss :   0.277780   val score :   0.647273\n",
      "------ epoch:17 ------\n"
     ]
    },
    {
     "name": "stderr",
     "output_type": "stream",
     "text": [
      "100%|██████████| 10/10 [00:00<00:00, 37.86it/s]\n",
      "100%|██████████| 2/2 [00:00<00:00, 147.53it/s]\n",
      "100%|██████████| 275/275 [00:00<00:00, 2261.41it/s]\n"
     ]
    },
    {
     "name": "stdout",
     "output_type": "stream",
     "text": [
      "Epoch 17: train loss :   0.318617   val loss :   0.276919   val score :   0.661818\n",
      "------ epoch:18 ------\n"
     ]
    },
    {
     "name": "stderr",
     "output_type": "stream",
     "text": [
      "100%|██████████| 10/10 [00:00<00:00, 25.96it/s]\n",
      "100%|██████████| 2/2 [00:00<00:00, 102.15it/s]\n",
      "100%|██████████| 275/275 [00:00<00:00, 2198.42it/s]\n"
     ]
    },
    {
     "name": "stdout",
     "output_type": "stream",
     "text": [
      "Epoch 18: train loss :   0.318063   val loss :   0.276996   val score :   0.650909\n",
      "------ epoch:19 ------\n"
     ]
    },
    {
     "name": "stderr",
     "output_type": "stream",
     "text": [
      "100%|██████████| 10/10 [00:00<00:00, 37.45it/s]\n",
      "100%|██████████| 2/2 [00:00<00:00, 89.47it/s]\n",
      "100%|██████████| 275/275 [00:00<00:00, 1509.70it/s]\n"
     ]
    },
    {
     "name": "stdout",
     "output_type": "stream",
     "text": [
      "Epoch 19: train loss :   0.314947   val loss :   0.277013   val score :   0.643636\n",
      "------ epoch:20 ------\n"
     ]
    },
    {
     "name": "stderr",
     "output_type": "stream",
     "text": [
      "100%|██████████| 10/10 [00:00<00:00, 25.97it/s]\n",
      "100%|██████████| 2/2 [00:00<00:00, 133.31it/s]\n",
      "100%|██████████| 275/275 [00:00<00:00, 1704.39it/s]\n"
     ]
    },
    {
     "name": "stdout",
     "output_type": "stream",
     "text": [
      "Epoch 20: train loss :   0.316034   val loss :   0.275763   val score :   0.661818\n",
      "Epoch 00020: reducing learning rate of group 0 to 1.0000e-03.\n",
      "------ epoch:21 ------\n"
     ]
    },
    {
     "name": "stderr",
     "output_type": "stream",
     "text": [
      "100%|██████████| 10/10 [00:00<00:00, 42.25it/s]\n",
      "100%|██████████| 2/2 [00:00<00:00, 144.10it/s]\n",
      "100%|██████████| 275/275 [00:00<00:00, 1581.40it/s]\n"
     ]
    },
    {
     "name": "stdout",
     "output_type": "stream",
     "text": [
      "Epoch 21: train loss :   0.314747   val loss :   0.275619   val score :   0.665455\n",
      "------ epoch:22 ------\n"
     ]
    },
    {
     "name": "stderr",
     "output_type": "stream",
     "text": [
      "100%|██████████| 10/10 [00:00<00:00, 24.59it/s]\n",
      "100%|██████████| 2/2 [00:00<00:00, 136.93it/s]\n",
      "100%|██████████| 275/275 [00:00<00:00, 1681.21it/s]\n"
     ]
    },
    {
     "name": "stdout",
     "output_type": "stream",
     "text": [
      "Epoch 22: train loss :   0.314741   val loss :   0.275444   val score :   0.669091\n",
      "------ epoch:23 ------\n"
     ]
    },
    {
     "name": "stderr",
     "output_type": "stream",
     "text": [
      "100%|██████████| 10/10 [00:00<00:00, 27.98it/s]\n",
      "100%|██████████| 2/2 [00:00<00:00, 60.65it/s]\n",
      "100%|██████████| 275/275 [00:00<00:00, 1236.69it/s]\n"
     ]
    },
    {
     "name": "stdout",
     "output_type": "stream",
     "text": [
      "Epoch 23: train loss :   0.312995   val loss :   0.275215   val score :   0.661818\n",
      "------ epoch:24 ------\n"
     ]
    },
    {
     "name": "stderr",
     "output_type": "stream",
     "text": [
      "100%|██████████| 10/10 [00:00<00:00, 19.04it/s]\n",
      "100%|██████████| 2/2 [00:00<00:00, 139.99it/s]\n",
      "100%|██████████| 275/275 [00:00<00:00, 1293.23it/s]\n"
     ]
    },
    {
     "name": "stdout",
     "output_type": "stream",
     "text": [
      "Epoch 24: train loss :   0.313114   val loss :   0.275055   val score :   0.661818\n",
      "------ epoch:25 ------\n"
     ]
    },
    {
     "name": "stderr",
     "output_type": "stream",
     "text": [
      "100%|██████████| 10/10 [00:00<00:00, 39.72it/s]\n",
      "100%|██████████| 2/2 [00:00<00:00, 136.87it/s]\n",
      "100%|██████████| 275/275 [00:00<00:00, 2079.03it/s]\n"
     ]
    },
    {
     "name": "stdout",
     "output_type": "stream",
     "text": [
      "Epoch 25: train loss :   0.313354   val loss :   0.274813   val score :   0.665455\n",
      "Epoch 00025: reducing learning rate of group 0 to 1.0000e-04.\n",
      "------ epoch:26 ------\n"
     ]
    },
    {
     "name": "stderr",
     "output_type": "stream",
     "text": [
      "100%|██████████| 10/10 [00:00<00:00, 22.49it/s]\n",
      "100%|██████████| 2/2 [00:00<00:00, 142.22it/s]\n",
      "100%|██████████| 275/275 [00:00<00:00, 2207.03it/s]\n"
     ]
    },
    {
     "name": "stdout",
     "output_type": "stream",
     "text": [
      "Epoch 26: train loss :   0.312269   val loss :   0.274782   val score :   0.661818\n",
      "------ epoch:27 ------\n"
     ]
    },
    {
     "name": "stderr",
     "output_type": "stream",
     "text": [
      "100%|██████████| 10/10 [00:00<00:00, 38.87it/s]\n",
      "100%|██████████| 2/2 [00:00<00:00, 109.14it/s]\n",
      "100%|██████████| 275/275 [00:00<00:00, 1441.56it/s]\n"
     ]
    },
    {
     "name": "stdout",
     "output_type": "stream",
     "text": [
      "Epoch 27: train loss :   0.310647   val loss :   0.274746   val score :   0.661818\n",
      "------ epoch:28 ------\n"
     ]
    },
    {
     "name": "stderr",
     "output_type": "stream",
     "text": [
      "100%|██████████| 10/10 [00:00<00:00, 24.23it/s]\n",
      "100%|██████████| 2/2 [00:00<00:00, 47.51it/s]\n",
      "100%|██████████| 275/275 [00:00<00:00, 1340.93it/s]\n"
     ]
    },
    {
     "name": "stdout",
     "output_type": "stream",
     "text": [
      "Epoch 28: train loss :   0.313618   val loss :   0.274730   val score :   0.661818\n",
      "Epoch 00028: reducing learning rate of group 0 to 1.0000e-05.\n"
     ]
    },
    {
     "name": "stderr",
     "output_type": "stream",
     "text": [
      "100%|██████████| 1/1 [00:00<00:00, 588.84it/s]\n",
      "100%|██████████| 24/24 [00:00<00:00, 451.71it/s]"
     ]
    },
    {
     "name": "stdout",
     "output_type": "stream",
     "text": [
      "------ repeat : 3 ------\n"
     ]
    },
    {
     "name": "stderr",
     "output_type": "stream",
     "text": [
      "\n"
     ]
    },
    {
     "name": "stdout",
     "output_type": "stream",
     "text": [
      "------ epoch:1 ------\n"
     ]
    },
    {
     "name": "stderr",
     "output_type": "stream",
     "text": [
      "100%|██████████| 10/10 [00:00<00:00, 32.41it/s]\n",
      "100%|██████████| 2/2 [00:00<00:00, 145.98it/s]\n",
      "100%|██████████| 275/275 [00:00<00:00, 1301.33it/s]\n"
     ]
    },
    {
     "name": "stdout",
     "output_type": "stream",
     "text": [
      "Epoch 1: train loss :   0.844834   val loss :   0.682497   val score :   0.123636\n",
      "------ epoch:2 ------\n"
     ]
    },
    {
     "name": "stderr",
     "output_type": "stream",
     "text": [
      "100%|██████████| 10/10 [00:00<00:00, 21.98it/s]\n",
      "100%|██████████| 2/2 [00:00<00:00, 120.62it/s]\n",
      "100%|██████████| 275/275 [00:00<00:00, 2605.98it/s]\n"
     ]
    },
    {
     "name": "stdout",
     "output_type": "stream",
     "text": [
      "Epoch 2: train loss :   0.513278   val loss :   0.326379   val score :   0.181818\n",
      "------ epoch:3 ------\n"
     ]
    },
    {
     "name": "stderr",
     "output_type": "stream",
     "text": [
      "100%|██████████| 10/10 [00:00<00:00, 26.01it/s]\n",
      "100%|██████████| 2/2 [00:00<00:00, 141.15it/s]\n",
      "100%|██████████| 275/275 [00:00<00:00, 1307.60it/s]\n"
     ]
    },
    {
     "name": "stdout",
     "output_type": "stream",
     "text": [
      "Epoch 3: train loss :   0.391772   val loss :   0.312475   val score :   0.341818\n",
      "------ epoch:4 ------\n"
     ]
    },
    {
     "name": "stderr",
     "output_type": "stream",
     "text": [
      "100%|██████████| 10/10 [00:00<00:00, 19.83it/s]\n",
      "100%|██████████| 2/2 [00:00<00:00, 48.28it/s]\n",
      "100%|██████████| 275/275 [00:00<00:00, 1719.98it/s]\n"
     ]
    },
    {
     "name": "stdout",
     "output_type": "stream",
     "text": [
      "Epoch 4: train loss :   0.368715   val loss :   0.307146   val score :   0.414545\n",
      "------ epoch:5 ------\n"
     ]
    },
    {
     "name": "stderr",
     "output_type": "stream",
     "text": [
      "100%|██████████| 10/10 [00:00<00:00, 29.28it/s]\n",
      "100%|██████████| 2/2 [00:00<00:00, 144.90it/s]\n",
      "100%|██████████| 275/275 [00:00<00:00, 1336.27it/s]\n"
     ]
    },
    {
     "name": "stdout",
     "output_type": "stream",
     "text": [
      "Epoch 5: train loss :   0.350436   val loss :   0.292818   val score :   0.501818\n",
      "------ epoch:6 ------\n"
     ]
    },
    {
     "name": "stderr",
     "output_type": "stream",
     "text": [
      "100%|██████████| 10/10 [00:00<00:00, 27.38it/s]\n",
      "100%|██████████| 2/2 [00:00<00:00, 10.90it/s]\n",
      "100%|██████████| 275/275 [00:00<00:00, 1992.30it/s]\n"
     ]
    },
    {
     "name": "stdout",
     "output_type": "stream",
     "text": [
      "Epoch 6: train loss :   0.337768   val loss :   0.283169   val score :   0.549091\n",
      "------ epoch:7 ------\n"
     ]
    },
    {
     "name": "stderr",
     "output_type": "stream",
     "text": [
      "100%|██████████| 10/10 [00:00<00:00, 30.98it/s]\n",
      "100%|██████████| 2/2 [00:00<00:00, 34.32it/s]\n",
      "100%|██████████| 275/275 [00:00<00:00, 1387.88it/s]\n"
     ]
    },
    {
     "name": "stdout",
     "output_type": "stream",
     "text": [
      "Epoch 7: train loss :   0.335196   val loss :   0.282055   val score :   0.563636\n",
      "------ epoch:8 ------\n"
     ]
    },
    {
     "name": "stderr",
     "output_type": "stream",
     "text": [
      "100%|██████████| 10/10 [00:00<00:00, 21.59it/s]\n",
      "100%|██████████| 2/2 [00:00<00:00, 145.08it/s]\n",
      "100%|██████████| 275/275 [00:00<00:00, 1645.90it/s]\n"
     ]
    },
    {
     "name": "stdout",
     "output_type": "stream",
     "text": [
      "Epoch 8: train loss :   0.331180   val loss :   0.281513   val score :   0.578182\n",
      "------ epoch:9 ------\n"
     ]
    },
    {
     "name": "stderr",
     "output_type": "stream",
     "text": [
      "100%|██████████| 10/10 [00:00<00:00, 27.49it/s]\n",
      "100%|██████████| 2/2 [00:00<00:00, 91.73it/s]\n",
      "100%|██████████| 275/275 [00:00<00:00, 1360.35it/s]\n"
     ]
    },
    {
     "name": "stdout",
     "output_type": "stream",
     "text": [
      "Epoch 9: train loss :   0.331512   val loss :   0.278829   val score :   0.614545\n",
      "------ epoch:10 ------\n"
     ]
    },
    {
     "name": "stderr",
     "output_type": "stream",
     "text": [
      "100%|██████████| 10/10 [00:00<00:00, 25.09it/s]\n",
      "100%|██████████| 2/2 [00:00<00:00, 10.32it/s]\n",
      "100%|██████████| 275/275 [00:00<00:00, 1857.58it/s]\n"
     ]
    },
    {
     "name": "stdout",
     "output_type": "stream",
     "text": [
      "Epoch 10: train loss :   0.326271   val loss :   0.278772   val score :   0.629091\n",
      "------ epoch:11 ------\n"
     ]
    },
    {
     "name": "stderr",
     "output_type": "stream",
     "text": [
      "100%|██████████| 10/10 [00:00<00:00, 26.42it/s]\n",
      "100%|██████████| 2/2 [00:00<00:00, 84.87it/s]\n",
      "100%|██████████| 275/275 [00:00<00:00, 1719.01it/s]\n"
     ]
    },
    {
     "name": "stdout",
     "output_type": "stream",
     "text": [
      "Epoch 11: train loss :   0.324726   val loss :   0.278599   val score :   0.614545\n",
      "------ epoch:12 ------\n"
     ]
    },
    {
     "name": "stderr",
     "output_type": "stream",
     "text": [
      "100%|██████████| 10/10 [00:00<00:00, 27.94it/s]\n",
      "100%|██████████| 2/2 [00:00<00:00, 134.47it/s]\n",
      "100%|██████████| 275/275 [00:00<00:00, 1229.79it/s]\n"
     ]
    },
    {
     "name": "stdout",
     "output_type": "stream",
     "text": [
      "Epoch 12: train loss :   0.323511   val loss :   0.277350   val score :   0.625455\n",
      "------ epoch:13 ------\n"
     ]
    },
    {
     "name": "stderr",
     "output_type": "stream",
     "text": [
      "100%|██████████| 10/10 [00:00<00:00, 19.93it/s]\n",
      "100%|██████████| 2/2 [00:00<00:00, 149.28it/s]\n",
      "100%|██████████| 275/275 [00:00<00:00, 1142.08it/s]\n"
     ]
    },
    {
     "name": "stdout",
     "output_type": "stream",
     "text": [
      "Epoch 13: train loss :   0.322355   val loss :   0.277782   val score :   0.614545\n",
      "Epoch 00013: reducing learning rate of group 0 to 1.0000e-03.\n",
      "------ epoch:14 ------\n"
     ]
    },
    {
     "name": "stderr",
     "output_type": "stream",
     "text": [
      "100%|██████████| 10/10 [00:00<00:00, 20.62it/s]\n",
      "100%|██████████| 2/2 [00:00<00:00, 39.98it/s]\n",
      "100%|██████████| 275/275 [00:00<00:00, 1518.28it/s]\n"
     ]
    },
    {
     "name": "stdout",
     "output_type": "stream",
     "text": [
      "Epoch 14: train loss :   0.320679   val loss :   0.277524   val score :   0.614545\n",
      "------ epoch:15 ------\n"
     ]
    },
    {
     "name": "stderr",
     "output_type": "stream",
     "text": [
      "100%|██████████| 10/10 [00:00<00:00, 28.82it/s]\n",
      "100%|██████████| 2/2 [00:00<00:00, 139.38it/s]\n",
      "100%|██████████| 275/275 [00:00<00:00, 1402.83it/s]\n"
     ]
    },
    {
     "name": "stdout",
     "output_type": "stream",
     "text": [
      "Epoch 15: train loss :   0.321783   val loss :   0.277091   val score :   0.614545\n",
      "------ epoch:16 ------\n"
     ]
    },
    {
     "name": "stderr",
     "output_type": "stream",
     "text": [
      "100%|██████████| 10/10 [00:00<00:00, 27.43it/s]\n",
      "100%|██████████| 2/2 [00:00<00:00, 12.09it/s]\n",
      "100%|██████████| 275/275 [00:00<00:00, 1301.28it/s]\n"
     ]
    },
    {
     "name": "stdout",
     "output_type": "stream",
     "text": [
      "Epoch 16: train loss :   0.320172   val loss :   0.276602   val score :   0.618182\n",
      "Epoch 00016: reducing learning rate of group 0 to 1.0000e-04.\n"
     ]
    },
    {
     "name": "stderr",
     "output_type": "stream",
     "text": [
      "100%|██████████| 1/1 [00:00<00:00, 207.09it/s]\n",
      "100%|██████████| 24/24 [00:00<00:00, 154.64it/s]\n"
     ]
    },
    {
     "name": "stdout",
     "output_type": "stream",
     "text": [
      "------ repeat : 4 ------\n",
      "------ epoch:1 ------\n"
     ]
    },
    {
     "name": "stderr",
     "output_type": "stream",
     "text": [
      "100%|██████████| 10/10 [00:00<00:00, 19.68it/s]\n",
      "100%|██████████| 2/2 [00:00<00:00, 146.95it/s]\n",
      "100%|██████████| 275/275 [00:00<00:00, 1064.21it/s]\n"
     ]
    },
    {
     "name": "stdout",
     "output_type": "stream",
     "text": [
      "Epoch 1: train loss :   0.839440   val loss :   0.668806   val score :   0.152727\n",
      "------ epoch:2 ------\n"
     ]
    },
    {
     "name": "stderr",
     "output_type": "stream",
     "text": [
      "100%|██████████| 10/10 [00:00<00:00, 17.78it/s]\n",
      "100%|██████████| 2/2 [00:00<00:00, 47.79it/s]\n",
      "100%|██████████| 275/275 [00:00<00:00, 1521.67it/s]\n"
     ]
    },
    {
     "name": "stdout",
     "output_type": "stream",
     "text": [
      "Epoch 2: train loss :   0.505485   val loss :   0.324442   val score :   0.203636\n",
      "------ epoch:3 ------\n"
     ]
    },
    {
     "name": "stderr",
     "output_type": "stream",
     "text": [
      "100%|██████████| 10/10 [00:00<00:00, 29.35it/s]\n",
      "100%|██████████| 2/2 [00:00<00:00, 39.04it/s]\n",
      "100%|██████████| 275/275 [00:00<00:00, 1406.28it/s]\n"
     ]
    },
    {
     "name": "stdout",
     "output_type": "stream",
     "text": [
      "Epoch 3: train loss :   0.390971   val loss :   0.310234   val score :   0.349091\n",
      "------ epoch:4 ------\n"
     ]
    },
    {
     "name": "stderr",
     "output_type": "stream",
     "text": [
      "100%|██████████| 10/10 [00:00<00:00, 21.28it/s]\n",
      "100%|██████████| 2/2 [00:00<00:00, 146.30it/s]\n",
      "100%|██████████| 275/275 [00:00<00:00, 1739.52it/s]\n"
     ]
    },
    {
     "name": "stdout",
     "output_type": "stream",
     "text": [
      "Epoch 4: train loss :   0.370780   val loss :   0.300647   val score :   0.429091\n",
      "------ epoch:5 ------\n"
     ]
    },
    {
     "name": "stderr",
     "output_type": "stream",
     "text": [
      "100%|██████████| 10/10 [00:00<00:00, 40.72it/s]\n",
      "100%|██████████| 2/2 [00:00<00:00, 138.03it/s]\n",
      "100%|██████████| 275/275 [00:00<00:00, 1956.36it/s]\n"
     ]
    },
    {
     "name": "stdout",
     "output_type": "stream",
     "text": [
      "Epoch 5: train loss :   0.348470   val loss :   0.295157   val score :   0.505455\n",
      "------ epoch:6 ------\n"
     ]
    },
    {
     "name": "stderr",
     "output_type": "stream",
     "text": [
      "100%|██████████| 10/10 [00:00<00:00, 27.27it/s]\n",
      "100%|██████████| 2/2 [00:00<00:00, 148.46it/s]\n",
      "100%|██████████| 275/275 [00:00<00:00, 1985.59it/s]\n"
     ]
    },
    {
     "name": "stdout",
     "output_type": "stream",
     "text": [
      "Epoch 6: train loss :   0.338908   val loss :   0.288358   val score :   0.530909\n",
      "------ epoch:7 ------\n"
     ]
    },
    {
     "name": "stderr",
     "output_type": "stream",
     "text": [
      "100%|██████████| 10/10 [00:00<00:00, 40.78it/s]\n",
      "100%|██████████| 2/2 [00:00<00:00, 139.74it/s]\n",
      "100%|██████████| 275/275 [00:00<00:00, 2298.04it/s]\n"
     ]
    },
    {
     "name": "stdout",
     "output_type": "stream",
     "text": [
      "Epoch 7: train loss :   0.331766   val loss :   0.286654   val score :   0.545455\n",
      "------ epoch:8 ------\n"
     ]
    },
    {
     "name": "stderr",
     "output_type": "stream",
     "text": [
      "100%|██████████| 10/10 [00:00<00:00, 28.25it/s]\n",
      "100%|██████████| 2/2 [00:00<00:00, 145.16it/s]\n",
      "100%|██████████| 275/275 [00:00<00:00, 2298.82it/s]\n"
     ]
    },
    {
     "name": "stdout",
     "output_type": "stream",
     "text": [
      "Epoch 8: train loss :   0.329841   val loss :   0.285649   val score :   0.556364\n",
      "------ epoch:9 ------\n"
     ]
    },
    {
     "name": "stderr",
     "output_type": "stream",
     "text": [
      "100%|██████████| 10/10 [00:00<00:00, 43.31it/s]\n",
      "100%|██████████| 2/2 [00:00<00:00, 145.41it/s]\n",
      "100%|██████████| 275/275 [00:00<00:00, 2536.84it/s]\n"
     ]
    },
    {
     "name": "stdout",
     "output_type": "stream",
     "text": [
      "Epoch 9: train loss :   0.330305   val loss :   0.285723   val score :   0.570909\n",
      "------ epoch:10 ------\n"
     ]
    },
    {
     "name": "stderr",
     "output_type": "stream",
     "text": [
      "100%|██████████| 10/10 [00:00<00:00, 28.11it/s]\n",
      "100%|██████████| 2/2 [00:00<00:00, 156.68it/s]\n",
      "100%|██████████| 275/275 [00:00<00:00, 1994.56it/s]\n"
     ]
    },
    {
     "name": "stdout",
     "output_type": "stream",
     "text": [
      "Epoch 10: train loss :   0.324663   val loss :   0.286871   val score :   0.596364\n",
      "------ epoch:11 ------\n"
     ]
    },
    {
     "name": "stderr",
     "output_type": "stream",
     "text": [
      "100%|██████████| 10/10 [00:00<00:00, 42.33it/s]\n",
      "100%|██████████| 2/2 [00:00<00:00, 147.60it/s]\n",
      "100%|██████████| 275/275 [00:00<00:00, 1895.71it/s]\n"
     ]
    },
    {
     "name": "stdout",
     "output_type": "stream",
     "text": [
      "Epoch 11: train loss :   0.324109   val loss :   0.281902   val score :   0.640000\n",
      "------ epoch:12 ------\n"
     ]
    },
    {
     "name": "stderr",
     "output_type": "stream",
     "text": [
      "100%|██████████| 10/10 [00:00<00:00, 41.80it/s]\n",
      "100%|██████████| 2/2 [00:00<00:00, 150.98it/s]\n",
      "100%|██████████| 275/275 [00:00<00:00, 1884.35it/s]\n"
     ]
    },
    {
     "name": "stdout",
     "output_type": "stream",
     "text": [
      "Epoch 12: train loss :   0.324261   val loss :   0.281367   val score :   0.632727\n",
      "------ epoch:13 ------\n"
     ]
    },
    {
     "name": "stderr",
     "output_type": "stream",
     "text": [
      "100%|██████████| 10/10 [00:00<00:00, 28.27it/s]\n",
      "100%|██████████| 2/2 [00:00<00:00, 146.24it/s]\n",
      "100%|██████████| 275/275 [00:00<00:00, 2143.54it/s]\n"
     ]
    },
    {
     "name": "stdout",
     "output_type": "stream",
     "text": [
      "Epoch 13: train loss :   0.320759   val loss :   0.281706   val score :   0.632727\n",
      "------ epoch:14 ------\n"
     ]
    },
    {
     "name": "stderr",
     "output_type": "stream",
     "text": [
      "100%|██████████| 10/10 [00:00<00:00, 42.10it/s]\n",
      "100%|██████████| 2/2 [00:00<00:00, 143.08it/s]\n",
      "100%|██████████| 275/275 [00:00<00:00, 1956.57it/s]\n"
     ]
    },
    {
     "name": "stdout",
     "output_type": "stream",
     "text": [
      "Epoch 14: train loss :   0.321089   val loss :   0.280025   val score :   0.614545\n",
      "Epoch 00014: reducing learning rate of group 0 to 1.0000e-03.\n",
      "------ epoch:15 ------\n"
     ]
    },
    {
     "name": "stderr",
     "output_type": "stream",
     "text": [
      "100%|██████████| 10/10 [00:00<00:00, 28.51it/s]\n",
      "100%|██████████| 2/2 [00:00<00:00, 149.85it/s]\n",
      "100%|██████████| 275/275 [00:00<00:00, 2062.57it/s]\n"
     ]
    },
    {
     "name": "stdout",
     "output_type": "stream",
     "text": [
      "Epoch 15: train loss :   0.321216   val loss :   0.279923   val score :   0.607273\n",
      "------ epoch:16 ------\n"
     ]
    },
    {
     "name": "stderr",
     "output_type": "stream",
     "text": [
      "100%|██████████| 10/10 [00:00<00:00, 41.97it/s]\n",
      "100%|██████████| 2/2 [00:00<00:00, 150.89it/s]\n",
      "100%|██████████| 275/275 [00:00<00:00, 1907.77it/s]\n"
     ]
    },
    {
     "name": "stdout",
     "output_type": "stream",
     "text": [
      "Epoch 16: train loss :   0.317726   val loss :   0.279913   val score :   0.629091\n",
      "------ epoch:17 ------\n"
     ]
    },
    {
     "name": "stderr",
     "output_type": "stream",
     "text": [
      "100%|██████████| 10/10 [00:00<00:00, 27.27it/s]\n",
      "100%|██████████| 2/2 [00:00<00:00, 141.60it/s]\n",
      "100%|██████████| 275/275 [00:00<00:00, 2110.14it/s]\n"
     ]
    },
    {
     "name": "stdout",
     "output_type": "stream",
     "text": [
      "Epoch 17: train loss :   0.317682   val loss :   0.279675   val score :   0.640000\n",
      "Epoch 00017: reducing learning rate of group 0 to 1.0000e-04.\n"
     ]
    },
    {
     "name": "stderr",
     "output_type": "stream",
     "text": [
      "100%|██████████| 1/1 [00:00<00:00, 603.06it/s]\n",
      "100%|██████████| 24/24 [00:00<00:00, 521.69it/s]\n"
     ]
    },
    {
     "name": "stdout",
     "output_type": "stream",
     "text": [
      "------ repeat : 5 ------\n",
      "------ epoch:1 ------\n"
     ]
    },
    {
     "name": "stderr",
     "output_type": "stream",
     "text": [
      "100%|██████████| 10/10 [00:00<00:00, 33.57it/s]\n",
      "100%|██████████| 2/2 [00:00<00:00, 149.54it/s]\n",
      "100%|██████████| 275/275 [00:00<00:00, 2040.81it/s]\n"
     ]
    },
    {
     "name": "stdout",
     "output_type": "stream",
     "text": [
      "Epoch 1: train loss :   0.840735   val loss :   0.672305   val score :   0.145455\n",
      "------ epoch:2 ------\n"
     ]
    },
    {
     "name": "stderr",
     "output_type": "stream",
     "text": [
      "100%|██████████| 10/10 [00:00<00:00, 27.91it/s]\n",
      "100%|██████████| 2/2 [00:00<00:00, 91.63it/s]\n",
      "100%|██████████| 275/275 [00:00<00:00, 2253.13it/s]\n"
     ]
    },
    {
     "name": "stdout",
     "output_type": "stream",
     "text": [
      "Epoch 2: train loss :   0.523696   val loss :   0.335723   val score :   0.189091\n",
      "------ epoch:3 ------\n"
     ]
    },
    {
     "name": "stderr",
     "output_type": "stream",
     "text": [
      "100%|██████████| 10/10 [00:00<00:00, 46.32it/s]\n",
      "100%|██████████| 2/2 [00:00<00:00, 149.26it/s]\n",
      "100%|██████████| 275/275 [00:00<00:00, 1985.68it/s]\n"
     ]
    },
    {
     "name": "stdout",
     "output_type": "stream",
     "text": [
      "Epoch 3: train loss :   0.391564   val loss :   0.317737   val score :   0.276364\n",
      "------ epoch:4 ------\n"
     ]
    },
    {
     "name": "stderr",
     "output_type": "stream",
     "text": [
      "100%|██████████| 10/10 [00:00<00:00, 27.40it/s]\n",
      "100%|██████████| 2/2 [00:00<00:00, 147.30it/s]\n",
      "100%|██████████| 275/275 [00:00<00:00, 1987.02it/s]\n"
     ]
    },
    {
     "name": "stdout",
     "output_type": "stream",
     "text": [
      "Epoch 4: train loss :   0.370129   val loss :   0.308905   val score :   0.349091\n",
      "------ epoch:5 ------\n"
     ]
    },
    {
     "name": "stderr",
     "output_type": "stream",
     "text": [
      "100%|██████████| 10/10 [00:00<00:00, 41.25it/s]\n",
      "100%|██████████| 2/2 [00:00<00:00, 141.24it/s]\n",
      "100%|██████████| 275/275 [00:00<00:00, 1991.28it/s]\n"
     ]
    },
    {
     "name": "stdout",
     "output_type": "stream",
     "text": [
      "Epoch 5: train loss :   0.348291   val loss :   0.296207   val score :   0.458182\n",
      "------ epoch:6 ------\n"
     ]
    },
    {
     "name": "stderr",
     "output_type": "stream",
     "text": [
      "100%|██████████| 10/10 [00:00<00:00, 28.41it/s]\n",
      "100%|██████████| 2/2 [00:00<00:00, 146.28it/s]\n",
      "100%|██████████| 275/275 [00:00<00:00, 1910.19it/s]\n"
     ]
    },
    {
     "name": "stdout",
     "output_type": "stream",
     "text": [
      "Epoch 6: train loss :   0.339279   val loss :   0.289598   val score :   0.520000\n",
      "------ epoch:7 ------\n"
     ]
    },
    {
     "name": "stderr",
     "output_type": "stream",
     "text": [
      "100%|██████████| 10/10 [00:00<00:00, 40.38it/s]\n",
      "100%|██████████| 2/2 [00:00<00:00, 148.38it/s]\n",
      "100%|██████████| 275/275 [00:00<00:00, 1984.90it/s]\n"
     ]
    },
    {
     "name": "stdout",
     "output_type": "stream",
     "text": [
      "Epoch 7: train loss :   0.335317   val loss :   0.287536   val score :   0.545455\n",
      "------ epoch:8 ------\n"
     ]
    },
    {
     "name": "stderr",
     "output_type": "stream",
     "text": [
      "100%|██████████| 10/10 [00:00<00:00, 27.43it/s]\n",
      "100%|██████████| 2/2 [00:00<00:00, 145.41it/s]\n",
      "100%|██████████| 275/275 [00:00<00:00, 1997.84it/s]\n"
     ]
    },
    {
     "name": "stdout",
     "output_type": "stream",
     "text": [
      "Epoch 8: train loss :   0.333729   val loss :   0.287528   val score :   0.527273\n",
      "------ epoch:9 ------\n"
     ]
    },
    {
     "name": "stderr",
     "output_type": "stream",
     "text": [
      "100%|██████████| 10/10 [00:00<00:00, 42.22it/s]\n",
      "100%|██████████| 2/2 [00:00<00:00, 145.01it/s]\n",
      "100%|██████████| 275/275 [00:00<00:00, 1933.82it/s]\n"
     ]
    },
    {
     "name": "stdout",
     "output_type": "stream",
     "text": [
      "Epoch 9: train loss :   0.329365   val loss :   0.287228   val score :   0.541818\n",
      "------ epoch:10 ------\n"
     ]
    },
    {
     "name": "stderr",
     "output_type": "stream",
     "text": [
      "100%|██████████| 10/10 [00:00<00:00, 26.70it/s]\n",
      "100%|██████████| 2/2 [00:00<00:00, 122.85it/s]\n",
      "100%|██████████| 275/275 [00:00<00:00, 2020.94it/s]\n"
     ]
    },
    {
     "name": "stdout",
     "output_type": "stream",
     "text": [
      "Epoch 10: train loss :   0.327812   val loss :   0.283847   val score :   0.556364\n",
      "------ epoch:11 ------\n"
     ]
    },
    {
     "name": "stderr",
     "output_type": "stream",
     "text": [
      "100%|██████████| 10/10 [00:00<00:00, 41.49it/s]\n",
      "100%|██████████| 2/2 [00:00<00:00, 149.62it/s]\n",
      "100%|██████████| 275/275 [00:00<00:00, 2253.77it/s]\n"
     ]
    },
    {
     "name": "stdout",
     "output_type": "stream",
     "text": [
      "Epoch 11: train loss :   0.326588   val loss :   0.282660   val score :   0.560000\n",
      "------ epoch:12 ------\n"
     ]
    },
    {
     "name": "stderr",
     "output_type": "stream",
     "text": [
      "100%|██████████| 10/10 [00:00<00:00, 28.43it/s]\n",
      "100%|██████████| 2/2 [00:00<00:00, 150.13it/s]\n",
      "100%|██████████| 275/275 [00:00<00:00, 2008.75it/s]\n"
     ]
    },
    {
     "name": "stdout",
     "output_type": "stream",
     "text": [
      "Epoch 12: train loss :   0.327589   val loss :   0.281296   val score :   0.570909\n",
      "------ epoch:13 ------\n"
     ]
    },
    {
     "name": "stderr",
     "output_type": "stream",
     "text": [
      "100%|██████████| 10/10 [00:00<00:00, 42.28it/s]\n",
      "100%|██████████| 2/2 [00:00<00:00, 156.71it/s]\n",
      "100%|██████████| 275/275 [00:00<00:00, 2366.72it/s]\n"
     ]
    },
    {
     "name": "stdout",
     "output_type": "stream",
     "text": [
      "Epoch 13: train loss :   0.321558   val loss :   0.281614   val score :   0.589091\n",
      "------ epoch:14 ------\n"
     ]
    },
    {
     "name": "stderr",
     "output_type": "stream",
     "text": [
      "100%|██████████| 10/10 [00:00<00:00, 28.41it/s]\n",
      "100%|██████████| 2/2 [00:00<00:00, 145.07it/s]\n",
      "100%|██████████| 275/275 [00:00<00:00, 2138.75it/s]\n"
     ]
    },
    {
     "name": "stdout",
     "output_type": "stream",
     "text": [
      "Epoch 14: train loss :   0.321782   val loss :   0.281274   val score :   0.600000\n",
      "------ epoch:15 ------\n"
     ]
    },
    {
     "name": "stderr",
     "output_type": "stream",
     "text": [
      "100%|██████████| 10/10 [00:00<00:00, 42.91it/s]\n",
      "100%|██████████| 2/2 [00:00<00:00, 150.41it/s]\n",
      "100%|██████████| 275/275 [00:00<00:00, 1939.90it/s]\n"
     ]
    },
    {
     "name": "stdout",
     "output_type": "stream",
     "text": [
      "Epoch 15: train loss :   0.320989   val loss :   0.279470   val score :   0.596364\n",
      "------ epoch:16 ------\n"
     ]
    },
    {
     "name": "stderr",
     "output_type": "stream",
     "text": [
      "100%|██████████| 10/10 [00:00<00:00, 27.08it/s]\n",
      "100%|██████████| 2/2 [00:00<00:00, 143.72it/s]\n",
      "100%|██████████| 275/275 [00:00<00:00, 2072.94it/s]\n"
     ]
    },
    {
     "name": "stdout",
     "output_type": "stream",
     "text": [
      "Epoch 16: train loss :   0.318815   val loss :   0.279672   val score :   0.632727\n",
      "------ epoch:17 ------\n"
     ]
    },
    {
     "name": "stderr",
     "output_type": "stream",
     "text": [
      "100%|██████████| 10/10 [00:00<00:00, 39.77it/s]\n",
      "100%|██████████| 2/2 [00:00<00:00, 135.53it/s]\n",
      "100%|██████████| 275/275 [00:00<00:00, 1932.87it/s]\n"
     ]
    },
    {
     "name": "stdout",
     "output_type": "stream",
     "text": [
      "Epoch 17: train loss :   0.319078   val loss :   0.280048   val score :   0.621818\n",
      "------ epoch:18 ------\n"
     ]
    },
    {
     "name": "stderr",
     "output_type": "stream",
     "text": [
      "100%|██████████| 10/10 [00:00<00:00, 27.13it/s]\n",
      "100%|██████████| 2/2 [00:00<00:00, 86.36it/s]\n",
      "100%|██████████| 275/275 [00:00<00:00, 2056.94it/s]\n"
     ]
    },
    {
     "name": "stdout",
     "output_type": "stream",
     "text": [
      "Epoch 18: train loss :   0.318776   val loss :   0.279324   val score :   0.625455\n",
      "------ epoch:19 ------\n"
     ]
    },
    {
     "name": "stderr",
     "output_type": "stream",
     "text": [
      "100%|██████████| 10/10 [00:00<00:00, 40.02it/s]\n",
      "100%|██████████| 2/2 [00:00<00:00, 139.85it/s]\n",
      "100%|██████████| 275/275 [00:00<00:00, 1870.31it/s]\n"
     ]
    },
    {
     "name": "stdout",
     "output_type": "stream",
     "text": [
      "Epoch 19: train loss :   0.316837   val loss :   0.279020   val score :   0.629091\n",
      "Epoch 00019: reducing learning rate of group 0 to 1.0000e-03.\n",
      "------ epoch:20 ------\n"
     ]
    },
    {
     "name": "stderr",
     "output_type": "stream",
     "text": [
      "100%|██████████| 10/10 [00:00<00:00, 26.70it/s]\n",
      "100%|██████████| 2/2 [00:00<00:00, 137.64it/s]\n",
      "100%|██████████| 275/275 [00:00<00:00, 2069.98it/s]\n"
     ]
    },
    {
     "name": "stdout",
     "output_type": "stream",
     "text": [
      "Epoch 20: train loss :   0.315321   val loss :   0.278717   val score :   0.640000\n",
      "------ epoch:21 ------\n"
     ]
    },
    {
     "name": "stderr",
     "output_type": "stream",
     "text": [
      "100%|██████████| 10/10 [00:00<00:00, 41.77it/s]\n",
      "100%|██████████| 2/2 [00:00<00:00, 93.16it/s]\n",
      "100%|██████████| 275/275 [00:00<00:00, 1945.83it/s]\n"
     ]
    },
    {
     "name": "stdout",
     "output_type": "stream",
     "text": [
      "Epoch 21: train loss :   0.314201   val loss :   0.278106   val score :   0.643636\n",
      "------ epoch:22 ------\n"
     ]
    },
    {
     "name": "stderr",
     "output_type": "stream",
     "text": [
      "100%|██████████| 10/10 [00:00<00:00, 28.47it/s]\n",
      "100%|██████████| 2/2 [00:00<00:00, 149.15it/s]\n",
      "100%|██████████| 275/275 [00:00<00:00, 1953.74it/s]\n"
     ]
    },
    {
     "name": "stdout",
     "output_type": "stream",
     "text": [
      "Epoch 22: train loss :   0.313670   val loss :   0.277645   val score :   0.643636\n",
      "------ epoch:23 ------\n"
     ]
    },
    {
     "name": "stderr",
     "output_type": "stream",
     "text": [
      "100%|██████████| 10/10 [00:00<00:00, 38.15it/s]\n",
      "100%|██████████| 2/2 [00:00<00:00, 122.96it/s]\n",
      "100%|██████████| 275/275 [00:00<00:00, 1913.85it/s]\n"
     ]
    },
    {
     "name": "stdout",
     "output_type": "stream",
     "text": [
      "Epoch 23: train loss :   0.314369   val loss :   0.277472   val score :   0.654545\n",
      "------ epoch:24 ------\n"
     ]
    },
    {
     "name": "stderr",
     "output_type": "stream",
     "text": [
      "100%|██████████| 10/10 [00:00<00:00, 28.09it/s]\n",
      "100%|██████████| 2/2 [00:00<00:00, 143.96it/s]\n",
      "100%|██████████| 275/275 [00:00<00:00, 2049.39it/s]\n"
     ]
    },
    {
     "name": "stdout",
     "output_type": "stream",
     "text": [
      "Epoch 24: train loss :   0.312200   val loss :   0.277407   val score :   0.658182\n",
      "------ epoch:25 ------\n"
     ]
    },
    {
     "name": "stderr",
     "output_type": "stream",
     "text": [
      "100%|██████████| 10/10 [00:00<00:00, 41.33it/s]\n",
      "100%|██████████| 2/2 [00:00<00:00, 143.12it/s]\n",
      "100%|██████████| 275/275 [00:00<00:00, 1825.74it/s]\n"
     ]
    },
    {
     "name": "stdout",
     "output_type": "stream",
     "text": [
      "Epoch 25: train loss :   0.313711   val loss :   0.277207   val score :   0.647273\n",
      "------ epoch:26 ------\n"
     ]
    },
    {
     "name": "stderr",
     "output_type": "stream",
     "text": [
      "100%|██████████| 10/10 [00:00<00:00, 27.52it/s]\n",
      "100%|██████████| 2/2 [00:00<00:00, 145.74it/s]\n",
      "100%|██████████| 275/275 [00:00<00:00, 1963.44it/s]\n"
     ]
    },
    {
     "name": "stdout",
     "output_type": "stream",
     "text": [
      "Epoch 26: train loss :   0.311484   val loss :   0.277044   val score :   0.643636\n",
      "------ epoch:27 ------\n"
     ]
    },
    {
     "name": "stderr",
     "output_type": "stream",
     "text": [
      "100%|██████████| 10/10 [00:00<00:00, 39.69it/s]\n",
      "100%|██████████| 2/2 [00:00<00:00, 143.48it/s]\n",
      "100%|██████████| 275/275 [00:00<00:00, 1939.03it/s]\n"
     ]
    },
    {
     "name": "stdout",
     "output_type": "stream",
     "text": [
      "Epoch 27: train loss :   0.313777   val loss :   0.277118   val score :   0.654545\n",
      "Epoch 00027: reducing learning rate of group 0 to 1.0000e-04.\n",
      "------ epoch:28 ------\n"
     ]
    },
    {
     "name": "stderr",
     "output_type": "stream",
     "text": [
      "100%|██████████| 10/10 [00:00<00:00, 27.49it/s]\n",
      "100%|██████████| 2/2 [00:00<00:00, 147.02it/s]\n",
      "100%|██████████| 275/275 [00:00<00:00, 2003.93it/s]\n"
     ]
    },
    {
     "name": "stdout",
     "output_type": "stream",
     "text": [
      "Epoch 28: train loss :   0.312186   val loss :   0.277120   val score :   0.654545\n",
      "------ epoch:29 ------\n"
     ]
    },
    {
     "name": "stderr",
     "output_type": "stream",
     "text": [
      "100%|██████████| 10/10 [00:00<00:00, 40.51it/s]\n",
      "100%|██████████| 2/2 [00:00<00:00, 142.34it/s]\n",
      "100%|██████████| 275/275 [00:00<00:00, 1982.69it/s]\n"
     ]
    },
    {
     "name": "stdout",
     "output_type": "stream",
     "text": [
      "Epoch 29: train loss :   0.313804   val loss :   0.277114   val score :   0.658182\n",
      "------ epoch:30 ------\n"
     ]
    },
    {
     "name": "stderr",
     "output_type": "stream",
     "text": [
      "100%|██████████| 10/10 [00:00<00:00, 28.58it/s]\n",
      "100%|██████████| 2/2 [00:00<00:00, 144.63it/s]\n",
      "100%|██████████| 275/275 [00:00<00:00, 2051.66it/s]\n"
     ]
    },
    {
     "name": "stdout",
     "output_type": "stream",
     "text": [
      "Epoch 30: train loss :   0.314332   val loss :   0.277133   val score :   0.658182\n",
      "Epoch 00030: reducing learning rate of group 0 to 1.0000e-05.\n"
     ]
    },
    {
     "name": "stderr",
     "output_type": "stream",
     "text": [
      "100%|██████████| 1/1 [00:00<00:00, 702.33it/s]\n",
      "100%|██████████| 24/24 [00:00<00:00, 651.05it/s]\n"
     ]
    }
   ],
   "source": [
    "model_name = \"ERM-MF-ESTIMATE\"\n",
    "phi_r = 0\n",
    "phi_theta = 0\n",
    "embedding_dim = 200\n",
    "mu = 0.01\n",
    "lam = 5e-4\n",
    "lr = 0.01\n",
    "alpha = 0.005\n",
    "seed_everything(42)\n",
    "train = get_train_data(addr, model_name, phi_r = phi_r, phi_theta = phi_theta, embedding_dim = embedding_dim, mu = mu, lam = lam)\n",
    "test = get_test_data(addr)\n",
    "test = get_cold_user(train, test, 275, 300)\n",
    "seed_everything(42)\n",
    "Test(train, test, \"ERM-MF-ESTIMATE\",  task=4, repeats=5,  num_users=num_users, num_items=num_items, phi_r = phi_r, phi_theta =phi_theta, \n",
    "     embedding_dim = embedding_dim, mu = mu, lam =lam, lr=lr, alpha=alpha, patience=5, epochs=30, device=\"cuda:0\")"
   ]
  },
  {
   "cell_type": "code",
   "execution_count": null,
   "id": "4aaf5148-fafa-41f7-b2aa-48049cca8413",
   "metadata": {},
   "outputs": [],
   "source": []
  }
 ],
 "metadata": {
  "kernelspec": {
   "display_name": "Python 3 (ipykernel)",
   "language": "python",
   "name": "python3"
  },
  "language_info": {
   "codemirror_mode": {
    "name": "ipython",
    "version": 3
   },
   "file_extension": ".py",
   "mimetype": "text/x-python",
   "name": "python",
   "nbconvert_exporter": "python",
   "pygments_lexer": "ipython3",
   "version": "3.9.16"
  }
 },
 "nbformat": 4,
 "nbformat_minor": 5
}
