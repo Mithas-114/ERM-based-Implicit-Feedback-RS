{
 "cells": [
  {
   "cell_type": "code",
   "execution_count": 3,
   "id": "14cfeec2-bf2c-4df0-9a86-64737d9f01cb",
   "metadata": {
    "tags": []
   },
   "outputs": [],
   "source": [
    "import numpy as np\n",
    "from codes.utils.utils import seed_everything\n",
    "from codes.utils.data import get_train_data, get_test_data, get_cold_user\n",
    "from codes.train.TrainAndEvaluate import Test"
   ]
  },
  {
   "cell_type": "code",
   "execution_count": 4,
   "id": "5fc1659e-7ba3-4a6b-b8f8-bb785706a73b",
   "metadata": {
    "tags": []
   },
   "outputs": [],
   "source": [
    "num_users = 9526\n",
    "num_items = 1000\n",
    "addr = \"data/yahoor3_processed\""
   ]
  },
  {
   "cell_type": "markdown",
   "id": "fab393d0-8256-4628-a81a-6d9920cc1b79",
   "metadata": {},
   "source": [
    "## WMF"
   ]
  },
  {
   "cell_type": "code",
   "execution_count": 5,
   "id": "82d8ea97-12b0-4888-b5f4-cfdbc5ed1882",
   "metadata": {
    "tags": []
   },
   "outputs": [
    {
     "name": "stdout",
     "output_type": "stream",
     "text": [
      "------ repeat : 1 ------\n"
     ]
    },
    {
     "name": "stderr",
     "output_type": "stream",
     "text": [
      "\n",
      "KeyboardInterrupt\n",
      "\n"
     ]
    }
   ],
   "source": [
    "model_name = \"WMF\"\n",
    "weight = 0.7\n",
    "embedding_dim = 200\n",
    "lr = 0.005\n",
    "alpha = 0.005\n",
    "seed_everything(42)\n",
    "train = get_train_data(addr, model_name)\n",
    "test = get_test_data(addr)\n",
    "test = get_cold_user(train, test, 9526, 1000)\n",
    "seed_everything(42)\n",
    "Test(train, test, task=1, model_name=model_name, repeats=4, num_users=num_users, num_items=num_items,\n",
    "     weight=weight, embedding_dim=embedding_dim, lr=lr, alpha=alpha, patience=3, epochs=30, device=\"cuda:0\")"
   ]
  },
  {
   "cell_type": "markdown",
   "id": "6446342c-b6f2-4e45-9c62-27edd5473667",
   "metadata": {},
   "source": [
    "## REL-MF-CLIP"
   ]
  },
  {
   "cell_type": "code",
   "execution_count": null,
   "id": "f3fa1d63-66e7-4ded-8844-1a312693f2c9",
   "metadata": {
    "collapsed": true,
    "jupyter": {
     "outputs_hidden": true
    },
    "tags": []
   },
   "outputs": [
    {
     "name": "stdout",
     "output_type": "stream",
     "text": [
      "------ repeat : 1 ------\n",
      "------ epoch:1 ------\n"
     ]
    },
    {
     "name": "stderr",
     "output_type": "stream",
     "text": [
      "100%|██████████| 1046/1046 [00:38<00:00, 26.85it/s]\n",
      "100%|██████████| 118/118 [00:02<00:00, 41.69it/s]\n",
      "100%|██████████| 9526/9526 [00:13<00:00, 713.09it/s]\n"
     ]
    },
    {
     "name": "stdout",
     "output_type": "stream",
     "text": [
      "Epoch 1: train loss :   0.224449   val loss :   0.170733   val score :   0.414130\n",
      "------ epoch:2 ------\n"
     ]
    },
    {
     "name": "stderr",
     "output_type": "stream",
     "text": [
      "100%|██████████| 1046/1046 [00:39<00:00, 26.78it/s]\n",
      "100%|██████████| 118/118 [00:02<00:00, 41.84it/s]\n",
      "100%|██████████| 9526/9526 [00:13<00:00, 715.17it/s]\n"
     ]
    },
    {
     "name": "stdout",
     "output_type": "stream",
     "text": [
      "Epoch 2: train loss :   0.134734   val loss :   0.177371   val score :   0.440584\n",
      "------ epoch:3 ------\n"
     ]
    },
    {
     "name": "stderr",
     "output_type": "stream",
     "text": [
      "100%|██████████| 1046/1046 [00:39<00:00, 26.76it/s]\n",
      "100%|██████████| 118/118 [00:02<00:00, 43.32it/s]\n",
      "100%|██████████| 9526/9526 [00:13<00:00, 698.49it/s]\n"
     ]
    },
    {
     "name": "stdout",
     "output_type": "stream",
     "text": [
      "Epoch 3: train loss :   0.111562   val loss :   0.171490   val score :   0.523620\n",
      "------ epoch:4 ------\n"
     ]
    },
    {
     "name": "stderr",
     "output_type": "stream",
     "text": [
      "100%|██████████| 1046/1046 [00:38<00:00, 26.96it/s]\n",
      "100%|██████████| 118/118 [00:02<00:00, 40.02it/s]\n",
      "100%|██████████| 9526/9526 [00:13<00:00, 718.09it/s]\n"
     ]
    },
    {
     "name": "stdout",
     "output_type": "stream",
     "text": [
      "Epoch 4: train loss :   0.088356   val loss :   0.156957   val score :   0.585450\n",
      "------ epoch:5 ------\n"
     ]
    },
    {
     "name": "stderr",
     "output_type": "stream",
     "text": [
      "100%|██████████| 1046/1046 [00:38<00:00, 26.96it/s]\n",
      "100%|██████████| 118/118 [00:03<00:00, 31.74it/s]\n",
      "100%|██████████| 9526/9526 [00:38<00:00, 250.01it/s]\n"
     ]
    },
    {
     "name": "stdout",
     "output_type": "stream",
     "text": [
      "Epoch 5: train loss :   0.067796   val loss :   0.147251   val score :   0.608755\n",
      "------ epoch:6 ------\n"
     ]
    },
    {
     "name": "stderr",
     "output_type": "stream",
     "text": [
      "100%|██████████| 1046/1046 [00:37<00:00, 27.58it/s]\n",
      "100%|██████████| 118/118 [00:02<00:00, 41.13it/s]\n",
      "100%|██████████| 9526/9526 [00:35<00:00, 265.47it/s]\n"
     ]
    },
    {
     "name": "stdout",
     "output_type": "stream",
     "text": [
      "Epoch 6: train loss :   0.049621   val loss :   0.141722   val score :   0.624186\n",
      "------ epoch:7 ------\n"
     ]
    },
    {
     "name": "stderr",
     "output_type": "stream",
     "text": [
      "100%|██████████| 1046/1046 [00:40<00:00, 26.00it/s]\n",
      "100%|██████████| 118/118 [00:02<00:00, 43.39it/s]\n",
      "100%|██████████| 9526/9526 [00:24<00:00, 386.43it/s]\n"
     ]
    },
    {
     "name": "stdout",
     "output_type": "stream",
     "text": [
      "Epoch 7: train loss :   0.036062   val loss :   0.138006   val score :   0.636784\n",
      "------ epoch:8 ------\n"
     ]
    },
    {
     "name": "stderr",
     "output_type": "stream",
     "text": [
      "100%|██████████| 1046/1046 [00:38<00:00, 27.07it/s]\n",
      "100%|██████████| 118/118 [00:02<00:00, 43.16it/s]\n",
      "100%|██████████| 9526/9526 [00:20<00:00, 459.63it/s]\n"
     ]
    },
    {
     "name": "stdout",
     "output_type": "stream",
     "text": [
      "Epoch 8: train loss :   0.014819   val loss :   0.135622   val score :   0.639933\n",
      "------ epoch:9 ------\n"
     ]
    },
    {
     "name": "stderr",
     "output_type": "stream",
     "text": [
      "100%|██████████| 1046/1046 [00:40<00:00, 25.60it/s]\n",
      "100%|██████████| 118/118 [00:02<00:00, 40.66it/s]\n",
      "100%|██████████| 9526/9526 [00:13<00:00, 702.90it/s]\n"
     ]
    },
    {
     "name": "stdout",
     "output_type": "stream",
     "text": [
      "Epoch 9: train loss :   0.001968   val loss :   0.133891   val score :   0.643502\n",
      "------ epoch:10 ------\n"
     ]
    },
    {
     "name": "stderr",
     "output_type": "stream",
     "text": [
      "100%|██████████| 1046/1046 [00:38<00:00, 27.18it/s]\n",
      "100%|██████████| 118/118 [00:02<00:00, 41.32it/s]\n",
      "100%|██████████| 9526/9526 [00:13<00:00, 703.38it/s]\n"
     ]
    },
    {
     "name": "stdout",
     "output_type": "stream",
     "text": [
      "Epoch 10: train loss :  -0.015627   val loss :   0.133447   val score :   0.644237\n",
      "------ epoch:11 ------\n"
     ]
    },
    {
     "name": "stderr",
     "output_type": "stream",
     "text": [
      "100%|██████████| 1046/1046 [00:39<00:00, 26.60it/s]\n",
      "100%|██████████| 118/118 [00:02<00:00, 42.97it/s]\n",
      "100%|██████████| 9526/9526 [00:16<00:00, 582.54it/s]\n"
     ]
    },
    {
     "name": "stdout",
     "output_type": "stream",
     "text": [
      "Epoch 11: train loss :  -0.027491   val loss :   0.131907   val score :   0.646546\n",
      "------ epoch:12 ------\n"
     ]
    },
    {
     "name": "stderr",
     "output_type": "stream",
     "text": [
      "100%|██████████| 1046/1046 [00:40<00:00, 25.54it/s]\n",
      "100%|██████████| 118/118 [00:02<00:00, 43.19it/s]\n",
      "100%|██████████| 9526/9526 [00:16<00:00, 586.29it/s]\n"
     ]
    },
    {
     "name": "stdout",
     "output_type": "stream",
     "text": [
      "Epoch 12: train loss :  -0.035818   val loss :   0.131559   val score :   0.644237\n",
      "------ epoch:13 ------\n"
     ]
    },
    {
     "name": "stderr",
     "output_type": "stream",
     "text": [
      "100%|██████████| 1046/1046 [00:38<00:00, 27.09it/s]\n",
      "100%|██████████| 118/118 [00:02<00:00, 41.63it/s]\n",
      "100%|██████████| 9526/9526 [00:13<00:00, 711.88it/s]\n"
     ]
    },
    {
     "name": "stdout",
     "output_type": "stream",
     "text": [
      "Epoch 13: train loss :  -0.047640   val loss :   0.131505   val score :   0.644027\n",
      "------ epoch:14 ------\n"
     ]
    },
    {
     "name": "stderr",
     "output_type": "stream",
     "text": [
      "100%|██████████| 1046/1046 [00:40<00:00, 26.03it/s]\n",
      "100%|██████████| 118/118 [00:02<00:00, 41.68it/s]\n",
      "100%|██████████| 9526/9526 [00:16<00:00, 591.24it/s]\n"
     ]
    },
    {
     "name": "stdout",
     "output_type": "stream",
     "text": [
      "Epoch 14: train loss :  -0.055468   val loss :   0.131689   val score :   0.642557\n",
      "Epoch 00014: reducing learning rate of group 0 to 5.0000e-04.\n",
      "------ epoch:15 ------\n"
     ]
    },
    {
     "name": "stderr",
     "output_type": "stream",
     "text": [
      "100%|██████████| 1046/1046 [00:39<00:00, 26.68it/s]\n",
      "100%|██████████| 118/118 [00:02<00:00, 44.48it/s]\n",
      "100%|██████████| 9526/9526 [00:15<00:00, 600.75it/s]\n"
     ]
    },
    {
     "name": "stdout",
     "output_type": "stream",
     "text": [
      "Epoch 15: train loss :  -0.094363   val loss :   0.130804   val score :   0.642452\n"
     ]
    },
    {
     "name": "stderr",
     "output_type": "stream",
     "text": [
      "100%|██████████| 1/1 [00:00<00:00, 49.86it/s]\n",
      "100%|██████████| 735/735 [00:01<00:00, 594.45it/s]\n"
     ]
    },
    {
     "name": "stdout",
     "output_type": "stream",
     "text": [
      "------ repeat : 2 ------\n",
      "------ epoch:1 ------\n"
     ]
    },
    {
     "name": "stderr",
     "output_type": "stream",
     "text": [
      "100%|██████████| 1046/1046 [00:41<00:00, 25.16it/s]\n",
      "100%|██████████| 118/118 [00:02<00:00, 41.88it/s]\n",
      "100%|██████████| 9526/9526 [00:15<00:00, 603.73it/s]\n"
     ]
    },
    {
     "name": "stdout",
     "output_type": "stream",
     "text": [
      "Epoch 1: train loss :   0.226312   val loss :   0.165274   val score :   0.425572\n",
      "------ epoch:2 ------\n"
     ]
    },
    {
     "name": "stderr",
     "output_type": "stream",
     "text": [
      "100%|██████████| 1046/1046 [00:38<00:00, 26.85it/s]\n",
      "100%|██████████| 118/118 [00:03<00:00, 38.03it/s]\n",
      "100%|██████████| 9526/9526 [00:13<00:00, 702.72it/s]\n"
     ]
    },
    {
     "name": "stdout",
     "output_type": "stream",
     "text": [
      "Epoch 2: train loss :   0.135699   val loss :   0.171588   val score :   0.494016\n",
      "------ epoch:3 ------\n"
     ]
    },
    {
     "name": "stderr",
     "output_type": "stream",
     "text": [
      "100%|██████████| 1046/1046 [00:37<00:00, 27.75it/s]\n",
      "100%|██████████| 118/118 [00:03<00:00, 37.56it/s]\n",
      "100%|██████████| 9526/9526 [00:18<00:00, 508.41it/s]\n"
     ]
    },
    {
     "name": "stdout",
     "output_type": "stream",
     "text": [
      "Epoch 3: train loss :   0.103211   val loss :   0.161623   val score :   0.550913\n",
      "------ epoch:4 ------\n"
     ]
    },
    {
     "name": "stderr",
     "output_type": "stream",
     "text": [
      "100%|██████████| 1046/1046 [00:37<00:00, 27.73it/s]\n",
      "100%|██████████| 118/118 [00:03<00:00, 37.99it/s]\n",
      "100%|██████████| 9526/9526 [00:29<00:00, 319.15it/s]\n"
     ]
    },
    {
     "name": "stdout",
     "output_type": "stream",
     "text": [
      "Epoch 4: train loss :   0.082948   val loss :   0.154674   val score :   0.581251\n",
      "------ epoch:5 ------\n"
     ]
    },
    {
     "name": "stderr",
     "output_type": "stream",
     "text": [
      "100%|██████████| 1046/1046 [00:38<00:00, 27.50it/s]\n",
      "100%|██████████| 118/118 [00:02<00:00, 42.76it/s]\n",
      "100%|██████████| 9526/9526 [00:19<00:00, 490.17it/s]\n"
     ]
    },
    {
     "name": "stdout",
     "output_type": "stream",
     "text": [
      "Epoch 5: train loss :   0.066036   val loss :   0.146652   val score :   0.609490\n",
      "------ epoch:6 ------\n"
     ]
    },
    {
     "name": "stderr",
     "output_type": "stream",
     "text": [
      " 30%|███       | 316/1046 [00:12<00:21, 34.67it/s]"
     ]
    }
   ],
   "source": [
    "model_name = \"REL-MF-CLIP\"\n",
    "IPS_clip = 0.05\n",
    "embedding_dim = 20\n",
    "lr = 0.005\n",
    "alpha = 0.005\n",
    "seed_everything(42)\n",
    "train = get_train_data(addr, model_name, IPS_clip=IPS_clip)\n",
    "test = get_test_data(addr)\n",
    "test = get_cold_user(train, test, 9526, 1000)\n",
    "seed_everything(42)\n",
    "Test(train, test, task=1, model_name=model_name, repeats=4, num_users=num_users, num_items=num_items,\n",
    "     IPS_clip=IPS_clip, embedding_dim=embedding_dim, lr=lr, alpha=alpha, patience=3, epochs=30, device=\"cuda:0\")"
   ]
  },
  {
   "cell_type": "markdown",
   "id": "c5b84444-ae09-41cc-ad27-e684d6256b12",
   "metadata": {},
   "source": [
    "## ERM-MF-PRIOR"
   ]
  },
  {
   "cell_type": "code",
   "execution_count": 7,
   "id": "02eeca79-341e-47ba-bca3-020403077788",
   "metadata": {
    "tags": []
   },
   "outputs": [
    {
     "name": "stderr",
     "output_type": "stream",
     "text": [
      "/root/miniconda3/lib/python3.8/site-packages/sklearn/cluster/_kmeans.py:1416: FutureWarning: The default value of `n_init` will change from 10 to 'auto' in 1.4. Set the value of `n_init` explicitly to suppress the warning\n",
      "  super()._check_params_vs_input(X, default_n_init=10)\n",
      "100%|██████████| 9526/9526 [00:01<00:00, 5084.19it/s]\n"
     ]
    }
   ],
   "source": [
    "model_name = \"ERM-MF-PRIOR\"\n",
    "K = 1\n",
    "mu = 0.07\n",
    "lam = 0.00001\n",
    "phi_r = 1\n",
    "phi_theta = 100000000\n",
    "embedding_dim = 20\n",
    "lr = 0.005\n",
    "alpha = 0.005\n",
    "seed_everything(42)\n",
    "train = get_train_data(addr, model_name, K=K, mu=mu, lam=lam, phi_r=phi_r, phi_theta=phi_theta, r_default=0.1)\n",
    "test = get_test_data(addr)\n",
    "test = get_cold_user(train, test, 9526, 1000)\n",
    "seed_everything(42)\n",
    "Test(train, test, task=1, model_name=model_name, repeats=4, num_users=num_users, num_items=num_items, K=K, mu=mu, lam=lam, phi_r=phi_r, \n",
    "               phi_theta=phi_theta, embedding_dim=embedding_dim, lr=lr, alpha=alpha, patience=3, epochs=50, device=\"cuda:0\")"
   ]
  },
  {
   "cell_type": "markdown",
   "id": "cdcfbbcf-b889-4d50-b4cd-8d6dfc62c377",
   "metadata": {},
   "source": [
    "## ERM-MF-ESTIMATE"
   ]
  },
  {
   "cell_type": "code",
   "execution_count": null,
   "id": "d83c4308-4b5d-49a2-816c-4b02173942cd",
   "metadata": {},
   "outputs": [],
   "source": [
    "model_name = \"ERM-MF-ESTIMATE\"\n",
    "phi_r = 1\n",
    "phi_theta = 100000000\n",
    "embedding_dim = 20\n",
    "mu = 0.05\n",
    "lam = 0.001\n",
    "lr = 0.01\n",
    "alpha = 0.005\n",
    "seed_everything(42)\n",
    "train = get_train_data(addr, model_name, phi_r = phi_r, phi_theta = phi_theta, embedding_dim = embedding_dim, mu = mu, lam = lam)\n",
    "test = get_test_data(addr)\n",
    "test = get_cold_user(train, test, 9526, 1000)\n",
    "seed_everything(42)\n",
    "Test(train, test, \"ERM-MF-ESTIMATE\",  task=1, repeats=4,  num_users=num_users, num_items=num_items, phi_r = phi_r, phi_theta =phi_theta, \n",
    "     embedding_dim = embedding_dim, mu = mu, lam =lam, lr=lr, alpha=alpha, patience=3, epochs=30, device=\"cuda:0\")"
   ]
  }
 ],
 "metadata": {
  "kernelspec": {
   "display_name": "Python 3 (ipykernel)",
   "language": "python",
   "name": "python3"
  },
  "language_info": {
   "codemirror_mode": {
    "name": "ipython",
    "version": 3
   },
   "file_extension": ".py",
   "mimetype": "text/x-python",
   "name": "python",
   "nbconvert_exporter": "python",
   "pygments_lexer": "ipython3",
   "version": "3.8.10"
  }
 },
 "nbformat": 4,
 "nbformat_minor": 5
}
